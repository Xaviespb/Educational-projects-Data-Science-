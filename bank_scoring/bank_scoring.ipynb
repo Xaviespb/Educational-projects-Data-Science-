{
 "cells": [
  {
   "cell_type": "markdown",
   "metadata": {},
   "source": [
    "# Исследование надёжности заёмщиков\n",
    "\n",
    "Заказчик — кредитный отдел банка. Нужно разобраться, влияет ли семейное положение и количество детей клиента на факт погашения кредита в срок. Входные данные от банка — статистика о платёжеспособности клиентов.\n",
    "\n",
    "Результаты исследования будут учтены при построении модели **кредитного скоринга**."
   ]
  },
  {
   "cell_type": "markdown",
   "metadata": {},
   "source": [
    "## 1. Первичный анализ данных"
   ]
  },
  {
   "cell_type": "code",
   "execution_count": 83,
   "metadata": {},
   "outputs": [],
   "source": [
    "import pandas as pd\n",
    "import seaborn as sns\n",
    "import matplotlib.pyplot as plt\n",
    "from pymystem3 import Mystem\n",
    "import nltk\n",
    "from nltk.corpus import stopwords\n",
    "from collections import Counter\n",
    "import numpy as np"
   ]
  },
  {
   "cell_type": "code",
   "execution_count": 84,
   "metadata": {},
   "outputs": [
    {
     "data": {
      "text/html": [
       "<div>\n",
       "<style scoped>\n",
       "    .dataframe tbody tr th:only-of-type {\n",
       "        vertical-align: middle;\n",
       "    }\n",
       "\n",
       "    .dataframe tbody tr th {\n",
       "        vertical-align: top;\n",
       "    }\n",
       "\n",
       "    .dataframe thead th {\n",
       "        text-align: right;\n",
       "    }\n",
       "</style>\n",
       "<table border=\"1\" class=\"dataframe\">\n",
       "  <thead>\n",
       "    <tr style=\"text-align: right;\">\n",
       "      <th></th>\n",
       "      <th>children</th>\n",
       "      <th>days_employed</th>\n",
       "      <th>dob_years</th>\n",
       "      <th>education</th>\n",
       "      <th>education_id</th>\n",
       "      <th>family_status</th>\n",
       "      <th>family_status_id</th>\n",
       "      <th>gender</th>\n",
       "      <th>income_type</th>\n",
       "      <th>debt</th>\n",
       "      <th>total_income</th>\n",
       "      <th>purpose</th>\n",
       "    </tr>\n",
       "  </thead>\n",
       "  <tbody>\n",
       "    <tr>\n",
       "      <td>0</td>\n",
       "      <td>1</td>\n",
       "      <td>-8437.673028</td>\n",
       "      <td>42</td>\n",
       "      <td>высшее</td>\n",
       "      <td>0</td>\n",
       "      <td>женат / замужем</td>\n",
       "      <td>0</td>\n",
       "      <td>F</td>\n",
       "      <td>сотрудник</td>\n",
       "      <td>0</td>\n",
       "      <td>253875.639453</td>\n",
       "      <td>покупка жилья</td>\n",
       "    </tr>\n",
       "    <tr>\n",
       "      <td>1</td>\n",
       "      <td>1</td>\n",
       "      <td>-4024.803754</td>\n",
       "      <td>36</td>\n",
       "      <td>среднее</td>\n",
       "      <td>1</td>\n",
       "      <td>женат / замужем</td>\n",
       "      <td>0</td>\n",
       "      <td>F</td>\n",
       "      <td>сотрудник</td>\n",
       "      <td>0</td>\n",
       "      <td>112080.014102</td>\n",
       "      <td>приобретение автомобиля</td>\n",
       "    </tr>\n",
       "    <tr>\n",
       "      <td>2</td>\n",
       "      <td>0</td>\n",
       "      <td>-5623.422610</td>\n",
       "      <td>33</td>\n",
       "      <td>Среднее</td>\n",
       "      <td>1</td>\n",
       "      <td>женат / замужем</td>\n",
       "      <td>0</td>\n",
       "      <td>M</td>\n",
       "      <td>сотрудник</td>\n",
       "      <td>0</td>\n",
       "      <td>145885.952297</td>\n",
       "      <td>покупка жилья</td>\n",
       "    </tr>\n",
       "    <tr>\n",
       "      <td>3</td>\n",
       "      <td>3</td>\n",
       "      <td>-4124.747207</td>\n",
       "      <td>32</td>\n",
       "      <td>среднее</td>\n",
       "      <td>1</td>\n",
       "      <td>женат / замужем</td>\n",
       "      <td>0</td>\n",
       "      <td>M</td>\n",
       "      <td>сотрудник</td>\n",
       "      <td>0</td>\n",
       "      <td>267628.550329</td>\n",
       "      <td>дополнительное образование</td>\n",
       "    </tr>\n",
       "    <tr>\n",
       "      <td>4</td>\n",
       "      <td>0</td>\n",
       "      <td>340266.072047</td>\n",
       "      <td>53</td>\n",
       "      <td>среднее</td>\n",
       "      <td>1</td>\n",
       "      <td>гражданский брак</td>\n",
       "      <td>1</td>\n",
       "      <td>F</td>\n",
       "      <td>пенсионер</td>\n",
       "      <td>0</td>\n",
       "      <td>158616.077870</td>\n",
       "      <td>сыграть свадьбу</td>\n",
       "    </tr>\n",
       "    <tr>\n",
       "      <td>5</td>\n",
       "      <td>0</td>\n",
       "      <td>-926.185831</td>\n",
       "      <td>27</td>\n",
       "      <td>высшее</td>\n",
       "      <td>0</td>\n",
       "      <td>гражданский брак</td>\n",
       "      <td>1</td>\n",
       "      <td>M</td>\n",
       "      <td>компаньон</td>\n",
       "      <td>0</td>\n",
       "      <td>255763.565419</td>\n",
       "      <td>покупка жилья</td>\n",
       "    </tr>\n",
       "    <tr>\n",
       "      <td>6</td>\n",
       "      <td>0</td>\n",
       "      <td>-2879.202052</td>\n",
       "      <td>43</td>\n",
       "      <td>высшее</td>\n",
       "      <td>0</td>\n",
       "      <td>женат / замужем</td>\n",
       "      <td>0</td>\n",
       "      <td>F</td>\n",
       "      <td>компаньон</td>\n",
       "      <td>0</td>\n",
       "      <td>240525.971920</td>\n",
       "      <td>операции с жильем</td>\n",
       "    </tr>\n",
       "    <tr>\n",
       "      <td>7</td>\n",
       "      <td>0</td>\n",
       "      <td>-152.779569</td>\n",
       "      <td>50</td>\n",
       "      <td>СРЕДНЕЕ</td>\n",
       "      <td>1</td>\n",
       "      <td>женат / замужем</td>\n",
       "      <td>0</td>\n",
       "      <td>M</td>\n",
       "      <td>сотрудник</td>\n",
       "      <td>0</td>\n",
       "      <td>135823.934197</td>\n",
       "      <td>образование</td>\n",
       "    </tr>\n",
       "    <tr>\n",
       "      <td>8</td>\n",
       "      <td>2</td>\n",
       "      <td>-6929.865299</td>\n",
       "      <td>35</td>\n",
       "      <td>ВЫСШЕЕ</td>\n",
       "      <td>0</td>\n",
       "      <td>гражданский брак</td>\n",
       "      <td>1</td>\n",
       "      <td>F</td>\n",
       "      <td>сотрудник</td>\n",
       "      <td>0</td>\n",
       "      <td>95856.832424</td>\n",
       "      <td>на проведение свадьбы</td>\n",
       "    </tr>\n",
       "    <tr>\n",
       "      <td>9</td>\n",
       "      <td>0</td>\n",
       "      <td>-2188.756445</td>\n",
       "      <td>41</td>\n",
       "      <td>среднее</td>\n",
       "      <td>1</td>\n",
       "      <td>женат / замужем</td>\n",
       "      <td>0</td>\n",
       "      <td>M</td>\n",
       "      <td>сотрудник</td>\n",
       "      <td>0</td>\n",
       "      <td>144425.938277</td>\n",
       "      <td>покупка жилья для семьи</td>\n",
       "    </tr>\n",
       "  </tbody>\n",
       "</table>\n",
       "</div>"
      ],
      "text/plain": [
       "   children  days_employed  dob_years education  education_id  \\\n",
       "0         1   -8437.673028         42    высшее             0   \n",
       "1         1   -4024.803754         36   среднее             1   \n",
       "2         0   -5623.422610         33   Среднее             1   \n",
       "3         3   -4124.747207         32   среднее             1   \n",
       "4         0  340266.072047         53   среднее             1   \n",
       "5         0    -926.185831         27    высшее             0   \n",
       "6         0   -2879.202052         43    высшее             0   \n",
       "7         0    -152.779569         50   СРЕДНЕЕ             1   \n",
       "8         2   -6929.865299         35    ВЫСШЕЕ             0   \n",
       "9         0   -2188.756445         41   среднее             1   \n",
       "\n",
       "      family_status  family_status_id gender income_type  debt   total_income  \\\n",
       "0   женат / замужем                 0      F   сотрудник     0  253875.639453   \n",
       "1   женат / замужем                 0      F   сотрудник     0  112080.014102   \n",
       "2   женат / замужем                 0      M   сотрудник     0  145885.952297   \n",
       "3   женат / замужем                 0      M   сотрудник     0  267628.550329   \n",
       "4  гражданский брак                 1      F   пенсионер     0  158616.077870   \n",
       "5  гражданский брак                 1      M   компаньон     0  255763.565419   \n",
       "6   женат / замужем                 0      F   компаньон     0  240525.971920   \n",
       "7   женат / замужем                 0      M   сотрудник     0  135823.934197   \n",
       "8  гражданский брак                 1      F   сотрудник     0   95856.832424   \n",
       "9   женат / замужем                 0      M   сотрудник     0  144425.938277   \n",
       "\n",
       "                      purpose  \n",
       "0               покупка жилья  \n",
       "1     приобретение автомобиля  \n",
       "2               покупка жилья  \n",
       "3  дополнительное образование  \n",
       "4             сыграть свадьбу  \n",
       "5               покупка жилья  \n",
       "6           операции с жильем  \n",
       "7                 образование  \n",
       "8       на проведение свадьбы  \n",
       "9     покупка жилья для семьи  "
      ]
     },
     "execution_count": 84,
     "metadata": {},
     "output_type": "execute_result"
    }
   ],
   "source": [
    "df = pd.read_csv('/datasets/data.csv')\n",
    "df.head(10)"
   ]
  },
  {
   "cell_type": "code",
   "execution_count": 85,
   "metadata": {},
   "outputs": [
    {
     "name": "stdout",
     "output_type": "stream",
     "text": [
      "<class 'pandas.core.frame.DataFrame'>\n",
      "RangeIndex: 21525 entries, 0 to 21524\n",
      "Data columns (total 12 columns):\n",
      "children            21525 non-null int64\n",
      "days_employed       19351 non-null float64\n",
      "dob_years           21525 non-null int64\n",
      "education           21525 non-null object\n",
      "education_id        21525 non-null int64\n",
      "family_status       21525 non-null object\n",
      "family_status_id    21525 non-null int64\n",
      "gender              21525 non-null object\n",
      "income_type         21525 non-null object\n",
      "debt                21525 non-null int64\n",
      "total_income        19351 non-null float64\n",
      "purpose             21525 non-null object\n",
      "dtypes: float64(2), int64(5), object(5)\n",
      "memory usage: 2.0+ MB\n"
     ]
    }
   ],
   "source": [
    "df.info()"
   ]
  },
  {
   "cell_type": "code",
   "execution_count": 86,
   "metadata": {},
   "outputs": [
    {
     "data": {
      "text/plain": [
       "Index(['children', 'days_employed', 'dob_years', 'education', 'education_id',\n",
       "       'family_status', 'family_status_id', 'gender', 'income_type', 'debt',\n",
       "       'total_income', 'purpose'],\n",
       "      dtype='object')"
      ]
     },
     "execution_count": 86,
     "metadata": {},
     "output_type": "execute_result"
    }
   ],
   "source": [
    "df.columns"
   ]
  },
  {
   "cell_type": "markdown",
   "metadata": {},
   "source": [
    "**Вывод**"
   ]
  },
  {
   "cell_type": "markdown",
   "metadata": {},
   "source": [
    "В таблице 12 столбцов. Тип данных во всех столбцах представлен в методе df.info() ('int64', 'object', 'float64').\n",
    "\n",
    "В названиях колонок нет нарушения стиля. Количество значений в столбцах различается. Значит, в данных есть пропущенные значения.\n",
    "\n",
    " Явные пропуски встречаются в столбцах 'days_employed'(общий трудовой стаж в днях) и 'total_income'(ежемесячный доход). Значение в признаке 'education'(уровень образования клиента) и 'family_status'(семейное положение) необходимо привести к строчным символам. Значения в признаке 'days_employed'(общий трудовой стаж в днях) встречаются отрицательные. Значение в признаке 'purpose'(цель получения кредита) для упрощения анализа необходимо привести к одному слову и лемматизировать.\n",
    " \n",
    " Предварительно можно утверждать, что, данных достаточно для проверки гипотез. Но нужно провести подготовку данных к анализу."
   ]
  },
  {
   "cell_type": "markdown",
   "metadata": {},
   "source": [
    "## 2. Предобработка данных"
   ]
  },
  {
   "cell_type": "markdown",
   "metadata": {},
   "source": [
    "### Обработка пропусков"
   ]
  },
  {
   "cell_type": "code",
   "execution_count": 87,
   "metadata": {},
   "outputs": [
    {
     "data": {
      "text/plain": [
       "children               0\n",
       "days_employed       2174\n",
       "dob_years              0\n",
       "education              0\n",
       "education_id           0\n",
       "family_status          0\n",
       "family_status_id       0\n",
       "gender                 0\n",
       "income_type            0\n",
       "debt                   0\n",
       "total_income        2174\n",
       "purpose                0\n",
       "dtype: int64"
      ]
     },
     "execution_count": 87,
     "metadata": {},
     "output_type": "execute_result"
    }
   ],
   "source": [
    "df.isna().sum()"
   ]
  },
  {
   "cell_type": "code",
   "execution_count": 88,
   "metadata": {},
   "outputs": [
    {
     "name": "stdout",
     "output_type": "stream",
     "text": [
      "Процент пропусков от всего датафрейма: 10.1%\n"
     ]
    }
   ],
   "source": [
    "na_percent = df['days_employed'].isna().sum()/df.shape[0]\n",
    "print(f'Процент пропусков от всего датафрейма: {na_percent*100:.1f}%')"
   ]
  },
  {
   "cell_type": "code",
   "execution_count": 89,
   "metadata": {
    "scrolled": true
   },
   "outputs": [],
   "source": [
    "df['total_income'] = df['total_income']. \\\n",
    "fillna(df.groupby('income_type')['total_income']. \\\n",
    "       transform('median'))\n",
    "df['days_employed'] = df['days_employed']. \\\n",
    "fillna(df.groupby('income_type')['days_employed']. \\\n",
    "       transform('median'))"
   ]
  },
  {
   "cell_type": "code",
   "execution_count": 90,
   "metadata": {},
   "outputs": [
    {
     "data": {
      "text/plain": [
       "children            0\n",
       "days_employed       0\n",
       "dob_years           0\n",
       "education           0\n",
       "education_id        0\n",
       "family_status       0\n",
       "family_status_id    0\n",
       "gender              0\n",
       "income_type         0\n",
       "debt                0\n",
       "total_income        0\n",
       "purpose             0\n",
       "dtype: int64"
      ]
     },
     "execution_count": 90,
     "metadata": {},
     "output_type": "execute_result"
    }
   ],
   "source": [
    "df.isna().sum()"
   ]
  },
  {
   "cell_type": "markdown",
   "metadata": {},
   "source": [
    "<div class=\"alert alert-info\">\n",
    "    Заполнил пропуски медианными значениями групп ('income_type')"
   ]
  },
  {
   "cell_type": "code",
   "execution_count": 91,
   "metadata": {},
   "outputs": [
    {
     "data": {
      "text/plain": [
       "<matplotlib.axes._subplots.AxesSubplot at 0x7f49c74d13d0>"
      ]
     },
     "execution_count": 91,
     "metadata": {},
     "output_type": "execute_result"
    },
    {
     "data": {
      "image/png": "[encoded data removed]",
      "text/plain": [
       "<Figure size 432x288 with 1 Axes>"
      ]
     },
     "metadata": {},
     "output_type": "display_data"
    }
   ],
   "source": [
    "sns.distplot(df['dob_years'])"
   ]
  },
  {
   "cell_type": "code",
   "execution_count": 92,
   "metadata": {},
   "outputs": [
    {
     "data": {
      "text/plain": [
       "101"
      ]
     },
     "execution_count": 92,
     "metadata": {},
     "output_type": "execute_result"
    }
   ],
   "source": [
    "df.query('dob_years==0')['dob_years'].count()"
   ]
  },
  {
   "cell_type": "code",
   "execution_count": 93,
   "metadata": {},
   "outputs": [],
   "source": [
    "df = df[df['dob_years']!=0]"
   ]
  },
  {
   "cell_type": "code",
   "execution_count": 94,
   "metadata": {},
   "outputs": [
    {
     "data": {
      "text/plain": [
       "0"
      ]
     },
     "execution_count": 94,
     "metadata": {},
     "output_type": "execute_result"
    }
   ],
   "source": [
    "df.query('dob_years==0')['dob_years'].count()"
   ]
  },
  {
   "cell_type": "markdown",
   "metadata": {},
   "source": [
    "<div class=\"alert alert-info\"> \n",
    "    Удалил нулевые значения"
   ]
  },
  {
   "cell_type": "code",
   "execution_count": 95,
   "metadata": {
    "scrolled": true
   },
   "outputs": [
    {
     "data": {
      "text/plain": [
       " 0     14080\n",
       " 1      4802\n",
       " 2      2042\n",
       " 3       328\n",
       " 20       75\n",
       "-1        47\n",
       " 4        41\n",
       " 5         9\n",
       "Name: children, dtype: int64"
      ]
     },
     "execution_count": 95,
     "metadata": {},
     "output_type": "execute_result"
    }
   ],
   "source": [
    "df['children'].value_counts()"
   ]
  },
  {
   "cell_type": "code",
   "execution_count": 96,
   "metadata": {},
   "outputs": [
    {
     "data": {
      "text/plain": [
       " 20    75\n",
       "-1     47\n",
       "Name: children, dtype: int64"
      ]
     },
     "execution_count": 96,
     "metadata": {},
     "output_type": "execute_result"
    }
   ],
   "source": [
    "df[(df['children']==-1)|(df['children']==20)]['children'].value_counts()"
   ]
  },
  {
   "cell_type": "code",
   "execution_count": 97,
   "metadata": {},
   "outputs": [],
   "source": [
    "df = df[(df['children']!=-1)&(df['children']!=20)]"
   ]
  },
  {
   "cell_type": "code",
   "execution_count": 98,
   "metadata": {},
   "outputs": [
    {
     "data": {
      "text/plain": [
       "Series([], Name: children, dtype: int64)"
      ]
     },
     "execution_count": 98,
     "metadata": {},
     "output_type": "execute_result"
    }
   ],
   "source": [
    "df[(df['children']==-1)|(df['children']==20)]['children']"
   ]
  },
  {
   "cell_type": "code",
   "execution_count": 99,
   "metadata": {},
   "outputs": [
    {
     "data": {
      "text/plain": [
       "21302"
      ]
     },
     "execution_count": 99,
     "metadata": {},
     "output_type": "execute_result"
    }
   ],
   "source": [
    "len(df)"
   ]
  },
  {
   "cell_type": "markdown",
   "metadata": {},
   "source": [
    "<div class=\"alert alert-info\">\n",
    "Значений мало, удалил из выборки"
   ]
  },
  {
   "cell_type": "code",
   "execution_count": 100,
   "metadata": {
    "scrolled": false
   },
   "outputs": [
    {
     "data": {
      "text/plain": [
       "(17481, 12)"
      ]
     },
     "execution_count": 100,
     "metadata": {},
     "output_type": "execute_result"
    }
   ],
   "source": [
    "df[df['days_employed']<0].shape"
   ]
  },
  {
   "cell_type": "code",
   "execution_count": 101,
   "metadata": {},
   "outputs": [],
   "source": [
    "df['days_employed'] = df['days_employed'].abs()"
   ]
  },
  {
   "cell_type": "code",
   "execution_count": 102,
   "metadata": {},
   "outputs": [
    {
     "data": {
      "text/plain": [
       "(0, 12)"
      ]
     },
     "execution_count": 102,
     "metadata": {},
     "output_type": "execute_result"
    }
   ],
   "source": [
    "df[df['days_employed']<0].shape"
   ]
  },
  {
   "cell_type": "markdown",
   "metadata": {},
   "source": [
    "<div class = 'alert alert-info'>\n",
    "    Привел все значения к положительным"
   ]
  },
  {
   "cell_type": "code",
   "execution_count": 103,
   "metadata": {
    "scrolled": true
   },
   "outputs": [
    {
     "data": {
      "text/plain": [
       "3821"
      ]
     },
     "execution_count": 103,
     "metadata": {},
     "output_type": "execute_result"
    }
   ],
   "source": [
    "df.query('(days_employed/365)-16>dob_years')['days_employed'].count()"
   ]
  },
  {
   "cell_type": "code",
   "execution_count": 104,
   "metadata": {},
   "outputs": [],
   "source": [
    "df.loc[(df[\"days_employed\"]/365) > df['dob_years'], 'days_employed'] \\\n",
    "= df[\"days_employed\"]/24"
   ]
  },
  {
   "cell_type": "code",
   "execution_count": 105,
   "metadata": {
    "scrolled": true
   },
   "outputs": [
    {
     "data": {
      "text/plain": [
       "1242     13948.510826\n",
       "3619     15217.221094\n",
       "12507    15812.170938\n",
       "13953    15701.024409\n",
       "19439    16224.881982\n",
       "Name: days_employed, dtype: float64"
      ]
     },
     "execution_count": 105,
     "metadata": {},
     "output_type": "execute_result"
    }
   ],
   "source": [
    "df.query('(days_employed/365)-16>dob_years')['days_employed']"
   ]
  },
  {
   "cell_type": "code",
   "execution_count": 106,
   "metadata": {},
   "outputs": [],
   "source": [
    "df.drop([1242,3619,12507,13953,19439], inplace=True)"
   ]
  },
  {
   "cell_type": "code",
   "execution_count": 107,
   "metadata": {},
   "outputs": [
    {
     "data": {
      "text/plain": [
       "21297"
      ]
     },
     "execution_count": 107,
     "metadata": {},
     "output_type": "execute_result"
    }
   ],
   "source": [
    "df.query('(days_employed/365)-16>dob_years')['days_employed']\n",
    "len(df)"
   ]
  },
  {
   "cell_type": "markdown",
   "metadata": {},
   "source": [
    "<div class='alert alert-info'>\n",
    "    Привел выбивающиеся значения к дням, 5 строк удалил, это скорее всего выбросы."
   ]
  },
  {
   "cell_type": "markdown",
   "metadata": {},
   "source": [
    "**Вывод**"
   ]
  },
  {
   "cell_type": "markdown",
   "metadata": {},
   "source": [
    "Пропуски встречаются в столбцах 'days_employed'(общий трудовой стаж в днях) и 'total_income'(ежемесячный доход). Процент явных пропусков от всего датафрейма - 10,1%. Эти пропуски скорее носят MCAR (Missing Completely At Random) характер. Эти строки заменены на медианные значения по группам('income_type').\n",
    "\n",
    "В признаке 'days_employed'(общий трудовой стаж в днях) встречаются отрицательные и превышающие возраст клиента значения. В сумме они составляют ориентировочно 20% от оставшегося датасета. Большие значения приведены из часов к дням. Отрицательные значения приведены к положительным. Выбросы с неправдоподобным колличеством детей и нулевым возростом клиентов удалены из датасета."
   ]
  },
  {
   "cell_type": "markdown",
   "metadata": {},
   "source": [
    "### Замена типа данных"
   ]
  },
  {
   "cell_type": "code",
   "execution_count": 108,
   "metadata": {},
   "outputs": [
    {
     "data": {
      "text/html": [
       "<div>\n",
       "<style scoped>\n",
       "    .dataframe tbody tr th:only-of-type {\n",
       "        vertical-align: middle;\n",
       "    }\n",
       "\n",
       "    .dataframe tbody tr th {\n",
       "        vertical-align: top;\n",
       "    }\n",
       "\n",
       "    .dataframe thead th {\n",
       "        text-align: right;\n",
       "    }\n",
       "</style>\n",
       "<table border=\"1\" class=\"dataframe\">\n",
       "  <thead>\n",
       "    <tr style=\"text-align: right;\">\n",
       "      <th></th>\n",
       "      <th>children</th>\n",
       "      <th>days_employed</th>\n",
       "      <th>dob_years</th>\n",
       "      <th>education</th>\n",
       "      <th>education_id</th>\n",
       "      <th>family_status</th>\n",
       "      <th>family_status_id</th>\n",
       "      <th>gender</th>\n",
       "      <th>income_type</th>\n",
       "      <th>debt</th>\n",
       "      <th>total_income</th>\n",
       "      <th>purpose</th>\n",
       "    </tr>\n",
       "  </thead>\n",
       "  <tbody>\n",
       "    <tr>\n",
       "      <td>0</td>\n",
       "      <td>1</td>\n",
       "      <td>8437</td>\n",
       "      <td>42</td>\n",
       "      <td>высшее</td>\n",
       "      <td>0</td>\n",
       "      <td>женат / замужем</td>\n",
       "      <td>0</td>\n",
       "      <td>F</td>\n",
       "      <td>сотрудник</td>\n",
       "      <td>0</td>\n",
       "      <td>253875</td>\n",
       "      <td>покупка жилья</td>\n",
       "    </tr>\n",
       "    <tr>\n",
       "      <td>1</td>\n",
       "      <td>1</td>\n",
       "      <td>4024</td>\n",
       "      <td>36</td>\n",
       "      <td>среднее</td>\n",
       "      <td>1</td>\n",
       "      <td>женат / замужем</td>\n",
       "      <td>0</td>\n",
       "      <td>F</td>\n",
       "      <td>сотрудник</td>\n",
       "      <td>0</td>\n",
       "      <td>112080</td>\n",
       "      <td>приобретение автомобиля</td>\n",
       "    </tr>\n",
       "    <tr>\n",
       "      <td>2</td>\n",
       "      <td>0</td>\n",
       "      <td>5623</td>\n",
       "      <td>33</td>\n",
       "      <td>Среднее</td>\n",
       "      <td>1</td>\n",
       "      <td>женат / замужем</td>\n",
       "      <td>0</td>\n",
       "      <td>M</td>\n",
       "      <td>сотрудник</td>\n",
       "      <td>0</td>\n",
       "      <td>145885</td>\n",
       "      <td>покупка жилья</td>\n",
       "    </tr>\n",
       "    <tr>\n",
       "      <td>3</td>\n",
       "      <td>3</td>\n",
       "      <td>4124</td>\n",
       "      <td>32</td>\n",
       "      <td>среднее</td>\n",
       "      <td>1</td>\n",
       "      <td>женат / замужем</td>\n",
       "      <td>0</td>\n",
       "      <td>M</td>\n",
       "      <td>сотрудник</td>\n",
       "      <td>0</td>\n",
       "      <td>267628</td>\n",
       "      <td>дополнительное образование</td>\n",
       "    </tr>\n",
       "    <tr>\n",
       "      <td>4</td>\n",
       "      <td>0</td>\n",
       "      <td>14177</td>\n",
       "      <td>53</td>\n",
       "      <td>среднее</td>\n",
       "      <td>1</td>\n",
       "      <td>гражданский брак</td>\n",
       "      <td>1</td>\n",
       "      <td>F</td>\n",
       "      <td>пенсионер</td>\n",
       "      <td>0</td>\n",
       "      <td>158616</td>\n",
       "      <td>сыграть свадьбу</td>\n",
       "    </tr>\n",
       "  </tbody>\n",
       "</table>\n",
       "</div>"
      ],
      "text/plain": [
       "   children  days_employed  dob_years education  education_id  \\\n",
       "0         1           8437         42    высшее             0   \n",
       "1         1           4024         36   среднее             1   \n",
       "2         0           5623         33   Среднее             1   \n",
       "3         3           4124         32   среднее             1   \n",
       "4         0          14177         53   среднее             1   \n",
       "\n",
       "      family_status  family_status_id gender income_type  debt  total_income  \\\n",
       "0   женат / замужем                 0      F   сотрудник     0        253875   \n",
       "1   женат / замужем                 0      F   сотрудник     0        112080   \n",
       "2   женат / замужем                 0      M   сотрудник     0        145885   \n",
       "3   женат / замужем                 0      M   сотрудник     0        267628   \n",
       "4  гражданский брак                 1      F   пенсионер     0        158616   \n",
       "\n",
       "                      purpose  \n",
       "0               покупка жилья  \n",
       "1     приобретение автомобиля  \n",
       "2               покупка жилья  \n",
       "3  дополнительное образование  \n",
       "4             сыграть свадьбу  "
      ]
     },
     "execution_count": 108,
     "metadata": {},
     "output_type": "execute_result"
    }
   ],
   "source": [
    "df['total_income']=df['total_income'].astype('int')\n",
    "df['days_employed']=df['days_employed'].astype('int')\n",
    "df.head()"
   ]
  },
  {
   "cell_type": "markdown",
   "metadata": {},
   "source": [
    "**Вывод**"
   ]
  },
  {
   "cell_type": "markdown",
   "metadata": {},
   "source": [
    "Для простоты анализа приведем признак 'total_income' и 'days_employed' к типу 'int'."
   ]
  },
  {
   "cell_type": "markdown",
   "metadata": {},
   "source": [
    "<div class='alarm alarm-info'>\n",
    "    Признак 'days_employed' приведен к целому значению"
   ]
  },
  {
   "cell_type": "markdown",
   "metadata": {},
   "source": [
    "### Обработка дубликатов"
   ]
  },
  {
   "cell_type": "code",
   "execution_count": 109,
   "metadata": {},
   "outputs": [
    {
     "data": {
      "text/plain": [
       "54"
      ]
     },
     "execution_count": 109,
     "metadata": {},
     "output_type": "execute_result"
    }
   ],
   "source": [
    "df.duplicated().sum()"
   ]
  },
  {
   "cell_type": "code",
   "execution_count": 110,
   "metadata": {},
   "outputs": [],
   "source": [
    "df['education'] = df['education'].str.lower()\n",
    "df['family_status'] = df['family_status'].str.lower()"
   ]
  },
  {
   "cell_type": "code",
   "execution_count": 111,
   "metadata": {},
   "outputs": [
    {
     "data": {
      "text/html": [
       "<div>\n",
       "<style scoped>\n",
       "    .dataframe tbody tr th:only-of-type {\n",
       "        vertical-align: middle;\n",
       "    }\n",
       "\n",
       "    .dataframe tbody tr th {\n",
       "        vertical-align: top;\n",
       "    }\n",
       "\n",
       "    .dataframe thead th {\n",
       "        text-align: right;\n",
       "    }\n",
       "</style>\n",
       "<table border=\"1\" class=\"dataframe\">\n",
       "  <thead>\n",
       "    <tr style=\"text-align: right;\">\n",
       "      <th></th>\n",
       "      <th>education</th>\n",
       "      <th>education_id</th>\n",
       "      <th>income_type</th>\n",
       "    </tr>\n",
       "  </thead>\n",
       "  <tbody>\n",
       "    <tr>\n",
       "      <td>0</td>\n",
       "      <td>высшее</td>\n",
       "      <td>0</td>\n",
       "      <td>5201</td>\n",
       "    </tr>\n",
       "    <tr>\n",
       "      <td>1</td>\n",
       "      <td>начальное</td>\n",
       "      <td>3</td>\n",
       "      <td>282</td>\n",
       "    </tr>\n",
       "    <tr>\n",
       "      <td>2</td>\n",
       "      <td>неоконченное высшее</td>\n",
       "      <td>2</td>\n",
       "      <td>739</td>\n",
       "    </tr>\n",
       "    <tr>\n",
       "      <td>3</td>\n",
       "      <td>среднее</td>\n",
       "      <td>1</td>\n",
       "      <td>15069</td>\n",
       "    </tr>\n",
       "    <tr>\n",
       "      <td>4</td>\n",
       "      <td>ученая степень</td>\n",
       "      <td>4</td>\n",
       "      <td>6</td>\n",
       "    </tr>\n",
       "  </tbody>\n",
       "</table>\n",
       "</div>"
      ],
      "text/plain": [
       "             education  education_id  income_type\n",
       "0               высшее             0         5201\n",
       "1            начальное             3          282\n",
       "2  неоконченное высшее             2          739\n",
       "3              среднее             1        15069\n",
       "4       ученая степень             4            6"
      ]
     },
     "metadata": {},
     "output_type": "display_data"
    },
    {
     "data": {
      "text/html": [
       "<div>\n",
       "<style scoped>\n",
       "    .dataframe tbody tr th:only-of-type {\n",
       "        vertical-align: middle;\n",
       "    }\n",
       "\n",
       "    .dataframe tbody tr th {\n",
       "        vertical-align: top;\n",
       "    }\n",
       "\n",
       "    .dataframe thead th {\n",
       "        text-align: right;\n",
       "    }\n",
       "</style>\n",
       "<table border=\"1\" class=\"dataframe\">\n",
       "  <thead>\n",
       "    <tr style=\"text-align: right;\">\n",
       "      <th></th>\n",
       "      <th>family_status</th>\n",
       "      <th>family_status_id</th>\n",
       "      <th>income_type</th>\n",
       "    </tr>\n",
       "  </thead>\n",
       "  <tbody>\n",
       "    <tr>\n",
       "      <td>0</td>\n",
       "      <td>в разводе</td>\n",
       "      <td>3</td>\n",
       "      <td>1178</td>\n",
       "    </tr>\n",
       "    <tr>\n",
       "      <td>1</td>\n",
       "      <td>вдовец / вдова</td>\n",
       "      <td>2</td>\n",
       "      <td>947</td>\n",
       "    </tr>\n",
       "    <tr>\n",
       "      <td>2</td>\n",
       "      <td>гражданский брак</td>\n",
       "      <td>1</td>\n",
       "      <td>4139</td>\n",
       "    </tr>\n",
       "    <tr>\n",
       "      <td>3</td>\n",
       "      <td>женат / замужем</td>\n",
       "      <td>0</td>\n",
       "      <td>12252</td>\n",
       "    </tr>\n",
       "    <tr>\n",
       "      <td>4</td>\n",
       "      <td>не женат / не замужем</td>\n",
       "      <td>4</td>\n",
       "      <td>2781</td>\n",
       "    </tr>\n",
       "  </tbody>\n",
       "</table>\n",
       "</div>"
      ],
      "text/plain": [
       "           family_status  family_status_id  income_type\n",
       "0              в разводе                 3         1178\n",
       "1         вдовец / вдова                 2          947\n",
       "2       гражданский брак                 1         4139\n",
       "3        женат / замужем                 0        12252\n",
       "4  не женат / не замужем                 4         2781"
      ]
     },
     "metadata": {},
     "output_type": "display_data"
    }
   ],
   "source": [
    "display(df.groupby(['education','education_id'], as_index=False)['income_type'].count())\n",
    "display(df.groupby(['family_status','family_status_id'], as_index=False)['income_type'].count())"
   ]
  },
  {
   "cell_type": "markdown",
   "metadata": {},
   "source": [
    "**Вывод**"
   ]
  },
  {
   "cell_type": "markdown",
   "metadata": {},
   "source": [
    "Явных дубликатов нет. Из-за написания заглавными буквами значений признаков 'education' и 'family_status', возникали дублирующие категории, что затрудняло анализ данных."
   ]
  },
  {
   "cell_type": "markdown",
   "metadata": {},
   "source": [
    "### Лемматизация"
   ]
  },
  {
   "cell_type": "code",
   "execution_count": 112,
   "metadata": {},
   "outputs": [],
   "source": [
    "purpose_list = list(df['purpose'].unique())\n",
    "words=[]\n",
    "for item in purpose_list:\n",
    "    words += item.split()"
   ]
  },
  {
   "cell_type": "code",
   "execution_count": 113,
   "metadata": {},
   "outputs": [],
   "source": [
    "m = Mystem()\n",
    "lem_words = []\n",
    "for i in words:\n",
    "    lem_words += m.lemmatize(i)"
   ]
  },
  {
   "cell_type": "code",
   "execution_count": 114,
   "metadata": {},
   "outputs": [
    {
     "name": "stdout",
     "output_type": "stream",
     "text": [
      "{'покупка': 10, 'недвижимость': 10, 'автомобиль': 9, 'образование': 9, 'жилье': 7, 'с': 5, 'операция': 4, 'на': 4, 'свой': 4, 'свадьба': 3, 'строительство': 3, 'получение': 3, 'высокий': 3, 'дополнительный': 2, 'для': 2, 'коммерческий': 2, 'жилой': 2, 'подержать': 2, 'заниматься': 2, 'сделка': 2, 'приобретение': 1, 'сыграть': 1, 'проведение': 1, 'семья': 1, 'собственный': 1, 'со': 1, 'профильный': 1, 'сдача': 1, 'ремонт': 1}\n"
     ]
    }
   ],
   "source": [
    "words_dict = dict(Counter(lem_words))\n",
    "sorted_words = sorted(words_dict.items(), key = lambda kv: kv[1], reverse=True)\n",
    "sorted_words = dict(sorted_words)\n",
    "sorted_words.pop('\\n')\n",
    "print(sorted_words)"
   ]
  },
  {
   "cell_type": "code",
   "execution_count": 115,
   "metadata": {},
   "outputs": [],
   "source": [
    "df['purpose_lem'] = df['purpose'].apply(m.lemmatize)\n",
    "\n",
    "purpose_lemmas = {'недвижимость' : 'недвижимость', 'жилье' : 'недвижимость', 'автомобиль' : 'автомобиль',\n",
    "                  'образование' : 'образование', 'свадьба' : 'свадьба'}\n",
    "\n",
    "def assign_lemma(row):\n",
    "    for lemma, new_purpose in purpose_lemmas.items():\n",
    "        if lemma in row:\n",
    "            return new_purpose\n",
    "    return 'другое'\n",
    "\n",
    "df['purpose_lem'] = df['purpose_lem'].apply(assign_lemma)"
   ]
  },
  {
   "cell_type": "markdown",
   "metadata": {},
   "source": [
    "**Вывод**"
   ]
  },
  {
   "cell_type": "markdown",
   "metadata": {},
   "source": [
    "Значения в признаке 'purpose'(цель получения кредита) для исключения дублирующих категорий лемматизировали, удалили стоп слова и привели к одному слову-названию категории."
   ]
  },
  {
   "cell_type": "markdown",
   "metadata": {},
   "source": [
    "### Категоризация данных"
   ]
  },
  {
   "cell_type": "code",
   "execution_count": 116,
   "metadata": {
    "scrolled": false
   },
   "outputs": [
    {
     "name": "stdout",
     "output_type": "stream",
     "text": [
      "count    2.129700e+04\n",
      "mean     1.653017e+05\n",
      "std      9.828250e+04\n",
      "min      2.066700e+04\n",
      "25%      1.077890e+05\n",
      "50%      1.425940e+05\n",
      "75%      1.955490e+05\n",
      "max      2.265604e+06\n",
      "Name: total_income, dtype: float64\n"
     ]
    },
    {
     "data": {
      "text/plain": [
       "<seaborn.axisgrid.FacetGrid at 0x7f49c746c050>"
      ]
     },
     "execution_count": 116,
     "metadata": {},
     "output_type": "execute_result"
    },
    {
     "data": {
      "image/png": "[encoded data removed]",
      "text/plain": [
       "<Figure size 432x288 with 1 Axes>"
      ]
     },
     "metadata": {},
     "output_type": "display_data"
    },
    {
     "data": {
      "image/png": "[encoded data removed]",
      "text/plain": [
       "<Figure size 1342.6x648 with 1 Axes>"
      ]
     },
     "metadata": {},
     "output_type": "display_data"
    }
   ],
   "source": [
    "sns.distplot(df.query('total_income<600000')['total_income'])\n",
    "print(df['total_income'].describe())\n",
    "df['total_income_cat'] = pd.qcut(df['total_income'], 5)\n",
    "df['total_income_cat'].unique()\n",
    "sns.set()\n",
    "sns.catplot(y=\"total_income_cat\", hue=\"debt\",palette='coolwarm', \\\n",
    "            kind=\"count\",edgecolor=\".6\",height=9,data=df, aspect=2)"
   ]
  },
  {
   "cell_type": "code",
   "execution_count": 117,
   "metadata": {},
   "outputs": [
    {
     "data": {
      "text/plain": [
       "<seaborn.axisgrid.FacetGrid at 0x7f49c73c4890>"
      ]
     },
     "execution_count": 117,
     "metadata": {},
     "output_type": "execute_result"
    },
    {
     "data": {
      "image/png": "[encoded data removed]",
      "text/plain": [
       "<Figure size 766.6x360 with 1 Axes>"
      ]
     },
     "metadata": {},
     "output_type": "display_data"
    }
   ],
   "source": [
    "def years_cat(data):\n",
    "        if (data < 18):\n",
    "            return 'young'\n",
    "        elif (18<= data <=65):\n",
    "            return 'mid'\n",
    "        else: \n",
    "            return 'pensioner'\n",
    "df['dob_years_cat'] = df['dob_years'].apply(years_cat)\n",
    "sns.catplot(y='dob_years_cat',data=df, hue=\"debt\",palette='coolwarm', \\\n",
    "            kind=\"count\",edgecolor=\".6\",height=5, aspect=2)"
   ]
  },
  {
   "cell_type": "markdown",
   "metadata": {},
   "source": [
    "**Вывод**"
   ]
  },
  {
   "cell_type": "markdown",
   "metadata": {},
   "source": [
    "Добавлены столбцы с категориями по возрасту (молодежь, пенсионер, средний возраст) и по заработку.\n",
    "Категоризация доходов выполнена по квантилям на 5 частей."
   ]
  },
  {
   "cell_type": "markdown",
   "metadata": {},
   "source": [
    "## 3. Ответы на вопросы"
   ]
  },
  {
   "cell_type": "markdown",
   "metadata": {},
   "source": [
    "- Есть ли зависимость между наличием детей и возвратом кредита в срок?"
   ]
  },
  {
   "cell_type": "code",
   "execution_count": 118,
   "metadata": {},
   "outputs": [
    {
     "data": {
      "text/html": [
       "<div>\n",
       "<style scoped>\n",
       "    .dataframe tbody tr th:only-of-type {\n",
       "        vertical-align: middle;\n",
       "    }\n",
       "\n",
       "    .dataframe tbody tr th {\n",
       "        vertical-align: top;\n",
       "    }\n",
       "\n",
       "    .dataframe thead th {\n",
       "        text-align: right;\n",
       "    }\n",
       "</style>\n",
       "<table border=\"1\" class=\"dataframe\">\n",
       "  <thead>\n",
       "    <tr style=\"text-align: right;\">\n",
       "      <th></th>\n",
       "      <th>children</th>\n",
       "      <th>debt_1</th>\n",
       "      <th>debt_0</th>\n",
       "      <th>ratio</th>\n",
       "    </tr>\n",
       "  </thead>\n",
       "  <tbody>\n",
       "    <tr>\n",
       "      <td>0</td>\n",
       "      <td>4</td>\n",
       "      <td>4.0</td>\n",
       "      <td>37</td>\n",
       "      <td>0.097561</td>\n",
       "    </tr>\n",
       "    <tr>\n",
       "      <td>1</td>\n",
       "      <td>2</td>\n",
       "      <td>194.0</td>\n",
       "      <td>1848</td>\n",
       "      <td>0.095005</td>\n",
       "    </tr>\n",
       "    <tr>\n",
       "      <td>2</td>\n",
       "      <td>1</td>\n",
       "      <td>441.0</td>\n",
       "      <td>4361</td>\n",
       "      <td>0.091837</td>\n",
       "    </tr>\n",
       "    <tr>\n",
       "      <td>3</td>\n",
       "      <td>3</td>\n",
       "      <td>27.0</td>\n",
       "      <td>301</td>\n",
       "      <td>0.082317</td>\n",
       "    </tr>\n",
       "    <tr>\n",
       "      <td>4</td>\n",
       "      <td>0</td>\n",
       "      <td>1058.0</td>\n",
       "      <td>13017</td>\n",
       "      <td>0.075169</td>\n",
       "    </tr>\n",
       "    <tr>\n",
       "      <td>5</td>\n",
       "      <td>5</td>\n",
       "      <td>NaN</td>\n",
       "      <td>9</td>\n",
       "      <td>NaN</td>\n",
       "    </tr>\n",
       "  </tbody>\n",
       "</table>\n",
       "</div>"
      ],
      "text/plain": [
       "   children  debt_1  debt_0     ratio\n",
       "0         4     4.0      37  0.097561\n",
       "1         2   194.0    1848  0.095005\n",
       "2         1   441.0    4361  0.091837\n",
       "3         3    27.0     301  0.082317\n",
       "4         0  1058.0   13017  0.075169\n",
       "5         5     NaN       9       NaN"
      ]
     },
     "metadata": {},
     "output_type": "display_data"
    }
   ],
   "source": [
    "df1 = df.query('debt==1').groupby('children')['children'].count()\n",
    "df2 = df.query('debt==0').groupby('children')['children'].count()\n",
    "df_childrens = pd.concat([df1, df2], axis=1)\n",
    "df_childrens.set_axis(['debt_1','debt_0'],axis='columns',inplace=True)\n",
    "df_childrens['ratio'] = df_childrens['debt_1']/df_childrens.sum(axis=1)\n",
    "display(df_childrens.sort_values(by='ratio', ascending=False).reset_index())"
   ]
  },
  {
   "cell_type": "code",
   "execution_count": 119,
   "metadata": {},
   "outputs": [
    {
     "data": {
      "text/html": [
       "<div>\n",
       "<style scoped>\n",
       "    .dataframe tbody tr th:only-of-type {\n",
       "        vertical-align: middle;\n",
       "    }\n",
       "\n",
       "    .dataframe tbody tr th {\n",
       "        vertical-align: top;\n",
       "    }\n",
       "\n",
       "    .dataframe thead tr th {\n",
       "        text-align: left;\n",
       "    }\n",
       "</style>\n",
       "<table border=\"1\" class=\"dataframe\">\n",
       "  <thead>\n",
       "    <tr>\n",
       "      <th></th>\n",
       "      <th>index</th>\n",
       "      <th>children</th>\n",
       "      <th>sum</th>\n",
       "      <th>count</th>\n",
       "      <th>ratio</th>\n",
       "    </tr>\n",
       "    <tr>\n",
       "      <th></th>\n",
       "      <th></th>\n",
       "      <th></th>\n",
       "      <th>debt</th>\n",
       "      <th>debt</th>\n",
       "      <th></th>\n",
       "    </tr>\n",
       "  </thead>\n",
       "  <tbody>\n",
       "    <tr>\n",
       "      <td>0</td>\n",
       "      <td>4</td>\n",
       "      <td>4</td>\n",
       "      <td>4</td>\n",
       "      <td>41</td>\n",
       "      <td>0.097561</td>\n",
       "    </tr>\n",
       "    <tr>\n",
       "      <td>1</td>\n",
       "      <td>2</td>\n",
       "      <td>2</td>\n",
       "      <td>194</td>\n",
       "      <td>2042</td>\n",
       "      <td>0.095005</td>\n",
       "    </tr>\n",
       "    <tr>\n",
       "      <td>2</td>\n",
       "      <td>1</td>\n",
       "      <td>1</td>\n",
       "      <td>441</td>\n",
       "      <td>4802</td>\n",
       "      <td>0.091837</td>\n",
       "    </tr>\n",
       "    <tr>\n",
       "      <td>3</td>\n",
       "      <td>3</td>\n",
       "      <td>3</td>\n",
       "      <td>27</td>\n",
       "      <td>328</td>\n",
       "      <td>0.082317</td>\n",
       "    </tr>\n",
       "    <tr>\n",
       "      <td>4</td>\n",
       "      <td>0</td>\n",
       "      <td>0</td>\n",
       "      <td>1058</td>\n",
       "      <td>14075</td>\n",
       "      <td>0.075169</td>\n",
       "    </tr>\n",
       "    <tr>\n",
       "      <td>5</td>\n",
       "      <td>5</td>\n",
       "      <td>5</td>\n",
       "      <td>0</td>\n",
       "      <td>9</td>\n",
       "      <td>0.000000</td>\n",
       "    </tr>\n",
       "  </tbody>\n",
       "</table>\n",
       "</div>"
      ],
      "text/plain": [
       "  index children   sum  count     ratio\n",
       "                  debt   debt          \n",
       "0     4        4     4     41  0.097561\n",
       "1     2        2   194   2042  0.095005\n",
       "2     1        1   441   4802  0.091837\n",
       "3     3        3    27    328  0.082317\n",
       "4     0        0  1058  14075  0.075169\n",
       "5     5        5     0      9  0.000000"
      ]
     },
     "execution_count": 119,
     "metadata": {},
     "output_type": "execute_result"
    }
   ],
   "source": [
    "table = pd.pivot_table(df, values='debt', index='children', \\\n",
    "                       aggfunc=[np.sum, 'count']).reset_index()\n",
    "table['ratio'] = table['sum']/table['count']\n",
    "table.sort_values(by='ratio', ascending=False).reset_index()"
   ]
  },
  {
   "cell_type": "markdown",
   "metadata": {},
   "source": [
    "**Вывод**"
   ]
  },
  {
   "cell_type": "markdown",
   "metadata": {},
   "source": [
    "Согласно данным клиенты с тремя детьми и без детей - более надежные заемщики."
   ]
  },
  {
   "cell_type": "markdown",
   "metadata": {},
   "source": [
    "- Есть ли зависимость между семейным положением и возвратом кредита в срок?"
   ]
  },
  {
   "cell_type": "code",
   "execution_count": 120,
   "metadata": {},
   "outputs": [
    {
     "data": {
      "text/html": [
       "<div>\n",
       "<style scoped>\n",
       "    .dataframe tbody tr th:only-of-type {\n",
       "        vertical-align: middle;\n",
       "    }\n",
       "\n",
       "    .dataframe tbody tr th {\n",
       "        vertical-align: top;\n",
       "    }\n",
       "\n",
       "    .dataframe thead th {\n",
       "        text-align: right;\n",
       "    }\n",
       "</style>\n",
       "<table border=\"1\" class=\"dataframe\">\n",
       "  <thead>\n",
       "    <tr style=\"text-align: right;\">\n",
       "      <th></th>\n",
       "      <th>family_status_id</th>\n",
       "      <th>debt_1</th>\n",
       "      <th>debt_0</th>\n",
       "      <th>ratio</th>\n",
       "    </tr>\n",
       "  </thead>\n",
       "  <tbody>\n",
       "    <tr>\n",
       "      <td>0</td>\n",
       "      <td>4</td>\n",
       "      <td>272</td>\n",
       "      <td>2509</td>\n",
       "      <td>0.097807</td>\n",
       "    </tr>\n",
       "    <tr>\n",
       "      <td>1</td>\n",
       "      <td>1</td>\n",
       "      <td>383</td>\n",
       "      <td>3756</td>\n",
       "      <td>0.092534</td>\n",
       "    </tr>\n",
       "    <tr>\n",
       "      <td>2</td>\n",
       "      <td>0</td>\n",
       "      <td>923</td>\n",
       "      <td>11329</td>\n",
       "      <td>0.075335</td>\n",
       "    </tr>\n",
       "    <tr>\n",
       "      <td>3</td>\n",
       "      <td>3</td>\n",
       "      <td>84</td>\n",
       "      <td>1094</td>\n",
       "      <td>0.071307</td>\n",
       "    </tr>\n",
       "    <tr>\n",
       "      <td>4</td>\n",
       "      <td>2</td>\n",
       "      <td>62</td>\n",
       "      <td>885</td>\n",
       "      <td>0.065470</td>\n",
       "    </tr>\n",
       "  </tbody>\n",
       "</table>\n",
       "</div>"
      ],
      "text/plain": [
       "   family_status_id  debt_1  debt_0     ratio\n",
       "0                 4     272    2509  0.097807\n",
       "1                 1     383    3756  0.092534\n",
       "2                 0     923   11329  0.075335\n",
       "3                 3      84    1094  0.071307\n",
       "4                 2      62     885  0.065470"
      ]
     },
     "metadata": {},
     "output_type": "display_data"
    }
   ],
   "source": [
    "df1 = df.query('debt==1').groupby('family_status_id')['family_status_id'].count()\n",
    "df2 = df.query('debt==0').groupby('family_status_id')['family_status_id'].count()\n",
    "df_family = pd.concat([df1, df2], axis=1)\n",
    "df_family.set_axis(['debt_1','debt_0'],axis='columns',inplace=True)\n",
    "df_family['ratio'] = df_family['debt_1']/df_family.sum(axis=1)\n",
    "display(df_family.sort_values(by='ratio', ascending=False).reset_index())"
   ]
  },
  {
   "cell_type": "markdown",
   "metadata": {},
   "source": [
    "**Вывод**"
   ]
  },
  {
   "cell_type": "markdown",
   "metadata": {},
   "source": [
    "Согласно данным вдовцы и клиенты в разводе - более надежные заемщики."
   ]
  },
  {
   "cell_type": "markdown",
   "metadata": {},
   "source": [
    "- Есть ли зависимость между уровнем дохода и возвратом кредита в срок?"
   ]
  },
  {
   "cell_type": "code",
   "execution_count": 121,
   "metadata": {},
   "outputs": [
    {
     "data": {
      "text/html": [
       "<div>\n",
       "<style scoped>\n",
       "    .dataframe tbody tr th:only-of-type {\n",
       "        vertical-align: middle;\n",
       "    }\n",
       "\n",
       "    .dataframe tbody tr th {\n",
       "        vertical-align: top;\n",
       "    }\n",
       "\n",
       "    .dataframe thead th {\n",
       "        text-align: right;\n",
       "    }\n",
       "</style>\n",
       "<table border=\"1\" class=\"dataframe\">\n",
       "  <thead>\n",
       "    <tr style=\"text-align: right;\">\n",
       "      <th></th>\n",
       "      <th>total_income_cat</th>\n",
       "      <th>debt_1</th>\n",
       "      <th>debt_0</th>\n",
       "      <th>ratio</th>\n",
       "    </tr>\n",
       "  </thead>\n",
       "  <tbody>\n",
       "    <tr>\n",
       "      <td>0</td>\n",
       "      <td>(132162.0, 161162.8]</td>\n",
       "      <td>370</td>\n",
       "      <td>3888</td>\n",
       "      <td>0.086895</td>\n",
       "    </tr>\n",
       "    <tr>\n",
       "      <td>1</td>\n",
       "      <td>(98645.4, 132162.0]</td>\n",
       "      <td>355</td>\n",
       "      <td>3905</td>\n",
       "      <td>0.083333</td>\n",
       "    </tr>\n",
       "    <tr>\n",
       "      <td>2</td>\n",
       "      <td>(161162.8, 214169.0]</td>\n",
       "      <td>354</td>\n",
       "      <td>3905</td>\n",
       "      <td>0.083118</td>\n",
       "    </tr>\n",
       "    <tr>\n",
       "      <td>3</td>\n",
       "      <td>(20666.999, 98645.4]</td>\n",
       "      <td>344</td>\n",
       "      <td>3916</td>\n",
       "      <td>0.080751</td>\n",
       "    </tr>\n",
       "    <tr>\n",
       "      <td>4</td>\n",
       "      <td>(214169.0, 2265604.0]</td>\n",
       "      <td>301</td>\n",
       "      <td>3959</td>\n",
       "      <td>0.070657</td>\n",
       "    </tr>\n",
       "  </tbody>\n",
       "</table>\n",
       "</div>"
      ],
      "text/plain": [
       "        total_income_cat  debt_1  debt_0     ratio\n",
       "0   (132162.0, 161162.8]     370    3888  0.086895\n",
       "1    (98645.4, 132162.0]     355    3905  0.083333\n",
       "2   (161162.8, 214169.0]     354    3905  0.083118\n",
       "3   (20666.999, 98645.4]     344    3916  0.080751\n",
       "4  (214169.0, 2265604.0]     301    3959  0.070657"
      ]
     },
     "metadata": {},
     "output_type": "display_data"
    },
    {
     "name": "stdout",
     "output_type": "stream",
     "text": [
      "count    2.129700e+04\n",
      "mean     1.653017e+05\n",
      "std      9.828250e+04\n",
      "min      2.066700e+04\n",
      "25%      1.077890e+05\n",
      "50%      1.425940e+05\n",
      "75%      1.955490e+05\n",
      "max      2.265604e+06\n",
      "Name: total_income, dtype: float64\n",
      "Медиана: 142594.0\n"
     ]
    }
   ],
   "source": [
    "df1 = df.query('debt==1').groupby('total_income_cat')['total_income_cat'].count()\n",
    "df2 = df.query('debt==0').groupby('total_income_cat')['total_income_cat'].count()\n",
    "df_income = pd.concat([df1, df2], axis=1)\n",
    "df_income.set_axis(['debt_1','debt_0'],axis='columns',inplace=True)\n",
    "df_income['ratio'] = df_income['debt_1']/df_income.sum(axis=1)\n",
    "display(df_income.sort_values(by='ratio',ascending=False).reset_index())\n",
    "print(df['total_income'].describe())\n",
    "print(f\"Медиана: {df['total_income'].median()}\")"
   ]
  },
  {
   "cell_type": "markdown",
   "metadata": {},
   "source": [
    "**Вывод**"
   ]
  },
  {
   "cell_type": "markdown",
   "metadata": {},
   "source": [
    "Клиенты с самым высоким доходом - более надежные клиенты. Причем со средним доходом - самая ненадежная."
   ]
  },
  {
   "cell_type": "markdown",
   "metadata": {},
   "source": [
    "- Как разные цели кредита влияют на его возврат в срок?"
   ]
  },
  {
   "cell_type": "code",
   "execution_count": 122,
   "metadata": {},
   "outputs": [
    {
     "data": {
      "text/html": [
       "<div>\n",
       "<style scoped>\n",
       "    .dataframe tbody tr th:only-of-type {\n",
       "        vertical-align: middle;\n",
       "    }\n",
       "\n",
       "    .dataframe tbody tr th {\n",
       "        vertical-align: top;\n",
       "    }\n",
       "\n",
       "    .dataframe thead th {\n",
       "        text-align: right;\n",
       "    }\n",
       "</style>\n",
       "<table border=\"1\" class=\"dataframe\">\n",
       "  <thead>\n",
       "    <tr style=\"text-align: right;\">\n",
       "      <th></th>\n",
       "      <th>purpose_lem</th>\n",
       "      <th>debt_1</th>\n",
       "      <th>debt_0</th>\n",
       "      <th>ratio</th>\n",
       "    </tr>\n",
       "  </thead>\n",
       "  <tbody>\n",
       "    <tr>\n",
       "      <td>0</td>\n",
       "      <td>автомобиль</td>\n",
       "      <td>397</td>\n",
       "      <td>3869</td>\n",
       "      <td>0.093061</td>\n",
       "    </tr>\n",
       "    <tr>\n",
       "      <td>1</td>\n",
       "      <td>образование</td>\n",
       "      <td>369</td>\n",
       "      <td>3609</td>\n",
       "      <td>0.092760</td>\n",
       "    </tr>\n",
       "    <tr>\n",
       "      <td>2</td>\n",
       "      <td>свадьба</td>\n",
       "      <td>181</td>\n",
       "      <td>2142</td>\n",
       "      <td>0.077916</td>\n",
       "    </tr>\n",
       "    <tr>\n",
       "      <td>3</td>\n",
       "      <td>недвижимость</td>\n",
       "      <td>777</td>\n",
       "      <td>9953</td>\n",
       "      <td>0.072414</td>\n",
       "    </tr>\n",
       "  </tbody>\n",
       "</table>\n",
       "</div>"
      ],
      "text/plain": [
       "    purpose_lem  debt_1  debt_0     ratio\n",
       "0    автомобиль     397    3869  0.093061\n",
       "1   образование     369    3609  0.092760\n",
       "2       свадьба     181    2142  0.077916\n",
       "3  недвижимость     777    9953  0.072414"
      ]
     },
     "metadata": {},
     "output_type": "display_data"
    }
   ],
   "source": [
    "df1 = df.query('debt==1').groupby('purpose_lem')['purpose_lem'].count()\n",
    "df2 = df.query('debt==0').groupby('purpose_lem')['purpose_lem'].count()\n",
    "df_purpose = pd.concat([df1, df2], axis=1)\n",
    "df_purpose.set_axis(['debt_1','debt_0'],axis='columns',inplace=True)\n",
    "df_purpose['ratio'] = df_purpose['debt_1']/df_purpose.sum(axis=1)\n",
    "display(df_purpose.sort_values(by='ratio',ascending=False).reset_index())"
   ]
  },
  {
   "cell_type": "markdown",
   "metadata": {},
   "source": [
    "**Вывод**"
   ]
  },
  {
   "cell_type": "markdown",
   "metadata": {},
   "source": [
    "Кредиты на недвижимость и празднование свадьбы самые надежные, на автомобили и образование самые ненадежные."
   ]
  },
  {
   "cell_type": "markdown",
   "metadata": {},
   "source": [
    "## 4. Общий вывод"
   ]
  },
  {
   "cell_type": "markdown",
   "metadata": {},
   "source": [
    "В ходе работы была проведена подготовка данных к исследованию:\n",
    "* Общий анализ данных\n",
    "* Поиск и заполнение пропусков\n",
    "* Замена типа данных\n",
    "* Поиск и удаление дубликатов\n",
    "* Лемматизация\n",
    "* Категоризация данных\n",
    "\n",
    "Далее был произведен аналитический поиск зависимостей с выплатой задолжностей:\n",
    "* Наличие детей (клиенты с тремя детьми и без детей - самые надежные)\n",
    "* Семейное положение (вдовцы и клиенты в разводе - более надежные заемщики)\n",
    "* Уровнем дохода (клиенты с самым высоким доходом - самые надежные)\n",
    "* Целей кредита (кредиты на недвижимость и празднование свадьбы самые надежные)\n",
    "\n",
    "Установлены факторы влияющие на надежность клиента.\n",
    "Более точный анализ требует проверки статистических гипотез и построение модели кредитного скоринга."
   ]
  }
 ],
 "metadata": {
  "ExecuteTimeLog": [
   {
    "duration": 504,
    "start_time": "2021-10-19T09:06:36.955Z"
   },
   {
    "duration": 80,
    "start_time": "2021-10-19T09:07:43.599Z"
   },
   {
    "duration": 52,
    "start_time": "2021-10-19T09:07:50.947Z"
   },
   {
    "duration": 54,
    "start_time": "2021-10-19T09:08:18.715Z"
   },
   {
    "duration": 234,
    "start_time": "2021-10-19T09:26:03.328Z"
   },
   {
    "duration": 4,
    "start_time": "2021-10-19T09:26:09.682Z"
   },
   {
    "duration": 55,
    "start_time": "2021-10-19T09:26:26.140Z"
   },
   {
    "duration": 13,
    "start_time": "2021-10-19T09:26:38.273Z"
   },
   {
    "duration": 4,
    "start_time": "2021-10-19T09:26:51.373Z"
   },
   {
    "duration": 10,
    "start_time": "2021-10-19T09:28:02.916Z"
   },
   {
    "duration": 56,
    "start_time": "2021-10-19T09:31:11.947Z"
   },
   {
    "duration": 9,
    "start_time": "2021-10-19T09:31:17.695Z"
   },
   {
    "duration": 12,
    "start_time": "2021-10-19T09:33:17.365Z"
   },
   {
    "duration": 197,
    "start_time": "2021-10-19T09:33:43.693Z"
   },
   {
    "duration": 23,
    "start_time": "2021-10-19T09:33:53.347Z"
   },
   {
    "duration": 14,
    "start_time": "2021-10-19T09:34:08.662Z"
   },
   {
    "duration": 9,
    "start_time": "2021-10-19T09:35:21.379Z"
   },
   {
    "duration": 8,
    "start_time": "2021-10-19T09:36:25.260Z"
   },
   {
    "duration": 7,
    "start_time": "2021-10-19T10:18:06.314Z"
   },
   {
    "duration": 8,
    "start_time": "2021-10-19T10:18:18.554Z"
   },
   {
    "duration": 8,
    "start_time": "2021-10-19T10:18:21.997Z"
   },
   {
    "duration": 7,
    "start_time": "2021-10-19T10:18:35.832Z"
   },
   {
    "duration": 14,
    "start_time": "2021-10-19T10:19:59.446Z"
   },
   {
    "duration": 11,
    "start_time": "2021-10-19T10:20:11.026Z"
   },
   {
    "duration": 12,
    "start_time": "2021-10-19T10:20:13.389Z"
   },
   {
    "duration": 9,
    "start_time": "2021-10-19T10:20:21.817Z"
   },
   {
    "duration": 8,
    "start_time": "2021-10-19T10:20:36.683Z"
   },
   {
    "duration": 8,
    "start_time": "2021-10-19T10:21:20.600Z"
   },
   {
    "duration": 4,
    "start_time": "2021-10-19T10:21:51.367Z"
   },
   {
    "duration": 443,
    "start_time": "2021-10-19T10:22:30.950Z"
   },
   {
    "duration": 5,
    "start_time": "2021-10-19T10:22:40.043Z"
   },
   {
    "duration": 4,
    "start_time": "2021-10-19T10:23:19.305Z"
   },
   {
    "duration": 4,
    "start_time": "2021-10-19T10:25:53.917Z"
   },
   {
    "duration": 11,
    "start_time": "2021-10-19T10:26:13.467Z"
   },
   {
    "duration": 12,
    "start_time": "2021-10-19T10:28:55.153Z"
   },
   {
    "duration": 13,
    "start_time": "2021-10-19T10:31:29.841Z"
   },
   {
    "duration": 11,
    "start_time": "2021-10-19T10:31:41.455Z"
   },
   {
    "duration": 9,
    "start_time": "2021-10-19T10:32:29.438Z"
   },
   {
    "duration": 7,
    "start_time": "2021-10-19T10:36:42.938Z"
   },
   {
    "duration": 8,
    "start_time": "2021-10-19T10:37:03.078Z"
   },
   {
    "duration": 11,
    "start_time": "2021-10-19T10:37:27.808Z"
   },
   {
    "duration": 8,
    "start_time": "2021-10-19T10:38:11.409Z"
   },
   {
    "duration": 270,
    "start_time": "2021-10-19T10:39:53.780Z"
   },
   {
    "duration": 5,
    "start_time": "2021-10-19T10:47:10.048Z"
   },
   {
    "duration": 208,
    "start_time": "2021-10-19T10:50:30.399Z"
   },
   {
    "duration": 212,
    "start_time": "2021-10-19T10:52:02.158Z"
   },
   {
    "duration": 382,
    "start_time": "2021-10-19T10:52:13.545Z"
   },
   {
    "duration": 387,
    "start_time": "2021-10-19T10:52:32.807Z"
   },
   {
    "duration": 475,
    "start_time": "2021-10-19T10:52:53.027Z"
   },
   {
    "duration": 430,
    "start_time": "2021-10-19T10:57:21.489Z"
   },
   {
    "duration": 3,
    "start_time": "2021-10-19T10:58:24.687Z"
   },
   {
    "duration": 375,
    "start_time": "2021-10-19T10:58:31.146Z"
   },
   {
    "duration": 386,
    "start_time": "2021-10-19T10:59:54.737Z"
   },
   {
    "duration": 421,
    "start_time": "2021-10-19T11:09:00.537Z"
   },
   {
    "duration": 393,
    "start_time": "2021-10-19T11:09:27.393Z"
   },
   {
    "duration": 202,
    "start_time": "2021-10-19T11:09:40.954Z"
   },
   {
    "duration": 385,
    "start_time": "2021-10-19T11:09:59.601Z"
   },
   {
    "duration": 396,
    "start_time": "2021-10-19T11:10:08.429Z"
   },
   {
    "duration": 392,
    "start_time": "2021-10-19T11:10:12.291Z"
   },
   {
    "duration": 215,
    "start_time": "2021-10-19T11:10:18.168Z"
   },
   {
    "duration": 5,
    "start_time": "2021-10-19T11:11:20.193Z"
   },
   {
    "duration": 6,
    "start_time": "2021-10-19T11:11:44.856Z"
   },
   {
    "duration": 771,
    "start_time": "2021-10-19T11:14:25.124Z"
   },
   {
    "duration": 211,
    "start_time": "2021-10-19T11:15:11.602Z"
   },
   {
    "duration": 249,
    "start_time": "2021-10-19T11:19:32.018Z"
   },
   {
    "duration": 204,
    "start_time": "2021-10-19T11:19:54.312Z"
   },
   {
    "duration": 294,
    "start_time": "2021-10-19T11:20:37.698Z"
   },
   {
    "duration": 177,
    "start_time": "2021-10-19T11:20:42.012Z"
   },
   {
    "duration": 201,
    "start_time": "2021-10-19T11:21:00.398Z"
   },
   {
    "duration": 877,
    "start_time": "2021-10-19T11:21:03.543Z"
   },
   {
    "duration": 5,
    "start_time": "2021-10-19T11:21:39.190Z"
   },
   {
    "duration": 205,
    "start_time": "2021-10-19T11:22:01.667Z"
   },
   {
    "duration": 873,
    "start_time": "2021-10-19T11:22:07.225Z"
   },
   {
    "duration": 206,
    "start_time": "2021-10-19T11:22:51.588Z"
   },
   {
    "duration": 324,
    "start_time": "2021-10-19T11:23:32.200Z"
   },
   {
    "duration": 1135,
    "start_time": "2021-10-19T11:23:36.375Z"
   },
   {
    "duration": 210,
    "start_time": "2021-10-19T11:28:22.689Z"
   },
   {
    "duration": 871,
    "start_time": "2021-10-19T11:28:26.917Z"
   },
   {
    "duration": 63,
    "start_time": "2021-10-19T11:34:45.561Z"
   },
   {
    "duration": 918,
    "start_time": "2021-10-19T11:34:48.057Z"
   },
   {
    "duration": 208,
    "start_time": "2021-10-19T11:35:08.401Z"
   },
   {
    "duration": 12,
    "start_time": "2021-10-19T11:35:12.547Z"
   },
   {
    "duration": 199,
    "start_time": "2021-10-19T11:35:35.334Z"
   },
   {
    "duration": 195,
    "start_time": "2021-10-19T11:36:09.331Z"
   },
   {
    "duration": 213,
    "start_time": "2021-10-19T11:37:29.144Z"
   },
   {
    "duration": 188,
    "start_time": "2021-10-19T11:38:48.715Z"
   },
   {
    "duration": 194,
    "start_time": "2021-10-19T11:38:58.867Z"
   },
   {
    "duration": 284,
    "start_time": "2021-10-19T11:40:42.934Z"
   },
   {
    "duration": 188,
    "start_time": "2021-10-19T11:41:00.615Z"
   },
   {
    "duration": 14,
    "start_time": "2021-10-19T11:41:10.085Z"
   },
   {
    "duration": 163,
    "start_time": "2021-10-19T11:41:24.713Z"
   },
   {
    "duration": 159,
    "start_time": "2021-10-19T11:41:32.997Z"
   },
   {
    "duration": 207,
    "start_time": "2021-10-19T11:41:44.468Z"
   },
   {
    "duration": 167,
    "start_time": "2021-10-19T11:42:00.774Z"
   },
   {
    "duration": 310,
    "start_time": "2021-10-19T20:25:41.240Z"
   },
   {
    "duration": 1493,
    "start_time": "2021-10-19T20:25:45.202Z"
   },
   {
    "duration": 84,
    "start_time": "2021-10-19T20:25:47.167Z"
   },
   {
    "duration": 6,
    "start_time": "2021-10-19T20:26:26.145Z"
   },
   {
    "duration": 14,
    "start_time": "2021-10-19T20:26:29.884Z"
   },
   {
    "duration": 5,
    "start_time": "2021-10-19T20:26:32.942Z"
   },
   {
    "duration": 13,
    "start_time": "2021-10-19T20:26:35.556Z"
   },
   {
    "duration": 16,
    "start_time": "2021-10-19T20:26:42.342Z"
   },
   {
    "duration": 12,
    "start_time": "2021-10-19T20:26:44.287Z"
   },
   {
    "duration": 10,
    "start_time": "2021-10-19T20:26:47.014Z"
   },
   {
    "duration": 5,
    "start_time": "2021-10-19T20:26:49.242Z"
   },
   {
    "duration": 315,
    "start_time": "2021-10-19T20:26:53.239Z"
   },
   {
    "duration": 259,
    "start_time": "2021-10-19T20:26:56.715Z"
   },
   {
    "duration": 6,
    "start_time": "2021-10-19T20:28:48.619Z"
   },
   {
    "duration": 6623,
    "start_time": "2021-10-19T20:31:18.516Z"
   },
   {
    "duration": 238,
    "start_time": "2021-10-19T20:31:59.627Z"
   },
   {
    "duration": 427,
    "start_time": "2021-10-20T10:04:50.627Z"
   },
   {
    "duration": 1498,
    "start_time": "2021-10-20T10:04:59.285Z"
   },
   {
    "duration": 85,
    "start_time": "2021-10-20T10:05:03.209Z"
   },
   {
    "duration": 559,
    "start_time": "2021-10-20T10:05:07.084Z"
   },
   {
    "duration": 480,
    "start_time": "2021-10-20T10:05:25.893Z"
   },
   {
    "duration": 384,
    "start_time": "2021-10-20T10:05:54.964Z"
   },
   {
    "duration": 2878,
    "start_time": "2021-10-20T10:06:03.950Z"
   },
   {
    "duration": 5163,
    "start_time": "2021-10-20T10:06:18.039Z"
   },
   {
    "duration": 3,
    "start_time": "2021-10-20T10:18:50.068Z"
   },
   {
    "duration": 85,
    "start_time": "2021-10-20T10:18:52.239Z"
   },
   {
    "duration": 431,
    "start_time": "2021-10-20T10:18:55.089Z"
   },
   {
    "duration": 15,
    "start_time": "2021-10-20T10:18:59.113Z"
   },
   {
    "duration": 5,
    "start_time": "2021-10-20T10:19:02.318Z"
   },
   {
    "duration": 17,
    "start_time": "2021-10-20T10:19:05.564Z"
   },
   {
    "duration": 5,
    "start_time": "2021-10-20T10:19:08.760Z"
   },
   {
    "duration": 6,
    "start_time": "2021-10-20T10:19:10.645Z"
   },
   {
    "duration": 16,
    "start_time": "2021-10-20T10:19:12.573Z"
   },
   {
    "duration": 12,
    "start_time": "2021-10-20T10:19:14.693Z"
   },
   {
    "duration": 10,
    "start_time": "2021-10-20T10:19:17.169Z"
   },
   {
    "duration": 7,
    "start_time": "2021-10-20T10:19:18.771Z"
   },
   {
    "duration": 329,
    "start_time": "2021-10-20T10:19:21.840Z"
   },
   {
    "duration": 269,
    "start_time": "2021-10-20T10:19:24.731Z"
   },
   {
    "duration": 7,
    "start_time": "2021-10-20T10:19:27.675Z"
   },
   {
    "duration": 413,
    "start_time": "2021-10-20T10:26:49.890Z"
   },
   {
    "duration": 1507,
    "start_time": "2021-10-20T10:33:20.471Z"
   },
   {
    "duration": 670,
    "start_time": "2021-10-20T10:34:06.596Z"
   },
   {
    "duration": 382,
    "start_time": "2021-10-20T10:34:15.263Z"
   },
   {
    "duration": 398,
    "start_time": "2021-10-20T10:36:55.711Z"
   },
   {
    "duration": 13,
    "start_time": "2021-10-20T10:38:47.876Z"
   },
   {
    "duration": 11,
    "start_time": "2021-10-20T10:41:55.188Z"
   },
   {
    "duration": 81,
    "start_time": "2021-10-20T10:42:18.769Z"
   },
   {
    "duration": 360,
    "start_time": "2021-10-20T10:45:48.406Z"
   },
   {
    "duration": 1468,
    "start_time": "2021-10-20T10:57:07.480Z"
   },
   {
    "duration": 84,
    "start_time": "2021-10-20T10:57:08.951Z"
   },
   {
    "duration": 1538,
    "start_time": "2021-10-20T11:00:35.198Z"
   },
   {
    "duration": 85,
    "start_time": "2021-10-20T11:00:36.738Z"
   },
   {
    "duration": 15,
    "start_time": "2021-10-20T11:00:36.826Z"
   },
   {
    "duration": 18,
    "start_time": "2021-10-20T11:00:36.844Z"
   },
   {
    "duration": 17,
    "start_time": "2021-10-20T11:00:36.864Z"
   },
   {
    "duration": 6,
    "start_time": "2021-10-20T11:00:36.883Z"
   },
   {
    "duration": 19,
    "start_time": "2021-10-20T11:00:36.891Z"
   },
   {
    "duration": 44,
    "start_time": "2021-10-20T11:00:36.913Z"
   },
   {
    "duration": 11,
    "start_time": "2021-10-20T11:00:36.960Z"
   },
   {
    "duration": 6,
    "start_time": "2021-10-20T11:00:36.973Z"
   },
   {
    "duration": 340,
    "start_time": "2021-10-20T11:00:36.982Z"
   },
   {
    "duration": 276,
    "start_time": "2021-10-20T11:00:37.325Z"
   },
   {
    "duration": 580,
    "start_time": "2021-10-20T11:00:37.605Z"
   },
   {
    "duration": 2795,
    "start_time": "2021-10-20T11:00:35.394Z"
   },
   {
    "duration": 2792,
    "start_time": "2021-10-20T11:00:35.399Z"
   },
   {
    "duration": 10,
    "start_time": "2021-10-20T11:01:12.908Z"
   },
   {
    "duration": 12,
    "start_time": "2021-10-20T11:03:27.447Z"
   },
   {
    "duration": 13,
    "start_time": "2021-10-20T11:04:08.381Z"
   },
   {
    "duration": 6,
    "start_time": "2021-10-20T11:11:06.015Z"
   },
   {
    "duration": 7,
    "start_time": "2021-10-20T11:11:14.697Z"
   },
   {
    "duration": 42,
    "start_time": "2021-10-20T11:13:24.640Z"
   },
   {
    "duration": 22,
    "start_time": "2021-10-20T11:13:33.886Z"
   },
   {
    "duration": 15,
    "start_time": "2021-10-20T11:13:50.882Z"
   },
   {
    "duration": 12,
    "start_time": "2021-10-20T11:13:55.909Z"
   },
   {
    "duration": 61,
    "start_time": "2021-10-20T11:14:46.349Z"
   },
   {
    "duration": 432,
    "start_time": "2021-10-20T11:15:30.642Z"
   },
   {
    "duration": 14,
    "start_time": "2021-10-20T11:22:58.503Z"
   },
   {
    "duration": 14,
    "start_time": "2021-10-20T11:23:51.623Z"
   },
   {
    "duration": 12,
    "start_time": "2021-10-20T11:24:09.687Z"
   },
   {
    "duration": 14,
    "start_time": "2021-10-20T11:24:13.746Z"
   },
   {
    "duration": 43,
    "start_time": "2021-10-20T11:24:22.221Z"
   },
   {
    "duration": 15,
    "start_time": "2021-10-20T11:24:24.048Z"
   },
   {
    "duration": 16,
    "start_time": "2021-10-20T11:24:25.735Z"
   },
   {
    "duration": 7,
    "start_time": "2021-10-20T11:27:19.388Z"
   },
   {
    "duration": 10,
    "start_time": "2021-10-20T11:27:39.726Z"
   },
   {
    "duration": 527,
    "start_time": "2021-10-20T11:34:14.926Z"
   },
   {
    "duration": 701,
    "start_time": "2021-10-20T11:35:08.152Z"
   },
   {
    "duration": 335,
    "start_time": "2021-10-20T11:39:16.582Z"
   },
   {
    "duration": 462,
    "start_time": "2021-10-20T11:39:41.783Z"
   },
   {
    "duration": 347,
    "start_time": "2021-10-20T11:39:54.803Z"
   },
   {
    "duration": 332,
    "start_time": "2021-10-20T11:40:04.444Z"
   },
   {
    "duration": 327,
    "start_time": "2021-10-20T11:40:13.820Z"
   },
   {
    "duration": 543,
    "start_time": "2021-10-20T11:40:27.114Z"
   },
   {
    "duration": 1030,
    "start_time": "2021-10-20T11:41:41.565Z"
   },
   {
    "duration": 623,
    "start_time": "2021-10-20T11:41:49.309Z"
   },
   {
    "duration": 474,
    "start_time": "2021-10-20T11:42:02.298Z"
   },
   {
    "duration": 30,
    "start_time": "2021-10-20T11:43:31.299Z"
   },
   {
    "duration": 31,
    "start_time": "2021-10-20T11:46:43.210Z"
   },
   {
    "duration": 19,
    "start_time": "2021-10-20T11:46:44.774Z"
   },
   {
    "duration": 25,
    "start_time": "2021-10-20T11:47:48.750Z"
   },
   {
    "duration": 328,
    "start_time": "2021-10-20T11:47:55.966Z"
   },
   {
    "duration": 371,
    "start_time": "2021-10-20T11:48:01.470Z"
   },
   {
    "duration": 613,
    "start_time": "2021-10-20T11:48:05.100Z"
   },
   {
    "duration": 530,
    "start_time": "2021-10-20T11:48:08.062Z"
   },
   {
    "duration": 9,
    "start_time": "2021-10-20T11:48:40.910Z"
   },
   {
    "duration": 7,
    "start_time": "2021-10-20T11:49:55.416Z"
   },
   {
    "duration": 5,
    "start_time": "2021-10-20T11:50:47.483Z"
   },
   {
    "duration": 8,
    "start_time": "2021-10-20T11:50:59.116Z"
   },
   {
    "duration": 8,
    "start_time": "2021-10-20T11:51:09.722Z"
   },
   {
    "duration": 12,
    "start_time": "2021-10-20T11:52:58.859Z"
   },
   {
    "duration": 385,
    "start_time": "2021-10-20T11:55:40.626Z"
   },
   {
    "duration": 5,
    "start_time": "2021-10-20T11:55:58.908Z"
   },
   {
    "duration": 6,
    "start_time": "2021-10-20T11:56:12.214Z"
   },
   {
    "duration": 5,
    "start_time": "2021-10-20T11:56:47.678Z"
   },
   {
    "duration": 10,
    "start_time": "2021-10-20T11:57:11.471Z"
   },
   {
    "duration": 11,
    "start_time": "2021-10-20T11:57:29.223Z"
   },
   {
    "duration": 449,
    "start_time": "2021-10-20T11:58:11.753Z"
   },
   {
    "duration": 5,
    "start_time": "2021-10-20T11:58:23.201Z"
   },
   {
    "duration": 5,
    "start_time": "2021-10-20T12:00:27.332Z"
   },
   {
    "duration": 5,
    "start_time": "2021-10-20T12:01:00.110Z"
   },
   {
    "duration": 5,
    "start_time": "2021-10-20T12:01:28.396Z"
   },
   {
    "duration": 5,
    "start_time": "2021-10-20T12:01:47.119Z"
   },
   {
    "duration": 977,
    "start_time": "2021-10-20T12:08:05.150Z"
   },
   {
    "duration": 978,
    "start_time": "2021-10-20T12:08:32.447Z"
   },
   {
    "duration": 12,
    "start_time": "2021-10-20T12:08:46.642Z"
   },
   {
    "duration": 926,
    "start_time": "2021-10-20T12:09:32.439Z"
   },
   {
    "duration": 5,
    "start_time": "2021-10-20T12:12:10.971Z"
   },
   {
    "duration": 5,
    "start_time": "2021-10-20T12:12:48.127Z"
   },
   {
    "duration": 1472,
    "start_time": "2021-10-20T12:13:18.747Z"
   },
   {
    "duration": 948,
    "start_time": "2021-10-20T12:14:06.210Z"
   },
   {
    "duration": 136,
    "start_time": "2021-10-20T12:17:47.967Z"
   },
   {
    "duration": 273,
    "start_time": "2021-10-20T12:17:57.398Z"
   },
   {
    "duration": 4,
    "start_time": "2021-10-20T12:18:37.482Z"
   },
   {
    "duration": 121,
    "start_time": "2021-10-20T12:19:28.377Z"
   },
   {
    "duration": 141,
    "start_time": "2021-10-20T12:21:50.301Z"
   },
   {
    "duration": 4,
    "start_time": "2021-10-20T12:22:01.561Z"
   },
   {
    "duration": 139,
    "start_time": "2021-10-20T12:24:38.535Z"
   },
   {
    "duration": 615,
    "start_time": "2021-10-20T12:24:47.944Z"
   },
   {
    "duration": 4,
    "start_time": "2021-10-20T12:25:07.530Z"
   },
   {
    "duration": 776,
    "start_time": "2021-10-20T12:25:42.027Z"
   },
   {
    "duration": 679,
    "start_time": "2021-10-20T12:26:56.413Z"
   },
   {
    "duration": 201,
    "start_time": "2021-10-20T12:27:08.610Z"
   },
   {
    "duration": 631,
    "start_time": "2021-10-20T12:35:03.321Z"
   },
   {
    "duration": 536,
    "start_time": "2021-10-20T12:35:37.693Z"
   },
   {
    "duration": 481,
    "start_time": "2021-10-20T12:35:52.785Z"
   },
   {
    "duration": 488,
    "start_time": "2021-10-20T12:36:30.211Z"
   },
   {
    "duration": 585,
    "start_time": "2021-10-20T12:38:01.623Z"
   },
   {
    "duration": 468,
    "start_time": "2021-10-20T12:38:57.793Z"
   },
   {
    "duration": 597,
    "start_time": "2021-10-20T12:39:15.623Z"
   },
   {
    "duration": 667,
    "start_time": "2021-10-20T12:39:23.923Z"
   },
   {
    "duration": 337,
    "start_time": "2021-10-20T12:43:12.130Z"
   },
   {
    "duration": 267,
    "start_time": "2021-10-20T12:43:49.931Z"
   },
   {
    "duration": 126,
    "start_time": "2021-10-20T12:44:19.341Z"
   },
   {
    "duration": 238,
    "start_time": "2021-10-20T12:44:31.940Z"
   },
   {
    "duration": 267,
    "start_time": "2021-10-20T12:44:54.455Z"
   },
   {
    "duration": 3309,
    "start_time": "2021-10-20T12:51:44.910Z"
   },
   {
    "duration": 31762,
    "start_time": "2021-10-20T12:55:55.469Z"
   },
   {
    "duration": 23,
    "start_time": "2021-10-20T12:56:42.202Z"
   },
   {
    "duration": 1731,
    "start_time": "2021-10-20T13:01:03.662Z"
   },
   {
    "duration": 2402,
    "start_time": "2021-10-20T13:02:25.683Z"
   },
   {
    "duration": 52,
    "start_time": "2021-10-20T13:03:24.072Z"
   },
   {
    "duration": 22,
    "start_time": "2021-10-20T13:03:41.472Z"
   },
   {
    "duration": 32,
    "start_time": "2021-10-20T13:03:54.793Z"
   },
   {
    "duration": 27,
    "start_time": "2021-10-20T13:04:16.897Z"
   },
   {
    "duration": 1865,
    "start_time": "2021-10-20T13:06:34.292Z"
   },
   {
    "duration": 31,
    "start_time": "2021-10-20T13:06:39.334Z"
   },
   {
    "duration": 28,
    "start_time": "2021-10-20T13:11:46.192Z"
   },
   {
    "duration": 5,
    "start_time": "2021-10-20T13:12:30.082Z"
   },
   {
    "duration": 95,
    "start_time": "2021-10-20T13:12:30.090Z"
   },
   {
    "duration": 19,
    "start_time": "2021-10-20T13:12:30.189Z"
   },
   {
    "duration": 12,
    "start_time": "2021-10-20T13:12:30.211Z"
   },
   {
    "duration": 48,
    "start_time": "2021-10-20T13:12:30.226Z"
   },
   {
    "duration": 18,
    "start_time": "2021-10-20T13:12:30.277Z"
   },
   {
    "duration": 35,
    "start_time": "2021-10-20T13:12:30.298Z"
   },
   {
    "duration": 13,
    "start_time": "2021-10-20T13:12:30.336Z"
   },
   {
    "duration": 41,
    "start_time": "2021-10-20T13:12:30.359Z"
   },
   {
    "duration": 27,
    "start_time": "2021-10-20T13:12:30.403Z"
   },
   {
    "duration": 38,
    "start_time": "2021-10-20T13:12:30.432Z"
   },
   {
    "duration": 31,
    "start_time": "2021-10-20T13:12:30.472Z"
   },
   {
    "duration": 6,
    "start_time": "2021-10-20T13:12:30.506Z"
   },
   {
    "duration": 979,
    "start_time": "2021-10-20T13:12:30.515Z"
   },
   {
    "duration": 181,
    "start_time": "2021-10-20T13:12:31.497Z"
   },
   {
    "duration": 5,
    "start_time": "2021-10-20T13:12:31.681Z"
   },
   {
    "duration": 18,
    "start_time": "2021-10-20T13:12:31.688Z"
   },
   {
    "duration": 278,
    "start_time": "2021-10-20T13:12:31.709Z"
   },
   {
    "duration": 266,
    "start_time": "2021-10-20T13:12:31.989Z"
   },
   {
    "duration": 516,
    "start_time": "2021-10-20T13:12:32.258Z"
   },
   {
    "duration": 697,
    "start_time": "2021-10-20T13:12:32.777Z"
   },
   {
    "duration": 594,
    "start_time": "2021-10-20T13:12:33.477Z"
   },
   {
    "duration": 569,
    "start_time": "2021-10-20T13:12:34.074Z"
   },
   {
    "duration": 24,
    "start_time": "2021-10-20T13:13:38.925Z"
   },
   {
    "duration": 586,
    "start_time": "2021-10-20T13:18:53.701Z"
   },
   {
    "duration": 554,
    "start_time": "2021-10-20T13:24:45.127Z"
   },
   {
    "duration": 382,
    "start_time": "2021-10-20T13:33:41.119Z"
   },
   {
    "duration": 168,
    "start_time": "2021-10-20T13:35:09.065Z"
   },
   {
    "duration": 318,
    "start_time": "2021-10-21T06:05:05.922Z"
   },
   {
    "duration": 266,
    "start_time": "2021-10-21T06:05:12.462Z"
   },
   {
    "duration": 1261,
    "start_time": "2021-10-21T06:05:25.982Z"
   },
   {
    "duration": 61,
    "start_time": "2021-10-21T06:05:28.830Z"
   },
   {
    "duration": 11,
    "start_time": "2021-10-21T06:05:32.066Z"
   },
   {
    "duration": 4,
    "start_time": "2021-10-21T06:05:35.482Z"
   },
   {
    "duration": 10,
    "start_time": "2021-10-21T06:05:38.626Z"
   },
   {
    "duration": 4,
    "start_time": "2021-10-21T06:05:41.740Z"
   },
   {
    "duration": 15,
    "start_time": "2021-10-21T06:05:44.617Z"
   },
   {
    "duration": 6,
    "start_time": "2021-10-21T06:05:47.711Z"
   },
   {
    "duration": 14,
    "start_time": "2021-10-21T06:05:50.926Z"
   },
   {
    "duration": 22,
    "start_time": "2021-10-21T06:05:53.774Z"
   },
   {
    "duration": 13,
    "start_time": "2021-10-21T06:05:55.884Z"
   },
   {
    "duration": 6,
    "start_time": "2021-10-21T06:05:59.987Z"
   },
   {
    "duration": 325,
    "start_time": "2021-10-21T06:06:03.824Z"
   },
   {
    "duration": 285,
    "start_time": "2021-10-21T06:06:13.780Z"
   },
   {
    "duration": 3,
    "start_time": "2021-10-21T06:06:30.742Z"
   },
   {
    "duration": 644,
    "start_time": "2021-10-21T06:06:45.265Z"
   },
   {
    "duration": 4,
    "start_time": "2021-10-21T06:10:07.225Z"
   },
   {
    "duration": 678,
    "start_time": "2021-10-21T06:14:56.395Z"
   },
   {
    "duration": 330,
    "start_time": "2021-10-21T06:15:00.063Z"
   },
   {
    "duration": 174,
    "start_time": "2021-10-21T06:17:07.486Z"
   },
   {
    "duration": 734,
    "start_time": "2021-10-21T06:19:01.326Z"
   },
   {
    "duration": 4,
    "start_time": "2021-10-21T06:19:22.815Z"
   },
   {
    "duration": 1318,
    "start_time": "2021-10-21T17:41:21.552Z"
   },
   {
    "duration": 62,
    "start_time": "2021-10-21T17:41:24.861Z"
   },
   {
    "duration": 11,
    "start_time": "2021-10-21T17:41:29.751Z"
   },
   {
    "duration": 5,
    "start_time": "2021-10-21T17:41:33.002Z"
   },
   {
    "duration": 11,
    "start_time": "2021-10-21T17:41:36.083Z"
   },
   {
    "duration": 4,
    "start_time": "2021-10-21T17:41:39.932Z"
   },
   {
    "duration": 15,
    "start_time": "2021-10-21T17:41:43.248Z"
   },
   {
    "duration": 7,
    "start_time": "2021-10-21T17:41:46.997Z"
   },
   {
    "duration": 14,
    "start_time": "2021-10-21T17:41:50.711Z"
   },
   {
    "duration": 18,
    "start_time": "2021-10-21T17:41:53.516Z"
   },
   {
    "duration": 14,
    "start_time": "2021-10-21T17:41:56.991Z"
   },
   {
    "duration": 7,
    "start_time": "2021-10-21T17:42:00.920Z"
   },
   {
    "duration": 3,
    "start_time": "2021-10-21T17:45:22.476Z"
   },
   {
    "duration": 1414,
    "start_time": "2021-10-21T17:45:24.895Z"
   },
   {
    "duration": 1363,
    "start_time": "2021-10-22T08:09:19.034Z"
   },
   {
    "duration": 65,
    "start_time": "2021-10-22T08:09:21.851Z"
   },
   {
    "duration": 14,
    "start_time": "2021-10-22T08:09:24.884Z"
   },
   {
    "duration": 5,
    "start_time": "2021-10-22T08:09:27.816Z"
   },
   {
    "duration": 11,
    "start_time": "2021-10-22T08:09:30.532Z"
   },
   {
    "duration": 5,
    "start_time": "2021-10-22T08:09:34.671Z"
   },
   {
    "duration": 16,
    "start_time": "2021-10-22T08:09:37.190Z"
   },
   {
    "duration": 8,
    "start_time": "2021-10-22T08:09:40.312Z"
   },
   {
    "duration": 15,
    "start_time": "2021-10-22T08:09:43.252Z"
   },
   {
    "duration": 21,
    "start_time": "2021-10-22T08:09:46.477Z"
   },
   {
    "duration": 15,
    "start_time": "2021-10-22T08:09:48.658Z"
   },
   {
    "duration": 7,
    "start_time": "2021-10-22T08:09:52.315Z"
   },
   {
    "duration": 4,
    "start_time": "2021-10-22T08:09:57.518Z"
   },
   {
    "duration": 3,
    "start_time": "2021-10-22T08:13:13.902Z"
   },
   {
    "duration": 1890,
    "start_time": "2021-10-22T08:13:16.594Z"
   },
   {
    "duration": 4,
    "start_time": "2021-10-22T08:14:04.923Z"
   },
   {
    "duration": 593,
    "start_time": "2021-10-22T08:14:37.636Z"
   },
   {
    "duration": 5,
    "start_time": "2021-10-22T08:14:47.369Z"
   },
   {
    "duration": 1731,
    "start_time": "2021-10-22T08:14:49.594Z"
   },
   {
    "duration": 4,
    "start_time": "2021-10-22T08:16:14.920Z"
   },
   {
    "duration": 4975,
    "start_time": "2021-10-22T08:16:20.134Z"
   },
   {
    "duration": 4021,
    "start_time": "2021-10-22T08:16:38.214Z"
   },
   {
    "duration": 150,
    "start_time": "2021-10-22T08:21:01.998Z"
   },
   {
    "duration": 383,
    "start_time": "2021-10-22T08:21:08.245Z"
   },
   {
    "duration": 7934,
    "start_time": "2021-10-22T08:21:24.682Z"
   },
   {
    "duration": 4,
    "start_time": "2021-10-22T08:21:45.392Z"
   },
   {
    "duration": 4,
    "start_time": "2021-10-22T08:21:49.781Z"
   },
   {
    "duration": 23,
    "start_time": "2021-10-22T08:22:26.870Z"
   },
   {
    "duration": 681,
    "start_time": "2021-10-22T08:22:29.023Z"
   },
   {
    "duration": 22,
    "start_time": "2021-10-22T08:23:05.915Z"
   },
   {
    "duration": 758,
    "start_time": "2021-10-22T08:23:08.049Z"
   },
   {
    "duration": 23,
    "start_time": "2021-10-22T08:23:21.824Z"
   },
   {
    "duration": 654,
    "start_time": "2021-10-22T08:23:22.985Z"
   },
   {
    "duration": 23,
    "start_time": "2021-10-22T08:23:48.685Z"
   },
   {
    "duration": 4,
    "start_time": "2021-10-22T08:23:50.666Z"
   },
   {
    "duration": 4,
    "start_time": "2021-10-22T08:24:03.996Z"
   },
   {
    "duration": 662,
    "start_time": "2021-10-22T08:24:05.714Z"
   },
   {
    "duration": 25,
    "start_time": "2021-10-22T08:24:39.330Z"
   },
   {
    "duration": 658,
    "start_time": "2021-10-22T08:24:41.767Z"
   },
   {
    "duration": 22,
    "start_time": "2021-10-22T08:24:58.062Z"
   },
   {
    "duration": 669,
    "start_time": "2021-10-22T08:24:58.692Z"
   },
   {
    "duration": 23,
    "start_time": "2021-10-22T08:25:35.318Z"
   },
   {
    "duration": 694,
    "start_time": "2021-10-22T08:25:36.068Z"
   },
   {
    "duration": 24,
    "start_time": "2021-10-22T08:25:46.047Z"
   },
   {
    "duration": 655,
    "start_time": "2021-10-22T08:25:46.583Z"
   },
   {
    "duration": 23,
    "start_time": "2021-10-22T08:25:53.279Z"
   },
   {
    "duration": 4926,
    "start_time": "2021-10-22T08:25:55.837Z"
   },
   {
    "duration": 22,
    "start_time": "2021-10-22T08:26:30.173Z"
   },
   {
    "duration": 670,
    "start_time": "2021-10-22T08:26:31.435Z"
   },
   {
    "duration": 5,
    "start_time": "2021-10-22T08:26:36.177Z"
   },
   {
    "duration": 228,
    "start_time": "2021-10-22T08:28:44.374Z"
   },
   {
    "duration": 22,
    "start_time": "2021-10-22T08:28:50.887Z"
   },
   {
    "duration": 707,
    "start_time": "2021-10-22T08:28:53.334Z"
   },
   {
    "duration": 5,
    "start_time": "2021-10-22T08:28:56.130Z"
   },
   {
    "duration": 23,
    "start_time": "2021-10-22T08:30:11.143Z"
   },
   {
    "duration": 673,
    "start_time": "2021-10-22T08:30:12.301Z"
   },
   {
    "duration": 25,
    "start_time": "2021-10-22T08:30:32.295Z"
   },
   {
    "duration": 665,
    "start_time": "2021-10-22T08:30:34.131Z"
   },
   {
    "duration": 4664,
    "start_time": "2021-10-22T08:30:36.852Z"
   },
   {
    "duration": 4,
    "start_time": "2021-10-22T08:30:54.971Z"
   },
   {
    "duration": 480,
    "start_time": "2021-10-22T08:31:00.148Z"
   },
   {
    "duration": 4917,
    "start_time": "2021-10-22T08:32:14.332Z"
   },
   {
    "duration": 503,
    "start_time": "2021-10-22T08:32:19.252Z"
   },
   {
    "duration": 681,
    "start_time": "2021-10-22T08:32:19.758Z"
   },
   {
    "duration": 3,
    "start_time": "2021-10-22T08:32:20.442Z"
   },
   {
    "duration": 1695,
    "start_time": "2021-10-22T08:32:20.447Z"
   },
   {
    "duration": 4152,
    "start_time": "2021-10-22T08:32:17.991Z"
   },
   {
    "duration": 4106,
    "start_time": "2021-10-22T08:32:18.038Z"
   },
   {
    "duration": 4103,
    "start_time": "2021-10-22T08:32:18.042Z"
   },
   {
    "duration": 4099,
    "start_time": "2021-10-22T08:32:18.047Z"
   },
   {
    "duration": 4095,
    "start_time": "2021-10-22T08:32:18.052Z"
   },
   {
    "duration": 4093,
    "start_time": "2021-10-22T08:32:18.055Z"
   },
   {
    "duration": 6,
    "start_time": "2021-10-22T08:32:51.617Z"
   },
   {
    "duration": 410,
    "start_time": "2021-10-22T08:33:01.427Z"
   },
   {
    "duration": 355,
    "start_time": "2021-10-22T08:33:08.535Z"
   },
   {
    "duration": 30,
    "start_time": "2021-10-22T08:33:51.408Z"
   },
   {
    "duration": 9,
    "start_time": "2021-10-22T08:35:01.365Z"
   },
   {
    "duration": 16,
    "start_time": "2021-10-22T08:40:59.443Z"
   },
   {
    "duration": 10,
    "start_time": "2021-10-22T08:41:41.034Z"
   },
   {
    "duration": 13,
    "start_time": "2021-10-22T08:42:03.243Z"
   },
   {
    "duration": 380,
    "start_time": "2021-10-22T08:43:53.894Z"
   },
   {
    "duration": 672,
    "start_time": "2021-10-22T08:45:11.867Z"
   },
   {
    "duration": 300,
    "start_time": "2021-10-22T08:47:31.139Z"
   },
   {
    "duration": 298,
    "start_time": "2021-10-22T08:47:57.873Z"
   },
   {
    "duration": 330,
    "start_time": "2021-10-22T08:48:25.528Z"
   },
   {
    "duration": 516,
    "start_time": "2021-10-22T08:50:26.938Z"
   },
   {
    "duration": 9,
    "start_time": "2021-10-22T09:03:42.175Z"
   },
   {
    "duration": 9,
    "start_time": "2021-10-22T09:04:26.329Z"
   },
   {
    "duration": 9,
    "start_time": "2021-10-22T09:04:38.769Z"
   },
   {
    "duration": 9,
    "start_time": "2021-10-22T09:05:07.326Z"
   },
   {
    "duration": 9,
    "start_time": "2021-10-22T09:05:16.108Z"
   },
   {
    "duration": 387,
    "start_time": "2021-10-22T09:05:59.741Z"
   },
   {
    "duration": 13,
    "start_time": "2021-10-22T09:06:14.357Z"
   },
   {
    "duration": 389,
    "start_time": "2021-10-22T09:07:19.155Z"
   },
   {
    "duration": 379,
    "start_time": "2021-10-22T09:07:23.921Z"
   },
   {
    "duration": 507,
    "start_time": "2021-10-22T09:08:31.287Z"
   },
   {
    "duration": 406,
    "start_time": "2021-10-22T09:09:45.550Z"
   },
   {
    "duration": 24,
    "start_time": "2021-10-22T09:09:58.882Z"
   },
   {
    "duration": 9,
    "start_time": "2021-10-22T09:10:15.044Z"
   },
   {
    "duration": 9,
    "start_time": "2021-10-22T09:11:54.795Z"
   },
   {
    "duration": 9,
    "start_time": "2021-10-22T09:12:13.269Z"
   },
   {
    "duration": 175,
    "start_time": "2021-10-22T09:13:39.863Z"
   },
   {
    "duration": 8,
    "start_time": "2021-10-22T09:14:03.094Z"
   },
   {
    "duration": 187,
    "start_time": "2021-10-22T09:14:37.992Z"
   },
   {
    "duration": 411,
    "start_time": "2021-10-22T09:15:40.419Z"
   },
   {
    "duration": 120,
    "start_time": "2021-10-22T09:16:00.338Z"
   },
   {
    "duration": 530,
    "start_time": "2021-10-22T09:16:03.168Z"
   },
   {
    "duration": 192,
    "start_time": "2021-10-22T09:16:19.203Z"
   },
   {
    "duration": 184,
    "start_time": "2021-10-22T09:16:35.847Z"
   },
   {
    "duration": 198,
    "start_time": "2021-10-22T09:16:53.378Z"
   },
   {
    "duration": 214,
    "start_time": "2021-10-22T09:20:13.472Z"
   },
   {
    "duration": 336,
    "start_time": "2021-10-22T09:20:17.452Z"
   },
   {
    "duration": 329,
    "start_time": "2021-10-22T09:21:14.243Z"
   },
   {
    "duration": 414,
    "start_time": "2021-10-22T09:21:23.092Z"
   },
   {
    "duration": 331,
    "start_time": "2021-10-22T09:22:49.918Z"
   },
   {
    "duration": 9,
    "start_time": "2021-10-22T09:23:31.752Z"
   },
   {
    "duration": 9,
    "start_time": "2021-10-22T09:23:44.485Z"
   },
   {
    "duration": 163,
    "start_time": "2021-10-22T09:23:54.407Z"
   },
   {
    "duration": 169,
    "start_time": "2021-10-22T09:24:09.259Z"
   },
   {
    "duration": 176,
    "start_time": "2021-10-22T09:24:16.395Z"
   },
   {
    "duration": 174,
    "start_time": "2021-10-22T09:24:45.264Z"
   },
   {
    "duration": 358,
    "start_time": "2021-10-22T09:24:56.530Z"
   },
   {
    "duration": 663,
    "start_time": "2021-10-22T09:25:26.840Z"
   },
   {
    "duration": 254,
    "start_time": "2021-10-22T09:27:12.315Z"
   },
   {
    "duration": 254,
    "start_time": "2021-10-22T09:27:39.881Z"
   },
   {
    "duration": 628,
    "start_time": "2021-10-22T09:27:52.677Z"
   },
   {
    "duration": 385,
    "start_time": "2021-10-22T09:28:03.938Z"
   },
   {
    "duration": 247,
    "start_time": "2021-10-22T09:29:32.710Z"
   },
   {
    "duration": 251,
    "start_time": "2021-10-22T09:29:36.059Z"
   },
   {
    "duration": 4751,
    "start_time": "2021-10-22T09:30:04.297Z"
   },
   {
    "duration": 338,
    "start_time": "2021-10-22T09:30:09.268Z"
   },
   {
    "duration": 11015,
    "start_time": "2021-10-22T09:30:26.943Z"
   },
   {
    "duration": 120,
    "start_time": "2021-10-22T09:31:12.148Z"
   },
   {
    "duration": 256,
    "start_time": "2021-10-22T09:31:16.688Z"
   },
   {
    "duration": 257,
    "start_time": "2021-10-22T09:31:33.191Z"
   },
   {
    "duration": 282,
    "start_time": "2021-10-22T09:32:15.683Z"
   },
   {
    "duration": 256,
    "start_time": "2021-10-22T09:32:20.550Z"
   },
   {
    "duration": 7,
    "start_time": "2021-10-22T09:32:54.414Z"
   },
   {
    "duration": 474,
    "start_time": "2021-10-22T09:33:21.880Z"
   },
   {
    "duration": 333,
    "start_time": "2021-10-22T09:33:45.447Z"
   },
   {
    "duration": 329,
    "start_time": "2021-10-22T09:34:01.808Z"
   },
   {
    "duration": 26,
    "start_time": "2021-10-22T09:34:16.838Z"
   },
   {
    "duration": 487,
    "start_time": "2021-10-22T09:34:31.928Z"
   },
   {
    "duration": 9,
    "start_time": "2021-10-22T09:34:53.639Z"
   },
   {
    "duration": 10,
    "start_time": "2021-10-22T09:35:38.398Z"
   },
   {
    "duration": 4,
    "start_time": "2021-10-22T09:43:06.460Z"
   },
   {
    "duration": 24,
    "start_time": "2021-10-22T09:43:10.230Z"
   },
   {
    "duration": 23,
    "start_time": "2021-10-22T09:43:31.956Z"
   },
   {
    "duration": 9438,
    "start_time": "2021-10-22T09:44:48.313Z"
   },
   {
    "duration": 2516,
    "start_time": "2021-10-22T09:49:16.369Z"
   },
   {
    "duration": 1059,
    "start_time": "2021-10-22T09:49:26.734Z"
   },
   {
    "duration": 5187,
    "start_time": "2021-10-22T09:49:43.462Z"
   },
   {
    "duration": 9992,
    "start_time": "2021-10-22T09:49:58.091Z"
   },
   {
    "duration": 13,
    "start_time": "2021-10-22T09:51:16.316Z"
   },
   {
    "duration": 14,
    "start_time": "2021-10-22T09:52:16.128Z"
   },
   {
    "duration": 14,
    "start_time": "2021-10-22T09:52:32.243Z"
   },
   {
    "duration": 13,
    "start_time": "2021-10-22T09:52:41.173Z"
   },
   {
    "duration": 11,
    "start_time": "2021-10-22T09:53:23.744Z"
   },
   {
    "duration": 4,
    "start_time": "2021-10-22T09:54:01.326Z"
   },
   {
    "duration": 9,
    "start_time": "2021-10-22T09:54:07.424Z"
   },
   {
    "duration": 10,
    "start_time": "2021-10-22T09:54:23.995Z"
   },
   {
    "duration": 11,
    "start_time": "2021-10-22T09:59:37.875Z"
   },
   {
    "duration": 10,
    "start_time": "2021-10-22T10:00:16.982Z"
   },
   {
    "duration": 10,
    "start_time": "2021-10-22T10:04:43.429Z"
   },
   {
    "duration": 15,
    "start_time": "2021-10-22T10:05:10.340Z"
   },
   {
    "duration": 14,
    "start_time": "2021-10-22T10:05:54.020Z"
   },
   {
    "duration": 13,
    "start_time": "2021-10-22T10:06:12.848Z"
   },
   {
    "duration": 13,
    "start_time": "2021-10-22T10:06:36.919Z"
   },
   {
    "duration": 13,
    "start_time": "2021-10-22T10:07:23.597Z"
   },
   {
    "duration": 9,
    "start_time": "2021-10-22T10:07:37.627Z"
   },
   {
    "duration": 9,
    "start_time": "2021-10-22T10:07:52.432Z"
   },
   {
    "duration": 9,
    "start_time": "2021-10-22T10:09:46.480Z"
   },
   {
    "duration": 10,
    "start_time": "2021-10-22T10:14:23.362Z"
   },
   {
    "duration": 353,
    "start_time": "2021-10-22T10:15:52.565Z"
   },
   {
    "duration": 305,
    "start_time": "2021-10-22T10:17:19.200Z"
   },
   {
    "duration": 105,
    "start_time": "2021-10-22T10:18:52.884Z"
   },
   {
    "duration": 423,
    "start_time": "2021-10-22T10:22:19.034Z"
   },
   {
    "duration": 123,
    "start_time": "2021-10-22T10:22:26.930Z"
   },
   {
    "duration": 10,
    "start_time": "2021-10-22T10:22:34.060Z"
   },
   {
    "duration": 222,
    "start_time": "2021-10-22T10:23:15.920Z"
   },
   {
    "duration": 501,
    "start_time": "2021-10-22T10:23:23.153Z"
   },
   {
    "duration": 470,
    "start_time": "2021-10-22T10:23:39.313Z"
   },
   {
    "duration": 110,
    "start_time": "2021-10-22T10:23:53.917Z"
   },
   {
    "duration": 9,
    "start_time": "2021-10-22T10:25:44.829Z"
   },
   {
    "duration": 15,
    "start_time": "2021-10-22T10:26:05.939Z"
   },
   {
    "duration": 473,
    "start_time": "2021-10-22T10:27:35.496Z"
   },
   {
    "duration": 369,
    "start_time": "2021-10-22T10:27:42.205Z"
   },
   {
    "duration": 351,
    "start_time": "2021-10-22T10:29:22.851Z"
   },
   {
    "duration": 504,
    "start_time": "2021-10-22T10:31:31.267Z"
   },
   {
    "duration": 16,
    "start_time": "2021-10-22T10:31:41.422Z"
   },
   {
    "duration": 20,
    "start_time": "2021-10-22T10:33:11.277Z"
   },
   {
    "duration": 467,
    "start_time": "2021-10-22T10:34:25.570Z"
   },
   {
    "duration": 21,
    "start_time": "2021-10-22T10:34:29.033Z"
   },
   {
    "duration": 20,
    "start_time": "2021-10-22T10:34:34.724Z"
   },
   {
    "duration": 355,
    "start_time": "2021-10-22T10:34:43.596Z"
   },
   {
    "duration": 20,
    "start_time": "2021-10-22T10:34:48.404Z"
   },
   {
    "duration": 17,
    "start_time": "2021-10-22T10:35:02.175Z"
   },
   {
    "duration": 195,
    "start_time": "2021-10-22T10:35:05.492Z"
   },
   {
    "duration": 572,
    "start_time": "2021-10-22T10:35:34.581Z"
   },
   {
    "duration": 21,
    "start_time": "2021-10-22T10:35:49.990Z"
   },
   {
    "duration": 1404,
    "start_time": "2021-10-22T10:42:42.757Z"
   },
   {
    "duration": 14,
    "start_time": "2021-10-22T10:43:09.289Z"
   },
   {
    "duration": 19,
    "start_time": "2021-10-22T10:43:15.585Z"
   },
   {
    "duration": 9098,
    "start_time": "2021-10-22T10:45:22.395Z"
   },
   {
    "duration": 17,
    "start_time": "2021-10-22T10:46:18.712Z"
   },
   {
    "duration": 21,
    "start_time": "2021-10-22T10:46:26.760Z"
   },
   {
    "duration": 122,
    "start_time": "2021-10-22T10:49:04.430Z"
   },
   {
    "duration": 22,
    "start_time": "2021-10-22T10:49:50.174Z"
   },
   {
    "duration": 20,
    "start_time": "2021-10-22T10:50:25.116Z"
   },
   {
    "duration": 22,
    "start_time": "2021-10-22T10:50:33.079Z"
   },
   {
    "duration": 20,
    "start_time": "2021-10-22T10:50:40.965Z"
   },
   {
    "duration": 23,
    "start_time": "2021-10-22T10:52:52.088Z"
   },
   {
    "duration": 22,
    "start_time": "2021-10-22T10:53:17.782Z"
   },
   {
    "duration": 22,
    "start_time": "2021-10-22T10:53:36.323Z"
   },
   {
    "duration": 22,
    "start_time": "2021-10-22T10:54:41.191Z"
   },
   {
    "duration": 19,
    "start_time": "2021-10-22T10:55:06.058Z"
   },
   {
    "duration": 20,
    "start_time": "2021-10-22T10:55:11.377Z"
   },
   {
    "duration": 122,
    "start_time": "2021-10-22T10:57:18.341Z"
   },
   {
    "duration": 20,
    "start_time": "2021-10-22T10:57:45.548Z"
   },
   {
    "duration": 21,
    "start_time": "2021-10-22T10:58:00.867Z"
   },
   {
    "duration": 21,
    "start_time": "2021-10-22T10:59:05.949Z"
   },
   {
    "duration": 16,
    "start_time": "2021-10-22T11:01:11.018Z"
   },
   {
    "duration": 22,
    "start_time": "2021-10-22T11:01:18.212Z"
   },
   {
    "duration": 158,
    "start_time": "2021-10-22T11:02:57.057Z"
   },
   {
    "duration": 32,
    "start_time": "2021-10-22T11:03:04.779Z"
   },
   {
    "duration": 23,
    "start_time": "2021-10-22T11:08:30.290Z"
   },
   {
    "duration": 391,
    "start_time": "2021-10-22T11:09:48.090Z"
   },
   {
    "duration": 406,
    "start_time": "2021-10-22T11:10:44.186Z"
   },
   {
    "duration": 15,
    "start_time": "2021-10-22T11:11:04.779Z"
   },
   {
    "duration": 396,
    "start_time": "2021-10-22T11:12:06.551Z"
   },
   {
    "duration": 20,
    "start_time": "2021-10-22T11:12:15.200Z"
   },
   {
    "duration": 20,
    "start_time": "2021-10-22T11:13:03.296Z"
   },
   {
    "duration": 399,
    "start_time": "2021-10-22T11:13:42.486Z"
   },
   {
    "duration": 15,
    "start_time": "2021-10-22T11:13:54.534Z"
   },
   {
    "duration": 117,
    "start_time": "2021-10-22T11:14:17.351Z"
   },
   {
    "duration": 29,
    "start_time": "2021-10-22T11:14:31.026Z"
   },
   {
    "duration": 14,
    "start_time": "2021-10-22T11:14:54.380Z"
   },
   {
    "duration": 391,
    "start_time": "2021-10-22T11:15:09.777Z"
   },
   {
    "duration": 398,
    "start_time": "2021-10-22T11:15:53.256Z"
   },
   {
    "duration": 390,
    "start_time": "2021-10-22T11:16:06.162Z"
   },
   {
    "duration": 14,
    "start_time": "2021-10-22T11:16:31.962Z"
   },
   {
    "duration": 15,
    "start_time": "2021-10-22T11:16:40.704Z"
   },
   {
    "duration": 391,
    "start_time": "2021-10-22T11:17:58.573Z"
   },
   {
    "duration": 30,
    "start_time": "2021-10-22T11:18:15.327Z"
   },
   {
    "duration": 20,
    "start_time": "2021-10-22T11:18:52.596Z"
   },
   {
    "duration": 23,
    "start_time": "2021-10-22T11:19:41.036Z"
   },
   {
    "duration": 25,
    "start_time": "2021-10-22T11:21:12.757Z"
   },
   {
    "duration": 2109,
    "start_time": "2021-10-22T11:22:04.668Z"
   },
   {
    "duration": 3,
    "start_time": "2021-10-22T11:22:23.690Z"
   },
   {
    "duration": 61,
    "start_time": "2021-10-22T11:22:26.184Z"
   },
   {
    "duration": 14,
    "start_time": "2021-10-22T11:22:30.046Z"
   },
   {
    "duration": 4,
    "start_time": "2021-10-22T11:22:33.039Z"
   },
   {
    "duration": 10,
    "start_time": "2021-10-22T11:22:36.036Z"
   },
   {
    "duration": 5,
    "start_time": "2021-10-22T11:22:38.961Z"
   },
   {
    "duration": 16,
    "start_time": "2021-10-22T11:22:41.271Z"
   },
   {
    "duration": 8,
    "start_time": "2021-10-22T11:22:44.370Z"
   },
   {
    "duration": 7,
    "start_time": "2021-10-22T11:22:55.598Z"
   },
   {
    "duration": 6,
    "start_time": "2021-10-22T11:23:06.445Z"
   },
   {
    "duration": 261,
    "start_time": "2021-10-22T11:23:08.465Z"
   },
   {
    "duration": 328,
    "start_time": "2021-10-22T11:23:11.707Z"
   },
   {
    "duration": 9,
    "start_time": "2021-10-22T11:23:14.707Z"
   },
   {
    "duration": 628,
    "start_time": "2021-10-22T11:25:00.651Z"
   },
   {
    "duration": 10,
    "start_time": "2021-10-22T11:25:04.138Z"
   },
   {
    "duration": 5,
    "start_time": "2021-10-22T11:25:07.250Z"
   },
   {
    "duration": 10,
    "start_time": "2021-10-22T11:25:09.529Z"
   },
   {
    "duration": 18,
    "start_time": "2021-10-22T11:25:12.828Z"
   },
   {
    "duration": 19,
    "start_time": "2021-10-22T11:25:38.208Z"
   },
   {
    "duration": 29,
    "start_time": "2021-10-22T11:25:38.229Z"
   },
   {
    "duration": 5,
    "start_time": "2021-10-22T11:25:38.260Z"
   },
   {
    "duration": 3,
    "start_time": "2021-10-22T11:25:38.267Z"
   },
   {
    "duration": 4823,
    "start_time": "2021-10-22T11:25:38.272Z"
   },
   {
    "duration": 14,
    "start_time": "2021-10-22T11:25:43.097Z"
   },
   {
    "duration": 14,
    "start_time": "2021-10-22T11:25:43.113Z"
   },
   {
    "duration": 224,
    "start_time": "2021-10-22T11:25:43.129Z"
   },
   {
    "duration": 737,
    "start_time": "2021-10-22T11:25:43.355Z"
   },
   {
    "duration": 4,
    "start_time": "2021-10-22T11:25:44.094Z"
   },
   {
    "duration": 182,
    "start_time": "2021-10-22T11:25:44.100Z"
   },
   {
    "duration": 164,
    "start_time": "2021-10-22T11:25:44.284Z"
   },
   {
    "duration": 41,
    "start_time": "2021-10-22T11:25:44.450Z"
   },
   {
    "duration": 20,
    "start_time": "2021-10-22T11:25:44.492Z"
   },
   {
    "duration": 362,
    "start_time": "2021-10-22T11:25:44.514Z"
   },
   {
    "duration": 592,
    "start_time": "2021-10-22T11:25:44.878Z"
   },
   {
    "duration": 28,
    "start_time": "2021-10-22T11:31:34.548Z"
   },
   {
    "duration": 14,
    "start_time": "2021-10-22T11:34:24.088Z"
   },
   {
    "duration": 711,
    "start_time": "2021-10-22T11:39:17.795Z"
   },
   {
    "duration": 4,
    "start_time": "2021-10-22T11:39:22.250Z"
   },
   {
    "duration": 4,
    "start_time": "2021-10-22T11:41:03.145Z"
   },
   {
    "duration": 3,
    "start_time": "2021-10-22T11:41:27.882Z"
   },
   {
    "duration": 715,
    "start_time": "2021-10-22T11:42:44.332Z"
   },
   {
    "duration": 4,
    "start_time": "2021-10-22T11:42:51.958Z"
   },
   {
    "duration": 3,
    "start_time": "2021-10-22T11:43:04.487Z"
   },
   {
    "duration": 130,
    "start_time": "2021-10-22T11:46:40.953Z"
   },
   {
    "duration": 474,
    "start_time": "2021-10-22T11:46:48.356Z"
   },
   {
    "duration": 4,
    "start_time": "2021-10-22T11:46:59.447Z"
   },
   {
    "duration": 539,
    "start_time": "2021-10-22T11:47:11.568Z"
   },
   {
    "duration": 3,
    "start_time": "2021-10-22T11:47:17.025Z"
   },
   {
    "duration": 28,
    "start_time": "2021-10-22T11:47:39.914Z"
   },
   {
    "duration": 35,
    "start_time": "2021-10-22T11:48:08.955Z"
   },
   {
    "duration": 137,
    "start_time": "2021-10-22T11:49:58.747Z"
   },
   {
    "duration": 4,
    "start_time": "2021-10-22T11:51:03.915Z"
   },
   {
    "duration": 41,
    "start_time": "2021-10-22T11:51:09.278Z"
   },
   {
    "duration": 4,
    "start_time": "2021-10-22T11:51:18.603Z"
   },
   {
    "duration": 4,
    "start_time": "2021-10-22T11:51:44.950Z"
   },
   {
    "duration": 4,
    "start_time": "2021-10-22T11:51:47.443Z"
   },
   {
    "duration": 1820,
    "start_time": "2021-10-22T11:51:50.812Z"
   },
   {
    "duration": 122,
    "start_time": "2021-10-22T11:52:24.506Z"
   },
   {
    "duration": 485,
    "start_time": "2021-10-22T11:52:48.922Z"
   },
   {
    "duration": 3,
    "start_time": "2021-10-22T11:55:45.673Z"
   },
   {
    "duration": 4,
    "start_time": "2021-10-22T11:55:49.494Z"
   },
   {
    "duration": 77,
    "start_time": "2021-10-22T11:55:53.167Z"
   },
   {
    "duration": 4,
    "start_time": "2021-10-22T11:56:45.471Z"
   },
   {
    "duration": 2,
    "start_time": "2021-10-22T11:56:59.994Z"
   },
   {
    "duration": 2,
    "start_time": "2021-10-22T11:57:04.313Z"
   },
   {
    "duration": 6,
    "start_time": "2021-10-22T11:58:03.234Z"
   },
   {
    "duration": 34,
    "start_time": "2021-10-22T11:58:11.459Z"
   },
   {
    "duration": 5017,
    "start_time": "2021-10-22T11:58:16.841Z"
   },
   {
    "duration": 12,
    "start_time": "2021-10-22T11:58:39.217Z"
   },
   {
    "duration": 14,
    "start_time": "2021-10-22T11:58:41.352Z"
   },
   {
    "duration": 10,
    "start_time": "2021-10-22T11:58:44.611Z"
   },
   {
    "duration": 9,
    "start_time": "2021-10-22T11:58:59.760Z"
   },
   {
    "duration": 5,
    "start_time": "2021-10-22T11:59:12.061Z"
   },
   {
    "duration": 713,
    "start_time": "2021-10-22T11:59:15.537Z"
   },
   {
    "duration": 4,
    "start_time": "2021-10-22T11:59:22.743Z"
   },
   {
    "duration": 4,
    "start_time": "2021-10-22T11:59:29.088Z"
   },
   {
    "duration": 38,
    "start_time": "2021-10-22T11:59:42.502Z"
   },
   {
    "duration": 14,
    "start_time": "2021-10-22T12:00:04.011Z"
   },
   {
    "duration": 124,
    "start_time": "2021-10-22T12:05:38.209Z"
   },
   {
    "duration": 3,
    "start_time": "2021-10-22T12:05:43.011Z"
   },
   {
    "duration": 2,
    "start_time": "2021-10-22T12:05:45.825Z"
   },
   {
    "duration": 15,
    "start_time": "2021-10-22T12:05:47.745Z"
   },
   {
    "duration": 15,
    "start_time": "2021-10-22T12:05:56.432Z"
   },
   {
    "duration": 15,
    "start_time": "2021-10-22T12:07:37.946Z"
   },
   {
    "duration": 27,
    "start_time": "2021-10-22T12:07:59.852Z"
   },
   {
    "duration": 1363,
    "start_time": "2021-10-22T15:50:02.247Z"
   },
   {
    "duration": 66,
    "start_time": "2021-10-22T15:50:03.612Z"
   },
   {
    "duration": 11,
    "start_time": "2021-10-22T15:50:03.680Z"
   },
   {
    "duration": 10,
    "start_time": "2021-10-22T15:50:03.693Z"
   },
   {
    "duration": 20,
    "start_time": "2021-10-22T15:50:03.705Z"
   },
   {
    "duration": 5,
    "start_time": "2021-10-22T15:50:03.727Z"
   },
   {
    "duration": 36,
    "start_time": "2021-10-22T15:50:03.733Z"
   },
   {
    "duration": 7,
    "start_time": "2021-10-22T15:50:03.771Z"
   },
   {
    "duration": 6,
    "start_time": "2021-10-22T15:50:03.781Z"
   },
   {
    "duration": 379,
    "start_time": "2021-10-22T15:50:03.789Z"
   },
   {
    "duration": 380,
    "start_time": "2021-10-22T15:50:04.171Z"
   },
   {
    "duration": 20,
    "start_time": "2021-10-22T15:50:04.552Z"
   },
   {
    "duration": 5,
    "start_time": "2021-10-22T15:50:04.574Z"
   },
   {
    "duration": 15,
    "start_time": "2021-10-22T15:50:04.581Z"
   },
   {
    "duration": 20,
    "start_time": "2021-10-22T15:50:04.597Z"
   },
   {
    "duration": 46,
    "start_time": "2021-10-22T15:50:04.619Z"
   },
   {
    "duration": 29,
    "start_time": "2021-10-22T15:50:04.667Z"
   },
   {
    "duration": 7,
    "start_time": "2021-10-22T15:50:04.698Z"
   },
   {
    "duration": 10,
    "start_time": "2021-10-22T15:50:04.707Z"
   },
   {
    "duration": 4904,
    "start_time": "2021-10-22T15:50:04.719Z"
   },
   {
    "duration": 16,
    "start_time": "2021-10-22T15:50:09.625Z"
   },
   {
    "duration": 31,
    "start_time": "2021-10-22T15:50:09.643Z"
   },
   {
    "duration": 756,
    "start_time": "2021-10-22T15:50:09.676Z"
   },
   {
    "duration": 4877,
    "start_time": "2021-10-22T15:50:05.557Z"
   },
   {
    "duration": 4865,
    "start_time": "2021-10-22T15:50:05.569Z"
   },
   {
    "duration": 4850,
    "start_time": "2021-10-22T15:50:05.585Z"
   },
   {
    "duration": 4847,
    "start_time": "2021-10-22T15:50:05.589Z"
   },
   {
    "duration": 4844,
    "start_time": "2021-10-22T15:50:05.594Z"
   },
   {
    "duration": 4841,
    "start_time": "2021-10-22T15:50:05.598Z"
   },
   {
    "duration": 4838,
    "start_time": "2021-10-22T15:50:05.601Z"
   },
   {
    "duration": 4836,
    "start_time": "2021-10-22T15:50:05.605Z"
   },
   {
    "duration": 4833,
    "start_time": "2021-10-22T15:50:05.608Z"
   },
   {
    "duration": 4830,
    "start_time": "2021-10-22T15:50:05.612Z"
   },
   {
    "duration": 25,
    "start_time": "2021-10-22T15:51:57.897Z"
   },
   {
    "duration": 286,
    "start_time": "2021-10-22T15:57:43.114Z"
   },
   {
    "duration": 9,
    "start_time": "2021-10-22T15:58:03.140Z"
   },
   {
    "duration": 7,
    "start_time": "2021-10-22T15:58:19.581Z"
   },
   {
    "duration": 680,
    "start_time": "2021-10-22T15:58:35.690Z"
   },
   {
    "duration": 4,
    "start_time": "2021-10-22T15:58:41.963Z"
   },
   {
    "duration": 4,
    "start_time": "2021-10-22T16:00:13.612Z"
   },
   {
    "duration": 3,
    "start_time": "2021-10-22T16:00:29.577Z"
   },
   {
    "duration": 6,
    "start_time": "2021-10-22T16:00:53.069Z"
   },
   {
    "duration": 4,
    "start_time": "2021-10-22T16:01:46.654Z"
   },
   {
    "duration": 4,
    "start_time": "2021-10-22T16:01:58.662Z"
   },
   {
    "duration": 23,
    "start_time": "2021-10-22T16:02:01.787Z"
   },
   {
    "duration": 165,
    "start_time": "2021-10-22T16:02:06.673Z"
   },
   {
    "duration": 29,
    "start_time": "2021-10-22T16:09:18.201Z"
   },
   {
    "duration": 27,
    "start_time": "2021-10-22T16:10:43.083Z"
   },
   {
    "duration": 205,
    "start_time": "2021-10-22T16:11:12.450Z"
   },
   {
    "duration": 4,
    "start_time": "2021-10-22T16:11:19.192Z"
   },
   {
    "duration": 17,
    "start_time": "2021-10-22T16:11:21.236Z"
   },
   {
    "duration": 6729,
    "start_time": "2021-10-22T16:19:53.228Z"
   },
   {
    "duration": 209,
    "start_time": "2021-10-22T16:20:16.234Z"
   },
   {
    "duration": 274,
    "start_time": "2021-10-22T16:20:30.759Z"
   },
   {
    "duration": 101,
    "start_time": "2021-10-22T16:20:59.430Z"
   },
   {
    "duration": 240,
    "start_time": "2021-10-22T16:21:09.760Z"
   },
   {
    "duration": 435,
    "start_time": "2021-10-22T16:21:42.716Z"
   },
   {
    "duration": 269,
    "start_time": "2021-10-22T16:22:04.227Z"
   },
   {
    "duration": 259,
    "start_time": "2021-10-22T16:22:15.222Z"
   },
   {
    "duration": 272,
    "start_time": "2021-10-22T16:22:41.976Z"
   },
   {
    "duration": 428,
    "start_time": "2021-10-22T16:23:08.719Z"
   },
   {
    "duration": 265,
    "start_time": "2021-10-22T16:29:51.650Z"
   },
   {
    "duration": 274,
    "start_time": "2021-10-22T16:30:15.915Z"
   },
   {
    "duration": 277,
    "start_time": "2021-10-22T16:31:50.820Z"
   },
   {
    "duration": 4,
    "start_time": "2021-10-22T16:32:05.809Z"
   },
   {
    "duration": 159,
    "start_time": "2021-10-22T16:32:26.661Z"
   },
   {
    "duration": 26,
    "start_time": "2021-10-22T16:32:34.982Z"
   },
   {
    "duration": 22,
    "start_time": "2021-10-22T16:32:40.805Z"
   },
   {
    "duration": 23,
    "start_time": "2021-10-22T16:32:46.511Z"
   },
   {
    "duration": 63,
    "start_time": "2021-10-22T16:34:24.571Z"
   },
   {
    "duration": 62,
    "start_time": "2021-10-22T16:35:29.674Z"
   },
   {
    "duration": 283,
    "start_time": "2021-10-22T16:36:18.747Z"
   },
   {
    "duration": 120,
    "start_time": "2021-10-22T16:36:46.727Z"
   },
   {
    "duration": 63,
    "start_time": "2021-10-22T16:37:48.960Z"
   },
   {
    "duration": 309,
    "start_time": "2021-10-22T16:38:53.284Z"
   },
   {
    "duration": 265,
    "start_time": "2021-10-22T16:39:15.900Z"
   },
   {
    "duration": 1980,
    "start_time": "2021-10-22T16:39:27.783Z"
   },
   {
    "duration": 1958,
    "start_time": "2021-10-22T16:39:51.523Z"
   },
   {
    "duration": 375,
    "start_time": "2021-10-22T16:40:12.699Z"
   },
   {
    "duration": 343,
    "start_time": "2021-10-22T16:42:02.579Z"
   },
   {
    "duration": 628,
    "start_time": "2021-10-22T16:42:21.521Z"
   },
   {
    "duration": 311,
    "start_time": "2021-10-22T16:42:53.888Z"
   },
   {
    "duration": 1677,
    "start_time": "2021-10-22T16:43:04.106Z"
   },
   {
    "duration": 3,
    "start_time": "2021-10-22T16:51:53.856Z"
   },
   {
    "duration": 72,
    "start_time": "2021-10-22T16:51:53.862Z"
   },
   {
    "duration": 11,
    "start_time": "2021-10-22T16:51:53.936Z"
   },
   {
    "duration": 15,
    "start_time": "2021-10-22T16:51:53.949Z"
   },
   {
    "duration": 10,
    "start_time": "2021-10-22T16:51:53.966Z"
   },
   {
    "duration": 4,
    "start_time": "2021-10-22T16:51:53.978Z"
   },
   {
    "duration": 18,
    "start_time": "2021-10-22T16:51:53.984Z"
   },
   {
    "duration": 8,
    "start_time": "2021-10-22T16:51:54.003Z"
   },
   {
    "duration": 8,
    "start_time": "2021-10-22T16:51:54.013Z"
   },
   {
    "duration": 301,
    "start_time": "2021-10-22T16:51:54.023Z"
   },
   {
    "duration": 348,
    "start_time": "2021-10-22T16:51:54.326Z"
   },
   {
    "duration": 10,
    "start_time": "2021-10-22T16:51:54.676Z"
   },
   {
    "duration": 4,
    "start_time": "2021-10-22T16:51:54.688Z"
   },
   {
    "duration": 15,
    "start_time": "2021-10-22T16:51:54.693Z"
   },
   {
    "duration": 19,
    "start_time": "2021-10-22T16:51:54.709Z"
   },
   {
    "duration": 60,
    "start_time": "2021-10-22T16:51:54.729Z"
   },
   {
    "duration": 42,
    "start_time": "2021-10-22T16:51:54.791Z"
   },
   {
    "duration": 5,
    "start_time": "2021-10-22T16:51:54.835Z"
   },
   {
    "duration": 37,
    "start_time": "2021-10-22T16:51:54.841Z"
   },
   {
    "duration": 4965,
    "start_time": "2021-10-22T16:51:54.880Z"
   },
   {
    "duration": 29,
    "start_time": "2021-10-22T16:51:59.847Z"
   },
   {
    "duration": 13,
    "start_time": "2021-10-22T16:51:59.878Z"
   },
   {
    "duration": 207,
    "start_time": "2021-10-22T16:51:59.893Z"
   },
   {
    "duration": 704,
    "start_time": "2021-10-22T16:52:00.102Z"
   },
   {
    "duration": 4,
    "start_time": "2021-10-22T16:52:00.808Z"
   },
   {
    "duration": 18,
    "start_time": "2021-10-22T16:52:00.814Z"
   },
   {
    "duration": 36,
    "start_time": "2021-10-22T16:52:00.836Z"
   },
   {
    "duration": 308,
    "start_time": "2021-10-22T16:52:00.874Z"
   },
   {
    "duration": 4,
    "start_time": "2021-10-22T16:52:01.184Z"
   },
   {
    "duration": 313,
    "start_time": "2021-10-22T16:52:01.189Z"
   },
   {
    "duration": 28,
    "start_time": "2021-10-22T16:52:01.504Z"
   },
   {
    "duration": 38,
    "start_time": "2021-10-22T16:52:01.533Z"
   },
   {
    "duration": 1840,
    "start_time": "2021-10-22T16:52:01.573Z"
   },
   {
    "duration": 5233,
    "start_time": "2021-10-22T16:51:58.182Z"
   },
   {
    "duration": 561,
    "start_time": "2021-10-22T16:58:16.413Z"
   },
   {
    "duration": 521,
    "start_time": "2021-10-22T16:58:31.251Z"
   },
   {
    "duration": 984,
    "start_time": "2021-10-22T16:59:06.551Z"
   },
   {
    "duration": 990,
    "start_time": "2021-10-22T17:03:21.317Z"
   },
   {
    "duration": 1090,
    "start_time": "2021-10-22T17:03:29.977Z"
   },
   {
    "duration": 1108,
    "start_time": "2021-10-22T17:03:52.230Z"
   },
   {
    "duration": 1166,
    "start_time": "2021-10-22T17:04:39.562Z"
   },
   {
    "duration": 1146,
    "start_time": "2021-10-22T17:05:16.339Z"
   },
   {
    "duration": 1172,
    "start_time": "2021-10-22T17:06:09.260Z"
   },
   {
    "duration": 502,
    "start_time": "2021-10-22T17:06:59.035Z"
   },
   {
    "duration": 520,
    "start_time": "2021-10-22T17:08:10.098Z"
   },
   {
    "duration": 1312,
    "start_time": "2021-10-22T17:09:15.832Z"
   },
   {
    "duration": 171,
    "start_time": "2021-10-22T17:10:30.782Z"
   },
   {
    "duration": 83,
    "start_time": "2021-10-22T17:10:48.732Z"
   },
   {
    "duration": 96,
    "start_time": "2021-10-22T17:12:17.534Z"
   },
   {
    "duration": 1229,
    "start_time": "2021-10-22T17:12:23.456Z"
   },
   {
    "duration": 1539,
    "start_time": "2021-10-22T17:12:42.925Z"
   },
   {
    "duration": 1330,
    "start_time": "2021-10-22T17:13:04.409Z"
   },
   {
    "duration": 1431,
    "start_time": "2021-10-22T17:15:25.070Z"
   },
   {
    "duration": 1181,
    "start_time": "2021-10-22T17:15:44.414Z"
   },
   {
    "duration": 1035,
    "start_time": "2021-10-22T17:20:21.122Z"
   },
   {
    "duration": 692,
    "start_time": "2021-10-22T17:20:37.474Z"
   },
   {
    "duration": 1569,
    "start_time": "2021-10-22T17:57:38.666Z"
   },
   {
    "duration": 1326,
    "start_time": "2021-10-22T18:00:19.984Z"
   },
   {
    "duration": 623,
    "start_time": "2021-10-22T18:01:31.176Z"
   },
   {
    "duration": 661,
    "start_time": "2021-10-22T18:01:37.760Z"
   },
   {
    "duration": 1539,
    "start_time": "2021-10-22T18:02:05.151Z"
   },
   {
    "duration": 547,
    "start_time": "2021-10-22T18:02:12.691Z"
   },
   {
    "duration": 714,
    "start_time": "2021-10-22T18:03:16.460Z"
   },
   {
    "duration": 847,
    "start_time": "2021-10-22T18:05:40.116Z"
   },
   {
    "duration": 1426,
    "start_time": "2021-10-22T18:05:48.298Z"
   },
   {
    "duration": 1001,
    "start_time": "2021-10-22T18:05:54.317Z"
   },
   {
    "duration": 876,
    "start_time": "2021-10-22T18:06:02.178Z"
   },
   {
    "duration": 1375,
    "start_time": "2021-10-22T18:06:06.956Z"
   },
   {
    "duration": 653,
    "start_time": "2021-10-22T18:06:15.767Z"
   },
   {
    "duration": 996,
    "start_time": "2021-10-22T18:06:25.936Z"
   },
   {
    "duration": 666,
    "start_time": "2021-10-22T18:06:40.207Z"
   },
   {
    "duration": 1546,
    "start_time": "2021-10-22T18:07:11.321Z"
   },
   {
    "duration": 1617,
    "start_time": "2021-10-22T18:07:23.453Z"
   },
   {
    "duration": 1327,
    "start_time": "2021-10-22T18:07:31.393Z"
   },
   {
    "duration": 1923,
    "start_time": "2021-10-22T18:07:58.027Z"
   },
   {
    "duration": 1006,
    "start_time": "2021-10-22T18:08:24.700Z"
   },
   {
    "duration": 317,
    "start_time": "2021-10-22T18:09:01.125Z"
   },
   {
    "duration": 85,
    "start_time": "2021-10-22T18:09:56.731Z"
   },
   {
    "duration": 1405,
    "start_time": "2021-10-22T18:32:10.591Z"
   },
   {
    "duration": 67,
    "start_time": "2021-10-22T18:32:11.999Z"
   },
   {
    "duration": 13,
    "start_time": "2021-10-22T18:32:12.068Z"
   },
   {
    "duration": 18,
    "start_time": "2021-10-22T18:32:12.083Z"
   },
   {
    "duration": 27,
    "start_time": "2021-10-22T18:32:12.103Z"
   },
   {
    "duration": 25,
    "start_time": "2021-10-22T18:32:12.132Z"
   },
   {
    "duration": 37,
    "start_time": "2021-10-22T18:32:12.159Z"
   },
   {
    "duration": 8,
    "start_time": "2021-10-22T18:32:12.199Z"
   },
   {
    "duration": 24,
    "start_time": "2021-10-22T18:32:12.209Z"
   },
   {
    "duration": 377,
    "start_time": "2021-10-22T18:32:12.235Z"
   },
   {
    "duration": 355,
    "start_time": "2021-10-22T18:32:12.614Z"
   },
   {
    "duration": 9,
    "start_time": "2021-10-22T18:32:12.971Z"
   },
   {
    "duration": 8,
    "start_time": "2021-10-22T18:32:12.982Z"
   },
   {
    "duration": 27,
    "start_time": "2021-10-22T18:32:12.991Z"
   },
   {
    "duration": 36,
    "start_time": "2021-10-22T18:32:13.020Z"
   },
   {
    "duration": 31,
    "start_time": "2021-10-22T18:32:13.059Z"
   },
   {
    "duration": 34,
    "start_time": "2021-10-22T18:32:13.092Z"
   },
   {
    "duration": 7,
    "start_time": "2021-10-22T18:32:13.128Z"
   },
   {
    "duration": 27,
    "start_time": "2021-10-22T18:32:13.137Z"
   },
   {
    "duration": 5500,
    "start_time": "2021-10-22T18:32:13.166Z"
   },
   {
    "duration": 20,
    "start_time": "2021-10-22T18:32:18.668Z"
   },
   {
    "duration": 12,
    "start_time": "2021-10-22T18:32:18.690Z"
   },
   {
    "duration": 194,
    "start_time": "2021-10-22T18:32:18.705Z"
   },
   {
    "duration": 727,
    "start_time": "2021-10-22T18:32:18.901Z"
   },
   {
    "duration": 4,
    "start_time": "2021-10-22T18:32:19.631Z"
   },
   {
    "duration": 26,
    "start_time": "2021-10-22T18:32:19.638Z"
   },
   {
    "duration": 29,
    "start_time": "2021-10-22T18:32:19.668Z"
   },
   {
    "duration": 1456,
    "start_time": "2021-10-22T18:32:19.698Z"
   },
   {
    "duration": 793,
    "start_time": "2021-10-22T18:32:21.156Z"
   },
   {
    "duration": 39,
    "start_time": "2021-10-22T18:32:21.951Z"
   },
   {
    "duration": 23,
    "start_time": "2021-10-22T18:32:21.992Z"
   },
   {
    "duration": 92,
    "start_time": "2021-10-22T18:32:22.016Z"
   },
   {
    "duration": 1275,
    "start_time": "2021-10-22T18:32:20.835Z"
   },
   {
    "duration": 4,
    "start_time": "2021-10-22T18:34:12.084Z"
   },
   {
    "duration": 14,
    "start_time": "2021-10-22T18:34:16.581Z"
   },
   {
    "duration": 22,
    "start_time": "2021-10-22T18:34:23.488Z"
   },
   {
    "duration": 22,
    "start_time": "2021-10-22T18:34:26.418Z"
   },
   {
    "duration": 30,
    "start_time": "2021-10-22T18:34:32.328Z"
   },
   {
    "duration": 5,
    "start_time": "2021-10-22T18:34:36.775Z"
   },
   {
    "duration": 5,
    "start_time": "2021-10-22T18:34:56.227Z"
   },
   {
    "duration": 700,
    "start_time": "2021-10-22T18:34:59.354Z"
   },
   {
    "duration": 4,
    "start_time": "2021-10-22T18:35:03.217Z"
   },
   {
    "duration": 5,
    "start_time": "2021-10-22T18:35:55.983Z"
   },
   {
    "duration": 5,
    "start_time": "2021-10-22T18:38:55.682Z"
   },
   {
    "duration": 5,
    "start_time": "2021-10-22T18:40:05.163Z"
   },
   {
    "duration": 11,
    "start_time": "2021-10-22T18:40:05.170Z"
   },
   {
    "duration": 40,
    "start_time": "2021-10-22T18:40:05.184Z"
   },
   {
    "duration": 1521,
    "start_time": "2021-10-22T18:40:05.227Z"
   },
   {
    "duration": 695,
    "start_time": "2021-10-22T18:40:06.750Z"
   },
   {
    "duration": 40,
    "start_time": "2021-10-22T18:40:07.447Z"
   },
   {
    "duration": 23,
    "start_time": "2021-10-22T18:40:07.489Z"
   },
   {
    "duration": 84,
    "start_time": "2021-10-22T18:40:07.514Z"
   },
   {
    "duration": 1243,
    "start_time": "2021-10-22T18:40:06.357Z"
   },
   {
    "duration": 83,
    "start_time": "2021-10-22T18:40:57.982Z"
   },
   {
    "duration": 81,
    "start_time": "2021-10-22T18:42:21.855Z"
   },
   {
    "duration": 91,
    "start_time": "2021-10-22T18:42:34.054Z"
   },
   {
    "duration": 1848,
    "start_time": "2021-10-22T18:43:09.940Z"
   },
   {
    "duration": 85,
    "start_time": "2021-10-22T18:43:22.977Z"
   },
   {
    "duration": 955,
    "start_time": "2021-10-22T18:44:16.222Z"
   },
   {
    "duration": 5,
    "start_time": "2021-10-22T18:45:22.616Z"
   },
   {
    "duration": 7,
    "start_time": "2021-10-22T19:07:53.194Z"
   },
   {
    "duration": 342,
    "start_time": "2021-10-22T19:08:45.354Z"
   },
   {
    "duration": 9,
    "start_time": "2021-10-22T19:08:49.361Z"
   },
   {
    "duration": 14,
    "start_time": "2021-10-22T19:10:00.411Z"
   },
   {
    "duration": 250,
    "start_time": "2021-10-22T19:10:34.857Z"
   },
   {
    "duration": 516,
    "start_time": "2021-10-22T19:10:59.495Z"
   },
   {
    "duration": 11,
    "start_time": "2021-10-22T19:11:01.982Z"
   },
   {
    "duration": 11,
    "start_time": "2021-10-22T19:11:19.284Z"
   },
   {
    "duration": 4,
    "start_time": "2021-10-22T19:11:37.646Z"
   },
   {
    "duration": 17,
    "start_time": "2021-10-22T19:12:45.067Z"
   },
   {
    "duration": 15,
    "start_time": "2021-10-22T19:12:51.370Z"
   },
   {
    "duration": 243,
    "start_time": "2021-10-22T19:13:28.580Z"
   },
   {
    "duration": 6,
    "start_time": "2021-10-22T19:13:33.725Z"
   },
   {
    "duration": 16,
    "start_time": "2021-10-22T19:13:35.890Z"
   },
   {
    "duration": 132,
    "start_time": "2021-10-22T19:16:02.145Z"
   },
   {
    "duration": 3,
    "start_time": "2021-10-22T19:16:20.003Z"
   },
   {
    "duration": 68,
    "start_time": "2021-10-22T19:16:26.488Z"
   },
   {
    "duration": 12,
    "start_time": "2021-10-22T19:16:30.681Z"
   },
   {
    "duration": 6,
    "start_time": "2021-10-22T19:16:33.464Z"
   },
   {
    "duration": 11,
    "start_time": "2021-10-22T19:16:54.755Z"
   },
   {
    "duration": 6,
    "start_time": "2021-10-22T19:16:58.184Z"
   },
   {
    "duration": 16,
    "start_time": "2021-10-22T19:17:00.737Z"
   },
   {
    "duration": 353,
    "start_time": "2021-10-22T19:17:03.349Z"
   },
   {
    "duration": 7,
    "start_time": "2021-10-22T19:17:06.948Z"
   },
   {
    "duration": 7,
    "start_time": "2021-10-22T19:17:09.221Z"
   },
   {
    "duration": 9,
    "start_time": "2021-10-22T19:17:12.281Z"
   },
   {
    "duration": 4,
    "start_time": "2021-10-22T19:17:14.512Z"
   },
   {
    "duration": 15,
    "start_time": "2021-10-22T19:17:17.194Z"
   },
   {
    "duration": 16,
    "start_time": "2021-10-22T19:17:24.067Z"
   },
   {
    "duration": 23,
    "start_time": "2021-10-22T19:18:34.547Z"
   },
   {
    "duration": 20,
    "start_time": "2021-10-22T19:18:37.791Z"
   },
   {
    "duration": 31,
    "start_time": "2021-10-22T19:18:41.294Z"
   },
   {
    "duration": 6,
    "start_time": "2021-10-22T19:21:13.087Z"
   },
   {
    "duration": 27,
    "start_time": "2021-10-22T19:21:15.677Z"
   },
   {
    "duration": 5063,
    "start_time": "2021-10-22T19:21:20.311Z"
   },
   {
    "duration": 28,
    "start_time": "2021-10-22T19:21:31.497Z"
   },
   {
    "duration": 14,
    "start_time": "2021-10-22T19:21:33.693Z"
   },
   {
    "duration": 9,
    "start_time": "2021-10-22T19:21:36.967Z"
   },
   {
    "duration": 723,
    "start_time": "2021-10-22T19:21:39.544Z"
   },
   {
    "duration": 4,
    "start_time": "2021-10-22T19:21:43.492Z"
   },
   {
    "duration": 5,
    "start_time": "2021-10-22T19:21:57.678Z"
   },
   {
    "duration": 23,
    "start_time": "2021-10-22T19:22:06.262Z"
   },
   {
    "duration": 76,
    "start_time": "2021-10-22T19:29:16.270Z"
   },
   {
    "duration": 4,
    "start_time": "2021-10-22T19:29:21.028Z"
   },
   {
    "duration": 4,
    "start_time": "2021-10-22T19:29:58.360Z"
   },
   {
    "duration": 5,
    "start_time": "2021-10-22T19:30:44.072Z"
   },
   {
    "duration": 724,
    "start_time": "2021-10-22T19:30:56.260Z"
   },
   {
    "duration": 4,
    "start_time": "2021-10-22T19:31:00.762Z"
   },
   {
    "duration": 4,
    "start_time": "2021-10-22T19:31:04.870Z"
   },
   {
    "duration": 20,
    "start_time": "2021-10-22T19:31:18.881Z"
   },
   {
    "duration": 5,
    "start_time": "2021-10-22T19:32:02.295Z"
   },
   {
    "duration": 5,
    "start_time": "2021-10-22T19:32:04.173Z"
   },
   {
    "duration": 697,
    "start_time": "2021-10-22T19:32:08.044Z"
   },
   {
    "duration": 4,
    "start_time": "2021-10-22T19:32:11.393Z"
   },
   {
    "duration": 4,
    "start_time": "2021-10-22T19:32:14.164Z"
   },
   {
    "duration": 17,
    "start_time": "2021-10-22T19:32:17.634Z"
   },
   {
    "duration": 1316,
    "start_time": "2021-10-22T19:32:57.871Z"
   },
   {
    "duration": 788,
    "start_time": "2021-10-22T19:33:50.648Z"
   },
   {
    "duration": 713,
    "start_time": "2021-10-22T19:35:02.888Z"
   },
   {
    "duration": 739,
    "start_time": "2021-10-22T19:35:24.672Z"
   },
   {
    "duration": 27,
    "start_time": "2021-10-22T19:38:19.463Z"
   },
   {
    "duration": 33,
    "start_time": "2021-10-22T19:42:25.063Z"
   },
   {
    "duration": 24,
    "start_time": "2021-10-22T19:44:47.670Z"
   },
   {
    "duration": 144,
    "start_time": "2021-10-22T19:45:32.715Z"
   },
   {
    "duration": 859,
    "start_time": "2021-10-22T19:45:44.782Z"
   },
   {
    "duration": 24,
    "start_time": "2021-10-22T19:46:08.069Z"
   },
   {
    "duration": 24,
    "start_time": "2021-10-22T19:46:57.409Z"
   },
   {
    "duration": 24,
    "start_time": "2021-10-22T19:47:02.690Z"
   },
   {
    "duration": 25,
    "start_time": "2021-10-22T19:47:08.366Z"
   },
   {
    "duration": 947,
    "start_time": "2021-10-22T19:47:21.369Z"
   },
   {
    "duration": 25,
    "start_time": "2021-10-22T19:47:26.617Z"
   },
   {
    "duration": 24,
    "start_time": "2021-10-22T19:47:31.154Z"
   },
   {
    "duration": 25,
    "start_time": "2021-10-22T19:47:44.587Z"
   },
   {
    "duration": 23,
    "start_time": "2021-10-22T19:48:56.169Z"
   },
   {
    "duration": 24,
    "start_time": "2021-10-22T19:50:42.959Z"
   },
   {
    "duration": 25,
    "start_time": "2021-10-22T19:52:35.736Z"
   },
   {
    "duration": 22,
    "start_time": "2021-10-22T19:52:46.580Z"
   },
   {
    "duration": 1025,
    "start_time": "2021-10-22T19:53:09.587Z"
   },
   {
    "duration": 64,
    "start_time": "2021-10-22T19:54:38.091Z"
   },
   {
    "duration": 78,
    "start_time": "2021-10-22T19:56:46.553Z"
   },
   {
    "duration": 24,
    "start_time": "2021-10-22T19:57:08.511Z"
   },
   {
    "duration": 1384,
    "start_time": "2021-10-23T08:37:47.880Z"
   },
   {
    "duration": 64,
    "start_time": "2021-10-23T08:37:49.266Z"
   },
   {
    "duration": 12,
    "start_time": "2021-10-23T08:37:49.332Z"
   },
   {
    "duration": 7,
    "start_time": "2021-10-23T08:37:49.346Z"
   },
   {
    "duration": 30,
    "start_time": "2021-10-23T08:37:49.355Z"
   },
   {
    "duration": 6,
    "start_time": "2021-10-23T08:37:49.388Z"
   },
   {
    "duration": 20,
    "start_time": "2021-10-23T08:37:49.395Z"
   },
   {
    "duration": 334,
    "start_time": "2021-10-23T08:37:49.416Z"
   },
   {
    "duration": 15,
    "start_time": "2021-10-23T08:37:49.753Z"
   },
   {
    "duration": 6,
    "start_time": "2021-10-23T08:37:49.770Z"
   },
   {
    "duration": 14,
    "start_time": "2021-10-23T08:37:49.778Z"
   },
   {
    "duration": 4,
    "start_time": "2021-10-23T08:37:49.794Z"
   },
   {
    "duration": 20,
    "start_time": "2021-10-23T08:37:49.799Z"
   },
   {
    "duration": 13,
    "start_time": "2021-10-23T08:37:49.821Z"
   },
   {
    "duration": 45,
    "start_time": "2021-10-23T08:37:49.835Z"
   },
   {
    "duration": 20,
    "start_time": "2021-10-23T08:37:49.882Z"
   },
   {
    "duration": 36,
    "start_time": "2021-10-23T08:37:49.903Z"
   },
   {
    "duration": 23,
    "start_time": "2021-10-23T08:37:49.941Z"
   },
   {
    "duration": 672,
    "start_time": "2021-10-23T08:37:49.966Z"
   },
   {
    "duration": 654,
    "start_time": "2021-10-23T08:37:50.640Z"
   },
   {
    "duration": 5,
    "start_time": "2021-10-23T08:37:51.297Z"
   },
   {
    "duration": 7,
    "start_time": "2021-10-23T08:37:51.304Z"
   },
   {
    "duration": 6375,
    "start_time": "2021-10-23T08:37:51.313Z"
   },
   {
    "duration": -14063,
    "start_time": "2021-10-23T08:38:11.754Z"
   },
   {
    "duration": -14065,
    "start_time": "2021-10-23T08:38:11.757Z"
   },
   {
    "duration": -14064,
    "start_time": "2021-10-23T08:38:11.758Z"
   },
   {
    "duration": -14066,
    "start_time": "2021-10-23T08:38:11.761Z"
   },
   {
    "duration": -14067,
    "start_time": "2021-10-23T08:38:11.763Z"
   },
   {
    "duration": -14068,
    "start_time": "2021-10-23T08:38:11.765Z"
   },
   {
    "duration": 1295,
    "start_time": "2021-10-23T08:45:05.187Z"
   },
   {
    "duration": 809,
    "start_time": "2021-10-23T08:45:06.485Z"
   },
   {
    "duration": 26,
    "start_time": "2021-10-23T08:45:07.349Z"
   },
   {
    "duration": 22,
    "start_time": "2021-10-23T08:45:08.172Z"
   },
   {
    "duration": 69,
    "start_time": "2021-10-23T08:45:09.166Z"
   },
   {
    "duration": 249,
    "start_time": "2021-10-23T08:45:09.967Z"
   },
   {
    "duration": 1383,
    "start_time": "2021-10-23T11:00:47.014Z"
   },
   {
    "duration": 67,
    "start_time": "2021-10-23T11:00:51.133Z"
   },
   {
    "duration": 12,
    "start_time": "2021-10-23T11:00:56.032Z"
   },
   {
    "duration": 4,
    "start_time": "2021-10-23T11:00:58.816Z"
   },
   {
    "duration": 11,
    "start_time": "2021-10-23T11:01:03.421Z"
   },
   {
    "duration": 4,
    "start_time": "2021-10-23T11:01:07.589Z"
   },
   {
    "duration": 9,
    "start_time": "2021-10-23T11:02:48.495Z"
   },
   {
    "duration": 9127,
    "start_time": "2021-10-23T11:23:27.044Z"
   },
   {
    "duration": 148,
    "start_time": "2021-10-23T11:23:50.207Z"
   },
   {
    "duration": 129,
    "start_time": "2021-10-23T11:23:56.849Z"
   },
   {
    "duration": 3,
    "start_time": "2021-10-23T11:24:30.334Z"
   },
   {
    "duration": 60,
    "start_time": "2021-10-23T11:24:33.108Z"
   },
   {
    "duration": 143,
    "start_time": "2021-10-23T11:24:58.057Z"
   },
   {
    "duration": 23,
    "start_time": "2021-10-23T11:25:22.329Z"
   },
   {
    "duration": 21,
    "start_time": "2021-10-23T11:25:52.790Z"
   },
   {
    "duration": 8,
    "start_time": "2021-10-23T11:27:06.957Z"
   },
   {
    "duration": 7,
    "start_time": "2021-10-23T11:29:18.465Z"
   },
   {
    "duration": 7,
    "start_time": "2021-10-23T11:29:20.656Z"
   },
   {
    "duration": 388,
    "start_time": "2021-10-23T11:29:40.499Z"
   },
   {
    "duration": 366,
    "start_time": "2021-10-23T11:29:43.772Z"
   },
   {
    "duration": 9,
    "start_time": "2021-10-23T11:29:54.756Z"
   },
   {
    "duration": 9,
    "start_time": "2021-10-23T11:30:50.733Z"
   },
   {
    "duration": 7,
    "start_time": "2021-10-23T11:31:11.656Z"
   },
   {
    "duration": 9,
    "start_time": "2021-10-23T11:31:17.224Z"
   },
   {
    "duration": 8,
    "start_time": "2021-10-23T11:32:11.339Z"
   },
   {
    "duration": 8,
    "start_time": "2021-10-23T11:32:43.153Z"
   },
   {
    "duration": 8,
    "start_time": "2021-10-23T11:33:02.500Z"
   },
   {
    "duration": 7,
    "start_time": "2021-10-23T11:33:12.252Z"
   },
   {
    "duration": 133,
    "start_time": "2021-10-23T11:42:10.586Z"
   },
   {
    "duration": 126,
    "start_time": "2021-10-23T11:42:18.784Z"
   },
   {
    "duration": 123,
    "start_time": "2021-10-23T11:42:33.774Z"
   },
   {
    "duration": 135,
    "start_time": "2021-10-23T11:42:58.759Z"
   },
   {
    "duration": 3,
    "start_time": "2021-10-23T11:44:15.519Z"
   },
   {
    "duration": 7,
    "start_time": "2021-10-23T11:44:45.793Z"
   },
   {
    "duration": 8,
    "start_time": "2021-10-23T11:44:48.574Z"
   },
   {
    "duration": 33,
    "start_time": "2021-10-23T11:45:05.226Z"
   },
   {
    "duration": 21,
    "start_time": "2021-10-23T11:45:17.173Z"
   },
   {
    "duration": 5251,
    "start_time": "2021-10-23T11:45:34.550Z"
   },
   {
    "duration": 4,
    "start_time": "2021-10-23T11:48:42.555Z"
   },
   {
    "duration": 5144,
    "start_time": "2021-10-23T11:48:52.743Z"
   },
   {
    "duration": 374,
    "start_time": "2021-10-23T11:56:15.972Z"
   },
   {
    "duration": 25,
    "start_time": "2021-10-23T11:57:00.335Z"
   },
   {
    "duration": 23,
    "start_time": "2021-10-23T11:57:09.046Z"
   },
   {
    "duration": 7,
    "start_time": "2021-10-23T11:57:26.088Z"
   },
   {
    "duration": 23,
    "start_time": "2021-10-23T11:57:31.596Z"
   },
   {
    "duration": 8,
    "start_time": "2021-10-23T12:00:14.762Z"
   },
   {
    "duration": 23,
    "start_time": "2021-10-23T12:00:21.573Z"
   },
   {
    "duration": 25,
    "start_time": "2021-10-23T12:00:48.446Z"
   },
   {
    "duration": 18,
    "start_time": "2021-10-23T12:00:58.183Z"
   },
   {
    "duration": 18,
    "start_time": "2021-10-23T12:01:05.301Z"
   },
   {
    "duration": 16,
    "start_time": "2021-10-23T12:01:39.370Z"
   },
   {
    "duration": 115,
    "start_time": "2021-10-23T12:12:19.648Z"
   },
   {
    "duration": 30,
    "start_time": "2021-10-23T12:12:36.410Z"
   },
   {
    "duration": 38,
    "start_time": "2021-10-23T12:13:29.286Z"
   },
   {
    "duration": 10,
    "start_time": "2021-10-23T12:13:35.355Z"
   },
   {
    "duration": 5,
    "start_time": "2021-10-23T12:13:39.275Z"
   },
   {
    "duration": 11,
    "start_time": "2021-10-23T12:13:42.307Z"
   },
   {
    "duration": 63,
    "start_time": "2021-10-23T12:13:45.259Z"
   },
   {
    "duration": 58,
    "start_time": "2021-10-23T12:14:32.342Z"
   },
   {
    "duration": 34,
    "start_time": "2021-10-23T12:14:42.407Z"
   },
   {
    "duration": 9168,
    "start_time": "2021-10-23T12:25:50.946Z"
   },
   {
    "duration": 7,
    "start_time": "2021-10-23T12:30:29.966Z"
   },
   {
    "duration": 10,
    "start_time": "2021-10-23T12:30:43.788Z"
   },
   {
    "duration": 9368,
    "start_time": "2021-10-23T12:33:16.034Z"
   },
   {
    "duration": 11135,
    "start_time": "2021-10-23T12:33:41.662Z"
   },
   {
    "duration": 399,
    "start_time": "2021-10-23T12:34:22.604Z"
   },
   {
    "duration": 395,
    "start_time": "2021-10-23T12:34:30.080Z"
   },
   {
    "duration": 3,
    "start_time": "2021-10-23T12:35:43.005Z"
   },
   {
    "duration": 6,
    "start_time": "2021-10-23T12:36:01.080Z"
   },
   {
    "duration": 61,
    "start_time": "2021-10-23T12:36:08.476Z"
   },
   {
    "duration": 5,
    "start_time": "2021-10-23T12:36:23.919Z"
   },
   {
    "duration": 7,
    "start_time": "2021-10-23T12:36:26.374Z"
   },
   {
    "duration": 8,
    "start_time": "2021-10-23T12:36:30.229Z"
   },
   {
    "duration": 454,
    "start_time": "2021-10-23T12:36:39.009Z"
   },
   {
    "duration": 429,
    "start_time": "2021-10-23T12:36:52.214Z"
   },
   {
    "duration": 92,
    "start_time": "2021-10-23T12:39:00.338Z"
   },
   {
    "duration": 22,
    "start_time": "2021-10-23T12:39:30.109Z"
   },
   {
    "duration": 6,
    "start_time": "2021-10-23T12:41:11.174Z"
   },
   {
    "duration": 395,
    "start_time": "2021-10-23T12:41:26.570Z"
   },
   {
    "duration": 5391,
    "start_time": "2021-10-23T12:41:44.365Z"
   },
   {
    "duration": 11,
    "start_time": "2021-10-23T12:57:25.240Z"
   },
   {
    "duration": 3,
    "start_time": "2021-10-23T12:57:39.783Z"
   },
   {
    "duration": 4,
    "start_time": "2021-10-23T12:57:44.482Z"
   },
   {
    "duration": 13,
    "start_time": "2021-10-23T12:58:05.805Z"
   },
   {
    "duration": 8629,
    "start_time": "2021-10-23T15:07:05.325Z"
   },
   {
    "duration": 4,
    "start_time": "2021-10-23T15:07:50.093Z"
   },
   {
    "duration": 70,
    "start_time": "2021-10-23T15:07:53.096Z"
   },
   {
    "duration": 17,
    "start_time": "2021-10-23T15:07:56.172Z"
   },
   {
    "duration": 4,
    "start_time": "2021-10-23T15:07:59.147Z"
   },
   {
    "duration": 11,
    "start_time": "2021-10-23T15:08:03.121Z"
   },
   {
    "duration": 5,
    "start_time": "2021-10-23T15:08:06.165Z"
   },
   {
    "duration": 10,
    "start_time": "2021-10-23T15:08:08.986Z"
   },
   {
    "duration": 17,
    "start_time": "2021-10-23T15:08:11.686Z"
   },
   {
    "duration": 252,
    "start_time": "2021-10-23T15:08:15.034Z"
   },
   {
    "duration": 263,
    "start_time": "2021-10-23T15:08:30.160Z"
   },
   {
    "duration": 120,
    "start_time": "2021-10-23T15:10:01.677Z"
   },
   {
    "duration": 22,
    "start_time": "2021-10-23T15:10:51.006Z"
   },
   {
    "duration": 27,
    "start_time": "2021-10-23T15:11:04.668Z"
   },
   {
    "duration": 17,
    "start_time": "2021-10-23T15:11:43.440Z"
   },
   {
    "duration": 4,
    "start_time": "2021-10-23T15:12:05.299Z"
   },
   {
    "duration": 73,
    "start_time": "2021-10-23T15:12:07.736Z"
   },
   {
    "duration": 120,
    "start_time": "2021-10-23T15:12:14.695Z"
   },
   {
    "duration": 8,
    "start_time": "2021-10-23T15:12:29.188Z"
   },
   {
    "duration": 24,
    "start_time": "2021-10-23T15:12:35.557Z"
   },
   {
    "duration": 4,
    "start_time": "2021-10-23T15:14:52.190Z"
   },
   {
    "duration": 74,
    "start_time": "2021-10-23T15:14:52.197Z"
   },
   {
    "duration": 17,
    "start_time": "2021-10-23T15:14:52.274Z"
   },
   {
    "duration": 10,
    "start_time": "2021-10-23T15:14:52.294Z"
   },
   {
    "duration": 22,
    "start_time": "2021-10-23T15:14:52.306Z"
   },
   {
    "duration": 9,
    "start_time": "2021-10-23T15:14:52.330Z"
   },
   {
    "duration": 11,
    "start_time": "2021-10-23T15:14:52.340Z"
   },
   {
    "duration": 9,
    "start_time": "2021-10-23T15:14:52.353Z"
   },
   {
    "duration": 11,
    "start_time": "2021-10-23T15:14:55.617Z"
   },
   {
    "duration": 20,
    "start_time": "2021-10-23T15:14:58.898Z"
   },
   {
    "duration": 13,
    "start_time": "2021-10-23T15:15:15.297Z"
   },
   {
    "duration": 13,
    "start_time": "2021-10-23T15:15:30.596Z"
   },
   {
    "duration": 15,
    "start_time": "2021-10-23T15:15:32.530Z"
   },
   {
    "duration": 1753,
    "start_time": "2021-10-23T17:00:50.014Z"
   },
   {
    "duration": 84,
    "start_time": "2021-10-23T17:00:51.770Z"
   },
   {
    "duration": 28,
    "start_time": "2021-10-23T17:00:51.857Z"
   },
   {
    "duration": 5,
    "start_time": "2021-10-23T17:00:51.888Z"
   },
   {
    "duration": 18,
    "start_time": "2021-10-23T17:00:51.895Z"
   },
   {
    "duration": 6,
    "start_time": "2021-10-23T17:00:51.915Z"
   },
   {
    "duration": 17,
    "start_time": "2021-10-23T17:00:51.923Z"
   },
   {
    "duration": 45,
    "start_time": "2021-10-23T17:00:51.943Z"
   },
   {
    "duration": 503,
    "start_time": "2021-10-23T17:00:51.991Z"
   },
   {
    "duration": 18,
    "start_time": "2021-10-23T17:00:52.496Z"
   },
   {
    "duration": 10,
    "start_time": "2021-10-23T17:00:52.517Z"
   },
   {
    "duration": 14,
    "start_time": "2021-10-23T17:00:52.530Z"
   },
   {
    "duration": 7,
    "start_time": "2021-10-23T17:00:52.583Z"
   },
   {
    "duration": 20,
    "start_time": "2021-10-23T17:00:52.593Z"
   },
   {
    "duration": 20,
    "start_time": "2021-10-23T17:00:52.615Z"
   },
   {
    "duration": 81,
    "start_time": "2021-10-23T17:00:52.638Z"
   },
   {
    "duration": 34,
    "start_time": "2021-10-23T17:00:52.722Z"
   },
   {
    "duration": 59,
    "start_time": "2021-10-23T17:00:52.759Z"
   },
   {
    "duration": 8,
    "start_time": "2021-10-23T17:00:52.821Z"
   },
   {
    "duration": 534,
    "start_time": "2021-10-23T17:00:52.832Z"
   },
   {
    "duration": 941,
    "start_time": "2021-10-23T17:00:53.369Z"
   },
   {
    "duration": 7,
    "start_time": "2021-10-23T17:00:54.314Z"
   },
   {
    "duration": 7,
    "start_time": "2021-10-23T17:00:54.326Z"
   },
   {
    "duration": 7236,
    "start_time": "2021-10-23T17:00:54.335Z"
   },
   {
    "duration": -91,
    "start_time": "2021-10-23T17:01:01.664Z"
   },
   {
    "duration": -95,
    "start_time": "2021-10-23T17:01:01.670Z"
   },
   {
    "duration": -97,
    "start_time": "2021-10-23T17:01:01.673Z"
   },
   {
    "duration": -107,
    "start_time": "2021-10-23T17:01:01.685Z"
   },
   {
    "duration": -110,
    "start_time": "2021-10-23T17:01:01.689Z"
   },
   {
    "duration": -111,
    "start_time": "2021-10-23T17:01:01.692Z"
   },
   {
    "duration": 266,
    "start_time": "2021-10-23T17:18:53.402Z"
   },
   {
    "duration": 17,
    "start_time": "2021-10-23T17:19:08.076Z"
   },
   {
    "duration": 11,
    "start_time": "2021-10-23T17:19:26.135Z"
   },
   {
    "duration": 10,
    "start_time": "2021-10-23T17:19:36.665Z"
   },
   {
    "duration": 11,
    "start_time": "2021-10-23T17:19:53.279Z"
   },
   {
    "duration": 423,
    "start_time": "2021-10-23T17:25:33.061Z"
   },
   {
    "duration": 6,
    "start_time": "2021-10-23T17:29:43.578Z"
   },
   {
    "duration": 9,
    "start_time": "2021-10-23T17:29:54.831Z"
   },
   {
    "duration": 10,
    "start_time": "2021-10-23T17:33:40.329Z"
   },
   {
    "duration": 294,
    "start_time": "2021-10-23T17:39:38.747Z"
   },
   {
    "duration": 303,
    "start_time": "2021-10-23T17:39:54.513Z"
   },
   {
    "duration": 8,
    "start_time": "2021-10-23T17:41:34.648Z"
   },
   {
    "duration": 5,
    "start_time": "2021-10-23T17:41:46.114Z"
   },
   {
    "duration": 110,
    "start_time": "2021-10-23T17:41:46.121Z"
   },
   {
    "duration": 14,
    "start_time": "2021-10-23T17:41:46.234Z"
   },
   {
    "duration": 6,
    "start_time": "2021-10-23T17:41:46.251Z"
   },
   {
    "duration": 14,
    "start_time": "2021-10-23T17:41:46.282Z"
   },
   {
    "duration": 6,
    "start_time": "2021-10-23T17:41:46.299Z"
   },
   {
    "duration": 20,
    "start_time": "2021-10-23T17:41:46.308Z"
   },
   {
    "duration": 55,
    "start_time": "2021-10-23T17:41:46.330Z"
   },
   {
    "duration": 446,
    "start_time": "2021-10-23T17:41:46.389Z"
   },
   {
    "duration": 10,
    "start_time": "2021-10-23T17:41:46.838Z"
   },
   {
    "duration": 5,
    "start_time": "2021-10-23T17:41:46.851Z"
   },
   {
    "duration": 10,
    "start_time": "2021-10-23T17:41:46.883Z"
   },
   {
    "duration": 7,
    "start_time": "2021-10-23T17:41:56.968Z"
   },
   {
    "duration": 4,
    "start_time": "2021-10-23T17:43:27.034Z"
   },
   {
    "duration": 76,
    "start_time": "2021-10-23T17:43:30.883Z"
   },
   {
    "duration": 15,
    "start_time": "2021-10-23T17:43:35.215Z"
   },
   {
    "duration": 6,
    "start_time": "2021-10-23T17:43:38.299Z"
   },
   {
    "duration": 13,
    "start_time": "2021-10-23T17:43:45.855Z"
   },
   {
    "duration": 6,
    "start_time": "2021-10-23T17:43:49.663Z"
   },
   {
    "duration": 17,
    "start_time": "2021-10-23T17:43:52.832Z"
   },
   {
    "duration": 13,
    "start_time": "2021-10-23T17:43:56.959Z"
   },
   {
    "duration": 623,
    "start_time": "2021-10-23T17:45:52.900Z"
   },
   {
    "duration": 12,
    "start_time": "2021-10-23T17:45:56.923Z"
   },
   {
    "duration": 5,
    "start_time": "2021-10-23T17:46:01.525Z"
   },
   {
    "duration": 11,
    "start_time": "2021-10-23T17:46:03.558Z"
   },
   {
    "duration": 9,
    "start_time": "2021-10-23T17:46:12.393Z"
   },
   {
    "duration": 278,
    "start_time": "2021-10-23T17:46:39.185Z"
   },
   {
    "duration": 274,
    "start_time": "2021-10-23T17:46:56.558Z"
   },
   {
    "duration": 7,
    "start_time": "2021-10-23T17:46:59.314Z"
   },
   {
    "duration": 6,
    "start_time": "2021-10-23T17:49:36.049Z"
   },
   {
    "duration": 5,
    "start_time": "2021-10-23T17:49:39.065Z"
   },
   {
    "duration": 8,
    "start_time": "2021-10-23T17:49:55.240Z"
   },
   {
    "duration": 10,
    "start_time": "2021-10-23T17:50:03.538Z"
   },
   {
    "duration": 11,
    "start_time": "2021-10-23T17:50:20.828Z"
   },
   {
    "duration": 9,
    "start_time": "2021-10-23T17:50:37.409Z"
   },
   {
    "duration": 4,
    "start_time": "2021-10-23T17:50:44.734Z"
   },
   {
    "duration": 75,
    "start_time": "2021-10-23T17:50:46.947Z"
   },
   {
    "duration": 14,
    "start_time": "2021-10-23T17:50:50.925Z"
   },
   {
    "duration": 5,
    "start_time": "2021-10-23T17:50:53.768Z"
   },
   {
    "duration": 13,
    "start_time": "2021-10-23T17:50:57.986Z"
   },
   {
    "duration": 6,
    "start_time": "2021-10-23T17:51:03.279Z"
   },
   {
    "duration": 15,
    "start_time": "2021-10-23T17:51:05.303Z"
   },
   {
    "duration": 12,
    "start_time": "2021-10-23T17:51:08.755Z"
   },
   {
    "duration": 405,
    "start_time": "2021-10-23T17:51:12.670Z"
   },
   {
    "duration": 9,
    "start_time": "2021-10-23T17:51:16.385Z"
   },
   {
    "duration": 297,
    "start_time": "2021-10-23T17:51:42.763Z"
   },
   {
    "duration": 9,
    "start_time": "2021-10-23T17:52:00.591Z"
   },
   {
    "duration": 9,
    "start_time": "2021-10-23T17:52:03.832Z"
   },
   {
    "duration": 35,
    "start_time": "2021-10-23T17:52:14.759Z"
   },
   {
    "duration": 8,
    "start_time": "2021-10-23T17:52:20.597Z"
   },
   {
    "duration": 305,
    "start_time": "2021-10-23T17:52:35.343Z"
   },
   {
    "duration": 8,
    "start_time": "2021-10-23T17:52:43.331Z"
   },
   {
    "duration": 12,
    "start_time": "2021-10-23T17:53:15.219Z"
   },
   {
    "duration": 37,
    "start_time": "2021-10-23T17:53:37.327Z"
   },
   {
    "duration": 705,
    "start_time": "2021-10-23T17:53:58.179Z"
   },
   {
    "duration": 12,
    "start_time": "2021-10-23T17:54:23.293Z"
   },
   {
    "duration": 10,
    "start_time": "2021-10-23T17:54:37.878Z"
   },
   {
    "duration": 12,
    "start_time": "2021-10-23T17:54:51.826Z"
   },
   {
    "duration": 13,
    "start_time": "2021-10-23T17:55:00.265Z"
   },
   {
    "duration": 11,
    "start_time": "2021-10-23T18:05:12.993Z"
   },
   {
    "duration": 12,
    "start_time": "2021-10-23T18:05:30.481Z"
   },
   {
    "duration": 11,
    "start_time": "2021-10-23T18:06:00.270Z"
   },
   {
    "duration": 11,
    "start_time": "2021-10-23T18:06:01.440Z"
   },
   {
    "duration": 34,
    "start_time": "2021-10-23T18:06:14.211Z"
   },
   {
    "duration": 8,
    "start_time": "2021-10-23T18:06:40.581Z"
   },
   {
    "duration": 5,
    "start_time": "2021-10-23T18:06:53.738Z"
   },
   {
    "duration": 6,
    "start_time": "2021-10-23T18:07:44.507Z"
   },
   {
    "duration": 10,
    "start_time": "2021-10-23T18:16:29.101Z"
   },
   {
    "duration": 342,
    "start_time": "2021-10-23T18:19:45.797Z"
   },
   {
    "duration": 14,
    "start_time": "2021-10-23T18:20:14.372Z"
   },
   {
    "duration": 12,
    "start_time": "2021-10-23T18:21:05.503Z"
   },
   {
    "duration": 10,
    "start_time": "2021-10-23T18:21:37.559Z"
   },
   {
    "duration": 294,
    "start_time": "2021-10-23T18:21:46.926Z"
   },
   {
    "duration": 13,
    "start_time": "2021-10-23T18:22:14.786Z"
   },
   {
    "duration": 9,
    "start_time": "2021-10-23T18:22:17.268Z"
   },
   {
    "duration": 5,
    "start_time": "2021-10-23T18:25:21.167Z"
   },
   {
    "duration": 8,
    "start_time": "2021-10-23T18:25:24.219Z"
   },
   {
    "duration": 13,
    "start_time": "2021-10-23T18:44:47.695Z"
   },
   {
    "duration": 12,
    "start_time": "2021-10-23T18:45:03.806Z"
   },
   {
    "duration": 12,
    "start_time": "2021-10-23T18:45:09.495Z"
   },
   {
    "duration": 13,
    "start_time": "2021-10-23T18:45:11.889Z"
   },
   {
    "duration": 4,
    "start_time": "2021-10-23T18:47:49.609Z"
   },
   {
    "duration": 81,
    "start_time": "2021-10-23T18:47:49.616Z"
   },
   {
    "duration": 14,
    "start_time": "2021-10-23T18:47:49.700Z"
   },
   {
    "duration": 5,
    "start_time": "2021-10-23T18:47:49.717Z"
   },
   {
    "duration": 15,
    "start_time": "2021-10-23T18:47:49.724Z"
   },
   {
    "duration": 6,
    "start_time": "2021-10-23T18:47:49.741Z"
   },
   {
    "duration": 17,
    "start_time": "2021-10-23T18:47:49.781Z"
   },
   {
    "duration": 13,
    "start_time": "2021-10-23T18:47:49.801Z"
   },
   {
    "duration": 445,
    "start_time": "2021-10-23T18:47:49.818Z"
   },
   {
    "duration": 20,
    "start_time": "2021-10-23T18:47:50.266Z"
   },
   {
    "duration": 7,
    "start_time": "2021-10-23T18:47:50.288Z"
   },
   {
    "duration": 9,
    "start_time": "2021-10-23T18:47:50.297Z"
   },
   {
    "duration": 9,
    "start_time": "2021-10-23T18:47:50.308Z"
   },
   {
    "duration": 10,
    "start_time": "2021-10-23T18:47:50.320Z"
   },
   {
    "duration": 56,
    "start_time": "2021-10-23T18:47:50.333Z"
   },
   {
    "duration": 11,
    "start_time": "2021-10-23T18:47:50.392Z"
   },
   {
    "duration": 9,
    "start_time": "2021-10-23T18:47:50.405Z"
   },
   {
    "duration": 10,
    "start_time": "2021-10-23T18:47:50.417Z"
   },
   {
    "duration": 6,
    "start_time": "2021-10-23T18:47:50.429Z"
   },
   {
    "duration": 11,
    "start_time": "2021-10-23T18:47:53.545Z"
   },
   {
    "duration": 11,
    "start_time": "2021-10-23T18:47:56.565Z"
   },
   {
    "duration": 10,
    "start_time": "2021-10-23T18:47:58.679Z"
   },
   {
    "duration": 11,
    "start_time": "2021-10-23T18:48:20.759Z"
   },
   {
    "duration": 15,
    "start_time": "2021-10-23T18:50:29.670Z"
   },
   {
    "duration": 35,
    "start_time": "2021-10-23T18:53:40.322Z"
   },
   {
    "duration": 4,
    "start_time": "2021-10-23T18:54:39.324Z"
   },
   {
    "duration": 89,
    "start_time": "2021-10-23T18:54:39.331Z"
   },
   {
    "duration": 13,
    "start_time": "2021-10-23T18:54:39.424Z"
   },
   {
    "duration": 8,
    "start_time": "2021-10-23T18:54:39.440Z"
   },
   {
    "duration": 38,
    "start_time": "2021-10-23T18:54:39.450Z"
   },
   {
    "duration": 6,
    "start_time": "2021-10-23T18:54:39.490Z"
   },
   {
    "duration": 17,
    "start_time": "2021-10-23T18:54:39.500Z"
   },
   {
    "duration": 12,
    "start_time": "2021-10-23T18:54:39.520Z"
   },
   {
    "duration": 442,
    "start_time": "2021-10-23T18:54:39.534Z"
   },
   {
    "duration": 12,
    "start_time": "2021-10-23T18:54:39.982Z"
   },
   {
    "duration": 9,
    "start_time": "2021-10-23T18:54:39.997Z"
   },
   {
    "duration": 10,
    "start_time": "2021-10-23T18:54:40.008Z"
   },
   {
    "duration": 9,
    "start_time": "2021-10-23T18:54:40.021Z"
   },
   {
    "duration": 51,
    "start_time": "2021-10-23T18:54:40.033Z"
   },
   {
    "duration": 10,
    "start_time": "2021-10-23T18:54:40.086Z"
   },
   {
    "duration": 9,
    "start_time": "2021-10-23T18:54:40.099Z"
   },
   {
    "duration": 5,
    "start_time": "2021-10-23T18:54:40.110Z"
   },
   {
    "duration": 9,
    "start_time": "2021-10-23T18:54:40.117Z"
   },
   {
    "duration": 3,
    "start_time": "2021-10-23T18:54:40.130Z"
   },
   {
    "duration": 45,
    "start_time": "2021-10-23T18:54:47.677Z"
   },
   {
    "duration": 13,
    "start_time": "2021-10-23T18:55:00.612Z"
   },
   {
    "duration": 11,
    "start_time": "2021-10-23T18:55:59.413Z"
   },
   {
    "duration": 6,
    "start_time": "2021-10-23T18:56:06.324Z"
   },
   {
    "duration": 5,
    "start_time": "2021-10-23T18:56:22.227Z"
   },
   {
    "duration": 80,
    "start_time": "2021-10-23T18:56:22.234Z"
   },
   {
    "duration": 15,
    "start_time": "2021-10-23T18:56:22.317Z"
   },
   {
    "duration": 5,
    "start_time": "2021-10-23T18:56:22.334Z"
   },
   {
    "duration": 13,
    "start_time": "2021-10-23T18:56:22.341Z"
   },
   {
    "duration": 5,
    "start_time": "2021-10-23T18:56:22.382Z"
   },
   {
    "duration": 19,
    "start_time": "2021-10-23T18:56:22.390Z"
   },
   {
    "duration": 12,
    "start_time": "2021-10-23T18:56:22.412Z"
   },
   {
    "duration": 439,
    "start_time": "2021-10-23T18:56:22.427Z"
   },
   {
    "duration": 18,
    "start_time": "2021-10-23T18:56:22.868Z"
   },
   {
    "duration": 11,
    "start_time": "2021-10-23T18:56:22.888Z"
   },
   {
    "duration": 9,
    "start_time": "2021-10-23T18:56:22.902Z"
   },
   {
    "duration": 8,
    "start_time": "2021-10-23T18:56:22.914Z"
   },
   {
    "duration": 9,
    "start_time": "2021-10-23T18:56:22.925Z"
   },
   {
    "duration": 53,
    "start_time": "2021-10-23T18:56:22.936Z"
   },
   {
    "duration": 8,
    "start_time": "2021-10-23T18:56:22.992Z"
   },
   {
    "duration": 6,
    "start_time": "2021-10-23T18:56:23.002Z"
   },
   {
    "duration": 10,
    "start_time": "2021-10-23T18:56:23.010Z"
   },
   {
    "duration": 5,
    "start_time": "2021-10-23T18:56:23.022Z"
   },
   {
    "duration": 7,
    "start_time": "2021-10-23T18:56:23.029Z"
   },
   {
    "duration": 13,
    "start_time": "2021-10-23T18:56:41.143Z"
   },
   {
    "duration": 38,
    "start_time": "2021-10-23T18:56:44.448Z"
   },
   {
    "duration": 4,
    "start_time": "2021-10-23T18:57:10.357Z"
   },
   {
    "duration": 81,
    "start_time": "2021-10-23T18:57:10.364Z"
   },
   {
    "duration": 14,
    "start_time": "2021-10-23T18:57:10.447Z"
   },
   {
    "duration": 22,
    "start_time": "2021-10-23T18:57:10.463Z"
   },
   {
    "duration": 128,
    "start_time": "2021-10-23T18:57:10.487Z"
   },
   {
    "duration": 5,
    "start_time": "2021-10-23T18:57:10.617Z"
   },
   {
    "duration": 16,
    "start_time": "2021-10-23T18:57:10.625Z"
   },
   {
    "duration": 11,
    "start_time": "2021-10-23T18:57:10.644Z"
   },
   {
    "duration": 421,
    "start_time": "2021-10-23T18:57:10.681Z"
   },
   {
    "duration": 10,
    "start_time": "2021-10-23T18:57:11.104Z"
   },
   {
    "duration": 9,
    "start_time": "2021-10-23T18:57:11.116Z"
   },
   {
    "duration": 9,
    "start_time": "2021-10-23T18:57:11.127Z"
   },
   {
    "duration": 44,
    "start_time": "2021-10-23T18:57:11.139Z"
   },
   {
    "duration": 11,
    "start_time": "2021-10-23T18:57:11.186Z"
   },
   {
    "duration": 13,
    "start_time": "2021-10-23T18:57:11.199Z"
   },
   {
    "duration": 9,
    "start_time": "2021-10-23T18:57:11.214Z"
   },
   {
    "duration": 5,
    "start_time": "2021-10-23T18:57:11.225Z"
   },
   {
    "duration": 11,
    "start_time": "2021-10-23T18:57:11.232Z"
   },
   {
    "duration": 5,
    "start_time": "2021-10-23T18:57:11.284Z"
   },
   {
    "duration": 11,
    "start_time": "2021-10-23T18:57:11.291Z"
   },
   {
    "duration": 15,
    "start_time": "2021-10-23T18:57:46.896Z"
   },
   {
    "duration": 4,
    "start_time": "2021-10-23T18:58:02.867Z"
   },
   {
    "duration": 300,
    "start_time": "2021-10-23T18:58:02.873Z"
   },
   {
    "duration": 14,
    "start_time": "2021-10-23T18:58:03.176Z"
   },
   {
    "duration": 5,
    "start_time": "2021-10-23T18:58:03.193Z"
   },
   {
    "duration": 14,
    "start_time": "2021-10-23T18:58:03.201Z"
   },
   {
    "duration": 7,
    "start_time": "2021-10-23T18:58:03.218Z"
   },
   {
    "duration": 58,
    "start_time": "2021-10-23T18:58:03.227Z"
   },
   {
    "duration": 13,
    "start_time": "2021-10-23T18:58:03.289Z"
   },
   {
    "duration": 457,
    "start_time": "2021-10-23T18:58:03.305Z"
   },
   {
    "duration": 21,
    "start_time": "2021-10-23T18:58:03.764Z"
   },
   {
    "duration": 10,
    "start_time": "2021-10-23T18:58:03.787Z"
   },
   {
    "duration": 10,
    "start_time": "2021-10-23T18:58:03.799Z"
   },
   {
    "duration": 13,
    "start_time": "2021-10-23T18:58:03.811Z"
   },
   {
    "duration": 17,
    "start_time": "2021-10-23T18:58:03.827Z"
   },
   {
    "duration": 41,
    "start_time": "2021-10-23T18:58:03.846Z"
   },
   {
    "duration": 10,
    "start_time": "2021-10-23T18:58:03.889Z"
   },
   {
    "duration": 6,
    "start_time": "2021-10-23T18:58:03.902Z"
   },
   {
    "duration": 10,
    "start_time": "2021-10-23T18:58:03.910Z"
   },
   {
    "duration": 5,
    "start_time": "2021-10-23T18:58:03.922Z"
   },
   {
    "duration": 57,
    "start_time": "2021-10-23T18:58:03.929Z"
   },
   {
    "duration": 15,
    "start_time": "2021-10-23T18:58:10.963Z"
   },
   {
    "duration": 34,
    "start_time": "2021-10-23T18:59:22.102Z"
   },
   {
    "duration": 52,
    "start_time": "2021-10-23T19:05:26.389Z"
   },
   {
    "duration": 19,
    "start_time": "2021-10-23T19:05:52.626Z"
   },
   {
    "duration": 11,
    "start_time": "2021-10-23T19:06:14.321Z"
   },
   {
    "duration": 4,
    "start_time": "2021-10-23T19:07:12.407Z"
   },
   {
    "duration": 82,
    "start_time": "2021-10-23T19:07:12.414Z"
   },
   {
    "duration": 15,
    "start_time": "2021-10-23T19:07:12.499Z"
   },
   {
    "duration": 5,
    "start_time": "2021-10-23T19:07:12.517Z"
   },
   {
    "duration": 14,
    "start_time": "2021-10-23T19:07:12.524Z"
   },
   {
    "duration": 6,
    "start_time": "2021-10-23T19:07:12.540Z"
   },
   {
    "duration": 16,
    "start_time": "2021-10-23T19:07:12.583Z"
   },
   {
    "duration": 13,
    "start_time": "2021-10-23T19:07:12.601Z"
   },
   {
    "duration": 472,
    "start_time": "2021-10-23T19:07:12.619Z"
   },
   {
    "duration": 10,
    "start_time": "2021-10-23T19:07:13.094Z"
   },
   {
    "duration": 7,
    "start_time": "2021-10-23T19:07:13.106Z"
   },
   {
    "duration": 10,
    "start_time": "2021-10-23T19:07:13.116Z"
   },
   {
    "duration": 9,
    "start_time": "2021-10-23T19:07:13.128Z"
   },
   {
    "duration": 51,
    "start_time": "2021-10-23T19:07:13.139Z"
   },
   {
    "duration": 9,
    "start_time": "2021-10-23T19:07:13.193Z"
   },
   {
    "duration": 8,
    "start_time": "2021-10-23T19:07:13.205Z"
   },
   {
    "duration": 11,
    "start_time": "2021-10-23T19:07:13.215Z"
   },
   {
    "duration": 13,
    "start_time": "2021-10-23T19:07:13.229Z"
   },
   {
    "duration": 41,
    "start_time": "2021-10-23T19:07:13.245Z"
   },
   {
    "duration": 9,
    "start_time": "2021-10-23T19:07:13.288Z"
   },
   {
    "duration": 55,
    "start_time": "2021-10-23T19:07:17.052Z"
   },
   {
    "duration": 10,
    "start_time": "2021-10-23T19:07:22.759Z"
   },
   {
    "duration": 25,
    "start_time": "2021-10-23T19:07:38.710Z"
   },
   {
    "duration": 11,
    "start_time": "2021-10-23T19:07:42.577Z"
   },
   {
    "duration": 301,
    "start_time": "2021-10-23T19:08:42.168Z"
   },
   {
    "duration": 479,
    "start_time": "2021-10-23T19:15:19.092Z"
   },
   {
    "duration": 19,
    "start_time": "2021-10-23T19:15:43.180Z"
   },
   {
    "duration": 1324,
    "start_time": "2021-10-23T19:16:03.015Z"
   },
   {
    "duration": 14,
    "start_time": "2021-10-23T19:18:59.386Z"
   },
   {
    "duration": 12,
    "start_time": "2021-10-23T19:19:10.997Z"
   },
   {
    "duration": 33,
    "start_time": "2021-10-23T19:19:18.920Z"
   },
   {
    "duration": 5,
    "start_time": "2021-10-23T19:19:45.377Z"
   },
   {
    "duration": 100,
    "start_time": "2021-10-23T19:19:45.385Z"
   },
   {
    "duration": 15,
    "start_time": "2021-10-23T19:19:45.488Z"
   },
   {
    "duration": 5,
    "start_time": "2021-10-23T19:19:45.506Z"
   },
   {
    "duration": 13,
    "start_time": "2021-10-23T19:19:45.514Z"
   },
   {
    "duration": 7,
    "start_time": "2021-10-23T19:19:45.531Z"
   },
   {
    "duration": 59,
    "start_time": "2021-10-23T19:19:45.542Z"
   },
   {
    "duration": 20,
    "start_time": "2021-10-23T19:19:45.605Z"
   },
   {
    "duration": 593,
    "start_time": "2021-10-23T19:19:45.628Z"
   },
   {
    "duration": 10,
    "start_time": "2021-10-23T19:19:46.223Z"
   },
   {
    "duration": 10,
    "start_time": "2021-10-23T19:19:46.235Z"
   },
   {
    "duration": 36,
    "start_time": "2021-10-23T19:19:46.247Z"
   },
   {
    "duration": 8,
    "start_time": "2021-10-23T19:19:46.285Z"
   },
   {
    "duration": 13,
    "start_time": "2021-10-23T19:19:46.296Z"
   },
   {
    "duration": 11,
    "start_time": "2021-10-23T19:19:46.311Z"
   },
   {
    "duration": 9,
    "start_time": "2021-10-23T19:19:46.324Z"
   },
   {
    "duration": 47,
    "start_time": "2021-10-23T19:19:46.336Z"
   },
   {
    "duration": 15,
    "start_time": "2021-10-23T19:19:46.386Z"
   },
   {
    "duration": 4,
    "start_time": "2021-10-23T19:19:46.403Z"
   },
   {
    "duration": 10,
    "start_time": "2021-10-23T19:19:46.410Z"
   },
   {
    "duration": 12,
    "start_time": "2021-10-23T19:30:09.444Z"
   },
   {
    "duration": 316,
    "start_time": "2021-10-23T19:30:12.146Z"
   },
   {
    "duration": 1099,
    "start_time": "2021-10-23T19:31:31.619Z"
   },
   {
    "duration": 10,
    "start_time": "2021-10-23T19:35:23.009Z"
   },
   {
    "duration": 36,
    "start_time": "2021-10-23T19:35:32.895Z"
   },
   {
    "duration": 11,
    "start_time": "2021-10-23T19:35:42.680Z"
   },
   {
    "duration": 14,
    "start_time": "2021-10-23T19:36:01.702Z"
   },
   {
    "duration": 13,
    "start_time": "2021-10-23T19:36:22.364Z"
   },
   {
    "duration": 34,
    "start_time": "2021-10-23T19:36:39.136Z"
   },
   {
    "duration": 14,
    "start_time": "2021-10-23T19:37:20.120Z"
   },
   {
    "duration": 15,
    "start_time": "2021-10-23T19:37:24.681Z"
   },
   {
    "duration": 39,
    "start_time": "2021-10-23T19:37:34.188Z"
   },
   {
    "duration": 13,
    "start_time": "2021-10-23T19:37:53.033Z"
   },
   {
    "duration": 11,
    "start_time": "2021-10-23T19:38:04.644Z"
   },
   {
    "duration": 12,
    "start_time": "2021-10-23T19:38:07.625Z"
   },
   {
    "duration": 11,
    "start_time": "2021-10-23T19:38:18.889Z"
   },
   {
    "duration": 11,
    "start_time": "2021-10-23T19:38:28.168Z"
   },
   {
    "duration": 406,
    "start_time": "2021-10-23T19:38:52.207Z"
   },
   {
    "duration": 5,
    "start_time": "2021-10-23T19:39:23.031Z"
   },
   {
    "duration": 85,
    "start_time": "2021-10-23T19:39:23.039Z"
   },
   {
    "duration": 16,
    "start_time": "2021-10-23T19:39:23.127Z"
   },
   {
    "duration": 36,
    "start_time": "2021-10-23T19:39:23.146Z"
   },
   {
    "duration": 14,
    "start_time": "2021-10-23T19:39:23.184Z"
   },
   {
    "duration": 7,
    "start_time": "2021-10-23T19:39:23.200Z"
   },
   {
    "duration": 19,
    "start_time": "2021-10-23T19:39:23.209Z"
   },
   {
    "duration": 55,
    "start_time": "2021-10-23T19:39:23.231Z"
   },
   {
    "duration": 440,
    "start_time": "2021-10-23T19:39:23.292Z"
   },
   {
    "duration": 11,
    "start_time": "2021-10-23T19:39:23.735Z"
   },
   {
    "duration": 36,
    "start_time": "2021-10-23T19:39:23.749Z"
   },
   {
    "duration": 11,
    "start_time": "2021-10-23T19:39:23.788Z"
   },
   {
    "duration": 11,
    "start_time": "2021-10-23T19:39:23.802Z"
   },
   {
    "duration": 13,
    "start_time": "2021-10-23T19:39:23.815Z"
   },
   {
    "duration": 55,
    "start_time": "2021-10-23T19:39:23.831Z"
   },
   {
    "duration": 10,
    "start_time": "2021-10-23T19:39:23.889Z"
   },
   {
    "duration": 9,
    "start_time": "2021-10-23T19:39:23.901Z"
   },
   {
    "duration": 13,
    "start_time": "2021-10-23T19:39:23.912Z"
   },
   {
    "duration": 5,
    "start_time": "2021-10-23T19:39:23.927Z"
   },
   {
    "duration": 50,
    "start_time": "2021-10-23T19:39:23.935Z"
   },
   {
    "duration": 12,
    "start_time": "2021-10-23T19:39:23.987Z"
   },
   {
    "duration": 10,
    "start_time": "2021-10-23T19:39:24.002Z"
   },
   {
    "duration": 12,
    "start_time": "2021-10-23T19:39:24.014Z"
   },
   {
    "duration": 8,
    "start_time": "2021-10-23T19:39:26.688Z"
   },
   {
    "duration": 11,
    "start_time": "2021-10-23T19:39:29.883Z"
   },
   {
    "duration": 22,
    "start_time": "2021-10-23T19:46:38.871Z"
   },
   {
    "duration": 7,
    "start_time": "2021-10-23T19:48:55.875Z"
   },
   {
    "duration": 10,
    "start_time": "2021-10-23T19:50:52.339Z"
   },
   {
    "duration": 1475,
    "start_time": "2021-10-23T19:51:00.420Z"
   },
   {
    "duration": 266,
    "start_time": "2021-10-23T19:51:27.027Z"
   },
   {
    "duration": 8,
    "start_time": "2021-10-23T19:51:44.189Z"
   },
   {
    "duration": 5,
    "start_time": "2021-10-23T20:07:06.479Z"
   },
   {
    "duration": 284,
    "start_time": "2021-10-23T20:08:08.217Z"
   },
   {
    "duration": 5,
    "start_time": "2021-10-23T20:08:54.743Z"
   },
   {
    "duration": 234,
    "start_time": "2021-10-23T20:09:46.800Z"
   },
   {
    "duration": 1033,
    "start_time": "2021-10-23T20:09:49.583Z"
   },
   {
    "duration": 6,
    "start_time": "2021-10-23T20:09:53.856Z"
   },
   {
    "duration": 6,
    "start_time": "2021-10-23T20:10:05.056Z"
   },
   {
    "duration": 7746,
    "start_time": "2021-10-23T20:10:09.048Z"
   },
   {
    "duration": 7981,
    "start_time": "2021-10-23T20:13:11.102Z"
   },
   {
    "duration": 35,
    "start_time": "2021-10-23T20:13:46.721Z"
   },
   {
    "duration": 34,
    "start_time": "2021-10-23T20:14:02.100Z"
   },
   {
    "duration": 36,
    "start_time": "2021-10-23T20:14:26.322Z"
   },
   {
    "duration": 4,
    "start_time": "2021-10-23T20:15:26.771Z"
   },
   {
    "duration": 45,
    "start_time": "2021-10-23T20:15:47.513Z"
   },
   {
    "duration": 32,
    "start_time": "2021-10-23T20:15:51.877Z"
   },
   {
    "duration": 2119,
    "start_time": "2021-10-23T20:22:00.720Z"
   },
   {
    "duration": 1040,
    "start_time": "2021-10-23T20:22:08.499Z"
   },
   {
    "duration": 33,
    "start_time": "2021-10-23T20:23:01.264Z"
   },
   {
    "duration": 456,
    "start_time": "2021-10-23T20:26:01.664Z"
   },
   {
    "duration": 23,
    "start_time": "2021-10-23T20:26:12.661Z"
   },
   {
    "duration": 36,
    "start_time": "2021-10-23T20:26:38.118Z"
   },
   {
    "duration": 36,
    "start_time": "2021-10-23T20:28:05.745Z"
   },
   {
    "duration": 35,
    "start_time": "2021-10-23T20:28:43.730Z"
   },
   {
    "duration": 35,
    "start_time": "2021-10-23T20:28:48.835Z"
   },
   {
    "duration": 36,
    "start_time": "2021-10-23T20:29:15.706Z"
   },
   {
    "duration": 37,
    "start_time": "2021-10-23T20:29:20.902Z"
   },
   {
    "duration": 33,
    "start_time": "2021-10-23T20:29:25.335Z"
   },
   {
    "duration": 34,
    "start_time": "2021-10-23T20:29:58.540Z"
   },
   {
    "duration": 31,
    "start_time": "2021-10-23T20:31:13.254Z"
   },
   {
    "duration": 30,
    "start_time": "2021-10-23T20:31:42.291Z"
   },
   {
    "duration": 293,
    "start_time": "2021-10-23T20:33:09.198Z"
   },
   {
    "duration": 29,
    "start_time": "2021-10-23T20:33:35.781Z"
   },
   {
    "duration": 29,
    "start_time": "2021-10-23T20:36:04.217Z"
   },
   {
    "duration": 102,
    "start_time": "2021-10-23T20:36:09.826Z"
   },
   {
    "duration": 49,
    "start_time": "2021-10-23T20:36:38.164Z"
   },
   {
    "duration": 29,
    "start_time": "2021-10-23T20:37:04.654Z"
   },
   {
    "duration": 134,
    "start_time": "2021-10-23T20:37:11.275Z"
   },
   {
    "duration": 103,
    "start_time": "2021-10-23T20:37:37.015Z"
   },
   {
    "duration": 28,
    "start_time": "2021-10-23T20:37:44.025Z"
   },
   {
    "duration": 90,
    "start_time": "2021-10-23T20:38:06.695Z"
   },
   {
    "duration": 29,
    "start_time": "2021-10-23T20:38:34.932Z"
   },
   {
    "duration": 29,
    "start_time": "2021-10-23T20:40:09.417Z"
   },
   {
    "duration": 30,
    "start_time": "2021-10-23T20:42:20.655Z"
   },
   {
    "duration": 32,
    "start_time": "2021-10-23T20:49:12.375Z"
   },
   {
    "duration": 32,
    "start_time": "2021-10-23T20:49:29.575Z"
   },
   {
    "duration": 110,
    "start_time": "2021-10-23T20:49:41.003Z"
   },
   {
    "duration": 33,
    "start_time": "2021-10-23T20:49:48.855Z"
   },
   {
    "duration": 268,
    "start_time": "2021-10-23T20:58:18.624Z"
   },
   {
    "duration": 292,
    "start_time": "2021-10-23T20:58:28.344Z"
   },
   {
    "duration": 6,
    "start_time": "2021-10-23T20:58:47.516Z"
   },
   {
    "duration": 14,
    "start_time": "2021-10-23T20:59:05.414Z"
   },
   {
    "duration": 18,
    "start_time": "2021-10-23T20:59:10.858Z"
   },
   {
    "duration": 7417,
    "start_time": "2021-10-23T20:59:35.235Z"
   },
   {
    "duration": 31,
    "start_time": "2021-10-23T21:00:58.877Z"
   },
   {
    "duration": 35,
    "start_time": "2021-10-23T21:02:46.899Z"
   },
   {
    "duration": 81,
    "start_time": "2021-10-23T21:04:28.227Z"
   },
   {
    "duration": 24,
    "start_time": "2021-10-23T21:04:36.331Z"
   },
   {
    "duration": 31,
    "start_time": "2021-10-23T21:04:56.315Z"
   },
   {
    "duration": 31,
    "start_time": "2021-10-23T21:05:36.532Z"
   },
   {
    "duration": 35,
    "start_time": "2021-10-23T21:07:22.837Z"
   },
   {
    "duration": 31,
    "start_time": "2021-10-23T21:07:53.011Z"
   },
   {
    "duration": 33,
    "start_time": "2021-10-23T21:08:11.241Z"
   },
   {
    "duration": 30,
    "start_time": "2021-10-23T21:09:25.084Z"
   },
   {
    "duration": 40,
    "start_time": "2021-10-23T21:09:30.338Z"
   },
   {
    "duration": 43,
    "start_time": "2021-10-23T21:09:57.875Z"
   },
   {
    "duration": 45,
    "start_time": "2021-10-23T21:11:15.205Z"
   },
   {
    "duration": 5,
    "start_time": "2021-10-23T21:33:17.223Z"
   },
   {
    "duration": 293,
    "start_time": "2021-10-23T21:37:14.494Z"
   },
   {
    "duration": 6,
    "start_time": "2021-10-23T21:37:18.584Z"
   },
   {
    "duration": 1098,
    "start_time": "2021-10-23T21:37:20.452Z"
   },
   {
    "duration": 7,
    "start_time": "2021-10-23T21:37:23.764Z"
   },
   {
    "duration": 1004,
    "start_time": "2021-10-23T21:39:06.764Z"
   },
   {
    "duration": 11,
    "start_time": "2021-10-23T21:39:38.103Z"
   },
   {
    "duration": 7,
    "start_time": "2021-10-23T21:39:46.054Z"
   },
   {
    "duration": 939,
    "start_time": "2021-10-23T21:40:13.219Z"
   },
   {
    "duration": 7,
    "start_time": "2021-10-23T21:40:20.766Z"
   },
   {
    "duration": 5,
    "start_time": "2021-10-23T21:43:36.661Z"
   },
   {
    "duration": 99,
    "start_time": "2021-10-23T21:44:04.017Z"
   },
   {
    "duration": 5,
    "start_time": "2021-10-23T21:44:07.391Z"
   },
   {
    "duration": 6,
    "start_time": "2021-10-23T21:44:37.388Z"
   },
   {
    "duration": 6,
    "start_time": "2021-10-23T21:46:53.051Z"
   },
   {
    "duration": 87,
    "start_time": "2021-10-23T21:54:06.401Z"
   },
   {
    "duration": 4,
    "start_time": "2021-10-23T21:54:17.363Z"
   },
   {
    "duration": 5,
    "start_time": "2021-10-23T21:55:25.000Z"
   },
   {
    "duration": 5,
    "start_time": "2021-10-23T21:55:37.286Z"
   },
   {
    "duration": 27,
    "start_time": "2021-10-23T21:56:04.490Z"
   },
   {
    "duration": 47,
    "start_time": "2021-10-23T21:56:15.284Z"
   },
   {
    "duration": 1064,
    "start_time": "2021-10-23T21:59:01.957Z"
   },
   {
    "duration": 974,
    "start_time": "2021-10-23T21:59:18.466Z"
   },
   {
    "duration": 5,
    "start_time": "2021-10-23T21:59:33.516Z"
   },
   {
    "duration": 8424,
    "start_time": "2021-10-23T21:59:36.318Z"
   },
   {
    "duration": 46,
    "start_time": "2021-10-23T21:59:47.169Z"
   },
   {
    "duration": 81,
    "start_time": "2021-10-23T22:01:16.913Z"
   },
   {
    "duration": 40,
    "start_time": "2021-10-23T22:01:54.800Z"
   },
   {
    "duration": 253,
    "start_time": "2021-10-24T10:42:37.561Z"
   },
   {
    "duration": 1675,
    "start_time": "2021-10-24T10:42:46.974Z"
   },
   {
    "duration": 81,
    "start_time": "2021-10-24T10:42:48.652Z"
   },
   {
    "duration": 17,
    "start_time": "2021-10-24T10:42:48.737Z"
   },
   {
    "duration": 7,
    "start_time": "2021-10-24T10:42:48.757Z"
   },
   {
    "duration": 16,
    "start_time": "2021-10-24T10:42:48.766Z"
   },
   {
    "duration": 7,
    "start_time": "2021-10-24T10:42:48.784Z"
   },
   {
    "duration": 51,
    "start_time": "2021-10-24T10:42:48.793Z"
   },
   {
    "duration": 13,
    "start_time": "2021-10-24T10:42:48.847Z"
   },
   {
    "duration": 533,
    "start_time": "2021-10-24T10:42:48.863Z"
   },
   {
    "duration": 13,
    "start_time": "2021-10-24T10:42:49.398Z"
   },
   {
    "duration": 23,
    "start_time": "2021-10-24T10:42:49.413Z"
   },
   {
    "duration": 10,
    "start_time": "2021-10-24T10:42:49.438Z"
   },
   {
    "duration": 10,
    "start_time": "2021-10-24T10:42:49.451Z"
   },
   {
    "duration": 14,
    "start_time": "2021-10-24T10:42:49.463Z"
   },
   {
    "duration": 50,
    "start_time": "2021-10-24T10:42:49.480Z"
   },
   {
    "duration": 13,
    "start_time": "2021-10-24T10:42:49.532Z"
   },
   {
    "duration": 6,
    "start_time": "2021-10-24T10:42:49.548Z"
   },
   {
    "duration": 12,
    "start_time": "2021-10-24T10:42:49.556Z"
   },
   {
    "duration": 4,
    "start_time": "2021-10-24T10:42:49.571Z"
   },
   {
    "duration": 11,
    "start_time": "2021-10-24T10:42:49.577Z"
   },
   {
    "duration": 52,
    "start_time": "2021-10-24T10:42:49.591Z"
   },
   {
    "duration": 11,
    "start_time": "2021-10-24T10:42:49.646Z"
   },
   {
    "duration": 11,
    "start_time": "2021-10-24T10:42:49.662Z"
   },
   {
    "duration": 8,
    "start_time": "2021-10-24T10:42:49.676Z"
   },
   {
    "duration": 49,
    "start_time": "2021-10-24T10:42:49.686Z"
   },
   {
    "duration": 25,
    "start_time": "2021-10-24T10:42:49.738Z"
   },
   {
    "duration": 22,
    "start_time": "2021-10-24T10:42:49.766Z"
   },
   {
    "duration": 61,
    "start_time": "2021-10-24T10:42:49.791Z"
   },
   {
    "duration": 38,
    "start_time": "2021-10-24T10:42:49.855Z"
   },
   {
    "duration": 6,
    "start_time": "2021-10-24T10:42:49.895Z"
   },
   {
    "duration": 991,
    "start_time": "2021-10-24T10:42:49.930Z"
   },
   {
    "duration": 14,
    "start_time": "2021-10-24T10:42:50.923Z"
   },
   {
    "duration": 7,
    "start_time": "2021-10-24T10:42:50.940Z"
   },
   {
    "duration": 8,
    "start_time": "2021-10-24T10:42:50.950Z"
   },
   {
    "duration": 9298,
    "start_time": "2021-10-24T10:42:50.960Z"
   },
   {
    "duration": 33,
    "start_time": "2021-10-24T10:43:00.260Z"
   },
   {
    "duration": 3971,
    "start_time": "2021-10-24T10:43:00.295Z"
   },
   {
    "duration": 2276,
    "start_time": "2021-10-24T10:43:04.269Z"
   },
   {
    "duration": 1033,
    "start_time": "2021-10-24T10:43:06.548Z"
   },
   {
    "duration": 33,
    "start_time": "2021-10-24T10:43:07.583Z"
   },
   {
    "duration": 51,
    "start_time": "2021-10-24T10:43:07.629Z"
   },
   {
    "duration": 53,
    "start_time": "2021-10-24T10:43:07.683Z"
   },
   {
    "duration": 140,
    "start_time": "2021-10-24T10:43:07.739Z"
   },
   {
    "duration": 48,
    "start_time": "2021-10-24T10:43:07.881Z"
   },
   {
    "duration": 42,
    "start_time": "2021-10-24T10:49:48.836Z"
   },
   {
    "duration": 1617,
    "start_time": "2021-10-24T10:50:12.415Z"
   },
   {
    "duration": 82,
    "start_time": "2021-10-24T10:50:14.035Z"
   },
   {
    "duration": 20,
    "start_time": "2021-10-24T10:50:14.121Z"
   },
   {
    "duration": 5,
    "start_time": "2021-10-24T10:50:14.144Z"
   },
   {
    "duration": 18,
    "start_time": "2021-10-24T10:50:14.151Z"
   },
   {
    "duration": 5,
    "start_time": "2021-10-24T10:50:14.171Z"
   },
   {
    "duration": 57,
    "start_time": "2021-10-24T10:50:14.178Z"
   },
   {
    "duration": 12,
    "start_time": "2021-10-24T10:50:14.238Z"
   },
   {
    "duration": 515,
    "start_time": "2021-10-24T10:50:14.253Z"
   },
   {
    "duration": 12,
    "start_time": "2021-10-24T10:50:14.770Z"
   },
   {
    "duration": 8,
    "start_time": "2021-10-24T10:50:14.785Z"
   },
   {
    "duration": 36,
    "start_time": "2021-10-24T10:50:14.795Z"
   },
   {
    "duration": 12,
    "start_time": "2021-10-24T10:50:14.834Z"
   },
   {
    "duration": 11,
    "start_time": "2021-10-24T10:50:14.849Z"
   },
   {
    "duration": 12,
    "start_time": "2021-10-24T10:50:14.863Z"
   },
   {
    "duration": 9,
    "start_time": "2021-10-24T10:50:14.878Z"
   },
   {
    "duration": 4,
    "start_time": "2021-10-24T10:50:14.930Z"
   },
   {
    "duration": 10,
    "start_time": "2021-10-24T10:50:14.937Z"
   },
   {
    "duration": 5,
    "start_time": "2021-10-24T10:50:14.949Z"
   },
   {
    "duration": 13,
    "start_time": "2021-10-24T10:50:14.956Z"
   },
   {
    "duration": 18,
    "start_time": "2021-10-24T10:50:14.972Z"
   },
   {
    "duration": 41,
    "start_time": "2021-10-24T10:50:14.993Z"
   },
   {
    "duration": 13,
    "start_time": "2021-10-24T10:50:15.039Z"
   },
   {
    "duration": 15,
    "start_time": "2021-10-24T10:50:15.054Z"
   },
   {
    "duration": 10,
    "start_time": "2021-10-24T10:50:15.072Z"
   },
   {
    "duration": 59,
    "start_time": "2021-10-24T10:50:15.084Z"
   },
   {
    "duration": 23,
    "start_time": "2021-10-24T10:50:15.145Z"
   },
   {
    "duration": 29,
    "start_time": "2021-10-24T10:50:15.171Z"
   },
   {
    "duration": 62,
    "start_time": "2021-10-24T10:50:15.202Z"
   },
   {
    "duration": 6,
    "start_time": "2021-10-24T10:50:15.267Z"
   },
   {
    "duration": 931,
    "start_time": "2021-10-24T10:50:15.275Z"
   },
   {
    "duration": 6,
    "start_time": "2021-10-24T10:50:16.209Z"
   },
   {
    "duration": 4,
    "start_time": "2021-10-24T10:50:16.229Z"
   },
   {
    "duration": 6,
    "start_time": "2021-10-24T10:50:16.235Z"
   },
   {
    "duration": 8371,
    "start_time": "2021-10-24T10:50:16.243Z"
   },
   {
    "duration": 33,
    "start_time": "2021-10-24T10:50:24.629Z"
   },
   {
    "duration": 1869,
    "start_time": "2021-10-24T10:50:24.664Z"
   },
   {
    "duration": 1022,
    "start_time": "2021-10-24T10:50:26.535Z"
   },
   {
    "duration": 32,
    "start_time": "2021-10-24T10:50:27.559Z"
   },
   {
    "duration": 66,
    "start_time": "2021-10-24T10:50:27.594Z"
   },
   {
    "duration": 29,
    "start_time": "2021-10-24T10:50:27.662Z"
   },
   {
    "duration": 136,
    "start_time": "2021-10-24T10:50:27.694Z"
   },
   {
    "duration": 30,
    "start_time": "2021-10-24T10:50:27.832Z"
   },
   {
    "duration": 1753,
    "start_time": "2021-10-24T11:41:18.759Z"
   },
   {
    "duration": 82,
    "start_time": "2021-10-24T11:41:20.515Z"
   },
   {
    "duration": 15,
    "start_time": "2021-10-24T11:41:20.600Z"
   },
   {
    "duration": 6,
    "start_time": "2021-10-24T11:41:20.618Z"
   },
   {
    "duration": 17,
    "start_time": "2021-10-24T11:41:20.626Z"
   },
   {
    "duration": 5,
    "start_time": "2021-10-24T11:41:20.646Z"
   },
   {
    "duration": 16,
    "start_time": "2021-10-24T11:41:20.682Z"
   },
   {
    "duration": 13,
    "start_time": "2021-10-24T11:41:20.701Z"
   },
   {
    "duration": 524,
    "start_time": "2021-10-24T11:41:20.717Z"
   },
   {
    "duration": 15,
    "start_time": "2021-10-24T11:41:21.244Z"
   },
   {
    "duration": 24,
    "start_time": "2021-10-24T11:41:21.261Z"
   },
   {
    "duration": 9,
    "start_time": "2021-10-24T11:41:21.287Z"
   },
   {
    "duration": 8,
    "start_time": "2021-10-24T11:41:21.298Z"
   },
   {
    "duration": 10,
    "start_time": "2021-10-24T11:41:21.308Z"
   },
   {
    "duration": 12,
    "start_time": "2021-10-24T11:41:21.320Z"
   },
   {
    "duration": 47,
    "start_time": "2021-10-24T11:41:21.334Z"
   },
   {
    "duration": 4,
    "start_time": "2021-10-24T11:41:21.384Z"
   },
   {
    "duration": 10,
    "start_time": "2021-10-24T11:41:21.390Z"
   },
   {
    "duration": 3,
    "start_time": "2021-10-24T11:41:21.403Z"
   },
   {
    "duration": 8,
    "start_time": "2021-10-24T11:41:21.409Z"
   },
   {
    "duration": 11,
    "start_time": "2021-10-24T11:41:21.419Z"
   },
   {
    "duration": 54,
    "start_time": "2021-10-24T11:41:21.432Z"
   },
   {
    "duration": 10,
    "start_time": "2021-10-24T11:41:21.490Z"
   },
   {
    "duration": 8,
    "start_time": "2021-10-24T11:41:21.503Z"
   },
   {
    "duration": 11,
    "start_time": "2021-10-24T11:41:21.513Z"
   },
   {
    "duration": 60,
    "start_time": "2021-10-24T11:41:21.526Z"
   },
   {
    "duration": 22,
    "start_time": "2021-10-24T11:41:21.589Z"
   },
   {
    "duration": 30,
    "start_time": "2021-10-24T11:41:21.613Z"
   },
   {
    "duration": 72,
    "start_time": "2021-10-24T11:41:21.646Z"
   },
   {
    "duration": 6,
    "start_time": "2021-10-24T11:41:21.720Z"
   },
   {
    "duration": 991,
    "start_time": "2021-10-24T11:41:21.728Z"
   },
   {
    "duration": 3497,
    "start_time": "2021-10-24T11:41:55.259Z"
   },
   {
    "duration": 3492,
    "start_time": "2021-10-24T11:42:04.436Z"
   },
   {
    "duration": 2139,
    "start_time": "2021-10-24T11:42:07.930Z"
   },
   {
    "duration": 951,
    "start_time": "2021-10-24T11:42:10.081Z"
   },
   {
    "duration": 33,
    "start_time": "2021-10-24T11:42:11.035Z"
   },
   {
    "duration": 41,
    "start_time": "2021-10-24T11:42:11.083Z"
   },
   {
    "duration": 29,
    "start_time": "2021-10-24T11:42:11.126Z"
   },
   {
    "duration": 226,
    "start_time": "2021-10-24T11:42:11.158Z"
   },
   {
    "duration": 487,
    "start_time": "2021-10-24T11:42:11.387Z"
   },
   {
    "duration": 3506,
    "start_time": "2021-10-24T11:43:52.746Z"
   },
   {
    "duration": 5,
    "start_time": "2021-10-24T11:44:05.944Z"
   },
   {
    "duration": 85,
    "start_time": "2021-10-24T11:44:05.951Z"
   },
   {
    "duration": 15,
    "start_time": "2021-10-24T11:44:06.038Z"
   },
   {
    "duration": 28,
    "start_time": "2021-10-24T11:44:06.055Z"
   },
   {
    "duration": 13,
    "start_time": "2021-10-24T11:44:06.085Z"
   },
   {
    "duration": 6,
    "start_time": "2021-10-24T11:44:06.100Z"
   },
   {
    "duration": 21,
    "start_time": "2021-10-24T11:44:06.108Z"
   },
   {
    "duration": 11,
    "start_time": "2021-10-24T11:44:06.132Z"
   },
   {
    "duration": 582,
    "start_time": "2021-10-24T11:44:06.147Z"
   },
   {
    "duration": 9,
    "start_time": "2021-10-24T11:44:06.732Z"
   },
   {
    "duration": 9,
    "start_time": "2021-10-24T11:44:06.743Z"
   },
   {
    "duration": 30,
    "start_time": "2021-10-24T11:44:06.754Z"
   },
   {
    "duration": 13,
    "start_time": "2021-10-24T11:44:06.786Z"
   },
   {
    "duration": 30,
    "start_time": "2021-10-24T11:44:06.801Z"
   },
   {
    "duration": 15,
    "start_time": "2021-10-24T11:44:06.834Z"
   },
   {
    "duration": 11,
    "start_time": "2021-10-24T11:44:06.852Z"
   },
   {
    "duration": 18,
    "start_time": "2021-10-24T11:44:06.865Z"
   },
   {
    "duration": 9,
    "start_time": "2021-10-24T11:44:06.886Z"
   },
   {
    "duration": 4,
    "start_time": "2021-10-24T11:44:06.898Z"
   },
   {
    "duration": 7,
    "start_time": "2021-10-24T11:44:06.905Z"
   },
   {
    "duration": 14,
    "start_time": "2021-10-24T11:44:06.914Z"
   },
   {
    "duration": 9,
    "start_time": "2021-10-24T11:44:06.930Z"
   },
   {
    "duration": 11,
    "start_time": "2021-10-24T11:44:06.982Z"
   },
   {
    "duration": 7,
    "start_time": "2021-10-24T11:44:06.996Z"
   },
   {
    "duration": 11,
    "start_time": "2021-10-24T11:44:07.005Z"
   },
   {
    "duration": 19,
    "start_time": "2021-10-24T11:44:07.019Z"
   },
   {
    "duration": 23,
    "start_time": "2021-10-24T11:44:07.083Z"
   },
   {
    "duration": 30,
    "start_time": "2021-10-24T11:44:07.109Z"
   },
   {
    "duration": 65,
    "start_time": "2021-10-24T11:44:07.141Z"
   },
   {
    "duration": 6,
    "start_time": "2021-10-24T11:44:07.208Z"
   },
   {
    "duration": 972,
    "start_time": "2021-10-24T11:44:07.216Z"
   },
   {
    "duration": 7,
    "start_time": "2021-10-24T11:44:08.192Z"
   },
   {
    "duration": 3497,
    "start_time": "2021-10-24T11:44:17.417Z"
   },
   {
    "duration": 3542,
    "start_time": "2021-10-24T11:44:24.554Z"
   },
   {
    "duration": 2329,
    "start_time": "2021-10-24T11:44:28.098Z"
   },
   {
    "duration": 1125,
    "start_time": "2021-10-24T11:44:30.430Z"
   },
   {
    "duration": 48,
    "start_time": "2021-10-24T11:44:31.558Z"
   },
   {
    "duration": 45,
    "start_time": "2021-10-24T11:44:31.609Z"
   },
   {
    "duration": 52,
    "start_time": "2021-10-24T11:44:31.657Z"
   },
   {
    "duration": 134,
    "start_time": "2021-10-24T11:44:31.712Z"
   },
   {
    "duration": 48,
    "start_time": "2021-10-24T11:44:31.850Z"
   },
   {
    "duration": 5,
    "start_time": "2021-10-24T11:45:22.275Z"
   },
   {
    "duration": 79,
    "start_time": "2021-10-24T11:45:22.283Z"
   },
   {
    "duration": 26,
    "start_time": "2021-10-24T11:45:22.365Z"
   },
   {
    "duration": 5,
    "start_time": "2021-10-24T11:45:22.394Z"
   },
   {
    "duration": 12,
    "start_time": "2021-10-24T11:45:22.401Z"
   },
   {
    "duration": 5,
    "start_time": "2021-10-24T11:45:22.415Z"
   },
   {
    "duration": 64,
    "start_time": "2021-10-24T11:45:22.422Z"
   },
   {
    "duration": 13,
    "start_time": "2021-10-24T11:45:22.489Z"
   },
   {
    "duration": 678,
    "start_time": "2021-10-24T11:45:22.506Z"
   },
   {
    "duration": 10,
    "start_time": "2021-10-24T11:45:23.187Z"
   },
   {
    "duration": 8,
    "start_time": "2021-10-24T11:45:23.199Z"
   },
   {
    "duration": 10,
    "start_time": "2021-10-24T11:45:23.209Z"
   },
   {
    "duration": 9,
    "start_time": "2021-10-24T11:45:23.221Z"
   },
   {
    "duration": 10,
    "start_time": "2021-10-24T11:45:23.232Z"
   },
   {
    "duration": 46,
    "start_time": "2021-10-24T11:45:23.244Z"
   },
   {
    "duration": 8,
    "start_time": "2021-10-24T11:45:23.293Z"
   },
   {
    "duration": 7,
    "start_time": "2021-10-24T11:45:23.303Z"
   },
   {
    "duration": 10,
    "start_time": "2021-10-24T11:45:23.312Z"
   },
   {
    "duration": 5,
    "start_time": "2021-10-24T11:45:23.324Z"
   },
   {
    "duration": 56,
    "start_time": "2021-10-24T11:45:23.331Z"
   },
   {
    "duration": 12,
    "start_time": "2021-10-24T11:45:23.389Z"
   },
   {
    "duration": 9,
    "start_time": "2021-10-24T11:45:23.403Z"
   },
   {
    "duration": 11,
    "start_time": "2021-10-24T11:45:23.414Z"
   },
   {
    "duration": 7,
    "start_time": "2021-10-24T11:45:23.428Z"
   },
   {
    "duration": 52,
    "start_time": "2021-10-24T11:45:23.437Z"
   },
   {
    "duration": 19,
    "start_time": "2021-10-24T11:45:23.491Z"
   },
   {
    "duration": 21,
    "start_time": "2021-10-24T11:45:23.515Z"
   },
   {
    "duration": 65,
    "start_time": "2021-10-24T11:45:23.539Z"
   },
   {
    "duration": 38,
    "start_time": "2021-10-24T11:45:23.607Z"
   },
   {
    "duration": 6,
    "start_time": "2021-10-24T11:45:23.647Z"
   },
   {
    "duration": 1076,
    "start_time": "2021-10-24T11:45:23.655Z"
   },
   {
    "duration": 6,
    "start_time": "2021-10-24T11:45:24.734Z"
   },
   {
    "duration": 3741,
    "start_time": "2021-10-24T11:45:24.743Z"
   },
   {
    "duration": 2157,
    "start_time": "2021-10-24T11:45:28.486Z"
   },
   {
    "duration": 1121,
    "start_time": "2021-10-24T11:45:30.645Z"
   },
   {
    "duration": 43,
    "start_time": "2021-10-24T11:45:31.770Z"
   },
   {
    "duration": 73,
    "start_time": "2021-10-24T11:45:31.817Z"
   },
   {
    "duration": 32,
    "start_time": "2021-10-24T11:45:31.894Z"
   },
   {
    "duration": 138,
    "start_time": "2021-10-24T11:45:31.928Z"
   },
   {
    "duration": 39,
    "start_time": "2021-10-24T11:45:32.069Z"
   },
   {
    "duration": 111,
    "start_time": "2021-10-24T11:46:24.306Z"
   }
  ],
  "kernelspec": {
   "display_name": "Python 3",
   "language": "python",
   "name": "python3"
  },
  "language_info": {
   "codemirror_mode": {
    "name": "ipython",
    "version": 3
   },
   "file_extension": ".py",
   "mimetype": "text/x-python",
   "name": "python",
   "nbconvert_exporter": "python",
   "pygments_lexer": "ipython3",
   "version": "3.7.8"
  },
  "toc": {
   "base_numbering": 1,
   "nav_menu": {},
   "number_sections": true,
   "sideBar": true,
   "skip_h1_title": true,
   "title_cell": "Table of Contents",
   "title_sidebar": "Contents",
   "toc_cell": false,
   "toc_position": {},
   "toc_section_display": true,
   "toc_window_display": false
  }
 },
 "nbformat": 4,
 "nbformat_minor": 2
}

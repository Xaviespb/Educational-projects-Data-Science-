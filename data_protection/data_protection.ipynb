{
 "cells": [
  {
   "cell_type": "markdown",
   "metadata": {
    "toc": true
   },
   "source": [
    "<h1>Содержание<span class=\"tocSkip\"></span></h1>\n",
    "<div class=\"toc\"><ul class=\"toc-item\"><li><span><a href=\"#Загрузка-данных\" data-toc-modified-id=\"Загрузка-данных-1\"><span class=\"toc-item-num\">1&nbsp;&nbsp;</span>Загрузка данных</a></span></li><li><span><a href=\"#Умножение-матриц\" data-toc-modified-id=\"Умножение-матриц-2\"><span class=\"toc-item-num\">2&nbsp;&nbsp;</span>Умножение матриц</a></span></li><li><span><a href=\"#Алгоритм-преобразования\" data-toc-modified-id=\"Алгоритм-преобразования-3\"><span class=\"toc-item-num\">3&nbsp;&nbsp;</span>Алгоритм преобразования</a></span></li><li><span><a href=\"#Проверка-алгоритма\" data-toc-modified-id=\"Проверка-алгоритма-4\"><span class=\"toc-item-num\">4&nbsp;&nbsp;</span>Проверка алгоритма</a></span></li><li><span><a href=\"#Чек-лист-проверки\" data-toc-modified-id=\"Чек-лист-проверки-5\"><span class=\"toc-item-num\">5&nbsp;&nbsp;</span>Чек-лист проверки</a></span></li></ul></div>"
   ]
  },
  {
   "cell_type": "markdown",
   "metadata": {},
   "source": [
    "# Защита персональных данных клиентов"
   ]
  },
  {
   "cell_type": "markdown",
   "metadata": {},
   "source": [
    "Нужно защитить данные клиентов страховой компании. Разработайте такой метод преобразования данных, чтобы по ним было сложно восстановить персональную информацию. Обоснуйте корректность его работы.\n",
    "\n",
    "Нужно защитить данные, чтобы при преобразовании качество моделей машинного обучения не ухудшилось. Подбирать наилучшую модель не требуется."
   ]
  },
  {
   "cell_type": "markdown",
   "metadata": {},
   "source": [
    "## Загрузка данных"
   ]
  },
  {
   "cell_type": "code",
   "execution_count": 1,
   "metadata": {},
   "outputs": [],
   "source": [
    "import pandas as pd\n",
    "from sklearn.model_selection import train_test_split, cross_val_score\n",
    "from sklearn.linear_model import LinearRegression\n",
    "from sklearn.metrics import r2_score\n",
    "import numpy as np\n",
    "\n",
    "pd.set_option('display.float_format', '{:,.2f}'.format)"
   ]
  },
  {
   "cell_type": "code",
   "execution_count": 2,
   "metadata": {},
   "outputs": [],
   "source": [
    "df = pd.read_csv('/datasets/insurance.csv')"
   ]
  },
  {
   "cell_type": "code",
   "execution_count": 3,
   "metadata": {
    "scrolled": true
   },
   "outputs": [
    {
     "data": {
      "text/html": [
       "<div>\n",
       "<style scoped>\n",
       "    .dataframe tbody tr th:only-of-type {\n",
       "        vertical-align: middle;\n",
       "    }\n",
       "\n",
       "    .dataframe tbody tr th {\n",
       "        vertical-align: top;\n",
       "    }\n",
       "\n",
       "    .dataframe thead th {\n",
       "        text-align: right;\n",
       "    }\n",
       "</style>\n",
       "<table border=\"1\" class=\"dataframe\">\n",
       "  <thead>\n",
       "    <tr style=\"text-align: right;\">\n",
       "      <th></th>\n",
       "      <th>Пол</th>\n",
       "      <th>Возраст</th>\n",
       "      <th>Зарплата</th>\n",
       "      <th>Члены семьи</th>\n",
       "      <th>Страховые выплаты</th>\n",
       "    </tr>\n",
       "  </thead>\n",
       "  <tbody>\n",
       "    <tr>\n",
       "      <td>0</td>\n",
       "      <td>1</td>\n",
       "      <td>41.00</td>\n",
       "      <td>49,600.00</td>\n",
       "      <td>1</td>\n",
       "      <td>0</td>\n",
       "    </tr>\n",
       "    <tr>\n",
       "      <td>1</td>\n",
       "      <td>0</td>\n",
       "      <td>46.00</td>\n",
       "      <td>38,000.00</td>\n",
       "      <td>1</td>\n",
       "      <td>1</td>\n",
       "    </tr>\n",
       "    <tr>\n",
       "      <td>2</td>\n",
       "      <td>0</td>\n",
       "      <td>29.00</td>\n",
       "      <td>21,000.00</td>\n",
       "      <td>0</td>\n",
       "      <td>0</td>\n",
       "    </tr>\n",
       "    <tr>\n",
       "      <td>3</td>\n",
       "      <td>0</td>\n",
       "      <td>21.00</td>\n",
       "      <td>41,700.00</td>\n",
       "      <td>2</td>\n",
       "      <td>0</td>\n",
       "    </tr>\n",
       "    <tr>\n",
       "      <td>4</td>\n",
       "      <td>1</td>\n",
       "      <td>28.00</td>\n",
       "      <td>26,100.00</td>\n",
       "      <td>0</td>\n",
       "      <td>0</td>\n",
       "    </tr>\n",
       "  </tbody>\n",
       "</table>\n",
       "</div>"
      ],
      "text/plain": [
       "   Пол  Возраст  Зарплата  Члены семьи  Страховые выплаты\n",
       "0    1    41.00 49,600.00            1                  0\n",
       "1    0    46.00 38,000.00            1                  1\n",
       "2    0    29.00 21,000.00            0                  0\n",
       "3    0    21.00 41,700.00            2                  0\n",
       "4    1    28.00 26,100.00            0                  0"
      ]
     },
     "execution_count": 3,
     "metadata": {},
     "output_type": "execute_result"
    }
   ],
   "source": [
    "df.head()"
   ]
  },
  {
   "cell_type": "markdown",
   "metadata": {},
   "source": [
    "Проверим типы данных"
   ]
  },
  {
   "cell_type": "code",
   "execution_count": 4,
   "metadata": {
    "scrolled": false
   },
   "outputs": [
    {
     "name": "stdout",
     "output_type": "stream",
     "text": [
      "<class 'pandas.core.frame.DataFrame'>\n",
      "RangeIndex: 5000 entries, 0 to 4999\n",
      "Data columns (total 5 columns):\n",
      "Пол                  5000 non-null int64\n",
      "Возраст              5000 non-null float64\n",
      "Зарплата             5000 non-null float64\n",
      "Члены семьи          5000 non-null int64\n",
      "Страховые выплаты    5000 non-null int64\n",
      "dtypes: float64(2), int64(3)\n",
      "memory usage: 195.4 KB\n"
     ]
    }
   ],
   "source": [
    "df.info()"
   ]
  },
  {
   "cell_type": "markdown",
   "metadata": {},
   "source": [
    "Преобразуем названия столбцов для удобства"
   ]
  },
  {
   "cell_type": "code",
   "execution_count": 5,
   "metadata": {},
   "outputs": [],
   "source": [
    "df.columns = ['sex', 'age', 'salary', 'family_members', 'payments']"
   ]
  },
  {
   "cell_type": "markdown",
   "metadata": {},
   "source": [
    "Заменим тип данных 'age' и 'salary' на int64"
   ]
  },
  {
   "cell_type": "code",
   "execution_count": 6,
   "metadata": {},
   "outputs": [],
   "source": [
    "df['age'] = df['age'].astype('int')"
   ]
  },
  {
   "cell_type": "code",
   "execution_count": 7,
   "metadata": {},
   "outputs": [],
   "source": [
    "df['salary'] = df['salary'].astype('int')"
   ]
  },
  {
   "cell_type": "markdown",
   "metadata": {},
   "source": [
    "Проверим наличие пропусков"
   ]
  },
  {
   "cell_type": "code",
   "execution_count": 8,
   "metadata": {},
   "outputs": [
    {
     "data": {
      "text/plain": [
       "sex               0\n",
       "age               0\n",
       "salary            0\n",
       "family_members    0\n",
       "payments          0\n",
       "dtype: int64"
      ]
     },
     "execution_count": 8,
     "metadata": {},
     "output_type": "execute_result"
    }
   ],
   "source": [
    "df.isna().sum()"
   ]
  },
  {
   "cell_type": "markdown",
   "metadata": {},
   "source": [
    "Проверим наличие дубликатов"
   ]
  },
  {
   "cell_type": "code",
   "execution_count": 9,
   "metadata": {},
   "outputs": [
    {
     "data": {
      "text/plain": [
       "153"
      ]
     },
     "execution_count": 9,
     "metadata": {},
     "output_type": "execute_result"
    }
   ],
   "source": [
    "df.duplicated().sum()"
   ]
  },
  {
   "cell_type": "markdown",
   "metadata": {},
   "source": [
    "Удалим дубликаты"
   ]
  },
  {
   "cell_type": "code",
   "execution_count": 10,
   "metadata": {},
   "outputs": [],
   "source": [
    "df = df[~df.duplicated()]"
   ]
  },
  {
   "cell_type": "markdown",
   "metadata": {},
   "source": [
    "Выделим признаки и целевой признак"
   ]
  },
  {
   "cell_type": "code",
   "execution_count": 11,
   "metadata": {},
   "outputs": [],
   "source": [
    "target = df['payments']\n",
    "features = df.drop(['payments'] , axis=1)"
   ]
  },
  {
   "cell_type": "markdown",
   "metadata": {},
   "source": [
    "Напишим переиспользуемую функцию обучения и применения линейной регрессии"
   ]
  },
  {
   "cell_type": "code",
   "execution_count": 12,
   "metadata": {},
   "outputs": [],
   "source": [
    "def lr_model(features, target):\n",
    "    features_train, features_test, target_train, target_test = train_test_split(\n",
    "    features,\n",
    "    target,\n",
    "    test_size=0.25,\n",
    "    random_state=17)\n",
    "    lr = LinearRegression().fit(features_train, target_train)\n",
    "    scores = cross_val_score(lr, features_train, target_train, scoring='r2', cv=5)\n",
    "    print('Train scores:')\n",
    "    print('scores = {} \\nmean score = {:.5f} +/- {:.5f}'.format(scores, scores.mean(), scores.std()))\n",
    "    print()\n",
    "    print('Test scores:')\n",
    "    scores = cross_val_score(lr, features_test, target_test, scoring='r2', cv=5)\n",
    "    print('scores = {} \\nmean score = {:.5f} +/- {:.5f}'.format(scores, scores.mean(), scores.std()))"
   ]
  },
  {
   "cell_type": "markdown",
   "metadata": {},
   "source": [
    "Проверим оценки на трейне и тесте"
   ]
  },
  {
   "cell_type": "code",
   "execution_count": 13,
   "metadata": {
    "scrolled": true
   },
   "outputs": [
    {
     "name": "stdout",
     "output_type": "stream",
     "text": [
      "Train scores:\n",
      "scores = [0.44233097 0.4423793  0.41464155 0.41437853 0.43723501] \n",
      "mean score = 0.43019 +/- 0.01294\n",
      "\n",
      "Test scores:\n",
      "scores = [0.38492451 0.44838518 0.42374175 0.41821723 0.40131333] \n",
      "mean score = 0.41532 +/- 0.02141\n"
     ]
    }
   ],
   "source": [
    "lr_model(features, target)"
   ]
  },
  {
   "cell_type": "markdown",
   "metadata": {},
   "source": [
    "## Умножение матриц"
   ]
  },
  {
   "cell_type": "markdown",
   "metadata": {},
   "source": [
    "Обозначения:\n",
    "\n",
    "- $X$ — матрица признаков (нулевой столбец состоит из единиц)\n",
    "\n",
    "- $y$ — вектор целевого признака\n",
    "\n",
    "- $P$ — матрица, на которую умножаются признаки\n",
    "\n",
    "- $w$ — вектор весов линейной регрессии (нулевой элемент равен сдвигу)"
   ]
  },
  {
   "cell_type": "markdown",
   "metadata": {},
   "source": [
    "Предсказания:\n",
    "\n",
    "$$\n",
    "a = Xw\n",
    "$$\n",
    "\n",
    "Задача обучения:\n",
    "\n",
    "$$\n",
    "w = \\arg\\min_w MSE(Xw, y)\n",
    "$$\n",
    "\n",
    "Формула обучения:\n",
    "\n",
    "$$\n",
    "w = (X^T X)^{-1} X^T y\n",
    "$$"
   ]
  },
  {
   "cell_type": "markdown",
   "metadata": {},
   "source": [
    "Требования к матрице на которую домножаем признаки: соответствующая размерность для домножения (те должна быть согласована) и наличие обратной матрицы."
   ]
  },
  {
   "cell_type": "markdown",
   "metadata": {},
   "source": [
    "Размерность исходной матрицы"
   ]
  },
  {
   "cell_type": "code",
   "execution_count": 14,
   "metadata": {},
   "outputs": [
    {
     "data": {
      "text/plain": [
       "(4847, 4)"
      ]
     },
     "execution_count": 14,
     "metadata": {},
     "output_type": "execute_result"
    }
   ],
   "source": [
    "features.shape"
   ]
  },
  {
   "cell_type": "markdown",
   "metadata": {},
   "source": [
    "Сгенерируем матрицу для домножения"
   ]
  },
  {
   "cell_type": "code",
   "execution_count": 15,
   "metadata": {
    "scrolled": true
   },
   "outputs": [
    {
     "data": {
      "text/plain": [
       "array([[0.89856913, 0.0777602 , 0.66925436, 0.22883809],\n",
       "       [0.92418796, 0.52327007, 0.99199601, 0.11175195],\n",
       "       [0.1311682 , 0.09634312, 0.37395671, 0.35521436],\n",
       "       [0.42059163, 0.58314951, 0.32840864, 0.45462248]])"
      ]
     },
     "execution_count": 15,
     "metadata": {},
     "output_type": "execute_result"
    }
   ],
   "source": [
    "coder = np.random.rand(4,4)\n",
    "coder"
   ]
  },
  {
   "cell_type": "markdown",
   "metadata": {},
   "source": [
    "Проведем операцию матричного умножения"
   ]
  },
  {
   "cell_type": "code",
   "execution_count": 16,
   "metadata": {},
   "outputs": [],
   "source": [
    "features_coded = features.dot(coder)"
   ]
  },
  {
   "cell_type": "code",
   "execution_count": 17,
   "metadata": {
    "scrolled": true
   },
   "outputs": [
    {
     "data": {
      "text/html": [
       "<div>\n",
       "<style scoped>\n",
       "    .dataframe tbody tr th:only-of-type {\n",
       "        vertical-align: middle;\n",
       "    }\n",
       "\n",
       "    .dataframe tbody tr th {\n",
       "        vertical-align: top;\n",
       "    }\n",
       "\n",
       "    .dataframe thead th {\n",
       "        text-align: right;\n",
       "    }\n",
       "</style>\n",
       "<table border=\"1\" class=\"dataframe\">\n",
       "  <thead>\n",
       "    <tr style=\"text-align: right;\">\n",
       "      <th></th>\n",
       "      <th>0</th>\n",
       "      <th>1</th>\n",
       "      <th>2</th>\n",
       "      <th>3</th>\n",
       "    </tr>\n",
       "  </thead>\n",
       "  <tbody>\n",
       "    <tr>\n",
       "      <td>0</td>\n",
       "      <td>6,545.15</td>\n",
       "      <td>4,800.73</td>\n",
       "      <td>18,589.92</td>\n",
       "      <td>17,623.90</td>\n",
       "    </tr>\n",
       "    <tr>\n",
       "      <td>1</td>\n",
       "      <td>5,027.32</td>\n",
       "      <td>3,685.69</td>\n",
       "      <td>14,256.32</td>\n",
       "      <td>13,503.74</td>\n",
       "    </tr>\n",
       "    <tr>\n",
       "      <td>2</td>\n",
       "      <td>2,781.33</td>\n",
       "      <td>2,038.38</td>\n",
       "      <td>7,881.86</td>\n",
       "      <td>7,462.74</td>\n",
       "    </tr>\n",
       "    <tr>\n",
       "      <td>3</td>\n",
       "      <td>5,489.96</td>\n",
       "      <td>4,029.66</td>\n",
       "      <td>15,615.48</td>\n",
       "      <td>14,815.69</td>\n",
       "    </tr>\n",
       "    <tr>\n",
       "      <td>4</td>\n",
       "      <td>3,450.27</td>\n",
       "      <td>2,529.28</td>\n",
       "      <td>9,788.72</td>\n",
       "      <td>9,274.45</td>\n",
       "    </tr>\n",
       "    <tr>\n",
       "      <td>...</td>\n",
       "      <td>...</td>\n",
       "      <td>...</td>\n",
       "      <td>...</td>\n",
       "      <td>...</td>\n",
       "    </tr>\n",
       "    <tr>\n",
       "      <td>4995</td>\n",
       "      <td>4,709.42</td>\n",
       "      <td>3,455.27</td>\n",
       "      <td>13,378.69</td>\n",
       "      <td>12,685.19</td>\n",
       "    </tr>\n",
       "    <tr>\n",
       "      <td>4996</td>\n",
       "      <td>6,905.06</td>\n",
       "      <td>5,066.75</td>\n",
       "      <td>19,629.39</td>\n",
       "      <td>18,617.49</td>\n",
       "    </tr>\n",
       "    <tr>\n",
       "      <td>4997</td>\n",
       "      <td>4,465.93</td>\n",
       "      <td>3,277.66</td>\n",
       "      <td>12,697.63</td>\n",
       "      <td>12,044.91</td>\n",
       "    </tr>\n",
       "    <tr>\n",
       "      <td>4998</td>\n",
       "      <td>4,311.69</td>\n",
       "      <td>3,163.76</td>\n",
       "      <td>12,251.86</td>\n",
       "      <td>11,619.56</td>\n",
       "    </tr>\n",
       "    <tr>\n",
       "      <td>4999</td>\n",
       "      <td>5,352.63</td>\n",
       "      <td>3,926.84</td>\n",
       "      <td>15,211.42</td>\n",
       "      <td>14,425.52</td>\n",
       "    </tr>\n",
       "  </tbody>\n",
       "</table>\n",
       "<p>4847 rows × 4 columns</p>\n",
       "</div>"
      ],
      "text/plain": [
       "            0        1         2         3\n",
       "0    6,545.15 4,800.73 18,589.92 17,623.90\n",
       "1    5,027.32 3,685.69 14,256.32 13,503.74\n",
       "2    2,781.33 2,038.38  7,881.86  7,462.74\n",
       "3    5,489.96 4,029.66 15,615.48 14,815.69\n",
       "4    3,450.27 2,529.28  9,788.72  9,274.45\n",
       "...       ...      ...       ...       ...\n",
       "4995 4,709.42 3,455.27 13,378.69 12,685.19\n",
       "4996 6,905.06 5,066.75 19,629.39 18,617.49\n",
       "4997 4,465.93 3,277.66 12,697.63 12,044.91\n",
       "4998 4,311.69 3,163.76 12,251.86 11,619.56\n",
       "4999 5,352.63 3,926.84 15,211.42 14,425.52\n",
       "\n",
       "[4847 rows x 4 columns]"
      ]
     },
     "execution_count": 17,
     "metadata": {},
     "output_type": "execute_result"
    }
   ],
   "source": [
    "features_coded"
   ]
  },
  {
   "cell_type": "markdown",
   "metadata": {},
   "source": [
    "Проверим оценки модели на получившихся фичах"
   ]
  },
  {
   "cell_type": "code",
   "execution_count": 18,
   "metadata": {
    "scrolled": true
   },
   "outputs": [
    {
     "name": "stdout",
     "output_type": "stream",
     "text": [
      "Train scores:\n",
      "scores = [0.44233097 0.4423793  0.41464155 0.41437853 0.43723501] \n",
      "mean score = 0.43019 +/- 0.01294\n",
      "\n",
      "Test scores:\n",
      "scores = [0.38492451 0.44838518 0.42374175 0.41821723 0.40131333] \n",
      "mean score = 0.41532 +/- 0.02141\n"
     ]
    }
   ],
   "source": [
    "lr_model(features_coded, target)"
   ]
  },
  {
   "cell_type": "markdown",
   "metadata": {},
   "source": [
    "Оценки модели не изменились"
   ]
  },
  {
   "cell_type": "markdown",
   "metadata": {},
   "source": [
    "**Обоснование:**\n",
    "\n",
    "Если матрицу признаков домножить на любую обратимую матрицу, то результат работы модели не изменится. Главное умножать все признаки поступающие в модель на обучение и предсказания на одинаковую шифрующую матрицу.\n",
    "\n",
    "Домножение целевого таргета зависит от необходимости шифрования ответов\n",
    "\n",
    "Цель обучения линейной регрессии - уменьшить среднеквадратичную ошибку между признаками умноженными на найденные веса и целевым признаком: \n",
    "$\n",
    "w = \\arg\\min_w MSE(Xw, y)\n",
    "$\n",
    "\n",
    "Формула обучения: \n",
    "$\n",
    "w = (X^T X)^{-1} X^T y\n",
    "$\n",
    "\n",
    "Веса мы находим по трейн признакам и трейн таргетам\n",
    "Так что если линейно изменить признаки домножением на матрицу, то алгоритм просто изменит веса в соответсвии с получившимися признаками\n",
    "\n",
    "Формула предсказания: \n",
    "$\n",
    "a = Xw\n",
    "$\n",
    "\n",
    "Предсказания по шифрованным признакам будут правильными\n"
   ]
  },
  {
   "cell_type": "markdown",
   "metadata": {},
   "source": [
    "## Алгоритм преобразования"
   ]
  },
  {
   "cell_type": "markdown",
   "metadata": {},
   "source": [
    "**Алгоритм**\n",
    "\n",
    "Так как при домножении признаков на обратимую матрицу качество линейной регрессии не меняется, то анонимировать данные будем следующим алгоритмом:\n",
    "Используем размерность исходной матрицы и правила перемножения матриц для генерации матрицы-преобразователя.\n",
    "1. Так как нужно защитить данные, то матрица обязана быть случайной np.random.rand().\n",
    "2. Сохраним ключ для повторного и обратного преобразования np.random.RandomState(key), в виде RandomState."
   ]
  },
  {
   "cell_type": "markdown",
   "metadata": {},
   "source": [
    "**Обоснование**\n",
    "\n",
    "Домножение признаков на обратимую матрицу качество линейной регрессии не меняет"
   ]
  },
  {
   "cell_type": "markdown",
   "metadata": {},
   "source": [
    "## Проверка алгоритма"
   ]
  },
  {
   "cell_type": "markdown",
   "metadata": {},
   "source": [
    "Напишем функцию - шифратор"
   ]
  },
  {
   "cell_type": "code",
   "execution_count": 19,
   "metadata": {},
   "outputs": [],
   "source": [
    "def anonimaizer(features):\n",
    "    key = 17\n",
    "    np.random.RandomState(key)\n",
    "    i = features.shape[1]\n",
    "    coder = np.random.rand(i,i)\n",
    "    features_coded = features.dot(coder)\n",
    "    return features_coded"
   ]
  },
  {
   "cell_type": "code",
   "execution_count": 20,
   "metadata": {
    "scrolled": true
   },
   "outputs": [],
   "source": [
    "features_coded = anonimaizer(features)"
   ]
  },
  {
   "cell_type": "markdown",
   "metadata": {},
   "source": [
    "Проверим оценки метрики"
   ]
  },
  {
   "cell_type": "code",
   "execution_count": 21,
   "metadata": {},
   "outputs": [
    {
     "name": "stdout",
     "output_type": "stream",
     "text": [
      "Train scores:\n",
      "scores = [0.44233097 0.4423793  0.41464155 0.41437853 0.43723501] \n",
      "mean score = 0.43019 +/- 0.01294\n",
      "\n",
      "Test scores:\n",
      "scores = [0.38492451 0.44838518 0.42374175 0.41821723 0.40131333] \n",
      "mean score = 0.41532 +/- 0.02141\n"
     ]
    }
   ],
   "source": [
    "lr_model(features_coded, target)"
   ]
  }
 ],
 "metadata": {
  "ExecuteTimeLog": [
   {
    "duration": 1648,
    "start_time": "2022-02-18T10:49:48.531Z"
   },
   {
    "duration": 5,
    "start_time": "2022-02-18T10:50:01.074Z"
   },
   {
    "duration": 27,
    "start_time": "2022-02-18T10:50:03.979Z"
   },
   {
    "duration": 16,
    "start_time": "2022-02-18T10:50:09.452Z"
   },
   {
    "duration": 1304,
    "start_time": "2022-02-19T15:34:53.972Z"
   },
   {
    "duration": 223,
    "start_time": "2022-02-19T15:35:02.018Z"
   },
   {
    "duration": 92,
    "start_time": "2022-02-19T15:35:08.252Z"
   },
   {
    "duration": 13,
    "start_time": "2022-02-19T15:35:10.896Z"
   },
   {
    "duration": 15,
    "start_time": "2022-02-19T15:35:12.940Z"
   },
   {
    "duration": 4,
    "start_time": "2022-02-19T15:35:16.122Z"
   },
   {
    "duration": 11,
    "start_time": "2022-02-19T15:35:17.966Z"
   },
   {
    "duration": 4,
    "start_time": "2022-02-19T15:35:41.371Z"
   },
   {
    "duration": 191,
    "start_time": "2022-02-19T15:37:40.051Z"
   },
   {
    "duration": 8,
    "start_time": "2022-02-19T15:39:17.251Z"
   },
   {
    "duration": 6,
    "start_time": "2022-02-19T15:39:30.851Z"
   },
   {
    "duration": 7,
    "start_time": "2022-02-19T15:39:50.246Z"
   },
   {
    "duration": 6,
    "start_time": "2022-02-19T15:52:12.679Z"
   },
   {
    "duration": 6,
    "start_time": "2022-02-19T15:52:16.502Z"
   },
   {
    "duration": 185,
    "start_time": "2022-02-19T15:52:17.869Z"
   },
   {
    "duration": 59,
    "start_time": "2022-02-19T15:52:41.146Z"
   },
   {
    "duration": 196,
    "start_time": "2022-02-19T15:52:48.428Z"
   },
   {
    "duration": 23,
    "start_time": "2022-02-19T15:57:09.422Z"
   },
   {
    "duration": 185,
    "start_time": "2022-02-19T16:11:06.310Z"
   },
   {
    "duration": 5,
    "start_time": "2022-02-19T16:13:38.653Z"
   },
   {
    "duration": 5,
    "start_time": "2022-02-19T16:13:39.299Z"
   },
   {
    "duration": 22,
    "start_time": "2022-02-19T16:13:42.455Z"
   },
   {
    "duration": 26,
    "start_time": "2022-02-19T16:13:45.453Z"
   },
   {
    "duration": 5,
    "start_time": "2022-02-19T16:31:03.531Z"
   },
   {
    "duration": 5,
    "start_time": "2022-02-19T16:31:16.535Z"
   },
   {
    "duration": 1841,
    "start_time": "2022-02-19T16:32:02.030Z"
   },
   {
    "duration": 1314,
    "start_time": "2022-02-19T16:32:34.505Z"
   },
   {
    "duration": 69,
    "start_time": "2022-02-19T16:34:04.285Z"
   },
   {
    "duration": 5,
    "start_time": "2022-02-19T16:34:10.017Z"
   },
   {
    "duration": 4,
    "start_time": "2022-02-19T16:34:37.713Z"
   },
   {
    "duration": 199,
    "start_time": "2022-02-19T16:35:03.276Z"
   },
   {
    "duration": 3,
    "start_time": "2022-02-19T16:35:18.638Z"
   },
   {
    "duration": 344,
    "start_time": "2022-02-19T16:35:19.192Z"
   },
   {
    "duration": 170,
    "start_time": "2022-02-19T16:35:42.061Z"
   },
   {
    "duration": 218,
    "start_time": "2022-02-19T16:36:05.417Z"
   },
   {
    "duration": 198,
    "start_time": "2022-02-19T16:36:15.836Z"
   },
   {
    "duration": 205,
    "start_time": "2022-02-19T16:36:16.738Z"
   },
   {
    "duration": 131,
    "start_time": "2022-02-19T16:36:32.407Z"
   },
   {
    "duration": 82,
    "start_time": "2022-02-19T16:36:32.902Z"
   },
   {
    "duration": 124202,
    "start_time": "2022-02-19T16:36:54.928Z"
   },
   {
    "duration": 212,
    "start_time": "2022-02-19T16:39:19.922Z"
   },
   {
    "duration": 3,
    "start_time": "2022-02-19T16:41:25.385Z"
   },
   {
    "duration": 4,
    "start_time": "2022-02-19T16:41:26.555Z"
   },
   {
    "duration": 6,
    "start_time": "2022-02-19T16:41:28.289Z"
   },
   {
    "duration": 6,
    "start_time": "2022-02-19T16:41:29.227Z"
   },
   {
    "duration": 8,
    "start_time": "2022-02-19T16:41:47.196Z"
   },
   {
    "duration": 4,
    "start_time": "2022-02-19T16:41:56.484Z"
   },
   {
    "duration": 3,
    "start_time": "2022-02-19T16:42:11.376Z"
   },
   {
    "duration": 5,
    "start_time": "2022-02-19T16:42:11.772Z"
   },
   {
    "duration": 3,
    "start_time": "2022-02-19T16:42:19.990Z"
   },
   {
    "duration": 9,
    "start_time": "2022-02-19T16:42:21.008Z"
   },
   {
    "duration": 5,
    "start_time": "2022-02-19T16:42:30.359Z"
   },
   {
    "duration": 5,
    "start_time": "2022-02-19T16:42:33.669Z"
   },
   {
    "duration": 21,
    "start_time": "2022-02-19T16:42:34.484Z"
   },
   {
    "duration": 20,
    "start_time": "2022-02-19T16:42:37.199Z"
   },
   {
    "duration": 3,
    "start_time": "2022-02-19T16:55:52.929Z"
   },
   {
    "duration": 5,
    "start_time": "2022-02-19T16:55:53.879Z"
   },
   {
    "duration": 4,
    "start_time": "2022-02-19T16:55:56.405Z"
   },
   {
    "duration": 10,
    "start_time": "2022-02-19T16:55:56.853Z"
   },
   {
    "duration": 9,
    "start_time": "2022-02-19T16:56:02.795Z"
   },
   {
    "duration": 4,
    "start_time": "2022-02-19T17:05:40.746Z"
   },
   {
    "duration": 4,
    "start_time": "2022-02-19T17:05:46.029Z"
   },
   {
    "duration": 3,
    "start_time": "2022-02-19T17:07:40.123Z"
   },
   {
    "duration": 10,
    "start_time": "2022-02-19T17:07:57.234Z"
   },
   {
    "duration": 4,
    "start_time": "2022-02-19T17:12:00.533Z"
   },
   {
    "duration": 12,
    "start_time": "2022-02-19T17:12:01.187Z"
   },
   {
    "duration": 8,
    "start_time": "2022-02-19T17:12:01.725Z"
   },
   {
    "duration": 7,
    "start_time": "2022-02-19T17:12:02.339Z"
   },
   {
    "duration": 3,
    "start_time": "2022-02-19T17:12:03.089Z"
   },
   {
    "duration": 6,
    "start_time": "2022-02-19T17:12:03.611Z"
   },
   {
    "duration": 5,
    "start_time": "2022-02-19T17:12:04.371Z"
   },
   {
    "duration": 39,
    "start_time": "2022-02-19T17:12:13.782Z"
   },
   {
    "duration": 4,
    "start_time": "2022-02-19T17:14:00.328Z"
   },
   {
    "duration": 45,
    "start_time": "2022-02-19T17:14:00.983Z"
   },
   {
    "duration": 4,
    "start_time": "2022-02-19T17:14:10.137Z"
   },
   {
    "duration": 38,
    "start_time": "2022-02-19T17:14:11.163Z"
   },
   {
    "duration": 4,
    "start_time": "2022-02-19T17:14:17.988Z"
   },
   {
    "duration": 40,
    "start_time": "2022-02-19T17:14:18.290Z"
   },
   {
    "duration": 4,
    "start_time": "2022-02-19T17:18:01.898Z"
   },
   {
    "duration": 41,
    "start_time": "2022-02-19T17:18:02.296Z"
   },
   {
    "duration": 4,
    "start_time": "2022-02-19T17:20:12.397Z"
   },
   {
    "duration": 4,
    "start_time": "2022-02-19T17:20:12.789Z"
   },
   {
    "duration": 197,
    "start_time": "2022-02-19T17:20:22.574Z"
   },
   {
    "duration": 5,
    "start_time": "2022-02-19T17:20:24.342Z"
   },
   {
    "duration": 195,
    "start_time": "2022-02-19T17:20:24.750Z"
   },
   {
    "duration": 39,
    "start_time": "2022-02-19T17:20:29.719Z"
   },
   {
    "duration": 37,
    "start_time": "2022-02-19T17:21:01.172Z"
   },
   {
    "duration": 197,
    "start_time": "2022-02-19T17:22:43.650Z"
   },
   {
    "duration": 283,
    "start_time": "2022-02-19T17:22:47.352Z"
   },
   {
    "duration": 7,
    "start_time": "2022-02-19T17:23:33.005Z"
   },
   {
    "duration": 6,
    "start_time": "2022-02-19T17:23:37.463Z"
   },
   {
    "duration": 13,
    "start_time": "2022-02-19T17:24:09.652Z"
   },
   {
    "duration": 186,
    "start_time": "2022-02-19T17:24:17.872Z"
   },
   {
    "duration": 7,
    "start_time": "2022-02-19T17:24:20.920Z"
   },
   {
    "duration": 6,
    "start_time": "2022-02-19T17:25:32.316Z"
   },
   {
    "duration": 7,
    "start_time": "2022-02-19T17:25:32.655Z"
   },
   {
    "duration": 6,
    "start_time": "2022-02-19T17:25:37.179Z"
   },
   {
    "duration": 247,
    "start_time": "2022-02-19T17:25:40.383Z"
   },
   {
    "duration": 187,
    "start_time": "2022-02-19T17:25:42.752Z"
   },
   {
    "duration": 1070,
    "start_time": "2022-02-19T17:26:07.660Z"
   },
   {
    "duration": 18,
    "start_time": "2022-02-19T17:26:08.732Z"
   },
   {
    "duration": 11,
    "start_time": "2022-02-19T17:26:08.752Z"
   },
   {
    "duration": 6,
    "start_time": "2022-02-19T17:26:08.766Z"
   },
   {
    "duration": 3,
    "start_time": "2022-02-19T17:26:08.773Z"
   },
   {
    "duration": 8,
    "start_time": "2022-02-19T17:26:08.778Z"
   },
   {
    "duration": 7,
    "start_time": "2022-02-19T17:26:08.788Z"
   },
   {
    "duration": 33,
    "start_time": "2022-02-19T17:26:08.797Z"
   },
   {
    "duration": 290,
    "start_time": "2022-02-19T17:26:08.833Z"
   },
   {
    "duration": 29,
    "start_time": "2022-02-19T17:26:09.097Z"
   },
   {
    "duration": 29,
    "start_time": "2022-02-19T17:26:09.099Z"
   },
   {
    "duration": 27,
    "start_time": "2022-02-19T17:26:09.102Z"
   },
   {
    "duration": 26,
    "start_time": "2022-02-19T17:26:09.104Z"
   },
   {
    "duration": 25,
    "start_time": "2022-02-19T17:26:09.107Z"
   },
   {
    "duration": 24,
    "start_time": "2022-02-19T17:26:09.109Z"
   },
   {
    "duration": 23,
    "start_time": "2022-02-19T17:26:09.112Z"
   },
   {
    "duration": 22,
    "start_time": "2022-02-19T17:26:09.114Z"
   },
   {
    "duration": 20,
    "start_time": "2022-02-19T17:26:09.117Z"
   },
   {
    "duration": 19,
    "start_time": "2022-02-19T17:26:09.120Z"
   },
   {
    "duration": 272,
    "start_time": "2022-02-19T17:27:03.555Z"
   },
   {
    "duration": 191,
    "start_time": "2022-02-19T17:27:13.039Z"
   },
   {
    "duration": 1125,
    "start_time": "2022-02-19T17:27:24.905Z"
   },
   {
    "duration": 13,
    "start_time": "2022-02-19T17:27:26.032Z"
   },
   {
    "duration": 11,
    "start_time": "2022-02-19T17:27:26.048Z"
   },
   {
    "duration": 7,
    "start_time": "2022-02-19T17:27:26.061Z"
   },
   {
    "duration": 4,
    "start_time": "2022-02-19T17:27:26.070Z"
   },
   {
    "duration": 8,
    "start_time": "2022-02-19T17:27:26.076Z"
   },
   {
    "duration": 7,
    "start_time": "2022-02-19T17:27:26.085Z"
   },
   {
    "duration": 35,
    "start_time": "2022-02-19T17:27:26.095Z"
   },
   {
    "duration": 4,
    "start_time": "2022-02-19T17:27:26.132Z"
   },
   {
    "duration": 5,
    "start_time": "2022-02-19T17:27:26.137Z"
   },
   {
    "duration": 39,
    "start_time": "2022-02-19T17:27:26.144Z"
   },
   {
    "duration": 4,
    "start_time": "2022-02-19T17:27:26.184Z"
   },
   {
    "duration": 4,
    "start_time": "2022-02-19T17:27:26.190Z"
   },
   {
    "duration": 6,
    "start_time": "2022-02-19T17:27:26.195Z"
   },
   {
    "duration": 29,
    "start_time": "2022-02-19T17:27:26.202Z"
   },
   {
    "duration": 11,
    "start_time": "2022-02-19T17:27:26.233Z"
   },
   {
    "duration": 37,
    "start_time": "2022-02-19T17:27:26.246Z"
   },
   {
    "duration": 2,
    "start_time": "2022-02-19T17:27:26.285Z"
   },
   {
    "duration": 12,
    "start_time": "2022-02-19T17:27:26.289Z"
   },
   {
    "duration": 3,
    "start_time": "2022-02-19T17:37:15.367Z"
   },
   {
    "duration": 3,
    "start_time": "2022-02-19T17:42:44.814Z"
   },
   {
    "duration": 4,
    "start_time": "2022-02-19T17:42:45.872Z"
   },
   {
    "duration": 38,
    "start_time": "2022-02-19T17:42:48.536Z"
   },
   {
    "duration": 5,
    "start_time": "2022-02-19T17:57:35.275Z"
   },
   {
    "duration": 6,
    "start_time": "2022-02-19T18:00:18.738Z"
   },
   {
    "duration": 6,
    "start_time": "2022-02-19T18:00:27.862Z"
   },
   {
    "duration": 320,
    "start_time": "2022-02-19T18:00:44.560Z"
   },
   {
    "duration": 4,
    "start_time": "2022-02-19T18:01:02.939Z"
   },
   {
    "duration": 7,
    "start_time": "2022-02-19T18:01:06.195Z"
   },
   {
    "duration": 3,
    "start_time": "2022-02-19T18:01:27.870Z"
   },
   {
    "duration": 4,
    "start_time": "2022-02-19T18:05:12.706Z"
   },
   {
    "duration": 1087,
    "start_time": "2022-02-19T18:17:03.092Z"
   },
   {
    "duration": 13,
    "start_time": "2022-02-19T18:17:04.181Z"
   },
   {
    "duration": 11,
    "start_time": "2022-02-19T18:17:04.196Z"
   },
   {
    "duration": 6,
    "start_time": "2022-02-19T18:17:04.210Z"
   },
   {
    "duration": 13,
    "start_time": "2022-02-19T18:17:04.218Z"
   },
   {
    "duration": 5,
    "start_time": "2022-02-19T18:17:04.233Z"
   },
   {
    "duration": 4,
    "start_time": "2022-02-19T18:17:04.240Z"
   },
   {
    "duration": 8,
    "start_time": "2022-02-19T18:17:04.245Z"
   },
   {
    "duration": 6,
    "start_time": "2022-02-19T18:17:04.256Z"
   },
   {
    "duration": 5,
    "start_time": "2022-02-19T18:17:04.263Z"
   },
   {
    "duration": 4,
    "start_time": "2022-02-19T18:17:04.269Z"
   },
   {
    "duration": 4,
    "start_time": "2022-02-19T18:17:04.275Z"
   },
   {
    "duration": 71,
    "start_time": "2022-02-19T18:17:04.281Z"
   },
   {
    "duration": 4,
    "start_time": "2022-02-19T18:17:04.354Z"
   },
   {
    "duration": 5,
    "start_time": "2022-02-19T18:17:04.360Z"
   },
   {
    "duration": 3,
    "start_time": "2022-02-19T18:17:04.367Z"
   },
   {
    "duration": 11,
    "start_time": "2022-02-19T18:17:04.372Z"
   },
   {
    "duration": 65,
    "start_time": "2022-02-19T18:17:04.385Z"
   },
   {
    "duration": 4,
    "start_time": "2022-02-19T18:17:04.452Z"
   },
   {
    "duration": 5,
    "start_time": "2022-02-19T18:17:04.458Z"
   },
   {
    "duration": 37,
    "start_time": "2022-02-19T18:17:04.465Z"
   },
   {
    "duration": 3,
    "start_time": "2022-02-19T18:18:09.272Z"
   },
   {
    "duration": 1051,
    "start_time": "2022-02-19T18:41:41.307Z"
   },
   {
    "duration": 13,
    "start_time": "2022-02-19T18:41:42.359Z"
   },
   {
    "duration": 13,
    "start_time": "2022-02-19T18:41:42.374Z"
   },
   {
    "duration": 8,
    "start_time": "2022-02-19T18:41:42.389Z"
   },
   {
    "duration": 4,
    "start_time": "2022-02-19T18:41:42.398Z"
   },
   {
    "duration": 6,
    "start_time": "2022-02-19T18:41:42.403Z"
   },
   {
    "duration": 20,
    "start_time": "2022-02-19T18:41:42.410Z"
   },
   {
    "duration": 5,
    "start_time": "2022-02-19T18:41:42.432Z"
   },
   {
    "duration": 6,
    "start_time": "2022-02-19T18:41:42.439Z"
   },
   {
    "duration": 4,
    "start_time": "2022-02-19T18:41:42.447Z"
   },
   {
    "duration": 3,
    "start_time": "2022-02-19T18:41:42.452Z"
   },
   {
    "duration": 8,
    "start_time": "2022-02-19T18:41:42.457Z"
   },
   {
    "duration": 64,
    "start_time": "2022-02-19T18:41:42.466Z"
   },
   {
    "duration": 3,
    "start_time": "2022-02-19T18:41:42.532Z"
   },
   {
    "duration": 6,
    "start_time": "2022-02-19T18:41:42.537Z"
   },
   {
    "duration": 6,
    "start_time": "2022-02-19T18:41:42.545Z"
   },
   {
    "duration": 12,
    "start_time": "2022-02-19T18:41:42.552Z"
   },
   {
    "duration": 38,
    "start_time": "2022-02-19T18:41:42.566Z"
   },
   {
    "duration": 3,
    "start_time": "2022-02-19T18:41:42.605Z"
   },
   {
    "duration": 3,
    "start_time": "2022-02-19T18:41:42.630Z"
   },
   {
    "duration": 36,
    "start_time": "2022-02-19T18:41:42.635Z"
   }
  ],
  "kernelspec": {
   "display_name": "Python 3",
   "language": "python",
   "name": "python3"
  },
  "language_info": {
   "codemirror_mode": {
    "name": "ipython",
    "version": 3
   },
   "file_extension": ".py",
   "mimetype": "text/x-python",
   "name": "python",
   "nbconvert_exporter": "python",
   "pygments_lexer": "ipython3",
   "version": "3.7.8"
  },
  "toc": {
   "base_numbering": 1,
   "nav_menu": {},
   "number_sections": true,
   "sideBar": true,
   "skip_h1_title": true,
   "title_cell": "Содержание",
   "title_sidebar": "Contents",
   "toc_cell": true,
   "toc_position": {},
   "toc_section_display": true,
   "toc_window_display": false
  }
 },
 "nbformat": 4,
 "nbformat_minor": 2
}

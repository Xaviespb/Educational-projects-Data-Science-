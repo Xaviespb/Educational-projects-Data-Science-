{
 "cells": [
  {
   "cell_type": "markdown",
   "metadata": {
    "toc": true
   },
   "source": [
    "<h1>Содержание<span class=\"tocSkip\"></span></h1>\n",
    "<div class=\"toc\"><ul class=\"toc-item\"><li><span><a href=\"#Изучение-данных-из-файла\" data-toc-modified-id=\"Изучение-данных-из-файла-1\"><span class=\"toc-item-num\">1&nbsp;&nbsp;</span>Изучение данных из файла</a></span><ul class=\"toc-item\"><li><span><a href=\"#Вывод\" data-toc-modified-id=\"Вывод-1.1\"><span class=\"toc-item-num\">1.1&nbsp;&nbsp;</span>Вывод</a></span></li></ul></li><li><span><a href=\"#Предобработка-данных\" data-toc-modified-id=\"Предобработка-данных-2\"><span class=\"toc-item-num\">2&nbsp;&nbsp;</span>Предобработка данных</a></span></li><li><span><a href=\"#Расчёты-и-добавление-результатов-в-таблицу\" data-toc-modified-id=\"Расчёты-и-добавление-результатов-в-таблицу-3\"><span class=\"toc-item-num\">3&nbsp;&nbsp;</span>Расчёты и добавление результатов в таблицу</a></span></li><li><span><a href=\"#Исследовательский-анализ-данных\" data-toc-modified-id=\"Исследовательский-анализ-данных-4\"><span class=\"toc-item-num\">4&nbsp;&nbsp;</span>Исследовательский анализ данных</a></span></li><li><span><a href=\"#Общий-вывод\" data-toc-modified-id=\"Общий-вывод-5\"><span class=\"toc-item-num\">5&nbsp;&nbsp;</span>Общий вывод</a></span></li><li><span><a href=\"#Чек-лист-готовности-проекта\" data-toc-modified-id=\"Чек-лист-готовности-проекта-6\"><span class=\"toc-item-num\">6&nbsp;&nbsp;</span>Чек-лист готовности проекта</a></span></li></ul></div>"
   ]
  },
  {
   "cell_type": "markdown",
   "metadata": {},
   "source": [
    "# Исследование объявлений о продаже квартир\n",
    "\n",
    "В нашем распоряжении данные сервиса Яндекс.Недвижимость — архив объявлений о продаже квартир в Санкт-Петербурге и соседних населённых пунктах за несколько лет. Нужно научиться определять рыночную стоимость объектов недвижимости. Задача — установить параметры. Это позволит построить автоматизированную систему: она отследит аномалии и мошенническую деятельность. \n",
    "\n",
    "По каждой квартире на продажу доступны два вида данных. Первые вписаны пользователем, вторые получены автоматически на основе картографических данных. Например, расстояние до центра, аэропорта, ближайшего парка и водоёма. "
   ]
  },
  {
   "cell_type": "markdown",
   "metadata": {},
   "source": [
    "## Изучение данных из файла"
   ]
  },
  {
   "cell_type": "code",
   "execution_count": 227,
   "metadata": {},
   "outputs": [],
   "source": [
    "import pandas as pd\n",
    "import matplotlib.pyplot as plt\n",
    "import seaborn as sns\n",
    "from pymystem3 import Mystem\n",
    "from collections import Counter"
   ]
  },
  {
   "cell_type": "code",
   "execution_count": 228,
   "metadata": {},
   "outputs": [],
   "source": [
    "df = pd.read_csv('/datasets/real_estate_data.csv', sep='\\\\t', decimal=',', engine='python')"
   ]
  },
  {
   "cell_type": "code",
   "execution_count": 229,
   "metadata": {},
   "outputs": [
    {
     "data": {
      "text/html": [
       "<div>\n",
       "<style scoped>\n",
       "    .dataframe tbody tr th:only-of-type {\n",
       "        vertical-align: middle;\n",
       "    }\n",
       "\n",
       "    .dataframe tbody tr th {\n",
       "        vertical-align: top;\n",
       "    }\n",
       "\n",
       "    .dataframe thead th {\n",
       "        text-align: right;\n",
       "    }\n",
       "</style>\n",
       "<table border=\"1\" class=\"dataframe\">\n",
       "  <thead>\n",
       "    <tr style=\"text-align: right;\">\n",
       "      <th></th>\n",
       "      <th>total_images</th>\n",
       "      <th>last_price</th>\n",
       "      <th>total_area</th>\n",
       "      <th>first_day_exposition</th>\n",
       "      <th>rooms</th>\n",
       "      <th>ceiling_height</th>\n",
       "      <th>floors_total</th>\n",
       "      <th>living_area</th>\n",
       "      <th>floor</th>\n",
       "      <th>is_apartment</th>\n",
       "      <th>...</th>\n",
       "      <th>kitchen_area</th>\n",
       "      <th>balcony</th>\n",
       "      <th>locality_name</th>\n",
       "      <th>airports_nearest</th>\n",
       "      <th>cityCenters_nearest</th>\n",
       "      <th>parks_around3000</th>\n",
       "      <th>parks_nearest</th>\n",
       "      <th>ponds_around3000</th>\n",
       "      <th>ponds_nearest</th>\n",
       "      <th>days_exposition</th>\n",
       "    </tr>\n",
       "  </thead>\n",
       "  <tbody>\n",
       "    <tr>\n",
       "      <td>0</td>\n",
       "      <td>20</td>\n",
       "      <td>13000000.0</td>\n",
       "      <td>108.0</td>\n",
       "      <td>2019-03-07T00:00:00</td>\n",
       "      <td>3</td>\n",
       "      <td>2.70</td>\n",
       "      <td>16.0</td>\n",
       "      <td>51.0</td>\n",
       "      <td>8</td>\n",
       "      <td>NaN</td>\n",
       "      <td>...</td>\n",
       "      <td>25.0</td>\n",
       "      <td>NaN</td>\n",
       "      <td>Санкт-Петербург</td>\n",
       "      <td>18863.0</td>\n",
       "      <td>16028.0</td>\n",
       "      <td>1.0</td>\n",
       "      <td>482.0</td>\n",
       "      <td>2.0</td>\n",
       "      <td>755.0</td>\n",
       "      <td>NaN</td>\n",
       "    </tr>\n",
       "    <tr>\n",
       "      <td>1</td>\n",
       "      <td>7</td>\n",
       "      <td>3350000.0</td>\n",
       "      <td>40.4</td>\n",
       "      <td>2018-12-04T00:00:00</td>\n",
       "      <td>1</td>\n",
       "      <td>NaN</td>\n",
       "      <td>11.0</td>\n",
       "      <td>18.6</td>\n",
       "      <td>1</td>\n",
       "      <td>NaN</td>\n",
       "      <td>...</td>\n",
       "      <td>11.0</td>\n",
       "      <td>2.0</td>\n",
       "      <td>посёлок Шушары</td>\n",
       "      <td>12817.0</td>\n",
       "      <td>18603.0</td>\n",
       "      <td>0.0</td>\n",
       "      <td>NaN</td>\n",
       "      <td>0.0</td>\n",
       "      <td>NaN</td>\n",
       "      <td>81.0</td>\n",
       "    </tr>\n",
       "    <tr>\n",
       "      <td>2</td>\n",
       "      <td>10</td>\n",
       "      <td>5196000.0</td>\n",
       "      <td>56.0</td>\n",
       "      <td>2015-08-20T00:00:00</td>\n",
       "      <td>2</td>\n",
       "      <td>NaN</td>\n",
       "      <td>5.0</td>\n",
       "      <td>34.3</td>\n",
       "      <td>4</td>\n",
       "      <td>NaN</td>\n",
       "      <td>...</td>\n",
       "      <td>8.3</td>\n",
       "      <td>0.0</td>\n",
       "      <td>Санкт-Петербург</td>\n",
       "      <td>21741.0</td>\n",
       "      <td>13933.0</td>\n",
       "      <td>1.0</td>\n",
       "      <td>90.0</td>\n",
       "      <td>2.0</td>\n",
       "      <td>574.0</td>\n",
       "      <td>558.0</td>\n",
       "    </tr>\n",
       "    <tr>\n",
       "      <td>3</td>\n",
       "      <td>0</td>\n",
       "      <td>64900000.0</td>\n",
       "      <td>159.0</td>\n",
       "      <td>2015-07-24T00:00:00</td>\n",
       "      <td>3</td>\n",
       "      <td>NaN</td>\n",
       "      <td>14.0</td>\n",
       "      <td>NaN</td>\n",
       "      <td>9</td>\n",
       "      <td>NaN</td>\n",
       "      <td>...</td>\n",
       "      <td>NaN</td>\n",
       "      <td>0.0</td>\n",
       "      <td>Санкт-Петербург</td>\n",
       "      <td>28098.0</td>\n",
       "      <td>6800.0</td>\n",
       "      <td>2.0</td>\n",
       "      <td>84.0</td>\n",
       "      <td>3.0</td>\n",
       "      <td>234.0</td>\n",
       "      <td>424.0</td>\n",
       "    </tr>\n",
       "    <tr>\n",
       "      <td>4</td>\n",
       "      <td>2</td>\n",
       "      <td>10000000.0</td>\n",
       "      <td>100.0</td>\n",
       "      <td>2018-06-19T00:00:00</td>\n",
       "      <td>2</td>\n",
       "      <td>3.03</td>\n",
       "      <td>14.0</td>\n",
       "      <td>32.0</td>\n",
       "      <td>13</td>\n",
       "      <td>NaN</td>\n",
       "      <td>...</td>\n",
       "      <td>41.0</td>\n",
       "      <td>NaN</td>\n",
       "      <td>Санкт-Петербург</td>\n",
       "      <td>31856.0</td>\n",
       "      <td>8098.0</td>\n",
       "      <td>2.0</td>\n",
       "      <td>112.0</td>\n",
       "      <td>1.0</td>\n",
       "      <td>48.0</td>\n",
       "      <td>121.0</td>\n",
       "    </tr>\n",
       "  </tbody>\n",
       "</table>\n",
       "<p>5 rows × 22 columns</p>\n",
       "</div>"
      ],
      "text/plain": [
       "   total_images  last_price  total_area first_day_exposition  rooms  \\\n",
       "0            20  13000000.0       108.0  2019-03-07T00:00:00      3   \n",
       "1             7   3350000.0        40.4  2018-12-04T00:00:00      1   \n",
       "2            10   5196000.0        56.0  2015-08-20T00:00:00      2   \n",
       "3             0  64900000.0       159.0  2015-07-24T00:00:00      3   \n",
       "4             2  10000000.0       100.0  2018-06-19T00:00:00      2   \n",
       "\n",
       "   ceiling_height  floors_total  living_area  floor is_apartment  ...  \\\n",
       "0            2.70          16.0         51.0      8          NaN  ...   \n",
       "1             NaN          11.0         18.6      1          NaN  ...   \n",
       "2             NaN           5.0         34.3      4          NaN  ...   \n",
       "3             NaN          14.0          NaN      9          NaN  ...   \n",
       "4            3.03          14.0         32.0     13          NaN  ...   \n",
       "\n",
       "   kitchen_area  balcony    locality_name  airports_nearest  \\\n",
       "0          25.0      NaN  Санкт-Петербург           18863.0   \n",
       "1          11.0      2.0   посёлок Шушары           12817.0   \n",
       "2           8.3      0.0  Санкт-Петербург           21741.0   \n",
       "3           NaN      0.0  Санкт-Петербург           28098.0   \n",
       "4          41.0      NaN  Санкт-Петербург           31856.0   \n",
       "\n",
       "  cityCenters_nearest  parks_around3000  parks_nearest  ponds_around3000  \\\n",
       "0             16028.0               1.0          482.0               2.0   \n",
       "1             18603.0               0.0            NaN               0.0   \n",
       "2             13933.0               1.0           90.0               2.0   \n",
       "3              6800.0               2.0           84.0               3.0   \n",
       "4              8098.0               2.0          112.0               1.0   \n",
       "\n",
       "   ponds_nearest  days_exposition  \n",
       "0          755.0              NaN  \n",
       "1            NaN             81.0  \n",
       "2          574.0            558.0  \n",
       "3          234.0            424.0  \n",
       "4           48.0            121.0  \n",
       "\n",
       "[5 rows x 22 columns]"
      ]
     },
     "execution_count": 229,
     "metadata": {},
     "output_type": "execute_result"
    }
   ],
   "source": [
    "df.head()"
   ]
  },
  {
   "cell_type": "code",
   "execution_count": 230,
   "metadata": {},
   "outputs": [
    {
     "name": "stdout",
     "output_type": "stream",
     "text": [
      "<class 'pandas.core.frame.DataFrame'>\n",
      "RangeIndex: 23699 entries, 0 to 23698\n",
      "Data columns (total 22 columns):\n",
      "total_images            23699 non-null int64\n",
      "last_price              23699 non-null float64\n",
      "total_area              23699 non-null float64\n",
      "first_day_exposition    23699 non-null object\n",
      "rooms                   23699 non-null int64\n",
      "ceiling_height          14504 non-null float64\n",
      "floors_total            23613 non-null float64\n",
      "living_area             21796 non-null float64\n",
      "floor                   23699 non-null int64\n",
      "is_apartment            2775 non-null object\n",
      "studio                  23699 non-null bool\n",
      "open_plan               23699 non-null bool\n",
      "kitchen_area            21421 non-null float64\n",
      "balcony                 12180 non-null float64\n",
      "locality_name           23650 non-null object\n",
      "airports_nearest        18157 non-null float64\n",
      "cityCenters_nearest     18180 non-null float64\n",
      "parks_around3000        18181 non-null float64\n",
      "parks_nearest           8079 non-null float64\n",
      "ponds_around3000        18181 non-null float64\n",
      "ponds_nearest           9110 non-null float64\n",
      "days_exposition         20518 non-null float64\n",
      "dtypes: bool(2), float64(14), int64(3), object(3)\n",
      "memory usage: 3.7+ MB\n"
     ]
    }
   ],
   "source": [
    "df.info()"
   ]
  },
  {
   "cell_type": "code",
   "execution_count": 231,
   "metadata": {},
   "outputs": [
    {
     "data": {
      "text/plain": [
       "(23699, 22)"
      ]
     },
     "execution_count": 231,
     "metadata": {},
     "output_type": "execute_result"
    }
   ],
   "source": [
    "df.shape"
   ]
  },
  {
   "cell_type": "markdown",
   "metadata": {},
   "source": [
    "### Вывод"
   ]
  },
  {
   "cell_type": "markdown",
   "metadata": {},
   "source": [
    "В таблице 22 столбца. Тип данных во всех столбцах представлен в методе df.info() (‘int64’, ‘object’, ‘float64’, 'bool').\n",
    "\n",
    "В названиях колонок нет нарушения стиля. Количество значений в столбцах различается, значит в данных есть пропущенные значения.\n",
    "В столбцах встречаются явные пропуски. Значение в признаках необходимо привести к строчным символам и привести типы данных к верным значениям. Значение в признаке 'locality_name' для упрощения анализа и устранения дублирующей категоризации необходимо привести к одному слову и лемматизировать.\n",
    "Предварительно можно утверждать, что, данных достаточно для проверки гипотез. Но нужно провести подготовку данных к анализу."
   ]
  },
  {
   "cell_type": "markdown",
   "metadata": {},
   "source": [
    "## Предобработка данных"
   ]
  },
  {
   "cell_type": "code",
   "execution_count": 232,
   "metadata": {},
   "outputs": [
    {
     "data": {
      "text/plain": [
       "total_images                0\n",
       "last_price                  0\n",
       "total_area                  0\n",
       "first_day_exposition        0\n",
       "rooms                       0\n",
       "ceiling_height           9195\n",
       "floors_total               86\n",
       "living_area              1903\n",
       "floor                       0\n",
       "is_apartment            20924\n",
       "studio                      0\n",
       "open_plan                   0\n",
       "kitchen_area             2278\n",
       "balcony                 11519\n",
       "locality_name              49\n",
       "airports_nearest         5542\n",
       "cityCenters_nearest      5519\n",
       "parks_around3000         5518\n",
       "parks_nearest           15620\n",
       "ponds_around3000         5518\n",
       "ponds_nearest           14589\n",
       "days_exposition          3181\n",
       "dtype: int64"
      ]
     },
     "execution_count": 232,
     "metadata": {},
     "output_type": "execute_result"
    }
   ],
   "source": [
    "df.isna().sum()"
   ]
  },
  {
   "cell_type": "markdown",
   "metadata": {},
   "source": [
    "\n",
    "В признаках достаточно много пропусков."
   ]
  },
  {
   "cell_type": "code",
   "execution_count": 233,
   "metadata": {},
   "outputs": [
    {
     "data": {
      "text/plain": [
       "0"
      ]
     },
     "execution_count": 233,
     "metadata": {},
     "output_type": "execute_result"
    }
   ],
   "source": [
    "df.duplicated().sum()"
   ]
  },
  {
   "cell_type": "markdown",
   "metadata": {},
   "source": [
    "\n",
    "Явные дубликаты отсутствуют"
   ]
  },
  {
   "cell_type": "code",
   "execution_count": 234,
   "metadata": {},
   "outputs": [
    {
     "data": {
      "text/html": [
       "<div>\n",
       "<style scoped>\n",
       "    .dataframe tbody tr th:only-of-type {\n",
       "        vertical-align: middle;\n",
       "    }\n",
       "\n",
       "    .dataframe tbody tr th {\n",
       "        vertical-align: top;\n",
       "    }\n",
       "\n",
       "    .dataframe thead th {\n",
       "        text-align: right;\n",
       "    }\n",
       "</style>\n",
       "<table border=\"1\" class=\"dataframe\">\n",
       "  <thead>\n",
       "    <tr style=\"text-align: right;\">\n",
       "      <th></th>\n",
       "      <th>total_images</th>\n",
       "      <th>last_price</th>\n",
       "      <th>total_area</th>\n",
       "      <th>first_day_exposition</th>\n",
       "      <th>rooms</th>\n",
       "      <th>ceiling_height</th>\n",
       "      <th>floors_total</th>\n",
       "      <th>living_area</th>\n",
       "      <th>floor</th>\n",
       "      <th>is_apartment</th>\n",
       "      <th>...</th>\n",
       "      <th>kitchen_area</th>\n",
       "      <th>balcony</th>\n",
       "      <th>locality_name</th>\n",
       "      <th>airports_nearest</th>\n",
       "      <th>cityCenters_nearest</th>\n",
       "      <th>parks_around3000</th>\n",
       "      <th>parks_nearest</th>\n",
       "      <th>ponds_around3000</th>\n",
       "      <th>ponds_nearest</th>\n",
       "      <th>days_exposition</th>\n",
       "    </tr>\n",
       "  </thead>\n",
       "  <tbody>\n",
       "    <tr>\n",
       "      <td>1</td>\n",
       "      <td>7</td>\n",
       "      <td>3350000.0</td>\n",
       "      <td>40.4</td>\n",
       "      <td>2018-12-04T00:00:00</td>\n",
       "      <td>1</td>\n",
       "      <td>NaN</td>\n",
       "      <td>11.0</td>\n",
       "      <td>18.6</td>\n",
       "      <td>1</td>\n",
       "      <td>NaN</td>\n",
       "      <td>...</td>\n",
       "      <td>11.0</td>\n",
       "      <td>2.0</td>\n",
       "      <td>посёлок Шушары</td>\n",
       "      <td>12817.0</td>\n",
       "      <td>18603.0</td>\n",
       "      <td>0.0</td>\n",
       "      <td>NaN</td>\n",
       "      <td>0.0</td>\n",
       "      <td>NaN</td>\n",
       "      <td>81.0</td>\n",
       "    </tr>\n",
       "    <tr>\n",
       "      <td>2</td>\n",
       "      <td>10</td>\n",
       "      <td>5196000.0</td>\n",
       "      <td>56.0</td>\n",
       "      <td>2015-08-20T00:00:00</td>\n",
       "      <td>2</td>\n",
       "      <td>NaN</td>\n",
       "      <td>5.0</td>\n",
       "      <td>34.3</td>\n",
       "      <td>4</td>\n",
       "      <td>NaN</td>\n",
       "      <td>...</td>\n",
       "      <td>8.3</td>\n",
       "      <td>0.0</td>\n",
       "      <td>Санкт-Петербург</td>\n",
       "      <td>21741.0</td>\n",
       "      <td>13933.0</td>\n",
       "      <td>1.0</td>\n",
       "      <td>90.0</td>\n",
       "      <td>2.0</td>\n",
       "      <td>574.0</td>\n",
       "      <td>558.0</td>\n",
       "    </tr>\n",
       "    <tr>\n",
       "      <td>3</td>\n",
       "      <td>0</td>\n",
       "      <td>64900000.0</td>\n",
       "      <td>159.0</td>\n",
       "      <td>2015-07-24T00:00:00</td>\n",
       "      <td>3</td>\n",
       "      <td>NaN</td>\n",
       "      <td>14.0</td>\n",
       "      <td>NaN</td>\n",
       "      <td>9</td>\n",
       "      <td>NaN</td>\n",
       "      <td>...</td>\n",
       "      <td>NaN</td>\n",
       "      <td>0.0</td>\n",
       "      <td>Санкт-Петербург</td>\n",
       "      <td>28098.0</td>\n",
       "      <td>6800.0</td>\n",
       "      <td>2.0</td>\n",
       "      <td>84.0</td>\n",
       "      <td>3.0</td>\n",
       "      <td>234.0</td>\n",
       "      <td>424.0</td>\n",
       "    </tr>\n",
       "    <tr>\n",
       "      <td>5</td>\n",
       "      <td>10</td>\n",
       "      <td>2890000.0</td>\n",
       "      <td>30.4</td>\n",
       "      <td>2018-09-10T00:00:00</td>\n",
       "      <td>1</td>\n",
       "      <td>NaN</td>\n",
       "      <td>12.0</td>\n",
       "      <td>14.4</td>\n",
       "      <td>5</td>\n",
       "      <td>NaN</td>\n",
       "      <td>...</td>\n",
       "      <td>9.1</td>\n",
       "      <td>NaN</td>\n",
       "      <td>городской посёлок Янино-1</td>\n",
       "      <td>NaN</td>\n",
       "      <td>NaN</td>\n",
       "      <td>NaN</td>\n",
       "      <td>NaN</td>\n",
       "      <td>NaN</td>\n",
       "      <td>NaN</td>\n",
       "      <td>55.0</td>\n",
       "    </tr>\n",
       "    <tr>\n",
       "      <td>6</td>\n",
       "      <td>6</td>\n",
       "      <td>3700000.0</td>\n",
       "      <td>37.3</td>\n",
       "      <td>2017-11-02T00:00:00</td>\n",
       "      <td>1</td>\n",
       "      <td>NaN</td>\n",
       "      <td>26.0</td>\n",
       "      <td>10.6</td>\n",
       "      <td>6</td>\n",
       "      <td>NaN</td>\n",
       "      <td>...</td>\n",
       "      <td>14.4</td>\n",
       "      <td>1.0</td>\n",
       "      <td>посёлок Парголово</td>\n",
       "      <td>52996.0</td>\n",
       "      <td>19143.0</td>\n",
       "      <td>0.0</td>\n",
       "      <td>NaN</td>\n",
       "      <td>0.0</td>\n",
       "      <td>NaN</td>\n",
       "      <td>155.0</td>\n",
       "    </tr>\n",
       "  </tbody>\n",
       "</table>\n",
       "<p>5 rows × 22 columns</p>\n",
       "</div>"
      ],
      "text/plain": [
       "   total_images  last_price  total_area first_day_exposition  rooms  \\\n",
       "1             7   3350000.0        40.4  2018-12-04T00:00:00      1   \n",
       "2            10   5196000.0        56.0  2015-08-20T00:00:00      2   \n",
       "3             0  64900000.0       159.0  2015-07-24T00:00:00      3   \n",
       "5            10   2890000.0        30.4  2018-09-10T00:00:00      1   \n",
       "6             6   3700000.0        37.3  2017-11-02T00:00:00      1   \n",
       "\n",
       "   ceiling_height  floors_total  living_area  floor is_apartment  ...  \\\n",
       "1             NaN          11.0         18.6      1          NaN  ...   \n",
       "2             NaN           5.0         34.3      4          NaN  ...   \n",
       "3             NaN          14.0          NaN      9          NaN  ...   \n",
       "5             NaN          12.0         14.4      5          NaN  ...   \n",
       "6             NaN          26.0         10.6      6          NaN  ...   \n",
       "\n",
       "   kitchen_area  balcony              locality_name  airports_nearest  \\\n",
       "1          11.0      2.0             посёлок Шушары           12817.0   \n",
       "2           8.3      0.0            Санкт-Петербург           21741.0   \n",
       "3           NaN      0.0            Санкт-Петербург           28098.0   \n",
       "5           9.1      NaN  городской посёлок Янино-1               NaN   \n",
       "6          14.4      1.0          посёлок Парголово           52996.0   \n",
       "\n",
       "  cityCenters_nearest  parks_around3000  parks_nearest  ponds_around3000  \\\n",
       "1             18603.0               0.0            NaN               0.0   \n",
       "2             13933.0               1.0           90.0               2.0   \n",
       "3              6800.0               2.0           84.0               3.0   \n",
       "5                 NaN               NaN            NaN               NaN   \n",
       "6             19143.0               0.0            NaN               0.0   \n",
       "\n",
       "   ponds_nearest  days_exposition  \n",
       "1            NaN             81.0  \n",
       "2          574.0            558.0  \n",
       "3          234.0            424.0  \n",
       "5            NaN             55.0  \n",
       "6            NaN            155.0  \n",
       "\n",
       "[5 rows x 22 columns]"
      ]
     },
     "execution_count": 234,
     "metadata": {},
     "output_type": "execute_result"
    }
   ],
   "source": [
    "df[df['ceiling_height'].isna()].head()"
   ]
  },
  {
   "cell_type": "code",
   "execution_count": 235,
   "metadata": {},
   "outputs": [
    {
     "data": {
      "text/plain": [
       "0    2019-03-07T00:00:00\n",
       "1    2018-12-04T00:00:00\n",
       "2    2015-08-20T00:00:00\n",
       "3    2015-07-24T00:00:00\n",
       "4    2018-06-19T00:00:00\n",
       "Name: first_day_exposition, dtype: object"
      ]
     },
     "execution_count": 235,
     "metadata": {},
     "output_type": "execute_result"
    }
   ],
   "source": [
    "df['first_day_exposition'].head()"
   ]
  },
  {
   "cell_type": "code",
   "execution_count": 236,
   "metadata": {},
   "outputs": [
    {
     "data": {
      "text/plain": [
       "False    2725\n",
       "True       50\n",
       "Name: is_apartment, dtype: int64"
      ]
     },
     "execution_count": 236,
     "metadata": {},
     "output_type": "execute_result"
    }
   ],
   "source": [
    "df['is_apartment'].value_counts()"
   ]
  },
  {
   "cell_type": "markdown",
   "metadata": {},
   "source": [
    "Скорее всего значения в булевом признаке 'is_apartment' не заполнены в квартирах, которые не являются аппартаментами. Заполняем пропуски значением 'False'."
   ]
  },
  {
   "cell_type": "code",
   "execution_count": 237,
   "metadata": {},
   "outputs": [
    {
     "data": {
      "text/plain": [
       "0"
      ]
     },
     "execution_count": 237,
     "metadata": {},
     "output_type": "execute_result"
    }
   ],
   "source": [
    "df['is_apartment'].fillna('False',inplace=True)\n",
    "df['is_apartment'].isna().sum()"
   ]
  },
  {
   "cell_type": "code",
   "execution_count": 322,
   "metadata": {
    "scrolled": true
   },
   "outputs": [
    {
     "data": {
      "text/plain": [
       "1     6931\n",
       "2     6372\n",
       "3     4312\n",
       "4      795\n",
       "5      196\n",
       "6       64\n",
       "7       34\n",
       "8        7\n",
       "9        3\n",
       "14       2\n",
       "10       2\n",
       "15       1\n",
       "12       1\n",
       "19       1\n",
       "Name: rooms, dtype: int64"
      ]
     },
     "execution_count": 322,
     "metadata": {},
     "output_type": "execute_result"
    }
   ],
   "source": [
    "df['rooms'].value_counts()"
   ]
  },
  {
   "cell_type": "code",
   "execution_count": 321,
   "metadata": {},
   "outputs": [
    {
     "data": {
      "text/plain": [
       "1    6931\n",
       "2    6372\n",
       "3    4312\n",
       "4     795\n",
       "5     196\n",
       "Name: rooms, dtype: int64"
      ]
     },
     "execution_count": 321,
     "metadata": {},
     "output_type": "execute_result"
    }
   ],
   "source": [
    "df['rooms'].where(df['rooms']>0, 1, inplace=True)\n",
    "df['rooms'].value_counts().head()"
   ]
  },
  {
   "cell_type": "markdown",
   "metadata": {},
   "source": [
    "Квартиры с 0 комнатами скорее всего можно прибавить к однокомнатным квартирам"
   ]
  },
  {
   "cell_type": "code",
   "execution_count": 240,
   "metadata": {},
   "outputs": [
    {
     "data": {
      "text/plain": [
       "11519"
      ]
     },
     "execution_count": 240,
     "metadata": {},
     "output_type": "execute_result"
    }
   ],
   "source": [
    "df['balcony'].value_counts()\n",
    "df['balcony'].isna().sum()"
   ]
  },
  {
   "cell_type": "markdown",
   "metadata": {},
   "source": [
    "Скорее всего значения в признаке 'balcony' не заполнены в квартирах без балкона. Заполняем пропуски значением '0'."
   ]
  },
  {
   "cell_type": "code",
   "execution_count": 241,
   "metadata": {},
   "outputs": [
    {
     "data": {
      "text/plain": [
       "0"
      ]
     },
     "execution_count": 241,
     "metadata": {},
     "output_type": "execute_result"
    }
   ],
   "source": [
    "df['balcony'].fillna(0, inplace=True)\n",
    "df['balcony'].isna().sum()"
   ]
  },
  {
   "cell_type": "code",
   "execution_count": 242,
   "metadata": {},
   "outputs": [
    {
     "data": {
      "text/plain": [
       "49"
      ]
     },
     "execution_count": 242,
     "metadata": {},
     "output_type": "execute_result"
    }
   ],
   "source": [
    "df['locality_name'].isna().sum()"
   ]
  },
  {
   "cell_type": "markdown",
   "metadata": {},
   "source": [
    "Пропусков в признаках 'floors_total' и 'locality_name' немного, и заполнить их с хорошей точностью не получится, принимаем решение удалить пропуски."
   ]
  },
  {
   "cell_type": "code",
   "execution_count": 243,
   "metadata": {},
   "outputs": [
    {
     "data": {
      "text/plain": [
       "0"
      ]
     },
     "execution_count": 243,
     "metadata": {},
     "output_type": "execute_result"
    }
   ],
   "source": [
    "df = df[~df['locality_name'].isna()]\n",
    "df['locality_name'].isna().sum()"
   ]
  },
  {
   "cell_type": "code",
   "execution_count": 244,
   "metadata": {},
   "outputs": [
    {
     "data": {
      "text/plain": [
       "85"
      ]
     },
     "execution_count": 244,
     "metadata": {},
     "output_type": "execute_result"
    }
   ],
   "source": [
    "df['floors_total'].isna().sum()"
   ]
  },
  {
   "cell_type": "code",
   "execution_count": 245,
   "metadata": {},
   "outputs": [
    {
     "data": {
      "text/plain": [
       "0"
      ]
     },
     "execution_count": 245,
     "metadata": {},
     "output_type": "execute_result"
    }
   ],
   "source": [
    "df = df[~df['floors_total'].isna()]\n",
    "df['floors_total'].isna().sum()"
   ]
  },
  {
   "cell_type": "code",
   "execution_count": 246,
   "metadata": {},
   "outputs": [
    {
     "data": {
      "text/plain": [
       "total_images            5500\n",
       "last_price              5500\n",
       "total_area              5500\n",
       "first_day_exposition    5500\n",
       "rooms                   5500\n",
       "ceiling_height          2940\n",
       "floors_total            5500\n",
       "living_area             4884\n",
       "floor                   5500\n",
       "is_apartment            5500\n",
       "studio                  5500\n",
       "open_plan               5500\n",
       "kitchen_area            4794\n",
       "balcony                 5500\n",
       "locality_name           5500\n",
       "airports_nearest           0\n",
       "cityCenters_nearest        0\n",
       "parks_around3000           0\n",
       "parks_nearest              0\n",
       "ponds_around3000           0\n",
       "ponds_nearest              0\n",
       "days_exposition         4637\n",
       "dtype: int64"
      ]
     },
     "execution_count": 246,
     "metadata": {},
     "output_type": "execute_result"
    }
   ],
   "source": [
    "df[df['ponds_around3000'].isna()].count()"
   ]
  },
  {
   "cell_type": "markdown",
   "metadata": {},
   "source": [
    "Пропуски в столбцах 'ponds_around3000' и 'parks_around3000' скорее обусловлены отсутствием парков или водоемов поблизости. Заполняем пропуски 'нулями'."
   ]
  },
  {
   "cell_type": "code",
   "execution_count": 247,
   "metadata": {},
   "outputs": [
    {
     "data": {
      "text/plain": [
       "0"
      ]
     },
     "execution_count": 247,
     "metadata": {},
     "output_type": "execute_result"
    }
   ],
   "source": [
    "df['ponds_around3000'].fillna(0, inplace=True)\n",
    "df['ponds_around3000'].isna().sum()"
   ]
  },
  {
   "cell_type": "code",
   "execution_count": 248,
   "metadata": {},
   "outputs": [
    {
     "data": {
      "text/plain": [
       "0"
      ]
     },
     "execution_count": 248,
     "metadata": {},
     "output_type": "execute_result"
    }
   ],
   "source": [
    "df['parks_around3000'].fillna(0, inplace=True)\n",
    "df['parks_around3000'].isna().sum()"
   ]
  },
  {
   "cell_type": "markdown",
   "metadata": {},
   "source": [
    "Приводим тип данных признака 'floors_total' к целочисленному."
   ]
  },
  {
   "cell_type": "code",
   "execution_count": 249,
   "metadata": {},
   "outputs": [],
   "source": [
    "df['floors_total'] = df['floors_total'].astype('int')"
   ]
  },
  {
   "cell_type": "markdown",
   "metadata": {},
   "source": [
    "Приводим тип данных признака 'is_apartment' к булеву."
   ]
  },
  {
   "cell_type": "code",
   "execution_count": 250,
   "metadata": {},
   "outputs": [],
   "source": [
    "df['is_apartment'] = df['is_apartment'].astype('bool')"
   ]
  },
  {
   "cell_type": "markdown",
   "metadata": {},
   "source": [
    "Приводим тип данных признаков 'balcony' и 'last_price' к целочисленным."
   ]
  },
  {
   "cell_type": "code",
   "execution_count": 251,
   "metadata": {},
   "outputs": [],
   "source": [
    "df['balcony'] = df['balcony'].astype('int')"
   ]
  },
  {
   "cell_type": "code",
   "execution_count": 252,
   "metadata": {},
   "outputs": [],
   "source": [
    "df['last_price'] = df['last_price'].astype('int')"
   ]
  },
  {
   "cell_type": "markdown",
   "metadata": {},
   "source": [
    "Приводим тип данных признака 'first_day_exposition' к формату времени."
   ]
  },
  {
   "cell_type": "code",
   "execution_count": 253,
   "metadata": {},
   "outputs": [],
   "source": [
    "df['first_day_exposition'] = pd.to_datetime(df['first_day_exposition'],format='%Y-%m-%d %H:%M:%S')"
   ]
  },
  {
   "cell_type": "markdown",
   "metadata": {},
   "source": [
    "Приводим тип данных признаков 'ponds_around3000', 'parks_around3000', 'airports_nearest', 'cityCenters_nearest', 'ponds_nearest', 'parks_nearest', и 'days_exposition' к целочисленным."
   ]
  },
  {
   "cell_type": "code",
   "execution_count": 254,
   "metadata": {},
   "outputs": [],
   "source": [
    "df['ponds_around3000'] = df['ponds_around3000'].astype('int')"
   ]
  },
  {
   "cell_type": "code",
   "execution_count": 255,
   "metadata": {},
   "outputs": [],
   "source": [
    "df['parks_around3000'] = df['parks_around3000'].astype('int')"
   ]
  },
  {
   "cell_type": "code",
   "execution_count": 256,
   "metadata": {},
   "outputs": [],
   "source": [
    "df['airports_nearest'] = df['airports_nearest'].astype('int', errors='ignore')"
   ]
  },
  {
   "cell_type": "code",
   "execution_count": 257,
   "metadata": {},
   "outputs": [],
   "source": [
    "df['cityCenters_nearest'] = df['cityCenters_nearest'].astype('int', errors='ignore')"
   ]
  },
  {
   "cell_type": "code",
   "execution_count": 258,
   "metadata": {},
   "outputs": [],
   "source": [
    "df['ponds_nearest'] = df['ponds_nearest'].astype('int', errors='ignore')"
   ]
  },
  {
   "cell_type": "code",
   "execution_count": 259,
   "metadata": {},
   "outputs": [],
   "source": [
    "df['parks_nearest'] = df['parks_nearest'].astype('int', errors='ignore')"
   ]
  },
  {
   "cell_type": "code",
   "execution_count": 260,
   "metadata": {},
   "outputs": [],
   "source": [
    "df['days_exposition'] = df['days_exposition'].astype('int', errors='ignore')"
   ]
  },
  {
   "cell_type": "markdown",
   "metadata": {},
   "source": [
    "Сократим количество дубликатов в признаке 'locality_name'."
   ]
  },
  {
   "cell_type": "code",
   "execution_count": 261,
   "metadata": {
    "scrolled": true
   },
   "outputs": [
    {
     "data": {
      "text/plain": [
       "Санкт-Петербург      15651\n",
       "посёлок Мурино         520\n",
       "посёлок Шушары         439\n",
       "Всеволожск             398\n",
       "Пушкин                 369\n",
       "Колпино                338\n",
       "посёлок Парголово      327\n",
       "Гатчина                307\n",
       "деревня Кудрово        299\n",
       "Выборг                 237\n",
       "Name: locality_name, dtype: int64"
      ]
     },
     "execution_count": 261,
     "metadata": {},
     "output_type": "execute_result"
    }
   ],
   "source": [
    "df['locality_name'].value_counts().head(10)"
   ]
  },
  {
   "cell_type": "code",
   "execution_count": 262,
   "metadata": {},
   "outputs": [
    {
     "data": {
      "text/plain": [
       "санкт-петербург            15651\n",
       "посёлок мурино               520\n",
       "посёлок шушары               439\n",
       "всеволожск                   398\n",
       "пушкин                       369\n",
       "колпино                      338\n",
       "посёлок парголово            327\n",
       "гатчина                      307\n",
       "деревня кудрово              299\n",
       "выборг                       237\n",
       "петергоф                     201\n",
       "сестрорецк                   183\n",
       "красное село                 176\n",
       "кудрово                      171\n",
       "деревня новое девяткино      143\n",
       "сертолово                    142\n",
       "ломоносов                    133\n",
       "кириши                       125\n",
       "сланцы                       112\n",
       "волхов                       111\n",
       "Name: locality_name, dtype: int64"
      ]
     },
     "execution_count": 262,
     "metadata": {},
     "output_type": "execute_result"
    }
   ],
   "source": [
    "df['locality_name'] = df['locality_name'].str.lower()\n",
    "df['locality_name'].value_counts().head(20)"
   ]
  },
  {
   "cell_type": "markdown",
   "metadata": {},
   "source": [
    "Выделим список слов - генерирующих дубликаты в названиях населенных пунктов. Они не влияют на название населенного пункта, но различные приставки к именам создают дублирующие категории."
   ]
  },
  {
   "cell_type": "code",
   "execution_count": 263,
   "metadata": {},
   "outputs": [
    {
     "data": {
      "text/plain": [
       "Counter({'санкт-петербург': 1,\n",
       "         'посёлок': 94,\n",
       "         'шушары': 1,\n",
       "         'городской': 14,\n",
       "         'янино-1': 2,\n",
       "         'парголово': 1,\n",
       "         'мурино': 3,\n",
       "         'ломоносов': 1,\n",
       "         'сертолово': 1,\n",
       "         'петергоф': 1,\n",
       "         'пушкин': 1,\n",
       "         'деревня': 106,\n",
       "         'кудрово': 2,\n",
       "         'коммунар': 1,\n",
       "         'колпино': 1,\n",
       "         'поселок': 107,\n",
       "         'городского': 39,\n",
       "         'типа': 39,\n",
       "         'красный': 2,\n",
       "         'бор': 8,\n",
       "         'гатчина': 1,\n",
       "         'фёдоровское': 2,\n",
       "         'выборг': 1,\n",
       "         'кронштадт': 1,\n",
       "         'кировск': 1,\n",
       "         'новое': 1,\n",
       "         'девяткино': 1,\n",
       "         'металлострой': 1,\n",
       "         'лебяжье': 2,\n",
       "         'сиверский': 1,\n",
       "         'молодцово': 1,\n",
       "         'кузьмоловский': 2,\n",
       "         'садовое': 4,\n",
       "         'товарищество': 5,\n",
       "         'новая': 2,\n",
       "         'ропша': 2,\n",
       "         'павловск': 1,\n",
       "         'пикколово': 1,\n",
       "         'всеволожск': 1,\n",
       "         'волхов': 1,\n",
       "         'кингисепп': 1,\n",
       "         'приозерск': 1,\n",
       "         'сестрорецк': 1,\n",
       "         'куттузи': 1,\n",
       "         'аннино': 2,\n",
       "         'ефимовский': 1,\n",
       "         'плодовое': 1,\n",
       "         'заклинье': 1,\n",
       "         'торковичи': 1,\n",
       "         'первомайское': 1,\n",
       "         'красное': 1,\n",
       "         'село': 10,\n",
       "         'понтонный': 1,\n",
       "         'сясьстрой': 1,\n",
       "         'старая': 5,\n",
       "         'лесколово': 1,\n",
       "         'новый': 3,\n",
       "         'свет': 2,\n",
       "         'сланцы': 1,\n",
       "         'путилово': 1,\n",
       "         'ивангород': 1,\n",
       "         'шлиссельбург': 1,\n",
       "         'никольское': 2,\n",
       "         'зеленогорск': 1,\n",
       "         'сосновый': 1,\n",
       "         'оржицы': 1,\n",
       "         'кальтино': 1,\n",
       "         'романовка': 2,\n",
       "         'бугры': 2,\n",
       "         'рощино': 3,\n",
       "         'кириши': 1,\n",
       "         'луга': 1,\n",
       "         'волосово': 1,\n",
       "         'отрадное': 1,\n",
       "         'павлово': 3,\n",
       "         'оредеж': 1,\n",
       "         'копорье': 1,\n",
       "         'молодёжное': 1,\n",
       "         'тихвин': 1,\n",
       "         'победа': 2,\n",
       "         'нурма': 1,\n",
       "         'синявино': 1,\n",
       "         'тосно': 1,\n",
       "         'стрельна': 1,\n",
       "         'бокситогорск': 1,\n",
       "         'александровская': 1,\n",
       "         'лопухинка': 1,\n",
       "         'пикалёво': 1,\n",
       "         'терволово': 2,\n",
       "         'советский': 2,\n",
       "         'подпорожье': 1,\n",
       "         'петровское': 2,\n",
       "         'токсово': 2,\n",
       "         'сельцо': 1,\n",
       "         'вырица': 2,\n",
       "         'кипень': 1,\n",
       "         'келози': 1,\n",
       "         'вартемяги': 1,\n",
       "         'тельмана': 2,\n",
       "         'севастьяново': 1,\n",
       "         'большая': 4,\n",
       "         'ижора': 2,\n",
       "         'агалатово': 1,\n",
       "         'новогорелово': 1,\n",
       "         'лесогорский': 2,\n",
       "         'лаголово': 1,\n",
       "         'цвелодубово': 1,\n",
       "         'рахья': 2,\n",
       "         'белогорка': 1,\n",
       "         'заводской': 1,\n",
       "         'новоселье': 1,\n",
       "         'большие': 1,\n",
       "         'колпаны': 2,\n",
       "         'горбунки': 1,\n",
       "         'батово': 1,\n",
       "         'заневка': 1,\n",
       "         'иссад': 1,\n",
       "         'приморск': 1,\n",
       "         'мистолово': 1,\n",
       "         'ладога': 2,\n",
       "         'зимитицы': 2,\n",
       "         'барышево': 1,\n",
       "         'разметелево': 1,\n",
       "         'имени': 3,\n",
       "         'свердлова': 2,\n",
       "         'пеники': 1,\n",
       "         'рябово': 3,\n",
       "         'пудомяги': 1,\n",
       "         'станции': 8,\n",
       "         'корнево': 1,\n",
       "         'низино': 1,\n",
       "         'бегуницы': 2,\n",
       "         'поляны': 2,\n",
       "         'мга': 2,\n",
       "         'елизаветино': 1,\n",
       "         'кузнечное': 1,\n",
       "         'колтуши': 1,\n",
       "         'запорожское': 1,\n",
       "         'гостилицы': 1,\n",
       "         'малое': 2,\n",
       "         'карлино': 1,\n",
       "         'мичуринское': 2,\n",
       "         'морозова': 1,\n",
       "         'песочный': 1,\n",
       "         'сосново': 1,\n",
       "         'аро': 1,\n",
       "         'ильичёво': 2,\n",
       "         'тайцы': 1,\n",
       "         'верево': 1,\n",
       "         'извара': 1,\n",
       "         'вещево': 2,\n",
       "         'паша': 1,\n",
       "         'калитино': 2,\n",
       "         'ульяновка': 1,\n",
       "         'чудской': 1,\n",
       "         'дубровка': 1,\n",
       "         'мины': 1,\n",
       "         'войсковицы': 1,\n",
       "         'коркино': 1,\n",
       "         'приладожский': 2,\n",
       "         'щеглово': 2,\n",
       "         'гаврилово': 2,\n",
       "         'лодейное': 1,\n",
       "         'поле': 1,\n",
       "         'рабитицы': 2,\n",
       "         'никольский': 1,\n",
       "         'кузьмолово': 1,\n",
       "         'малые': 1,\n",
       "         'петро-славянка': 1,\n",
       "         'назия': 2,\n",
       "         'репино': 1,\n",
       "         'углово': 1,\n",
       "         'малукса': 2,\n",
       "         'меньково': 1,\n",
       "         'старые': 1,\n",
       "         'сапёрный': 1,\n",
       "         'семрино': 1,\n",
       "         'глажево': 1,\n",
       "         'кобринское': 1,\n",
       "         'гарболово': 2,\n",
       "         'юкки': 1,\n",
       "         'приветнинское': 2,\n",
       "         'мануйлово': 1,\n",
       "         'пчева': 1,\n",
       "         'цвылёво': 1,\n",
       "         'мельниково': 2,\n",
       "         'пудость': 1,\n",
       "         'усть-луга': 2,\n",
       "         'светогорск': 1,\n",
       "         'любань': 2,\n",
       "         'селезнёво': 1,\n",
       "         'каменногорск': 1,\n",
       "         'кривко': 1,\n",
       "         'глебычево': 1,\n",
       "         'парицы': 1,\n",
       "         'жилпосёлок': 1,\n",
       "         'войскорово': 1,\n",
       "         'стеклянный': 2,\n",
       "         'важины': 1,\n",
       "         'мыза-ивановка': 1,\n",
       "         'русско-высоцкое': 1,\n",
       "         'форносово': 2,\n",
       "         'житково': 1,\n",
       "         'виллози': 1,\n",
       "         'лампово': 1,\n",
       "         'шпаньково': 1,\n",
       "         'лаврики': 1,\n",
       "         'сумино': 2,\n",
       "         'возрождение': 2,\n",
       "         'старосиверская': 1,\n",
       "         'кикерино': 1,\n",
       "         'старое': 1,\n",
       "         'хинколово': 1,\n",
       "         'пригородный': 1,\n",
       "         'торфяное': 1,\n",
       "         'будогощь': 1,\n",
       "         'суходолье': 1,\n",
       "         'красная': 2,\n",
       "         'долина': 1,\n",
       "         'хапо-ое': 1,\n",
       "         'дружная': 1,\n",
       "         'горка': 2,\n",
       "         'лисий': 2,\n",
       "         'нос': 2,\n",
       "         'яльгелево': 1,\n",
       "         'рождествено': 1,\n",
       "         'старополье': 1,\n",
       "         'левашово': 1,\n",
       "         'сяськелево': 1,\n",
       "         'камышовка': 1,\n",
       "         'садоводческое': 1,\n",
       "         'некоммерческое': 1,\n",
       "         'лесная': 1,\n",
       "         'поляна': 1,\n",
       "         'хязельки': 1,\n",
       "         'жилгородок': 2,\n",
       "         'ялгино': 1,\n",
       "         'учхоз': 1,\n",
       "         'гончарово': 1,\n",
       "         'почап': 1,\n",
       "         'сапёрное': 1,\n",
       "         'платформа': 1,\n",
       "         '69-й': 1,\n",
       "         'километр': 1,\n",
       "         'каложицы': 1,\n",
       "         'фалилеево': 1,\n",
       "         'пельгора': 1,\n",
       "         'торошковичи': 1,\n",
       "         'белоостров': 1,\n",
       "         'алексеевка': 1,\n",
       "         'серебрянский': 1,\n",
       "         'лукаши': 1,\n",
       "         'тарасово': 1,\n",
       "         'кингисеппский': 1,\n",
       "         'при': 2,\n",
       "         'железнодорожной': 2,\n",
       "         'ушаки': 1,\n",
       "         'котлы': 1,\n",
       "         'сижно': 1,\n",
       "         'торосово': 1,\n",
       "         'форт': 1,\n",
       "         'новолисино': 1,\n",
       "         'громово': 2,\n",
       "         'глинка': 1,\n",
       "         'пустошь': 1,\n",
       "         'коммунары': 1,\n",
       "         'починок': 1,\n",
       "         'вознесенье': 1,\n",
       "         'разбегаево': 1,\n",
       "         'гладкое': 1,\n",
       "         'тёсово-4': 1,\n",
       "         'коробицыно': 2,\n",
       "         'вруда': 1,\n",
       "         'курковицы': 1,\n",
       "         'кобралово': 2,\n",
       "         'суоранда': 1,\n",
       "         'кондратьево': 1,\n",
       "         'коттеджный': 3,\n",
       "         'счастье': 1,\n",
       "         'реброво': 1,\n",
       "         'тойворово': 1,\n",
       "         'семиозерье': 1,\n",
       "         'лесное': 2,\n",
       "         'совхозный': 1,\n",
       "         'ленинское': 1,\n",
       "         'суйда': 1,\n",
       "         'нижние': 1,\n",
       "         'осельки': 1,\n",
       "         'свирь': 1,\n",
       "         'перово': 2,\n",
       "         'высоцк': 1,\n",
       "         'шум': 1,\n",
       "         'котельский': 1,\n",
       "         'лужайка': 1,\n",
       "         'пустомержа': 1,\n",
       "         'красносельское': 1,\n",
       "         'вахнова': 1,\n",
       "         'кара': 1,\n",
       "         'пижма': 1,\n",
       "         'кивеннапа': 1,\n",
       "         'север': 1,\n",
       "         'ромашки': 1,\n",
       "         'каськово': 1,\n",
       "         'куровицы': 1,\n",
       "         'плоское': 1,\n",
       "         'кирпичное': 1,\n",
       "         'ям-тесово': 1,\n",
       "         'раздолье': 1,\n",
       "         'терпилицы': 1,\n",
       "         'шугозеро': 1,\n",
       "         'ваганово': 1,\n",
       "         'пушное': 1,\n",
       "         'садко': 1,\n",
       "         'усть-ижора': 1,\n",
       "         'выскатка': 1,\n",
       "         'свирьстрой': 1,\n",
       "         'кисельня': 1,\n",
       "         'трубников': 1,\n",
       "         'высокоключевой': 1,\n",
       "         'пансионат': 2,\n",
       "         'зелёный': 2,\n",
       "         'ненимяки': 1,\n",
       "         'снегирёвка': 1,\n",
       "         'рапполово': 1,\n",
       "         'пустынка': 1,\n",
       "         'большой': 1,\n",
       "         'сабск': 1,\n",
       "         'русско': 1,\n",
       "         'лупполово': 1,\n",
       "         'большое': 1,\n",
       "         'рейзино': 1,\n",
       "         'малая': 1,\n",
       "         'дружноселье': 1,\n",
       "         'пчевжа': 1,\n",
       "         'володарское': 1,\n",
       "         'нижняя': 1,\n",
       "         'тихковицы': 1,\n",
       "         'борисова': 1,\n",
       "         'грива': 1,\n",
       "         'дзержинского': 1})"
      ]
     },
     "execution_count": 263,
     "metadata": {},
     "output_type": "execute_result"
    }
   ],
   "source": [
    "lem_list = list(df['locality_name'].unique())\n",
    "words=[]\n",
    "for item in lem_list:\n",
    "    words += item.split()\n",
    "bad_words = ['поселок', 'посёлок', 'городской', 'деревня', 'типа', 'садовое']\n",
    "Counter(words)"
   ]
  },
  {
   "cell_type": "markdown",
   "metadata": {},
   "source": [
    "Создадим и применим функцию для предобработки категориального признака 'locality_name'."
   ]
  },
  {
   "cell_type": "code",
   "execution_count": 264,
   "metadata": {},
   "outputs": [],
   "source": [
    "def assign_name(row):\n",
    "    row_split = row.split()\n",
    "    for item in bad_words:\n",
    "        if item in row_split:\n",
    "            return row_split[-1]\n",
    "        else:\n",
    "            continue\n",
    "    return row"
   ]
  },
  {
   "cell_type": "code",
   "execution_count": 265,
   "metadata": {},
   "outputs": [
    {
     "data": {
      "text/plain": [
       "санкт-петербург    15651\n",
       "мурино               586\n",
       "кудрово              470\n",
       "шушары               439\n",
       "всеволожск           398\n",
       "пушкин               369\n",
       "колпино              338\n",
       "парголово            327\n",
       "гатчина              307\n",
       "выборг               237\n",
       "петергоф             201\n",
       "сестрорецк           183\n",
       "красное село         176\n",
       "девяткино            143\n",
       "сертолово            142\n",
       "ломоносов            133\n",
       "кириши               125\n",
       "бугры                113\n",
       "сланцы               112\n",
       "волхов               111\n",
       "Name: locality_name, dtype: int64"
      ]
     },
     "execution_count": 265,
     "metadata": {},
     "output_type": "execute_result"
    }
   ],
   "source": [
    "df['locality_name'] = df['locality_name'].apply(assign_name)\n",
    "df['locality_name'].value_counts().head(20)"
   ]
  },
  {
   "cell_type": "markdown",
   "metadata": {},
   "source": [
    "Проверим не появились ли явные дубликаты после лемматизации населенных пунктов"
   ]
  },
  {
   "cell_type": "code",
   "execution_count": 266,
   "metadata": {},
   "outputs": [
    {
     "data": {
      "text/plain": [
       "0"
      ]
     },
     "execution_count": 266,
     "metadata": {},
     "output_type": "execute_result"
    }
   ],
   "source": [
    "df.duplicated().sum()"
   ]
  },
  {
   "cell_type": "markdown",
   "metadata": {},
   "source": [
    "## Расчёты и добавление результатов в таблицу"
   ]
  },
  {
   "cell_type": "code",
   "execution_count": 267,
   "metadata": {},
   "outputs": [
    {
     "data": {
      "text/plain": [
       "Index(['total_images', 'last_price', 'total_area', 'first_day_exposition',\n",
       "       'rooms', 'ceiling_height', 'floors_total', 'living_area', 'floor',\n",
       "       'is_apartment', 'studio', 'open_plan', 'kitchen_area', 'balcony',\n",
       "       'locality_name', 'airports_nearest', 'cityCenters_nearest',\n",
       "       'parks_around3000', 'parks_nearest', 'ponds_around3000',\n",
       "       'ponds_nearest', 'days_exposition'],\n",
       "      dtype='object')"
      ]
     },
     "execution_count": 267,
     "metadata": {},
     "output_type": "execute_result"
    }
   ],
   "source": [
    "df.columns"
   ]
  },
  {
   "cell_type": "markdown",
   "metadata": {},
   "source": [
    "Рассчитаем цены квадратного метра объектов и приведем к целочисленным."
   ]
  },
  {
   "cell_type": "code",
   "execution_count": 268,
   "metadata": {},
   "outputs": [],
   "source": [
    "df['sqr_price'] = df['last_price']/df['total_area']"
   ]
  },
  {
   "cell_type": "code",
   "execution_count": 269,
   "metadata": {},
   "outputs": [],
   "source": [
    "df['sqr_price'] = df['sqr_price'].astype('int', errors='ignore')"
   ]
  },
  {
   "cell_type": "markdown",
   "metadata": {},
   "source": [
    "Выделим категории по этажам квартир."
   ]
  },
  {
   "cell_type": "code",
   "execution_count": 270,
   "metadata": {},
   "outputs": [],
   "source": [
    "def floor_cat(row):\n",
    "    if row.floor==1:\n",
    "        return 'первый'\n",
    "    elif row.floor == row.floors_total:\n",
    "        return 'последний'\n",
    "    else:\n",
    "        return 'другой'"
   ]
  },
  {
   "cell_type": "code",
   "execution_count": 271,
   "metadata": {},
   "outputs": [],
   "source": [
    "df['floor_cat'] = df.apply(floor_cat, axis=1)"
   ]
  },
  {
   "cell_type": "markdown",
   "metadata": {},
   "source": [
    "Расчитаем отношение жилой площади к общей"
   ]
  },
  {
   "cell_type": "code",
   "execution_count": 272,
   "metadata": {},
   "outputs": [],
   "source": [
    "df['living_to_total'] = df['living_area']/df['total_area']"
   ]
  },
  {
   "cell_type": "markdown",
   "metadata": {},
   "source": [
    "Расчитаем отношение площади кухни к общей площади"
   ]
  },
  {
   "cell_type": "code",
   "execution_count": 273,
   "metadata": {},
   "outputs": [],
   "source": [
    "df['kitchen_to_total'] = df['kitchen_area']/df['total_area']"
   ]
  },
  {
   "cell_type": "markdown",
   "metadata": {},
   "source": [
    "## Исследовательский анализ данных"
   ]
  },
  {
   "cell_type": "code",
   "execution_count": 274,
   "metadata": {},
   "outputs": [
    {
     "data": {
      "text/plain": [
       "Index(['total_images', 'last_price', 'total_area', 'first_day_exposition',\n",
       "       'rooms', 'ceiling_height', 'floors_total', 'living_area', 'floor',\n",
       "       'is_apartment', 'studio', 'open_plan', 'kitchen_area', 'balcony',\n",
       "       'locality_name', 'airports_nearest', 'cityCenters_nearest',\n",
       "       'parks_around3000', 'parks_nearest', 'ponds_around3000',\n",
       "       'ponds_nearest', 'days_exposition', 'sqr_price', 'floor_cat',\n",
       "       'living_to_total', 'kitchen_to_total'],\n",
       "      dtype='object')"
      ]
     },
     "execution_count": 274,
     "metadata": {},
     "output_type": "execute_result"
    }
   ],
   "source": [
    "df.columns"
   ]
  },
  {
   "cell_type": "markdown",
   "metadata": {},
   "source": [
    "Построим гистограмму количества объектов различной площади"
   ]
  },
  {
   "cell_type": "code",
   "execution_count": 275,
   "metadata": {},
   "outputs": [
    {
     "data": {
      "text/plain": [
       "<matplotlib.axes._subplots.AxesSubplot at 0x7fb72bd60f10>"
      ]
     },
     "execution_count": 275,
     "metadata": {},
     "output_type": "execute_result"
    },
    {
     "data": {
      "image/png": "[encoded data removed]",
      "text/plain": [
       "<Figure size 648x432 with 1 Axes>"
      ]
     },
     "metadata": {
      "needs_background": "light"
     },
     "output_type": "display_data"
    }
   ],
   "source": [
    "df['total_area'].hist(bins=100, range=(10, 200),figsize=(9,6),edgecolor='k')"
   ]
  },
  {
   "cell_type": "markdown",
   "metadata": {},
   "source": [
    "Построим гистограмму цен объектов"
   ]
  },
  {
   "cell_type": "code",
   "execution_count": 276,
   "metadata": {},
   "outputs": [
    {
     "data": {
      "text/plain": [
       "<matplotlib.lines.Line2D at 0x7fb71da79fd0>"
      ]
     },
     "execution_count": 276,
     "metadata": {},
     "output_type": "execute_result"
    },
    {
     "data": {
      "image/png": "[encoded data removed]",
      "text/plain": [
       "<Figure size 648x432 with 1 Axes>"
      ]
     },
     "metadata": {
      "needs_background": "light"
     },
     "output_type": "display_data"
    }
   ],
   "source": [
    "df.plot(y='last_price',kind='hist', bins=100, range=(0,30000000), grid=True,figsize=(9,6),edgecolor='k')\n",
    "plt.xticks(rotation='vertical')\n",
    "plt.ticklabel_format(style='plain')\n",
    "plt.axvline(df['last_price'].mean(), color='k', linestyle='dashed', linewidth=1)\n",
    "plt.axvline(df['last_price'].median(), color='r', linestyle='dashed', linewidth=1)"
   ]
  },
  {
   "cell_type": "markdown",
   "metadata": {},
   "source": [
    "Построим гистограмму количества комнат"
   ]
  },
  {
   "cell_type": "code",
   "execution_count": 277,
   "metadata": {},
   "outputs": [
    {
     "data": {
      "text/plain": [
       "<matplotlib.axes._subplots.AxesSubplot at 0x7fb71d42db50>"
      ]
     },
     "execution_count": 277,
     "metadata": {},
     "output_type": "execute_result"
    },
    {
     "data": {
      "image/png": "[encoded data removed]",
      "text/plain": [
       "<Figure size 432x288 with 1 Axes>"
      ]
     },
     "metadata": {
      "needs_background": "light"
     },
     "output_type": "display_data"
    }
   ],
   "source": [
    "df['rooms'].hist(range=(0,10),edgecolor='k',bins=100)"
   ]
  },
  {
   "cell_type": "markdown",
   "metadata": {},
   "source": [
    "Построим гистограмму высоты потолков"
   ]
  },
  {
   "cell_type": "code",
   "execution_count": 278,
   "metadata": {},
   "outputs": [
    {
     "data": {
      "text/plain": [
       "<matplotlib.axes._subplots.AxesSubplot at 0x7fb71ced53d0>"
      ]
     },
     "execution_count": 278,
     "metadata": {},
     "output_type": "execute_result"
    },
    {
     "data": {
      "image/png": "[encoded data removed]",
      "text/plain": [
       "<Figure size 432x288 with 1 Axes>"
      ]
     },
     "metadata": {
      "needs_background": "light"
     },
     "output_type": "display_data"
    }
   ],
   "source": [
    "df['ceiling_height'].hist(range=(2,5),edgecolor='k',bins=100)"
   ]
  },
  {
   "cell_type": "markdown",
   "metadata": {},
   "source": [
    "Построим гистограмму длительности продажи квартир и обозначим на графике среднее и медианные значения"
   ]
  },
  {
   "cell_type": "code",
   "execution_count": 279,
   "metadata": {},
   "outputs": [
    {
     "data": {
      "text/plain": [
       "<matplotlib.lines.Line2D at 0x7fb71cd1c4d0>"
      ]
     },
     "execution_count": 279,
     "metadata": {},
     "output_type": "execute_result"
    },
    {
     "data": {
      "image/png": "[encoded data removed]",
      "text/plain": [
       "<Figure size 648x432 with 1 Axes>"
      ]
     },
     "metadata": {
      "needs_background": "light"
     },
     "output_type": "display_data"
    }
   ],
   "source": [
    "df['days_exposition'].hist(bins=100, figsize=(9,6),edgecolor='k')\n",
    "plt.axvline(df['days_exposition'].mean(), color='k', linestyle='dashed', linewidth=1)\n",
    "plt.axvline(df['days_exposition'].median(), color='r', linestyle='dashed', linewidth=1)"
   ]
  },
  {
   "cell_type": "code",
   "execution_count": 280,
   "metadata": {},
   "outputs": [
    {
     "data": {
      "text/plain": [
       "count    20394.000000\n",
       "mean       180.741395\n",
       "std        219.732782\n",
       "min          1.000000\n",
       "25%         45.000000\n",
       "50%         95.000000\n",
       "75%        231.000000\n",
       "max       1580.000000\n",
       "Name: days_exposition, dtype: float64"
      ]
     },
     "execution_count": 280,
     "metadata": {},
     "output_type": "execute_result"
    }
   ],
   "source": [
    "df['days_exposition'].describe()"
   ]
  },
  {
   "cell_type": "code",
   "execution_count": 281,
   "metadata": {},
   "outputs": [
    {
     "data": {
      "text/plain": [
       "<matplotlib.axes._subplots.AxesSubplot at 0x7fb71cd5bb90>"
      ]
     },
     "execution_count": 281,
     "metadata": {},
     "output_type": "execute_result"
    },
    {
     "data": {
      "image/png": "[encoded data removed]",
      "text/plain": [
       "<Figure size 432x288 with 1 Axes>"
      ]
     },
     "metadata": {
      "needs_background": "light"
     },
     "output_type": "display_data"
    }
   ],
   "source": [
    "df.boxplot('days_exposition')"
   ]
  },
  {
   "cell_type": "markdown",
   "metadata": {},
   "source": [
    "Медианное значение времени продажи квартир - 95 день, в то же время из-за длинного смещенного \"хвоста\", продаж длительностью 220 дней, среднее значение - 181 день. Межквартильный размах IQR=231-45=186, 1.5IQR=279.  Будем считать что непривычно длинные продажи начинаются за пределами \"усов\" - 279+231=510 дней. Быстрыми продажами можно считать продажи быстрее первого квартиля - 45 дней."
   ]
  },
  {
   "cell_type": "markdown",
   "metadata": {},
   "source": [
    "Уберем выбросы длительностью больше 510 дней"
   ]
  },
  {
   "cell_type": "code",
   "execution_count": 282,
   "metadata": {},
   "outputs": [
    {
     "name": "stdout",
     "output_type": "stream",
     "text": [
      "count    18721.000000\n",
      "mean       128.299343\n",
      "std        121.064671\n",
      "min          1.000000\n",
      "25%         41.000000\n",
      "50%         85.000000\n",
      "75%        182.000000\n",
      "max        509.000000\n",
      "Name: days_exposition, dtype: float64\n"
     ]
    },
    {
     "data": {
      "image/png": "[encoded data removed]",
      "text/plain": [
       "<Figure size 648x432 with 1 Axes>"
      ]
     },
     "metadata": {
      "needs_background": "light"
     },
     "output_type": "display_data"
    }
   ],
   "source": [
    "df = df[df['days_exposition']<510]\n",
    "df['days_exposition'].hist(bins=100, figsize=(9,6),edgecolor='k')\n",
    "plt.axvline(df['days_exposition'].mean(), color='k', linestyle='dashed', linewidth=1)\n",
    "plt.axvline(df['days_exposition'].median(), color='r', linestyle='dashed', linewidth=1)\n",
    "print(df['days_exposition'].describe())"
   ]
  },
  {
   "cell_type": "markdown",
   "metadata": {},
   "source": [
    "Стандартное отклонение уменьшилось почти в 2 раза. Значит выборка стала более \"чистой\" от выбросов."
   ]
  },
  {
   "cell_type": "markdown",
   "metadata": {},
   "source": [
    "Посмотрим на взаимосвязь данных. Будем использовать диаграммы рассеивания и коэфициент кореляции Пирсона.\n",
    "Для определения силы кореляционной связи величин используем следующую таблицу:\n",
    "\n",
    "-     менее 0.3 - слабая\n",
    "- от 0.3 до 0.5 - умеренная\n",
    "- от 0.5 до 0.7 - заметная\n",
    "- от 0.7 до 0.9 - высокая\n",
    "- более 0.9     - весьма высокая"
   ]
  },
  {
   "cell_type": "code",
   "execution_count": 283,
   "metadata": {
    "scrolled": true
   },
   "outputs": [
    {
     "name": "stdout",
     "output_type": "stream",
     "text": [
      "0.629675368159187\n"
     ]
    },
    {
     "data": {
      "image/png": "[encoded data removed]",
      "text/plain": [
       "<Figure size 648x432 with 1 Axes>"
      ]
     },
     "metadata": {
      "needs_background": "light"
     },
     "output_type": "display_data"
    }
   ],
   "source": [
    "print(df['last_price'].corr(df['total_area']))\n",
    "df.plot(x='last_price',y='total_area',kind='scatter',grid=True,figsize=(9,6),alpha=0.05, xlim=(0,30000000),ylim=(0,300))\n",
    "plt.xticks(rotation='vertical')\n",
    "plt.ticklabel_format(style='plain')"
   ]
  },
  {
   "cell_type": "markdown",
   "metadata": {},
   "source": [
    "Кореляция цены и площади заметная. С увеличением площади стоимость квартиры растет."
   ]
  },
  {
   "cell_type": "code",
   "execution_count": 284,
   "metadata": {
    "scrolled": true
   },
   "outputs": [
    {
     "name": "stdout",
     "output_type": "stream",
     "text": [
      "0.3436405060645508\n"
     ]
    },
    {
     "data": {
      "image/png": "[encoded data removed]",
      "text/plain": [
       "<Figure size 648x432 with 1 Axes>"
      ]
     },
     "metadata": {
      "needs_background": "light"
     },
     "output_type": "display_data"
    }
   ],
   "source": [
    "print(df['last_price'].corr(df['rooms']))\n",
    "df.plot(x='last_price',y='rooms',kind='scatter',grid=True,figsize=(9,6))\n",
    "plt.xticks(rotation='vertical')\n",
    "plt.ticklabel_format(style='plain')"
   ]
  },
  {
   "cell_type": "code",
   "execution_count": 285,
   "metadata": {},
   "outputs": [
    {
     "data": {
      "text/plain": [
       "<matplotlib.axes._subplots.AxesSubplot at 0x7fb71c9748d0>"
      ]
     },
     "execution_count": 285,
     "metadata": {},
     "output_type": "execute_result"
    },
    {
     "data": {
      "image/png": "[encoded data removed]",
      "text/plain": [
       "<Figure size 432x288 with 1 Axes>"
      ]
     },
     "metadata": {
      "needs_background": "light"
     },
     "output_type": "display_data"
    }
   ],
   "source": [
    "df_rooms = df.pivot_table(index='rooms', values='last_price', aggfunc=['mean','median','count']).reset_index()\n",
    "df_rooms.columns = ['rooms','mean','median','count']\n",
    "df_rooms.plot(style='o-')"
   ]
  },
  {
   "cell_type": "code",
   "execution_count": 286,
   "metadata": {},
   "outputs": [
    {
     "data": {
      "text/plain": [
       "<matplotlib.axes._subplots.AxesSubplot at 0x7fb71ce74610>"
      ]
     },
     "execution_count": 286,
     "metadata": {},
     "output_type": "execute_result"
    },
    {
     "data": {
      "image/png": "[encoded data removed]",
      "text/plain": [
       "<Figure size 432x288 with 1 Axes>"
      ]
     },
     "metadata": {
      "needs_background": "light"
     },
     "output_type": "display_data"
    }
   ],
   "source": [
    "df_rooms['count'].plot(style='o-')"
   ]
  },
  {
   "cell_type": "markdown",
   "metadata": {},
   "source": [
    "Кореляция цены и количества комнат умеренная. С увеличением площади стоимость квартиры растет. Больше всего предложений по двухкомнатным и однокомнатным квартирам."
   ]
  },
  {
   "cell_type": "code",
   "execution_count": 287,
   "metadata": {},
   "outputs": [
    {
     "name": "stdout",
     "output_type": "stream",
     "text": [
      "-0.18289861901873025\n"
     ]
    },
    {
     "data": {
      "image/png": "[encoded data removed]",
      "text/plain": [
       "<Figure size 648x432 with 1 Axes>"
      ]
     },
     "metadata": {
      "needs_background": "light"
     },
     "output_type": "display_data"
    }
   ],
   "source": [
    "print(df['last_price'].corr(df['cityCenters_nearest']))\n",
    "df.plot(x='last_price',y='cityCenters_nearest',kind='scatter',grid=True,figsize=(9,6))\n",
    "plt.xticks(rotation='vertical')\n",
    "plt.ticklabel_format(style='plain')"
   ]
  },
  {
   "cell_type": "markdown",
   "metadata": {},
   "source": [
    "Кореляция близости квартиры к центру и стоимости - слабая."
   ]
  },
  {
   "cell_type": "code",
   "execution_count": 288,
   "metadata": {},
   "outputs": [
    {
     "data": {
      "text/plain": [
       "<matplotlib.axes._subplots.AxesSubplot at 0x7fb71c1aeb10>"
      ]
     },
     "execution_count": 288,
     "metadata": {},
     "output_type": "execute_result"
    },
    {
     "data": {
      "image/png": "[encoded data removed]",
      "text/plain": [
       "<Figure size 432x288 with 1 Axes>"
      ]
     },
     "metadata": {
      "needs_background": "light"
     },
     "output_type": "display_data"
    }
   ],
   "source": [
    "df_floor = df.groupby('floor_cat')['last_price'].median()\n",
    "df_floor.plot.bar()"
   ]
  },
  {
   "cell_type": "markdown",
   "metadata": {},
   "source": [
    "Медианная цена квартир на первом и последнем этажах - ниже."
   ]
  },
  {
   "cell_type": "code",
   "execution_count": 289,
   "metadata": {},
   "outputs": [
    {
     "name": "stderr",
     "output_type": "stream",
     "text": [
      "/opt/conda/lib/python3.7/site-packages/ipykernel_launcher.py:1: SettingWithCopyWarning: \n",
      "A value is trying to be set on a copy of a slice from a DataFrame.\n",
      "Try using .loc[row_indexer,col_indexer] = value instead\n",
      "\n",
      "See the caveats in the documentation: http://pandas.pydata.org/pandas-docs/stable/user_guide/indexing.html#returning-a-view-versus-a-copy\n",
      "  \"\"\"Entry point for launching an IPython kernel.\n"
     ]
    }
   ],
   "source": [
    "df['weekday'] = df['first_day_exposition'].dt.weekday"
   ]
  },
  {
   "cell_type": "code",
   "execution_count": 290,
   "metadata": {},
   "outputs": [
    {
     "name": "stderr",
     "output_type": "stream",
     "text": [
      "/opt/conda/lib/python3.7/site-packages/ipykernel_launcher.py:1: SettingWithCopyWarning: \n",
      "A value is trying to be set on a copy of a slice from a DataFrame.\n",
      "Try using .loc[row_indexer,col_indexer] = value instead\n",
      "\n",
      "See the caveats in the documentation: http://pandas.pydata.org/pandas-docs/stable/user_guide/indexing.html#returning-a-view-versus-a-copy\n",
      "  \"\"\"Entry point for launching an IPython kernel.\n"
     ]
    }
   ],
   "source": [
    "df['month'] = df['first_day_exposition'].dt.month"
   ]
  },
  {
   "cell_type": "code",
   "execution_count": 291,
   "metadata": {},
   "outputs": [
    {
     "name": "stderr",
     "output_type": "stream",
     "text": [
      "/opt/conda/lib/python3.7/site-packages/ipykernel_launcher.py:1: SettingWithCopyWarning: \n",
      "A value is trying to be set on a copy of a slice from a DataFrame.\n",
      "Try using .loc[row_indexer,col_indexer] = value instead\n",
      "\n",
      "See the caveats in the documentation: http://pandas.pydata.org/pandas-docs/stable/user_guide/indexing.html#returning-a-view-versus-a-copy\n",
      "  \"\"\"Entry point for launching an IPython kernel.\n"
     ]
    }
   ],
   "source": [
    "df['year'] = df['first_day_exposition'].dt.year"
   ]
  },
  {
   "cell_type": "code",
   "execution_count": 292,
   "metadata": {},
   "outputs": [],
   "source": [
    "df_weekday = df.groupby('weekday')['last_price'].median()\n",
    "df_month = df.groupby('month')['last_price'].median()\n",
    "df_year = df.groupby('year')['last_price'].median()"
   ]
  },
  {
   "cell_type": "code",
   "execution_count": 293,
   "metadata": {
    "scrolled": true
   },
   "outputs": [
    {
     "data": {
      "text/plain": [
       "<matplotlib.axes._subplots.AxesSubplot at 0x7fb71c9f2650>"
      ]
     },
     "execution_count": 293,
     "metadata": {},
     "output_type": "execute_result"
    },
    {
     "data": {
      "image/png": "[encoded data removed]",
      "text/plain": [
       "<Figure size 648x432 with 1 Axes>"
      ]
     },
     "metadata": {
      "needs_background": "light"
     },
     "output_type": "display_data"
    }
   ],
   "source": [
    "df_weekday.plot.bar(grid=True,figsize=(9,6))"
   ]
  },
  {
   "cell_type": "markdown",
   "metadata": {},
   "source": [
    "Существенных отличий дня размещения объявления по стоимости объекта нет"
   ]
  },
  {
   "cell_type": "code",
   "execution_count": 294,
   "metadata": {},
   "outputs": [
    {
     "data": {
      "text/plain": [
       "<matplotlib.axes._subplots.AxesSubplot at 0x7fb71cbbd550>"
      ]
     },
     "execution_count": 294,
     "metadata": {},
     "output_type": "execute_result"
    },
    {
     "data": {
      "image/png": "[encoded data removed]",
      "text/plain": [
       "<Figure size 648x432 with 1 Axes>"
      ]
     },
     "metadata": {
      "needs_background": "light"
     },
     "output_type": "display_data"
    }
   ],
   "source": [
    "df_month.plot.bar(grid=True,figsize=(9,6))"
   ]
  },
  {
   "cell_type": "markdown",
   "metadata": {},
   "source": [
    "Объявления размещенные в июне медианно имеют меньшую стоимость по отношению к другим месяцам размещения. А в сентебре - большую."
   ]
  },
  {
   "cell_type": "code",
   "execution_count": 295,
   "metadata": {
    "scrolled": true
   },
   "outputs": [
    {
     "data": {
      "text/plain": [
       "<matplotlib.axes._subplots.AxesSubplot at 0x7fb71c1cdc90>"
      ]
     },
     "execution_count": 295,
     "metadata": {},
     "output_type": "execute_result"
    },
    {
     "data": {
      "image/png": "[encoded data removed]",
      "text/plain": [
       "<Figure size 648x432 with 1 Axes>"
      ]
     },
     "metadata": {
      "needs_background": "light"
     },
     "output_type": "display_data"
    }
   ],
   "source": [
    "df_year.plot.bar(grid=True,figsize=(9,6))"
   ]
  },
  {
   "cell_type": "markdown",
   "metadata": {},
   "source": [
    "Цены на недвижимость почти восстановились на уровень 2015 года."
   ]
  },
  {
   "cell_type": "code",
   "execution_count": 296,
   "metadata": {},
   "outputs": [],
   "source": [
    "df_top10 = df.pivot_table(index='locality_name',values='sqr_price', aggfunc=['count','mean'])"
   ]
  },
  {
   "cell_type": "code",
   "execution_count": 297,
   "metadata": {},
   "outputs": [],
   "source": [
    "df_top10.columns = ['counts','mean_area_price']"
   ]
  },
  {
   "cell_type": "code",
   "execution_count": 298,
   "metadata": {},
   "outputs": [],
   "source": [
    "df_top10 = df_top10.sort_values(by='counts',ascending=False).head(10).reset_index()"
   ]
  },
  {
   "cell_type": "code",
   "execution_count": 299,
   "metadata": {},
   "outputs": [
    {
     "data": {
      "text/html": [
       "<div>\n",
       "<style scoped>\n",
       "    .dataframe tbody tr th:only-of-type {\n",
       "        vertical-align: middle;\n",
       "    }\n",
       "\n",
       "    .dataframe tbody tr th {\n",
       "        vertical-align: top;\n",
       "    }\n",
       "\n",
       "    .dataframe thead th {\n",
       "        text-align: right;\n",
       "    }\n",
       "</style>\n",
       "<table border=\"1\" class=\"dataframe\">\n",
       "  <thead>\n",
       "    <tr style=\"text-align: right;\">\n",
       "      <th></th>\n",
       "      <th>locality_name</th>\n",
       "      <th>counts</th>\n",
       "      <th>mean_area_price</th>\n",
       "    </tr>\n",
       "  </thead>\n",
       "  <tbody>\n",
       "    <tr>\n",
       "      <td>0</td>\n",
       "      <td>санкт-петербург</td>\n",
       "      <td>12413</td>\n",
       "      <td>111769.835092</td>\n",
       "    </tr>\n",
       "    <tr>\n",
       "      <td>1</td>\n",
       "      <td>мурино</td>\n",
       "      <td>514</td>\n",
       "      <td>85908.538911</td>\n",
       "    </tr>\n",
       "    <tr>\n",
       "      <td>2</td>\n",
       "      <td>кудрово</td>\n",
       "      <td>405</td>\n",
       "      <td>94489.607407</td>\n",
       "    </tr>\n",
       "    <tr>\n",
       "      <td>3</td>\n",
       "      <td>шушары</td>\n",
       "      <td>387</td>\n",
       "      <td>77769.144703</td>\n",
       "    </tr>\n",
       "    <tr>\n",
       "      <td>4</td>\n",
       "      <td>всеволожск</td>\n",
       "      <td>308</td>\n",
       "      <td>68605.152597</td>\n",
       "    </tr>\n",
       "    <tr>\n",
       "      <td>5</td>\n",
       "      <td>колпино</td>\n",
       "      <td>294</td>\n",
       "      <td>74748.241497</td>\n",
       "    </tr>\n",
       "    <tr>\n",
       "      <td>6</td>\n",
       "      <td>парголово</td>\n",
       "      <td>288</td>\n",
       "      <td>89162.454861</td>\n",
       "    </tr>\n",
       "    <tr>\n",
       "      <td>7</td>\n",
       "      <td>пушкин</td>\n",
       "      <td>278</td>\n",
       "      <td>101894.179856</td>\n",
       "    </tr>\n",
       "    <tr>\n",
       "      <td>8</td>\n",
       "      <td>гатчина</td>\n",
       "      <td>244</td>\n",
       "      <td>68064.717213</td>\n",
       "    </tr>\n",
       "    <tr>\n",
       "      <td>9</td>\n",
       "      <td>выборг</td>\n",
       "      <td>193</td>\n",
       "      <td>57010.839378</td>\n",
       "    </tr>\n",
       "  </tbody>\n",
       "</table>\n",
       "</div>"
      ],
      "text/plain": [
       "     locality_name  counts  mean_area_price\n",
       "0  санкт-петербург   12413    111769.835092\n",
       "1           мурино     514     85908.538911\n",
       "2          кудрово     405     94489.607407\n",
       "3           шушары     387     77769.144703\n",
       "4       всеволожск     308     68605.152597\n",
       "5          колпино     294     74748.241497\n",
       "6        парголово     288     89162.454861\n",
       "7           пушкин     278    101894.179856\n",
       "8          гатчина     244     68064.717213\n",
       "9           выборг     193     57010.839378"
      ]
     },
     "execution_count": 299,
     "metadata": {},
     "output_type": "execute_result"
    }
   ],
   "source": [
    "df_top10"
   ]
  },
  {
   "cell_type": "code",
   "execution_count": 300,
   "metadata": {},
   "outputs": [
    {
     "data": {
      "text/plain": [
       "57010.83937823834"
      ]
     },
     "execution_count": 300,
     "metadata": {},
     "output_type": "execute_result"
    }
   ],
   "source": [
    "df_top10['mean_area_price'].min()"
   ]
  },
  {
   "cell_type": "code",
   "execution_count": 301,
   "metadata": {
    "scrolled": true
   },
   "outputs": [
    {
     "data": {
      "text/plain": [
       "111769.835092242"
      ]
     },
     "execution_count": 301,
     "metadata": {},
     "output_type": "execute_result"
    }
   ],
   "source": [
    "df_top10['mean_area_price'].max()"
   ]
  },
  {
   "cell_type": "markdown",
   "metadata": {},
   "source": [
    "Выбрали 10 населённых пунктов с наибольшим числом объявлений. Посчитали среднюю цену квадратного метра в этих населённых пунктах. Выделили населённые пункты с самой высокой (санкт-петербург) и низкой (выборг) стоимостью жилья"
   ]
  },
  {
   "cell_type": "code",
   "execution_count": 302,
   "metadata": {},
   "outputs": [
    {
     "data": {
      "text/plain": [
       "0.6630521873831526"
      ]
     },
     "execution_count": 302,
     "metadata": {},
     "output_type": "execute_result"
    }
   ],
   "source": [
    "df_spb = df[df['locality_name'] == 'санкт-петербург'].reset_index(drop=True)\n",
    "df_spb.head()\n",
    "len(df_spb)/len(df)"
   ]
  },
  {
   "cell_type": "code",
   "execution_count": 303,
   "metadata": {},
   "outputs": [],
   "source": [
    "df_spb['cityCenters_km'] = (df_spb['cityCenters_nearest']/1000).round()"
   ]
  },
  {
   "cell_type": "code",
   "execution_count": 304,
   "metadata": {},
   "outputs": [
    {
     "data": {
      "text/html": [
       "<div>\n",
       "<style scoped>\n",
       "    .dataframe tbody tr th:only-of-type {\n",
       "        vertical-align: middle;\n",
       "    }\n",
       "\n",
       "    .dataframe tbody tr th {\n",
       "        vertical-align: top;\n",
       "    }\n",
       "\n",
       "    .dataframe thead th {\n",
       "        text-align: right;\n",
       "    }\n",
       "</style>\n",
       "<table border=\"1\" class=\"dataframe\">\n",
       "  <thead>\n",
       "    <tr style=\"text-align: right;\">\n",
       "      <th></th>\n",
       "      <th>cityCenters_km</th>\n",
       "      <th>last_price</th>\n",
       "    </tr>\n",
       "  </thead>\n",
       "  <tbody>\n",
       "    <tr>\n",
       "      <td>0</td>\n",
       "      <td>0.0</td>\n",
       "      <td>2.896125e+07</td>\n",
       "    </tr>\n",
       "    <tr>\n",
       "      <td>1</td>\n",
       "      <td>1.0</td>\n",
       "      <td>2.038053e+07</td>\n",
       "    </tr>\n",
       "    <tr>\n",
       "      <td>2</td>\n",
       "      <td>2.0</td>\n",
       "      <td>1.776372e+07</td>\n",
       "    </tr>\n",
       "    <tr>\n",
       "      <td>3</td>\n",
       "      <td>3.0</td>\n",
       "      <td>1.005487e+07</td>\n",
       "    </tr>\n",
       "    <tr>\n",
       "      <td>4</td>\n",
       "      <td>4.0</td>\n",
       "      <td>1.315981e+07</td>\n",
       "    </tr>\n",
       "  </tbody>\n",
       "</table>\n",
       "</div>"
      ],
      "text/plain": [
       "   cityCenters_km    last_price\n",
       "0             0.0  2.896125e+07\n",
       "1             1.0  2.038053e+07\n",
       "2             2.0  1.776372e+07\n",
       "3             3.0  1.005487e+07\n",
       "4             4.0  1.315981e+07"
      ]
     },
     "execution_count": 304,
     "metadata": {},
     "output_type": "execute_result"
    }
   ],
   "source": [
    "df_spb_center = df_spb.pivot_table(index='cityCenters_km', values='last_price',aggfunc='mean').reset_index()\n",
    "df_spb_center.head()"
   ]
  },
  {
   "cell_type": "code",
   "execution_count": 305,
   "metadata": {},
   "outputs": [
    {
     "data": {
      "text/plain": [
       "<matplotlib.axes._subplots.AxesSubplot at 0x7fb71cbd9150>"
      ]
     },
     "execution_count": 305,
     "metadata": {},
     "output_type": "execute_result"
    },
    {
     "data": {
      "image/png": "[encoded data removed]",
      "text/plain": [
       "<Figure size 648x432 with 1 Axes>"
      ]
     },
     "metadata": {
      "needs_background": "light"
     },
     "output_type": "display_data"
    }
   ],
   "source": [
    "df_spb_center.plot(x='cityCenters_km', y='last_price', grid=True, figsize=(9,6), style='o-')"
   ]
  },
  {
   "cell_type": "markdown",
   "metadata": {},
   "source": [
    "Наблюдается скачок цены объектов Санкт-Петербурга на значении меньше 9км до центра.\n",
    "Отфильтруем квартиры в центре по этому условию"
   ]
  },
  {
   "cell_type": "code",
   "execution_count": 306,
   "metadata": {},
   "outputs": [],
   "source": [
    "df_spb_center_9 = df_spb.query('cityCenters_km<9')"
   ]
  },
  {
   "cell_type": "code",
   "execution_count": 307,
   "metadata": {},
   "outputs": [
    {
     "data": {
      "text/plain": [
       "Index(['total_images', 'last_price', 'total_area', 'first_day_exposition',\n",
       "       'rooms', 'ceiling_height', 'floors_total', 'living_area', 'floor',\n",
       "       'is_apartment', 'studio', 'open_plan', 'kitchen_area', 'balcony',\n",
       "       'locality_name', 'airports_nearest', 'cityCenters_nearest',\n",
       "       'parks_around3000', 'parks_nearest', 'ponds_around3000',\n",
       "       'ponds_nearest', 'days_exposition', 'sqr_price', 'floor_cat',\n",
       "       'living_to_total', 'kitchen_to_total', 'weekday', 'month', 'year',\n",
       "       'cityCenters_km'],\n",
       "      dtype='object')"
      ]
     },
     "execution_count": 307,
     "metadata": {},
     "output_type": "execute_result"
    }
   ],
   "source": [
    "df_spb_center_9.columns"
   ]
  },
  {
   "cell_type": "code",
   "execution_count": 308,
   "metadata": {
    "scrolled": true
   },
   "outputs": [
    {
     "name": "stdout",
     "output_type": "stream",
     "text": [
      "2    956\n",
      "3    901\n",
      "1    539\n",
      "4    337\n",
      "5    136\n",
      "Name: rooms, dtype: int64\n"
     ]
    },
    {
     "data": {
      "text/plain": [
       "<matplotlib.axes._subplots.AxesSubplot at 0x7fb717d809d0>"
      ]
     },
     "metadata": {},
     "output_type": "display_data"
    },
    {
     "data": {
      "image/png": "[encoded data removed]",
      "text/plain": [
       "<Figure size 432x288 with 1 Axes>"
      ]
     },
     "metadata": {
      "needs_background": "light"
     },
     "output_type": "display_data"
    }
   ],
   "source": [
    "print(df_spb_center_9['rooms'].value_counts().sort_values(ascending=False).head())\n",
    "display(df_spb_center_9['rooms'].hist(range=(0,10),edgecolor='k', bins=100))"
   ]
  },
  {
   "cell_type": "markdown",
   "metadata": {},
   "source": [
    "В центре Санкт-Петербурга достаточно часто встречаются 3-х и 2-х комнатные квартиры"
   ]
  },
  {
   "cell_type": "code",
   "execution_count": 309,
   "metadata": {
    "scrolled": true
   },
   "outputs": [
    {
     "data": {
      "text/plain": [
       "<matplotlib.axes._subplots.AxesSubplot at 0x7fb71cffce50>"
      ]
     },
     "execution_count": 309,
     "metadata": {},
     "output_type": "execute_result"
    },
    {
     "data": {
      "image/png": "[encoded data removed]",
      "text/plain": [
       "<Figure size 432x288 with 1 Axes>"
      ]
     },
     "metadata": {
      "needs_background": "light"
     },
     "output_type": "display_data"
    }
   ],
   "source": [
    "df_spb_center_9['ceiling_height'].hist(range=(2,5),edgecolor='k', bins=100)"
   ]
  },
  {
   "cell_type": "markdown",
   "metadata": {},
   "source": [
    "В центре Санкт-Петербурга преобладают 3х-метровые потолки, в общей выборке преоблаждали потолки 2.5м"
   ]
  },
  {
   "cell_type": "code",
   "execution_count": 323,
   "metadata": {},
   "outputs": [
    {
     "name": "stdout",
     "output_type": "stream",
     "text": [
      "Цены в центре СПб\n",
      "Средняя: 13198908.76803776\n",
      "Медианная: 8300000.0\n",
      "\n",
      "Цены по СЗ\n",
      "Средняя: 6086057.374285562\n",
      "Медианная: 4500000.0\n"
     ]
    },
    {
     "data": {
      "image/png": "[encoded data removed]",
      "text/plain": [
       "<Figure size 648x432 with 1 Axes>"
      ]
     },
     "metadata": {
      "needs_background": "light"
     },
     "output_type": "display_data"
    }
   ],
   "source": [
    "df_spb_center_9.plot(y='last_price',kind='hist', bins=100, range=(0,30000000), grid=True,figsize=(9,6),edgecolor='k')\n",
    "plt.xticks(rotation='vertical')\n",
    "plt.ticklabel_format(style='plain')\n",
    "plt.axvline(df_spb_center_9['last_price'].mean(), color='k', linestyle='dashed', linewidth=1)\n",
    "plt.axvline(df_spb_center_9['last_price'].median(), color='r', linestyle='dashed', linewidth=1)\n",
    "print('Цены в центре СПб')\n",
    "print(f'Средняя: {df_spb_center_9[\"last_price\"].mean()}')\n",
    "print(f'Медианная: {df_spb_center_9[\"last_price\"].median()}')\n",
    "print('\\nЦены по СЗ')\n",
    "print(f'Средняя: {df[\"last_price\"].mean()}')\n",
    "print(f'Медианная: {df[\"last_price\"].median()}')"
   ]
  },
  {
   "cell_type": "markdown",
   "metadata": {},
   "source": [
    "Медианная и средняя стоимости квартир в центре спб значительно выше чем в общем датафрейме"
   ]
  },
  {
   "cell_type": "code",
   "execution_count": 311,
   "metadata": {},
   "outputs": [
    {
     "data": {
      "text/plain": [
       "<matplotlib.axes._subplots.AxesSubplot at 0x7fb71d0386d0>"
      ]
     },
     "execution_count": 311,
     "metadata": {},
     "output_type": "execute_result"
    },
    {
     "data": {
      "image/png": "[encoded data removed]",
      "text/plain": [
       "<Figure size 648x432 with 1 Axes>"
      ]
     },
     "metadata": {
      "needs_background": "light"
     },
     "output_type": "display_data"
    }
   ],
   "source": [
    "df_spb_center_9['total_area'].hist(bins=100, range=(10, 200),figsize=(9,6),edgecolor='k')"
   ]
  },
  {
   "cell_type": "markdown",
   "metadata": {},
   "source": [
    "На гистограмме общей площади квартир два пика: на 40 и на 70, и в диапазоне этих значений довольно высокая частота"
   ]
  },
  {
   "cell_type": "code",
   "execution_count": 312,
   "metadata": {},
   "outputs": [
    {
     "name": "stdout",
     "output_type": "stream",
     "text": [
      "0.6338804759593758\n"
     ]
    },
    {
     "data": {
      "image/png": "[encoded data removed]",
      "text/plain": [
       "<Figure size 648x432 with 1 Axes>"
      ]
     },
     "metadata": {
      "needs_background": "light"
     },
     "output_type": "display_data"
    }
   ],
   "source": [
    "print(df_spb_center_9['last_price'].corr(df_spb_center_9['total_area']))\n",
    "df_spb_center_9.plot(x='last_price',y='total_area',kind='scatter',grid=True,figsize=(9,6),alpha=0.05, xlim=(0,30000000),ylim=(0,300))\n",
    "plt.xticks(rotation='vertical')\n",
    "plt.ticklabel_format(style='plain')"
   ]
  },
  {
   "cell_type": "markdown",
   "metadata": {},
   "source": [
    "Кореляция между значениями стоимости и площадью квартир практически такая же как и во всей выборке"
   ]
  },
  {
   "cell_type": "code",
   "execution_count": 313,
   "metadata": {},
   "outputs": [
    {
     "name": "stdout",
     "output_type": "stream",
     "text": [
      "0.34638595236011865\n"
     ]
    },
    {
     "data": {
      "image/png": "[encoded data removed]",
      "text/plain": [
       "<Figure size 648x432 with 1 Axes>"
      ]
     },
     "metadata": {
      "needs_background": "light"
     },
     "output_type": "display_data"
    }
   ],
   "source": [
    "print(df_spb_center_9['last_price'].corr(df_spb_center_9['rooms']))\n",
    "df_spb_center_9.plot(x='last_price',y='rooms',kind='scatter',grid=True,figsize=(9,6))\n",
    "plt.xticks(rotation='vertical')\n",
    "plt.ticklabel_format(style='plain')"
   ]
  },
  {
   "cell_type": "code",
   "execution_count": 314,
   "metadata": {},
   "outputs": [
    {
     "data": {
      "text/plain": [
       "<matplotlib.axes._subplots.AxesSubplot at 0x7fb71cf86f10>"
      ]
     },
     "execution_count": 314,
     "metadata": {},
     "output_type": "execute_result"
    },
    {
     "data": {
      "image/png": "[encoded data removed]",
      "text/plain": [
       "<Figure size 432x288 with 1 Axes>"
      ]
     },
     "metadata": {
      "needs_background": "light"
     },
     "output_type": "display_data"
    }
   ],
   "source": [
    "df_rooms_spb = df_spb_center_9.pivot_table(index='rooms', values='last_price', aggfunc=['mean','median','count']).reset_index()\n",
    "df_rooms_spb.columns = ['rooms','mean','median','count']\n",
    "df_rooms_spb.plot(style='o-')"
   ]
  },
  {
   "cell_type": "markdown",
   "metadata": {},
   "source": [
    "Кореляция стоимости и комнатности практически такая же как в общей выборке"
   ]
  },
  {
   "cell_type": "code",
   "execution_count": 315,
   "metadata": {},
   "outputs": [
    {
     "name": "stdout",
     "output_type": "stream",
     "text": [
      "-0.07941818563308937\n"
     ]
    },
    {
     "data": {
      "image/png": "[encoded data removed]",
      "text/plain": [
       "<Figure size 648x432 with 1 Axes>"
      ]
     },
     "metadata": {
      "needs_background": "light"
     },
     "output_type": "display_data"
    }
   ],
   "source": [
    "print(df_spb_center_9['last_price'].corr(df_spb_center_9['cityCenters_nearest']))\n",
    "df_spb_center_9.plot(x='last_price',y='cityCenters_nearest',kind='scatter',grid=True,figsize=(9,6))\n",
    "plt.xticks(rotation='vertical')\n",
    "plt.ticklabel_format(style='plain')"
   ]
  },
  {
   "cell_type": "markdown",
   "metadata": {},
   "source": [
    "Кореляция стоимости и близости к центру слабая. Стоимость квадратного метра в центре практически не меняется"
   ]
  },
  {
   "cell_type": "code",
   "execution_count": 316,
   "metadata": {},
   "outputs": [
    {
     "data": {
      "text/plain": [
       "<matplotlib.axes._subplots.AxesSubplot at 0x7fb71c044b90>"
      ]
     },
     "execution_count": 316,
     "metadata": {},
     "output_type": "execute_result"
    },
    {
     "data": {
      "image/png": "[encoded data removed]",
      "text/plain": [
       "<Figure size 432x288 with 1 Axes>"
      ]
     },
     "metadata": {
      "needs_background": "light"
     },
     "output_type": "display_data"
    }
   ],
   "source": [
    "df_floor_spb = df_spb_center_9.groupby('floor_cat')['last_price'].median()\n",
    "df_floor_spb.plot.bar()"
   ]
  },
  {
   "cell_type": "markdown",
   "metadata": {},
   "source": [
    "Стоимость квартир на последнем этаже в центре Спб сопоставима с другими этажами"
   ]
  },
  {
   "cell_type": "code",
   "execution_count": 317,
   "metadata": {},
   "outputs": [],
   "source": [
    "df_weekday_spb = df_spb_center_9.groupby('weekday')['last_price'].median()\n",
    "df_month_spb = df_spb_center_9.groupby('month')['last_price'].median()\n",
    "df_year_spb = df_spb_center_9.groupby('year')['last_price'].median()"
   ]
  },
  {
   "cell_type": "code",
   "execution_count": 318,
   "metadata": {},
   "outputs": [
    {
     "data": {
      "text/plain": [
       "<matplotlib.axes._subplots.AxesSubplot at 0x7fb717ee4a50>"
      ]
     },
     "execution_count": 318,
     "metadata": {},
     "output_type": "execute_result"
    },
    {
     "data": {
      "image/png": "[encoded data removed]",
      "text/plain": [
       "<Figure size 648x432 with 1 Axes>"
      ]
     },
     "metadata": {
      "needs_background": "light"
     },
     "output_type": "display_data"
    }
   ],
   "source": [
    "df_weekday_spb.plot.bar(grid=True,figsize=(9,6))"
   ]
  },
  {
   "cell_type": "markdown",
   "metadata": {},
   "source": [
    "Выделяется стоимость объектов, размещеных в понедельник и воскресение"
   ]
  },
  {
   "cell_type": "code",
   "execution_count": 319,
   "metadata": {},
   "outputs": [
    {
     "data": {
      "text/plain": [
       "<matplotlib.axes._subplots.AxesSubplot at 0x7fb717bdda50>"
      ]
     },
     "execution_count": 319,
     "metadata": {},
     "output_type": "execute_result"
    },
    {
     "data": {
      "image/png": "[encoded data removed]",
      "text/plain": [
       "<Figure size 648x432 with 1 Axes>"
      ]
     },
     "metadata": {
      "needs_background": "light"
     },
     "output_type": "display_data"
    }
   ],
   "source": [
    "df_month_spb.plot.bar(grid=True,figsize=(9,6))"
   ]
  },
  {
   "cell_type": "markdown",
   "metadata": {},
   "source": [
    "На столбчатой диаграмме заметно, что стоимость декабрьских объявлений - минимальная"
   ]
  },
  {
   "cell_type": "code",
   "execution_count": 320,
   "metadata": {},
   "outputs": [
    {
     "data": {
      "text/plain": [
       "<matplotlib.axes._subplots.AxesSubplot at 0x7fb71c3825d0>"
      ]
     },
     "execution_count": 320,
     "metadata": {},
     "output_type": "execute_result"
    },
    {
     "data": {
      "image/png": "[encoded data removed]",
      "text/plain": [
       "<Figure size 648x432 with 1 Axes>"
      ]
     },
     "metadata": {
      "needs_background": "light"
     },
     "output_type": "display_data"
    }
   ],
   "source": [
    "df_year_spb.plot.bar(grid=True,figsize=(9,6))"
   ]
  },
  {
   "cell_type": "markdown",
   "metadata": {},
   "source": [
    "Стоимость квартир в центре Спб снижается с 2016 года"
   ]
  },
  {
   "cell_type": "markdown",
   "metadata": {},
   "source": [
    "## Общий вывод"
   ]
  },
  {
   "cell_type": "markdown",
   "metadata": {},
   "source": [
    "По результатам анализа стоимости объектов жилой недвижимости в Санкт-Петербурге и соседних населённых пунктах отдельно были выполнены:\n",
    "- предобработка данных (найдены и устранены пропуски, где необходимо изменены типы данных, выделены необходимые категории)\n",
    "- добавлены дополнительные расчетные столбцы\n",
    "- исследовательский анализ всего датафрейма\n",
    "- исследовательский анализ объектов размещенных в центре Санкт-Петербурга\n",
    "\n",
    "На основе анализа распределения длительности продажи квартир были выделены и удалены выбросы.\n",
    "\n",
    "В результате проведенной работы были определены следующие факторы влияющий на изменение стоимости квартир в порядке уменьшения:\n",
    "- площадь\n",
    "- количество комнат\n",
    "- близость к центру\n",
    "- этаж\n",
    "- время размещения объявления\n",
    "\n",
    "Объекты размещенные в центре Санкт-Петербурга в среднем имеют большую площадь, более высокие потолки и большую комнатность, значительно большую стоимость квадратного метра.\n",
    "Закономерности выявленные при анализе факторов влияющих на стоимость квартир всего датафрейма в целом прослеживаются в объектах центра Санкт-Петербурга."
   ]
  }
 ],
 "metadata": {
  "ExecuteTimeLog": [
   {
    "duration": 1269,
    "start_time": "2021-10-30T18:01:54.460Z"
   },
   {
    "duration": 733,
    "start_time": "2021-10-30T18:02:27.496Z"
   },
   {
    "duration": 77,
    "start_time": "2021-10-30T18:02:30.329Z"
   },
   {
    "duration": 14,
    "start_time": "2021-10-30T18:02:38.483Z"
   },
   {
    "duration": 137,
    "start_time": "2021-10-30T18:02:54.360Z"
   },
   {
    "duration": 75,
    "start_time": "2021-10-30T18:03:15.876Z"
   },
   {
    "duration": 11,
    "start_time": "2021-10-30T18:03:18.282Z"
   },
   {
    "duration": 115,
    "start_time": "2021-10-30T18:03:28.381Z"
   },
   {
    "duration": 72,
    "start_time": "2021-10-30T18:03:33.764Z"
   },
   {
    "duration": 80,
    "start_time": "2021-10-30T18:04:00.548Z"
   },
   {
    "duration": 9,
    "start_time": "2021-10-30T18:04:01.109Z"
   },
   {
    "duration": 73,
    "start_time": "2021-10-30T18:04:19.529Z"
   },
   {
    "duration": 10,
    "start_time": "2021-10-30T18:04:20.719Z"
   },
   {
    "duration": 644,
    "start_time": "2021-10-30T18:04:36.911Z"
   },
   {
    "duration": 44,
    "start_time": "2021-10-30T18:04:37.558Z"
   },
   {
    "duration": 735,
    "start_time": "2021-10-30T18:05:29.880Z"
   },
   {
    "duration": 626,
    "start_time": "2021-10-30T18:05:34.345Z"
   },
   {
    "duration": 700,
    "start_time": "2021-10-30T18:06:39.158Z"
   },
   {
    "duration": 35,
    "start_time": "2021-10-30T18:06:42.885Z"
   },
   {
    "duration": 34,
    "start_time": "2021-10-30T18:07:21.247Z"
   },
   {
    "duration": 16,
    "start_time": "2021-10-30T18:07:26.389Z"
   },
   {
    "duration": 14,
    "start_time": "2021-10-30T18:08:57.013Z"
   },
   {
    "duration": 428,
    "start_time": "2021-10-30T18:09:58.076Z"
   },
   {
    "duration": 5,
    "start_time": "2021-10-30T18:10:02.353Z"
   },
   {
    "duration": 12,
    "start_time": "2021-10-30T18:10:13.792Z"
   },
   {
    "duration": 404,
    "start_time": "2021-10-30T18:12:13.290Z"
   },
   {
    "duration": 426,
    "start_time": "2021-10-30T18:12:29.462Z"
   },
   {
    "duration": 392,
    "start_time": "2021-10-30T18:13:07.488Z"
   },
   {
    "duration": 98,
    "start_time": "2021-10-30T18:13:40.988Z"
   },
   {
    "duration": 102,
    "start_time": "2021-10-30T18:14:29.720Z"
   },
   {
    "duration": 608,
    "start_time": "2021-10-30T18:14:37.526Z"
   },
   {
    "duration": 38,
    "start_time": "2021-10-30T18:14:38.414Z"
   },
   {
    "duration": 17,
    "start_time": "2021-10-30T18:14:42.040Z"
   },
   {
    "duration": 5,
    "start_time": "2021-10-30T18:14:45.068Z"
   },
   {
    "duration": 12,
    "start_time": "2021-10-30T18:14:48.238Z"
   },
   {
    "duration": 99,
    "start_time": "2021-10-30T18:14:52.571Z"
   },
   {
    "duration": 61,
    "start_time": "2021-10-30T18:15:07.036Z"
   },
   {
    "duration": 443,
    "start_time": "2021-10-30T18:16:25.521Z"
   },
   {
    "duration": 59,
    "start_time": "2021-10-30T18:16:39.634Z"
   },
   {
    "duration": 50,
    "start_time": "2021-10-30T18:18:24.943Z"
   },
   {
    "duration": 39,
    "start_time": "2021-10-30T18:20:42.616Z"
   },
   {
    "duration": 448,
    "start_time": "2021-10-30T18:21:44.951Z"
   },
   {
    "duration": 353,
    "start_time": "2021-10-30T18:23:09.523Z"
   },
   {
    "duration": 664,
    "start_time": "2021-10-30T18:23:18.016Z"
   },
   {
    "duration": 8,
    "start_time": "2021-10-30T18:23:30.129Z"
   },
   {
    "duration": 588,
    "start_time": "2021-10-30T18:24:00.193Z"
   },
   {
    "duration": 11,
    "start_time": "2021-10-30T18:24:51.438Z"
   },
   {
    "duration": 10,
    "start_time": "2021-10-30T18:25:04.397Z"
   },
   {
    "duration": 12,
    "start_time": "2021-10-30T18:25:15.386Z"
   },
   {
    "duration": 10,
    "start_time": "2021-10-30T18:25:46.535Z"
   },
   {
    "duration": 10,
    "start_time": "2021-10-30T18:26:49.593Z"
   },
   {
    "duration": 10,
    "start_time": "2021-10-30T18:27:21.830Z"
   },
   {
    "duration": 8,
    "start_time": "2021-10-30T18:27:30.301Z"
   },
   {
    "duration": 8,
    "start_time": "2021-10-30T18:27:41.660Z"
   },
   {
    "duration": 7,
    "start_time": "2021-10-30T18:27:43.890Z"
   },
   {
    "duration": 14,
    "start_time": "2021-10-30T18:28:04.579Z"
   },
   {
    "duration": 14,
    "start_time": "2021-10-30T18:28:22.552Z"
   },
   {
    "duration": 9,
    "start_time": "2021-10-30T18:28:35.874Z"
   },
   {
    "duration": 7,
    "start_time": "2021-10-30T18:28:47.324Z"
   },
   {
    "duration": 7,
    "start_time": "2021-10-30T18:29:47.299Z"
   },
   {
    "duration": 14,
    "start_time": "2021-10-30T18:30:19.061Z"
   },
   {
    "duration": 10,
    "start_time": "2021-10-30T18:31:35.386Z"
   },
   {
    "duration": 8,
    "start_time": "2021-10-30T18:31:38.976Z"
   },
   {
    "duration": 73,
    "start_time": "2021-10-30T18:32:55.609Z"
   },
   {
    "duration": 70,
    "start_time": "2021-10-30T18:34:55.428Z"
   },
   {
    "duration": 10,
    "start_time": "2021-10-30T18:35:03.226Z"
   },
   {
    "duration": 15,
    "start_time": "2021-10-30T18:35:14.436Z"
   },
   {
    "duration": 16,
    "start_time": "2021-10-30T18:35:25.556Z"
   },
   {
    "duration": 796,
    "start_time": "2021-10-30T18:43:11.442Z"
   },
   {
    "duration": 827,
    "start_time": "2021-10-30T18:43:47.295Z"
   },
   {
    "duration": 7,
    "start_time": "2021-10-30T18:44:50.933Z"
   },
   {
    "duration": 12,
    "start_time": "2021-10-30T18:45:14.873Z"
   },
   {
    "duration": 9,
    "start_time": "2021-10-30T18:45:20.248Z"
   },
   {
    "duration": 17,
    "start_time": "2021-10-30T18:45:47.192Z"
   },
   {
    "duration": 17,
    "start_time": "2021-10-30T18:46:50.519Z"
   },
   {
    "duration": 6,
    "start_time": "2021-10-30T18:47:45.590Z"
   },
   {
    "duration": 16,
    "start_time": "2021-10-30T18:48:08.827Z"
   },
   {
    "duration": 5,
    "start_time": "2021-10-30T18:48:44.404Z"
   },
   {
    "duration": 16,
    "start_time": "2021-10-30T18:48:52.716Z"
   },
   {
    "duration": 12,
    "start_time": "2021-10-30T18:53:10.441Z"
   },
   {
    "duration": 14,
    "start_time": "2021-10-30T18:53:18.792Z"
   },
   {
    "duration": 39,
    "start_time": "2021-10-30T18:53:34.846Z"
   },
   {
    "duration": 117,
    "start_time": "2021-10-30T18:54:24.396Z"
   },
   {
    "duration": 7,
    "start_time": "2021-10-30T18:54:27.138Z"
   },
   {
    "duration": 7,
    "start_time": "2021-10-30T18:55:47.979Z"
   },
   {
    "duration": 7,
    "start_time": "2021-10-30T18:55:52.510Z"
   },
   {
    "duration": 4,
    "start_time": "2021-10-30T18:58:32.383Z"
   },
   {
    "duration": 628,
    "start_time": "2021-10-30T18:58:32.393Z"
   },
   {
    "duration": 35,
    "start_time": "2021-10-30T18:58:33.023Z"
   },
   {
    "duration": 39,
    "start_time": "2021-10-30T18:58:33.061Z"
   },
   {
    "duration": 5,
    "start_time": "2021-10-30T18:58:33.104Z"
   },
   {
    "duration": 15,
    "start_time": "2021-10-30T18:58:33.112Z"
   },
   {
    "duration": 70,
    "start_time": "2021-10-30T18:58:33.130Z"
   },
   {
    "duration": 6,
    "start_time": "2021-10-30T18:58:33.204Z"
   },
   {
    "duration": 11,
    "start_time": "2021-10-30T18:58:33.212Z"
   },
   {
    "duration": 11,
    "start_time": "2021-10-30T18:58:33.226Z"
   },
   {
    "duration": 10,
    "start_time": "2021-10-30T18:58:33.239Z"
   },
   {
    "duration": 50,
    "start_time": "2021-10-30T18:58:33.252Z"
   },
   {
    "duration": 12,
    "start_time": "2021-10-30T18:58:33.304Z"
   },
   {
    "duration": 29,
    "start_time": "2021-10-30T18:58:33.318Z"
   },
   {
    "duration": 7,
    "start_time": "2021-10-30T18:58:33.350Z"
   },
   {
    "duration": 19,
    "start_time": "2021-10-30T18:58:33.359Z"
   },
   {
    "duration": 6,
    "start_time": "2021-10-30T18:58:33.400Z"
   },
   {
    "duration": 16,
    "start_time": "2021-10-30T18:58:33.408Z"
   },
   {
    "duration": 21,
    "start_time": "2021-10-30T18:58:33.427Z"
   },
   {
    "duration": 400,
    "start_time": "2021-10-30T18:58:33.451Z"
   },
   {
    "duration": 39,
    "start_time": "2021-10-30T18:58:53.158Z"
   },
   {
    "duration": 40,
    "start_time": "2021-10-30T18:58:58.321Z"
   },
   {
    "duration": 14,
    "start_time": "2021-10-30T18:59:03.075Z"
   },
   {
    "duration": 40,
    "start_time": "2021-10-30T18:59:06.681Z"
   },
   {
    "duration": 8,
    "start_time": "2021-10-30T18:59:47.008Z"
   },
   {
    "duration": 42,
    "start_time": "2021-10-30T18:59:52.789Z"
   },
   {
    "duration": 57,
    "start_time": "2021-10-30T19:02:27.457Z"
   },
   {
    "duration": 12,
    "start_time": "2021-10-30T19:03:16.816Z"
   },
   {
    "duration": 12,
    "start_time": "2021-10-30T19:04:59.121Z"
   },
   {
    "duration": 11,
    "start_time": "2021-10-30T19:05:41.671Z"
   },
   {
    "duration": 10,
    "start_time": "2021-10-30T19:08:08.396Z"
   },
   {
    "duration": 11,
    "start_time": "2021-10-30T19:08:30.680Z"
   },
   {
    "duration": 10,
    "start_time": "2021-10-30T19:08:35.421Z"
   },
   {
    "duration": 12,
    "start_time": "2021-10-30T19:11:25.304Z"
   },
   {
    "duration": 4,
    "start_time": "2021-10-30T19:12:06.529Z"
   },
   {
    "duration": 5,
    "start_time": "2021-10-30T19:12:07.725Z"
   },
   {
    "duration": 7,
    "start_time": "2021-10-30T19:12:23.274Z"
   },
   {
    "duration": 8,
    "start_time": "2021-10-30T19:13:35.958Z"
   },
   {
    "duration": 6,
    "start_time": "2021-10-30T19:13:51.575Z"
   },
   {
    "duration": 7,
    "start_time": "2021-10-30T19:14:04.864Z"
   },
   {
    "duration": 12,
    "start_time": "2021-10-30T19:14:15.360Z"
   },
   {
    "duration": 7,
    "start_time": "2021-10-30T19:14:38.106Z"
   },
   {
    "duration": 39,
    "start_time": "2021-10-30T19:14:51.451Z"
   },
   {
    "duration": 15,
    "start_time": "2021-10-30T19:15:46.421Z"
   },
   {
    "duration": 12,
    "start_time": "2021-10-30T19:16:54.013Z"
   },
   {
    "duration": 13,
    "start_time": "2021-10-30T19:18:09.382Z"
   },
   {
    "duration": 5,
    "start_time": "2021-10-30T19:21:22.911Z"
   },
   {
    "duration": 5,
    "start_time": "2021-10-30T19:21:35.840Z"
   },
   {
    "duration": 6,
    "start_time": "2021-10-30T19:21:49.657Z"
   },
   {
    "duration": 5,
    "start_time": "2021-10-30T19:21:52.110Z"
   },
   {
    "duration": 452,
    "start_time": "2021-10-30T19:21:54.574Z"
   },
   {
    "duration": 5,
    "start_time": "2021-10-30T19:21:59.367Z"
   },
   {
    "duration": 389,
    "start_time": "2021-10-30T19:22:01.705Z"
   },
   {
    "duration": 129,
    "start_time": "2021-10-30T19:22:04.900Z"
   },
   {
    "duration": 5,
    "start_time": "2021-10-30T19:22:15.250Z"
   },
   {
    "duration": 4,
    "start_time": "2021-10-30T19:22:23.106Z"
   },
   {
    "duration": 668,
    "start_time": "2021-10-30T19:22:23.125Z"
   },
   {
    "duration": 39,
    "start_time": "2021-10-30T19:22:23.796Z"
   },
   {
    "duration": 18,
    "start_time": "2021-10-30T19:22:23.840Z"
   },
   {
    "duration": 42,
    "start_time": "2021-10-30T19:22:23.862Z"
   },
   {
    "duration": 19,
    "start_time": "2021-10-30T19:22:23.907Z"
   },
   {
    "duration": 40,
    "start_time": "2021-10-30T19:22:23.928Z"
   },
   {
    "duration": 32,
    "start_time": "2021-10-30T19:22:23.971Z"
   },
   {
    "duration": 18,
    "start_time": "2021-10-30T19:22:24.007Z"
   },
   {
    "duration": 13,
    "start_time": "2021-10-30T19:22:24.031Z"
   },
   {
    "duration": 9,
    "start_time": "2021-10-30T19:22:24.048Z"
   },
   {
    "duration": 46,
    "start_time": "2021-10-30T19:22:24.060Z"
   },
   {
    "duration": 10,
    "start_time": "2021-10-30T19:22:24.109Z"
   },
   {
    "duration": 17,
    "start_time": "2021-10-30T19:22:24.122Z"
   },
   {
    "duration": 7,
    "start_time": "2021-10-30T19:22:24.142Z"
   },
   {
    "duration": 62,
    "start_time": "2021-10-30T19:22:24.152Z"
   },
   {
    "duration": 22,
    "start_time": "2021-10-30T19:22:24.217Z"
   },
   {
    "duration": 8,
    "start_time": "2021-10-30T19:22:24.241Z"
   },
   {
    "duration": 33,
    "start_time": "2021-10-30T19:22:24.251Z"
   },
   {
    "duration": 13,
    "start_time": "2021-10-30T19:22:24.287Z"
   },
   {
    "duration": 16,
    "start_time": "2021-10-30T19:22:24.303Z"
   },
   {
    "duration": 16,
    "start_time": "2021-10-30T19:22:24.321Z"
   },
   {
    "duration": 14,
    "start_time": "2021-10-30T19:22:24.340Z"
   },
   {
    "duration": 23,
    "start_time": "2021-10-30T19:22:24.356Z"
   },
   {
    "duration": 13,
    "start_time": "2021-10-30T19:22:24.382Z"
   },
   {
    "duration": 14,
    "start_time": "2021-10-30T19:22:24.397Z"
   },
   {
    "duration": 13,
    "start_time": "2021-10-30T19:22:24.414Z"
   },
   {
    "duration": 8,
    "start_time": "2021-10-30T19:22:24.431Z"
   },
   {
    "duration": 11,
    "start_time": "2021-10-30T19:22:24.441Z"
   },
   {
    "duration": 17,
    "start_time": "2021-10-30T19:22:24.455Z"
   },
   {
    "duration": 14,
    "start_time": "2021-10-30T19:22:30.408Z"
   },
   {
    "duration": 17,
    "start_time": "2021-10-30T19:22:44.272Z"
   },
   {
    "duration": 12,
    "start_time": "2021-10-30T19:23:55.703Z"
   },
   {
    "duration": 10,
    "start_time": "2021-10-30T19:24:23.549Z"
   },
   {
    "duration": 414,
    "start_time": "2021-10-30T19:24:42.765Z"
   },
   {
    "duration": 5,
    "start_time": "2021-10-30T19:25:15.045Z"
   },
   {
    "duration": 39,
    "start_time": "2021-10-30T19:25:21.119Z"
   },
   {
    "duration": 10,
    "start_time": "2021-10-30T19:29:05.760Z"
   },
   {
    "duration": 9,
    "start_time": "2021-10-30T19:29:53.969Z"
   },
   {
    "duration": 8,
    "start_time": "2021-10-30T19:30:04.999Z"
   },
   {
    "duration": 9,
    "start_time": "2021-10-30T19:30:11.654Z"
   },
   {
    "duration": 9,
    "start_time": "2021-10-30T19:30:20.115Z"
   },
   {
    "duration": 4,
    "start_time": "2021-10-30T19:31:15.648Z"
   },
   {
    "duration": 41,
    "start_time": "2021-10-30T19:31:27.761Z"
   },
   {
    "duration": 5,
    "start_time": "2021-10-30T19:32:23.682Z"
   },
   {
    "duration": 41,
    "start_time": "2021-10-30T19:32:28.251Z"
   },
   {
    "duration": 48,
    "start_time": "2021-10-30T19:32:42.075Z"
   },
   {
    "duration": 11,
    "start_time": "2021-10-30T19:33:31.506Z"
   },
   {
    "duration": 10,
    "start_time": "2021-10-30T19:39:56.293Z"
   },
   {
    "duration": 5,
    "start_time": "2021-10-30T19:42:40.635Z"
   },
   {
    "duration": 38,
    "start_time": "2021-10-30T19:42:50.465Z"
   },
   {
    "duration": 39,
    "start_time": "2021-10-30T19:42:58.922Z"
   },
   {
    "duration": 5,
    "start_time": "2021-10-30T19:43:09.279Z"
   },
   {
    "duration": 12,
    "start_time": "2021-10-30T19:43:35.534Z"
   },
   {
    "duration": 11,
    "start_time": "2021-10-30T19:43:59.175Z"
   },
   {
    "duration": 10,
    "start_time": "2021-10-30T19:44:06.474Z"
   },
   {
    "duration": 11,
    "start_time": "2021-10-30T19:44:21.172Z"
   },
   {
    "duration": 11,
    "start_time": "2021-10-30T19:48:00.259Z"
   },
   {
    "duration": 22,
    "start_time": "2021-10-30T19:48:52.952Z"
   },
   {
    "duration": 17,
    "start_time": "2021-10-30T19:49:17.248Z"
   },
   {
    "duration": 28,
    "start_time": "2021-10-30T19:49:44.176Z"
   },
   {
    "duration": 30,
    "start_time": "2021-10-30T19:49:49.879Z"
   },
   {
    "duration": 12,
    "start_time": "2021-10-30T19:50:23.959Z"
   },
   {
    "duration": 4,
    "start_time": "2021-10-30T19:50:58.462Z"
   },
   {
    "duration": 363,
    "start_time": "2021-10-30T19:52:04.491Z"
   },
   {
    "duration": 125,
    "start_time": "2021-10-30T19:52:25.620Z"
   },
   {
    "duration": 377,
    "start_time": "2021-10-30T19:52:36.830Z"
   },
   {
    "duration": 3799,
    "start_time": "2021-10-30T19:55:19.656Z"
   },
   {
    "duration": 4425,
    "start_time": "2021-10-30T19:56:28.320Z"
   },
   {
    "duration": 10,
    "start_time": "2021-10-30T19:56:46.536Z"
   },
   {
    "duration": 83,
    "start_time": "2021-10-30T19:56:59.369Z"
   },
   {
    "duration": 30,
    "start_time": "2021-10-30T20:00:37.051Z"
   },
   {
    "duration": 32,
    "start_time": "2021-10-30T20:03:06.453Z"
   },
   {
    "duration": 29,
    "start_time": "2021-10-30T20:03:15.599Z"
   },
   {
    "duration": 29,
    "start_time": "2021-10-30T20:03:54.627Z"
   },
   {
    "duration": 4,
    "start_time": "2021-10-30T20:07:34.669Z"
   },
   {
    "duration": 631,
    "start_time": "2021-10-30T20:07:34.676Z"
   },
   {
    "duration": 36,
    "start_time": "2021-10-30T20:07:35.310Z"
   },
   {
    "duration": 20,
    "start_time": "2021-10-30T20:07:35.348Z"
   },
   {
    "duration": 29,
    "start_time": "2021-10-30T20:07:35.370Z"
   },
   {
    "duration": 12,
    "start_time": "2021-10-30T20:07:35.402Z"
   },
   {
    "duration": 51,
    "start_time": "2021-10-30T20:07:35.417Z"
   },
   {
    "duration": 6,
    "start_time": "2021-10-30T20:07:35.500Z"
   },
   {
    "duration": 16,
    "start_time": "2021-10-30T20:07:35.509Z"
   },
   {
    "duration": 10,
    "start_time": "2021-10-30T20:07:35.527Z"
   },
   {
    "duration": 12,
    "start_time": "2021-10-30T20:07:35.539Z"
   },
   {
    "duration": 6,
    "start_time": "2021-10-30T20:07:35.553Z"
   },
   {
    "duration": 8,
    "start_time": "2021-10-30T20:07:35.600Z"
   },
   {
    "duration": 15,
    "start_time": "2021-10-30T20:07:35.611Z"
   },
   {
    "duration": 6,
    "start_time": "2021-10-30T20:07:35.629Z"
   },
   {
    "duration": 15,
    "start_time": "2021-10-30T20:07:35.637Z"
   },
   {
    "duration": 52,
    "start_time": "2021-10-30T20:07:35.655Z"
   },
   {
    "duration": 7,
    "start_time": "2021-10-30T20:07:35.710Z"
   },
   {
    "duration": 10,
    "start_time": "2021-10-30T20:07:35.719Z"
   },
   {
    "duration": 8,
    "start_time": "2021-10-30T20:07:35.731Z"
   },
   {
    "duration": 12,
    "start_time": "2021-10-30T20:07:35.741Z"
   },
   {
    "duration": 14,
    "start_time": "2021-10-30T20:07:35.756Z"
   },
   {
    "duration": 6,
    "start_time": "2021-10-30T20:07:35.805Z"
   },
   {
    "duration": 15,
    "start_time": "2021-10-30T20:07:35.814Z"
   },
   {
    "duration": 9,
    "start_time": "2021-10-30T20:07:35.832Z"
   },
   {
    "duration": 8,
    "start_time": "2021-10-30T20:07:35.843Z"
   },
   {
    "duration": 15,
    "start_time": "2021-10-30T20:07:35.853Z"
   },
   {
    "duration": 30,
    "start_time": "2021-10-30T20:07:35.871Z"
   },
   {
    "duration": 15,
    "start_time": "2021-10-30T20:07:35.903Z"
   },
   {
    "duration": 25,
    "start_time": "2021-10-30T20:07:35.920Z"
   },
   {
    "duration": 15,
    "start_time": "2021-10-30T20:07:35.948Z"
   },
   {
    "duration": 24,
    "start_time": "2021-10-30T20:07:35.965Z"
   },
   {
    "duration": 43,
    "start_time": "2021-10-30T20:07:35.991Z"
   },
   {
    "duration": 18,
    "start_time": "2021-10-30T20:08:04.062Z"
   },
   {
    "duration": 18,
    "start_time": "2021-10-30T20:08:09.267Z"
   },
   {
    "duration": 22,
    "start_time": "2021-10-30T20:08:32.103Z"
   },
   {
    "duration": 9,
    "start_time": "2021-10-30T20:10:46.265Z"
   },
   {
    "duration": 25,
    "start_time": "2021-10-30T20:10:51.445Z"
   },
   {
    "duration": 21,
    "start_time": "2021-10-30T20:11:14.512Z"
   },
   {
    "duration": 133,
    "start_time": "2021-10-30T20:21:18.678Z"
   },
   {
    "duration": 6,
    "start_time": "2021-10-30T20:22:09.154Z"
   },
   {
    "duration": 19,
    "start_time": "2021-10-30T20:23:53.884Z"
   },
   {
    "duration": 20,
    "start_time": "2021-10-30T20:24:14.577Z"
   },
   {
    "duration": 171,
    "start_time": "2021-10-30T20:26:41.011Z"
   },
   {
    "duration": 7,
    "start_time": "2021-10-30T20:26:54.088Z"
   },
   {
    "duration": 138,
    "start_time": "2021-10-30T20:26:56.757Z"
   },
   {
    "duration": 5,
    "start_time": "2021-10-30T20:28:10.657Z"
   },
   {
    "duration": 6,
    "start_time": "2021-10-30T20:30:20.296Z"
   },
   {
    "duration": 5,
    "start_time": "2021-10-30T20:30:22.856Z"
   },
   {
    "duration": 7,
    "start_time": "2021-10-30T20:30:49.426Z"
   },
   {
    "duration": 5,
    "start_time": "2021-10-30T20:30:51.583Z"
   },
   {
    "duration": 6,
    "start_time": "2021-10-30T20:32:28.102Z"
   },
   {
    "duration": 5,
    "start_time": "2021-10-30T20:32:31.697Z"
   },
   {
    "duration": 119,
    "start_time": "2021-10-30T20:34:39.385Z"
   },
   {
    "duration": 6,
    "start_time": "2021-10-30T20:34:44.318Z"
   },
   {
    "duration": 5,
    "start_time": "2021-10-30T20:34:47.075Z"
   },
   {
    "duration": 27,
    "start_time": "2021-10-30T20:34:51.750Z"
   },
   {
    "duration": 26,
    "start_time": "2021-10-30T20:35:06.821Z"
   },
   {
    "duration": 30,
    "start_time": "2021-10-30T20:35:13.426Z"
   },
   {
    "duration": 22,
    "start_time": "2021-10-30T20:38:57.601Z"
   },
   {
    "duration": 5,
    "start_time": "2021-10-30T20:39:53.555Z"
   },
   {
    "duration": 28,
    "start_time": "2021-10-30T20:39:57.279Z"
   },
   {
    "duration": 20,
    "start_time": "2021-10-30T20:40:17.170Z"
   },
   {
    "duration": 5,
    "start_time": "2021-10-30T20:40:22.633Z"
   },
   {
    "duration": 28,
    "start_time": "2021-10-30T20:40:25.793Z"
   },
   {
    "duration": 5,
    "start_time": "2021-10-30T20:41:24.537Z"
   },
   {
    "duration": 5,
    "start_time": "2021-10-30T20:41:42.197Z"
   },
   {
    "duration": 7,
    "start_time": "2021-10-30T20:41:44.087Z"
   },
   {
    "duration": 5,
    "start_time": "2021-10-30T20:42:03.980Z"
   },
   {
    "duration": 7,
    "start_time": "2021-10-30T20:42:04.763Z"
   },
   {
    "duration": 5,
    "start_time": "2021-10-30T20:42:33.449Z"
   },
   {
    "duration": 6,
    "start_time": "2021-10-30T20:42:34.847Z"
   },
   {
    "duration": 5,
    "start_time": "2021-10-30T20:42:57.668Z"
   },
   {
    "duration": 5,
    "start_time": "2021-10-30T20:42:58.750Z"
   },
   {
    "duration": 30,
    "start_time": "2021-10-30T20:43:01.586Z"
   },
   {
    "duration": 14,
    "start_time": "2021-10-30T20:46:00.360Z"
   },
   {
    "duration": 4,
    "start_time": "2021-10-30T20:49:16.019Z"
   },
   {
    "duration": 4,
    "start_time": "2021-10-30T20:49:21.834Z"
   },
   {
    "duration": 4,
    "start_time": "2021-10-30T20:49:57.344Z"
   },
   {
    "duration": 711,
    "start_time": "2021-10-30T20:49:58.169Z"
   },
   {
    "duration": 4,
    "start_time": "2021-10-30T20:50:34.366Z"
   },
   {
    "duration": 747,
    "start_time": "2021-10-30T20:50:34.373Z"
   },
   {
    "duration": 37,
    "start_time": "2021-10-30T20:50:35.123Z"
   },
   {
    "duration": 37,
    "start_time": "2021-10-30T20:50:35.163Z"
   },
   {
    "duration": 6,
    "start_time": "2021-10-30T20:50:35.202Z"
   },
   {
    "duration": 21,
    "start_time": "2021-10-30T20:50:35.210Z"
   },
   {
    "duration": 71,
    "start_time": "2021-10-30T20:50:35.234Z"
   },
   {
    "duration": 6,
    "start_time": "2021-10-30T20:50:35.309Z"
   },
   {
    "duration": 18,
    "start_time": "2021-10-30T20:50:35.318Z"
   },
   {
    "duration": 15,
    "start_time": "2021-10-30T20:50:35.338Z"
   },
   {
    "duration": 19,
    "start_time": "2021-10-30T20:50:35.355Z"
   },
   {
    "duration": 28,
    "start_time": "2021-10-30T20:50:35.376Z"
   },
   {
    "duration": 7,
    "start_time": "2021-10-30T20:50:35.407Z"
   },
   {
    "duration": 15,
    "start_time": "2021-10-30T20:50:35.417Z"
   },
   {
    "duration": 7,
    "start_time": "2021-10-30T20:50:35.434Z"
   },
   {
    "duration": 58,
    "start_time": "2021-10-30T20:50:35.444Z"
   },
   {
    "duration": 15,
    "start_time": "2021-10-30T20:50:35.504Z"
   },
   {
    "duration": 9,
    "start_time": "2021-10-30T20:50:35.522Z"
   },
   {
    "duration": 11,
    "start_time": "2021-10-30T20:50:35.534Z"
   },
   {
    "duration": 54,
    "start_time": "2021-10-30T20:50:35.547Z"
   },
   {
    "duration": 7,
    "start_time": "2021-10-30T20:50:35.604Z"
   },
   {
    "duration": 15,
    "start_time": "2021-10-30T20:50:35.614Z"
   },
   {
    "duration": 5,
    "start_time": "2021-10-30T20:50:35.634Z"
   },
   {
    "duration": 17,
    "start_time": "2021-10-30T20:50:35.642Z"
   },
   {
    "duration": 6,
    "start_time": "2021-10-30T20:50:35.662Z"
   },
   {
    "duration": 30,
    "start_time": "2021-10-30T20:50:35.670Z"
   },
   {
    "duration": 12,
    "start_time": "2021-10-30T20:50:35.703Z"
   },
   {
    "duration": 9,
    "start_time": "2021-10-30T20:50:35.718Z"
   },
   {
    "duration": 10,
    "start_time": "2021-10-30T20:50:35.729Z"
   },
   {
    "duration": 9,
    "start_time": "2021-10-30T20:50:35.741Z"
   },
   {
    "duration": 8,
    "start_time": "2021-10-30T20:50:35.752Z"
   },
   {
    "duration": 16,
    "start_time": "2021-10-30T20:50:35.763Z"
   },
   {
    "duration": 48,
    "start_time": "2021-10-30T20:50:35.781Z"
   },
   {
    "duration": 3,
    "start_time": "2021-10-30T20:50:35.831Z"
   },
   {
    "duration": 28,
    "start_time": "2021-10-30T20:50:35.837Z"
   },
   {
    "duration": 5,
    "start_time": "2021-10-30T20:50:41.629Z"
   },
   {
    "duration": 742,
    "start_time": "2021-10-30T20:50:42.515Z"
   },
   {
    "duration": 4,
    "start_time": "2021-10-30T20:51:08.265Z"
   },
   {
    "duration": 721,
    "start_time": "2021-10-30T20:51:09.046Z"
   },
   {
    "duration": 834,
    "start_time": "2021-10-30T20:52:10.951Z"
   },
   {
    "duration": 5,
    "start_time": "2021-10-30T20:53:39.285Z"
   },
   {
    "duration": 6,
    "start_time": "2021-10-30T20:53:41.519Z"
   },
   {
    "duration": 31,
    "start_time": "2021-10-30T20:53:46.781Z"
   },
   {
    "duration": 4,
    "start_time": "2021-10-30T20:54:12.798Z"
   },
   {
    "duration": 5,
    "start_time": "2021-10-30T20:54:50.361Z"
   },
   {
    "duration": 5,
    "start_time": "2021-10-30T20:54:52.043Z"
   },
   {
    "duration": 4,
    "start_time": "2021-10-30T20:55:14.787Z"
   },
   {
    "duration": 5,
    "start_time": "2021-10-30T20:55:17.045Z"
   },
   {
    "duration": 5,
    "start_time": "2021-10-30T20:55:43.736Z"
   },
   {
    "duration": 5,
    "start_time": "2021-10-30T20:55:44.485Z"
   },
   {
    "duration": 6,
    "start_time": "2021-10-30T20:56:16.267Z"
   },
   {
    "duration": 5,
    "start_time": "2021-10-30T20:56:16.936Z"
   },
   {
    "duration": 4,
    "start_time": "2021-10-30T20:56:39.939Z"
   },
   {
    "duration": 8,
    "start_time": "2021-10-30T20:56:40.661Z"
   },
   {
    "duration": 4,
    "start_time": "2021-10-30T20:57:08.505Z"
   },
   {
    "duration": 4,
    "start_time": "2021-10-30T20:57:13.673Z"
   },
   {
    "duration": 667,
    "start_time": "2021-10-30T20:57:13.680Z"
   },
   {
    "duration": 34,
    "start_time": "2021-10-30T20:57:14.350Z"
   },
   {
    "duration": 27,
    "start_time": "2021-10-30T20:57:14.387Z"
   },
   {
    "duration": 5,
    "start_time": "2021-10-30T20:57:14.416Z"
   },
   {
    "duration": 16,
    "start_time": "2021-10-30T20:57:14.423Z"
   },
   {
    "duration": 81,
    "start_time": "2021-10-30T20:57:14.442Z"
   },
   {
    "duration": 6,
    "start_time": "2021-10-30T20:57:14.525Z"
   },
   {
    "duration": 10,
    "start_time": "2021-10-30T20:57:14.535Z"
   },
   {
    "duration": 17,
    "start_time": "2021-10-30T20:57:14.548Z"
   },
   {
    "duration": 38,
    "start_time": "2021-10-30T20:57:14.567Z"
   },
   {
    "duration": 8,
    "start_time": "2021-10-30T20:57:14.607Z"
   },
   {
    "duration": 11,
    "start_time": "2021-10-30T20:57:14.618Z"
   },
   {
    "duration": 17,
    "start_time": "2021-10-30T20:57:14.632Z"
   },
   {
    "duration": 49,
    "start_time": "2021-10-30T20:57:14.652Z"
   },
   {
    "duration": 13,
    "start_time": "2021-10-30T20:57:14.704Z"
   },
   {
    "duration": 13,
    "start_time": "2021-10-30T20:57:14.720Z"
   },
   {
    "duration": 9,
    "start_time": "2021-10-30T20:57:14.736Z"
   },
   {
    "duration": 58,
    "start_time": "2021-10-30T20:57:14.748Z"
   },
   {
    "duration": 7,
    "start_time": "2021-10-30T20:57:14.808Z"
   },
   {
    "duration": 7,
    "start_time": "2021-10-30T20:57:14.817Z"
   },
   {
    "duration": 12,
    "start_time": "2021-10-30T20:57:14.826Z"
   },
   {
    "duration": 6,
    "start_time": "2021-10-30T20:57:14.840Z"
   },
   {
    "duration": 55,
    "start_time": "2021-10-30T20:57:14.848Z"
   },
   {
    "duration": 6,
    "start_time": "2021-10-30T20:57:14.905Z"
   },
   {
    "duration": 5,
    "start_time": "2021-10-30T20:57:14.914Z"
   },
   {
    "duration": 4,
    "start_time": "2021-10-30T20:57:14.924Z"
   },
   {
    "duration": 7,
    "start_time": "2021-10-30T20:57:14.931Z"
   },
   {
    "duration": 8,
    "start_time": "2021-10-30T20:57:14.940Z"
   },
   {
    "duration": 8,
    "start_time": "2021-10-30T20:57:14.950Z"
   },
   {
    "duration": 41,
    "start_time": "2021-10-30T20:57:14.960Z"
   },
   {
    "duration": 11,
    "start_time": "2021-10-30T20:57:15.004Z"
   },
   {
    "duration": 33,
    "start_time": "2021-10-30T20:57:15.018Z"
   },
   {
    "duration": 3,
    "start_time": "2021-10-30T20:57:15.054Z"
   },
   {
    "duration": 58,
    "start_time": "2021-10-30T20:57:15.059Z"
   },
   {
    "duration": 4,
    "start_time": "2021-10-30T20:57:15.120Z"
   },
   {
    "duration": 5,
    "start_time": "2021-10-30T20:57:38.715Z"
   },
   {
    "duration": 5,
    "start_time": "2021-10-30T20:57:42.044Z"
   },
   {
    "duration": 32,
    "start_time": "2021-10-30T20:57:46.323Z"
   },
   {
    "duration": 38,
    "start_time": "2021-10-30T20:59:52.688Z"
   },
   {
    "duration": 37,
    "start_time": "2021-10-30T21:00:21.543Z"
   },
   {
    "duration": 29,
    "start_time": "2021-10-30T21:00:40.291Z"
   },
   {
    "duration": 4,
    "start_time": "2021-10-30T21:01:08.467Z"
   },
   {
    "duration": 752,
    "start_time": "2021-10-30T21:01:08.474Z"
   },
   {
    "duration": 35,
    "start_time": "2021-10-30T21:01:09.229Z"
   },
   {
    "duration": 41,
    "start_time": "2021-10-30T21:01:09.268Z"
   },
   {
    "duration": 5,
    "start_time": "2021-10-30T21:01:09.312Z"
   },
   {
    "duration": 13,
    "start_time": "2021-10-30T21:01:09.320Z"
   },
   {
    "duration": 77,
    "start_time": "2021-10-30T21:01:09.336Z"
   },
   {
    "duration": 7,
    "start_time": "2021-10-30T21:01:09.415Z"
   },
   {
    "duration": 12,
    "start_time": "2021-10-30T21:01:09.426Z"
   },
   {
    "duration": 11,
    "start_time": "2021-10-30T21:01:09.441Z"
   },
   {
    "duration": 11,
    "start_time": "2021-10-30T21:01:09.454Z"
   },
   {
    "duration": 8,
    "start_time": "2021-10-30T21:01:09.501Z"
   },
   {
    "duration": 15,
    "start_time": "2021-10-30T21:01:09.511Z"
   },
   {
    "duration": 21,
    "start_time": "2021-10-30T21:01:09.529Z"
   },
   {
    "duration": 6,
    "start_time": "2021-10-30T21:01:09.552Z"
   },
   {
    "duration": 42,
    "start_time": "2021-10-30T21:01:09.560Z"
   },
   {
    "duration": 13,
    "start_time": "2021-10-30T21:01:09.604Z"
   },
   {
    "duration": 7,
    "start_time": "2021-10-30T21:01:09.619Z"
   },
   {
    "duration": 10,
    "start_time": "2021-10-30T21:01:09.629Z"
   },
   {
    "duration": 6,
    "start_time": "2021-10-30T21:01:09.642Z"
   },
   {
    "duration": 49,
    "start_time": "2021-10-30T21:01:09.651Z"
   },
   {
    "duration": 5,
    "start_time": "2021-10-30T21:01:09.703Z"
   },
   {
    "duration": 11,
    "start_time": "2021-10-30T21:01:09.710Z"
   },
   {
    "duration": 15,
    "start_time": "2021-10-30T21:01:09.723Z"
   },
   {
    "duration": 8,
    "start_time": "2021-10-30T21:01:09.740Z"
   },
   {
    "duration": 10,
    "start_time": "2021-10-30T21:01:09.750Z"
   },
   {
    "duration": 35,
    "start_time": "2021-10-30T21:01:09.765Z"
   },
   {
    "duration": 6,
    "start_time": "2021-10-30T21:01:09.803Z"
   },
   {
    "duration": 14,
    "start_time": "2021-10-30T21:01:09.811Z"
   },
   {
    "duration": 7,
    "start_time": "2021-10-30T21:01:09.828Z"
   },
   {
    "duration": 9,
    "start_time": "2021-10-30T21:01:09.837Z"
   },
   {
    "duration": 18,
    "start_time": "2021-10-30T21:01:09.848Z"
   },
   {
    "duration": 52,
    "start_time": "2021-10-30T21:01:09.868Z"
   },
   {
    "duration": 2,
    "start_time": "2021-10-30T21:01:09.923Z"
   },
   {
    "duration": 26,
    "start_time": "2021-10-30T21:01:09.927Z"
   },
   {
    "duration": 7,
    "start_time": "2021-10-30T21:01:09.956Z"
   },
   {
    "duration": 37,
    "start_time": "2021-10-30T21:01:09.965Z"
   },
   {
    "duration": 47,
    "start_time": "2021-10-30T21:01:13.356Z"
   },
   {
    "duration": 41,
    "start_time": "2021-10-30T21:05:22.786Z"
   },
   {
    "duration": 6,
    "start_time": "2021-10-30T21:06:37.072Z"
   },
   {
    "duration": 39,
    "start_time": "2021-10-30T21:06:42.288Z"
   },
   {
    "duration": 375,
    "start_time": "2021-10-30T21:07:03.193Z"
   },
   {
    "duration": 5,
    "start_time": "2021-10-30T21:07:19.465Z"
   },
   {
    "duration": 531,
    "start_time": "2021-10-30T21:08:20.745Z"
   },
   {
    "duration": 5,
    "start_time": "2021-10-30T21:08:41.538Z"
   },
   {
    "duration": 39,
    "start_time": "2021-10-30T21:08:46.537Z"
   },
   {
    "duration": 39,
    "start_time": "2021-10-30T21:17:31.684Z"
   },
   {
    "duration": 4,
    "start_time": "2021-10-30T21:17:53.032Z"
   },
   {
    "duration": 594,
    "start_time": "2021-10-30T21:17:53.728Z"
   },
   {
    "duration": 36,
    "start_time": "2021-10-30T21:17:54.793Z"
   },
   {
    "duration": 16,
    "start_time": "2021-10-30T21:17:57.176Z"
   },
   {
    "duration": 5,
    "start_time": "2021-10-30T21:18:01.959Z"
   },
   {
    "duration": 38,
    "start_time": "2021-10-30T21:18:10.350Z"
   },
   {
    "duration": 5,
    "start_time": "2021-10-30T21:18:29.774Z"
   },
   {
    "duration": 780,
    "start_time": "2021-10-30T21:18:29.783Z"
   },
   {
    "duration": 45,
    "start_time": "2021-10-30T21:18:30.566Z"
   },
   {
    "duration": 16,
    "start_time": "2021-10-30T21:18:30.614Z"
   },
   {
    "duration": 5,
    "start_time": "2021-10-30T21:18:30.632Z"
   },
   {
    "duration": 15,
    "start_time": "2021-10-30T21:18:30.639Z"
   },
   {
    "duration": 79,
    "start_time": "2021-10-30T21:18:30.657Z"
   },
   {
    "duration": 74,
    "start_time": "2021-10-30T21:18:30.738Z"
   },
   {
    "duration": 7,
    "start_time": "2021-10-30T21:18:30.816Z"
   },
   {
    "duration": 16,
    "start_time": "2021-10-30T21:18:30.828Z"
   },
   {
    "duration": 15,
    "start_time": "2021-10-30T21:18:30.847Z"
   },
   {
    "duration": 44,
    "start_time": "2021-10-30T21:18:30.865Z"
   },
   {
    "duration": 11,
    "start_time": "2021-10-30T21:18:30.912Z"
   },
   {
    "duration": 20,
    "start_time": "2021-10-30T21:18:30.926Z"
   },
   {
    "duration": 29,
    "start_time": "2021-10-30T21:18:30.949Z"
   },
   {
    "duration": 25,
    "start_time": "2021-10-30T21:18:30.981Z"
   },
   {
    "duration": 25,
    "start_time": "2021-10-30T21:18:31.009Z"
   },
   {
    "duration": 15,
    "start_time": "2021-10-30T21:18:31.037Z"
   },
   {
    "duration": 45,
    "start_time": "2021-10-30T21:18:31.055Z"
   },
   {
    "duration": 10,
    "start_time": "2021-10-30T21:18:31.103Z"
   },
   {
    "duration": 7,
    "start_time": "2021-10-30T21:18:31.116Z"
   },
   {
    "duration": 9,
    "start_time": "2021-10-30T21:18:31.126Z"
   },
   {
    "duration": 13,
    "start_time": "2021-10-30T21:18:31.138Z"
   },
   {
    "duration": 52,
    "start_time": "2021-10-30T21:18:31.153Z"
   },
   {
    "duration": 16,
    "start_time": "2021-10-30T21:18:31.208Z"
   },
   {
    "duration": 17,
    "start_time": "2021-10-30T21:18:31.226Z"
   },
   {
    "duration": 10,
    "start_time": "2021-10-30T21:18:31.250Z"
   },
   {
    "duration": 8,
    "start_time": "2021-10-30T21:18:31.263Z"
   },
   {
    "duration": 27,
    "start_time": "2021-10-30T21:18:31.273Z"
   },
   {
    "duration": 10,
    "start_time": "2021-10-30T21:18:31.304Z"
   },
   {
    "duration": 14,
    "start_time": "2021-10-30T21:18:31.317Z"
   },
   {
    "duration": 10,
    "start_time": "2021-10-30T21:18:31.334Z"
   },
   {
    "duration": 25,
    "start_time": "2021-10-30T21:18:31.346Z"
   },
   {
    "duration": 50,
    "start_time": "2021-10-30T21:18:31.374Z"
   },
   {
    "duration": 4,
    "start_time": "2021-10-30T21:18:31.427Z"
   },
   {
    "duration": 32,
    "start_time": "2021-10-30T21:18:31.434Z"
   },
   {
    "duration": 6,
    "start_time": "2021-10-30T21:18:31.469Z"
   },
   {
    "duration": 38,
    "start_time": "2021-10-30T21:18:31.502Z"
   },
   {
    "duration": 40,
    "start_time": "2021-10-30T21:18:40.003Z"
   },
   {
    "duration": 6,
    "start_time": "2021-10-30T21:18:44.107Z"
   },
   {
    "duration": 6,
    "start_time": "2021-10-30T21:18:44.832Z"
   },
   {
    "duration": 4,
    "start_time": "2021-10-30T21:30:57.729Z"
   },
   {
    "duration": 1279,
    "start_time": "2021-10-30T21:31:36.167Z"
   },
   {
    "duration": 39,
    "start_time": "2021-10-30T21:31:44.752Z"
   },
   {
    "duration": 5,
    "start_time": "2021-10-30T21:35:20.794Z"
   },
   {
    "duration": 6,
    "start_time": "2021-10-30T21:36:33.964Z"
   },
   {
    "duration": 9181,
    "start_time": "2021-10-30T21:36:35.358Z"
   },
   {
    "duration": 6,
    "start_time": "2021-10-30T21:36:53.392Z"
   },
   {
    "duration": 37,
    "start_time": "2021-10-30T21:37:02.308Z"
   },
   {
    "duration": 6,
    "start_time": "2021-10-30T21:37:26.152Z"
   },
   {
    "duration": 6,
    "start_time": "2021-10-30T21:38:52.983Z"
   },
   {
    "duration": 388,
    "start_time": "2021-10-30T21:39:32.443Z"
   },
   {
    "duration": 547,
    "start_time": "2021-10-30T21:39:43.484Z"
   },
   {
    "duration": 3224,
    "start_time": "2021-10-30T21:39:51.780Z"
   },
   {
    "duration": 2068,
    "start_time": "2021-10-30T21:40:02.493Z"
   },
   {
    "duration": 1687,
    "start_time": "2021-10-30T21:42:23.949Z"
   },
   {
    "duration": 1886,
    "start_time": "2021-10-30T21:42:36.868Z"
   },
   {
    "duration": 571,
    "start_time": "2021-10-30T21:42:52.645Z"
   },
   {
    "duration": 598,
    "start_time": "2021-10-30T21:43:05.164Z"
   },
   {
    "duration": 576,
    "start_time": "2021-10-30T21:43:17.901Z"
   },
   {
    "duration": 535,
    "start_time": "2021-10-30T21:44:11.744Z"
   },
   {
    "duration": 572,
    "start_time": "2021-10-30T21:44:20.822Z"
   },
   {
    "duration": 297,
    "start_time": "2021-10-30T21:44:33.332Z"
   },
   {
    "duration": 1271,
    "start_time": "2021-10-31T08:21:18.794Z"
   },
   {
    "duration": 426,
    "start_time": "2021-10-31T08:21:20.067Z"
   },
   {
    "duration": 33,
    "start_time": "2021-10-31T08:21:20.495Z"
   },
   {
    "duration": 11,
    "start_time": "2021-10-31T08:21:20.530Z"
   },
   {
    "duration": 3,
    "start_time": "2021-10-31T08:21:20.543Z"
   },
   {
    "duration": 16,
    "start_time": "2021-10-31T08:21:20.547Z"
   },
   {
    "duration": 52,
    "start_time": "2021-10-31T08:21:20.564Z"
   },
   {
    "duration": 31,
    "start_time": "2021-10-31T08:21:20.618Z"
   },
   {
    "duration": 4,
    "start_time": "2021-10-31T08:21:20.651Z"
   },
   {
    "duration": 11,
    "start_time": "2021-10-31T08:21:20.657Z"
   },
   {
    "duration": 8,
    "start_time": "2021-10-31T08:21:20.670Z"
   },
   {
    "duration": 34,
    "start_time": "2021-10-31T08:21:20.680Z"
   },
   {
    "duration": 6,
    "start_time": "2021-10-31T08:21:20.715Z"
   },
   {
    "duration": 14,
    "start_time": "2021-10-31T08:21:20.722Z"
   },
   {
    "duration": 27,
    "start_time": "2021-10-31T08:21:20.737Z"
   },
   {
    "duration": 4,
    "start_time": "2021-10-31T08:21:20.766Z"
   },
   {
    "duration": 14,
    "start_time": "2021-10-31T08:21:20.772Z"
   },
   {
    "duration": 20,
    "start_time": "2021-10-31T08:21:20.787Z"
   },
   {
    "duration": 6,
    "start_time": "2021-10-31T08:21:20.809Z"
   },
   {
    "duration": 8,
    "start_time": "2021-10-31T08:21:20.817Z"
   },
   {
    "duration": 5,
    "start_time": "2021-10-31T08:21:20.827Z"
   },
   {
    "duration": 14,
    "start_time": "2021-10-31T08:21:20.833Z"
   },
   {
    "duration": 5,
    "start_time": "2021-10-31T08:21:20.850Z"
   },
   {
    "duration": 9,
    "start_time": "2021-10-31T08:21:20.857Z"
   },
   {
    "duration": 8,
    "start_time": "2021-10-31T08:21:20.868Z"
   },
   {
    "duration": 8,
    "start_time": "2021-10-31T08:21:20.878Z"
   },
   {
    "duration": 22,
    "start_time": "2021-10-31T08:21:20.887Z"
   },
   {
    "duration": 4,
    "start_time": "2021-10-31T08:21:20.911Z"
   },
   {
    "duration": 8,
    "start_time": "2021-10-31T08:21:20.916Z"
   },
   {
    "duration": 5,
    "start_time": "2021-10-31T08:21:20.926Z"
   },
   {
    "duration": 6,
    "start_time": "2021-10-31T08:21:20.933Z"
   },
   {
    "duration": 10,
    "start_time": "2021-10-31T08:21:20.941Z"
   },
   {
    "duration": 12,
    "start_time": "2021-10-31T08:21:20.952Z"
   },
   {
    "duration": 41,
    "start_time": "2021-10-31T08:21:20.966Z"
   },
   {
    "duration": 2,
    "start_time": "2021-10-31T08:21:21.009Z"
   },
   {
    "duration": 19,
    "start_time": "2021-10-31T08:21:21.013Z"
   },
   {
    "duration": 3,
    "start_time": "2021-10-31T08:21:21.033Z"
   },
   {
    "duration": 31,
    "start_time": "2021-10-31T08:21:21.038Z"
   },
   {
    "duration": 47,
    "start_time": "2021-10-31T08:21:21.071Z"
   },
   {
    "duration": 4,
    "start_time": "2021-10-31T08:21:21.120Z"
   },
   {
    "duration": 11,
    "start_time": "2021-10-31T08:21:21.126Z"
   },
   {
    "duration": 5,
    "start_time": "2021-10-31T08:21:21.138Z"
   },
   {
    "duration": 10,
    "start_time": "2021-10-31T08:21:21.144Z"
   },
   {
    "duration": 820,
    "start_time": "2021-10-31T08:21:21.156Z"
   },
   {
    "duration": 4,
    "start_time": "2021-10-31T08:21:21.978Z"
   },
   {
    "duration": 7,
    "start_time": "2021-10-31T08:21:21.984Z"
   },
   {
    "duration": 14,
    "start_time": "2021-10-31T08:21:21.993Z"
   },
   {
    "duration": 337,
    "start_time": "2021-10-31T08:21:22.009Z"
   },
   {
    "duration": 182,
    "start_time": "2021-10-31T08:23:27.038Z"
   },
   {
    "duration": 332,
    "start_time": "2021-10-31T08:23:30.668Z"
   },
   {
    "duration": 585,
    "start_time": "2021-10-31T08:25:43.148Z"
   },
   {
    "duration": 380,
    "start_time": "2021-10-31T08:26:12.111Z"
   },
   {
    "duration": 432,
    "start_time": "2021-10-31T08:26:31.645Z"
   },
   {
    "duration": 369,
    "start_time": "2021-10-31T08:26:37.611Z"
   },
   {
    "duration": 350,
    "start_time": "2021-10-31T08:26:55.614Z"
   },
   {
    "duration": 351,
    "start_time": "2021-10-31T08:26:59.564Z"
   },
   {
    "duration": 367,
    "start_time": "2021-10-31T08:27:10.298Z"
   },
   {
    "duration": 375,
    "start_time": "2021-10-31T08:27:17.635Z"
   },
   {
    "duration": 482,
    "start_time": "2021-10-31T08:28:23.493Z"
   },
   {
    "duration": 426,
    "start_time": "2021-10-31T08:28:31.142Z"
   },
   {
    "duration": 364,
    "start_time": "2021-10-31T08:28:40.088Z"
   },
   {
    "duration": 375,
    "start_time": "2021-10-31T08:28:44.578Z"
   },
   {
    "duration": 2245,
    "start_time": "2021-10-31T08:29:30.224Z"
   },
   {
    "duration": 536,
    "start_time": "2021-10-31T08:29:35.861Z"
   },
   {
    "duration": 815,
    "start_time": "2021-10-31T08:32:45.660Z"
   },
   {
    "duration": 403,
    "start_time": "2021-10-31T08:32:55.064Z"
   },
   {
    "duration": 874,
    "start_time": "2021-10-31T08:36:23.235Z"
   },
   {
    "duration": 394,
    "start_time": "2021-10-31T08:36:38.280Z"
   },
   {
    "duration": 659,
    "start_time": "2021-10-31T08:37:15.347Z"
   },
   {
    "duration": 665,
    "start_time": "2021-10-31T08:37:24.691Z"
   },
   {
    "duration": 913,
    "start_time": "2021-10-31T08:37:29.446Z"
   },
   {
    "duration": 663,
    "start_time": "2021-10-31T08:37:34.983Z"
   },
   {
    "duration": 659,
    "start_time": "2021-10-31T08:37:41.641Z"
   },
   {
    "duration": 660,
    "start_time": "2021-10-31T08:38:04.221Z"
   },
   {
    "duration": 753,
    "start_time": "2021-10-31T08:38:09.998Z"
   },
   {
    "duration": 651,
    "start_time": "2021-10-31T08:38:16.311Z"
   },
   {
    "duration": 664,
    "start_time": "2021-10-31T08:38:27.909Z"
   },
   {
    "duration": 669,
    "start_time": "2021-10-31T08:38:33.474Z"
   },
   {
    "duration": 938,
    "start_time": "2021-10-31T08:38:38.539Z"
   },
   {
    "duration": 4,
    "start_time": "2021-10-31T08:47:35.226Z"
   },
   {
    "duration": 449,
    "start_time": "2021-10-31T08:47:35.232Z"
   },
   {
    "duration": 28,
    "start_time": "2021-10-31T08:47:35.684Z"
   },
   {
    "duration": 24,
    "start_time": "2021-10-31T08:47:35.715Z"
   },
   {
    "duration": 13,
    "start_time": "2021-10-31T08:47:35.741Z"
   },
   {
    "duration": 26,
    "start_time": "2021-10-31T08:47:35.756Z"
   },
   {
    "duration": 39,
    "start_time": "2021-10-31T08:47:35.784Z"
   },
   {
    "duration": 30,
    "start_time": "2021-10-31T08:47:35.826Z"
   },
   {
    "duration": 5,
    "start_time": "2021-10-31T08:47:35.858Z"
   },
   {
    "duration": 15,
    "start_time": "2021-10-31T08:47:35.865Z"
   },
   {
    "duration": 27,
    "start_time": "2021-10-31T08:47:35.882Z"
   },
   {
    "duration": 11,
    "start_time": "2021-10-31T08:47:35.911Z"
   },
   {
    "duration": 11,
    "start_time": "2021-10-31T08:47:35.924Z"
   },
   {
    "duration": 37,
    "start_time": "2021-10-31T08:47:35.937Z"
   },
   {
    "duration": 14,
    "start_time": "2021-10-31T08:47:35.976Z"
   },
   {
    "duration": 7,
    "start_time": "2021-10-31T08:47:35.992Z"
   },
   {
    "duration": 19,
    "start_time": "2021-10-31T08:47:36.001Z"
   },
   {
    "duration": 10,
    "start_time": "2021-10-31T08:47:36.022Z"
   },
   {
    "duration": 6,
    "start_time": "2021-10-31T08:47:36.034Z"
   },
   {
    "duration": 14,
    "start_time": "2021-10-31T08:47:36.042Z"
   },
   {
    "duration": 13,
    "start_time": "2021-10-31T08:47:36.058Z"
   },
   {
    "duration": 8,
    "start_time": "2021-10-31T08:47:36.073Z"
   },
   {
    "duration": 9,
    "start_time": "2021-10-31T08:47:36.085Z"
   },
   {
    "duration": 18,
    "start_time": "2021-10-31T08:47:36.096Z"
   },
   {
    "duration": 15,
    "start_time": "2021-10-31T08:47:36.116Z"
   },
   {
    "duration": 11,
    "start_time": "2021-10-31T08:47:36.133Z"
   },
   {
    "duration": 9,
    "start_time": "2021-10-31T08:47:36.146Z"
   },
   {
    "duration": 4,
    "start_time": "2021-10-31T08:47:36.157Z"
   },
   {
    "duration": 9,
    "start_time": "2021-10-31T08:47:36.163Z"
   },
   {
    "duration": 11,
    "start_time": "2021-10-31T08:47:36.173Z"
   },
   {
    "duration": 7,
    "start_time": "2021-10-31T08:47:36.186Z"
   },
   {
    "duration": 9,
    "start_time": "2021-10-31T08:47:36.195Z"
   },
   {
    "duration": 20,
    "start_time": "2021-10-31T08:47:36.206Z"
   },
   {
    "duration": 21,
    "start_time": "2021-10-31T08:47:36.228Z"
   },
   {
    "duration": 7,
    "start_time": "2021-10-31T08:47:36.251Z"
   },
   {
    "duration": 21,
    "start_time": "2021-10-31T08:47:36.260Z"
   },
   {
    "duration": 4,
    "start_time": "2021-10-31T08:47:36.283Z"
   },
   {
    "duration": 38,
    "start_time": "2021-10-31T08:47:36.289Z"
   },
   {
    "duration": 26,
    "start_time": "2021-10-31T08:47:36.329Z"
   },
   {
    "duration": 4,
    "start_time": "2021-10-31T08:47:36.357Z"
   },
   {
    "duration": 8,
    "start_time": "2021-10-31T08:47:36.363Z"
   },
   {
    "duration": 36,
    "start_time": "2021-10-31T08:47:36.372Z"
   },
   {
    "duration": 3,
    "start_time": "2021-10-31T08:47:36.410Z"
   },
   {
    "duration": 755,
    "start_time": "2021-10-31T08:47:36.415Z"
   },
   {
    "duration": 4,
    "start_time": "2021-10-31T08:47:37.172Z"
   },
   {
    "duration": 6,
    "start_time": "2021-10-31T08:47:37.178Z"
   },
   {
    "duration": 21,
    "start_time": "2021-10-31T08:47:37.186Z"
   },
   {
    "duration": 342,
    "start_time": "2021-10-31T08:47:37.209Z"
   },
   {
    "duration": 546,
    "start_time": "2021-10-31T08:47:44.694Z"
   },
   {
    "duration": 413,
    "start_time": "2021-10-31T08:48:28.618Z"
   },
   {
    "duration": 413,
    "start_time": "2021-10-31T08:48:35.702Z"
   },
   {
    "duration": 126,
    "start_time": "2021-10-31T08:49:11.097Z"
   },
   {
    "duration": 361,
    "start_time": "2021-10-31T08:49:19.651Z"
   },
   {
    "duration": 368,
    "start_time": "2021-10-31T08:50:50.909Z"
   },
   {
    "duration": 216,
    "start_time": "2021-10-31T08:50:59.543Z"
   },
   {
    "duration": 242,
    "start_time": "2021-10-31T08:51:07.103Z"
   },
   {
    "duration": 207,
    "start_time": "2021-10-31T08:51:14.351Z"
   },
   {
    "duration": 210,
    "start_time": "2021-10-31T08:51:27.913Z"
   },
   {
    "duration": 210,
    "start_time": "2021-10-31T08:51:31.485Z"
   },
   {
    "duration": 218,
    "start_time": "2021-10-31T08:51:38.276Z"
   },
   {
    "duration": 178,
    "start_time": "2021-10-31T08:51:49.419Z"
   },
   {
    "duration": 194,
    "start_time": "2021-10-31T08:52:03.112Z"
   },
   {
    "duration": 179,
    "start_time": "2021-10-31T08:52:12.873Z"
   },
   {
    "duration": 362,
    "start_time": "2021-10-31T08:53:11.783Z"
   },
   {
    "duration": 182,
    "start_time": "2021-10-31T08:53:28.010Z"
   },
   {
    "duration": 180,
    "start_time": "2021-10-31T08:53:32.523Z"
   },
   {
    "duration": 174,
    "start_time": "2021-10-31T08:53:38.319Z"
   },
   {
    "duration": 199,
    "start_time": "2021-10-31T08:53:43.917Z"
   },
   {
    "duration": 180,
    "start_time": "2021-10-31T08:54:06.495Z"
   },
   {
    "duration": 179,
    "start_time": "2021-10-31T08:54:11.555Z"
   },
   {
    "duration": 188,
    "start_time": "2021-10-31T08:55:47.751Z"
   },
   {
    "duration": 336,
    "start_time": "2021-10-31T08:56:00.949Z"
   },
   {
    "duration": 349,
    "start_time": "2021-10-31T08:56:32.642Z"
   },
   {
    "duration": 10,
    "start_time": "2021-10-31T08:58:08.969Z"
   },
   {
    "duration": 355,
    "start_time": "2021-10-31T08:59:49.951Z"
   },
   {
    "duration": 191,
    "start_time": "2021-10-31T08:59:59.100Z"
   },
   {
    "duration": 195,
    "start_time": "2021-10-31T09:00:04.104Z"
   },
   {
    "duration": 427,
    "start_time": "2021-10-31T09:00:11.057Z"
   },
   {
    "duration": 380,
    "start_time": "2021-10-31T09:00:16.595Z"
   },
   {
    "duration": 884,
    "start_time": "2021-10-31T09:01:17.361Z"
   },
   {
    "duration": 475,
    "start_time": "2021-10-31T09:01:46.377Z"
   },
   {
    "duration": 465,
    "start_time": "2021-10-31T09:02:18.185Z"
   },
   {
    "duration": 6,
    "start_time": "2021-10-31T09:05:24.394Z"
   },
   {
    "duration": 351,
    "start_time": "2021-10-31T09:05:32.971Z"
   },
   {
    "duration": 4,
    "start_time": "2021-10-31T09:10:56.731Z"
   },
   {
    "duration": 8,
    "start_time": "2021-10-31T09:11:06.327Z"
   },
   {
    "duration": 5,
    "start_time": "2021-10-31T09:19:19.766Z"
   },
   {
    "duration": 5,
    "start_time": "2021-10-31T09:19:44.775Z"
   },
   {
    "duration": 6,
    "start_time": "2021-10-31T09:20:04.808Z"
   },
   {
    "duration": 521,
    "start_time": "2021-10-31T09:21:02.415Z"
   },
   {
    "duration": 491,
    "start_time": "2021-10-31T09:21:16.588Z"
   },
   {
    "duration": 521,
    "start_time": "2021-10-31T09:22:10.439Z"
   },
   {
    "duration": 582,
    "start_time": "2021-10-31T09:22:49.082Z"
   },
   {
    "duration": 2382,
    "start_time": "2021-10-31T09:23:26.393Z"
   },
   {
    "duration": 603,
    "start_time": "2021-10-31T09:23:47.549Z"
   },
   {
    "duration": 539,
    "start_time": "2021-10-31T09:24:27.108Z"
   },
   {
    "duration": 556,
    "start_time": "2021-10-31T09:24:52.623Z"
   },
   {
    "duration": 5,
    "start_time": "2021-10-31T09:25:17.768Z"
   },
   {
    "duration": 573,
    "start_time": "2021-10-31T09:25:26.619Z"
   },
   {
    "duration": 541,
    "start_time": "2021-10-31T09:26:04.377Z"
   },
   {
    "duration": 360,
    "start_time": "2021-10-31T09:30:50.716Z"
   },
   {
    "duration": 143,
    "start_time": "2021-10-31T09:33:16.683Z"
   },
   {
    "duration": 971,
    "start_time": "2021-10-31T09:34:15.265Z"
   },
   {
    "duration": 733,
    "start_time": "2021-10-31T09:34:32.686Z"
   },
   {
    "duration": 1858,
    "start_time": "2021-10-31T09:38:48.024Z"
   },
   {
    "duration": 3,
    "start_time": "2021-10-31T09:38:54.509Z"
   },
   {
    "duration": 1153,
    "start_time": "2021-10-31T09:38:54.514Z"
   },
   {
    "duration": 25,
    "start_time": "2021-10-31T09:38:55.669Z"
   },
   {
    "duration": 14,
    "start_time": "2021-10-31T09:38:55.707Z"
   },
   {
    "duration": 6,
    "start_time": "2021-10-31T09:38:55.723Z"
   },
   {
    "duration": 13,
    "start_time": "2021-10-31T09:38:55.731Z"
   },
   {
    "duration": 26,
    "start_time": "2021-10-31T09:38:55.746Z"
   },
   {
    "duration": 60,
    "start_time": "2021-10-31T09:38:55.775Z"
   },
   {
    "duration": 4,
    "start_time": "2021-10-31T09:38:55.838Z"
   },
   {
    "duration": 13,
    "start_time": "2021-10-31T09:38:55.844Z"
   },
   {
    "duration": 13,
    "start_time": "2021-10-31T09:38:55.859Z"
   },
   {
    "duration": 8,
    "start_time": "2021-10-31T09:38:55.874Z"
   },
   {
    "duration": 28,
    "start_time": "2021-10-31T09:38:55.884Z"
   },
   {
    "duration": 477,
    "start_time": "2021-10-31T09:38:55.913Z"
   },
   {
    "duration": 19,
    "start_time": "2021-10-31T09:38:56.392Z"
   },
   {
    "duration": 5,
    "start_time": "2021-10-31T09:38:56.413Z"
   },
   {
    "duration": 15,
    "start_time": "2021-10-31T09:38:56.420Z"
   },
   {
    "duration": 9,
    "start_time": "2021-10-31T09:38:56.437Z"
   },
   {
    "duration": 4,
    "start_time": "2021-10-31T09:38:56.448Z"
   },
   {
    "duration": 8,
    "start_time": "2021-10-31T09:38:56.454Z"
   },
   {
    "duration": 11,
    "start_time": "2021-10-31T09:38:56.464Z"
   },
   {
    "duration": 36,
    "start_time": "2021-10-31T09:38:56.477Z"
   },
   {
    "duration": 12,
    "start_time": "2021-10-31T09:38:56.518Z"
   },
   {
    "duration": 12,
    "start_time": "2021-10-31T09:38:56.532Z"
   },
   {
    "duration": 15,
    "start_time": "2021-10-31T09:38:56.546Z"
   },
   {
    "duration": 9,
    "start_time": "2021-10-31T09:38:56.563Z"
   },
   {
    "duration": 11,
    "start_time": "2021-10-31T09:38:56.573Z"
   },
   {
    "duration": 7,
    "start_time": "2021-10-31T09:38:56.585Z"
   },
   {
    "duration": 9,
    "start_time": "2021-10-31T09:38:56.593Z"
   },
   {
    "duration": 7,
    "start_time": "2021-10-31T09:38:56.603Z"
   },
   {
    "duration": 6,
    "start_time": "2021-10-31T09:38:56.612Z"
   },
   {
    "duration": 11,
    "start_time": "2021-10-31T09:38:56.620Z"
   },
   {
    "duration": 12,
    "start_time": "2021-10-31T09:38:56.633Z"
   },
   {
    "duration": 21,
    "start_time": "2021-10-31T09:38:56.647Z"
   },
   {
    "duration": 6,
    "start_time": "2021-10-31T09:38:56.670Z"
   },
   {
    "duration": 30,
    "start_time": "2021-10-31T09:38:56.678Z"
   },
   {
    "duration": 3,
    "start_time": "2021-10-31T09:38:56.709Z"
   },
   {
    "duration": 34,
    "start_time": "2021-10-31T09:38:56.714Z"
   },
   {
    "duration": 30,
    "start_time": "2021-10-31T09:38:56.750Z"
   },
   {
    "duration": 5,
    "start_time": "2021-10-31T09:38:56.782Z"
   },
   {
    "duration": 22,
    "start_time": "2021-10-31T09:38:56.788Z"
   },
   {
    "duration": 8,
    "start_time": "2021-10-31T09:38:56.811Z"
   },
   {
    "duration": 7,
    "start_time": "2021-10-31T09:38:56.821Z"
   },
   {
    "duration": 791,
    "start_time": "2021-10-31T09:38:56.829Z"
   },
   {
    "duration": 5,
    "start_time": "2021-10-31T09:38:57.622Z"
   },
   {
    "duration": 21,
    "start_time": "2021-10-31T09:38:57.629Z"
   },
   {
    "duration": 23,
    "start_time": "2021-10-31T09:38:57.652Z"
   },
   {
    "duration": 392,
    "start_time": "2021-10-31T09:38:57.677Z"
   },
   {
    "duration": 447,
    "start_time": "2021-10-31T09:38:58.072Z"
   },
   {
    "duration": 206,
    "start_time": "2021-10-31T09:38:58.521Z"
   },
   {
    "duration": 202,
    "start_time": "2021-10-31T09:38:58.729Z"
   },
   {
    "duration": 517,
    "start_time": "2021-10-31T09:38:58.934Z"
   },
   {
    "duration": 8,
    "start_time": "2021-10-31T09:38:59.453Z"
   },
   {
    "duration": 13,
    "start_time": "2021-10-31T09:38:59.463Z"
   },
   {
    "duration": 544,
    "start_time": "2021-10-31T09:38:59.477Z"
   },
   {
    "duration": 162,
    "start_time": "2021-10-31T09:39:00.023Z"
   },
   {
    "duration": 557,
    "start_time": "2021-10-31T09:39:00.186Z"
   },
   {
    "duration": 571,
    "start_time": "2021-10-31T09:39:00.745Z"
   },
   {
    "duration": 204691,
    "start_time": "2021-10-31T09:42:10.978Z"
   },
   {
    "duration": 11,
    "start_time": "2021-10-31T09:45:44.263Z"
   },
   {
    "duration": 149,
    "start_time": "2021-10-31T09:46:30.599Z"
   },
   {
    "duration": 3,
    "start_time": "2021-10-31T09:56:14.201Z"
   },
   {
    "duration": 586,
    "start_time": "2021-10-31T09:56:14.207Z"
   },
   {
    "duration": 29,
    "start_time": "2021-10-31T09:56:14.796Z"
   },
   {
    "duration": 11,
    "start_time": "2021-10-31T09:56:14.827Z"
   },
   {
    "duration": 4,
    "start_time": "2021-10-31T09:56:14.840Z"
   },
   {
    "duration": 13,
    "start_time": "2021-10-31T09:56:14.846Z"
   },
   {
    "duration": 49,
    "start_time": "2021-10-31T09:56:14.861Z"
   },
   {
    "duration": 32,
    "start_time": "2021-10-31T09:56:14.912Z"
   },
   {
    "duration": 6,
    "start_time": "2021-10-31T09:56:14.946Z"
   },
   {
    "duration": 8,
    "start_time": "2021-10-31T09:56:14.954Z"
   },
   {
    "duration": 14,
    "start_time": "2021-10-31T09:56:14.964Z"
   },
   {
    "duration": 31,
    "start_time": "2021-10-31T09:56:14.980Z"
   },
   {
    "duration": 18,
    "start_time": "2021-10-31T09:56:15.013Z"
   },
   {
    "duration": 18,
    "start_time": "2021-10-31T09:56:15.033Z"
   },
   {
    "duration": 18,
    "start_time": "2021-10-31T09:56:15.053Z"
   },
   {
    "duration": 7,
    "start_time": "2021-10-31T09:56:15.073Z"
   },
   {
    "duration": 11,
    "start_time": "2021-10-31T09:56:15.082Z"
   },
   {
    "duration": 14,
    "start_time": "2021-10-31T09:56:15.095Z"
   },
   {
    "duration": 15,
    "start_time": "2021-10-31T09:56:15.111Z"
   },
   {
    "duration": 11,
    "start_time": "2021-10-31T09:56:15.128Z"
   },
   {
    "duration": 11,
    "start_time": "2021-10-31T09:56:15.141Z"
   },
   {
    "duration": 28,
    "start_time": "2021-10-31T09:56:15.154Z"
   },
   {
    "duration": 9,
    "start_time": "2021-10-31T09:56:15.184Z"
   },
   {
    "duration": 10,
    "start_time": "2021-10-31T09:56:15.195Z"
   },
   {
    "duration": 13,
    "start_time": "2021-10-31T09:56:15.207Z"
   },
   {
    "duration": 19,
    "start_time": "2021-10-31T09:56:15.222Z"
   },
   {
    "duration": 11,
    "start_time": "2021-10-31T09:56:15.245Z"
   },
   {
    "duration": 10,
    "start_time": "2021-10-31T09:56:15.258Z"
   },
   {
    "duration": 10,
    "start_time": "2021-10-31T09:56:15.270Z"
   },
   {
    "duration": 13,
    "start_time": "2021-10-31T09:56:15.282Z"
   },
   {
    "duration": 21,
    "start_time": "2021-10-31T09:56:15.297Z"
   },
   {
    "duration": 15,
    "start_time": "2021-10-31T09:56:15.319Z"
   },
   {
    "duration": 24,
    "start_time": "2021-10-31T09:56:15.336Z"
   },
   {
    "duration": 35,
    "start_time": "2021-10-31T09:56:15.362Z"
   },
   {
    "duration": 5,
    "start_time": "2021-10-31T09:56:15.399Z"
   },
   {
    "duration": 27,
    "start_time": "2021-10-31T09:56:15.406Z"
   },
   {
    "duration": 3,
    "start_time": "2021-10-31T09:56:15.435Z"
   },
   {
    "duration": 38,
    "start_time": "2021-10-31T09:56:15.439Z"
   },
   {
    "duration": 28,
    "start_time": "2021-10-31T09:56:15.479Z"
   },
   {
    "duration": 4,
    "start_time": "2021-10-31T09:56:15.509Z"
   },
   {
    "duration": 10,
    "start_time": "2021-10-31T09:56:15.515Z"
   },
   {
    "duration": 27,
    "start_time": "2021-10-31T09:56:15.526Z"
   },
   {
    "duration": 12,
    "start_time": "2021-10-31T09:56:15.555Z"
   },
   {
    "duration": 765,
    "start_time": "2021-10-31T09:56:15.569Z"
   },
   {
    "duration": 4,
    "start_time": "2021-10-31T09:56:16.336Z"
   },
   {
    "duration": 13,
    "start_time": "2021-10-31T09:56:16.342Z"
   },
   {
    "duration": 8,
    "start_time": "2021-10-31T09:56:16.357Z"
   },
   {
    "duration": 402,
    "start_time": "2021-10-31T09:56:16.366Z"
   },
   {
    "duration": 471,
    "start_time": "2021-10-31T09:56:16.770Z"
   },
   {
    "duration": 207,
    "start_time": "2021-10-31T09:56:17.243Z"
   },
   {
    "duration": 212,
    "start_time": "2021-10-31T09:56:17.452Z"
   },
   {
    "duration": 498,
    "start_time": "2021-10-31T09:56:17.666Z"
   },
   {
    "duration": 9,
    "start_time": "2021-10-31T09:56:18.166Z"
   },
   {
    "duration": 11,
    "start_time": "2021-10-31T09:56:18.177Z"
   },
   {
    "duration": 547,
    "start_time": "2021-10-31T09:56:18.189Z"
   },
   {
    "duration": 153,
    "start_time": "2021-10-31T09:56:18.737Z"
   },
   {
    "duration": 559,
    "start_time": "2021-10-31T09:56:18.892Z"
   },
   {
    "duration": 605,
    "start_time": "2021-10-31T09:56:19.454Z"
   },
   {
    "duration": 150,
    "start_time": "2021-10-31T09:56:39.117Z"
   },
   {
    "duration": 6,
    "start_time": "2021-10-31T10:01:10.733Z"
   },
   {
    "duration": 5,
    "start_time": "2021-10-31T10:01:15.399Z"
   },
   {
    "duration": 6,
    "start_time": "2021-10-31T10:01:36.799Z"
   },
   {
    "duration": 7,
    "start_time": "2021-10-31T10:01:56.386Z"
   },
   {
    "duration": 6,
    "start_time": "2021-10-31T10:02:46.894Z"
   },
   {
    "duration": 44,
    "start_time": "2021-10-31T10:02:56.298Z"
   },
   {
    "duration": 2712,
    "start_time": "2021-10-31T10:08:11.144Z"
   },
   {
    "duration": 2706,
    "start_time": "2021-10-31T10:08:11.152Z"
   },
   {
    "duration": 6,
    "start_time": "2021-10-31T10:08:17.354Z"
   },
   {
    "duration": 6,
    "start_time": "2021-10-31T10:08:18.090Z"
   },
   {
    "duration": 6,
    "start_time": "2021-10-31T10:08:18.797Z"
   },
   {
    "duration": 9,
    "start_time": "2021-10-31T10:08:19.739Z"
   },
   {
    "duration": 162,
    "start_time": "2021-10-31T10:08:20.785Z"
   },
   {
    "duration": 200,
    "start_time": "2021-10-31T10:08:57.809Z"
   },
   {
    "duration": 193,
    "start_time": "2021-10-31T10:09:22.570Z"
   },
   {
    "duration": 198,
    "start_time": "2021-10-31T10:09:49.715Z"
   },
   {
    "duration": 234,
    "start_time": "2021-10-31T10:10:09.693Z"
   },
   {
    "duration": 203,
    "start_time": "2021-10-31T10:10:14.042Z"
   },
   {
    "duration": 190,
    "start_time": "2021-10-31T10:10:41.682Z"
   },
   {
    "duration": 4,
    "start_time": "2021-10-31T10:11:50.827Z"
   },
   {
    "duration": 6,
    "start_time": "2021-10-31T10:12:27.426Z"
   },
   {
    "duration": 10,
    "start_time": "2021-10-31T10:12:40.823Z"
   },
   {
    "duration": 10,
    "start_time": "2021-10-31T10:12:50.388Z"
   },
   {
    "duration": 404,
    "start_time": "2021-10-31T10:14:35.024Z"
   },
   {
    "duration": 10,
    "start_time": "2021-10-31T10:16:59.243Z"
   },
   {
    "duration": 10,
    "start_time": "2021-10-31T10:17:33.988Z"
   },
   {
    "duration": 10,
    "start_time": "2021-10-31T10:18:12.106Z"
   },
   {
    "duration": 10,
    "start_time": "2021-10-31T10:18:26.801Z"
   },
   {
    "duration": 32,
    "start_time": "2021-10-31T10:22:42.613Z"
   },
   {
    "duration": 13,
    "start_time": "2021-10-31T10:22:48.394Z"
   },
   {
    "duration": 3,
    "start_time": "2021-10-31T10:24:25.098Z"
   },
   {
    "duration": 11,
    "start_time": "2021-10-31T10:24:29.258Z"
   },
   {
    "duration": 10,
    "start_time": "2021-10-31T10:24:51.241Z"
   },
   {
    "duration": 10,
    "start_time": "2021-10-31T10:24:59.376Z"
   },
   {
    "duration": 8,
    "start_time": "2021-10-31T10:25:06.834Z"
   },
   {
    "duration": 4,
    "start_time": "2021-10-31T10:25:18.488Z"
   },
   {
    "duration": 7,
    "start_time": "2021-10-31T10:25:22.127Z"
   },
   {
    "duration": 5,
    "start_time": "2021-10-31T10:25:37.204Z"
   },
   {
    "duration": 8,
    "start_time": "2021-10-31T10:25:40.471Z"
   },
   {
    "duration": 123,
    "start_time": "2021-10-31T10:28:07.797Z"
   },
   {
    "duration": 23,
    "start_time": "2021-10-31T10:28:16.907Z"
   },
   {
    "duration": 3,
    "start_time": "2021-10-31T10:28:31.920Z"
   },
   {
    "duration": 5,
    "start_time": "2021-10-31T10:28:38.699Z"
   },
   {
    "duration": 8,
    "start_time": "2021-10-31T10:28:42.583Z"
   },
   {
    "duration": 8,
    "start_time": "2021-10-31T10:28:46.225Z"
   },
   {
    "duration": 435,
    "start_time": "2021-10-31T10:29:20.251Z"
   },
   {
    "duration": 5,
    "start_time": "2021-10-31T10:29:31.140Z"
   },
   {
    "duration": 5,
    "start_time": "2021-10-31T10:29:45.596Z"
   },
   {
    "duration": 9,
    "start_time": "2021-10-31T10:32:06.832Z"
   },
   {
    "duration": 41,
    "start_time": "2021-10-31T10:32:10.905Z"
   },
   {
    "duration": 368,
    "start_time": "2021-10-31T10:35:40.783Z"
   },
   {
    "duration": 6,
    "start_time": "2021-10-31T10:36:05.662Z"
   },
   {
    "duration": 5,
    "start_time": "2021-10-31T10:36:32.535Z"
   },
   {
    "duration": 5,
    "start_time": "2021-10-31T10:36:44.717Z"
   },
   {
    "duration": 9,
    "start_time": "2021-10-31T10:38:49.631Z"
   },
   {
    "duration": 4,
    "start_time": "2021-10-31T10:38:50.354Z"
   },
   {
    "duration": 4,
    "start_time": "2021-10-31T10:41:03.783Z"
   },
   {
    "duration": 612,
    "start_time": "2021-10-31T10:41:03.789Z"
   },
   {
    "duration": 38,
    "start_time": "2021-10-31T10:41:04.404Z"
   },
   {
    "duration": 48,
    "start_time": "2021-10-31T10:41:04.445Z"
   },
   {
    "duration": 5,
    "start_time": "2021-10-31T10:41:04.496Z"
   },
   {
    "duration": 27,
    "start_time": "2021-10-31T10:41:04.504Z"
   },
   {
    "duration": 52,
    "start_time": "2021-10-31T10:41:04.534Z"
   },
   {
    "duration": 60,
    "start_time": "2021-10-31T10:41:04.590Z"
   },
   {
    "duration": 5,
    "start_time": "2021-10-31T10:41:04.653Z"
   },
   {
    "duration": 17,
    "start_time": "2021-10-31T10:41:04.660Z"
   },
   {
    "duration": 8,
    "start_time": "2021-10-31T10:41:04.679Z"
   },
   {
    "duration": 8,
    "start_time": "2021-10-31T10:41:04.689Z"
   },
   {
    "duration": 12,
    "start_time": "2021-10-31T10:41:04.699Z"
   },
   {
    "duration": 7,
    "start_time": "2021-10-31T10:41:04.713Z"
   },
   {
    "duration": 18,
    "start_time": "2021-10-31T10:41:04.722Z"
   },
   {
    "duration": 8,
    "start_time": "2021-10-31T10:41:04.742Z"
   },
   {
    "duration": 15,
    "start_time": "2021-10-31T10:41:04.752Z"
   },
   {
    "duration": 38,
    "start_time": "2021-10-31T10:41:04.769Z"
   },
   {
    "duration": 5,
    "start_time": "2021-10-31T10:41:04.809Z"
   },
   {
    "duration": 7,
    "start_time": "2021-10-31T10:41:04.816Z"
   },
   {
    "duration": 7,
    "start_time": "2021-10-31T10:41:04.825Z"
   },
   {
    "duration": 6,
    "start_time": "2021-10-31T10:41:04.833Z"
   },
   {
    "duration": 5,
    "start_time": "2021-10-31T10:41:04.843Z"
   },
   {
    "duration": 5,
    "start_time": "2021-10-31T10:41:04.850Z"
   },
   {
    "duration": 16,
    "start_time": "2021-10-31T10:41:04.857Z"
   },
   {
    "duration": 32,
    "start_time": "2021-10-31T10:41:04.875Z"
   },
   {
    "duration": 8,
    "start_time": "2021-10-31T10:41:04.909Z"
   },
   {
    "duration": 8,
    "start_time": "2021-10-31T10:41:04.919Z"
   },
   {
    "duration": 11,
    "start_time": "2021-10-31T10:41:04.928Z"
   },
   {
    "duration": 5,
    "start_time": "2021-10-31T10:41:04.940Z"
   },
   {
    "duration": 8,
    "start_time": "2021-10-31T10:41:04.946Z"
   },
   {
    "duration": 7,
    "start_time": "2021-10-31T10:41:04.955Z"
   },
   {
    "duration": 10,
    "start_time": "2021-10-31T10:41:04.963Z"
   },
   {
    "duration": 37,
    "start_time": "2021-10-31T10:41:04.975Z"
   },
   {
    "duration": 3,
    "start_time": "2021-10-31T10:41:05.014Z"
   },
   {
    "duration": 30,
    "start_time": "2021-10-31T10:41:05.018Z"
   },
   {
    "duration": 4,
    "start_time": "2021-10-31T10:41:05.051Z"
   },
   {
    "duration": 51,
    "start_time": "2021-10-31T10:41:05.057Z"
   },
   {
    "duration": 28,
    "start_time": "2021-10-31T10:41:05.109Z"
   },
   {
    "duration": 5,
    "start_time": "2021-10-31T10:41:05.139Z"
   },
   {
    "duration": 10,
    "start_time": "2021-10-31T10:41:05.146Z"
   },
   {
    "duration": 7,
    "start_time": "2021-10-31T10:41:05.158Z"
   },
   {
    "duration": 17,
    "start_time": "2021-10-31T10:41:05.167Z"
   },
   {
    "duration": 762,
    "start_time": "2021-10-31T10:41:05.186Z"
   },
   {
    "duration": 5,
    "start_time": "2021-10-31T10:41:05.950Z"
   },
   {
    "duration": 20,
    "start_time": "2021-10-31T10:41:05.956Z"
   },
   {
    "duration": 21,
    "start_time": "2021-10-31T10:41:05.978Z"
   },
   {
    "duration": 408,
    "start_time": "2021-10-31T10:41:06.001Z"
   },
   {
    "duration": 441,
    "start_time": "2021-10-31T10:41:06.411Z"
   },
   {
    "duration": 211,
    "start_time": "2021-10-31T10:41:06.854Z"
   },
   {
    "duration": 199,
    "start_time": "2021-10-31T10:41:07.067Z"
   },
   {
    "duration": 508,
    "start_time": "2021-10-31T10:41:07.268Z"
   },
   {
    "duration": 9,
    "start_time": "2021-10-31T10:41:07.778Z"
   },
   {
    "duration": 574,
    "start_time": "2021-10-31T10:41:07.788Z"
   },
   {
    "duration": 165,
    "start_time": "2021-10-31T10:41:08.364Z"
   },
   {
    "duration": 612,
    "start_time": "2021-10-31T10:41:08.531Z"
   },
   {
    "duration": 589,
    "start_time": "2021-10-31T10:41:09.145Z"
   },
   {
    "duration": 163,
    "start_time": "2021-10-31T10:41:09.737Z"
   },
   {
    "duration": 8,
    "start_time": "2021-10-31T10:41:09.907Z"
   },
   {
    "duration": 21,
    "start_time": "2021-10-31T10:41:09.917Z"
   },
   {
    "duration": 9,
    "start_time": "2021-10-31T10:41:09.940Z"
   },
   {
    "duration": 16,
    "start_time": "2021-10-31T10:41:09.951Z"
   },
   {
    "duration": 216,
    "start_time": "2021-10-31T10:41:09.969Z"
   },
   {
    "duration": 237,
    "start_time": "2021-10-31T10:41:10.188Z"
   },
   {
    "duration": 209,
    "start_time": "2021-10-31T10:41:10.427Z"
   },
   {
    "duration": 5,
    "start_time": "2021-10-31T10:41:10.639Z"
   },
   {
    "duration": 29,
    "start_time": "2021-10-31T10:41:10.646Z"
   },
   {
    "duration": 5,
    "start_time": "2021-10-31T10:41:10.681Z"
   },
   {
    "duration": 27,
    "start_time": "2021-10-31T10:41:10.688Z"
   },
   {
    "duration": 23,
    "start_time": "2021-10-31T10:41:10.717Z"
   },
   {
    "duration": 36,
    "start_time": "2021-10-31T10:41:10.742Z"
   },
   {
    "duration": 15,
    "start_time": "2021-10-31T10:41:10.780Z"
   },
   {
    "duration": 4,
    "start_time": "2021-10-31T10:41:15.804Z"
   },
   {
    "duration": 44,
    "start_time": "2021-10-31T10:45:00.421Z"
   },
   {
    "duration": 48,
    "start_time": "2021-10-31T10:45:23.563Z"
   },
   {
    "duration": 5,
    "start_time": "2021-10-31T10:45:28.046Z"
   },
   {
    "duration": 31,
    "start_time": "2021-10-31T10:45:38.731Z"
   },
   {
    "duration": 6,
    "start_time": "2021-10-31T10:46:41.003Z"
   },
   {
    "duration": 57,
    "start_time": "2021-10-31T10:46:51.163Z"
   },
   {
    "duration": 4,
    "start_time": "2021-10-31T10:48:41.880Z"
   },
   {
    "duration": 40,
    "start_time": "2021-10-31T10:48:42.736Z"
   },
   {
    "duration": 31,
    "start_time": "2021-10-31T10:48:58.466Z"
   },
   {
    "duration": 6,
    "start_time": "2021-10-31T10:49:04.429Z"
   },
   {
    "duration": 39,
    "start_time": "2021-10-31T10:49:07.040Z"
   },
   {
    "duration": 14,
    "start_time": "2021-10-31T10:51:27.903Z"
   },
   {
    "duration": 6,
    "start_time": "2021-10-31T10:52:35.314Z"
   },
   {
    "duration": 378,
    "start_time": "2021-10-31T10:54:12.098Z"
   },
   {
    "duration": 15,
    "start_time": "2021-10-31T10:55:57.944Z"
   },
   {
    "duration": 8659,
    "start_time": "2021-10-31T10:56:00.048Z"
   },
   {
    "duration": 17,
    "start_time": "2021-10-31T10:56:21.502Z"
   },
   {
    "duration": 360,
    "start_time": "2021-10-31T10:56:43.474Z"
   },
   {
    "duration": 18,
    "start_time": "2021-10-31T10:56:58.116Z"
   },
   {
    "duration": 284,
    "start_time": "2021-10-31T10:57:12.201Z"
   },
   {
    "duration": 515,
    "start_time": "2021-10-31T10:57:25.474Z"
   },
   {
    "duration": 290,
    "start_time": "2021-10-31T10:57:39.024Z"
   },
   {
    "duration": 541,
    "start_time": "2021-10-31T10:58:00.049Z"
   },
   {
    "duration": 311,
    "start_time": "2021-10-31T10:58:15.823Z"
   },
   {
    "duration": 513,
    "start_time": "2021-10-31T10:58:30.353Z"
   },
   {
    "duration": 665,
    "start_time": "2021-10-31T11:00:30.011Z"
   },
   {
    "duration": 573,
    "start_time": "2021-10-31T11:01:10.746Z"
   },
   {
    "duration": 513,
    "start_time": "2021-10-31T11:01:29.610Z"
   },
   {
    "duration": 320,
    "start_time": "2021-10-31T11:01:45.711Z"
   },
   {
    "duration": 307,
    "start_time": "2021-10-31T11:02:01.546Z"
   },
   {
    "duration": 362,
    "start_time": "2021-10-31T11:02:14.005Z"
   },
   {
    "duration": 531,
    "start_time": "2021-10-31T11:02:45.619Z"
   },
   {
    "duration": 363,
    "start_time": "2021-10-31T11:07:16.701Z"
   },
   {
    "duration": 115,
    "start_time": "2021-10-31T11:07:28.273Z"
   },
   {
    "duration": 326,
    "start_time": "2021-10-31T11:07:39.642Z"
   },
   {
    "duration": 40,
    "start_time": "2021-10-31T11:10:11.878Z"
   },
   {
    "duration": 6,
    "start_time": "2021-10-31T11:11:15.823Z"
   },
   {
    "duration": 5,
    "start_time": "2021-10-31T11:12:27.403Z"
   },
   {
    "duration": 397,
    "start_time": "2021-10-31T11:16:15.303Z"
   },
   {
    "duration": 400,
    "start_time": "2021-10-31T11:17:22.962Z"
   },
   {
    "duration": 423,
    "start_time": "2021-10-31T11:18:36.230Z"
   },
   {
    "duration": 180,
    "start_time": "2021-10-31T11:19:09.282Z"
   },
   {
    "duration": 179,
    "start_time": "2021-10-31T11:19:36.694Z"
   },
   {
    "duration": 502,
    "start_time": "2021-10-31T11:20:12.121Z"
   },
   {
    "duration": 156,
    "start_time": "2021-10-31T11:23:43.212Z"
   },
   {
    "duration": 2566,
    "start_time": "2021-10-31T11:23:51.196Z"
   },
   {
    "duration": 601,
    "start_time": "2021-10-31T11:24:59.047Z"
   },
   {
    "duration": 621,
    "start_time": "2021-10-31T11:25:54.261Z"
   },
   {
    "duration": 593,
    "start_time": "2021-10-31T11:25:59.361Z"
   },
   {
    "duration": 581,
    "start_time": "2021-10-31T11:26:03.200Z"
   },
   {
    "duration": 603,
    "start_time": "2021-10-31T11:26:26.722Z"
   },
   {
    "duration": 423,
    "start_time": "2021-10-31T11:27:21.588Z"
   },
   {
    "duration": 429,
    "start_time": "2021-10-31T11:27:45.500Z"
   },
   {
    "duration": 402,
    "start_time": "2021-10-31T11:30:44.012Z"
   },
   {
    "duration": 155,
    "start_time": "2021-10-31T11:30:53.529Z"
   },
   {
    "duration": 188,
    "start_time": "2021-10-31T11:31:17.876Z"
   },
   {
    "duration": 8,
    "start_time": "2021-10-31T11:34:05.692Z"
   },
   {
    "duration": 196,
    "start_time": "2021-10-31T11:34:06.870Z"
   },
   {
    "duration": 264,
    "start_time": "2021-10-31T11:34:11.718Z"
   },
   {
    "duration": 183,
    "start_time": "2021-10-31T11:34:14.674Z"
   },
   {
    "duration": 394,
    "start_time": "2021-11-02T13:51:46.806Z"
   },
   {
    "duration": 1518,
    "start_time": "2021-11-02T13:51:53.841Z"
   },
   {
    "duration": 462,
    "start_time": "2021-11-02T13:51:55.361Z"
   },
   {
    "duration": 25,
    "start_time": "2021-11-02T13:51:55.825Z"
   },
   {
    "duration": 31,
    "start_time": "2021-11-02T13:51:55.852Z"
   },
   {
    "duration": 3,
    "start_time": "2021-11-02T13:51:55.885Z"
   },
   {
    "duration": 26,
    "start_time": "2021-11-02T13:51:55.890Z"
   },
   {
    "duration": 28,
    "start_time": "2021-11-02T13:51:55.918Z"
   },
   {
    "duration": 25,
    "start_time": "2021-11-02T13:52:02.656Z"
   },
   {
    "duration": 5,
    "start_time": "2021-11-02T13:53:27.102Z"
   },
   {
    "duration": 7,
    "start_time": "2021-11-02T13:53:29.632Z"
   },
   {
    "duration": 7,
    "start_time": "2021-11-02T13:53:32.565Z"
   },
   {
    "duration": 11,
    "start_time": "2021-11-02T13:58:47.283Z"
   },
   {
    "duration": 122,
    "start_time": "2021-11-02T13:59:24.204Z"
   },
   {
    "duration": 6,
    "start_time": "2021-11-02T14:06:24.523Z"
   },
   {
    "duration": 10,
    "start_time": "2021-11-02T14:06:25.368Z"
   },
   {
    "duration": 5,
    "start_time": "2021-11-02T14:06:26.140Z"
   },
   {
    "duration": 10,
    "start_time": "2021-11-02T14:06:26.804Z"
   },
   {
    "duration": 5,
    "start_time": "2021-11-02T14:06:41.565Z"
   },
   {
    "duration": 6,
    "start_time": "2021-11-02T14:06:51.923Z"
   },
   {
    "duration": 3,
    "start_time": "2021-11-02T14:10:23.621Z"
   },
   {
    "duration": 553,
    "start_time": "2021-11-02T14:10:23.625Z"
   },
   {
    "duration": 29,
    "start_time": "2021-11-02T14:10:24.181Z"
   },
   {
    "duration": 15,
    "start_time": "2021-11-02T14:10:24.213Z"
   },
   {
    "duration": 13,
    "start_time": "2021-11-02T14:10:24.230Z"
   },
   {
    "duration": 27,
    "start_time": "2021-11-02T14:10:24.244Z"
   },
   {
    "duration": 33,
    "start_time": "2021-11-02T14:10:24.277Z"
   },
   {
    "duration": 24,
    "start_time": "2021-11-02T14:10:24.312Z"
   },
   {
    "duration": 5,
    "start_time": "2021-11-02T14:10:24.338Z"
   },
   {
    "duration": 17,
    "start_time": "2021-11-02T14:10:24.344Z"
   },
   {
    "duration": 28,
    "start_time": "2021-11-02T14:10:24.363Z"
   },
   {
    "duration": 20,
    "start_time": "2021-11-02T14:10:24.393Z"
   },
   {
    "duration": 12,
    "start_time": "2021-11-02T14:10:24.414Z"
   },
   {
    "duration": 17,
    "start_time": "2021-11-02T14:10:24.428Z"
   },
   {
    "duration": 20,
    "start_time": "2021-11-02T14:10:24.447Z"
   },
   {
    "duration": 19,
    "start_time": "2021-11-02T14:10:24.469Z"
   },
   {
    "duration": 15,
    "start_time": "2021-11-02T14:10:24.490Z"
   },
   {
    "duration": 13,
    "start_time": "2021-11-02T14:10:24.507Z"
   },
   {
    "duration": 6,
    "start_time": "2021-11-02T14:20:29.406Z"
   },
   {
    "duration": 5,
    "start_time": "2021-11-02T14:20:31.372Z"
   },
   {
    "duration": 6,
    "start_time": "2021-11-02T14:20:33.488Z"
   },
   {
    "duration": 5,
    "start_time": "2021-11-02T14:20:34.245Z"
   },
   {
    "duration": 4,
    "start_time": "2021-11-02T14:48:38.947Z"
   },
   {
    "duration": 430,
    "start_time": "2021-11-02T14:54:42.337Z"
   },
   {
    "duration": 5,
    "start_time": "2021-11-02T14:54:42.897Z"
   },
   {
    "duration": 3,
    "start_time": "2021-11-02T14:54:55.600Z"
   },
   {
    "duration": 465,
    "start_time": "2021-11-02T14:54:55.605Z"
   },
   {
    "duration": 23,
    "start_time": "2021-11-02T14:54:56.073Z"
   },
   {
    "duration": 12,
    "start_time": "2021-11-02T14:54:56.098Z"
   },
   {
    "duration": 4,
    "start_time": "2021-11-02T14:54:56.112Z"
   },
   {
    "duration": 11,
    "start_time": "2021-11-02T14:54:56.118Z"
   },
   {
    "duration": 62,
    "start_time": "2021-11-02T14:54:56.130Z"
   },
   {
    "duration": 26,
    "start_time": "2021-11-02T14:54:56.195Z"
   },
   {
    "duration": 5,
    "start_time": "2021-11-02T14:54:56.223Z"
   },
   {
    "duration": 10,
    "start_time": "2021-11-02T14:54:56.230Z"
   },
   {
    "duration": 35,
    "start_time": "2021-11-02T14:54:56.241Z"
   },
   {
    "duration": 6,
    "start_time": "2021-11-02T14:54:56.278Z"
   },
   {
    "duration": 16,
    "start_time": "2021-11-02T14:54:56.286Z"
   },
   {
    "duration": 15,
    "start_time": "2021-11-02T14:54:56.304Z"
   },
   {
    "duration": 27,
    "start_time": "2021-11-02T14:54:56.321Z"
   },
   {
    "duration": 11,
    "start_time": "2021-11-02T14:54:56.350Z"
   },
   {
    "duration": 16,
    "start_time": "2021-11-02T14:54:56.363Z"
   },
   {
    "duration": 16,
    "start_time": "2021-11-02T14:54:56.381Z"
   },
   {
    "duration": 7,
    "start_time": "2021-11-02T14:54:56.399Z"
   },
   {
    "duration": 17,
    "start_time": "2021-11-02T14:54:56.408Z"
   },
   {
    "duration": 19,
    "start_time": "2021-11-02T14:54:56.427Z"
   },
   {
    "duration": 13,
    "start_time": "2021-11-02T14:54:56.448Z"
   },
   {
    "duration": 14,
    "start_time": "2021-11-02T14:54:56.464Z"
   },
   {
    "duration": 12,
    "start_time": "2021-11-02T14:54:56.480Z"
   },
   {
    "duration": 11,
    "start_time": "2021-11-02T14:54:56.494Z"
   },
   {
    "duration": 4,
    "start_time": "2021-11-02T14:54:59.679Z"
   },
   {
    "duration": 5,
    "start_time": "2021-11-02T14:55:01.839Z"
   },
   {
    "duration": 4,
    "start_time": "2021-11-02T14:55:02.609Z"
   },
   {
    "duration": 4,
    "start_time": "2021-11-02T14:55:03.362Z"
   },
   {
    "duration": 5,
    "start_time": "2021-11-02T14:55:04.009Z"
   },
   {
    "duration": 5,
    "start_time": "2021-11-02T14:55:04.559Z"
   },
   {
    "duration": 4,
    "start_time": "2021-11-02T14:55:05.098Z"
   },
   {
    "duration": 9,
    "start_time": "2021-11-02T14:55:06.348Z"
   },
   {
    "duration": 8,
    "start_time": "2021-11-02T14:57:51.774Z"
   },
   {
    "duration": 18,
    "start_time": "2021-11-02T14:57:52.734Z"
   },
   {
    "duration": 15,
    "start_time": "2021-11-02T14:58:05.493Z"
   },
   {
    "duration": 14,
    "start_time": "2021-11-02T15:00:36.573Z"
   },
   {
    "duration": 3,
    "start_time": "2021-11-02T15:01:28.942Z"
   },
   {
    "duration": 25,
    "start_time": "2021-11-02T15:01:31.333Z"
   },
   {
    "duration": 4,
    "start_time": "2021-11-02T15:02:59.174Z"
   },
   {
    "duration": 23,
    "start_time": "2021-11-02T15:02:59.815Z"
   },
   {
    "duration": 23,
    "start_time": "2021-11-02T15:03:12.094Z"
   },
   {
    "duration": 23,
    "start_time": "2021-11-02T15:04:19.373Z"
   },
   {
    "duration": 4,
    "start_time": "2021-11-02T15:04:25.773Z"
   },
   {
    "duration": 9,
    "start_time": "2021-11-02T15:04:30.014Z"
   },
   {
    "duration": 5,
    "start_time": "2021-11-02T15:05:43.981Z"
   },
   {
    "duration": 5,
    "start_time": "2021-11-02T15:05:44.813Z"
   },
   {
    "duration": 3,
    "start_time": "2021-11-02T15:07:30.455Z"
   },
   {
    "duration": 4,
    "start_time": "2021-11-02T15:09:45.653Z"
   },
   {
    "duration": 4,
    "start_time": "2021-11-02T15:09:53.773Z"
   },
   {
    "duration": 423,
    "start_time": "2021-11-02T15:09:56.573Z"
   },
   {
    "duration": 1267,
    "start_time": "2021-11-03T12:08:18.844Z"
   },
   {
    "duration": 463,
    "start_time": "2021-11-03T12:08:20.113Z"
   },
   {
    "duration": 25,
    "start_time": "2021-11-03T12:08:20.578Z"
   },
   {
    "duration": 12,
    "start_time": "2021-11-03T12:08:20.606Z"
   },
   {
    "duration": 5,
    "start_time": "2021-11-03T12:08:20.620Z"
   },
   {
    "duration": 41,
    "start_time": "2021-11-03T12:08:20.628Z"
   },
   {
    "duration": 29,
    "start_time": "2021-11-03T12:08:20.671Z"
   },
   {
    "duration": 26,
    "start_time": "2021-11-03T12:08:20.703Z"
   },
   {
    "duration": 32,
    "start_time": "2021-11-03T12:08:20.733Z"
   },
   {
    "duration": 7,
    "start_time": "2021-11-03T12:08:20.767Z"
   },
   {
    "duration": 18,
    "start_time": "2021-11-03T12:08:20.775Z"
   },
   {
    "duration": 13,
    "start_time": "2021-11-03T12:08:20.795Z"
   },
   {
    "duration": 12,
    "start_time": "2021-11-03T12:08:20.809Z"
   },
   {
    "duration": 13,
    "start_time": "2021-11-03T12:08:20.823Z"
   },
   {
    "duration": 19,
    "start_time": "2021-11-03T12:08:20.838Z"
   },
   {
    "duration": 5,
    "start_time": "2021-11-03T12:08:20.858Z"
   },
   {
    "duration": 12,
    "start_time": "2021-11-03T12:08:20.864Z"
   },
   {
    "duration": 10,
    "start_time": "2021-11-03T12:08:20.877Z"
   },
   {
    "duration": 5,
    "start_time": "2021-11-03T12:08:20.888Z"
   },
   {
    "duration": 10,
    "start_time": "2021-11-03T12:08:20.894Z"
   },
   {
    "duration": 9,
    "start_time": "2021-11-03T12:08:20.905Z"
   },
   {
    "duration": 8,
    "start_time": "2021-11-03T12:08:20.915Z"
   },
   {
    "duration": 13,
    "start_time": "2021-11-03T12:08:20.925Z"
   },
   {
    "duration": 11,
    "start_time": "2021-11-03T12:08:20.940Z"
   },
   {
    "duration": 9,
    "start_time": "2021-11-03T12:08:27.320Z"
   },
   {
    "duration": 4,
    "start_time": "2021-11-03T12:08:47.053Z"
   },
   {
    "duration": 5,
    "start_time": "2021-11-03T12:08:47.434Z"
   },
   {
    "duration": 3,
    "start_time": "2021-11-03T12:08:47.843Z"
   },
   {
    "duration": 3,
    "start_time": "2021-11-03T12:08:48.099Z"
   },
   {
    "duration": 4,
    "start_time": "2021-11-03T12:08:48.451Z"
   },
   {
    "duration": 4,
    "start_time": "2021-11-03T12:08:48.883Z"
   },
   {
    "duration": 4,
    "start_time": "2021-11-03T12:08:49.253Z"
   },
   {
    "duration": 10,
    "start_time": "2021-11-03T12:09:00.923Z"
   },
   {
    "duration": 9,
    "start_time": "2021-11-03T12:09:50.932Z"
   },
   {
    "duration": 19,
    "start_time": "2021-11-03T12:09:51.784Z"
   },
   {
    "duration": 16,
    "start_time": "2021-11-03T12:10:10.300Z"
   },
   {
    "duration": 3,
    "start_time": "2021-11-03T12:10:16.620Z"
   },
   {
    "duration": 23,
    "start_time": "2021-11-03T12:10:19.703Z"
   },
   {
    "duration": 26,
    "start_time": "2021-11-03T12:10:24.025Z"
   },
   {
    "duration": 4,
    "start_time": "2021-11-03T12:10:29.535Z"
   },
   {
    "duration": 9,
    "start_time": "2021-11-03T12:10:31.634Z"
   },
   {
    "duration": 4,
    "start_time": "2021-11-03T12:10:31.894Z"
   },
   {
    "duration": 4,
    "start_time": "2021-11-03T12:10:34.122Z"
   },
   {
    "duration": 834,
    "start_time": "2021-11-03T12:10:42.511Z"
   },
   {
    "duration": 5,
    "start_time": "2021-11-03T12:10:44.463Z"
   },
   {
    "duration": 5,
    "start_time": "2021-11-03T12:10:45.657Z"
   },
   {
    "duration": 4,
    "start_time": "2021-11-03T12:10:49.457Z"
   },
   {
    "duration": 8,
    "start_time": "2021-11-03T12:21:05.535Z"
   },
   {
    "duration": 514,
    "start_time": "2021-11-03T12:38:56.847Z"
   },
   {
    "duration": 129,
    "start_time": "2021-11-03T12:44:35.432Z"
   },
   {
    "duration": 147,
    "start_time": "2021-11-03T12:44:44.624Z"
   },
   {
    "duration": 140,
    "start_time": "2021-11-03T12:46:13.288Z"
   },
   {
    "duration": 576,
    "start_time": "2021-11-03T12:47:49.960Z"
   },
   {
    "duration": 48,
    "start_time": "2021-11-03T12:48:43.951Z"
   },
   {
    "duration": 251,
    "start_time": "2021-11-03T12:49:38.190Z"
   },
   {
    "duration": 7,
    "start_time": "2021-11-03T12:50:14.746Z"
   },
   {
    "duration": 140,
    "start_time": "2021-11-03T12:50:28.247Z"
   },
   {
    "duration": 509,
    "start_time": "2021-11-03T12:50:49.395Z"
   },
   {
    "duration": 570,
    "start_time": "2021-11-03T12:51:40.705Z"
   },
   {
    "duration": 482,
    "start_time": "2021-11-03T13:04:05.867Z"
   },
   {
    "duration": 87,
    "start_time": "2021-11-03T13:07:16.537Z"
   },
   {
    "duration": 523,
    "start_time": "2021-11-03T13:09:20.043Z"
   },
   {
    "duration": 140,
    "start_time": "2021-11-03T13:09:37.556Z"
   },
   {
    "duration": 536,
    "start_time": "2021-11-03T13:09:42.938Z"
   },
   {
    "duration": 5,
    "start_time": "2021-11-03T13:13:24.233Z"
   },
   {
    "duration": 182,
    "start_time": "2021-11-03T13:13:52.593Z"
   },
   {
    "duration": 175,
    "start_time": "2021-11-03T13:14:13.774Z"
   },
   {
    "duration": 174,
    "start_time": "2021-11-03T13:16:05.378Z"
   },
   {
    "duration": 515,
    "start_time": "2021-11-03T13:19:58.417Z"
   },
   {
    "duration": 532,
    "start_time": "2021-11-03T13:20:29.900Z"
   },
   {
    "duration": 492,
    "start_time": "2021-11-03T13:21:56.590Z"
   },
   {
    "duration": 512,
    "start_time": "2021-11-03T13:22:07.317Z"
   },
   {
    "duration": 539,
    "start_time": "2021-11-03T13:22:25.017Z"
   },
   {
    "duration": 611,
    "start_time": "2021-11-03T13:22:30.955Z"
   },
   {
    "duration": 88,
    "start_time": "2021-11-03T13:29:56.264Z"
   },
   {
    "duration": 267,
    "start_time": "2021-11-03T13:30:01.195Z"
   },
   {
    "duration": 428,
    "start_time": "2021-11-03T13:30:26.351Z"
   },
   {
    "duration": 228,
    "start_time": "2021-11-03T13:32:17.848Z"
   },
   {
    "duration": 80,
    "start_time": "2021-11-03T13:35:42.211Z"
   },
   {
    "duration": 3,
    "start_time": "2021-11-03T13:35:46.304Z"
   },
   {
    "duration": 4,
    "start_time": "2021-11-03T13:35:56.605Z"
   },
   {
    "duration": 402,
    "start_time": "2021-11-03T13:40:21.496Z"
   },
   {
    "duration": 722,
    "start_time": "2021-11-03T13:41:15.275Z"
   },
   {
    "duration": 426,
    "start_time": "2021-11-03T13:41:28.119Z"
   },
   {
    "duration": 392,
    "start_time": "2021-11-03T13:42:40.788Z"
   },
   {
    "duration": 91,
    "start_time": "2021-11-03T14:06:27.417Z"
   },
   {
    "duration": 246,
    "start_time": "2021-11-03T14:06:36.497Z"
   },
   {
    "duration": 255,
    "start_time": "2021-11-03T14:09:13.703Z"
   },
   {
    "duration": 548,
    "start_time": "2021-11-03T14:09:50.320Z"
   },
   {
    "duration": 488,
    "start_time": "2021-11-03T14:10:33.655Z"
   },
   {
    "duration": 495,
    "start_time": "2021-11-03T14:10:51.284Z"
   },
   {
    "duration": 286,
    "start_time": "2021-11-03T14:11:17.373Z"
   },
   {
    "duration": 334,
    "start_time": "2021-11-03T14:15:42.005Z"
   },
   {
    "duration": 270,
    "start_time": "2021-11-03T14:15:53.744Z"
   },
   {
    "duration": 197,
    "start_time": "2021-11-03T14:16:22.017Z"
   },
   {
    "duration": 204,
    "start_time": "2021-11-03T14:16:53.101Z"
   },
   {
    "duration": 26,
    "start_time": "2021-11-03T14:16:58.684Z"
   },
   {
    "duration": 23,
    "start_time": "2021-11-03T14:17:33.676Z"
   },
   {
    "duration": 29,
    "start_time": "2021-11-03T14:17:52.150Z"
   },
   {
    "duration": 27,
    "start_time": "2021-11-03T14:20:13.400Z"
   },
   {
    "duration": 24,
    "start_time": "2021-11-03T14:21:23.801Z"
   },
   {
    "duration": 28,
    "start_time": "2021-11-03T14:21:31.549Z"
   },
   {
    "duration": 198,
    "start_time": "2021-11-03T14:21:43.171Z"
   },
   {
    "duration": 305,
    "start_time": "2021-11-03T14:26:14.631Z"
   },
   {
    "duration": 214,
    "start_time": "2021-11-03T14:27:28.956Z"
   },
   {
    "duration": 114,
    "start_time": "2021-11-03T14:27:29.988Z"
   },
   {
    "duration": 227,
    "start_time": "2021-11-03T14:28:30.524Z"
   },
   {
    "duration": 160,
    "start_time": "2021-11-03T14:28:58.661Z"
   },
   {
    "duration": 542,
    "start_time": "2021-11-03T14:31:42.764Z"
   },
   {
    "duration": 142,
    "start_time": "2021-11-03T14:32:33.276Z"
   },
   {
    "duration": 129,
    "start_time": "2021-11-03T14:35:41.192Z"
   },
   {
    "duration": 6,
    "start_time": "2021-11-03T14:37:25.271Z"
   },
   {
    "duration": 6,
    "start_time": "2021-11-03T14:37:26.131Z"
   },
   {
    "duration": 6,
    "start_time": "2021-11-03T14:37:27.618Z"
   },
   {
    "duration": 9,
    "start_time": "2021-11-03T14:37:36.115Z"
   },
   {
    "duration": 195,
    "start_time": "2021-11-03T14:37:39.864Z"
   },
   {
    "duration": 206,
    "start_time": "2021-11-03T14:37:55.577Z"
   },
   {
    "duration": 9,
    "start_time": "2021-11-03T14:39:24.756Z"
   },
   {
    "duration": 177,
    "start_time": "2021-11-03T14:39:27.488Z"
   },
   {
    "duration": 198,
    "start_time": "2021-11-03T14:41:34.160Z"
   },
   {
    "duration": 174,
    "start_time": "2021-11-03T14:43:51.845Z"
   },
   {
    "duration": 19,
    "start_time": "2021-11-03T14:44:53.531Z"
   },
   {
    "duration": 22,
    "start_time": "2021-11-03T15:11:00.364Z"
   },
   {
    "duration": 4,
    "start_time": "2021-11-03T15:11:25.860Z"
   },
   {
    "duration": 7,
    "start_time": "2021-11-03T15:11:28.124Z"
   },
   {
    "duration": 8,
    "start_time": "2021-11-03T15:11:31.099Z"
   },
   {
    "duration": 32,
    "start_time": "2021-11-03T15:14:51.237Z"
   },
   {
    "duration": 30,
    "start_time": "2021-11-03T15:15:03.677Z"
   },
   {
    "duration": 5,
    "start_time": "2021-11-03T15:15:12.473Z"
   },
   {
    "duration": 20,
    "start_time": "2021-11-03T15:15:55.090Z"
   },
   {
    "duration": 328,
    "start_time": "2021-11-03T15:15:58.869Z"
   },
   {
    "duration": 300,
    "start_time": "2021-11-03T15:16:17.109Z"
   },
   {
    "duration": 215,
    "start_time": "2021-11-03T15:16:47.393Z"
   },
   {
    "duration": 326,
    "start_time": "2021-11-03T15:16:53.991Z"
   },
   {
    "duration": 8,
    "start_time": "2021-11-03T15:19:21.770Z"
   },
   {
    "duration": 5,
    "start_time": "2021-11-03T15:19:23.634Z"
   },
   {
    "duration": 4,
    "start_time": "2021-11-03T15:19:57.455Z"
   },
   {
    "duration": 181,
    "start_time": "2021-11-03T15:19:58.181Z"
   },
   {
    "duration": 182,
    "start_time": "2021-11-03T15:20:12.092Z"
   },
   {
    "duration": 404,
    "start_time": "2021-11-03T15:20:15.172Z"
   },
   {
    "duration": 352,
    "start_time": "2021-11-03T15:20:21.420Z"
   },
   {
    "duration": 385,
    "start_time": "2021-11-03T15:20:25.261Z"
   },
   {
    "duration": 405,
    "start_time": "2021-11-03T15:21:10.116Z"
   },
   {
    "duration": 418,
    "start_time": "2021-11-03T15:21:19.848Z"
   },
   {
    "duration": 422,
    "start_time": "2021-11-03T15:21:27.531Z"
   },
   {
    "duration": 149,
    "start_time": "2021-11-03T15:21:41.664Z"
   },
   {
    "duration": 9,
    "start_time": "2021-11-03T15:21:46.167Z"
   },
   {
    "duration": 8,
    "start_time": "2021-11-03T15:22:02.800Z"
   },
   {
    "duration": 200,
    "start_time": "2021-11-03T15:22:03.777Z"
   },
   {
    "duration": 219,
    "start_time": "2021-11-03T15:22:07.194Z"
   },
   {
    "duration": 327,
    "start_time": "2021-11-03T15:22:10.395Z"
   },
   {
    "duration": 169,
    "start_time": "2021-11-03T15:26:27.202Z"
   },
   {
    "duration": 182,
    "start_time": "2021-11-03T15:26:31.718Z"
   },
   {
    "duration": 182,
    "start_time": "2021-11-03T15:26:39.534Z"
   },
   {
    "duration": 188,
    "start_time": "2021-11-03T15:26:44.495Z"
   },
   {
    "duration": 188,
    "start_time": "2021-11-03T15:26:57.863Z"
   },
   {
    "duration": 180,
    "start_time": "2021-11-03T15:27:12.459Z"
   },
   {
    "duration": 5,
    "start_time": "2021-11-03T15:27:18.355Z"
   },
   {
    "duration": 184,
    "start_time": "2021-11-03T15:27:52.115Z"
   },
   {
    "duration": 7,
    "start_time": "2021-11-03T15:28:19.888Z"
   },
   {
    "duration": 177,
    "start_time": "2021-11-03T15:28:58.237Z"
   },
   {
    "duration": 196,
    "start_time": "2021-11-03T15:29:04.989Z"
   },
   {
    "duration": 85,
    "start_time": "2021-11-03T15:29:56.405Z"
   },
   {
    "duration": 189,
    "start_time": "2021-11-03T15:30:03.942Z"
   },
   {
    "duration": 188,
    "start_time": "2021-11-03T15:30:14.530Z"
   },
   {
    "duration": 323,
    "start_time": "2021-11-03T15:30:19.418Z"
   },
   {
    "duration": 341,
    "start_time": "2021-11-03T15:30:35.137Z"
   },
   {
    "duration": 484,
    "start_time": "2021-11-03T15:30:48.875Z"
   },
   {
    "duration": 1107,
    "start_time": "2021-11-03T15:30:57.201Z"
   },
   {
    "duration": 315,
    "start_time": "2021-11-03T15:31:06.861Z"
   },
   {
    "duration": 335,
    "start_time": "2021-11-03T15:32:38.219Z"
   },
   {
    "duration": 332,
    "start_time": "2021-11-03T15:32:45.491Z"
   },
   {
    "duration": 332,
    "start_time": "2021-11-03T15:32:58.627Z"
   },
   {
    "duration": 421,
    "start_time": "2021-11-03T15:34:26.119Z"
   },
   {
    "duration": 758,
    "start_time": "2021-11-03T15:35:47.199Z"
   },
   {
    "duration": 551,
    "start_time": "2021-11-03T15:36:28.452Z"
   },
   {
    "duration": 552,
    "start_time": "2021-11-03T15:39:33.145Z"
   },
   {
    "duration": 85,
    "start_time": "2021-11-03T15:39:45.555Z"
   },
   {
    "duration": 550,
    "start_time": "2021-11-03T15:39:55.628Z"
   },
   {
    "duration": 93,
    "start_time": "2021-11-03T15:41:16.897Z"
   },
   {
    "duration": 566,
    "start_time": "2021-11-03T15:41:53.605Z"
   },
   {
    "duration": 589,
    "start_time": "2021-11-03T15:42:04.182Z"
   },
   {
    "duration": 576,
    "start_time": "2021-11-03T15:42:29.453Z"
   },
   {
    "duration": 581,
    "start_time": "2021-11-03T15:42:38.636Z"
   },
   {
    "duration": 100,
    "start_time": "2021-11-03T15:49:41.100Z"
   },
   {
    "duration": 397,
    "start_time": "2021-11-03T15:51:17.792Z"
   },
   {
    "duration": 370,
    "start_time": "2021-11-03T15:53:27.565Z"
   },
   {
    "duration": 214,
    "start_time": "2021-11-03T15:54:48.302Z"
   },
   {
    "duration": 82,
    "start_time": "2021-11-03T15:57:38.803Z"
   },
   {
    "duration": 14,
    "start_time": "2021-11-03T15:58:29.937Z"
   },
   {
    "duration": 13,
    "start_time": "2021-11-03T15:58:39.586Z"
   },
   {
    "duration": 13,
    "start_time": "2021-11-03T15:59:13.537Z"
   },
   {
    "duration": 406,
    "start_time": "2021-11-03T15:59:34.146Z"
   },
   {
    "duration": 163,
    "start_time": "2021-11-03T16:02:30.744Z"
   },
   {
    "duration": 145,
    "start_time": "2021-11-03T16:02:42.221Z"
   },
   {
    "duration": 138,
    "start_time": "2021-11-03T16:02:46.932Z"
   },
   {
    "duration": 83,
    "start_time": "2021-11-03T16:04:28.880Z"
   },
   {
    "duration": 8,
    "start_time": "2021-11-03T16:04:48.229Z"
   },
   {
    "duration": 182,
    "start_time": "2021-11-03T16:04:50.443Z"
   },
   {
    "duration": 180,
    "start_time": "2021-11-03T16:05:11.789Z"
   },
   {
    "duration": 203,
    "start_time": "2021-11-03T16:06:22.544Z"
   },
   {
    "duration": 191,
    "start_time": "2021-11-03T16:07:41.443Z"
   },
   {
    "duration": 600,
    "start_time": "2021-11-03T16:18:03.394Z"
   },
   {
    "duration": 464,
    "start_time": "2021-11-03T16:18:08.142Z"
   },
   {
    "duration": 139,
    "start_time": "2021-11-03T16:19:35.254Z"
   },
   {
    "duration": 6,
    "start_time": "2021-11-03T16:27:28.547Z"
   },
   {
    "duration": 6,
    "start_time": "2021-11-03T16:27:33.615Z"
   },
   {
    "duration": 291,
    "start_time": "2021-11-03T16:28:50.925Z"
   },
   {
    "duration": 7,
    "start_time": "2021-11-03T16:34:40.919Z"
   },
   {
    "duration": 8,
    "start_time": "2021-11-03T16:34:52.766Z"
   },
   {
    "duration": 9,
    "start_time": "2021-11-03T16:35:15.269Z"
   },
   {
    "duration": 8,
    "start_time": "2021-11-03T16:35:21.901Z"
   },
   {
    "duration": 3,
    "start_time": "2021-11-03T16:35:33.969Z"
   },
   {
    "duration": 674,
    "start_time": "2021-11-03T16:35:33.974Z"
   },
   {
    "duration": 28,
    "start_time": "2021-11-03T16:35:34.651Z"
   },
   {
    "duration": 14,
    "start_time": "2021-11-03T16:35:34.681Z"
   },
   {
    "duration": 4,
    "start_time": "2021-11-03T16:35:34.697Z"
   },
   {
    "duration": 11,
    "start_time": "2021-11-03T16:35:34.703Z"
   },
   {
    "duration": 51,
    "start_time": "2021-11-03T16:35:34.716Z"
   },
   {
    "duration": 24,
    "start_time": "2021-11-03T16:35:34.769Z"
   },
   {
    "duration": 5,
    "start_time": "2021-11-03T16:35:34.795Z"
   },
   {
    "duration": 8,
    "start_time": "2021-11-03T16:35:34.802Z"
   },
   {
    "duration": 8,
    "start_time": "2021-11-03T16:35:34.811Z"
   },
   {
    "duration": 8,
    "start_time": "2021-11-03T16:36:24.936Z"
   },
   {
    "duration": 7,
    "start_time": "2021-11-03T16:36:33.132Z"
   },
   {
    "duration": 6,
    "start_time": "2021-11-03T16:36:35.408Z"
   },
   {
    "duration": 3,
    "start_time": "2021-11-03T16:37:56.392Z"
   },
   {
    "duration": 433,
    "start_time": "2021-11-03T16:37:56.397Z"
   },
   {
    "duration": 31,
    "start_time": "2021-11-03T16:37:56.832Z"
   },
   {
    "duration": 12,
    "start_time": "2021-11-03T16:37:56.865Z"
   },
   {
    "duration": 4,
    "start_time": "2021-11-03T16:37:56.879Z"
   },
   {
    "duration": 19,
    "start_time": "2021-11-03T16:37:56.885Z"
   },
   {
    "duration": 25,
    "start_time": "2021-11-03T16:37:56.906Z"
   },
   {
    "duration": 48,
    "start_time": "2021-11-03T16:37:56.933Z"
   },
   {
    "duration": 5,
    "start_time": "2021-11-03T16:37:56.983Z"
   },
   {
    "duration": 12,
    "start_time": "2021-11-03T16:37:56.989Z"
   },
   {
    "duration": 10,
    "start_time": "2021-11-03T16:37:57.003Z"
   },
   {
    "duration": 8,
    "start_time": "2021-11-03T16:38:01.202Z"
   },
   {
    "duration": 8,
    "start_time": "2021-11-03T16:38:08.848Z"
   },
   {
    "duration": 11,
    "start_time": "2021-11-03T16:38:08.858Z"
   },
   {
    "duration": 13,
    "start_time": "2021-11-03T16:38:08.871Z"
   },
   {
    "duration": 6,
    "start_time": "2021-11-03T16:38:08.886Z"
   },
   {
    "duration": 13,
    "start_time": "2021-11-03T16:38:08.894Z"
   },
   {
    "duration": 8,
    "start_time": "2021-11-03T16:38:08.909Z"
   },
   {
    "duration": 44,
    "start_time": "2021-11-03T16:38:08.919Z"
   },
   {
    "duration": 11,
    "start_time": "2021-11-03T16:38:08.965Z"
   },
   {
    "duration": 5,
    "start_time": "2021-11-03T16:38:08.979Z"
   },
   {
    "duration": 8,
    "start_time": "2021-11-03T16:38:08.986Z"
   },
   {
    "duration": 11,
    "start_time": "2021-11-03T16:38:08.996Z"
   },
   {
    "duration": 10,
    "start_time": "2021-11-03T16:38:09.009Z"
   },
   {
    "duration": 14,
    "start_time": "2021-11-03T16:38:09.021Z"
   },
   {
    "duration": 5,
    "start_time": "2021-11-03T16:38:09.063Z"
   },
   {
    "duration": 13,
    "start_time": "2021-11-03T16:38:09.069Z"
   },
   {
    "duration": 9,
    "start_time": "2021-11-03T16:38:09.084Z"
   },
   {
    "duration": 9,
    "start_time": "2021-11-03T16:38:09.095Z"
   },
   {
    "duration": 8,
    "start_time": "2021-11-03T16:38:09.106Z"
   },
   {
    "duration": 10,
    "start_time": "2021-11-03T16:38:09.115Z"
   },
   {
    "duration": 11,
    "start_time": "2021-11-03T16:38:09.126Z"
   },
   {
    "duration": 11,
    "start_time": "2021-11-03T16:38:09.139Z"
   },
   {
    "duration": 4,
    "start_time": "2021-11-03T16:38:09.163Z"
   },
   {
    "duration": 15,
    "start_time": "2021-11-03T16:38:09.169Z"
   },
   {
    "duration": 28,
    "start_time": "2021-11-03T16:38:09.186Z"
   },
   {
    "duration": 20,
    "start_time": "2021-11-03T16:38:09.216Z"
   },
   {
    "duration": 5,
    "start_time": "2021-11-03T16:38:09.238Z"
   },
   {
    "duration": 42,
    "start_time": "2021-11-03T16:38:09.248Z"
   },
   {
    "duration": 26,
    "start_time": "2021-11-03T16:38:09.293Z"
   },
   {
    "duration": 4,
    "start_time": "2021-11-03T16:38:09.321Z"
   },
   {
    "duration": 13,
    "start_time": "2021-11-03T16:38:09.327Z"
   },
   {
    "duration": 5,
    "start_time": "2021-11-03T16:38:09.363Z"
   },
   {
    "duration": 12,
    "start_time": "2021-11-03T16:38:09.369Z"
   },
   {
    "duration": 870,
    "start_time": "2021-11-03T16:38:09.382Z"
   },
   {
    "duration": 9,
    "start_time": "2021-11-03T16:38:10.254Z"
   },
   {
    "duration": 11,
    "start_time": "2021-11-03T16:38:10.265Z"
   },
   {
    "duration": 7,
    "start_time": "2021-11-03T16:38:10.278Z"
   },
   {
    "duration": 433,
    "start_time": "2021-11-03T16:38:10.287Z"
   },
   {
    "duration": 765,
    "start_time": "2021-11-03T16:38:10.722Z"
   },
   {
    "duration": 341,
    "start_time": "2021-11-03T16:38:11.489Z"
   },
   {
    "duration": 347,
    "start_time": "2021-11-03T16:38:11.832Z"
   },
   {
    "duration": 517,
    "start_time": "2021-11-03T16:38:12.181Z"
   },
   {
    "duration": 10,
    "start_time": "2021-11-03T16:38:12.700Z"
   },
   {
    "duration": 164,
    "start_time": "2021-11-03T16:38:12.712Z"
   },
   {
    "duration": 524,
    "start_time": "2021-11-03T16:38:12.879Z"
   },
   {
    "duration": 669,
    "start_time": "2021-11-03T16:38:13.406Z"
   },
   {
    "duration": 533,
    "start_time": "2021-11-03T16:38:14.077Z"
   },
   {
    "duration": 221,
    "start_time": "2021-11-03T16:38:14.613Z"
   },
   {
    "duration": 170,
    "start_time": "2021-11-03T16:38:14.836Z"
   },
   {
    "duration": 527,
    "start_time": "2021-11-03T16:38:15.008Z"
   },
   {
    "duration": 139,
    "start_time": "2021-11-03T16:38:15.537Z"
   },
   {
    "duration": 7,
    "start_time": "2021-11-03T16:38:15.678Z"
   },
   {
    "duration": 6,
    "start_time": "2021-11-03T16:38:15.687Z"
   },
   {
    "duration": 6,
    "start_time": "2021-11-03T16:38:15.695Z"
   },
   {
    "duration": 13,
    "start_time": "2021-11-03T16:38:15.703Z"
   },
   {
    "duration": 220,
    "start_time": "2021-11-03T16:38:15.718Z"
   },
   {
    "duration": 223,
    "start_time": "2021-11-03T16:38:15.940Z"
   },
   {
    "duration": 182,
    "start_time": "2021-11-03T16:38:16.165Z"
   },
   {
    "duration": 33,
    "start_time": "2021-11-03T16:38:16.349Z"
   },
   {
    "duration": 3,
    "start_time": "2021-11-03T16:38:16.384Z"
   },
   {
    "duration": 8,
    "start_time": "2021-11-03T16:38:16.389Z"
   },
   {
    "duration": 11,
    "start_time": "2021-11-03T16:38:16.399Z"
   },
   {
    "duration": 5,
    "start_time": "2021-11-03T16:38:16.412Z"
   },
   {
    "duration": 9,
    "start_time": "2021-11-03T16:38:16.419Z"
   },
   {
    "duration": 39,
    "start_time": "2021-11-03T16:38:16.429Z"
   },
   {
    "duration": 4,
    "start_time": "2021-11-03T16:38:16.470Z"
   },
   {
    "duration": 21,
    "start_time": "2021-11-03T16:38:16.476Z"
   },
   {
    "duration": 218,
    "start_time": "2021-11-03T16:38:16.499Z"
   },
   {
    "duration": 7,
    "start_time": "2021-11-03T16:38:16.718Z"
   },
   {
    "duration": 8,
    "start_time": "2021-11-03T16:38:16.727Z"
   },
   {
    "duration": 323,
    "start_time": "2021-11-03T16:38:16.737Z"
   },
   {
    "duration": 572,
    "start_time": "2021-11-03T16:38:17.062Z"
   },
   {
    "duration": 537,
    "start_time": "2021-11-03T16:38:17.636Z"
   },
   {
    "duration": 374,
    "start_time": "2021-11-03T16:38:18.175Z"
   },
   {
    "duration": 392,
    "start_time": "2021-11-03T16:38:18.551Z"
   },
   {
    "duration": 397,
    "start_time": "2021-11-03T16:38:18.946Z"
   },
   {
    "duration": 217,
    "start_time": "2021-11-03T16:38:19.346Z"
   },
   {
    "duration": 360,
    "start_time": "2021-11-03T16:38:19.565Z"
   },
   {
    "duration": 145,
    "start_time": "2021-11-03T16:38:19.927Z"
   },
   {
    "duration": 10,
    "start_time": "2021-11-03T16:38:20.074Z"
   },
   {
    "duration": 199,
    "start_time": "2021-11-03T16:38:20.086Z"
   },
   {
    "duration": 218,
    "start_time": "2021-11-03T16:38:20.291Z"
   },
   {
    "duration": 188,
    "start_time": "2021-11-03T16:38:20.512Z"
   },
   {
    "duration": 8,
    "start_time": "2021-11-03T16:39:35.396Z"
   },
   {
    "duration": 7,
    "start_time": "2021-11-03T16:39:49.234Z"
   },
   {
    "duration": 551,
    "start_time": "2021-11-03T17:02:55.597Z"
   }
  ],
  "kernelspec": {
   "display_name": "Python 3",
   "language": "python",
   "name": "python3"
  },
  "language_info": {
   "codemirror_mode": {
    "name": "ipython",
    "version": 3
   },
   "file_extension": ".py",
   "mimetype": "text/x-python",
   "name": "python",
   "nbconvert_exporter": "python",
   "pygments_lexer": "ipython3",
   "version": "3.7.8"
  },
  "toc": {
   "base_numbering": 1,
   "nav_menu": {},
   "number_sections": true,
   "sideBar": true,
   "skip_h1_title": true,
   "title_cell": "Содержание",
   "title_sidebar": "Contents",
   "toc_cell": true,
   "toc_position": {},
   "toc_section_display": true,
   "toc_window_display": true
  }
 },
 "nbformat": 4,
 "nbformat_minor": 2
}

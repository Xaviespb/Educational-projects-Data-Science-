{
 "cells": [
  {
   "cell_type": "markdown",
   "metadata": {},
   "source": [
    "# Выбор локации для скважины"
   ]
  },
  {
   "cell_type": "markdown",
   "metadata": {},
   "source": [
    "Нужно решить, где бурить новую скважину.\n",
    "\n",
    "Вам предоставлены пробы нефти в трёх регионах: в каждом 10 000 месторождений, где измерили качество нефти и объём её запасов. Постройте модель машинного обучения, которая поможет определить регион, где добыча принесёт наибольшую прибыль. Проанализируйте возможную прибыль и риски техникой *Bootstrap.*\n",
    "\n",
    "Шаги для выбора локации:\n",
    "\n",
    "- В избранном регионе ищут месторождения, для каждого определяют значения признаков;\n",
    "- Строят модель и оценивают объём запасов;\n",
    "- Выбирают месторождения с самым высокими оценками значений. Количество месторождений зависит от бюджета компании и стоимости разработки одной скважины;\n",
    "- Прибыль равна суммарной прибыли отобранных месторождений."
   ]
  },
  {
   "cell_type": "markdown",
   "metadata": {},
   "source": [
    "## Загрузка и подготовка данных"
   ]
  },
  {
   "cell_type": "code",
   "execution_count": 1,
   "metadata": {},
   "outputs": [],
   "source": [
    "import pandas as pd\n",
    "from sklearn.model_selection import train_test_split, GridSearchCV\n",
    "from sklearn.linear_model import LinearRegression\n",
    "from sklearn.metrics import mean_squared_error\n",
    "import matplotlib.pyplot as plt\n",
    "import seaborn as sns\n",
    "from mpl_toolkits import mplot3d\n",
    "import numpy as np\n",
    "from scipy import stats as st\n",
    "pd.set_option('display.float_format', '{:,.2f}'.format)"
   ]
  },
  {
   "cell_type": "markdown",
   "metadata": {},
   "source": [
    "Загрузим данные"
   ]
  },
  {
   "cell_type": "code",
   "execution_count": 2,
   "metadata": {},
   "outputs": [],
   "source": [
    "df_0 = pd.read_csv('/datasets/geo_data_0.csv')\n",
    "df_1 = pd.read_csv('/datasets/geo_data_1.csv')\n",
    "df_2 = pd.read_csv('/datasets/geo_data_2.csv')"
   ]
  },
  {
   "cell_type": "code",
   "execution_count": null,
   "metadata": {
    "collapsed": false,
    "pycharm": {
     "name": "#%%\n"
    }
   },
   "outputs": [],
   "source": []
  },
  {
   "cell_type": "code",
   "execution_count": 3,
   "metadata": {},
   "outputs": [
    {
     "data": {
      "text/html": [
       "<div>\n",
       "<style scoped>\n",
       "    .dataframe tbody tr th:only-of-type {\n",
       "        vertical-align: middle;\n",
       "    }\n",
       "\n",
       "    .dataframe tbody tr th {\n",
       "        vertical-align: top;\n",
       "    }\n",
       "\n",
       "    .dataframe thead th {\n",
       "        text-align: right;\n",
       "    }\n",
       "</style>\n",
       "<table border=\"1\" class=\"dataframe\">\n",
       "  <thead>\n",
       "    <tr style=\"text-align: right;\">\n",
       "      <th></th>\n",
       "      <th>id</th>\n",
       "      <th>f0</th>\n",
       "      <th>f1</th>\n",
       "      <th>f2</th>\n",
       "      <th>product</th>\n",
       "    </tr>\n",
       "  </thead>\n",
       "  <tbody>\n",
       "    <tr>\n",
       "      <td>0</td>\n",
       "      <td>txEyH</td>\n",
       "      <td>0.71</td>\n",
       "      <td>-0.50</td>\n",
       "      <td>1.22</td>\n",
       "      <td>105.28</td>\n",
       "    </tr>\n",
       "    <tr>\n",
       "      <td>1</td>\n",
       "      <td>2acmU</td>\n",
       "      <td>1.33</td>\n",
       "      <td>-0.34</td>\n",
       "      <td>4.37</td>\n",
       "      <td>73.04</td>\n",
       "    </tr>\n",
       "    <tr>\n",
       "      <td>2</td>\n",
       "      <td>409Wp</td>\n",
       "      <td>1.02</td>\n",
       "      <td>0.15</td>\n",
       "      <td>1.42</td>\n",
       "      <td>85.27</td>\n",
       "    </tr>\n",
       "    <tr>\n",
       "      <td>3</td>\n",
       "      <td>iJLyR</td>\n",
       "      <td>-0.03</td>\n",
       "      <td>0.14</td>\n",
       "      <td>2.98</td>\n",
       "      <td>168.62</td>\n",
       "    </tr>\n",
       "    <tr>\n",
       "      <td>4</td>\n",
       "      <td>Xdl7t</td>\n",
       "      <td>1.99</td>\n",
       "      <td>0.16</td>\n",
       "      <td>4.75</td>\n",
       "      <td>154.04</td>\n",
       "    </tr>\n",
       "  </tbody>\n",
       "</table>\n",
       "</div>"
      ],
      "text/plain": [
       "      id    f0    f1   f2  product\n",
       "0  txEyH  0.71 -0.50 1.22   105.28\n",
       "1  2acmU  1.33 -0.34 4.37    73.04\n",
       "2  409Wp  1.02  0.15 1.42    85.27\n",
       "3  iJLyR -0.03  0.14 2.98   168.62\n",
       "4  Xdl7t  1.99  0.16 4.75   154.04"
      ]
     },
     "execution_count": 3,
     "metadata": {},
     "output_type": "execute_result"
    }
   ],
   "source": [
    "df_0.head()"
   ]
  },
  {
   "cell_type": "code",
   "execution_count": 4,
   "metadata": {},
   "outputs": [
    {
     "data": {
      "text/html": [
       "<div>\n",
       "<style scoped>\n",
       "    .dataframe tbody tr th:only-of-type {\n",
       "        vertical-align: middle;\n",
       "    }\n",
       "\n",
       "    .dataframe tbody tr th {\n",
       "        vertical-align: top;\n",
       "    }\n",
       "\n",
       "    .dataframe thead th {\n",
       "        text-align: right;\n",
       "    }\n",
       "</style>\n",
       "<table border=\"1\" class=\"dataframe\">\n",
       "  <thead>\n",
       "    <tr style=\"text-align: right;\">\n",
       "      <th></th>\n",
       "      <th>id</th>\n",
       "      <th>f0</th>\n",
       "      <th>f1</th>\n",
       "      <th>f2</th>\n",
       "      <th>product</th>\n",
       "    </tr>\n",
       "  </thead>\n",
       "  <tbody>\n",
       "    <tr>\n",
       "      <td>0</td>\n",
       "      <td>kBEdx</td>\n",
       "      <td>-15.00</td>\n",
       "      <td>-8.28</td>\n",
       "      <td>-0.01</td>\n",
       "      <td>3.18</td>\n",
       "    </tr>\n",
       "    <tr>\n",
       "      <td>1</td>\n",
       "      <td>62mP7</td>\n",
       "      <td>14.27</td>\n",
       "      <td>-3.48</td>\n",
       "      <td>1.00</td>\n",
       "      <td>26.95</td>\n",
       "    </tr>\n",
       "    <tr>\n",
       "      <td>2</td>\n",
       "      <td>vyE1P</td>\n",
       "      <td>6.26</td>\n",
       "      <td>-5.95</td>\n",
       "      <td>5.00</td>\n",
       "      <td>134.77</td>\n",
       "    </tr>\n",
       "    <tr>\n",
       "      <td>3</td>\n",
       "      <td>KcrkZ</td>\n",
       "      <td>-13.08</td>\n",
       "      <td>-11.51</td>\n",
       "      <td>5.00</td>\n",
       "      <td>137.95</td>\n",
       "    </tr>\n",
       "    <tr>\n",
       "      <td>4</td>\n",
       "      <td>AHL4O</td>\n",
       "      <td>12.70</td>\n",
       "      <td>-8.15</td>\n",
       "      <td>5.00</td>\n",
       "      <td>134.77</td>\n",
       "    </tr>\n",
       "  </tbody>\n",
       "</table>\n",
       "</div>"
      ],
      "text/plain": [
       "      id     f0     f1    f2  product\n",
       "0  kBEdx -15.00  -8.28 -0.01     3.18\n",
       "1  62mP7  14.27  -3.48  1.00    26.95\n",
       "2  vyE1P   6.26  -5.95  5.00   134.77\n",
       "3  KcrkZ -13.08 -11.51  5.00   137.95\n",
       "4  AHL4O  12.70  -8.15  5.00   134.77"
      ]
     },
     "execution_count": 4,
     "metadata": {},
     "output_type": "execute_result"
    }
   ],
   "source": [
    "df_1.head()"
   ]
  },
  {
   "cell_type": "code",
   "execution_count": 5,
   "metadata": {
    "scrolled": true
   },
   "outputs": [
    {
     "data": {
      "text/html": [
       "<div>\n",
       "<style scoped>\n",
       "    .dataframe tbody tr th:only-of-type {\n",
       "        vertical-align: middle;\n",
       "    }\n",
       "\n",
       "    .dataframe tbody tr th {\n",
       "        vertical-align: top;\n",
       "    }\n",
       "\n",
       "    .dataframe thead th {\n",
       "        text-align: right;\n",
       "    }\n",
       "</style>\n",
       "<table border=\"1\" class=\"dataframe\">\n",
       "  <thead>\n",
       "    <tr style=\"text-align: right;\">\n",
       "      <th></th>\n",
       "      <th>id</th>\n",
       "      <th>f0</th>\n",
       "      <th>f1</th>\n",
       "      <th>f2</th>\n",
       "      <th>product</th>\n",
       "    </tr>\n",
       "  </thead>\n",
       "  <tbody>\n",
       "    <tr>\n",
       "      <td>0</td>\n",
       "      <td>fwXo0</td>\n",
       "      <td>-1.15</td>\n",
       "      <td>0.96</td>\n",
       "      <td>-0.83</td>\n",
       "      <td>27.76</td>\n",
       "    </tr>\n",
       "    <tr>\n",
       "      <td>1</td>\n",
       "      <td>WJtFt</td>\n",
       "      <td>0.26</td>\n",
       "      <td>0.27</td>\n",
       "      <td>-2.53</td>\n",
       "      <td>56.07</td>\n",
       "    </tr>\n",
       "    <tr>\n",
       "      <td>2</td>\n",
       "      <td>ovLUW</td>\n",
       "      <td>0.19</td>\n",
       "      <td>0.29</td>\n",
       "      <td>-5.59</td>\n",
       "      <td>62.87</td>\n",
       "    </tr>\n",
       "    <tr>\n",
       "      <td>3</td>\n",
       "      <td>q6cA6</td>\n",
       "      <td>2.24</td>\n",
       "      <td>-0.55</td>\n",
       "      <td>0.93</td>\n",
       "      <td>114.57</td>\n",
       "    </tr>\n",
       "    <tr>\n",
       "      <td>4</td>\n",
       "      <td>WPMUX</td>\n",
       "      <td>-0.52</td>\n",
       "      <td>1.72</td>\n",
       "      <td>5.90</td>\n",
       "      <td>149.60</td>\n",
       "    </tr>\n",
       "  </tbody>\n",
       "</table>\n",
       "</div>"
      ],
      "text/plain": [
       "      id    f0    f1    f2  product\n",
       "0  fwXo0 -1.15  0.96 -0.83    27.76\n",
       "1  WJtFt  0.26  0.27 -2.53    56.07\n",
       "2  ovLUW  0.19  0.29 -5.59    62.87\n",
       "3  q6cA6  2.24 -0.55  0.93   114.57\n",
       "4  WPMUX -0.52  1.72  5.90   149.60"
      ]
     },
     "execution_count": 5,
     "metadata": {},
     "output_type": "execute_result"
    }
   ],
   "source": [
    "df_2.head()"
   ]
  },
  {
   "cell_type": "markdown",
   "metadata": {},
   "source": [
    "Проверим данные на пропуски"
   ]
  },
  {
   "cell_type": "code",
   "execution_count": 6,
   "metadata": {
    "scrolled": true
   },
   "outputs": [
    {
     "data": {
      "text/plain": [
       "id         0\n",
       "f0         0\n",
       "f1         0\n",
       "f2         0\n",
       "product    0\n",
       "dtype: int64"
      ]
     },
     "execution_count": 6,
     "metadata": {},
     "output_type": "execute_result"
    }
   ],
   "source": [
    "df_0.isna().sum()"
   ]
  },
  {
   "cell_type": "code",
   "execution_count": 7,
   "metadata": {},
   "outputs": [
    {
     "data": {
      "text/plain": [
       "id         0\n",
       "f0         0\n",
       "f1         0\n",
       "f2         0\n",
       "product    0\n",
       "dtype: int64"
      ]
     },
     "execution_count": 7,
     "metadata": {},
     "output_type": "execute_result"
    }
   ],
   "source": [
    "df_1.isna().sum()"
   ]
  },
  {
   "cell_type": "code",
   "execution_count": 8,
   "metadata": {
    "scrolled": true
   },
   "outputs": [
    {
     "data": {
      "text/plain": [
       "id         0\n",
       "f0         0\n",
       "f1         0\n",
       "f2         0\n",
       "product    0\n",
       "dtype: int64"
      ]
     },
     "execution_count": 8,
     "metadata": {},
     "output_type": "execute_result"
    }
   ],
   "source": [
    "df_2.isna().sum()"
   ]
  },
  {
   "cell_type": "code",
   "execution_count": 9,
   "metadata": {},
   "outputs": [],
   "source": [
    "def plot3d(df):\n",
    "    fig = plt.figure(figsize = (10, 7))\n",
    "    ax = fig.add_subplot(projection='3d')\n",
    "\n",
    "    n = 100\n",
    "    xs = df['f0']\n",
    "    ys = df['f1']\n",
    "    zs = df['f2']\n",
    "    ax.scatter(xs, ys, zs, color = \"green\", alpha = 0.1, marker = '.')\n",
    "\n",
    "    ax.set_xlabel('f0')\n",
    "    ax.set_ylabel('f1')\n",
    "    ax.set_zlabel('f2')\n",
    "    plt.title(\"Пространство признаков\")\n",
    "\n",
    "    plt.show()"
   ]
  },
  {
   "cell_type": "code",
   "execution_count": 10,
   "metadata": {},
   "outputs": [
    {
     "data": {
      "image/png": "[encoded data removed]",
      "text/plain": [
       "<Figure size 720x504 with 1 Axes>"
      ]
     },
     "metadata": {
      "needs_background": "light"
     },
     "output_type": "display_data"
    }
   ],
   "source": [
    "plot3d(df_0)"
   ]
  },
  {
   "cell_type": "code",
   "execution_count": 11,
   "metadata": {},
   "outputs": [
    {
     "data": {
      "image/png": "[encoded data removed]",
      "text/plain": [
       "<Figure size 720x504 with 1 Axes>"
      ]
     },
     "metadata": {
      "needs_background": "light"
     },
     "output_type": "display_data"
    }
   ],
   "source": [
    "plot3d(df_1)"
   ]
  },
  {
   "cell_type": "code",
   "execution_count": 12,
   "metadata": {},
   "outputs": [
    {
     "data": {
      "image/png": "[encoded data removed]",
      "text/plain": [
       "<Figure size 720x504 with 1 Axes>"
      ]
     },
     "metadata": {
      "needs_background": "light"
     },
     "output_type": "display_data"
    }
   ],
   "source": [
    "plot3d(df_2)"
   ]
  },
  {
   "cell_type": "markdown",
   "metadata": {},
   "source": [
    "Пропусков нет, тип данных int64"
   ]
  },
  {
   "cell_type": "markdown",
   "metadata": {},
   "source": [
    "## Обучение и проверка модели"
   ]
  },
  {
   "cell_type": "markdown",
   "metadata": {},
   "source": [
    "Напишем функцию, которая:\n",
    "- разделит выборку на признаки и целевой признак <br>\n",
    "- выделит валидационную выборку (75:25)\n",
    "- обучит модель и сделает предсказания на валидационной выборке (lr)\n",
    "- сохранит предсказания и правильные ответы на валидационной выборке (predicted_valid, target_valid)\n",
    "- напечатает на экране средний запас предсказанного сырья и RMSE модели"
   ]
  },
  {
   "cell_type": "code",
   "execution_count": 13,
   "metadata": {},
   "outputs": [],
   "source": [
    "def region_model(df):\n",
    "    target = df['product']\n",
    "    features = df.drop(['product', 'id'] , axis=1)\n",
    "    features_train, features_valid, target_train, target_valid = train_test_split(\n",
    "        features,\n",
    "        target,\n",
    "        test_size=0.25,\n",
    "        random_state=17)\n",
    "    lr = LinearRegression().fit(features_train, target_train)\n",
    "    predicted_valid = lr.predict(features_valid)\n",
    "    print(f'Среднее значение по запасам в регионе: {predicted_valid.mean()}')\n",
    "    mse = mean_squared_error(target_valid, predicted_valid)\n",
    "    print(\"Linear Regression\")\n",
    "    print(\"MSE =\", mse)\n",
    "    print(\"RMSE =\", mse ** 0.5)\n",
    "    return predicted_valid.mean()"
   ]
  },
  {
   "cell_type": "code",
   "execution_count": 14,
   "metadata": {},
   "outputs": [
    {
     "name": "stdout",
     "output_type": "stream",
     "text": [
      "Среднее значение по запасам в регионе: 92.39061493772542\n",
      "Linear Regression\n",
      "MSE = 1427.781491940549\n",
      "RMSE = 37.785995976559214\n"
     ]
    },
    {
     "data": {
      "text/plain": [
       "92.39061493772542"
      ]
     },
     "execution_count": 14,
     "metadata": {},
     "output_type": "execute_result"
    }
   ],
   "source": [
    "region_model(df_0)"
   ]
  },
  {
   "cell_type": "code",
   "execution_count": 15,
   "metadata": {},
   "outputs": [
    {
     "name": "stdout",
     "output_type": "stream",
     "text": [
      "Среднее значение по запасам в регионе: 68.8193838168864\n",
      "Linear Regression\n",
      "MSE = 0.7863522731454989\n",
      "RMSE = 0.8867650608506736\n"
     ]
    },
    {
     "data": {
      "text/plain": [
       "68.8193838168864"
      ]
     },
     "execution_count": 15,
     "metadata": {},
     "output_type": "execute_result"
    }
   ],
   "source": [
    "region_model(df_1)"
   ]
  },
  {
   "cell_type": "code",
   "execution_count": 16,
   "metadata": {
    "scrolled": true
   },
   "outputs": [
    {
     "name": "stdout",
     "output_type": "stream",
     "text": [
      "Среднее значение по запасам в регионе: 95.08577045778986\n",
      "Linear Regression\n",
      "MSE = 1611.4625738615694\n",
      "RMSE = 40.1430264661444\n"
     ]
    },
    {
     "data": {
      "text/plain": [
       "95.08577045778986"
      ]
     },
     "execution_count": 16,
     "metadata": {},
     "output_type": "execute_result"
    }
   ],
   "source": [
    "region_model(df_2)"
   ]
  },
  {
   "cell_type": "markdown",
   "metadata": {},
   "source": [
    "Наименьшая ошибка RMSE на датафрейме df_1, модель дает наиболее точные предсказания.\n",
    "Среднее значение запасов в этом регионе наименьшее. Модели df_0 и df_2 судя по RMSE переоценивают количество запасов."
   ]
  },
  {
   "cell_type": "markdown",
   "metadata": {},
   "source": [
    "## Подготовка к расчёту прибыли"
   ]
  },
  {
   "cell_type": "markdown",
   "metadata": {},
   "source": [
    "При разведке региона исследуют 500 точек, из которых с помощью машинного обучения выбирают 200 лучших для разработки.\n",
    "Бюджет на разработку скважин в регионе — 10 млрд рублей.\n",
    "При нынешних ценах один баррель сырья приносит 450 рублей дохода. Доход с каждой единицы продукта составляет 450 тыс. рублей, поскольку объём указан в тысячах баррелей.\n",
    "После оценки рисков нужно оставить лишь те регионы, в которых вероятность убытков меньше 2.5%. Среди них выбираем регион с наибольшей средней прибылью."
   ]
  },
  {
   "cell_type": "markdown",
   "metadata": {},
   "source": [
    "Рассчитаем достаточный объём сырья для безубыточной разработки новой скважины."
   ]
  },
  {
   "cell_type": "code",
   "execution_count": 17,
   "metadata": {},
   "outputs": [
    {
     "name": "stdout",
     "output_type": "stream",
     "text": [
      " 111.11111111111111\n"
     ]
    }
   ],
   "source": [
    "n_oil_well = 200\n",
    "expences = 10000000000\n",
    "one_oil_well_expences = expences/n_oil_well\n",
    "barrel_cost_k = 450000\n",
    "v_oil_min = one_oil_well_expences/barrel_cost_k\n",
    "print(f' {v_oil_min}')"
   ]
  },
  {
   "cell_type": "markdown",
   "metadata": {},
   "source": [
    "Сравним полученный объём сырья со средним запасом в каждом регионе."
   ]
  },
  {
   "cell_type": "code",
   "execution_count": 18,
   "metadata": {
    "scrolled": true
   },
   "outputs": [
    {
     "name": "stdout",
     "output_type": "stream",
     "text": [
      "Среднее значение по запасам в регионе: 92.39061493772542\n",
      "Linear Regression\n",
      "MSE = 1427.781491940549\n",
      "RMSE = 37.785995976559214\n",
      "-18.720496173385698\n",
      "Среднее значение по запасам в регионе: 68.8193838168864\n",
      "Linear Regression\n",
      "MSE = 0.7863522731454989\n",
      "RMSE = 0.8867650608506736\n",
      "-42.291727294224714\n",
      "Среднее значение по запасам в регионе: 95.08577045778986\n",
      "Linear Regression\n",
      "MSE = 1611.4625738615694\n",
      "RMSE = 40.1430264661444\n",
      "-16.02534065332125\n"
     ]
    }
   ],
   "source": [
    "for x in [df_0, df_1, df_2]:\n",
    "    print(region_model(x) - v_oil_min)"
   ]
  },
  {
   "cell_type": "markdown",
   "metadata": {},
   "source": [
    "В среднем запасов в регионе меньше, чем нужно для безубытка, но если отбирать лучшие, то возможно прибыль получить можно"
   ]
  },
  {
   "cell_type": "markdown",
   "metadata": {},
   "source": [
    "Напишем класс с методами для:\n",
    "- подготовки выборок (split_df) возвращает разделенные на train, valid выборки\n",
    "- предсказаний результата после обучения (predict_model)\n",
    "- расчета mse (predict_mse)"
   ]
  },
  {
   "cell_type": "code",
   "execution_count": 19,
   "metadata": {},
   "outputs": [],
   "source": [
    "class RegionModel:\n",
    "    def __init__(self,df):\n",
    "        self.df=df\n",
    "        \n",
    "    @classmethod\n",
    "    def split_df(self, df):\n",
    "        target = df['product']\n",
    "        features = df.drop(['product', 'id'] , axis=1)\n",
    "        features_train, features_valid, target_train, target_valid = train_test_split(\n",
    "            features,\n",
    "            target,\n",
    "            test_size=0.25,\n",
    "            random_state=17)\n",
    "        return features_train, features_valid, target_train, target_valid\n",
    "    \n",
    "    @classmethod\n",
    "    def predict_model(cls, df):\n",
    "        features_train, features_valid, target_train, target_valid = cls.split_df(df)\n",
    "        lr = LinearRegression().fit(features_train, target_train)\n",
    "        predicted_valid = lr.predict(features_valid)\n",
    "        return predicted_valid\n",
    "    \n",
    "    @classmethod\n",
    "    def predict_mse(cls, df):\n",
    "        features_train, features_valid, target_train, target_valid = cls.split_df(df)\n",
    "        lr = LinearRegression().fit(features_train, target_train)\n",
    "        predicted_valid = lr.predict(features_valid)\n",
    "        mse = mean_squared_error(target_valid, predicted_valid)\n",
    "        return mse\n"
   ]
  },
  {
   "cell_type": "markdown",
   "metadata": {},
   "source": [
    "Построим графики распределения частоты предсказанных запасов по регионам"
   ]
  },
  {
   "cell_type": "code",
   "execution_count": 20,
   "metadata": {},
   "outputs": [
    {
     "data": {
      "text/plain": [
       "(array([  2.,   0.,   2.,   2.,   2.,   0.,   6.,   5.,   6.,   2.,   8.,\n",
       "         13.,  12.,  14.,  19.,  18.,  22.,  33.,  30.,  57.,  50.,  60.,\n",
       "         76., 110., 124., 130., 161., 159., 196., 194., 235., 227., 287.,\n",
       "        321., 339., 361., 402., 370., 466., 501., 569., 534., 614., 605.,\n",
       "        629., 632., 694., 679., 761., 717., 724., 717., 703., 740., 692.,\n",
       "        658., 702., 690., 654., 637., 563., 564., 547., 507., 439., 477.,\n",
       "        391., 360., 326., 307., 268., 239., 218., 195., 182., 139., 151.,\n",
       "        128., 115., 111.,  77.,  51.,  49.,  39.,  37.,  29.,  26.,  13.,\n",
       "         14.,  17.,  11.,  13.,   5.,   4.,   3.,   5.,   4.,   0.,   2.,\n",
       "          1.]),\n",
       " array([  4.40077192,   6.11259259,   7.82441327,   9.53623395,\n",
       "         11.24805462,  12.9598753 ,  14.67169598,  16.38351665,\n",
       "         18.09533733,  19.807158  ,  21.51897868,  23.23079936,\n",
       "         24.94262003,  26.65444071,  28.36626139,  30.07808206,\n",
       "         31.78990274,  33.50172342,  35.21354409,  36.92536477,\n",
       "         38.63718545,  40.34900612,  42.0608268 ,  43.77264748,\n",
       "         45.48446815,  47.19628883,  48.90810951,  50.61993018,\n",
       "         52.33175086,  54.04357154,  55.75539221,  57.46721289,\n",
       "         59.17903357,  60.89085424,  62.60267492,  64.31449559,\n",
       "         66.02631627,  67.73813695,  69.44995762,  71.1617783 ,\n",
       "         72.87359898,  74.58541965,  76.29724033,  78.00906101,\n",
       "         79.72088168,  81.43270236,  83.14452304,  84.85634371,\n",
       "         86.56816439,  88.27998507,  89.99180574,  91.70362642,\n",
       "         93.4154471 ,  95.12726777,  96.83908845,  98.55090913,\n",
       "        100.2627298 , 101.97455048, 103.68637116, 105.39819183,\n",
       "        107.11001251, 108.82183318, 110.53365386, 112.24547454,\n",
       "        113.95729521, 115.66911589, 117.38093657, 119.09275724,\n",
       "        120.80457792, 122.5163986 , 124.22821927, 125.94003995,\n",
       "        127.65186063, 129.3636813 , 131.07550198, 132.78732266,\n",
       "        134.49914333, 136.21096401, 137.92278469, 139.63460536,\n",
       "        141.34642604, 143.05824672, 144.77006739, 146.48188807,\n",
       "        148.19370874, 149.90552942, 151.6173501 , 153.32917077,\n",
       "        155.04099145, 156.75281213, 158.4646328 , 160.17645348,\n",
       "        161.88827416, 163.60009483, 165.31191551, 167.02373619,\n",
       "        168.73555686, 170.44737754, 172.15919822, 173.87101889,\n",
       "        175.58283957]),\n",
       " <a list of 100 Patch objects>)"
      ]
     },
     "execution_count": 20,
     "metadata": {},
     "output_type": "execute_result"
    },
    {
     "data": {
      "image/png": "[encoded data removed]",
      "text/plain": [
       "<Figure size 432x288 with 1 Axes>"
      ]
     },
     "metadata": {
      "needs_background": "light"
     },
     "output_type": "display_data"
    }
   ],
   "source": [
    "model = RegionModel(df_0)\n",
    "wells = model.predict_model(df_0)\n",
    "plt.title('Распределение запасов')\n",
    "plt.ylabel('frequency')\n",
    "plt.xlabel('тыс. баррелей')\n",
    "plt.hist(wells, bins=100, edgecolor='k')"
   ]
  },
  {
   "cell_type": "code",
   "execution_count": 21,
   "metadata": {},
   "outputs": [
    {
     "data": {
      "text/plain": [
       "(array([1.514e+03, 2.400e+03, 1.800e+02, 0.000e+00, 0.000e+00, 0.000e+00,\n",
       "        0.000e+00, 0.000e+00, 0.000e+00, 1.910e+02, 2.532e+03, 1.507e+03,\n",
       "        0.000e+00, 0.000e+00, 0.000e+00, 0.000e+00, 0.000e+00, 0.000e+00,\n",
       "        2.000e+00, 1.600e+03, 2.476e+03, 1.440e+02, 0.000e+00, 0.000e+00,\n",
       "        0.000e+00, 0.000e+00, 0.000e+00, 0.000e+00, 2.290e+02, 2.618e+03,\n",
       "        1.392e+03, 1.000e+00, 0.000e+00, 0.000e+00, 0.000e+00, 0.000e+00,\n",
       "        0.000e+00, 2.000e+00, 1.510e+03, 2.459e+03, 1.420e+02, 0.000e+00,\n",
       "        0.000e+00, 0.000e+00, 0.000e+00, 0.000e+00, 0.000e+00, 2.240e+02,\n",
       "        2.484e+03, 1.393e+03]),\n",
       " array([ -1.92088082,   0.91730188,   3.75548459,   6.5936673 ,\n",
       "          9.43185   ,  12.27003271,  15.10821541,  17.94639812,\n",
       "         20.78458083,  23.62276353,  26.46094624,  29.29912895,\n",
       "         32.13731165,  34.97549436,  37.81367706,  40.65185977,\n",
       "         43.49004248,  46.32822518,  49.16640789,  52.00459059,\n",
       "         54.8427733 ,  57.68095601,  60.51913871,  63.35732142,\n",
       "         66.19550413,  69.03368683,  71.87186954,  74.71005224,\n",
       "         77.54823495,  80.38641766,  83.22460036,  86.06278307,\n",
       "         88.90096577,  91.73914848,  94.57733119,  97.41551389,\n",
       "        100.2536966 , 103.09187931, 105.93006201, 108.76824472,\n",
       "        111.60642742, 114.44461013, 117.28279284, 120.12097554,\n",
       "        122.95915825, 125.79734095, 128.63552366, 131.47370637,\n",
       "        134.31188907, 137.15007178, 139.98825449]),\n",
       " <a list of 50 Patch objects>)"
      ]
     },
     "execution_count": 21,
     "metadata": {},
     "output_type": "execute_result"
    },
    {
     "data": {
      "image/png": "[encoded data removed]",
      "text/plain": [
       "<Figure size 432x288 with 1 Axes>"
      ]
     },
     "metadata": {
      "needs_background": "light"
     },
     "output_type": "display_data"
    }
   ],
   "source": [
    "model = RegionModel(df_1)\n",
    "wells = model.predict_model(df_1)\n",
    "plt.title('Распределение запасов')\n",
    "plt.ylabel('frequency')\n",
    "plt.xlabel('тыс. баррелей')\n",
    "plt.hist(wells, bins=50, edgecolor='k')"
   ]
  },
  {
   "cell_type": "code",
   "execution_count": 22,
   "metadata": {},
   "outputs": [
    {
     "data": {
      "text/plain": [
       "(array([  1.,   2.,   0.,   0.,   2.,   0.,   1.,   1.,   0.,   0.,   4.,\n",
       "          4.,   4.,   3.,   9.,   6.,  16.,  23.,  25.,  36.,  31.,  43.,\n",
       "         54.,  71.,  92.,  99., 117., 111., 148., 186., 215., 229., 276.,\n",
       "        278., 325., 398., 420., 414., 500., 521., 575., 569., 579., 626.,\n",
       "        671., 756., 735., 787., 833., 779., 808., 835., 833., 796., 763.,\n",
       "        780., 682., 685., 669., 599., 620., 553., 537., 492., 459., 413.,\n",
       "        362., 341., 314., 298., 247., 202., 192., 176., 125., 101.,  99.,\n",
       "         75.,  68.,  62.,  53.,  36.,  32.,  27.,  27.,  15.,  13.,   8.,\n",
       "          4.,   7.,   6.,   2.,   5.,   1.,   1.,   0.,   0.,   0.,   1.,\n",
       "          1.]),\n",
       " array([ 12.22072382,  13.84141816,  15.46211249,  17.08280683,\n",
       "         18.70350116,  20.3241955 ,  21.94488983,  23.56558417,\n",
       "         25.1862785 ,  26.80697284,  28.42766717,  30.0483615 ,\n",
       "         31.66905584,  33.28975017,  34.91044451,  36.53113884,\n",
       "         38.15183318,  39.77252751,  41.39322185,  43.01391618,\n",
       "         44.63461052,  46.25530485,  47.87599918,  49.49669352,\n",
       "         51.11738785,  52.73808219,  54.35877652,  55.97947086,\n",
       "         57.60016519,  59.22085953,  60.84155386,  62.4622482 ,\n",
       "         64.08294253,  65.70363686,  67.3243312 ,  68.94502553,\n",
       "         70.56571987,  72.1864142 ,  73.80710854,  75.42780287,\n",
       "         77.04849721,  78.66919154,  80.28988588,  81.91058021,\n",
       "         83.53127454,  85.15196888,  86.77266321,  88.39335755,\n",
       "         90.01405188,  91.63474622,  93.25544055,  94.87613489,\n",
       "         96.49682922,  98.11752356,  99.73821789, 101.35891222,\n",
       "        102.97960656, 104.60030089, 106.22099523, 107.84168956,\n",
       "        109.4623839 , 111.08307823, 112.70377257, 114.3244669 ,\n",
       "        115.94516124, 117.56585557, 119.1865499 , 120.80724424,\n",
       "        122.42793857, 124.04863291, 125.66932724, 127.29002158,\n",
       "        128.91071591, 130.53141025, 132.15210458, 133.77279892,\n",
       "        135.39349325, 137.01418758, 138.63488192, 140.25557625,\n",
       "        141.87627059, 143.49696492, 145.11765926, 146.73835359,\n",
       "        148.35904793, 149.97974226, 151.6004366 , 153.22113093,\n",
       "        154.84182527, 156.4625196 , 158.08321393, 159.70390827,\n",
       "        161.3246026 , 162.94529694, 164.56599127, 166.18668561,\n",
       "        167.80737994, 169.42807428, 171.04876861, 172.66946295,\n",
       "        174.29015728]),\n",
       " <a list of 100 Patch objects>)"
      ]
     },
     "execution_count": 22,
     "metadata": {},
     "output_type": "execute_result"
    },
    {
     "data": {
      "image/png": "[encoded data removed]",
      "text/plain": [
       "<Figure size 432x288 with 1 Axes>"
      ]
     },
     "metadata": {
      "needs_background": "light"
     },
     "output_type": "display_data"
    }
   ],
   "source": [
    "model = RegionModel(df_2)\n",
    "wells = model.predict_model(df_2)\n",
    "plt.title('Распределение запасов')\n",
    "plt.ylabel('frequency')\n",
    "plt.xlabel('тыс. баррелей')\n",
    "plt.hist(wells,bins=100, edgecolor='k')"
   ]
  },
  {
   "cell_type": "markdown",
   "metadata": {},
   "source": [
    "## Расчёт прибыли и рисков "
   ]
  },
  {
   "cell_type": "markdown",
   "metadata": {},
   "source": [
    "Выберем скважины с максимальными значениями предсказаний"
   ]
  },
  {
   "cell_type": "code",
   "execution_count": 23,
   "metadata": {},
   "outputs": [],
   "source": [
    "def oil_well_choise(i):\n",
    "        model = RegionModel(i)\n",
    "        wells = model.predict_model(i)\n",
    "        best_wells = wells[wells > v_oil_min]\n",
    "        return np.sort(best_wells)[-n_oil_well:]\n",
    "        \n",
    "best_wells_0 = oil_well_choise(df_0)\n",
    "best_wells_1 = oil_well_choise(df_1)\n",
    "best_wells_2 = oil_well_choise(df_2)"
   ]
  },
  {
   "cell_type": "markdown",
   "metadata": {},
   "source": [
    "Рассчитаем прибыль для полученного объёма сырья в каждом регионе в миллиардах рублей."
   ]
  },
  {
   "cell_type": "code",
   "execution_count": 24,
   "metadata": {},
   "outputs": [
    {
     "name": "stdout",
     "output_type": "stream",
     "text": [
      "3.923761937651863\n",
      "2.4884537018915633\n",
      "3.428633557311424\n"
     ]
    }
   ],
   "source": [
    "def oil_profit(best_wells_final):\n",
    "    return (best_wells_final.sum()*barrel_cost_k-expences)/1000000000\n",
    "\n",
    "print(oil_profit(best_wells_0))\n",
    "print(oil_profit(best_wells_1))\n",
    "print(oil_profit(best_wells_2)) "
   ]
  },
  {
   "cell_type": "markdown",
   "metadata": {},
   "source": [
    "По максимальным значениям предсказаний, самыми прибыльными являются регионы df_0, df_2"
   ]
  },
  {
   "cell_type": "markdown",
   "metadata": {},
   "source": [
    "### Посчитаем риски и прибыль для каждого региона:"
   ]
  },
  {
   "cell_type": "markdown",
   "metadata": {},
   "source": [
    "Применим технику Bootstrap с 1000 выборок, чтобы найти распределение прибыли\n",
    "Напишем функцию для расчета:\n",
    "- средней прибыли\n",
    "- 95%-й доверительного интервала\n",
    "- риск убытков"
   ]
  },
  {
   "cell_type": "code",
   "execution_count": 25,
   "metadata": {},
   "outputs": [],
   "source": [
    "state = np.random.RandomState(12345)\n",
    "\n",
    "def bootstrap_model(df):\n",
    "    values = []\n",
    "    model = RegionModel(df)\n",
    "    features_train, features_valid, target_train, target_valid = model.split_df(df)\n",
    "    wells  = model.predict_model(df)\n",
    "    wells = pd.Series(wells, index=target_valid.index)\n",
    "    for i in range(1000):\n",
    "        target_subsample = wells.sample(n=500, replace=True, random_state=state)\n",
    "        best_wells_n = target_subsample.sort_values(ascending=False)[:n_oil_well]\n",
    "        target_values = target_valid[best_wells_n.index]\n",
    "        values.append(oil_profit(target_values))\n",
    "    values_ser = pd.Series(values)\n",
    "    lower = values_ser.quantile(0.025)\n",
    "    upper = values_ser.quantile(0.975)\n",
    "    #confidence_interval = st.t.interval(alpha=0.95, df=len(values_ser)-1, loc=values_ser.mean(), scale=values_ser.sem())\n",
    "\n",
    "    mean = values_ser.mean()\n",
    "    print(\"Средняя прибыль:\", mean)\n",
    "    print(\"95%-доверительный интервал:\", [lower, upper])\n",
    "    print(\"Количество убыточных скважин:\",values_ser[values_ser < 0].count())\n",
    "    return values"
   ]
  },
  {
   "cell_type": "code",
   "execution_count": 26,
   "metadata": {
    "scrolled": true
   },
   "outputs": [
    {
     "name": "stdout",
     "output_type": "stream",
     "text": [
      "Средняя прибыль: 0.45915237993781466\n",
      "95%-доверительный интервал: [-0.034024848424327035, 0.9460326520246811]\n",
      "Количество убыточных скважин: 31\n"
     ]
    },
    {
     "data": {
      "text/plain": [
       "[0.6117321006388188,\n",
       " 0.5020278807778912,\n",
       " 0.87327268893433,\n",
       " 0.6003501371592674,\n",
       " 0.33807577617396734,\n",
       " 0.5397312107572098,\n",
       " 0.48513938920983884,\n",
       " 0.32101234309365084,\n",
       " 0.9742903447392063,\n",
       " 0.48549064204502107,\n",
       " 0.8979979390106201,\n",
       " 0.5102372282484131,\n",
       " 0.432347794094698,\n",
       " 0.3839512290361881,\n",
       " 0.8487248863540936,\n",
       " 0.45039575857427405,\n",
       " 0.32477040511626815,\n",
       " 0.3304797491170178,\n",
       " 0.5698390214294757,\n",
       " 0.42120843779730227,\n",
       " 0.03548343945896721,\n",
       " 0.09722320819249344,\n",
       " 0.48497071831886485,\n",
       " 0.4564276629964008,\n",
       " 0.06419287996222686,\n",
       " 0.7641550594162368,\n",
       " 0.8333025803503189,\n",
       " 0.6458710993803558,\n",
       " 0.5008138213674317,\n",
       " 0.39157626714902494,\n",
       " 0.5421609801332626,\n",
       " 0.16005141777717208,\n",
       " 0.4430345989747238,\n",
       " 0.9986040653595295,\n",
       " 0.7707710254485683,\n",
       " 0.20980877346374513,\n",
       " 0.2632958373255196,\n",
       " 0.35087106214143754,\n",
       " 0.48194974079307173,\n",
       " 0.3641310800667992,\n",
       " 0.5734554004050407,\n",
       " 0.3206856936604939,\n",
       " 0.6046974660711976,\n",
       " 0.21365650029450417,\n",
       " 0.7995150300341645,\n",
       " 0.7271821397848969,\n",
       " 0.3859482735839386,\n",
       " 0.05537009426415253,\n",
       " 0.2317694709017582,\n",
       " 0.07542090454200745,\n",
       " 0.6136898113074284,\n",
       " 0.6987622020675754,\n",
       " 0.35733326949251365,\n",
       " 0.07189560103036118,\n",
       " 0.7777219000962906,\n",
       " 0.47887898605187795,\n",
       " 0.6594305672792988,\n",
       " 0.3747984671184292,\n",
       " -0.15333624585962868,\n",
       " 0.08673402656760407,\n",
       " 0.5492282042562789,\n",
       " 0.49153852861133385,\n",
       " -0.16444723825438498,\n",
       " 0.22332276539530754,\n",
       " 0.38198484222608187,\n",
       " 0.5612306425413017,\n",
       " 0.6722994785335846,\n",
       " 0.4522186185612526,\n",
       " 0.8238021019537735,\n",
       " 0.5991833273104324,\n",
       " 0.5341609811568889,\n",
       " 0.4797000997695694,\n",
       " 0.3214055336020565,\n",
       " 0.23128880449980546,\n",
       " 0.761280234379303,\n",
       " 0.45946096277949144,\n",
       " 0.4808248640239563,\n",
       " 0.613123161372696,\n",
       " 0.7438240721405239,\n",
       " 0.5243031362318706,\n",
       " 0.332338983690567,\n",
       " 0.25119871657089426,\n",
       " 0.13340083409161185,\n",
       " 0.6570952861120128,\n",
       " 0.6519991472214546,\n",
       " 0.4700248550439262,\n",
       " 0.3338740155770206,\n",
       " 0.8394771915921975,\n",
       " 0.5765519009850235,\n",
       " 0.3888708520426693,\n",
       " 0.23857371127272606,\n",
       " 0.746038560862585,\n",
       " 0.547380071197277,\n",
       " 0.2014921332544155,\n",
       " 0.7820223587880611,\n",
       " 0.9592112796354656,\n",
       " 0.5638197665650596,\n",
       " 0.5303643854444294,\n",
       " 0.012584699354887008,\n",
       " 0.11556521418034553,\n",
       " 0.5049007255160847,\n",
       " 0.8848122219168263,\n",
       " 0.12706041945992852,\n",
       " 0.5707705911564541,\n",
       " 0.5156477724471111,\n",
       " 0.3791561523594036,\n",
       " 0.43488978058717725,\n",
       " 0.6749726233024044,\n",
       " 0.4592284576402569,\n",
       " 0.8061455548788452,\n",
       " 0.5604570304658947,\n",
       " 0.8442151790128899,\n",
       " 0.498606171219429,\n",
       " -0.0007962440909061432,\n",
       " 0.3459403258029804,\n",
       " 0.41273005305166244,\n",
       " 0.6937343206927739,\n",
       " 0.6963395517180709,\n",
       " 0.5726933914441948,\n",
       " 0.08657314670357513,\n",
       " 0.02508855726268959,\n",
       " 0.5073627867212315,\n",
       " 0.6283144517610588,\n",
       " 0.33936798513699723,\n",
       " 0.12597887792946053,\n",
       " 0.19079714624705887,\n",
       " 0.8765934391163349,\n",
       " 0.3396046532506332,\n",
       " 0.5950737999265747,\n",
       " 0.899517463059555,\n",
       " 0.2601591362881908,\n",
       " 0.35827225861486434,\n",
       " 0.6332681923940677,\n",
       " 0.7853263063866921,\n",
       " 0.4797011899662361,\n",
       " 0.42725609834295275,\n",
       " 0.1003515796359539,\n",
       " 0.5066642964138851,\n",
       " -0.15344786131475258,\n",
       " 0.3603448744610367,\n",
       " 0.2503306520812492,\n",
       " -0.07729165154065513,\n",
       " 0.3789054195391331,\n",
       " 0.513621881347889,\n",
       " 0.6184864533332577,\n",
       " 0.3477653650204239,\n",
       " 0.55399466772678,\n",
       " 0.5724793797016201,\n",
       " 0.5806889286921673,\n",
       " 0.5909158847482148,\n",
       " 0.7109769583138199,\n",
       " 0.3422905893532753,\n",
       " 0.19467017367850303,\n",
       " 0.2079688791330471,\n",
       " 0.76018224332053,\n",
       " 0.3929519270512447,\n",
       " 0.2576184462929726,\n",
       " 0.07875724625574874,\n",
       " 0.03158965818039703,\n",
       " 0.5811680490783634,\n",
       " 0.24248770830833244,\n",
       " 0.3528571627956257,\n",
       " 0.9459695131773777,\n",
       " 0.29851497672973826,\n",
       " 0.1793047760137558,\n",
       " 0.8764764336052837,\n",
       " 0.4901397959902954,\n",
       " 0.38271201568568614,\n",
       " 0.4081555357375641,\n",
       " -0.05028825724139023,\n",
       " 0.17299194124349593,\n",
       " 0.14567912235432814,\n",
       " 0.12817128782789994,\n",
       " 0.6365524163758468,\n",
       " 0.3666440318850746,\n",
       " 0.6645952731821785,\n",
       " 0.6846940919797821,\n",
       " 0.5842070216547909,\n",
       " 0.17388409302822685,\n",
       " 0.5015821771455345,\n",
       " 0.4153415826159668,\n",
       " 0.5739343688610191,\n",
       " 0.4115932093947468,\n",
       " 0.01765734791759491,\n",
       " 0.4359984485300026,\n",
       " -0.12714539524599075,\n",
       " -0.1081013033993187,\n",
       " 0.4346770723203316,\n",
       " 0.6230806347232171,\n",
       " 0.6048965767398071,\n",
       " 0.8135764361032887,\n",
       " 0.8672177261012077,\n",
       " 0.8622235408437443,\n",
       " 0.40844316181687357,\n",
       " 0.18146717432674409,\n",
       " 0.25757368210118675,\n",
       " 0.7921732389336643,\n",
       " 0.5614838817159729,\n",
       " 0.1812066727278805,\n",
       " 0.588547611238184,\n",
       " 0.22171015420088006,\n",
       " 0.5510805395328788,\n",
       " 0.4147599694297028,\n",
       " 0.22136684539437868,\n",
       " 0.9415820313172951,\n",
       " 0.2523480235113831,\n",
       " 0.2768257339644585,\n",
       " 0.35865167083483124,\n",
       " 0.15005657476241685,\n",
       " 0.6723925814661084,\n",
       " 0.41230341461989783,\n",
       " 0.16642542694460105,\n",
       " 1.0320404887652683,\n",
       " 0.3456682816394825,\n",
       " 0.37244380430624197,\n",
       " 0.4673803171783848,\n",
       " 0.7713614959103393,\n",
       " 0.46485408906777,\n",
       " 0.7728829066605701,\n",
       " 0.6831804445214196,\n",
       " 0.9054196974748153,\n",
       " 0.2396420976045723,\n",
       " 0.4128174852136326,\n",
       " 0.610145488176714,\n",
       " 0.4316292832241478,\n",
       " 0.3712312415731316,\n",
       " 0.6088204385846062,\n",
       " 0.2690476887056141,\n",
       " 0.2725201491152153,\n",
       " 0.304312723178133,\n",
       " 0.8452892221634484,\n",
       " 0.3219697794667225,\n",
       " 0.13049557837071418,\n",
       " 0.25249213920030783,\n",
       " 0.41821490257674027,\n",
       " 0.4742873273125286,\n",
       " 0.6124769881668415,\n",
       " 0.35834798000265505,\n",
       " 0.5395807425673962,\n",
       " 0.6494037384602966,\n",
       " 0.6933352201238403,\n",
       " -0.2133806830313854,\n",
       " 0.25370110330799867,\n",
       " 0.4511272923978939,\n",
       " 0.17963632069433402,\n",
       " 0.4709448213663845,\n",
       " 0.6356846003339424,\n",
       " 0.099901158766119,\n",
       " 0.5042198769581051,\n",
       " 0.4530741943751087,\n",
       " 0.4185059697889976,\n",
       " 0.7805122058173084,\n",
       " 0.7596846762504654,\n",
       " 0.023313658439056396,\n",
       " 0.6352086566941834,\n",
       " 0.6430506325876008,\n",
       " 0.8726459421142674,\n",
       " 0.5924060679504852,\n",
       " 0.12605923678042602,\n",
       " 0.4771572932342224,\n",
       " 0.20070461400392534,\n",
       " 0.5617499799984589,\n",
       " 0.49365996531456946,\n",
       " 0.7450515490821438,\n",
       " 0.5860932775382424,\n",
       " 0.9354984811007385,\n",
       " 0.41352066339998433,\n",
       " 0.31638795390953633,\n",
       " 1.1055724032430707,\n",
       " 0.4026007025408249,\n",
       " 0.5262317998460846,\n",
       " 0.5388160771281681,\n",
       " 0.45315580109607123,\n",
       " 0.4800547203650894,\n",
       " 0.8341612525212746,\n",
       " 0.6194299324013233,\n",
       " 0.8712336388538532,\n",
       " 0.10566718563219452,\n",
       " 0.4565336157579098,\n",
       " 0.18648823058654976,\n",
       " 0.16590321525108145,\n",
       " 0.8673546177138748,\n",
       " 0.5055882968262596,\n",
       " -0.2753291277079754,\n",
       " 0.30953611640525625,\n",
       " 0.09492326010393715,\n",
       " 0.6444152099243774,\n",
       " 0.2830171153564777,\n",
       " 0.8056596653575764,\n",
       " 0.16570572211159706,\n",
       " 0.2954460346210976,\n",
       " 0.35703164161838724,\n",
       " 0.29550995745373915,\n",
       " 0.07836983581154251,\n",
       " 0.28799283884360694,\n",
       " 0.6184743734032097,\n",
       " 0.3229844252614327,\n",
       " 0.4282537379769192,\n",
       " 0.313975725279398,\n",
       " 0.2370327988968563,\n",
       " 0.38973649366783714,\n",
       " 0.714646131108284,\n",
       " 0.7563280880187531,\n",
       " 0.18947782811214064,\n",
       " -0.11275223429330444,\n",
       " 0.5023841466202984,\n",
       " 0.3360895606643791,\n",
       " 0.439998683284853,\n",
       " 0.2917846842892838,\n",
       " 0.28082272543338965,\n",
       " 0.6193927701537381,\n",
       " 0.2840749244790974,\n",
       " 0.7030115326349182,\n",
       " 0.9050655862967052,\n",
       " 0.3821887319593735,\n",
       " 0.4136151545669384,\n",
       " 0.7441852410423222,\n",
       " 0.018681823147901535,\n",
       " 0.4651914108228531,\n",
       " 0.3809973270997696,\n",
       " 0.9810903506666088,\n",
       " 0.5328975866240502,\n",
       " 0.17013288989806175,\n",
       " 0.5120844504882965,\n",
       " 0.3014653311535778,\n",
       " 0.5063119818769417,\n",
       " 0.1338936766589508,\n",
       " 0.42880111088935663,\n",
       " 0.705841254647522,\n",
       " 0.02221957355499649,\n",
       " 0.4756502118788242,\n",
       " 0.21280635489440156,\n",
       " 0.3422868238334122,\n",
       " 0.2685300085344372,\n",
       " 0.3177215231290779,\n",
       " 0.4766278638362961,\n",
       " 0.2239624278339386,\n",
       " 0.5041545791330471,\n",
       " 0.19341632255784988,\n",
       " 0.35397319599391935,\n",
       " 0.7143045875097752,\n",
       " 0.5804188977353211,\n",
       " 0.19223553258721543,\n",
       " 0.48372578275790024,\n",
       " 0.5364888481525402,\n",
       " 0.6239869154879646,\n",
       " 0.7968784600164776,\n",
       " 0.5405664955347596,\n",
       " 0.06518371168940354,\n",
       " 0.7279313093347626,\n",
       " 0.3052943442921219,\n",
       " 0.5678332966932239,\n",
       " 0.2696605695093899,\n",
       " 0.31919883474435423,\n",
       " 0.5953190966579056,\n",
       " 0.5439487001989022,\n",
       " 0.4962286334441319,\n",
       " 0.9068025720048466,\n",
       " 0.6688463036218834,\n",
       " 0.16469430944142532,\n",
       " 0.6460649877892647,\n",
       " 0.5314235924875068,\n",
       " 0.6129935755270214,\n",
       " 0.4860222421153431,\n",
       " 0.5249606591102943,\n",
       " 0.3758782224904957,\n",
       " 0.4559005764036045,\n",
       " 0.7817092127096061,\n",
       " 0.2936182450349541,\n",
       " 0.2531591210349121,\n",
       " 0.5281045389905205,\n",
       " 0.05846756372830963,\n",
       " 0.1839696022852688,\n",
       " 0.450376740787056,\n",
       " 0.5399990579212799,\n",
       " 0.606335476075882,\n",
       " 0.5049295745559941,\n",
       " 0.4017879251602669,\n",
       " 0.6698208378773098,\n",
       " 0.5083102312932739,\n",
       " 0.43297160427120973,\n",
       " 0.5270634104516716,\n",
       " 0.721188039845644,\n",
       " 0.30885771014376256,\n",
       " 0.5189506785348987,\n",
       " 0.5002712054820614,\n",
       " 0.8361497952823429,\n",
       " 0.5126142184065818,\n",
       " 0.5896479156992378,\n",
       " 0.17877640887006377,\n",
       " 0.4663623446529045,\n",
       " 0.526908678908102,\n",
       " 0.9484950670695209,\n",
       " 0.7625576507620964,\n",
       " 0.7156582226421242,\n",
       " 0.12597987198077584,\n",
       " 0.9719236104987697,\n",
       " 0.28760655506098176,\n",
       " 0.16964231834806634,\n",
       " 0.4893113859278183,\n",
       " 0.02855410599267578,\n",
       " 0.7815600321112632,\n",
       " 0.30079441398677825,\n",
       " 0.5515275426839313,\n",
       " -0.035688599805906294,\n",
       " 0.7123554319124832,\n",
       " 0.6717675661113892,\n",
       " 0.697060769890688,\n",
       " 0.8211243453326245,\n",
       " 0.4026486023462009,\n",
       " -0.006215369761631012,\n",
       " 0.18209927524084282,\n",
       " 0.46130426135219,\n",
       " 0.8567642509179917,\n",
       " 0.1916318294819317,\n",
       " 0.7294925323630409,\n",
       " 0.6951514204516277,\n",
       " 0.9007413531803684,\n",
       " 0.9781544105398522,\n",
       " 0.4069541782398949,\n",
       " 0.4038677855172005,\n",
       " 0.2585166267562408,\n",
       " 0.5688146169792404,\n",
       " 0.2888622569790649,\n",
       " 0.274880250795702,\n",
       " 0.5489674307526589,\n",
       " 0.3806401014003639,\n",
       " 0.9126483224793568,\n",
       " 0.46112122421992874,\n",
       " 0.34839028209729955,\n",
       " 0.6878804552981358,\n",
       " 0.3892749668980904,\n",
       " 0.6179574418306732,\n",
       " 0.7021250213940621,\n",
       " 0.28501463650868036,\n",
       " 0.7892569407474556,\n",
       " 0.8727172754285125,\n",
       " 0.1641646582410469,\n",
       " 0.3062508005285015,\n",
       " 0.1076634722490406,\n",
       " 0.42180248057776454,\n",
       " 0.29706876176700975,\n",
       " 0.07743337520520974,\n",
       " 0.9214337149562969,\n",
       " 0.7018938954308681,\n",
       " 0.3635372953061161,\n",
       " 0.5272022855385856,\n",
       " 0.2636727499474201,\n",
       " 0.9181473254132518,\n",
       " 0.5406245770447407,\n",
       " 0.510211578798811,\n",
       " 0.6227139153177529,\n",
       " 0.317560205435812,\n",
       " 0.42849583176950834,\n",
       " 0.3185804575107422,\n",
       " 0.45758300310211947,\n",
       " 0.13576133619974326,\n",
       " 0.6443635721982612,\n",
       " 0.3978374010549469,\n",
       " 0.3469120661548767,\n",
       " 0.934089688611599,\n",
       " 0.37956531521162035,\n",
       " 0.5474890994750118,\n",
       " 0.40077377269987297,\n",
       " 0.6178879321257496,\n",
       " 0.29677850625465013,\n",
       " 0.2560066687779923,\n",
       " 0.615059371826395,\n",
       " -0.14438833519797517,\n",
       " 0.35593957333841325,\n",
       " 0.6356698171184559,\n",
       " 0.41681129369605446,\n",
       " 0.508991005339386,\n",
       " 0.37454554387491606,\n",
       " 0.474355688450798,\n",
       " 0.41205266495001985,\n",
       " 0.45160895992133715,\n",
       " 0.7134337221869316,\n",
       " 0.4796025381045532,\n",
       " 0.46264369662371635,\n",
       " 0.5321450511723728,\n",
       " 0.5292423635028801,\n",
       " 0.026419732017827987,\n",
       " 0.5931758886470146,\n",
       " 0.2749221510748596,\n",
       " 0.30066877939349745,\n",
       " 0.5197712783789368,\n",
       " 0.2671624355429039,\n",
       " 0.16979564543731882,\n",
       " 0.7174024399341431,\n",
       " 0.5438888875326938,\n",
       " 0.33839032062583924,\n",
       " 0.16414900015537834,\n",
       " 0.5934709849707928,\n",
       " 0.2072981053157196,\n",
       " 0.6118524862355519,\n",
       " 0.36644954055444906,\n",
       " 0.16553818334794806,\n",
       " 0.29155461075540545,\n",
       " 0.45460884662198636,\n",
       " 0.34127856341677093,\n",
       " 0.7421012822531147,\n",
       " 0.34998405722350695,\n",
       " 0.16883336264179802,\n",
       " 0.32584385838113783,\n",
       " 0.535233118169075,\n",
       " 0.760668397572216,\n",
       " 0.5320259887685395,\n",
       " 0.17853550445952415,\n",
       " 0.05130132908977508,\n",
       " 0.08168450862749863,\n",
       " 0.8880921266867066,\n",
       " 0.25596100987358855,\n",
       " 0.25080539010759356,\n",
       " 0.9545313038800697,\n",
       " 0.5640677189490185,\n",
       " 0.33809457478623006,\n",
       " 0.0850569870879879,\n",
       " 0.22017936556697845,\n",
       " 0.40822148674607467,\n",
       " 0.23111259187384797,\n",
       " 0.12456562700208092,\n",
       " 0.614205903981081,\n",
       " -0.22061957497733878,\n",
       " 0.8269513942791863,\n",
       " 0.8046202622797909,\n",
       " 0.4439234276486645,\n",
       " 0.9315818658412056,\n",
       " 0.6905772962301044,\n",
       " 0.9031293309121723,\n",
       " 0.6653866835556107,\n",
       " 0.11650158338910865,\n",
       " 1.011729379125248,\n",
       " 0.25974091860176657,\n",
       " 0.5036776082105617,\n",
       " 0.5429657853842392,\n",
       " 0.7331932501908512,\n",
       " 0.44558381530017854,\n",
       " 0.3187233008216934,\n",
       " 0.6238305492162991,\n",
       " 0.22514421784735109,\n",
       " 0.32879400285264015,\n",
       " 0.7726564153814869,\n",
       " 0.49396545153191374,\n",
       " 0.4075673468144665,\n",
       " 0.4734824560478268,\n",
       " 0.2773206637138023,\n",
       " 0.4739000162182026,\n",
       " 0.1510425574356518,\n",
       " 0.4724956942988186,\n",
       " 0.668521638412283,\n",
       " 0.7084090747672996,\n",
       " 0.25384578014896775,\n",
       " 0.7252153062227669,\n",
       " 0.08534034787606239,\n",
       " 0.86102081619944,\n",
       " 0.1224218608654995,\n",
       " 0.612241018950079,\n",
       " 0.7367165137622872,\n",
       " 0.2706037596123142,\n",
       " 0.2122404490343914,\n",
       " 0.9709035857879601,\n",
       " 0.2907392464136524,\n",
       " 0.8156422080355873,\n",
       " 0.3449425035807972,\n",
       " 0.7084756381409015,\n",
       " 0.45417608083986855,\n",
       " 0.5007722013684044,\n",
       " 0.47858564070768356,\n",
       " 1.053041987194975,\n",
       " 0.6902954558391265,\n",
       " 0.2303442032476673,\n",
       " 0.5762859384138508,\n",
       " 0.23574647123933984,\n",
       " 0.48872169580050084,\n",
       " 0.4409520943304691,\n",
       " 0.5325447903659458,\n",
       " 0.19054101389715386,\n",
       " 0.8295783374106274,\n",
       " 0.5649874663283748,\n",
       " 0.3974512544322891,\n",
       " 0.5536372978441677,\n",
       " -0.00812144521152687,\n",
       " 0.6075705291222038,\n",
       " 0.5788457669063797,\n",
       " 0.06836747605273628,\n",
       " 0.24712211028503608,\n",
       " 1.068048916074461,\n",
       " 0.6377306867229061,\n",
       " 0.45835751905296324,\n",
       " 0.8864241335587635,\n",
       " 0.6651011341050015,\n",
       " 0.1758490632565956,\n",
       " -0.03401766240438461,\n",
       " 0.5722238759781303,\n",
       " 0.43802068125899124,\n",
       " 0.8182512394153938,\n",
       " 0.4245743734110031,\n",
       " -0.005818511716411591,\n",
       " 0.31615705411943246,\n",
       " 0.6965020010453549,\n",
       " 0.21933389467588996,\n",
       " 0.4412141393781147,\n",
       " 0.8384665497906018,\n",
       " 0.38867289653850556,\n",
       " 0.770631505417612,\n",
       " 0.15806299088042258,\n",
       " 0.3730920923007717,\n",
       " 0.6095014191971111,\n",
       " -0.03430510320208168,\n",
       " 0.1632676854776497,\n",
       " 0.44153173913977434,\n",
       " 1.0436762949281044,\n",
       " 0.34561940930366325,\n",
       " 0.6482693441324081,\n",
       " 0.45753061594140626,\n",
       " 0.2205668522405491,\n",
       " 0.722531342670042,\n",
       " 0.6516422674635467,\n",
       " 0.4598000074949436,\n",
       " 0.0973348935012455,\n",
       " 0.28299517824537085,\n",
       " 0.8369697241294078,\n",
       " 0.3904450506526184,\n",
       " 0.531310112039999,\n",
       " 0.004660481136009216,\n",
       " 0.5056356691535797,\n",
       " 0.5588801041759147,\n",
       " 0.47672849853183746,\n",
       " 0.3711488629219551,\n",
       " 0.22738981209900666,\n",
       " 0.330375896148243,\n",
       " 0.6226601043476029,\n",
       " 0.27914925776691435,\n",
       " 0.7330430280662555,\n",
       " 0.3609446841551628,\n",
       " 0.14995334463679313,\n",
       " 0.12051502265918541,\n",
       " 1.0006456169504336,\n",
       " 0.5806695451296062,\n",
       " 0.4747581448284721,\n",
       " 0.22048314551072312,\n",
       " 0.3324179168820686,\n",
       " -0.2230941354696808,\n",
       " 0.7405071064574451,\n",
       " 0.34375932682063676,\n",
       " 0.2235646764440689,\n",
       " 0.44321335856137467,\n",
       " 0.7664691608809223,\n",
       " 0.7920078783313217,\n",
       " 0.890596250455965,\n",
       " 0.24578895964045716,\n",
       " 0.7912385146010551,\n",
       " 0.2389004852489586,\n",
       " 0.6262094988805962,\n",
       " 0.2595387906077862,\n",
       " 0.47076790942902186,\n",
       " 0.6717649962239227,\n",
       " 0.7554313420636882,\n",
       " 0.08092150103914451,\n",
       " 0.7352228787531586,\n",
       " 0.33004221314940835,\n",
       " 0.23603253692346574,\n",
       " -0.2686250068657017,\n",
       " 0.39116923146427346,\n",
       " 0.2929925137010689,\n",
       " 0.6402231112643109,\n",
       " 0.24142744925872422,\n",
       " 0.05360120433792687,\n",
       " 0.3819735283091278,\n",
       " 0.7929602420848579,\n",
       " 0.7302437111623001,\n",
       " 0.6198793285509834,\n",
       " 0.6309269673374386,\n",
       " 0.17523167578327178,\n",
       " 0.6559286117270794,\n",
       " 0.36610325098295404,\n",
       " 0.6123691360408726,\n",
       " 0.4022025893828449,\n",
       " 0.4206998231659908,\n",
       " 0.31041274995889284,\n",
       " 0.40662543134871865,\n",
       " 0.4984621075444355,\n",
       " 0.21240688324235535,\n",
       " 0.1938049660367508,\n",
       " 0.4832220415522823,\n",
       " 0.39874043552025795,\n",
       " 0.6407579613285466,\n",
       " 0.4967776961119251,\n",
       " 0.04319620497019577,\n",
       " 0.7498509943845367,\n",
       " 0.8384205153104209,\n",
       " 0.5651269002901363,\n",
       " 0.5711903108731727,\n",
       " 0.5031043933994465,\n",
       " 0.1869889471325264,\n",
       " 0.3678238306134949,\n",
       " 0.3703007412026043,\n",
       " 0.6740192125102139,\n",
       " 0.6098333153652458,\n",
       " 0.8522610607375202,\n",
       " 0.5735449046008473,\n",
       " 0.7554663548222542,\n",
       " 0.7046712915119419,\n",
       " 0.17813487438874245,\n",
       " 0.47530557515334704,\n",
       " 0.3235748143718891,\n",
       " 0.32573914680257604,\n",
       " 0.23386605010441017,\n",
       " 0.2193518009445343,\n",
       " 0.493030412511116,\n",
       " 0.6821020878749656,\n",
       " 0.1427123637358227,\n",
       " 0.08571732209032631,\n",
       " 0.16158081695137214,\n",
       " 0.24088878175369643,\n",
       " 0.5083522602479821,\n",
       " 0.3187876587019806,\n",
       " 0.30280246926718524,\n",
       " 0.33987280137270165,\n",
       " 1.0177091309565507,\n",
       " 0.5118284639746781,\n",
       " -0.21640162616968345,\n",
       " 0.4398956773853073,\n",
       " 0.7001973537221393,\n",
       " 0.24533121902467156,\n",
       " 0.5811532048059692,\n",
       " 0.31219924515099523,\n",
       " 0.6048669553318863,\n",
       " 0.7511407799807072,\n",
       " 0.532694872447115,\n",
       " 0.18646629143924331,\n",
       " 0.4818213760834732,\n",
       " 0.09516022051858329,\n",
       " 0.23782387137010766,\n",
       " 0.6361814615028172,\n",
       " 0.5358126710663452,\n",
       " 0.19551931776996995,\n",
       " -0.17697004789201737,\n",
       " 0.7812310334827499,\n",
       " 0.6034381427134266,\n",
       " 0.36151867687078093,\n",
       " -0.0817136009107113,\n",
       " 0.1950253434949646,\n",
       " 0.23843988049196624,\n",
       " 0.26029442227376365,\n",
       " 0.49443193574077604,\n",
       " 0.7119917812005806,\n",
       " 0.34942358810364915,\n",
       " 0.17152424348225784,\n",
       " 0.6814300295542507,\n",
       " 0.7021748384944972,\n",
       " 0.2546052471578331,\n",
       " 0.3907056321127033,\n",
       " 0.38832618005057523,\n",
       " 0.4693391374373207,\n",
       " 0.4983084056230965,\n",
       " 0.16654296269584848,\n",
       " 0.20224780216210747,\n",
       " 1.1274944288545266,\n",
       " 0.7330539119823418,\n",
       " 0.2683544567960663,\n",
       " 0.5493219090918007,\n",
       " 0.9246127384309616,\n",
       " 0.5220843286178016,\n",
       " 0.27577712548735045,\n",
       " 0.44679592598477935,\n",
       " 0.8756828983468742,\n",
       " 0.357273777343956,\n",
       " 0.8695127519155273,\n",
       " 0.6190763764299488,\n",
       " 0.7476368737398148,\n",
       " 0.7906656438942795,\n",
       " 0.5862515875410519,\n",
       " 0.7329536894974403,\n",
       " 0.2337143014159508,\n",
       " 0.6234338954095859,\n",
       " 0.6169039077298374,\n",
       " 0.44061640157769777,\n",
       " 0.45182105318533705,\n",
       " 0.24209027868434335,\n",
       " 0.4984064129335823,\n",
       " 0.8576192774870587,\n",
       " 0.4457114490765781,\n",
       " 0.2446924263341942,\n",
       " 0.40121020068756486,\n",
       " 0.35790610144203566,\n",
       " 0.18138905407527733,\n",
       " -0.07944660378784943,\n",
       " 0.7702566804218445,\n",
       " 0.6748122354378872,\n",
       " 0.032303626565214155,\n",
       " -0.22299903999169732,\n",
       " 0.7946554257639675,\n",
       " 0.3052414353148232,\n",
       " 0.3128037311707077,\n",
       " 0.8110457744834138,\n",
       " 0.7091950536189041,\n",
       " 0.5803281593750381,\n",
       " 0.13551059713988303,\n",
       " 0.4456689975228538,\n",
       " 0.2910259426851253,\n",
       " 0.41290842678485107,\n",
       " 0.7877911966810132,\n",
       " 0.7948245548472423,\n",
       " 0.7739881628806171,\n",
       " 0.4353396243413925,\n",
       " 0.6685228313262825,\n",
       " 0.3014243490197735,\n",
       " 0.24776224645109177,\n",
       " 0.39092955772369387,\n",
       " 0.5711999547478332,\n",
       " 0.8786435179856968,\n",
       " 0.7229882602441273,\n",
       " 0.15963373703601266,\n",
       " 0.7680489525643024,\n",
       " 0.6863776974664059,\n",
       " -0.056615465411209105,\n",
       " 0.4981794582333622,\n",
       " 0.4737922891263485,\n",
       " 0.513140808660595,\n",
       " 0.3153211460544033,\n",
       " 0.45056993464289663,\n",
       " 0.22928594029667665,\n",
       " 0.4118645157445469,\n",
       " 0.3972827671859417,\n",
       " 0.23432503552590178,\n",
       " 0.4343396725009651,\n",
       " 0.41506555447466087,\n",
       " 0.05399257968278122,\n",
       " 0.52552709551021,\n",
       " 0.4295919198933201,\n",
       " 0.7514605607195435,\n",
       " -0.10819889805316543,\n",
       " 0.49580018258091735,\n",
       " 0.14258685127980042,\n",
       " 0.5030034478904571,\n",
       " 0.28999374759454916,\n",
       " 0.5907515764387493,\n",
       " 0.5083303890791416,\n",
       " 0.6760259850311241,\n",
       " 0.32171093480064394,\n",
       " 0.5065934910874481,\n",
       " 0.22067690713024712,\n",
       " 0.39608050667375755,\n",
       " 0.4399749694786816,\n",
       " 0.6419124924149151,\n",
       " 0.5486932618631477,\n",
       " 0.8395256123284511,\n",
       " 0.8733320702899494,\n",
       " 0.6762135951131916,\n",
       " 0.5384771642239647,\n",
       " 0.46681645394896315,\n",
       " 0.24388235810454942,\n",
       " 0.778777868811306,\n",
       " 0.5709308522894477,\n",
       " 0.2822881955388756,\n",
       " 0.6884176074210548,\n",
       " 0.6757055754398709,\n",
       " 0.7489782105876693,\n",
       " 0.011470727386077881,\n",
       " 0.15460295938274385,\n",
       " 0.5430117878002663,\n",
       " 0.38921847843667223,\n",
       " 0.7903316821646748,\n",
       " 0.5113029020775585,\n",
       " 0.2738078946906586,\n",
       " 0.4365863192317066,\n",
       " 0.2768133416709461,\n",
       " -0.2070566889253273,\n",
       " 0.2749368244464531,\n",
       " 0.2291064128395214,\n",
       " 0.7103696616002865,\n",
       " 0.45424024581633377,\n",
       " 0.8527029610474014,\n",
       " 0.1790341686957798,\n",
       " 0.3981889751175194,\n",
       " 0.3669330399912968,\n",
       " 0.8808611909188805,\n",
       " 0.4015117759668617,\n",
       " 0.5422725460759754,\n",
       " -0.012983892800561905,\n",
       " 0.8680625456983319,\n",
       " 0.8195776089557686,\n",
       " 0.35578767696917724,\n",
       " 0.5498823140604706,\n",
       " 0.15472747587918473,\n",
       " 0.29968379474978446,\n",
       " 0.8455641924288159,\n",
       " 0.2837203504257412,\n",
       " 0.6617776583597298,\n",
       " 0.5938608673670711,\n",
       " 0.6398158835134583,\n",
       " 0.3268312053487644,\n",
       " 0.5361522270348607,\n",
       " 0.7161234027074642,\n",
       " 0.4901784681392002,\n",
       " 0.5214863083679848,\n",
       " 0.5533591738371182,\n",
       " 0.19466284628056335,\n",
       " 0.7023304299303437,\n",
       " 0.38096750340366553,\n",
       " 0.30352107637630654,\n",
       " 0.6082801467446842,\n",
       " 0.48837950467596053,\n",
       " 0.14741766591710853,\n",
       " 0.6541197235442524,\n",
       " 0.37002695394221496,\n",
       " 0.6590895624176617,\n",
       " 0.6214641449999504,\n",
       " 0.23123959865222168,\n",
       " 0.869971212262413,\n",
       " 0.40170920634787943,\n",
       " 0.9649930466730365,\n",
       " 0.5297181156907119,\n",
       " 0.28429441068055344,\n",
       " 0.2538506381630287,\n",
       " 0.9083571698868027,\n",
       " 0.3794386532495117,\n",
       " 0.573420819472721,\n",
       " 0.17197549472691917,\n",
       " 0.24960665887312125,\n",
       " 1.1102526854527568,\n",
       " 0.4731145887020378,\n",
       " 0.5276373379910011,\n",
       " 0.6124668640794315,\n",
       " 0.9927288175789223,\n",
       " 0.868758762611742,\n",
       " -0.12096370769677162,\n",
       " 0.14160205716254615,\n",
       " 0.20233286903299333,\n",
       " 0.39720928771982195,\n",
       " 0.2358995355804329,\n",
       " 0.681260226966528,\n",
       " 0.1343239556261425,\n",
       " 0.2167310617005577,\n",
       " 0.8534450415243053,\n",
       " 0.4736230024610481,\n",
       " 0.9427430531299992,\n",
       " 0.2902532667663536,\n",
       " 0.07704946048256683,\n",
       " 1.0698959553593825,\n",
       " 0.5167520117695027,\n",
       " 0.7254403320152721,\n",
       " 0.8215263330243149,\n",
       " 0.15471505324868776,\n",
       " 0.16740296629433252,\n",
       " 0.24902451649521828,\n",
       " 0.7913261934427147,\n",
       " 0.6861571137271671,\n",
       " 0.554697732633173,\n",
       " 0.42848142553818513,\n",
       " 0.2952145924270344,\n",
       " 0.4713004049227047,\n",
       " 0.6281657499488106,\n",
       " 0.810316728803358,\n",
       " 0.3528645205590496,\n",
       " 0.09899851356176567,\n",
       " 0.8252662509522686,\n",
       " 0.4079139340222168,\n",
       " 0.9596896383070374,\n",
       " 0.5077726405263252,\n",
       " 0.5832690409644546,\n",
       " 0.7545599436866646,\n",
       " 0.24582616413336564,\n",
       " 0.5766397297243919,\n",
       " 0.1331180710219555,\n",
       " 0.8802359307164745,\n",
       " 1.1265484240924224,\n",
       " 1.2086121619184476,\n",
       " 0.2611233532174873,\n",
       " 0.3506504784208927,\n",
       " 0.29050281306634523,\n",
       " 0.7615639261984596,\n",
       " 0.3149855808068027,\n",
       " 0.2618181889197254,\n",
       " 0.41468733915855027,\n",
       " 0.5098192390805111,\n",
       " 0.15842688848730468,\n",
       " 0.011005471005523682,\n",
       " 0.5527134731318893,\n",
       " 0.3718146142524796,\n",
       " 0.6265038227686176,\n",
       " 0.08705697195641708,\n",
       " 0.5734494622789116,\n",
       " 0.3965044144615898,\n",
       " 0.4703339292918129,\n",
       " 0.47920410381575584,\n",
       " 0.3362231802754631,\n",
       " 0.7021618997222805,\n",
       " 0.4188466642194691,\n",
       " 0.2693893771225872,\n",
       " 0.02945423025447655,\n",
       " 0.5356450504916171,\n",
       " 0.7935242767775211,\n",
       " 0.29408829919582746,\n",
       " 0.5935646346174336,\n",
       " 0.6527018023477669,\n",
       " 0.2617165396836662,\n",
       " 0.06123913427303124]"
      ]
     },
     "execution_count": 26,
     "metadata": {},
     "output_type": "execute_result"
    }
   ],
   "source": [
    "bootstrap_model(df_0)"
   ]
  },
  {
   "cell_type": "code",
   "execution_count": 27,
   "metadata": {},
   "outputs": [
    {
     "name": "stdout",
     "output_type": "stream",
     "text": [
      "Средняя прибыль: 0.4344743902498418\n",
      "95%-доверительный интервал: [0.03604881842157416, 0.84163462244749]\n",
      "Количество убыточных скважин: 16\n"
     ]
    },
    {
     "data": {
      "text/plain": [
       "[0.6004687643719597,\n",
       " 0.37356377304182814,\n",
       " 0.2529582965645466,\n",
       " 0.030407293554895402,\n",
       " 0.5461683100322647,\n",
       " 0.6211191089776631,\n",
       " 1.0591303340178986,\n",
       " 0.7544755512506351,\n",
       " 0.5569288811671658,\n",
       " 0.5719190409562455,\n",
       " 0.3485594401156464,\n",
       " 0.38712333666846466,\n",
       " 0.3935299194828873,\n",
       " 0.4385003988501244,\n",
       " 0.2379681367754669,\n",
       " 0.5961769758846321,\n",
       " 0.2201789844946537,\n",
       " 0.682510344296423,\n",
       " 0.17950029361474037,\n",
       " 0.41561086025102995,\n",
       " 0.594746379722187,\n",
       " 0.523403171099474,\n",
       " 0.6668359863426971,\n",
       " 0.45989714145362093,\n",
       " 0.6860557347859574,\n",
       " 0.21663359400511742,\n",
       " 0.6147125261632423,\n",
       " 0.4192184505737114,\n",
       " 0.6931465157650242,\n",
       " 0.36211900374228284,\n",
       " 0.43420861036279296,\n",
       " 0.11879325646062851,\n",
       " 0.29077579511956786,\n",
       " 0.3585736132527485,\n",
       " 0.5198577806099396,\n",
       " 0.5033748248252677,\n",
       " 0.45062936631431577,\n",
       " 0.5911387893995018,\n",
       " 0.2287003616361618,\n",
       " 0.7516765587588978,\n",
       " 0.6268414936274376,\n",
       " -0.00604180867083168,\n",
       " 0.30358896074840735,\n",
       " 0.20089703621824073,\n",
       " 0.5875933989099693,\n",
       " 0.03532108037372208,\n",
       " 0.4284862257130203,\n",
       " 0.45062936631431577,\n",
       " 0.7024764907374802,\n",
       " 0.39993650229730415,\n",
       " 0.5554982850047226,\n",
       " 0.09814291185492516,\n",
       " 0.5689956487982082,\n",
       " 0.3165265260435486,\n",
       " 0.7103136697143421,\n",
       " 0.5711726429584484,\n",
       " 0.43420861036279296,\n",
       " 0.15095057019902802,\n",
       " 0.5419387213780842,\n",
       " 0.638224063093834,\n",
       " 0.5019442286628246,\n",
       " 0.6118513338383579,\n",
       " 0.310057743395977,\n",
       " 0.4919300555257206,\n",
       " 0.018962524255350114,\n",
       " 0.32504790318505666,\n",
       " 0.6746109654864101,\n",
       " 0.4883846650361881,\n",
       " 0.3864391385038185,\n",
       " 0.355028222763216,\n",
       " 0.7330788086471367,\n",
       " 0.6083059433488236,\n",
       " 0.5176185866165486,\n",
       " 0.3521048306051807,\n",
       " 0.35359762660077093,\n",
       " 0.47482510140955353,\n",
       " 0.6453770439060498,\n",
       " 0.3407222611387844,\n",
       " 0.6867399329506035,\n",
       " 0.4056588869470787,\n",
       " 0.46705012226583864,\n",
       " 0.6182579166527767,\n",
       " 0.6803333501361847,\n",
       " 0.584732206585085,\n",
       " 0.816613184567194,\n",
       " 0.514819594124813,\n",
       " 0.38712333666846466,\n",
       " 0.4056588869470787,\n",
       " 0.5362163367283135,\n",
       " 0.24157572709815026,\n",
       " 0.5625890659837876,\n",
       " 0.3870611368353157,\n",
       " 0.5262021635912113,\n",
       " 0.2936369874444561,\n",
       " 0.33288508216192053,\n",
       " 0.5311781502431869,\n",
       " 0.36641079222961237,\n",
       " 0.5084130113103924,\n",
       " 0.3378610688138981,\n",
       " 0.7616907318960018,\n",
       " 0.40708948310952,\n",
       " 0.7381169951322613,\n",
       " 0.2900915969549198,\n",
       " 0.37860195952695463,\n",
       " 0.5055518189855079,\n",
       " 0.6396546592562752,\n",
       " 0.5033748248252677,\n",
       " 0.5084130113103924,\n",
       " 0.6482382362309341,\n",
       " 0.5026906266606197,\n",
       " 0.2672642581889782,\n",
       " 0.6838787406257172,\n",
       " 0.18379208210207176,\n",
       " 0.36647299206276324,\n",
       " 0.8215891712191677,\n",
       " 0.21302600368243407,\n",
       " 0.12028605245622062,\n",
       " 0.44490698166454506,\n",
       " 0.7759344936872845,\n",
       " 0.6004065645388107,\n",
       " 0.3843243441767273,\n",
       " 0.35782721525495337,\n",
       " 0.19162926107893563,\n",
       " 0.533417344236576,\n",
       " 0.36423379806937217,\n",
       " 0.25513529072478675,\n",
       " 0.48483927454665376,\n",
       " 0.2379681367754669,\n",
       " 0.5925693855619488,\n",
       " 0.4941070496859627,\n",
       " 0.2986129740964317,\n",
       " 0.6339322746065026,\n",
       " 0.6368556667645398,\n",
       " 0.5612206696544952,\n",
       " 0.41212766959464836,\n",
       " 0.4242566370588398,\n",
       " 0.14740517970949174,\n",
       " 0.30576595490864755,\n",
       " 0.21520299784267236,\n",
       " 0.3399758631409874,\n",
       " 0.11960185429157448,\n",
       " 0.1352762122453003,\n",
       " 0.6275256917920837,\n",
       " 0.5141353959601669,\n",
       " 0.5212883767723827,\n",
       " 0.30147416642131614,\n",
       " 0.9000231608209496,\n",
       " 0.3257943011828537,\n",
       " 0.04894284383350754,\n",
       " 0.4977146400086441,\n",
       " -0.044481305557352066,\n",
       " 0.6546448190453549,\n",
       " 0.6532142228829116,\n",
       " 0.3228709090248165,\n",
       " 0.4035440926199856,\n",
       " 0.21227960568463897,\n",
       " 0.6182579166527767,\n",
       " 0.4969682420108471,\n",
       " 0.42064904673615644,\n",
       " 0.3728173750440311,\n",
       " 0.4855856725444508,\n",
       " 0.3485594401156464,\n",
       " 0.14808937787413978,\n",
       " 0.24723591191477204,\n",
       " 0.6039519550283451,\n",
       " 0.5454841118676186,\n",
       " 0.5833016104226436,\n",
       " 0.3585736132527485,\n",
       " 0.30072776842352295,\n",
       " 0.4270556295505772,\n",
       " 0.4905616591964283,\n",
       " 0.35788941508810235,\n",
       " 0.47345670508025933,\n",
       " 0.4420457893396568,\n",
       " 0.4128118677592945,\n",
       " 0.4905616591964283,\n",
       " 0.43843819901697156,\n",
       " 0.3114883395584202,\n",
       " 0.40354409261998747,\n",
       " 0.2900915969549217,\n",
       " 0.42705562955057524,\n",
       " 0.5633354639815845,\n",
       " 0.4891310630339851,\n",
       " 0.22229377882174112,\n",
       " 0.7980154344554291,\n",
       " 0.18018449177939033,\n",
       " 0.8658132525886097,\n",
       " 0.7181508486912079,\n",
       " 0.141682795059721,\n",
       " 0.6532142228829116,\n",
       " 0.38208515018333816,\n",
       " 0.7395475912947045,\n",
       " 0.4420457893396568,\n",
       " 0.3764249653667145,\n",
       " 0.46058133961827086,\n",
       " 0.4184720525759182,\n",
       " 0.5968611740492763,\n",
       " 0.5747180334479809,\n",
       " 0.6396546592562752,\n",
       " 0.6260950956296406,\n",
       " 0.19094506291428756,\n",
       " 0.221547380823946,\n",
       " 0.12526203910819816,\n",
       " 0.49765244017549515,\n",
       " 0.7109978678789902,\n",
       " 0.3657265940649662,\n",
       " 0.5490917021903019,\n",
       " 0.43209381603570174,\n",
       " 0.4805474860593262,\n",
       " 0.03961286886105156,\n",
       " 0.33288508216192053,\n",
       " 0.46487312810559844,\n",
       " 0.6161431223256855,\n",
       " 0.19094506291428948,\n",
       " 0.5697420467960034,\n",
       " 0.5390775290531997,\n",
       " 0.8108907999174194,\n",
       " 0.39496051564532664,\n",
       " 0.5711726429584484,\n",
       " 0.25015930407280923,\n",
       " 0.5597900734920501,\n",
       " 0.2665178601911812,\n",
       " 0.586909200745325,\n",
       " 0.4613277376160679,\n",
       " 0.5576130793318119,\n",
       " 0.47986328789467814,\n",
       " 0.17663910128985597,\n",
       " 0.4969682420108471,\n",
       " 0.4806096858924751,\n",
       " 0.46058133961827086,\n",
       " 0.30358896074840735,\n",
       " 0.5547518870069256,\n",
       " 0.5219725749370308,\n",
       " 0.540508125215643,\n",
       " 0.006087158793359757,\n",
       " 0.42923262371081544,\n",
       " 0.45989714145362093,\n",
       " 0.30576595490864755,\n",
       " 0.4142424639217377,\n",
       " 0.5269485615890064,\n",
       " 0.3243015051872597,\n",
       " 0.4327780142003498,\n",
       " 0.6646589921824588,\n",
       " 0.3178949223728409,\n",
       " 0.4434763855021,\n",
       " 0.19094506291428756,\n",
       " 0.38351574634578134,\n",
       " 0.14808937787413978,\n",
       " 0.32000971669993017,\n",
       " 0.6353628707689457,\n",
       " 0.06822479210991478,\n",
       " 0.2693790525160694,\n",
       " 0.7509923605942517,\n",
       " 0.04035926685884857,\n",
       " 0.5776414256060162,\n",
       " 0.9350416668842354,\n",
       " 0.33506207632216073,\n",
       " 0.19523685140161706,\n",
       " 0.6404010572540721,\n",
       " 0.5340393425680733,\n",
       " 0.17166311463788034,\n",
       " 0.5026906266606217,\n",
       " 0.32361730702261354,\n",
       " 0.3478752419510002,\n",
       " 0.47992548772782706,\n",
       " 0.46350473177630425,\n",
       " 0.37928615769160273,\n",
       " 0.6089901415134678,\n",
       " 0.9100373339580516,\n",
       " 0.24798230991257095,\n",
       " 0.20661942086801338,\n",
       " 0.6903475232732869,\n",
       " 0.27939322565316965,\n",
       " 0.09242052720515442,\n",
       " 0.6446928457413997,\n",
       " 0.7223804373453865,\n",
       " 0.4791168898968811,\n",
       " 0.49199225535886953,\n",
       " 0.3593200112505455,\n",
       " 0.38992232916020203,\n",
       " 0.4548589549684963,\n",
       " 0.6468076400684929,\n",
       " 0.7245574315056267,\n",
       " 0.229446759633955,\n",
       " 0.23367634828813935,\n",
       " 0.9556920114899369,\n",
       " 0.381400952018692,\n",
       " 0.6125355320030021,\n",
       " 0.03892867069640541,\n",
       " 0.4306632198732605,\n",
       " 0.5169965882850532,\n",
       " 0.46561952610339546,\n",
       " 0.6632283960200157,\n",
       " 0.13813740457018853,\n",
       " 0.8273115558689422,\n",
       " 0.610358537842764,\n",
       " 0.48272448021956443,\n",
       " 0.5133889979623699,\n",
       " 0.2508435022374554,\n",
       " 0.7381169951322613,\n",
       " 0.594746379722187,\n",
       " 0.7416623856217957,\n",
       " 0.469849114757576,\n",
       " 0.3114883395584202,\n",
       " 0.36927198455449867,\n",
       " 0.12874522976458358,\n",
       " 0.7823410765017014,\n",
       " 0.9165061166056213,\n",
       " 0.2622260717038536,\n",
       " -0.005295410673038483,\n",
       " 0.2543888927269897,\n",
       " 0.2037582285431309,\n",
       " 0.19946644005579758,\n",
       " 0.26502506419559096,\n",
       " 0.5119584017999287,\n",
       " 0.5240873692641181,\n",
       " 0.4669879224326878,\n",
       " 0.6018993605344047,\n",
       " 0.2686948543514214,\n",
       " 0.6046983530261402,\n",
       " 0.09173632904050827,\n",
       " 0.2194325864968548,\n",
       " 0.5704884447938003,\n",
       " 0.5961769758846321,\n",
       " 0.6282720897898808,\n",
       " 0.8886405913545513,\n",
       " 0.7195192450204982,\n",
       " 0.48409287654885863,\n",
       " 0.5640818619793816,\n",
       " 0.12159224895236588,\n",
       " 0.42276384106324766,\n",
       " 0.5183649846143455,\n",
       " 0.7060218812270126,\n",
       " 0.37431017103962516,\n",
       " 0.49273865335666656,\n",
       " 0.4677343204304848,\n",
       " 0.6318796801125602,\n",
       " 0.5248337672619171,\n",
       " 0.48483927454665376,\n",
       " 0.4770020955697918,\n",
       " 0.18945226691869546,\n",
       " 0.5811868160955506,\n",
       " 0.10741068699423217,\n",
       " 0.22086318265929794,\n",
       " 0.7830252746663513,\n",
       " 0.327909095509943,\n",
       " -0.178708545494421,\n",
       " 0.2800774238178177,\n",
       " 0.5854164047497311,\n",
       " 0.5590436754942569,\n",
       " 0.3485594401156464,\n",
       " 0.17377790896496964,\n",
       " 0.5055518189855079,\n",
       " 0.487016268706892,\n",
       " 0.2964981797693405,\n",
       " 0.19019866491649057,\n",
       " 0.4449069816645432,\n",
       " 0.36572659406496427,\n",
       " 0.5512064965173931,\n",
       " 0.3885539328309097,\n",
       " 0.21016481135754775,\n",
       " 0.28654620646538737,\n",
       " 0.42494083522348597,\n",
       " 0.27790042965757944,\n",
       " 0.7595137377357617,\n",
       " 0.43918459701477053,\n",
       " 0.38214735001648903,\n",
       " 0.37356377304182814,\n",
       " 0.372879574877182,\n",
       " 0.6083059433488255,\n",
       " 0.5026906266606178,\n",
       " 0.4299168218754635,\n",
       " 0.3499900362780876,\n",
       " 0.20661942086801338,\n",
       " 0.5469147080300636,\n",
       " 0.604014154861494,\n",
       " 0.47762409390128896,\n",
       " 0.28866100079248047,\n",
       " 0.44490698166454506,\n",
       " 0.2023276323806839,\n",
       " -0.15015882207870485,\n",
       " 0.2886610007924786,\n",
       " 0.5683114506335601,\n",
       " 0.5383311310554028,\n",
       " 0.2015812343828888,\n",
       " 0.5654502583086739,\n",
       " 0.5034370246584168,\n",
       " 0.5897081932370606,\n",
       " 0.4442227834998951,\n",
       " 0.9900263193885765,\n",
       " 0.434892808527441,\n",
       " 0.07674616925142479,\n",
       " 0.6553912170431518,\n",
       " 0.3421528573012257,\n",
       " 0.4898152611986313,\n",
       " 0.05466522848328018,\n",
       " 0.2594270792121162,\n",
       " 0.49839883817329217,\n",
       " 0.4049124889492798,\n",
       " 0.27510143716584207,\n",
       " 0.42276384106324577,\n",
       " 0.24798230991257095,\n",
       " 0.9749739597663479,\n",
       " 0.35782721525495337,\n",
       " 0.3001057700920238,\n",
       " 0.3485594401156464,\n",
       " 0.3371768706492481,\n",
       " 0.7302798161554013,\n",
       " 0.3614348055776348,\n",
       " 0.33506207632216073,\n",
       " 0.36927198455449867,\n",
       " 0.3343156783243618,\n",
       " 0.5383933308885517,\n",
       " 0.4705955127553711,\n",
       " 0.2537046945623417,\n",
       " 0.549029502357153,\n",
       " 0.5483453041925049,\n",
       " 0.807345409427887,\n",
       " 0.407773681274168,\n",
       " 0.3978217079702148,\n",
       " 0.5069824151479512,\n",
       " 0.08321495189899444,\n",
       " 0.49553764584840393,\n",
       " 0.5197955807767907,\n",
       " 0.32573210134970665,\n",
       " 0.4655573262702465,\n",
       " 0.43775400085232546,\n",
       " 0.7060218812270126,\n",
       " 0.6874863309484005,\n",
       " 0.41424246392173575,\n",
       " 0.2979287759317837,\n",
       " 0.5633354639815845,\n",
       " 0.16662492815275573,\n",
       " 0.5997223663741627,\n",
       " 0.052488234323040006,\n",
       " -0.024577358949447632,\n",
       " 0.4092664772697601,\n",
       " 0.45915074345582774,\n",
       " 0.17377790896496964,\n",
       " 0.5219103751038799,\n",
       " 0.3571430170903053,\n",
       " 0.2151407980095253,\n",
       " 0.7959006401283397,\n",
       " 0.4805474860593262,\n",
       " 0.07463137492433738,\n",
       " 0.9185587110995636,\n",
       " 0.2430063232605934,\n",
       " 0.6025213588659001,\n",
       " 0.34215285730122946,\n",
       " 0.08458334822829056,\n",
       " -0.13516866228962326,\n",
       " 0.5861628027475281,\n",
       " 0.35925781141739654,\n",
       " 0.15524235868635558,\n",
       " 0.6660895883449002,\n",
       " 0.2622260717038536,\n",
       " 0.3593200112505455,\n",
       " 0.7259880276680679,\n",
       " 0.08744454055317306,\n",
       " 0.5141353959601669,\n",
       " 0.9036307511436329,\n",
       " 0.3128567358877163,\n",
       " 0.4370698026876812,\n",
       " 0.371386778881588,\n",
       " 0.3585736132527485,\n",
       " 0.21445659984487914,\n",
       " 0.17023251847543525,\n",
       " 0.2002128380535965,\n",
       " 0.4270556295505791,\n",
       " 0.40422829078463557,\n",
       " 0.7038448870667725,\n",
       " 0.25513529072478675,\n",
       " 0.1780696974522972,\n",
       " 0.6789027539737416,\n",
       " 0.5740338352833347,\n",
       " 0.32007191653307915,\n",
       " 0.7731355011955471,\n",
       " 0.5719190409562435,\n",
       " 0.6546448190453549,\n",
       " 0.5119584017999287,\n",
       " 0.2230401768195381,\n",
       " 0.40422829078463557,\n",
       " 0.4370698026876793,\n",
       " 0.3914151251557961,\n",
       " 0.3314544859994774,\n",
       " 0.30937354523133087,\n",
       " 0.5097814076396885,\n",
       " 0.43563920652523613,\n",
       " 0.47127971092001913,\n",
       " 0.47768629373443794,\n",
       " 0.3563966190925083,\n",
       " 0.41492666208638385,\n",
       " 0.8001924286156693,\n",
       " 0.9764045559287892,\n",
       " 0.3114883395584202,\n",
       " 0.41635725824882697,\n",
       " 0.5376469328907566,\n",
       " 0.2736708410033989,\n",
       " 0.17950029361474037,\n",
       " 0.6254108974649926,\n",
       " 0.8501388946348858,\n",
       " 0.7174044506934109,\n",
       " 0.5390775290531997,\n",
       " 0.20730361903266145,\n",
       " 0.16307953766321945,\n",
       " 0.5333551444034271,\n",
       " 0.4092042774366131,\n",
       " 0.8201585750567245,\n",
       " 0.2301931576317539,\n",
       " 0.46991131459072494,\n",
       " 0.3343156783243618,\n",
       " 0.28866100079248047,\n",
       " 0.11381726980865096,\n",
       " 0.3785397596938057,\n",
       " 0.7381169951322613,\n",
       " 0.575464431445776,\n",
       " 0.4969682420108471,\n",
       " 0.4299168218754635,\n",
       " 0.6360470689335919,\n",
       " 0.5875311990768223,\n",
       " 0.2265855673090706,\n",
       " 0.29506758360689733,\n",
       " 0.016101331930461885,\n",
       " 0.6717497731615238,\n",
       " 0.3849463425082245,\n",
       " 0.5255179654265614,\n",
       " 0.8102066017527733,\n",
       " 0.5569288811671658,\n",
       " 0.24798230991257095,\n",
       " 0.6011529625366078,\n",
       " 0.5911387893995037,\n",
       " 0.8308569463584747,\n",
       " 0.5554982850047245,\n",
       " 0.29295278927980806,\n",
       " 0.797331236290783,\n",
       " 0.2722402448409557,\n",
       " 0.24014513093570708,\n",
       " 0.5697420467960053,\n",
       " 0.23162375379419517,\n",
       " -0.11657091217786217,\n",
       " 0.47345670508025933,\n",
       " 0.7131748620392303,\n",
       " 0.44845237215407946,\n",
       " 0.9792657482536754,\n",
       " 0.7067060793916606,\n",
       " 0.6118513338383579,\n",
       " 0.6374776650960369,\n",
       " 0.4977146400086441,\n",
       " 0.2494129060750122,\n",
       " 0.3029047625837593,\n",
       " 0.5133889979623699,\n",
       " 0.44061519317721176,\n",
       " 0.363549599904726,\n",
       " 0.1795002936147423,\n",
       " 0.2380303366086159,\n",
       " 0.5383933308885517,\n",
       " 0.42419443722568895,\n",
       " 0.4834086783842125,\n",
       " 0.22583916931127357,\n",
       " 0.47414090324490354,\n",
       " 0.24512111758768082,\n",
       " 0.6297026859523239,\n",
       " 0.2515277004021034,\n",
       " 0.4548589549684963,\n",
       " 0.4598971414536228,\n",
       " 0.5904545912348594,\n",
       " 0.5525748928466854,\n",
       " 0.6182579166527767,\n",
       " 0.7045912850645695,\n",
       " 0.24512111758768082,\n",
       " 0.37356377304182814,\n",
       " 0.6289562879545268,\n",
       " 0.07960736157631493,\n",
       " 0.6517836267204685,\n",
       " 0.29718237793398855,\n",
       " 0.27435503916804505,\n",
       " 0.1887680687540493,\n",
       " -0.06805504232109069,\n",
       " 0.6310710822816162,\n",
       " 0.31578012804575156,\n",
       " 0.5112120038021297,\n",
       " 0.32224891069331935,\n",
       " 0.362865401740078,\n",
       " 0.7717049050331058,\n",
       " 0.20301183054533195,\n",
       " 0.4420457893396568,\n",
       " 0.7259880276680679,\n",
       " 0.4641889299409504,\n",
       " 0.7823410765017014,\n",
       " 0.7216962391807403,\n",
       " 0.32647849934749984,\n",
       " 0.3749943692042713,\n",
       " 0.5034370246584168,\n",
       " 0.19735164572870828,\n",
       " 0.6147125261632423,\n",
       " 0.20661942086801718,\n",
       " 0.05964121513525772,\n",
       " 0.2900915969549217,\n",
       " 0.23013095779860496,\n",
       " 0.7131126622060795,\n",
       " -0.020969768626764296,\n",
       " 0.665343190347105,\n",
       " -0.14872822591626167,\n",
       " 0.4977146400086441,\n",
       " 0.40708948310952,\n",
       " 0.4513135644789619,\n",
       " 0.4085200792719631,\n",
       " 0.2365997404461727,\n",
       " 0.43346221236499594,\n",
       " 0.35857361325274656,\n",
       " 0.15667295484880067,\n",
       " 0.5247715674287663,\n",
       " 0.7695279108728657,\n",
       " 0.7181508486912079,\n",
       " 0.48701626870689585,\n",
       " 0.2522740983998985,\n",
       " 0.11599426396889115,\n",
       " 0.5811868160955506,\n",
       " 0.31789492237283895,\n",
       " 0.6439464477436065,\n",
       " 0.46916491659292986,\n",
       " 0.39203712348729136,\n",
       " 0.6125355320030021,\n",
       " 0.27149384684315875,\n",
       " 0.6653431903471031,\n",
       " 0.25009710423966025,\n",
       " 0.6246644994671955,\n",
       " 0.09459752136539268,\n",
       " 0.363549599904726,\n",
       " 0.3064501530732937,\n",
       " 0.6168273204903335,\n",
       " 0.15518015885320663,\n",
       " 0.8029914211074066,\n",
       " 0.4584043454580288,\n",
       " 0.3778555615291576,\n",
       " 0.38214735001648903,\n",
       " 0.6440086475767556,\n",
       " 0.4677343204304867,\n",
       " 0.46624152443489075,\n",
       " 0.5369627347261086,\n",
       " 0.46344253194315527,\n",
       " 0.3129189357208633,\n",
       " 0.47345670508025933,\n",
       " 0.4106970734322033,\n",
       " 0.3521670304383278,\n",
       " 0.4270556295505772,\n",
       " 0.07954516174316406,\n",
       " 0.601837160701252,\n",
       " 0.2023276323806858,\n",
       " 0.16525653182345962,\n",
       " 0.7823410765017033,\n",
       " 0.399252304132658,\n",
       " 0.7309640143200454,\n",
       " 0.48129388405712126,\n",
       " 0.3692719845544968,\n",
       " 0.7395475912947045,\n",
       " 0.2893451989571247,\n",
       " 0.5854164047497311,\n",
       " 0.5982917702117195,\n",
       " 0.5633354639815845,\n",
       " 0.8258187598733482,\n",
       " 0.8344023368480091,\n",
       " 0.4056588869470787,\n",
       " 0.5826174122579937,\n",
       " 0.45492115480164336,\n",
       " 0.2036960287099781,\n",
       " 0.3514206324405327,\n",
       " 0.7602601357335568,\n",
       " 0.5098436074728374,\n",
       " 0.3835157463457832,\n",
       " 0.5190491827789936,\n",
       " 0.3314544859994774,\n",
       " 0.43134741803790666,\n",
       " 0.2273319653068676,\n",
       " 0.2851156103029442,\n",
       " 0.6025213588659001,\n",
       " 0.40348189278683855,\n",
       " 0.29438338544225123,\n",
       " 0.8151825884047489,\n",
       " 0.7259880276680679,\n",
       " 0.4399309950125656,\n",
       " 0.5954305778868351,\n",
       " 0.30433535874620626,\n",
       " 0.31721072420819474,\n",
       " 0.11387946964180183,\n",
       " 0.5711726429584484,\n",
       " -0.009587199160366058,\n",
       " 0.46058133961826897,\n",
       " 0.028914497559301377,\n",
       " 0.512642599964573,\n",
       " 0.4085200792719631,\n",
       " 0.2722402448409557,\n",
       " 0.6781563559759445,\n",
       " 0.6546448190453549,\n",
       " 0.23516914428372956,\n",
       " 0.691715919602581,\n",
       " 0.2230401768195381,\n",
       " 0.5155037922894611,\n",
       " 0.8416175174933739,\n",
       " 0.7181508486912059,\n",
       " 0.5469147080300617,\n",
       " 0.8651290544239655,\n",
       " 0.5868470009121742,\n",
       " 0.2379681367754669,\n",
       " 0.19305985724137878,\n",
       " 0.21159540751999092,\n",
       " 0.23087735579640006,\n",
       " 0.13882160273483277,\n",
       " 0.1038652965046978,\n",
       " 0.5298097539138927,\n",
       " 0.7708963072021561,\n",
       " 0.07674616925142479,\n",
       " 0.5804404180977535,\n",
       " 0.41853425240906716,\n",
       " 0.47127971092001913,\n",
       " 0.3777933616960087,\n",
       " 0.3271626975121479,\n",
       " 0.4727103070824623,\n",
       " 0.4463375778269863,\n",
       " 0.35285122860297774,\n",
       " 0.3335692803265648,\n",
       " 0.69177811943573,\n",
       " 0.5747180334479809,\n",
       " 0.2693790525160713,\n",
       " 0.4626961339453602,\n",
       " 0.5925693855619488,\n",
       " 0.6389082612584782,\n",
       " 0.3521670304383297,\n",
       " 0.4656195261033936,\n",
       " 0.5968611740492763,\n",
       " 0.09957350801736832,\n",
       " 0.5062360171501541,\n",
       " 0.18516047843136788,\n",
       " 0.2936369874444561,\n",
       " 0.4412993913418579,\n",
       " 0.2579342832165241,\n",
       " 0.5076666133125953,\n",
       " 0.12097025062086868,\n",
       " 0.43060102004010964,\n",
       " 0.18304568410427474,\n",
       " 0.5754644314457797,\n",
       " 0.6703813768322296,\n",
       " 0.3114883395584202,\n",
       " 0.31646432621039583,\n",
       " 0.42923262371081544,\n",
       " 0.5647660601440277,\n",
       " 0.593315783559742,\n",
       " 0.5882775970746174,\n",
       " 0.36715719022740934,\n",
       " 0.5090972094750404,\n",
       " 0.371386778881588,\n",
       " 0.5205419787745876,\n",
       " 0.8394405233331337,\n",
       " 0.25009710423965836,\n",
       " 0.5976075720470753,\n",
       " 0.49628404384620095,\n",
       " 0.4891310630339851,\n",
       " 0.7174666505265579,\n",
       " 0.265771462193388,\n",
       " 0.45846654529117964,\n",
       " 0.39993650229730415,\n",
       " 0.26154187353920555,\n",
       " 0.17309371080032157,\n",
       " 0.01678553009510994,\n",
       " 0.7074524773894558,\n",
       " 0.41990264873836136,\n",
       " 0.45846654529117964,\n",
       " 0.6438842479104538,\n",
       " 0.540508125215643,\n",
       " 0.5469147080300617,\n",
       " -0.058103069017139436,\n",
       " 0.5026906266606197,\n",
       " 0.5062360171501541,\n",
       " 0.6182579166527767,\n",
       " 0.17091671664008332,\n",
       " 0.5090972094750423,\n",
       " 0.4948534476837559,\n",
       " 0.9635913902999516,\n",
       " 0.7216962391807384,\n",
       " 0.24157572709814834,\n",
       " 0.8557990794515095,\n",
       " 0.20730361903266145,\n",
       " 0.5968611740492763,\n",
       " 0.4491365703187218,\n",
       " 0.24872870791036414,\n",
       " -0.1736703590092945,\n",
       " 0.10672648882958603,\n",
       " 0.7888098591492729,\n",
       " 0.47277250691560935,\n",
       " 0.8423017156580219,\n",
       " 0.7131126622060795,\n",
       " 0.4969682420108471,\n",
       " 0.5390775290531997,\n",
       " 0.42419443722568895,\n",
       " 0.10100410417981338,\n",
       " 0.16587853015495682,\n",
       " 0.3856927405060215,\n",
       " 0.1844762802667198,\n",
       " 0.4677343204304848,\n",
       " 0.5304939520785389,\n",
       " 0.2265855673090725,\n",
       " 0.7595137377357617,\n",
       " 0.5255179654265633,\n",
       " 0.7388011932969112,\n",
       " 0.540508125215643,\n",
       " 0.18018449177939033,\n",
       " 0.8686744449134979,\n",
       " 0.3471288439532032,\n",
       " 0.3371768706492481,\n",
       " 0.34003806297413636,\n",
       " 0.46984911475757407,\n",
       " 0.3670949903942585,\n",
       " 0.21016481135754775,\n",
       " 0.45349055863920024,\n",
       " 0.9963707023698464,\n",
       " 0.5640196621462326,\n",
       " 0.5569288811671658,\n",
       " 0.32361730702261354,\n",
       " 0.3927835214850883,\n",
       " 0.6988689004147969,\n",
       " 0.21874838833220672,\n",
       " 0.15518015885320854,\n",
       " 0.7537913530859871,\n",
       " 0.371386778881588,\n",
       " 0.42207964289860156,\n",
       " 0.3606884075798378,\n",
       " 0.2800774238178196,\n",
       " 0.35359762660077093,\n",
       " 0.6260950956296406,\n",
       " 0.5790098219353104,\n",
       " 0.38351574634578134,\n",
       " 0.5276327597536545,\n",
       " 0.5647660601440277,\n",
       " 0.2800774238178177,\n",
       " 0.3778555615291576,\n",
       " 0.2529582965645485,\n",
       " 0.6061289491885834,\n",
       " 0.27516363699899293,\n",
       " 0.42127104506765556,\n",
       " 0.5240873692641201,\n",
       " 0.5975453722139245,\n",
       " 0.3521670304383297,\n",
       " 0.37567856736891747,\n",
       " 0.1972894458955593,\n",
       " 0.6889169271108436,\n",
       " 0.36429599790252115,\n",
       " 0.486954068873745,\n",
       " 0.4548589549684963,\n",
       " 0.4277398277152233,\n",
       " 0.42562503338813207,\n",
       " 0.5276327597536545,\n",
       " 0.44490698166454506,\n",
       " 0.8158667865693969,\n",
       " 0.2800774238178177,\n",
       " 0.29935937209422875,\n",
       " 0.4370698026876793,\n",
       " 0.7459541741091251,\n",
       " 0.5169343884519043,\n",
       " 0.5518906946820392,\n",
       " 0.4770020955697937,\n",
       " 0.00826415295359993,\n",
       " 0.6375398649291859,\n",
       " -0.011701993487457275,\n",
       " 0.43986879517941474,\n",
       " 0.5568666813340148,\n",
       " 0.4934228515213146,\n",
       " 0.780226282174614,\n",
       " 0.19803584389335632,\n",
       " 0.7081366755541039,\n",
       " 0.4591507434558258,\n",
       " 0.26291026986849975,\n",
       " 0.3243015051872597,\n",
       " 0.478370491899086,\n",
       " 0.19946644005579758,\n",
       " 0.23367634828813744,\n",
       " 0.3399758631409855,\n",
       " 0.36211900374228284,\n",
       " 0.5548140868400745,\n",
       " 0.34146865913657953,\n",
       " 0.35285122860297774,\n",
       " 0.7844558708287945,\n",
       " 0.3735015732086773,\n",
       " 0.5355321385636673,\n",
       " 0.3399758631409874,\n",
       " 0.27510143716584207,\n",
       " 0.5418765215449372,\n",
       " 0.6610514018597755,\n",
       " 0.30788074923573877,\n",
       " 0.3343156783243637,\n",
       " 0.16948612047764014,\n",
       " 0.47488730124270057,\n",
       " 0.49982943433573535,\n",
       " 0.33288508216192053,\n",
       " 0.5447999137029724,\n",
       " 0.31721072420819474,\n",
       " 0.5733496371186886,\n",
       " 0.25868068121432114,\n",
       " 0.5112742036352806,\n",
       " 0.4591507434558258,\n",
       " 0.34862163994879725,\n",
       " 0.3493058381134434,\n",
       " 0.08962153471341705,\n",
       " 0.5255179654265614,\n",
       " 0.3114883395584202,\n",
       " 0.39707530997241786,\n",
       " 0.6761037614820041,\n",
       " 0.28225441797805784,\n",
       " 0.25009710423966025,\n",
       " 0.10100410417981338,\n",
       " 0.49628404384620095,\n",
       " 0.13664460857459448,\n",
       " 0.42923262371081733,\n",
       " 0.5747802332811298,\n",
       " 0.3149715302148056,\n",
       " 0.6068753471863804,\n",
       " 0.4363234046898823,\n",
       " 0.6325016784440594,\n",
       " 0.444222783499897,\n",
       " 0.6282720897898788,\n",
       " 0.4834086783842125,\n",
       " 0.34146865913657953,\n",
       " 0.2665178601911812,\n",
       " 0.5632732641484337,\n",
       " 0.843732311820465,\n",
       " 0.4834086783842106,\n",
       " 0.16805552431519508,\n",
       " 0.5925693855619468,\n",
       " 0.31080414139377405,\n",
       " 0.9093531357934075,\n",
       " 0.4977146400086441,\n",
       " 0.5490917021903019,\n",
       " 0.37567856736891747,\n",
       " 0.326416299514349,\n",
       " 0.07817676541386795,\n",
       " 0.17166311463788034,\n",
       " 0.7302798161553993,\n",
       " 0.8515694907973289,\n",
       " 0.7545377510837841,\n",
       " 0.23156155396104813,\n",
       " 0.5583594773296089,\n",
       " 0.5654502583086739,\n",
       " 0.2722402448409557,\n",
       " 0.6254108974649926,\n",
       " 0.1852226782645149,\n",
       " 0.24443691942303658,\n",
       " 0.41990264873836136,\n",
       " 0.31646432621039583,\n",
       " 0.19803584389335632,\n",
       " 0.7317104123178425,\n",
       " 0.29077579511956786,\n",
       " 0.2922063912820129,\n",
       " 0.08887513671562004,\n",
       " 0.3243015051872616,\n",
       " 0.6525300247182655,\n",
       " 0.45846654529117775,\n",
       " 0.2808238218156147,\n",
       " 0.11885545629377746,\n",
       " 0.6874863309484005,\n",
       " 0.3664729920627613,\n",
       " 0.32361730702261354,\n",
       " 0.24941290607501412,\n",
       " 0.46201193578071215,\n",
       " 0.23156155396104813,\n",
       " -0.03670632641363907,\n",
       " 0.3942141176475296,\n",
       " 0.32007191653308104,\n",
       " 0.3386074668116951,\n",
       " 0.6096743396781178,\n",
       " 0.604014154861494,\n",
       " 0.14448178755145835,\n",
       " 0.2537046945623417,\n",
       " 0.4677343204304867,\n",
       " 0.21800199033441162,\n",
       " 0.4549211548016453,\n",
       " 0.13807520473703766,\n",
       " 0.8786264182174511,\n",
       " 0.31080414139377405,\n",
       " 0.371386778881588,\n",
       " 0.177323299454504,\n",
       " 0.5504600985195961,\n",
       " 0.4855856725444508,\n",
       " 0.5333551444034252,\n",
       " 0.345014049626112,\n",
       " 0.7623749300606479,\n",
       " 0.4006829002951012,\n",
       " 0.5440535157051773,\n",
       " 0.469849114757576,\n",
       " 0.2180019903344097,\n",
       " 0.11313307164400672,\n",
       " 0.4263714313859291,\n",
       " 0.2522740983998985,\n",
       " 0.036067478371519086,\n",
       " 0.4448447818313923,\n",
       " 0.5205419787745876,\n",
       " 0.3899845289933529,\n",
       " 0.40777368127416613,\n",
       " 0.23933653310476113,\n",
       " 0.41274966792614365,\n",
       " 0.4284862257130203,\n",
       " 0.02113951841558838]"
      ]
     },
     "execution_count": 27,
     "metadata": {},
     "output_type": "execute_result"
    }
   ],
   "source": [
    "bootstrap_model(df_1)"
   ]
  },
  {
   "cell_type": "code",
   "execution_count": 28,
   "metadata": {
    "scrolled": true
   },
   "outputs": [
    {
     "name": "stdout",
     "output_type": "stream",
     "text": [
      "Средняя прибыль: 0.32466956596255664\n",
      "95%-доверительный интервал: [-0.19856968085540044, 0.8649035020278184]\n",
      "Количество убыточных скважин: 120\n"
     ]
    },
    {
     "data": {
      "text/plain": [
       "[0.4831995265115643,\n",
       " 0.4213986363471699,\n",
       " -0.03716143693528938,\n",
       " 0.31124039413768007,\n",
       " 0.5079215019223347,\n",
       " -0.02802754630999756,\n",
       " 0.20767828352224924,\n",
       " 0.09446335555518913,\n",
       " 0.355627479564476,\n",
       " 0.1768666455999012,\n",
       " 0.5139458548271504,\n",
       " 0.17370480264806556,\n",
       " 0.04386604429289818,\n",
       " -0.06846283559000588,\n",
       " 0.49180367933759117,\n",
       " -0.008566022168207168,\n",
       " 0.15620317642868806,\n",
       " -0.011398223379587173,\n",
       " 0.5851221178738288,\n",
       " 0.12912677901851846,\n",
       " -0.11236755841032028,\n",
       " 0.287093794304554,\n",
       " -0.5514779705783787,\n",
       " 0.5820448239852162,\n",
       " -0.13195332649416353,\n",
       " 0.5192560548955212,\n",
       " 0.1689080401229992,\n",
       " 0.31527676093219564,\n",
       " 0.8572772065947933,\n",
       " 0.5631099254575215,\n",
       " -0.26671188414472197,\n",
       " 0.4185149081004486,\n",
       " 0.4402799072382984,\n",
       " 0.16786368083485795,\n",
       " 0.19133226292611885,\n",
       " -0.13077953013220978,\n",
       " 0.5896113341279411,\n",
       " 0.6873541544593181,\n",
       " 0.33717704585827635,\n",
       " 0.41112776987436295,\n",
       " 0.12488596553673363,\n",
       " 0.3108838301318207,\n",
       " 0.4862537473974247,\n",
       " 0.45579207815538786,\n",
       " 0.3125556987870655,\n",
       " -0.19119166976496504,\n",
       " 0.03907375271626854,\n",
       " 0.5275176008717003,\n",
       " 0.3944303119614792,\n",
       " 0.26885261765057755,\n",
       " 0.04631455717230034,\n",
       " 0.42774639409726145,\n",
       " 0.3873200021036186,\n",
       " 0.6340792116691722,\n",
       " 0.4338607399651432,\n",
       " 0.043224678801496504,\n",
       " 0.37532172635513117,\n",
       " 0.3313007619781895,\n",
       " 0.23461029310918427,\n",
       " 0.14117347050799178,\n",
       " 0.44967853968851473,\n",
       " 0.35348288029946134,\n",
       " 0.3605946098072567,\n",
       " -0.028347210927330016,\n",
       " 0.6253119951422005,\n",
       " 0.3224900779929333,\n",
       " 0.4230040162393513,\n",
       " 0.12997198801646995,\n",
       " 0.4771093375284977,\n",
       " 0.20188883432086754,\n",
       " 0.47831365622852895,\n",
       " 0.5895033631486034,\n",
       " 0.6784785509502526,\n",
       " 0.476191009022541,\n",
       " 0.19742562070175362,\n",
       " 0.38935247152892877,\n",
       " -0.27362331334739115,\n",
       " 0.4252874504403038,\n",
       " 0.427751717151453,\n",
       " 0.32996923390112304,\n",
       " 0.8353401984114189,\n",
       " 0.004945432660198212,\n",
       " -0.13696671003737068,\n",
       " 0.12952957963166617,\n",
       " 0.5664839143588752,\n",
       " 0.4662074961571388,\n",
       " 0.26929442262582015,\n",
       " -0.3464278731868286,\n",
       " 0.27736855931423,\n",
       " 0.22885204299949838,\n",
       " 0.3627566495921288,\n",
       " 0.08127980236247635,\n",
       " -0.007612532446407318,\n",
       " 0.47921446225403974,\n",
       " 0.25151500144627764,\n",
       " 0.5966245801527252,\n",
       " 0.3674106408043537,\n",
       " 0.5065467097346534,\n",
       " 0.8452649926604061,\n",
       " 0.21751602517191507,\n",
       " 0.13370152284805678,\n",
       " 0.35727080983150483,\n",
       " 0.004341942500883102,\n",
       " 0.6786743026843758,\n",
       " 0.332084829903656,\n",
       " 0.5652122304548817,\n",
       " 0.14911315736790468,\n",
       " -0.09954192928957749,\n",
       " 0.6229811630001258,\n",
       " 0.33287890045208357,\n",
       " 0.5590604287236137,\n",
       " 0.16688109956713867,\n",
       " 0.8060659900295143,\n",
       " 0.05614859442262268,\n",
       " 0.38123852758388327,\n",
       " 0.8740680900944977,\n",
       " 0.12331454627413177,\n",
       " 0.3681027865792694,\n",
       " 0.43623570191348077,\n",
       " 0.47073674585682296,\n",
       " 0.3431039888131313,\n",
       " 0.5760402770865326,\n",
       " 0.5205080946381855,\n",
       " -0.09900314487667657,\n",
       " -0.43820159680381204,\n",
       " 0.2152673758033676,\n",
       " 0.6617417735493603,\n",
       " 0.3804798796831722,\n",
       " 0.1371147762660961,\n",
       " 0.2835371959300556,\n",
       " 0.12238499520700073,\n",
       " 0.4333104990511856,\n",
       " 0.04293030234090042,\n",
       " -0.07562744245660973,\n",
       " 0.15891698255041695,\n",
       " 0.09036590078657342,\n",
       " 0.6319678641277313,\n",
       " 0.3132424895758591,\n",
       " 0.8665054690489464,\n",
       " 0.188885791850338,\n",
       " 0.8275958323131104,\n",
       " 0.6011671594089985,\n",
       " 0.6642276978654422,\n",
       " 0.2882632756109295,\n",
       " 0.7567452996645813,\n",
       " 0.645995120795227,\n",
       " 0.40239851430347634,\n",
       " 0.5076865700093498,\n",
       " 0.24062949657781219,\n",
       " -0.10791511414784623,\n",
       " 0.15751584514723396,\n",
       " 0.3359313268811264,\n",
       " 0.39988517703632165,\n",
       " 0.27864316545518114,\n",
       " -0.09859618240533828,\n",
       " 0.025037911127264022,\n",
       " 0.2999432212507591,\n",
       " 0.2311695970420685,\n",
       " 0.6036218054886894,\n",
       " 0.28153198665354917,\n",
       " 0.9243503464211712,\n",
       " 0.052030222352321624,\n",
       " 0.4902166815467663,\n",
       " 0.286993302967495,\n",
       " 0.4967232282853794,\n",
       " 0.486405422879364,\n",
       " 0.296777011171196,\n",
       " 0.635025970630724,\n",
       " 0.27206639515283587,\n",
       " 0.23865859893116378,\n",
       " 0.3635686304637661,\n",
       " 1.0527239882352046,\n",
       " 0.22695743879060554,\n",
       " 0.5316235864075203,\n",
       " 0.46457764196710777,\n",
       " -0.6511780732897549,\n",
       " 0.4051978739828834,\n",
       " 0.5833820114253006,\n",
       " 0.3373864606375084,\n",
       " 0.48324135122470285,\n",
       " 0.395657907591526,\n",
       " 0.7157417684100208,\n",
       " 0.3896605233923588,\n",
       " 0.6244289359086322,\n",
       " 0.35616777304018976,\n",
       " 0.27199191103372194,\n",
       " 0.3861311734423809,\n",
       " 0.4708705296958141,\n",
       " 0.5212399264648171,\n",
       " 0.2860844061589794,\n",
       " 0.47100873455882264,\n",
       " -0.009886721547294617,\n",
       " -0.06571067232657242,\n",
       " 0.7682329411036873,\n",
       " 0.2495311046935272,\n",
       " 0.5834073930932083,\n",
       " 0.11110379245709229,\n",
       " -0.12931873169714164,\n",
       " 0.6876013759550342,\n",
       " 0.07668461166199875,\n",
       " 0.5302842073051548,\n",
       " 0.828218357544096,\n",
       " 0.042697843698911664,\n",
       " 0.7322216940631103,\n",
       " 0.21548035520256997,\n",
       " 0.1901106712990055,\n",
       " 0.3634267160685005,\n",
       " 0.09074751349234199,\n",
       " 0.3674285560951652,\n",
       " 0.06602812316043853,\n",
       " 0.3426127762881641,\n",
       " 0.1802180485407753,\n",
       " 0.7553162401419621,\n",
       " -0.04278907299947166,\n",
       " 0.5246910478170376,\n",
       " 0.6025551566749935,\n",
       " 0.191935309562788,\n",
       " 0.25189410772429277,\n",
       " 0.35213135517456245,\n",
       " 0.28208502199544333,\n",
       " 0.6069610274538841,\n",
       " 0.33886067689316557,\n",
       " 0.7073382881164513,\n",
       " 0.6351807786367455,\n",
       " -0.09266923933025742,\n",
       " 0.3444184629559822,\n",
       " 0.4641424199829273,\n",
       " 0.11337150957899857,\n",
       " -0.12377476975067901,\n",
       " 0.3258009003852787,\n",
       " 0.3378614164407063,\n",
       " 0.4633707376955681,\n",
       " -0.09758288413702393,\n",
       " 0.2122986248476887,\n",
       " -0.11304113892580986,\n",
       " 0.4936186868755188,\n",
       " 0.1513036267378788,\n",
       " 0.8082421583552246,\n",
       " 0.5228418947475338,\n",
       " 0.39244405472854044,\n",
       " 0.5256831792672424,\n",
       " 0.5723760552212772,\n",
       " 0.5654338941415691,\n",
       " 0.4397015164360599,\n",
       " 0.7251220820275135,\n",
       " 0.4746722516142712,\n",
       " 0.6504302060893878,\n",
       " 0.12867003754819298,\n",
       " -0.0006748560460777283,\n",
       " -0.1527515964747505,\n",
       " 0.05971625896035766,\n",
       " -0.09004691677621078,\n",
       " 0.2818086500229397,\n",
       " 0.4107896116755352,\n",
       " 0.22627063997784425,\n",
       " 0.5644558107113286,\n",
       " 0.5902221024310131,\n",
       " 0.1907639005754471,\n",
       " 0.5989349349712791,\n",
       " -0.19657031989361573,\n",
       " 0.4040292106634483,\n",
       " 0.3213721996993904,\n",
       " 0.5017821939597931,\n",
       " 0.6685168031359195,\n",
       " 0.7143022959285984,\n",
       " 0.42181673735536385,\n",
       " 0.2781313389560261,\n",
       " 0.15517464321297073,\n",
       " 0.512411662048624,\n",
       " 0.4808966652892094,\n",
       " 0.2506226903152218,\n",
       " 0.6095651624324073,\n",
       " 0.5426798765201073,\n",
       " 0.4949936987771492,\n",
       " 0.302878453957489,\n",
       " 1.0342914547250996,\n",
       " 0.5125150155441265,\n",
       " 0.2236150933328781,\n",
       " -0.12574247650761605,\n",
       " 0.3653303621420155,\n",
       " 0.1775062656909752,\n",
       " 0.2805964115430088,\n",
       " 0.32917322428790474,\n",
       " -0.12001052221369553,\n",
       " 0.4086779688919487,\n",
       " 0.004192960047224045,\n",
       " 0.011766792311758041,\n",
       " 0.4727786004078617,\n",
       " 0.4534848900303802,\n",
       " 0.26332598336303137,\n",
       " 0.3037071849219551,\n",
       " 0.28530201073657036,\n",
       " 0.24510702196033668,\n",
       " 0.24245887947348213,\n",
       " 0.096129525035038,\n",
       " 0.467238530513237,\n",
       " 0.7162658479687806,\n",
       " 0.1466900560564556,\n",
       " -0.007474802835161209,\n",
       " 0.4765213550025101,\n",
       " 0.2939124896323452,\n",
       " 0.0745071077153759,\n",
       " -0.17295234633205794,\n",
       " 0.09642891718776703,\n",
       " 0.8825126213439141,\n",
       " 0.5853376880643483,\n",
       " 0.44099387452617456,\n",
       " 0.5001928616645813,\n",
       " 0.16380836321050454,\n",
       " -0.12065864774758339,\n",
       " 0.21243955861166,\n",
       " -0.24068359194649125,\n",
       " 0.24478926950279045,\n",
       " -0.017419070970731736,\n",
       " 0.541886590063509,\n",
       " 0.34033347058527563,\n",
       " 0.37757267225024604,\n",
       " 0.3661710971095352,\n",
       " 0.27564396723155976,\n",
       " 0.2906634610713501,\n",
       " 0.45741647412467196,\n",
       " 0.25179153922070313,\n",
       " 0.4773698101302509,\n",
       " 0.37106232965210345,\n",
       " 0.6869276412513085,\n",
       " 0.30162594281098365,\n",
       " -0.2596103572555828,\n",
       " -0.24470110642695045,\n",
       " 0.04216205276997376,\n",
       " 0.6203362004370689,\n",
       " 0.35531378650951767,\n",
       " 0.26844949090825654,\n",
       " 0.9043458894430427,\n",
       " 0.7324091018807163,\n",
       " 0.307845551887228,\n",
       " 0.18878393930357934,\n",
       " 0.31474788962650874,\n",
       " 0.5913504295453453,\n",
       " 0.7636966662791596,\n",
       " 0.7285176327721291,\n",
       " 0.1705593283539295,\n",
       " 0.6165097553659611,\n",
       " -0.045291977703279494,\n",
       " 0.33516390995877837,\n",
       " 0.5744732529633312,\n",
       " 0.9813328238864689,\n",
       " 0.16552187914925956,\n",
       " 0.45869778044127657,\n",
       " 0.5638046537394695,\n",
       " 0.6179687444139232,\n",
       " 0.479986518111187,\n",
       " 0.11049830168835639,\n",
       " 0.40294549031889726,\n",
       " 0.18275614700876044,\n",
       " 0.24246252546707153,\n",
       " 0.20897222977968788,\n",
       " -0.022681747458396913,\n",
       " 0.5468735615747509,\n",
       " 0.25935538031993294,\n",
       " 0.6590366358815918,\n",
       " -0.0991975556708374,\n",
       " 0.08683809353098107,\n",
       " 0.031741995116775515,\n",
       " 0.597750509192955,\n",
       " 0.3808792887897301,\n",
       " 0.4583775420387764,\n",
       " 0.022587872963848114,\n",
       " 0.29477684254028513,\n",
       " 0.3242595860264244,\n",
       " 0.5764495227339154,\n",
       " 0.044185507728216174,\n",
       " 0.6456292726936741,\n",
       " 0.11272537206204795,\n",
       " 0.45599086072624967,\n",
       " 0.45764085401745414,\n",
       " 0.12077565018134118,\n",
       " 0.2473691741582966,\n",
       " 0.10756929977667236,\n",
       " 0.08093667090638733,\n",
       " -0.09503705362164688,\n",
       " 0.8586304188267269,\n",
       " 0.328516985095068,\n",
       " 0.775524478127758,\n",
       " -0.02809037222714424,\n",
       " 0.13913119721896552,\n",
       " 0.5415930833633041,\n",
       " 0.22181191477213097,\n",
       " 0.4951101700365753,\n",
       " 0.7065648510962677,\n",
       " 0.09239730183592987,\n",
       " 0.16843202707048224,\n",
       " 0.6051950694554367,\n",
       " 0.36126059090768053,\n",
       " 0.9268774679048386,\n",
       " 0.48781938331569097,\n",
       " -0.04894175102050209,\n",
       " 0.46143913505351447,\n",
       " -0.37576370152061844,\n",
       " -0.0004939259972076416,\n",
       " 0.5038405334549808,\n",
       " 0.28563587381279565,\n",
       " 0.29947229150176047,\n",
       " 0.46296262880364036,\n",
       " 0.3006674223817177,\n",
       " 0.7839801426529427,\n",
       " 0.3319916649167023,\n",
       " 0.29767823420123674,\n",
       " 0.25435396871005056,\n",
       " 0.30406789172268295,\n",
       " 0.6410950034408303,\n",
       " 0.48355295705094337,\n",
       " 0.6140906481378708,\n",
       " 0.6432697636101399,\n",
       " 0.19471499710578727,\n",
       " 0.15478973867350387,\n",
       " 0.4159995034197483,\n",
       " 0.2155584934786129,\n",
       " 0.686827786895813,\n",
       " 0.2779467206519146,\n",
       " 0.900846563109993,\n",
       " 0.551483184318695,\n",
       " 0.6348415833886223,\n",
       " -0.6260555061938744,\n",
       " -0.25390503604851533,\n",
       " 0.17957854756915856,\n",
       " 0.6590785405741291,\n",
       " 0.6709894361905403,\n",
       " 0.14530546864617347,\n",
       " 0.13971359592897226,\n",
       " 0.2592560958093033,\n",
       " 0.2887247683371277,\n",
       " 0.32370400770332336,\n",
       " -0.04725941155436325,\n",
       " 0.6180704325524444,\n",
       " 0.20835464927666664,\n",
       " 0.19714374473358154,\n",
       " 0.3931118091760387,\n",
       " -0.05610984842016983,\n",
       " 0.21189206061872481,\n",
       " -0.006973983356197357,\n",
       " 0.5449840224796143,\n",
       " 0.19082171467495154,\n",
       " 0.010596367315879821,\n",
       " 0.619997844418726,\n",
       " 0.21901094572795105,\n",
       " 0.24571332179323577,\n",
       " 0.24623061432652282,\n",
       " 0.12386987156684875,\n",
       " 0.7238018529711971,\n",
       " 0.014699344558362961,\n",
       " 0.12353781580128478,\n",
       " 0.4583667811985245,\n",
       " -0.13515029111974336,\n",
       " 0.5627632307713757,\n",
       " 0.5396721049285889,\n",
       " -0.19851513618743133,\n",
       " 0.25812140712604525,\n",
       " -0.05799766506206703,\n",
       " 0.3402599951086807,\n",
       " 0.24243648932337952,\n",
       " 0.614755888342535,\n",
       " 0.35970190428049087,\n",
       " -0.09656617860035514,\n",
       " 0.908498223597126,\n",
       " 0.447828808166584,\n",
       " 0.616617934087038,\n",
       " 0.03519164945407295,\n",
       " 0.5248464811637821,\n",
       " 0.051058622016469955,\n",
       " 0.15784187759691237,\n",
       " 0.7131965610540981,\n",
       " 0.2660335201165867,\n",
       " 0.22462397452941896,\n",
       " 0.45501982492376136,\n",
       " -0.1773796652731552,\n",
       " 0.23987510167984963,\n",
       " 0.5659031285279522,\n",
       " 0.2939394263996105,\n",
       " 0.3831732457756481,\n",
       " 0.42380212605034256,\n",
       " 0.5180338557475834,\n",
       " 0.5405581588093281,\n",
       " 0.5277725753369179,\n",
       " 0.1959887890509243,\n",
       " 0.5811051969478168,\n",
       " 0.0874842104238987,\n",
       " -0.16406379095989798,\n",
       " 0.35618160070444677,\n",
       " 0.561147533674614,\n",
       " 0.08394989572011947,\n",
       " -0.10590291982385826,\n",
       " 0.147375220509758,\n",
       " 0.25696132178638076,\n",
       " 0.15761664600149344,\n",
       " 0.3097471796257896,\n",
       " 0.49150044330000303,\n",
       " 0.1924993680473671,\n",
       " 0.20249062077770805,\n",
       " 0.09556448628771783,\n",
       " 0.4012071077046547,\n",
       " 0.5703973375120373,\n",
       " 0.3401420580340309,\n",
       " 0.38146260714656066,\n",
       " 0.19702032901535416,\n",
       " 0.8421837335634194,\n",
       " 0.5578876008452854,\n",
       " 0.2163772685741787,\n",
       " 0.41242710304756164,\n",
       " 0.5531156687508545,\n",
       " 0.6126465980205479,\n",
       " 0.4758000582068748,\n",
       " 0.47639380579392815,\n",
       " 0.48378725163578035,\n",
       " 0.15600247705651282,\n",
       " 0.4651067031914082,\n",
       " 0.40084536292157175,\n",
       " 0.5827958839587384,\n",
       " 0.8609267542856006,\n",
       " 0.28659421521639633,\n",
       " 0.8551551854239178,\n",
       " 0.7762928840697804,\n",
       " 0.7851872087627602,\n",
       " 0.12001151318276024,\n",
       " 0.795810201505333,\n",
       " 0.4234958290682106,\n",
       " 0.41771253413637927,\n",
       " 0.4050795248025017,\n",
       " -0.07765680475412559,\n",
       " 0.3446192172369862,\n",
       " 0.3978113992422657,\n",
       " 0.3069224436512909,\n",
       " 0.6930000554879646,\n",
       " 0.15803799881874467,\n",
       " 0.2582911401625252,\n",
       " 0.37089333802326013,\n",
       " 0.14424613179213713,\n",
       " 0.4047722768374691,\n",
       " 0.5869765597864894,\n",
       " -0.10988588964435578,\n",
       " 0.352944327505909,\n",
       " 0.5901640531781559,\n",
       " 0.2420414187738991,\n",
       " 0.04591665427341461,\n",
       " 0.39637226235279466,\n",
       " 0.3509756799829636,\n",
       " 0.11211338805919838,\n",
       " 0.08989667618136406,\n",
       " 0.08285147146924782,\n",
       " 0.24917131599570275,\n",
       " 0.13187992639730836,\n",
       " 0.48326870104658315,\n",
       " 0.2940711751487236,\n",
       " 0.47642536567644883,\n",
       " -0.023344426926498414,\n",
       " 0.179747069340765,\n",
       " -0.09522517459440803,\n",
       " 0.42456155363074305,\n",
       " -0.41384041260158727,\n",
       " 0.009519574591760635,\n",
       " 0.11079782827910233,\n",
       " 0.3591321937044277,\n",
       " 0.8903092702149181,\n",
       " 0.5624311366995601,\n",
       " -0.14333567850058174,\n",
       " 0.44343377494467734,\n",
       " 0.30388192527670477,\n",
       " -0.008706522532474517,\n",
       " 0.6845655786076412,\n",
       " 0.19950400493013953,\n",
       " 0.2692991926637421,\n",
       " 0.3413040516395607,\n",
       " -0.05924875610243225,\n",
       " -0.07894832200074005,\n",
       " 0.09136809719225883,\n",
       " 0.4676779839955349,\n",
       " 0.3171031998647137,\n",
       " 0.43280204328237915,\n",
       " 0.543769378334858,\n",
       " 0.29868474575019643,\n",
       " 0.5102644978210659,\n",
       " 0.5510296336173458,\n",
       " 0.6691088629598427,\n",
       " 0.3616846112014332,\n",
       " 1.0282454494308033,\n",
       " 0.5855490728551388,\n",
       " 0.8807063089699287,\n",
       " 0.08998461662455368,\n",
       " 0.3421564496045265,\n",
       " 0.02866130543463707,\n",
       " 0.3694017686856327,\n",
       " 0.40338965700826834,\n",
       " -0.019953109924020766,\n",
       " 0.3742936915542984,\n",
       " 0.7428811555184879,\n",
       " 0.1829103250656376,\n",
       " 0.3981600149178524,\n",
       " 0.3922681464145756,\n",
       " 0.6152822647521591,\n",
       " 0.4548860237683868,\n",
       " 0.03823138460783195,\n",
       " 0.3902151464888077,\n",
       " 0.1046555227066021,\n",
       " 0.4817647989234161,\n",
       " 0.6434692297755413,\n",
       " 0.760823230453394,\n",
       " 0.58333674108461,\n",
       " 0.3731184341637993,\n",
       " 0.355390076209816,\n",
       " 0.4117877729404011,\n",
       " 0.2767794117233658,\n",
       " 0.025713988588228227,\n",
       " 0.15843206028253365,\n",
       " 0.4467547852224293,\n",
       " 0.16485442700889397,\n",
       " 0.21224597689134025,\n",
       " 0.25038538139632416,\n",
       " 0.11304041965563202,\n",
       " 0.25912649010356903,\n",
       " 0.4873378259151535,\n",
       " 0.008392729466358185,\n",
       " -0.5705640052695541,\n",
       " 0.28474918824394035,\n",
       " 0.5806784586355037,\n",
       " 0.24844825143274116,\n",
       " 0.053987159430334095,\n",
       " 0.08702408733973313,\n",
       " 0.3472244783632107,\n",
       " 0.13922263235693932,\n",
       " 0.4077953247209988,\n",
       " 0.3051045828129616,\n",
       " 1.0099106958385278,\n",
       " 0.5587853177414321,\n",
       " 0.6281224823526249,\n",
       " 0.04850020225930405,\n",
       " 0.29714728008587077,\n",
       " 0.0788528794058094,\n",
       " 0.09640837417491341,\n",
       " 0.5217181299002609,\n",
       " 0.5210131554646664,\n",
       " 0.31253086923558043,\n",
       " 0.30187712787125204,\n",
       " 0.44383497387236404,\n",
       " 0.22370838068521118,\n",
       " 0.7113536777782421,\n",
       " 0.6754113302612305,\n",
       " 0.21756078393027686,\n",
       " 0.4335489793960247,\n",
       " -0.10924478052386856,\n",
       " 0.07185646187426949,\n",
       " 0.8080602849856033,\n",
       " -0.15246755326995468,\n",
       " 0.3618916062858543,\n",
       " 0.48013222544713213,\n",
       " 0.19649702296355248,\n",
       " 0.35624155254617307,\n",
       " 0.09105042782110977,\n",
       " 0.4148728412363968,\n",
       " 0.6735079939897938,\n",
       " 0.20425788577441026,\n",
       " 0.4461590099729767,\n",
       " 0.34753542743177795,\n",
       " 0.12608504518912125,\n",
       " 0.4248392748365879,\n",
       " 0.01705685407380295,\n",
       " 0.4816732479356518,\n",
       " 0.8053241278662376,\n",
       " 0.509768350938551,\n",
       " 0.44500347249733735,\n",
       " 0.35025219438351823,\n",
       " 0.45311757654172324,\n",
       " 0.062264418228912356,\n",
       " 0.26473376951743505,\n",
       " 0.04319593710813523,\n",
       " -0.17757829295223618,\n",
       " 0.5297239722072353,\n",
       " 0.40609002356015206,\n",
       " 0.006842871846672058,\n",
       " 0.34217131982202337,\n",
       " 0.20137904095279122,\n",
       " 0.22546546166628265,\n",
       " 0.053681026150560376,\n",
       " 0.06887121892813683,\n",
       " 0.46805841310235213,\n",
       " 0.4192464022601318,\n",
       " 0.4737008583681431,\n",
       " 0.6768669140893001,\n",
       " 0.33031366186356736,\n",
       " -0.143026575689785,\n",
       " 0.23369624721961213,\n",
       " 0.688061637354042,\n",
       " 0.3470376075323315,\n",
       " 0.3593872408237076,\n",
       " 0.2569961298472061,\n",
       " 0.042823613803146365,\n",
       " 0.7800216783608952,\n",
       " 0.40833798600847815,\n",
       " -0.2006969229061966,\n",
       " 0.8480979271793633,\n",
       " 0.3294763235834236,\n",
       " 0.502692516405241,\n",
       " 0.9004909519035511,\n",
       " 0.22029049645266724,\n",
       " 0.14740315078406524,\n",
       " 0.17606538805550956,\n",
       " 0.6615313034182091,\n",
       " 0.3115071503698635,\n",
       " 0.337534585415617,\n",
       " 0.5126464575295449,\n",
       " 0.40187348559197045,\n",
       " 0.4360632233536644,\n",
       " 0.24914849736326028,\n",
       " 0.4021330105492611,\n",
       " -0.07010103161351013,\n",
       " 0.21620362446639443,\n",
       " 0.016669054638996126,\n",
       " -0.04391208899333191,\n",
       " 0.530703363368124,\n",
       " 0.4165542739026394,\n",
       " 0.16215367245375062,\n",
       " 0.8769457996614304,\n",
       " 0.4533287838987923,\n",
       " 0.023473240280218126,\n",
       " -0.06469862930322266,\n",
       " 0.02052299606703186,\n",
       " 0.6072679686567459,\n",
       " 0.019949421758470535,\n",
       " 0.23845725784344482,\n",
       " 0.32928836459786415,\n",
       " 0.29308791646029475,\n",
       " 0.4428552516585426,\n",
       " 0.16505277155671882,\n",
       " 0.772318997683321,\n",
       " 0.5084289906543236,\n",
       " -0.0159184230405159,\n",
       " -0.006239216822488785,\n",
       " 0.5527985370568314,\n",
       " 0.5154707183426532,\n",
       " 0.3231986514684944,\n",
       " -0.21734115404522322,\n",
       " -0.18483950928110313,\n",
       " 0.3955811744561844,\n",
       " 0.03610789458440399,\n",
       " 0.1505608178268585,\n",
       " 0.5268307510300484,\n",
       " -0.05755941559970283,\n",
       " 0.08759453276745796,\n",
       " -0.15029373835470392,\n",
       " 0.3653778235294952,\n",
       " -0.11451023152359963,\n",
       " 0.4674225337429962,\n",
       " 0.7403245796851635,\n",
       " 0.31771312568525506,\n",
       " 0.3355572304696064,\n",
       " 0.27041917482366945,\n",
       " 1.0672728267584115,\n",
       " 0.008436296661148071,\n",
       " 0.42912742916999624,\n",
       " 0.39178301959685896,\n",
       " 0.07137067789565277,\n",
       " 0.6605317404478702,\n",
       " 0.691121948805666,\n",
       " -0.12209959151951981,\n",
       " 0.23844024507668113,\n",
       " 0.19433692582568168,\n",
       " -0.10189609139055443,\n",
       " 1.067650631105322,\n",
       " 0.05383524038916779,\n",
       " 0.3817434413108997,\n",
       " 0.14726051974311447,\n",
       " 0.7729044892732982,\n",
       " 0.3338833418141022,\n",
       " 0.6815982909188842,\n",
       " 0.34543423183387373,\n",
       " 0.19832145434182358,\n",
       " -0.3337667890166168,\n",
       " 0.4920498318222809,\n",
       " 0.24107522555228614,\n",
       " 0.11881493466783333,\n",
       " 0.3572347073272991,\n",
       " -0.3476051467801151,\n",
       " 0.7739867550922298,\n",
       " 0.6392700685762901,\n",
       " 0.4736400322129135,\n",
       " 0.29712906196789934,\n",
       " 0.1660746698775959,\n",
       " -0.07300595832053566,\n",
       " 0.494723708534071,\n",
       " 0.6825071911390724,\n",
       " 0.7767467719126339,\n",
       " 0.3384178443053417,\n",
       " 0.018736595223796844,\n",
       " 0.4180971870325184,\n",
       " 0.4381254348030548,\n",
       " 0.057379651890005115,\n",
       " 0.547698411179533,\n",
       " 0.3370107063350353,\n",
       " 0.8883202660487461,\n",
       " 0.48628419562190245,\n",
       " 0.29544042407905385,\n",
       " 0.6057853797968598,\n",
       " 0.30824464501324655,\n",
       " 0.2448203927512169,\n",
       " 0.2991845543641701,\n",
       " 0.9521573521508045,\n",
       " 0.6579638047115708,\n",
       " -0.31200372537398147,\n",
       " 0.18333933604684638,\n",
       " 0.3262504274715271,\n",
       " 0.33399049088461497,\n",
       " -0.18605510729382133,\n",
       " 0.2893126078106003,\n",
       " 0.4247287791705647,\n",
       " 0.5056145146538505,\n",
       " 0.021718812282392502,\n",
       " 0.4483788841559486,\n",
       " -0.026682907794015883,\n",
       " 0.21158144273612214,\n",
       " 0.33965063720022776,\n",
       " 0.43474427020331763,\n",
       " -0.07085636121840477,\n",
       " 0.6808611655751591,\n",
       " 0.6398232974696922,\n",
       " 0.4871172911023922,\n",
       " 0.0568108285631485,\n",
       " 0.1703760662416363,\n",
       " 0.6104450501635285,\n",
       " 0.42048524113015173,\n",
       " 0.22417158313039018,\n",
       " 0.5828235619545975,\n",
       " 0.527959994157898,\n",
       " 0.5373897346589813,\n",
       " 0.5045385367774659,\n",
       " 0.27248235648703767,\n",
       " 0.32260826010082055,\n",
       " 0.09887714624335098,\n",
       " 0.24843551527233504,\n",
       " 0.6847862385735817,\n",
       " -0.1259489831212845,\n",
       " 0.2361309932906933,\n",
       " 0.10429396438527298,\n",
       " 0.5527045840499001,\n",
       " 0.5098748490974578,\n",
       " 0.16662545676218415,\n",
       " 0.6058235937241153,\n",
       " 0.05631260978966713,\n",
       " 0.2559388448696499,\n",
       " 0.30430415197974015,\n",
       " 0.39604851522604945,\n",
       " 0.19973655222259712,\n",
       " 0.3590941628429585,\n",
       " 0.5811455301561202,\n",
       " -0.3533902514191933,\n",
       " 0.011426220587781906,\n",
       " 0.7039772308545075,\n",
       " -0.08728932056956482,\n",
       " 0.12050601599831771,\n",
       " 0.5587908434826717,\n",
       " 0.5066096442990684,\n",
       " 0.4698772528649883,\n",
       " 0.03913209322142219,\n",
       " 0.24902564023268317,\n",
       " 0.4753816166867428,\n",
       " 0.49935267681367684,\n",
       " 0.4558572443966522,\n",
       " -0.07846158859287262,\n",
       " 0.3764896077313156,\n",
       " 0.05583008432910156,\n",
       " 0.4557450192787971,\n",
       " 0.37974647602039335,\n",
       " 0.5008000342657605,\n",
       " -0.2697115053889866,\n",
       " 0.2790888559383869,\n",
       " 0.2687055926015968,\n",
       " -0.12509246137375832,\n",
       " 0.07764906294939042,\n",
       " 0.19303353138211632,\n",
       " 0.22263340558267403,\n",
       " 0.28775918436170006,\n",
       " 0.2652223219391594,\n",
       " 0.43292002180070116,\n",
       " 0.266964116939064,\n",
       " 0.24749220830934335,\n",
       " -0.36903974995456884,\n",
       " 0.3286140176187687,\n",
       " 0.3138836753997402,\n",
       " 0.08500442598519134,\n",
       " -0.15627257205066492,\n",
       " 0.08093486798234367,\n",
       " 0.3183006953555031,\n",
       " 0.7994771636814594,\n",
       " -0.011444326561388015,\n",
       " 0.1596731563843727,\n",
       " 0.8001454226152821,\n",
       " 0.31753222526453784,\n",
       " 0.4461416582145462,\n",
       " 0.44671833140696715,\n",
       " 0.49663287711729814,\n",
       " 0.0666613128515644,\n",
       " 0.11651862414829255,\n",
       " 0.07931223101147271,\n",
       " 0.5150569661495438,\n",
       " 0.6484468415705833,\n",
       " 0.8247096665644417,\n",
       " 0.6432093280019188,\n",
       " -0.1158440432599945,\n",
       " 0.009727316182769775,\n",
       " 0.18545871386819268,\n",
       " 0.4752409357486381,\n",
       " 0.3214201024318123,\n",
       " 0.5953297832101803,\n",
       " 0.7036601760371857,\n",
       " 0.6417067214515476,\n",
       " 0.3367767467513351,\n",
       " 0.406021280817379,\n",
       " -0.13654519536883544,\n",
       " 0.3929131401346531,\n",
       " 0.6991463275219345,\n",
       " 0.1938093907604084,\n",
       " 0.18378883800221635,\n",
       " 0.1488348238787384,\n",
       " 0.29638433985219576,\n",
       " 0.7797373858158722,\n",
       " 0.35506448051850126,\n",
       " 0.7161467314122314,\n",
       " 0.36087293281648447,\n",
       " 0.381935864764389,\n",
       " -0.01907437319964981,\n",
       " 1.010050918194477,\n",
       " -0.21675213080265046,\n",
       " 0.6616070884122105,\n",
       " 0.48295543233994676,\n",
       " 0.301169965028677,\n",
       " 0.8648624259503537,\n",
       " 0.16238655936029434,\n",
       " 0.412374250093832,\n",
       " 0.27190143642987635,\n",
       " 0.6117551646730786,\n",
       " -0.06556582553098297,\n",
       " -0.07986743524607849,\n",
       " 0.18547013818659783,\n",
       " -0.13732783217463684,\n",
       " 0.3408335672678471,\n",
       " 0.5785801590143814,\n",
       " 0.4182507779451942,\n",
       " -0.16132491841680907,\n",
       " 0.11280544591337395,\n",
       " 0.1671620212863369,\n",
       " 0.42349041368605994,\n",
       " 0.4867816031529789,\n",
       " 0.4798585942522831,\n",
       " 0.442885633445755,\n",
       " 0.13568196614517022,\n",
       " 0.3102795621279621,\n",
       " 0.4070091334215336,\n",
       " 0.999623832794426,\n",
       " 0.13349107885623931,\n",
       " 0.3891448715351696,\n",
       " 0.4451280784638672,\n",
       " 0.5154704255452709,\n",
       " 0.16615029047426796,\n",
       " 0.41308739649406434,\n",
       " 0.3739214897794304,\n",
       " 0.5725046500224056,\n",
       " 0.240335868753294,\n",
       " 0.7242548036078624,\n",
       " -0.23669950648883628,\n",
       " 0.09936143911434364,\n",
       " 0.1598274232368145,\n",
       " 0.14493758223545455,\n",
       " 0.6893323971658001,\n",
       " 0.2333884141971588,\n",
       " 0.12027217874135972,\n",
       " 0.019555468619272234,\n",
       " 0.9655706058183575,\n",
       " 0.12070463243596649,\n",
       " 0.02418081514686203,\n",
       " 0.25091913541407773,\n",
       " 0.7728211299737243,\n",
       " 0.5764745442454662,\n",
       " 0.33631280791818047,\n",
       " 0.3493205324293785,\n",
       " 0.5146955818142147,\n",
       " -0.269268671728014,\n",
       " 0.5029307019569073,\n",
       " 0.10790556075774384,\n",
       " 0.21451403315867806,\n",
       " 0.3352459478764057,\n",
       " 0.6408819451262188,\n",
       " 1.1422234114211598,\n",
       " 0.4807926142188816,\n",
       " 0.5209866974916725,\n",
       " 0.4951045121495495,\n",
       " 0.23568067596296882,\n",
       " -0.013520753939756394,\n",
       " 0.22448978618609047,\n",
       " 0.27409081718138506,\n",
       " 0.7677069204082679,\n",
       " 0.1382446856941738,\n",
       " 0.7122699168945198,\n",
       " -0.12341862742663956]"
      ]
     },
     "execution_count": 28,
     "metadata": {},
     "output_type": "execute_result"
    }
   ],
   "source": [
    "bootstrap_model(df_2)"
   ]
  },
  {
   "cell_type": "markdown",
   "metadata": {},
   "source": [
    "К разработке рекомендуется регион df_1 он второй по средней прибыли, в доверительном интервале нет отрицательной прибыли, риск убытков самый низкий. RMSE самый низкий, те предсказания самые точные."
   ]
  },
  {
   "cell_type": "code",
   "execution_count": 29,
   "metadata": {
    "scrolled": true
   },
   "outputs": [
    {
     "name": "stdout",
     "output_type": "stream",
     "text": [
      "Средняя прибыль: 0.46349197304712947\n",
      "95%-доверительный интервал: [-0.04422241484067911, 0.9538423270104485]\n",
      "Количество убыточных скважин: 37\n",
      "Средняя прибыль: 0.4328706297519098\n",
      "95%-доверительный интервал: [0.025023897995788826, 0.8182023903041669]\n",
      "Количество убыточных скважин: 20\n"
     ]
    },
    {
     "data": {
      "text/plain": [
       "Ttest_indResult(statistic=2.9247161598691793, pvalue=0.00348654999580516)"
      ]
     },
     "execution_count": 29,
     "metadata": {},
     "output_type": "execute_result"
    }
   ],
   "source": [
    "st.ttest_ind(bootstrap_model(df_0), bootstrap_model(df_1))"
   ]
  },
  {
   "cell_type": "code",
   "execution_count": 30,
   "metadata": {
    "scrolled": true
   },
   "outputs": [
    {
     "name": "stdout",
     "output_type": "stream",
     "text": [
      "Средняя прибыль: 0.3333985086320265\n",
      "95%-доверительный интервал: [-0.19662193905492623, 0.8368250357221655]\n",
      "Количество убыточных скважин: 107\n",
      "Средняя прибыль: 0.4369768761369541\n",
      "95%-доверительный интервал: [0.04879356423394895, 0.8393969834499315]\n",
      "Количество убыточных скважин: 14\n"
     ]
    },
    {
     "data": {
      "text/plain": [
       "Ttest_indResult(statistic=-9.543047395445251, pvalue=3.882731854472854e-21)"
      ]
     },
     "execution_count": 30,
     "metadata": {},
     "output_type": "execute_result"
    }
   ],
   "source": [
    "st.ttest_ind(bootstrap_model(df_2), bootstrap_model(df_1))"
   ]
  },
  {
   "cell_type": "code",
   "execution_count": 31,
   "metadata": {
    "scrolled": false
   },
   "outputs": [
    {
     "name": "stdout",
     "output_type": "stream",
     "text": [
      "Средняя прибыль: 0.4511174550479635\n",
      "95%-доверительный интервал: [-0.0509050651717802, 0.9594695228608405]\n",
      "Количество убыточных скважин: 43\n",
      "Средняя прибыль: 0.3295544733086193\n",
      "95%-доверительный интервал: [-0.20818670917954257, 0.8373534133720728]\n",
      "Количество убыточных скважин: 96\n"
     ]
    },
    {
     "data": {
      "text/plain": [
       "Ttest_indResult(statistic=10.473549323305514, pvalue=5.016622864373282e-25)"
      ]
     },
     "execution_count": 31,
     "metadata": {},
     "output_type": "execute_result"
    }
   ],
   "source": [
    "st.ttest_ind(bootstrap_model(df_0), bootstrap_model(df_2))"
   ]
  },
  {
   "cell_type": "markdown",
   "metadata": {},
   "source": [
    "p-value много меньше alpha=0.05.\n",
    "Средние выручки по регионам имеют статистически значимые отличия"
   ]
  }
 ],
 "metadata": {
  "ExecuteTimeLog": [
   {
    "duration": 1097,
    "start_time": "2022-01-22T15:41:09.139Z"
   },
   {
    "duration": 384,
    "start_time": "2022-01-22T15:56:56.431Z"
   },
   {
    "duration": 16,
    "start_time": "2022-01-22T15:56:58.364Z"
   },
   {
    "duration": 10,
    "start_time": "2022-01-22T15:57:00.874Z"
   },
   {
    "duration": 9,
    "start_time": "2022-01-22T15:57:03.515Z"
   },
   {
    "duration": 11,
    "start_time": "2022-01-22T16:02:10.630Z"
   },
   {
    "duration": 12,
    "start_time": "2022-01-22T16:02:12.736Z"
   },
   {
    "duration": 9,
    "start_time": "2022-01-22T16:02:14.723Z"
   },
   {
    "duration": 370,
    "start_time": "2022-01-25T08:12:01.732Z"
   },
   {
    "duration": 1026,
    "start_time": "2022-01-25T08:12:09.937Z"
   },
   {
    "duration": 341,
    "start_time": "2022-01-25T08:12:10.964Z"
   },
   {
    "duration": 15,
    "start_time": "2022-01-25T08:12:11.307Z"
   },
   {
    "duration": 7,
    "start_time": "2022-01-25T08:12:11.324Z"
   },
   {
    "duration": 16,
    "start_time": "2022-01-25T08:12:11.332Z"
   },
   {
    "duration": 23,
    "start_time": "2022-01-25T08:12:11.349Z"
   },
   {
    "duration": 9,
    "start_time": "2022-01-25T08:12:11.374Z"
   },
   {
    "duration": 10,
    "start_time": "2022-01-25T08:12:11.385Z"
   },
   {
    "duration": 22,
    "start_time": "2022-01-25T08:12:11.397Z"
   },
   {
    "duration": 403,
    "start_time": "2022-01-25T08:12:11.420Z"
   },
   {
    "duration": 391,
    "start_time": "2022-01-25T08:12:11.435Z"
   },
   {
    "duration": 312,
    "start_time": "2022-01-25T08:12:59.219Z"
   },
   {
    "duration": 3,
    "start_time": "2022-01-25T08:13:11.298Z"
   },
   {
    "duration": 335,
    "start_time": "2022-01-25T08:13:11.303Z"
   },
   {
    "duration": 7,
    "start_time": "2022-01-25T08:13:11.640Z"
   },
   {
    "duration": 8,
    "start_time": "2022-01-25T08:13:11.649Z"
   },
   {
    "duration": 17,
    "start_time": "2022-01-25T08:13:11.658Z"
   },
   {
    "duration": 11,
    "start_time": "2022-01-25T08:13:11.676Z"
   },
   {
    "duration": 8,
    "start_time": "2022-01-25T08:13:11.688Z"
   },
   {
    "duration": 8,
    "start_time": "2022-01-25T08:13:11.697Z"
   },
   {
    "duration": 14,
    "start_time": "2022-01-25T08:13:11.708Z"
   },
   {
    "duration": 317,
    "start_time": "2022-01-25T08:13:11.723Z"
   },
   {
    "duration": 310,
    "start_time": "2022-01-25T08:13:26.895Z"
   },
   {
    "duration": 17,
    "start_time": "2022-01-25T08:14:03.513Z"
   },
   {
    "duration": 353,
    "start_time": "2022-01-25T08:14:05.787Z"
   },
   {
    "duration": 9,
    "start_time": "2022-01-25T08:15:25.894Z"
   },
   {
    "duration": 670,
    "start_time": "2022-01-25T08:15:28.450Z"
   },
   {
    "duration": 2,
    "start_time": "2022-01-25T08:16:09.869Z"
   },
   {
    "duration": 741,
    "start_time": "2022-01-25T08:16:11.021Z"
   },
   {
    "duration": 412,
    "start_time": "2022-01-25T08:16:25.766Z"
   },
   {
    "duration": 378,
    "start_time": "2022-01-25T08:16:32.598Z"
   },
   {
    "duration": 9,
    "start_time": "2022-01-25T08:17:08.907Z"
   },
   {
    "duration": 11,
    "start_time": "2022-01-25T08:17:14.643Z"
   },
   {
    "duration": 12,
    "start_time": "2022-01-25T08:18:45.150Z"
   },
   {
    "duration": 4,
    "start_time": "2022-01-25T08:19:19.819Z"
   },
   {
    "duration": 9,
    "start_time": "2022-01-25T08:19:23.910Z"
   },
   {
    "duration": 562,
    "start_time": "2022-01-25T08:22:21.183Z"
   },
   {
    "duration": 13,
    "start_time": "2022-01-25T08:22:28.578Z"
   },
   {
    "duration": 14,
    "start_time": "2022-01-25T08:22:29.085Z"
   },
   {
    "duration": 4,
    "start_time": "2022-01-25T08:22:30.050Z"
   },
   {
    "duration": 4,
    "start_time": "2022-01-25T08:22:31.540Z"
   },
   {
    "duration": 4,
    "start_time": "2022-01-25T08:24:16.864Z"
   },
   {
    "duration": 5,
    "start_time": "2022-01-25T08:24:17.716Z"
   },
   {
    "duration": 5,
    "start_time": "2022-01-25T08:26:28.495Z"
   },
   {
    "duration": 12,
    "start_time": "2022-01-25T08:26:37.575Z"
   },
   {
    "duration": 11,
    "start_time": "2022-01-25T08:26:37.983Z"
   },
   {
    "duration": 4,
    "start_time": "2022-01-25T08:26:38.780Z"
   },
   {
    "duration": 5,
    "start_time": "2022-01-25T08:26:39.593Z"
   },
   {
    "duration": 6,
    "start_time": "2022-01-25T08:26:40.861Z"
   },
   {
    "duration": 107,
    "start_time": "2022-01-25T08:42:01.299Z"
   },
   {
    "duration": 4,
    "start_time": "2022-01-25T08:42:12.739Z"
   },
   {
    "duration": 4,
    "start_time": "2022-01-25T08:44:12.072Z"
   },
   {
    "duration": 325,
    "start_time": "2022-01-25T08:50:22.590Z"
   },
   {
    "duration": 4,
    "start_time": "2022-01-25T08:50:27.380Z"
   },
   {
    "duration": 24,
    "start_time": "2022-01-25T08:50:29.312Z"
   },
   {
    "duration": 5,
    "start_time": "2022-01-25T08:52:04.888Z"
   },
   {
    "duration": 25,
    "start_time": "2022-01-25T08:52:07.546Z"
   },
   {
    "duration": 24,
    "start_time": "2022-01-25T08:52:37.897Z"
   },
   {
    "duration": 28,
    "start_time": "2022-01-25T08:52:40.079Z"
   },
   {
    "duration": 105,
    "start_time": "2022-01-25T08:55:20.887Z"
   },
   {
    "duration": 4,
    "start_time": "2022-01-25T08:55:38.083Z"
   },
   {
    "duration": 599,
    "start_time": "2022-01-25T08:55:41.267Z"
   },
   {
    "duration": 5,
    "start_time": "2022-01-25T08:57:13.040Z"
   },
   {
    "duration": 25,
    "start_time": "2022-01-25T08:57:13.786Z"
   },
   {
    "duration": 4,
    "start_time": "2022-01-25T08:57:28.613Z"
   },
   {
    "duration": 30,
    "start_time": "2022-01-25T08:57:30.611Z"
   },
   {
    "duration": 4,
    "start_time": "2022-01-25T08:58:58.952Z"
   },
   {
    "duration": 30,
    "start_time": "2022-01-25T08:59:00.155Z"
   },
   {
    "duration": 3,
    "start_time": "2022-01-25T09:00:20.211Z"
   },
   {
    "duration": 27,
    "start_time": "2022-01-25T09:00:21.239Z"
   },
   {
    "duration": 1041,
    "start_time": "2022-01-25T13:12:37.689Z"
   },
   {
    "duration": 387,
    "start_time": "2022-01-25T13:12:38.732Z"
   },
   {
    "duration": 15,
    "start_time": "2022-01-25T13:12:39.121Z"
   },
   {
    "duration": 11,
    "start_time": "2022-01-25T13:12:39.137Z"
   },
   {
    "duration": 11,
    "start_time": "2022-01-25T13:12:39.150Z"
   },
   {
    "duration": 34,
    "start_time": "2022-01-25T13:12:39.163Z"
   },
   {
    "duration": 11,
    "start_time": "2022-01-25T13:12:39.199Z"
   },
   {
    "duration": 10,
    "start_time": "2022-01-25T13:12:39.212Z"
   },
   {
    "duration": 4,
    "start_time": "2022-01-25T13:12:39.225Z"
   },
   {
    "duration": 71,
    "start_time": "2022-01-25T13:12:39.231Z"
   },
   {
    "duration": 197,
    "start_time": "2022-01-25T13:12:39.304Z"
   },
   {
    "duration": 198,
    "start_time": "2022-01-25T13:12:39.503Z"
   },
   {
    "duration": 95,
    "start_time": "2022-01-25T13:12:39.703Z"
   },
   {
    "duration": 4,
    "start_time": "2022-01-25T13:15:29.568Z"
   },
   {
    "duration": 35,
    "start_time": "2022-01-25T13:15:31.972Z"
   },
   {
    "duration": 104,
    "start_time": "2022-01-25T13:15:34.794Z"
   },
   {
    "duration": 62,
    "start_time": "2022-01-25T13:15:41.137Z"
   },
   {
    "duration": 251,
    "start_time": "2022-01-25T13:18:56.759Z"
   },
   {
    "duration": 405,
    "start_time": "2022-01-25T13:19:08.110Z"
   },
   {
    "duration": 294,
    "start_time": "2022-01-25T13:37:48.445Z"
   },
   {
    "duration": 170,
    "start_time": "2022-01-25T13:38:15.918Z"
   },
   {
    "duration": 5,
    "start_time": "2022-01-25T13:38:21.862Z"
   },
   {
    "duration": 298,
    "start_time": "2022-01-25T13:38:25.915Z"
   },
   {
    "duration": 300,
    "start_time": "2022-01-25T13:39:22.181Z"
   },
   {
    "duration": 5,
    "start_time": "2022-01-25T13:40:17.709Z"
   },
   {
    "duration": 167,
    "start_time": "2022-01-25T13:40:44.752Z"
   },
   {
    "duration": 348,
    "start_time": "2022-01-25T13:40:50.442Z"
   },
   {
    "duration": 5,
    "start_time": "2022-01-25T13:41:20.905Z"
   },
   {
    "duration": 347,
    "start_time": "2022-01-25T13:41:23.274Z"
   },
   {
    "duration": 4,
    "start_time": "2022-01-25T13:43:20.681Z"
   },
   {
    "duration": 363,
    "start_time": "2022-01-25T13:43:21.901Z"
   },
   {
    "duration": 4,
    "start_time": "2022-01-25T13:46:44.054Z"
   },
   {
    "duration": 379,
    "start_time": "2022-01-25T13:46:45.208Z"
   },
   {
    "duration": 6,
    "start_time": "2022-01-25T13:49:32.982Z"
   },
   {
    "duration": 173,
    "start_time": "2022-01-25T13:49:33.501Z"
   },
   {
    "duration": 4,
    "start_time": "2022-01-25T13:50:02.198Z"
   },
   {
    "duration": 247,
    "start_time": "2022-01-25T13:50:02.616Z"
   },
   {
    "duration": 5,
    "start_time": "2022-01-25T13:50:09.875Z"
   },
   {
    "duration": 172,
    "start_time": "2022-01-25T13:50:10.333Z"
   },
   {
    "duration": 4,
    "start_time": "2022-01-25T13:50:39.693Z"
   },
   {
    "duration": 176,
    "start_time": "2022-01-25T13:50:40.101Z"
   },
   {
    "duration": 4,
    "start_time": "2022-01-25T13:50:50.987Z"
   },
   {
    "duration": 412,
    "start_time": "2022-01-25T13:50:51.376Z"
   },
   {
    "duration": 4,
    "start_time": "2022-01-25T13:51:03.249Z"
   },
   {
    "duration": 418,
    "start_time": "2022-01-25T13:51:03.732Z"
   },
   {
    "duration": 4,
    "start_time": "2022-01-25T13:51:13.366Z"
   },
   {
    "duration": 342,
    "start_time": "2022-01-25T13:51:13.879Z"
   },
   {
    "duration": 4,
    "start_time": "2022-01-25T13:52:42.956Z"
   },
   {
    "duration": 351,
    "start_time": "2022-01-25T13:52:43.483Z"
   },
   {
    "duration": 5,
    "start_time": "2022-01-25T13:53:52.544Z"
   },
   {
    "duration": 206,
    "start_time": "2022-01-25T13:53:53.476Z"
   },
   {
    "duration": 5,
    "start_time": "2022-01-25T13:56:19.268Z"
   },
   {
    "duration": 347,
    "start_time": "2022-01-25T13:56:19.791Z"
   },
   {
    "duration": 4,
    "start_time": "2022-01-25T13:56:33.566Z"
   },
   {
    "duration": 349,
    "start_time": "2022-01-25T13:56:34.042Z"
   },
   {
    "duration": 5,
    "start_time": "2022-01-25T13:58:50.034Z"
   },
   {
    "duration": 356,
    "start_time": "2022-01-25T13:58:50.606Z"
   },
   {
    "duration": 5,
    "start_time": "2022-01-25T14:02:00.490Z"
   },
   {
    "duration": 355,
    "start_time": "2022-01-25T14:02:01.285Z"
   },
   {
    "duration": 4,
    "start_time": "2022-01-25T14:03:14.101Z"
   },
   {
    "duration": 359,
    "start_time": "2022-01-25T14:03:15.486Z"
   },
   {
    "duration": 4,
    "start_time": "2022-01-25T14:03:25.733Z"
   },
   {
    "duration": 349,
    "start_time": "2022-01-25T14:03:26.418Z"
   },
   {
    "duration": 4,
    "start_time": "2022-01-25T14:04:04.938Z"
   },
   {
    "duration": 386,
    "start_time": "2022-01-25T14:04:05.352Z"
   },
   {
    "duration": 4,
    "start_time": "2022-01-25T14:04:28.234Z"
   },
   {
    "duration": 361,
    "start_time": "2022-01-25T14:04:28.688Z"
   },
   {
    "duration": 253,
    "start_time": "2022-01-25T14:05:46.408Z"
   },
   {
    "duration": 4,
    "start_time": "2022-01-25T14:05:49.048Z"
   },
   {
    "duration": 170,
    "start_time": "2022-01-25T14:05:49.421Z"
   },
   {
    "duration": 184,
    "start_time": "2022-01-25T14:06:13.150Z"
   },
   {
    "duration": 5,
    "start_time": "2022-01-25T14:06:17.194Z"
   },
   {
    "duration": 171,
    "start_time": "2022-01-25T14:06:17.584Z"
   },
   {
    "duration": 4,
    "start_time": "2022-01-25T14:07:17.950Z"
   },
   {
    "duration": 179,
    "start_time": "2022-01-25T14:07:18.571Z"
   },
   {
    "duration": 186,
    "start_time": "2022-01-25T14:07:49.642Z"
   },
   {
    "duration": 344,
    "start_time": "2022-01-25T14:07:53.958Z"
   },
   {
    "duration": 5,
    "start_time": "2022-01-25T14:08:04.872Z"
   },
   {
    "duration": 329,
    "start_time": "2022-01-25T14:08:05.228Z"
   },
   {
    "duration": 4,
    "start_time": "2022-01-25T14:08:19.345Z"
   },
   {
    "duration": 351,
    "start_time": "2022-01-25T14:08:19.704Z"
   },
   {
    "duration": 169,
    "start_time": "2022-01-25T14:08:25.415Z"
   },
   {
    "duration": 4,
    "start_time": "2022-01-25T14:08:40.411Z"
   },
   {
    "duration": 177,
    "start_time": "2022-01-25T14:08:40.969Z"
   },
   {
    "duration": 407,
    "start_time": "2022-01-25T14:08:46.375Z"
   },
   {
    "duration": 5,
    "start_time": "2022-01-25T14:10:04.703Z"
   },
   {
    "duration": 178,
    "start_time": "2022-01-25T14:10:05.063Z"
   },
   {
    "duration": 6,
    "start_time": "2022-01-25T14:10:24.762Z"
   },
   {
    "duration": 173,
    "start_time": "2022-01-25T14:10:25.313Z"
   },
   {
    "duration": 177,
    "start_time": "2022-01-25T14:10:41.284Z"
   },
   {
    "duration": 5,
    "start_time": "2022-01-25T14:10:46.766Z"
   },
   {
    "duration": 176,
    "start_time": "2022-01-25T14:10:47.294Z"
   },
   {
    "duration": 6,
    "start_time": "2022-01-25T14:12:38.146Z"
   },
   {
    "duration": 172,
    "start_time": "2022-01-25T14:12:38.616Z"
   },
   {
    "duration": 7,
    "start_time": "2022-01-25T14:12:58.631Z"
   },
   {
    "duration": 338,
    "start_time": "2022-01-25T14:12:59.177Z"
   },
   {
    "duration": 8,
    "start_time": "2022-01-25T14:13:24.739Z"
   },
   {
    "duration": 338,
    "start_time": "2022-01-25T14:13:25.177Z"
   },
   {
    "duration": 4,
    "start_time": "2022-01-25T14:13:44.884Z"
   },
   {
    "duration": 346,
    "start_time": "2022-01-25T14:13:45.422Z"
   },
   {
    "duration": 5,
    "start_time": "2022-01-25T14:14:00.608Z"
   },
   {
    "duration": 412,
    "start_time": "2022-01-25T14:14:01.104Z"
   },
   {
    "duration": 5,
    "start_time": "2022-01-25T14:14:20.564Z"
   },
   {
    "duration": 181,
    "start_time": "2022-01-25T14:14:21.156Z"
   },
   {
    "duration": 7,
    "start_time": "2022-01-25T14:14:41.737Z"
   },
   {
    "duration": 421,
    "start_time": "2022-01-25T14:14:42.117Z"
   },
   {
    "duration": 7,
    "start_time": "2022-01-25T14:15:12.698Z"
   },
   {
    "duration": 379,
    "start_time": "2022-01-25T14:15:13.600Z"
   },
   {
    "duration": 64,
    "start_time": "2022-01-25T14:16:31.612Z"
   },
   {
    "duration": 23,
    "start_time": "2022-01-25T14:16:31.655Z"
   },
   {
    "duration": 4,
    "start_time": "2022-01-25T14:16:54.544Z"
   },
   {
    "duration": 472,
    "start_time": "2022-01-25T14:16:54.932Z"
   },
   {
    "duration": 5,
    "start_time": "2022-01-25T14:17:07.024Z"
   },
   {
    "duration": 426,
    "start_time": "2022-01-25T14:17:07.922Z"
   },
   {
    "duration": 5,
    "start_time": "2022-01-25T14:18:04.247Z"
   },
   {
    "duration": 373,
    "start_time": "2022-01-25T14:18:04.715Z"
   },
   {
    "duration": 5,
    "start_time": "2022-01-25T14:18:38.302Z"
   },
   {
    "duration": 216,
    "start_time": "2022-01-25T14:18:38.662Z"
   },
   {
    "duration": 351,
    "start_time": "2022-01-25T14:18:48.392Z"
   },
   {
    "duration": 5,
    "start_time": "2022-01-25T14:19:16.645Z"
   },
   {
    "duration": 495,
    "start_time": "2022-01-25T14:19:17.181Z"
   },
   {
    "duration": 5,
    "start_time": "2022-01-25T14:19:31.547Z"
   },
   {
    "duration": 369,
    "start_time": "2022-01-25T14:19:31.959Z"
   },
   {
    "duration": 7,
    "start_time": "2022-01-25T14:20:02.643Z"
   },
   {
    "duration": 182,
    "start_time": "2022-01-25T14:20:03.316Z"
   },
   {
    "duration": 966,
    "start_time": "2022-01-26T08:43:20.957Z"
   },
   {
    "duration": 332,
    "start_time": "2022-01-26T08:43:21.927Z"
   },
   {
    "duration": 13,
    "start_time": "2022-01-26T08:43:22.261Z"
   },
   {
    "duration": 13,
    "start_time": "2022-01-26T08:43:22.276Z"
   },
   {
    "duration": 15,
    "start_time": "2022-01-26T08:43:22.291Z"
   },
   {
    "duration": 20,
    "start_time": "2022-01-26T08:43:22.308Z"
   },
   {
    "duration": 9,
    "start_time": "2022-01-26T08:43:22.329Z"
   },
   {
    "duration": 12,
    "start_time": "2022-01-26T08:43:22.341Z"
   },
   {
    "duration": 5,
    "start_time": "2022-01-26T08:43:22.355Z"
   },
   {
    "duration": 932,
    "start_time": "2022-01-26T08:43:22.361Z"
   },
   {
    "duration": 1306,
    "start_time": "2022-01-26T08:43:21.989Z"
   },
   {
    "duration": 1304,
    "start_time": "2022-01-26T08:43:21.992Z"
   },
   {
    "duration": 1303,
    "start_time": "2022-01-26T08:43:21.994Z"
   },
   {
    "duration": 1302,
    "start_time": "2022-01-26T08:43:21.996Z"
   },
   {
    "duration": 1302,
    "start_time": "2022-01-26T08:43:21.997Z"
   },
   {
    "duration": 1300,
    "start_time": "2022-01-26T08:43:22.000Z"
   },
   {
    "duration": 1299,
    "start_time": "2022-01-26T08:43:22.002Z"
   },
   {
    "duration": 4,
    "start_time": "2022-01-26T08:44:13.415Z"
   },
   {
    "duration": 663,
    "start_time": "2022-01-26T08:44:14.069Z"
   },
   {
    "duration": 4,
    "start_time": "2022-01-26T08:44:26.817Z"
   },
   {
    "duration": 881,
    "start_time": "2022-01-26T08:44:27.276Z"
   },
   {
    "duration": 4,
    "start_time": "2022-01-26T08:44:51.814Z"
   },
   {
    "duration": 321,
    "start_time": "2022-01-26T08:44:52.088Z"
   },
   {
    "duration": 4,
    "start_time": "2022-01-26T08:45:12.178Z"
   },
   {
    "duration": 706,
    "start_time": "2022-01-26T08:45:12.490Z"
   },
   {
    "duration": 4,
    "start_time": "2022-01-26T08:45:35.543Z"
   },
   {
    "duration": 1144,
    "start_time": "2022-01-26T08:45:35.728Z"
   },
   {
    "duration": 4,
    "start_time": "2022-01-26T08:46:20.942Z"
   },
   {
    "duration": 677,
    "start_time": "2022-01-26T08:46:21.316Z"
   },
   {
    "duration": 4,
    "start_time": "2022-01-26T08:46:40.776Z"
   },
   {
    "duration": 864,
    "start_time": "2022-01-26T08:46:41.165Z"
   },
   {
    "duration": 111,
    "start_time": "2022-01-26T08:47:09.181Z"
   },
   {
    "duration": 864,
    "start_time": "2022-01-26T08:47:09.538Z"
   },
   {
    "duration": 5,
    "start_time": "2022-01-26T08:47:27.545Z"
   },
   {
    "duration": 31,
    "start_time": "2022-01-26T08:47:27.936Z"
   },
   {
    "duration": 4,
    "start_time": "2022-01-26T08:48:45.435Z"
   },
   {
    "duration": 376,
    "start_time": "2022-01-26T08:48:46.002Z"
   },
   {
    "duration": 639,
    "start_time": "2022-01-26T08:48:50.569Z"
   },
   {
    "duration": 4,
    "start_time": "2022-01-26T08:48:54.015Z"
   },
   {
    "duration": 686,
    "start_time": "2022-01-26T08:48:54.419Z"
   },
   {
    "duration": 5,
    "start_time": "2022-01-26T08:49:02.790Z"
   },
   {
    "duration": 623,
    "start_time": "2022-01-26T08:49:03.144Z"
   },
   {
    "duration": 4,
    "start_time": "2022-01-26T08:49:25.016Z"
   },
   {
    "duration": 632,
    "start_time": "2022-01-26T08:49:25.666Z"
   },
   {
    "duration": 4,
    "start_time": "2022-01-26T08:49:47.750Z"
   },
   {
    "duration": 364,
    "start_time": "2022-01-26T08:49:48.217Z"
   },
   {
    "duration": 4,
    "start_time": "2022-01-26T08:50:01.631Z"
   },
   {
    "duration": 374,
    "start_time": "2022-01-26T08:50:01.904Z"
   },
   {
    "duration": 4,
    "start_time": "2022-01-26T08:50:11.311Z"
   },
   {
    "duration": 4,
    "start_time": "2022-01-26T08:58:38.196Z"
   },
   {
    "duration": 754,
    "start_time": "2022-01-26T08:58:38.658Z"
   },
   {
    "duration": 116,
    "start_time": "2022-01-26T08:58:48.586Z"
   },
   {
    "duration": 624,
    "start_time": "2022-01-26T08:58:49.331Z"
   },
   {
    "duration": 4,
    "start_time": "2022-01-26T08:58:53.814Z"
   },
   {
    "duration": 334,
    "start_time": "2022-01-26T08:58:54.300Z"
   },
   {
    "duration": 23,
    "start_time": "2022-01-26T08:59:15.168Z"
   },
   {
    "duration": 4,
    "start_time": "2022-01-26T08:59:15.368Z"
   },
   {
    "duration": 384,
    "start_time": "2022-01-26T09:03:13.668Z"
   },
   {
    "duration": 6,
    "start_time": "2022-01-26T09:03:19.524Z"
   },
   {
    "duration": 192,
    "start_time": "2022-01-26T09:03:20.047Z"
   },
   {
    "duration": 4,
    "start_time": "2022-01-26T09:03:26.824Z"
   },
   {
    "duration": 28,
    "start_time": "2022-01-26T09:03:30.624Z"
   },
   {
    "duration": 28,
    "start_time": "2022-01-26T09:03:45.228Z"
   },
   {
    "duration": 27,
    "start_time": "2022-01-26T09:03:47.494Z"
   },
   {
    "duration": 30,
    "start_time": "2022-01-26T09:03:49.744Z"
   },
   {
    "duration": 3,
    "start_time": "2022-01-26T09:04:14.375Z"
   },
   {
    "duration": 436,
    "start_time": "2022-01-26T09:04:16.404Z"
   },
   {
    "duration": 3,
    "start_time": "2022-01-26T09:04:24.573Z"
   },
   {
    "duration": 3,
    "start_time": "2022-01-26T09:11:39.906Z"
   },
   {
    "duration": 3,
    "start_time": "2022-01-26T09:11:49.443Z"
   },
   {
    "duration": 3,
    "start_time": "2022-01-26T09:11:56.091Z"
   },
   {
    "duration": 3,
    "start_time": "2022-01-26T09:12:06.349Z"
   },
   {
    "duration": 329,
    "start_time": "2022-01-26T09:12:06.353Z"
   },
   {
    "duration": 7,
    "start_time": "2022-01-26T09:12:06.684Z"
   },
   {
    "duration": 10,
    "start_time": "2022-01-26T09:12:06.692Z"
   },
   {
    "duration": 9,
    "start_time": "2022-01-26T09:12:06.703Z"
   },
   {
    "duration": 8,
    "start_time": "2022-01-26T09:12:06.727Z"
   },
   {
    "duration": 8,
    "start_time": "2022-01-26T09:12:06.736Z"
   },
   {
    "duration": 9,
    "start_time": "2022-01-26T09:12:06.746Z"
   },
   {
    "duration": 3,
    "start_time": "2022-01-26T09:12:06.757Z"
   },
   {
    "duration": 166,
    "start_time": "2022-01-26T09:12:06.762Z"
   },
   {
    "duration": 28,
    "start_time": "2022-01-26T09:12:06.929Z"
   },
   {
    "duration": 116,
    "start_time": "2022-01-26T09:12:07.028Z"
   },
   {
    "duration": 90,
    "start_time": "2022-01-26T09:12:07.146Z"
   },
   {
    "duration": 405,
    "start_time": "2022-01-26T09:12:07.327Z"
   },
   {
    "duration": 94,
    "start_time": "2022-01-26T09:12:07.734Z"
   },
   {
    "duration": 3,
    "start_time": "2022-01-26T09:12:31.542Z"
   },
   {
    "duration": 358,
    "start_time": "2022-01-26T09:12:57.674Z"
   },
   {
    "duration": 24,
    "start_time": "2022-01-26T09:13:33.987Z"
   },
   {
    "duration": 24,
    "start_time": "2022-01-26T09:13:41.656Z"
   },
   {
    "duration": 25,
    "start_time": "2022-01-26T09:13:56.446Z"
   },
   {
    "duration": 23,
    "start_time": "2022-01-26T09:14:08.944Z"
   },
   {
    "duration": 325,
    "start_time": "2022-01-26T09:15:00.455Z"
   },
   {
    "duration": 3,
    "start_time": "2022-01-26T09:15:03.439Z"
   },
   {
    "duration": 4,
    "start_time": "2022-01-26T09:15:09.859Z"
   },
   {
    "duration": 385,
    "start_time": "2022-01-26T09:16:59.085Z"
   },
   {
    "duration": 67,
    "start_time": "2022-01-26T09:17:42.378Z"
   },
   {
    "duration": 368,
    "start_time": "2022-01-26T09:17:58.399Z"
   },
   {
    "duration": 447,
    "start_time": "2022-01-26T09:18:12.174Z"
   },
   {
    "duration": 470,
    "start_time": "2022-01-26T09:19:22.325Z"
   },
   {
    "duration": 505,
    "start_time": "2022-01-26T09:19:27.358Z"
   },
   {
    "duration": 426,
    "start_time": "2022-01-26T09:19:36.201Z"
   },
   {
    "duration": 308,
    "start_time": "2022-01-26T09:19:43.270Z"
   },
   {
    "duration": 369,
    "start_time": "2022-01-26T09:19:59.948Z"
   },
   {
    "duration": 117,
    "start_time": "2022-01-26T09:20:48.809Z"
   },
   {
    "duration": 641,
    "start_time": "2022-01-26T09:24:30.422Z"
   },
   {
    "duration": 3,
    "start_time": "2022-01-26T09:24:47.862Z"
   },
   {
    "duration": 457,
    "start_time": "2022-01-26T09:25:00.856Z"
   },
   {
    "duration": 31,
    "start_time": "2022-01-26T09:25:05.902Z"
   },
   {
    "duration": 501,
    "start_time": "2022-01-26T09:25:52.328Z"
   },
   {
    "duration": 373,
    "start_time": "2022-01-26T09:26:05.935Z"
   },
   {
    "duration": 440,
    "start_time": "2022-01-26T09:26:13.271Z"
   },
   {
    "duration": 67,
    "start_time": "2022-01-26T09:27:01.361Z"
   },
   {
    "duration": 26,
    "start_time": "2022-01-26T09:27:10.269Z"
   },
   {
    "duration": 27,
    "start_time": "2022-01-26T09:30:41.065Z"
   },
   {
    "duration": 23,
    "start_time": "2022-01-26T09:32:58.814Z"
   },
   {
    "duration": 24,
    "start_time": "2022-01-26T09:40:41.059Z"
   },
   {
    "duration": 23,
    "start_time": "2022-01-26T09:41:28.269Z"
   },
   {
    "duration": 24,
    "start_time": "2022-01-26T09:41:45.781Z"
   },
   {
    "duration": 355,
    "start_time": "2022-01-26T09:43:33.076Z"
   },
   {
    "duration": 432,
    "start_time": "2022-01-26T09:44:16.419Z"
   },
   {
    "duration": 341,
    "start_time": "2022-01-26T09:44:24.776Z"
   },
   {
    "duration": 481,
    "start_time": "2022-01-26T09:45:03.854Z"
   },
   {
    "duration": 5,
    "start_time": "2022-01-26T09:45:06.493Z"
   },
   {
    "duration": 686,
    "start_time": "2022-01-26T09:47:25.923Z"
   },
   {
    "duration": 363,
    "start_time": "2022-01-26T09:47:48.868Z"
   },
   {
    "duration": 8,
    "start_time": "2022-01-26T09:47:56.118Z"
   },
   {
    "duration": 376,
    "start_time": "2022-01-26T09:48:35.656Z"
   },
   {
    "duration": 213,
    "start_time": "2022-01-26T09:48:36.231Z"
   },
   {
    "duration": 5,
    "start_time": "2022-01-26T09:48:36.717Z"
   },
   {
    "duration": 386,
    "start_time": "2022-01-26T09:49:21.846Z"
   },
   {
    "duration": 201,
    "start_time": "2022-01-26T09:49:22.428Z"
   },
   {
    "duration": 8,
    "start_time": "2022-01-26T09:49:23.138Z"
   },
   {
    "duration": 399,
    "start_time": "2022-01-26T09:52:01.933Z"
   },
   {
    "duration": 214,
    "start_time": "2022-01-26T09:52:02.917Z"
   },
   {
    "duration": 9,
    "start_time": "2022-01-26T09:52:03.637Z"
   },
   {
    "duration": 421,
    "start_time": "2022-01-26T09:53:52.314Z"
   },
   {
    "duration": 189,
    "start_time": "2022-01-26T09:53:52.952Z"
   },
   {
    "duration": 5,
    "start_time": "2022-01-26T09:53:54.283Z"
   },
   {
    "duration": 402,
    "start_time": "2022-01-26T09:54:15.940Z"
   },
   {
    "duration": 61,
    "start_time": "2022-01-26T09:54:16.774Z"
   },
   {
    "duration": 4,
    "start_time": "2022-01-26T09:54:18.178Z"
   },
   {
    "duration": 392,
    "start_time": "2022-01-26T09:54:21.745Z"
   },
   {
    "duration": 183,
    "start_time": "2022-01-26T09:54:22.851Z"
   },
   {
    "duration": 8,
    "start_time": "2022-01-26T09:54:23.541Z"
   },
   {
    "duration": 346,
    "start_time": "2022-01-26T09:55:19.496Z"
   },
   {
    "duration": 211,
    "start_time": "2022-01-26T09:55:20.027Z"
   },
   {
    "duration": 9,
    "start_time": "2022-01-26T09:55:20.579Z"
   },
   {
    "duration": 3,
    "start_time": "2022-01-26T09:58:29.362Z"
   },
   {
    "duration": 3,
    "start_time": "2022-01-26T09:58:34.526Z"
   },
   {
    "duration": 4,
    "start_time": "2022-01-26T09:59:40.582Z"
   },
   {
    "duration": 3,
    "start_time": "2022-01-26T10:04:00.536Z"
   },
   {
    "duration": 3,
    "start_time": "2022-01-26T10:04:34.990Z"
   },
   {
    "duration": 4,
    "start_time": "2022-01-26T10:04:48.152Z"
   },
   {
    "duration": 4,
    "start_time": "2022-01-26T10:05:00.385Z"
   },
   {
    "duration": 4,
    "start_time": "2022-01-26T10:05:49.436Z"
   },
   {
    "duration": 3,
    "start_time": "2022-01-26T10:06:11.721Z"
   },
   {
    "duration": 4,
    "start_time": "2022-01-26T11:31:44.981Z"
   },
   {
    "duration": 3,
    "start_time": "2022-01-26T11:31:45.838Z"
   },
   {
    "duration": 660,
    "start_time": "2022-01-26T11:47:21.086Z"
   },
   {
    "duration": 428,
    "start_time": "2022-01-26T12:01:56.223Z"
   },
   {
    "duration": 415,
    "start_time": "2022-01-26T12:03:03.629Z"
   },
   {
    "duration": 871,
    "start_time": "2022-01-26T12:04:01.456Z"
   },
   {
    "duration": 112,
    "start_time": "2022-01-26T12:05:57.917Z"
   },
   {
    "duration": 5,
    "start_time": "2022-01-26T12:06:01.046Z"
   },
   {
    "duration": 5,
    "start_time": "2022-01-26T12:12:58.030Z"
   },
   {
    "duration": 323,
    "start_time": "2022-01-26T12:13:04.350Z"
   },
   {
    "duration": 892,
    "start_time": "2022-01-26T12:13:08.600Z"
   },
   {
    "duration": 6,
    "start_time": "2022-01-26T12:16:33.310Z"
   },
   {
    "duration": 1604,
    "start_time": "2022-01-26T12:16:33.701Z"
   },
   {
    "duration": 3,
    "start_time": "2022-01-26T12:16:37.164Z"
   },
   {
    "duration": 900,
    "start_time": "2022-01-26T12:16:41.192Z"
   },
   {
    "duration": 5,
    "start_time": "2022-01-26T12:21:58.035Z"
   },
   {
    "duration": 967,
    "start_time": "2022-01-26T12:22:00.051Z"
   },
   {
    "duration": 853,
    "start_time": "2022-01-26T12:22:31.259Z"
   },
   {
    "duration": 913,
    "start_time": "2022-01-26T12:22:37.084Z"
   },
   {
    "duration": 5,
    "start_time": "2022-01-26T12:28:26.319Z"
   },
   {
    "duration": 2080,
    "start_time": "2022-01-26T12:28:27.490Z"
   },
   {
    "duration": 1068,
    "start_time": "2022-01-26T12:34:31.524Z"
   },
   {
    "duration": 319,
    "start_time": "2022-01-26T12:34:32.593Z"
   },
   {
    "duration": 14,
    "start_time": "2022-01-26T12:34:32.914Z"
   },
   {
    "duration": 8,
    "start_time": "2022-01-26T12:34:32.930Z"
   },
   {
    "duration": 9,
    "start_time": "2022-01-26T12:34:32.940Z"
   },
   {
    "duration": 9,
    "start_time": "2022-01-26T12:34:32.950Z"
   },
   {
    "duration": 8,
    "start_time": "2022-01-26T12:34:32.960Z"
   },
   {
    "duration": 7,
    "start_time": "2022-01-26T12:34:32.970Z"
   },
   {
    "duration": 3,
    "start_time": "2022-01-26T12:34:32.980Z"
   },
   {
    "duration": 147,
    "start_time": "2022-01-26T12:34:32.985Z"
   },
   {
    "duration": 115,
    "start_time": "2022-01-26T12:34:33.135Z"
   },
   {
    "duration": 194,
    "start_time": "2022-01-26T12:34:33.251Z"
   },
   {
    "duration": 81,
    "start_time": "2022-01-26T12:34:33.447Z"
   },
   {
    "duration": 501,
    "start_time": "2022-01-26T12:34:33.531Z"
   },
   {
    "duration": 95,
    "start_time": "2022-01-26T12:34:34.034Z"
   },
   {
    "duration": 584,
    "start_time": "2022-01-26T12:34:34.131Z"
   },
   {
    "duration": 388,
    "start_time": "2022-01-26T12:34:34.716Z"
   },
   {
    "duration": 509,
    "start_time": "2022-01-26T12:34:35.105Z"
   },
   {
    "duration": 417,
    "start_time": "2022-01-26T12:34:35.615Z"
   },
   {
    "duration": 102,
    "start_time": "2022-01-26T12:34:36.034Z"
   },
   {
    "duration": 8,
    "start_time": "2022-01-26T12:34:36.228Z"
   },
   {
    "duration": 20,
    "start_time": "2022-01-26T12:34:36.238Z"
   },
   {
    "duration": 15,
    "start_time": "2022-01-26T12:34:36.260Z"
   },
   {
    "duration": 921,
    "start_time": "2022-01-26T12:34:36.276Z"
   },
   {
    "duration": 907,
    "start_time": "2022-01-26T12:34:37.198Z"
   },
   {
    "duration": 891,
    "start_time": "2022-01-26T12:34:38.107Z"
   },
   {
    "duration": 499,
    "start_time": "2022-01-26T12:57:13.213Z"
   },
   {
    "duration": 431,
    "start_time": "2022-01-26T12:58:55.807Z"
   },
   {
    "duration": 1166,
    "start_time": "2022-01-26T13:06:40.425Z"
   },
   {
    "duration": 342,
    "start_time": "2022-01-26T13:06:41.593Z"
   },
   {
    "duration": 13,
    "start_time": "2022-01-26T13:06:41.937Z"
   },
   {
    "duration": 11,
    "start_time": "2022-01-26T13:06:41.952Z"
   },
   {
    "duration": 17,
    "start_time": "2022-01-26T13:06:41.964Z"
   },
   {
    "duration": 13,
    "start_time": "2022-01-26T13:06:41.983Z"
   },
   {
    "duration": 8,
    "start_time": "2022-01-26T13:06:41.997Z"
   },
   {
    "duration": 25,
    "start_time": "2022-01-26T13:06:42.007Z"
   },
   {
    "duration": 5,
    "start_time": "2022-01-26T13:06:42.034Z"
   },
   {
    "duration": 88,
    "start_time": "2022-01-26T13:06:42.041Z"
   },
   {
    "duration": 119,
    "start_time": "2022-01-26T13:06:42.131Z"
   },
   {
    "duration": 115,
    "start_time": "2022-01-26T13:06:42.329Z"
   },
   {
    "duration": 83,
    "start_time": "2022-01-26T13:06:42.446Z"
   },
   {
    "duration": 502,
    "start_time": "2022-01-26T13:06:42.531Z"
   },
   {
    "duration": 92,
    "start_time": "2022-01-26T13:06:43.036Z"
   },
   {
    "duration": 580,
    "start_time": "2022-01-26T13:06:43.131Z"
   },
   {
    "duration": 392,
    "start_time": "2022-01-26T13:06:43.713Z"
   },
   {
    "duration": 516,
    "start_time": "2022-01-26T13:06:44.106Z"
   },
   {
    "duration": 411,
    "start_time": "2022-01-26T13:06:44.627Z"
   },
   {
    "duration": 4,
    "start_time": "2022-01-26T13:06:45.040Z"
   },
   {
    "duration": 102,
    "start_time": "2022-01-26T13:06:45.127Z"
   },
   {
    "duration": 867,
    "start_time": "2022-01-26T13:06:45.231Z"
   },
   {
    "duration": 901,
    "start_time": "2022-01-26T13:06:46.099Z"
   },
   {
    "duration": 903,
    "start_time": "2022-01-26T13:06:47.002Z"
   },
   {
    "duration": 472,
    "start_time": "2022-01-26T13:11:02.797Z"
   },
   {
    "duration": 937,
    "start_time": "2022-01-26T13:12:10.196Z"
   },
   {
    "duration": 158,
    "start_time": "2022-01-26T13:12:11.940Z"
   },
   {
    "duration": 496,
    "start_time": "2022-01-26T13:12:38.102Z"
   },
   {
    "duration": 896,
    "start_time": "2022-01-26T13:13:49.350Z"
   },
   {
    "duration": 1128,
    "start_time": "2022-01-26T13:17:18.631Z"
   },
   {
    "duration": 7,
    "start_time": "2022-01-26T13:18:08.802Z"
   },
   {
    "duration": 930,
    "start_time": "2022-01-26T13:18:09.585Z"
   },
   {
    "duration": 869,
    "start_time": "2022-01-26T13:18:11.350Z"
   },
   {
    "duration": 919,
    "start_time": "2022-01-26T13:18:12.824Z"
   },
   {
    "duration": 3658,
    "start_time": "2022-01-26T13:22:07.737Z"
   },
   {
    "duration": 5,
    "start_time": "2022-01-26T13:23:03.248Z"
   },
   {
    "duration": 1061,
    "start_time": "2022-01-26T13:23:03.900Z"
   },
   {
    "duration": 2773,
    "start_time": "2022-01-26T13:23:22.065Z"
   },
   {
    "duration": 1763,
    "start_time": "2022-01-26T13:25:24.885Z"
   },
   {
    "duration": 1866,
    "start_time": "2022-01-26T13:25:47.990Z"
   },
   {
    "duration": 477,
    "start_time": "2022-01-26T13:33:45.970Z"
   },
   {
    "duration": 54,
    "start_time": "2022-01-26T13:33:51.879Z"
   },
   {
    "duration": 1154,
    "start_time": "2022-01-26T13:34:57.282Z"
   },
   {
    "duration": 347,
    "start_time": "2022-01-26T13:34:58.438Z"
   },
   {
    "duration": 12,
    "start_time": "2022-01-26T13:34:58.788Z"
   },
   {
    "duration": 9,
    "start_time": "2022-01-26T13:34:58.802Z"
   },
   {
    "duration": 20,
    "start_time": "2022-01-26T13:34:58.812Z"
   },
   {
    "duration": 11,
    "start_time": "2022-01-26T13:34:58.833Z"
   },
   {
    "duration": 10,
    "start_time": "2022-01-26T13:34:58.845Z"
   },
   {
    "duration": 9,
    "start_time": "2022-01-26T13:34:58.858Z"
   },
   {
    "duration": 5,
    "start_time": "2022-01-26T13:34:58.869Z"
   },
   {
    "duration": 57,
    "start_time": "2022-01-26T13:34:58.876Z"
   },
   {
    "duration": 195,
    "start_time": "2022-01-26T13:34:58.935Z"
   },
   {
    "duration": 116,
    "start_time": "2022-01-26T13:34:59.132Z"
   },
   {
    "duration": 79,
    "start_time": "2022-01-26T13:34:59.250Z"
   },
   {
    "duration": 503,
    "start_time": "2022-01-26T13:34:59.333Z"
   },
   {
    "duration": 91,
    "start_time": "2022-01-26T13:34:59.838Z"
   },
   {
    "duration": 533,
    "start_time": "2022-01-26T13:34:59.932Z"
   },
   {
    "duration": 354,
    "start_time": "2022-01-26T13:35:00.466Z"
   },
   {
    "duration": 502,
    "start_time": "2022-01-26T13:35:00.822Z"
   },
   {
    "duration": 410,
    "start_time": "2022-01-26T13:35:01.327Z"
   },
   {
    "duration": 89,
    "start_time": "2022-01-26T13:35:01.739Z"
   },
   {
    "duration": 98,
    "start_time": "2022-01-26T13:35:01.831Z"
   },
   {
    "duration": 1038,
    "start_time": "2022-01-26T13:35:01.931Z"
   },
   {
    "duration": 861,
    "start_time": "2022-01-26T13:35:02.972Z"
   },
   {
    "duration": 910,
    "start_time": "2022-01-26T13:35:03.835Z"
   },
   {
    "duration": 1770,
    "start_time": "2022-01-26T13:35:04.747Z"
   },
   {
    "duration": 1784,
    "start_time": "2022-01-26T13:35:06.519Z"
   },
   {
    "duration": 1898,
    "start_time": "2022-01-26T13:35:08.305Z"
   },
   {
    "duration": 631,
    "start_time": "2022-01-26T13:37:16.639Z"
   },
   {
    "duration": 401,
    "start_time": "2022-01-26T13:37:24.708Z"
   },
   {
    "duration": 378,
    "start_time": "2022-01-26T13:38:06.061Z"
   },
   {
    "duration": 444,
    "start_time": "2022-01-26T13:46:38.790Z"
   },
   {
    "duration": 16,
    "start_time": "2022-01-26T13:48:40.402Z"
   },
   {
    "duration": 484,
    "start_time": "2022-01-26T13:48:45.604Z"
   },
   {
    "duration": 3290,
    "start_time": "2022-01-26T13:48:57.097Z"
   },
   {
    "duration": 3496,
    "start_time": "2022-01-26T13:49:28.519Z"
   },
   {
    "duration": 4,
    "start_time": "2022-01-26T13:50:59.641Z"
   },
   {
    "duration": 3290,
    "start_time": "2022-01-26T13:51:01.753Z"
   },
   {
    "duration": 3638,
    "start_time": "2022-01-26T13:51:17.970Z"
   },
   {
    "duration": 3150,
    "start_time": "2022-01-26T13:51:24.284Z"
   },
   {
    "duration": 4,
    "start_time": "2022-01-26T13:51:52.452Z"
   },
   {
    "duration": 3378,
    "start_time": "2022-01-26T13:51:54.572Z"
   },
   {
    "duration": 4,
    "start_time": "2022-01-26T13:52:20.651Z"
   },
   {
    "duration": 3354,
    "start_time": "2022-01-26T13:52:21.253Z"
   },
   {
    "duration": 3,
    "start_time": "2022-01-26T13:53:02.316Z"
   },
   {
    "duration": 1333,
    "start_time": "2022-01-26T13:53:03.938Z"
   },
   {
    "duration": 4,
    "start_time": "2022-01-26T13:53:17.268Z"
   },
   {
    "duration": 3479,
    "start_time": "2022-01-26T13:53:21.465Z"
   },
   {
    "duration": 4,
    "start_time": "2022-01-26T13:53:50.396Z"
   },
   {
    "duration": 3301,
    "start_time": "2022-01-26T13:53:50.693Z"
   },
   {
    "duration": 4,
    "start_time": "2022-01-26T13:54:37.760Z"
   },
   {
    "duration": 817,
    "start_time": "2022-01-26T13:54:38.292Z"
   },
   {
    "duration": 3,
    "start_time": "2022-01-26T13:54:51.587Z"
   },
   {
    "duration": 3253,
    "start_time": "2022-01-26T13:54:52.429Z"
   },
   {
    "duration": 4,
    "start_time": "2022-01-26T13:55:01.165Z"
   },
   {
    "duration": 3317,
    "start_time": "2022-01-26T13:55:16.539Z"
   },
   {
    "duration": 4,
    "start_time": "2022-01-26T13:55:25.127Z"
   },
   {
    "duration": 3214,
    "start_time": "2022-01-26T13:55:25.513Z"
   },
   {
    "duration": 3195,
    "start_time": "2022-01-26T13:56:25.235Z"
   },
   {
    "duration": 3121,
    "start_time": "2022-01-26T13:56:31.209Z"
   },
   {
    "duration": 1147,
    "start_time": "2022-01-26T14:06:25.002Z"
   },
   {
    "duration": 344,
    "start_time": "2022-01-26T14:06:26.151Z"
   },
   {
    "duration": 11,
    "start_time": "2022-01-26T14:06:26.499Z"
   },
   {
    "duration": 17,
    "start_time": "2022-01-26T14:06:26.511Z"
   },
   {
    "duration": 10,
    "start_time": "2022-01-26T14:06:26.529Z"
   },
   {
    "duration": 10,
    "start_time": "2022-01-26T14:06:26.540Z"
   },
   {
    "duration": 9,
    "start_time": "2022-01-26T14:06:26.552Z"
   },
   {
    "duration": 9,
    "start_time": "2022-01-26T14:06:26.563Z"
   },
   {
    "duration": 3,
    "start_time": "2022-01-26T14:06:26.574Z"
   },
   {
    "duration": 3070,
    "start_time": "2022-01-26T14:06:26.579Z"
   },
   {
    "duration": 3104,
    "start_time": "2022-01-26T14:06:29.651Z"
   },
   {
    "duration": 3323,
    "start_time": "2022-01-26T14:06:32.757Z"
   },
   {
    "duration": 4,
    "start_time": "2022-01-26T14:06:36.082Z"
   },
   {
    "duration": 42,
    "start_time": "2022-01-26T14:06:36.087Z"
   },
   {
    "duration": 203,
    "start_time": "2022-01-26T14:06:36.131Z"
   },
   {
    "duration": 203,
    "start_time": "2022-01-26T14:06:36.336Z"
   },
   {
    "duration": 86,
    "start_time": "2022-01-26T14:06:36.543Z"
   },
   {
    "duration": 500,
    "start_time": "2022-01-26T14:06:36.631Z"
   },
   {
    "duration": 95,
    "start_time": "2022-01-26T14:06:37.134Z"
   },
   {
    "duration": 586,
    "start_time": "2022-01-26T14:06:37.231Z"
   },
   {
    "duration": 481,
    "start_time": "2022-01-26T14:06:37.819Z"
   },
   {
    "duration": 529,
    "start_time": "2022-01-26T14:06:38.302Z"
   },
   {
    "duration": 306,
    "start_time": "2022-01-26T14:06:38.832Z"
   },
   {
    "duration": 5,
    "start_time": "2022-01-26T14:06:39.228Z"
   },
   {
    "duration": 98,
    "start_time": "2022-01-26T14:06:39.236Z"
   },
   {
    "duration": 876,
    "start_time": "2022-01-26T14:06:39.338Z"
   },
   {
    "duration": 919,
    "start_time": "2022-01-26T14:06:40.215Z"
   },
   {
    "duration": 907,
    "start_time": "2022-01-26T14:06:41.135Z"
   },
   {
    "duration": 1761,
    "start_time": "2022-01-26T14:06:42.044Z"
   },
   {
    "duration": 1807,
    "start_time": "2022-01-26T14:06:43.806Z"
   },
   {
    "duration": 1789,
    "start_time": "2022-01-26T14:06:45.614Z"
   },
   {
    "duration": 1105,
    "start_time": "2022-01-26T14:08:12.140Z"
   },
   {
    "duration": 341,
    "start_time": "2022-01-26T14:08:13.246Z"
   },
   {
    "duration": 10,
    "start_time": "2022-01-26T14:08:13.589Z"
   },
   {
    "duration": 8,
    "start_time": "2022-01-26T14:08:13.600Z"
   },
   {
    "duration": 6,
    "start_time": "2022-01-26T14:08:13.609Z"
   },
   {
    "duration": 18,
    "start_time": "2022-01-26T14:08:13.616Z"
   },
   {
    "duration": 8,
    "start_time": "2022-01-26T14:08:13.635Z"
   },
   {
    "duration": 9,
    "start_time": "2022-01-26T14:08:13.644Z"
   },
   {
    "duration": 3,
    "start_time": "2022-01-26T14:08:13.655Z"
   },
   {
    "duration": 3299,
    "start_time": "2022-01-26T14:08:13.660Z"
   },
   {
    "duration": 3491,
    "start_time": "2022-01-26T14:08:16.961Z"
   },
   {
    "duration": 3220,
    "start_time": "2022-01-26T14:08:20.454Z"
   },
   {
    "duration": 6,
    "start_time": "2022-01-26T14:08:23.676Z"
   },
   {
    "duration": 48,
    "start_time": "2022-01-26T14:08:23.683Z"
   },
   {
    "duration": 203,
    "start_time": "2022-01-26T14:08:23.733Z"
   },
   {
    "duration": 189,
    "start_time": "2022-01-26T14:08:23.938Z"
   },
   {
    "duration": 8,
    "start_time": "2022-01-26T14:08:24.130Z"
   },
   {
    "duration": 405,
    "start_time": "2022-01-26T14:08:24.227Z"
   },
   {
    "duration": 94,
    "start_time": "2022-01-26T14:08:24.634Z"
   },
   {
    "duration": 597,
    "start_time": "2022-01-26T14:08:24.731Z"
   },
   {
    "duration": 461,
    "start_time": "2022-01-26T14:08:25.330Z"
   },
   {
    "duration": 543,
    "start_time": "2022-01-26T14:08:25.793Z"
   },
   {
    "duration": 204,
    "start_time": "2022-01-26T14:08:26.338Z"
   },
   {
    "duration": 9,
    "start_time": "2022-01-26T14:08:26.627Z"
   },
   {
    "duration": 97,
    "start_time": "2022-01-26T14:08:26.641Z"
   },
   {
    "duration": 894,
    "start_time": "2022-01-26T14:08:26.740Z"
   },
   {
    "duration": 893,
    "start_time": "2022-01-26T14:08:27.637Z"
   },
   {
    "duration": 895,
    "start_time": "2022-01-26T14:08:28.532Z"
   },
   {
    "duration": 1816,
    "start_time": "2022-01-26T14:08:29.428Z"
   },
   {
    "duration": 2572,
    "start_time": "2022-01-26T14:08:31.246Z"
   },
   {
    "duration": 1942,
    "start_time": "2022-01-26T14:08:33.819Z"
   },
   {
    "duration": 325,
    "start_time": "2022-01-26T18:34:56.899Z"
   },
   {
    "duration": 1497,
    "start_time": "2022-01-26T18:35:04.590Z"
   },
   {
    "duration": 412,
    "start_time": "2022-01-26T18:35:06.090Z"
   },
   {
    "duration": 20,
    "start_time": "2022-01-26T18:35:06.505Z"
   },
   {
    "duration": 16,
    "start_time": "2022-01-26T18:35:06.528Z"
   },
   {
    "duration": 12,
    "start_time": "2022-01-26T18:35:06.547Z"
   },
   {
    "duration": 15,
    "start_time": "2022-01-26T18:35:06.561Z"
   },
   {
    "duration": 16,
    "start_time": "2022-01-26T18:35:06.623Z"
   },
   {
    "duration": 16,
    "start_time": "2022-01-26T18:35:06.645Z"
   },
   {
    "duration": 5,
    "start_time": "2022-01-26T18:35:06.665Z"
   },
   {
    "duration": 4735,
    "start_time": "2022-01-26T18:35:06.673Z"
   },
   {
    "duration": 4420,
    "start_time": "2022-01-26T18:35:11.411Z"
   },
   {
    "duration": 4641,
    "start_time": "2022-01-26T18:35:15.835Z"
   },
   {
    "duration": 7,
    "start_time": "2022-01-26T18:35:20.479Z"
   },
   {
    "duration": 57,
    "start_time": "2022-01-26T18:35:20.488Z"
   },
   {
    "duration": 197,
    "start_time": "2022-01-26T18:35:20.548Z"
   },
   {
    "duration": 277,
    "start_time": "2022-01-26T18:35:20.748Z"
   },
   {
    "duration": 96,
    "start_time": "2022-01-26T18:35:21.029Z"
   },
   {
    "duration": 401,
    "start_time": "2022-01-26T18:35:21.127Z"
   },
   {
    "duration": 94,
    "start_time": "2022-01-26T18:35:21.533Z"
   },
   {
    "duration": 701,
    "start_time": "2022-01-26T18:35:21.630Z"
   },
   {
    "duration": 607,
    "start_time": "2022-01-26T18:35:22.334Z"
   },
   {
    "duration": 695,
    "start_time": "2022-01-26T18:35:22.944Z"
   },
   {
    "duration": 386,
    "start_time": "2022-01-26T18:35:23.643Z"
   },
   {
    "duration": 92,
    "start_time": "2022-01-26T18:35:24.033Z"
   },
   {
    "duration": 104,
    "start_time": "2022-01-26T18:35:24.129Z"
   },
   {
    "duration": 2083,
    "start_time": "2022-01-26T18:35:24.235Z"
   },
   {
    "duration": 21,
    "start_time": "2022-01-26T18:35:26.300Z"
   },
   {
    "duration": 17,
    "start_time": "2022-01-26T18:35:26.305Z"
   },
   {
    "duration": 15,
    "start_time": "2022-01-26T18:35:26.309Z"
   },
   {
    "duration": 11,
    "start_time": "2022-01-26T18:35:26.314Z"
   },
   {
    "duration": 8,
    "start_time": "2022-01-26T18:35:26.319Z"
   },
   {
    "duration": 8,
    "start_time": "2022-01-26T18:39:04.298Z"
   },
   {
    "duration": 1549,
    "start_time": "2022-01-26T18:39:09.932Z"
   },
   {
    "duration": 1454,
    "start_time": "2022-01-26T18:39:32.608Z"
   },
   {
    "duration": 1452,
    "start_time": "2022-01-26T18:39:38.494Z"
   },
   {
    "duration": 8,
    "start_time": "2022-01-26T18:46:16.425Z"
   },
   {
    "duration": 578,
    "start_time": "2022-01-26T18:46:19.388Z"
   },
   {
    "duration": 10,
    "start_time": "2022-01-26T18:46:38.967Z"
   },
   {
    "duration": 591,
    "start_time": "2022-01-26T18:46:43.477Z"
   },
   {
    "duration": 9,
    "start_time": "2022-01-26T18:48:41.416Z"
   },
   {
    "duration": 2376,
    "start_time": "2022-01-26T18:48:44.735Z"
   },
   {
    "duration": 8,
    "start_time": "2022-01-26T18:51:09.445Z"
   },
   {
    "duration": 2421,
    "start_time": "2022-01-26T18:51:12.894Z"
   },
   {
    "duration": 2390,
    "start_time": "2022-01-26T18:51:40.359Z"
   },
   {
    "duration": 2434,
    "start_time": "2022-01-26T18:51:46.767Z"
   },
   {
    "duration": 35,
    "start_time": "2022-01-26T18:56:45.405Z"
   },
   {
    "duration": 288,
    "start_time": "2022-01-26T18:56:57.276Z"
   },
   {
    "duration": 38,
    "start_time": "2022-01-26T18:57:02.318Z"
   },
   {
    "duration": 36,
    "start_time": "2022-01-26T18:57:12.650Z"
   },
   {
    "duration": 35,
    "start_time": "2022-01-26T18:57:28.671Z"
   },
   {
    "duration": 7,
    "start_time": "2022-01-26T18:58:46.943Z"
   },
   {
    "duration": 2385,
    "start_time": "2022-01-26T18:58:51.365Z"
   },
   {
    "duration": 9,
    "start_time": "2022-01-26T19:02:11.375Z"
   },
   {
    "duration": 2289,
    "start_time": "2022-01-26T19:02:15.763Z"
   },
   {
    "duration": 2320,
    "start_time": "2022-01-26T19:02:45.472Z"
   },
   {
    "duration": 2289,
    "start_time": "2022-01-26T19:02:58.340Z"
   },
   {
    "duration": 2364,
    "start_time": "2022-01-26T19:03:14.654Z"
   },
   {
    "duration": 2317,
    "start_time": "2022-01-26T19:03:25.884Z"
   },
   {
    "duration": 8,
    "start_time": "2022-01-26T19:12:05.058Z"
   },
   {
    "duration": 2304,
    "start_time": "2022-01-26T19:12:09.876Z"
   },
   {
    "duration": 1374,
    "start_time": "2022-01-26T19:12:27.984Z"
   },
   {
    "duration": 407,
    "start_time": "2022-01-26T19:12:29.360Z"
   },
   {
    "duration": 14,
    "start_time": "2022-01-26T19:12:29.773Z"
   },
   {
    "duration": 9,
    "start_time": "2022-01-26T19:12:29.790Z"
   },
   {
    "duration": 10,
    "start_time": "2022-01-26T19:12:29.801Z"
   },
   {
    "duration": 37,
    "start_time": "2022-01-26T19:12:29.824Z"
   },
   {
    "duration": 10,
    "start_time": "2022-01-26T19:12:29.865Z"
   },
   {
    "duration": 11,
    "start_time": "2022-01-26T19:12:29.878Z"
   },
   {
    "duration": 11,
    "start_time": "2022-01-26T19:12:29.891Z"
   },
   {
    "duration": 5,
    "start_time": "2022-01-26T19:12:29.904Z"
   },
   {
    "duration": 4659,
    "start_time": "2022-01-26T19:12:29.923Z"
   },
   {
    "duration": 4872,
    "start_time": "2022-01-26T19:12:34.584Z"
   },
   {
    "duration": 4622,
    "start_time": "2022-01-26T19:12:39.459Z"
   },
   {
    "duration": 5,
    "start_time": "2022-01-26T19:12:44.083Z"
   },
   {
    "duration": 53,
    "start_time": "2022-01-26T19:12:44.091Z"
   },
   {
    "duration": 198,
    "start_time": "2022-01-26T19:12:44.226Z"
   },
   {
    "duration": 197,
    "start_time": "2022-01-26T19:12:44.427Z"
   },
   {
    "duration": 96,
    "start_time": "2022-01-26T19:12:44.628Z"
   },
   {
    "duration": 409,
    "start_time": "2022-01-26T19:12:44.726Z"
   },
   {
    "duration": 91,
    "start_time": "2022-01-26T19:12:45.139Z"
   },
   {
    "duration": 800,
    "start_time": "2022-01-26T19:12:45.233Z"
   },
   {
    "duration": 610,
    "start_time": "2022-01-26T19:12:46.037Z"
   },
   {
    "duration": 702,
    "start_time": "2022-01-26T19:12:46.650Z"
   },
   {
    "duration": 377,
    "start_time": "2022-01-26T19:12:47.355Z"
   },
   {
    "duration": 89,
    "start_time": "2022-01-26T19:12:47.736Z"
   },
   {
    "duration": 105,
    "start_time": "2022-01-26T19:12:47.828Z"
   },
   {
    "duration": 2357,
    "start_time": "2022-01-26T19:12:47.935Z"
   },
   {
    "duration": 2304,
    "start_time": "2022-01-26T19:12:50.294Z"
   },
   {
    "duration": 2292,
    "start_time": "2022-01-26T19:12:52.600Z"
   },
   {
    "duration": 4529,
    "start_time": "2022-01-26T19:12:54.894Z"
   },
   {
    "duration": 4624,
    "start_time": "2022-01-26T19:12:59.426Z"
   },
   {
    "duration": 4591,
    "start_time": "2022-01-26T19:13:04.053Z"
   },
   {
    "duration": 1370,
    "start_time": "2022-01-26T19:27:08.448Z"
   },
   {
    "duration": 27,
    "start_time": "2022-01-26T19:27:39.535Z"
   },
   {
    "duration": 14,
    "start_time": "2022-01-26T19:28:16.557Z"
   },
   {
    "duration": 9,
    "start_time": "2022-01-26T19:28:31.568Z"
   },
   {
    "duration": 24,
    "start_time": "2022-01-26T19:29:07.570Z"
   },
   {
    "duration": 5,
    "start_time": "2022-01-26T19:29:57.233Z"
   },
   {
    "duration": 1672,
    "start_time": "2022-01-26T20:13:27.114Z"
   },
   {
    "duration": 1847,
    "start_time": "2022-01-26T20:13:28.789Z"
   },
   {
    "duration": 21,
    "start_time": "2022-01-26T20:13:30.640Z"
   },
   {
    "duration": 23,
    "start_time": "2022-01-26T20:13:30.665Z"
   },
   {
    "duration": 36,
    "start_time": "2022-01-26T20:13:30.691Z"
   },
   {
    "duration": 32,
    "start_time": "2022-01-26T20:13:30.731Z"
   },
   {
    "duration": 20,
    "start_time": "2022-01-26T20:13:30.766Z"
   },
   {
    "duration": 18,
    "start_time": "2022-01-26T20:13:30.790Z"
   },
   {
    "duration": 6,
    "start_time": "2022-01-26T20:13:30.812Z"
   },
   {
    "duration": 5659,
    "start_time": "2022-01-26T20:13:30.833Z"
   },
   {
    "duration": 5965,
    "start_time": "2022-01-26T20:13:36.494Z"
   },
   {
    "duration": 5624,
    "start_time": "2022-01-26T20:13:42.461Z"
   },
   {
    "duration": 6,
    "start_time": "2022-01-26T20:13:48.087Z"
   },
   {
    "duration": 137,
    "start_time": "2022-01-26T20:13:48.095Z"
   },
   {
    "duration": 138,
    "start_time": "2022-01-26T20:13:48.243Z"
   },
   {
    "duration": 165,
    "start_time": "2022-01-26T20:13:48.384Z"
   },
   {
    "duration": 83,
    "start_time": "2022-01-26T20:13:48.553Z"
   },
   {
    "duration": 605,
    "start_time": "2022-01-26T20:13:48.640Z"
   },
   {
    "duration": 77,
    "start_time": "2022-01-26T20:13:49.259Z"
   },
   {
    "duration": 920,
    "start_time": "2022-01-26T20:13:49.339Z"
   },
   {
    "duration": 714,
    "start_time": "2022-01-26T20:13:50.262Z"
   },
   {
    "duration": 821,
    "start_time": "2022-01-26T20:13:50.979Z"
   },
   {
    "duration": 331,
    "start_time": "2022-01-26T20:13:51.805Z"
   },
   {
    "duration": 9,
    "start_time": "2022-01-26T20:13:52.139Z"
   },
   {
    "duration": 9,
    "start_time": "2022-01-26T20:14:06.181Z"
   },
   {
    "duration": 9,
    "start_time": "2022-01-26T20:14:17.104Z"
   },
   {
    "duration": 2986,
    "start_time": "2022-01-26T20:14:19.298Z"
   },
   {
    "duration": 10,
    "start_time": "2022-01-26T20:20:31.364Z"
   },
   {
    "duration": 1587,
    "start_time": "2022-01-26T20:20:33.854Z"
   },
   {
    "duration": 9,
    "start_time": "2022-01-26T20:21:23.219Z"
   },
   {
    "duration": 14,
    "start_time": "2022-01-26T20:21:32.003Z"
   },
   {
    "duration": 2926,
    "start_time": "2022-01-26T20:21:34.928Z"
   },
   {
    "duration": 17,
    "start_time": "2022-01-26T20:21:42.128Z"
   },
   {
    "duration": 775,
    "start_time": "2022-01-26T20:21:44.517Z"
   },
   {
    "duration": 18,
    "start_time": "2022-01-26T20:21:56.643Z"
   },
   {
    "duration": 13,
    "start_time": "2022-01-26T20:21:59.692Z"
   },
   {
    "duration": 3646,
    "start_time": "2022-01-26T20:22:01.314Z"
   },
   {
    "duration": 13,
    "start_time": "2022-01-26T20:22:10.153Z"
   },
   {
    "duration": 2811,
    "start_time": "2022-01-26T20:22:11.500Z"
   },
   {
    "duration": 2750,
    "start_time": "2022-01-26T20:22:18.259Z"
   },
   {
    "duration": 9,
    "start_time": "2022-01-26T20:22:32.924Z"
   },
   {
    "duration": 10,
    "start_time": "2022-01-26T20:22:37.625Z"
   },
   {
    "duration": 1757,
    "start_time": "2022-01-26T20:22:38.130Z"
   },
   {
    "duration": 18,
    "start_time": "2022-01-26T20:22:39.872Z"
   },
   {
    "duration": -139,
    "start_time": "2022-01-26T20:22:40.031Z"
   },
   {
    "duration": 8,
    "start_time": "2022-01-26T20:22:46.995Z"
   },
   {
    "duration": 755,
    "start_time": "2022-01-26T20:22:47.923Z"
   },
   {
    "duration": 33,
    "start_time": "2022-01-26T20:22:48.648Z"
   },
   {
    "duration": 798,
    "start_time": "2022-01-26T20:22:48.684Z"
   },
   {
    "duration": 10,
    "start_time": "2022-01-26T20:22:56.744Z"
   },
   {
    "duration": 2928,
    "start_time": "2022-01-26T20:22:57.627Z"
   },
   {
    "duration": 4219,
    "start_time": "2022-01-26T20:23:00.559Z"
   },
   {
    "duration": 3842,
    "start_time": "2022-01-26T20:23:04.782Z"
   },
   {
    "duration": 9,
    "start_time": "2022-01-26T20:49:14.344Z"
   },
   {
    "duration": 2457,
    "start_time": "2022-01-26T20:49:18.361Z"
   },
   {
    "duration": 8,
    "start_time": "2022-01-26T20:50:42.550Z"
   },
   {
    "duration": 2413,
    "start_time": "2022-01-26T20:50:47.405Z"
   },
   {
    "duration": 7,
    "start_time": "2022-01-26T20:51:36.275Z"
   },
   {
    "duration": 4530,
    "start_time": "2022-01-26T20:51:39.875Z"
   },
   {
    "duration": 8,
    "start_time": "2022-01-26T20:52:16.668Z"
   },
   {
    "duration": 3924,
    "start_time": "2022-01-26T20:52:19.400Z"
   },
   {
    "duration": 12,
    "start_time": "2022-01-26T21:00:04.783Z"
   },
   {
    "duration": 4307,
    "start_time": "2022-01-26T21:00:09.058Z"
   },
   {
    "duration": 8,
    "start_time": "2022-01-26T21:00:35.931Z"
   },
   {
    "duration": 4104,
    "start_time": "2022-01-26T21:00:41.060Z"
   },
   {
    "duration": 9,
    "start_time": "2022-01-26T21:00:58.542Z"
   },
   {
    "duration": 3704,
    "start_time": "2022-01-26T21:01:01.876Z"
   },
   {
    "duration": 8,
    "start_time": "2022-01-26T21:02:18.791Z"
   },
   {
    "duration": 3997,
    "start_time": "2022-01-26T21:02:21.409Z"
   },
   {
    "duration": 7,
    "start_time": "2022-01-26T21:03:10.943Z"
   },
   {
    "duration": 1636,
    "start_time": "2022-01-26T21:03:14.320Z"
   },
   {
    "duration": 92,
    "start_time": "2022-01-26T21:03:22.244Z"
   },
   {
    "duration": 8,
    "start_time": "2022-01-26T21:03:25.279Z"
   },
   {
    "duration": 661,
    "start_time": "2022-01-26T21:03:28.539Z"
   },
   {
    "duration": 9,
    "start_time": "2022-01-26T21:05:33.814Z"
   },
   {
    "duration": 723,
    "start_time": "2022-01-26T21:05:36.993Z"
   },
   {
    "duration": 8,
    "start_time": "2022-01-26T21:06:07.883Z"
   },
   {
    "duration": 759,
    "start_time": "2022-01-26T21:06:09.488Z"
   },
   {
    "duration": 298,
    "start_time": "2022-01-26T21:07:44.586Z"
   },
   {
    "duration": 38,
    "start_time": "2022-01-26T21:07:55.106Z"
   },
   {
    "duration": 37,
    "start_time": "2022-01-26T21:08:22.592Z"
   },
   {
    "duration": 316,
    "start_time": "2022-01-26T21:08:29.400Z"
   },
   {
    "duration": 39,
    "start_time": "2022-01-26T21:08:35.157Z"
   },
   {
    "duration": 37,
    "start_time": "2022-01-26T21:08:53.673Z"
   },
   {
    "duration": 5085,
    "start_time": "2022-01-26T21:09:13.852Z"
   },
   {
    "duration": 8,
    "start_time": "2022-01-26T21:10:51.578Z"
   },
   {
    "duration": 4125,
    "start_time": "2022-01-26T21:10:54.915Z"
   },
   {
    "duration": 8,
    "start_time": "2022-01-26T21:11:21.668Z"
   },
   {
    "duration": 3977,
    "start_time": "2022-01-26T21:11:24.674Z"
   },
   {
    "duration": 8,
    "start_time": "2022-01-26T21:15:15.674Z"
   },
   {
    "duration": 3942,
    "start_time": "2022-01-26T21:15:18.230Z"
   },
   {
    "duration": 9,
    "start_time": "2022-01-26T21:15:26.648Z"
   },
   {
    "duration": 3316,
    "start_time": "2022-01-26T21:15:30.059Z"
   },
   {
    "duration": 1695,
    "start_time": "2022-01-27T06:27:49.641Z"
   },
   {
    "duration": 384,
    "start_time": "2022-01-27T06:27:51.339Z"
   },
   {
    "duration": 11,
    "start_time": "2022-01-27T06:27:51.725Z"
   },
   {
    "duration": 9,
    "start_time": "2022-01-27T06:27:51.738Z"
   },
   {
    "duration": 25,
    "start_time": "2022-01-27T06:27:51.748Z"
   },
   {
    "duration": 11,
    "start_time": "2022-01-27T06:27:51.775Z"
   },
   {
    "duration": 12,
    "start_time": "2022-01-27T06:27:51.788Z"
   },
   {
    "duration": 10,
    "start_time": "2022-01-27T06:27:51.804Z"
   },
   {
    "duration": 3,
    "start_time": "2022-01-27T06:27:51.816Z"
   },
   {
    "duration": 3704,
    "start_time": "2022-01-27T06:27:51.821Z"
   },
   {
    "duration": 3539,
    "start_time": "2022-01-27T06:27:55.527Z"
   },
   {
    "duration": 4386,
    "start_time": "2022-01-27T06:27:59.068Z"
   },
   {
    "duration": 4,
    "start_time": "2022-01-27T06:28:03.456Z"
   },
   {
    "duration": 123,
    "start_time": "2022-01-27T06:28:03.462Z"
   },
   {
    "duration": 105,
    "start_time": "2022-01-27T06:28:03.587Z"
   },
   {
    "duration": 183,
    "start_time": "2022-01-27T06:28:03.695Z"
   },
   {
    "duration": 10,
    "start_time": "2022-01-27T06:28:03.880Z"
   },
   {
    "duration": 294,
    "start_time": "2022-01-27T06:28:03.895Z"
   },
   {
    "duration": 81,
    "start_time": "2022-01-27T06:28:04.196Z"
   },
   {
    "duration": 689,
    "start_time": "2022-01-27T06:28:04.284Z"
   },
   {
    "duration": 521,
    "start_time": "2022-01-27T06:28:04.975Z"
   },
   {
    "duration": 564,
    "start_time": "2022-01-27T06:28:05.498Z"
   },
   {
    "duration": 317,
    "start_time": "2022-01-27T06:28:06.066Z"
   },
   {
    "duration": 8,
    "start_time": "2022-01-27T06:28:06.386Z"
   },
   {
    "duration": 7438,
    "start_time": "2022-01-27T06:28:06.396Z"
   },
   {
    "duration": -32,
    "start_time": "2022-01-27T06:28:13.868Z"
   },
   {
    "duration": -35,
    "start_time": "2022-01-27T06:28:13.872Z"
   },
   {
    "duration": -38,
    "start_time": "2022-01-27T06:28:13.876Z"
   },
   {
    "duration": -40,
    "start_time": "2022-01-27T06:28:13.879Z"
   },
   {
    "duration": -43,
    "start_time": "2022-01-27T06:28:13.883Z"
   },
   {
    "duration": -45,
    "start_time": "2022-01-27T06:28:13.886Z"
   },
   {
    "duration": -47,
    "start_time": "2022-01-27T06:28:13.889Z"
   },
   {
    "duration": 36,
    "start_time": "2022-01-27T06:30:03.632Z"
   },
   {
    "duration": 29,
    "start_time": "2022-01-27T06:30:12.730Z"
   },
   {
    "duration": 7,
    "start_time": "2022-01-27T06:30:31.251Z"
   },
   {
    "duration": 1758,
    "start_time": "2022-01-27T06:30:35.202Z"
   },
   {
    "duration": 1746,
    "start_time": "2022-01-27T06:30:40.113Z"
   },
   {
    "duration": 2605,
    "start_time": "2022-01-27T06:30:45.045Z"
   },
   {
    "duration": 38,
    "start_time": "2022-01-27T06:36:05.258Z"
   },
   {
    "duration": 32,
    "start_time": "2022-01-27T06:36:16.294Z"
   },
   {
    "duration": 33,
    "start_time": "2022-01-27T06:36:31.816Z"
   },
   {
    "duration": 6,
    "start_time": "2022-01-27T06:42:31.415Z"
   },
   {
    "duration": 1748,
    "start_time": "2022-01-27T06:42:36.599Z"
   },
   {
    "duration": 1804,
    "start_time": "2022-01-27T06:42:46.257Z"
   },
   {
    "duration": 1831,
    "start_time": "2022-01-27T06:42:52.270Z"
   },
   {
    "duration": 9,
    "start_time": "2022-01-27T06:43:43.881Z"
   },
   {
    "duration": 1740,
    "start_time": "2022-01-27T06:43:48.264Z"
   },
   {
    "duration": 2717,
    "start_time": "2022-01-27T06:44:11.349Z"
   },
   {
    "duration": 2830,
    "start_time": "2022-01-27T06:44:27.764Z"
   },
   {
    "duration": 9,
    "start_time": "2022-01-27T06:44:52.799Z"
   },
   {
    "duration": 1973,
    "start_time": "2022-01-27T06:44:56.339Z"
   },
   {
    "duration": 6,
    "start_time": "2022-01-27T06:45:42.021Z"
   },
   {
    "duration": 1820,
    "start_time": "2022-01-27T06:45:44.911Z"
   },
   {
    "duration": 6,
    "start_time": "2022-01-27T06:46:06.768Z"
   },
   {
    "duration": 1911,
    "start_time": "2022-01-27T06:46:09.378Z"
   },
   {
    "duration": 7,
    "start_time": "2022-01-27T06:47:10.991Z"
   },
   {
    "duration": 2519,
    "start_time": "2022-01-27T06:47:13.438Z"
   },
   {
    "duration": 8,
    "start_time": "2022-01-27T06:47:45.224Z"
   },
   {
    "duration": 2707,
    "start_time": "2022-01-27T06:47:48.315Z"
   },
   {
    "duration": 9,
    "start_time": "2022-01-27T06:48:53.080Z"
   },
   {
    "duration": 1629,
    "start_time": "2022-01-27T06:48:56.746Z"
   },
   {
    "duration": 1730,
    "start_time": "2022-01-27T06:49:57.630Z"
   },
   {
    "duration": 1657,
    "start_time": "2022-01-27T06:50:06.024Z"
   },
   {
    "duration": 3919,
    "start_time": "2022-01-27T06:50:24.556Z"
   },
   {
    "duration": 3523,
    "start_time": "2022-01-27T06:50:28.477Z"
   },
   {
    "duration": 3899,
    "start_time": "2022-01-27T06:50:36.154Z"
   },
   {
    "duration": 1187,
    "start_time": "2022-01-27T06:53:04.346Z"
   },
   {
    "duration": 385,
    "start_time": "2022-01-27T06:53:05.535Z"
   },
   {
    "duration": 10,
    "start_time": "2022-01-27T06:53:05.922Z"
   },
   {
    "duration": 7,
    "start_time": "2022-01-27T06:53:05.934Z"
   },
   {
    "duration": 10,
    "start_time": "2022-01-27T06:53:05.943Z"
   },
   {
    "duration": 15,
    "start_time": "2022-01-27T06:53:05.972Z"
   },
   {
    "duration": 15,
    "start_time": "2022-01-27T06:53:05.991Z"
   },
   {
    "duration": 11,
    "start_time": "2022-01-27T06:53:06.008Z"
   },
   {
    "duration": 4,
    "start_time": "2022-01-27T06:53:06.021Z"
   },
   {
    "duration": 3583,
    "start_time": "2022-01-27T06:53:06.026Z"
   },
   {
    "duration": 3584,
    "start_time": "2022-01-27T06:53:09.612Z"
   },
   {
    "duration": 3720,
    "start_time": "2022-01-27T06:53:13.198Z"
   },
   {
    "duration": 5,
    "start_time": "2022-01-27T06:53:16.921Z"
   },
   {
    "duration": 49,
    "start_time": "2022-01-27T06:53:16.928Z"
   },
   {
    "duration": 113,
    "start_time": "2022-01-27T06:53:16.979Z"
   },
   {
    "duration": 182,
    "start_time": "2022-01-27T06:53:17.094Z"
   },
   {
    "duration": 4,
    "start_time": "2022-01-27T06:53:17.278Z"
   },
   {
    "duration": 392,
    "start_time": "2022-01-27T06:53:17.285Z"
   },
   {
    "duration": 12,
    "start_time": "2022-01-27T06:53:17.683Z"
   },
   {
    "duration": 696,
    "start_time": "2022-01-27T06:53:17.697Z"
   },
   {
    "duration": 462,
    "start_time": "2022-01-27T06:53:18.395Z"
   },
   {
    "duration": 550,
    "start_time": "2022-01-27T06:53:18.860Z"
   },
   {
    "duration": 174,
    "start_time": "2022-01-27T06:53:19.412Z"
   },
   {
    "duration": 84,
    "start_time": "2022-01-27T06:53:19.589Z"
   },
   {
    "duration": 12,
    "start_time": "2022-01-27T06:53:19.676Z"
   },
   {
    "duration": 1713,
    "start_time": "2022-01-27T06:53:19.692Z"
   },
   {
    "duration": 1682,
    "start_time": "2022-01-27T06:53:21.407Z"
   },
   {
    "duration": 1638,
    "start_time": "2022-01-27T06:53:23.091Z"
   },
   {
    "duration": 3562,
    "start_time": "2022-01-27T06:53:24.731Z"
   },
   {
    "duration": 3231,
    "start_time": "2022-01-27T06:53:28.296Z"
   },
   {
    "duration": 3095,
    "start_time": "2022-01-27T06:53:31.529Z"
   }
  ],
  "kernelspec": {
   "display_name": "Python 3",
   "language": "python",
   "name": "python3"
  },
  "language_info": {
   "codemirror_mode": {
    "name": "ipython",
    "version": 3
   },
   "file_extension": ".py",
   "mimetype": "text/x-python",
   "name": "python",
   "nbconvert_exporter": "python",
   "pygments_lexer": "ipython3",
   "version": "3.7.8"
  },
  "toc": {
   "base_numbering": 1,
   "nav_menu": {},
   "number_sections": true,
   "sideBar": true,
   "skip_h1_title": true,
   "title_cell": "Table of Contents",
   "title_sidebar": "Contents",
   "toc_cell": false,
   "toc_position": {
    "height": "calc(100% - 180px)",
    "left": "10px",
    "top": "150px",
    "width": "392px"
   },
   "toc_section_display": true,
   "toc_window_display": true
  }
 },
 "nbformat": 4,
 "nbformat_minor": 2
}

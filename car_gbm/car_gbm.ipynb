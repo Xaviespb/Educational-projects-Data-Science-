{
 "cells": [
  {
   "cell_type": "markdown",
   "metadata": {},
   "source": [
    "# Определение стоимости автомобилей"
   ]
  },
  {
   "cell_type": "markdown",
   "metadata": {},
   "source": [
    "Сервис по продаже автомобилей с пробегом разрабатывает приложение для привлечения новых клиентов. В нём можно быстро узнать рыночную стоимость своего автомобиля. В нашем распоряжении исторические данные: технические характеристики, комплектации и цены автомобилей. Вам нужно построить модель для определения стоимости. \n",
    "\n",
    "Заказчику важны:\n",
    "\n",
    "- качество предсказания;\n",
    "- скорость предсказания;\n",
    "- время обучения."
   ]
  },
  {
   "cell_type": "markdown",
   "metadata": {},
   "source": [
    "## Подготовка данных"
   ]
  },
  {
   "cell_type": "code",
   "execution_count": 1,
   "metadata": {},
   "outputs": [],
   "source": [
    "import pandas as pd\n",
    "from sklearn.model_selection import train_test_split, GridSearchCV, cross_val_score\n",
    "from sklearn.linear_model import LinearRegression\n",
    "from sklearn.tree import DecisionTreeRegressor\n",
    "from sklearn.neighbors import KNeighborsRegressor\n",
    "from sklearn.dummy import DummyRegressor\n",
    "from catboost import CatBoostRegressor as catbreg\n",
    "from lightgbm import LGBMRegressor as lgbmreg\n",
    "import lightgbm as lgb\n",
    "from sklearn.metrics import mean_squared_error\n",
    "from sklearn.metrics import mean_absolute_error\n",
    "import matplotlib.pyplot as plt\n",
    "import numpy as np\n",
    "from scipy import stats as st\n",
    "from sklearn.preprocessing import OrdinalEncoder, LabelEncoder"
   ]
  },
  {
   "cell_type": "code",
   "execution_count": 2,
   "metadata": {},
   "outputs": [],
   "source": [
    "pd.set_option('display.float_format', '{:,.2f}'.format)"
   ]
  },
  {
   "cell_type": "code",
   "execution_count": 3,
   "metadata": {
    "scrolled": true
   },
   "outputs": [
    {
     "data": {
      "text/html": [
       "<div>\n",
       "<style scoped>\n",
       "    .dataframe tbody tr th:only-of-type {\n",
       "        vertical-align: middle;\n",
       "    }\n",
       "\n",
       "    .dataframe tbody tr th {\n",
       "        vertical-align: top;\n",
       "    }\n",
       "\n",
       "    .dataframe thead th {\n",
       "        text-align: right;\n",
       "    }\n",
       "</style>\n",
       "<table border=\"1\" class=\"dataframe\">\n",
       "  <thead>\n",
       "    <tr style=\"text-align: right;\">\n",
       "      <th></th>\n",
       "      <th>DateCrawled</th>\n",
       "      <th>Price</th>\n",
       "      <th>VehicleType</th>\n",
       "      <th>RegistrationYear</th>\n",
       "      <th>Gearbox</th>\n",
       "      <th>Power</th>\n",
       "      <th>Model</th>\n",
       "      <th>Kilometer</th>\n",
       "      <th>RegistrationMonth</th>\n",
       "      <th>FuelType</th>\n",
       "      <th>Brand</th>\n",
       "      <th>NotRepaired</th>\n",
       "      <th>DateCreated</th>\n",
       "      <th>NumberOfPictures</th>\n",
       "      <th>PostalCode</th>\n",
       "      <th>LastSeen</th>\n",
       "    </tr>\n",
       "  </thead>\n",
       "  <tbody>\n",
       "    <tr>\n",
       "      <td>0</td>\n",
       "      <td>2016-03-24 11:52:17</td>\n",
       "      <td>480</td>\n",
       "      <td>NaN</td>\n",
       "      <td>1993</td>\n",
       "      <td>manual</td>\n",
       "      <td>0</td>\n",
       "      <td>golf</td>\n",
       "      <td>150000</td>\n",
       "      <td>0</td>\n",
       "      <td>petrol</td>\n",
       "      <td>volkswagen</td>\n",
       "      <td>NaN</td>\n",
       "      <td>2016-03-24 00:00:00</td>\n",
       "      <td>0</td>\n",
       "      <td>70435</td>\n",
       "      <td>2016-04-07 03:16:57</td>\n",
       "    </tr>\n",
       "    <tr>\n",
       "      <td>1</td>\n",
       "      <td>2016-03-24 10:58:45</td>\n",
       "      <td>18300</td>\n",
       "      <td>coupe</td>\n",
       "      <td>2011</td>\n",
       "      <td>manual</td>\n",
       "      <td>190</td>\n",
       "      <td>NaN</td>\n",
       "      <td>125000</td>\n",
       "      <td>5</td>\n",
       "      <td>gasoline</td>\n",
       "      <td>audi</td>\n",
       "      <td>yes</td>\n",
       "      <td>2016-03-24 00:00:00</td>\n",
       "      <td>0</td>\n",
       "      <td>66954</td>\n",
       "      <td>2016-04-07 01:46:50</td>\n",
       "    </tr>\n",
       "    <tr>\n",
       "      <td>2</td>\n",
       "      <td>2016-03-14 12:52:21</td>\n",
       "      <td>9800</td>\n",
       "      <td>suv</td>\n",
       "      <td>2004</td>\n",
       "      <td>auto</td>\n",
       "      <td>163</td>\n",
       "      <td>grand</td>\n",
       "      <td>125000</td>\n",
       "      <td>8</td>\n",
       "      <td>gasoline</td>\n",
       "      <td>jeep</td>\n",
       "      <td>NaN</td>\n",
       "      <td>2016-03-14 00:00:00</td>\n",
       "      <td>0</td>\n",
       "      <td>90480</td>\n",
       "      <td>2016-04-05 12:47:46</td>\n",
       "    </tr>\n",
       "    <tr>\n",
       "      <td>3</td>\n",
       "      <td>2016-03-17 16:54:04</td>\n",
       "      <td>1500</td>\n",
       "      <td>small</td>\n",
       "      <td>2001</td>\n",
       "      <td>manual</td>\n",
       "      <td>75</td>\n",
       "      <td>golf</td>\n",
       "      <td>150000</td>\n",
       "      <td>6</td>\n",
       "      <td>petrol</td>\n",
       "      <td>volkswagen</td>\n",
       "      <td>no</td>\n",
       "      <td>2016-03-17 00:00:00</td>\n",
       "      <td>0</td>\n",
       "      <td>91074</td>\n",
       "      <td>2016-03-17 17:40:17</td>\n",
       "    </tr>\n",
       "    <tr>\n",
       "      <td>4</td>\n",
       "      <td>2016-03-31 17:25:20</td>\n",
       "      <td>3600</td>\n",
       "      <td>small</td>\n",
       "      <td>2008</td>\n",
       "      <td>manual</td>\n",
       "      <td>69</td>\n",
       "      <td>fabia</td>\n",
       "      <td>90000</td>\n",
       "      <td>7</td>\n",
       "      <td>gasoline</td>\n",
       "      <td>skoda</td>\n",
       "      <td>no</td>\n",
       "      <td>2016-03-31 00:00:00</td>\n",
       "      <td>0</td>\n",
       "      <td>60437</td>\n",
       "      <td>2016-04-06 10:17:21</td>\n",
       "    </tr>\n",
       "  </tbody>\n",
       "</table>\n",
       "</div>"
      ],
      "text/plain": [
       "           DateCrawled  Price VehicleType  RegistrationYear Gearbox  Power  \\\n",
       "0  2016-03-24 11:52:17    480         NaN              1993  manual      0   \n",
       "1  2016-03-24 10:58:45  18300       coupe              2011  manual    190   \n",
       "2  2016-03-14 12:52:21   9800         suv              2004    auto    163   \n",
       "3  2016-03-17 16:54:04   1500       small              2001  manual     75   \n",
       "4  2016-03-31 17:25:20   3600       small              2008  manual     69   \n",
       "\n",
       "   Model  Kilometer  RegistrationMonth  FuelType       Brand NotRepaired  \\\n",
       "0   golf     150000                  0    petrol  volkswagen         NaN   \n",
       "1    NaN     125000                  5  gasoline        audi         yes   \n",
       "2  grand     125000                  8  gasoline        jeep         NaN   \n",
       "3   golf     150000                  6    petrol  volkswagen          no   \n",
       "4  fabia      90000                  7  gasoline       skoda          no   \n",
       "\n",
       "           DateCreated  NumberOfPictures  PostalCode             LastSeen  \n",
       "0  2016-03-24 00:00:00                 0       70435  2016-04-07 03:16:57  \n",
       "1  2016-03-24 00:00:00                 0       66954  2016-04-07 01:46:50  \n",
       "2  2016-03-14 00:00:00                 0       90480  2016-04-05 12:47:46  \n",
       "3  2016-03-17 00:00:00                 0       91074  2016-03-17 17:40:17  \n",
       "4  2016-03-31 00:00:00                 0       60437  2016-04-06 10:17:21  "
      ]
     },
     "execution_count": 3,
     "metadata": {},
     "output_type": "execute_result"
    }
   ],
   "source": [
    "df = pd.read_csv('/datasets/autos.csv')\n",
    "df.head(5)"
   ]
  },
  {
   "cell_type": "code",
   "execution_count": 4,
   "metadata": {
    "scrolled": true
   },
   "outputs": [
    {
     "name": "stdout",
     "output_type": "stream",
     "text": [
      "<class 'pandas.core.frame.DataFrame'>\n",
      "RangeIndex: 354369 entries, 0 to 354368\n",
      "Data columns (total 16 columns):\n",
      "DateCrawled          354369 non-null object\n",
      "Price                354369 non-null int64\n",
      "VehicleType          316879 non-null object\n",
      "RegistrationYear     354369 non-null int64\n",
      "Gearbox              334536 non-null object\n",
      "Power                354369 non-null int64\n",
      "Model                334664 non-null object\n",
      "Kilometer            354369 non-null int64\n",
      "RegistrationMonth    354369 non-null int64\n",
      "FuelType             321474 non-null object\n",
      "Brand                354369 non-null object\n",
      "NotRepaired          283215 non-null object\n",
      "DateCreated          354369 non-null object\n",
      "NumberOfPictures     354369 non-null int64\n",
      "PostalCode           354369 non-null int64\n",
      "LastSeen             354369 non-null object\n",
      "dtypes: int64(7), object(9)\n",
      "memory usage: 43.3+ MB\n"
     ]
    }
   ],
   "source": [
    "df.info()"
   ]
  },
  {
   "cell_type": "code",
   "execution_count": 5,
   "metadata": {
    "scrolled": false
   },
   "outputs": [
    {
     "data": {
      "text/html": [
       "<div>\n",
       "<style scoped>\n",
       "    .dataframe tbody tr th:only-of-type {\n",
       "        vertical-align: middle;\n",
       "    }\n",
       "\n",
       "    .dataframe tbody tr th {\n",
       "        vertical-align: top;\n",
       "    }\n",
       "\n",
       "    .dataframe thead th {\n",
       "        text-align: right;\n",
       "    }\n",
       "</style>\n",
       "<table border=\"1\" class=\"dataframe\">\n",
       "  <thead>\n",
       "    <tr style=\"text-align: right;\">\n",
       "      <th></th>\n",
       "      <th>Price</th>\n",
       "      <th>RegistrationYear</th>\n",
       "      <th>Power</th>\n",
       "      <th>Kilometer</th>\n",
       "      <th>RegistrationMonth</th>\n",
       "      <th>NumberOfPictures</th>\n",
       "      <th>PostalCode</th>\n",
       "    </tr>\n",
       "  </thead>\n",
       "  <tbody>\n",
       "    <tr>\n",
       "      <td>count</td>\n",
       "      <td>354,369.00</td>\n",
       "      <td>354,369.00</td>\n",
       "      <td>354,369.00</td>\n",
       "      <td>354,369.00</td>\n",
       "      <td>354,369.00</td>\n",
       "      <td>354,369.00</td>\n",
       "      <td>354,369.00</td>\n",
       "    </tr>\n",
       "    <tr>\n",
       "      <td>mean</td>\n",
       "      <td>4,416.66</td>\n",
       "      <td>2,004.23</td>\n",
       "      <td>110.09</td>\n",
       "      <td>128,211.17</td>\n",
       "      <td>5.71</td>\n",
       "      <td>0.00</td>\n",
       "      <td>50,508.69</td>\n",
       "    </tr>\n",
       "    <tr>\n",
       "      <td>std</td>\n",
       "      <td>4,514.16</td>\n",
       "      <td>90.23</td>\n",
       "      <td>189.85</td>\n",
       "      <td>37,905.34</td>\n",
       "      <td>3.73</td>\n",
       "      <td>0.00</td>\n",
       "      <td>25,783.10</td>\n",
       "    </tr>\n",
       "    <tr>\n",
       "      <td>min</td>\n",
       "      <td>0.00</td>\n",
       "      <td>1,000.00</td>\n",
       "      <td>0.00</td>\n",
       "      <td>5,000.00</td>\n",
       "      <td>0.00</td>\n",
       "      <td>0.00</td>\n",
       "      <td>1,067.00</td>\n",
       "    </tr>\n",
       "    <tr>\n",
       "      <td>25%</td>\n",
       "      <td>1,050.00</td>\n",
       "      <td>1,999.00</td>\n",
       "      <td>69.00</td>\n",
       "      <td>125,000.00</td>\n",
       "      <td>3.00</td>\n",
       "      <td>0.00</td>\n",
       "      <td>30,165.00</td>\n",
       "    </tr>\n",
       "    <tr>\n",
       "      <td>50%</td>\n",
       "      <td>2,700.00</td>\n",
       "      <td>2,003.00</td>\n",
       "      <td>105.00</td>\n",
       "      <td>150,000.00</td>\n",
       "      <td>6.00</td>\n",
       "      <td>0.00</td>\n",
       "      <td>49,413.00</td>\n",
       "    </tr>\n",
       "    <tr>\n",
       "      <td>75%</td>\n",
       "      <td>6,400.00</td>\n",
       "      <td>2,008.00</td>\n",
       "      <td>143.00</td>\n",
       "      <td>150,000.00</td>\n",
       "      <td>9.00</td>\n",
       "      <td>0.00</td>\n",
       "      <td>71,083.00</td>\n",
       "    </tr>\n",
       "    <tr>\n",
       "      <td>max</td>\n",
       "      <td>20,000.00</td>\n",
       "      <td>9,999.00</td>\n",
       "      <td>20,000.00</td>\n",
       "      <td>150,000.00</td>\n",
       "      <td>12.00</td>\n",
       "      <td>0.00</td>\n",
       "      <td>99,998.00</td>\n",
       "    </tr>\n",
       "  </tbody>\n",
       "</table>\n",
       "</div>"
      ],
      "text/plain": [
       "           Price  RegistrationYear      Power  Kilometer  RegistrationMonth  \\\n",
       "count 354,369.00        354,369.00 354,369.00 354,369.00         354,369.00   \n",
       "mean    4,416.66          2,004.23     110.09 128,211.17               5.71   \n",
       "std     4,514.16             90.23     189.85  37,905.34               3.73   \n",
       "min         0.00          1,000.00       0.00   5,000.00               0.00   \n",
       "25%     1,050.00          1,999.00      69.00 125,000.00               3.00   \n",
       "50%     2,700.00          2,003.00     105.00 150,000.00               6.00   \n",
       "75%     6,400.00          2,008.00     143.00 150,000.00               9.00   \n",
       "max    20,000.00          9,999.00  20,000.00 150,000.00              12.00   \n",
       "\n",
       "       NumberOfPictures  PostalCode  \n",
       "count        354,369.00  354,369.00  \n",
       "mean               0.00   50,508.69  \n",
       "std                0.00   25,783.10  \n",
       "min                0.00    1,067.00  \n",
       "25%                0.00   30,165.00  \n",
       "50%                0.00   49,413.00  \n",
       "75%                0.00   71,083.00  \n",
       "max                0.00   99,998.00  "
      ]
     },
     "execution_count": 5,
     "metadata": {},
     "output_type": "execute_result"
    }
   ],
   "source": [
    "df.describe()"
   ]
  },
  {
   "cell_type": "markdown",
   "metadata": {},
   "source": [
    "Видим что встречаются нулевые значения цены, удаляем их"
   ]
  },
  {
   "cell_type": "code",
   "execution_count": 6,
   "metadata": {},
   "outputs": [],
   "source": [
    "df = df[df['Price'] != 0]"
   ]
  },
  {
   "cell_type": "markdown",
   "metadata": {},
   "source": [
    "Удалим признаки, которые не прриносят полезной информации в модель"
   ]
  },
  {
   "cell_type": "code",
   "execution_count": 7,
   "metadata": {},
   "outputs": [],
   "source": [
    "df = df.drop(['DateCrawled',\n",
    "              'DateCreated',\n",
    "              'NumberOfPictures',\n",
    "              'PostalCode',\n",
    "              'LastSeen'], axis=1)"
   ]
  },
  {
   "cell_type": "markdown",
   "metadata": {},
   "source": [
    "Проверим датасет на пропуски"
   ]
  },
  {
   "cell_type": "code",
   "execution_count": 8,
   "metadata": {},
   "outputs": [
    {
     "data": {
      "text/plain": [
       "Price                    0\n",
       "RegistrationYear         0\n",
       "Power                    0\n",
       "Kilometer                0\n",
       "RegistrationMonth        0\n",
       "Brand                    0\n",
       "Gearbox              17355\n",
       "Model                17521\n",
       "FuelType             29459\n",
       "VehicleType          33750\n",
       "NotRepaired          65866\n",
       "dtype: int64"
      ]
     },
     "execution_count": 8,
     "metadata": {},
     "output_type": "execute_result"
    }
   ],
   "source": [
    "df.isna().sum().sort_values()"
   ]
  },
  {
   "cell_type": "markdown",
   "metadata": {},
   "source": [
    "Заполним пропуски строковым значением 'Unknown'"
   ]
  },
  {
   "cell_type": "code",
   "execution_count": 9,
   "metadata": {},
   "outputs": [],
   "source": [
    "df[['Model', 'Gearbox', 'FuelType', 'VehicleType',\n",
    "    'NotRepaired', 'Brand']] = df[['Model',\n",
    "                          'Gearbox', 'FuelType', 'VehicleType',\n",
    "                          'NotRepaired', 'Brand']].fillna(value='Unknown')"
   ]
  },
  {
   "cell_type": "code",
   "execution_count": 10,
   "metadata": {
    "scrolled": true
   },
   "outputs": [
    {
     "data": {
      "text/plain": [
       "Price                0\n",
       "VehicleType          0\n",
       "RegistrationYear     0\n",
       "Gearbox              0\n",
       "Power                0\n",
       "Model                0\n",
       "Kilometer            0\n",
       "RegistrationMonth    0\n",
       "FuelType             0\n",
       "Brand                0\n",
       "NotRepaired          0\n",
       "dtype: int64"
      ]
     },
     "execution_count": 10,
     "metadata": {},
     "output_type": "execute_result"
    }
   ],
   "source": [
    "df.isna().sum().sort_values()"
   ]
  },
  {
   "cell_type": "markdown",
   "metadata": {},
   "source": [
    "Посмотрим на распределение целевого признака"
   ]
  },
  {
   "cell_type": "code",
   "execution_count": 11,
   "metadata": {
    "scrolled": false
   },
   "outputs": [
    {
     "data": {
      "text/plain": [
       "<matplotlib.axes._subplots.AxesSubplot at 0x7fe328d411d0>"
      ]
     },
     "execution_count": 11,
     "metadata": {},
     "output_type": "execute_result"
    },
    {
     "data": {
      "image/png": "[encoded data removed]",
      "text/plain": [
       "<Figure size 432x288 with 1 Axes>"
      ]
     },
     "metadata": {
      "needs_background": "light"
     },
     "output_type": "display_data"
    }
   ],
   "source": [
    "df['Price'].hist(bins=30, edgecolor='k')"
   ]
  },
  {
   "cell_type": "markdown",
   "metadata": {},
   "source": [
    "Распределение скошено вправо и есть длинный хвост вправо, в сторону большей цены\n",
    "Не будем его усекать, скорее всего это не выбросы и не ухудшит модель"
   ]
  },
  {
   "cell_type": "code",
   "execution_count": 12,
   "metadata": {},
   "outputs": [
    {
     "data": {
      "text/plain": [
       "26158"
      ]
     },
     "execution_count": 12,
     "metadata": {},
     "output_type": "execute_result"
    }
   ],
   "source": [
    "df.duplicated().sum()"
   ]
  },
  {
   "cell_type": "markdown",
   "metadata": {},
   "source": [
    "Избавимся от дубликатов"
   ]
  },
  {
   "cell_type": "code",
   "execution_count": 13,
   "metadata": {},
   "outputs": [],
   "source": [
    "df = df[~df.duplicated()]"
   ]
  },
  {
   "cell_type": "code",
   "execution_count": 14,
   "metadata": {},
   "outputs": [
    {
     "data": {
      "text/plain": [
       "Index(['Price', 'VehicleType', 'RegistrationYear', 'Gearbox', 'Power', 'Model',\n",
       "       'Kilometer', 'RegistrationMonth', 'FuelType', 'Brand', 'NotRepaired'],\n",
       "      dtype='object')"
      ]
     },
     "execution_count": 14,
     "metadata": {},
     "output_type": "execute_result"
    }
   ],
   "source": [
    "df.columns"
   ]
  },
  {
   "cell_type": "markdown",
   "metadata": {},
   "source": [
    "Для преобразования буквенных категорий в понятные модели числовые данные используем LabelEncoder"
   ]
  },
  {
   "cell_type": "code",
   "execution_count": 15,
   "metadata": {},
   "outputs": [],
   "source": [
    "cat_columns = ['VehicleType',\n",
    "                'Gearbox', 'Model', 'FuelType',\n",
    "                'Brand', 'NotRepaired']\n",
    "label_encoder = LabelEncoder()\n",
    "\n",
    "for col in cat_columns:\n",
    "    df[col] = label_encoder.fit_transform(df[col])"
   ]
  },
  {
   "cell_type": "code",
   "execution_count": 16,
   "metadata": {
    "scrolled": true
   },
   "outputs": [
    {
     "data": {
      "text/html": [
       "<div>\n",
       "<style scoped>\n",
       "    .dataframe tbody tr th:only-of-type {\n",
       "        vertical-align: middle;\n",
       "    }\n",
       "\n",
       "    .dataframe tbody tr th {\n",
       "        vertical-align: top;\n",
       "    }\n",
       "\n",
       "    .dataframe thead th {\n",
       "        text-align: right;\n",
       "    }\n",
       "</style>\n",
       "<table border=\"1\" class=\"dataframe\">\n",
       "  <thead>\n",
       "    <tr style=\"text-align: right;\">\n",
       "      <th></th>\n",
       "      <th>Price</th>\n",
       "      <th>VehicleType</th>\n",
       "      <th>RegistrationYear</th>\n",
       "      <th>Gearbox</th>\n",
       "      <th>Power</th>\n",
       "      <th>Model</th>\n",
       "      <th>Kilometer</th>\n",
       "      <th>RegistrationMonth</th>\n",
       "      <th>FuelType</th>\n",
       "      <th>Brand</th>\n",
       "      <th>NotRepaired</th>\n",
       "    </tr>\n",
       "  </thead>\n",
       "  <tbody>\n",
       "    <tr>\n",
       "      <td>0</td>\n",
       "      <td>480</td>\n",
       "      <td>0</td>\n",
       "      <td>1993</td>\n",
       "      <td>2</td>\n",
       "      <td>0</td>\n",
       "      <td>117</td>\n",
       "      <td>150000</td>\n",
       "      <td>0</td>\n",
       "      <td>7</td>\n",
       "      <td>38</td>\n",
       "      <td>0</td>\n",
       "    </tr>\n",
       "    <tr>\n",
       "      <td>1</td>\n",
       "      <td>18300</td>\n",
       "      <td>3</td>\n",
       "      <td>2011</td>\n",
       "      <td>2</td>\n",
       "      <td>190</td>\n",
       "      <td>26</td>\n",
       "      <td>125000</td>\n",
       "      <td>5</td>\n",
       "      <td>3</td>\n",
       "      <td>1</td>\n",
       "      <td>2</td>\n",
       "    </tr>\n",
       "    <tr>\n",
       "      <td>2</td>\n",
       "      <td>9800</td>\n",
       "      <td>7</td>\n",
       "      <td>2004</td>\n",
       "      <td>1</td>\n",
       "      <td>163</td>\n",
       "      <td>118</td>\n",
       "      <td>125000</td>\n",
       "      <td>8</td>\n",
       "      <td>3</td>\n",
       "      <td>14</td>\n",
       "      <td>0</td>\n",
       "    </tr>\n",
       "    <tr>\n",
       "      <td>3</td>\n",
       "      <td>1500</td>\n",
       "      <td>6</td>\n",
       "      <td>2001</td>\n",
       "      <td>2</td>\n",
       "      <td>75</td>\n",
       "      <td>117</td>\n",
       "      <td>150000</td>\n",
       "      <td>6</td>\n",
       "      <td>7</td>\n",
       "      <td>38</td>\n",
       "      <td>1</td>\n",
       "    </tr>\n",
       "    <tr>\n",
       "      <td>4</td>\n",
       "      <td>3600</td>\n",
       "      <td>6</td>\n",
       "      <td>2008</td>\n",
       "      <td>2</td>\n",
       "      <td>69</td>\n",
       "      <td>102</td>\n",
       "      <td>90000</td>\n",
       "      <td>7</td>\n",
       "      <td>3</td>\n",
       "      <td>31</td>\n",
       "      <td>1</td>\n",
       "    </tr>\n",
       "  </tbody>\n",
       "</table>\n",
       "</div>"
      ],
      "text/plain": [
       "   Price  VehicleType  RegistrationYear  Gearbox  Power  Model  Kilometer  \\\n",
       "0    480            0              1993        2      0    117     150000   \n",
       "1  18300            3              2011        2    190     26     125000   \n",
       "2   9800            7              2004        1    163    118     125000   \n",
       "3   1500            6              2001        2     75    117     150000   \n",
       "4   3600            6              2008        2     69    102      90000   \n",
       "\n",
       "   RegistrationMonth  FuelType  Brand  NotRepaired  \n",
       "0                  0         7     38            0  \n",
       "1                  5         3      1            2  \n",
       "2                  8         3     14            0  \n",
       "3                  6         7     38            1  \n",
       "4                  7         3     31            1  "
      ]
     },
     "execution_count": 16,
     "metadata": {},
     "output_type": "execute_result"
    }
   ],
   "source": [
    "df.head(5)"
   ]
  },
  {
   "cell_type": "markdown",
   "metadata": {},
   "source": [
    "## Обучение моделей"
   ]
  },
  {
   "cell_type": "markdown",
   "metadata": {},
   "source": [
    "Выделим признаки и целевой признак"
   ]
  },
  {
   "cell_type": "code",
   "execution_count": 17,
   "metadata": {
    "scrolled": true
   },
   "outputs": [],
   "source": [
    "target = df['Price']\n",
    "features = df.drop(['Price'] , axis=1)"
   ]
  },
  {
   "cell_type": "markdown",
   "metadata": {},
   "source": [
    "Выделим тестовую подвыборку"
   ]
  },
  {
   "cell_type": "code",
   "execution_count": 18,
   "metadata": {},
   "outputs": [],
   "source": [
    "features_train, features_test, target_train, target_test = train_test_split(\n",
    "    features,\n",
    "    target,\n",
    "    test_size=0.25,\n",
    "    random_state=17)"
   ]
  },
  {
   "cell_type": "code",
   "execution_count": 19,
   "metadata": {},
   "outputs": [
    {
     "name": "stdout",
     "output_type": "stream",
     "text": [
      "Размер Train: features (238079, 10) target (238079,)\n",
      "Размер Test: features (79360, 10) target (79360,)\n"
     ]
    }
   ],
   "source": [
    "print(f'Размер Train: features {features_train.shape} target {target_train.shape}')\n",
    "print(f'Размер Test: features {features_test.shape} target {target_test.shape}')"
   ]
  },
  {
   "cell_type": "markdown",
   "metadata": {},
   "source": [
    "### LGBM Regresspor"
   ]
  },
  {
   "cell_type": "markdown",
   "metadata": {},
   "source": [
    "Обучим модель градиентного бустинга LGBM Regressor"
   ]
  },
  {
   "cell_type": "code",
   "execution_count": 20,
   "metadata": {},
   "outputs": [],
   "source": [
    "booster = lgb.LGBMRegressor(iterations=100, max_depth=15, learning_rate=0.2)"
   ]
  },
  {
   "cell_type": "code",
   "execution_count": 21,
   "metadata": {
    "scrolled": true
   },
   "outputs": [
    {
     "name": "stdout",
     "output_type": "stream",
     "text": [
      "CPU times: user 24 s, sys: 207 ms, total: 24.2 s\n",
      "Wall time: 24.4 s\n"
     ]
    },
    {
     "data": {
      "text/plain": [
       "LGBMRegressor(boosting_type='gbdt', class_weight=None, colsample_bytree=1.0,\n",
       "              importance_type='split', iterations=100, learning_rate=0.2,\n",
       "              max_depth=15, min_child_samples=20, min_child_weight=0.001,\n",
       "              min_split_gain=0.0, n_estimators=100, n_jobs=-1, num_leaves=31,\n",
       "              objective=None, random_state=None, reg_alpha=0.0, reg_lambda=0.0,\n",
       "              silent=True, subsample=1.0, subsample_for_bin=200000,\n",
       "              subsample_freq=0)"
      ]
     },
     "execution_count": 21,
     "metadata": {},
     "output_type": "execute_result"
    }
   ],
   "source": [
    "%%time\n",
    "booster.fit(features_train,\n",
    "            target_train,\n",
    "            verbose=50)"
   ]
  },
  {
   "cell_type": "code",
   "execution_count": 22,
   "metadata": {},
   "outputs": [
    {
     "name": "stdout",
     "output_type": "stream",
     "text": [
      "CPU times: user 514 ms, sys: 3.32 ms, total: 517 ms\n",
      "Wall time: 500 ms\n"
     ]
    }
   ],
   "source": [
    "%%time\n",
    "booster_pred = booster.predict(features_test)"
   ]
  },
  {
   "cell_type": "code",
   "execution_count": 23,
   "metadata": {},
   "outputs": [
    {
     "name": "stdout",
     "output_type": "stream",
     "text": [
      "1716.7534153254537\n"
     ]
    }
   ],
   "source": [
    "print(mean_squared_error(booster_pred, target_test) ** 0.5)"
   ]
  },
  {
   "cell_type": "markdown",
   "metadata": {},
   "source": [
    "Лучший параметр подобрали в ручную, GridSerch сделает RMSE меньше, но это займет намного больше времени"
   ]
  },
  {
   "cell_type": "markdown",
   "metadata": {},
   "source": [
    "### Linear regression"
   ]
  },
  {
   "cell_type": "markdown",
   "metadata": {},
   "source": [
    "Обучим модель линейной регрессии"
   ]
  },
  {
   "cell_type": "code",
   "execution_count": 24,
   "metadata": {},
   "outputs": [
    {
     "name": "stdout",
     "output_type": "stream",
     "text": [
      "CPU times: user 69.9 ms, sys: 13 ms, total: 82.9 ms\n",
      "Wall time: 89.1 ms\n"
     ]
    }
   ],
   "source": [
    "%%time\n",
    "lr = LinearRegression().fit(features_train, target_train)"
   ]
  },
  {
   "cell_type": "code",
   "execution_count": 25,
   "metadata": {},
   "outputs": [
    {
     "name": "stdout",
     "output_type": "stream",
     "text": [
      "CPU times: user 683 ms, sys: 505 ms, total: 1.19 s\n",
      "Wall time: 1.19 s\n"
     ]
    }
   ],
   "source": [
    "%%time\n",
    "scores= np.sqrt(-cross_val_score(lr,\n",
    "                                 features_train,\n",
    "                                 target_train,\n",
    "                                 scoring=\"neg_mean_squared_error\",\n",
    "                                 cv = 5))\n"
   ]
  },
  {
   "cell_type": "code",
   "execution_count": 26,
   "metadata": {},
   "outputs": [
    {
     "name": "stdout",
     "output_type": "stream",
     "text": [
      "Train scores:\n",
      "rmse = [4035.9190509  4041.02251539 4068.75557683 4032.74756055 4080.82554443] \n",
      "mean score = 4051.85405 +/- 19.29411\n",
      "\n",
      "Test scores:\n",
      "rmse = [4014.87205474 4063.67127598 4046.39546705 4047.46282857 4114.22567039] \n",
      "mean score = 4057.32546 +/- 32.54821\n"
     ]
    }
   ],
   "source": [
    "print('Train scores:')\n",
    "print('rmse = {} \\nmean score = {:.5f} +/- {:.5f}'.format(scores,\n",
    "                                                            scores.mean(),\n",
    "                                                            scores.std()))\n",
    "print()\n",
    "print('Test scores:')\n",
    "scores= np.sqrt(-cross_val_score(lr,\n",
    "                                 features_test,\n",
    "                                 target_test,\n",
    "                                 scoring=\"neg_mean_squared_error\",\n",
    "                                 cv = 5))\n",
    "print('rmse = {} \\nmean score = {:.5f} +/- {:.5f}'.format(scores,\n",
    "                                                            scores.mean(),\n",
    "                                                            scores.std()))"
   ]
  },
  {
   "cell_type": "markdown",
   "metadata": {},
   "source": [
    "### CatBoost regression"
   ]
  },
  {
   "cell_type": "markdown",
   "metadata": {},
   "source": [
    "Обучим модель градиентного бустинга CatBoost регрессию"
   ]
  },
  {
   "cell_type": "code",
   "execution_count": 27,
   "metadata": {},
   "outputs": [],
   "source": [
    "catb = catbreg(loss_function=\"RMSE\", verbose=100, n_estimators=500, depth=10)"
   ]
  },
  {
   "cell_type": "code",
   "execution_count": 28,
   "metadata": {},
   "outputs": [
    {
     "name": "stdout",
     "output_type": "stream",
     "text": [
      "0:\tlearn: 4430.3786691\ttotal: 246ms\tremaining: 2m 2s\n",
      "100:\tlearn: 1972.8905015\ttotal: 21.1s\tremaining: 1m 23s\n",
      "200:\tlearn: 1804.7036566\ttotal: 41.9s\tremaining: 1m 2s\n",
      "300:\tlearn: 1739.2655693\ttotal: 1m 2s\tremaining: 41.4s\n",
      "400:\tlearn: 1697.1774177\ttotal: 1m 23s\tremaining: 20.6s\n",
      "499:\tlearn: 1666.6081723\ttotal: 1m 44s\tremaining: 0us\n",
      "CPU times: user 1min 35s, sys: 8.83 s, total: 1min 44s\n",
      "Wall time: 1min 46s\n"
     ]
    },
    {
     "data": {
      "text/plain": [
       "<catboost.core.CatBoostRegressor at 0x7fe3280af150>"
      ]
     },
     "execution_count": 28,
     "metadata": {},
     "output_type": "execute_result"
    }
   ],
   "source": [
    "%%time\n",
    "catb.fit(features_train, target_train)"
   ]
  },
  {
   "cell_type": "code",
   "execution_count": 29,
   "metadata": {},
   "outputs": [
    {
     "name": "stdout",
     "output_type": "stream",
     "text": [
      "CPU times: user 256 ms, sys: 28 ms, total: 284 ms\n",
      "Wall time: 226 ms\n"
     ]
    }
   ],
   "source": [
    "%%time\n",
    "catb_pred = catb.predict(features_test)"
   ]
  },
  {
   "cell_type": "code",
   "execution_count": 30,
   "metadata": {},
   "outputs": [
    {
     "name": "stdout",
     "output_type": "stream",
     "text": [
      "1724.1295901549004\n"
     ]
    }
   ],
   "source": [
    "print(mean_squared_error(catb_pred, target_test) ** 0.5)"
   ]
  },
  {
   "cell_type": "markdown",
   "metadata": {},
   "source": [
    "Модель можно улучшать, но временные затраты при одинаковых оценках с lgbm будут больше у catboost"
   ]
  },
  {
   "cell_type": "markdown",
   "metadata": {},
   "source": [
    "## Анализ моделей"
   ]
  },
  {
   "cell_type": "markdown",
   "metadata": {},
   "source": [
    "Сравним результаты"
   ]
  },
  {
   "cell_type": "code",
   "execution_count": 37,
   "metadata": {},
   "outputs": [],
   "source": [
    "data = [[24.4, 0.5, 1716],\n",
    "       [0.09, 1.19, 4057],\n",
    "       [106, 0.23, 1724]]\n",
    "model_name = ['LGBMRegresspor', 'LinearRegression', 'CatBoostRegression']\n",
    "col_name = ['time_s_fit','time_s_pred', 'score']"
   ]
  },
  {
   "cell_type": "code",
   "execution_count": 38,
   "metadata": {},
   "outputs": [
    {
     "data": {
      "text/html": [
       "<div>\n",
       "<style scoped>\n",
       "    .dataframe tbody tr th:only-of-type {\n",
       "        vertical-align: middle;\n",
       "    }\n",
       "\n",
       "    .dataframe tbody tr th {\n",
       "        vertical-align: top;\n",
       "    }\n",
       "\n",
       "    .dataframe thead th {\n",
       "        text-align: right;\n",
       "    }\n",
       "</style>\n",
       "<table border=\"1\" class=\"dataframe\">\n",
       "  <thead>\n",
       "    <tr style=\"text-align: right;\">\n",
       "      <th></th>\n",
       "      <th>time_s_fit</th>\n",
       "      <th>time_s_pred</th>\n",
       "      <th>score</th>\n",
       "    </tr>\n",
       "  </thead>\n",
       "  <tbody>\n",
       "    <tr>\n",
       "      <td>LGBMRegresspor</td>\n",
       "      <td>24.40</td>\n",
       "      <td>0.50</td>\n",
       "      <td>1716</td>\n",
       "    </tr>\n",
       "    <tr>\n",
       "      <td>LinearRegression</td>\n",
       "      <td>0.09</td>\n",
       "      <td>1.19</td>\n",
       "      <td>4057</td>\n",
       "    </tr>\n",
       "    <tr>\n",
       "      <td>CatBoostRegression</td>\n",
       "      <td>106.00</td>\n",
       "      <td>0.23</td>\n",
       "      <td>1724</td>\n",
       "    </tr>\n",
       "  </tbody>\n",
       "</table>\n",
       "</div>"
      ],
      "text/plain": [
       "                    time_s_fit  time_s_pred  score\n",
       "LGBMRegresspor           24.40         0.50   1716\n",
       "LinearRegression          0.09         1.19   4057\n",
       "CatBoostRegression      106.00         0.23   1724"
      ]
     },
     "execution_count": 38,
     "metadata": {},
     "output_type": "execute_result"
    }
   ],
   "source": [
    "pd.DataFrame(data=data, index=model_name, columns=col_name)"
   ]
  },
  {
   "cell_type": "markdown",
   "metadata": {},
   "source": [
    "Модели градиентного бустинга гораздо лучше линейных моделей по оценкам, но время нахождения лучших параметров и время обучения у них больше.\n",
    "Стоит отметить, что при одинаковых оценках LGBM обучается быстрее, а предсказание делает чуть дольше, линейная модель по времени предсказания самая долгая."
   ]
  }
 ],
 "metadata": {
  "ExecuteTimeLog": [
   {
    "duration": 1115,
    "start_time": "2022-02-28T17:13:55.974Z"
   },
   {
    "duration": 277,
    "start_time": "2022-02-28T17:14:19.676Z"
   },
   {
    "duration": 753,
    "start_time": "2022-02-28T17:14:25.854Z"
   },
   {
    "duration": 786,
    "start_time": "2022-02-28T17:14:28.685Z"
   },
   {
    "duration": 699,
    "start_time": "2022-02-28T17:15:54.061Z"
   },
   {
    "duration": 13,
    "start_time": "2022-02-28T17:16:18.645Z"
   },
   {
    "duration": 116,
    "start_time": "2022-02-28T17:16:23.566Z"
   },
   {
    "duration": 116,
    "start_time": "2022-02-28T17:16:42.859Z"
   },
   {
    "duration": 100184,
    "start_time": "2022-02-28T17:17:55.287Z"
   },
   {
    "duration": 181,
    "start_time": "2022-02-28T17:19:35.473Z"
   },
   {
    "duration": 173,
    "start_time": "2022-02-28T17:19:37.686Z"
   },
   {
    "duration": 178,
    "start_time": "2022-02-28T17:19:40.467Z"
   },
   {
    "duration": 4,
    "start_time": "2022-02-28T17:19:47.099Z"
   },
   {
    "duration": 3,
    "start_time": "2022-02-28T17:19:49.477Z"
   },
   {
    "duration": 725,
    "start_time": "2022-02-28T17:19:50.021Z"
   },
   {
    "duration": 110,
    "start_time": "2022-02-28T17:19:53.953Z"
   },
   {
    "duration": 109,
    "start_time": "2022-02-28T17:20:12.937Z"
   },
   {
    "duration": 188,
    "start_time": "2022-02-28T17:20:15.928Z"
   },
   {
    "duration": 353,
    "start_time": "2022-02-28T17:23:20.102Z"
   },
   {
    "duration": 408,
    "start_time": "2022-02-28T17:23:32.452Z"
   },
   {
    "duration": 177,
    "start_time": "2022-02-28T17:24:19.353Z"
   },
   {
    "duration": 4,
    "start_time": "2022-02-28T17:24:22.953Z"
   },
   {
    "duration": 39,
    "start_time": "2022-02-28T17:25:21.714Z"
   },
   {
    "duration": 174,
    "start_time": "2022-02-28T17:25:43.459Z"
   },
   {
    "duration": 1179,
    "start_time": "2022-03-01T08:50:41.817Z"
   },
   {
    "duration": 2,
    "start_time": "2022-03-01T08:50:42.998Z"
   },
   {
    "duration": 789,
    "start_time": "2022-03-01T08:50:43.002Z"
   },
   {
    "duration": 131,
    "start_time": "2022-03-01T08:50:43.793Z"
   },
   {
    "duration": 119,
    "start_time": "2022-03-01T08:50:43.926Z"
   },
   {
    "duration": 441,
    "start_time": "2022-03-01T08:50:44.047Z"
   },
   {
    "duration": 478,
    "start_time": "2022-03-01T08:50:44.489Z"
   },
   {
    "duration": 3,
    "start_time": "2022-03-01T08:50:44.969Z"
   },
   {
    "duration": 47,
    "start_time": "2022-03-01T08:50:44.974Z"
   },
   {
    "duration": 216,
    "start_time": "2022-03-01T08:50:45.024Z"
   },
   {
    "duration": 287,
    "start_time": "2022-03-01T08:50:45.241Z"
   },
   {
    "duration": 430,
    "start_time": "2022-03-01T08:50:45.100Z"
   },
   {
    "duration": 429,
    "start_time": "2022-03-01T08:50:45.102Z"
   },
   {
    "duration": 420,
    "start_time": "2022-03-01T08:50:45.112Z"
   },
   {
    "duration": 419,
    "start_time": "2022-03-01T08:50:45.114Z"
   },
   {
    "duration": 417,
    "start_time": "2022-03-01T08:50:45.117Z"
   },
   {
    "duration": 415,
    "start_time": "2022-03-01T08:50:45.119Z"
   },
   {
    "duration": 4,
    "start_time": "2022-03-01T08:59:09.327Z"
   },
   {
    "duration": 2,
    "start_time": "2022-03-01T11:34:03.974Z"
   },
   {
    "duration": 212,
    "start_time": "2022-03-01T11:34:05.356Z"
   },
   {
    "duration": 1185,
    "start_time": "2022-03-01T11:35:02.306Z"
   },
   {
    "duration": 3,
    "start_time": "2022-03-01T11:35:03.493Z"
   },
   {
    "duration": 814,
    "start_time": "2022-03-01T11:35:03.498Z"
   },
   {
    "duration": 124,
    "start_time": "2022-03-01T11:35:04.313Z"
   },
   {
    "duration": 121,
    "start_time": "2022-03-01T11:35:04.439Z"
   },
   {
    "duration": 445,
    "start_time": "2022-03-01T11:35:04.562Z"
   },
   {
    "duration": 493,
    "start_time": "2022-03-01T11:35:05.009Z"
   },
   {
    "duration": 4,
    "start_time": "2022-03-01T11:35:05.504Z"
   },
   {
    "duration": 53,
    "start_time": "2022-03-01T11:35:05.510Z"
   },
   {
    "duration": 202,
    "start_time": "2022-03-01T11:35:05.565Z"
   },
   {
    "duration": 3,
    "start_time": "2022-03-01T11:35:05.768Z"
   },
   {
    "duration": 4,
    "start_time": "2022-03-01T11:35:05.773Z"
   },
   {
    "duration": 274,
    "start_time": "2022-03-01T11:35:05.779Z"
   },
   {
    "duration": 519,
    "start_time": "2022-03-01T11:35:05.536Z"
   },
   {
    "duration": 518,
    "start_time": "2022-03-01T11:35:05.539Z"
   },
   {
    "duration": 510,
    "start_time": "2022-03-01T11:35:05.548Z"
   },
   {
    "duration": 508,
    "start_time": "2022-03-01T11:35:05.551Z"
   },
   {
    "duration": 301,
    "start_time": "2022-03-01T11:36:06.732Z"
   },
   {
    "duration": 61,
    "start_time": "2022-03-01T12:23:32.206Z"
   },
   {
    "duration": 296,
    "start_time": "2022-03-01T12:23:33.180Z"
   },
   {
    "duration": 63,
    "start_time": "2022-03-01T12:24:15.137Z"
   },
   {
    "duration": 55,
    "start_time": "2022-03-01T12:24:25.923Z"
   },
   {
    "duration": 3,
    "start_time": "2022-03-01T12:24:37.319Z"
   },
   {
    "duration": 389,
    "start_time": "2022-03-01T12:24:49.734Z"
   },
   {
    "duration": 181,
    "start_time": "2022-03-01T12:42:44.648Z"
   },
   {
    "duration": 181,
    "start_time": "2022-03-01T12:42:45.530Z"
   },
   {
    "duration": 4,
    "start_time": "2022-03-01T12:43:40.845Z"
   },
   {
    "duration": 3,
    "start_time": "2022-03-01T12:43:56.867Z"
   },
   {
    "duration": 177,
    "start_time": "2022-03-01T12:56:04.300Z"
   },
   {
    "duration": 191,
    "start_time": "2022-03-01T12:56:08.164Z"
   },
   {
    "duration": 4,
    "start_time": "2022-03-01T12:56:09.317Z"
   },
   {
    "duration": 3,
    "start_time": "2022-03-01T12:56:18.128Z"
   },
   {
    "duration": 294,
    "start_time": "2022-03-01T12:56:20.463Z"
   },
   {
    "duration": 1413,
    "start_time": "2022-03-02T06:28:51.024Z"
   },
   {
    "duration": 4,
    "start_time": "2022-03-02T06:28:52.440Z"
   },
   {
    "duration": 1092,
    "start_time": "2022-03-02T06:28:52.448Z"
   },
   {
    "duration": 172,
    "start_time": "2022-03-02T06:28:53.543Z"
   },
   {
    "duration": 170,
    "start_time": "2022-03-02T06:28:53.718Z"
   },
   {
    "duration": 357,
    "start_time": "2022-03-02T06:28:53.890Z"
   },
   {
    "duration": 596,
    "start_time": "2022-03-02T06:28:54.250Z"
   },
   {
    "duration": 689,
    "start_time": "2022-03-02T06:28:54.849Z"
   },
   {
    "duration": 5,
    "start_time": "2022-03-02T06:28:55.542Z"
   },
   {
    "duration": 73,
    "start_time": "2022-03-02T06:28:55.549Z"
   },
   {
    "duration": 247,
    "start_time": "2022-03-02T06:28:55.625Z"
   },
   {
    "duration": 13,
    "start_time": "2022-03-02T06:28:55.875Z"
   },
   {
    "duration": 3,
    "start_time": "2022-03-02T06:28:55.891Z"
   },
   {
    "duration": 593,
    "start_time": "2022-03-02T06:28:55.896Z"
   },
   {
    "duration": 902,
    "start_time": "2022-03-02T06:28:55.590Z"
   },
   {
    "duration": 900,
    "start_time": "2022-03-02T06:28:55.593Z"
   },
   {
    "duration": 900,
    "start_time": "2022-03-02T06:28:55.595Z"
   },
   {
    "duration": 899,
    "start_time": "2022-03-02T06:28:55.597Z"
   },
   {
    "duration": 898,
    "start_time": "2022-03-02T06:28:55.599Z"
   },
   {
    "duration": 898,
    "start_time": "2022-03-02T06:28:55.601Z"
   },
   {
    "duration": 898,
    "start_time": "2022-03-02T06:28:55.603Z"
   },
   {
    "duration": 157,
    "start_time": "2022-03-02T06:30:48.114Z"
   },
   {
    "duration": 45,
    "start_time": "2022-03-02T06:33:18.589Z"
   },
   {
    "duration": 101,
    "start_time": "2022-03-02T06:33:21.325Z"
   },
   {
    "duration": 1398,
    "start_time": "2022-03-02T06:34:42.937Z"
   },
   {
    "duration": 4,
    "start_time": "2022-03-02T06:34:44.338Z"
   },
   {
    "duration": 1120,
    "start_time": "2022-03-02T06:34:44.345Z"
   },
   {
    "duration": 170,
    "start_time": "2022-03-02T06:34:45.468Z"
   },
   {
    "duration": 135,
    "start_time": "2022-03-02T06:34:45.641Z"
   },
   {
    "duration": 39,
    "start_time": "2022-03-02T06:34:45.778Z"
   },
   {
    "duration": 129,
    "start_time": "2022-03-02T06:34:45.820Z"
   },
   {
    "duration": 244,
    "start_time": "2022-03-02T06:34:45.951Z"
   },
   {
    "duration": 222,
    "start_time": "2022-03-02T06:34:46.199Z"
   },
   {
    "duration": 264,
    "start_time": "2022-03-02T06:34:46.424Z"
   },
   {
    "duration": 6,
    "start_time": "2022-03-02T06:34:46.690Z"
   },
   {
    "duration": 40,
    "start_time": "2022-03-02T06:34:46.698Z"
   },
   {
    "duration": 181,
    "start_time": "2022-03-02T06:34:46.740Z"
   },
   {
    "duration": 5,
    "start_time": "2022-03-02T06:34:46.923Z"
   },
   {
    "duration": 6,
    "start_time": "2022-03-02T06:34:46.931Z"
   },
   {
    "duration": 444,
    "start_time": "2022-03-02T06:34:46.939Z"
   },
   {
    "duration": 940,
    "start_time": "2022-03-02T06:34:46.446Z"
   },
   {
    "duration": 939,
    "start_time": "2022-03-02T06:34:46.448Z"
   },
   {
    "duration": 940,
    "start_time": "2022-03-02T06:34:46.449Z"
   },
   {
    "duration": 940,
    "start_time": "2022-03-02T06:34:46.451Z"
   },
   {
    "duration": 940,
    "start_time": "2022-03-02T06:34:46.453Z"
   },
   {
    "duration": 926,
    "start_time": "2022-03-02T06:34:46.468Z"
   },
   {
    "duration": 924,
    "start_time": "2022-03-02T06:34:46.471Z"
   },
   {
    "duration": 52,
    "start_time": "2022-03-02T06:36:07.443Z"
   },
   {
    "duration": 5684,
    "start_time": "2022-03-02T06:40:17.040Z"
   },
   {
    "duration": 1393,
    "start_time": "2022-03-02T06:40:34.543Z"
   },
   {
    "duration": 4,
    "start_time": "2022-03-02T06:40:35.939Z"
   },
   {
    "duration": 1099,
    "start_time": "2022-03-02T06:40:35.947Z"
   },
   {
    "duration": 174,
    "start_time": "2022-03-02T06:40:37.050Z"
   },
   {
    "duration": 132,
    "start_time": "2022-03-02T06:40:37.227Z"
   },
   {
    "duration": 90,
    "start_time": "2022-03-02T06:40:37.362Z"
   },
   {
    "duration": 62,
    "start_time": "2022-03-02T06:40:37.454Z"
   },
   {
    "duration": 115,
    "start_time": "2022-03-02T06:40:37.518Z"
   },
   {
    "duration": 212,
    "start_time": "2022-03-02T06:40:37.637Z"
   },
   {
    "duration": 150,
    "start_time": "2022-03-02T06:40:37.852Z"
   },
   {
    "duration": 382,
    "start_time": "2022-03-02T06:40:38.004Z"
   },
   {
    "duration": 1163,
    "start_time": "2022-03-02T06:40:37.225Z"
   },
   {
    "duration": 1151,
    "start_time": "2022-03-02T06:40:37.239Z"
   },
   {
    "duration": 1149,
    "start_time": "2022-03-02T06:40:37.242Z"
   },
   {
    "duration": 1141,
    "start_time": "2022-03-02T06:40:37.251Z"
   },
   {
    "duration": 1139,
    "start_time": "2022-03-02T06:40:37.255Z"
   },
   {
    "duration": 1138,
    "start_time": "2022-03-02T06:40:37.258Z"
   },
   {
    "duration": 1130,
    "start_time": "2022-03-02T06:40:37.267Z"
   },
   {
    "duration": 1127,
    "start_time": "2022-03-02T06:40:37.272Z"
   },
   {
    "duration": 1126,
    "start_time": "2022-03-02T06:40:37.275Z"
   },
   {
    "duration": 1119,
    "start_time": "2022-03-02T06:40:37.283Z"
   },
   {
    "duration": 1118,
    "start_time": "2022-03-02T06:40:37.285Z"
   },
   {
    "duration": 1118,
    "start_time": "2022-03-02T06:40:37.287Z"
   },
   {
    "duration": 1116,
    "start_time": "2022-03-02T06:40:37.290Z"
   },
   {
    "duration": 1110,
    "start_time": "2022-03-02T06:40:37.298Z"
   },
   {
    "duration": 1109,
    "start_time": "2022-03-02T06:40:37.300Z"
   },
   {
    "duration": 541,
    "start_time": "2022-03-02T06:40:48.250Z"
   },
   {
    "duration": 320,
    "start_time": "2022-03-02T06:48:17.192Z"
   },
   {
    "duration": 562,
    "start_time": "2022-03-02T06:48:32.000Z"
   },
   {
    "duration": 421,
    "start_time": "2022-03-02T06:48:41.364Z"
   },
   {
    "duration": 426,
    "start_time": "2022-03-02T06:48:46.250Z"
   },
   {
    "duration": 1414,
    "start_time": "2022-03-02T07:02:41.106Z"
   },
   {
    "duration": 5,
    "start_time": "2022-03-02T07:02:42.523Z"
   },
   {
    "duration": 1096,
    "start_time": "2022-03-02T07:02:42.532Z"
   },
   {
    "duration": 172,
    "start_time": "2022-03-02T07:02:43.631Z"
   },
   {
    "duration": 132,
    "start_time": "2022-03-02T07:02:43.806Z"
   },
   {
    "duration": 81,
    "start_time": "2022-03-02T07:02:43.940Z"
   },
   {
    "duration": 63,
    "start_time": "2022-03-02T07:02:44.024Z"
   },
   {
    "duration": 104,
    "start_time": "2022-03-02T07:02:44.091Z"
   },
   {
    "duration": 221,
    "start_time": "2022-03-02T07:02:44.198Z"
   },
   {
    "duration": 146,
    "start_time": "2022-03-02T07:02:44.421Z"
   },
   {
    "duration": 379,
    "start_time": "2022-03-02T07:02:44.570Z"
   },
   {
    "duration": 186,
    "start_time": "2022-03-02T07:02:44.952Z"
   },
   {
    "duration": 214,
    "start_time": "2022-03-02T07:02:45.141Z"
   },
   {
    "duration": 5,
    "start_time": "2022-03-02T07:02:45.358Z"
   },
   {
    "duration": 47,
    "start_time": "2022-03-02T07:02:45.366Z"
   },
   {
    "duration": 168,
    "start_time": "2022-03-02T07:02:45.416Z"
   },
   {
    "duration": 5,
    "start_time": "2022-03-02T07:02:45.588Z"
   },
   {
    "duration": 375,
    "start_time": "2022-03-02T07:02:45.595Z"
   },
   {
    "duration": 921,
    "start_time": "2022-03-02T07:02:45.051Z"
   },
   {
    "duration": 921,
    "start_time": "2022-03-02T07:02:45.052Z"
   },
   {
    "duration": 920,
    "start_time": "2022-03-02T07:02:45.054Z"
   },
   {
    "duration": 920,
    "start_time": "2022-03-02T07:02:45.056Z"
   },
   {
    "duration": 919,
    "start_time": "2022-03-02T07:02:45.058Z"
   },
   {
    "duration": 918,
    "start_time": "2022-03-02T07:02:45.060Z"
   },
   {
    "duration": 917,
    "start_time": "2022-03-02T07:02:45.062Z"
   },
   {
    "duration": 917,
    "start_time": "2022-03-02T07:02:45.064Z"
   },
   {
    "duration": 4,
    "start_time": "2022-03-02T07:03:28.689Z"
   },
   {
    "duration": 305,
    "start_time": "2022-03-02T07:03:30.483Z"
   },
   {
    "duration": 5,
    "start_time": "2022-03-02T07:05:43.555Z"
   },
   {
    "duration": 4,
    "start_time": "2022-03-02T07:05:56.590Z"
   },
   {
    "duration": 88,
    "start_time": "2022-03-02T07:07:05.746Z"
   },
   {
    "duration": 749,
    "start_time": "2022-03-02T07:13:29.526Z"
   },
   {
    "duration": 253,
    "start_time": "2022-03-02T07:13:35.292Z"
   },
   {
    "duration": 1467,
    "start_time": "2022-03-02T07:13:42.755Z"
   },
   {
    "duration": 4,
    "start_time": "2022-03-02T07:13:44.225Z"
   },
   {
    "duration": 1108,
    "start_time": "2022-03-02T07:13:44.232Z"
   },
   {
    "duration": 198,
    "start_time": "2022-03-02T07:13:45.343Z"
   },
   {
    "duration": 131,
    "start_time": "2022-03-02T07:13:45.544Z"
   },
   {
    "duration": 76,
    "start_time": "2022-03-02T07:13:45.686Z"
   },
   {
    "duration": 70,
    "start_time": "2022-03-02T07:13:45.765Z"
   },
   {
    "duration": 111,
    "start_time": "2022-03-02T07:13:45.837Z"
   },
   {
    "duration": 224,
    "start_time": "2022-03-02T07:13:45.952Z"
   },
   {
    "duration": 150,
    "start_time": "2022-03-02T07:13:46.179Z"
   },
   {
    "duration": 379,
    "start_time": "2022-03-02T07:13:46.332Z"
   },
   {
    "duration": 177,
    "start_time": "2022-03-02T07:13:46.713Z"
   },
   {
    "duration": 208,
    "start_time": "2022-03-02T07:13:46.893Z"
   },
   {
    "duration": 5,
    "start_time": "2022-03-02T07:13:47.103Z"
   },
   {
    "duration": 109,
    "start_time": "2022-03-02T07:13:47.111Z"
   },
   {
    "duration": 756,
    "start_time": "2022-03-02T07:13:47.222Z"
   },
   {
    "duration": 22,
    "start_time": "2022-03-02T07:13:47.981Z"
   },
   {
    "duration": 86,
    "start_time": "2022-03-02T07:13:48.006Z"
   },
   {
    "duration": 5,
    "start_time": "2022-03-02T07:13:48.095Z"
   },
   {
    "duration": 8,
    "start_time": "2022-03-02T07:13:48.102Z"
   },
   {
    "duration": 78392,
    "start_time": "2022-03-02T07:13:48.112Z"
   },
   {
    "duration": 31623,
    "start_time": "2022-03-02T07:15:06.507Z"
   },
   {
    "duration": 55,
    "start_time": "2022-03-02T07:15:38.132Z"
   },
   {
    "duration": 98,
    "start_time": "2022-03-02T07:15:38.190Z"
   },
   {
    "duration": 955,
    "start_time": "2022-03-02T07:15:37.336Z"
   },
   {
    "duration": 929,
    "start_time": "2022-03-02T07:15:37.363Z"
   },
   {
    "duration": 928,
    "start_time": "2022-03-02T07:15:37.365Z"
   },
   {
    "duration": 929,
    "start_time": "2022-03-02T07:15:37.366Z"
   },
   {
    "duration": 31116,
    "start_time": "2022-03-02T07:17:27.590Z"
   },
   {
    "duration": 1424,
    "start_time": "2022-03-02T07:18:19.000Z"
   },
   {
    "duration": 3,
    "start_time": "2022-03-02T07:18:20.427Z"
   },
   {
    "duration": 1088,
    "start_time": "2022-03-02T07:18:20.433Z"
   },
   {
    "duration": 165,
    "start_time": "2022-03-02T07:18:21.524Z"
   },
   {
    "duration": 128,
    "start_time": "2022-03-02T07:18:21.692Z"
   },
   {
    "duration": 87,
    "start_time": "2022-03-02T07:18:21.822Z"
   },
   {
    "duration": 55,
    "start_time": "2022-03-02T07:18:21.912Z"
   },
   {
    "duration": 116,
    "start_time": "2022-03-02T07:18:21.970Z"
   },
   {
    "duration": 217,
    "start_time": "2022-03-02T07:18:22.090Z"
   },
   {
    "duration": 149,
    "start_time": "2022-03-02T07:18:22.311Z"
   },
   {
    "duration": 388,
    "start_time": "2022-03-02T07:18:22.462Z"
   },
   {
    "duration": 176,
    "start_time": "2022-03-02T07:18:22.852Z"
   },
   {
    "duration": 213,
    "start_time": "2022-03-02T07:18:23.030Z"
   },
   {
    "duration": 5,
    "start_time": "2022-03-02T07:18:23.245Z"
   },
   {
    "duration": 105,
    "start_time": "2022-03-02T07:18:23.252Z"
   },
   {
    "duration": 743,
    "start_time": "2022-03-02T07:18:23.360Z"
   },
   {
    "duration": 22,
    "start_time": "2022-03-02T07:18:24.105Z"
   },
   {
    "duration": 89,
    "start_time": "2022-03-02T07:18:24.129Z"
   },
   {
    "duration": 6,
    "start_time": "2022-03-02T07:18:24.221Z"
   },
   {
    "duration": 5,
    "start_time": "2022-03-02T07:18:24.229Z"
   },
   {
    "duration": 98177,
    "start_time": "2022-03-02T07:18:24.237Z"
   },
   {
    "duration": 34234,
    "start_time": "2022-03-02T07:20:02.416Z"
   },
   {
    "duration": 38,
    "start_time": "2022-03-02T07:20:36.652Z"
   },
   {
    "duration": 611,
    "start_time": "2022-03-02T07:20:36.693Z"
   },
   {
    "duration": 1113,
    "start_time": "2022-03-02T07:20:36.195Z"
   },
   {
    "duration": 1111,
    "start_time": "2022-03-02T07:20:36.198Z"
   },
   {
    "duration": 1111,
    "start_time": "2022-03-02T07:20:36.201Z"
   },
   {
    "duration": 1111,
    "start_time": "2022-03-02T07:20:36.203Z"
   },
   {
    "duration": 1566,
    "start_time": "2022-03-02T17:17:42.380Z"
   },
   {
    "duration": 4,
    "start_time": "2022-03-02T17:17:43.949Z"
   },
   {
    "duration": 1191,
    "start_time": "2022-03-02T17:17:43.956Z"
   },
   {
    "duration": 172,
    "start_time": "2022-03-02T17:17:45.149Z"
   },
   {
    "duration": 134,
    "start_time": "2022-03-02T17:17:45.324Z"
   },
   {
    "duration": 86,
    "start_time": "2022-03-02T17:17:45.460Z"
   },
   {
    "duration": 68,
    "start_time": "2022-03-02T17:17:45.549Z"
   },
   {
    "duration": 113,
    "start_time": "2022-03-02T17:17:45.620Z"
   },
   {
    "duration": 230,
    "start_time": "2022-03-02T17:17:45.737Z"
   },
   {
    "duration": 163,
    "start_time": "2022-03-02T17:17:45.974Z"
   },
   {
    "duration": 379,
    "start_time": "2022-03-02T17:17:46.140Z"
   },
   {
    "duration": 185,
    "start_time": "2022-03-02T17:17:46.522Z"
   },
   {
    "duration": 227,
    "start_time": "2022-03-02T17:17:46.709Z"
   },
   {
    "duration": 5,
    "start_time": "2022-03-02T17:17:46.938Z"
   },
   {
    "duration": 113,
    "start_time": "2022-03-02T17:17:46.946Z"
   },
   {
    "duration": 820,
    "start_time": "2022-03-02T17:17:47.061Z"
   },
   {
    "duration": 22,
    "start_time": "2022-03-02T17:17:47.883Z"
   },
   {
    "duration": 95,
    "start_time": "2022-03-02T17:17:47.908Z"
   },
   {
    "duration": 5,
    "start_time": "2022-03-02T17:17:48.005Z"
   },
   {
    "duration": 7,
    "start_time": "2022-03-02T17:17:48.012Z"
   },
   {
    "duration": 86968,
    "start_time": "2022-03-02T17:17:48.022Z"
   },
   {
    "duration": 32611,
    "start_time": "2022-03-02T17:19:14.992Z"
   },
   {
    "duration": 4,
    "start_time": "2022-03-02T17:19:47.606Z"
   },
   {
    "duration": 406,
    "start_time": "2022-03-02T17:19:47.612Z"
   },
   {
    "duration": 64,
    "start_time": "2022-03-02T17:19:47.956Z"
   },
   {
    "duration": 63,
    "start_time": "2022-03-02T17:19:47.958Z"
   },
   {
    "duration": 63,
    "start_time": "2022-03-02T17:19:47.960Z"
   },
   {
    "duration": 61,
    "start_time": "2022-03-02T17:19:47.963Z"
   },
   {
    "duration": 1493,
    "start_time": "2022-03-03T09:38:30.006Z"
   },
   {
    "duration": 5,
    "start_time": "2022-03-03T09:38:31.502Z"
   },
   {
    "duration": 1071,
    "start_time": "2022-03-03T09:38:31.511Z"
   },
   {
    "duration": 165,
    "start_time": "2022-03-03T09:38:32.586Z"
   },
   {
    "duration": 126,
    "start_time": "2022-03-03T09:38:32.754Z"
   },
   {
    "duration": 86,
    "start_time": "2022-03-03T09:38:32.883Z"
   },
   {
    "duration": 53,
    "start_time": "2022-03-03T09:38:32.972Z"
   },
   {
    "duration": 106,
    "start_time": "2022-03-03T09:38:33.028Z"
   },
   {
    "duration": 208,
    "start_time": "2022-03-03T09:38:33.137Z"
   },
   {
    "duration": 144,
    "start_time": "2022-03-03T09:38:33.348Z"
   },
   {
    "duration": 370,
    "start_time": "2022-03-03T09:38:33.494Z"
   },
   {
    "duration": 173,
    "start_time": "2022-03-03T09:38:33.866Z"
   },
   {
    "duration": 206,
    "start_time": "2022-03-03T09:38:34.041Z"
   },
   {
    "duration": 5,
    "start_time": "2022-03-03T09:38:34.251Z"
   },
   {
    "duration": 111,
    "start_time": "2022-03-03T09:38:34.259Z"
   },
   {
    "duration": 732,
    "start_time": "2022-03-03T09:38:34.373Z"
   },
   {
    "duration": 21,
    "start_time": "2022-03-03T09:38:35.108Z"
   },
   {
    "duration": 81,
    "start_time": "2022-03-03T09:38:35.132Z"
   },
   {
    "duration": 4,
    "start_time": "2022-03-03T09:38:35.216Z"
   },
   {
    "duration": 6,
    "start_time": "2022-03-03T09:38:35.223Z"
   },
   {
    "duration": 93512,
    "start_time": "2022-03-03T09:38:35.252Z"
   },
   {
    "duration": 4,
    "start_time": "2022-03-03T09:40:08.766Z"
   },
   {
    "duration": 7540,
    "start_time": "2022-03-03T09:40:08.772Z"
   },
   {
    "duration": 345,
    "start_time": "2022-03-03T12:35:19.614Z"
   },
   {
    "duration": 80137,
    "start_time": "2022-03-03T12:35:29.932Z"
   },
   {
    "duration": 7642,
    "start_time": "2022-03-03T12:37:10.008Z"
   },
   {
    "duration": 7589,
    "start_time": "2022-03-03T12:39:54.980Z"
   },
   {
    "duration": 247,
    "start_time": "2022-03-03T12:41:50.229Z"
   },
   {
    "duration": 24,
    "start_time": "2022-03-03T12:42:31.989Z"
   },
   {
    "duration": 16,
    "start_time": "2022-03-03T12:42:41.445Z"
   },
   {
    "duration": 15,
    "start_time": "2022-03-03T12:42:46.844Z"
   },
   {
    "duration": 1443,
    "start_time": "2022-03-03T12:42:58.833Z"
   },
   {
    "duration": 4,
    "start_time": "2022-03-03T12:43:00.279Z"
   },
   {
    "duration": 1095,
    "start_time": "2022-03-03T12:43:00.286Z"
   },
   {
    "duration": 164,
    "start_time": "2022-03-03T12:43:01.383Z"
   },
   {
    "duration": 119,
    "start_time": "2022-03-03T12:43:01.549Z"
   },
   {
    "duration": 81,
    "start_time": "2022-03-03T12:43:01.670Z"
   },
   {
    "duration": 54,
    "start_time": "2022-03-03T12:43:01.754Z"
   },
   {
    "duration": 110,
    "start_time": "2022-03-03T12:43:01.811Z"
   },
   {
    "duration": 210,
    "start_time": "2022-03-03T12:43:01.923Z"
   },
   {
    "duration": 183,
    "start_time": "2022-03-03T12:43:02.136Z"
   },
   {
    "duration": 373,
    "start_time": "2022-03-03T12:43:02.321Z"
   },
   {
    "duration": 181,
    "start_time": "2022-03-03T12:43:02.697Z"
   },
   {
    "duration": 219,
    "start_time": "2022-03-03T12:43:02.881Z"
   },
   {
    "duration": 6,
    "start_time": "2022-03-03T12:43:03.102Z"
   },
   {
    "duration": 114,
    "start_time": "2022-03-03T12:43:03.110Z"
   },
   {
    "duration": 753,
    "start_time": "2022-03-03T12:43:03.226Z"
   },
   {
    "duration": 30,
    "start_time": "2022-03-03T12:43:03.982Z"
   },
   {
    "duration": 105,
    "start_time": "2022-03-03T12:43:04.016Z"
   },
   {
    "duration": 6,
    "start_time": "2022-03-03T12:43:04.123Z"
   },
   {
    "duration": 20,
    "start_time": "2022-03-03T12:43:04.131Z"
   },
   {
    "duration": 62714,
    "start_time": "2022-03-03T12:43:04.154Z"
   },
   {
    "duration": 4,
    "start_time": "2022-03-03T12:44:06.871Z"
   },
   {
    "duration": 7591,
    "start_time": "2022-03-03T12:44:06.881Z"
   },
   {
    "duration": 15,
    "start_time": "2022-03-03T12:44:14.476Z"
   },
   {
    "duration": 477,
    "start_time": "2022-03-03T12:44:14.494Z"
   },
   {
    "duration": 18,
    "start_time": "2022-03-03T12:45:44.029Z"
   },
   {
    "duration": 799,
    "start_time": "2022-03-03T12:46:49.348Z"
   },
   {
    "duration": 131,
    "start_time": "2022-03-03T12:46:51.947Z"
   },
   {
    "duration": 426,
    "start_time": "2022-03-03T12:47:23.017Z"
   },
   {
    "duration": 131,
    "start_time": "2022-03-03T12:47:23.449Z"
   },
   {
    "duration": 335,
    "start_time": "2022-03-03T12:47:36.136Z"
   },
   {
    "duration": 1427,
    "start_time": "2022-03-03T12:47:46.641Z"
   },
   {
    "duration": 4,
    "start_time": "2022-03-03T12:47:48.071Z"
   },
   {
    "duration": 1074,
    "start_time": "2022-03-03T12:47:48.078Z"
   },
   {
    "duration": 163,
    "start_time": "2022-03-03T12:47:49.155Z"
   },
   {
    "duration": 121,
    "start_time": "2022-03-03T12:47:49.321Z"
   },
   {
    "duration": 76,
    "start_time": "2022-03-03T12:47:49.444Z"
   },
   {
    "duration": 68,
    "start_time": "2022-03-03T12:47:49.523Z"
   },
   {
    "duration": 100,
    "start_time": "2022-03-03T12:47:49.594Z"
   },
   {
    "duration": 271,
    "start_time": "2022-03-03T12:47:49.698Z"
   },
   {
    "duration": 99,
    "start_time": "2022-03-03T12:47:49.972Z"
   },
   {
    "duration": 383,
    "start_time": "2022-03-03T12:47:50.073Z"
   },
   {
    "duration": 183,
    "start_time": "2022-03-03T12:47:50.458Z"
   },
   {
    "duration": 202,
    "start_time": "2022-03-03T12:47:50.643Z"
   },
   {
    "duration": 6,
    "start_time": "2022-03-03T12:47:50.847Z"
   },
   {
    "duration": 105,
    "start_time": "2022-03-03T12:47:50.855Z"
   },
   {
    "duration": 733,
    "start_time": "2022-03-03T12:47:50.962Z"
   },
   {
    "duration": 21,
    "start_time": "2022-03-03T12:47:51.697Z"
   },
   {
    "duration": 80,
    "start_time": "2022-03-03T12:47:51.720Z"
   },
   {
    "duration": 6,
    "start_time": "2022-03-03T12:47:51.803Z"
   },
   {
    "duration": 5,
    "start_time": "2022-03-03T12:47:51.811Z"
   },
   {
    "duration": 63049,
    "start_time": "2022-03-03T12:47:51.819Z"
   },
   {
    "duration": 3,
    "start_time": "2022-03-03T12:48:54.871Z"
   },
   {
    "duration": 8183,
    "start_time": "2022-03-03T12:48:54.877Z"
   },
   {
    "duration": 15,
    "start_time": "2022-03-03T12:49:03.063Z"
   },
   {
    "duration": 430,
    "start_time": "2022-03-03T12:49:03.081Z"
   },
   {
    "duration": 16,
    "start_time": "2022-03-03T12:50:07.394Z"
   },
   {
    "duration": 17,
    "start_time": "2022-03-03T12:50:20.906Z"
   },
   {
    "duration": 17,
    "start_time": "2022-03-03T12:50:25.301Z"
   },
   {
    "duration": 17,
    "start_time": "2022-03-03T12:58:41.028Z"
   },
   {
    "duration": 1455,
    "start_time": "2022-03-03T12:58:52.238Z"
   },
   {
    "duration": 3,
    "start_time": "2022-03-03T12:58:53.696Z"
   },
   {
    "duration": 1125,
    "start_time": "2022-03-03T12:58:53.702Z"
   },
   {
    "duration": 166,
    "start_time": "2022-03-03T12:58:54.830Z"
   },
   {
    "duration": 132,
    "start_time": "2022-03-03T12:58:54.998Z"
   },
   {
    "duration": 79,
    "start_time": "2022-03-03T12:58:55.133Z"
   },
   {
    "duration": 72,
    "start_time": "2022-03-03T12:58:55.215Z"
   },
   {
    "duration": 111,
    "start_time": "2022-03-03T12:58:55.289Z"
   },
   {
    "duration": 255,
    "start_time": "2022-03-03T12:58:55.403Z"
   },
   {
    "duration": 101,
    "start_time": "2022-03-03T12:58:55.661Z"
   },
   {
    "duration": 367,
    "start_time": "2022-03-03T12:58:55.764Z"
   },
   {
    "duration": 103,
    "start_time": "2022-03-03T12:58:56.133Z"
   },
   {
    "duration": 189,
    "start_time": "2022-03-03T12:58:56.239Z"
   },
   {
    "duration": 210,
    "start_time": "2022-03-03T12:58:56.431Z"
   },
   {
    "duration": 10,
    "start_time": "2022-03-03T12:58:56.643Z"
   },
   {
    "duration": 102,
    "start_time": "2022-03-03T12:58:56.655Z"
   },
   {
    "duration": 97,
    "start_time": "2022-03-03T12:58:56.759Z"
   },
   {
    "duration": 743,
    "start_time": "2022-03-03T12:58:56.858Z"
   },
   {
    "duration": 29,
    "start_time": "2022-03-03T12:58:57.604Z"
   },
   {
    "duration": 25,
    "start_time": "2022-03-03T12:58:57.636Z"
   },
   {
    "duration": 66,
    "start_time": "2022-03-03T12:58:57.664Z"
   },
   {
    "duration": 22,
    "start_time": "2022-03-03T12:58:57.732Z"
   },
   {
    "duration": 7,
    "start_time": "2022-03-03T12:58:57.756Z"
   },
   {
    "duration": 284987,
    "start_time": "2022-03-03T12:58:57.765Z"
   },
   {
    "duration": 4,
    "start_time": "2022-03-03T13:03:42.755Z"
   },
   {
    "duration": 7905,
    "start_time": "2022-03-03T13:03:42.763Z"
   },
   {
    "duration": 12,
    "start_time": "2022-03-03T13:03:50.673Z"
   },
   {
    "duration": 405,
    "start_time": "2022-03-03T13:03:50.688Z"
   },
   {
    "duration": 16,
    "start_time": "2022-03-03T13:03:51.082Z"
   },
   {
    "duration": 14,
    "start_time": "2022-03-03T13:04:00.288Z"
   },
   {
    "duration": 22,
    "start_time": "2022-03-03T13:04:12.790Z"
   },
   {
    "duration": 249,
    "start_time": "2022-03-03T13:05:16.954Z"
   },
   {
    "duration": 249,
    "start_time": "2022-03-03T13:09:41.092Z"
   },
   {
    "duration": 297,
    "start_time": "2022-03-03T13:09:56.054Z"
   },
   {
    "duration": 287,
    "start_time": "2022-03-03T13:10:50.036Z"
   },
   {
    "duration": 1460,
    "start_time": "2022-03-03T13:11:10.456Z"
   },
   {
    "duration": 3,
    "start_time": "2022-03-03T13:11:11.919Z"
   },
   {
    "duration": 1081,
    "start_time": "2022-03-03T13:11:11.925Z"
   },
   {
    "duration": 170,
    "start_time": "2022-03-03T13:11:13.009Z"
   },
   {
    "duration": 327,
    "start_time": "2022-03-03T13:11:13.181Z"
   },
   {
    "duration": 81,
    "start_time": "2022-03-03T13:11:13.510Z"
   },
   {
    "duration": 59,
    "start_time": "2022-03-03T13:11:13.593Z"
   },
   {
    "duration": 105,
    "start_time": "2022-03-03T13:11:13.654Z"
   },
   {
    "duration": 249,
    "start_time": "2022-03-03T13:11:13.762Z"
   },
   {
    "duration": 101,
    "start_time": "2022-03-03T13:11:14.014Z"
   },
   {
    "duration": 385,
    "start_time": "2022-03-03T13:11:14.117Z"
   },
   {
    "duration": 102,
    "start_time": "2022-03-03T13:11:14.505Z"
   },
   {
    "duration": 192,
    "start_time": "2022-03-03T13:11:14.609Z"
   },
   {
    "duration": 289,
    "start_time": "2022-03-03T13:11:14.804Z"
   },
   {
    "duration": 6,
    "start_time": "2022-03-03T13:11:15.097Z"
   },
   {
    "duration": 169,
    "start_time": "2022-03-03T13:11:15.106Z"
   },
   {
    "duration": 165,
    "start_time": "2022-03-03T13:11:15.278Z"
   },
   {
    "duration": 1151,
    "start_time": "2022-03-03T13:11:15.450Z"
   },
   {
    "duration": 31,
    "start_time": "2022-03-03T13:11:16.604Z"
   },
   {
    "duration": 42,
    "start_time": "2022-03-03T13:11:16.638Z"
   },
   {
    "duration": 14,
    "start_time": "2022-03-03T13:11:16.683Z"
   },
   {
    "duration": 109,
    "start_time": "2022-03-03T13:11:16.700Z"
   },
   {
    "duration": 6,
    "start_time": "2022-03-03T13:11:16.812Z"
   },
   {
    "duration": 11,
    "start_time": "2022-03-03T13:11:16.821Z"
   },
   {
    "duration": 1898,
    "start_time": "2022-03-03T13:12:35.769Z"
   },
   {
    "duration": 5,
    "start_time": "2022-03-03T13:12:37.670Z"
   },
   {
    "duration": 1510,
    "start_time": "2022-03-03T13:12:37.678Z"
   },
   {
    "duration": 230,
    "start_time": "2022-03-03T13:12:39.191Z"
   },
   {
    "duration": 132,
    "start_time": "2022-03-03T13:12:39.424Z"
   },
   {
    "duration": 71,
    "start_time": "2022-03-03T13:12:39.559Z"
   },
   {
    "duration": 70,
    "start_time": "2022-03-03T13:12:39.632Z"
   },
   {
    "duration": 121,
    "start_time": "2022-03-03T13:12:39.704Z"
   },
   {
    "duration": 261,
    "start_time": "2022-03-03T13:12:39.831Z"
   },
   {
    "duration": 105,
    "start_time": "2022-03-03T13:12:40.096Z"
   },
   {
    "duration": 381,
    "start_time": "2022-03-03T13:12:40.203Z"
   },
   {
    "duration": 108,
    "start_time": "2022-03-03T13:12:40.586Z"
   },
   {
    "duration": 192,
    "start_time": "2022-03-03T13:12:40.696Z"
   },
   {
    "duration": 211,
    "start_time": "2022-03-03T13:12:40.891Z"
   },
   {
    "duration": 6,
    "start_time": "2022-03-03T13:12:41.105Z"
   },
   {
    "duration": 108,
    "start_time": "2022-03-03T13:12:41.113Z"
   },
   {
    "duration": 97,
    "start_time": "2022-03-03T13:12:41.224Z"
   },
   {
    "duration": 803,
    "start_time": "2022-03-03T13:12:41.323Z"
   },
   {
    "duration": 32,
    "start_time": "2022-03-03T13:12:42.128Z"
   },
   {
    "duration": 32,
    "start_time": "2022-03-03T13:12:42.162Z"
   },
   {
    "duration": 12,
    "start_time": "2022-03-03T13:12:42.197Z"
   },
   {
    "duration": 107,
    "start_time": "2022-03-03T13:12:42.212Z"
   },
   {
    "duration": 6,
    "start_time": "2022-03-03T13:12:42.321Z"
   },
   {
    "duration": 23,
    "start_time": "2022-03-03T13:12:42.330Z"
   },
   {
    "duration": 247314,
    "start_time": "2022-03-03T13:12:42.356Z"
   },
   {
    "duration": 4,
    "start_time": "2022-03-03T13:16:49.673Z"
   },
   {
    "duration": 7794,
    "start_time": "2022-03-03T13:16:49.681Z"
   },
   {
    "duration": 84,
    "start_time": "2022-03-03T13:16:57.478Z"
   },
   {
    "duration": 399,
    "start_time": "2022-03-03T13:16:57.565Z"
   },
   {
    "duration": 254,
    "start_time": "2022-03-03T14:04:46.577Z"
   },
   {
    "duration": 1384,
    "start_time": "2022-03-03T14:04:59.372Z"
   },
   {
    "duration": 3,
    "start_time": "2022-03-03T14:05:00.759Z"
   },
   {
    "duration": 1107,
    "start_time": "2022-03-03T14:05:00.765Z"
   },
   {
    "duration": 159,
    "start_time": "2022-03-03T14:05:01.875Z"
   },
   {
    "duration": 133,
    "start_time": "2022-03-03T14:05:02.037Z"
   },
   {
    "duration": 80,
    "start_time": "2022-03-03T14:05:02.173Z"
   },
   {
    "duration": 54,
    "start_time": "2022-03-03T14:05:02.256Z"
   },
   {
    "duration": 120,
    "start_time": "2022-03-03T14:05:02.313Z"
   },
   {
    "duration": 247,
    "start_time": "2022-03-03T14:05:02.437Z"
   },
   {
    "duration": 97,
    "start_time": "2022-03-03T14:05:02.687Z"
   },
   {
    "duration": 399,
    "start_time": "2022-03-03T14:05:02.787Z"
   },
   {
    "duration": 97,
    "start_time": "2022-03-03T14:05:03.189Z"
   },
   {
    "duration": 201,
    "start_time": "2022-03-03T14:05:03.289Z"
   },
   {
    "duration": 209,
    "start_time": "2022-03-03T14:05:03.493Z"
   },
   {
    "duration": 7,
    "start_time": "2022-03-03T14:05:03.705Z"
   },
   {
    "duration": 107,
    "start_time": "2022-03-03T14:05:03.715Z"
   },
   {
    "duration": 101,
    "start_time": "2022-03-03T14:05:03.825Z"
   },
   {
    "duration": 988,
    "start_time": "2022-03-03T14:05:03.928Z"
   },
   {
    "duration": 31,
    "start_time": "2022-03-03T14:05:04.919Z"
   },
   {
    "duration": 134,
    "start_time": "2022-03-03T14:05:04.952Z"
   },
   {
    "duration": 47,
    "start_time": "2022-03-03T14:05:05.088Z"
   },
   {
    "duration": 181,
    "start_time": "2022-03-03T14:05:05.151Z"
   },
   {
    "duration": 5,
    "start_time": "2022-03-03T14:05:05.335Z"
   },
   {
    "duration": 22,
    "start_time": "2022-03-03T14:05:05.350Z"
   },
   {
    "duration": 476,
    "start_time": "2022-03-03T14:05:05.375Z"
   },
   {
    "duration": 3,
    "start_time": "2022-03-03T14:05:05.854Z"
   },
   {
    "duration": 275,
    "start_time": "2022-03-03T14:05:05.864Z"
   },
   {
    "duration": 40,
    "start_time": "2022-03-03T14:05:06.102Z"
   },
   {
    "duration": 40,
    "start_time": "2022-03-03T14:05:06.104Z"
   },
   {
    "duration": 295,
    "start_time": "2022-03-03T14:11:07.750Z"
   },
   {
    "duration": 1426,
    "start_time": "2022-03-03T14:11:14.556Z"
   },
   {
    "duration": 4,
    "start_time": "2022-03-03T14:11:15.984Z"
   },
   {
    "duration": 1063,
    "start_time": "2022-03-03T14:11:15.991Z"
   },
   {
    "duration": 160,
    "start_time": "2022-03-03T14:11:17.057Z"
   },
   {
    "duration": 121,
    "start_time": "2022-03-03T14:11:17.220Z"
   },
   {
    "duration": 71,
    "start_time": "2022-03-03T14:11:17.351Z"
   },
   {
    "duration": 67,
    "start_time": "2022-03-03T14:11:17.424Z"
   },
   {
    "duration": 109,
    "start_time": "2022-03-03T14:11:17.494Z"
   },
   {
    "duration": 252,
    "start_time": "2022-03-03T14:11:17.606Z"
   },
   {
    "duration": 100,
    "start_time": "2022-03-03T14:11:17.860Z"
   },
   {
    "duration": 373,
    "start_time": "2022-03-03T14:11:17.962Z"
   },
   {
    "duration": 100,
    "start_time": "2022-03-03T14:11:18.338Z"
   },
   {
    "duration": 176,
    "start_time": "2022-03-03T14:11:18.440Z"
   },
   {
    "duration": 207,
    "start_time": "2022-03-03T14:11:18.618Z"
   },
   {
    "duration": 6,
    "start_time": "2022-03-03T14:11:18.828Z"
   },
   {
    "duration": 94,
    "start_time": "2022-03-03T14:11:18.836Z"
   },
   {
    "duration": 99,
    "start_time": "2022-03-03T14:11:18.932Z"
   },
   {
    "duration": 722,
    "start_time": "2022-03-03T14:11:19.033Z"
   },
   {
    "duration": 19,
    "start_time": "2022-03-03T14:11:19.758Z"
   },
   {
    "duration": 33,
    "start_time": "2022-03-03T14:11:19.780Z"
   },
   {
    "duration": 12,
    "start_time": "2022-03-03T14:11:19.815Z"
   },
   {
    "duration": 82,
    "start_time": "2022-03-03T14:11:19.829Z"
   },
   {
    "duration": 5,
    "start_time": "2022-03-03T14:11:19.917Z"
   },
   {
    "duration": 29,
    "start_time": "2022-03-03T14:11:19.925Z"
   },
   {
    "duration": 95112,
    "start_time": "2022-03-03T14:11:19.956Z"
   },
   {
    "duration": 4,
    "start_time": "2022-03-03T14:12:55.070Z"
   },
   {
    "duration": 7688,
    "start_time": "2022-03-03T14:12:55.076Z"
   },
   {
    "duration": 13,
    "start_time": "2022-03-03T14:13:02.767Z"
   },
   {
    "duration": 390,
    "start_time": "2022-03-03T14:13:02.783Z"
   },
   {
    "duration": 1415,
    "start_time": "2022-03-03T14:13:18.168Z"
   },
   {
    "duration": 3,
    "start_time": "2022-03-03T14:13:19.586Z"
   },
   {
    "duration": 1080,
    "start_time": "2022-03-03T14:13:19.592Z"
   },
   {
    "duration": 157,
    "start_time": "2022-03-03T14:13:20.675Z"
   },
   {
    "duration": 118,
    "start_time": "2022-03-03T14:13:20.835Z"
   },
   {
    "duration": 71,
    "start_time": "2022-03-03T14:13:20.955Z"
   },
   {
    "duration": 64,
    "start_time": "2022-03-03T14:13:21.028Z"
   },
   {
    "duration": 108,
    "start_time": "2022-03-03T14:13:21.094Z"
   },
   {
    "duration": 248,
    "start_time": "2022-03-03T14:13:21.205Z"
   },
   {
    "duration": 100,
    "start_time": "2022-03-03T14:13:21.456Z"
   },
   {
    "duration": 384,
    "start_time": "2022-03-03T14:13:21.558Z"
   },
   {
    "duration": 104,
    "start_time": "2022-03-03T14:13:21.951Z"
   },
   {
    "duration": 196,
    "start_time": "2022-03-03T14:13:22.057Z"
   },
   {
    "duration": 200,
    "start_time": "2022-03-03T14:13:22.256Z"
   },
   {
    "duration": 5,
    "start_time": "2022-03-03T14:13:22.459Z"
   },
   {
    "duration": 102,
    "start_time": "2022-03-03T14:13:22.466Z"
   },
   {
    "duration": 98,
    "start_time": "2022-03-03T14:13:22.570Z"
   },
   {
    "duration": 341,
    "start_time": "2022-03-03T14:13:22.671Z"
   },
   {
    "duration": 50,
    "start_time": "2022-03-03T14:13:22.965Z"
   },
   {
    "duration": 46,
    "start_time": "2022-03-03T14:13:22.970Z"
   },
   {
    "duration": 34,
    "start_time": "2022-03-03T14:13:22.983Z"
   },
   {
    "duration": 34,
    "start_time": "2022-03-03T14:13:22.985Z"
   },
   {
    "duration": 32,
    "start_time": "2022-03-03T14:13:22.988Z"
   },
   {
    "duration": 24,
    "start_time": "2022-03-03T14:13:22.997Z"
   },
   {
    "duration": 23,
    "start_time": "2022-03-03T14:13:23.000Z"
   },
   {
    "duration": 22,
    "start_time": "2022-03-03T14:13:23.002Z"
   },
   {
    "duration": 21,
    "start_time": "2022-03-03T14:13:23.004Z"
   },
   {
    "duration": 19,
    "start_time": "2022-03-03T14:13:23.007Z"
   },
   {
    "duration": 12,
    "start_time": "2022-03-03T14:13:23.015Z"
   },
   {
    "duration": 1658,
    "start_time": "2022-03-03T14:14:13.430Z"
   },
   {
    "duration": 4,
    "start_time": "2022-03-03T14:14:15.091Z"
   },
   {
    "duration": 1126,
    "start_time": "2022-03-03T14:14:15.098Z"
   },
   {
    "duration": 171,
    "start_time": "2022-03-03T14:14:16.227Z"
   },
   {
    "duration": 127,
    "start_time": "2022-03-03T14:14:16.401Z"
   },
   {
    "duration": 82,
    "start_time": "2022-03-03T14:14:16.531Z"
   },
   {
    "duration": 62,
    "start_time": "2022-03-03T14:14:16.616Z"
   },
   {
    "duration": 103,
    "start_time": "2022-03-03T14:14:16.680Z"
   },
   {
    "duration": 253,
    "start_time": "2022-03-03T14:14:16.787Z"
   },
   {
    "duration": 95,
    "start_time": "2022-03-03T14:14:17.043Z"
   },
   {
    "duration": 370,
    "start_time": "2022-03-03T14:14:17.141Z"
   },
   {
    "duration": 101,
    "start_time": "2022-03-03T14:14:17.513Z"
   },
   {
    "duration": 180,
    "start_time": "2022-03-03T14:14:17.617Z"
   },
   {
    "duration": 204,
    "start_time": "2022-03-03T14:14:17.800Z"
   },
   {
    "duration": 6,
    "start_time": "2022-03-03T14:14:18.007Z"
   },
   {
    "duration": 103,
    "start_time": "2022-03-03T14:14:18.015Z"
   },
   {
    "duration": 94,
    "start_time": "2022-03-03T14:14:18.120Z"
   },
   {
    "duration": 360,
    "start_time": "2022-03-03T14:14:18.217Z"
   },
   {
    "duration": 34,
    "start_time": "2022-03-03T14:14:18.545Z"
   },
   {
    "duration": 32,
    "start_time": "2022-03-03T14:14:18.548Z"
   },
   {
    "duration": 31,
    "start_time": "2022-03-03T14:14:18.551Z"
   },
   {
    "duration": 29,
    "start_time": "2022-03-03T14:14:18.554Z"
   },
   {
    "duration": 29,
    "start_time": "2022-03-03T14:14:18.556Z"
   },
   {
    "duration": 28,
    "start_time": "2022-03-03T14:14:18.558Z"
   },
   {
    "duration": 22,
    "start_time": "2022-03-03T14:14:18.566Z"
   },
   {
    "duration": 20,
    "start_time": "2022-03-03T14:14:18.569Z"
   },
   {
    "duration": 20,
    "start_time": "2022-03-03T14:14:18.571Z"
   },
   {
    "duration": 19,
    "start_time": "2022-03-03T14:14:18.573Z"
   },
   {
    "duration": 18,
    "start_time": "2022-03-03T14:14:18.575Z"
   },
   {
    "duration": 451,
    "start_time": "2022-03-03T14:16:12.210Z"
   },
   {
    "duration": 21,
    "start_time": "2022-03-03T14:16:13.864Z"
   },
   {
    "duration": 36,
    "start_time": "2022-03-03T14:16:18.615Z"
   },
   {
    "duration": 1384,
    "start_time": "2022-03-03T14:16:29.007Z"
   },
   {
    "duration": 4,
    "start_time": "2022-03-03T14:16:30.394Z"
   },
   {
    "duration": 1111,
    "start_time": "2022-03-03T14:16:30.401Z"
   },
   {
    "duration": 160,
    "start_time": "2022-03-03T14:16:31.515Z"
   },
   {
    "duration": 120,
    "start_time": "2022-03-03T14:16:31.677Z"
   },
   {
    "duration": 84,
    "start_time": "2022-03-03T14:16:31.800Z"
   },
   {
    "duration": 52,
    "start_time": "2022-03-03T14:16:31.886Z"
   },
   {
    "duration": 113,
    "start_time": "2022-03-03T14:16:31.941Z"
   },
   {
    "duration": 258,
    "start_time": "2022-03-03T14:16:32.060Z"
   },
   {
    "duration": 108,
    "start_time": "2022-03-03T14:16:32.322Z"
   },
   {
    "duration": 380,
    "start_time": "2022-03-03T14:16:32.432Z"
   },
   {
    "duration": 100,
    "start_time": "2022-03-03T14:16:32.814Z"
   },
   {
    "duration": 198,
    "start_time": "2022-03-03T14:16:32.916Z"
   },
   {
    "duration": 206,
    "start_time": "2022-03-03T14:16:33.117Z"
   },
   {
    "duration": 5,
    "start_time": "2022-03-03T14:16:33.325Z"
   },
   {
    "duration": 101,
    "start_time": "2022-03-03T14:16:33.332Z"
   },
   {
    "duration": 100,
    "start_time": "2022-03-03T14:16:33.436Z"
   },
   {
    "duration": 465,
    "start_time": "2022-03-03T14:16:33.539Z"
   },
   {
    "duration": 20,
    "start_time": "2022-03-03T14:16:34.007Z"
   },
   {
    "duration": 53,
    "start_time": "2022-03-03T14:16:34.030Z"
   },
   {
    "duration": 12,
    "start_time": "2022-03-03T14:16:34.085Z"
   },
   {
    "duration": 86,
    "start_time": "2022-03-03T14:16:34.099Z"
   },
   {
    "duration": 5,
    "start_time": "2022-03-03T14:16:34.187Z"
   },
   {
    "duration": 4,
    "start_time": "2022-03-03T14:16:34.195Z"
   },
   {
    "duration": 77366,
    "start_time": "2022-03-03T14:16:34.201Z"
   },
   {
    "duration": 4,
    "start_time": "2022-03-03T14:17:51.569Z"
   },
   {
    "duration": 8675,
    "start_time": "2022-03-03T14:17:51.577Z"
   },
   {
    "duration": 10,
    "start_time": "2022-03-03T14:18:00.255Z"
   },
   {
    "duration": 521,
    "start_time": "2022-03-03T14:18:00.268Z"
   },
   {
    "duration": 1131,
    "start_time": "2022-03-03T17:22:56.050Z"
   },
   {
    "duration": 2,
    "start_time": "2022-03-03T17:22:57.183Z"
   },
   {
    "duration": 794,
    "start_time": "2022-03-03T17:22:57.187Z"
   },
   {
    "duration": 123,
    "start_time": "2022-03-03T17:22:57.983Z"
   },
   {
    "duration": 103,
    "start_time": "2022-03-03T17:22:58.108Z"
   },
   {
    "duration": 56,
    "start_time": "2022-03-03T17:22:58.213Z"
   },
   {
    "duration": 33,
    "start_time": "2022-03-03T17:22:58.271Z"
   },
   {
    "duration": 84,
    "start_time": "2022-03-03T17:22:58.306Z"
   },
   {
    "duration": 177,
    "start_time": "2022-03-03T17:22:58.393Z"
   },
   {
    "duration": 74,
    "start_time": "2022-03-03T17:22:58.573Z"
   },
   {
    "duration": 239,
    "start_time": "2022-03-03T17:22:58.649Z"
   },
   {
    "duration": 78,
    "start_time": "2022-03-03T17:22:58.889Z"
   },
   {
    "duration": 125,
    "start_time": "2022-03-03T17:22:58.969Z"
   },
   {
    "duration": 136,
    "start_time": "2022-03-03T17:22:59.096Z"
   },
   {
    "duration": 4,
    "start_time": "2022-03-03T17:22:59.233Z"
   },
   {
    "duration": 125,
    "start_time": "2022-03-03T17:22:59.239Z"
   },
   {
    "duration": 125,
    "start_time": "2022-03-03T17:22:59.365Z"
   },
   {
    "duration": 286,
    "start_time": "2022-03-03T17:22:59.492Z"
   },
   {
    "duration": 14,
    "start_time": "2022-03-03T17:22:59.779Z"
   },
   {
    "duration": 31,
    "start_time": "2022-03-03T17:22:59.794Z"
   },
   {
    "duration": 14,
    "start_time": "2022-03-03T17:22:59.826Z"
   },
   {
    "duration": 72,
    "start_time": "2022-03-03T17:22:59.841Z"
   },
   {
    "duration": 3,
    "start_time": "2022-03-03T17:22:59.915Z"
   },
   {
    "duration": 8,
    "start_time": "2022-03-03T17:22:59.920Z"
   },
   {
    "duration": 45555,
    "start_time": "2022-03-03T17:22:59.929Z"
   },
   {
    "duration": 80,
    "start_time": "2022-03-03T17:23:45.485Z"
   },
   {
    "duration": 6337,
    "start_time": "2022-03-03T17:23:45.568Z"
   },
   {
    "duration": 8,
    "start_time": "2022-03-03T17:23:51.907Z"
   },
   {
    "duration": 532,
    "start_time": "2022-03-03T17:23:51.916Z"
   },
   {
    "duration": 263,
    "start_time": "2022-03-03T17:34:32.108Z"
   },
   {
    "duration": 2008,
    "start_time": "2022-03-03T17:54:33.965Z"
   },
   {
    "duration": 1248,
    "start_time": "2022-03-03T17:55:07.483Z"
   },
   {
    "duration": 1980,
    "start_time": "2022-03-03T17:55:37.787Z"
   },
   {
    "duration": 9,
    "start_time": "2022-03-03T17:55:59.766Z"
   },
   {
    "duration": 200,
    "start_time": "2022-03-03T18:06:45.759Z"
   },
   {
    "duration": 44,
    "start_time": "2022-03-03T18:06:53.099Z"
   },
   {
    "duration": 204,
    "start_time": "2022-03-03T18:06:58.340Z"
   },
   {
    "duration": 19950,
    "start_time": "2022-03-03T18:07:14.068Z"
   },
   {
    "duration": 19553,
    "start_time": "2022-03-03T18:08:32.713Z"
   },
   {
    "duration": 223,
    "start_time": "2022-03-03T18:15:31.097Z"
   },
   {
    "duration": 121361,
    "start_time": "2022-03-03T18:16:40.312Z"
   },
   {
    "duration": 1177,
    "start_time": "2022-03-03T18:37:14.526Z"
   },
   {
    "duration": 3,
    "start_time": "2022-03-03T18:37:15.705Z"
   },
   {
    "duration": 760,
    "start_time": "2022-03-03T18:37:15.710Z"
   },
   {
    "duration": 126,
    "start_time": "2022-03-03T18:37:16.473Z"
   },
   {
    "duration": 103,
    "start_time": "2022-03-03T18:37:16.601Z"
   },
   {
    "duration": 57,
    "start_time": "2022-03-03T18:37:16.706Z"
   },
   {
    "duration": 38,
    "start_time": "2022-03-03T18:37:16.765Z"
   },
   {
    "duration": 183,
    "start_time": "2022-03-03T18:37:16.804Z"
   },
   {
    "duration": 80,
    "start_time": "2022-03-03T18:37:16.990Z"
   },
   {
    "duration": 226,
    "start_time": "2022-03-03T18:37:17.072Z"
   },
   {
    "duration": 79,
    "start_time": "2022-03-03T18:37:17.299Z"
   },
   {
    "duration": 129,
    "start_time": "2022-03-03T18:37:17.380Z"
   },
   {
    "duration": 129,
    "start_time": "2022-03-03T18:37:17.511Z"
   },
   {
    "duration": 3,
    "start_time": "2022-03-03T18:37:17.642Z"
   },
   {
    "duration": 75,
    "start_time": "2022-03-03T18:37:17.647Z"
   },
   {
    "duration": 291,
    "start_time": "2022-03-03T18:37:17.724Z"
   },
   {
    "duration": 10,
    "start_time": "2022-03-03T18:37:18.016Z"
   },
   {
    "duration": 46,
    "start_time": "2022-03-03T18:37:18.027Z"
   },
   {
    "duration": 57,
    "start_time": "2022-03-03T18:37:18.075Z"
   },
   {
    "duration": 4,
    "start_time": "2022-03-03T18:37:18.133Z"
   },
   {
    "duration": 6,
    "start_time": "2022-03-03T18:37:18.139Z"
   },
   {
    "duration": 49125,
    "start_time": "2022-03-03T18:37:18.146Z"
   },
   {
    "duration": 4,
    "start_time": "2022-03-03T18:38:07.272Z"
   },
   {
    "duration": 6411,
    "start_time": "2022-03-03T18:38:07.278Z"
   },
   {
    "duration": 2183,
    "start_time": "2022-03-03T18:38:13.691Z"
   },
   {
    "duration": 4,
    "start_time": "2022-03-03T18:38:15.963Z"
   },
   {
    "duration": 120901,
    "start_time": "2022-03-03T18:38:15.972Z"
   },
   {
    "duration": 87,
    "start_time": "2022-03-03T18:52:07.878Z"
   },
   {
    "duration": 361,
    "start_time": "2022-03-03T18:52:08.927Z"
   },
   {
    "duration": 3,
    "start_time": "2022-03-03T18:52:31.102Z"
   },
   {
    "duration": 8,
    "start_time": "2022-03-03T18:52:33.069Z"
   },
   {
    "duration": 4,
    "start_time": "2022-03-03T18:52:51.075Z"
   },
   {
    "duration": 8,
    "start_time": "2022-03-03T18:52:52.967Z"
   },
   {
    "duration": 280,
    "start_time": "2022-03-04T17:10:49.233Z"
   },
   {
    "duration": 240,
    "start_time": "2022-03-04T17:23:25.610Z"
   },
   {
    "duration": 389,
    "start_time": "2022-03-04T17:23:35.542Z"
   },
   {
    "duration": 1471,
    "start_time": "2022-03-04T17:23:47.212Z"
   },
   {
    "duration": 4,
    "start_time": "2022-03-04T17:23:48.686Z"
   },
   {
    "duration": 1083,
    "start_time": "2022-03-04T17:23:48.693Z"
   },
   {
    "duration": 167,
    "start_time": "2022-03-04T17:23:49.782Z"
   },
   {
    "duration": 134,
    "start_time": "2022-03-04T17:23:49.951Z"
   },
   {
    "duration": 73,
    "start_time": "2022-03-04T17:23:50.088Z"
   },
   {
    "duration": 68,
    "start_time": "2022-03-04T17:23:50.163Z"
   },
   {
    "duration": 115,
    "start_time": "2022-03-04T17:23:50.233Z"
   },
   {
    "duration": 348,
    "start_time": "2022-03-04T17:23:50.353Z"
   },
   {
    "duration": 167,
    "start_time": "2022-03-04T17:23:50.705Z"
   },
   {
    "duration": 556,
    "start_time": "2022-03-04T17:23:50.883Z"
   },
   {
    "duration": 196,
    "start_time": "2022-03-04T17:23:51.441Z"
   },
   {
    "duration": 210,
    "start_time": "2022-03-04T17:23:51.639Z"
   },
   {
    "duration": 5,
    "start_time": "2022-03-04T17:23:51.852Z"
   },
   {
    "duration": 482,
    "start_time": "2022-03-04T17:23:51.860Z"
   },
   {
    "duration": 17,
    "start_time": "2022-03-04T17:23:52.344Z"
   },
   {
    "duration": 62,
    "start_time": "2022-03-04T17:23:52.363Z"
   },
   {
    "duration": 78,
    "start_time": "2022-03-04T17:23:52.427Z"
   },
   {
    "duration": 5,
    "start_time": "2022-03-04T17:23:52.507Z"
   },
   {
    "duration": 7,
    "start_time": "2022-03-04T17:23:52.514Z"
   },
   {
    "duration": 526178,
    "start_time": "2022-03-04T17:23:52.523Z"
   },
   {
    "duration": 251,
    "start_time": "2022-03-04T17:32:38.704Z"
   },
   {
    "duration": 21,
    "start_time": "2022-03-04T17:32:38.939Z"
   },
   {
    "duration": 20,
    "start_time": "2022-03-04T17:32:38.942Z"
   },
   {
    "duration": 12,
    "start_time": "2022-03-04T17:32:38.952Z"
   },
   {
    "duration": 11,
    "start_time": "2022-03-04T17:32:38.955Z"
   },
   {
    "duration": 11,
    "start_time": "2022-03-04T17:32:38.957Z"
   },
   {
    "duration": 12,
    "start_time": "2022-03-04T17:32:38.961Z"
   },
   {
    "duration": 6,
    "start_time": "2022-03-04T17:32:38.969Z"
   },
   {
    "duration": 1504,
    "start_time": "2022-03-04T17:33:04.972Z"
   },
   {
    "duration": 4,
    "start_time": "2022-03-04T17:33:06.479Z"
   },
   {
    "duration": 1100,
    "start_time": "2022-03-04T17:33:06.486Z"
   },
   {
    "duration": 165,
    "start_time": "2022-03-04T17:33:07.589Z"
   },
   {
    "duration": 126,
    "start_time": "2022-03-04T17:33:07.756Z"
   },
   {
    "duration": 72,
    "start_time": "2022-03-04T17:33:07.885Z"
   },
   {
    "duration": 67,
    "start_time": "2022-03-04T17:33:07.960Z"
   },
   {
    "duration": 119,
    "start_time": "2022-03-04T17:33:08.029Z"
   },
   {
    "duration": 258,
    "start_time": "2022-03-04T17:33:08.154Z"
   },
   {
    "duration": 105,
    "start_time": "2022-03-04T17:33:08.415Z"
   },
   {
    "duration": 383,
    "start_time": "2022-03-04T17:33:08.522Z"
   },
   {
    "duration": 196,
    "start_time": "2022-03-04T17:33:08.907Z"
   },
   {
    "duration": 215,
    "start_time": "2022-03-04T17:33:09.105Z"
   },
   {
    "duration": 6,
    "start_time": "2022-03-04T17:33:09.322Z"
   },
   {
    "duration": 496,
    "start_time": "2022-03-04T17:33:09.330Z"
   },
   {
    "duration": 16,
    "start_time": "2022-03-04T17:33:09.828Z"
   },
   {
    "duration": 61,
    "start_time": "2022-03-04T17:33:09.847Z"
   },
   {
    "duration": 74,
    "start_time": "2022-03-04T17:33:09.911Z"
   },
   {
    "duration": 5,
    "start_time": "2022-03-04T17:33:09.988Z"
   },
   {
    "duration": 6,
    "start_time": "2022-03-04T17:33:09.996Z"
   },
   {
    "duration": 321,
    "start_time": "2022-03-04T17:33:10.005Z"
   },
   {
    "duration": 270,
    "start_time": "2022-03-04T17:33:10.329Z"
   },
   {
    "duration": 23,
    "start_time": "2022-03-04T17:33:10.579Z"
   },
   {
    "duration": 14,
    "start_time": "2022-03-04T17:33:10.590Z"
   },
   {
    "duration": 12,
    "start_time": "2022-03-04T17:33:10.593Z"
   },
   {
    "duration": 11,
    "start_time": "2022-03-04T17:33:10.596Z"
   },
   {
    "duration": 10,
    "start_time": "2022-03-04T17:33:10.599Z"
   },
   {
    "duration": 9,
    "start_time": "2022-03-04T17:33:10.601Z"
   },
   {
    "duration": 1692,
    "start_time": "2022-03-04T17:40:59.594Z"
   },
   {
    "duration": 4,
    "start_time": "2022-03-04T17:41:01.288Z"
   },
   {
    "duration": 1182,
    "start_time": "2022-03-04T17:41:01.295Z"
   },
   {
    "duration": 284,
    "start_time": "2022-03-04T17:41:02.484Z"
   },
   {
    "duration": 138,
    "start_time": "2022-03-04T17:41:02.771Z"
   },
   {
    "duration": 85,
    "start_time": "2022-03-04T17:41:02.912Z"
   },
   {
    "duration": 67,
    "start_time": "2022-03-04T17:41:03.000Z"
   },
   {
    "duration": 134,
    "start_time": "2022-03-04T17:41:03.083Z"
   },
   {
    "duration": 269,
    "start_time": "2022-03-04T17:41:03.221Z"
   },
   {
    "duration": 117,
    "start_time": "2022-03-04T17:41:03.493Z"
   },
   {
    "duration": 431,
    "start_time": "2022-03-04T17:41:03.613Z"
   },
   {
    "duration": 201,
    "start_time": "2022-03-04T17:41:04.046Z"
   },
   {
    "duration": 226,
    "start_time": "2022-03-04T17:41:04.249Z"
   },
   {
    "duration": 7,
    "start_time": "2022-03-04T17:41:04.478Z"
   },
   {
    "duration": 508,
    "start_time": "2022-03-04T17:41:04.488Z"
   },
   {
    "duration": 14,
    "start_time": "2022-03-04T17:41:04.999Z"
   },
   {
    "duration": 45,
    "start_time": "2022-03-04T17:41:05.016Z"
   },
   {
    "duration": 87,
    "start_time": "2022-03-04T17:41:05.064Z"
   },
   {
    "duration": 5,
    "start_time": "2022-03-04T17:41:05.154Z"
   },
   {
    "duration": 23,
    "start_time": "2022-03-04T17:41:05.161Z"
   },
   {
    "duration": 322,
    "start_time": "2022-03-04T17:41:05.187Z"
   },
   {
    "duration": 253,
    "start_time": "2022-03-04T17:41:05.513Z"
   },
   {
    "duration": 27,
    "start_time": "2022-03-04T17:41:05.743Z"
   },
   {
    "duration": 21,
    "start_time": "2022-03-04T17:41:05.751Z"
   },
   {
    "duration": 19,
    "start_time": "2022-03-04T17:41:05.754Z"
   },
   {
    "duration": 19,
    "start_time": "2022-03-04T17:41:05.756Z"
   },
   {
    "duration": 19,
    "start_time": "2022-03-04T17:41:05.758Z"
   },
   {
    "duration": 19,
    "start_time": "2022-03-04T17:41:05.760Z"
   },
   {
    "duration": 8482,
    "start_time": "2022-03-04T17:44:16.208Z"
   },
   {
    "duration": 4,
    "start_time": "2022-03-04T17:44:49.560Z"
   },
   {
    "duration": 9294,
    "start_time": "2022-03-04T17:44:50.002Z"
   },
   {
    "duration": 866,
    "start_time": "2022-03-04T17:45:09.421Z"
   },
   {
    "duration": 4,
    "start_time": "2022-03-04T17:45:25.075Z"
   },
   {
    "duration": 174179,
    "start_time": "2022-03-04T17:45:25.523Z"
   },
   {
    "duration": 4,
    "start_time": "2022-03-04T17:48:29.158Z"
   },
   {
    "duration": 7682,
    "start_time": "2022-03-04T17:48:30.112Z"
   },
   {
    "duration": 753,
    "start_time": "2022-03-04T17:48:40.436Z"
   },
   {
    "duration": 3,
    "start_time": "2022-03-04T17:48:48.551Z"
   },
   {
    "duration": 8517,
    "start_time": "2022-03-04T17:48:49.072Z"
   },
   {
    "duration": 866,
    "start_time": "2022-03-04T17:49:00.536Z"
   },
   {
    "duration": 4,
    "start_time": "2022-03-04T17:49:07.768Z"
   },
   {
    "duration": 8378,
    "start_time": "2022-03-04T17:49:08.318Z"
   },
   {
    "duration": 925,
    "start_time": "2022-03-04T17:49:17.765Z"
   },
   {
    "duration": 4,
    "start_time": "2022-03-04T17:49:51.673Z"
   },
   {
    "duration": 11840,
    "start_time": "2022-03-04T17:49:52.153Z"
   },
   {
    "duration": 900,
    "start_time": "2022-03-04T17:50:03.995Z"
   },
   {
    "duration": 4,
    "start_time": "2022-03-04T17:50:08.962Z"
   },
   {
    "duration": 10496,
    "start_time": "2022-03-04T17:50:09.598Z"
   },
   {
    "duration": 701,
    "start_time": "2022-03-04T17:50:20.096Z"
   },
   {
    "duration": 4,
    "start_time": "2022-03-04T17:50:28.298Z"
   },
   {
    "duration": 10116,
    "start_time": "2022-03-04T17:50:29.080Z"
   },
   {
    "duration": 509,
    "start_time": "2022-03-04T17:50:39.282Z"
   },
   {
    "duration": 3,
    "start_time": "2022-03-04T17:50:44.609Z"
   },
   {
    "duration": 8586,
    "start_time": "2022-03-04T17:50:45.106Z"
   },
   {
    "duration": 901,
    "start_time": "2022-03-04T17:50:53.695Z"
   },
   {
    "duration": 5,
    "start_time": "2022-03-04T17:51:00.303Z"
   },
   {
    "duration": 6306,
    "start_time": "2022-03-04T17:51:00.979Z"
   },
   {
    "duration": 603,
    "start_time": "2022-03-04T17:51:07.288Z"
   },
   {
    "duration": 4,
    "start_time": "2022-03-04T17:51:12.143Z"
   },
   {
    "duration": 6695,
    "start_time": "2022-03-04T17:51:12.789Z"
   },
   {
    "duration": 596,
    "start_time": "2022-03-04T17:51:19.487Z"
   },
   {
    "duration": 4,
    "start_time": "2022-03-04T17:51:26.005Z"
   },
   {
    "duration": 9474,
    "start_time": "2022-03-04T17:51:26.519Z"
   },
   {
    "duration": 387,
    "start_time": "2022-03-04T17:51:35.997Z"
   },
   {
    "duration": 4,
    "start_time": "2022-03-04T17:51:44.992Z"
   },
   {
    "duration": 7183,
    "start_time": "2022-03-04T17:51:45.409Z"
   },
   {
    "duration": 596,
    "start_time": "2022-03-04T17:51:52.595Z"
   },
   {
    "duration": 4,
    "start_time": "2022-03-04T17:52:02.608Z"
   },
   {
    "duration": 6126,
    "start_time": "2022-03-04T17:52:02.860Z"
   },
   {
    "duration": 599,
    "start_time": "2022-03-04T17:52:08.989Z"
   },
   {
    "duration": 240,
    "start_time": "2022-03-04T17:56:09.565Z"
   },
   {
    "duration": 362,
    "start_time": "2022-03-04T17:58:22.266Z"
   },
   {
    "duration": 252,
    "start_time": "2022-03-04T17:59:28.838Z"
   },
   {
    "duration": 4,
    "start_time": "2022-03-04T17:59:55.822Z"
   },
   {
    "duration": 3,
    "start_time": "2022-03-04T17:59:58.486Z"
   },
   {
    "duration": 4,
    "start_time": "2022-03-04T18:00:00.158Z"
   },
   {
    "duration": 8653,
    "start_time": "2022-03-04T18:00:04.041Z"
   },
   {
    "duration": 1474,
    "start_time": "2022-03-04T18:01:48.087Z"
   },
   {
    "duration": 5,
    "start_time": "2022-03-04T18:01:49.564Z"
   },
   {
    "duration": 1067,
    "start_time": "2022-03-04T18:01:49.584Z"
   },
   {
    "duration": 164,
    "start_time": "2022-03-04T18:01:50.654Z"
   },
   {
    "duration": 121,
    "start_time": "2022-03-04T18:01:50.821Z"
   },
   {
    "duration": 82,
    "start_time": "2022-03-04T18:01:50.944Z"
   },
   {
    "duration": 63,
    "start_time": "2022-03-04T18:01:51.028Z"
   },
   {
    "duration": 116,
    "start_time": "2022-03-04T18:01:51.093Z"
   },
   {
    "duration": 243,
    "start_time": "2022-03-04T18:01:51.213Z"
   },
   {
    "duration": 93,
    "start_time": "2022-03-04T18:01:51.459Z"
   },
   {
    "duration": 388,
    "start_time": "2022-03-04T18:01:51.555Z"
   },
   {
    "duration": 181,
    "start_time": "2022-03-04T18:01:51.946Z"
   },
   {
    "duration": 209,
    "start_time": "2022-03-04T18:01:52.129Z"
   },
   {
    "duration": 5,
    "start_time": "2022-03-04T18:01:52.341Z"
   },
   {
    "duration": 468,
    "start_time": "2022-03-04T18:01:52.349Z"
   },
   {
    "duration": 16,
    "start_time": "2022-03-04T18:01:52.820Z"
   },
   {
    "duration": 58,
    "start_time": "2022-03-04T18:01:52.838Z"
   },
   {
    "duration": 66,
    "start_time": "2022-03-04T18:01:52.898Z"
   },
   {
    "duration": 16,
    "start_time": "2022-03-04T18:01:52.967Z"
   },
   {
    "duration": 8,
    "start_time": "2022-03-04T18:01:52.986Z"
   },
   {
    "duration": 7,
    "start_time": "2022-03-04T18:01:52.996Z"
   },
   {
    "duration": 8,
    "start_time": "2022-03-04T18:01:53.005Z"
   },
   {
    "duration": 162011,
    "start_time": "2022-03-04T18:01:53.015Z"
   },
   {
    "duration": -66,
    "start_time": "2022-03-04T18:04:35.095Z"
   },
   {
    "duration": -67,
    "start_time": "2022-03-04T18:04:35.098Z"
   },
   {
    "duration": -67,
    "start_time": "2022-03-04T18:04:35.100Z"
   },
   {
    "duration": -90,
    "start_time": "2022-03-04T18:04:35.125Z"
   },
   {
    "duration": -91,
    "start_time": "2022-03-04T18:04:35.127Z"
   },
   {
    "duration": -92,
    "start_time": "2022-03-04T18:04:35.130Z"
   },
   {
    "duration": -93,
    "start_time": "2022-03-04T18:04:35.132Z"
   },
   {
    "duration": -95,
    "start_time": "2022-03-04T18:04:35.135Z"
   },
   {
    "duration": 4,
    "start_time": "2022-03-04T18:04:44.663Z"
   },
   {
    "duration": 4,
    "start_time": "2022-03-04T18:04:45.241Z"
   },
   {
    "duration": 23863,
    "start_time": "2022-03-04T18:04:46.171Z"
   },
   {
    "duration": 4,
    "start_time": "2022-03-04T18:05:14.711Z"
   },
   {
    "duration": 4,
    "start_time": "2022-03-04T18:05:15.479Z"
   },
   {
    "duration": 4,
    "start_time": "2022-03-04T18:05:16.285Z"
   },
   {
    "duration": 335357,
    "start_time": "2022-03-04T18:05:16.991Z"
   },
   {
    "duration": 4,
    "start_time": "2022-03-04T18:10:54.945Z"
   },
   {
    "duration": 4,
    "start_time": "2022-03-04T18:10:55.571Z"
   },
   {
    "duration": 4,
    "start_time": "2022-03-04T18:10:56.207Z"
   },
   {
    "duration": 127477,
    "start_time": "2022-03-04T18:10:56.884Z"
   },
   {
    "duration": 4,
    "start_time": "2022-03-04T18:13:14.473Z"
   },
   {
    "duration": 3,
    "start_time": "2022-03-04T18:13:16.347Z"
   },
   {
    "duration": 5,
    "start_time": "2022-03-04T18:13:16.866Z"
   },
   {
    "duration": 105867,
    "start_time": "2022-03-04T18:13:17.380Z"
   },
   {
    "duration": 4,
    "start_time": "2022-03-04T18:15:20.303Z"
   },
   {
    "duration": 4,
    "start_time": "2022-03-04T18:15:20.359Z"
   },
   {
    "duration": 3,
    "start_time": "2022-03-04T18:15:20.761Z"
   },
   {
    "duration": 62126,
    "start_time": "2022-03-04T18:15:21.817Z"
   },
   {
    "duration": 4,
    "start_time": "2022-03-04T18:16:45.285Z"
   },
   {
    "duration": 4,
    "start_time": "2022-03-04T18:16:45.653Z"
   },
   {
    "duration": 4,
    "start_time": "2022-03-04T18:16:45.903Z"
   },
   {
    "duration": 43089,
    "start_time": "2022-03-04T18:16:46.288Z"
   },
   {
    "duration": 1450,
    "start_time": "2022-03-04T18:17:37.834Z"
   },
   {
    "duration": 4,
    "start_time": "2022-03-04T18:17:39.287Z"
   },
   {
    "duration": 1388,
    "start_time": "2022-03-04T18:17:39.294Z"
   },
   {
    "duration": 279,
    "start_time": "2022-03-04T18:17:40.686Z"
   },
   {
    "duration": 168,
    "start_time": "2022-03-04T18:17:40.968Z"
   },
   {
    "duration": 106,
    "start_time": "2022-03-04T18:17:41.139Z"
   },
   {
    "duration": 68,
    "start_time": "2022-03-04T18:17:41.248Z"
   },
   {
    "duration": 107,
    "start_time": "2022-03-04T18:17:41.318Z"
   },
   {
    "duration": 285,
    "start_time": "2022-03-04T18:17:41.429Z"
   },
   {
    "duration": 104,
    "start_time": "2022-03-04T18:17:41.717Z"
   },
   {
    "duration": 393,
    "start_time": "2022-03-04T18:17:41.824Z"
   },
   {
    "duration": 191,
    "start_time": "2022-03-04T18:17:42.220Z"
   },
   {
    "duration": 211,
    "start_time": "2022-03-04T18:17:42.413Z"
   },
   {
    "duration": 5,
    "start_time": "2022-03-04T18:17:42.627Z"
   },
   {
    "duration": 478,
    "start_time": "2022-03-04T18:17:42.634Z"
   },
   {
    "duration": 15,
    "start_time": "2022-03-04T18:17:43.115Z"
   },
   {
    "duration": 82,
    "start_time": "2022-03-04T18:17:43.132Z"
   },
   {
    "duration": 76,
    "start_time": "2022-03-04T18:17:43.216Z"
   },
   {
    "duration": 5,
    "start_time": "2022-03-04T18:17:43.295Z"
   },
   {
    "duration": 32,
    "start_time": "2022-03-04T18:17:43.302Z"
   },
   {
    "duration": 10,
    "start_time": "2022-03-04T18:17:43.337Z"
   },
   {
    "duration": 24,
    "start_time": "2022-03-04T18:17:43.349Z"
   },
   {
    "duration": 159607,
    "start_time": "2022-03-04T18:17:43.377Z"
   },
   {
    "duration": 8997,
    "start_time": "2022-03-04T18:20:22.987Z"
   },
   {
    "duration": 908,
    "start_time": "2022-03-04T18:20:31.987Z"
   },
   {
    "duration": 2098,
    "start_time": "2022-03-04T18:20:32.898Z"
   },
   {
    "duration": 95,
    "start_time": "2022-03-04T18:20:35.088Z"
   },
   {
    "duration": 171515,
    "start_time": "2022-03-04T18:20:35.186Z"
   },
   {
    "duration": 98,
    "start_time": "2022-03-04T18:23:26.704Z"
   },
   {
    "duration": 37,
    "start_time": "2022-03-04T18:23:26.767Z"
   },
   {
    "duration": 36,
    "start_time": "2022-03-04T18:23:26.770Z"
   },
   {
    "duration": 4,
    "start_time": "2022-03-04T18:27:01.605Z"
   },
   {
    "duration": 9167,
    "start_time": "2022-03-04T18:27:05.428Z"
   },
   {
    "duration": 879,
    "start_time": "2022-03-04T18:27:17.212Z"
   },
   {
    "duration": 4,
    "start_time": "2022-03-04T18:27:29.834Z"
   },
   {
    "duration": 8748,
    "start_time": "2022-03-04T18:27:30.645Z"
   },
   {
    "duration": 1004,
    "start_time": "2022-03-04T18:27:39.396Z"
   },
   {
    "duration": 4,
    "start_time": "2022-03-04T18:27:49.661Z"
   },
   {
    "duration": 9158,
    "start_time": "2022-03-04T18:27:50.131Z"
   },
   {
    "duration": 992,
    "start_time": "2022-03-04T18:27:59.291Z"
   },
   {
    "duration": 4,
    "start_time": "2022-03-04T18:28:10.689Z"
   },
   {
    "duration": 7970,
    "start_time": "2022-03-04T18:28:11.022Z"
   },
   {
    "duration": 796,
    "start_time": "2022-03-04T18:28:18.995Z"
   },
   {
    "duration": 4,
    "start_time": "2022-03-04T18:28:24.696Z"
   },
   {
    "duration": 7025,
    "start_time": "2022-03-04T18:28:24.860Z"
   },
   {
    "duration": 607,
    "start_time": "2022-03-04T18:28:31.888Z"
   },
   {
    "duration": 4,
    "start_time": "2022-03-04T18:28:36.908Z"
   },
   {
    "duration": 7639,
    "start_time": "2022-03-04T18:28:37.358Z"
   },
   {
    "duration": 798,
    "start_time": "2022-03-04T18:28:45.084Z"
   },
   {
    "duration": 5,
    "start_time": "2022-03-04T18:30:35.274Z"
   },
   {
    "duration": 7388,
    "start_time": "2022-03-04T18:30:35.597Z"
   },
   {
    "duration": 801,
    "start_time": "2022-03-04T18:30:42.988Z"
   },
   {
    "duration": 4,
    "start_time": "2022-03-04T18:31:36.522Z"
   },
   {
    "duration": 7613,
    "start_time": "2022-03-04T18:31:36.572Z"
   },
   {
    "duration": 713,
    "start_time": "2022-03-04T18:31:44.187Z"
   },
   {
    "duration": 2338,
    "start_time": "2022-03-04T18:34:34.044Z"
   },
   {
    "duration": 4,
    "start_time": "2022-03-04T18:37:37.700Z"
   },
   {
    "duration": 11491,
    "start_time": "2022-03-04T18:37:37.707Z"
   },
   {
    "duration": 4,
    "start_time": "2022-03-04T18:37:51.606Z"
   },
   {
    "duration": 19359,
    "start_time": "2022-03-04T18:37:52.180Z"
   },
   {
    "duration": 4,
    "start_time": "2022-03-04T18:38:40.589Z"
   },
   {
    "duration": 88582,
    "start_time": "2022-03-04T18:38:41.009Z"
   },
   {
    "duration": 4,
    "start_time": "2022-03-04T18:42:23.426Z"
   },
   {
    "duration": 5,
    "start_time": "2022-03-04T18:42:44.513Z"
   },
   {
    "duration": 10,
    "start_time": "2022-03-04T18:42:45.213Z"
   },
   {
    "duration": 5,
    "start_time": "2022-03-04T18:43:00.585Z"
   },
   {
    "duration": 4,
    "start_time": "2022-03-04T18:44:23.655Z"
   },
   {
    "duration": 149880,
    "start_time": "2022-03-04T18:44:24.412Z"
   },
   {
    "duration": 5,
    "start_time": "2022-03-04T18:47:40.174Z"
   },
   {
    "duration": 10,
    "start_time": "2022-03-04T18:47:40.855Z"
   },
   {
    "duration": 83,
    "start_time": "2022-03-04T18:51:01.193Z"
   },
   {
    "duration": 1295,
    "start_time": "2022-03-11T09:01:54.621Z"
   },
   {
    "duration": 2,
    "start_time": "2022-03-11T09:01:55.918Z"
   },
   {
    "duration": 808,
    "start_time": "2022-03-11T09:01:55.923Z"
   },
   {
    "duration": 125,
    "start_time": "2022-03-11T09:01:56.732Z"
   },
   {
    "duration": 102,
    "start_time": "2022-03-11T09:01:56.862Z"
   },
   {
    "duration": 50,
    "start_time": "2022-03-11T09:01:56.965Z"
   },
   {
    "duration": 54,
    "start_time": "2022-03-11T09:01:57.017Z"
   },
   {
    "duration": 75,
    "start_time": "2022-03-11T09:01:57.074Z"
   },
   {
    "duration": 184,
    "start_time": "2022-03-11T09:01:57.151Z"
   },
   {
    "duration": 78,
    "start_time": "2022-03-11T09:01:57.337Z"
   },
   {
    "duration": 233,
    "start_time": "2022-03-11T09:01:57.417Z"
   },
   {
    "duration": 128,
    "start_time": "2022-03-11T09:01:57.652Z"
   },
   {
    "duration": 130,
    "start_time": "2022-03-11T09:01:57.782Z"
   },
   {
    "duration": 4,
    "start_time": "2022-03-11T09:01:57.913Z"
   },
   {
    "duration": 305,
    "start_time": "2022-03-11T09:01:57.919Z"
   },
   {
    "duration": 10,
    "start_time": "2022-03-11T09:01:58.226Z"
   },
   {
    "duration": 49,
    "start_time": "2022-03-11T09:01:58.237Z"
   },
   {
    "duration": 63,
    "start_time": "2022-03-11T09:01:58.287Z"
   },
   {
    "duration": 11,
    "start_time": "2022-03-11T09:01:58.352Z"
   },
   {
    "duration": 15,
    "start_time": "2022-03-11T09:01:58.365Z"
   },
   {
    "duration": 24391,
    "start_time": "2022-03-11T09:01:58.381Z"
   },
   {
    "duration": 588,
    "start_time": "2022-03-11T09:02:22.774Z"
   },
   {
    "duration": 5,
    "start_time": "2022-03-11T09:02:23.364Z"
   },
   {
    "duration": 96,
    "start_time": "2022-03-11T09:02:23.370Z"
   },
   {
    "duration": 1199,
    "start_time": "2022-03-11T09:02:23.468Z"
   },
   {
    "duration": 900,
    "start_time": "2022-03-11T09:02:24.672Z"
   },
   {
    "duration": 4,
    "start_time": "2022-03-11T09:02:25.574Z"
   },
   {
    "duration": 107096,
    "start_time": "2022-03-11T09:02:25.665Z"
   },
   {
    "duration": 231,
    "start_time": "2022-03-11T09:04:12.763Z"
   },
   {
    "duration": 5,
    "start_time": "2022-03-11T09:04:13.064Z"
   },
   {
    "duration": 5,
    "start_time": "2022-03-11T09:04:13.071Z"
   },
   {
    "duration": 365,
    "start_time": "2022-03-11T09:04:13.078Z"
   },
   {
    "duration": 3,
    "start_time": "2022-03-11T09:11:04.739Z"
   },
   {
    "duration": 238,
    "start_time": "2022-03-11T09:11:05.664Z"
   },
   {
    "duration": 3,
    "start_time": "2022-03-11T09:11:48.059Z"
   },
   {
    "duration": 232,
    "start_time": "2022-03-11T09:11:48.064Z"
   },
   {
    "duration": 3,
    "start_time": "2022-03-11T09:12:27.244Z"
   },
   {
    "duration": 10,
    "start_time": "2022-03-11T09:12:27.686Z"
   }
  ],
  "kernelspec": {
   "display_name": "Python 3",
   "language": "python",
   "name": "python3"
  },
  "language_info": {
   "codemirror_mode": {
    "name": "ipython",
    "version": 3
   },
   "file_extension": ".py",
   "mimetype": "text/x-python",
   "name": "python",
   "nbconvert_exporter": "python",
   "pygments_lexer": "ipython3",
   "version": "3.7.8"
  },
  "toc": {
   "base_numbering": 1,
   "nav_menu": {},
   "number_sections": true,
   "sideBar": true,
   "skip_h1_title": true,
   "title_cell": "Table of Contents",
   "title_sidebar": "Contents",
   "toc_cell": false,
   "toc_position": {},
   "toc_section_display": true,
   "toc_window_display": false
  }
 },
 "nbformat": 4,
 "nbformat_minor": 2
}

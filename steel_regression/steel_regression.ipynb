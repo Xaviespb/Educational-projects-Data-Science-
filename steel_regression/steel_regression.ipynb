{
 "cells": [
  {
   "cell_type": "markdown",
   "metadata": {
    "pycharm": {
     "name": "#%% md\n"
    }
   },
   "source": [
    "# Промышленность"
   ]
  },
  {
   "cell_type": "markdown",
   "metadata": {
    "pycharm": {
     "name": "#%% md\n"
    }
   },
   "source": [
    "Чтобы оптимизировать производственные расходы, металлургический комбинат решил уменьшить потребление электроэнергии на этапе обработки стали. Нам предстоит построить модель, которая предскажет температуру стали."
   ]
  },
  {
   "cell_type": "markdown",
   "metadata": {
    "pycharm": {
     "name": "#%% md\n"
    }
   },
   "source": [
    "### Описание этапов обработки металла"
   ]
  },
  {
   "cell_type": "markdown",
   "metadata": {
    "pycharm": {
     "name": "#%% md\n"
    }
   },
   "source": [
    "Сталь обрабатывают в металлическом ковше вместимостью около 100 тонн. Чтобы ковш выдерживал высокие температуры, изнутри его облицовывают огнеупорным кирпичом.\n",
    "\n",
    "1. Расплавленную сталь заливают в ковш и подогревают до нужной температуры графитовыми электродами (df_arc). Они установлены в крышке ковша.\n",
    "\n",
    "2. Из сплава выводится сера (десульфурация)\n",
    "\n",
    "3. Перед тем как первый раз ввести легирующие добавки, измеряют температуру стали (df_temp) и производят её химический анализ.\n",
    "\n",
    "4. Потом температуру на несколько минут повышают, добавляют легирующие материалы и продувают сплав инертным газом (df_gas). Затем его перемешивают и снова проводят измерения.\n",
    "Добавлением примесей корректируется химический состав и отбираются пробы. Сталь легируют — изменяют её состав — подавая куски сплава из бункера для сыпучих материалов (df_bulk)(df_bulk_time) или проволоку (df_wire)(df_wire_time) через специальный трайб-аппарат (англ. tribe, «масса»).\n",
    "\n",
    "5. Такой цикл повторяется до достижения целевого химического состава и оптимальной температуры плавки.\n",
    "\n",
    "6. Тогда расплавленная сталь отправляется на доводку металла или поступает в машину непрерывной разливки. Оттуда готовый продукт выходит в виде заготовок-слябов (англ. *slab*, «плита»)."
   ]
  },
  {
   "cell_type": "markdown",
   "metadata": {
    "pycharm": {
     "name": "#%% md\n"
    }
   },
   "source": [
    "### Описание данных\n",
    "\n",
    "Данные состоят из файлов, полученных из разных источников:\n",
    "\n",
    "- `data_arc.csv` — данные об электродах;\n",
    "- `data_bulk.csv` — данные о подаче сыпучих материалов (объём);\n",
    "- `data_bulk_time.csv` *—* данные о подаче сыпучих материалов (время);\n",
    "- `data_gas.csv` — данные о продувке сплава газом;\n",
    "- `data_temp.csv` — результаты измерения температуры;\n",
    "- `data_wire.csv` — данные о проволочных материалах (объём);\n",
    "- `data_wire_time.csv` — данные о проволочных материалах (время).\n",
    "\n",
    "Во всех файлах столбец `key` содержит номер партии. В файлах может быть несколько строк с одинаковым значением `key`: они соответствуют разным итерациям обработки."
   ]
  },
  {
   "cell_type": "markdown",
   "metadata": {
    "pycharm": {
     "name": "#%% md\n"
    }
   },
   "source": [
    "## Подготовка данных"
   ]
  },
  {
   "cell_type": "code",
   "execution_count": 1,
   "metadata": {
    "pycharm": {
     "name": "#%%\n"
    }
   },
   "outputs": [],
   "source": [
    "import pandas as pd\n",
    "import seaborn as sns\n",
    "from sklearn.model_selection import train_test_split, GridSearchCV, cross_val_score\n",
    "from sklearn.linear_model import LinearRegression\n",
    "from sklearn.ensemble import RandomForestRegressor\n",
    "from catboost import CatBoostRegressor\n",
    "from lightgbm import LGBMRegressor\n",
    "from sklearn.dummy import DummyRegressor\n",
    "from sklearn.metrics import mean_absolute_error\n",
    "import matplotlib.pyplot as plt\n",
    "import numpy as np\n",
    "import math\n",
    "import datetime as dt"
   ]
  },
  {
   "cell_type": "code",
   "execution_count": 2,
   "metadata": {
    "pycharm": {
     "name": "#%%\n"
    }
   },
   "outputs": [],
   "source": [
    "pd.set_option('display.float_format', '{:,.2f}'.format)"
   ]
  },
  {
   "cell_type": "markdown",
   "metadata": {
    "pycharm": {
     "name": "#%% md\n"
    }
   },
   "source": [
    "### Загрузка данных"
   ]
  },
  {
   "cell_type": "code",
   "execution_count": 3,
   "metadata": {},
   "outputs": [],
   "source": [
    "df_arc = pd.read_csv('/datasets/final_steel/data_arc.csv')\n",
    "df_bulk = pd.read_csv('/datasets/final_steel/data_bulk.csv')\n",
    "df_bulk_time = pd.read_csv('/datasets/final_steel/data_bulk_time.csv')\n",
    "df_gas = pd.read_csv('/datasets/final_steel/data_gas.csv')\n",
    "df_temp = pd.read_csv('/datasets/final_steel/data_temp.csv')\n",
    "df_wire = pd.read_csv('/datasets/final_steel/data_wire.csv')\n",
    "df_wire_time = pd.read_csv('/datasets/final_steel/data_wire_time.csv')"
   ]
  },
  {
   "cell_type": "markdown",
   "metadata": {
    "pycharm": {
     "name": "#%% md\n"
    }
   },
   "source": [
    "#### df_arc"
   ]
  },
  {
   "cell_type": "code",
   "execution_count": 4,
   "metadata": {
    "pycharm": {
     "name": "#%%\n"
    }
   },
   "outputs": [
    {
     "data": {
      "text/html": [
       "<div>\n",
       "<style scoped>\n",
       "    .dataframe tbody tr th:only-of-type {\n",
       "        vertical-align: middle;\n",
       "    }\n",
       "\n",
       "    .dataframe tbody tr th {\n",
       "        vertical-align: top;\n",
       "    }\n",
       "\n",
       "    .dataframe thead th {\n",
       "        text-align: right;\n",
       "    }\n",
       "</style>\n",
       "<table border=\"1\" class=\"dataframe\">\n",
       "  <thead>\n",
       "    <tr style=\"text-align: right;\">\n",
       "      <th></th>\n",
       "      <th>key</th>\n",
       "      <th>Начало нагрева дугой</th>\n",
       "      <th>Конец нагрева дугой</th>\n",
       "      <th>Активная мощность</th>\n",
       "      <th>Реактивная мощность</th>\n",
       "    </tr>\n",
       "  </thead>\n",
       "  <tbody>\n",
       "    <tr>\n",
       "      <th>0</th>\n",
       "      <td>1</td>\n",
       "      <td>2019-05-03 11:02:14</td>\n",
       "      <td>2019-05-03 11:06:02</td>\n",
       "      <td>0.98</td>\n",
       "      <td>0.69</td>\n",
       "    </tr>\n",
       "    <tr>\n",
       "      <th>1</th>\n",
       "      <td>1</td>\n",
       "      <td>2019-05-03 11:07:28</td>\n",
       "      <td>2019-05-03 11:10:33</td>\n",
       "      <td>0.81</td>\n",
       "      <td>0.52</td>\n",
       "    </tr>\n",
       "    <tr>\n",
       "      <th>2</th>\n",
       "      <td>1</td>\n",
       "      <td>2019-05-03 11:11:44</td>\n",
       "      <td>2019-05-03 11:14:36</td>\n",
       "      <td>0.74</td>\n",
       "      <td>0.50</td>\n",
       "    </tr>\n",
       "    <tr>\n",
       "      <th>3</th>\n",
       "      <td>1</td>\n",
       "      <td>2019-05-03 11:18:14</td>\n",
       "      <td>2019-05-03 11:24:19</td>\n",
       "      <td>1.66</td>\n",
       "      <td>1.06</td>\n",
       "    </tr>\n",
       "    <tr>\n",
       "      <th>4</th>\n",
       "      <td>1</td>\n",
       "      <td>2019-05-03 11:26:09</td>\n",
       "      <td>2019-05-03 11:28:37</td>\n",
       "      <td>0.69</td>\n",
       "      <td>0.41</td>\n",
       "    </tr>\n",
       "  </tbody>\n",
       "</table>\n",
       "</div>"
      ],
      "text/plain": [
       "   key Начало нагрева дугой  Конец нагрева дугой  Активная мощность  \\\n",
       "0    1  2019-05-03 11:02:14  2019-05-03 11:06:02               0.98   \n",
       "1    1  2019-05-03 11:07:28  2019-05-03 11:10:33               0.81   \n",
       "2    1  2019-05-03 11:11:44  2019-05-03 11:14:36               0.74   \n",
       "3    1  2019-05-03 11:18:14  2019-05-03 11:24:19               1.66   \n",
       "4    1  2019-05-03 11:26:09  2019-05-03 11:28:37               0.69   \n",
       "\n",
       "   Реактивная мощность  \n",
       "0                 0.69  \n",
       "1                 0.52  \n",
       "2                 0.50  \n",
       "3                 1.06  \n",
       "4                 0.41  "
      ]
     },
     "execution_count": 4,
     "metadata": {},
     "output_type": "execute_result"
    }
   ],
   "source": [
    "#данные об электродах\n",
    "df_arc.head()"
   ]
  },
  {
   "cell_type": "code",
   "execution_count": 5,
   "metadata": {
    "pycharm": {
     "name": "#%%\n"
    }
   },
   "outputs": [
    {
     "name": "stdout",
     "output_type": "stream",
     "text": [
      "<class 'pandas.core.frame.DataFrame'>\n",
      "RangeIndex: 14876 entries, 0 to 14875\n",
      "Data columns (total 5 columns):\n",
      " #   Column                Non-Null Count  Dtype  \n",
      "---  ------                --------------  -----  \n",
      " 0   key                   14876 non-null  int64  \n",
      " 1   Начало нагрева дугой  14876 non-null  object \n",
      " 2   Конец нагрева дугой   14876 non-null  object \n",
      " 3   Активная мощность     14876 non-null  float64\n",
      " 4   Реактивная мощность   14876 non-null  float64\n",
      "dtypes: float64(2), int64(1), object(2)\n",
      "memory usage: 581.2+ KB\n"
     ]
    }
   ],
   "source": [
    "df_arc.info()"
   ]
  },
  {
   "cell_type": "code",
   "execution_count": 6,
   "metadata": {
    "pycharm": {
     "name": "#%%\n"
    }
   },
   "outputs": [
    {
     "data": {
      "text/html": [
       "<div>\n",
       "<style scoped>\n",
       "    .dataframe tbody tr th:only-of-type {\n",
       "        vertical-align: middle;\n",
       "    }\n",
       "\n",
       "    .dataframe tbody tr th {\n",
       "        vertical-align: top;\n",
       "    }\n",
       "\n",
       "    .dataframe thead th {\n",
       "        text-align: right;\n",
       "    }\n",
       "</style>\n",
       "<table border=\"1\" class=\"dataframe\">\n",
       "  <thead>\n",
       "    <tr style=\"text-align: right;\">\n",
       "      <th></th>\n",
       "      <th>key</th>\n",
       "      <th>Активная мощность</th>\n",
       "      <th>Реактивная мощность</th>\n",
       "    </tr>\n",
       "  </thead>\n",
       "  <tbody>\n",
       "    <tr>\n",
       "      <th>count</th>\n",
       "      <td>14,876.00</td>\n",
       "      <td>14,876.00</td>\n",
       "      <td>14,876.00</td>\n",
       "    </tr>\n",
       "    <tr>\n",
       "      <th>mean</th>\n",
       "      <td>1,615.22</td>\n",
       "      <td>0.67</td>\n",
       "      <td>0.45</td>\n",
       "    </tr>\n",
       "    <tr>\n",
       "      <th>std</th>\n",
       "      <td>934.57</td>\n",
       "      <td>0.41</td>\n",
       "      <td>5.88</td>\n",
       "    </tr>\n",
       "    <tr>\n",
       "      <th>min</th>\n",
       "      <td>1.00</td>\n",
       "      <td>0.03</td>\n",
       "      <td>-715.50</td>\n",
       "    </tr>\n",
       "    <tr>\n",
       "      <th>25%</th>\n",
       "      <td>806.00</td>\n",
       "      <td>0.40</td>\n",
       "      <td>0.29</td>\n",
       "    </tr>\n",
       "    <tr>\n",
       "      <th>50%</th>\n",
       "      <td>1,617.00</td>\n",
       "      <td>0.56</td>\n",
       "      <td>0.42</td>\n",
       "    </tr>\n",
       "    <tr>\n",
       "      <th>75%</th>\n",
       "      <td>2,429.00</td>\n",
       "      <td>0.86</td>\n",
       "      <td>0.64</td>\n",
       "    </tr>\n",
       "    <tr>\n",
       "      <th>max</th>\n",
       "      <td>3,241.00</td>\n",
       "      <td>3.73</td>\n",
       "      <td>2.68</td>\n",
       "    </tr>\n",
       "  </tbody>\n",
       "</table>\n",
       "</div>"
      ],
      "text/plain": [
       "            key  Активная мощность  Реактивная мощность\n",
       "count 14,876.00          14,876.00            14,876.00\n",
       "mean   1,615.22               0.67                 0.45\n",
       "std      934.57               0.41                 5.88\n",
       "min        1.00               0.03              -715.50\n",
       "25%      806.00               0.40                 0.29\n",
       "50%    1,617.00               0.56                 0.42\n",
       "75%    2,429.00               0.86                 0.64\n",
       "max    3,241.00               3.73                 2.68"
      ]
     },
     "execution_count": 6,
     "metadata": {},
     "output_type": "execute_result"
    }
   ],
   "source": [
    "df_arc.describe()"
   ]
  },
  {
   "cell_type": "code",
   "execution_count": 7,
   "metadata": {
    "pycharm": {
     "name": "#%%\n"
    }
   },
   "outputs": [
    {
     "data": {
      "text/plain": [
       "Index(['key', 'Начало нагрева дугой', 'Конец нагрева дугой',\n",
       "       'Активная мощность', 'Реактивная мощность'],\n",
       "      dtype='object')"
      ]
     },
     "execution_count": 7,
     "metadata": {},
     "output_type": "execute_result"
    }
   ],
   "source": [
    "df_arc.columns"
   ]
  },
  {
   "cell_type": "markdown",
   "metadata": {
    "pycharm": {
     "name": "#%% md\n"
    }
   },
   "source": [
    "Переименуем названия колонок в удобные для работы"
   ]
  },
  {
   "cell_type": "code",
   "execution_count": 8,
   "metadata": {
    "pycharm": {
     "name": "#%%\n"
    }
   },
   "outputs": [],
   "source": [
    "df_arc = df_arc.rename(columns={'Начало нагрева дугой':'arc_start',\n",
    "                                'Конец нагрева дугой':'arc_stop',\n",
    "                                'Активная мощность':'active_power',\n",
    "                                'Реактивная мощность':'reactive_power'})"
   ]
  },
  {
   "cell_type": "markdown",
   "metadata": {
    "pycharm": {
     "name": "#%% md\n"
    }
   },
   "source": [
    "Проверим на пропуски и явные дубликаты"
   ]
  },
  {
   "cell_type": "code",
   "execution_count": 9,
   "metadata": {
    "pycharm": {
     "name": "#%%\n"
    }
   },
   "outputs": [
    {
     "data": {
      "text/plain": [
       "key               0\n",
       "arc_start         0\n",
       "arc_stop          0\n",
       "active_power      0\n",
       "reactive_power    0\n",
       "dtype: int64"
      ]
     },
     "execution_count": 9,
     "metadata": {},
     "output_type": "execute_result"
    }
   ],
   "source": [
    "df_arc.isna().sum()"
   ]
  },
  {
   "cell_type": "code",
   "execution_count": 10,
   "metadata": {
    "pycharm": {
     "name": "#%%\n"
    }
   },
   "outputs": [
    {
     "data": {
      "text/plain": [
       "0"
      ]
     },
     "execution_count": 10,
     "metadata": {},
     "output_type": "execute_result"
    }
   ],
   "source": [
    "df_arc.duplicated().sum()"
   ]
  },
  {
   "cell_type": "markdown",
   "metadata": {
    "pycharm": {
     "name": "#%% md\n"
    }
   },
   "source": [
    "Пропусков и дубликатов нет"
   ]
  },
  {
   "cell_type": "code",
   "execution_count": 11,
   "metadata": {
    "pycharm": {
     "name": "#%%\n"
    }
   },
   "outputs": [
    {
     "data": {
      "text/plain": [
       "(array([ 33.,  88., 151., 199., 337., 476., 624., 590., 597., 738., 895.,\n",
       "        984., 844., 740., 612., 541., 488., 466., 410., 419., 429., 390.,\n",
       "        302., 302., 280., 259., 234., 199., 212., 201., 174., 172., 148.,\n",
       "        136., 122., 125., 101.,  88.,  80.,  57.,  60.,  56.,  47.,  39.,\n",
       "         42.,  30.,  41.,  19.,  21.,  32.,  22.,  22.,  20.,  14.,  13.,\n",
       "         15.,  19.,  10.,  10.,  10.,   5.,   6.,   7.,   7.,   5.,   8.,\n",
       "          4.,   7.,   6.,   3.,   7.,   4.,   1.,   4.,   2.,   2.,   1.,\n",
       "          1.,   2.,   2.,   1.,   2.,   0.,   1.,   2.,   0.,   0.,   0.,\n",
       "          0.,   0.,   0.,   0.,   0.,   0.,   0.,   0.,   0.,   0.,   0.,\n",
       "          1.]),\n",
       " array([0.03000194, 0.06701788, 0.10403382, 0.14104976, 0.17806571,\n",
       "        0.21508165, 0.25209759, 0.28911353, 0.32612947, 0.36314541,\n",
       "        0.40016136, 0.4371773 , 0.47419324, 0.51120918, 0.54822512,\n",
       "        0.58524106, 0.62225701, 0.65927295, 0.69628889, 0.73330483,\n",
       "        0.77032077, 0.80733671, 0.84435266, 0.8813686 , 0.91838454,\n",
       "        0.95540048, 0.99241642, 1.02943237, 1.06644831, 1.10346425,\n",
       "        1.14048019, 1.17749613, 1.21451207, 1.25152802, 1.28854396,\n",
       "        1.3255599 , 1.36257584, 1.39959178, 1.43660772, 1.47362367,\n",
       "        1.51063961, 1.54765555, 1.58467149, 1.62168743, 1.65870337,\n",
       "        1.69571932, 1.73273526, 1.7697512 , 1.80676714, 1.84378308,\n",
       "        1.88079903, 1.91781497, 1.95483091, 1.99184685, 2.02886279,\n",
       "        2.06587873, 2.10289468, 2.13991062, 2.17692656, 2.2139425 ,\n",
       "        2.25095844, 2.28797438, 2.32499033, 2.36200627, 2.39902221,\n",
       "        2.43603815, 2.47305409, 2.51007003, 2.54708598, 2.58410192,\n",
       "        2.62111786, 2.6581338 , 2.69514974, 2.73216569, 2.76918163,\n",
       "        2.80619757, 2.84321351, 2.88022945, 2.91724539, 2.95426134,\n",
       "        2.99127728, 3.02829322, 3.06530916, 3.1023251 , 3.13934104,\n",
       "        3.17635699, 3.21337293, 3.25038887, 3.28740481, 3.32442075,\n",
       "        3.36143669, 3.39845264, 3.43546858, 3.47248452, 3.50950046,\n",
       "        3.5465164 , 3.58353235, 3.62054829, 3.65756423, 3.69458017,\n",
       "        3.73159611]),\n",
       " <BarContainer object of 100 artists>)"
      ]
     },
     "execution_count": 11,
     "metadata": {},
     "output_type": "execute_result"
    },
    {
     "data": {
      "image/png": "[encoded data removed]",
      "text/plain": [
       "<Figure size 432x288 with 1 Axes>"
      ]
     },
     "metadata": {
      "needs_background": "light"
     },
     "output_type": "display_data"
    }
   ],
   "source": [
    "axes = plt.axes()\n",
    "axes.set_xlim([0, 3])\n",
    "plt.title('Распределение активной мощности')\n",
    "plt.xlabel(\"Active power\")\n",
    "plt.ylabel(\"Frequency\")\n",
    "plt.axvline(df_arc['active_power'].mean(),\n",
    "            color='k',\n",
    "            linestyle='dashed',\n",
    "            linewidth=1,\n",
    "            label=f'Mean ({df_arc[\"active_power\"].mean().round()})')\n",
    "plt.axvline(df_arc['active_power'].median(),\n",
    "            color='r',\n",
    "            linestyle='dashed',\n",
    "            linewidth=1,\n",
    "            label=f'Median ({df_arc[\"active_power\"].median()})')\n",
    "plt.legend()\n",
    "plt.hist(df_arc['active_power'],\n",
    "         bins=100,\n",
    "         edgecolor='k')"
   ]
  },
  {
   "cell_type": "markdown",
   "metadata": {
    "pycharm": {
     "name": "#%% md\n"
    }
   },
   "source": [
    "Распределение активной мощности скошено вправо"
   ]
  },
  {
   "cell_type": "code",
   "execution_count": 12,
   "metadata": {
    "pycharm": {
     "name": "#%%\n"
    }
   },
   "outputs": [
    {
     "data": {
      "text/plain": [
       "Text(0, 0.5, 'power')"
      ]
     },
     "execution_count": 12,
     "metadata": {},
     "output_type": "execute_result"
    },
    {
     "data": {
      "image/png": "[encoded data removed]",
      "text/plain": [
       "<Figure size 432x288 with 1 Axes>"
      ]
     },
     "metadata": {
      "needs_background": "light"
     },
     "output_type": "display_data"
    }
   ],
   "source": [
    "df_arc.boxplot(column=['active_power', 'reactive_power'], return_type='axes')\n",
    "plt.title('Powers boxplot')\n",
    "plt.ylabel('power')"
   ]
  },
  {
   "cell_type": "markdown",
   "metadata": {
    "pycharm": {
     "name": "#%% md\n"
    }
   },
   "source": [
    "Есть выбросы с экстремально большими и малыми значениями, в следующей части будем их удалять или попробуем заполнить медианой по партии."
   ]
  },
  {
   "cell_type": "code",
   "execution_count": 13,
   "metadata": {
    "pycharm": {
     "name": "#%%\n"
    }
   },
   "outputs": [
    {
     "data": {
      "text/plain": [
       "(array([1., 0., 0., ..., 1., 0., 1.]),\n",
       " array([-715.50492418, -715.43310605, -715.36128792, ...,    2.53275129,\n",
       "           2.60456942,    2.67638755]),\n",
       " <BarContainer object of 10000 artists>)"
      ]
     },
     "execution_count": 13,
     "metadata": {},
     "output_type": "execute_result"
    },
    {
     "data": {
      "image/png": "[encoded data removed]",
      "text/plain": [
       "<Figure size 432x288 with 1 Axes>"
      ]
     },
     "metadata": {
      "needs_background": "light"
     },
     "output_type": "display_data"
    }
   ],
   "source": [
    "axes = plt.axes()\n",
    "axes.set_xlim([0, 3])\n",
    "plt.title('Распределение реактивной мощности')\n",
    "plt.xlabel(\"Reactive power\")\n",
    "plt.ylabel(\"Frequency\")\n",
    "plt.axvline(df_arc['reactive_power'].mean(),\n",
    "            color='k',\n",
    "            linestyle='dashed',\n",
    "            linewidth=1,\n",
    "            label=f'Mean ({df_arc[\"reactive_power\"].mean().round()})')\n",
    "plt.axvline(df_arc['reactive_power'].median(),\n",
    "            color='r',\n",
    "            linestyle='dashed',\n",
    "            linewidth=1,\n",
    "            label=f'Median ({df_arc[\"reactive_power\"].median()})')\n",
    "plt.legend()\n",
    "plt.hist(df_arc['reactive_power'],\n",
    "         bins=10000,\n",
    "         edgecolor='k')"
   ]
  },
  {
   "cell_type": "markdown",
   "metadata": {
    "pycharm": {
     "name": "#%% md\n"
    }
   },
   "source": [
    "Распределение реактивной мощности скошено вправо"
   ]
  },
  {
   "cell_type": "markdown",
   "metadata": {
    "pycharm": {
     "name": "#%% md\n"
    }
   },
   "source": [
    "В следующей части попробуем получить новый сборный признак - энергию(мощность на время) тк мощности мультиколинеарны"
   ]
  },
  {
   "cell_type": "markdown",
   "metadata": {
    "pycharm": {
     "name": "#%% md\n"
    }
   },
   "source": [
    "#### df_bulk"
   ]
  },
  {
   "cell_type": "code",
   "execution_count": 14,
   "metadata": {
    "pycharm": {
     "name": "#%%\n"
    }
   },
   "outputs": [
    {
     "data": {
      "text/html": [
       "<div>\n",
       "<style scoped>\n",
       "    .dataframe tbody tr th:only-of-type {\n",
       "        vertical-align: middle;\n",
       "    }\n",
       "\n",
       "    .dataframe tbody tr th {\n",
       "        vertical-align: top;\n",
       "    }\n",
       "\n",
       "    .dataframe thead th {\n",
       "        text-align: right;\n",
       "    }\n",
       "</style>\n",
       "<table border=\"1\" class=\"dataframe\">\n",
       "  <thead>\n",
       "    <tr style=\"text-align: right;\">\n",
       "      <th></th>\n",
       "      <th>key</th>\n",
       "      <th>Bulk 1</th>\n",
       "      <th>Bulk 2</th>\n",
       "      <th>Bulk 3</th>\n",
       "      <th>Bulk 4</th>\n",
       "      <th>Bulk 5</th>\n",
       "      <th>Bulk 6</th>\n",
       "      <th>Bulk 7</th>\n",
       "      <th>Bulk 8</th>\n",
       "      <th>Bulk 9</th>\n",
       "      <th>Bulk 10</th>\n",
       "      <th>Bulk 11</th>\n",
       "      <th>Bulk 12</th>\n",
       "      <th>Bulk 13</th>\n",
       "      <th>Bulk 14</th>\n",
       "      <th>Bulk 15</th>\n",
       "    </tr>\n",
       "  </thead>\n",
       "  <tbody>\n",
       "    <tr>\n",
       "      <th>0</th>\n",
       "      <td>1</td>\n",
       "      <td>NaN</td>\n",
       "      <td>NaN</td>\n",
       "      <td>NaN</td>\n",
       "      <td>43.00</td>\n",
       "      <td>NaN</td>\n",
       "      <td>NaN</td>\n",
       "      <td>NaN</td>\n",
       "      <td>NaN</td>\n",
       "      <td>NaN</td>\n",
       "      <td>NaN</td>\n",
       "      <td>NaN</td>\n",
       "      <td>206.00</td>\n",
       "      <td>NaN</td>\n",
       "      <td>150.00</td>\n",
       "      <td>154.00</td>\n",
       "    </tr>\n",
       "    <tr>\n",
       "      <th>1</th>\n",
       "      <td>2</td>\n",
       "      <td>NaN</td>\n",
       "      <td>NaN</td>\n",
       "      <td>NaN</td>\n",
       "      <td>73.00</td>\n",
       "      <td>NaN</td>\n",
       "      <td>NaN</td>\n",
       "      <td>NaN</td>\n",
       "      <td>NaN</td>\n",
       "      <td>NaN</td>\n",
       "      <td>NaN</td>\n",
       "      <td>NaN</td>\n",
       "      <td>206.00</td>\n",
       "      <td>NaN</td>\n",
       "      <td>149.00</td>\n",
       "      <td>154.00</td>\n",
       "    </tr>\n",
       "    <tr>\n",
       "      <th>2</th>\n",
       "      <td>3</td>\n",
       "      <td>NaN</td>\n",
       "      <td>NaN</td>\n",
       "      <td>NaN</td>\n",
       "      <td>34.00</td>\n",
       "      <td>NaN</td>\n",
       "      <td>NaN</td>\n",
       "      <td>NaN</td>\n",
       "      <td>NaN</td>\n",
       "      <td>NaN</td>\n",
       "      <td>NaN</td>\n",
       "      <td>NaN</td>\n",
       "      <td>205.00</td>\n",
       "      <td>NaN</td>\n",
       "      <td>152.00</td>\n",
       "      <td>153.00</td>\n",
       "    </tr>\n",
       "    <tr>\n",
       "      <th>3</th>\n",
       "      <td>4</td>\n",
       "      <td>NaN</td>\n",
       "      <td>NaN</td>\n",
       "      <td>NaN</td>\n",
       "      <td>81.00</td>\n",
       "      <td>NaN</td>\n",
       "      <td>NaN</td>\n",
       "      <td>NaN</td>\n",
       "      <td>NaN</td>\n",
       "      <td>NaN</td>\n",
       "      <td>NaN</td>\n",
       "      <td>NaN</td>\n",
       "      <td>207.00</td>\n",
       "      <td>NaN</td>\n",
       "      <td>153.00</td>\n",
       "      <td>154.00</td>\n",
       "    </tr>\n",
       "    <tr>\n",
       "      <th>4</th>\n",
       "      <td>5</td>\n",
       "      <td>NaN</td>\n",
       "      <td>NaN</td>\n",
       "      <td>NaN</td>\n",
       "      <td>78.00</td>\n",
       "      <td>NaN</td>\n",
       "      <td>NaN</td>\n",
       "      <td>NaN</td>\n",
       "      <td>NaN</td>\n",
       "      <td>NaN</td>\n",
       "      <td>NaN</td>\n",
       "      <td>NaN</td>\n",
       "      <td>203.00</td>\n",
       "      <td>NaN</td>\n",
       "      <td>151.00</td>\n",
       "      <td>152.00</td>\n",
       "    </tr>\n",
       "  </tbody>\n",
       "</table>\n",
       "</div>"
      ],
      "text/plain": [
       "   key  Bulk 1  Bulk 2  Bulk 3  Bulk 4  Bulk 5  Bulk 6  Bulk 7  Bulk 8  \\\n",
       "0    1     NaN     NaN     NaN   43.00     NaN     NaN     NaN     NaN   \n",
       "1    2     NaN     NaN     NaN   73.00     NaN     NaN     NaN     NaN   \n",
       "2    3     NaN     NaN     NaN   34.00     NaN     NaN     NaN     NaN   \n",
       "3    4     NaN     NaN     NaN   81.00     NaN     NaN     NaN     NaN   \n",
       "4    5     NaN     NaN     NaN   78.00     NaN     NaN     NaN     NaN   \n",
       "\n",
       "   Bulk 9  Bulk 10  Bulk 11  Bulk 12  Bulk 13  Bulk 14  Bulk 15  \n",
       "0     NaN      NaN      NaN   206.00      NaN   150.00   154.00  \n",
       "1     NaN      NaN      NaN   206.00      NaN   149.00   154.00  \n",
       "2     NaN      NaN      NaN   205.00      NaN   152.00   153.00  \n",
       "3     NaN      NaN      NaN   207.00      NaN   153.00   154.00  \n",
       "4     NaN      NaN      NaN   203.00      NaN   151.00   152.00  "
      ]
     },
     "execution_count": 14,
     "metadata": {},
     "output_type": "execute_result"
    }
   ],
   "source": [
    "#данные о подаче сыпучих материалов (объём)\n",
    "df_bulk.head()"
   ]
  },
  {
   "cell_type": "code",
   "execution_count": 15,
   "metadata": {
    "pycharm": {
     "name": "#%%\n"
    }
   },
   "outputs": [
    {
     "name": "stdout",
     "output_type": "stream",
     "text": [
      "<class 'pandas.core.frame.DataFrame'>\n",
      "RangeIndex: 3129 entries, 0 to 3128\n",
      "Data columns (total 16 columns):\n",
      " #   Column   Non-Null Count  Dtype  \n",
      "---  ------   --------------  -----  \n",
      " 0   key      3129 non-null   int64  \n",
      " 1   Bulk 1   252 non-null    float64\n",
      " 2   Bulk 2   22 non-null     float64\n",
      " 3   Bulk 3   1298 non-null   float64\n",
      " 4   Bulk 4   1014 non-null   float64\n",
      " 5   Bulk 5   77 non-null     float64\n",
      " 6   Bulk 6   576 non-null    float64\n",
      " 7   Bulk 7   25 non-null     float64\n",
      " 8   Bulk 8   1 non-null      float64\n",
      " 9   Bulk 9   19 non-null     float64\n",
      " 10  Bulk 10  176 non-null    float64\n",
      " 11  Bulk 11  177 non-null    float64\n",
      " 12  Bulk 12  2450 non-null   float64\n",
      " 13  Bulk 13  18 non-null     float64\n",
      " 14  Bulk 14  2806 non-null   float64\n",
      " 15  Bulk 15  2248 non-null   float64\n",
      "dtypes: float64(15), int64(1)\n",
      "memory usage: 391.2 KB\n"
     ]
    }
   ],
   "source": [
    "df_bulk.info()"
   ]
  },
  {
   "cell_type": "code",
   "execution_count": 16,
   "metadata": {
    "pycharm": {
     "name": "#%%\n"
    }
   },
   "outputs": [
    {
     "data": {
      "text/html": [
       "<div>\n",
       "<style scoped>\n",
       "    .dataframe tbody tr th:only-of-type {\n",
       "        vertical-align: middle;\n",
       "    }\n",
       "\n",
       "    .dataframe tbody tr th {\n",
       "        vertical-align: top;\n",
       "    }\n",
       "\n",
       "    .dataframe thead th {\n",
       "        text-align: right;\n",
       "    }\n",
       "</style>\n",
       "<table border=\"1\" class=\"dataframe\">\n",
       "  <thead>\n",
       "    <tr style=\"text-align: right;\">\n",
       "      <th></th>\n",
       "      <th>key</th>\n",
       "      <th>Bulk 1</th>\n",
       "      <th>Bulk 2</th>\n",
       "      <th>Bulk 3</th>\n",
       "      <th>Bulk 4</th>\n",
       "      <th>Bulk 5</th>\n",
       "      <th>Bulk 6</th>\n",
       "      <th>Bulk 7</th>\n",
       "      <th>Bulk 8</th>\n",
       "      <th>Bulk 9</th>\n",
       "      <th>Bulk 10</th>\n",
       "      <th>Bulk 11</th>\n",
       "      <th>Bulk 12</th>\n",
       "      <th>Bulk 13</th>\n",
       "      <th>Bulk 14</th>\n",
       "      <th>Bulk 15</th>\n",
       "    </tr>\n",
       "  </thead>\n",
       "  <tbody>\n",
       "    <tr>\n",
       "      <th>count</th>\n",
       "      <td>3,129.00</td>\n",
       "      <td>252.00</td>\n",
       "      <td>22.00</td>\n",
       "      <td>1,298.00</td>\n",
       "      <td>1,014.00</td>\n",
       "      <td>77.00</td>\n",
       "      <td>576.00</td>\n",
       "      <td>25.00</td>\n",
       "      <td>1.00</td>\n",
       "      <td>19.00</td>\n",
       "      <td>176.00</td>\n",
       "      <td>177.00</td>\n",
       "      <td>2,450.00</td>\n",
       "      <td>18.00</td>\n",
       "      <td>2,806.00</td>\n",
       "      <td>2,248.00</td>\n",
       "    </tr>\n",
       "    <tr>\n",
       "      <th>mean</th>\n",
       "      <td>1,624.38</td>\n",
       "      <td>39.24</td>\n",
       "      <td>253.05</td>\n",
       "      <td>113.88</td>\n",
       "      <td>104.39</td>\n",
       "      <td>107.03</td>\n",
       "      <td>118.93</td>\n",
       "      <td>305.60</td>\n",
       "      <td>49.00</td>\n",
       "      <td>76.32</td>\n",
       "      <td>83.28</td>\n",
       "      <td>76.82</td>\n",
       "      <td>260.47</td>\n",
       "      <td>181.11</td>\n",
       "      <td>170.28</td>\n",
       "      <td>160.51</td>\n",
       "    </tr>\n",
       "    <tr>\n",
       "      <th>std</th>\n",
       "      <td>933.34</td>\n",
       "      <td>18.28</td>\n",
       "      <td>21.18</td>\n",
       "      <td>75.48</td>\n",
       "      <td>48.18</td>\n",
       "      <td>81.79</td>\n",
       "      <td>72.06</td>\n",
       "      <td>191.02</td>\n",
       "      <td>NaN</td>\n",
       "      <td>21.72</td>\n",
       "      <td>26.06</td>\n",
       "      <td>59.66</td>\n",
       "      <td>120.65</td>\n",
       "      <td>46.09</td>\n",
       "      <td>65.87</td>\n",
       "      <td>51.77</td>\n",
       "    </tr>\n",
       "    <tr>\n",
       "      <th>min</th>\n",
       "      <td>1.00</td>\n",
       "      <td>10.00</td>\n",
       "      <td>228.00</td>\n",
       "      <td>6.00</td>\n",
       "      <td>12.00</td>\n",
       "      <td>11.00</td>\n",
       "      <td>17.00</td>\n",
       "      <td>47.00</td>\n",
       "      <td>49.00</td>\n",
       "      <td>63.00</td>\n",
       "      <td>24.00</td>\n",
       "      <td>8.00</td>\n",
       "      <td>53.00</td>\n",
       "      <td>151.00</td>\n",
       "      <td>16.00</td>\n",
       "      <td>1.00</td>\n",
       "    </tr>\n",
       "    <tr>\n",
       "      <th>25%</th>\n",
       "      <td>816.00</td>\n",
       "      <td>27.00</td>\n",
       "      <td>242.00</td>\n",
       "      <td>58.00</td>\n",
       "      <td>72.00</td>\n",
       "      <td>70.00</td>\n",
       "      <td>69.75</td>\n",
       "      <td>155.00</td>\n",
       "      <td>49.00</td>\n",
       "      <td>66.00</td>\n",
       "      <td>64.00</td>\n",
       "      <td>25.00</td>\n",
       "      <td>204.00</td>\n",
       "      <td>153.25</td>\n",
       "      <td>119.00</td>\n",
       "      <td>105.00</td>\n",
       "    </tr>\n",
       "    <tr>\n",
       "      <th>50%</th>\n",
       "      <td>1,622.00</td>\n",
       "      <td>31.00</td>\n",
       "      <td>251.50</td>\n",
       "      <td>97.50</td>\n",
       "      <td>102.00</td>\n",
       "      <td>86.00</td>\n",
       "      <td>100.00</td>\n",
       "      <td>298.00</td>\n",
       "      <td>49.00</td>\n",
       "      <td>68.00</td>\n",
       "      <td>86.50</td>\n",
       "      <td>64.00</td>\n",
       "      <td>208.00</td>\n",
       "      <td>155.50</td>\n",
       "      <td>151.00</td>\n",
       "      <td>160.00</td>\n",
       "    </tr>\n",
       "    <tr>\n",
       "      <th>75%</th>\n",
       "      <td>2,431.00</td>\n",
       "      <td>46.00</td>\n",
       "      <td>257.75</td>\n",
       "      <td>152.00</td>\n",
       "      <td>133.00</td>\n",
       "      <td>132.00</td>\n",
       "      <td>157.00</td>\n",
       "      <td>406.00</td>\n",
       "      <td>49.00</td>\n",
       "      <td>70.50</td>\n",
       "      <td>102.00</td>\n",
       "      <td>106.00</td>\n",
       "      <td>316.00</td>\n",
       "      <td>203.50</td>\n",
       "      <td>205.75</td>\n",
       "      <td>205.00</td>\n",
       "    </tr>\n",
       "    <tr>\n",
       "      <th>max</th>\n",
       "      <td>3,241.00</td>\n",
       "      <td>185.00</td>\n",
       "      <td>325.00</td>\n",
       "      <td>454.00</td>\n",
       "      <td>281.00</td>\n",
       "      <td>603.00</td>\n",
       "      <td>503.00</td>\n",
       "      <td>772.00</td>\n",
       "      <td>49.00</td>\n",
       "      <td>147.00</td>\n",
       "      <td>159.00</td>\n",
       "      <td>313.00</td>\n",
       "      <td>1,849.00</td>\n",
       "      <td>305.00</td>\n",
       "      <td>636.00</td>\n",
       "      <td>405.00</td>\n",
       "    </tr>\n",
       "  </tbody>\n",
       "</table>\n",
       "</div>"
      ],
      "text/plain": [
       "           key  Bulk 1  Bulk 2   Bulk 3   Bulk 4  Bulk 5  Bulk 6  Bulk 7  \\\n",
       "count 3,129.00  252.00   22.00 1,298.00 1,014.00   77.00  576.00   25.00   \n",
       "mean  1,624.38   39.24  253.05   113.88   104.39  107.03  118.93  305.60   \n",
       "std     933.34   18.28   21.18    75.48    48.18   81.79   72.06  191.02   \n",
       "min       1.00   10.00  228.00     6.00    12.00   11.00   17.00   47.00   \n",
       "25%     816.00   27.00  242.00    58.00    72.00   70.00   69.75  155.00   \n",
       "50%   1,622.00   31.00  251.50    97.50   102.00   86.00  100.00  298.00   \n",
       "75%   2,431.00   46.00  257.75   152.00   133.00  132.00  157.00  406.00   \n",
       "max   3,241.00  185.00  325.00   454.00   281.00  603.00  503.00  772.00   \n",
       "\n",
       "       Bulk 8  Bulk 9  Bulk 10  Bulk 11  Bulk 12  Bulk 13  Bulk 14  Bulk 15  \n",
       "count    1.00   19.00   176.00   177.00 2,450.00    18.00 2,806.00 2,248.00  \n",
       "mean    49.00   76.32    83.28    76.82   260.47   181.11   170.28   160.51  \n",
       "std       NaN   21.72    26.06    59.66   120.65    46.09    65.87    51.77  \n",
       "min     49.00   63.00    24.00     8.00    53.00   151.00    16.00     1.00  \n",
       "25%     49.00   66.00    64.00    25.00   204.00   153.25   119.00   105.00  \n",
       "50%     49.00   68.00    86.50    64.00   208.00   155.50   151.00   160.00  \n",
       "75%     49.00   70.50   102.00   106.00   316.00   203.50   205.75   205.00  \n",
       "max     49.00  147.00   159.00   313.00 1,849.00   305.00   636.00   405.00  "
      ]
     },
     "execution_count": 16,
     "metadata": {},
     "output_type": "execute_result"
    }
   ],
   "source": [
    "df_bulk.describe()"
   ]
  },
  {
   "cell_type": "code",
   "execution_count": 17,
   "metadata": {
    "pycharm": {
     "name": "#%%\n"
    }
   },
   "outputs": [
    {
     "data": {
      "text/plain": [
       "Index(['key', 'Bulk 1', 'Bulk 2', 'Bulk 3', 'Bulk 4', 'Bulk 5', 'Bulk 6',\n",
       "       'Bulk 7', 'Bulk 8', 'Bulk 9', 'Bulk 10', 'Bulk 11', 'Bulk 12',\n",
       "       'Bulk 13', 'Bulk 14', 'Bulk 15'],\n",
       "      dtype='object')"
      ]
     },
     "execution_count": 17,
     "metadata": {},
     "output_type": "execute_result"
    }
   ],
   "source": [
    "df_bulk.columns"
   ]
  },
  {
   "cell_type": "markdown",
   "metadata": {
    "pycharm": {
     "name": "#%% md\n"
    }
   },
   "source": [
    "Переименуем названия столбцов"
   ]
  },
  {
   "cell_type": "code",
   "execution_count": 18,
   "metadata": {
    "pycharm": {
     "name": "#%%\n"
    }
   },
   "outputs": [],
   "source": [
    "for i in range(1, len(df_bulk.columns)):\n",
    "    df_bulk = df_bulk.rename(columns={df_bulk.columns[i]:f'bulk_{i}'})"
   ]
  },
  {
   "cell_type": "code",
   "execution_count": 19,
   "metadata": {
    "pycharm": {
     "name": "#%%\n"
    }
   },
   "outputs": [
    {
     "data": {
      "text/plain": [
       "Index(['key', 'bulk_1', 'bulk_2', 'bulk_3', 'bulk_4', 'bulk_5', 'bulk_6',\n",
       "       'bulk_7', 'bulk_8', 'bulk_9', 'bulk_10', 'bulk_11', 'bulk_12',\n",
       "       'bulk_13', 'bulk_14', 'bulk_15'],\n",
       "      dtype='object')"
      ]
     },
     "execution_count": 19,
     "metadata": {},
     "output_type": "execute_result"
    }
   ],
   "source": [
    "df_bulk.columns"
   ]
  },
  {
   "cell_type": "markdown",
   "metadata": {
    "pycharm": {
     "name": "#%% md\n"
    }
   },
   "source": [
    "Проверим на пропуски и явные дубликаты"
   ]
  },
  {
   "cell_type": "code",
   "execution_count": 20,
   "metadata": {
    "pycharm": {
     "name": "#%%\n"
    }
   },
   "outputs": [
    {
     "data": {
      "text/plain": [
       "key           0\n",
       "bulk_1     2877\n",
       "bulk_2     3107\n",
       "bulk_3     1831\n",
       "bulk_4     2115\n",
       "bulk_5     3052\n",
       "bulk_6     2553\n",
       "bulk_7     3104\n",
       "bulk_8     3128\n",
       "bulk_9     3110\n",
       "bulk_10    2953\n",
       "bulk_11    2952\n",
       "bulk_12     679\n",
       "bulk_13    3111\n",
       "bulk_14     323\n",
       "bulk_15     881\n",
       "dtype: int64"
      ]
     },
     "execution_count": 20,
     "metadata": {},
     "output_type": "execute_result"
    }
   ],
   "source": [
    "df_bulk.isna().sum()"
   ]
  },
  {
   "cell_type": "code",
   "execution_count": 21,
   "metadata": {
    "pycharm": {
     "name": "#%%\n"
    }
   },
   "outputs": [
    {
     "data": {
      "text/plain": [
       "0"
      ]
     },
     "execution_count": 21,
     "metadata": {},
     "output_type": "execute_result"
    }
   ],
   "source": [
    "df_bulk.duplicated().sum()"
   ]
  },
  {
   "cell_type": "markdown",
   "metadata": {
    "pycharm": {
     "name": "#%% md\n"
    }
   },
   "source": [
    "В следующей части разные присадки просуммируем и сделать общий bulk на партию"
   ]
  },
  {
   "cell_type": "markdown",
   "metadata": {
    "pycharm": {
     "name": "#%% md\n"
    }
   },
   "source": [
    "#### df_bulk_time"
   ]
  },
  {
   "cell_type": "code",
   "execution_count": 22,
   "metadata": {
    "pycharm": {
     "name": "#%%\n"
    }
   },
   "outputs": [
    {
     "data": {
      "text/html": [
       "<div>\n",
       "<style scoped>\n",
       "    .dataframe tbody tr th:only-of-type {\n",
       "        vertical-align: middle;\n",
       "    }\n",
       "\n",
       "    .dataframe tbody tr th {\n",
       "        vertical-align: top;\n",
       "    }\n",
       "\n",
       "    .dataframe thead th {\n",
       "        text-align: right;\n",
       "    }\n",
       "</style>\n",
       "<table border=\"1\" class=\"dataframe\">\n",
       "  <thead>\n",
       "    <tr style=\"text-align: right;\">\n",
       "      <th></th>\n",
       "      <th>key</th>\n",
       "      <th>Bulk 1</th>\n",
       "      <th>Bulk 2</th>\n",
       "      <th>Bulk 3</th>\n",
       "      <th>Bulk 4</th>\n",
       "      <th>Bulk 5</th>\n",
       "      <th>Bulk 6</th>\n",
       "      <th>Bulk 7</th>\n",
       "      <th>Bulk 8</th>\n",
       "      <th>Bulk 9</th>\n",
       "      <th>Bulk 10</th>\n",
       "      <th>Bulk 11</th>\n",
       "      <th>Bulk 12</th>\n",
       "      <th>Bulk 13</th>\n",
       "      <th>Bulk 14</th>\n",
       "      <th>Bulk 15</th>\n",
       "    </tr>\n",
       "  </thead>\n",
       "  <tbody>\n",
       "    <tr>\n",
       "      <th>0</th>\n",
       "      <td>1</td>\n",
       "      <td>NaN</td>\n",
       "      <td>NaN</td>\n",
       "      <td>NaN</td>\n",
       "      <td>2019-05-03 11:21:30</td>\n",
       "      <td>NaN</td>\n",
       "      <td>NaN</td>\n",
       "      <td>NaN</td>\n",
       "      <td>NaN</td>\n",
       "      <td>NaN</td>\n",
       "      <td>NaN</td>\n",
       "      <td>NaN</td>\n",
       "      <td>2019-05-03 11:03:52</td>\n",
       "      <td>NaN</td>\n",
       "      <td>2019-05-03 11:03:52</td>\n",
       "      <td>2019-05-03 11:03:52</td>\n",
       "    </tr>\n",
       "    <tr>\n",
       "      <th>1</th>\n",
       "      <td>2</td>\n",
       "      <td>NaN</td>\n",
       "      <td>NaN</td>\n",
       "      <td>NaN</td>\n",
       "      <td>2019-05-03 11:46:38</td>\n",
       "      <td>NaN</td>\n",
       "      <td>NaN</td>\n",
       "      <td>NaN</td>\n",
       "      <td>NaN</td>\n",
       "      <td>NaN</td>\n",
       "      <td>NaN</td>\n",
       "      <td>NaN</td>\n",
       "      <td>2019-05-03 11:40:20</td>\n",
       "      <td>NaN</td>\n",
       "      <td>2019-05-03 11:40:20</td>\n",
       "      <td>2019-05-03 11:40:20</td>\n",
       "    </tr>\n",
       "    <tr>\n",
       "      <th>2</th>\n",
       "      <td>3</td>\n",
       "      <td>NaN</td>\n",
       "      <td>NaN</td>\n",
       "      <td>NaN</td>\n",
       "      <td>2019-05-03 12:31:06</td>\n",
       "      <td>NaN</td>\n",
       "      <td>NaN</td>\n",
       "      <td>NaN</td>\n",
       "      <td>NaN</td>\n",
       "      <td>NaN</td>\n",
       "      <td>NaN</td>\n",
       "      <td>NaN</td>\n",
       "      <td>2019-05-03 12:09:40</td>\n",
       "      <td>NaN</td>\n",
       "      <td>2019-05-03 12:09:40</td>\n",
       "      <td>2019-05-03 12:09:40</td>\n",
       "    </tr>\n",
       "    <tr>\n",
       "      <th>3</th>\n",
       "      <td>4</td>\n",
       "      <td>NaN</td>\n",
       "      <td>NaN</td>\n",
       "      <td>NaN</td>\n",
       "      <td>2019-05-03 12:48:43</td>\n",
       "      <td>NaN</td>\n",
       "      <td>NaN</td>\n",
       "      <td>NaN</td>\n",
       "      <td>NaN</td>\n",
       "      <td>NaN</td>\n",
       "      <td>NaN</td>\n",
       "      <td>NaN</td>\n",
       "      <td>2019-05-03 12:41:24</td>\n",
       "      <td>NaN</td>\n",
       "      <td>2019-05-03 12:41:24</td>\n",
       "      <td>2019-05-03 12:41:24</td>\n",
       "    </tr>\n",
       "    <tr>\n",
       "      <th>4</th>\n",
       "      <td>5</td>\n",
       "      <td>NaN</td>\n",
       "      <td>NaN</td>\n",
       "      <td>NaN</td>\n",
       "      <td>2019-05-03 13:18:50</td>\n",
       "      <td>NaN</td>\n",
       "      <td>NaN</td>\n",
       "      <td>NaN</td>\n",
       "      <td>NaN</td>\n",
       "      <td>NaN</td>\n",
       "      <td>NaN</td>\n",
       "      <td>NaN</td>\n",
       "      <td>2019-05-03 13:12:56</td>\n",
       "      <td>NaN</td>\n",
       "      <td>2019-05-03 13:12:56</td>\n",
       "      <td>2019-05-03 13:12:56</td>\n",
       "    </tr>\n",
       "  </tbody>\n",
       "</table>\n",
       "</div>"
      ],
      "text/plain": [
       "   key Bulk 1 Bulk 2 Bulk 3               Bulk 4 Bulk 5 Bulk 6 Bulk 7 Bulk 8  \\\n",
       "0    1    NaN    NaN    NaN  2019-05-03 11:21:30    NaN    NaN    NaN    NaN   \n",
       "1    2    NaN    NaN    NaN  2019-05-03 11:46:38    NaN    NaN    NaN    NaN   \n",
       "2    3    NaN    NaN    NaN  2019-05-03 12:31:06    NaN    NaN    NaN    NaN   \n",
       "3    4    NaN    NaN    NaN  2019-05-03 12:48:43    NaN    NaN    NaN    NaN   \n",
       "4    5    NaN    NaN    NaN  2019-05-03 13:18:50    NaN    NaN    NaN    NaN   \n",
       "\n",
       "  Bulk 9 Bulk 10 Bulk 11              Bulk 12 Bulk 13              Bulk 14  \\\n",
       "0    NaN     NaN     NaN  2019-05-03 11:03:52     NaN  2019-05-03 11:03:52   \n",
       "1    NaN     NaN     NaN  2019-05-03 11:40:20     NaN  2019-05-03 11:40:20   \n",
       "2    NaN     NaN     NaN  2019-05-03 12:09:40     NaN  2019-05-03 12:09:40   \n",
       "3    NaN     NaN     NaN  2019-05-03 12:41:24     NaN  2019-05-03 12:41:24   \n",
       "4    NaN     NaN     NaN  2019-05-03 13:12:56     NaN  2019-05-03 13:12:56   \n",
       "\n",
       "               Bulk 15  \n",
       "0  2019-05-03 11:03:52  \n",
       "1  2019-05-03 11:40:20  \n",
       "2  2019-05-03 12:09:40  \n",
       "3  2019-05-03 12:41:24  \n",
       "4  2019-05-03 13:12:56  "
      ]
     },
     "execution_count": 22,
     "metadata": {},
     "output_type": "execute_result"
    }
   ],
   "source": [
    "#данные о подаче сыпучих материалов (время)\n",
    "df_bulk_time.head()"
   ]
  },
  {
   "cell_type": "code",
   "execution_count": 23,
   "metadata": {
    "pycharm": {
     "name": "#%%\n"
    }
   },
   "outputs": [
    {
     "name": "stdout",
     "output_type": "stream",
     "text": [
      "<class 'pandas.core.frame.DataFrame'>\n",
      "RangeIndex: 3129 entries, 0 to 3128\n",
      "Data columns (total 16 columns):\n",
      " #   Column   Non-Null Count  Dtype \n",
      "---  ------   --------------  ----- \n",
      " 0   key      3129 non-null   int64 \n",
      " 1   Bulk 1   252 non-null    object\n",
      " 2   Bulk 2   22 non-null     object\n",
      " 3   Bulk 3   1298 non-null   object\n",
      " 4   Bulk 4   1014 non-null   object\n",
      " 5   Bulk 5   77 non-null     object\n",
      " 6   Bulk 6   576 non-null    object\n",
      " 7   Bulk 7   25 non-null     object\n",
      " 8   Bulk 8   1 non-null      object\n",
      " 9   Bulk 9   19 non-null     object\n",
      " 10  Bulk 10  176 non-null    object\n",
      " 11  Bulk 11  177 non-null    object\n",
      " 12  Bulk 12  2450 non-null   object\n",
      " 13  Bulk 13  18 non-null     object\n",
      " 14  Bulk 14  2806 non-null   object\n",
      " 15  Bulk 15  2248 non-null   object\n",
      "dtypes: int64(1), object(15)\n",
      "memory usage: 391.2+ KB\n"
     ]
    }
   ],
   "source": [
    "df_bulk_time.info()"
   ]
  },
  {
   "cell_type": "code",
   "execution_count": 24,
   "metadata": {
    "pycharm": {
     "name": "#%%\n"
    }
   },
   "outputs": [
    {
     "data": {
      "text/html": [
       "<div>\n",
       "<style scoped>\n",
       "    .dataframe tbody tr th:only-of-type {\n",
       "        vertical-align: middle;\n",
       "    }\n",
       "\n",
       "    .dataframe tbody tr th {\n",
       "        vertical-align: top;\n",
       "    }\n",
       "\n",
       "    .dataframe thead th {\n",
       "        text-align: right;\n",
       "    }\n",
       "</style>\n",
       "<table border=\"1\" class=\"dataframe\">\n",
       "  <thead>\n",
       "    <tr style=\"text-align: right;\">\n",
       "      <th></th>\n",
       "      <th>key</th>\n",
       "    </tr>\n",
       "  </thead>\n",
       "  <tbody>\n",
       "    <tr>\n",
       "      <th>count</th>\n",
       "      <td>3,129.00</td>\n",
       "    </tr>\n",
       "    <tr>\n",
       "      <th>mean</th>\n",
       "      <td>1,624.38</td>\n",
       "    </tr>\n",
       "    <tr>\n",
       "      <th>std</th>\n",
       "      <td>933.34</td>\n",
       "    </tr>\n",
       "    <tr>\n",
       "      <th>min</th>\n",
       "      <td>1.00</td>\n",
       "    </tr>\n",
       "    <tr>\n",
       "      <th>25%</th>\n",
       "      <td>816.00</td>\n",
       "    </tr>\n",
       "    <tr>\n",
       "      <th>50%</th>\n",
       "      <td>1,622.00</td>\n",
       "    </tr>\n",
       "    <tr>\n",
       "      <th>75%</th>\n",
       "      <td>2,431.00</td>\n",
       "    </tr>\n",
       "    <tr>\n",
       "      <th>max</th>\n",
       "      <td>3,241.00</td>\n",
       "    </tr>\n",
       "  </tbody>\n",
       "</table>\n",
       "</div>"
      ],
      "text/plain": [
       "           key\n",
       "count 3,129.00\n",
       "mean  1,624.38\n",
       "std     933.34\n",
       "min       1.00\n",
       "25%     816.00\n",
       "50%   1,622.00\n",
       "75%   2,431.00\n",
       "max   3,241.00"
      ]
     },
     "execution_count": 24,
     "metadata": {},
     "output_type": "execute_result"
    }
   ],
   "source": [
    "df_bulk_time.describe()"
   ]
  },
  {
   "cell_type": "code",
   "execution_count": 25,
   "metadata": {
    "pycharm": {
     "name": "#%%\n"
    }
   },
   "outputs": [
    {
     "data": {
      "text/plain": [
       "Index(['key', 'Bulk 1', 'Bulk 2', 'Bulk 3', 'Bulk 4', 'Bulk 5', 'Bulk 6',\n",
       "       'Bulk 7', 'Bulk 8', 'Bulk 9', 'Bulk 10', 'Bulk 11', 'Bulk 12',\n",
       "       'Bulk 13', 'Bulk 14', 'Bulk 15'],\n",
       "      dtype='object')"
      ]
     },
     "execution_count": 25,
     "metadata": {},
     "output_type": "execute_result"
    }
   ],
   "source": [
    "df_bulk_time.columns"
   ]
  },
  {
   "cell_type": "markdown",
   "metadata": {
    "pycharm": {
     "name": "#%% md\n"
    }
   },
   "source": [
    "Переименуем названия столбцов"
   ]
  },
  {
   "cell_type": "code",
   "execution_count": 26,
   "metadata": {
    "pycharm": {
     "name": "#%%\n"
    }
   },
   "outputs": [],
   "source": [
    "for i in range(1, len(df_bulk_time.columns)):\n",
    "    df_bulk_time = df_bulk_time.rename(columns={df_bulk_time.columns[i]:f'bulk_{i}'})"
   ]
  },
  {
   "cell_type": "code",
   "execution_count": 27,
   "metadata": {
    "pycharm": {
     "name": "#%%\n"
    }
   },
   "outputs": [
    {
     "data": {
      "text/plain": [
       "Index(['key', 'bulk_1', 'bulk_2', 'bulk_3', 'bulk_4', 'bulk_5', 'bulk_6',\n",
       "       'bulk_7', 'bulk_8', 'bulk_9', 'bulk_10', 'bulk_11', 'bulk_12',\n",
       "       'bulk_13', 'bulk_14', 'bulk_15'],\n",
       "      dtype='object')"
      ]
     },
     "execution_count": 27,
     "metadata": {},
     "output_type": "execute_result"
    }
   ],
   "source": [
    "df_bulk_time.columns"
   ]
  },
  {
   "cell_type": "markdown",
   "metadata": {
    "pycharm": {
     "name": "#%% md\n"
    }
   },
   "source": [
    "Данные о подаче сыпучих материалов (время) будем использовать, чтобы разложить процесс по времени"
   ]
  },
  {
   "cell_type": "markdown",
   "metadata": {
    "pycharm": {
     "name": "#%% md\n"
    }
   },
   "source": [
    "#### df_gas"
   ]
  },
  {
   "cell_type": "code",
   "execution_count": 28,
   "metadata": {
    "pycharm": {
     "name": "#%%\n"
    }
   },
   "outputs": [
    {
     "data": {
      "text/html": [
       "<div>\n",
       "<style scoped>\n",
       "    .dataframe tbody tr th:only-of-type {\n",
       "        vertical-align: middle;\n",
       "    }\n",
       "\n",
       "    .dataframe tbody tr th {\n",
       "        vertical-align: top;\n",
       "    }\n",
       "\n",
       "    .dataframe thead th {\n",
       "        text-align: right;\n",
       "    }\n",
       "</style>\n",
       "<table border=\"1\" class=\"dataframe\">\n",
       "  <thead>\n",
       "    <tr style=\"text-align: right;\">\n",
       "      <th></th>\n",
       "      <th>key</th>\n",
       "      <th>Газ 1</th>\n",
       "    </tr>\n",
       "  </thead>\n",
       "  <tbody>\n",
       "    <tr>\n",
       "      <th>0</th>\n",
       "      <td>1</td>\n",
       "      <td>29.75</td>\n",
       "    </tr>\n",
       "    <tr>\n",
       "      <th>1</th>\n",
       "      <td>2</td>\n",
       "      <td>12.56</td>\n",
       "    </tr>\n",
       "    <tr>\n",
       "      <th>2</th>\n",
       "      <td>3</td>\n",
       "      <td>28.55</td>\n",
       "    </tr>\n",
       "    <tr>\n",
       "      <th>3</th>\n",
       "      <td>4</td>\n",
       "      <td>18.84</td>\n",
       "    </tr>\n",
       "    <tr>\n",
       "      <th>4</th>\n",
       "      <td>5</td>\n",
       "      <td>5.41</td>\n",
       "    </tr>\n",
       "  </tbody>\n",
       "</table>\n",
       "</div>"
      ],
      "text/plain": [
       "   key  Газ 1\n",
       "0    1  29.75\n",
       "1    2  12.56\n",
       "2    3  28.55\n",
       "3    4  18.84\n",
       "4    5   5.41"
      ]
     },
     "execution_count": 28,
     "metadata": {},
     "output_type": "execute_result"
    }
   ],
   "source": [
    "#данные о продувке сплава газом\n",
    "df_gas.head()"
   ]
  },
  {
   "cell_type": "code",
   "execution_count": 29,
   "metadata": {
    "pycharm": {
     "name": "#%%\n"
    }
   },
   "outputs": [
    {
     "name": "stdout",
     "output_type": "stream",
     "text": [
      "<class 'pandas.core.frame.DataFrame'>\n",
      "RangeIndex: 3239 entries, 0 to 3238\n",
      "Data columns (total 2 columns):\n",
      " #   Column  Non-Null Count  Dtype  \n",
      "---  ------  --------------  -----  \n",
      " 0   key     3239 non-null   int64  \n",
      " 1   Газ 1   3239 non-null   float64\n",
      "dtypes: float64(1), int64(1)\n",
      "memory usage: 50.7 KB\n"
     ]
    }
   ],
   "source": [
    "df_gas.info()"
   ]
  },
  {
   "cell_type": "code",
   "execution_count": 30,
   "metadata": {
    "pycharm": {
     "name": "#%%\n"
    }
   },
   "outputs": [
    {
     "data": {
      "text/html": [
       "<div>\n",
       "<style scoped>\n",
       "    .dataframe tbody tr th:only-of-type {\n",
       "        vertical-align: middle;\n",
       "    }\n",
       "\n",
       "    .dataframe tbody tr th {\n",
       "        vertical-align: top;\n",
       "    }\n",
       "\n",
       "    .dataframe thead th {\n",
       "        text-align: right;\n",
       "    }\n",
       "</style>\n",
       "<table border=\"1\" class=\"dataframe\">\n",
       "  <thead>\n",
       "    <tr style=\"text-align: right;\">\n",
       "      <th></th>\n",
       "      <th>key</th>\n",
       "      <th>Газ 1</th>\n",
       "    </tr>\n",
       "  </thead>\n",
       "  <tbody>\n",
       "    <tr>\n",
       "      <th>count</th>\n",
       "      <td>3,239.00</td>\n",
       "      <td>3,239.00</td>\n",
       "    </tr>\n",
       "    <tr>\n",
       "      <th>mean</th>\n",
       "      <td>1,621.86</td>\n",
       "      <td>11.00</td>\n",
       "    </tr>\n",
       "    <tr>\n",
       "      <th>std</th>\n",
       "      <td>935.39</td>\n",
       "      <td>6.22</td>\n",
       "    </tr>\n",
       "    <tr>\n",
       "      <th>min</th>\n",
       "      <td>1.00</td>\n",
       "      <td>0.01</td>\n",
       "    </tr>\n",
       "    <tr>\n",
       "      <th>25%</th>\n",
       "      <td>812.50</td>\n",
       "      <td>7.04</td>\n",
       "    </tr>\n",
       "    <tr>\n",
       "      <th>50%</th>\n",
       "      <td>1,622.00</td>\n",
       "      <td>9.84</td>\n",
       "    </tr>\n",
       "    <tr>\n",
       "      <th>75%</th>\n",
       "      <td>2,431.50</td>\n",
       "      <td>13.77</td>\n",
       "    </tr>\n",
       "    <tr>\n",
       "      <th>max</th>\n",
       "      <td>3,241.00</td>\n",
       "      <td>78.00</td>\n",
       "    </tr>\n",
       "  </tbody>\n",
       "</table>\n",
       "</div>"
      ],
      "text/plain": [
       "           key    Газ 1\n",
       "count 3,239.00 3,239.00\n",
       "mean  1,621.86    11.00\n",
       "std     935.39     6.22\n",
       "min       1.00     0.01\n",
       "25%     812.50     7.04\n",
       "50%   1,622.00     9.84\n",
       "75%   2,431.50    13.77\n",
       "max   3,241.00    78.00"
      ]
     },
     "execution_count": 30,
     "metadata": {},
     "output_type": "execute_result"
    }
   ],
   "source": [
    "df_gas.describe()"
   ]
  },
  {
   "cell_type": "code",
   "execution_count": 31,
   "metadata": {
    "pycharm": {
     "name": "#%%\n"
    }
   },
   "outputs": [
    {
     "data": {
      "text/plain": [
       "Index(['key', 'Газ 1'], dtype='object')"
      ]
     },
     "execution_count": 31,
     "metadata": {},
     "output_type": "execute_result"
    }
   ],
   "source": [
    "df_gas.columns"
   ]
  },
  {
   "cell_type": "markdown",
   "metadata": {
    "pycharm": {
     "name": "#%% md\n"
    }
   },
   "source": [
    "Переименуем названия столбцов"
   ]
  },
  {
   "cell_type": "code",
   "execution_count": 32,
   "metadata": {
    "pycharm": {
     "name": "#%%\n"
    }
   },
   "outputs": [],
   "source": [
    "df_gas = df_gas.rename(columns={'Газ 1':'gas'})"
   ]
  },
  {
   "cell_type": "markdown",
   "metadata": {
    "pycharm": {
     "name": "#%% md\n"
    }
   },
   "source": [
    "Проверим на пропуски и явные дубликаты"
   ]
  },
  {
   "cell_type": "code",
   "execution_count": 33,
   "metadata": {
    "pycharm": {
     "name": "#%%\n"
    }
   },
   "outputs": [
    {
     "data": {
      "text/plain": [
       "key    0\n",
       "gas    0\n",
       "dtype: int64"
      ]
     },
     "execution_count": 33,
     "metadata": {},
     "output_type": "execute_result"
    }
   ],
   "source": [
    "df_gas.isna().sum()"
   ]
  },
  {
   "cell_type": "code",
   "execution_count": 34,
   "metadata": {
    "pycharm": {
     "name": "#%%\n"
    }
   },
   "outputs": [
    {
     "data": {
      "text/plain": [
       "0"
      ]
     },
     "execution_count": 34,
     "metadata": {},
     "output_type": "execute_result"
    }
   ],
   "source": [
    "df_gas.duplicated().sum()"
   ]
  },
  {
   "cell_type": "code",
   "execution_count": 35,
   "metadata": {
    "pycharm": {
     "name": "#%%\n"
    }
   },
   "outputs": [
    {
     "data": {
      "text/plain": [
       "(array([ 17.,  34.,  50.,  58.,  66.,  93., 115., 161., 213., 242., 223.,\n",
       "        217., 231., 203., 162., 144., 132., 112., 101.,  93.,  80.,  63.,\n",
       "         65.,  52.,  41.,  24.,  42.,  21.,  21.,  29.,  18.,  13.,  14.,\n",
       "         11.,   8.,   4.,  10.,   6.,  10.,   6.,   5.,   5.,   3.,   4.,\n",
       "          1.,   2.,   0.,   1.,   0.,   2.,   3.,   0.,   0.,   1.,   0.,\n",
       "          1.,   0.,   0.,   1.,   0.,   0.,   0.,   0.,   0.,   1.,   1.,\n",
       "          1.,   0.,   0.,   0.,   0.,   0.,   0.,   0.,   0.,   0.,   0.,\n",
       "          0.,   1.,   0.,   0.,   0.,   0.,   0.,   0.,   0.,   0.,   0.,\n",
       "          0.,   0.,   0.,   0.,   0.,   0.,   0.,   0.,   0.,   0.,   0.,\n",
       "          1.]),\n",
       " array([8.39852910e-03, 7.88264940e-01, 1.56813135e+00, 2.34799776e+00,\n",
       "        3.12786417e+00, 3.90773059e+00, 4.68759700e+00, 5.46746341e+00,\n",
       "        6.24732982e+00, 7.02719623e+00, 7.80706264e+00, 8.58692905e+00,\n",
       "        9.36679547e+00, 1.01466619e+01, 1.09265283e+01, 1.17063947e+01,\n",
       "        1.24862611e+01, 1.32661275e+01, 1.40459939e+01, 1.48258603e+01,\n",
       "        1.56057268e+01, 1.63855932e+01, 1.71654596e+01, 1.79453260e+01,\n",
       "        1.87251924e+01, 1.95050588e+01, 2.02849252e+01, 2.10647916e+01,\n",
       "        2.18446580e+01, 2.26245245e+01, 2.34043909e+01, 2.41842573e+01,\n",
       "        2.49641237e+01, 2.57439901e+01, 2.65238565e+01, 2.73037229e+01,\n",
       "        2.80835893e+01, 2.88634557e+01, 2.96433222e+01, 3.04231886e+01,\n",
       "        3.12030550e+01, 3.19829214e+01, 3.27627878e+01, 3.35426542e+01,\n",
       "        3.43225206e+01, 3.51023870e+01, 3.58822535e+01, 3.66621199e+01,\n",
       "        3.74419863e+01, 3.82218527e+01, 3.90017191e+01, 3.97815855e+01,\n",
       "        4.05614519e+01, 4.13413183e+01, 4.21211847e+01, 4.29010512e+01,\n",
       "        4.36809176e+01, 4.44607840e+01, 4.52406504e+01, 4.60205168e+01,\n",
       "        4.68003832e+01, 4.75802496e+01, 4.83601160e+01, 4.91399824e+01,\n",
       "        4.99198489e+01, 5.06997153e+01, 5.14795817e+01, 5.22594481e+01,\n",
       "        5.30393145e+01, 5.38191809e+01, 5.45990473e+01, 5.53789137e+01,\n",
       "        5.61587801e+01, 5.69386466e+01, 5.77185130e+01, 5.84983794e+01,\n",
       "        5.92782458e+01, 6.00581122e+01, 6.08379786e+01, 6.16178450e+01,\n",
       "        6.23977114e+01, 6.31775778e+01, 6.39574443e+01, 6.47373107e+01,\n",
       "        6.55171771e+01, 6.62970435e+01, 6.70769099e+01, 6.78567763e+01,\n",
       "        6.86366427e+01, 6.94165091e+01, 7.01963755e+01, 7.09762420e+01,\n",
       "        7.17561084e+01, 7.25359748e+01, 7.33158412e+01, 7.40957076e+01,\n",
       "        7.48755740e+01, 7.56554404e+01, 7.64353068e+01, 7.72151733e+01,\n",
       "        7.79950397e+01]),\n",
       " <BarContainer object of 100 artists>)"
      ]
     },
     "execution_count": 35,
     "metadata": {},
     "output_type": "execute_result"
    },
    {
     "data": {
      "image/png": "[encoded data removed]",
      "text/plain": [
       "<Figure size 432x288 with 1 Axes>"
      ]
     },
     "metadata": {
      "needs_background": "light"
     },
     "output_type": "display_data"
    }
   ],
   "source": [
    "axes = plt.axes()\n",
    "axes.set_xlim([0, 50])\n",
    "plt.title('Распределение газа для продувки')\n",
    "plt.xlabel(\"Gas\")\n",
    "plt.ylabel(\"Frequency\")\n",
    "plt.axvline(df_gas['gas'].mean(),\n",
    "            color='k',\n",
    "            linestyle='dashed',\n",
    "            linewidth=1,\n",
    "            label=f'Mean ({df_gas[\"gas\"].mean().round()})')\n",
    "plt.axvline(df_gas['gas'].median(),\n",
    "            color='r',\n",
    "            linestyle='dashed',\n",
    "            linewidth=1,\n",
    "            label=f'Median ({df_gas[\"gas\"].median()})')\n",
    "plt.legend()\n",
    "plt.hist(df_gas['gas'],\n",
    "         bins=100,\n",
    "         edgecolor='k')"
   ]
  },
  {
   "cell_type": "code",
   "execution_count": 36,
   "metadata": {
    "pycharm": {
     "name": "#%%\n"
    }
   },
   "outputs": [
    {
     "data": {
      "text/plain": [
       "Text(0, 0.5, 'gas')"
      ]
     },
     "execution_count": 36,
     "metadata": {},
     "output_type": "execute_result"
    },
    {
     "data": {
      "image/png": "[encoded data removed]",
      "text/plain": [
       "<Figure size 432x288 with 1 Axes>"
      ]
     },
     "metadata": {
      "needs_background": "light"
     },
     "output_type": "display_data"
    }
   ],
   "source": [
    "df_gas.boxplot(column=['gas'], return_type='axes')\n",
    "plt.title('Gas boxplot')\n",
    "plt.ylabel('gas')"
   ]
  },
  {
   "cell_type": "markdown",
   "metadata": {
    "pycharm": {
     "name": "#%% md\n"
    }
   },
   "source": [
    "Распределение газа для продувки скошено вправо, есть выбросы"
   ]
  },
  {
   "cell_type": "markdown",
   "metadata": {
    "pycharm": {
     "name": "#%% md\n"
    }
   },
   "source": [
    "#### df_temp"
   ]
  },
  {
   "cell_type": "code",
   "execution_count": 37,
   "metadata": {
    "pycharm": {
     "name": "#%%\n"
    }
   },
   "outputs": [
    {
     "data": {
      "text/html": [
       "<div>\n",
       "<style scoped>\n",
       "    .dataframe tbody tr th:only-of-type {\n",
       "        vertical-align: middle;\n",
       "    }\n",
       "\n",
       "    .dataframe tbody tr th {\n",
       "        vertical-align: top;\n",
       "    }\n",
       "\n",
       "    .dataframe thead th {\n",
       "        text-align: right;\n",
       "    }\n",
       "</style>\n",
       "<table border=\"1\" class=\"dataframe\">\n",
       "  <thead>\n",
       "    <tr style=\"text-align: right;\">\n",
       "      <th></th>\n",
       "      <th>key</th>\n",
       "      <th>Время замера</th>\n",
       "      <th>Температура</th>\n",
       "    </tr>\n",
       "  </thead>\n",
       "  <tbody>\n",
       "    <tr>\n",
       "      <th>0</th>\n",
       "      <td>1</td>\n",
       "      <td>2019-05-03 11:16:18</td>\n",
       "      <td>1,571.00</td>\n",
       "    </tr>\n",
       "    <tr>\n",
       "      <th>1</th>\n",
       "      <td>1</td>\n",
       "      <td>2019-05-03 11:25:53</td>\n",
       "      <td>1,604.00</td>\n",
       "    </tr>\n",
       "    <tr>\n",
       "      <th>2</th>\n",
       "      <td>1</td>\n",
       "      <td>2019-05-03 11:29:11</td>\n",
       "      <td>1,618.00</td>\n",
       "    </tr>\n",
       "    <tr>\n",
       "      <th>3</th>\n",
       "      <td>1</td>\n",
       "      <td>2019-05-03 11:30:01</td>\n",
       "      <td>1,601.00</td>\n",
       "    </tr>\n",
       "    <tr>\n",
       "      <th>4</th>\n",
       "      <td>1</td>\n",
       "      <td>2019-05-03 11:30:39</td>\n",
       "      <td>1,613.00</td>\n",
       "    </tr>\n",
       "  </tbody>\n",
       "</table>\n",
       "</div>"
      ],
      "text/plain": [
       "   key         Время замера  Температура\n",
       "0    1  2019-05-03 11:16:18     1,571.00\n",
       "1    1  2019-05-03 11:25:53     1,604.00\n",
       "2    1  2019-05-03 11:29:11     1,618.00\n",
       "3    1  2019-05-03 11:30:01     1,601.00\n",
       "4    1  2019-05-03 11:30:39     1,613.00"
      ]
     },
     "execution_count": 37,
     "metadata": {},
     "output_type": "execute_result"
    }
   ],
   "source": [
    "#результаты измерения температуры (target)\n",
    "#df_temp = pd.read_csv('data_temp.csv')\n",
    "df_temp.head()"
   ]
  },
  {
   "cell_type": "code",
   "execution_count": 38,
   "metadata": {
    "pycharm": {
     "name": "#%%\n"
    }
   },
   "outputs": [
    {
     "name": "stdout",
     "output_type": "stream",
     "text": [
      "<class 'pandas.core.frame.DataFrame'>\n",
      "RangeIndex: 15907 entries, 0 to 15906\n",
      "Data columns (total 3 columns):\n",
      " #   Column        Non-Null Count  Dtype  \n",
      "---  ------        --------------  -----  \n",
      " 0   key           15907 non-null  int64  \n",
      " 1   Время замера  15907 non-null  object \n",
      " 2   Температура   13006 non-null  float64\n",
      "dtypes: float64(1), int64(1), object(1)\n",
      "memory usage: 372.9+ KB\n"
     ]
    }
   ],
   "source": [
    "df_temp.info()"
   ]
  },
  {
   "cell_type": "code",
   "execution_count": 39,
   "metadata": {
    "pycharm": {
     "name": "#%%\n"
    }
   },
   "outputs": [
    {
     "data": {
      "text/html": [
       "<div>\n",
       "<style scoped>\n",
       "    .dataframe tbody tr th:only-of-type {\n",
       "        vertical-align: middle;\n",
       "    }\n",
       "\n",
       "    .dataframe tbody tr th {\n",
       "        vertical-align: top;\n",
       "    }\n",
       "\n",
       "    .dataframe thead th {\n",
       "        text-align: right;\n",
       "    }\n",
       "</style>\n",
       "<table border=\"1\" class=\"dataframe\">\n",
       "  <thead>\n",
       "    <tr style=\"text-align: right;\">\n",
       "      <th></th>\n",
       "      <th>key</th>\n",
       "      <th>Температура</th>\n",
       "    </tr>\n",
       "  </thead>\n",
       "  <tbody>\n",
       "    <tr>\n",
       "      <th>count</th>\n",
       "      <td>15,907.00</td>\n",
       "      <td>13,006.00</td>\n",
       "    </tr>\n",
       "    <tr>\n",
       "      <th>mean</th>\n",
       "      <td>1,607.88</td>\n",
       "      <td>1,591.84</td>\n",
       "    </tr>\n",
       "    <tr>\n",
       "      <th>std</th>\n",
       "      <td>942.21</td>\n",
       "      <td>21.38</td>\n",
       "    </tr>\n",
       "    <tr>\n",
       "      <th>min</th>\n",
       "      <td>1.00</td>\n",
       "      <td>1,191.00</td>\n",
       "    </tr>\n",
       "    <tr>\n",
       "      <th>25%</th>\n",
       "      <td>790.00</td>\n",
       "      <td>1,581.00</td>\n",
       "    </tr>\n",
       "    <tr>\n",
       "      <th>50%</th>\n",
       "      <td>1,618.00</td>\n",
       "      <td>1,591.00</td>\n",
       "    </tr>\n",
       "    <tr>\n",
       "      <th>75%</th>\n",
       "      <td>2,427.00</td>\n",
       "      <td>1,601.00</td>\n",
       "    </tr>\n",
       "    <tr>\n",
       "      <th>max</th>\n",
       "      <td>3,241.00</td>\n",
       "      <td>1,705.00</td>\n",
       "    </tr>\n",
       "  </tbody>\n",
       "</table>\n",
       "</div>"
      ],
      "text/plain": [
       "            key  Температура\n",
       "count 15,907.00    13,006.00\n",
       "mean   1,607.88     1,591.84\n",
       "std      942.21        21.38\n",
       "min        1.00     1,191.00\n",
       "25%      790.00     1,581.00\n",
       "50%    1,618.00     1,591.00\n",
       "75%    2,427.00     1,601.00\n",
       "max    3,241.00     1,705.00"
      ]
     },
     "execution_count": 39,
     "metadata": {},
     "output_type": "execute_result"
    }
   ],
   "source": [
    "df_temp.describe()"
   ]
  },
  {
   "cell_type": "code",
   "execution_count": 40,
   "metadata": {
    "pycharm": {
     "name": "#%%\n"
    }
   },
   "outputs": [
    {
     "data": {
      "text/plain": [
       "Index(['key', 'Время замера', 'Температура'], dtype='object')"
      ]
     },
     "execution_count": 40,
     "metadata": {},
     "output_type": "execute_result"
    }
   ],
   "source": [
    "df_temp.columns"
   ]
  },
  {
   "cell_type": "markdown",
   "metadata": {
    "pycharm": {
     "name": "#%% md\n"
    }
   },
   "source": [
    "Переименуем названия столбцов"
   ]
  },
  {
   "cell_type": "code",
   "execution_count": 41,
   "metadata": {
    "pycharm": {
     "name": "#%%\n"
    }
   },
   "outputs": [],
   "source": [
    "df_temp = df_temp.rename(columns={'Время замера':'time',\n",
    "                                  'Температура':'temperature'})"
   ]
  },
  {
   "cell_type": "markdown",
   "metadata": {
    "pycharm": {
     "name": "#%% md\n"
    }
   },
   "source": [
    "Проверим на пропуски и явные дубликаты"
   ]
  },
  {
   "cell_type": "code",
   "execution_count": 42,
   "metadata": {
    "pycharm": {
     "name": "#%%\n"
    }
   },
   "outputs": [
    {
     "data": {
      "text/plain": [
       "key               0\n",
       "time              0\n",
       "temperature    2901\n",
       "dtype: int64"
      ]
     },
     "execution_count": 42,
     "metadata": {},
     "output_type": "execute_result"
    }
   ],
   "source": [
    "df_temp.isna().sum()"
   ]
  },
  {
   "cell_type": "code",
   "execution_count": 43,
   "metadata": {
    "pycharm": {
     "name": "#%%\n"
    }
   },
   "outputs": [
    {
     "data": {
      "text/plain": [
       "0"
      ]
     },
     "execution_count": 43,
     "metadata": {},
     "output_type": "execute_result"
    }
   ],
   "source": [
    "df_temp.duplicated().sum()"
   ]
  },
  {
   "cell_type": "code",
   "execution_count": 44,
   "metadata": {
    "pycharm": {
     "name": "#%%\n"
    }
   },
   "outputs": [
    {
     "data": {
      "text/plain": [
       "(array([1.000e+00, 0.000e+00, 1.000e+00, 1.000e+00, 0.000e+00, 1.000e+00,\n",
       "        0.000e+00, 1.000e+00, 0.000e+00, 0.000e+00, 0.000e+00, 0.000e+00,\n",
       "        0.000e+00, 0.000e+00, 0.000e+00, 0.000e+00, 0.000e+00, 0.000e+00,\n",
       "        0.000e+00, 0.000e+00, 0.000e+00, 0.000e+00, 0.000e+00, 0.000e+00,\n",
       "        0.000e+00, 0.000e+00, 0.000e+00, 0.000e+00, 0.000e+00, 0.000e+00,\n",
       "        0.000e+00, 0.000e+00, 0.000e+00, 0.000e+00, 0.000e+00, 0.000e+00,\n",
       "        0.000e+00, 2.000e+00, 0.000e+00, 0.000e+00, 0.000e+00, 0.000e+00,\n",
       "        0.000e+00, 0.000e+00, 0.000e+00, 0.000e+00, 0.000e+00, 0.000e+00,\n",
       "        0.000e+00, 0.000e+00, 0.000e+00, 0.000e+00, 0.000e+00, 0.000e+00,\n",
       "        0.000e+00, 0.000e+00, 0.000e+00, 0.000e+00, 0.000e+00, 0.000e+00,\n",
       "        0.000e+00, 0.000e+00, 0.000e+00, 1.000e+00, 4.000e+00, 1.400e+01,\n",
       "        2.500e+01, 4.300e+01, 6.000e+01, 9.400e+01, 1.260e+02, 2.480e+02,\n",
       "        3.330e+02, 5.340e+02, 8.740e+02, 1.081e+03, 1.386e+03, 1.858e+03,\n",
       "        2.185e+03, 1.199e+03, 7.470e+02, 5.750e+02, 5.030e+02, 3.430e+02,\n",
       "        1.940e+02, 1.320e+02, 9.400e+01, 7.300e+01, 7.400e+01, 6.000e+01,\n",
       "        3.400e+01, 3.300e+01, 2.000e+01, 1.400e+01, 1.700e+01, 1.200e+01,\n",
       "        0.000e+00, 4.000e+00, 1.000e+00, 4.000e+00]),\n",
       " array([1191.  , 1196.14, 1201.28, 1206.42, 1211.56, 1216.7 , 1221.84,\n",
       "        1226.98, 1232.12, 1237.26, 1242.4 , 1247.54, 1252.68, 1257.82,\n",
       "        1262.96, 1268.1 , 1273.24, 1278.38, 1283.52, 1288.66, 1293.8 ,\n",
       "        1298.94, 1304.08, 1309.22, 1314.36, 1319.5 , 1324.64, 1329.78,\n",
       "        1334.92, 1340.06, 1345.2 , 1350.34, 1355.48, 1360.62, 1365.76,\n",
       "        1370.9 , 1376.04, 1381.18, 1386.32, 1391.46, 1396.6 , 1401.74,\n",
       "        1406.88, 1412.02, 1417.16, 1422.3 , 1427.44, 1432.58, 1437.72,\n",
       "        1442.86, 1448.  , 1453.14, 1458.28, 1463.42, 1468.56, 1473.7 ,\n",
       "        1478.84, 1483.98, 1489.12, 1494.26, 1499.4 , 1504.54, 1509.68,\n",
       "        1514.82, 1519.96, 1525.1 , 1530.24, 1535.38, 1540.52, 1545.66,\n",
       "        1550.8 , 1555.94, 1561.08, 1566.22, 1571.36, 1576.5 , 1581.64,\n",
       "        1586.78, 1591.92, 1597.06, 1602.2 , 1607.34, 1612.48, 1617.62,\n",
       "        1622.76, 1627.9 , 1633.04, 1638.18, 1643.32, 1648.46, 1653.6 ,\n",
       "        1658.74, 1663.88, 1669.02, 1674.16, 1679.3 , 1684.44, 1689.58,\n",
       "        1694.72, 1699.86, 1705.  ]),\n",
       " <BarContainer object of 100 artists>)"
      ]
     },
     "execution_count": 44,
     "metadata": {},
     "output_type": "execute_result"
    },
    {
     "data": {
      "image/png": "[encoded data removed]",
      "text/plain": [
       "<Figure size 432x288 with 1 Axes>"
      ]
     },
     "metadata": {
      "needs_background": "light"
     },
     "output_type": "display_data"
    }
   ],
   "source": [
    "axes = plt.axes()\n",
    "axes.set_xlim([1500, 1750])\n",
    "plt.title('Распределение целевой температуры')\n",
    "plt.xlabel(\"Temperature\")\n",
    "plt.ylabel(\"Frequency\")\n",
    "plt.axvline(df_temp['temperature'].mean(),\n",
    "            color='k',\n",
    "            linestyle='dashed',\n",
    "            linewidth=1,\n",
    "            label=f'Mean ({df_temp[\"temperature\"].mean().round()})')\n",
    "plt.axvline(df_temp['temperature'].median(),\n",
    "            color='r',\n",
    "            linestyle='dashed',\n",
    "            linewidth=1,\n",
    "            label=f'Median ({df_temp[\"temperature\"].median()})')\n",
    "plt.legend()\n",
    "plt.hist(df_temp['temperature'],\n",
    "         bins=100,\n",
    "         edgecolor='k')"
   ]
  },
  {
   "cell_type": "code",
   "execution_count": 45,
   "metadata": {
    "pycharm": {
     "name": "#%%\n"
    }
   },
   "outputs": [
    {
     "data": {
      "text/plain": [
       "Text(0, 0.5, 'temperature')"
      ]
     },
     "execution_count": 45,
     "metadata": {},
     "output_type": "execute_result"
    },
    {
     "data": {
      "image/png": "[encoded data removed]",
      "text/plain": [
       "<Figure size 432x288 with 1 Axes>"
      ]
     },
     "metadata": {
      "needs_background": "light"
     },
     "output_type": "display_data"
    }
   ],
   "source": [
    "df_temp.boxplot(column=['temperature'], return_type='axes')\n",
    "plt.title('Temperature boxplot')\n",
    "plt.ylabel('temperature')"
   ]
  },
  {
   "cell_type": "markdown",
   "metadata": {
    "pycharm": {
     "name": "#%% md\n"
    }
   },
   "source": [
    "Обнаружили пропуски и выбросы в целевом признаке, в следующей части будем убирать из датафрейма всю партию.\n",
    "Если начальная температура и последняя равны, то будем удалять строку.\n",
    "Проверим наличие более двух замеров.\n",
    "Партии где после измерения последней температуры есть еще операции - присыпки - удалим."
   ]
  },
  {
   "cell_type": "markdown",
   "metadata": {
    "pycharm": {
     "name": "#%% md\n"
    }
   },
   "source": [
    "#### df_wire"
   ]
  },
  {
   "cell_type": "code",
   "execution_count": 46,
   "metadata": {
    "pycharm": {
     "name": "#%%\n"
    }
   },
   "outputs": [
    {
     "data": {
      "text/html": [
       "<div>\n",
       "<style scoped>\n",
       "    .dataframe tbody tr th:only-of-type {\n",
       "        vertical-align: middle;\n",
       "    }\n",
       "\n",
       "    .dataframe tbody tr th {\n",
       "        vertical-align: top;\n",
       "    }\n",
       "\n",
       "    .dataframe thead th {\n",
       "        text-align: right;\n",
       "    }\n",
       "</style>\n",
       "<table border=\"1\" class=\"dataframe\">\n",
       "  <thead>\n",
       "    <tr style=\"text-align: right;\">\n",
       "      <th></th>\n",
       "      <th>key</th>\n",
       "      <th>Wire 1</th>\n",
       "      <th>Wire 2</th>\n",
       "      <th>Wire 3</th>\n",
       "      <th>Wire 4</th>\n",
       "      <th>Wire 5</th>\n",
       "      <th>Wire 6</th>\n",
       "      <th>Wire 7</th>\n",
       "      <th>Wire 8</th>\n",
       "      <th>Wire 9</th>\n",
       "    </tr>\n",
       "  </thead>\n",
       "  <tbody>\n",
       "    <tr>\n",
       "      <th>0</th>\n",
       "      <td>1</td>\n",
       "      <td>60.06</td>\n",
       "      <td>NaN</td>\n",
       "      <td>NaN</td>\n",
       "      <td>NaN</td>\n",
       "      <td>NaN</td>\n",
       "      <td>NaN</td>\n",
       "      <td>NaN</td>\n",
       "      <td>NaN</td>\n",
       "      <td>NaN</td>\n",
       "    </tr>\n",
       "    <tr>\n",
       "      <th>1</th>\n",
       "      <td>2</td>\n",
       "      <td>96.05</td>\n",
       "      <td>NaN</td>\n",
       "      <td>NaN</td>\n",
       "      <td>NaN</td>\n",
       "      <td>NaN</td>\n",
       "      <td>NaN</td>\n",
       "      <td>NaN</td>\n",
       "      <td>NaN</td>\n",
       "      <td>NaN</td>\n",
       "    </tr>\n",
       "    <tr>\n",
       "      <th>2</th>\n",
       "      <td>3</td>\n",
       "      <td>91.16</td>\n",
       "      <td>NaN</td>\n",
       "      <td>NaN</td>\n",
       "      <td>NaN</td>\n",
       "      <td>NaN</td>\n",
       "      <td>NaN</td>\n",
       "      <td>NaN</td>\n",
       "      <td>NaN</td>\n",
       "      <td>NaN</td>\n",
       "    </tr>\n",
       "    <tr>\n",
       "      <th>3</th>\n",
       "      <td>4</td>\n",
       "      <td>89.06</td>\n",
       "      <td>NaN</td>\n",
       "      <td>NaN</td>\n",
       "      <td>NaN</td>\n",
       "      <td>NaN</td>\n",
       "      <td>NaN</td>\n",
       "      <td>NaN</td>\n",
       "      <td>NaN</td>\n",
       "      <td>NaN</td>\n",
       "    </tr>\n",
       "    <tr>\n",
       "      <th>4</th>\n",
       "      <td>5</td>\n",
       "      <td>89.24</td>\n",
       "      <td>9.11</td>\n",
       "      <td>NaN</td>\n",
       "      <td>NaN</td>\n",
       "      <td>NaN</td>\n",
       "      <td>NaN</td>\n",
       "      <td>NaN</td>\n",
       "      <td>NaN</td>\n",
       "      <td>NaN</td>\n",
       "    </tr>\n",
       "  </tbody>\n",
       "</table>\n",
       "</div>"
      ],
      "text/plain": [
       "   key  Wire 1  Wire 2  Wire 3  Wire 4  Wire 5  Wire 6  Wire 7  Wire 8  Wire 9\n",
       "0    1   60.06     NaN     NaN     NaN     NaN     NaN     NaN     NaN     NaN\n",
       "1    2   96.05     NaN     NaN     NaN     NaN     NaN     NaN     NaN     NaN\n",
       "2    3   91.16     NaN     NaN     NaN     NaN     NaN     NaN     NaN     NaN\n",
       "3    4   89.06     NaN     NaN     NaN     NaN     NaN     NaN     NaN     NaN\n",
       "4    5   89.24    9.11     NaN     NaN     NaN     NaN     NaN     NaN     NaN"
      ]
     },
     "execution_count": 46,
     "metadata": {},
     "output_type": "execute_result"
    }
   ],
   "source": [
    "#данные о проволочных материалах (объём)\n",
    "df_wire.head()"
   ]
  },
  {
   "cell_type": "code",
   "execution_count": 47,
   "metadata": {
    "pycharm": {
     "name": "#%%\n"
    }
   },
   "outputs": [
    {
     "name": "stdout",
     "output_type": "stream",
     "text": [
      "<class 'pandas.core.frame.DataFrame'>\n",
      "RangeIndex: 3081 entries, 0 to 3080\n",
      "Data columns (total 10 columns):\n",
      " #   Column  Non-Null Count  Dtype  \n",
      "---  ------  --------------  -----  \n",
      " 0   key     3081 non-null   int64  \n",
      " 1   Wire 1  3055 non-null   float64\n",
      " 2   Wire 2  1079 non-null   float64\n",
      " 3   Wire 3  63 non-null     float64\n",
      " 4   Wire 4  14 non-null     float64\n",
      " 5   Wire 5  1 non-null      float64\n",
      " 6   Wire 6  73 non-null     float64\n",
      " 7   Wire 7  11 non-null     float64\n",
      " 8   Wire 8  19 non-null     float64\n",
      " 9   Wire 9  29 non-null     float64\n",
      "dtypes: float64(9), int64(1)\n",
      "memory usage: 240.8 KB\n"
     ]
    }
   ],
   "source": [
    "df_wire.info()"
   ]
  },
  {
   "cell_type": "code",
   "execution_count": 48,
   "metadata": {
    "pycharm": {
     "name": "#%%\n"
    }
   },
   "outputs": [
    {
     "data": {
      "text/html": [
       "<div>\n",
       "<style scoped>\n",
       "    .dataframe tbody tr th:only-of-type {\n",
       "        vertical-align: middle;\n",
       "    }\n",
       "\n",
       "    .dataframe tbody tr th {\n",
       "        vertical-align: top;\n",
       "    }\n",
       "\n",
       "    .dataframe thead th {\n",
       "        text-align: right;\n",
       "    }\n",
       "</style>\n",
       "<table border=\"1\" class=\"dataframe\">\n",
       "  <thead>\n",
       "    <tr style=\"text-align: right;\">\n",
       "      <th></th>\n",
       "      <th>key</th>\n",
       "      <th>Wire 1</th>\n",
       "      <th>Wire 2</th>\n",
       "      <th>Wire 3</th>\n",
       "      <th>Wire 4</th>\n",
       "      <th>Wire 5</th>\n",
       "      <th>Wire 6</th>\n",
       "      <th>Wire 7</th>\n",
       "      <th>Wire 8</th>\n",
       "      <th>Wire 9</th>\n",
       "    </tr>\n",
       "  </thead>\n",
       "  <tbody>\n",
       "    <tr>\n",
       "      <th>count</th>\n",
       "      <td>3,081.00</td>\n",
       "      <td>3,055.00</td>\n",
       "      <td>1,079.00</td>\n",
       "      <td>63.00</td>\n",
       "      <td>14.00</td>\n",
       "      <td>1.00</td>\n",
       "      <td>73.00</td>\n",
       "      <td>11.00</td>\n",
       "      <td>19.00</td>\n",
       "      <td>29.00</td>\n",
       "    </tr>\n",
       "    <tr>\n",
       "      <th>mean</th>\n",
       "      <td>1,623.43</td>\n",
       "      <td>100.90</td>\n",
       "      <td>50.58</td>\n",
       "      <td>189.48</td>\n",
       "      <td>57.44</td>\n",
       "      <td>15.13</td>\n",
       "      <td>48.02</td>\n",
       "      <td>10.04</td>\n",
       "      <td>53.63</td>\n",
       "      <td>34.16</td>\n",
       "    </tr>\n",
       "    <tr>\n",
       "      <th>std</th>\n",
       "      <td>933.00</td>\n",
       "      <td>42.01</td>\n",
       "      <td>39.32</td>\n",
       "      <td>99.51</td>\n",
       "      <td>28.82</td>\n",
       "      <td>NaN</td>\n",
       "      <td>33.92</td>\n",
       "      <td>8.61</td>\n",
       "      <td>16.88</td>\n",
       "      <td>19.93</td>\n",
       "    </tr>\n",
       "    <tr>\n",
       "      <th>min</th>\n",
       "      <td>1.00</td>\n",
       "      <td>1.92</td>\n",
       "      <td>0.03</td>\n",
       "      <td>0.14</td>\n",
       "      <td>24.15</td>\n",
       "      <td>15.13</td>\n",
       "      <td>0.03</td>\n",
       "      <td>0.23</td>\n",
       "      <td>45.08</td>\n",
       "      <td>4.62</td>\n",
       "    </tr>\n",
       "    <tr>\n",
       "      <th>25%</th>\n",
       "      <td>823.00</td>\n",
       "      <td>72.12</td>\n",
       "      <td>20.19</td>\n",
       "      <td>95.14</td>\n",
       "      <td>40.81</td>\n",
       "      <td>15.13</td>\n",
       "      <td>25.05</td>\n",
       "      <td>6.76</td>\n",
       "      <td>46.09</td>\n",
       "      <td>22.06</td>\n",
       "    </tr>\n",
       "    <tr>\n",
       "      <th>50%</th>\n",
       "      <td>1,619.00</td>\n",
       "      <td>100.16</td>\n",
       "      <td>40.14</td>\n",
       "      <td>235.19</td>\n",
       "      <td>45.23</td>\n",
       "      <td>15.13</td>\n",
       "      <td>42.08</td>\n",
       "      <td>9.02</td>\n",
       "      <td>46.28</td>\n",
       "      <td>30.07</td>\n",
       "    </tr>\n",
       "    <tr>\n",
       "      <th>75%</th>\n",
       "      <td>2,434.00</td>\n",
       "      <td>126.06</td>\n",
       "      <td>70.23</td>\n",
       "      <td>276.25</td>\n",
       "      <td>76.12</td>\n",
       "      <td>15.13</td>\n",
       "      <td>64.21</td>\n",
       "      <td>11.89</td>\n",
       "      <td>48.09</td>\n",
       "      <td>43.86</td>\n",
       "    </tr>\n",
       "    <tr>\n",
       "      <th>max</th>\n",
       "      <td>3,241.00</td>\n",
       "      <td>330.31</td>\n",
       "      <td>282.78</td>\n",
       "      <td>385.01</td>\n",
       "      <td>113.23</td>\n",
       "      <td>15.13</td>\n",
       "      <td>180.45</td>\n",
       "      <td>32.85</td>\n",
       "      <td>102.76</td>\n",
       "      <td>90.05</td>\n",
       "    </tr>\n",
       "  </tbody>\n",
       "</table>\n",
       "</div>"
      ],
      "text/plain": [
       "           key   Wire 1   Wire 2  Wire 3  Wire 4  Wire 5  Wire 6  Wire 7  \\\n",
       "count 3,081.00 3,055.00 1,079.00   63.00   14.00    1.00   73.00   11.00   \n",
       "mean  1,623.43   100.90    50.58  189.48   57.44   15.13   48.02   10.04   \n",
       "std     933.00    42.01    39.32   99.51   28.82     NaN   33.92    8.61   \n",
       "min       1.00     1.92     0.03    0.14   24.15   15.13    0.03    0.23   \n",
       "25%     823.00    72.12    20.19   95.14   40.81   15.13   25.05    6.76   \n",
       "50%   1,619.00   100.16    40.14  235.19   45.23   15.13   42.08    9.02   \n",
       "75%   2,434.00   126.06    70.23  276.25   76.12   15.13   64.21   11.89   \n",
       "max   3,241.00   330.31   282.78  385.01  113.23   15.13  180.45   32.85   \n",
       "\n",
       "       Wire 8  Wire 9  \n",
       "count   19.00   29.00  \n",
       "mean    53.63   34.16  \n",
       "std     16.88   19.93  \n",
       "min     45.08    4.62  \n",
       "25%     46.09   22.06  \n",
       "50%     46.28   30.07  \n",
       "75%     48.09   43.86  \n",
       "max    102.76   90.05  "
      ]
     },
     "execution_count": 48,
     "metadata": {},
     "output_type": "execute_result"
    }
   ],
   "source": [
    "df_wire.describe()"
   ]
  },
  {
   "cell_type": "code",
   "execution_count": 49,
   "metadata": {
    "pycharm": {
     "name": "#%%\n"
    }
   },
   "outputs": [
    {
     "data": {
      "text/plain": [
       "Index(['key', 'Wire 1', 'Wire 2', 'Wire 3', 'Wire 4', 'Wire 5', 'Wire 6',\n",
       "       'Wire 7', 'Wire 8', 'Wire 9'],\n",
       "      dtype='object')"
      ]
     },
     "execution_count": 49,
     "metadata": {},
     "output_type": "execute_result"
    }
   ],
   "source": [
    "df_wire.columns"
   ]
  },
  {
   "cell_type": "markdown",
   "metadata": {
    "pycharm": {
     "name": "#%% md\n"
    }
   },
   "source": [
    "Переименуем названия столбцов"
   ]
  },
  {
   "cell_type": "code",
   "execution_count": 50,
   "metadata": {
    "pycharm": {
     "name": "#%%\n"
    }
   },
   "outputs": [],
   "source": [
    "for i in range(1, len(df_wire.columns)):\n",
    "    df_wire = df_wire.rename(columns={df_wire.columns[i]:f'wire_{i}'})"
   ]
  },
  {
   "cell_type": "markdown",
   "metadata": {
    "pycharm": {
     "name": "#%% md\n"
    }
   },
   "source": [
    "Проверим на пропуски и явные дубликаты"
   ]
  },
  {
   "cell_type": "code",
   "execution_count": 51,
   "metadata": {
    "pycharm": {
     "name": "#%%\n"
    }
   },
   "outputs": [
    {
     "data": {
      "text/plain": [
       "key          0\n",
       "wire_1      26\n",
       "wire_2    2002\n",
       "wire_3    3018\n",
       "wire_4    3067\n",
       "wire_5    3080\n",
       "wire_6    3008\n",
       "wire_7    3070\n",
       "wire_8    3062\n",
       "wire_9    3052\n",
       "dtype: int64"
      ]
     },
     "execution_count": 51,
     "metadata": {},
     "output_type": "execute_result"
    }
   ],
   "source": [
    "df_wire.isna().sum()"
   ]
  },
  {
   "cell_type": "code",
   "execution_count": 52,
   "metadata": {
    "pycharm": {
     "name": "#%%\n"
    }
   },
   "outputs": [
    {
     "data": {
      "text/plain": [
       "0"
      ]
     },
     "execution_count": 52,
     "metadata": {},
     "output_type": "execute_result"
    }
   ],
   "source": [
    "df_wire.duplicated().sum()"
   ]
  },
  {
   "cell_type": "markdown",
   "metadata": {
    "pycharm": {
     "name": "#%% md\n"
    }
   },
   "source": [
    "В следующей части разные присадки просуммируем и сделаем общий wire"
   ]
  },
  {
   "cell_type": "markdown",
   "metadata": {
    "pycharm": {
     "name": "#%% md\n"
    }
   },
   "source": [
    "#### df_wire_time"
   ]
  },
  {
   "cell_type": "code",
   "execution_count": 53,
   "metadata": {
    "pycharm": {
     "name": "#%%\n"
    }
   },
   "outputs": [
    {
     "data": {
      "text/html": [
       "<div>\n",
       "<style scoped>\n",
       "    .dataframe tbody tr th:only-of-type {\n",
       "        vertical-align: middle;\n",
       "    }\n",
       "\n",
       "    .dataframe tbody tr th {\n",
       "        vertical-align: top;\n",
       "    }\n",
       "\n",
       "    .dataframe thead th {\n",
       "        text-align: right;\n",
       "    }\n",
       "</style>\n",
       "<table border=\"1\" class=\"dataframe\">\n",
       "  <thead>\n",
       "    <tr style=\"text-align: right;\">\n",
       "      <th></th>\n",
       "      <th>key</th>\n",
       "      <th>Wire 1</th>\n",
       "      <th>Wire 2</th>\n",
       "      <th>Wire 3</th>\n",
       "      <th>Wire 4</th>\n",
       "      <th>Wire 5</th>\n",
       "      <th>Wire 6</th>\n",
       "      <th>Wire 7</th>\n",
       "      <th>Wire 8</th>\n",
       "      <th>Wire 9</th>\n",
       "    </tr>\n",
       "  </thead>\n",
       "  <tbody>\n",
       "    <tr>\n",
       "      <th>0</th>\n",
       "      <td>1</td>\n",
       "      <td>2019-05-03 11:11:41</td>\n",
       "      <td>NaN</td>\n",
       "      <td>NaN</td>\n",
       "      <td>NaN</td>\n",
       "      <td>NaN</td>\n",
       "      <td>NaN</td>\n",
       "      <td>NaN</td>\n",
       "      <td>NaN</td>\n",
       "      <td>NaN</td>\n",
       "    </tr>\n",
       "    <tr>\n",
       "      <th>1</th>\n",
       "      <td>2</td>\n",
       "      <td>2019-05-03 11:46:10</td>\n",
       "      <td>NaN</td>\n",
       "      <td>NaN</td>\n",
       "      <td>NaN</td>\n",
       "      <td>NaN</td>\n",
       "      <td>NaN</td>\n",
       "      <td>NaN</td>\n",
       "      <td>NaN</td>\n",
       "      <td>NaN</td>\n",
       "    </tr>\n",
       "    <tr>\n",
       "      <th>2</th>\n",
       "      <td>3</td>\n",
       "      <td>2019-05-03 12:13:47</td>\n",
       "      <td>NaN</td>\n",
       "      <td>NaN</td>\n",
       "      <td>NaN</td>\n",
       "      <td>NaN</td>\n",
       "      <td>NaN</td>\n",
       "      <td>NaN</td>\n",
       "      <td>NaN</td>\n",
       "      <td>NaN</td>\n",
       "    </tr>\n",
       "    <tr>\n",
       "      <th>3</th>\n",
       "      <td>4</td>\n",
       "      <td>2019-05-03 12:48:05</td>\n",
       "      <td>NaN</td>\n",
       "      <td>NaN</td>\n",
       "      <td>NaN</td>\n",
       "      <td>NaN</td>\n",
       "      <td>NaN</td>\n",
       "      <td>NaN</td>\n",
       "      <td>NaN</td>\n",
       "      <td>NaN</td>\n",
       "    </tr>\n",
       "    <tr>\n",
       "      <th>4</th>\n",
       "      <td>5</td>\n",
       "      <td>2019-05-03 13:18:15</td>\n",
       "      <td>2019-05-03 13:32:06</td>\n",
       "      <td>NaN</td>\n",
       "      <td>NaN</td>\n",
       "      <td>NaN</td>\n",
       "      <td>NaN</td>\n",
       "      <td>NaN</td>\n",
       "      <td>NaN</td>\n",
       "      <td>NaN</td>\n",
       "    </tr>\n",
       "  </tbody>\n",
       "</table>\n",
       "</div>"
      ],
      "text/plain": [
       "   key               Wire 1               Wire 2 Wire 3 Wire 4 Wire 5 Wire 6  \\\n",
       "0    1  2019-05-03 11:11:41                  NaN    NaN    NaN    NaN    NaN   \n",
       "1    2  2019-05-03 11:46:10                  NaN    NaN    NaN    NaN    NaN   \n",
       "2    3  2019-05-03 12:13:47                  NaN    NaN    NaN    NaN    NaN   \n",
       "3    4  2019-05-03 12:48:05                  NaN    NaN    NaN    NaN    NaN   \n",
       "4    5  2019-05-03 13:18:15  2019-05-03 13:32:06    NaN    NaN    NaN    NaN   \n",
       "\n",
       "  Wire 7 Wire 8 Wire 9  \n",
       "0    NaN    NaN    NaN  \n",
       "1    NaN    NaN    NaN  \n",
       "2    NaN    NaN    NaN  \n",
       "3    NaN    NaN    NaN  \n",
       "4    NaN    NaN    NaN  "
      ]
     },
     "execution_count": 53,
     "metadata": {},
     "output_type": "execute_result"
    }
   ],
   "source": [
    "#данные о проволочных материалах (время)\n",
    "#df_wire_time = pd.read_csv('data_wire_time.csv')\n",
    "df_wire_time.head()"
   ]
  },
  {
   "cell_type": "code",
   "execution_count": 54,
   "metadata": {
    "pycharm": {
     "name": "#%%\n"
    }
   },
   "outputs": [
    {
     "name": "stdout",
     "output_type": "stream",
     "text": [
      "<class 'pandas.core.frame.DataFrame'>\n",
      "RangeIndex: 3081 entries, 0 to 3080\n",
      "Data columns (total 10 columns):\n",
      " #   Column  Non-Null Count  Dtype \n",
      "---  ------  --------------  ----- \n",
      " 0   key     3081 non-null   int64 \n",
      " 1   Wire 1  3055 non-null   object\n",
      " 2   Wire 2  1079 non-null   object\n",
      " 3   Wire 3  63 non-null     object\n",
      " 4   Wire 4  14 non-null     object\n",
      " 5   Wire 5  1 non-null      object\n",
      " 6   Wire 6  73 non-null     object\n",
      " 7   Wire 7  11 non-null     object\n",
      " 8   Wire 8  19 non-null     object\n",
      " 9   Wire 9  29 non-null     object\n",
      "dtypes: int64(1), object(9)\n",
      "memory usage: 240.8+ KB\n"
     ]
    }
   ],
   "source": [
    "df_wire_time.info()"
   ]
  },
  {
   "cell_type": "code",
   "execution_count": 55,
   "metadata": {
    "pycharm": {
     "name": "#%%\n"
    }
   },
   "outputs": [
    {
     "data": {
      "text/html": [
       "<div>\n",
       "<style scoped>\n",
       "    .dataframe tbody tr th:only-of-type {\n",
       "        vertical-align: middle;\n",
       "    }\n",
       "\n",
       "    .dataframe tbody tr th {\n",
       "        vertical-align: top;\n",
       "    }\n",
       "\n",
       "    .dataframe thead th {\n",
       "        text-align: right;\n",
       "    }\n",
       "</style>\n",
       "<table border=\"1\" class=\"dataframe\">\n",
       "  <thead>\n",
       "    <tr style=\"text-align: right;\">\n",
       "      <th></th>\n",
       "      <th>key</th>\n",
       "    </tr>\n",
       "  </thead>\n",
       "  <tbody>\n",
       "    <tr>\n",
       "      <th>count</th>\n",
       "      <td>3,081.00</td>\n",
       "    </tr>\n",
       "    <tr>\n",
       "      <th>mean</th>\n",
       "      <td>1,623.43</td>\n",
       "    </tr>\n",
       "    <tr>\n",
       "      <th>std</th>\n",
       "      <td>933.00</td>\n",
       "    </tr>\n",
       "    <tr>\n",
       "      <th>min</th>\n",
       "      <td>1.00</td>\n",
       "    </tr>\n",
       "    <tr>\n",
       "      <th>25%</th>\n",
       "      <td>823.00</td>\n",
       "    </tr>\n",
       "    <tr>\n",
       "      <th>50%</th>\n",
       "      <td>1,619.00</td>\n",
       "    </tr>\n",
       "    <tr>\n",
       "      <th>75%</th>\n",
       "      <td>2,434.00</td>\n",
       "    </tr>\n",
       "    <tr>\n",
       "      <th>max</th>\n",
       "      <td>3,241.00</td>\n",
       "    </tr>\n",
       "  </tbody>\n",
       "</table>\n",
       "</div>"
      ],
      "text/plain": [
       "           key\n",
       "count 3,081.00\n",
       "mean  1,623.43\n",
       "std     933.00\n",
       "min       1.00\n",
       "25%     823.00\n",
       "50%   1,619.00\n",
       "75%   2,434.00\n",
       "max   3,241.00"
      ]
     },
     "execution_count": 55,
     "metadata": {},
     "output_type": "execute_result"
    }
   ],
   "source": [
    "df_wire_time.describe()"
   ]
  },
  {
   "cell_type": "code",
   "execution_count": 56,
   "metadata": {
    "pycharm": {
     "name": "#%%\n"
    }
   },
   "outputs": [
    {
     "data": {
      "text/plain": [
       "Index(['key', 'Wire 1', 'Wire 2', 'Wire 3', 'Wire 4', 'Wire 5', 'Wire 6',\n",
       "       'Wire 7', 'Wire 8', 'Wire 9'],\n",
       "      dtype='object')"
      ]
     },
     "execution_count": 56,
     "metadata": {},
     "output_type": "execute_result"
    }
   ],
   "source": [
    "df_wire_time.columns"
   ]
  },
  {
   "cell_type": "markdown",
   "metadata": {
    "pycharm": {
     "name": "#%% md\n"
    }
   },
   "source": [
    "Переименуем названия столбцов"
   ]
  },
  {
   "cell_type": "code",
   "execution_count": 57,
   "metadata": {
    "pycharm": {
     "name": "#%%\n"
    }
   },
   "outputs": [],
   "source": [
    "for i in range(1, len(df_wire_time.columns)):\n",
    "    df_wire_time = df_wire_time.rename(columns={df_wire_time.columns[i]:f'wire_{i}'})"
   ]
  },
  {
   "cell_type": "code",
   "execution_count": 58,
   "metadata": {
    "pycharm": {
     "name": "#%%\n"
    }
   },
   "outputs": [
    {
     "data": {
      "text/plain": [
       "key          0\n",
       "wire_1      26\n",
       "wire_2    2002\n",
       "wire_3    3018\n",
       "wire_4    3067\n",
       "wire_5    3080\n",
       "wire_6    3008\n",
       "wire_7    3070\n",
       "wire_8    3062\n",
       "wire_9    3052\n",
       "dtype: int64"
      ]
     },
     "execution_count": 58,
     "metadata": {},
     "output_type": "execute_result"
    }
   ],
   "source": [
    "df_wire_time.isna().sum()"
   ]
  },
  {
   "cell_type": "code",
   "execution_count": 59,
   "metadata": {
    "pycharm": {
     "name": "#%%\n"
    }
   },
   "outputs": [
    {
     "data": {
      "text/plain": [
       "0"
      ]
     },
     "execution_count": 59,
     "metadata": {},
     "output_type": "execute_result"
    }
   ],
   "source": [
    "df_wire_time.duplicated().sum()"
   ]
  },
  {
   "cell_type": "markdown",
   "metadata": {
    "pycharm": {
     "name": "#%% md\n"
    }
   },
   "source": [
    "Данные о проволочных материалах (время) будем использовать, чтобы разложить процесс по времени"
   ]
  },
  {
   "cell_type": "markdown",
   "metadata": {
    "pycharm": {
     "name": "#%% md\n"
    }
   },
   "source": [
    "### Генерация признаков"
   ]
  },
  {
   "cell_type": "code",
   "execution_count": 60,
   "metadata": {
    "scrolled": true
   },
   "outputs": [
    {
     "data": {
      "text/html": [
       "<div>\n",
       "<style scoped>\n",
       "    .dataframe tbody tr th:only-of-type {\n",
       "        vertical-align: middle;\n",
       "    }\n",
       "\n",
       "    .dataframe tbody tr th {\n",
       "        vertical-align: top;\n",
       "    }\n",
       "\n",
       "    .dataframe thead th {\n",
       "        text-align: right;\n",
       "    }\n",
       "</style>\n",
       "<table border=\"1\" class=\"dataframe\">\n",
       "  <thead>\n",
       "    <tr style=\"text-align: right;\">\n",
       "      <th></th>\n",
       "      <th>key</th>\n",
       "      <th>arc_start</th>\n",
       "      <th>arc_stop</th>\n",
       "      <th>active_power</th>\n",
       "      <th>reactive_power</th>\n",
       "    </tr>\n",
       "  </thead>\n",
       "  <tbody>\n",
       "    <tr>\n",
       "      <th>0</th>\n",
       "      <td>1</td>\n",
       "      <td>2019-05-03 11:02:14</td>\n",
       "      <td>2019-05-03 11:06:02</td>\n",
       "      <td>0.98</td>\n",
       "      <td>0.69</td>\n",
       "    </tr>\n",
       "    <tr>\n",
       "      <th>1</th>\n",
       "      <td>1</td>\n",
       "      <td>2019-05-03 11:07:28</td>\n",
       "      <td>2019-05-03 11:10:33</td>\n",
       "      <td>0.81</td>\n",
       "      <td>0.52</td>\n",
       "    </tr>\n",
       "    <tr>\n",
       "      <th>2</th>\n",
       "      <td>1</td>\n",
       "      <td>2019-05-03 11:11:44</td>\n",
       "      <td>2019-05-03 11:14:36</td>\n",
       "      <td>0.74</td>\n",
       "      <td>0.50</td>\n",
       "    </tr>\n",
       "    <tr>\n",
       "      <th>3</th>\n",
       "      <td>1</td>\n",
       "      <td>2019-05-03 11:18:14</td>\n",
       "      <td>2019-05-03 11:24:19</td>\n",
       "      <td>1.66</td>\n",
       "      <td>1.06</td>\n",
       "    </tr>\n",
       "    <tr>\n",
       "      <th>4</th>\n",
       "      <td>1</td>\n",
       "      <td>2019-05-03 11:26:09</td>\n",
       "      <td>2019-05-03 11:28:37</td>\n",
       "      <td>0.69</td>\n",
       "      <td>0.41</td>\n",
       "    </tr>\n",
       "  </tbody>\n",
       "</table>\n",
       "</div>"
      ],
      "text/plain": [
       "   key            arc_start             arc_stop  active_power  reactive_power\n",
       "0    1  2019-05-03 11:02:14  2019-05-03 11:06:02          0.98            0.69\n",
       "1    1  2019-05-03 11:07:28  2019-05-03 11:10:33          0.81            0.52\n",
       "2    1  2019-05-03 11:11:44  2019-05-03 11:14:36          0.74            0.50\n",
       "3    1  2019-05-03 11:18:14  2019-05-03 11:24:19          1.66            1.06\n",
       "4    1  2019-05-03 11:26:09  2019-05-03 11:28:37          0.69            0.41"
      ]
     },
     "execution_count": 60,
     "metadata": {},
     "output_type": "execute_result"
    }
   ],
   "source": [
    "df_arc.head()"
   ]
  },
  {
   "cell_type": "markdown",
   "metadata": {},
   "source": [
    "Очищаем от выбросов в измеренных значения мощностей"
   ]
  },
  {
   "cell_type": "code",
   "execution_count": 61,
   "metadata": {},
   "outputs": [],
   "source": [
    "df_arc = df_arc[df_arc['active_power'] > 0]\n",
    "df_arc = df_arc[df_arc['reactive_power'] > -500]"
   ]
  },
  {
   "cell_type": "markdown",
   "metadata": {},
   "source": [
    "Создадим новые признаки - энергию затраченную на нагрев (время * полную мощность) и время нагрева"
   ]
  },
  {
   "cell_type": "code",
   "execution_count": 62,
   "metadata": {},
   "outputs": [
    {
     "data": {
      "text/html": [
       "<div>\n",
       "<style scoped>\n",
       "    .dataframe tbody tr th:only-of-type {\n",
       "        vertical-align: middle;\n",
       "    }\n",
       "\n",
       "    .dataframe tbody tr th {\n",
       "        vertical-align: top;\n",
       "    }\n",
       "\n",
       "    .dataframe thead th {\n",
       "        text-align: right;\n",
       "    }\n",
       "</style>\n",
       "<table border=\"1\" class=\"dataframe\">\n",
       "  <thead>\n",
       "    <tr style=\"text-align: right;\">\n",
       "      <th></th>\n",
       "      <th>key</th>\n",
       "      <th>arc_start</th>\n",
       "      <th>arc_stop</th>\n",
       "      <th>active_power</th>\n",
       "      <th>reactive_power</th>\n",
       "      <th>energy</th>\n",
       "      <th>delta</th>\n",
       "    </tr>\n",
       "  </thead>\n",
       "  <tbody>\n",
       "    <tr>\n",
       "      <th>0</th>\n",
       "      <td>1</td>\n",
       "      <td>2019-05-03 11:02:14</td>\n",
       "      <td>2019-05-03 11:06:02</td>\n",
       "      <td>0.98</td>\n",
       "      <td>0.69</td>\n",
       "      <td>272.15</td>\n",
       "      <td>3.80</td>\n",
       "    </tr>\n",
       "    <tr>\n",
       "      <th>1</th>\n",
       "      <td>1</td>\n",
       "      <td>2019-05-03 11:07:28</td>\n",
       "      <td>2019-05-03 11:10:33</td>\n",
       "      <td>0.81</td>\n",
       "      <td>0.52</td>\n",
       "      <td>177.42</td>\n",
       "      <td>3.08</td>\n",
       "    </tr>\n",
       "    <tr>\n",
       "      <th>2</th>\n",
       "      <td>1</td>\n",
       "      <td>2019-05-03 11:11:44</td>\n",
       "      <td>2019-05-03 11:14:36</td>\n",
       "      <td>0.74</td>\n",
       "      <td>0.50</td>\n",
       "      <td>154.12</td>\n",
       "      <td>2.87</td>\n",
       "    </tr>\n",
       "    <tr>\n",
       "      <th>3</th>\n",
       "      <td>1</td>\n",
       "      <td>2019-05-03 11:18:14</td>\n",
       "      <td>2019-05-03 11:24:19</td>\n",
       "      <td>1.66</td>\n",
       "      <td>1.06</td>\n",
       "      <td>719.22</td>\n",
       "      <td>6.08</td>\n",
       "    </tr>\n",
       "    <tr>\n",
       "      <th>4</th>\n",
       "      <td>1</td>\n",
       "      <td>2019-05-03 11:26:09</td>\n",
       "      <td>2019-05-03 11:28:37</td>\n",
       "      <td>0.69</td>\n",
       "      <td>0.41</td>\n",
       "      <td>119.47</td>\n",
       "      <td>2.47</td>\n",
       "    </tr>\n",
       "    <tr>\n",
       "      <th>...</th>\n",
       "      <td>...</td>\n",
       "      <td>...</td>\n",
       "      <td>...</td>\n",
       "      <td>...</td>\n",
       "      <td>...</td>\n",
       "      <td>...</td>\n",
       "      <td>...</td>\n",
       "    </tr>\n",
       "    <tr>\n",
       "      <th>14871</th>\n",
       "      <td>3241</td>\n",
       "      <td>2019-09-01 03:58:58</td>\n",
       "      <td>2019-09-01 04:01:35</td>\n",
       "      <td>0.53</td>\n",
       "      <td>0.35</td>\n",
       "      <td>100.58</td>\n",
       "      <td>2.62</td>\n",
       "    </tr>\n",
       "    <tr>\n",
       "      <th>14872</th>\n",
       "      <td>3241</td>\n",
       "      <td>2019-09-01 04:05:04</td>\n",
       "      <td>2019-09-01 04:08:04</td>\n",
       "      <td>0.68</td>\n",
       "      <td>0.52</td>\n",
       "      <td>154.00</td>\n",
       "      <td>3.00</td>\n",
       "    </tr>\n",
       "    <tr>\n",
       "      <th>14873</th>\n",
       "      <td>3241</td>\n",
       "      <td>2019-09-01 04:16:41</td>\n",
       "      <td>2019-09-01 04:19:45</td>\n",
       "      <td>0.73</td>\n",
       "      <td>0.48</td>\n",
       "      <td>160.92</td>\n",
       "      <td>3.07</td>\n",
       "    </tr>\n",
       "    <tr>\n",
       "      <th>14874</th>\n",
       "      <td>3241</td>\n",
       "      <td>2019-09-01 04:31:51</td>\n",
       "      <td>2019-09-01 04:32:48</td>\n",
       "      <td>0.22</td>\n",
       "      <td>0.15</td>\n",
       "      <td>15.08</td>\n",
       "      <td>0.95</td>\n",
       "    </tr>\n",
       "    <tr>\n",
       "      <th>14875</th>\n",
       "      <td>3241</td>\n",
       "      <td>2019-09-01 04:34:47</td>\n",
       "      <td>2019-09-01 04:36:08</td>\n",
       "      <td>0.31</td>\n",
       "      <td>0.20</td>\n",
       "      <td>29.51</td>\n",
       "      <td>1.35</td>\n",
       "    </tr>\n",
       "  </tbody>\n",
       "</table>\n",
       "<p>14875 rows × 7 columns</p>\n",
       "</div>"
      ],
      "text/plain": [
       "        key           arc_start            arc_stop  active_power  \\\n",
       "0         1 2019-05-03 11:02:14 2019-05-03 11:06:02          0.98   \n",
       "1         1 2019-05-03 11:07:28 2019-05-03 11:10:33          0.81   \n",
       "2         1 2019-05-03 11:11:44 2019-05-03 11:14:36          0.74   \n",
       "3         1 2019-05-03 11:18:14 2019-05-03 11:24:19          1.66   \n",
       "4         1 2019-05-03 11:26:09 2019-05-03 11:28:37          0.69   \n",
       "...     ...                 ...                 ...           ...   \n",
       "14871  3241 2019-09-01 03:58:58 2019-09-01 04:01:35          0.53   \n",
       "14872  3241 2019-09-01 04:05:04 2019-09-01 04:08:04          0.68   \n",
       "14873  3241 2019-09-01 04:16:41 2019-09-01 04:19:45          0.73   \n",
       "14874  3241 2019-09-01 04:31:51 2019-09-01 04:32:48          0.22   \n",
       "14875  3241 2019-09-01 04:34:47 2019-09-01 04:36:08          0.31   \n",
       "\n",
       "       reactive_power  energy  delta  \n",
       "0                0.69  272.15   3.80  \n",
       "1                0.52  177.42   3.08  \n",
       "2                0.50  154.12   2.87  \n",
       "3                1.06  719.22   6.08  \n",
       "4                0.41  119.47   2.47  \n",
       "...               ...     ...    ...  \n",
       "14871            0.35  100.58   2.62  \n",
       "14872            0.52  154.00   3.00  \n",
       "14873            0.48  160.92   3.07  \n",
       "14874            0.15   15.08   0.95  \n",
       "14875            0.20   29.51   1.35  \n",
       "\n",
       "[14875 rows x 7 columns]"
      ]
     },
     "execution_count": 62,
     "metadata": {},
     "output_type": "execute_result"
    }
   ],
   "source": [
    "df_arc['arc_start'] = pd.to_datetime(df_arc['arc_start'], format = '%Y-%m-%d %H:%M:%S')\n",
    "df_arc['arc_stop'] = pd.to_datetime(df_arc['arc_stop'], format = '%Y-%m-%d %H:%M:%S')\n",
    "\n",
    "df_arc['energy'] = (df_arc['arc_stop'] - df_arc['arc_start']).dt.total_seconds()*((\n",
    "    df_arc['active_power'])**2+(df_arc['reactive_power'])**2)**0.5\n",
    "df_arc['delta'] = (df_arc['arc_stop'] - df_arc['arc_start']).dt.total_seconds()/60\n",
    "df_arc"
   ]
  },
  {
   "cell_type": "markdown",
   "metadata": {},
   "source": [
    "Сгруппируем данные по партии, покажем время начала первого нагрева и время окончания последнего, затраченную энергию на партию просуммируем, посчитаем сколько раз происходил нагрев"
   ]
  },
  {
   "cell_type": "code",
   "execution_count": 63,
   "metadata": {},
   "outputs": [],
   "source": [
    "df_arc = df_arc.groupby('key').agg({'arc_start':'min',\n",
    "                          'arc_stop':'max',\n",
    "                          'energy':'sum',\n",
    "                          'active_power':'count',\n",
    "                          'delta':'sum'\n",
    "                          }).reset_index()"
   ]
  },
  {
   "cell_type": "code",
   "execution_count": 64,
   "metadata": {},
   "outputs": [
    {
     "data": {
      "text/html": [
       "<div>\n",
       "<style scoped>\n",
       "    .dataframe tbody tr th:only-of-type {\n",
       "        vertical-align: middle;\n",
       "    }\n",
       "\n",
       "    .dataframe tbody tr th {\n",
       "        vertical-align: top;\n",
       "    }\n",
       "\n",
       "    .dataframe thead th {\n",
       "        text-align: right;\n",
       "    }\n",
       "</style>\n",
       "<table border=\"1\" class=\"dataframe\">\n",
       "  <thead>\n",
       "    <tr style=\"text-align: right;\">\n",
       "      <th></th>\n",
       "      <th>key</th>\n",
       "      <th>arc_start</th>\n",
       "      <th>arc_stop</th>\n",
       "      <th>energy</th>\n",
       "      <th>count_arc</th>\n",
       "      <th>delta</th>\n",
       "    </tr>\n",
       "  </thead>\n",
       "  <tbody>\n",
       "    <tr>\n",
       "      <th>0</th>\n",
       "      <td>1</td>\n",
       "      <td>2019-05-03 11:02:14</td>\n",
       "      <td>2019-05-03 11:28:37</td>\n",
       "      <td>1,442.38</td>\n",
       "      <td>5</td>\n",
       "      <td>18.30</td>\n",
       "    </tr>\n",
       "    <tr>\n",
       "      <th>1</th>\n",
       "      <td>2</td>\n",
       "      <td>2019-05-03 11:34:14</td>\n",
       "      <td>2019-05-03 11:53:18</td>\n",
       "      <td>881.23</td>\n",
       "      <td>4</td>\n",
       "      <td>13.52</td>\n",
       "    </tr>\n",
       "    <tr>\n",
       "      <th>2</th>\n",
       "      <td>3</td>\n",
       "      <td>2019-05-03 12:06:54</td>\n",
       "      <td>2019-05-03 12:32:19</td>\n",
       "      <td>525.07</td>\n",
       "      <td>5</td>\n",
       "      <td>10.92</td>\n",
       "    </tr>\n",
       "    <tr>\n",
       "      <th>3</th>\n",
       "      <td>4</td>\n",
       "      <td>2019-05-03 12:39:37</td>\n",
       "      <td>2019-05-03 12:57:50</td>\n",
       "      <td>796.91</td>\n",
       "      <td>4</td>\n",
       "      <td>12.35</td>\n",
       "    </tr>\n",
       "    <tr>\n",
       "      <th>4</th>\n",
       "      <td>5</td>\n",
       "      <td>2019-05-03 13:11:13</td>\n",
       "      <td>2019-05-03 13:33:55</td>\n",
       "      <td>1,199.14</td>\n",
       "      <td>4</td>\n",
       "      <td>14.48</td>\n",
       "    </tr>\n",
       "    <tr>\n",
       "      <th>...</th>\n",
       "      <td>...</td>\n",
       "      <td>...</td>\n",
       "      <td>...</td>\n",
       "      <td>...</td>\n",
       "      <td>...</td>\n",
       "      <td>...</td>\n",
       "    </tr>\n",
       "    <tr>\n",
       "      <th>3209</th>\n",
       "      <td>3237</td>\n",
       "      <td>2019-08-31 22:41:18</td>\n",
       "      <td>2019-08-31 23:03:48</td>\n",
       "      <td>958.34</td>\n",
       "      <td>5</td>\n",
       "      <td>15.15</td>\n",
       "    </tr>\n",
       "    <tr>\n",
       "      <th>3210</th>\n",
       "      <td>3238</td>\n",
       "      <td>2019-08-31 23:26:18</td>\n",
       "      <td>2019-08-31 23:41:28</td>\n",
       "      <td>555.87</td>\n",
       "      <td>3</td>\n",
       "      <td>9.10</td>\n",
       "    </tr>\n",
       "    <tr>\n",
       "      <th>3211</th>\n",
       "      <td>3239</td>\n",
       "      <td>2019-09-01 01:26:53</td>\n",
       "      <td>2019-09-01 02:15:43</td>\n",
       "      <td>1,013.07</td>\n",
       "      <td>8</td>\n",
       "      <td>20.27</td>\n",
       "    </tr>\n",
       "    <tr>\n",
       "      <th>3212</th>\n",
       "      <td>3240</td>\n",
       "      <td>2019-09-01 02:35:24</td>\n",
       "      <td>2019-09-01 03:34:08</td>\n",
       "      <td>729.21</td>\n",
       "      <td>5</td>\n",
       "      <td>13.98</td>\n",
       "    </tr>\n",
       "    <tr>\n",
       "      <th>3213</th>\n",
       "      <td>3241</td>\n",
       "      <td>2019-09-01 03:58:58</td>\n",
       "      <td>2019-09-01 04:36:08</td>\n",
       "      <td>460.08</td>\n",
       "      <td>5</td>\n",
       "      <td>10.98</td>\n",
       "    </tr>\n",
       "  </tbody>\n",
       "</table>\n",
       "<p>3214 rows × 6 columns</p>\n",
       "</div>"
      ],
      "text/plain": [
       "       key           arc_start            arc_stop   energy  count_arc  delta\n",
       "0        1 2019-05-03 11:02:14 2019-05-03 11:28:37 1,442.38          5  18.30\n",
       "1        2 2019-05-03 11:34:14 2019-05-03 11:53:18   881.23          4  13.52\n",
       "2        3 2019-05-03 12:06:54 2019-05-03 12:32:19   525.07          5  10.92\n",
       "3        4 2019-05-03 12:39:37 2019-05-03 12:57:50   796.91          4  12.35\n",
       "4        5 2019-05-03 13:11:13 2019-05-03 13:33:55 1,199.14          4  14.48\n",
       "...    ...                 ...                 ...      ...        ...    ...\n",
       "3209  3237 2019-08-31 22:41:18 2019-08-31 23:03:48   958.34          5  15.15\n",
       "3210  3238 2019-08-31 23:26:18 2019-08-31 23:41:28   555.87          3   9.10\n",
       "3211  3239 2019-09-01 01:26:53 2019-09-01 02:15:43 1,013.07          8  20.27\n",
       "3212  3240 2019-09-01 02:35:24 2019-09-01 03:34:08   729.21          5  13.98\n",
       "3213  3241 2019-09-01 03:58:58 2019-09-01 04:36:08   460.08          5  10.98\n",
       "\n",
       "[3214 rows x 6 columns]"
      ]
     },
     "execution_count": 64,
     "metadata": {},
     "output_type": "execute_result"
    }
   ],
   "source": [
    "df_arc = df_arc.rename(columns={'active_power':'count_arc'})\n",
    "df_arc"
   ]
  },
  {
   "cell_type": "code",
   "execution_count": 65,
   "metadata": {},
   "outputs": [
    {
     "data": {
      "text/html": [
       "<div>\n",
       "<style scoped>\n",
       "    .dataframe tbody tr th:only-of-type {\n",
       "        vertical-align: middle;\n",
       "    }\n",
       "\n",
       "    .dataframe tbody tr th {\n",
       "        vertical-align: top;\n",
       "    }\n",
       "\n",
       "    .dataframe thead th {\n",
       "        text-align: right;\n",
       "    }\n",
       "</style>\n",
       "<table border=\"1\" class=\"dataframe\">\n",
       "  <thead>\n",
       "    <tr style=\"text-align: right;\">\n",
       "      <th></th>\n",
       "      <th>key</th>\n",
       "      <th>bulk_1</th>\n",
       "      <th>bulk_2</th>\n",
       "      <th>bulk_3</th>\n",
       "      <th>bulk_4</th>\n",
       "      <th>bulk_5</th>\n",
       "      <th>bulk_6</th>\n",
       "      <th>bulk_7</th>\n",
       "      <th>bulk_8</th>\n",
       "      <th>bulk_9</th>\n",
       "      <th>bulk_10</th>\n",
       "      <th>bulk_11</th>\n",
       "      <th>bulk_12</th>\n",
       "      <th>bulk_13</th>\n",
       "      <th>bulk_14</th>\n",
       "      <th>bulk_15</th>\n",
       "    </tr>\n",
       "  </thead>\n",
       "  <tbody>\n",
       "    <tr>\n",
       "      <th>0</th>\n",
       "      <td>1</td>\n",
       "      <td>NaN</td>\n",
       "      <td>NaN</td>\n",
       "      <td>NaN</td>\n",
       "      <td>43.00</td>\n",
       "      <td>NaN</td>\n",
       "      <td>NaN</td>\n",
       "      <td>NaN</td>\n",
       "      <td>NaN</td>\n",
       "      <td>NaN</td>\n",
       "      <td>NaN</td>\n",
       "      <td>NaN</td>\n",
       "      <td>206.00</td>\n",
       "      <td>NaN</td>\n",
       "      <td>150.00</td>\n",
       "      <td>154.00</td>\n",
       "    </tr>\n",
       "    <tr>\n",
       "      <th>1</th>\n",
       "      <td>2</td>\n",
       "      <td>NaN</td>\n",
       "      <td>NaN</td>\n",
       "      <td>NaN</td>\n",
       "      <td>73.00</td>\n",
       "      <td>NaN</td>\n",
       "      <td>NaN</td>\n",
       "      <td>NaN</td>\n",
       "      <td>NaN</td>\n",
       "      <td>NaN</td>\n",
       "      <td>NaN</td>\n",
       "      <td>NaN</td>\n",
       "      <td>206.00</td>\n",
       "      <td>NaN</td>\n",
       "      <td>149.00</td>\n",
       "      <td>154.00</td>\n",
       "    </tr>\n",
       "    <tr>\n",
       "      <th>2</th>\n",
       "      <td>3</td>\n",
       "      <td>NaN</td>\n",
       "      <td>NaN</td>\n",
       "      <td>NaN</td>\n",
       "      <td>34.00</td>\n",
       "      <td>NaN</td>\n",
       "      <td>NaN</td>\n",
       "      <td>NaN</td>\n",
       "      <td>NaN</td>\n",
       "      <td>NaN</td>\n",
       "      <td>NaN</td>\n",
       "      <td>NaN</td>\n",
       "      <td>205.00</td>\n",
       "      <td>NaN</td>\n",
       "      <td>152.00</td>\n",
       "      <td>153.00</td>\n",
       "    </tr>\n",
       "    <tr>\n",
       "      <th>3</th>\n",
       "      <td>4</td>\n",
       "      <td>NaN</td>\n",
       "      <td>NaN</td>\n",
       "      <td>NaN</td>\n",
       "      <td>81.00</td>\n",
       "      <td>NaN</td>\n",
       "      <td>NaN</td>\n",
       "      <td>NaN</td>\n",
       "      <td>NaN</td>\n",
       "      <td>NaN</td>\n",
       "      <td>NaN</td>\n",
       "      <td>NaN</td>\n",
       "      <td>207.00</td>\n",
       "      <td>NaN</td>\n",
       "      <td>153.00</td>\n",
       "      <td>154.00</td>\n",
       "    </tr>\n",
       "    <tr>\n",
       "      <th>4</th>\n",
       "      <td>5</td>\n",
       "      <td>NaN</td>\n",
       "      <td>NaN</td>\n",
       "      <td>NaN</td>\n",
       "      <td>78.00</td>\n",
       "      <td>NaN</td>\n",
       "      <td>NaN</td>\n",
       "      <td>NaN</td>\n",
       "      <td>NaN</td>\n",
       "      <td>NaN</td>\n",
       "      <td>NaN</td>\n",
       "      <td>NaN</td>\n",
       "      <td>203.00</td>\n",
       "      <td>NaN</td>\n",
       "      <td>151.00</td>\n",
       "      <td>152.00</td>\n",
       "    </tr>\n",
       "  </tbody>\n",
       "</table>\n",
       "</div>"
      ],
      "text/plain": [
       "   key  bulk_1  bulk_2  bulk_3  bulk_4  bulk_5  bulk_6  bulk_7  bulk_8  \\\n",
       "0    1     NaN     NaN     NaN   43.00     NaN     NaN     NaN     NaN   \n",
       "1    2     NaN     NaN     NaN   73.00     NaN     NaN     NaN     NaN   \n",
       "2    3     NaN     NaN     NaN   34.00     NaN     NaN     NaN     NaN   \n",
       "3    4     NaN     NaN     NaN   81.00     NaN     NaN     NaN     NaN   \n",
       "4    5     NaN     NaN     NaN   78.00     NaN     NaN     NaN     NaN   \n",
       "\n",
       "   bulk_9  bulk_10  bulk_11  bulk_12  bulk_13  bulk_14  bulk_15  \n",
       "0     NaN      NaN      NaN   206.00      NaN   150.00   154.00  \n",
       "1     NaN      NaN      NaN   206.00      NaN   149.00   154.00  \n",
       "2     NaN      NaN      NaN   205.00      NaN   152.00   153.00  \n",
       "3     NaN      NaN      NaN   207.00      NaN   153.00   154.00  \n",
       "4     NaN      NaN      NaN   203.00      NaN   151.00   152.00  "
      ]
     },
     "execution_count": 65,
     "metadata": {},
     "output_type": "execute_result"
    }
   ],
   "source": [
    "df_bulk.head()"
   ]
  },
  {
   "cell_type": "markdown",
   "metadata": {},
   "source": [
    "Заполним пропуски нулями (примесь не добавляли) и просуммируем добавленные в партию добавки"
   ]
  },
  {
   "cell_type": "code",
   "execution_count": 66,
   "metadata": {},
   "outputs": [
    {
     "data": {
      "text/html": [
       "<div>\n",
       "<style scoped>\n",
       "    .dataframe tbody tr th:only-of-type {\n",
       "        vertical-align: middle;\n",
       "    }\n",
       "\n",
       "    .dataframe tbody tr th {\n",
       "        vertical-align: top;\n",
       "    }\n",
       "\n",
       "    .dataframe thead th {\n",
       "        text-align: right;\n",
       "    }\n",
       "</style>\n",
       "<table border=\"1\" class=\"dataframe\">\n",
       "  <thead>\n",
       "    <tr style=\"text-align: right;\">\n",
       "      <th></th>\n",
       "      <th>key</th>\n",
       "      <th>bulk</th>\n",
       "    </tr>\n",
       "  </thead>\n",
       "  <tbody>\n",
       "    <tr>\n",
       "      <th>0</th>\n",
       "      <td>1</td>\n",
       "      <td>553.00</td>\n",
       "    </tr>\n",
       "    <tr>\n",
       "      <th>1</th>\n",
       "      <td>2</td>\n",
       "      <td>582.00</td>\n",
       "    </tr>\n",
       "    <tr>\n",
       "      <th>2</th>\n",
       "      <td>3</td>\n",
       "      <td>544.00</td>\n",
       "    </tr>\n",
       "    <tr>\n",
       "      <th>3</th>\n",
       "      <td>4</td>\n",
       "      <td>595.00</td>\n",
       "    </tr>\n",
       "    <tr>\n",
       "      <th>4</th>\n",
       "      <td>5</td>\n",
       "      <td>584.00</td>\n",
       "    </tr>\n",
       "    <tr>\n",
       "      <th>...</th>\n",
       "      <td>...</td>\n",
       "      <td>...</td>\n",
       "    </tr>\n",
       "    <tr>\n",
       "      <th>3124</th>\n",
       "      <td>3237</td>\n",
       "      <td>758.00</td>\n",
       "    </tr>\n",
       "    <tr>\n",
       "      <th>3125</th>\n",
       "      <td>3238</td>\n",
       "      <td>594.00</td>\n",
       "    </tr>\n",
       "    <tr>\n",
       "      <th>3126</th>\n",
       "      <td>3239</td>\n",
       "      <td>630.00</td>\n",
       "    </tr>\n",
       "    <tr>\n",
       "      <th>3127</th>\n",
       "      <td>3240</td>\n",
       "      <td>272.00</td>\n",
       "    </tr>\n",
       "    <tr>\n",
       "      <th>3128</th>\n",
       "      <td>3241</td>\n",
       "      <td>232.00</td>\n",
       "    </tr>\n",
       "  </tbody>\n",
       "</table>\n",
       "<p>3129 rows × 2 columns</p>\n",
       "</div>"
      ],
      "text/plain": [
       "       key   bulk\n",
       "0        1 553.00\n",
       "1        2 582.00\n",
       "2        3 544.00\n",
       "3        4 595.00\n",
       "4        5 584.00\n",
       "...    ...    ...\n",
       "3124  3237 758.00\n",
       "3125  3238 594.00\n",
       "3126  3239 630.00\n",
       "3127  3240 272.00\n",
       "3128  3241 232.00\n",
       "\n",
       "[3129 rows x 2 columns]"
      ]
     },
     "execution_count": 66,
     "metadata": {},
     "output_type": "execute_result"
    }
   ],
   "source": [
    "col = list(df_bulk.columns[1:16])\n",
    "df_bulk = df_bulk.fillna(0)\n",
    "\n",
    "df_bulk['bulk'] = df_bulk[col].sum(axis=1)\n",
    "df_bulk.drop(col, axis=1, inplace=True)\n",
    "df_bulk"
   ]
  },
  {
   "cell_type": "code",
   "execution_count": 67,
   "metadata": {},
   "outputs": [
    {
     "data": {
      "text/html": [
       "<div>\n",
       "<style scoped>\n",
       "    .dataframe tbody tr th:only-of-type {\n",
       "        vertical-align: middle;\n",
       "    }\n",
       "\n",
       "    .dataframe tbody tr th {\n",
       "        vertical-align: top;\n",
       "    }\n",
       "\n",
       "    .dataframe thead th {\n",
       "        text-align: right;\n",
       "    }\n",
       "</style>\n",
       "<table border=\"1\" class=\"dataframe\">\n",
       "  <thead>\n",
       "    <tr style=\"text-align: right;\">\n",
       "      <th></th>\n",
       "      <th>key</th>\n",
       "      <th>bulk_1</th>\n",
       "      <th>bulk_2</th>\n",
       "      <th>bulk_3</th>\n",
       "      <th>bulk_4</th>\n",
       "      <th>bulk_5</th>\n",
       "      <th>bulk_6</th>\n",
       "      <th>bulk_7</th>\n",
       "      <th>bulk_8</th>\n",
       "      <th>bulk_9</th>\n",
       "      <th>bulk_10</th>\n",
       "      <th>bulk_11</th>\n",
       "      <th>bulk_12</th>\n",
       "      <th>bulk_13</th>\n",
       "      <th>bulk_14</th>\n",
       "      <th>bulk_15</th>\n",
       "    </tr>\n",
       "  </thead>\n",
       "  <tbody>\n",
       "    <tr>\n",
       "      <th>0</th>\n",
       "      <td>1</td>\n",
       "      <td>NaN</td>\n",
       "      <td>NaN</td>\n",
       "      <td>NaN</td>\n",
       "      <td>2019-05-03 11:21:30</td>\n",
       "      <td>NaN</td>\n",
       "      <td>NaN</td>\n",
       "      <td>NaN</td>\n",
       "      <td>NaN</td>\n",
       "      <td>NaN</td>\n",
       "      <td>NaN</td>\n",
       "      <td>NaN</td>\n",
       "      <td>2019-05-03 11:03:52</td>\n",
       "      <td>NaN</td>\n",
       "      <td>2019-05-03 11:03:52</td>\n",
       "      <td>2019-05-03 11:03:52</td>\n",
       "    </tr>\n",
       "    <tr>\n",
       "      <th>1</th>\n",
       "      <td>2</td>\n",
       "      <td>NaN</td>\n",
       "      <td>NaN</td>\n",
       "      <td>NaN</td>\n",
       "      <td>2019-05-03 11:46:38</td>\n",
       "      <td>NaN</td>\n",
       "      <td>NaN</td>\n",
       "      <td>NaN</td>\n",
       "      <td>NaN</td>\n",
       "      <td>NaN</td>\n",
       "      <td>NaN</td>\n",
       "      <td>NaN</td>\n",
       "      <td>2019-05-03 11:40:20</td>\n",
       "      <td>NaN</td>\n",
       "      <td>2019-05-03 11:40:20</td>\n",
       "      <td>2019-05-03 11:40:20</td>\n",
       "    </tr>\n",
       "    <tr>\n",
       "      <th>2</th>\n",
       "      <td>3</td>\n",
       "      <td>NaN</td>\n",
       "      <td>NaN</td>\n",
       "      <td>NaN</td>\n",
       "      <td>2019-05-03 12:31:06</td>\n",
       "      <td>NaN</td>\n",
       "      <td>NaN</td>\n",
       "      <td>NaN</td>\n",
       "      <td>NaN</td>\n",
       "      <td>NaN</td>\n",
       "      <td>NaN</td>\n",
       "      <td>NaN</td>\n",
       "      <td>2019-05-03 12:09:40</td>\n",
       "      <td>NaN</td>\n",
       "      <td>2019-05-03 12:09:40</td>\n",
       "      <td>2019-05-03 12:09:40</td>\n",
       "    </tr>\n",
       "    <tr>\n",
       "      <th>3</th>\n",
       "      <td>4</td>\n",
       "      <td>NaN</td>\n",
       "      <td>NaN</td>\n",
       "      <td>NaN</td>\n",
       "      <td>2019-05-03 12:48:43</td>\n",
       "      <td>NaN</td>\n",
       "      <td>NaN</td>\n",
       "      <td>NaN</td>\n",
       "      <td>NaN</td>\n",
       "      <td>NaN</td>\n",
       "      <td>NaN</td>\n",
       "      <td>NaN</td>\n",
       "      <td>2019-05-03 12:41:24</td>\n",
       "      <td>NaN</td>\n",
       "      <td>2019-05-03 12:41:24</td>\n",
       "      <td>2019-05-03 12:41:24</td>\n",
       "    </tr>\n",
       "    <tr>\n",
       "      <th>4</th>\n",
       "      <td>5</td>\n",
       "      <td>NaN</td>\n",
       "      <td>NaN</td>\n",
       "      <td>NaN</td>\n",
       "      <td>2019-05-03 13:18:50</td>\n",
       "      <td>NaN</td>\n",
       "      <td>NaN</td>\n",
       "      <td>NaN</td>\n",
       "      <td>NaN</td>\n",
       "      <td>NaN</td>\n",
       "      <td>NaN</td>\n",
       "      <td>NaN</td>\n",
       "      <td>2019-05-03 13:12:56</td>\n",
       "      <td>NaN</td>\n",
       "      <td>2019-05-03 13:12:56</td>\n",
       "      <td>2019-05-03 13:12:56</td>\n",
       "    </tr>\n",
       "  </tbody>\n",
       "</table>\n",
       "</div>"
      ],
      "text/plain": [
       "   key bulk_1 bulk_2 bulk_3               bulk_4 bulk_5 bulk_6 bulk_7 bulk_8  \\\n",
       "0    1    NaN    NaN    NaN  2019-05-03 11:21:30    NaN    NaN    NaN    NaN   \n",
       "1    2    NaN    NaN    NaN  2019-05-03 11:46:38    NaN    NaN    NaN    NaN   \n",
       "2    3    NaN    NaN    NaN  2019-05-03 12:31:06    NaN    NaN    NaN    NaN   \n",
       "3    4    NaN    NaN    NaN  2019-05-03 12:48:43    NaN    NaN    NaN    NaN   \n",
       "4    5    NaN    NaN    NaN  2019-05-03 13:18:50    NaN    NaN    NaN    NaN   \n",
       "\n",
       "  bulk_9 bulk_10 bulk_11              bulk_12 bulk_13              bulk_14  \\\n",
       "0    NaN     NaN     NaN  2019-05-03 11:03:52     NaN  2019-05-03 11:03:52   \n",
       "1    NaN     NaN     NaN  2019-05-03 11:40:20     NaN  2019-05-03 11:40:20   \n",
       "2    NaN     NaN     NaN  2019-05-03 12:09:40     NaN  2019-05-03 12:09:40   \n",
       "3    NaN     NaN     NaN  2019-05-03 12:41:24     NaN  2019-05-03 12:41:24   \n",
       "4    NaN     NaN     NaN  2019-05-03 13:12:56     NaN  2019-05-03 13:12:56   \n",
       "\n",
       "               bulk_15  \n",
       "0  2019-05-03 11:03:52  \n",
       "1  2019-05-03 11:40:20  \n",
       "2  2019-05-03 12:09:40  \n",
       "3  2019-05-03 12:41:24  \n",
       "4  2019-05-03 13:12:56  "
      ]
     },
     "execution_count": 67,
     "metadata": {},
     "output_type": "execute_result"
    }
   ],
   "source": [
    "df_bulk_time.head()"
   ]
  },
  {
   "cell_type": "markdown",
   "metadata": {},
   "source": [
    "Приведем формат времени к datetime"
   ]
  },
  {
   "cell_type": "code",
   "execution_count": 68,
   "metadata": {},
   "outputs": [],
   "source": [
    "for i in range(1, len(df_bulk_time.columns)):\n",
    "    df_bulk_time[df_bulk_time.columns[i]] = pd.to_datetime(df_bulk_time[df_bulk_time.columns[i]], format = '%Y-%m-%d %H:%M:%S')"
   ]
  },
  {
   "cell_type": "markdown",
   "metadata": {},
   "source": [
    "Найдем максимальное и минимальное время добавок примесей, чтобы потом отсеить партии в которых были добавки после измерения температуры"
   ]
  },
  {
   "cell_type": "code",
   "execution_count": 69,
   "metadata": {},
   "outputs": [
    {
     "data": {
      "text/html": [
       "<div>\n",
       "<style scoped>\n",
       "    .dataframe tbody tr th:only-of-type {\n",
       "        vertical-align: middle;\n",
       "    }\n",
       "\n",
       "    .dataframe tbody tr th {\n",
       "        vertical-align: top;\n",
       "    }\n",
       "\n",
       "    .dataframe thead th {\n",
       "        text-align: right;\n",
       "    }\n",
       "</style>\n",
       "<table border=\"1\" class=\"dataframe\">\n",
       "  <thead>\n",
       "    <tr style=\"text-align: right;\">\n",
       "      <th></th>\n",
       "      <th>key</th>\n",
       "      <th>max_bulk_time</th>\n",
       "      <th>min_bulk_time</th>\n",
       "    </tr>\n",
       "  </thead>\n",
       "  <tbody>\n",
       "    <tr>\n",
       "      <th>0</th>\n",
       "      <td>1</td>\n",
       "      <td>2019-05-03 11:21:30</td>\n",
       "      <td>2019-05-03 11:03:52</td>\n",
       "    </tr>\n",
       "    <tr>\n",
       "      <th>1</th>\n",
       "      <td>2</td>\n",
       "      <td>2019-05-03 11:46:38</td>\n",
       "      <td>2019-05-03 11:40:20</td>\n",
       "    </tr>\n",
       "    <tr>\n",
       "      <th>2</th>\n",
       "      <td>3</td>\n",
       "      <td>2019-05-03 12:31:06</td>\n",
       "      <td>2019-05-03 12:09:40</td>\n",
       "    </tr>\n",
       "    <tr>\n",
       "      <th>3</th>\n",
       "      <td>4</td>\n",
       "      <td>2019-05-03 12:48:43</td>\n",
       "      <td>2019-05-03 12:41:24</td>\n",
       "    </tr>\n",
       "    <tr>\n",
       "      <th>4</th>\n",
       "      <td>5</td>\n",
       "      <td>2019-05-03 13:18:50</td>\n",
       "      <td>2019-05-03 13:12:56</td>\n",
       "    </tr>\n",
       "    <tr>\n",
       "      <th>...</th>\n",
       "      <td>...</td>\n",
       "      <td>...</td>\n",
       "      <td>...</td>\n",
       "    </tr>\n",
       "    <tr>\n",
       "      <th>3124</th>\n",
       "      <td>3237</td>\n",
       "      <td>2019-08-31 22:51:28</td>\n",
       "      <td>2019-08-31 22:46:52</td>\n",
       "    </tr>\n",
       "    <tr>\n",
       "      <th>3125</th>\n",
       "      <td>3238</td>\n",
       "      <td>2019-08-31 23:39:11</td>\n",
       "      <td>2019-08-31 23:33:09</td>\n",
       "    </tr>\n",
       "    <tr>\n",
       "      <th>3126</th>\n",
       "      <td>3239</td>\n",
       "      <td>2019-09-01 01:51:58</td>\n",
       "      <td>2019-09-01 01:33:25</td>\n",
       "    </tr>\n",
       "    <tr>\n",
       "      <th>3127</th>\n",
       "      <td>3240</td>\n",
       "      <td>2019-09-01 03:12:40</td>\n",
       "      <td>2019-09-01 02:41:27</td>\n",
       "    </tr>\n",
       "    <tr>\n",
       "      <th>3128</th>\n",
       "      <td>3241</td>\n",
       "      <td>2019-09-01 04:05:34</td>\n",
       "      <td>2019-09-01 04:05:34</td>\n",
       "    </tr>\n",
       "  </tbody>\n",
       "</table>\n",
       "<p>3129 rows × 3 columns</p>\n",
       "</div>"
      ],
      "text/plain": [
       "       key       max_bulk_time       min_bulk_time\n",
       "0        1 2019-05-03 11:21:30 2019-05-03 11:03:52\n",
       "1        2 2019-05-03 11:46:38 2019-05-03 11:40:20\n",
       "2        3 2019-05-03 12:31:06 2019-05-03 12:09:40\n",
       "3        4 2019-05-03 12:48:43 2019-05-03 12:41:24\n",
       "4        5 2019-05-03 13:18:50 2019-05-03 13:12:56\n",
       "...    ...                 ...                 ...\n",
       "3124  3237 2019-08-31 22:51:28 2019-08-31 22:46:52\n",
       "3125  3238 2019-08-31 23:39:11 2019-08-31 23:33:09\n",
       "3126  3239 2019-09-01 01:51:58 2019-09-01 01:33:25\n",
       "3127  3240 2019-09-01 03:12:40 2019-09-01 02:41:27\n",
       "3128  3241 2019-09-01 04:05:34 2019-09-01 04:05:34\n",
       "\n",
       "[3129 rows x 3 columns]"
      ]
     },
     "execution_count": 69,
     "metadata": {},
     "output_type": "execute_result"
    }
   ],
   "source": [
    "df_bulk_time['max_bulk_time'] = df_bulk_time.iloc[:,1:16].max(axis=1)\n",
    "df_bulk_time['min_bulk_time'] = df_bulk_time.iloc[:,1:16].min(axis=1)\n",
    "\n",
    "df_bulk_time = df_bulk_time[['key', 'max_bulk_time', 'min_bulk_time']]\n",
    "df_bulk_time"
   ]
  },
  {
   "cell_type": "code",
   "execution_count": 70,
   "metadata": {},
   "outputs": [
    {
     "data": {
      "text/html": [
       "<div>\n",
       "<style scoped>\n",
       "    .dataframe tbody tr th:only-of-type {\n",
       "        vertical-align: middle;\n",
       "    }\n",
       "\n",
       "    .dataframe tbody tr th {\n",
       "        vertical-align: top;\n",
       "    }\n",
       "\n",
       "    .dataframe thead th {\n",
       "        text-align: right;\n",
       "    }\n",
       "</style>\n",
       "<table border=\"1\" class=\"dataframe\">\n",
       "  <thead>\n",
       "    <tr style=\"text-align: right;\">\n",
       "      <th></th>\n",
       "      <th>key</th>\n",
       "      <th>gas</th>\n",
       "    </tr>\n",
       "  </thead>\n",
       "  <tbody>\n",
       "    <tr>\n",
       "      <th>0</th>\n",
       "      <td>1</td>\n",
       "      <td>29.75</td>\n",
       "    </tr>\n",
       "    <tr>\n",
       "      <th>1</th>\n",
       "      <td>2</td>\n",
       "      <td>12.56</td>\n",
       "    </tr>\n",
       "    <tr>\n",
       "      <th>2</th>\n",
       "      <td>3</td>\n",
       "      <td>28.55</td>\n",
       "    </tr>\n",
       "    <tr>\n",
       "      <th>3</th>\n",
       "      <td>4</td>\n",
       "      <td>18.84</td>\n",
       "    </tr>\n",
       "    <tr>\n",
       "      <th>4</th>\n",
       "      <td>5</td>\n",
       "      <td>5.41</td>\n",
       "    </tr>\n",
       "  </tbody>\n",
       "</table>\n",
       "</div>"
      ],
      "text/plain": [
       "   key   gas\n",
       "0    1 29.75\n",
       "1    2 12.56\n",
       "2    3 28.55\n",
       "3    4 18.84\n",
       "4    5  5.41"
      ]
     },
     "execution_count": 70,
     "metadata": {},
     "output_type": "execute_result"
    }
   ],
   "source": [
    "df_gas.head()"
   ]
  },
  {
   "cell_type": "code",
   "execution_count": 71,
   "metadata": {},
   "outputs": [],
   "source": [
    "df_min_temp_temperature = df_temp\n",
    "df_max_temp_temperature = df_temp"
   ]
  },
  {
   "cell_type": "code",
   "execution_count": 72,
   "metadata": {},
   "outputs": [
    {
     "data": {
      "text/html": [
       "<div>\n",
       "<style scoped>\n",
       "    .dataframe tbody tr th:only-of-type {\n",
       "        vertical-align: middle;\n",
       "    }\n",
       "\n",
       "    .dataframe tbody tr th {\n",
       "        vertical-align: top;\n",
       "    }\n",
       "\n",
       "    .dataframe thead th {\n",
       "        text-align: right;\n",
       "    }\n",
       "</style>\n",
       "<table border=\"1\" class=\"dataframe\">\n",
       "  <thead>\n",
       "    <tr style=\"text-align: right;\">\n",
       "      <th></th>\n",
       "      <th>key</th>\n",
       "      <th>time</th>\n",
       "      <th>temperature</th>\n",
       "    </tr>\n",
       "  </thead>\n",
       "  <tbody>\n",
       "    <tr>\n",
       "      <th>0</th>\n",
       "      <td>1</td>\n",
       "      <td>2019-05-03 11:16:18</td>\n",
       "      <td>1,571.00</td>\n",
       "    </tr>\n",
       "    <tr>\n",
       "      <th>1</th>\n",
       "      <td>1</td>\n",
       "      <td>2019-05-03 11:25:53</td>\n",
       "      <td>1,604.00</td>\n",
       "    </tr>\n",
       "    <tr>\n",
       "      <th>2</th>\n",
       "      <td>1</td>\n",
       "      <td>2019-05-03 11:29:11</td>\n",
       "      <td>1,618.00</td>\n",
       "    </tr>\n",
       "    <tr>\n",
       "      <th>3</th>\n",
       "      <td>1</td>\n",
       "      <td>2019-05-03 11:30:01</td>\n",
       "      <td>1,601.00</td>\n",
       "    </tr>\n",
       "    <tr>\n",
       "      <th>4</th>\n",
       "      <td>1</td>\n",
       "      <td>2019-05-03 11:30:39</td>\n",
       "      <td>1,613.00</td>\n",
       "    </tr>\n",
       "    <tr>\n",
       "      <th>5</th>\n",
       "      <td>2</td>\n",
       "      <td>2019-05-03 11:37:27</td>\n",
       "      <td>1,581.00</td>\n",
       "    </tr>\n",
       "    <tr>\n",
       "      <th>6</th>\n",
       "      <td>2</td>\n",
       "      <td>2019-05-03 11:38:00</td>\n",
       "      <td>1,577.00</td>\n",
       "    </tr>\n",
       "    <tr>\n",
       "      <th>7</th>\n",
       "      <td>2</td>\n",
       "      <td>2019-05-03 11:49:38</td>\n",
       "      <td>1,589.00</td>\n",
       "    </tr>\n",
       "    <tr>\n",
       "      <th>8</th>\n",
       "      <td>2</td>\n",
       "      <td>2019-05-03 11:55:50</td>\n",
       "      <td>1,604.00</td>\n",
       "    </tr>\n",
       "    <tr>\n",
       "      <th>9</th>\n",
       "      <td>2</td>\n",
       "      <td>2019-05-03 11:58:24</td>\n",
       "      <td>1,608.00</td>\n",
       "    </tr>\n",
       "  </tbody>\n",
       "</table>\n",
       "</div>"
      ],
      "text/plain": [
       "   key                 time  temperature\n",
       "0    1  2019-05-03 11:16:18     1,571.00\n",
       "1    1  2019-05-03 11:25:53     1,604.00\n",
       "2    1  2019-05-03 11:29:11     1,618.00\n",
       "3    1  2019-05-03 11:30:01     1,601.00\n",
       "4    1  2019-05-03 11:30:39     1,613.00\n",
       "5    2  2019-05-03 11:37:27     1,581.00\n",
       "6    2  2019-05-03 11:38:00     1,577.00\n",
       "7    2  2019-05-03 11:49:38     1,589.00\n",
       "8    2  2019-05-03 11:55:50     1,604.00\n",
       "9    2  2019-05-03 11:58:24     1,608.00"
      ]
     },
     "execution_count": 72,
     "metadata": {},
     "output_type": "execute_result"
    }
   ],
   "source": [
    "df_temp.head(10)"
   ]
  },
  {
   "cell_type": "markdown",
   "metadata": {},
   "source": [
    "Приведем время измерения температуры к datetime"
   ]
  },
  {
   "cell_type": "code",
   "execution_count": 73,
   "metadata": {},
   "outputs": [],
   "source": [
    "df_temp['time'] = pd.to_datetime(df_temp['time'], format = '%Y-%m-%d %H:%M:%S')"
   ]
  },
  {
   "cell_type": "markdown",
   "metadata": {},
   "source": [
    "Найдем максимальное и минимальное время измерения температуры, чтобы потом отсеить партии в которых были добавки после измерения температуры. Определим количество измерений в партии, чтобы оставить только те партии в которых больше двух измерений"
   ]
  },
  {
   "cell_type": "code",
   "execution_count": 74,
   "metadata": {},
   "outputs": [],
   "source": [
    "df_temp = df_temp.groupby('key')['time'].agg(['min', 'max', 'count']).reset_index()"
   ]
  },
  {
   "cell_type": "code",
   "execution_count": 75,
   "metadata": {},
   "outputs": [],
   "source": [
    "df_temp = df_temp.rename(columns={'min':'min_time_temp',\n",
    "                                 'max':'max_time_temp',\n",
    "                                 'count':'count_temp',\n",
    "                                 'delta':'delta_time'})"
   ]
  },
  {
   "cell_type": "code",
   "execution_count": 76,
   "metadata": {},
   "outputs": [
    {
     "data": {
      "text/html": [
       "<div>\n",
       "<style scoped>\n",
       "    .dataframe tbody tr th:only-of-type {\n",
       "        vertical-align: middle;\n",
       "    }\n",
       "\n",
       "    .dataframe tbody tr th {\n",
       "        vertical-align: top;\n",
       "    }\n",
       "\n",
       "    .dataframe thead th {\n",
       "        text-align: right;\n",
       "    }\n",
       "</style>\n",
       "<table border=\"1\" class=\"dataframe\">\n",
       "  <thead>\n",
       "    <tr style=\"text-align: right;\">\n",
       "      <th></th>\n",
       "      <th>key</th>\n",
       "      <th>min_time_temp</th>\n",
       "      <th>max_time_temp</th>\n",
       "      <th>count_temp</th>\n",
       "    </tr>\n",
       "  </thead>\n",
       "  <tbody>\n",
       "    <tr>\n",
       "      <th>0</th>\n",
       "      <td>1</td>\n",
       "      <td>2019-05-03 11:16:18</td>\n",
       "      <td>2019-05-03 11:30:39</td>\n",
       "      <td>5</td>\n",
       "    </tr>\n",
       "    <tr>\n",
       "      <th>1</th>\n",
       "      <td>2</td>\n",
       "      <td>2019-05-03 11:37:27</td>\n",
       "      <td>2019-05-03 11:59:12</td>\n",
       "      <td>6</td>\n",
       "    </tr>\n",
       "    <tr>\n",
       "      <th>2</th>\n",
       "      <td>3</td>\n",
       "      <td>2019-05-03 12:13:17</td>\n",
       "      <td>2019-05-03 12:34:57</td>\n",
       "      <td>5</td>\n",
       "    </tr>\n",
       "    <tr>\n",
       "      <th>3</th>\n",
       "      <td>4</td>\n",
       "      <td>2019-05-03 12:52:57</td>\n",
       "      <td>2019-05-03 12:59:25</td>\n",
       "      <td>3</td>\n",
       "    </tr>\n",
       "    <tr>\n",
       "      <th>4</th>\n",
       "      <td>5</td>\n",
       "      <td>2019-05-03 13:23:19</td>\n",
       "      <td>2019-05-03 13:36:01</td>\n",
       "      <td>2</td>\n",
       "    </tr>\n",
       "    <tr>\n",
       "      <th>...</th>\n",
       "      <td>...</td>\n",
       "      <td>...</td>\n",
       "      <td>...</td>\n",
       "      <td>...</td>\n",
       "    </tr>\n",
       "    <tr>\n",
       "      <th>3211</th>\n",
       "      <td>3237</td>\n",
       "      <td>2019-08-31 22:44:04</td>\n",
       "      <td>2019-08-31 23:05:43</td>\n",
       "      <td>5</td>\n",
       "    </tr>\n",
       "    <tr>\n",
       "      <th>3212</th>\n",
       "      <td>3238</td>\n",
       "      <td>2019-08-31 23:30:31</td>\n",
       "      <td>2019-08-31 23:43:00</td>\n",
       "      <td>3</td>\n",
       "    </tr>\n",
       "    <tr>\n",
       "      <th>3213</th>\n",
       "      <td>3239</td>\n",
       "      <td>2019-09-01 01:31:47</td>\n",
       "      <td>2019-09-01 02:24:15</td>\n",
       "      <td>8</td>\n",
       "    </tr>\n",
       "    <tr>\n",
       "      <th>3214</th>\n",
       "      <td>3240</td>\n",
       "      <td>2019-09-01 02:39:01</td>\n",
       "      <td>2019-09-01 03:35:16</td>\n",
       "      <td>8</td>\n",
       "    </tr>\n",
       "    <tr>\n",
       "      <th>3215</th>\n",
       "      <td>3241</td>\n",
       "      <td>2019-09-01 04:03:30</td>\n",
       "      <td>2019-09-01 04:38:08</td>\n",
       "      <td>5</td>\n",
       "    </tr>\n",
       "  </tbody>\n",
       "</table>\n",
       "<p>3216 rows × 4 columns</p>\n",
       "</div>"
      ],
      "text/plain": [
       "       key       min_time_temp       max_time_temp  count_temp\n",
       "0        1 2019-05-03 11:16:18 2019-05-03 11:30:39           5\n",
       "1        2 2019-05-03 11:37:27 2019-05-03 11:59:12           6\n",
       "2        3 2019-05-03 12:13:17 2019-05-03 12:34:57           5\n",
       "3        4 2019-05-03 12:52:57 2019-05-03 12:59:25           3\n",
       "4        5 2019-05-03 13:23:19 2019-05-03 13:36:01           2\n",
       "...    ...                 ...                 ...         ...\n",
       "3211  3237 2019-08-31 22:44:04 2019-08-31 23:05:43           5\n",
       "3212  3238 2019-08-31 23:30:31 2019-08-31 23:43:00           3\n",
       "3213  3239 2019-09-01 01:31:47 2019-09-01 02:24:15           8\n",
       "3214  3240 2019-09-01 02:39:01 2019-09-01 03:35:16           8\n",
       "3215  3241 2019-09-01 04:03:30 2019-09-01 04:38:08           5\n",
       "\n",
       "[3216 rows x 4 columns]"
      ]
     },
     "execution_count": 76,
     "metadata": {},
     "output_type": "execute_result"
    }
   ],
   "source": [
    "df_temp"
   ]
  },
  {
   "cell_type": "code",
   "execution_count": 77,
   "metadata": {},
   "outputs": [],
   "source": [
    "df_min_temp_temperature = df_min_temp_temperature.rename(columns={'time':'min_time_temp'})"
   ]
  },
  {
   "cell_type": "markdown",
   "metadata": {},
   "source": [
    "Найдем температуру первого измерения и последнего (целевой признак)"
   ]
  },
  {
   "cell_type": "code",
   "execution_count": 78,
   "metadata": {},
   "outputs": [],
   "source": [
    "df_temp = pd.merge(df_temp, df_min_temp_temperature[['min_time_temp', 'temperature']], how ='left', on ='min_time_temp')"
   ]
  },
  {
   "cell_type": "code",
   "execution_count": 79,
   "metadata": {},
   "outputs": [],
   "source": [
    "df_temp = df_temp.rename(columns={'temperature':'min_temp'})"
   ]
  },
  {
   "cell_type": "code",
   "execution_count": 80,
   "metadata": {},
   "outputs": [
    {
     "data": {
      "text/html": [
       "<div>\n",
       "<style scoped>\n",
       "    .dataframe tbody tr th:only-of-type {\n",
       "        vertical-align: middle;\n",
       "    }\n",
       "\n",
       "    .dataframe tbody tr th {\n",
       "        vertical-align: top;\n",
       "    }\n",
       "\n",
       "    .dataframe thead th {\n",
       "        text-align: right;\n",
       "    }\n",
       "</style>\n",
       "<table border=\"1\" class=\"dataframe\">\n",
       "  <thead>\n",
       "    <tr style=\"text-align: right;\">\n",
       "      <th></th>\n",
       "      <th>key</th>\n",
       "      <th>min_time_temp</th>\n",
       "      <th>max_time_temp</th>\n",
       "      <th>count_temp</th>\n",
       "      <th>min_temp</th>\n",
       "    </tr>\n",
       "  </thead>\n",
       "  <tbody>\n",
       "    <tr>\n",
       "      <th>0</th>\n",
       "      <td>1</td>\n",
       "      <td>2019-05-03 11:16:18</td>\n",
       "      <td>2019-05-03 11:30:39</td>\n",
       "      <td>5</td>\n",
       "      <td>1,571.00</td>\n",
       "    </tr>\n",
       "    <tr>\n",
       "      <th>1</th>\n",
       "      <td>2</td>\n",
       "      <td>2019-05-03 11:37:27</td>\n",
       "      <td>2019-05-03 11:59:12</td>\n",
       "      <td>6</td>\n",
       "      <td>1,581.00</td>\n",
       "    </tr>\n",
       "    <tr>\n",
       "      <th>2</th>\n",
       "      <td>3</td>\n",
       "      <td>2019-05-03 12:13:17</td>\n",
       "      <td>2019-05-03 12:34:57</td>\n",
       "      <td>5</td>\n",
       "      <td>1,596.00</td>\n",
       "    </tr>\n",
       "    <tr>\n",
       "      <th>3</th>\n",
       "      <td>4</td>\n",
       "      <td>2019-05-03 12:52:57</td>\n",
       "      <td>2019-05-03 12:59:25</td>\n",
       "      <td>3</td>\n",
       "      <td>1,601.00</td>\n",
       "    </tr>\n",
       "    <tr>\n",
       "      <th>4</th>\n",
       "      <td>5</td>\n",
       "      <td>2019-05-03 13:23:19</td>\n",
       "      <td>2019-05-03 13:36:01</td>\n",
       "      <td>2</td>\n",
       "      <td>1,576.00</td>\n",
       "    </tr>\n",
       "    <tr>\n",
       "      <th>...</th>\n",
       "      <td>...</td>\n",
       "      <td>...</td>\n",
       "      <td>...</td>\n",
       "      <td>...</td>\n",
       "      <td>...</td>\n",
       "    </tr>\n",
       "    <tr>\n",
       "      <th>3211</th>\n",
       "      <td>3237</td>\n",
       "      <td>2019-08-31 22:44:04</td>\n",
       "      <td>2019-08-31 23:05:43</td>\n",
       "      <td>5</td>\n",
       "      <td>1,569.00</td>\n",
       "    </tr>\n",
       "    <tr>\n",
       "      <th>3212</th>\n",
       "      <td>3238</td>\n",
       "      <td>2019-08-31 23:30:31</td>\n",
       "      <td>2019-08-31 23:43:00</td>\n",
       "      <td>3</td>\n",
       "      <td>1,584.00</td>\n",
       "    </tr>\n",
       "    <tr>\n",
       "      <th>3213</th>\n",
       "      <td>3239</td>\n",
       "      <td>2019-09-01 01:31:47</td>\n",
       "      <td>2019-09-01 02:24:15</td>\n",
       "      <td>8</td>\n",
       "      <td>1,598.00</td>\n",
       "    </tr>\n",
       "    <tr>\n",
       "      <th>3214</th>\n",
       "      <td>3240</td>\n",
       "      <td>2019-09-01 02:39:01</td>\n",
       "      <td>2019-09-01 03:35:16</td>\n",
       "      <td>8</td>\n",
       "      <td>1,617.00</td>\n",
       "    </tr>\n",
       "    <tr>\n",
       "      <th>3215</th>\n",
       "      <td>3241</td>\n",
       "      <td>2019-09-01 04:03:30</td>\n",
       "      <td>2019-09-01 04:38:08</td>\n",
       "      <td>5</td>\n",
       "      <td>1,586.00</td>\n",
       "    </tr>\n",
       "  </tbody>\n",
       "</table>\n",
       "<p>3216 rows × 5 columns</p>\n",
       "</div>"
      ],
      "text/plain": [
       "       key       min_time_temp       max_time_temp  count_temp  min_temp\n",
       "0        1 2019-05-03 11:16:18 2019-05-03 11:30:39           5  1,571.00\n",
       "1        2 2019-05-03 11:37:27 2019-05-03 11:59:12           6  1,581.00\n",
       "2        3 2019-05-03 12:13:17 2019-05-03 12:34:57           5  1,596.00\n",
       "3        4 2019-05-03 12:52:57 2019-05-03 12:59:25           3  1,601.00\n",
       "4        5 2019-05-03 13:23:19 2019-05-03 13:36:01           2  1,576.00\n",
       "...    ...                 ...                 ...         ...       ...\n",
       "3211  3237 2019-08-31 22:44:04 2019-08-31 23:05:43           5  1,569.00\n",
       "3212  3238 2019-08-31 23:30:31 2019-08-31 23:43:00           3  1,584.00\n",
       "3213  3239 2019-09-01 01:31:47 2019-09-01 02:24:15           8  1,598.00\n",
       "3214  3240 2019-09-01 02:39:01 2019-09-01 03:35:16           8  1,617.00\n",
       "3215  3241 2019-09-01 04:03:30 2019-09-01 04:38:08           5  1,586.00\n",
       "\n",
       "[3216 rows x 5 columns]"
      ]
     },
     "execution_count": 80,
     "metadata": {},
     "output_type": "execute_result"
    }
   ],
   "source": [
    "df_temp"
   ]
  },
  {
   "cell_type": "code",
   "execution_count": 81,
   "metadata": {},
   "outputs": [],
   "source": [
    "df_max_temp_temperature = df_max_temp_temperature.rename(columns={'time':'max_time_temp'})"
   ]
  },
  {
   "cell_type": "code",
   "execution_count": 82,
   "metadata": {},
   "outputs": [],
   "source": [
    "df_temp = pd.merge(df_temp, df_max_temp_temperature[['max_time_temp', 'temperature']],\n",
    "                   how ='left', on ='max_time_temp')"
   ]
  },
  {
   "cell_type": "code",
   "execution_count": 83,
   "metadata": {},
   "outputs": [],
   "source": [
    "df_temp = df_temp.rename(columns={'temperature':'max_temp'})"
   ]
  },
  {
   "cell_type": "code",
   "execution_count": 84,
   "metadata": {},
   "outputs": [
    {
     "data": {
      "text/html": [
       "<div>\n",
       "<style scoped>\n",
       "    .dataframe tbody tr th:only-of-type {\n",
       "        vertical-align: middle;\n",
       "    }\n",
       "\n",
       "    .dataframe tbody tr th {\n",
       "        vertical-align: top;\n",
       "    }\n",
       "\n",
       "    .dataframe thead th {\n",
       "        text-align: right;\n",
       "    }\n",
       "</style>\n",
       "<table border=\"1\" class=\"dataframe\">\n",
       "  <thead>\n",
       "    <tr style=\"text-align: right;\">\n",
       "      <th></th>\n",
       "      <th>key</th>\n",
       "      <th>min_time_temp</th>\n",
       "      <th>max_time_temp</th>\n",
       "      <th>count_temp</th>\n",
       "      <th>min_temp</th>\n",
       "      <th>max_temp</th>\n",
       "    </tr>\n",
       "  </thead>\n",
       "  <tbody>\n",
       "    <tr>\n",
       "      <th>0</th>\n",
       "      <td>1</td>\n",
       "      <td>2019-05-03 11:16:18</td>\n",
       "      <td>2019-05-03 11:30:39</td>\n",
       "      <td>5</td>\n",
       "      <td>1,571.00</td>\n",
       "      <td>1,613.00</td>\n",
       "    </tr>\n",
       "    <tr>\n",
       "      <th>1</th>\n",
       "      <td>2</td>\n",
       "      <td>2019-05-03 11:37:27</td>\n",
       "      <td>2019-05-03 11:59:12</td>\n",
       "      <td>6</td>\n",
       "      <td>1,581.00</td>\n",
       "      <td>1,602.00</td>\n",
       "    </tr>\n",
       "    <tr>\n",
       "      <th>2</th>\n",
       "      <td>3</td>\n",
       "      <td>2019-05-03 12:13:17</td>\n",
       "      <td>2019-05-03 12:34:57</td>\n",
       "      <td>5</td>\n",
       "      <td>1,596.00</td>\n",
       "      <td>1,599.00</td>\n",
       "    </tr>\n",
       "    <tr>\n",
       "      <th>3</th>\n",
       "      <td>4</td>\n",
       "      <td>2019-05-03 12:52:57</td>\n",
       "      <td>2019-05-03 12:59:25</td>\n",
       "      <td>3</td>\n",
       "      <td>1,601.00</td>\n",
       "      <td>1,625.00</td>\n",
       "    </tr>\n",
       "    <tr>\n",
       "      <th>4</th>\n",
       "      <td>5</td>\n",
       "      <td>2019-05-03 13:23:19</td>\n",
       "      <td>2019-05-03 13:36:01</td>\n",
       "      <td>2</td>\n",
       "      <td>1,576.00</td>\n",
       "      <td>1,602.00</td>\n",
       "    </tr>\n",
       "    <tr>\n",
       "      <th>...</th>\n",
       "      <td>...</td>\n",
       "      <td>...</td>\n",
       "      <td>...</td>\n",
       "      <td>...</td>\n",
       "      <td>...</td>\n",
       "      <td>...</td>\n",
       "    </tr>\n",
       "    <tr>\n",
       "      <th>3211</th>\n",
       "      <td>3237</td>\n",
       "      <td>2019-08-31 22:44:04</td>\n",
       "      <td>2019-08-31 23:05:43</td>\n",
       "      <td>5</td>\n",
       "      <td>1,569.00</td>\n",
       "      <td>NaN</td>\n",
       "    </tr>\n",
       "    <tr>\n",
       "      <th>3212</th>\n",
       "      <td>3238</td>\n",
       "      <td>2019-08-31 23:30:31</td>\n",
       "      <td>2019-08-31 23:43:00</td>\n",
       "      <td>3</td>\n",
       "      <td>1,584.00</td>\n",
       "      <td>NaN</td>\n",
       "    </tr>\n",
       "    <tr>\n",
       "      <th>3213</th>\n",
       "      <td>3239</td>\n",
       "      <td>2019-09-01 01:31:47</td>\n",
       "      <td>2019-09-01 02:24:15</td>\n",
       "      <td>8</td>\n",
       "      <td>1,598.00</td>\n",
       "      <td>NaN</td>\n",
       "    </tr>\n",
       "    <tr>\n",
       "      <th>3214</th>\n",
       "      <td>3240</td>\n",
       "      <td>2019-09-01 02:39:01</td>\n",
       "      <td>2019-09-01 03:35:16</td>\n",
       "      <td>8</td>\n",
       "      <td>1,617.00</td>\n",
       "      <td>NaN</td>\n",
       "    </tr>\n",
       "    <tr>\n",
       "      <th>3215</th>\n",
       "      <td>3241</td>\n",
       "      <td>2019-09-01 04:03:30</td>\n",
       "      <td>2019-09-01 04:38:08</td>\n",
       "      <td>5</td>\n",
       "      <td>1,586.00</td>\n",
       "      <td>NaN</td>\n",
       "    </tr>\n",
       "  </tbody>\n",
       "</table>\n",
       "<p>3216 rows × 6 columns</p>\n",
       "</div>"
      ],
      "text/plain": [
       "       key       min_time_temp       max_time_temp  count_temp  min_temp  \\\n",
       "0        1 2019-05-03 11:16:18 2019-05-03 11:30:39           5  1,571.00   \n",
       "1        2 2019-05-03 11:37:27 2019-05-03 11:59:12           6  1,581.00   \n",
       "2        3 2019-05-03 12:13:17 2019-05-03 12:34:57           5  1,596.00   \n",
       "3        4 2019-05-03 12:52:57 2019-05-03 12:59:25           3  1,601.00   \n",
       "4        5 2019-05-03 13:23:19 2019-05-03 13:36:01           2  1,576.00   \n",
       "...    ...                 ...                 ...         ...       ...   \n",
       "3211  3237 2019-08-31 22:44:04 2019-08-31 23:05:43           5  1,569.00   \n",
       "3212  3238 2019-08-31 23:30:31 2019-08-31 23:43:00           3  1,584.00   \n",
       "3213  3239 2019-09-01 01:31:47 2019-09-01 02:24:15           8  1,598.00   \n",
       "3214  3240 2019-09-01 02:39:01 2019-09-01 03:35:16           8  1,617.00   \n",
       "3215  3241 2019-09-01 04:03:30 2019-09-01 04:38:08           5  1,586.00   \n",
       "\n",
       "      max_temp  \n",
       "0     1,613.00  \n",
       "1     1,602.00  \n",
       "2     1,599.00  \n",
       "3     1,625.00  \n",
       "4     1,602.00  \n",
       "...        ...  \n",
       "3211       NaN  \n",
       "3212       NaN  \n",
       "3213       NaN  \n",
       "3214       NaN  \n",
       "3215       NaN  \n",
       "\n",
       "[3216 rows x 6 columns]"
      ]
     },
     "execution_count": 84,
     "metadata": {},
     "output_type": "execute_result"
    }
   ],
   "source": [
    "df_temp"
   ]
  },
  {
   "cell_type": "markdown",
   "metadata": {},
   "source": [
    "Оставим только те партии, где количество измерений температуры больше двух"
   ]
  },
  {
   "cell_type": "code",
   "execution_count": 85,
   "metadata": {
    "scrolled": true
   },
   "outputs": [],
   "source": [
    "df_temp = df_temp[df_temp['count_temp'] > 2]"
   ]
  },
  {
   "cell_type": "code",
   "execution_count": 106,
   "metadata": {},
   "outputs": [
    {
     "data": {
      "text/html": [
       "<div>\n",
       "<style scoped>\n",
       "    .dataframe tbody tr th:only-of-type {\n",
       "        vertical-align: middle;\n",
       "    }\n",
       "\n",
       "    .dataframe tbody tr th {\n",
       "        vertical-align: top;\n",
       "    }\n",
       "\n",
       "    .dataframe thead th {\n",
       "        text-align: right;\n",
       "    }\n",
       "</style>\n",
       "<table border=\"1\" class=\"dataframe\">\n",
       "  <thead>\n",
       "    <tr style=\"text-align: right;\">\n",
       "      <th></th>\n",
       "      <th>key</th>\n",
       "      <th>min_time_temp</th>\n",
       "      <th>max_time_temp</th>\n",
       "      <th>count_temp</th>\n",
       "      <th>min_temp</th>\n",
       "      <th>max_temp</th>\n",
       "    </tr>\n",
       "  </thead>\n",
       "  <tbody>\n",
       "    <tr>\n",
       "      <th>0</th>\n",
       "      <td>1</td>\n",
       "      <td>2019-05-03 11:16:18</td>\n",
       "      <td>2019-05-03 11:30:39</td>\n",
       "      <td>5</td>\n",
       "      <td>1,571.00</td>\n",
       "      <td>1,613.00</td>\n",
       "    </tr>\n",
       "    <tr>\n",
       "      <th>1</th>\n",
       "      <td>2</td>\n",
       "      <td>2019-05-03 11:37:27</td>\n",
       "      <td>2019-05-03 11:59:12</td>\n",
       "      <td>6</td>\n",
       "      <td>1,581.00</td>\n",
       "      <td>1,602.00</td>\n",
       "    </tr>\n",
       "    <tr>\n",
       "      <th>2</th>\n",
       "      <td>3</td>\n",
       "      <td>2019-05-03 12:13:17</td>\n",
       "      <td>2019-05-03 12:34:57</td>\n",
       "      <td>5</td>\n",
       "      <td>1,596.00</td>\n",
       "      <td>1,599.00</td>\n",
       "    </tr>\n",
       "    <tr>\n",
       "      <th>3</th>\n",
       "      <td>4</td>\n",
       "      <td>2019-05-03 12:52:57</td>\n",
       "      <td>2019-05-03 12:59:25</td>\n",
       "      <td>3</td>\n",
       "      <td>1,601.00</td>\n",
       "      <td>1,625.00</td>\n",
       "    </tr>\n",
       "    <tr>\n",
       "      <th>5</th>\n",
       "      <td>6</td>\n",
       "      <td>2019-05-03 13:49:24</td>\n",
       "      <td>2019-05-03 14:12:29</td>\n",
       "      <td>5</td>\n",
       "      <td>1,543.00</td>\n",
       "      <td>1,596.00</td>\n",
       "    </tr>\n",
       "    <tr>\n",
       "      <th>...</th>\n",
       "      <td>...</td>\n",
       "      <td>...</td>\n",
       "      <td>...</td>\n",
       "      <td>...</td>\n",
       "      <td>...</td>\n",
       "      <td>...</td>\n",
       "    </tr>\n",
       "    <tr>\n",
       "      <th>3211</th>\n",
       "      <td>3237</td>\n",
       "      <td>2019-08-31 22:44:04</td>\n",
       "      <td>2019-08-31 23:05:43</td>\n",
       "      <td>5</td>\n",
       "      <td>1,569.00</td>\n",
       "      <td>NaN</td>\n",
       "    </tr>\n",
       "    <tr>\n",
       "      <th>3212</th>\n",
       "      <td>3238</td>\n",
       "      <td>2019-08-31 23:30:31</td>\n",
       "      <td>2019-08-31 23:43:00</td>\n",
       "      <td>3</td>\n",
       "      <td>1,584.00</td>\n",
       "      <td>NaN</td>\n",
       "    </tr>\n",
       "    <tr>\n",
       "      <th>3213</th>\n",
       "      <td>3239</td>\n",
       "      <td>2019-09-01 01:31:47</td>\n",
       "      <td>2019-09-01 02:24:15</td>\n",
       "      <td>8</td>\n",
       "      <td>1,598.00</td>\n",
       "      <td>NaN</td>\n",
       "    </tr>\n",
       "    <tr>\n",
       "      <th>3214</th>\n",
       "      <td>3240</td>\n",
       "      <td>2019-09-01 02:39:01</td>\n",
       "      <td>2019-09-01 03:35:16</td>\n",
       "      <td>8</td>\n",
       "      <td>1,617.00</td>\n",
       "      <td>NaN</td>\n",
       "    </tr>\n",
       "    <tr>\n",
       "      <th>3215</th>\n",
       "      <td>3241</td>\n",
       "      <td>2019-09-01 04:03:30</td>\n",
       "      <td>2019-09-01 04:38:08</td>\n",
       "      <td>5</td>\n",
       "      <td>1,586.00</td>\n",
       "      <td>NaN</td>\n",
       "    </tr>\n",
       "  </tbody>\n",
       "</table>\n",
       "<p>3136 rows × 6 columns</p>\n",
       "</div>"
      ],
      "text/plain": [
       "       key       min_time_temp       max_time_temp  count_temp  min_temp  \\\n",
       "0        1 2019-05-03 11:16:18 2019-05-03 11:30:39           5  1,571.00   \n",
       "1        2 2019-05-03 11:37:27 2019-05-03 11:59:12           6  1,581.00   \n",
       "2        3 2019-05-03 12:13:17 2019-05-03 12:34:57           5  1,596.00   \n",
       "3        4 2019-05-03 12:52:57 2019-05-03 12:59:25           3  1,601.00   \n",
       "5        6 2019-05-03 13:49:24 2019-05-03 14:12:29           5  1,543.00   \n",
       "...    ...                 ...                 ...         ...       ...   \n",
       "3211  3237 2019-08-31 22:44:04 2019-08-31 23:05:43           5  1,569.00   \n",
       "3212  3238 2019-08-31 23:30:31 2019-08-31 23:43:00           3  1,584.00   \n",
       "3213  3239 2019-09-01 01:31:47 2019-09-01 02:24:15           8  1,598.00   \n",
       "3214  3240 2019-09-01 02:39:01 2019-09-01 03:35:16           8  1,617.00   \n",
       "3215  3241 2019-09-01 04:03:30 2019-09-01 04:38:08           5  1,586.00   \n",
       "\n",
       "      max_temp  \n",
       "0     1,613.00  \n",
       "1     1,602.00  \n",
       "2     1,599.00  \n",
       "3     1,625.00  \n",
       "5     1,596.00  \n",
       "...        ...  \n",
       "3211       NaN  \n",
       "3212       NaN  \n",
       "3213       NaN  \n",
       "3214       NaN  \n",
       "3215       NaN  \n",
       "\n",
       "[3136 rows x 6 columns]"
      ]
     },
     "execution_count": 106,
     "metadata": {},
     "output_type": "execute_result"
    }
   ],
   "source": [
    "df_temp"
   ]
  },
  {
   "cell_type": "code",
   "execution_count": 86,
   "metadata": {
    "scrolled": true
   },
   "outputs": [
    {
     "data": {
      "text/html": [
       "<div>\n",
       "<style scoped>\n",
       "    .dataframe tbody tr th:only-of-type {\n",
       "        vertical-align: middle;\n",
       "    }\n",
       "\n",
       "    .dataframe tbody tr th {\n",
       "        vertical-align: top;\n",
       "    }\n",
       "\n",
       "    .dataframe thead th {\n",
       "        text-align: right;\n",
       "    }\n",
       "</style>\n",
       "<table border=\"1\" class=\"dataframe\">\n",
       "  <thead>\n",
       "    <tr style=\"text-align: right;\">\n",
       "      <th></th>\n",
       "      <th>key</th>\n",
       "      <th>wire_1</th>\n",
       "      <th>wire_2</th>\n",
       "      <th>wire_3</th>\n",
       "      <th>wire_4</th>\n",
       "      <th>wire_5</th>\n",
       "      <th>wire_6</th>\n",
       "      <th>wire_7</th>\n",
       "      <th>wire_8</th>\n",
       "      <th>wire_9</th>\n",
       "    </tr>\n",
       "  </thead>\n",
       "  <tbody>\n",
       "    <tr>\n",
       "      <th>0</th>\n",
       "      <td>1</td>\n",
       "      <td>60.06</td>\n",
       "      <td>NaN</td>\n",
       "      <td>NaN</td>\n",
       "      <td>NaN</td>\n",
       "      <td>NaN</td>\n",
       "      <td>NaN</td>\n",
       "      <td>NaN</td>\n",
       "      <td>NaN</td>\n",
       "      <td>NaN</td>\n",
       "    </tr>\n",
       "    <tr>\n",
       "      <th>1</th>\n",
       "      <td>2</td>\n",
       "      <td>96.05</td>\n",
       "      <td>NaN</td>\n",
       "      <td>NaN</td>\n",
       "      <td>NaN</td>\n",
       "      <td>NaN</td>\n",
       "      <td>NaN</td>\n",
       "      <td>NaN</td>\n",
       "      <td>NaN</td>\n",
       "      <td>NaN</td>\n",
       "    </tr>\n",
       "    <tr>\n",
       "      <th>2</th>\n",
       "      <td>3</td>\n",
       "      <td>91.16</td>\n",
       "      <td>NaN</td>\n",
       "      <td>NaN</td>\n",
       "      <td>NaN</td>\n",
       "      <td>NaN</td>\n",
       "      <td>NaN</td>\n",
       "      <td>NaN</td>\n",
       "      <td>NaN</td>\n",
       "      <td>NaN</td>\n",
       "    </tr>\n",
       "    <tr>\n",
       "      <th>3</th>\n",
       "      <td>4</td>\n",
       "      <td>89.06</td>\n",
       "      <td>NaN</td>\n",
       "      <td>NaN</td>\n",
       "      <td>NaN</td>\n",
       "      <td>NaN</td>\n",
       "      <td>NaN</td>\n",
       "      <td>NaN</td>\n",
       "      <td>NaN</td>\n",
       "      <td>NaN</td>\n",
       "    </tr>\n",
       "    <tr>\n",
       "      <th>4</th>\n",
       "      <td>5</td>\n",
       "      <td>89.24</td>\n",
       "      <td>9.11</td>\n",
       "      <td>NaN</td>\n",
       "      <td>NaN</td>\n",
       "      <td>NaN</td>\n",
       "      <td>NaN</td>\n",
       "      <td>NaN</td>\n",
       "      <td>NaN</td>\n",
       "      <td>NaN</td>\n",
       "    </tr>\n",
       "  </tbody>\n",
       "</table>\n",
       "</div>"
      ],
      "text/plain": [
       "   key  wire_1  wire_2  wire_3  wire_4  wire_5  wire_6  wire_7  wire_8  wire_9\n",
       "0    1   60.06     NaN     NaN     NaN     NaN     NaN     NaN     NaN     NaN\n",
       "1    2   96.05     NaN     NaN     NaN     NaN     NaN     NaN     NaN     NaN\n",
       "2    3   91.16     NaN     NaN     NaN     NaN     NaN     NaN     NaN     NaN\n",
       "3    4   89.06     NaN     NaN     NaN     NaN     NaN     NaN     NaN     NaN\n",
       "4    5   89.24    9.11     NaN     NaN     NaN     NaN     NaN     NaN     NaN"
      ]
     },
     "execution_count": 86,
     "metadata": {},
     "output_type": "execute_result"
    }
   ],
   "source": [
    "df_wire.head()"
   ]
  },
  {
   "cell_type": "markdown",
   "metadata": {},
   "source": [
    "Заполним пропуски нулями (примесь не добавляли) и просуммируем добавленные в партию добавки"
   ]
  },
  {
   "cell_type": "code",
   "execution_count": 87,
   "metadata": {},
   "outputs": [
    {
     "data": {
      "text/html": [
       "<div>\n",
       "<style scoped>\n",
       "    .dataframe tbody tr th:only-of-type {\n",
       "        vertical-align: middle;\n",
       "    }\n",
       "\n",
       "    .dataframe tbody tr th {\n",
       "        vertical-align: top;\n",
       "    }\n",
       "\n",
       "    .dataframe thead th {\n",
       "        text-align: right;\n",
       "    }\n",
       "</style>\n",
       "<table border=\"1\" class=\"dataframe\">\n",
       "  <thead>\n",
       "    <tr style=\"text-align: right;\">\n",
       "      <th></th>\n",
       "      <th>key</th>\n",
       "      <th>wire</th>\n",
       "    </tr>\n",
       "  </thead>\n",
       "  <tbody>\n",
       "    <tr>\n",
       "      <th>0</th>\n",
       "      <td>1</td>\n",
       "      <td>60.06</td>\n",
       "    </tr>\n",
       "    <tr>\n",
       "      <th>1</th>\n",
       "      <td>2</td>\n",
       "      <td>96.05</td>\n",
       "    </tr>\n",
       "    <tr>\n",
       "      <th>2</th>\n",
       "      <td>3</td>\n",
       "      <td>91.16</td>\n",
       "    </tr>\n",
       "    <tr>\n",
       "      <th>3</th>\n",
       "      <td>4</td>\n",
       "      <td>89.06</td>\n",
       "    </tr>\n",
       "    <tr>\n",
       "      <th>4</th>\n",
       "      <td>5</td>\n",
       "      <td>98.35</td>\n",
       "    </tr>\n",
       "    <tr>\n",
       "      <th>...</th>\n",
       "      <td>...</td>\n",
       "      <td>...</td>\n",
       "    </tr>\n",
       "    <tr>\n",
       "      <th>3076</th>\n",
       "      <td>3237</td>\n",
       "      <td>38.09</td>\n",
       "    </tr>\n",
       "    <tr>\n",
       "      <th>3077</th>\n",
       "      <td>3238</td>\n",
       "      <td>56.13</td>\n",
       "    </tr>\n",
       "    <tr>\n",
       "      <th>3078</th>\n",
       "      <td>3239</td>\n",
       "      <td>143.36</td>\n",
       "    </tr>\n",
       "    <tr>\n",
       "      <th>3079</th>\n",
       "      <td>3240</td>\n",
       "      <td>34.07</td>\n",
       "    </tr>\n",
       "    <tr>\n",
       "      <th>3080</th>\n",
       "      <td>3241</td>\n",
       "      <td>63.12</td>\n",
       "    </tr>\n",
       "  </tbody>\n",
       "</table>\n",
       "<p>3081 rows × 2 columns</p>\n",
       "</div>"
      ],
      "text/plain": [
       "       key   wire\n",
       "0        1  60.06\n",
       "1        2  96.05\n",
       "2        3  91.16\n",
       "3        4  89.06\n",
       "4        5  98.35\n",
       "...    ...    ...\n",
       "3076  3237  38.09\n",
       "3077  3238  56.13\n",
       "3078  3239 143.36\n",
       "3079  3240  34.07\n",
       "3080  3241  63.12\n",
       "\n",
       "[3081 rows x 2 columns]"
      ]
     },
     "execution_count": 87,
     "metadata": {},
     "output_type": "execute_result"
    }
   ],
   "source": [
    "col = list(df_wire.columns[1:10])\n",
    "df_wire = df_wire.fillna(0)\n",
    "df_wire['wire'] = df_wire[col].sum(axis=1)\n",
    "df_wire.drop(col, axis=1, inplace=True)\n",
    "df_wire"
   ]
  },
  {
   "cell_type": "code",
   "execution_count": 88,
   "metadata": {},
   "outputs": [
    {
     "data": {
      "text/html": [
       "<div>\n",
       "<style scoped>\n",
       "    .dataframe tbody tr th:only-of-type {\n",
       "        vertical-align: middle;\n",
       "    }\n",
       "\n",
       "    .dataframe tbody tr th {\n",
       "        vertical-align: top;\n",
       "    }\n",
       "\n",
       "    .dataframe thead th {\n",
       "        text-align: right;\n",
       "    }\n",
       "</style>\n",
       "<table border=\"1\" class=\"dataframe\">\n",
       "  <thead>\n",
       "    <tr style=\"text-align: right;\">\n",
       "      <th></th>\n",
       "      <th>key</th>\n",
       "      <th>wire_1</th>\n",
       "      <th>wire_2</th>\n",
       "      <th>wire_3</th>\n",
       "      <th>wire_4</th>\n",
       "      <th>wire_5</th>\n",
       "      <th>wire_6</th>\n",
       "      <th>wire_7</th>\n",
       "      <th>wire_8</th>\n",
       "      <th>wire_9</th>\n",
       "    </tr>\n",
       "  </thead>\n",
       "  <tbody>\n",
       "    <tr>\n",
       "      <th>0</th>\n",
       "      <td>1</td>\n",
       "      <td>2019-05-03 11:11:41</td>\n",
       "      <td>NaN</td>\n",
       "      <td>NaN</td>\n",
       "      <td>NaN</td>\n",
       "      <td>NaN</td>\n",
       "      <td>NaN</td>\n",
       "      <td>NaN</td>\n",
       "      <td>NaN</td>\n",
       "      <td>NaN</td>\n",
       "    </tr>\n",
       "    <tr>\n",
       "      <th>1</th>\n",
       "      <td>2</td>\n",
       "      <td>2019-05-03 11:46:10</td>\n",
       "      <td>NaN</td>\n",
       "      <td>NaN</td>\n",
       "      <td>NaN</td>\n",
       "      <td>NaN</td>\n",
       "      <td>NaN</td>\n",
       "      <td>NaN</td>\n",
       "      <td>NaN</td>\n",
       "      <td>NaN</td>\n",
       "    </tr>\n",
       "    <tr>\n",
       "      <th>2</th>\n",
       "      <td>3</td>\n",
       "      <td>2019-05-03 12:13:47</td>\n",
       "      <td>NaN</td>\n",
       "      <td>NaN</td>\n",
       "      <td>NaN</td>\n",
       "      <td>NaN</td>\n",
       "      <td>NaN</td>\n",
       "      <td>NaN</td>\n",
       "      <td>NaN</td>\n",
       "      <td>NaN</td>\n",
       "    </tr>\n",
       "    <tr>\n",
       "      <th>3</th>\n",
       "      <td>4</td>\n",
       "      <td>2019-05-03 12:48:05</td>\n",
       "      <td>NaN</td>\n",
       "      <td>NaN</td>\n",
       "      <td>NaN</td>\n",
       "      <td>NaN</td>\n",
       "      <td>NaN</td>\n",
       "      <td>NaN</td>\n",
       "      <td>NaN</td>\n",
       "      <td>NaN</td>\n",
       "    </tr>\n",
       "    <tr>\n",
       "      <th>4</th>\n",
       "      <td>5</td>\n",
       "      <td>2019-05-03 13:18:15</td>\n",
       "      <td>2019-05-03 13:32:06</td>\n",
       "      <td>NaN</td>\n",
       "      <td>NaN</td>\n",
       "      <td>NaN</td>\n",
       "      <td>NaN</td>\n",
       "      <td>NaN</td>\n",
       "      <td>NaN</td>\n",
       "      <td>NaN</td>\n",
       "    </tr>\n",
       "  </tbody>\n",
       "</table>\n",
       "</div>"
      ],
      "text/plain": [
       "   key               wire_1               wire_2 wire_3 wire_4 wire_5 wire_6  \\\n",
       "0    1  2019-05-03 11:11:41                  NaN    NaN    NaN    NaN    NaN   \n",
       "1    2  2019-05-03 11:46:10                  NaN    NaN    NaN    NaN    NaN   \n",
       "2    3  2019-05-03 12:13:47                  NaN    NaN    NaN    NaN    NaN   \n",
       "3    4  2019-05-03 12:48:05                  NaN    NaN    NaN    NaN    NaN   \n",
       "4    5  2019-05-03 13:18:15  2019-05-03 13:32:06    NaN    NaN    NaN    NaN   \n",
       "\n",
       "  wire_7 wire_8 wire_9  \n",
       "0    NaN    NaN    NaN  \n",
       "1    NaN    NaN    NaN  \n",
       "2    NaN    NaN    NaN  \n",
       "3    NaN    NaN    NaN  \n",
       "4    NaN    NaN    NaN  "
      ]
     },
     "execution_count": 88,
     "metadata": {},
     "output_type": "execute_result"
    }
   ],
   "source": [
    "df_wire_time.head()"
   ]
  },
  {
   "cell_type": "markdown",
   "metadata": {},
   "source": [
    "Приведем формат времени к datetime"
   ]
  },
  {
   "cell_type": "code",
   "execution_count": 89,
   "metadata": {},
   "outputs": [],
   "source": [
    "for i in range(1, len(df_wire_time.columns)):\n",
    "    df_wire_time[df_wire_time.columns[i]] = pd.to_datetime(df_wire_time[df_wire_time.columns[i]], format = '%Y-%m-%d %H:%M:%S')"
   ]
  },
  {
   "cell_type": "markdown",
   "metadata": {},
   "source": [
    "Найдем максимальное и минимальное время добавок примесей, чтобы потом отсеить партии в которых были добавки после измерения температуры"
   ]
  },
  {
   "cell_type": "code",
   "execution_count": 90,
   "metadata": {},
   "outputs": [
    {
     "data": {
      "text/html": [
       "<div>\n",
       "<style scoped>\n",
       "    .dataframe tbody tr th:only-of-type {\n",
       "        vertical-align: middle;\n",
       "    }\n",
       "\n",
       "    .dataframe tbody tr th {\n",
       "        vertical-align: top;\n",
       "    }\n",
       "\n",
       "    .dataframe thead th {\n",
       "        text-align: right;\n",
       "    }\n",
       "</style>\n",
       "<table border=\"1\" class=\"dataframe\">\n",
       "  <thead>\n",
       "    <tr style=\"text-align: right;\">\n",
       "      <th></th>\n",
       "      <th>key</th>\n",
       "      <th>max_wire_time</th>\n",
       "      <th>min_wire_time</th>\n",
       "    </tr>\n",
       "  </thead>\n",
       "  <tbody>\n",
       "    <tr>\n",
       "      <th>0</th>\n",
       "      <td>1</td>\n",
       "      <td>2019-05-03 11:11:41</td>\n",
       "      <td>2019-05-03 11:11:41</td>\n",
       "    </tr>\n",
       "    <tr>\n",
       "      <th>1</th>\n",
       "      <td>2</td>\n",
       "      <td>2019-05-03 11:46:10</td>\n",
       "      <td>2019-05-03 11:46:10</td>\n",
       "    </tr>\n",
       "    <tr>\n",
       "      <th>2</th>\n",
       "      <td>3</td>\n",
       "      <td>2019-05-03 12:13:47</td>\n",
       "      <td>2019-05-03 12:13:47</td>\n",
       "    </tr>\n",
       "    <tr>\n",
       "      <th>3</th>\n",
       "      <td>4</td>\n",
       "      <td>2019-05-03 12:48:05</td>\n",
       "      <td>2019-05-03 12:48:05</td>\n",
       "    </tr>\n",
       "    <tr>\n",
       "      <th>4</th>\n",
       "      <td>5</td>\n",
       "      <td>2019-05-03 13:32:06</td>\n",
       "      <td>2019-05-03 13:18:15</td>\n",
       "    </tr>\n",
       "    <tr>\n",
       "      <th>...</th>\n",
       "      <td>...</td>\n",
       "      <td>...</td>\n",
       "      <td>...</td>\n",
       "    </tr>\n",
       "    <tr>\n",
       "      <th>3076</th>\n",
       "      <td>3237</td>\n",
       "      <td>2019-08-31 22:50:20</td>\n",
       "      <td>2019-08-31 22:50:20</td>\n",
       "    </tr>\n",
       "    <tr>\n",
       "      <th>3077</th>\n",
       "      <td>3238</td>\n",
       "      <td>2019-08-31 23:38:24</td>\n",
       "      <td>2019-08-31 23:38:24</td>\n",
       "    </tr>\n",
       "    <tr>\n",
       "      <th>3078</th>\n",
       "      <td>3239</td>\n",
       "      <td>2019-09-01 01:50:43</td>\n",
       "      <td>2019-09-01 01:50:43</td>\n",
       "    </tr>\n",
       "    <tr>\n",
       "      <th>3079</th>\n",
       "      <td>3240</td>\n",
       "      <td>2019-09-01 03:12:02</td>\n",
       "      <td>2019-09-01 03:12:02</td>\n",
       "    </tr>\n",
       "    <tr>\n",
       "      <th>3080</th>\n",
       "      <td>3241</td>\n",
       "      <td>2019-09-01 04:16:01</td>\n",
       "      <td>2019-09-01 04:16:01</td>\n",
       "    </tr>\n",
       "  </tbody>\n",
       "</table>\n",
       "<p>3081 rows × 3 columns</p>\n",
       "</div>"
      ],
      "text/plain": [
       "       key       max_wire_time       min_wire_time\n",
       "0        1 2019-05-03 11:11:41 2019-05-03 11:11:41\n",
       "1        2 2019-05-03 11:46:10 2019-05-03 11:46:10\n",
       "2        3 2019-05-03 12:13:47 2019-05-03 12:13:47\n",
       "3        4 2019-05-03 12:48:05 2019-05-03 12:48:05\n",
       "4        5 2019-05-03 13:32:06 2019-05-03 13:18:15\n",
       "...    ...                 ...                 ...\n",
       "3076  3237 2019-08-31 22:50:20 2019-08-31 22:50:20\n",
       "3077  3238 2019-08-31 23:38:24 2019-08-31 23:38:24\n",
       "3078  3239 2019-09-01 01:50:43 2019-09-01 01:50:43\n",
       "3079  3240 2019-09-01 03:12:02 2019-09-01 03:12:02\n",
       "3080  3241 2019-09-01 04:16:01 2019-09-01 04:16:01\n",
       "\n",
       "[3081 rows x 3 columns]"
      ]
     },
     "execution_count": 90,
     "metadata": {},
     "output_type": "execute_result"
    }
   ],
   "source": [
    "df_wire_time['max_wire_time'] = df_wire_time.iloc[:,1:10].max(axis=1)\n",
    "df_wire_time['min_wire_time'] = df_wire_time.iloc[:,1:10].min(axis=1)\n",
    "df_wire_time = df_wire_time[['key', 'max_wire_time', 'min_wire_time']]\n",
    "df_wire_time"
   ]
  },
  {
   "cell_type": "markdown",
   "metadata": {
    "pycharm": {
     "name": "#%% md\n"
    }
   },
   "source": [
    "### Объединение данных в сводную таблицу"
   ]
  },
  {
   "cell_type": "markdown",
   "metadata": {},
   "source": [
    "Левая таблица - таблица с таргетом, к ней, по ключу, присоединяем остальные таблицы"
   ]
  },
  {
   "cell_type": "code",
   "execution_count": 91,
   "metadata": {},
   "outputs": [],
   "source": [
    "df = pd.merge(df_temp, df_arc, how='left', on='key')"
   ]
  },
  {
   "cell_type": "markdown",
   "metadata": {},
   "source": [
    "Оставляем только те партии, где измерение температуры было после окончания нагрева"
   ]
  },
  {
   "cell_type": "code",
   "execution_count": 92,
   "metadata": {},
   "outputs": [],
   "source": [
    "df = df[df['max_time_temp'] > df['arc_stop']]"
   ]
  },
  {
   "cell_type": "markdown",
   "metadata": {},
   "source": [
    "Оставляем только те партии, где первое измерение температуры было до начала нагрева, нам важно это условие для правильного предсказания температуры и экономии электроэнергии"
   ]
  },
  {
   "cell_type": "markdown",
   "metadata": {},
   "source": [
    "Фиксируем, что температура поменялась, те был нагрев"
   ]
  },
  {
   "cell_type": "code",
   "execution_count": 93,
   "metadata": {},
   "outputs": [],
   "source": [
    "df = df[df['min_temp'] != df['max_temp']]"
   ]
  },
  {
   "cell_type": "code",
   "execution_count": 94,
   "metadata": {},
   "outputs": [],
   "source": [
    "df.drop(columns=['count_temp', 'arc_start', 'arc_stop'], inplace = True)"
   ]
  },
  {
   "cell_type": "markdown",
   "metadata": {},
   "source": [
    "Добавляем данные с добавками"
   ]
  },
  {
   "cell_type": "code",
   "execution_count": 95,
   "metadata": {},
   "outputs": [],
   "source": [
    "df = pd.merge(df, df_bulk_time, how='left', on='key')"
   ]
  },
  {
   "cell_type": "markdown",
   "metadata": {},
   "source": [
    "Проверяем, что не было добавок после измерения температуры"
   ]
  },
  {
   "cell_type": "code",
   "execution_count": 96,
   "metadata": {},
   "outputs": [],
   "source": [
    "df = df[df['max_time_temp'] > df['max_bulk_time']]"
   ]
  },
  {
   "cell_type": "markdown",
   "metadata": {},
   "source": [
    "Добавляем данные о добавках"
   ]
  },
  {
   "cell_type": "code",
   "execution_count": 97,
   "metadata": {},
   "outputs": [],
   "source": [
    "df = pd.merge(df, df_bulk, how='left', on='key')"
   ]
  },
  {
   "cell_type": "code",
   "execution_count": 98,
   "metadata": {},
   "outputs": [
    {
     "data": {
      "text/html": [
       "<div>\n",
       "<style scoped>\n",
       "    .dataframe tbody tr th:only-of-type {\n",
       "        vertical-align: middle;\n",
       "    }\n",
       "\n",
       "    .dataframe tbody tr th {\n",
       "        vertical-align: top;\n",
       "    }\n",
       "\n",
       "    .dataframe thead th {\n",
       "        text-align: right;\n",
       "    }\n",
       "</style>\n",
       "<table border=\"1\" class=\"dataframe\">\n",
       "  <thead>\n",
       "    <tr style=\"text-align: right;\">\n",
       "      <th></th>\n",
       "      <th>key</th>\n",
       "      <th>min_time_temp</th>\n",
       "      <th>max_time_temp</th>\n",
       "      <th>min_temp</th>\n",
       "      <th>max_temp</th>\n",
       "      <th>energy</th>\n",
       "      <th>count_arc</th>\n",
       "      <th>delta</th>\n",
       "      <th>max_bulk_time</th>\n",
       "      <th>min_bulk_time</th>\n",
       "      <th>bulk</th>\n",
       "      <th>max_wire_time</th>\n",
       "      <th>min_wire_time</th>\n",
       "    </tr>\n",
       "  </thead>\n",
       "  <tbody>\n",
       "    <tr>\n",
       "      <th>0</th>\n",
       "      <td>1</td>\n",
       "      <td>2019-05-03 11:16:18</td>\n",
       "      <td>2019-05-03 11:30:39</td>\n",
       "      <td>1,571.00</td>\n",
       "      <td>1,613.00</td>\n",
       "      <td>1,442.38</td>\n",
       "      <td>5</td>\n",
       "      <td>18.30</td>\n",
       "      <td>2019-05-03 11:21:30</td>\n",
       "      <td>2019-05-03 11:03:52</td>\n",
       "      <td>553.00</td>\n",
       "      <td>2019-05-03 11:11:41</td>\n",
       "      <td>2019-05-03 11:11:41</td>\n",
       "    </tr>\n",
       "    <tr>\n",
       "      <th>1</th>\n",
       "      <td>2</td>\n",
       "      <td>2019-05-03 11:37:27</td>\n",
       "      <td>2019-05-03 11:59:12</td>\n",
       "      <td>1,581.00</td>\n",
       "      <td>1,602.00</td>\n",
       "      <td>881.23</td>\n",
       "      <td>4</td>\n",
       "      <td>13.52</td>\n",
       "      <td>2019-05-03 11:46:38</td>\n",
       "      <td>2019-05-03 11:40:20</td>\n",
       "      <td>582.00</td>\n",
       "      <td>2019-05-03 11:46:10</td>\n",
       "      <td>2019-05-03 11:46:10</td>\n",
       "    </tr>\n",
       "    <tr>\n",
       "      <th>2</th>\n",
       "      <td>3</td>\n",
       "      <td>2019-05-03 12:13:17</td>\n",
       "      <td>2019-05-03 12:34:57</td>\n",
       "      <td>1,596.00</td>\n",
       "      <td>1,599.00</td>\n",
       "      <td>525.07</td>\n",
       "      <td>5</td>\n",
       "      <td>10.92</td>\n",
       "      <td>2019-05-03 12:31:06</td>\n",
       "      <td>2019-05-03 12:09:40</td>\n",
       "      <td>544.00</td>\n",
       "      <td>2019-05-03 12:13:47</td>\n",
       "      <td>2019-05-03 12:13:47</td>\n",
       "    </tr>\n",
       "    <tr>\n",
       "      <th>3</th>\n",
       "      <td>4</td>\n",
       "      <td>2019-05-03 12:52:57</td>\n",
       "      <td>2019-05-03 12:59:25</td>\n",
       "      <td>1,601.00</td>\n",
       "      <td>1,625.00</td>\n",
       "      <td>796.91</td>\n",
       "      <td>4</td>\n",
       "      <td>12.35</td>\n",
       "      <td>2019-05-03 12:48:43</td>\n",
       "      <td>2019-05-03 12:41:24</td>\n",
       "      <td>595.00</td>\n",
       "      <td>2019-05-03 12:48:05</td>\n",
       "      <td>2019-05-03 12:48:05</td>\n",
       "    </tr>\n",
       "    <tr>\n",
       "      <th>4</th>\n",
       "      <td>6</td>\n",
       "      <td>2019-05-03 13:49:24</td>\n",
       "      <td>2019-05-03 14:12:29</td>\n",
       "      <td>1,543.00</td>\n",
       "      <td>1,596.00</td>\n",
       "      <td>1,410.75</td>\n",
       "      <td>4</td>\n",
       "      <td>15.87</td>\n",
       "      <td>2019-05-03 13:59:24</td>\n",
       "      <td>2019-05-03 13:53:27</td>\n",
       "      <td>676.00</td>\n",
       "      <td>2019-05-03 13:59:54</td>\n",
       "      <td>2019-05-03 13:59:02</td>\n",
       "    </tr>\n",
       "    <tr>\n",
       "      <th>...</th>\n",
       "      <td>...</td>\n",
       "      <td>...</td>\n",
       "      <td>...</td>\n",
       "      <td>...</td>\n",
       "      <td>...</td>\n",
       "      <td>...</td>\n",
       "      <td>...</td>\n",
       "      <td>...</td>\n",
       "      <td>...</td>\n",
       "      <td>...</td>\n",
       "      <td>...</td>\n",
       "      <td>...</td>\n",
       "      <td>...</td>\n",
       "    </tr>\n",
       "    <tr>\n",
       "      <th>2856</th>\n",
       "      <td>3237</td>\n",
       "      <td>2019-08-31 22:44:04</td>\n",
       "      <td>2019-08-31 23:05:43</td>\n",
       "      <td>1,569.00</td>\n",
       "      <td>NaN</td>\n",
       "      <td>958.34</td>\n",
       "      <td>5</td>\n",
       "      <td>15.15</td>\n",
       "      <td>2019-08-31 22:51:28</td>\n",
       "      <td>2019-08-31 22:46:52</td>\n",
       "      <td>758.00</td>\n",
       "      <td>2019-08-31 22:50:20</td>\n",
       "      <td>2019-08-31 22:50:20</td>\n",
       "    </tr>\n",
       "    <tr>\n",
       "      <th>2857</th>\n",
       "      <td>3238</td>\n",
       "      <td>2019-08-31 23:30:31</td>\n",
       "      <td>2019-08-31 23:43:00</td>\n",
       "      <td>1,584.00</td>\n",
       "      <td>NaN</td>\n",
       "      <td>555.87</td>\n",
       "      <td>3</td>\n",
       "      <td>9.10</td>\n",
       "      <td>2019-08-31 23:39:11</td>\n",
       "      <td>2019-08-31 23:33:09</td>\n",
       "      <td>594.00</td>\n",
       "      <td>2019-08-31 23:38:24</td>\n",
       "      <td>2019-08-31 23:38:24</td>\n",
       "    </tr>\n",
       "    <tr>\n",
       "      <th>2858</th>\n",
       "      <td>3239</td>\n",
       "      <td>2019-09-01 01:31:47</td>\n",
       "      <td>2019-09-01 02:24:15</td>\n",
       "      <td>1,598.00</td>\n",
       "      <td>NaN</td>\n",
       "      <td>1,013.07</td>\n",
       "      <td>8</td>\n",
       "      <td>20.27</td>\n",
       "      <td>2019-09-01 01:51:58</td>\n",
       "      <td>2019-09-01 01:33:25</td>\n",
       "      <td>630.00</td>\n",
       "      <td>2019-09-01 01:50:43</td>\n",
       "      <td>2019-09-01 01:50:43</td>\n",
       "    </tr>\n",
       "    <tr>\n",
       "      <th>2859</th>\n",
       "      <td>3240</td>\n",
       "      <td>2019-09-01 02:39:01</td>\n",
       "      <td>2019-09-01 03:35:16</td>\n",
       "      <td>1,617.00</td>\n",
       "      <td>NaN</td>\n",
       "      <td>729.21</td>\n",
       "      <td>5</td>\n",
       "      <td>13.98</td>\n",
       "      <td>2019-09-01 03:12:40</td>\n",
       "      <td>2019-09-01 02:41:27</td>\n",
       "      <td>272.00</td>\n",
       "      <td>2019-09-01 03:12:02</td>\n",
       "      <td>2019-09-01 03:12:02</td>\n",
       "    </tr>\n",
       "    <tr>\n",
       "      <th>2860</th>\n",
       "      <td>3241</td>\n",
       "      <td>2019-09-01 04:03:30</td>\n",
       "      <td>2019-09-01 04:38:08</td>\n",
       "      <td>1,586.00</td>\n",
       "      <td>NaN</td>\n",
       "      <td>460.08</td>\n",
       "      <td>5</td>\n",
       "      <td>10.98</td>\n",
       "      <td>2019-09-01 04:05:34</td>\n",
       "      <td>2019-09-01 04:05:34</td>\n",
       "      <td>232.00</td>\n",
       "      <td>2019-09-01 04:16:01</td>\n",
       "      <td>2019-09-01 04:16:01</td>\n",
       "    </tr>\n",
       "  </tbody>\n",
       "</table>\n",
       "<p>2861 rows × 13 columns</p>\n",
       "</div>"
      ],
      "text/plain": [
       "       key       min_time_temp       max_time_temp  min_temp  max_temp  \\\n",
       "0        1 2019-05-03 11:16:18 2019-05-03 11:30:39  1,571.00  1,613.00   \n",
       "1        2 2019-05-03 11:37:27 2019-05-03 11:59:12  1,581.00  1,602.00   \n",
       "2        3 2019-05-03 12:13:17 2019-05-03 12:34:57  1,596.00  1,599.00   \n",
       "3        4 2019-05-03 12:52:57 2019-05-03 12:59:25  1,601.00  1,625.00   \n",
       "4        6 2019-05-03 13:49:24 2019-05-03 14:12:29  1,543.00  1,596.00   \n",
       "...    ...                 ...                 ...       ...       ...   \n",
       "2856  3237 2019-08-31 22:44:04 2019-08-31 23:05:43  1,569.00       NaN   \n",
       "2857  3238 2019-08-31 23:30:31 2019-08-31 23:43:00  1,584.00       NaN   \n",
       "2858  3239 2019-09-01 01:31:47 2019-09-01 02:24:15  1,598.00       NaN   \n",
       "2859  3240 2019-09-01 02:39:01 2019-09-01 03:35:16  1,617.00       NaN   \n",
       "2860  3241 2019-09-01 04:03:30 2019-09-01 04:38:08  1,586.00       NaN   \n",
       "\n",
       "       energy  count_arc  delta       max_bulk_time       min_bulk_time  \\\n",
       "0    1,442.38          5  18.30 2019-05-03 11:21:30 2019-05-03 11:03:52   \n",
       "1      881.23          4  13.52 2019-05-03 11:46:38 2019-05-03 11:40:20   \n",
       "2      525.07          5  10.92 2019-05-03 12:31:06 2019-05-03 12:09:40   \n",
       "3      796.91          4  12.35 2019-05-03 12:48:43 2019-05-03 12:41:24   \n",
       "4    1,410.75          4  15.87 2019-05-03 13:59:24 2019-05-03 13:53:27   \n",
       "...       ...        ...    ...                 ...                 ...   \n",
       "2856   958.34          5  15.15 2019-08-31 22:51:28 2019-08-31 22:46:52   \n",
       "2857   555.87          3   9.10 2019-08-31 23:39:11 2019-08-31 23:33:09   \n",
       "2858 1,013.07          8  20.27 2019-09-01 01:51:58 2019-09-01 01:33:25   \n",
       "2859   729.21          5  13.98 2019-09-01 03:12:40 2019-09-01 02:41:27   \n",
       "2860   460.08          5  10.98 2019-09-01 04:05:34 2019-09-01 04:05:34   \n",
       "\n",
       "       bulk       max_wire_time       min_wire_time  \n",
       "0    553.00 2019-05-03 11:11:41 2019-05-03 11:11:41  \n",
       "1    582.00 2019-05-03 11:46:10 2019-05-03 11:46:10  \n",
       "2    544.00 2019-05-03 12:13:47 2019-05-03 12:13:47  \n",
       "3    595.00 2019-05-03 12:48:05 2019-05-03 12:48:05  \n",
       "4    676.00 2019-05-03 13:59:54 2019-05-03 13:59:02  \n",
       "...     ...                 ...                 ...  \n",
       "2856 758.00 2019-08-31 22:50:20 2019-08-31 22:50:20  \n",
       "2857 594.00 2019-08-31 23:38:24 2019-08-31 23:38:24  \n",
       "2858 630.00 2019-09-01 01:50:43 2019-09-01 01:50:43  \n",
       "2859 272.00 2019-09-01 03:12:02 2019-09-01 03:12:02  \n",
       "2860 232.00 2019-09-01 04:16:01 2019-09-01 04:16:01  \n",
       "\n",
       "[2861 rows x 13 columns]"
      ]
     },
     "execution_count": 98,
     "metadata": {},
     "output_type": "execute_result"
    }
   ],
   "source": [
    "df = pd.merge(df, df_wire_time, how='left', on='key')\n",
    "df"
   ]
  },
  {
   "cell_type": "markdown",
   "metadata": {},
   "source": [
    "Проверяем, что небыло добавок после последнего измерения"
   ]
  },
  {
   "cell_type": "code",
   "execution_count": 99,
   "metadata": {},
   "outputs": [
    {
     "data": {
      "text/html": [
       "<div>\n",
       "<style scoped>\n",
       "    .dataframe tbody tr th:only-of-type {\n",
       "        vertical-align: middle;\n",
       "    }\n",
       "\n",
       "    .dataframe tbody tr th {\n",
       "        vertical-align: top;\n",
       "    }\n",
       "\n",
       "    .dataframe thead th {\n",
       "        text-align: right;\n",
       "    }\n",
       "</style>\n",
       "<table border=\"1\" class=\"dataframe\">\n",
       "  <thead>\n",
       "    <tr style=\"text-align: right;\">\n",
       "      <th></th>\n",
       "      <th>key</th>\n",
       "      <th>min_time_temp</th>\n",
       "      <th>max_time_temp</th>\n",
       "      <th>min_temp</th>\n",
       "      <th>max_temp</th>\n",
       "      <th>energy</th>\n",
       "      <th>count_arc</th>\n",
       "      <th>delta</th>\n",
       "      <th>max_bulk_time</th>\n",
       "      <th>min_bulk_time</th>\n",
       "      <th>bulk</th>\n",
       "      <th>max_wire_time</th>\n",
       "      <th>min_wire_time</th>\n",
       "    </tr>\n",
       "  </thead>\n",
       "  <tbody>\n",
       "  </tbody>\n",
       "</table>\n",
       "</div>"
      ],
      "text/plain": [
       "Empty DataFrame\n",
       "Columns: [key, min_time_temp, max_time_temp, min_temp, max_temp, energy, count_arc, delta, max_bulk_time, min_bulk_time, bulk, max_wire_time, min_wire_time]\n",
       "Index: []"
      ]
     },
     "execution_count": 99,
     "metadata": {},
     "output_type": "execute_result"
    }
   ],
   "source": [
    "df[df['max_time_temp'] < df['max_wire_time']]"
   ]
  },
  {
   "cell_type": "code",
   "execution_count": 100,
   "metadata": {},
   "outputs": [],
   "source": [
    "df = pd.merge(df, df_wire, how='left', on='key')\n",
    "df = pd.merge(df, df_gas, how='left', on='key')"
   ]
  },
  {
   "cell_type": "code",
   "execution_count": 101,
   "metadata": {},
   "outputs": [],
   "source": [
    "df.drop(columns=['max_bulk_time', 'min_bulk_time', 'max_wire_time', 'min_wire_time', 'min_time_temp', 'max_time_temp'], inplace = True)"
   ]
  },
  {
   "cell_type": "code",
   "execution_count": 102,
   "metadata": {},
   "outputs": [],
   "source": [
    "df['wire'] = df['wire'].fillna(0)\n",
    "df['gas'] = df['gas'].fillna(0)\n",
    "df = df.dropna()"
   ]
  },
  {
   "cell_type": "code",
   "execution_count": 103,
   "metadata": {
    "scrolled": true
   },
   "outputs": [
    {
     "data": {
      "text/plain": [
       "key          0\n",
       "min_temp     0\n",
       "max_temp     0\n",
       "energy       0\n",
       "count_arc    0\n",
       "delta        0\n",
       "bulk         0\n",
       "wire         0\n",
       "gas          0\n",
       "dtype: int64"
      ]
     },
     "execution_count": 103,
     "metadata": {},
     "output_type": "execute_result"
    }
   ],
   "source": [
    "df.isna().sum()"
   ]
  },
  {
   "cell_type": "code",
   "execution_count": 104,
   "metadata": {},
   "outputs": [
    {
     "data": {
      "text/html": [
       "<div>\n",
       "<style scoped>\n",
       "    .dataframe tbody tr th:only-of-type {\n",
       "        vertical-align: middle;\n",
       "    }\n",
       "\n",
       "    .dataframe tbody tr th {\n",
       "        vertical-align: top;\n",
       "    }\n",
       "\n",
       "    .dataframe thead th {\n",
       "        text-align: right;\n",
       "    }\n",
       "</style>\n",
       "<table border=\"1\" class=\"dataframe\">\n",
       "  <thead>\n",
       "    <tr style=\"text-align: right;\">\n",
       "      <th></th>\n",
       "      <th>key</th>\n",
       "      <th>min_temp</th>\n",
       "      <th>max_temp</th>\n",
       "      <th>energy</th>\n",
       "      <th>count_arc</th>\n",
       "      <th>delta</th>\n",
       "      <th>bulk</th>\n",
       "      <th>wire</th>\n",
       "      <th>gas</th>\n",
       "    </tr>\n",
       "  </thead>\n",
       "  <tbody>\n",
       "    <tr>\n",
       "      <th>key</th>\n",
       "      <td>1.00</td>\n",
       "      <td>-0.01</td>\n",
       "      <td>-0.07</td>\n",
       "      <td>-0.01</td>\n",
       "      <td>-0.03</td>\n",
       "      <td>-0.03</td>\n",
       "      <td>-0.03</td>\n",
       "      <td>0.01</td>\n",
       "      <td>-0.05</td>\n",
       "    </tr>\n",
       "    <tr>\n",
       "      <th>min_temp</th>\n",
       "      <td>-0.01</td>\n",
       "      <td>1.00</td>\n",
       "      <td>0.33</td>\n",
       "      <td>-0.29</td>\n",
       "      <td>-0.16</td>\n",
       "      <td>-0.29</td>\n",
       "      <td>-0.10</td>\n",
       "      <td>0.03</td>\n",
       "      <td>0.02</td>\n",
       "    </tr>\n",
       "    <tr>\n",
       "      <th>max_temp</th>\n",
       "      <td>-0.07</td>\n",
       "      <td>0.33</td>\n",
       "      <td>1.00</td>\n",
       "      <td>0.29</td>\n",
       "      <td>0.08</td>\n",
       "      <td>0.23</td>\n",
       "      <td>0.10</td>\n",
       "      <td>-0.14</td>\n",
       "      <td>-0.01</td>\n",
       "    </tr>\n",
       "    <tr>\n",
       "      <th>energy</th>\n",
       "      <td>-0.01</td>\n",
       "      <td>-0.29</td>\n",
       "      <td>0.29</td>\n",
       "      <td>1.00</td>\n",
       "      <td>0.51</td>\n",
       "      <td>0.89</td>\n",
       "      <td>0.51</td>\n",
       "      <td>-0.02</td>\n",
       "      <td>0.29</td>\n",
       "    </tr>\n",
       "    <tr>\n",
       "      <th>count_arc</th>\n",
       "      <td>-0.03</td>\n",
       "      <td>-0.16</td>\n",
       "      <td>0.08</td>\n",
       "      <td>0.51</td>\n",
       "      <td>1.00</td>\n",
       "      <td>0.79</td>\n",
       "      <td>0.43</td>\n",
       "      <td>0.19</td>\n",
       "      <td>0.40</td>\n",
       "    </tr>\n",
       "    <tr>\n",
       "      <th>delta</th>\n",
       "      <td>-0.03</td>\n",
       "      <td>-0.29</td>\n",
       "      <td>0.23</td>\n",
       "      <td>0.89</td>\n",
       "      <td>0.79</td>\n",
       "      <td>1.00</td>\n",
       "      <td>0.54</td>\n",
       "      <td>0.08</td>\n",
       "      <td>0.38</td>\n",
       "    </tr>\n",
       "    <tr>\n",
       "      <th>bulk</th>\n",
       "      <td>-0.03</td>\n",
       "      <td>-0.10</td>\n",
       "      <td>0.10</td>\n",
       "      <td>0.51</td>\n",
       "      <td>0.43</td>\n",
       "      <td>0.54</td>\n",
       "      <td>1.00</td>\n",
       "      <td>0.03</td>\n",
       "      <td>0.30</td>\n",
       "    </tr>\n",
       "    <tr>\n",
       "      <th>wire</th>\n",
       "      <td>0.01</td>\n",
       "      <td>0.03</td>\n",
       "      <td>-0.14</td>\n",
       "      <td>-0.02</td>\n",
       "      <td>0.19</td>\n",
       "      <td>0.08</td>\n",
       "      <td>0.03</td>\n",
       "      <td>1.00</td>\n",
       "      <td>0.22</td>\n",
       "    </tr>\n",
       "    <tr>\n",
       "      <th>gas</th>\n",
       "      <td>-0.05</td>\n",
       "      <td>0.02</td>\n",
       "      <td>-0.01</td>\n",
       "      <td>0.29</td>\n",
       "      <td>0.40</td>\n",
       "      <td>0.38</td>\n",
       "      <td>0.30</td>\n",
       "      <td>0.22</td>\n",
       "      <td>1.00</td>\n",
       "    </tr>\n",
       "  </tbody>\n",
       "</table>\n",
       "</div>"
      ],
      "text/plain": [
       "            key  min_temp  max_temp  energy  count_arc  delta  bulk  wire  \\\n",
       "key        1.00     -0.01     -0.07   -0.01      -0.03  -0.03 -0.03  0.01   \n",
       "min_temp  -0.01      1.00      0.33   -0.29      -0.16  -0.29 -0.10  0.03   \n",
       "max_temp  -0.07      0.33      1.00    0.29       0.08   0.23  0.10 -0.14   \n",
       "energy    -0.01     -0.29      0.29    1.00       0.51   0.89  0.51 -0.02   \n",
       "count_arc -0.03     -0.16      0.08    0.51       1.00   0.79  0.43  0.19   \n",
       "delta     -0.03     -0.29      0.23    0.89       0.79   1.00  0.54  0.08   \n",
       "bulk      -0.03     -0.10      0.10    0.51       0.43   0.54  1.00  0.03   \n",
       "wire       0.01      0.03     -0.14   -0.02       0.19   0.08  0.03  1.00   \n",
       "gas       -0.05      0.02     -0.01    0.29       0.40   0.38  0.30  0.22   \n",
       "\n",
       "            gas  \n",
       "key       -0.05  \n",
       "min_temp   0.02  \n",
       "max_temp  -0.01  \n",
       "energy     0.29  \n",
       "count_arc  0.40  \n",
       "delta      0.38  \n",
       "bulk       0.30  \n",
       "wire       0.22  \n",
       "gas        1.00  "
      ]
     },
     "execution_count": 104,
     "metadata": {},
     "output_type": "execute_result"
    }
   ],
   "source": [
    "df.corr()"
   ]
  },
  {
   "cell_type": "code",
   "execution_count": 107,
   "metadata": {},
   "outputs": [
    {
     "data": {
      "text/html": [
       "<div>\n",
       "<style scoped>\n",
       "    .dataframe tbody tr th:only-of-type {\n",
       "        vertical-align: middle;\n",
       "    }\n",
       "\n",
       "    .dataframe tbody tr th {\n",
       "        vertical-align: top;\n",
       "    }\n",
       "\n",
       "    .dataframe thead th {\n",
       "        text-align: right;\n",
       "    }\n",
       "</style>\n",
       "<table border=\"1\" class=\"dataframe\">\n",
       "  <thead>\n",
       "    <tr style=\"text-align: right;\">\n",
       "      <th></th>\n",
       "      <th>key</th>\n",
       "      <th>min_temp</th>\n",
       "      <th>max_temp</th>\n",
       "      <th>energy</th>\n",
       "      <th>count_arc</th>\n",
       "      <th>delta</th>\n",
       "      <th>bulk</th>\n",
       "      <th>wire</th>\n",
       "      <th>gas</th>\n",
       "    </tr>\n",
       "  </thead>\n",
       "  <tbody>\n",
       "    <tr>\n",
       "      <th>0</th>\n",
       "      <td>1</td>\n",
       "      <td>1,571.00</td>\n",
       "      <td>1,613.00</td>\n",
       "      <td>1,442.38</td>\n",
       "      <td>5</td>\n",
       "      <td>18.30</td>\n",
       "      <td>553.00</td>\n",
       "      <td>60.06</td>\n",
       "      <td>29.75</td>\n",
       "    </tr>\n",
       "    <tr>\n",
       "      <th>1</th>\n",
       "      <td>2</td>\n",
       "      <td>1,581.00</td>\n",
       "      <td>1,602.00</td>\n",
       "      <td>881.23</td>\n",
       "      <td>4</td>\n",
       "      <td>13.52</td>\n",
       "      <td>582.00</td>\n",
       "      <td>96.05</td>\n",
       "      <td>12.56</td>\n",
       "    </tr>\n",
       "    <tr>\n",
       "      <th>2</th>\n",
       "      <td>3</td>\n",
       "      <td>1,596.00</td>\n",
       "      <td>1,599.00</td>\n",
       "      <td>525.07</td>\n",
       "      <td>5</td>\n",
       "      <td>10.92</td>\n",
       "      <td>544.00</td>\n",
       "      <td>91.16</td>\n",
       "      <td>28.55</td>\n",
       "    </tr>\n",
       "    <tr>\n",
       "      <th>3</th>\n",
       "      <td>4</td>\n",
       "      <td>1,601.00</td>\n",
       "      <td>1,625.00</td>\n",
       "      <td>796.91</td>\n",
       "      <td>4</td>\n",
       "      <td>12.35</td>\n",
       "      <td>595.00</td>\n",
       "      <td>89.06</td>\n",
       "      <td>18.84</td>\n",
       "    </tr>\n",
       "    <tr>\n",
       "      <th>4</th>\n",
       "      <td>6</td>\n",
       "      <td>1,543.00</td>\n",
       "      <td>1,596.00</td>\n",
       "      <td>1,410.75</td>\n",
       "      <td>4</td>\n",
       "      <td>15.87</td>\n",
       "      <td>676.00</td>\n",
       "      <td>108.22</td>\n",
       "      <td>11.27</td>\n",
       "    </tr>\n",
       "    <tr>\n",
       "      <th>...</th>\n",
       "      <td>...</td>\n",
       "      <td>...</td>\n",
       "      <td>...</td>\n",
       "      <td>...</td>\n",
       "      <td>...</td>\n",
       "      <td>...</td>\n",
       "      <td>...</td>\n",
       "      <td>...</td>\n",
       "      <td>...</td>\n",
       "    </tr>\n",
       "    <tr>\n",
       "      <th>2186</th>\n",
       "      <td>2494</td>\n",
       "      <td>1,585.00</td>\n",
       "      <td>1,591.00</td>\n",
       "      <td>634.54</td>\n",
       "      <td>3</td>\n",
       "      <td>9.17</td>\n",
       "      <td>591.00</td>\n",
       "      <td>75.04</td>\n",
       "      <td>3.98</td>\n",
       "    </tr>\n",
       "    <tr>\n",
       "      <th>2187</th>\n",
       "      <td>2495</td>\n",
       "      <td>1,570.00</td>\n",
       "      <td>1,591.00</td>\n",
       "      <td>778.82</td>\n",
       "      <td>4</td>\n",
       "      <td>12.05</td>\n",
       "      <td>719.00</td>\n",
       "      <td>89.15</td>\n",
       "      <td>7.13</td>\n",
       "    </tr>\n",
       "    <tr>\n",
       "      <th>2188</th>\n",
       "      <td>2496</td>\n",
       "      <td>1,554.00</td>\n",
       "      <td>1,591.00</td>\n",
       "      <td>875.26</td>\n",
       "      <td>6</td>\n",
       "      <td>15.67</td>\n",
       "      <td>796.00</td>\n",
       "      <td>114.18</td>\n",
       "      <td>9.41</td>\n",
       "    </tr>\n",
       "    <tr>\n",
       "      <th>2189</th>\n",
       "      <td>2498</td>\n",
       "      <td>1,591.00</td>\n",
       "      <td>1,594.00</td>\n",
       "      <td>767.82</td>\n",
       "      <td>5</td>\n",
       "      <td>12.50</td>\n",
       "      <td>733.00</td>\n",
       "      <td>118.11</td>\n",
       "      <td>14.95</td>\n",
       "    </tr>\n",
       "    <tr>\n",
       "      <th>2190</th>\n",
       "      <td>2499</td>\n",
       "      <td>1,569.00</td>\n",
       "      <td>1,603.00</td>\n",
       "      <td>1,301.83</td>\n",
       "      <td>4</td>\n",
       "      <td>14.72</td>\n",
       "      <td>633.00</td>\n",
       "      <td>160.17</td>\n",
       "      <td>11.34</td>\n",
       "    </tr>\n",
       "  </tbody>\n",
       "</table>\n",
       "<p>2191 rows × 9 columns</p>\n",
       "</div>"
      ],
      "text/plain": [
       "       key  min_temp  max_temp   energy  count_arc  delta   bulk   wire   gas\n",
       "0        1  1,571.00  1,613.00 1,442.38          5  18.30 553.00  60.06 29.75\n",
       "1        2  1,581.00  1,602.00   881.23          4  13.52 582.00  96.05 12.56\n",
       "2        3  1,596.00  1,599.00   525.07          5  10.92 544.00  91.16 28.55\n",
       "3        4  1,601.00  1,625.00   796.91          4  12.35 595.00  89.06 18.84\n",
       "4        6  1,543.00  1,596.00 1,410.75          4  15.87 676.00 108.22 11.27\n",
       "...    ...       ...       ...      ...        ...    ...    ...    ...   ...\n",
       "2186  2494  1,585.00  1,591.00   634.54          3   9.17 591.00  75.04  3.98\n",
       "2187  2495  1,570.00  1,591.00   778.82          4  12.05 719.00  89.15  7.13\n",
       "2188  2496  1,554.00  1,591.00   875.26          6  15.67 796.00 114.18  9.41\n",
       "2189  2498  1,591.00  1,594.00   767.82          5  12.50 733.00 118.11 14.95\n",
       "2190  2499  1,569.00  1,603.00 1,301.83          4  14.72 633.00 160.17 11.34\n",
       "\n",
       "[2191 rows x 9 columns]"
      ]
     },
     "execution_count": 107,
     "metadata": {},
     "output_type": "execute_result"
    }
   ],
   "source": [
    "df"
   ]
  },
  {
   "cell_type": "markdown",
   "metadata": {
    "pycharm": {
     "name": "#%% md\n"
    }
   },
   "source": [
    "## Подготовка моделей:"
   ]
  },
  {
   "cell_type": "markdown",
   "metadata": {
    "pycharm": {
     "name": "#%% md\n"
    }
   },
   "source": [
    "### Определение тестовой и тренировочной выборок"
   ]
  },
  {
   "cell_type": "markdown",
   "metadata": {},
   "source": [
    "Выделим признаки и целевой признак"
   ]
  },
  {
   "cell_type": "code",
   "execution_count": 108,
   "metadata": {},
   "outputs": [],
   "source": [
    "target = df['max_temp']\n",
    "features = df.drop(['max_temp'] , axis=1)"
   ]
  },
  {
   "cell_type": "markdown",
   "metadata": {},
   "source": [
    "Выделим тестовую подвыборку"
   ]
  },
  {
   "cell_type": "code",
   "execution_count": 109,
   "metadata": {},
   "outputs": [],
   "source": [
    "features_train, features_test, target_train, target_test = train_test_split(\n",
    "    features,\n",
    "    target,\n",
    "    test_size=0.25,\n",
    "    random_state=17)"
   ]
  },
  {
   "cell_type": "code",
   "execution_count": 110,
   "metadata": {},
   "outputs": [
    {
     "name": "stdout",
     "output_type": "stream",
     "text": [
      "Размер Train: features (1643, 8) target (1643,)\n",
      "Размер Test: features (548, 8) target (548,)\n"
     ]
    }
   ],
   "source": [
    "print(f'Размер Train: features {features_train.shape} target {target_train.shape}')\n",
    "print(f'Размер Test: features {features_test.shape} target {target_test.shape}')"
   ]
  },
  {
   "cell_type": "markdown",
   "metadata": {
    "pycharm": {
     "name": "#%% md\n"
    }
   },
   "source": [
    "### Линейная регрессия"
   ]
  },
  {
   "cell_type": "code",
   "execution_count": 111,
   "metadata": {},
   "outputs": [],
   "source": [
    "lr = LinearRegression().fit(features_train, target_train)"
   ]
  },
  {
   "cell_type": "code",
   "execution_count": 112,
   "metadata": {},
   "outputs": [],
   "source": [
    "scores = cross_val_score(lr,\n",
    "                        features_train,\n",
    "                        target_train,\n",
    "                        scoring=\"neg_mean_absolute_error\",\n",
    "                        cv = 5)"
   ]
  },
  {
   "cell_type": "code",
   "execution_count": 113,
   "metadata": {},
   "outputs": [
    {
     "name": "stdout",
     "output_type": "stream",
     "text": [
      "Train scores:\n",
      "mae = [-7.36791947 -8.93917509 -7.99357815 -8.37177913 -8.46414377] \n",
      "mean score = -8.22732 +/- 0.52477\n",
      "\n",
      "Test scores:\n",
      "mae = [-6.91190215 -9.90328082 -7.65871653 -8.45864344 -8.27147184] \n",
      "mean score = -8.24080 +/- 0.99167\n"
     ]
    }
   ],
   "source": [
    "print('Train scores:')\n",
    "print('mae = {} \\nmean score = {:.5f} +/- {:.5f}'.format(scores,\n",
    "                                                            scores.mean(),\n",
    "                                                            scores.std()))\n",
    "print()\n",
    "print('Test scores:')\n",
    "scores= cross_val_score(lr,\n",
    "                        features_test,\n",
    "                        target_test,\n",
    "                        scoring=\"neg_mean_absolute_error\",\n",
    "                        cv = 5)\n",
    "print('mae = {} \\nmean score = {:.5f} +/- {:.5f}'.format(scores,\n",
    "                                                            scores.mean(),\n",
    "                                                            scores.std()))"
   ]
  },
  {
   "cell_type": "markdown",
   "metadata": {
    "pycharm": {
     "name": "#%% md\n"
    }
   },
   "source": [
    "### Random forest regression"
   ]
  },
  {
   "cell_type": "code",
   "execution_count": 111,
   "metadata": {},
   "outputs": [],
   "source": [
    "forest = RandomForestRegressor(\n",
    "    random_state=17,\n",
    "    max_depth=10\n",
    ")"
   ]
  },
  {
   "cell_type": "code",
   "execution_count": 112,
   "metadata": {},
   "outputs": [],
   "source": [
    "forest_params = { \n",
    "                'n_estimators': [200,300,400,500],\n",
    "                'max_features': ['sqrt','log2'],\n",
    "                'max_depth' : [3,4,5,6,7],\n",
    "                'random_state' : [17]\n",
    "                }"
   ]
  },
  {
   "cell_type": "code",
   "execution_count": 113,
   "metadata": {},
   "outputs": [],
   "source": [
    "forest_grid = GridSearchCV(forest,\n",
    "                           forest_params,\n",
    "                           cv=5,\n",
    "                           n_jobs=-1,\n",
    "                           scoring='neg_mean_absolute_error'\n",
    "                          )"
   ]
  },
  {
   "cell_type": "code",
   "execution_count": 114,
   "metadata": {},
   "outputs": [
    {
     "data": {
      "text/plain": [
       "GridSearchCV(cv=5,\n",
       "             estimator=RandomForestRegressor(max_depth=10, random_state=17),\n",
       "             n_jobs=-1,\n",
       "             param_grid={'max_depth': [3, 4, 5, 6, 7],\n",
       "                         'max_features': ['sqrt', 'log2'],\n",
       "                         'n_estimators': [200, 300, 400, 500],\n",
       "                         'random_state': [17]},\n",
       "             scoring='neg_mean_absolute_error')"
      ]
     },
     "execution_count": 114,
     "metadata": {},
     "output_type": "execute_result"
    }
   ],
   "source": [
    "forest_grid.fit(features_train, target_train)"
   ]
  },
  {
   "cell_type": "code",
   "execution_count": 115,
   "metadata": {},
   "outputs": [
    {
     "name": "stdout",
     "output_type": "stream",
     "text": [
      "{'max_depth': 7, 'max_features': 'log2', 'n_estimators': 500, 'random_state': 17} -6.976925167692833\n"
     ]
    }
   ],
   "source": [
    "print(forest_grid.best_params_, forest_grid.best_score_)"
   ]
  },
  {
   "cell_type": "code",
   "execution_count": 116,
   "metadata": {},
   "outputs": [
    {
     "name": "stdout",
     "output_type": "stream",
     "text": [
      "6.946260233183737\n"
     ]
    }
   ],
   "source": [
    "print(mean_absolute_error(target_test, forest_grid.predict(features_test)))"
   ]
  },
  {
   "cell_type": "markdown",
   "metadata": {
    "pycharm": {
     "name": "#%% md\n"
    }
   },
   "source": [
    "### CatBoost regression"
   ]
  },
  {
   "cell_type": "markdown",
   "metadata": {},
   "source": [
    "Обучим модель градиентного бустинга CatBoost регрессию"
   ]
  },
  {
   "cell_type": "code",
   "execution_count": 114,
   "metadata": {},
   "outputs": [],
   "source": [
    "catb = CatBoostRegressor(loss_function=\"MAE\", verbose=500, n_estimators=1900, depth=4, learning_rate=0.05)"
   ]
  },
  {
   "cell_type": "code",
   "execution_count": 115,
   "metadata": {},
   "outputs": [
    {
     "name": "stdout",
     "output_type": "stream",
     "text": [
      "0:\tlearn: 9.2986600\ttotal: 47.4ms\tremaining: 1m 30s\n",
      "500:\tlearn: 5.1564438\ttotal: 522ms\tremaining: 1.46s\n",
      "1000:\tlearn: 4.6621537\ttotal: 983ms\tremaining: 883ms\n",
      "1500:\tlearn: 4.4041435\ttotal: 1.46s\tremaining: 387ms\n",
      "1899:\tlearn: 4.2267621\ttotal: 1.82s\tremaining: 0us\n"
     ]
    },
    {
     "data": {
      "text/plain": [
       "<catboost.core.CatBoostRegressor at 0x7f4652b30ee0>"
      ]
     },
     "execution_count": 115,
     "metadata": {},
     "output_type": "execute_result"
    }
   ],
   "source": [
    "catb.fit(features_train, target_train)"
   ]
  },
  {
   "cell_type": "code",
   "execution_count": 116,
   "metadata": {},
   "outputs": [],
   "source": [
    "catb_pred = catb.predict(features_test)"
   ]
  },
  {
   "cell_type": "code",
   "execution_count": 117,
   "metadata": {},
   "outputs": [
    {
     "name": "stdout",
     "output_type": "stream",
     "text": [
      "6.5067627997202235\n"
     ]
    }
   ],
   "source": [
    "print(mean_absolute_error(catb_pred, target_test))"
   ]
  },
  {
   "cell_type": "markdown",
   "metadata": {},
   "source": [
    "Лучшая оценка на тесте"
   ]
  },
  {
   "cell_type": "markdown",
   "metadata": {
    "pycharm": {
     "name": "#%% md\n"
    }
   },
   "source": [
    "### LightGBM regression"
   ]
  },
  {
   "cell_type": "code",
   "execution_count": 118,
   "metadata": {},
   "outputs": [],
   "source": [
    "lgbm = LGBMRegressor(max_depth=4, learning_rate=0.05)"
   ]
  },
  {
   "cell_type": "code",
   "execution_count": 122,
   "metadata": {},
   "outputs": [
    {
     "name": "stderr",
     "output_type": "stream",
     "text": [
      "/opt/conda/lib/python3.9/site-packages/lightgbm/sklearn.py:736: UserWarning: 'verbose' argument is deprecated and will be removed in a future release of LightGBM. Pass 'log_evaluation()' callback via 'callbacks' argument instead.\n",
      "  _log_warning(\"'verbose' argument is deprecated and will be removed in a future release of LightGBM. \"\n"
     ]
    },
    {
     "data": {
      "text/plain": [
       "LGBMRegressor(learning_rate=0.05, max_depth=4)"
      ]
     },
     "execution_count": 122,
     "metadata": {},
     "output_type": "execute_result"
    }
   ],
   "source": [
    "lgbm.fit(features_train,\n",
    "            target_train,\n",
    "            verbose=50)"
   ]
  },
  {
   "cell_type": "code",
   "execution_count": 123,
   "metadata": {},
   "outputs": [],
   "source": [
    "lgbm_pred = lgbm.predict(features_test)"
   ]
  },
  {
   "cell_type": "code",
   "execution_count": 124,
   "metadata": {},
   "outputs": [
    {
     "name": "stdout",
     "output_type": "stream",
     "text": [
      "6.920233793855818\n"
     ]
    }
   ],
   "source": [
    "print(mean_absolute_error(lgbm_pred, target_test))"
   ]
  },
  {
   "cell_type": "markdown",
   "metadata": {
    "pycharm": {
     "name": "#%% md\n"
    }
   },
   "source": [
    "## Тестирование модели"
   ]
  },
  {
   "cell_type": "markdown",
   "metadata": {
    "pycharm": {
     "name": "#%% md\n"
    }
   },
   "source": [
    "### Анализ важности факторов"
   ]
  },
  {
   "cell_type": "code",
   "execution_count": 125,
   "metadata": {
    "scrolled": true
   },
   "outputs": [
    {
     "data": {
      "text/plain": [
       "<AxesSubplot:>"
      ]
     },
     "execution_count": 125,
     "metadata": {},
     "output_type": "execute_result"
    },
    {
     "data": {
      "image/png": "[encoded data removed]",
      "text/plain": [
       "<Figure size 432x288 with 1 Axes>"
      ]
     },
     "metadata": {
      "needs_background": "light"
     },
     "output_type": "display_data"
    }
   ],
   "source": [
    "(pd.Series(catb.feature_importances_, index=features_test.columns)\n",
    "   .nlargest(6)\n",
    "   .plot(kind='barh'))"
   ]
  },
  {
   "cell_type": "markdown",
   "metadata": {},
   "source": [
    "Лучшая оценка на тестовой выборке у модели CatBoost regressor - 6.5 <br>\n",
    "Наиболее важные признаки - начальная температура, затраченная энергия и данные о проводлочных материалах."
   ]
  },
  {
   "cell_type": "markdown",
   "metadata": {
    "pycharm": {
     "name": "#%% md\n"
    }
   },
   "source": [
    "## Выводы и отчет по проделанной работе"
   ]
  },
  {
   "cell_type": "markdown",
   "metadata": {},
   "source": [
    "Целью работы было построить модель, которая предскажет температуру стали в технологическом процессе на металлургическом комбинате ООО «Так закаляем сталь» с целью уменьшить потребление электроэнергии на этапе обработки стали. <br>\n",
    "В ходе работы были выполнены все намеченые пункты:\n",
    "1. Проведен исследовательский анализ данных:\n",
    "    - Проанализировали порядок событий в производственном процессе\n",
    "    - Посмотрели на распределение исходных данных\n",
    "    - Очистили данные от выбросов и шумов\n",
    "2. Сгенерировали признаки, на которых будет обучаться модель:\n",
    "    - Сгенерировали новые признаки\n",
    "    - Проверили признаки на мультиколлинеарность, исключили лишние\n",
    "3. Построили модель, которая предскажет температуру стали:\n",
    "    - Сформировали обучающую и тестовую выборки\n",
    "    - Выбрали несколько моделей и проверили их эффективность на кросвалидации с помощью показателя эффективности MAE\n",
    "    - Эффективность лучшей модели проверили на тестовой выборке"
   ]
  },
  {
   "cell_type": "markdown",
   "metadata": {},
   "source": [
    "В ходе подготовки данных были расчитаны и добавлены новые признаки:\n",
    "- суммарная энергия затраченая на нагрев партии\n",
    "- колличество подогревов стали\n",
    "- суммарное время нагрева стали"
   ]
  },
  {
   "cell_type": "markdown",
   "metadata": {},
   "source": [
    "Самым важным этапом в работе была подготовка данных к моделированию. Каждый шаг оказывал сильное влияние на итоговую оценку. Например очистка от выбросов значений реактивной мощности дает прирост в МАЕ около 2 градусов. Одной из самых сложных частей проекта было разложение данных технологического процесса по времени выполнения основных этапов, удаление партий которые не подходят кртитериям и на основе полученных данных составление итоговой таблицы признаков. Последовательное аккуратное выполнение этапов подготовки, очистки и слияния таблиц в исходную помогло предотвратить возможные ошибки и неправильный итоговый результат. Также важной частью является выбор и настройка модели, точный выбор правильных параметров позволил улучшить результат на 0,2 - 0,3 градусов."
   ]
  },
  {
   "cell_type": "markdown",
   "metadata": {},
   "source": [
    "В финальной части были обучены модели:\n",
    "- Линейная регрессия\n",
    "- Random Forest regression\n",
    "- CatBoost regression\n",
    "- LightGBM regression\n",
    "\n",
    "Итоговой моделью была выбрана CatBoost регрессия, с оценками MAE на тестовой выборке - 6.5, что удовлетворяет условиям задачи. <br>\n",
    "Наиболее важные признаки - начальная температура, затраченная энергия и данные о проводлочных материалах."
   ]
  }
 ],
 "metadata": {
  "ExecuteTimeLog": [
   {
    "duration": 1356,
    "start_time": "2022-05-23T21:05:19.315Z"
   },
   {
    "duration": 0,
    "start_time": "2022-05-23T21:05:20.673Z"
   },
   {
    "duration": 5,
    "start_time": "2022-05-23T21:05:28.850Z"
   },
   {
    "duration": 3,
    "start_time": "2022-05-23T21:06:41.848Z"
   },
   {
    "duration": 3,
    "start_time": "2022-05-23T21:06:42.544Z"
   },
   {
    "duration": 201,
    "start_time": "2022-05-23T21:06:44.727Z"
   },
   {
    "duration": 11,
    "start_time": "2022-05-23T21:06:52.060Z"
   },
   {
    "duration": 17,
    "start_time": "2022-05-23T21:06:52.865Z"
   },
   {
    "duration": 17,
    "start_time": "2022-05-23T21:06:53.552Z"
   },
   {
    "duration": 4,
    "start_time": "2022-05-23T21:06:54.588Z"
   },
   {
    "duration": 4,
    "start_time": "2022-05-23T21:06:56.389Z"
   },
   {
    "duration": 7,
    "start_time": "2022-05-23T21:06:57.689Z"
   },
   {
    "duration": 25,
    "start_time": "2022-05-23T21:06:58.361Z"
   },
   {
    "duration": 1057,
    "start_time": "2022-05-23T21:06:59.986Z"
   },
   {
    "duration": 170,
    "start_time": "2022-05-23T21:07:01.786Z"
   },
   {
    "duration": 16534,
    "start_time": "2022-05-23T21:07:03.856Z"
   },
   {
    "duration": 11,
    "start_time": "2022-05-23T21:07:20.391Z"
   },
   {
    "duration": 16,
    "start_time": "2022-05-23T21:07:20.403Z"
   },
   {
    "duration": 43,
    "start_time": "2022-05-23T21:07:20.421Z"
   },
   {
    "duration": 3,
    "start_time": "2022-05-23T21:07:20.465Z"
   },
   {
    "duration": 10,
    "start_time": "2022-05-23T21:07:20.475Z"
   },
   {
    "duration": 3,
    "start_time": "2022-05-23T21:07:20.487Z"
   },
   {
    "duration": 9,
    "start_time": "2022-05-23T21:07:20.492Z"
   },
   {
    "duration": 9,
    "start_time": "2022-05-23T21:07:20.609Z"
   },
   {
    "duration": 13,
    "start_time": "2022-05-23T21:07:27.194Z"
   },
   {
    "duration": 18,
    "start_time": "2022-05-23T21:07:28.686Z"
   },
   {
    "duration": 14,
    "start_time": "2022-05-23T21:07:29.200Z"
   },
   {
    "duration": 4,
    "start_time": "2022-05-23T21:07:30.005Z"
   },
   {
    "duration": 12,
    "start_time": "2022-05-23T21:07:31.639Z"
   },
   {
    "duration": 4,
    "start_time": "2022-05-23T21:07:31.923Z"
   },
   {
    "duration": 6,
    "start_time": "2022-05-23T21:07:36.788Z"
   },
   {
    "duration": 10,
    "start_time": "2022-05-23T21:07:37.435Z"
   },
   {
    "duration": 14,
    "start_time": "2022-05-23T21:07:38.035Z"
   },
   {
    "duration": 3,
    "start_time": "2022-05-23T21:07:38.505Z"
   },
   {
    "duration": 3,
    "start_time": "2022-05-23T21:07:39.598Z"
   },
   {
    "duration": 6,
    "start_time": "2022-05-23T21:07:40.513Z"
   },
   {
    "duration": 5,
    "start_time": "2022-05-23T21:07:40.759Z"
   },
   {
    "duration": 368,
    "start_time": "2022-05-23T21:07:41.122Z"
   },
   {
    "duration": 118,
    "start_time": "2022-05-23T21:07:41.824Z"
   },
   {
    "duration": 7,
    "start_time": "2022-05-23T21:07:47.721Z"
   },
   {
    "duration": 11,
    "start_time": "2022-05-23T21:07:48.354Z"
   },
   {
    "duration": 15,
    "start_time": "2022-05-23T21:07:48.930Z"
   },
   {
    "duration": 5,
    "start_time": "2022-05-23T21:07:49.397Z"
   },
   {
    "duration": 4,
    "start_time": "2022-05-23T21:07:50.713Z"
   },
   {
    "duration": 7,
    "start_time": "2022-05-23T21:07:51.196Z"
   },
   {
    "duration": 10,
    "start_time": "2022-05-23T21:07:51.555Z"
   },
   {
    "duration": 377,
    "start_time": "2022-05-23T21:07:51.839Z"
   },
   {
    "duration": 110,
    "start_time": "2022-05-23T21:07:52.593Z"
   },
   {
    "duration": 8,
    "start_time": "2022-05-23T21:07:58.297Z"
   },
   {
    "duration": 10,
    "start_time": "2022-05-23T21:07:58.819Z"
   },
   {
    "duration": 30,
    "start_time": "2022-05-23T21:07:59.301Z"
   },
   {
    "duration": 5,
    "start_time": "2022-05-23T21:07:59.838Z"
   },
   {
    "duration": 6,
    "start_time": "2022-05-23T21:08:01.250Z"
   },
   {
    "duration": 7,
    "start_time": "2022-05-23T21:08:01.643Z"
   },
   {
    "duration": 7,
    "start_time": "2022-05-23T21:08:01.942Z"
   },
   {
    "duration": 11,
    "start_time": "2022-05-23T21:08:06.888Z"
   },
   {
    "duration": 11,
    "start_time": "2022-05-23T21:08:07.605Z"
   },
   {
    "duration": 10,
    "start_time": "2022-05-23T21:08:08.296Z"
   },
   {
    "duration": 4,
    "start_time": "2022-05-23T21:08:09.228Z"
   },
   {
    "duration": 7,
    "start_time": "2022-05-23T21:08:10.813Z"
   },
   {
    "duration": 6,
    "start_time": "2022-05-23T21:08:11.265Z"
   },
   {
    "duration": 16,
    "start_time": "2022-05-23T21:08:11.470Z"
   },
   {
    "duration": 53,
    "start_time": "2022-05-24T12:57:54.324Z"
   },
   {
    "duration": 1454,
    "start_time": "2022-05-24T12:58:19.975Z"
   },
   {
    "duration": 3,
    "start_time": "2022-05-24T12:58:21.431Z"
   },
   {
    "duration": 498,
    "start_time": "2022-05-24T12:58:21.435Z"
   },
   {
    "duration": 15,
    "start_time": "2022-05-24T12:58:21.935Z"
   },
   {
    "duration": 13,
    "start_time": "2022-05-24T12:58:21.951Z"
   },
   {
    "duration": 17,
    "start_time": "2022-05-24T12:58:21.966Z"
   },
   {
    "duration": 4,
    "start_time": "2022-05-24T12:58:21.984Z"
   },
   {
    "duration": 8,
    "start_time": "2022-05-24T12:58:21.990Z"
   },
   {
    "duration": 12,
    "start_time": "2022-05-24T12:58:22.000Z"
   },
   {
    "duration": 13,
    "start_time": "2022-05-24T12:58:22.016Z"
   },
   {
    "duration": 503,
    "start_time": "2022-05-24T12:58:22.031Z"
   },
   {
    "duration": 137,
    "start_time": "2022-05-24T12:58:22.536Z"
   },
   {
    "duration": 16345,
    "start_time": "2022-05-24T12:58:22.675Z"
   },
   {
    "duration": 15,
    "start_time": "2022-05-24T12:58:39.022Z"
   },
   {
    "duration": 28,
    "start_time": "2022-05-24T12:58:39.039Z"
   },
   {
    "duration": 81,
    "start_time": "2022-05-24T12:58:39.069Z"
   },
   {
    "duration": 5,
    "start_time": "2022-05-24T12:58:39.152Z"
   },
   {
    "duration": 14,
    "start_time": "2022-05-24T12:58:39.159Z"
   },
   {
    "duration": 4,
    "start_time": "2022-05-24T12:58:39.175Z"
   },
   {
    "duration": 6,
    "start_time": "2022-05-24T12:58:39.194Z"
   },
   {
    "duration": 8,
    "start_time": "2022-05-24T12:58:39.202Z"
   },
   {
    "duration": 13,
    "start_time": "2022-05-24T12:58:39.211Z"
   },
   {
    "duration": 12,
    "start_time": "2022-05-24T12:58:39.225Z"
   },
   {
    "duration": 10,
    "start_time": "2022-05-24T12:58:39.238Z"
   },
   {
    "duration": 9,
    "start_time": "2022-05-24T12:58:39.249Z"
   },
   {
    "duration": 43,
    "start_time": "2022-05-24T12:58:39.259Z"
   },
   {
    "duration": 4,
    "start_time": "2022-05-24T12:58:39.303Z"
   },
   {
    "duration": 6,
    "start_time": "2022-05-24T12:58:39.310Z"
   },
   {
    "duration": 10,
    "start_time": "2022-05-24T12:58:39.317Z"
   },
   {
    "duration": 16,
    "start_time": "2022-05-24T12:58:39.328Z"
   },
   {
    "duration": 4,
    "start_time": "2022-05-24T12:58:39.345Z"
   },
   {
    "duration": 6,
    "start_time": "2022-05-24T12:58:39.350Z"
   },
   {
    "duration": 9,
    "start_time": "2022-05-24T12:58:39.357Z"
   },
   {
    "duration": 8,
    "start_time": "2022-05-24T12:58:39.395Z"
   },
   {
    "duration": 412,
    "start_time": "2022-05-24T12:58:39.405Z"
   },
   {
    "duration": 111,
    "start_time": "2022-05-24T12:58:39.819Z"
   },
   {
    "duration": 7,
    "start_time": "2022-05-24T12:58:39.931Z"
   },
   {
    "duration": 17,
    "start_time": "2022-05-24T12:58:39.940Z"
   },
   {
    "duration": 35,
    "start_time": "2022-05-24T12:58:39.959Z"
   },
   {
    "duration": 5,
    "start_time": "2022-05-24T12:58:39.995Z"
   },
   {
    "duration": 6,
    "start_time": "2022-05-24T12:58:40.001Z"
   },
   {
    "duration": 13,
    "start_time": "2022-05-24T12:58:40.008Z"
   },
   {
    "duration": 17,
    "start_time": "2022-05-24T12:58:40.022Z"
   },
   {
    "duration": 410,
    "start_time": "2022-05-24T12:58:40.041Z"
   },
   {
    "duration": 153,
    "start_time": "2022-05-24T12:58:40.453Z"
   },
   {
    "duration": 9,
    "start_time": "2022-05-24T12:58:40.607Z"
   },
   {
    "duration": 15,
    "start_time": "2022-05-24T12:58:40.617Z"
   },
   {
    "duration": 35,
    "start_time": "2022-05-24T12:58:40.634Z"
   },
   {
    "duration": 4,
    "start_time": "2022-05-24T12:58:40.671Z"
   },
   {
    "duration": 8,
    "start_time": "2022-05-24T12:58:40.694Z"
   },
   {
    "duration": 10,
    "start_time": "2022-05-24T12:58:40.704Z"
   },
   {
    "duration": 9,
    "start_time": "2022-05-24T12:58:40.716Z"
   },
   {
    "duration": 10,
    "start_time": "2022-05-24T12:58:40.727Z"
   },
   {
    "duration": 12,
    "start_time": "2022-05-24T12:58:40.739Z"
   },
   {
    "duration": 12,
    "start_time": "2022-05-24T12:58:40.752Z"
   },
   {
    "duration": 4,
    "start_time": "2022-05-24T12:58:40.794Z"
   },
   {
    "duration": 10,
    "start_time": "2022-05-24T12:58:40.799Z"
   },
   {
    "duration": 9,
    "start_time": "2022-05-24T12:58:40.810Z"
   },
   {
    "duration": 10,
    "start_time": "2022-05-24T12:58:40.820Z"
   },
   {
    "duration": 11,
    "start_time": "2022-05-24T12:58:40.832Z"
   },
   {
    "duration": 7,
    "start_time": "2022-05-24T12:59:32.060Z"
   },
   {
    "duration": 7,
    "start_time": "2022-05-24T12:59:38.651Z"
   },
   {
    "duration": 6,
    "start_time": "2022-05-24T12:59:52.373Z"
   },
   {
    "duration": 9,
    "start_time": "2022-05-24T13:06:52.668Z"
   },
   {
    "duration": 12,
    "start_time": "2022-05-24T13:07:07.859Z"
   },
   {
    "duration": 12,
    "start_time": "2022-05-24T13:07:21.053Z"
   },
   {
    "duration": 7,
    "start_time": "2022-05-24T13:07:34.513Z"
   },
   {
    "duration": 8,
    "start_time": "2022-05-24T13:07:47.632Z"
   },
   {
    "duration": 14,
    "start_time": "2022-05-24T13:08:04.288Z"
   },
   {
    "duration": 11,
    "start_time": "2022-05-24T13:08:12.968Z"
   },
   {
    "duration": 4,
    "start_time": "2022-05-24T13:11:02.584Z"
   },
   {
    "duration": 5,
    "start_time": "2022-05-24T13:11:16.016Z"
   },
   {
    "duration": 5,
    "start_time": "2022-05-24T13:11:33.999Z"
   },
   {
    "duration": 7,
    "start_time": "2022-05-24T13:13:47.992Z"
   },
   {
    "duration": 17,
    "start_time": "2022-05-24T13:13:54.912Z"
   },
   {
    "duration": 16,
    "start_time": "2022-05-24T13:15:00.300Z"
   },
   {
    "duration": 22,
    "start_time": "2022-05-24T13:15:06.539Z"
   },
   {
    "duration": 1207,
    "start_time": "2022-05-24T13:15:19.944Z"
   },
   {
    "duration": 3,
    "start_time": "2022-05-24T13:15:21.153Z"
   },
   {
    "duration": 207,
    "start_time": "2022-05-24T13:15:21.157Z"
   },
   {
    "duration": 13,
    "start_time": "2022-05-24T13:15:21.367Z"
   },
   {
    "duration": 13,
    "start_time": "2022-05-24T13:15:21.381Z"
   },
   {
    "duration": 16,
    "start_time": "2022-05-24T13:15:21.395Z"
   },
   {
    "duration": 4,
    "start_time": "2022-05-24T13:15:21.413Z"
   },
   {
    "duration": 7,
    "start_time": "2022-05-24T13:15:21.419Z"
   },
   {
    "duration": 14,
    "start_time": "2022-05-24T13:15:21.427Z"
   },
   {
    "duration": 17,
    "start_time": "2022-05-24T13:15:21.444Z"
   },
   {
    "duration": 442,
    "start_time": "2022-05-24T13:15:21.462Z"
   },
   {
    "duration": 141,
    "start_time": "2022-05-24T13:15:21.905Z"
   },
   {
    "duration": 16450,
    "start_time": "2022-05-24T13:15:22.052Z"
   },
   {
    "duration": 11,
    "start_time": "2022-05-24T13:15:38.503Z"
   },
   {
    "duration": 12,
    "start_time": "2022-05-24T13:15:38.516Z"
   },
   {
    "duration": 47,
    "start_time": "2022-05-24T13:15:38.529Z"
   },
   {
    "duration": 17,
    "start_time": "2022-05-24T13:15:38.578Z"
   },
   {
    "duration": 16,
    "start_time": "2022-05-24T13:15:38.597Z"
   },
   {
    "duration": 4,
    "start_time": "2022-05-24T13:15:38.615Z"
   },
   {
    "duration": 14,
    "start_time": "2022-05-24T13:15:38.621Z"
   },
   {
    "duration": 18,
    "start_time": "2022-05-24T13:15:38.637Z"
   },
   {
    "duration": 13,
    "start_time": "2022-05-24T13:15:38.657Z"
   },
   {
    "duration": 33,
    "start_time": "2022-05-24T13:15:38.671Z"
   },
   {
    "duration": 16,
    "start_time": "2022-05-24T13:15:38.706Z"
   },
   {
    "duration": 4,
    "start_time": "2022-05-24T13:15:38.724Z"
   },
   {
    "duration": 18,
    "start_time": "2022-05-24T13:15:38.729Z"
   },
   {
    "duration": 5,
    "start_time": "2022-05-24T13:15:38.749Z"
   },
   {
    "duration": 8,
    "start_time": "2022-05-24T13:15:38.758Z"
   },
   {
    "duration": 33,
    "start_time": "2022-05-24T13:15:38.768Z"
   },
   {
    "duration": 15,
    "start_time": "2022-05-24T13:15:38.803Z"
   },
   {
    "duration": 5,
    "start_time": "2022-05-24T13:15:38.820Z"
   },
   {
    "duration": 5,
    "start_time": "2022-05-24T13:15:38.826Z"
   },
   {
    "duration": 8,
    "start_time": "2022-05-24T13:15:38.833Z"
   },
   {
    "duration": 7,
    "start_time": "2022-05-24T13:15:38.843Z"
   },
   {
    "duration": 479,
    "start_time": "2022-05-24T13:15:38.852Z"
   },
   {
    "duration": 112,
    "start_time": "2022-05-24T13:15:39.332Z"
   },
   {
    "duration": 8,
    "start_time": "2022-05-24T13:15:39.446Z"
   },
   {
    "duration": 11,
    "start_time": "2022-05-24T13:15:39.456Z"
   },
   {
    "duration": 33,
    "start_time": "2022-05-24T13:15:39.469Z"
   },
   {
    "duration": 3,
    "start_time": "2022-05-24T13:15:39.504Z"
   },
   {
    "duration": 8,
    "start_time": "2022-05-24T13:15:39.509Z"
   },
   {
    "duration": 8,
    "start_time": "2022-05-24T13:15:39.518Z"
   },
   {
    "duration": 10,
    "start_time": "2022-05-24T13:15:39.527Z"
   },
   {
    "duration": 362,
    "start_time": "2022-05-24T13:15:39.538Z"
   },
   {
    "duration": 116,
    "start_time": "2022-05-24T13:15:39.902Z"
   },
   {
    "duration": 9,
    "start_time": "2022-05-24T13:15:40.020Z"
   },
   {
    "duration": 25,
    "start_time": "2022-05-24T13:15:40.034Z"
   },
   {
    "duration": 39,
    "start_time": "2022-05-24T13:15:40.060Z"
   },
   {
    "duration": 4,
    "start_time": "2022-05-24T13:15:40.101Z"
   },
   {
    "duration": 7,
    "start_time": "2022-05-24T13:15:40.107Z"
   },
   {
    "duration": 5,
    "start_time": "2022-05-24T13:15:40.116Z"
   },
   {
    "duration": 8,
    "start_time": "2022-05-24T13:15:40.122Z"
   },
   {
    "duration": 10,
    "start_time": "2022-05-24T13:15:40.132Z"
   },
   {
    "duration": 18,
    "start_time": "2022-05-24T13:15:40.143Z"
   },
   {
    "duration": 47,
    "start_time": "2022-05-24T13:15:40.162Z"
   },
   {
    "duration": 4,
    "start_time": "2022-05-24T13:15:40.210Z"
   },
   {
    "duration": 8,
    "start_time": "2022-05-24T13:15:40.216Z"
   },
   {
    "duration": 9,
    "start_time": "2022-05-24T13:15:40.225Z"
   },
   {
    "duration": 9,
    "start_time": "2022-05-24T13:15:40.235Z"
   },
   {
    "duration": 9,
    "start_time": "2022-05-24T13:15:40.246Z"
   },
   {
    "duration": 39,
    "start_time": "2022-05-24T13:15:40.256Z"
   },
   {
    "duration": 26,
    "start_time": "2022-05-24T13:15:40.297Z"
   },
   {
    "duration": 15,
    "start_time": "2022-05-24T13:15:40.325Z"
   },
   {
    "duration": 10,
    "start_time": "2022-05-24T13:15:40.341Z"
   },
   {
    "duration": 10,
    "start_time": "2022-05-24T13:15:40.352Z"
   },
   {
    "duration": 32,
    "start_time": "2022-05-24T13:15:40.363Z"
   },
   {
    "duration": 13,
    "start_time": "2022-05-24T13:15:40.396Z"
   },
   {
    "duration": 1204,
    "start_time": "2022-05-24T13:16:45.903Z"
   },
   {
    "duration": 2,
    "start_time": "2022-05-24T13:16:47.109Z"
   },
   {
    "duration": 178,
    "start_time": "2022-05-24T13:16:47.112Z"
   },
   {
    "duration": 12,
    "start_time": "2022-05-24T13:16:47.291Z"
   },
   {
    "duration": 15,
    "start_time": "2022-05-24T13:16:47.304Z"
   },
   {
    "duration": 21,
    "start_time": "2022-05-24T13:16:47.321Z"
   },
   {
    "duration": 4,
    "start_time": "2022-05-24T13:16:47.344Z"
   },
   {
    "duration": 6,
    "start_time": "2022-05-24T13:16:47.350Z"
   },
   {
    "duration": 12,
    "start_time": "2022-05-24T13:16:47.357Z"
   },
   {
    "duration": 35,
    "start_time": "2022-05-24T13:16:47.371Z"
   },
   {
    "duration": 397,
    "start_time": "2022-05-24T13:16:47.408Z"
   },
   {
    "duration": 142,
    "start_time": "2022-05-24T13:16:47.806Z"
   },
   {
    "duration": 16309,
    "start_time": "2022-05-24T13:16:47.950Z"
   },
   {
    "duration": 15,
    "start_time": "2022-05-24T13:17:04.261Z"
   },
   {
    "duration": 28,
    "start_time": "2022-05-24T13:17:04.278Z"
   },
   {
    "duration": 45,
    "start_time": "2022-05-24T13:17:04.308Z"
   },
   {
    "duration": 4,
    "start_time": "2022-05-24T13:17:04.354Z"
   },
   {
    "duration": 10,
    "start_time": "2022-05-24T13:17:04.360Z"
   },
   {
    "duration": 26,
    "start_time": "2022-05-24T13:17:04.371Z"
   },
   {
    "duration": 9,
    "start_time": "2022-05-24T13:17:04.398Z"
   },
   {
    "duration": 10,
    "start_time": "2022-05-24T13:17:04.409Z"
   },
   {
    "duration": 14,
    "start_time": "2022-05-24T13:17:04.420Z"
   },
   {
    "duration": 18,
    "start_time": "2022-05-24T13:17:04.436Z"
   },
   {
    "duration": 13,
    "start_time": "2022-05-24T13:17:04.456Z"
   },
   {
    "duration": 4,
    "start_time": "2022-05-24T13:17:04.494Z"
   },
   {
    "duration": 14,
    "start_time": "2022-05-24T13:17:04.500Z"
   },
   {
    "duration": 4,
    "start_time": "2022-05-24T13:17:04.515Z"
   },
   {
    "duration": 6,
    "start_time": "2022-05-24T13:17:04.522Z"
   },
   {
    "duration": 12,
    "start_time": "2022-05-24T13:17:04.529Z"
   },
   {
    "duration": 16,
    "start_time": "2022-05-24T13:17:04.542Z"
   },
   {
    "duration": 4,
    "start_time": "2022-05-24T13:17:04.560Z"
   },
   {
    "duration": 4,
    "start_time": "2022-05-24T13:17:04.594Z"
   },
   {
    "duration": 8,
    "start_time": "2022-05-24T13:17:04.599Z"
   },
   {
    "duration": 7,
    "start_time": "2022-05-24T13:17:04.609Z"
   },
   {
    "duration": 376,
    "start_time": "2022-05-24T13:17:04.618Z"
   },
   {
    "duration": 118,
    "start_time": "2022-05-24T13:17:04.996Z"
   },
   {
    "duration": 7,
    "start_time": "2022-05-24T13:17:05.116Z"
   },
   {
    "duration": 15,
    "start_time": "2022-05-24T13:17:05.125Z"
   },
   {
    "duration": 13,
    "start_time": "2022-05-24T13:17:05.141Z"
   },
   {
    "duration": 4,
    "start_time": "2022-05-24T13:17:05.156Z"
   },
   {
    "duration": 6,
    "start_time": "2022-05-24T13:17:05.161Z"
   },
   {
    "duration": 27,
    "start_time": "2022-05-24T13:17:05.168Z"
   },
   {
    "duration": 17,
    "start_time": "2022-05-24T13:17:05.197Z"
   },
   {
    "duration": 395,
    "start_time": "2022-05-24T13:17:05.215Z"
   },
   {
    "duration": 116,
    "start_time": "2022-05-24T13:17:05.612Z"
   },
   {
    "duration": 9,
    "start_time": "2022-05-24T13:17:05.729Z"
   },
   {
    "duration": 24,
    "start_time": "2022-05-24T13:17:05.740Z"
   },
   {
    "duration": 32,
    "start_time": "2022-05-24T13:17:05.766Z"
   },
   {
    "duration": 4,
    "start_time": "2022-05-24T13:17:05.800Z"
   },
   {
    "duration": 10,
    "start_time": "2022-05-24T13:17:05.805Z"
   },
   {
    "duration": 5,
    "start_time": "2022-05-24T13:17:05.817Z"
   },
   {
    "duration": 7,
    "start_time": "2022-05-24T13:17:05.824Z"
   },
   {
    "duration": 13,
    "start_time": "2022-05-24T13:17:05.833Z"
   },
   {
    "duration": 13,
    "start_time": "2022-05-24T13:17:05.848Z"
   },
   {
    "duration": 9,
    "start_time": "2022-05-24T13:17:05.862Z"
   },
   {
    "duration": 4,
    "start_time": "2022-05-24T13:17:05.895Z"
   },
   {
    "duration": 9,
    "start_time": "2022-05-24T13:17:05.900Z"
   },
   {
    "duration": 12,
    "start_time": "2022-05-24T13:17:05.910Z"
   },
   {
    "duration": 9,
    "start_time": "2022-05-24T13:17:05.923Z"
   },
   {
    "duration": 8,
    "start_time": "2022-05-24T13:17:05.934Z"
   },
   {
    "duration": 11,
    "start_time": "2022-05-24T13:17:05.944Z"
   },
   {
    "duration": 41,
    "start_time": "2022-05-24T13:17:05.957Z"
   },
   {
    "duration": 14,
    "start_time": "2022-05-24T13:17:05.999Z"
   },
   {
    "duration": 9,
    "start_time": "2022-05-24T13:17:06.014Z"
   },
   {
    "duration": 8,
    "start_time": "2022-05-24T13:17:06.025Z"
   },
   {
    "duration": 13,
    "start_time": "2022-05-24T13:17:06.035Z"
   },
   {
    "duration": 13,
    "start_time": "2022-05-24T13:17:06.050Z"
   },
   {
    "duration": 126,
    "start_time": "2022-05-24T13:17:56.607Z"
   },
   {
    "duration": 11,
    "start_time": "2022-05-24T13:18:30.448Z"
   },
   {
    "duration": 2,
    "start_time": "2022-05-24T13:19:49.338Z"
   },
   {
    "duration": 4,
    "start_time": "2022-05-24T13:19:52.122Z"
   },
   {
    "duration": 12,
    "start_time": "2022-05-24T13:20:09.468Z"
   },
   {
    "duration": 351,
    "start_time": "2022-05-24T13:29:53.784Z"
   },
   {
    "duration": 22,
    "start_time": "2022-05-24T13:34:20.849Z"
   },
   {
    "duration": 7,
    "start_time": "2022-05-24T13:34:44.810Z"
   },
   {
    "duration": 22,
    "start_time": "2022-05-24T13:34:50.236Z"
   },
   {
    "duration": 25,
    "start_time": "2022-05-24T13:36:21.092Z"
   },
   {
    "duration": 24,
    "start_time": "2022-05-24T13:37:15.443Z"
   },
   {
    "duration": 25,
    "start_time": "2022-05-24T13:37:40.082Z"
   },
   {
    "duration": 21,
    "start_time": "2022-05-24T13:39:39.725Z"
   },
   {
    "duration": 7,
    "start_time": "2022-05-24T13:43:32.768Z"
   },
   {
    "duration": 19,
    "start_time": "2022-05-24T13:46:58.154Z"
   },
   {
    "duration": 35,
    "start_time": "2022-05-24T13:47:02.964Z"
   },
   {
    "duration": 1400,
    "start_time": "2022-05-25T06:11:14.193Z"
   },
   {
    "duration": 3,
    "start_time": "2022-05-25T06:11:15.595Z"
   },
   {
    "duration": 497,
    "start_time": "2022-05-25T06:11:15.599Z"
   },
   {
    "duration": 11,
    "start_time": "2022-05-25T06:11:16.098Z"
   },
   {
    "duration": 19,
    "start_time": "2022-05-25T06:11:16.111Z"
   },
   {
    "duration": 18,
    "start_time": "2022-05-25T06:11:16.131Z"
   },
   {
    "duration": 4,
    "start_time": "2022-05-25T06:11:16.150Z"
   },
   {
    "duration": 5,
    "start_time": "2022-05-25T06:11:16.156Z"
   },
   {
    "duration": 10,
    "start_time": "2022-05-25T06:11:16.163Z"
   },
   {
    "duration": 16,
    "start_time": "2022-05-25T06:11:16.175Z"
   },
   {
    "duration": 460,
    "start_time": "2022-05-25T06:11:16.193Z"
   },
   {
    "duration": 151,
    "start_time": "2022-05-25T06:11:16.654Z"
   },
   {
    "duration": 16336,
    "start_time": "2022-05-25T06:11:16.806Z"
   },
   {
    "duration": 11,
    "start_time": "2022-05-25T06:11:33.144Z"
   },
   {
    "duration": 13,
    "start_time": "2022-05-25T06:11:33.156Z"
   },
   {
    "duration": 62,
    "start_time": "2022-05-25T06:11:33.171Z"
   },
   {
    "duration": 9,
    "start_time": "2022-05-25T06:11:33.234Z"
   },
   {
    "duration": 22,
    "start_time": "2022-05-25T06:11:33.245Z"
   },
   {
    "duration": 3,
    "start_time": "2022-05-25T06:11:33.269Z"
   },
   {
    "duration": 8,
    "start_time": "2022-05-25T06:11:33.274Z"
   },
   {
    "duration": 8,
    "start_time": "2022-05-25T06:11:33.283Z"
   },
   {
    "duration": 12,
    "start_time": "2022-05-25T06:11:33.293Z"
   },
   {
    "duration": 15,
    "start_time": "2022-05-25T06:11:33.307Z"
   },
   {
    "duration": 12,
    "start_time": "2022-05-25T06:11:33.348Z"
   },
   {
    "duration": 9,
    "start_time": "2022-05-25T06:11:33.362Z"
   },
   {
    "duration": 14,
    "start_time": "2022-05-25T06:11:33.373Z"
   },
   {
    "duration": 4,
    "start_time": "2022-05-25T06:11:33.389Z"
   },
   {
    "duration": 8,
    "start_time": "2022-05-25T06:11:33.399Z"
   },
   {
    "duration": 35,
    "start_time": "2022-05-25T06:11:33.409Z"
   },
   {
    "duration": 14,
    "start_time": "2022-05-25T06:11:33.447Z"
   },
   {
    "duration": 4,
    "start_time": "2022-05-25T06:11:33.462Z"
   },
   {
    "duration": 4,
    "start_time": "2022-05-25T06:11:33.467Z"
   },
   {
    "duration": 7,
    "start_time": "2022-05-25T06:11:33.472Z"
   },
   {
    "duration": 7,
    "start_time": "2022-05-25T06:11:33.480Z"
   },
   {
    "duration": 454,
    "start_time": "2022-05-25T06:11:33.489Z"
   },
   {
    "duration": 129,
    "start_time": "2022-05-25T06:11:33.946Z"
   },
   {
    "duration": 8,
    "start_time": "2022-05-25T06:11:34.077Z"
   },
   {
    "duration": 11,
    "start_time": "2022-05-25T06:11:34.086Z"
   },
   {
    "duration": 15,
    "start_time": "2022-05-25T06:11:34.098Z"
   },
   {
    "duration": 27,
    "start_time": "2022-05-25T06:11:34.114Z"
   },
   {
    "duration": 4,
    "start_time": "2022-05-25T06:11:34.142Z"
   },
   {
    "duration": 10,
    "start_time": "2022-05-25T06:11:34.147Z"
   },
   {
    "duration": 12,
    "start_time": "2022-05-25T06:11:34.158Z"
   },
   {
    "duration": 408,
    "start_time": "2022-05-25T06:11:34.172Z"
   },
   {
    "duration": 124,
    "start_time": "2022-05-25T06:11:34.582Z"
   },
   {
    "duration": 12,
    "start_time": "2022-05-25T06:11:34.708Z"
   },
   {
    "duration": 24,
    "start_time": "2022-05-25T06:11:34.722Z"
   },
   {
    "duration": 45,
    "start_time": "2022-05-25T06:11:34.747Z"
   },
   {
    "duration": 4,
    "start_time": "2022-05-25T06:11:34.794Z"
   },
   {
    "duration": 11,
    "start_time": "2022-05-25T06:11:34.799Z"
   },
   {
    "duration": 30,
    "start_time": "2022-05-25T06:11:34.812Z"
   },
   {
    "duration": 8,
    "start_time": "2022-05-25T06:11:34.844Z"
   },
   {
    "duration": 12,
    "start_time": "2022-05-25T06:11:34.853Z"
   },
   {
    "duration": 12,
    "start_time": "2022-05-25T06:11:34.866Z"
   },
   {
    "duration": 12,
    "start_time": "2022-05-25T06:11:34.880Z"
   },
   {
    "duration": 5,
    "start_time": "2022-05-25T06:11:34.894Z"
   },
   {
    "duration": 40,
    "start_time": "2022-05-25T06:11:34.901Z"
   },
   {
    "duration": 7,
    "start_time": "2022-05-25T06:11:34.943Z"
   },
   {
    "duration": 10,
    "start_time": "2022-05-25T06:11:34.952Z"
   },
   {
    "duration": 10,
    "start_time": "2022-05-25T06:11:34.964Z"
   },
   {
    "duration": 26,
    "start_time": "2022-05-25T06:11:34.975Z"
   },
   {
    "duration": 5,
    "start_time": "2022-05-25T06:11:35.003Z"
   },
   {
    "duration": 36,
    "start_time": "2022-05-25T06:11:35.010Z"
   },
   {
    "duration": 15,
    "start_time": "2022-05-25T06:11:35.047Z"
   },
   {
    "duration": 13,
    "start_time": "2022-05-25T06:11:35.064Z"
   },
   {
    "duration": 10,
    "start_time": "2022-05-25T06:11:35.078Z"
   },
   {
    "duration": 7,
    "start_time": "2022-05-25T06:11:35.089Z"
   },
   {
    "duration": 12,
    "start_time": "2022-05-25T06:11:35.098Z"
   },
   {
    "duration": 35,
    "start_time": "2022-05-25T06:11:35.112Z"
   },
   {
    "duration": 10,
    "start_time": "2022-05-25T06:11:35.149Z"
   },
   {
    "duration": 8,
    "start_time": "2022-05-25T06:17:50.492Z"
   },
   {
    "duration": 3,
    "start_time": "2022-05-25T06:23:01.222Z"
   },
   {
    "duration": 138,
    "start_time": "2022-05-25T06:24:58.597Z"
   },
   {
    "duration": 31,
    "start_time": "2022-05-25T06:25:43.061Z"
   },
   {
    "duration": 7,
    "start_time": "2022-05-25T06:25:53.540Z"
   },
   {
    "duration": 9,
    "start_time": "2022-05-25T06:25:57.420Z"
   },
   {
    "duration": 23,
    "start_time": "2022-05-25T06:37:12.188Z"
   },
   {
    "duration": 14,
    "start_time": "2022-05-25T06:37:27.590Z"
   },
   {
    "duration": 7,
    "start_time": "2022-05-25T06:37:35.981Z"
   },
   {
    "duration": 13,
    "start_time": "2022-05-25T06:38:01.071Z"
   },
   {
    "duration": 8,
    "start_time": "2022-05-25T06:39:46.077Z"
   },
   {
    "duration": 9,
    "start_time": "2022-05-25T06:39:51.118Z"
   },
   {
    "duration": 9,
    "start_time": "2022-05-25T06:41:14.717Z"
   },
   {
    "duration": 19,
    "start_time": "2022-05-25T06:41:26.009Z"
   },
   {
    "duration": 15,
    "start_time": "2022-05-25T06:41:38.590Z"
   },
   {
    "duration": 36,
    "start_time": "2022-05-25T06:42:56.907Z"
   },
   {
    "duration": 42,
    "start_time": "2022-05-25T06:43:09.426Z"
   },
   {
    "duration": 29,
    "start_time": "2022-05-25T06:43:27.528Z"
   },
   {
    "duration": 17,
    "start_time": "2022-05-25T06:43:32.574Z"
   },
   {
    "duration": 15,
    "start_time": "2022-05-25T06:43:48.306Z"
   },
   {
    "duration": 15,
    "start_time": "2022-05-25T06:44:47.590Z"
   },
   {
    "duration": 7,
    "start_time": "2022-05-25T06:45:52.464Z"
   },
   {
    "duration": 14,
    "start_time": "2022-05-25T06:46:44.367Z"
   },
   {
    "duration": 8,
    "start_time": "2022-05-25T06:47:34.630Z"
   },
   {
    "duration": 468,
    "start_time": "2022-05-25T07:07:22.177Z"
   },
   {
    "duration": 449,
    "start_time": "2022-05-25T07:07:59.235Z"
   },
   {
    "duration": 12,
    "start_time": "2022-05-25T07:08:16.030Z"
   },
   {
    "duration": 12,
    "start_time": "2022-05-25T07:08:30.646Z"
   },
   {
    "duration": 6,
    "start_time": "2022-05-25T07:09:42.644Z"
   },
   {
    "duration": 14,
    "start_time": "2022-05-25T07:09:54.958Z"
   },
   {
    "duration": 14,
    "start_time": "2022-05-25T07:19:09.515Z"
   },
   {
    "duration": 5,
    "start_time": "2022-05-25T07:19:22.241Z"
   },
   {
    "duration": 13,
    "start_time": "2022-05-25T07:19:34.058Z"
   },
   {
    "duration": 18,
    "start_time": "2022-05-25T07:20:25.789Z"
   },
   {
    "duration": 588,
    "start_time": "2022-05-25T07:22:15.996Z"
   },
   {
    "duration": 1383,
    "start_time": "2022-05-25T07:22:42.070Z"
   },
   {
    "duration": 4,
    "start_time": "2022-05-25T07:22:43.458Z"
   },
   {
    "duration": 222,
    "start_time": "2022-05-25T07:22:43.465Z"
   },
   {
    "duration": 12,
    "start_time": "2022-05-25T07:22:43.690Z"
   },
   {
    "duration": 13,
    "start_time": "2022-05-25T07:22:43.704Z"
   },
   {
    "duration": 19,
    "start_time": "2022-05-25T07:22:43.718Z"
   },
   {
    "duration": 6,
    "start_time": "2022-05-25T07:22:43.738Z"
   },
   {
    "duration": 29,
    "start_time": "2022-05-25T07:22:43.747Z"
   },
   {
    "duration": 10,
    "start_time": "2022-05-25T07:22:43.778Z"
   },
   {
    "duration": 16,
    "start_time": "2022-05-25T07:22:43.789Z"
   },
   {
    "duration": 436,
    "start_time": "2022-05-25T07:22:43.806Z"
   },
   {
    "duration": 170,
    "start_time": "2022-05-25T07:22:44.245Z"
   },
   {
    "duration": 21215,
    "start_time": "2022-05-25T07:22:44.418Z"
   },
   {
    "duration": 24,
    "start_time": "2022-05-25T07:23:05.636Z"
   },
   {
    "duration": 37,
    "start_time": "2022-05-25T07:23:05.664Z"
   },
   {
    "duration": 61,
    "start_time": "2022-05-25T07:23:05.702Z"
   },
   {
    "duration": 4,
    "start_time": "2022-05-25T07:23:05.766Z"
   },
   {
    "duration": 18,
    "start_time": "2022-05-25T07:23:05.772Z"
   },
   {
    "duration": 4,
    "start_time": "2022-05-25T07:23:05.792Z"
   },
   {
    "duration": 12,
    "start_time": "2022-05-25T07:23:05.798Z"
   },
   {
    "duration": 10,
    "start_time": "2022-05-25T07:23:05.812Z"
   },
   {
    "duration": 29,
    "start_time": "2022-05-25T07:23:05.823Z"
   },
   {
    "duration": 32,
    "start_time": "2022-05-25T07:23:05.857Z"
   },
   {
    "duration": 19,
    "start_time": "2022-05-25T07:23:05.891Z"
   },
   {
    "duration": 4,
    "start_time": "2022-05-25T07:23:05.912Z"
   },
   {
    "duration": 16,
    "start_time": "2022-05-25T07:23:05.918Z"
   },
   {
    "duration": 5,
    "start_time": "2022-05-25T07:23:05.941Z"
   },
   {
    "duration": 36,
    "start_time": "2022-05-25T07:23:05.948Z"
   },
   {
    "duration": 22,
    "start_time": "2022-05-25T07:23:05.986Z"
   },
   {
    "duration": 22,
    "start_time": "2022-05-25T07:23:06.010Z"
   },
   {
    "duration": 4,
    "start_time": "2022-05-25T07:23:06.034Z"
   },
   {
    "duration": 32,
    "start_time": "2022-05-25T07:23:06.040Z"
   },
   {
    "duration": 11,
    "start_time": "2022-05-25T07:23:06.074Z"
   },
   {
    "duration": 8,
    "start_time": "2022-05-25T07:23:06.087Z"
   },
   {
    "duration": 423,
    "start_time": "2022-05-25T07:23:06.097Z"
   },
   {
    "duration": 145,
    "start_time": "2022-05-25T07:23:06.522Z"
   },
   {
    "duration": 9,
    "start_time": "2022-05-25T07:23:06.669Z"
   },
   {
    "duration": 12,
    "start_time": "2022-05-25T07:23:06.680Z"
   },
   {
    "duration": 16,
    "start_time": "2022-05-25T07:23:06.694Z"
   },
   {
    "duration": 11,
    "start_time": "2022-05-25T07:23:06.741Z"
   },
   {
    "duration": 24,
    "start_time": "2022-05-25T07:23:06.754Z"
   },
   {
    "duration": 9,
    "start_time": "2022-05-25T07:23:06.780Z"
   },
   {
    "duration": 11,
    "start_time": "2022-05-25T07:23:06.791Z"
   },
   {
    "duration": 502,
    "start_time": "2022-05-25T07:23:06.803Z"
   },
   {
    "duration": 165,
    "start_time": "2022-05-25T07:23:07.308Z"
   },
   {
    "duration": 13,
    "start_time": "2022-05-25T07:23:07.474Z"
   },
   {
    "duration": 13,
    "start_time": "2022-05-25T07:23:07.489Z"
   },
   {
    "duration": 49,
    "start_time": "2022-05-25T07:23:07.504Z"
   },
   {
    "duration": 14,
    "start_time": "2022-05-25T07:23:07.556Z"
   },
   {
    "duration": 16,
    "start_time": "2022-05-25T07:23:07.573Z"
   },
   {
    "duration": 7,
    "start_time": "2022-05-25T07:23:07.591Z"
   },
   {
    "duration": 9,
    "start_time": "2022-05-25T07:23:07.600Z"
   },
   {
    "duration": 11,
    "start_time": "2022-05-25T07:23:07.610Z"
   },
   {
    "duration": 34,
    "start_time": "2022-05-25T07:23:07.623Z"
   },
   {
    "duration": 32,
    "start_time": "2022-05-25T07:23:07.658Z"
   },
   {
    "duration": 4,
    "start_time": "2022-05-25T07:23:07.692Z"
   },
   {
    "duration": 9,
    "start_time": "2022-05-25T07:23:07.697Z"
   },
   {
    "duration": 20,
    "start_time": "2022-05-25T07:23:07.707Z"
   },
   {
    "duration": 28,
    "start_time": "2022-05-25T07:23:07.729Z"
   },
   {
    "duration": 23,
    "start_time": "2022-05-25T07:23:07.760Z"
   },
   {
    "duration": 28,
    "start_time": "2022-05-25T07:23:07.785Z"
   },
   {
    "duration": 6,
    "start_time": "2022-05-25T07:23:07.814Z"
   },
   {
    "duration": 13,
    "start_time": "2022-05-25T07:23:07.821Z"
   },
   {
    "duration": 21,
    "start_time": "2022-05-25T07:23:07.835Z"
   },
   {
    "duration": 31,
    "start_time": "2022-05-25T07:23:07.857Z"
   },
   {
    "duration": 13,
    "start_time": "2022-05-25T07:23:07.889Z"
   },
   {
    "duration": 7,
    "start_time": "2022-05-25T07:23:07.903Z"
   },
   {
    "duration": 11,
    "start_time": "2022-05-25T07:23:07.911Z"
   },
   {
    "duration": 10,
    "start_time": "2022-05-25T07:23:07.923Z"
   },
   {
    "duration": 43,
    "start_time": "2022-05-25T07:23:07.934Z"
   },
   {
    "duration": 16,
    "start_time": "2022-05-25T07:23:07.979Z"
   },
   {
    "duration": 5,
    "start_time": "2022-05-25T07:23:07.997Z"
   },
   {
    "duration": 10,
    "start_time": "2022-05-25T07:23:08.004Z"
   },
   {
    "duration": 12,
    "start_time": "2022-05-25T07:23:08.016Z"
   },
   {
    "duration": 20,
    "start_time": "2022-05-25T07:23:08.029Z"
   },
   {
    "duration": 33,
    "start_time": "2022-05-25T07:23:08.051Z"
   },
   {
    "duration": 15,
    "start_time": "2022-05-25T07:23:52.119Z"
   },
   {
    "duration": 143,
    "start_time": "2022-05-25T07:24:11.930Z"
   },
   {
    "duration": 13,
    "start_time": "2022-05-25T07:24:38.325Z"
   },
   {
    "duration": 14,
    "start_time": "2022-05-25T07:25:01.983Z"
   },
   {
    "duration": 12,
    "start_time": "2022-05-25T07:25:08.068Z"
   },
   {
    "duration": 17,
    "start_time": "2022-05-25T07:26:15.117Z"
   },
   {
    "duration": 16,
    "start_time": "2022-05-25T07:26:27.341Z"
   },
   {
    "duration": 888,
    "start_time": "2022-05-25T07:51:13.381Z"
   },
   {
    "duration": 604,
    "start_time": "2022-05-25T07:51:52.258Z"
   },
   {
    "duration": 13,
    "start_time": "2022-05-25T07:52:04.165Z"
   },
   {
    "duration": 687,
    "start_time": "2022-05-25T07:52:25.376Z"
   },
   {
    "duration": 35,
    "start_time": "2022-05-25T07:52:39.881Z"
   },
   {
    "duration": 646,
    "start_time": "2022-05-25T07:52:46.479Z"
   },
   {
    "duration": 24,
    "start_time": "2022-05-25T07:55:18.178Z"
   },
   {
    "duration": 8,
    "start_time": "2022-05-25T07:55:31.226Z"
   },
   {
    "duration": 643,
    "start_time": "2022-05-25T07:55:35.641Z"
   },
   {
    "duration": 21,
    "start_time": "2022-05-25T07:55:45.431Z"
   },
   {
    "duration": 594,
    "start_time": "2022-05-25T07:55:52.614Z"
   },
   {
    "duration": 5,
    "start_time": "2022-05-25T08:49:30.071Z"
   },
   {
    "duration": 46,
    "start_time": "2022-05-25T08:50:40.885Z"
   },
   {
    "duration": 7,
    "start_time": "2022-05-25T08:50:48.378Z"
   },
   {
    "duration": 809,
    "start_time": "2022-05-25T08:51:27.745Z"
   },
   {
    "duration": 599,
    "start_time": "2022-05-25T08:51:39.059Z"
   },
   {
    "duration": 27,
    "start_time": "2022-05-25T08:58:52.649Z"
   },
   {
    "duration": 7,
    "start_time": "2022-05-25T09:00:11.305Z"
   },
   {
    "duration": 16,
    "start_time": "2022-05-25T09:00:12.005Z"
   },
   {
    "duration": 18,
    "start_time": "2022-05-25T09:00:20.311Z"
   },
   {
    "duration": 1225,
    "start_time": "2022-05-25T09:00:43.784Z"
   },
   {
    "duration": 3,
    "start_time": "2022-05-25T09:00:45.011Z"
   },
   {
    "duration": 185,
    "start_time": "2022-05-25T09:00:45.015Z"
   },
   {
    "duration": 11,
    "start_time": "2022-05-25T09:00:45.202Z"
   },
   {
    "duration": 12,
    "start_time": "2022-05-25T09:00:45.215Z"
   },
   {
    "duration": 18,
    "start_time": "2022-05-25T09:00:45.228Z"
   },
   {
    "duration": 4,
    "start_time": "2022-05-25T09:00:45.247Z"
   },
   {
    "duration": 11,
    "start_time": "2022-05-25T09:00:45.252Z"
   },
   {
    "duration": 9,
    "start_time": "2022-05-25T09:00:45.265Z"
   },
   {
    "duration": 16,
    "start_time": "2022-05-25T09:00:45.276Z"
   },
   {
    "duration": 389,
    "start_time": "2022-05-25T09:00:45.293Z"
   },
   {
    "duration": 145,
    "start_time": "2022-05-25T09:00:45.684Z"
   },
   {
    "duration": 16770,
    "start_time": "2022-05-25T09:00:45.830Z"
   },
   {
    "duration": 12,
    "start_time": "2022-05-25T09:01:02.602Z"
   },
   {
    "duration": 27,
    "start_time": "2022-05-25T09:01:02.615Z"
   },
   {
    "duration": 47,
    "start_time": "2022-05-25T09:01:02.643Z"
   },
   {
    "duration": 4,
    "start_time": "2022-05-25T09:01:02.692Z"
   },
   {
    "duration": 12,
    "start_time": "2022-05-25T09:01:02.697Z"
   },
   {
    "duration": 14,
    "start_time": "2022-05-25T09:01:02.710Z"
   },
   {
    "duration": 16,
    "start_time": "2022-05-25T09:01:02.725Z"
   },
   {
    "duration": 15,
    "start_time": "2022-05-25T09:01:02.742Z"
   },
   {
    "duration": 23,
    "start_time": "2022-05-25T09:01:02.759Z"
   },
   {
    "duration": 14,
    "start_time": "2022-05-25T09:01:02.783Z"
   },
   {
    "duration": 21,
    "start_time": "2022-05-25T09:01:02.799Z"
   },
   {
    "duration": 4,
    "start_time": "2022-05-25T09:01:02.821Z"
   },
   {
    "duration": 17,
    "start_time": "2022-05-25T09:01:02.826Z"
   },
   {
    "duration": 17,
    "start_time": "2022-05-25T09:01:02.845Z"
   },
   {
    "duration": 10,
    "start_time": "2022-05-25T09:01:02.867Z"
   },
   {
    "duration": 14,
    "start_time": "2022-05-25T09:01:02.879Z"
   },
   {
    "duration": 23,
    "start_time": "2022-05-25T09:01:02.895Z"
   },
   {
    "duration": 4,
    "start_time": "2022-05-25T09:01:02.919Z"
   },
   {
    "duration": 10,
    "start_time": "2022-05-25T09:01:02.925Z"
   },
   {
    "duration": 11,
    "start_time": "2022-05-25T09:01:02.937Z"
   },
   {
    "duration": 11,
    "start_time": "2022-05-25T09:01:02.949Z"
   },
   {
    "duration": 393,
    "start_time": "2022-05-25T09:01:02.962Z"
   },
   {
    "duration": 116,
    "start_time": "2022-05-25T09:01:03.357Z"
   },
   {
    "duration": 7,
    "start_time": "2022-05-25T09:01:03.474Z"
   },
   {
    "duration": 14,
    "start_time": "2022-05-25T09:01:03.482Z"
   },
   {
    "duration": 13,
    "start_time": "2022-05-25T09:01:03.497Z"
   },
   {
    "duration": 4,
    "start_time": "2022-05-25T09:01:03.511Z"
   },
   {
    "duration": 24,
    "start_time": "2022-05-25T09:01:03.517Z"
   },
   {
    "duration": 20,
    "start_time": "2022-05-25T09:01:03.543Z"
   },
   {
    "duration": 9,
    "start_time": "2022-05-25T09:01:03.565Z"
   },
   {
    "duration": 363,
    "start_time": "2022-05-25T09:01:03.575Z"
   },
   {
    "duration": 113,
    "start_time": "2022-05-25T09:01:03.940Z"
   },
   {
    "duration": 10,
    "start_time": "2022-05-25T09:01:04.054Z"
   },
   {
    "duration": 20,
    "start_time": "2022-05-25T09:01:04.065Z"
   },
   {
    "duration": 30,
    "start_time": "2022-05-25T09:01:04.087Z"
   },
   {
    "duration": 4,
    "start_time": "2022-05-25T09:01:04.119Z"
   },
   {
    "duration": 6,
    "start_time": "2022-05-25T09:01:04.142Z"
   },
   {
    "duration": 10,
    "start_time": "2022-05-25T09:01:04.149Z"
   },
   {
    "duration": 8,
    "start_time": "2022-05-25T09:01:04.160Z"
   },
   {
    "duration": 10,
    "start_time": "2022-05-25T09:01:04.170Z"
   },
   {
    "duration": 11,
    "start_time": "2022-05-25T09:01:04.182Z"
   },
   {
    "duration": 13,
    "start_time": "2022-05-25T09:01:04.195Z"
   },
   {
    "duration": 31,
    "start_time": "2022-05-25T09:01:04.210Z"
   },
   {
    "duration": 7,
    "start_time": "2022-05-25T09:01:04.243Z"
   },
   {
    "duration": 11,
    "start_time": "2022-05-25T09:01:04.251Z"
   },
   {
    "duration": 9,
    "start_time": "2022-05-25T09:01:04.264Z"
   },
   {
    "duration": 8,
    "start_time": "2022-05-25T09:01:04.274Z"
   },
   {
    "duration": 24,
    "start_time": "2022-05-25T09:01:04.283Z"
   },
   {
    "duration": 36,
    "start_time": "2022-05-25T09:01:04.308Z"
   },
   {
    "duration": 10,
    "start_time": "2022-05-25T09:01:04.346Z"
   },
   {
    "duration": 12,
    "start_time": "2022-05-25T09:01:04.357Z"
   },
   {
    "duration": 14,
    "start_time": "2022-05-25T09:01:04.370Z"
   },
   {
    "duration": 12,
    "start_time": "2022-05-25T09:01:04.386Z"
   },
   {
    "duration": 33,
    "start_time": "2022-05-25T09:01:04.400Z"
   },
   {
    "duration": 27,
    "start_time": "2022-05-25T09:01:04.434Z"
   },
   {
    "duration": 9,
    "start_time": "2022-05-25T09:01:04.463Z"
   },
   {
    "duration": 8,
    "start_time": "2022-05-25T09:01:04.473Z"
   },
   {
    "duration": 7,
    "start_time": "2022-05-25T09:01:04.482Z"
   },
   {
    "duration": 11,
    "start_time": "2022-05-25T09:01:04.491Z"
   },
   {
    "duration": 13,
    "start_time": "2022-05-25T09:01:04.503Z"
   },
   {
    "duration": 24,
    "start_time": "2022-05-25T09:01:04.517Z"
   },
   {
    "duration": 6,
    "start_time": "2022-05-25T09:01:04.543Z"
   },
   {
    "duration": 16,
    "start_time": "2022-05-25T09:01:04.551Z"
   },
   {
    "duration": 8,
    "start_time": "2022-05-25T09:01:04.569Z"
   },
   {
    "duration": 14,
    "start_time": "2022-05-25T09:01:04.578Z"
   },
   {
    "duration": 9,
    "start_time": "2022-05-25T09:01:04.594Z"
   },
   {
    "duration": 41,
    "start_time": "2022-05-25T09:01:04.604Z"
   },
   {
    "duration": 21,
    "start_time": "2022-05-25T09:01:04.646Z"
   },
   {
    "duration": 23,
    "start_time": "2022-05-25T09:01:38.653Z"
   },
   {
    "duration": 1269,
    "start_time": "2022-05-25T09:10:09.075Z"
   },
   {
    "duration": 3,
    "start_time": "2022-05-25T09:10:10.346Z"
   },
   {
    "duration": 184,
    "start_time": "2022-05-25T09:10:10.350Z"
   },
   {
    "duration": 12,
    "start_time": "2022-05-25T09:10:10.536Z"
   },
   {
    "duration": 12,
    "start_time": "2022-05-25T09:10:10.549Z"
   },
   {
    "duration": 19,
    "start_time": "2022-05-25T09:10:10.562Z"
   },
   {
    "duration": 4,
    "start_time": "2022-05-25T09:10:10.582Z"
   },
   {
    "duration": 12,
    "start_time": "2022-05-25T09:10:10.587Z"
   },
   {
    "duration": 17,
    "start_time": "2022-05-25T09:10:10.600Z"
   },
   {
    "duration": 26,
    "start_time": "2022-05-25T09:10:10.620Z"
   },
   {
    "duration": 409,
    "start_time": "2022-05-25T09:10:10.647Z"
   },
   {
    "duration": 158,
    "start_time": "2022-05-25T09:10:11.057Z"
   },
   {
    "duration": 16811,
    "start_time": "2022-05-25T09:10:11.216Z"
   },
   {
    "duration": 17,
    "start_time": "2022-05-25T09:10:28.028Z"
   },
   {
    "duration": 11,
    "start_time": "2022-05-25T09:10:28.046Z"
   },
   {
    "duration": 45,
    "start_time": "2022-05-25T09:10:28.059Z"
   },
   {
    "duration": 4,
    "start_time": "2022-05-25T09:10:28.106Z"
   },
   {
    "duration": 10,
    "start_time": "2022-05-25T09:10:28.111Z"
   },
   {
    "duration": 22,
    "start_time": "2022-05-25T09:10:28.122Z"
   },
   {
    "duration": 7,
    "start_time": "2022-05-25T09:10:28.145Z"
   },
   {
    "duration": 10,
    "start_time": "2022-05-25T09:10:28.153Z"
   },
   {
    "duration": 14,
    "start_time": "2022-05-25T09:10:28.164Z"
   },
   {
    "duration": 15,
    "start_time": "2022-05-25T09:10:28.179Z"
   },
   {
    "duration": 13,
    "start_time": "2022-05-25T09:10:28.196Z"
   },
   {
    "duration": 4,
    "start_time": "2022-05-25T09:10:28.243Z"
   },
   {
    "duration": 14,
    "start_time": "2022-05-25T09:10:28.249Z"
   },
   {
    "duration": 3,
    "start_time": "2022-05-25T09:10:28.265Z"
   },
   {
    "duration": 8,
    "start_time": "2022-05-25T09:10:28.272Z"
   },
   {
    "duration": 10,
    "start_time": "2022-05-25T09:10:28.281Z"
   },
   {
    "duration": 14,
    "start_time": "2022-05-25T09:10:28.292Z"
   },
   {
    "duration": 4,
    "start_time": "2022-05-25T09:10:28.307Z"
   },
   {
    "duration": 4,
    "start_time": "2022-05-25T09:10:28.342Z"
   },
   {
    "duration": 11,
    "start_time": "2022-05-25T09:10:28.347Z"
   },
   {
    "duration": 9,
    "start_time": "2022-05-25T09:10:28.360Z"
   },
   {
    "duration": 390,
    "start_time": "2022-05-25T09:10:28.371Z"
   },
   {
    "duration": 128,
    "start_time": "2022-05-25T09:10:28.762Z"
   },
   {
    "duration": 7,
    "start_time": "2022-05-25T09:10:28.892Z"
   },
   {
    "duration": 16,
    "start_time": "2022-05-25T09:10:28.901Z"
   },
   {
    "duration": 28,
    "start_time": "2022-05-25T09:10:28.919Z"
   },
   {
    "duration": 4,
    "start_time": "2022-05-25T09:10:28.949Z"
   },
   {
    "duration": 12,
    "start_time": "2022-05-25T09:10:28.954Z"
   },
   {
    "duration": 11,
    "start_time": "2022-05-25T09:10:28.967Z"
   },
   {
    "duration": 11,
    "start_time": "2022-05-25T09:10:28.980Z"
   },
   {
    "duration": 383,
    "start_time": "2022-05-25T09:10:28.993Z"
   },
   {
    "duration": 121,
    "start_time": "2022-05-25T09:10:29.377Z"
   },
   {
    "duration": 10,
    "start_time": "2022-05-25T09:10:29.500Z"
   },
   {
    "duration": 30,
    "start_time": "2022-05-25T09:10:29.512Z"
   },
   {
    "duration": 35,
    "start_time": "2022-05-25T09:10:29.544Z"
   },
   {
    "duration": 4,
    "start_time": "2022-05-25T09:10:29.581Z"
   },
   {
    "duration": 23,
    "start_time": "2022-05-25T09:10:29.587Z"
   },
   {
    "duration": 6,
    "start_time": "2022-05-25T09:10:29.612Z"
   },
   {
    "duration": 11,
    "start_time": "2022-05-25T09:10:29.620Z"
   },
   {
    "duration": 12,
    "start_time": "2022-05-25T09:10:29.640Z"
   },
   {
    "duration": 13,
    "start_time": "2022-05-25T09:10:29.654Z"
   },
   {
    "duration": 11,
    "start_time": "2022-05-25T09:10:29.669Z"
   },
   {
    "duration": 4,
    "start_time": "2022-05-25T09:10:29.681Z"
   },
   {
    "duration": 8,
    "start_time": "2022-05-25T09:10:29.687Z"
   },
   {
    "duration": 8,
    "start_time": "2022-05-25T09:10:29.697Z"
   },
   {
    "duration": 10,
    "start_time": "2022-05-25T09:10:29.742Z"
   },
   {
    "duration": 11,
    "start_time": "2022-05-25T09:10:29.754Z"
   },
   {
    "duration": 36,
    "start_time": "2022-05-25T09:10:29.767Z"
   },
   {
    "duration": 7,
    "start_time": "2022-05-25T09:10:29.805Z"
   },
   {
    "duration": 33,
    "start_time": "2022-05-25T09:10:29.813Z"
   },
   {
    "duration": 14,
    "start_time": "2022-05-25T09:10:29.848Z"
   },
   {
    "duration": 15,
    "start_time": "2022-05-25T09:10:29.864Z"
   },
   {
    "duration": 16,
    "start_time": "2022-05-25T09:10:29.881Z"
   },
   {
    "duration": 67,
    "start_time": "2022-05-25T09:10:29.898Z"
   },
   {
    "duration": 25,
    "start_time": "2022-05-25T09:10:29.967Z"
   },
   {
    "duration": 8,
    "start_time": "2022-05-25T09:10:29.995Z"
   },
   {
    "duration": 20,
    "start_time": "2022-05-25T09:10:30.005Z"
   },
   {
    "duration": 19,
    "start_time": "2022-05-25T09:10:30.026Z"
   },
   {
    "duration": 13,
    "start_time": "2022-05-25T09:10:30.046Z"
   },
   {
    "duration": 15,
    "start_time": "2022-05-25T09:10:30.061Z"
   },
   {
    "duration": 9,
    "start_time": "2022-05-25T09:10:30.078Z"
   },
   {
    "duration": 12,
    "start_time": "2022-05-25T09:10:30.089Z"
   },
   {
    "duration": 12,
    "start_time": "2022-05-25T09:10:30.102Z"
   },
   {
    "duration": 9,
    "start_time": "2022-05-25T09:10:30.116Z"
   },
   {
    "duration": 30,
    "start_time": "2022-05-25T09:10:30.126Z"
   },
   {
    "duration": 10,
    "start_time": "2022-05-25T09:10:30.158Z"
   },
   {
    "duration": 23,
    "start_time": "2022-05-25T09:10:30.170Z"
   },
   {
    "duration": 28,
    "start_time": "2022-05-25T09:10:30.195Z"
   },
   {
    "duration": 144,
    "start_time": "2022-05-25T09:14:11.092Z"
   },
   {
    "duration": 157,
    "start_time": "2022-05-25T09:14:31.088Z"
   },
   {
    "duration": 19,
    "start_time": "2022-05-25T09:15:26.479Z"
   },
   {
    "duration": 20,
    "start_time": "2022-05-25T09:16:58.369Z"
   },
   {
    "duration": 1342,
    "start_time": "2022-05-25T09:18:08.568Z"
   },
   {
    "duration": 3,
    "start_time": "2022-05-25T09:18:09.913Z"
   },
   {
    "duration": 208,
    "start_time": "2022-05-25T09:18:09.917Z"
   },
   {
    "duration": 11,
    "start_time": "2022-05-25T09:18:10.127Z"
   },
   {
    "duration": 28,
    "start_time": "2022-05-25T09:18:10.139Z"
   },
   {
    "duration": 17,
    "start_time": "2022-05-25T09:18:10.168Z"
   },
   {
    "duration": 4,
    "start_time": "2022-05-25T09:18:10.186Z"
   },
   {
    "duration": 6,
    "start_time": "2022-05-25T09:18:10.191Z"
   },
   {
    "duration": 7,
    "start_time": "2022-05-25T09:18:10.199Z"
   },
   {
    "duration": 36,
    "start_time": "2022-05-25T09:18:10.208Z"
   },
   {
    "duration": 460,
    "start_time": "2022-05-25T09:18:10.246Z"
   },
   {
    "duration": 159,
    "start_time": "2022-05-25T09:18:10.708Z"
   },
   {
    "duration": 18641,
    "start_time": "2022-05-25T09:18:10.869Z"
   },
   {
    "duration": 11,
    "start_time": "2022-05-25T09:18:29.511Z"
   },
   {
    "duration": 29,
    "start_time": "2022-05-25T09:18:29.524Z"
   },
   {
    "duration": 58,
    "start_time": "2022-05-25T09:18:29.559Z"
   },
   {
    "duration": 5,
    "start_time": "2022-05-25T09:18:29.619Z"
   },
   {
    "duration": 23,
    "start_time": "2022-05-25T09:18:29.625Z"
   },
   {
    "duration": 6,
    "start_time": "2022-05-25T09:18:29.649Z"
   },
   {
    "duration": 13,
    "start_time": "2022-05-25T09:18:29.656Z"
   },
   {
    "duration": 11,
    "start_time": "2022-05-25T09:18:29.671Z"
   },
   {
    "duration": 14,
    "start_time": "2022-05-25T09:18:29.684Z"
   },
   {
    "duration": 15,
    "start_time": "2022-05-25T09:18:29.700Z"
   },
   {
    "duration": 39,
    "start_time": "2022-05-25T09:18:29.717Z"
   },
   {
    "duration": 7,
    "start_time": "2022-05-25T09:18:29.758Z"
   },
   {
    "duration": 13,
    "start_time": "2022-05-25T09:18:29.767Z"
   },
   {
    "duration": 4,
    "start_time": "2022-05-25T09:18:29.781Z"
   },
   {
    "duration": 8,
    "start_time": "2022-05-25T09:18:29.789Z"
   },
   {
    "duration": 48,
    "start_time": "2022-05-25T09:18:29.798Z"
   },
   {
    "duration": 29,
    "start_time": "2022-05-25T09:18:29.848Z"
   },
   {
    "duration": 6,
    "start_time": "2022-05-25T09:18:29.878Z"
   },
   {
    "duration": 14,
    "start_time": "2022-05-25T09:18:29.886Z"
   },
   {
    "duration": 10,
    "start_time": "2022-05-25T09:18:29.902Z"
   },
   {
    "duration": 29,
    "start_time": "2022-05-25T09:18:29.914Z"
   },
   {
    "duration": 455,
    "start_time": "2022-05-25T09:18:29.944Z"
   },
   {
    "duration": 144,
    "start_time": "2022-05-25T09:18:30.401Z"
   },
   {
    "duration": 11,
    "start_time": "2022-05-25T09:18:30.547Z"
   },
   {
    "duration": 39,
    "start_time": "2022-05-25T09:18:30.562Z"
   },
   {
    "duration": 22,
    "start_time": "2022-05-25T09:18:30.603Z"
   },
   {
    "duration": 7,
    "start_time": "2022-05-25T09:18:30.627Z"
   },
   {
    "duration": 39,
    "start_time": "2022-05-25T09:18:30.641Z"
   },
   {
    "duration": 20,
    "start_time": "2022-05-25T09:18:30.682Z"
   },
   {
    "duration": 11,
    "start_time": "2022-05-25T09:18:30.704Z"
   },
   {
    "duration": 476,
    "start_time": "2022-05-25T09:18:30.716Z"
   },
   {
    "duration": 128,
    "start_time": "2022-05-25T09:18:31.194Z"
   },
   {
    "duration": 9,
    "start_time": "2022-05-25T09:18:31.324Z"
   },
   {
    "duration": 12,
    "start_time": "2022-05-25T09:18:31.356Z"
   },
   {
    "duration": 41,
    "start_time": "2022-05-25T09:18:31.369Z"
   },
   {
    "duration": 4,
    "start_time": "2022-05-25T09:18:31.412Z"
   },
   {
    "duration": 13,
    "start_time": "2022-05-25T09:18:31.417Z"
   },
   {
    "duration": 12,
    "start_time": "2022-05-25T09:18:31.432Z"
   },
   {
    "duration": 17,
    "start_time": "2022-05-25T09:18:31.445Z"
   },
   {
    "duration": 42,
    "start_time": "2022-05-25T09:18:31.464Z"
   },
   {
    "duration": 67,
    "start_time": "2022-05-25T09:18:31.508Z"
   },
   {
    "duration": 24,
    "start_time": "2022-05-25T09:18:31.577Z"
   },
   {
    "duration": 5,
    "start_time": "2022-05-25T09:18:31.603Z"
   },
   {
    "duration": 16,
    "start_time": "2022-05-25T09:18:31.610Z"
   },
   {
    "duration": 18,
    "start_time": "2022-05-25T09:18:31.628Z"
   },
   {
    "duration": 37,
    "start_time": "2022-05-25T09:18:31.648Z"
   },
   {
    "duration": 14,
    "start_time": "2022-05-25T09:18:31.687Z"
   },
   {
    "duration": 36,
    "start_time": "2022-05-25T09:18:31.703Z"
   },
   {
    "duration": 9,
    "start_time": "2022-05-25T09:18:31.741Z"
   },
   {
    "duration": 34,
    "start_time": "2022-05-25T09:18:31.751Z"
   },
   {
    "duration": 16,
    "start_time": "2022-05-25T09:18:31.787Z"
   },
   {
    "duration": 26,
    "start_time": "2022-05-25T09:18:31.805Z"
   },
   {
    "duration": 61,
    "start_time": "2022-05-25T09:18:31.833Z"
   },
   {
    "duration": 47,
    "start_time": "2022-05-25T09:18:31.896Z"
   },
   {
    "duration": 35,
    "start_time": "2022-05-25T09:18:31.945Z"
   },
   {
    "duration": 39,
    "start_time": "2022-05-25T09:18:31.982Z"
   },
   {
    "duration": 20,
    "start_time": "2022-05-25T09:18:32.023Z"
   },
   {
    "duration": 28,
    "start_time": "2022-05-25T09:18:32.046Z"
   },
   {
    "duration": 24,
    "start_time": "2022-05-25T09:18:32.076Z"
   },
   {
    "duration": 23,
    "start_time": "2022-05-25T09:18:32.102Z"
   },
   {
    "duration": 12,
    "start_time": "2022-05-25T09:18:32.127Z"
   },
   {
    "duration": 33,
    "start_time": "2022-05-25T09:18:32.141Z"
   },
   {
    "duration": 34,
    "start_time": "2022-05-25T09:18:32.175Z"
   },
   {
    "duration": 11,
    "start_time": "2022-05-25T09:18:32.211Z"
   },
   {
    "duration": 49,
    "start_time": "2022-05-25T09:18:32.223Z"
   },
   {
    "duration": 13,
    "start_time": "2022-05-25T09:18:32.275Z"
   },
   {
    "duration": 29,
    "start_time": "2022-05-25T09:18:32.290Z"
   },
   {
    "duration": 21,
    "start_time": "2022-05-25T09:18:32.321Z"
   },
   {
    "duration": 727,
    "start_time": "2022-05-25T09:19:48.181Z"
   },
   {
    "duration": 23,
    "start_time": "2022-05-25T09:20:16.798Z"
   },
   {
    "duration": 311,
    "start_time": "2022-05-25T09:21:57.143Z"
   },
   {
    "duration": 282,
    "start_time": "2022-05-25T09:22:05.750Z"
   },
   {
    "duration": 312,
    "start_time": "2022-05-25T09:22:18.802Z"
   },
   {
    "duration": 24,
    "start_time": "2022-05-25T09:22:26.949Z"
   },
   {
    "duration": 15,
    "start_time": "2022-05-25T09:22:52.683Z"
   },
   {
    "duration": 3,
    "start_time": "2022-05-25T09:25:45.985Z"
   },
   {
    "duration": 13,
    "start_time": "2022-05-25T09:25:58.757Z"
   },
   {
    "duration": 4,
    "start_time": "2022-05-25T09:27:04.470Z"
   },
   {
    "duration": 15,
    "start_time": "2022-05-25T09:27:05.650Z"
   },
   {
    "duration": 24,
    "start_time": "2022-05-25T09:29:51.238Z"
   },
   {
    "duration": 8,
    "start_time": "2022-05-25T09:31:08.574Z"
   },
   {
    "duration": 27,
    "start_time": "2022-05-25T09:31:13.581Z"
   },
   {
    "duration": 605,
    "start_time": "2022-05-25T09:31:42.760Z"
   },
   {
    "duration": 19,
    "start_time": "2022-05-25T09:32:18.967Z"
   },
   {
    "duration": 13,
    "start_time": "2022-05-25T09:32:29.556Z"
   },
   {
    "duration": 10,
    "start_time": "2022-05-25T09:32:32.049Z"
   },
   {
    "duration": 22,
    "start_time": "2022-05-25T09:32:37.642Z"
   },
   {
    "duration": 5,
    "start_time": "2022-05-25T09:32:59.402Z"
   },
   {
    "duration": 5,
    "start_time": "2022-05-25T09:33:02.153Z"
   },
   {
    "duration": 3,
    "start_time": "2022-05-25T09:33:08.282Z"
   },
   {
    "duration": 18,
    "start_time": "2022-05-25T09:33:14.156Z"
   },
   {
    "duration": 20,
    "start_time": "2022-05-25T09:34:51.505Z"
   },
   {
    "duration": 18,
    "start_time": "2022-05-25T09:34:58.453Z"
   },
   {
    "duration": 1425,
    "start_time": "2022-05-25T09:46:42.035Z"
   },
   {
    "duration": 4,
    "start_time": "2022-05-25T09:46:43.462Z"
   },
   {
    "duration": 191,
    "start_time": "2022-05-25T09:46:43.467Z"
   },
   {
    "duration": 12,
    "start_time": "2022-05-25T09:46:43.660Z"
   },
   {
    "duration": 12,
    "start_time": "2022-05-25T09:46:43.673Z"
   },
   {
    "duration": 18,
    "start_time": "2022-05-25T09:46:43.686Z"
   },
   {
    "duration": 4,
    "start_time": "2022-05-25T09:46:43.705Z"
   },
   {
    "duration": 6,
    "start_time": "2022-05-25T09:46:43.711Z"
   },
   {
    "duration": 33,
    "start_time": "2022-05-25T09:46:43.719Z"
   },
   {
    "duration": 19,
    "start_time": "2022-05-25T09:46:43.756Z"
   },
   {
    "duration": 431,
    "start_time": "2022-05-25T09:46:43.776Z"
   },
   {
    "duration": 173,
    "start_time": "2022-05-25T09:46:44.209Z"
   },
   {
    "duration": 18206,
    "start_time": "2022-05-25T09:46:44.383Z"
   },
   {
    "duration": 12,
    "start_time": "2022-05-25T09:47:02.590Z"
   },
   {
    "duration": 19,
    "start_time": "2022-05-25T09:47:02.604Z"
   },
   {
    "duration": 59,
    "start_time": "2022-05-25T09:47:02.625Z"
   },
   {
    "duration": 4,
    "start_time": "2022-05-25T09:47:02.685Z"
   },
   {
    "duration": 30,
    "start_time": "2022-05-25T09:47:02.690Z"
   },
   {
    "duration": 46,
    "start_time": "2022-05-25T09:47:02.721Z"
   },
   {
    "duration": 14,
    "start_time": "2022-05-25T09:47:02.768Z"
   },
   {
    "duration": 15,
    "start_time": "2022-05-25T09:47:02.784Z"
   },
   {
    "duration": 17,
    "start_time": "2022-05-25T09:47:02.800Z"
   },
   {
    "duration": 16,
    "start_time": "2022-05-25T09:47:02.819Z"
   },
   {
    "duration": 22,
    "start_time": "2022-05-25T09:47:02.836Z"
   },
   {
    "duration": 8,
    "start_time": "2022-05-25T09:47:02.860Z"
   },
   {
    "duration": 16,
    "start_time": "2022-05-25T09:47:02.870Z"
   },
   {
    "duration": 10,
    "start_time": "2022-05-25T09:47:02.887Z"
   },
   {
    "duration": 7,
    "start_time": "2022-05-25T09:47:02.901Z"
   },
   {
    "duration": 12,
    "start_time": "2022-05-25T09:47:02.909Z"
   },
   {
    "duration": 20,
    "start_time": "2022-05-25T09:47:02.922Z"
   },
   {
    "duration": 6,
    "start_time": "2022-05-25T09:47:02.944Z"
   },
   {
    "duration": 17,
    "start_time": "2022-05-25T09:47:02.952Z"
   },
   {
    "duration": 10,
    "start_time": "2022-05-25T09:47:02.970Z"
   },
   {
    "duration": 6,
    "start_time": "2022-05-25T09:47:02.982Z"
   },
   {
    "duration": 397,
    "start_time": "2022-05-25T09:47:02.990Z"
   },
   {
    "duration": 121,
    "start_time": "2022-05-25T09:47:03.389Z"
   },
   {
    "duration": 7,
    "start_time": "2022-05-25T09:47:03.512Z"
   },
   {
    "duration": 24,
    "start_time": "2022-05-25T09:47:03.521Z"
   },
   {
    "duration": 23,
    "start_time": "2022-05-25T09:47:03.546Z"
   },
   {
    "duration": 4,
    "start_time": "2022-05-25T09:47:03.570Z"
   },
   {
    "duration": 5,
    "start_time": "2022-05-25T09:47:03.575Z"
   },
   {
    "duration": 8,
    "start_time": "2022-05-25T09:47:03.581Z"
   },
   {
    "duration": 11,
    "start_time": "2022-05-25T09:47:03.591Z"
   },
   {
    "duration": 421,
    "start_time": "2022-05-25T09:47:03.603Z"
   },
   {
    "duration": 123,
    "start_time": "2022-05-25T09:47:04.026Z"
   },
   {
    "duration": 11,
    "start_time": "2022-05-25T09:47:04.151Z"
   },
   {
    "duration": 16,
    "start_time": "2022-05-25T09:47:04.164Z"
   },
   {
    "duration": 46,
    "start_time": "2022-05-25T09:47:04.181Z"
   },
   {
    "duration": 14,
    "start_time": "2022-05-25T09:47:04.229Z"
   },
   {
    "duration": 21,
    "start_time": "2022-05-25T09:47:04.245Z"
   },
   {
    "duration": 6,
    "start_time": "2022-05-25T09:47:04.268Z"
   },
   {
    "duration": 10,
    "start_time": "2022-05-25T09:47:04.276Z"
   },
   {
    "duration": 14,
    "start_time": "2022-05-25T09:47:04.287Z"
   },
   {
    "duration": 14,
    "start_time": "2022-05-25T09:47:04.303Z"
   },
   {
    "duration": 23,
    "start_time": "2022-05-25T09:47:04.318Z"
   },
   {
    "duration": 15,
    "start_time": "2022-05-25T09:47:04.343Z"
   },
   {
    "duration": 11,
    "start_time": "2022-05-25T09:47:04.359Z"
   },
   {
    "duration": 6,
    "start_time": "2022-05-25T09:47:04.371Z"
   },
   {
    "duration": 15,
    "start_time": "2022-05-25T09:47:04.378Z"
   },
   {
    "duration": 12,
    "start_time": "2022-05-25T09:47:04.394Z"
   },
   {
    "duration": 43,
    "start_time": "2022-05-25T09:47:04.408Z"
   },
   {
    "duration": 7,
    "start_time": "2022-05-25T09:47:04.453Z"
   },
   {
    "duration": 17,
    "start_time": "2022-05-25T09:47:04.462Z"
   },
   {
    "duration": 11,
    "start_time": "2022-05-25T09:47:04.481Z"
   },
   {
    "duration": 34,
    "start_time": "2022-05-25T09:47:04.494Z"
   },
   {
    "duration": 18,
    "start_time": "2022-05-25T09:47:04.530Z"
   },
   {
    "duration": 45,
    "start_time": "2022-05-25T09:47:04.550Z"
   },
   {
    "duration": 16,
    "start_time": "2022-05-25T09:47:04.597Z"
   },
   {
    "duration": 6,
    "start_time": "2022-05-25T09:47:04.614Z"
   },
   {
    "duration": 7,
    "start_time": "2022-05-25T09:47:04.621Z"
   },
   {
    "duration": 26,
    "start_time": "2022-05-25T09:47:04.629Z"
   },
   {
    "duration": 6,
    "start_time": "2022-05-25T09:47:04.657Z"
   },
   {
    "duration": 12,
    "start_time": "2022-05-25T09:47:04.664Z"
   },
   {
    "duration": 5,
    "start_time": "2022-05-25T09:47:04.677Z"
   },
   {
    "duration": 25,
    "start_time": "2022-05-25T09:47:04.684Z"
   },
   {
    "duration": 10,
    "start_time": "2022-05-25T09:47:04.710Z"
   },
   {
    "duration": 21,
    "start_time": "2022-05-25T09:47:04.722Z"
   },
   {
    "duration": 157,
    "start_time": "2022-05-25T09:47:04.744Z"
   },
   {
    "duration": 0,
    "start_time": "2022-05-25T09:47:04.902Z"
   },
   {
    "duration": 0,
    "start_time": "2022-05-25T09:47:04.904Z"
   },
   {
    "duration": 0,
    "start_time": "2022-05-25T09:47:04.905Z"
   },
   {
    "duration": 0,
    "start_time": "2022-05-25T09:47:04.906Z"
   },
   {
    "duration": 0,
    "start_time": "2022-05-25T09:47:04.907Z"
   },
   {
    "duration": 0,
    "start_time": "2022-05-25T09:47:04.908Z"
   },
   {
    "duration": 0,
    "start_time": "2022-05-25T09:47:04.909Z"
   },
   {
    "duration": 0,
    "start_time": "2022-05-25T09:47:04.910Z"
   },
   {
    "duration": 0,
    "start_time": "2022-05-25T09:47:04.911Z"
   },
   {
    "duration": 0,
    "start_time": "2022-05-25T09:47:04.912Z"
   },
   {
    "duration": 0,
    "start_time": "2022-05-25T09:47:04.912Z"
   },
   {
    "duration": 0,
    "start_time": "2022-05-25T09:47:04.913Z"
   },
   {
    "duration": 0,
    "start_time": "2022-05-25T09:47:04.914Z"
   },
   {
    "duration": 5,
    "start_time": "2022-05-25T09:47:30.860Z"
   },
   {
    "duration": 30,
    "start_time": "2022-05-25T09:47:33.310Z"
   },
   {
    "duration": 5,
    "start_time": "2022-05-25T09:47:49.555Z"
   },
   {
    "duration": 13,
    "start_time": "2022-05-25T09:47:56.259Z"
   },
   {
    "duration": 10,
    "start_time": "2022-05-25T09:48:06.323Z"
   },
   {
    "duration": 17,
    "start_time": "2022-05-25T09:48:09.369Z"
   },
   {
    "duration": 12,
    "start_time": "2022-05-25T09:48:12.193Z"
   },
   {
    "duration": 24,
    "start_time": "2022-05-25T09:48:14.741Z"
   },
   {
    "duration": 18,
    "start_time": "2022-05-25T09:48:17.969Z"
   },
   {
    "duration": 10,
    "start_time": "2022-05-25T09:48:25.376Z"
   },
   {
    "duration": 3,
    "start_time": "2022-05-25T09:48:26.262Z"
   },
   {
    "duration": 8,
    "start_time": "2022-05-25T09:48:26.968Z"
   },
   {
    "duration": 4,
    "start_time": "2022-05-25T09:48:27.653Z"
   },
   {
    "duration": 21,
    "start_time": "2022-05-25T09:48:28.360Z"
   },
   {
    "duration": 19,
    "start_time": "2022-05-25T09:49:21.114Z"
   },
   {
    "duration": 4,
    "start_time": "2022-05-25T10:04:41.622Z"
   },
   {
    "duration": 17,
    "start_time": "2022-05-25T10:04:48.621Z"
   },
   {
    "duration": 5,
    "start_time": "2022-05-25T10:05:44.358Z"
   },
   {
    "duration": 4,
    "start_time": "2022-05-25T10:05:53.414Z"
   },
   {
    "duration": 21,
    "start_time": "2022-05-25T10:06:04.529Z"
   },
   {
    "duration": 18,
    "start_time": "2022-05-25T10:10:09.008Z"
   },
   {
    "duration": 6,
    "start_time": "2022-05-25T10:10:37.148Z"
   },
   {
    "duration": 3,
    "start_time": "2022-05-25T10:10:45.055Z"
   },
   {
    "duration": 19,
    "start_time": "2022-05-25T10:11:00.591Z"
   },
   {
    "duration": 1580,
    "start_time": "2022-05-25T10:12:09.006Z"
   },
   {
    "duration": 4,
    "start_time": "2022-05-25T10:12:10.588Z"
   },
   {
    "duration": 473,
    "start_time": "2022-05-25T10:12:10.594Z"
   },
   {
    "duration": 12,
    "start_time": "2022-05-25T10:12:11.070Z"
   },
   {
    "duration": 13,
    "start_time": "2022-05-25T10:12:11.084Z"
   },
   {
    "duration": 23,
    "start_time": "2022-05-25T10:12:11.099Z"
   },
   {
    "duration": 6,
    "start_time": "2022-05-25T10:12:11.124Z"
   },
   {
    "duration": 21,
    "start_time": "2022-05-25T10:12:11.131Z"
   },
   {
    "duration": 13,
    "start_time": "2022-05-25T10:12:11.154Z"
   },
   {
    "duration": 16,
    "start_time": "2022-05-25T10:12:11.169Z"
   },
   {
    "duration": 412,
    "start_time": "2022-05-25T10:12:11.186Z"
   },
   {
    "duration": 153,
    "start_time": "2022-05-25T10:12:11.600Z"
   },
   {
    "duration": 17131,
    "start_time": "2022-05-25T10:12:11.755Z"
   },
   {
    "duration": 14,
    "start_time": "2022-05-25T10:12:28.887Z"
   },
   {
    "duration": 14,
    "start_time": "2022-05-25T10:12:28.903Z"
   },
   {
    "duration": 61,
    "start_time": "2022-05-25T10:12:28.919Z"
   },
   {
    "duration": 4,
    "start_time": "2022-05-25T10:12:28.982Z"
   },
   {
    "duration": 18,
    "start_time": "2022-05-25T10:12:28.988Z"
   },
   {
    "duration": 4,
    "start_time": "2022-05-25T10:12:29.008Z"
   },
   {
    "duration": 9,
    "start_time": "2022-05-25T10:12:29.013Z"
   },
   {
    "duration": 21,
    "start_time": "2022-05-25T10:12:29.024Z"
   },
   {
    "duration": 13,
    "start_time": "2022-05-25T10:12:29.047Z"
   },
   {
    "duration": 15,
    "start_time": "2022-05-25T10:12:29.061Z"
   },
   {
    "duration": 11,
    "start_time": "2022-05-25T10:12:29.077Z"
   },
   {
    "duration": 13,
    "start_time": "2022-05-25T10:12:29.089Z"
   },
   {
    "duration": 50,
    "start_time": "2022-05-25T10:12:29.104Z"
   },
   {
    "duration": 5,
    "start_time": "2022-05-25T10:12:29.157Z"
   },
   {
    "duration": 6,
    "start_time": "2022-05-25T10:12:29.166Z"
   },
   {
    "duration": 11,
    "start_time": "2022-05-25T10:12:29.173Z"
   },
   {
    "duration": 16,
    "start_time": "2022-05-25T10:12:29.186Z"
   },
   {
    "duration": 4,
    "start_time": "2022-05-25T10:12:29.203Z"
   },
   {
    "duration": 35,
    "start_time": "2022-05-25T10:12:29.208Z"
   },
   {
    "duration": 7,
    "start_time": "2022-05-25T10:12:29.245Z"
   },
   {
    "duration": 7,
    "start_time": "2022-05-25T10:12:29.254Z"
   },
   {
    "duration": 411,
    "start_time": "2022-05-25T10:12:29.262Z"
   },
   {
    "duration": 117,
    "start_time": "2022-05-25T10:12:29.675Z"
   },
   {
    "duration": 10,
    "start_time": "2022-05-25T10:12:29.794Z"
   },
   {
    "duration": 11,
    "start_time": "2022-05-25T10:12:29.806Z"
   },
   {
    "duration": 30,
    "start_time": "2022-05-25T10:12:29.819Z"
   },
   {
    "duration": 4,
    "start_time": "2022-05-25T10:12:29.851Z"
   },
   {
    "duration": 7,
    "start_time": "2022-05-25T10:12:29.856Z"
   },
   {
    "duration": 11,
    "start_time": "2022-05-25T10:12:29.864Z"
   },
   {
    "duration": 14,
    "start_time": "2022-05-25T10:12:29.876Z"
   },
   {
    "duration": 441,
    "start_time": "2022-05-25T10:12:29.893Z"
   },
   {
    "duration": 122,
    "start_time": "2022-05-25T10:12:30.335Z"
   },
   {
    "duration": 9,
    "start_time": "2022-05-25T10:12:30.459Z"
   },
   {
    "duration": 31,
    "start_time": "2022-05-25T10:12:30.469Z"
   },
   {
    "duration": 73,
    "start_time": "2022-05-25T10:12:30.502Z"
   },
   {
    "duration": 5,
    "start_time": "2022-05-25T10:12:30.577Z"
   },
   {
    "duration": 19,
    "start_time": "2022-05-25T10:12:30.583Z"
   },
   {
    "duration": 20,
    "start_time": "2022-05-25T10:12:30.605Z"
   },
   {
    "duration": 25,
    "start_time": "2022-05-25T10:12:30.627Z"
   },
   {
    "duration": 24,
    "start_time": "2022-05-25T10:12:30.654Z"
   },
   {
    "duration": 31,
    "start_time": "2022-05-25T10:12:30.680Z"
   },
   {
    "duration": 29,
    "start_time": "2022-05-25T10:12:30.713Z"
   },
   {
    "duration": 4,
    "start_time": "2022-05-25T10:12:30.744Z"
   },
   {
    "duration": 16,
    "start_time": "2022-05-25T10:12:30.749Z"
   },
   {
    "duration": 24,
    "start_time": "2022-05-25T10:12:30.767Z"
   },
   {
    "duration": 16,
    "start_time": "2022-05-25T10:12:30.792Z"
   },
   {
    "duration": 13,
    "start_time": "2022-05-25T10:12:30.809Z"
   },
   {
    "duration": 35,
    "start_time": "2022-05-25T10:12:30.823Z"
   },
   {
    "duration": 6,
    "start_time": "2022-05-25T10:12:30.860Z"
   },
   {
    "duration": 18,
    "start_time": "2022-05-25T10:12:30.868Z"
   },
   {
    "duration": 24,
    "start_time": "2022-05-25T10:12:30.888Z"
   },
   {
    "duration": 19,
    "start_time": "2022-05-25T10:12:30.914Z"
   },
   {
    "duration": 34,
    "start_time": "2022-05-25T10:12:30.935Z"
   },
   {
    "duration": 32,
    "start_time": "2022-05-25T10:12:30.970Z"
   },
   {
    "duration": 17,
    "start_time": "2022-05-25T10:12:31.004Z"
   },
   {
    "duration": 8,
    "start_time": "2022-05-25T10:12:31.022Z"
   },
   {
    "duration": 30,
    "start_time": "2022-05-25T10:12:31.031Z"
   },
   {
    "duration": 12,
    "start_time": "2022-05-25T10:12:31.062Z"
   },
   {
    "duration": 12,
    "start_time": "2022-05-25T10:12:31.076Z"
   },
   {
    "duration": 21,
    "start_time": "2022-05-25T10:12:31.090Z"
   },
   {
    "duration": 5,
    "start_time": "2022-05-25T10:12:31.113Z"
   },
   {
    "duration": 21,
    "start_time": "2022-05-25T10:12:31.119Z"
   },
   {
    "duration": 4,
    "start_time": "2022-05-25T10:12:31.142Z"
   },
   {
    "duration": 14,
    "start_time": "2022-05-25T10:12:31.147Z"
   },
   {
    "duration": 5,
    "start_time": "2022-05-25T10:12:31.163Z"
   },
   {
    "duration": 12,
    "start_time": "2022-05-25T10:12:31.169Z"
   },
   {
    "duration": 18,
    "start_time": "2022-05-25T10:12:31.182Z"
   },
   {
    "duration": 9,
    "start_time": "2022-05-25T10:12:31.201Z"
   },
   {
    "duration": 26,
    "start_time": "2022-05-25T10:12:31.216Z"
   },
   {
    "duration": 10,
    "start_time": "2022-05-25T10:12:31.244Z"
   },
   {
    "duration": 21,
    "start_time": "2022-05-25T10:12:31.256Z"
   },
   {
    "duration": 16,
    "start_time": "2022-05-25T10:12:31.279Z"
   },
   {
    "duration": 14,
    "start_time": "2022-05-25T10:12:31.296Z"
   },
   {
    "duration": 4,
    "start_time": "2022-05-25T10:12:31.311Z"
   },
   {
    "duration": 8,
    "start_time": "2022-05-25T10:12:31.342Z"
   },
   {
    "duration": 14,
    "start_time": "2022-05-25T10:12:31.352Z"
   },
   {
    "duration": 6,
    "start_time": "2022-05-25T10:12:31.368Z"
   },
   {
    "duration": 6,
    "start_time": "2022-05-25T10:12:31.376Z"
   },
   {
    "duration": 4,
    "start_time": "2022-05-25T10:12:31.384Z"
   },
   {
    "duration": 18,
    "start_time": "2022-05-25T10:12:31.390Z"
   },
   {
    "duration": 8,
    "start_time": "2022-05-25T10:23:29.809Z"
   },
   {
    "duration": 21,
    "start_time": "2022-05-25T10:23:46.044Z"
   },
   {
    "duration": 1344,
    "start_time": "2022-05-25T10:24:56.958Z"
   },
   {
    "duration": 2,
    "start_time": "2022-05-25T10:24:58.304Z"
   },
   {
    "duration": 175,
    "start_time": "2022-05-25T10:24:58.308Z"
   },
   {
    "duration": 11,
    "start_time": "2022-05-25T10:24:58.485Z"
   },
   {
    "duration": 11,
    "start_time": "2022-05-25T10:24:58.498Z"
   },
   {
    "duration": 21,
    "start_time": "2022-05-25T10:24:58.511Z"
   },
   {
    "duration": 4,
    "start_time": "2022-05-25T10:24:58.533Z"
   },
   {
    "duration": 4,
    "start_time": "2022-05-25T10:24:58.539Z"
   },
   {
    "duration": 17,
    "start_time": "2022-05-25T10:24:58.545Z"
   },
   {
    "duration": 15,
    "start_time": "2022-05-25T10:24:58.564Z"
   },
   {
    "duration": 408,
    "start_time": "2022-05-25T10:24:58.580Z"
   },
   {
    "duration": 174,
    "start_time": "2022-05-25T10:24:58.989Z"
   },
   {
    "duration": 17207,
    "start_time": "2022-05-25T10:24:59.165Z"
   },
   {
    "duration": 12,
    "start_time": "2022-05-25T10:25:16.374Z"
   },
   {
    "duration": 13,
    "start_time": "2022-05-25T10:25:16.387Z"
   },
   {
    "duration": 66,
    "start_time": "2022-05-25T10:25:16.401Z"
   },
   {
    "duration": 4,
    "start_time": "2022-05-25T10:25:16.469Z"
   },
   {
    "duration": 12,
    "start_time": "2022-05-25T10:25:16.474Z"
   },
   {
    "duration": 4,
    "start_time": "2022-05-25T10:25:16.487Z"
   },
   {
    "duration": 7,
    "start_time": "2022-05-25T10:25:16.492Z"
   },
   {
    "duration": 8,
    "start_time": "2022-05-25T10:25:16.500Z"
   },
   {
    "duration": 40,
    "start_time": "2022-05-25T10:25:16.510Z"
   },
   {
    "duration": 28,
    "start_time": "2022-05-25T10:25:16.551Z"
   },
   {
    "duration": 17,
    "start_time": "2022-05-25T10:25:16.581Z"
   },
   {
    "duration": 14,
    "start_time": "2022-05-25T10:25:16.600Z"
   },
   {
    "duration": 17,
    "start_time": "2022-05-25T10:25:16.616Z"
   },
   {
    "duration": 4,
    "start_time": "2022-05-25T10:25:16.635Z"
   },
   {
    "duration": 10,
    "start_time": "2022-05-25T10:25:16.641Z"
   },
   {
    "duration": 13,
    "start_time": "2022-05-25T10:25:16.653Z"
   },
   {
    "duration": 17,
    "start_time": "2022-05-25T10:25:16.668Z"
   },
   {
    "duration": 3,
    "start_time": "2022-05-25T10:25:16.687Z"
   },
   {
    "duration": 10,
    "start_time": "2022-05-25T10:25:16.691Z"
   },
   {
    "duration": 12,
    "start_time": "2022-05-25T10:25:16.702Z"
   },
   {
    "duration": 26,
    "start_time": "2022-05-25T10:25:16.715Z"
   },
   {
    "duration": 497,
    "start_time": "2022-05-25T10:25:16.744Z"
   },
   {
    "duration": 142,
    "start_time": "2022-05-25T10:25:17.243Z"
   },
   {
    "duration": 8,
    "start_time": "2022-05-25T10:25:17.387Z"
   },
   {
    "duration": 15,
    "start_time": "2022-05-25T10:25:17.396Z"
   },
   {
    "duration": 39,
    "start_time": "2022-05-25T10:25:17.412Z"
   },
   {
    "duration": 5,
    "start_time": "2022-05-25T10:25:17.452Z"
   },
   {
    "duration": 4,
    "start_time": "2022-05-25T10:25:17.463Z"
   },
   {
    "duration": 13,
    "start_time": "2022-05-25T10:25:17.470Z"
   },
   {
    "duration": 14,
    "start_time": "2022-05-25T10:25:17.485Z"
   },
   {
    "duration": 471,
    "start_time": "2022-05-25T10:25:17.501Z"
   },
   {
    "duration": 137,
    "start_time": "2022-05-25T10:25:17.974Z"
   },
   {
    "duration": 11,
    "start_time": "2022-05-25T10:25:18.113Z"
   },
   {
    "duration": 13,
    "start_time": "2022-05-25T10:25:18.141Z"
   },
   {
    "duration": 35,
    "start_time": "2022-05-25T10:25:18.156Z"
   },
   {
    "duration": 5,
    "start_time": "2022-05-25T10:25:18.193Z"
   },
   {
    "duration": 12,
    "start_time": "2022-05-25T10:25:18.199Z"
   },
   {
    "duration": 32,
    "start_time": "2022-05-25T10:25:18.213Z"
   },
   {
    "duration": 6,
    "start_time": "2022-05-25T10:25:18.247Z"
   },
   {
    "duration": 11,
    "start_time": "2022-05-25T10:25:18.255Z"
   },
   {
    "duration": 12,
    "start_time": "2022-05-25T10:25:18.268Z"
   },
   {
    "duration": 12,
    "start_time": "2022-05-25T10:25:18.282Z"
   },
   {
    "duration": 4,
    "start_time": "2022-05-25T10:25:18.295Z"
   },
   {
    "duration": 43,
    "start_time": "2022-05-25T10:25:18.301Z"
   },
   {
    "duration": 6,
    "start_time": "2022-05-25T10:25:18.346Z"
   },
   {
    "duration": 11,
    "start_time": "2022-05-25T10:25:18.354Z"
   },
   {
    "duration": 9,
    "start_time": "2022-05-25T10:25:18.366Z"
   },
   {
    "duration": 26,
    "start_time": "2022-05-25T10:25:18.377Z"
   },
   {
    "duration": 6,
    "start_time": "2022-05-25T10:25:18.404Z"
   },
   {
    "duration": 38,
    "start_time": "2022-05-25T10:25:18.412Z"
   },
   {
    "duration": 11,
    "start_time": "2022-05-25T10:25:18.452Z"
   },
   {
    "duration": 15,
    "start_time": "2022-05-25T10:25:18.465Z"
   },
   {
    "duration": 14,
    "start_time": "2022-05-25T10:25:18.481Z"
   },
   {
    "duration": 58,
    "start_time": "2022-05-25T10:25:18.497Z"
   },
   {
    "duration": 18,
    "start_time": "2022-05-25T10:25:18.557Z"
   },
   {
    "duration": 6,
    "start_time": "2022-05-25T10:25:18.577Z"
   },
   {
    "duration": 5,
    "start_time": "2022-05-25T10:25:18.584Z"
   },
   {
    "duration": 10,
    "start_time": "2022-05-25T10:25:18.590Z"
   },
   {
    "duration": 7,
    "start_time": "2022-05-25T10:25:18.601Z"
   },
   {
    "duration": 31,
    "start_time": "2022-05-25T10:25:18.610Z"
   },
   {
    "duration": 4,
    "start_time": "2022-05-25T10:25:18.643Z"
   },
   {
    "duration": 13,
    "start_time": "2022-05-25T10:25:18.648Z"
   },
   {
    "duration": 4,
    "start_time": "2022-05-25T10:25:18.662Z"
   },
   {
    "duration": 11,
    "start_time": "2022-05-25T10:25:18.667Z"
   },
   {
    "duration": 5,
    "start_time": "2022-05-25T10:25:18.679Z"
   },
   {
    "duration": 8,
    "start_time": "2022-05-25T10:25:18.685Z"
   },
   {
    "duration": 13,
    "start_time": "2022-05-25T10:25:18.694Z"
   },
   {
    "duration": 33,
    "start_time": "2022-05-25T10:25:18.708Z"
   },
   {
    "duration": 13,
    "start_time": "2022-05-25T10:25:18.743Z"
   },
   {
    "duration": 10,
    "start_time": "2022-05-25T10:25:18.757Z"
   },
   {
    "duration": 17,
    "start_time": "2022-05-25T10:25:18.769Z"
   },
   {
    "duration": 16,
    "start_time": "2022-05-25T10:25:18.788Z"
   },
   {
    "duration": 35,
    "start_time": "2022-05-25T10:25:18.806Z"
   },
   {
    "duration": 4,
    "start_time": "2022-05-25T10:25:18.843Z"
   },
   {
    "duration": 13,
    "start_time": "2022-05-25T10:25:18.849Z"
   },
   {
    "duration": 5,
    "start_time": "2022-05-25T10:25:18.863Z"
   },
   {
    "duration": 6,
    "start_time": "2022-05-25T10:25:18.869Z"
   },
   {
    "duration": 5,
    "start_time": "2022-05-25T10:25:18.877Z"
   },
   {
    "duration": 6,
    "start_time": "2022-05-25T10:25:18.883Z"
   },
   {
    "duration": 10,
    "start_time": "2022-05-25T10:25:18.890Z"
   },
   {
    "duration": 16,
    "start_time": "2022-05-25T10:25:30.970Z"
   },
   {
    "duration": 15,
    "start_time": "2022-05-25T10:26:03.199Z"
   },
   {
    "duration": 15,
    "start_time": "2022-05-25T10:26:31.897Z"
   },
   {
    "duration": 1255,
    "start_time": "2022-05-25T10:28:00.243Z"
   },
   {
    "duration": 3,
    "start_time": "2022-05-25T10:28:01.500Z"
   },
   {
    "duration": 179,
    "start_time": "2022-05-25T10:28:01.504Z"
   },
   {
    "duration": 10,
    "start_time": "2022-05-25T10:28:01.685Z"
   },
   {
    "duration": 15,
    "start_time": "2022-05-25T10:28:01.697Z"
   },
   {
    "duration": 19,
    "start_time": "2022-05-25T10:28:01.714Z"
   },
   {
    "duration": 4,
    "start_time": "2022-05-25T10:28:01.735Z"
   },
   {
    "duration": 9,
    "start_time": "2022-05-25T10:28:01.741Z"
   },
   {
    "duration": 18,
    "start_time": "2022-05-25T10:28:01.751Z"
   },
   {
    "duration": 20,
    "start_time": "2022-05-25T10:28:01.771Z"
   },
   {
    "duration": 435,
    "start_time": "2022-05-25T10:28:01.794Z"
   },
   {
    "duration": 158,
    "start_time": "2022-05-25T10:28:02.231Z"
   },
   {
    "duration": 16953,
    "start_time": "2022-05-25T10:28:02.391Z"
   },
   {
    "duration": 11,
    "start_time": "2022-05-25T10:28:19.347Z"
   },
   {
    "duration": 15,
    "start_time": "2022-05-25T10:28:19.360Z"
   },
   {
    "duration": 43,
    "start_time": "2022-05-25T10:28:19.377Z"
   },
   {
    "duration": 21,
    "start_time": "2022-05-25T10:28:19.422Z"
   },
   {
    "duration": 10,
    "start_time": "2022-05-25T10:28:19.445Z"
   },
   {
    "duration": 4,
    "start_time": "2022-05-25T10:28:19.456Z"
   },
   {
    "duration": 9,
    "start_time": "2022-05-25T10:28:19.461Z"
   },
   {
    "duration": 8,
    "start_time": "2022-05-25T10:28:19.471Z"
   },
   {
    "duration": 12,
    "start_time": "2022-05-25T10:28:19.481Z"
   },
   {
    "duration": 16,
    "start_time": "2022-05-25T10:28:19.494Z"
   },
   {
    "duration": 39,
    "start_time": "2022-05-25T10:28:19.512Z"
   },
   {
    "duration": 3,
    "start_time": "2022-05-25T10:28:19.553Z"
   },
   {
    "duration": 14,
    "start_time": "2022-05-25T10:28:19.558Z"
   },
   {
    "duration": 3,
    "start_time": "2022-05-25T10:28:19.574Z"
   },
   {
    "duration": 9,
    "start_time": "2022-05-25T10:28:19.579Z"
   },
   {
    "duration": 18,
    "start_time": "2022-05-25T10:28:19.590Z"
   },
   {
    "duration": 40,
    "start_time": "2022-05-25T10:28:19.609Z"
   },
   {
    "duration": 4,
    "start_time": "2022-05-25T10:28:19.651Z"
   },
   {
    "duration": 5,
    "start_time": "2022-05-25T10:28:19.656Z"
   },
   {
    "duration": 12,
    "start_time": "2022-05-25T10:28:19.663Z"
   },
   {
    "duration": 7,
    "start_time": "2022-05-25T10:28:19.676Z"
   },
   {
    "duration": 398,
    "start_time": "2022-05-25T10:28:19.684Z"
   },
   {
    "duration": 127,
    "start_time": "2022-05-25T10:28:20.083Z"
   },
   {
    "duration": 8,
    "start_time": "2022-05-25T10:28:20.212Z"
   },
   {
    "duration": 26,
    "start_time": "2022-05-25T10:28:20.222Z"
   },
   {
    "duration": 17,
    "start_time": "2022-05-25T10:28:20.250Z"
   },
   {
    "duration": 4,
    "start_time": "2022-05-25T10:28:20.269Z"
   },
   {
    "duration": 3,
    "start_time": "2022-05-25T10:28:20.278Z"
   },
   {
    "duration": 9,
    "start_time": "2022-05-25T10:28:20.283Z"
   },
   {
    "duration": 8,
    "start_time": "2022-05-25T10:28:20.294Z"
   },
   {
    "duration": 438,
    "start_time": "2022-05-25T10:28:20.304Z"
   },
   {
    "duration": 119,
    "start_time": "2022-05-25T10:28:20.743Z"
   },
   {
    "duration": 12,
    "start_time": "2022-05-25T10:28:20.863Z"
   },
   {
    "duration": 17,
    "start_time": "2022-05-25T10:28:20.877Z"
   },
   {
    "duration": 31,
    "start_time": "2022-05-25T10:28:20.896Z"
   },
   {
    "duration": 5,
    "start_time": "2022-05-25T10:28:20.941Z"
   },
   {
    "duration": 10,
    "start_time": "2022-05-25T10:28:20.948Z"
   },
   {
    "duration": 7,
    "start_time": "2022-05-25T10:28:20.959Z"
   },
   {
    "duration": 7,
    "start_time": "2022-05-25T10:28:20.968Z"
   },
   {
    "duration": 10,
    "start_time": "2022-05-25T10:28:20.976Z"
   },
   {
    "duration": 11,
    "start_time": "2022-05-25T10:28:20.988Z"
   },
   {
    "duration": 13,
    "start_time": "2022-05-25T10:28:21.000Z"
   },
   {
    "duration": 4,
    "start_time": "2022-05-25T10:28:21.041Z"
   },
   {
    "duration": 10,
    "start_time": "2022-05-25T10:28:21.046Z"
   },
   {
    "duration": 7,
    "start_time": "2022-05-25T10:28:21.058Z"
   },
   {
    "duration": 7,
    "start_time": "2022-05-25T10:28:21.067Z"
   },
   {
    "duration": 8,
    "start_time": "2022-05-25T10:28:21.076Z"
   },
   {
    "duration": 55,
    "start_time": "2022-05-25T10:28:21.086Z"
   },
   {
    "duration": 7,
    "start_time": "2022-05-25T10:28:21.144Z"
   },
   {
    "duration": 21,
    "start_time": "2022-05-25T10:28:21.152Z"
   },
   {
    "duration": 12,
    "start_time": "2022-05-25T10:28:21.175Z"
   },
   {
    "duration": 19,
    "start_time": "2022-05-25T10:28:21.189Z"
   },
   {
    "duration": 13,
    "start_time": "2022-05-25T10:28:21.209Z"
   },
   {
    "duration": 29,
    "start_time": "2022-05-25T10:28:21.241Z"
   },
   {
    "duration": 18,
    "start_time": "2022-05-25T10:28:21.272Z"
   },
   {
    "duration": 6,
    "start_time": "2022-05-25T10:28:21.292Z"
   },
   {
    "duration": 5,
    "start_time": "2022-05-25T10:28:21.300Z"
   },
   {
    "duration": 35,
    "start_time": "2022-05-25T10:28:21.307Z"
   },
   {
    "duration": 10,
    "start_time": "2022-05-25T10:28:21.343Z"
   },
   {
    "duration": 8,
    "start_time": "2022-05-25T10:28:21.354Z"
   },
   {
    "duration": 8,
    "start_time": "2022-05-25T10:28:21.364Z"
   },
   {
    "duration": 10,
    "start_time": "2022-05-25T10:28:21.374Z"
   },
   {
    "duration": 4,
    "start_time": "2022-05-25T10:28:21.385Z"
   },
   {
    "duration": 10,
    "start_time": "2022-05-25T10:28:21.390Z"
   },
   {
    "duration": 4,
    "start_time": "2022-05-25T10:28:21.401Z"
   },
   {
    "duration": 5,
    "start_time": "2022-05-25T10:28:21.407Z"
   },
   {
    "duration": 13,
    "start_time": "2022-05-25T10:28:21.440Z"
   },
   {
    "duration": 8,
    "start_time": "2022-05-25T10:28:21.455Z"
   },
   {
    "duration": 13,
    "start_time": "2022-05-25T10:28:21.465Z"
   },
   {
    "duration": 11,
    "start_time": "2022-05-25T10:28:21.479Z"
   },
   {
    "duration": 19,
    "start_time": "2022-05-25T10:28:21.492Z"
   },
   {
    "duration": 16,
    "start_time": "2022-05-25T10:28:21.542Z"
   },
   {
    "duration": 8,
    "start_time": "2022-05-25T10:28:21.560Z"
   },
   {
    "duration": 4,
    "start_time": "2022-05-25T10:28:21.570Z"
   },
   {
    "duration": 7,
    "start_time": "2022-05-25T10:28:21.575Z"
   },
   {
    "duration": 3,
    "start_time": "2022-05-25T10:28:21.584Z"
   },
   {
    "duration": 5,
    "start_time": "2022-05-25T10:28:21.588Z"
   },
   {
    "duration": 4,
    "start_time": "2022-05-25T10:28:21.595Z"
   },
   {
    "duration": 5,
    "start_time": "2022-05-25T10:28:21.640Z"
   },
   {
    "duration": 8,
    "start_time": "2022-05-25T10:28:21.647Z"
   },
   {
    "duration": 5,
    "start_time": "2022-05-25T10:28:21.656Z"
   },
   {
    "duration": 7,
    "start_time": "2022-05-25T10:28:21.662Z"
   },
   {
    "duration": 21,
    "start_time": "2022-05-25T10:28:21.671Z"
   },
   {
    "duration": 10,
    "start_time": "2022-05-25T10:29:03.164Z"
   },
   {
    "duration": 9,
    "start_time": "2022-05-25T10:29:30.019Z"
   },
   {
    "duration": 24,
    "start_time": "2022-05-25T10:29:35.642Z"
   },
   {
    "duration": 6,
    "start_time": "2022-05-25T10:30:36.926Z"
   },
   {
    "duration": 11,
    "start_time": "2022-05-25T10:31:13.213Z"
   },
   {
    "duration": 1338,
    "start_time": "2022-05-25T10:31:32.512Z"
   },
   {
    "duration": 4,
    "start_time": "2022-05-25T10:31:33.853Z"
   },
   {
    "duration": 192,
    "start_time": "2022-05-25T10:31:33.859Z"
   },
   {
    "duration": 14,
    "start_time": "2022-05-25T10:31:34.054Z"
   },
   {
    "duration": 12,
    "start_time": "2022-05-25T10:31:34.070Z"
   },
   {
    "duration": 17,
    "start_time": "2022-05-25T10:31:34.084Z"
   },
   {
    "duration": 4,
    "start_time": "2022-05-25T10:31:34.102Z"
   },
   {
    "duration": 34,
    "start_time": "2022-05-25T10:31:34.108Z"
   },
   {
    "duration": 12,
    "start_time": "2022-05-25T10:31:34.145Z"
   },
   {
    "duration": 17,
    "start_time": "2022-05-25T10:31:34.159Z"
   },
   {
    "duration": 430,
    "start_time": "2022-05-25T10:31:34.177Z"
   },
   {
    "duration": 160,
    "start_time": "2022-05-25T10:31:34.609Z"
   },
   {
    "duration": 18556,
    "start_time": "2022-05-25T10:31:34.771Z"
   },
   {
    "duration": 16,
    "start_time": "2022-05-25T10:31:53.329Z"
   },
   {
    "duration": 18,
    "start_time": "2022-05-25T10:31:53.347Z"
   },
   {
    "duration": 45,
    "start_time": "2022-05-25T10:31:53.367Z"
   },
   {
    "duration": 3,
    "start_time": "2022-05-25T10:31:53.414Z"
   },
   {
    "duration": 45,
    "start_time": "2022-05-25T10:31:53.419Z"
   },
   {
    "duration": 4,
    "start_time": "2022-05-25T10:31:53.465Z"
   },
   {
    "duration": 6,
    "start_time": "2022-05-25T10:31:53.471Z"
   },
   {
    "duration": 12,
    "start_time": "2022-05-25T10:31:53.478Z"
   },
   {
    "duration": 13,
    "start_time": "2022-05-25T10:31:53.491Z"
   },
   {
    "duration": 14,
    "start_time": "2022-05-25T10:31:53.506Z"
   },
   {
    "duration": 28,
    "start_time": "2022-05-25T10:31:53.521Z"
   },
   {
    "duration": 7,
    "start_time": "2022-05-25T10:31:53.550Z"
   },
   {
    "duration": 12,
    "start_time": "2022-05-25T10:31:53.559Z"
   },
   {
    "duration": 4,
    "start_time": "2022-05-25T10:31:53.572Z"
   },
   {
    "duration": 8,
    "start_time": "2022-05-25T10:31:53.577Z"
   },
   {
    "duration": 11,
    "start_time": "2022-05-25T10:31:53.587Z"
   },
   {
    "duration": 12,
    "start_time": "2022-05-25T10:31:53.600Z"
   },
   {
    "duration": 5,
    "start_time": "2022-05-25T10:31:53.641Z"
   },
   {
    "duration": 20,
    "start_time": "2022-05-25T10:31:53.648Z"
   },
   {
    "duration": 8,
    "start_time": "2022-05-25T10:31:53.670Z"
   },
   {
    "duration": 12,
    "start_time": "2022-05-25T10:31:53.679Z"
   },
   {
    "duration": 406,
    "start_time": "2022-05-25T10:31:53.693Z"
   },
   {
    "duration": 127,
    "start_time": "2022-05-25T10:31:54.101Z"
   },
   {
    "duration": 14,
    "start_time": "2022-05-25T10:31:54.230Z"
   },
   {
    "duration": 17,
    "start_time": "2022-05-25T10:31:54.246Z"
   },
   {
    "duration": 16,
    "start_time": "2022-05-25T10:31:54.265Z"
   },
   {
    "duration": 5,
    "start_time": "2022-05-25T10:31:54.282Z"
   },
   {
    "duration": 3,
    "start_time": "2022-05-25T10:31:54.293Z"
   },
   {
    "duration": 7,
    "start_time": "2022-05-25T10:31:54.298Z"
   },
   {
    "duration": 49,
    "start_time": "2022-05-25T10:31:54.307Z"
   },
   {
    "duration": 425,
    "start_time": "2022-05-25T10:31:54.358Z"
   },
   {
    "duration": 129,
    "start_time": "2022-05-25T10:31:54.785Z"
   },
   {
    "duration": 10,
    "start_time": "2022-05-25T10:31:54.916Z"
   },
   {
    "duration": 30,
    "start_time": "2022-05-25T10:31:54.927Z"
   },
   {
    "duration": 38,
    "start_time": "2022-05-25T10:31:54.959Z"
   },
   {
    "duration": 4,
    "start_time": "2022-05-25T10:31:54.998Z"
   },
   {
    "duration": 8,
    "start_time": "2022-05-25T10:31:55.004Z"
   },
   {
    "duration": 35,
    "start_time": "2022-05-25T10:31:55.013Z"
   },
   {
    "duration": 13,
    "start_time": "2022-05-25T10:31:55.051Z"
   },
   {
    "duration": 12,
    "start_time": "2022-05-25T10:31:55.066Z"
   },
   {
    "duration": 12,
    "start_time": "2022-05-25T10:31:55.080Z"
   },
   {
    "duration": 13,
    "start_time": "2022-05-25T10:31:55.094Z"
   },
   {
    "duration": 35,
    "start_time": "2022-05-25T10:31:55.109Z"
   },
   {
    "duration": 13,
    "start_time": "2022-05-25T10:31:55.146Z"
   },
   {
    "duration": 8,
    "start_time": "2022-05-25T10:31:55.160Z"
   },
   {
    "duration": 10,
    "start_time": "2022-05-25T10:31:55.170Z"
   },
   {
    "duration": 9,
    "start_time": "2022-05-25T10:31:55.181Z"
   },
   {
    "duration": 54,
    "start_time": "2022-05-25T10:31:55.192Z"
   },
   {
    "duration": 9,
    "start_time": "2022-05-25T10:31:55.248Z"
   },
   {
    "duration": 14,
    "start_time": "2022-05-25T10:31:55.260Z"
   },
   {
    "duration": 11,
    "start_time": "2022-05-25T10:31:55.276Z"
   },
   {
    "duration": 14,
    "start_time": "2022-05-25T10:31:55.288Z"
   },
   {
    "duration": 39,
    "start_time": "2022-05-25T10:31:55.304Z"
   },
   {
    "duration": 33,
    "start_time": "2022-05-25T10:31:55.345Z"
   },
   {
    "duration": 18,
    "start_time": "2022-05-25T10:31:55.380Z"
   },
   {
    "duration": 6,
    "start_time": "2022-05-25T10:31:55.400Z"
   },
   {
    "duration": 7,
    "start_time": "2022-05-25T10:31:55.407Z"
   },
   {
    "duration": 16,
    "start_time": "2022-05-25T10:31:55.441Z"
   },
   {
    "duration": 10,
    "start_time": "2022-05-25T10:31:55.459Z"
   },
   {
    "duration": 10,
    "start_time": "2022-05-25T10:31:55.470Z"
   },
   {
    "duration": 4,
    "start_time": "2022-05-25T10:31:55.481Z"
   },
   {
    "duration": 11,
    "start_time": "2022-05-25T10:31:55.487Z"
   },
   {
    "duration": 3,
    "start_time": "2022-05-25T10:31:55.500Z"
   },
   {
    "duration": 22,
    "start_time": "2022-05-25T10:31:55.505Z"
   },
   {
    "duration": 23,
    "start_time": "2022-05-25T10:31:55.528Z"
   },
   {
    "duration": 6,
    "start_time": "2022-05-25T10:31:55.554Z"
   },
   {
    "duration": 13,
    "start_time": "2022-05-25T10:31:55.562Z"
   },
   {
    "duration": 9,
    "start_time": "2022-05-25T10:31:55.577Z"
   },
   {
    "duration": 14,
    "start_time": "2022-05-25T10:31:55.587Z"
   },
   {
    "duration": 11,
    "start_time": "2022-05-25T10:31:55.603Z"
   },
   {
    "duration": 29,
    "start_time": "2022-05-25T10:31:55.642Z"
   },
   {
    "duration": 16,
    "start_time": "2022-05-25T10:31:55.672Z"
   },
   {
    "duration": 9,
    "start_time": "2022-05-25T10:31:55.690Z"
   },
   {
    "duration": 3,
    "start_time": "2022-05-25T10:31:55.701Z"
   },
   {
    "duration": 8,
    "start_time": "2022-05-25T10:31:55.705Z"
   },
   {
    "duration": 28,
    "start_time": "2022-05-25T10:31:55.715Z"
   },
   {
    "duration": 7,
    "start_time": "2022-05-25T10:31:55.745Z"
   },
   {
    "duration": 13,
    "start_time": "2022-05-25T10:31:55.754Z"
   },
   {
    "duration": 9,
    "start_time": "2022-05-25T10:31:55.769Z"
   },
   {
    "duration": 9,
    "start_time": "2022-05-25T10:31:55.779Z"
   },
   {
    "duration": 6,
    "start_time": "2022-05-25T10:31:55.790Z"
   },
   {
    "duration": 12,
    "start_time": "2022-05-25T10:31:55.797Z"
   },
   {
    "duration": 43,
    "start_time": "2022-05-25T10:31:55.811Z"
   },
   {
    "duration": 11,
    "start_time": "2022-05-25T10:31:55.857Z"
   },
   {
    "duration": 13,
    "start_time": "2022-05-25T10:31:55.869Z"
   },
   {
    "duration": 4,
    "start_time": "2022-05-25T10:31:55.884Z"
   },
   {
    "duration": 13,
    "start_time": "2022-05-25T10:31:55.890Z"
   },
   {
    "duration": 1405,
    "start_time": "2022-05-25T10:33:28.162Z"
   },
   {
    "duration": 3,
    "start_time": "2022-05-25T10:33:29.576Z"
   },
   {
    "duration": 214,
    "start_time": "2022-05-25T10:33:29.580Z"
   },
   {
    "duration": 14,
    "start_time": "2022-05-25T10:33:29.796Z"
   },
   {
    "duration": 16,
    "start_time": "2022-05-25T10:33:29.813Z"
   },
   {
    "duration": 29,
    "start_time": "2022-05-25T10:33:29.831Z"
   },
   {
    "duration": 23,
    "start_time": "2022-05-25T10:33:29.862Z"
   },
   {
    "duration": 18,
    "start_time": "2022-05-25T10:33:29.888Z"
   },
   {
    "duration": 17,
    "start_time": "2022-05-25T10:33:29.909Z"
   },
   {
    "duration": 22,
    "start_time": "2022-05-25T10:33:29.928Z"
   },
   {
    "duration": 482,
    "start_time": "2022-05-25T10:33:29.952Z"
   },
   {
    "duration": 169,
    "start_time": "2022-05-25T10:33:30.442Z"
   },
   {
    "duration": 19827,
    "start_time": "2022-05-25T10:33:30.613Z"
   },
   {
    "duration": 22,
    "start_time": "2022-05-25T10:33:50.450Z"
   },
   {
    "duration": 14,
    "start_time": "2022-05-25T10:33:50.474Z"
   },
   {
    "duration": 58,
    "start_time": "2022-05-25T10:33:50.489Z"
   },
   {
    "duration": 6,
    "start_time": "2022-05-25T10:33:50.549Z"
   },
   {
    "duration": 30,
    "start_time": "2022-05-25T10:33:50.563Z"
   },
   {
    "duration": 5,
    "start_time": "2022-05-25T10:33:50.596Z"
   },
   {
    "duration": 11,
    "start_time": "2022-05-25T10:33:50.604Z"
   },
   {
    "duration": 14,
    "start_time": "2022-05-25T10:33:50.617Z"
   },
   {
    "duration": 36,
    "start_time": "2022-05-25T10:33:50.633Z"
   },
   {
    "duration": 18,
    "start_time": "2022-05-25T10:33:50.672Z"
   },
   {
    "duration": 16,
    "start_time": "2022-05-25T10:33:50.691Z"
   },
   {
    "duration": 8,
    "start_time": "2022-05-25T10:33:50.708Z"
   },
   {
    "duration": 13,
    "start_time": "2022-05-25T10:33:50.718Z"
   },
   {
    "duration": 13,
    "start_time": "2022-05-25T10:33:50.733Z"
   },
   {
    "duration": 32,
    "start_time": "2022-05-25T10:33:50.748Z"
   },
   {
    "duration": 13,
    "start_time": "2022-05-25T10:33:50.782Z"
   },
   {
    "duration": 25,
    "start_time": "2022-05-25T10:33:50.797Z"
   },
   {
    "duration": 8,
    "start_time": "2022-05-25T10:33:50.823Z"
   },
   {
    "duration": 6,
    "start_time": "2022-05-25T10:33:50.832Z"
   },
   {
    "duration": 47,
    "start_time": "2022-05-25T10:33:50.840Z"
   },
   {
    "duration": 10,
    "start_time": "2022-05-25T10:33:50.889Z"
   },
   {
    "duration": 421,
    "start_time": "2022-05-25T10:33:50.901Z"
   },
   {
    "duration": 152,
    "start_time": "2022-05-25T10:33:51.324Z"
   },
   {
    "duration": 8,
    "start_time": "2022-05-25T10:33:51.478Z"
   },
   {
    "duration": 13,
    "start_time": "2022-05-25T10:33:51.487Z"
   },
   {
    "duration": 17,
    "start_time": "2022-05-25T10:33:51.501Z"
   },
   {
    "duration": 28,
    "start_time": "2022-05-25T10:33:51.519Z"
   },
   {
    "duration": 32,
    "start_time": "2022-05-25T10:33:51.554Z"
   },
   {
    "duration": 12,
    "start_time": "2022-05-25T10:33:51.587Z"
   },
   {
    "duration": 11,
    "start_time": "2022-05-25T10:33:51.601Z"
   },
   {
    "duration": 452,
    "start_time": "2022-05-25T10:33:51.614Z"
   },
   {
    "duration": 133,
    "start_time": "2022-05-25T10:33:52.072Z"
   },
   {
    "duration": 10,
    "start_time": "2022-05-25T10:33:52.206Z"
   },
   {
    "duration": 28,
    "start_time": "2022-05-25T10:33:52.218Z"
   },
   {
    "duration": 43,
    "start_time": "2022-05-25T10:33:52.248Z"
   },
   {
    "duration": 4,
    "start_time": "2022-05-25T10:33:52.293Z"
   },
   {
    "duration": 12,
    "start_time": "2022-05-25T10:33:52.298Z"
   },
   {
    "duration": 6,
    "start_time": "2022-05-25T10:33:52.312Z"
   },
   {
    "duration": 26,
    "start_time": "2022-05-25T10:33:52.319Z"
   },
   {
    "duration": 36,
    "start_time": "2022-05-25T10:33:52.353Z"
   },
   {
    "duration": 14,
    "start_time": "2022-05-25T10:33:52.392Z"
   },
   {
    "duration": 11,
    "start_time": "2022-05-25T10:33:52.407Z"
   },
   {
    "duration": 6,
    "start_time": "2022-05-25T10:33:52.419Z"
   },
   {
    "duration": 16,
    "start_time": "2022-05-25T10:33:52.426Z"
   },
   {
    "duration": 11,
    "start_time": "2022-05-25T10:33:52.444Z"
   },
   {
    "duration": 31,
    "start_time": "2022-05-25T10:33:52.460Z"
   },
   {
    "duration": 13,
    "start_time": "2022-05-25T10:33:52.493Z"
   },
   {
    "duration": 31,
    "start_time": "2022-05-25T10:33:52.510Z"
   },
   {
    "duration": 8,
    "start_time": "2022-05-25T10:33:52.543Z"
   },
   {
    "duration": 29,
    "start_time": "2022-05-25T10:33:52.553Z"
   },
   {
    "duration": 11,
    "start_time": "2022-05-25T10:33:52.583Z"
   },
   {
    "duration": 17,
    "start_time": "2022-05-25T10:33:52.596Z"
   },
   {
    "duration": 13,
    "start_time": "2022-05-25T10:33:52.614Z"
   },
   {
    "duration": 39,
    "start_time": "2022-05-25T10:33:52.648Z"
   },
   {
    "duration": 16,
    "start_time": "2022-05-25T10:33:52.689Z"
   },
   {
    "duration": 7,
    "start_time": "2022-05-25T10:33:52.707Z"
   },
   {
    "duration": 7,
    "start_time": "2022-05-25T10:33:52.715Z"
   },
   {
    "duration": 25,
    "start_time": "2022-05-25T10:33:52.724Z"
   },
   {
    "duration": 27,
    "start_time": "2022-05-25T10:33:52.751Z"
   },
   {
    "duration": 9,
    "start_time": "2022-05-25T10:33:52.780Z"
   },
   {
    "duration": 3,
    "start_time": "2022-05-25T10:33:52.791Z"
   },
   {
    "duration": 8,
    "start_time": "2022-05-25T10:33:52.796Z"
   },
   {
    "duration": 3,
    "start_time": "2022-05-25T10:33:52.806Z"
   },
   {
    "duration": 8,
    "start_time": "2022-05-25T10:33:52.811Z"
   },
   {
    "duration": 7,
    "start_time": "2022-05-25T10:33:52.821Z"
   },
   {
    "duration": 16,
    "start_time": "2022-05-25T10:33:52.830Z"
   },
   {
    "duration": 24,
    "start_time": "2022-05-25T10:33:52.860Z"
   },
   {
    "duration": 8,
    "start_time": "2022-05-25T10:33:52.886Z"
   },
   {
    "duration": 17,
    "start_time": "2022-05-25T10:33:52.896Z"
   },
   {
    "duration": 11,
    "start_time": "2022-05-25T10:33:52.914Z"
   },
   {
    "duration": 36,
    "start_time": "2022-05-25T10:33:52.926Z"
   },
   {
    "duration": 24,
    "start_time": "2022-05-25T10:33:52.964Z"
   },
   {
    "duration": 9,
    "start_time": "2022-05-25T10:33:52.989Z"
   },
   {
    "duration": 4,
    "start_time": "2022-05-25T10:33:53.000Z"
   },
   {
    "duration": 8,
    "start_time": "2022-05-25T10:33:53.005Z"
   },
   {
    "duration": 4,
    "start_time": "2022-05-25T10:33:53.014Z"
   },
   {
    "duration": 27,
    "start_time": "2022-05-25T10:33:53.019Z"
   },
   {
    "duration": 24,
    "start_time": "2022-05-25T10:33:53.051Z"
   },
   {
    "duration": 7,
    "start_time": "2022-05-25T10:33:53.077Z"
   },
   {
    "duration": 18,
    "start_time": "2022-05-25T10:33:53.086Z"
   },
   {
    "duration": 7,
    "start_time": "2022-05-25T10:33:53.106Z"
   },
   {
    "duration": 69,
    "start_time": "2022-05-25T10:33:53.115Z"
   },
   {
    "duration": 27,
    "start_time": "2022-05-25T10:33:53.186Z"
   },
   {
    "duration": 11,
    "start_time": "2022-05-25T10:33:53.214Z"
   },
   {
    "duration": 14,
    "start_time": "2022-05-25T10:33:53.226Z"
   },
   {
    "duration": 6,
    "start_time": "2022-05-25T10:33:53.248Z"
   },
   {
    "duration": 37,
    "start_time": "2022-05-25T10:33:53.256Z"
   },
   {
    "duration": 1489,
    "start_time": "2022-05-25T13:14:04.122Z"
   },
   {
    "duration": 2,
    "start_time": "2022-05-25T13:14:05.613Z"
   },
   {
    "duration": 199,
    "start_time": "2022-05-25T13:14:05.617Z"
   },
   {
    "duration": 13,
    "start_time": "2022-05-25T13:14:05.818Z"
   },
   {
    "duration": 17,
    "start_time": "2022-05-25T13:14:05.833Z"
   },
   {
    "duration": 22,
    "start_time": "2022-05-25T13:14:05.852Z"
   },
   {
    "duration": 5,
    "start_time": "2022-05-25T13:14:05.876Z"
   },
   {
    "duration": 11,
    "start_time": "2022-05-25T13:14:05.883Z"
   },
   {
    "duration": 9,
    "start_time": "2022-05-25T13:14:05.896Z"
   },
   {
    "duration": 43,
    "start_time": "2022-05-25T13:14:05.907Z"
   },
   {
    "duration": 449,
    "start_time": "2022-05-25T13:14:05.952Z"
   },
   {
    "duration": 167,
    "start_time": "2022-05-25T13:14:06.403Z"
   },
   {
    "duration": 19250,
    "start_time": "2022-05-25T13:14:06.571Z"
   },
   {
    "duration": 12,
    "start_time": "2022-05-25T13:14:25.822Z"
   },
   {
    "duration": 13,
    "start_time": "2022-05-25T13:14:25.843Z"
   },
   {
    "duration": 55,
    "start_time": "2022-05-25T13:14:25.857Z"
   },
   {
    "duration": 4,
    "start_time": "2022-05-25T13:14:25.914Z"
   },
   {
    "duration": 11,
    "start_time": "2022-05-25T13:14:25.943Z"
   },
   {
    "duration": 5,
    "start_time": "2022-05-25T13:14:25.956Z"
   },
   {
    "duration": 10,
    "start_time": "2022-05-25T13:14:25.963Z"
   },
   {
    "duration": 16,
    "start_time": "2022-05-25T13:14:25.975Z"
   },
   {
    "duration": 14,
    "start_time": "2022-05-25T13:14:25.993Z"
   },
   {
    "duration": 16,
    "start_time": "2022-05-25T13:14:26.042Z"
   },
   {
    "duration": 21,
    "start_time": "2022-05-25T13:14:26.060Z"
   },
   {
    "duration": 5,
    "start_time": "2022-05-25T13:14:26.082Z"
   },
   {
    "duration": 16,
    "start_time": "2022-05-25T13:14:26.089Z"
   },
   {
    "duration": 6,
    "start_time": "2022-05-25T13:14:26.106Z"
   },
   {
    "duration": 27,
    "start_time": "2022-05-25T13:14:26.116Z"
   },
   {
    "duration": 16,
    "start_time": "2022-05-25T13:14:26.145Z"
   },
   {
    "duration": 19,
    "start_time": "2022-05-25T13:14:26.163Z"
   },
   {
    "duration": 4,
    "start_time": "2022-05-25T13:14:26.184Z"
   },
   {
    "duration": 5,
    "start_time": "2022-05-25T13:14:26.190Z"
   },
   {
    "duration": 8,
    "start_time": "2022-05-25T13:14:26.197Z"
   },
   {
    "duration": 37,
    "start_time": "2022-05-25T13:14:26.206Z"
   },
   {
    "duration": 459,
    "start_time": "2022-05-25T13:14:26.245Z"
   },
   {
    "duration": 143,
    "start_time": "2022-05-25T13:14:26.707Z"
   },
   {
    "duration": 11,
    "start_time": "2022-05-25T13:14:26.852Z"
   },
   {
    "duration": 32,
    "start_time": "2022-05-25T13:14:26.865Z"
   },
   {
    "duration": 40,
    "start_time": "2022-05-25T13:14:26.899Z"
   },
   {
    "duration": 22,
    "start_time": "2022-05-25T13:14:26.942Z"
   },
   {
    "duration": 22,
    "start_time": "2022-05-25T13:14:26.966Z"
   },
   {
    "duration": 18,
    "start_time": "2022-05-25T13:14:26.990Z"
   },
   {
    "duration": 41,
    "start_time": "2022-05-25T13:14:27.010Z"
   },
   {
    "duration": 450,
    "start_time": "2022-05-25T13:14:27.053Z"
   },
   {
    "duration": 129,
    "start_time": "2022-05-25T13:14:27.505Z"
   },
   {
    "duration": 11,
    "start_time": "2022-05-25T13:14:27.641Z"
   },
   {
    "duration": 14,
    "start_time": "2022-05-25T13:14:27.653Z"
   },
   {
    "duration": 36,
    "start_time": "2022-05-25T13:14:27.669Z"
   },
   {
    "duration": 4,
    "start_time": "2022-05-25T13:14:27.706Z"
   },
   {
    "duration": 8,
    "start_time": "2022-05-25T13:14:27.742Z"
   },
   {
    "duration": 6,
    "start_time": "2022-05-25T13:14:27.752Z"
   },
   {
    "duration": 9,
    "start_time": "2022-05-25T13:14:27.760Z"
   },
   {
    "duration": 12,
    "start_time": "2022-05-25T13:14:27.770Z"
   },
   {
    "duration": 14,
    "start_time": "2022-05-25T13:14:27.784Z"
   },
   {
    "duration": 46,
    "start_time": "2022-05-25T13:14:27.800Z"
   },
   {
    "duration": 5,
    "start_time": "2022-05-25T13:14:27.848Z"
   },
   {
    "duration": 10,
    "start_time": "2022-05-25T13:14:27.854Z"
   },
   {
    "duration": 8,
    "start_time": "2022-05-25T13:14:27.866Z"
   },
   {
    "duration": 19,
    "start_time": "2022-05-25T13:14:27.876Z"
   },
   {
    "duration": 10,
    "start_time": "2022-05-25T13:14:27.897Z"
   },
   {
    "duration": 52,
    "start_time": "2022-05-25T13:14:27.909Z"
   },
   {
    "duration": 7,
    "start_time": "2022-05-25T13:14:27.963Z"
   },
   {
    "duration": 13,
    "start_time": "2022-05-25T13:14:27.972Z"
   },
   {
    "duration": 13,
    "start_time": "2022-05-25T13:14:27.987Z"
   },
   {
    "duration": 40,
    "start_time": "2022-05-25T13:14:28.002Z"
   },
   {
    "duration": 16,
    "start_time": "2022-05-25T13:14:28.044Z"
   },
   {
    "duration": 38,
    "start_time": "2022-05-25T13:14:28.062Z"
   },
   {
    "duration": 42,
    "start_time": "2022-05-25T13:14:28.102Z"
   },
   {
    "duration": 7,
    "start_time": "2022-05-25T13:14:28.146Z"
   },
   {
    "duration": 6,
    "start_time": "2022-05-25T13:14:28.155Z"
   },
   {
    "duration": 11,
    "start_time": "2022-05-25T13:14:28.163Z"
   },
   {
    "duration": 11,
    "start_time": "2022-05-25T13:14:28.176Z"
   },
   {
    "duration": 13,
    "start_time": "2022-05-25T13:14:28.189Z"
   },
   {
    "duration": 3,
    "start_time": "2022-05-25T13:14:28.204Z"
   },
   {
    "duration": 33,
    "start_time": "2022-05-25T13:14:28.209Z"
   },
   {
    "duration": 4,
    "start_time": "2022-05-25T13:14:28.244Z"
   },
   {
    "duration": 12,
    "start_time": "2022-05-25T13:14:28.250Z"
   },
   {
    "duration": 7,
    "start_time": "2022-05-25T13:14:28.264Z"
   },
   {
    "duration": 6,
    "start_time": "2022-05-25T13:14:28.272Z"
   },
   {
    "duration": 13,
    "start_time": "2022-05-25T13:14:28.280Z"
   },
   {
    "duration": 8,
    "start_time": "2022-05-25T13:14:28.295Z"
   },
   {
    "duration": 45,
    "start_time": "2022-05-25T13:14:28.309Z"
   },
   {
    "duration": 13,
    "start_time": "2022-05-25T13:14:28.355Z"
   },
   {
    "duration": 22,
    "start_time": "2022-05-25T13:14:28.370Z"
   },
   {
    "duration": 18,
    "start_time": "2022-05-25T13:14:28.394Z"
   },
   {
    "duration": 37,
    "start_time": "2022-05-25T13:14:28.413Z"
   },
   {
    "duration": 5,
    "start_time": "2022-05-25T13:14:28.452Z"
   },
   {
    "duration": 18,
    "start_time": "2022-05-25T13:14:28.459Z"
   },
   {
    "duration": 4,
    "start_time": "2022-05-25T13:14:28.479Z"
   },
   {
    "duration": 8,
    "start_time": "2022-05-25T13:14:28.485Z"
   },
   {
    "duration": 5,
    "start_time": "2022-05-25T13:14:28.494Z"
   },
   {
    "duration": 7,
    "start_time": "2022-05-25T13:14:28.501Z"
   },
   {
    "duration": 31,
    "start_time": "2022-05-25T13:14:28.510Z"
   },
   {
    "duration": 16,
    "start_time": "2022-05-25T13:14:28.543Z"
   },
   {
    "duration": 12,
    "start_time": "2022-05-25T13:14:28.562Z"
   },
   {
    "duration": 31,
    "start_time": "2022-05-25T13:14:28.577Z"
   },
   {
    "duration": 10,
    "start_time": "2022-05-25T13:14:28.610Z"
   },
   {
    "duration": 28,
    "start_time": "2022-05-25T13:14:28.622Z"
   },
   {
    "duration": 6,
    "start_time": "2022-05-25T13:14:28.652Z"
   },
   {
    "duration": 19,
    "start_time": "2022-05-25T13:14:28.660Z"
   },
   {
    "duration": 8,
    "start_time": "2022-05-25T13:14:28.681Z"
   },
   {
    "duration": 9,
    "start_time": "2022-05-25T13:14:28.691Z"
   },
   {
    "duration": 5,
    "start_time": "2022-05-25T13:14:28.702Z"
   },
   {
    "duration": 171,
    "start_time": "2022-05-25T13:14:28.708Z"
   },
   {
    "duration": 0,
    "start_time": "2022-05-25T13:14:28.880Z"
   },
   {
    "duration": 0,
    "start_time": "2022-05-25T13:14:28.882Z"
   },
   {
    "duration": 0,
    "start_time": "2022-05-25T13:14:28.883Z"
   },
   {
    "duration": 0,
    "start_time": "2022-05-25T13:14:28.884Z"
   },
   {
    "duration": 0,
    "start_time": "2022-05-25T13:14:28.885Z"
   },
   {
    "duration": 0,
    "start_time": "2022-05-25T13:14:28.886Z"
   },
   {
    "duration": 0,
    "start_time": "2022-05-25T13:14:28.887Z"
   },
   {
    "duration": 0,
    "start_time": "2022-05-25T13:14:28.888Z"
   },
   {
    "duration": 0,
    "start_time": "2022-05-25T13:14:28.889Z"
   },
   {
    "duration": 0,
    "start_time": "2022-05-25T13:14:28.891Z"
   },
   {
    "duration": 0,
    "start_time": "2022-05-25T13:14:28.892Z"
   },
   {
    "duration": 0,
    "start_time": "2022-05-25T13:14:28.893Z"
   },
   {
    "duration": 0,
    "start_time": "2022-05-25T13:14:28.894Z"
   },
   {
    "duration": 0,
    "start_time": "2022-05-25T13:14:28.895Z"
   },
   {
    "duration": 0,
    "start_time": "2022-05-25T13:14:28.896Z"
   },
   {
    "duration": 0,
    "start_time": "2022-05-25T13:14:28.897Z"
   },
   {
    "duration": 5,
    "start_time": "2022-05-25T13:23:52.877Z"
   },
   {
    "duration": 5,
    "start_time": "2022-05-25T13:23:59.174Z"
   },
   {
    "duration": 8,
    "start_time": "2022-05-25T13:23:59.862Z"
   },
   {
    "duration": 5,
    "start_time": "2022-05-25T13:24:00.281Z"
   },
   {
    "duration": 20,
    "start_time": "2022-05-25T13:24:02.522Z"
   },
   {
    "duration": 15,
    "start_time": "2022-05-25T13:24:17.182Z"
   },
   {
    "duration": 18,
    "start_time": "2022-05-25T13:24:42.824Z"
   },
   {
    "duration": 7,
    "start_time": "2022-05-25T13:27:17.804Z"
   },
   {
    "duration": 6,
    "start_time": "2022-05-25T13:27:25.512Z"
   },
   {
    "duration": 6,
    "start_time": "2022-05-25T13:27:30.311Z"
   },
   {
    "duration": 17,
    "start_time": "2022-05-25T13:27:37.063Z"
   },
   {
    "duration": 11,
    "start_time": "2022-05-25T13:28:56.780Z"
   },
   {
    "duration": 6,
    "start_time": "2022-05-25T13:29:58.811Z"
   },
   {
    "duration": 13,
    "start_time": "2022-05-25T13:33:15.165Z"
   },
   {
    "duration": 11,
    "start_time": "2022-05-25T13:34:25.761Z"
   },
   {
    "duration": 12,
    "start_time": "2022-05-25T13:34:32.652Z"
   },
   {
    "duration": 11,
    "start_time": "2022-05-25T13:37:08.866Z"
   },
   {
    "duration": 3,
    "start_time": "2022-05-25T13:37:30.117Z"
   },
   {
    "duration": 193,
    "start_time": "2022-05-25T13:37:41.955Z"
   },
   {
    "duration": 1345,
    "start_time": "2022-05-25T13:38:16.895Z"
   },
   {
    "duration": 3,
    "start_time": "2022-05-25T13:38:18.242Z"
   },
   {
    "duration": 184,
    "start_time": "2022-05-25T13:38:18.246Z"
   },
   {
    "duration": 13,
    "start_time": "2022-05-25T13:38:18.432Z"
   },
   {
    "duration": 13,
    "start_time": "2022-05-25T13:38:18.448Z"
   },
   {
    "duration": 18,
    "start_time": "2022-05-25T13:38:18.462Z"
   },
   {
    "duration": 5,
    "start_time": "2022-05-25T13:38:18.481Z"
   },
   {
    "duration": 6,
    "start_time": "2022-05-25T13:38:18.487Z"
   },
   {
    "duration": 14,
    "start_time": "2022-05-25T13:38:18.495Z"
   },
   {
    "duration": 38,
    "start_time": "2022-05-25T13:38:18.511Z"
   },
   {
    "duration": 423,
    "start_time": "2022-05-25T13:38:18.550Z"
   },
   {
    "duration": 146,
    "start_time": "2022-05-25T13:38:18.974Z"
   },
   {
    "duration": 17156,
    "start_time": "2022-05-25T13:38:19.121Z"
   },
   {
    "duration": 11,
    "start_time": "2022-05-25T13:38:36.280Z"
   },
   {
    "duration": 15,
    "start_time": "2022-05-25T13:38:36.292Z"
   },
   {
    "duration": 58,
    "start_time": "2022-05-25T13:38:36.309Z"
   },
   {
    "duration": 5,
    "start_time": "2022-05-25T13:38:36.368Z"
   },
   {
    "duration": 12,
    "start_time": "2022-05-25T13:38:36.374Z"
   },
   {
    "duration": 3,
    "start_time": "2022-05-25T13:38:36.388Z"
   },
   {
    "duration": 8,
    "start_time": "2022-05-25T13:38:36.393Z"
   },
   {
    "duration": 13,
    "start_time": "2022-05-25T13:38:36.402Z"
   },
   {
    "duration": 33,
    "start_time": "2022-05-25T13:38:36.416Z"
   },
   {
    "duration": 16,
    "start_time": "2022-05-25T13:38:36.451Z"
   },
   {
    "duration": 10,
    "start_time": "2022-05-25T13:38:36.469Z"
   },
   {
    "duration": 8,
    "start_time": "2022-05-25T13:38:36.481Z"
   },
   {
    "duration": 14,
    "start_time": "2022-05-25T13:38:36.490Z"
   },
   {
    "duration": 4,
    "start_time": "2022-05-25T13:38:36.505Z"
   },
   {
    "duration": 11,
    "start_time": "2022-05-25T13:38:36.510Z"
   },
   {
    "duration": 25,
    "start_time": "2022-05-25T13:38:36.522Z"
   },
   {
    "duration": 16,
    "start_time": "2022-05-25T13:38:36.549Z"
   },
   {
    "duration": 3,
    "start_time": "2022-05-25T13:38:36.567Z"
   },
   {
    "duration": 5,
    "start_time": "2022-05-25T13:38:36.572Z"
   },
   {
    "duration": 8,
    "start_time": "2022-05-25T13:38:36.578Z"
   },
   {
    "duration": 8,
    "start_time": "2022-05-25T13:38:36.588Z"
   },
   {
    "duration": 535,
    "start_time": "2022-05-25T13:38:36.598Z"
   },
   {
    "duration": 117,
    "start_time": "2022-05-25T13:38:37.134Z"
   },
   {
    "duration": 7,
    "start_time": "2022-05-25T13:38:37.253Z"
   },
   {
    "duration": 14,
    "start_time": "2022-05-25T13:38:37.262Z"
   },
   {
    "duration": 13,
    "start_time": "2022-05-25T13:38:37.278Z"
   },
   {
    "duration": 4,
    "start_time": "2022-05-25T13:38:37.292Z"
   },
   {
    "duration": 3,
    "start_time": "2022-05-25T13:38:37.301Z"
   },
   {
    "duration": 36,
    "start_time": "2022-05-25T13:38:37.306Z"
   },
   {
    "duration": 9,
    "start_time": "2022-05-25T13:38:37.344Z"
   },
   {
    "duration": 402,
    "start_time": "2022-05-25T13:38:37.355Z"
   },
   {
    "duration": 122,
    "start_time": "2022-05-25T13:38:37.759Z"
   },
   {
    "duration": 9,
    "start_time": "2022-05-25T13:38:37.883Z"
   },
   {
    "duration": 15,
    "start_time": "2022-05-25T13:38:37.893Z"
   },
   {
    "duration": 47,
    "start_time": "2022-05-25T13:38:37.909Z"
   },
   {
    "duration": 4,
    "start_time": "2022-05-25T13:38:37.958Z"
   },
   {
    "duration": 8,
    "start_time": "2022-05-25T13:38:37.964Z"
   },
   {
    "duration": 7,
    "start_time": "2022-05-25T13:38:37.974Z"
   },
   {
    "duration": 8,
    "start_time": "2022-05-25T13:38:37.982Z"
   },
   {
    "duration": 10,
    "start_time": "2022-05-25T13:38:37.991Z"
   },
   {
    "duration": 41,
    "start_time": "2022-05-25T13:38:38.002Z"
   },
   {
    "duration": 12,
    "start_time": "2022-05-25T13:38:38.044Z"
   },
   {
    "duration": 4,
    "start_time": "2022-05-25T13:38:38.057Z"
   },
   {
    "duration": 8,
    "start_time": "2022-05-25T13:38:38.062Z"
   },
   {
    "duration": 9,
    "start_time": "2022-05-25T13:38:38.072Z"
   },
   {
    "duration": 10,
    "start_time": "2022-05-25T13:38:38.082Z"
   },
   {
    "duration": 8,
    "start_time": "2022-05-25T13:38:38.093Z"
   },
   {
    "duration": 57,
    "start_time": "2022-05-25T13:38:38.102Z"
   },
   {
    "duration": 5,
    "start_time": "2022-05-25T13:38:38.160Z"
   },
   {
    "duration": 11,
    "start_time": "2022-05-25T13:38:38.166Z"
   },
   {
    "duration": 12,
    "start_time": "2022-05-25T13:38:38.178Z"
   },
   {
    "duration": 17,
    "start_time": "2022-05-25T13:38:38.192Z"
   },
   {
    "duration": 31,
    "start_time": "2022-05-25T13:38:38.211Z"
   },
   {
    "duration": 26,
    "start_time": "2022-05-25T13:38:38.244Z"
   },
   {
    "duration": 17,
    "start_time": "2022-05-25T13:38:38.282Z"
   },
   {
    "duration": 6,
    "start_time": "2022-05-25T13:38:38.300Z"
   },
   {
    "duration": 6,
    "start_time": "2022-05-25T13:38:38.307Z"
   },
   {
    "duration": 12,
    "start_time": "2022-05-25T13:38:38.315Z"
   },
   {
    "duration": 17,
    "start_time": "2022-05-25T13:38:38.328Z"
   },
   {
    "duration": 12,
    "start_time": "2022-05-25T13:38:38.346Z"
   },
   {
    "duration": 5,
    "start_time": "2022-05-25T13:38:38.360Z"
   },
   {
    "duration": 9,
    "start_time": "2022-05-25T13:38:38.366Z"
   },
   {
    "duration": 4,
    "start_time": "2022-05-25T13:38:38.376Z"
   },
   {
    "duration": 10,
    "start_time": "2022-05-25T13:38:38.381Z"
   },
   {
    "duration": 6,
    "start_time": "2022-05-25T13:38:38.392Z"
   },
   {
    "duration": 9,
    "start_time": "2022-05-25T13:38:38.400Z"
   },
   {
    "duration": 14,
    "start_time": "2022-05-25T13:38:38.410Z"
   },
   {
    "duration": 18,
    "start_time": "2022-05-25T13:38:38.425Z"
   },
   {
    "duration": 16,
    "start_time": "2022-05-25T13:38:38.445Z"
   },
   {
    "duration": 10,
    "start_time": "2022-05-25T13:38:38.462Z"
   },
   {
    "duration": 26,
    "start_time": "2022-05-25T13:38:38.474Z"
   },
   {
    "duration": 15,
    "start_time": "2022-05-25T13:38:38.501Z"
   },
   {
    "duration": 27,
    "start_time": "2022-05-25T13:38:38.518Z"
   },
   {
    "duration": 3,
    "start_time": "2022-05-25T13:38:38.547Z"
   },
   {
    "duration": 10,
    "start_time": "2022-05-25T13:38:38.551Z"
   },
   {
    "duration": 4,
    "start_time": "2022-05-25T13:38:38.562Z"
   },
   {
    "duration": 8,
    "start_time": "2022-05-25T13:38:38.567Z"
   },
   {
    "duration": 6,
    "start_time": "2022-05-25T13:38:38.576Z"
   },
   {
    "duration": 13,
    "start_time": "2022-05-25T13:38:38.583Z"
   },
   {
    "duration": 13,
    "start_time": "2022-05-25T13:38:38.597Z"
   },
   {
    "duration": 5,
    "start_time": "2022-05-25T13:38:38.612Z"
   },
   {
    "duration": 22,
    "start_time": "2022-05-25T13:38:38.619Z"
   },
   {
    "duration": 27,
    "start_time": "2022-05-25T13:38:38.642Z"
   },
   {
    "duration": 11,
    "start_time": "2022-05-25T13:38:38.670Z"
   },
   {
    "duration": 13,
    "start_time": "2022-05-25T13:38:38.682Z"
   },
   {
    "duration": 5,
    "start_time": "2022-05-25T13:38:38.696Z"
   },
   {
    "duration": 192,
    "start_time": "2022-05-25T13:38:38.703Z"
   },
   {
    "duration": 0,
    "start_time": "2022-05-25T13:38:38.897Z"
   },
   {
    "duration": 0,
    "start_time": "2022-05-25T13:38:38.898Z"
   },
   {
    "duration": 0,
    "start_time": "2022-05-25T13:38:38.900Z"
   },
   {
    "duration": 0,
    "start_time": "2022-05-25T13:38:38.901Z"
   },
   {
    "duration": 0,
    "start_time": "2022-05-25T13:38:38.903Z"
   },
   {
    "duration": 0,
    "start_time": "2022-05-25T13:38:38.904Z"
   },
   {
    "duration": 0,
    "start_time": "2022-05-25T13:38:38.905Z"
   },
   {
    "duration": 0,
    "start_time": "2022-05-25T13:38:38.906Z"
   },
   {
    "duration": 0,
    "start_time": "2022-05-25T13:38:38.907Z"
   },
   {
    "duration": 0,
    "start_time": "2022-05-25T13:38:38.908Z"
   },
   {
    "duration": 0,
    "start_time": "2022-05-25T13:38:38.909Z"
   },
   {
    "duration": 0,
    "start_time": "2022-05-25T13:38:38.910Z"
   },
   {
    "duration": 0,
    "start_time": "2022-05-25T13:38:38.941Z"
   },
   {
    "duration": 0,
    "start_time": "2022-05-25T13:38:38.942Z"
   },
   {
    "duration": 0,
    "start_time": "2022-05-25T13:38:38.944Z"
   },
   {
    "duration": 0,
    "start_time": "2022-05-25T13:38:38.945Z"
   },
   {
    "duration": 0,
    "start_time": "2022-05-25T13:38:38.946Z"
   },
   {
    "duration": 0,
    "start_time": "2022-05-25T13:38:38.947Z"
   },
   {
    "duration": 0,
    "start_time": "2022-05-25T13:38:38.948Z"
   },
   {
    "duration": 0,
    "start_time": "2022-05-25T13:38:38.949Z"
   },
   {
    "duration": 23,
    "start_time": "2022-05-25T13:39:06.871Z"
   },
   {
    "duration": 52,
    "start_time": "2022-05-25T13:39:51.045Z"
   },
   {
    "duration": 386,
    "start_time": "2022-05-25T13:40:05.321Z"
   },
   {
    "duration": 9,
    "start_time": "2022-05-25T13:42:24.350Z"
   },
   {
    "duration": 10,
    "start_time": "2022-05-25T13:42:38.522Z"
   },
   {
    "duration": 9,
    "start_time": "2022-05-25T13:42:48.683Z"
   },
   {
    "duration": 10,
    "start_time": "2022-05-25T13:45:12.275Z"
   },
   {
    "duration": 10,
    "start_time": "2022-05-25T13:45:25.876Z"
   },
   {
    "duration": 10,
    "start_time": "2022-05-25T13:45:42.600Z"
   },
   {
    "duration": 1451,
    "start_time": "2022-05-25T16:34:19.649Z"
   },
   {
    "duration": 3,
    "start_time": "2022-05-25T16:34:21.103Z"
   },
   {
    "duration": 555,
    "start_time": "2022-05-25T16:34:21.108Z"
   },
   {
    "duration": 12,
    "start_time": "2022-05-25T16:34:21.666Z"
   },
   {
    "duration": 14,
    "start_time": "2022-05-25T16:34:21.680Z"
   },
   {
    "duration": 22,
    "start_time": "2022-05-25T16:34:21.695Z"
   },
   {
    "duration": 5,
    "start_time": "2022-05-25T16:34:21.720Z"
   },
   {
    "duration": 14,
    "start_time": "2022-05-25T16:34:21.729Z"
   },
   {
    "duration": 9,
    "start_time": "2022-05-25T16:34:21.744Z"
   },
   {
    "duration": 15,
    "start_time": "2022-05-25T16:34:21.756Z"
   },
   {
    "duration": 496,
    "start_time": "2022-05-25T16:34:21.772Z"
   },
   {
    "duration": 145,
    "start_time": "2022-05-25T16:34:22.270Z"
   },
   {
    "duration": 16706,
    "start_time": "2022-05-25T16:34:22.417Z"
   },
   {
    "duration": 24,
    "start_time": "2022-05-25T16:34:39.125Z"
   },
   {
    "duration": 12,
    "start_time": "2022-05-25T16:34:39.151Z"
   },
   {
    "duration": 52,
    "start_time": "2022-05-25T16:34:39.164Z"
   },
   {
    "duration": 4,
    "start_time": "2022-05-25T16:34:39.218Z"
   },
   {
    "duration": 9,
    "start_time": "2022-05-25T16:34:39.224Z"
   },
   {
    "duration": 4,
    "start_time": "2022-05-25T16:34:39.234Z"
   },
   {
    "duration": 9,
    "start_time": "2022-05-25T16:34:39.240Z"
   },
   {
    "duration": 10,
    "start_time": "2022-05-25T16:34:39.250Z"
   },
   {
    "duration": 41,
    "start_time": "2022-05-25T16:34:39.261Z"
   },
   {
    "duration": 12,
    "start_time": "2022-05-25T16:34:39.303Z"
   },
   {
    "duration": 9,
    "start_time": "2022-05-25T16:34:39.317Z"
   },
   {
    "duration": 4,
    "start_time": "2022-05-25T16:34:39.327Z"
   },
   {
    "duration": 13,
    "start_time": "2022-05-25T16:34:39.332Z"
   },
   {
    "duration": 4,
    "start_time": "2022-05-25T16:34:39.347Z"
   },
   {
    "duration": 7,
    "start_time": "2022-05-25T16:34:39.357Z"
   },
   {
    "duration": 46,
    "start_time": "2022-05-25T16:34:39.365Z"
   },
   {
    "duration": 13,
    "start_time": "2022-05-25T16:34:39.413Z"
   },
   {
    "duration": 4,
    "start_time": "2022-05-25T16:34:39.427Z"
   },
   {
    "duration": 9,
    "start_time": "2022-05-25T16:34:39.432Z"
   },
   {
    "duration": 7,
    "start_time": "2022-05-25T16:34:39.442Z"
   },
   {
    "duration": 7,
    "start_time": "2022-05-25T16:34:39.450Z"
   },
   {
    "duration": 443,
    "start_time": "2022-05-25T16:34:39.459Z"
   },
   {
    "duration": 116,
    "start_time": "2022-05-25T16:34:39.903Z"
   },
   {
    "duration": 7,
    "start_time": "2022-05-25T16:34:40.020Z"
   },
   {
    "duration": 12,
    "start_time": "2022-05-25T16:34:40.029Z"
   },
   {
    "duration": 15,
    "start_time": "2022-05-25T16:34:40.042Z"
   },
   {
    "duration": 4,
    "start_time": "2022-05-25T16:34:40.059Z"
   },
   {
    "duration": 4,
    "start_time": "2022-05-25T16:34:40.065Z"
   },
   {
    "duration": 32,
    "start_time": "2022-05-25T16:34:40.071Z"
   },
   {
    "duration": 11,
    "start_time": "2022-05-25T16:34:40.105Z"
   },
   {
    "duration": 391,
    "start_time": "2022-05-25T16:34:40.118Z"
   },
   {
    "duration": 125,
    "start_time": "2022-05-25T16:34:40.511Z"
   },
   {
    "duration": 8,
    "start_time": "2022-05-25T16:34:40.638Z"
   },
   {
    "duration": 12,
    "start_time": "2022-05-25T16:34:40.648Z"
   },
   {
    "duration": 42,
    "start_time": "2022-05-25T16:34:40.661Z"
   },
   {
    "duration": 4,
    "start_time": "2022-05-25T16:34:40.704Z"
   },
   {
    "duration": 9,
    "start_time": "2022-05-25T16:34:40.710Z"
   },
   {
    "duration": 7,
    "start_time": "2022-05-25T16:34:40.720Z"
   },
   {
    "duration": 10,
    "start_time": "2022-05-25T16:34:40.728Z"
   },
   {
    "duration": 12,
    "start_time": "2022-05-25T16:34:40.740Z"
   },
   {
    "duration": 12,
    "start_time": "2022-05-25T16:34:40.753Z"
   },
   {
    "duration": 46,
    "start_time": "2022-05-25T16:34:40.766Z"
   },
   {
    "duration": 5,
    "start_time": "2022-05-25T16:34:40.814Z"
   },
   {
    "duration": 8,
    "start_time": "2022-05-25T16:34:40.821Z"
   },
   {
    "duration": 7,
    "start_time": "2022-05-25T16:34:40.830Z"
   },
   {
    "duration": 9,
    "start_time": "2022-05-25T16:34:40.839Z"
   },
   {
    "duration": 11,
    "start_time": "2022-05-25T16:34:40.850Z"
   },
   {
    "duration": 56,
    "start_time": "2022-05-25T16:34:40.863Z"
   },
   {
    "duration": 7,
    "start_time": "2022-05-25T16:34:40.920Z"
   },
   {
    "duration": 10,
    "start_time": "2022-05-25T16:34:40.928Z"
   },
   {
    "duration": 12,
    "start_time": "2022-05-25T16:34:40.940Z"
   },
   {
    "duration": 12,
    "start_time": "2022-05-25T16:34:40.953Z"
   },
   {
    "duration": 45,
    "start_time": "2022-05-25T16:34:40.967Z"
   },
   {
    "duration": 28,
    "start_time": "2022-05-25T16:34:41.014Z"
   },
   {
    "duration": 15,
    "start_time": "2022-05-25T16:34:41.044Z"
   },
   {
    "duration": 5,
    "start_time": "2022-05-25T16:34:41.061Z"
   },
   {
    "duration": 5,
    "start_time": "2022-05-25T16:34:41.067Z"
   },
   {
    "duration": 36,
    "start_time": "2022-05-25T16:34:41.073Z"
   },
   {
    "duration": 15,
    "start_time": "2022-05-25T16:34:41.110Z"
   },
   {
    "duration": 11,
    "start_time": "2022-05-25T16:34:41.127Z"
   },
   {
    "duration": 7,
    "start_time": "2022-05-25T16:34:41.140Z"
   },
   {
    "duration": 9,
    "start_time": "2022-05-25T16:34:41.149Z"
   },
   {
    "duration": 8,
    "start_time": "2022-05-25T16:34:41.159Z"
   },
   {
    "duration": 10,
    "start_time": "2022-05-25T16:34:41.169Z"
   },
   {
    "duration": 8,
    "start_time": "2022-05-25T16:34:41.181Z"
   },
   {
    "duration": 20,
    "start_time": "2022-05-25T16:34:41.190Z"
   },
   {
    "duration": 21,
    "start_time": "2022-05-25T16:34:41.212Z"
   },
   {
    "duration": 11,
    "start_time": "2022-05-25T16:34:41.235Z"
   },
   {
    "duration": 15,
    "start_time": "2022-05-25T16:34:41.252Z"
   },
   {
    "duration": 12,
    "start_time": "2022-05-25T16:34:41.269Z"
   },
   {
    "duration": 21,
    "start_time": "2022-05-25T16:34:41.303Z"
   },
   {
    "duration": 19,
    "start_time": "2022-05-25T16:34:41.327Z"
   },
   {
    "duration": 10,
    "start_time": "2022-05-25T16:34:41.348Z"
   },
   {
    "duration": 6,
    "start_time": "2022-05-25T16:34:41.360Z"
   },
   {
    "duration": 36,
    "start_time": "2022-05-25T16:34:41.368Z"
   },
   {
    "duration": 6,
    "start_time": "2022-05-25T16:34:41.406Z"
   },
   {
    "duration": 6,
    "start_time": "2022-05-25T16:34:41.414Z"
   },
   {
    "duration": 5,
    "start_time": "2022-05-25T16:34:41.421Z"
   },
   {
    "duration": 5,
    "start_time": "2022-05-25T16:34:41.428Z"
   },
   {
    "duration": 17,
    "start_time": "2022-05-25T16:34:41.435Z"
   },
   {
    "duration": 7,
    "start_time": "2022-05-25T16:34:41.453Z"
   },
   {
    "duration": 7,
    "start_time": "2022-05-25T16:34:41.462Z"
   },
   {
    "duration": 46,
    "start_time": "2022-05-25T16:34:41.470Z"
   },
   {
    "duration": 9,
    "start_time": "2022-05-25T16:34:41.518Z"
   },
   {
    "duration": 13,
    "start_time": "2022-05-25T16:34:41.529Z"
   },
   {
    "duration": 5,
    "start_time": "2022-05-25T16:34:41.543Z"
   },
   {
    "duration": 15,
    "start_time": "2022-05-25T16:34:41.549Z"
   },
   {
    "duration": 146,
    "start_time": "2022-05-25T16:34:41.565Z"
   },
   {
    "duration": 0,
    "start_time": "2022-05-25T16:34:41.712Z"
   },
   {
    "duration": 0,
    "start_time": "2022-05-25T16:34:41.713Z"
   },
   {
    "duration": 0,
    "start_time": "2022-05-25T16:34:41.714Z"
   },
   {
    "duration": 0,
    "start_time": "2022-05-25T16:34:41.716Z"
   },
   {
    "duration": 0,
    "start_time": "2022-05-25T16:34:41.717Z"
   },
   {
    "duration": 0,
    "start_time": "2022-05-25T16:34:41.718Z"
   },
   {
    "duration": 0,
    "start_time": "2022-05-25T16:34:41.719Z"
   },
   {
    "duration": 0,
    "start_time": "2022-05-25T16:34:41.720Z"
   },
   {
    "duration": 0,
    "start_time": "2022-05-25T16:34:41.721Z"
   },
   {
    "duration": 0,
    "start_time": "2022-05-25T16:34:41.722Z"
   },
   {
    "duration": 0,
    "start_time": "2022-05-25T16:34:41.723Z"
   },
   {
    "duration": 0,
    "start_time": "2022-05-25T16:34:41.724Z"
   },
   {
    "duration": 0,
    "start_time": "2022-05-25T16:34:41.725Z"
   },
   {
    "duration": 0,
    "start_time": "2022-05-25T16:34:41.726Z"
   },
   {
    "duration": 0,
    "start_time": "2022-05-25T16:34:41.727Z"
   },
   {
    "duration": 0,
    "start_time": "2022-05-25T16:34:41.728Z"
   },
   {
    "duration": 0,
    "start_time": "2022-05-25T16:34:41.729Z"
   },
   {
    "duration": 0,
    "start_time": "2022-05-25T16:34:41.730Z"
   },
   {
    "duration": 0,
    "start_time": "2022-05-25T16:34:41.731Z"
   },
   {
    "duration": 0,
    "start_time": "2022-05-25T16:34:41.732Z"
   },
   {
    "duration": 9,
    "start_time": "2022-05-25T16:37:12.598Z"
   },
   {
    "duration": 11,
    "start_time": "2022-05-25T16:37:20.286Z"
   },
   {
    "duration": 9,
    "start_time": "2022-05-25T16:37:27.546Z"
   },
   {
    "duration": 146,
    "start_time": "2022-05-25T16:38:48.627Z"
   },
   {
    "duration": 12,
    "start_time": "2022-05-25T16:38:58.126Z"
   },
   {
    "duration": 10,
    "start_time": "2022-05-25T16:39:09.587Z"
   },
   {
    "duration": 17,
    "start_time": "2022-05-25T16:42:01.042Z"
   },
   {
    "duration": 16,
    "start_time": "2022-05-25T16:42:59.228Z"
   },
   {
    "duration": 18,
    "start_time": "2022-05-25T16:43:11.490Z"
   },
   {
    "duration": 1346,
    "start_time": "2022-05-25T16:43:22.029Z"
   },
   {
    "duration": 3,
    "start_time": "2022-05-25T16:43:23.377Z"
   },
   {
    "duration": 202,
    "start_time": "2022-05-25T16:43:23.382Z"
   },
   {
    "duration": 13,
    "start_time": "2022-05-25T16:43:23.586Z"
   },
   {
    "duration": 34,
    "start_time": "2022-05-25T16:43:23.601Z"
   },
   {
    "duration": 20,
    "start_time": "2022-05-25T16:43:23.637Z"
   },
   {
    "duration": 5,
    "start_time": "2022-05-25T16:43:23.659Z"
   },
   {
    "duration": 14,
    "start_time": "2022-05-25T16:43:23.666Z"
   },
   {
    "duration": 13,
    "start_time": "2022-05-25T16:43:23.682Z"
   },
   {
    "duration": 36,
    "start_time": "2022-05-25T16:43:23.698Z"
   },
   {
    "duration": 450,
    "start_time": "2022-05-25T16:43:23.736Z"
   },
   {
    "duration": 181,
    "start_time": "2022-05-25T16:43:24.188Z"
   },
   {
    "duration": 18627,
    "start_time": "2022-05-25T16:43:24.371Z"
   },
   {
    "duration": 25,
    "start_time": "2022-05-25T16:43:43.001Z"
   },
   {
    "duration": 16,
    "start_time": "2022-05-25T16:43:43.031Z"
   },
   {
    "duration": 55,
    "start_time": "2022-05-25T16:43:43.049Z"
   },
   {
    "duration": 5,
    "start_time": "2022-05-25T16:43:43.106Z"
   },
   {
    "duration": 20,
    "start_time": "2022-05-25T16:43:43.113Z"
   },
   {
    "duration": 15,
    "start_time": "2022-05-25T16:43:43.135Z"
   },
   {
    "duration": 20,
    "start_time": "2022-05-25T16:43:43.152Z"
   },
   {
    "duration": 12,
    "start_time": "2022-05-25T16:43:43.174Z"
   },
   {
    "duration": 16,
    "start_time": "2022-05-25T16:43:43.188Z"
   },
   {
    "duration": 40,
    "start_time": "2022-05-25T16:43:43.206Z"
   },
   {
    "duration": 19,
    "start_time": "2022-05-25T16:43:43.247Z"
   },
   {
    "duration": 29,
    "start_time": "2022-05-25T16:43:43.268Z"
   },
   {
    "duration": 40,
    "start_time": "2022-05-25T16:43:43.299Z"
   },
   {
    "duration": 7,
    "start_time": "2022-05-25T16:43:43.340Z"
   },
   {
    "duration": 10,
    "start_time": "2022-05-25T16:43:43.351Z"
   },
   {
    "duration": 21,
    "start_time": "2022-05-25T16:43:43.363Z"
   },
   {
    "duration": 33,
    "start_time": "2022-05-25T16:43:43.386Z"
   },
   {
    "duration": 13,
    "start_time": "2022-05-25T16:43:43.421Z"
   },
   {
    "duration": 10,
    "start_time": "2022-05-25T16:43:43.436Z"
   },
   {
    "duration": 8,
    "start_time": "2022-05-25T16:43:43.448Z"
   },
   {
    "duration": 21,
    "start_time": "2022-05-25T16:43:43.457Z"
   },
   {
    "duration": 448,
    "start_time": "2022-05-25T16:43:43.480Z"
   },
   {
    "duration": 139,
    "start_time": "2022-05-25T16:43:43.930Z"
   },
   {
    "duration": 7,
    "start_time": "2022-05-25T16:43:44.071Z"
   },
   {
    "duration": 13,
    "start_time": "2022-05-25T16:43:44.079Z"
   },
   {
    "duration": 23,
    "start_time": "2022-05-25T16:43:44.102Z"
   },
   {
    "duration": 4,
    "start_time": "2022-05-25T16:43:44.127Z"
   },
   {
    "duration": 4,
    "start_time": "2022-05-25T16:43:44.133Z"
   },
   {
    "duration": 13,
    "start_time": "2022-05-25T16:43:44.138Z"
   },
   {
    "duration": 9,
    "start_time": "2022-05-25T16:43:44.152Z"
   },
   {
    "duration": 498,
    "start_time": "2022-05-25T16:43:44.162Z"
   },
   {
    "duration": 130,
    "start_time": "2022-05-25T16:43:44.661Z"
   },
   {
    "duration": 13,
    "start_time": "2022-05-25T16:43:44.793Z"
   },
   {
    "duration": 24,
    "start_time": "2022-05-25T16:43:44.808Z"
   },
   {
    "duration": 32,
    "start_time": "2022-05-25T16:43:44.834Z"
   },
   {
    "duration": 3,
    "start_time": "2022-05-25T16:43:44.868Z"
   },
   {
    "duration": 37,
    "start_time": "2022-05-25T16:43:44.872Z"
   },
   {
    "duration": 19,
    "start_time": "2022-05-25T16:43:44.912Z"
   },
   {
    "duration": 8,
    "start_time": "2022-05-25T16:43:44.933Z"
   },
   {
    "duration": 15,
    "start_time": "2022-05-25T16:43:44.943Z"
   },
   {
    "duration": 13,
    "start_time": "2022-05-25T16:43:44.960Z"
   },
   {
    "duration": 33,
    "start_time": "2022-05-25T16:43:44.974Z"
   },
   {
    "duration": 10,
    "start_time": "2022-05-25T16:43:45.012Z"
   },
   {
    "duration": 17,
    "start_time": "2022-05-25T16:43:45.023Z"
   },
   {
    "duration": 11,
    "start_time": "2022-05-25T16:43:45.041Z"
   },
   {
    "duration": 15,
    "start_time": "2022-05-25T16:43:45.053Z"
   },
   {
    "duration": 11,
    "start_time": "2022-05-25T16:43:45.070Z"
   },
   {
    "duration": 46,
    "start_time": "2022-05-25T16:43:45.083Z"
   },
   {
    "duration": 7,
    "start_time": "2022-05-25T16:43:45.131Z"
   },
   {
    "duration": 12,
    "start_time": "2022-05-25T16:43:45.140Z"
   },
   {
    "duration": 15,
    "start_time": "2022-05-25T16:43:45.154Z"
   },
   {
    "duration": 48,
    "start_time": "2022-05-25T16:43:45.170Z"
   },
   {
    "duration": 13,
    "start_time": "2022-05-25T16:43:45.221Z"
   },
   {
    "duration": 27,
    "start_time": "2022-05-25T16:43:45.235Z"
   },
   {
    "duration": 38,
    "start_time": "2022-05-25T16:43:45.264Z"
   },
   {
    "duration": 9,
    "start_time": "2022-05-25T16:43:45.304Z"
   },
   {
    "duration": 14,
    "start_time": "2022-05-25T16:43:45.315Z"
   },
   {
    "duration": 9,
    "start_time": "2022-05-25T16:43:45.330Z"
   },
   {
    "duration": 7,
    "start_time": "2022-05-25T16:43:45.341Z"
   },
   {
    "duration": 9,
    "start_time": "2022-05-25T16:43:45.349Z"
   },
   {
    "duration": 4,
    "start_time": "2022-05-25T16:43:45.359Z"
   },
   {
    "duration": 11,
    "start_time": "2022-05-25T16:43:45.364Z"
   },
   {
    "duration": 3,
    "start_time": "2022-05-25T16:43:45.377Z"
   },
   {
    "duration": 29,
    "start_time": "2022-05-25T16:43:45.381Z"
   },
   {
    "duration": 10,
    "start_time": "2022-05-25T16:43:45.412Z"
   },
   {
    "duration": 6,
    "start_time": "2022-05-25T16:43:45.424Z"
   },
   {
    "duration": 13,
    "start_time": "2022-05-25T16:43:45.432Z"
   },
   {
    "duration": 9,
    "start_time": "2022-05-25T16:43:45.446Z"
   },
   {
    "duration": 11,
    "start_time": "2022-05-25T16:43:45.461Z"
   },
   {
    "duration": 45,
    "start_time": "2022-05-25T16:43:45.474Z"
   },
   {
    "duration": 18,
    "start_time": "2022-05-25T16:43:45.521Z"
   },
   {
    "duration": 16,
    "start_time": "2022-05-25T16:43:45.541Z"
   },
   {
    "duration": 9,
    "start_time": "2022-05-25T16:43:45.559Z"
   },
   {
    "duration": 4,
    "start_time": "2022-05-25T16:43:45.570Z"
   },
   {
    "duration": 8,
    "start_time": "2022-05-25T16:43:45.601Z"
   },
   {
    "duration": 16,
    "start_time": "2022-05-25T16:43:45.611Z"
   },
   {
    "duration": 9,
    "start_time": "2022-05-25T16:43:45.629Z"
   },
   {
    "duration": 7,
    "start_time": "2022-05-25T16:43:45.639Z"
   },
   {
    "duration": 6,
    "start_time": "2022-05-25T16:43:45.648Z"
   },
   {
    "duration": 12,
    "start_time": "2022-05-25T16:43:45.656Z"
   },
   {
    "duration": 7,
    "start_time": "2022-05-25T16:43:45.669Z"
   },
   {
    "duration": 14,
    "start_time": "2022-05-25T16:43:45.677Z"
   },
   {
    "duration": 39,
    "start_time": "2022-05-25T16:43:45.692Z"
   },
   {
    "duration": 10,
    "start_time": "2022-05-25T16:43:45.732Z"
   },
   {
    "duration": 12,
    "start_time": "2022-05-25T16:43:45.744Z"
   },
   {
    "duration": 13,
    "start_time": "2022-05-25T16:43:45.757Z"
   },
   {
    "duration": 35,
    "start_time": "2022-05-25T16:43:45.772Z"
   },
   {
    "duration": 148,
    "start_time": "2022-05-25T16:43:45.809Z"
   },
   {
    "duration": 0,
    "start_time": "2022-05-25T16:43:45.959Z"
   },
   {
    "duration": 0,
    "start_time": "2022-05-25T16:43:45.960Z"
   },
   {
    "duration": 0,
    "start_time": "2022-05-25T16:43:45.962Z"
   },
   {
    "duration": 0,
    "start_time": "2022-05-25T16:43:45.963Z"
   },
   {
    "duration": 0,
    "start_time": "2022-05-25T16:43:45.964Z"
   },
   {
    "duration": 0,
    "start_time": "2022-05-25T16:43:45.965Z"
   },
   {
    "duration": 0,
    "start_time": "2022-05-25T16:43:45.966Z"
   },
   {
    "duration": 0,
    "start_time": "2022-05-25T16:43:45.967Z"
   },
   {
    "duration": 0,
    "start_time": "2022-05-25T16:43:45.968Z"
   },
   {
    "duration": 0,
    "start_time": "2022-05-25T16:43:45.969Z"
   },
   {
    "duration": 0,
    "start_time": "2022-05-25T16:43:45.970Z"
   },
   {
    "duration": 0,
    "start_time": "2022-05-25T16:43:45.971Z"
   },
   {
    "duration": 0,
    "start_time": "2022-05-25T16:43:45.972Z"
   },
   {
    "duration": 0,
    "start_time": "2022-05-25T16:43:45.973Z"
   },
   {
    "duration": 0,
    "start_time": "2022-05-25T16:43:45.974Z"
   },
   {
    "duration": 0,
    "start_time": "2022-05-25T16:43:45.975Z"
   },
   {
    "duration": 1,
    "start_time": "2022-05-25T16:43:45.975Z"
   },
   {
    "duration": 0,
    "start_time": "2022-05-25T16:43:45.976Z"
   },
   {
    "duration": 0,
    "start_time": "2022-05-25T16:43:45.977Z"
   },
   {
    "duration": 0,
    "start_time": "2022-05-25T16:43:45.978Z"
   },
   {
    "duration": 4,
    "start_time": "2022-05-25T16:44:17.758Z"
   },
   {
    "duration": 5,
    "start_time": "2022-05-25T16:44:22.948Z"
   },
   {
    "duration": 6,
    "start_time": "2022-05-25T16:44:25.217Z"
   },
   {
    "duration": 3,
    "start_time": "2022-05-25T16:44:25.625Z"
   },
   {
    "duration": 21,
    "start_time": "2022-05-25T16:44:30.314Z"
   },
   {
    "duration": 6,
    "start_time": "2022-05-25T16:45:25.884Z"
   },
   {
    "duration": 5,
    "start_time": "2022-05-25T16:45:45.420Z"
   },
   {
    "duration": 13,
    "start_time": "2022-05-25T16:47:04.486Z"
   },
   {
    "duration": 15,
    "start_time": "2022-05-25T16:47:13.963Z"
   },
   {
    "duration": 4,
    "start_time": "2022-05-25T16:48:22.816Z"
   },
   {
    "duration": 4,
    "start_time": "2022-05-25T16:48:29.036Z"
   },
   {
    "duration": 6,
    "start_time": "2022-05-25T16:48:30.162Z"
   },
   {
    "duration": 3,
    "start_time": "2022-05-25T16:48:30.672Z"
   },
   {
    "duration": 16,
    "start_time": "2022-05-25T16:48:33.658Z"
   },
   {
    "duration": 7,
    "start_time": "2022-05-25T16:48:56.726Z"
   },
   {
    "duration": 4,
    "start_time": "2022-05-25T16:49:11.637Z"
   },
   {
    "duration": 8,
    "start_time": "2022-05-25T16:49:13.995Z"
   },
   {
    "duration": 17,
    "start_time": "2022-05-25T16:49:20.073Z"
   },
   {
    "duration": 7,
    "start_time": "2022-05-25T16:49:23.834Z"
   },
   {
    "duration": 7,
    "start_time": "2022-05-25T16:49:24.721Z"
   },
   {
    "duration": 5,
    "start_time": "2022-05-25T16:49:25.109Z"
   },
   {
    "duration": 7,
    "start_time": "2022-05-25T16:49:26.977Z"
   },
   {
    "duration": 1367,
    "start_time": "2022-05-25T16:50:56.408Z"
   },
   {
    "duration": 4,
    "start_time": "2022-05-25T16:50:57.777Z"
   },
   {
    "duration": 189,
    "start_time": "2022-05-25T16:50:57.782Z"
   },
   {
    "duration": 11,
    "start_time": "2022-05-25T16:50:57.973Z"
   },
   {
    "duration": 10,
    "start_time": "2022-05-25T16:50:57.986Z"
   },
   {
    "duration": 23,
    "start_time": "2022-05-25T16:50:57.998Z"
   },
   {
    "duration": 4,
    "start_time": "2022-05-25T16:50:58.023Z"
   },
   {
    "duration": 5,
    "start_time": "2022-05-25T16:50:58.028Z"
   },
   {
    "duration": 10,
    "start_time": "2022-05-25T16:50:58.035Z"
   },
   {
    "duration": 15,
    "start_time": "2022-05-25T16:50:58.048Z"
   },
   {
    "duration": 508,
    "start_time": "2022-05-25T16:50:58.064Z"
   },
   {
    "duration": 170,
    "start_time": "2022-05-25T16:50:58.573Z"
   },
   {
    "duration": 18338,
    "start_time": "2022-05-25T16:50:58.745Z"
   },
   {
    "duration": 22,
    "start_time": "2022-05-25T16:51:17.084Z"
   },
   {
    "duration": 30,
    "start_time": "2022-05-25T16:51:17.108Z"
   },
   {
    "duration": 44,
    "start_time": "2022-05-25T16:51:17.140Z"
   },
   {
    "duration": 4,
    "start_time": "2022-05-25T16:51:17.186Z"
   },
   {
    "duration": 29,
    "start_time": "2022-05-25T16:51:17.201Z"
   },
   {
    "duration": 5,
    "start_time": "2022-05-25T16:51:17.232Z"
   },
   {
    "duration": 7,
    "start_time": "2022-05-25T16:51:17.239Z"
   },
   {
    "duration": 9,
    "start_time": "2022-05-25T16:51:17.248Z"
   },
   {
    "duration": 20,
    "start_time": "2022-05-25T16:51:17.259Z"
   },
   {
    "duration": 36,
    "start_time": "2022-05-25T16:51:17.281Z"
   },
   {
    "duration": 28,
    "start_time": "2022-05-25T16:51:17.318Z"
   },
   {
    "duration": 4,
    "start_time": "2022-05-25T16:51:17.348Z"
   },
   {
    "duration": 14,
    "start_time": "2022-05-25T16:51:17.354Z"
   },
   {
    "duration": 4,
    "start_time": "2022-05-25T16:51:17.370Z"
   },
   {
    "duration": 7,
    "start_time": "2022-05-25T16:51:17.378Z"
   },
   {
    "duration": 9,
    "start_time": "2022-05-25T16:51:17.402Z"
   },
   {
    "duration": 33,
    "start_time": "2022-05-25T16:51:17.413Z"
   },
   {
    "duration": 4,
    "start_time": "2022-05-25T16:51:17.448Z"
   },
   {
    "duration": 4,
    "start_time": "2022-05-25T16:51:17.453Z"
   },
   {
    "duration": 10,
    "start_time": "2022-05-25T16:51:17.458Z"
   },
   {
    "duration": 7,
    "start_time": "2022-05-25T16:51:17.470Z"
   },
   {
    "duration": 470,
    "start_time": "2022-05-25T16:51:17.478Z"
   },
   {
    "duration": 126,
    "start_time": "2022-05-25T16:51:17.950Z"
   },
   {
    "duration": 7,
    "start_time": "2022-05-25T16:51:18.078Z"
   },
   {
    "duration": 24,
    "start_time": "2022-05-25T16:51:18.087Z"
   },
   {
    "duration": 27,
    "start_time": "2022-05-25T16:51:18.113Z"
   },
   {
    "duration": 4,
    "start_time": "2022-05-25T16:51:18.142Z"
   },
   {
    "duration": 5,
    "start_time": "2022-05-25T16:51:18.147Z"
   },
   {
    "duration": 7,
    "start_time": "2022-05-25T16:51:18.154Z"
   },
   {
    "duration": 9,
    "start_time": "2022-05-25T16:51:18.163Z"
   },
   {
    "duration": 503,
    "start_time": "2022-05-25T16:51:18.174Z"
   },
   {
    "duration": 133,
    "start_time": "2022-05-25T16:51:18.679Z"
   },
   {
    "duration": 13,
    "start_time": "2022-05-25T16:51:18.814Z"
   },
   {
    "duration": 23,
    "start_time": "2022-05-25T16:51:18.830Z"
   },
   {
    "duration": 61,
    "start_time": "2022-05-25T16:51:18.855Z"
   },
   {
    "duration": 5,
    "start_time": "2022-05-25T16:51:18.919Z"
   },
   {
    "duration": 9,
    "start_time": "2022-05-25T16:51:18.926Z"
   },
   {
    "duration": 6,
    "start_time": "2022-05-25T16:51:18.937Z"
   },
   {
    "duration": 15,
    "start_time": "2022-05-25T16:51:18.944Z"
   },
   {
    "duration": 14,
    "start_time": "2022-05-25T16:51:18.960Z"
   },
   {
    "duration": 15,
    "start_time": "2022-05-25T16:51:18.975Z"
   },
   {
    "duration": 14,
    "start_time": "2022-05-25T16:51:19.002Z"
   },
   {
    "duration": 30,
    "start_time": "2022-05-25T16:51:19.018Z"
   },
   {
    "duration": 10,
    "start_time": "2022-05-25T16:51:19.050Z"
   },
   {
    "duration": 12,
    "start_time": "2022-05-25T16:51:19.062Z"
   },
   {
    "duration": 15,
    "start_time": "2022-05-25T16:51:19.075Z"
   },
   {
    "duration": 36,
    "start_time": "2022-05-25T16:51:19.092Z"
   },
   {
    "duration": 32,
    "start_time": "2022-05-25T16:51:19.129Z"
   },
   {
    "duration": 6,
    "start_time": "2022-05-25T16:51:19.162Z"
   },
   {
    "duration": 12,
    "start_time": "2022-05-25T16:51:19.169Z"
   },
   {
    "duration": 10,
    "start_time": "2022-05-25T16:51:19.183Z"
   },
   {
    "duration": 16,
    "start_time": "2022-05-25T16:51:19.201Z"
   },
   {
    "duration": 27,
    "start_time": "2022-05-25T16:51:19.218Z"
   },
   {
    "duration": 26,
    "start_time": "2022-05-25T16:51:19.247Z"
   },
   {
    "duration": 31,
    "start_time": "2022-05-25T16:51:19.275Z"
   },
   {
    "duration": 7,
    "start_time": "2022-05-25T16:51:19.308Z"
   },
   {
    "duration": 21,
    "start_time": "2022-05-25T16:51:19.317Z"
   },
   {
    "duration": 13,
    "start_time": "2022-05-25T16:51:19.340Z"
   },
   {
    "duration": 7,
    "start_time": "2022-05-25T16:51:19.354Z"
   },
   {
    "duration": 8,
    "start_time": "2022-05-25T16:51:19.363Z"
   },
   {
    "duration": 3,
    "start_time": "2022-05-25T16:51:19.372Z"
   },
   {
    "duration": 12,
    "start_time": "2022-05-25T16:51:19.377Z"
   },
   {
    "duration": 14,
    "start_time": "2022-05-25T16:51:19.390Z"
   },
   {
    "duration": 25,
    "start_time": "2022-05-25T16:51:19.405Z"
   },
   {
    "duration": 5,
    "start_time": "2022-05-25T16:51:19.432Z"
   },
   {
    "duration": 5,
    "start_time": "2022-05-25T16:51:19.439Z"
   },
   {
    "duration": 12,
    "start_time": "2022-05-25T16:51:19.446Z"
   },
   {
    "duration": 8,
    "start_time": "2022-05-25T16:51:19.460Z"
   },
   {
    "duration": 34,
    "start_time": "2022-05-25T16:51:19.477Z"
   },
   {
    "duration": 15,
    "start_time": "2022-05-25T16:51:19.513Z"
   },
   {
    "duration": 18,
    "start_time": "2022-05-25T16:51:19.529Z"
   },
   {
    "duration": 16,
    "start_time": "2022-05-25T16:51:19.548Z"
   },
   {
    "duration": 38,
    "start_time": "2022-05-25T16:51:19.566Z"
   },
   {
    "duration": 4,
    "start_time": "2022-05-25T16:51:19.607Z"
   },
   {
    "duration": 14,
    "start_time": "2022-05-25T16:51:19.615Z"
   },
   {
    "duration": 6,
    "start_time": "2022-05-25T16:51:19.630Z"
   },
   {
    "duration": 5,
    "start_time": "2022-05-25T16:51:19.638Z"
   },
   {
    "duration": 10,
    "start_time": "2022-05-25T16:51:19.645Z"
   },
   {
    "duration": 8,
    "start_time": "2022-05-25T16:51:19.656Z"
   },
   {
    "duration": 38,
    "start_time": "2022-05-25T16:51:19.665Z"
   },
   {
    "duration": 24,
    "start_time": "2022-05-25T16:51:19.705Z"
   },
   {
    "duration": 11,
    "start_time": "2022-05-25T16:51:19.731Z"
   },
   {
    "duration": 31,
    "start_time": "2022-05-25T16:51:19.744Z"
   },
   {
    "duration": 10,
    "start_time": "2022-05-25T16:51:19.777Z"
   },
   {
    "duration": 33,
    "start_time": "2022-05-25T16:51:19.789Z"
   },
   {
    "duration": 13,
    "start_time": "2022-05-25T16:51:19.825Z"
   },
   {
    "duration": 21,
    "start_time": "2022-05-25T16:51:19.841Z"
   },
   {
    "duration": 7,
    "start_time": "2022-05-25T16:51:19.864Z"
   },
   {
    "duration": 10,
    "start_time": "2022-05-25T16:51:19.873Z"
   },
   {
    "duration": 7,
    "start_time": "2022-05-25T16:51:19.885Z"
   },
   {
    "duration": 8,
    "start_time": "2022-05-25T16:51:19.893Z"
   },
   {
    "duration": 25,
    "start_time": "2022-05-25T16:51:19.903Z"
   },
   {
    "duration": 9,
    "start_time": "2022-05-25T16:51:19.930Z"
   },
   {
    "duration": 235,
    "start_time": "2022-05-25T16:51:19.941Z"
   },
   {
    "duration": 0,
    "start_time": "2022-05-25T16:51:20.178Z"
   },
   {
    "duration": 1,
    "start_time": "2022-05-25T16:51:20.179Z"
   },
   {
    "duration": 0,
    "start_time": "2022-05-25T16:51:20.181Z"
   },
   {
    "duration": 0,
    "start_time": "2022-05-25T16:51:20.182Z"
   },
   {
    "duration": 0,
    "start_time": "2022-05-25T16:51:20.183Z"
   },
   {
    "duration": 0,
    "start_time": "2022-05-25T16:51:20.185Z"
   },
   {
    "duration": 0,
    "start_time": "2022-05-25T16:51:20.186Z"
   },
   {
    "duration": 0,
    "start_time": "2022-05-25T16:51:20.187Z"
   },
   {
    "duration": 0,
    "start_time": "2022-05-25T16:51:20.189Z"
   },
   {
    "duration": 0,
    "start_time": "2022-05-25T16:51:20.212Z"
   },
   {
    "duration": 0,
    "start_time": "2022-05-25T16:51:20.213Z"
   },
   {
    "duration": 0,
    "start_time": "2022-05-25T16:51:20.213Z"
   },
   {
    "duration": 0,
    "start_time": "2022-05-25T16:51:20.215Z"
   },
   {
    "duration": 0,
    "start_time": "2022-05-25T16:51:20.217Z"
   },
   {
    "duration": 0,
    "start_time": "2022-05-25T16:51:20.218Z"
   },
   {
    "duration": 19,
    "start_time": "2022-05-25T16:51:51.814Z"
   },
   {
    "duration": 45,
    "start_time": "2022-05-25T16:53:36.735Z"
   },
   {
    "duration": 33,
    "start_time": "2022-05-25T16:53:39.394Z"
   },
   {
    "duration": 11,
    "start_time": "2022-05-25T16:53:48.263Z"
   },
   {
    "duration": 3,
    "start_time": "2022-05-25T16:58:05.018Z"
   },
   {
    "duration": 3,
    "start_time": "2022-05-25T16:58:21.439Z"
   },
   {
    "duration": 3,
    "start_time": "2022-05-25T16:58:25.556Z"
   },
   {
    "duration": 2224,
    "start_time": "2022-05-25T16:58:28.829Z"
   },
   {
    "duration": 4,
    "start_time": "2022-05-25T16:58:35.697Z"
   },
   {
    "duration": 16,
    "start_time": "2022-05-25T16:58:42.285Z"
   },
   {
    "duration": 7,
    "start_time": "2022-05-25T17:04:51.445Z"
   },
   {
    "duration": 9,
    "start_time": "2022-05-25T17:05:15.357Z"
   },
   {
    "duration": 9,
    "start_time": "2022-05-25T17:10:35.561Z"
   },
   {
    "duration": 31,
    "start_time": "2022-05-25T17:11:21.572Z"
   },
   {
    "duration": 3,
    "start_time": "2022-05-25T17:11:55.932Z"
   },
   {
    "duration": 10179,
    "start_time": "2022-05-25T17:11:58.815Z"
   },
   {
    "duration": 9,
    "start_time": "2022-05-25T17:12:14.543Z"
   },
   {
    "duration": 11,
    "start_time": "2022-05-25T17:12:15.568Z"
   },
   {
    "duration": 5,
    "start_time": "2022-05-25T17:12:32.286Z"
   },
   {
    "duration": 9,
    "start_time": "2022-05-25T17:12:52.796Z"
   },
   {
    "duration": 25,
    "start_time": "2022-05-25T17:13:30.288Z"
   },
   {
    "duration": 2,
    "start_time": "2022-05-25T17:13:57.993Z"
   },
   {
    "duration": 4,
    "start_time": "2022-05-25T17:14:21.931Z"
   },
   {
    "duration": 49095,
    "start_time": "2022-05-25T17:14:21.937Z"
   },
   {
    "duration": 96,
    "start_time": "2022-05-25T17:15:11.037Z"
   },
   {
    "duration": 10,
    "start_time": "2022-05-25T17:15:11.139Z"
   },
   {
    "duration": 18,
    "start_time": "2022-05-25T17:23:42.224Z"
   },
   {
    "duration": 12,
    "start_time": "2022-05-25T17:37:35.848Z"
   },
   {
    "duration": 2,
    "start_time": "2022-05-25T17:38:13.158Z"
   },
   {
    "duration": 16,
    "start_time": "2022-05-25T17:38:32.117Z"
   },
   {
    "duration": 3,
    "start_time": "2022-05-25T17:38:41.440Z"
   },
   {
    "duration": 2,
    "start_time": "2022-05-25T17:38:42.041Z"
   },
   {
    "duration": 2,
    "start_time": "2022-05-25T17:38:42.586Z"
   },
   {
    "duration": 2353,
    "start_time": "2022-05-25T17:38:43.332Z"
   },
   {
    "duration": 3,
    "start_time": "2022-05-25T17:38:45.946Z"
   },
   {
    "duration": 10,
    "start_time": "2022-05-25T17:38:50.206Z"
   },
   {
    "duration": 12,
    "start_time": "2022-05-25T17:38:52.279Z"
   },
   {
    "duration": 45,
    "start_time": "2022-05-25T17:41:54.280Z"
   },
   {
    "duration": 5,
    "start_time": "2022-05-25T17:42:01.036Z"
   },
   {
    "duration": 4,
    "start_time": "2022-05-25T17:42:28.173Z"
   },
   {
    "duration": 6,
    "start_time": "2022-05-25T17:43:56.463Z"
   },
   {
    "duration": 1565,
    "start_time": "2022-05-25T19:29:23.242Z"
   },
   {
    "duration": 3,
    "start_time": "2022-05-25T19:29:24.809Z"
   },
   {
    "duration": 487,
    "start_time": "2022-05-25T19:29:24.814Z"
   },
   {
    "duration": 11,
    "start_time": "2022-05-25T19:29:25.302Z"
   },
   {
    "duration": 19,
    "start_time": "2022-05-25T19:29:25.315Z"
   },
   {
    "duration": 19,
    "start_time": "2022-05-25T19:29:25.335Z"
   },
   {
    "duration": 4,
    "start_time": "2022-05-25T19:29:25.357Z"
   },
   {
    "duration": 7,
    "start_time": "2022-05-25T19:29:25.362Z"
   },
   {
    "duration": 13,
    "start_time": "2022-05-25T19:29:25.370Z"
   },
   {
    "duration": 32,
    "start_time": "2022-05-25T19:29:25.385Z"
   },
   {
    "duration": 427,
    "start_time": "2022-05-25T19:29:25.418Z"
   },
   {
    "duration": 144,
    "start_time": "2022-05-25T19:29:25.847Z"
   },
   {
    "duration": 16859,
    "start_time": "2022-05-25T19:29:25.993Z"
   },
   {
    "duration": 10,
    "start_time": "2022-05-25T19:29:42.854Z"
   },
   {
    "duration": 12,
    "start_time": "2022-05-25T19:29:42.865Z"
   },
   {
    "duration": 61,
    "start_time": "2022-05-25T19:29:42.878Z"
   },
   {
    "duration": 4,
    "start_time": "2022-05-25T19:29:42.940Z"
   },
   {
    "duration": 11,
    "start_time": "2022-05-25T19:29:42.946Z"
   },
   {
    "duration": 5,
    "start_time": "2022-05-25T19:29:42.958Z"
   },
   {
    "duration": 6,
    "start_time": "2022-05-25T19:29:42.965Z"
   },
   {
    "duration": 10,
    "start_time": "2022-05-25T19:29:43.001Z"
   },
   {
    "duration": 14,
    "start_time": "2022-05-25T19:29:43.012Z"
   },
   {
    "duration": 12,
    "start_time": "2022-05-25T19:29:43.028Z"
   },
   {
    "duration": 10,
    "start_time": "2022-05-25T19:29:43.042Z"
   },
   {
    "duration": 4,
    "start_time": "2022-05-25T19:29:43.054Z"
   },
   {
    "duration": 48,
    "start_time": "2022-05-25T19:29:43.060Z"
   },
   {
    "duration": 5,
    "start_time": "2022-05-25T19:29:43.109Z"
   },
   {
    "duration": 7,
    "start_time": "2022-05-25T19:29:43.119Z"
   },
   {
    "duration": 10,
    "start_time": "2022-05-25T19:29:43.127Z"
   },
   {
    "duration": 15,
    "start_time": "2022-05-25T19:29:43.139Z"
   },
   {
    "duration": 3,
    "start_time": "2022-05-25T19:29:43.156Z"
   },
   {
    "duration": 5,
    "start_time": "2022-05-25T19:29:43.161Z"
   },
   {
    "duration": 37,
    "start_time": "2022-05-25T19:29:43.168Z"
   },
   {
    "duration": 7,
    "start_time": "2022-05-25T19:29:43.207Z"
   },
   {
    "duration": 410,
    "start_time": "2022-05-25T19:29:43.215Z"
   },
   {
    "duration": 129,
    "start_time": "2022-05-25T19:29:43.627Z"
   },
   {
    "duration": 8,
    "start_time": "2022-05-25T19:29:43.757Z"
   },
   {
    "duration": 17,
    "start_time": "2022-05-25T19:29:43.766Z"
   },
   {
    "duration": 26,
    "start_time": "2022-05-25T19:29:43.785Z"
   },
   {
    "duration": 4,
    "start_time": "2022-05-25T19:29:43.812Z"
   },
   {
    "duration": 6,
    "start_time": "2022-05-25T19:29:43.818Z"
   },
   {
    "duration": 9,
    "start_time": "2022-05-25T19:29:43.825Z"
   },
   {
    "duration": 8,
    "start_time": "2022-05-25T19:29:43.836Z"
   },
   {
    "duration": 388,
    "start_time": "2022-05-25T19:29:43.846Z"
   },
   {
    "duration": 119,
    "start_time": "2022-05-25T19:29:44.236Z"
   },
   {
    "duration": 9,
    "start_time": "2022-05-25T19:29:44.357Z"
   },
   {
    "duration": 13,
    "start_time": "2022-05-25T19:29:44.367Z"
   },
   {
    "duration": 54,
    "start_time": "2022-05-25T19:29:44.382Z"
   },
   {
    "duration": 3,
    "start_time": "2022-05-25T19:29:44.438Z"
   },
   {
    "duration": 7,
    "start_time": "2022-05-25T19:29:44.443Z"
   },
   {
    "duration": 5,
    "start_time": "2022-05-25T19:29:44.452Z"
   },
   {
    "duration": 6,
    "start_time": "2022-05-25T19:29:44.459Z"
   },
   {
    "duration": 10,
    "start_time": "2022-05-25T19:29:44.467Z"
   },
   {
    "duration": 11,
    "start_time": "2022-05-25T19:29:44.503Z"
   },
   {
    "duration": 12,
    "start_time": "2022-05-25T19:29:44.515Z"
   },
   {
    "duration": 4,
    "start_time": "2022-05-25T19:29:44.528Z"
   },
   {
    "duration": 8,
    "start_time": "2022-05-25T19:29:44.533Z"
   },
   {
    "duration": 6,
    "start_time": "2022-05-25T19:29:44.542Z"
   },
   {
    "duration": 9,
    "start_time": "2022-05-25T19:29:44.549Z"
   },
   {
    "duration": 7,
    "start_time": "2022-05-25T19:29:44.559Z"
   },
   {
    "duration": 26,
    "start_time": "2022-05-25T19:29:44.602Z"
   },
   {
    "duration": 21,
    "start_time": "2022-05-25T19:29:44.629Z"
   },
   {
    "duration": 19,
    "start_time": "2022-05-25T19:29:44.652Z"
   },
   {
    "duration": 12,
    "start_time": "2022-05-25T19:29:44.672Z"
   },
   {
    "duration": 21,
    "start_time": "2022-05-25T19:29:44.686Z"
   },
   {
    "duration": 14,
    "start_time": "2022-05-25T19:29:44.709Z"
   },
   {
    "duration": 31,
    "start_time": "2022-05-25T19:29:44.725Z"
   },
   {
    "duration": 18,
    "start_time": "2022-05-25T19:29:44.757Z"
   },
   {
    "duration": 29,
    "start_time": "2022-05-25T19:29:44.776Z"
   },
   {
    "duration": 3,
    "start_time": "2022-05-25T19:29:44.806Z"
   },
   {
    "duration": 10,
    "start_time": "2022-05-25T19:29:44.811Z"
   },
   {
    "duration": 10,
    "start_time": "2022-05-25T19:29:44.822Z"
   },
   {
    "duration": 10,
    "start_time": "2022-05-25T19:29:44.833Z"
   },
   {
    "duration": 3,
    "start_time": "2022-05-25T19:29:44.844Z"
   },
   {
    "duration": 7,
    "start_time": "2022-05-25T19:29:44.849Z"
   },
   {
    "duration": 3,
    "start_time": "2022-05-25T19:29:44.857Z"
   },
   {
    "duration": 8,
    "start_time": "2022-05-25T19:29:44.861Z"
   },
   {
    "duration": 33,
    "start_time": "2022-05-25T19:29:44.870Z"
   },
   {
    "duration": 4,
    "start_time": "2022-05-25T19:29:44.904Z"
   },
   {
    "duration": 11,
    "start_time": "2022-05-25T19:29:44.910Z"
   },
   {
    "duration": 9,
    "start_time": "2022-05-25T19:29:44.923Z"
   },
   {
    "duration": 12,
    "start_time": "2022-05-25T19:29:44.938Z"
   },
   {
    "duration": 11,
    "start_time": "2022-05-25T19:29:44.952Z"
   },
   {
    "duration": 17,
    "start_time": "2022-05-25T19:29:45.003Z"
   },
   {
    "duration": 16,
    "start_time": "2022-05-25T19:29:45.022Z"
   },
   {
    "duration": 12,
    "start_time": "2022-05-25T19:29:45.040Z"
   },
   {
    "duration": 4,
    "start_time": "2022-05-25T19:29:45.053Z"
   },
   {
    "duration": 8,
    "start_time": "2022-05-25T19:29:45.058Z"
   },
   {
    "duration": 3,
    "start_time": "2022-05-25T19:29:45.067Z"
   },
   {
    "duration": 32,
    "start_time": "2022-05-25T19:29:45.071Z"
   },
   {
    "duration": 4,
    "start_time": "2022-05-25T19:29:45.105Z"
   },
   {
    "duration": 5,
    "start_time": "2022-05-25T19:29:45.110Z"
   },
   {
    "duration": 8,
    "start_time": "2022-05-25T19:29:45.116Z"
   },
   {
    "duration": 5,
    "start_time": "2022-05-25T19:29:45.125Z"
   },
   {
    "duration": 7,
    "start_time": "2022-05-25T19:29:45.131Z"
   },
   {
    "duration": 24,
    "start_time": "2022-05-25T19:29:45.140Z"
   },
   {
    "duration": 43,
    "start_time": "2022-05-25T19:29:45.166Z"
   },
   {
    "duration": 13,
    "start_time": "2022-05-25T19:29:45.210Z"
   },
   {
    "duration": 4,
    "start_time": "2022-05-25T19:29:45.224Z"
   },
   {
    "duration": 4,
    "start_time": "2022-05-25T19:29:45.230Z"
   },
   {
    "duration": 3,
    "start_time": "2022-05-25T19:29:45.236Z"
   },
   {
    "duration": 7,
    "start_time": "2022-05-25T19:29:45.240Z"
   },
   {
    "duration": 11,
    "start_time": "2022-05-25T19:29:45.249Z"
   },
   {
    "duration": 4,
    "start_time": "2022-05-25T19:29:45.262Z"
   },
   {
    "duration": 39,
    "start_time": "2022-05-25T19:29:45.267Z"
   },
   {
    "duration": 3,
    "start_time": "2022-05-25T19:29:45.308Z"
   },
   {
    "duration": 6,
    "start_time": "2022-05-25T19:29:45.313Z"
   },
   {
    "duration": 26,
    "start_time": "2022-05-25T19:29:45.320Z"
   },
   {
    "duration": 84,
    "start_time": "2022-05-25T19:29:45.348Z"
   },
   {
    "duration": 3,
    "start_time": "2022-05-25T19:29:45.434Z"
   },
   {
    "duration": 64,
    "start_time": "2022-05-25T19:29:45.438Z"
   },
   {
    "duration": 5,
    "start_time": "2022-05-25T19:29:45.504Z"
   },
   {
    "duration": 1972,
    "start_time": "2022-05-25T19:29:45.511Z"
   },
   {
    "duration": 4,
    "start_time": "2022-05-25T19:29:47.484Z"
   },
   {
    "duration": 14,
    "start_time": "2022-05-25T19:29:47.490Z"
   },
   {
    "duration": 37,
    "start_time": "2022-05-25T19:29:47.506Z"
   },
   {
    "duration": 4,
    "start_time": "2022-05-25T19:29:47.544Z"
   },
   {
    "duration": 7,
    "start_time": "2022-05-25T19:29:47.550Z"
   },
   {
    "duration": 7,
    "start_time": "2022-05-25T19:29:47.558Z"
   },
   {
    "duration": 8,
    "start_time": "2022-05-25T19:29:47.566Z"
   },
   {
    "duration": 8043,
    "start_time": "2022-05-25T19:29:47.576Z"
   },
   {
    "duration": 12,
    "start_time": "2022-05-25T19:29:55.621Z"
   },
   {
    "duration": 4,
    "start_time": "2022-05-25T19:29:55.635Z"
   },
   {
    "duration": 6,
    "start_time": "2022-05-25T19:29:55.641Z"
   },
   {
    "duration": 763,
    "start_time": "2022-05-25T19:29:55.649Z"
   },
   {
    "duration": 93,
    "start_time": "2022-05-25T19:29:56.414Z"
   },
   {
    "duration": 7,
    "start_time": "2022-05-25T19:29:56.509Z"
   },
   {
    "duration": 11,
    "start_time": "2022-05-25T19:32:03.747Z"
   },
   {
    "duration": 1436,
    "start_time": "2022-05-26T06:42:04.969Z"
   },
   {
    "duration": 3,
    "start_time": "2022-05-26T06:42:06.408Z"
   },
   {
    "duration": 521,
    "start_time": "2022-05-26T06:42:06.413Z"
   },
   {
    "duration": 12,
    "start_time": "2022-05-26T06:42:06.937Z"
   },
   {
    "duration": 15,
    "start_time": "2022-05-26T06:42:06.950Z"
   },
   {
    "duration": 20,
    "start_time": "2022-05-26T06:42:06.967Z"
   },
   {
    "duration": 3,
    "start_time": "2022-05-26T06:42:06.989Z"
   },
   {
    "duration": 9,
    "start_time": "2022-05-26T06:42:06.994Z"
   },
   {
    "duration": 10,
    "start_time": "2022-05-26T06:42:07.005Z"
   },
   {
    "duration": 19,
    "start_time": "2022-05-26T06:42:07.017Z"
   },
   {
    "duration": 480,
    "start_time": "2022-05-26T06:42:07.037Z"
   },
   {
    "duration": 149,
    "start_time": "2022-05-26T06:42:07.519Z"
   },
   {
    "duration": 17072,
    "start_time": "2022-05-26T06:42:07.670Z"
   },
   {
    "duration": 19,
    "start_time": "2022-05-26T06:42:24.744Z"
   },
   {
    "duration": 20,
    "start_time": "2022-05-26T06:42:24.765Z"
   },
   {
    "duration": 57,
    "start_time": "2022-05-26T06:42:24.786Z"
   },
   {
    "duration": 16,
    "start_time": "2022-05-26T06:42:24.845Z"
   },
   {
    "duration": 13,
    "start_time": "2022-05-26T06:42:24.862Z"
   },
   {
    "duration": 17,
    "start_time": "2022-05-26T06:42:24.876Z"
   },
   {
    "duration": 16,
    "start_time": "2022-05-26T06:42:24.894Z"
   },
   {
    "duration": 19,
    "start_time": "2022-05-26T06:42:24.912Z"
   },
   {
    "duration": 25,
    "start_time": "2022-05-26T06:42:24.933Z"
   },
   {
    "duration": 17,
    "start_time": "2022-05-26T06:42:24.959Z"
   },
   {
    "duration": 21,
    "start_time": "2022-05-26T06:42:24.978Z"
   },
   {
    "duration": 15,
    "start_time": "2022-05-26T06:42:25.001Z"
   },
   {
    "duration": 31,
    "start_time": "2022-05-26T06:42:25.018Z"
   },
   {
    "duration": 23,
    "start_time": "2022-05-26T06:42:25.050Z"
   },
   {
    "duration": 10,
    "start_time": "2022-05-26T06:42:25.078Z"
   },
   {
    "duration": 19,
    "start_time": "2022-05-26T06:42:25.090Z"
   },
   {
    "duration": 26,
    "start_time": "2022-05-26T06:42:25.110Z"
   },
   {
    "duration": 18,
    "start_time": "2022-05-26T06:42:25.138Z"
   },
   {
    "duration": 9,
    "start_time": "2022-05-26T06:42:25.158Z"
   },
   {
    "duration": 13,
    "start_time": "2022-05-26T06:42:25.169Z"
   },
   {
    "duration": 9,
    "start_time": "2022-05-26T06:42:25.183Z"
   },
   {
    "duration": 418,
    "start_time": "2022-05-26T06:42:25.193Z"
   },
   {
    "duration": 117,
    "start_time": "2022-05-26T06:42:25.613Z"
   },
   {
    "duration": 7,
    "start_time": "2022-05-26T06:42:25.732Z"
   },
   {
    "duration": 23,
    "start_time": "2022-05-26T06:42:25.748Z"
   },
   {
    "duration": 17,
    "start_time": "2022-05-26T06:42:25.773Z"
   },
   {
    "duration": 4,
    "start_time": "2022-05-26T06:42:25.791Z"
   },
   {
    "duration": 16,
    "start_time": "2022-05-26T06:42:25.797Z"
   },
   {
    "duration": 15,
    "start_time": "2022-05-26T06:42:25.815Z"
   },
   {
    "duration": 48,
    "start_time": "2022-05-26T06:42:25.832Z"
   },
   {
    "duration": 400,
    "start_time": "2022-05-26T06:42:25.882Z"
   },
   {
    "duration": 126,
    "start_time": "2022-05-26T06:42:26.284Z"
   },
   {
    "duration": 11,
    "start_time": "2022-05-26T06:42:26.412Z"
   },
   {
    "duration": 29,
    "start_time": "2022-05-26T06:42:26.424Z"
   },
   {
    "duration": 62,
    "start_time": "2022-05-26T06:42:26.455Z"
   },
   {
    "duration": 5,
    "start_time": "2022-05-26T06:42:26.519Z"
   },
   {
    "duration": 24,
    "start_time": "2022-05-26T06:42:26.526Z"
   },
   {
    "duration": 17,
    "start_time": "2022-05-26T06:42:26.552Z"
   },
   {
    "duration": 27,
    "start_time": "2022-05-26T06:42:26.570Z"
   },
   {
    "duration": 22,
    "start_time": "2022-05-26T06:42:26.599Z"
   },
   {
    "duration": 21,
    "start_time": "2022-05-26T06:42:26.623Z"
   },
   {
    "duration": 29,
    "start_time": "2022-05-26T06:42:26.646Z"
   },
   {
    "duration": 14,
    "start_time": "2022-05-26T06:42:26.677Z"
   },
   {
    "duration": 49,
    "start_time": "2022-05-26T06:42:26.692Z"
   },
   {
    "duration": 8,
    "start_time": "2022-05-26T06:42:26.743Z"
   },
   {
    "duration": 22,
    "start_time": "2022-05-26T06:42:26.753Z"
   },
   {
    "duration": 19,
    "start_time": "2022-05-26T06:42:26.777Z"
   },
   {
    "duration": 35,
    "start_time": "2022-05-26T06:42:26.798Z"
   },
   {
    "duration": 9,
    "start_time": "2022-05-26T06:42:26.834Z"
   },
   {
    "duration": 11,
    "start_time": "2022-05-26T06:42:26.845Z"
   },
   {
    "duration": 19,
    "start_time": "2022-05-26T06:42:26.858Z"
   },
   {
    "duration": 15,
    "start_time": "2022-05-26T06:42:26.879Z"
   },
   {
    "duration": 18,
    "start_time": "2022-05-26T06:42:26.896Z"
   },
   {
    "duration": 36,
    "start_time": "2022-05-26T06:42:26.916Z"
   },
   {
    "duration": 23,
    "start_time": "2022-05-26T06:42:26.954Z"
   },
   {
    "duration": 10,
    "start_time": "2022-05-26T06:42:26.979Z"
   },
   {
    "duration": 5,
    "start_time": "2022-05-26T06:42:26.991Z"
   },
   {
    "duration": 21,
    "start_time": "2022-05-26T06:42:26.998Z"
   },
   {
    "duration": 11,
    "start_time": "2022-05-26T06:42:27.021Z"
   },
   {
    "duration": 15,
    "start_time": "2022-05-26T06:42:27.034Z"
   },
   {
    "duration": 10,
    "start_time": "2022-05-26T06:42:27.052Z"
   },
   {
    "duration": 17,
    "start_time": "2022-05-26T06:42:27.064Z"
   },
   {
    "duration": 6,
    "start_time": "2022-05-26T06:42:27.082Z"
   },
   {
    "duration": 39,
    "start_time": "2022-05-26T06:42:27.090Z"
   },
   {
    "duration": 13,
    "start_time": "2022-05-26T06:42:27.131Z"
   },
   {
    "duration": 9,
    "start_time": "2022-05-26T06:42:27.146Z"
   },
   {
    "duration": 18,
    "start_time": "2022-05-26T06:42:27.157Z"
   },
   {
    "duration": 13,
    "start_time": "2022-05-26T06:42:27.177Z"
   },
   {
    "duration": 21,
    "start_time": "2022-05-26T06:42:27.196Z"
   },
   {
    "duration": 14,
    "start_time": "2022-05-26T06:42:27.220Z"
   },
   {
    "duration": 31,
    "start_time": "2022-05-26T06:42:27.236Z"
   },
   {
    "duration": 18,
    "start_time": "2022-05-26T06:42:27.269Z"
   },
   {
    "duration": 15,
    "start_time": "2022-05-26T06:42:27.289Z"
   },
   {
    "duration": 6,
    "start_time": "2022-05-26T06:42:27.306Z"
   },
   {
    "duration": 14,
    "start_time": "2022-05-26T06:42:27.314Z"
   },
   {
    "duration": 33,
    "start_time": "2022-05-26T06:42:27.329Z"
   },
   {
    "duration": 20,
    "start_time": "2022-05-26T06:42:27.363Z"
   },
   {
    "duration": 11,
    "start_time": "2022-05-26T06:42:27.385Z"
   },
   {
    "duration": 9,
    "start_time": "2022-05-26T06:42:27.398Z"
   },
   {
    "duration": 26,
    "start_time": "2022-05-26T06:42:27.409Z"
   },
   {
    "duration": 15,
    "start_time": "2022-05-26T06:42:27.437Z"
   },
   {
    "duration": 25,
    "start_time": "2022-05-26T06:42:27.453Z"
   },
   {
    "duration": 42,
    "start_time": "2022-05-26T06:42:27.480Z"
   },
   {
    "duration": 10,
    "start_time": "2022-05-26T06:42:27.523Z"
   },
   {
    "duration": 21,
    "start_time": "2022-05-26T06:42:27.535Z"
   },
   {
    "duration": 8,
    "start_time": "2022-05-26T06:42:27.558Z"
   },
   {
    "duration": 14,
    "start_time": "2022-05-26T06:42:27.568Z"
   },
   {
    "duration": 20,
    "start_time": "2022-05-26T06:42:27.584Z"
   },
   {
    "duration": 21,
    "start_time": "2022-05-26T06:42:27.606Z"
   },
   {
    "duration": 20,
    "start_time": "2022-05-26T06:42:27.629Z"
   },
   {
    "duration": 14,
    "start_time": "2022-05-26T06:42:27.651Z"
   },
   {
    "duration": 19,
    "start_time": "2022-05-26T06:42:27.667Z"
   },
   {
    "duration": 13,
    "start_time": "2022-05-26T06:42:27.687Z"
   },
   {
    "duration": 195,
    "start_time": "2022-05-26T06:42:27.705Z"
   },
   {
    "duration": 73,
    "start_time": "2022-05-26T06:42:27.903Z"
   },
   {
    "duration": 4,
    "start_time": "2022-05-26T06:42:27.978Z"
   },
   {
    "duration": 14,
    "start_time": "2022-05-26T06:42:27.984Z"
   },
   {
    "duration": 9,
    "start_time": "2022-05-26T06:42:27.999Z"
   },
   {
    "duration": 2210,
    "start_time": "2022-05-26T06:42:28.061Z"
   },
   {
    "duration": 3,
    "start_time": "2022-05-26T06:42:30.273Z"
   },
   {
    "duration": 15,
    "start_time": "2022-05-26T06:42:30.277Z"
   },
   {
    "duration": 7,
    "start_time": "2022-05-26T06:42:30.293Z"
   },
   {
    "duration": 9583,
    "start_time": "2022-05-26T06:42:30.302Z"
   },
   {
    "duration": 7,
    "start_time": "2022-05-26T06:42:39.887Z"
   },
   {
    "duration": 24,
    "start_time": "2022-05-26T06:42:39.896Z"
   },
   {
    "duration": 20,
    "start_time": "2022-05-26T06:42:39.921Z"
   },
   {
    "duration": 821,
    "start_time": "2022-05-26T06:42:39.942Z"
   },
   {
    "duration": 95,
    "start_time": "2022-05-26T06:42:40.764Z"
   },
   {
    "duration": 4,
    "start_time": "2022-05-26T06:42:40.861Z"
   },
   {
    "duration": 10,
    "start_time": "2022-05-26T10:26:13.076Z"
   },
   {
    "duration": 10,
    "start_time": "2022-05-26T10:26:22.152Z"
   },
   {
    "duration": 11,
    "start_time": "2022-05-26T10:26:30.438Z"
   },
   {
    "duration": 1270,
    "start_time": "2022-05-26T10:26:41.153Z"
   },
   {
    "duration": 2,
    "start_time": "2022-05-26T10:26:42.425Z"
   },
   {
    "duration": 506,
    "start_time": "2022-05-26T10:26:42.429Z"
   },
   {
    "duration": 11,
    "start_time": "2022-05-26T10:26:42.938Z"
   },
   {
    "duration": 12,
    "start_time": "2022-05-26T10:26:42.950Z"
   },
   {
    "duration": 15,
    "start_time": "2022-05-26T10:26:42.964Z"
   },
   {
    "duration": 3,
    "start_time": "2022-05-26T10:26:42.980Z"
   },
   {
    "duration": 6,
    "start_time": "2022-05-26T10:26:42.984Z"
   },
   {
    "duration": 12,
    "start_time": "2022-05-26T10:26:42.991Z"
   },
   {
    "duration": 15,
    "start_time": "2022-05-26T10:26:43.005Z"
   },
   {
    "duration": 450,
    "start_time": "2022-05-26T10:26:43.021Z"
   },
   {
    "duration": 141,
    "start_time": "2022-05-26T10:26:43.473Z"
   },
   {
    "duration": 16710,
    "start_time": "2022-05-26T10:26:43.616Z"
   },
   {
    "duration": 12,
    "start_time": "2022-05-26T10:27:00.327Z"
   },
   {
    "duration": 31,
    "start_time": "2022-05-26T10:27:00.341Z"
   },
   {
    "duration": 61,
    "start_time": "2022-05-26T10:27:00.374Z"
   },
   {
    "duration": 4,
    "start_time": "2022-05-26T10:27:00.437Z"
   },
   {
    "duration": 33,
    "start_time": "2022-05-26T10:27:00.442Z"
   },
   {
    "duration": 29,
    "start_time": "2022-05-26T10:27:00.476Z"
   },
   {
    "duration": 29,
    "start_time": "2022-05-26T10:27:00.507Z"
   },
   {
    "duration": 22,
    "start_time": "2022-05-26T10:27:00.538Z"
   },
   {
    "duration": 30,
    "start_time": "2022-05-26T10:27:00.562Z"
   },
   {
    "duration": 29,
    "start_time": "2022-05-26T10:27:00.594Z"
   },
   {
    "duration": 43,
    "start_time": "2022-05-26T10:27:00.625Z"
   },
   {
    "duration": 12,
    "start_time": "2022-05-26T10:27:00.670Z"
   },
   {
    "duration": 29,
    "start_time": "2022-05-26T10:27:00.684Z"
   },
   {
    "duration": 27,
    "start_time": "2022-05-26T10:27:00.715Z"
   },
   {
    "duration": 21,
    "start_time": "2022-05-26T10:27:00.746Z"
   },
   {
    "duration": 33,
    "start_time": "2022-05-26T10:27:00.768Z"
   },
   {
    "duration": 35,
    "start_time": "2022-05-26T10:27:00.803Z"
   },
   {
    "duration": 9,
    "start_time": "2022-05-26T10:27:00.839Z"
   },
   {
    "duration": 23,
    "start_time": "2022-05-26T10:27:00.849Z"
   },
   {
    "duration": 30,
    "start_time": "2022-05-26T10:27:00.874Z"
   },
   {
    "duration": 22,
    "start_time": "2022-05-26T10:27:00.905Z"
   },
   {
    "duration": 423,
    "start_time": "2022-05-26T10:27:00.929Z"
   },
   {
    "duration": 124,
    "start_time": "2022-05-26T10:27:01.354Z"
   },
   {
    "duration": 6,
    "start_time": "2022-05-26T10:27:01.480Z"
   },
   {
    "duration": 13,
    "start_time": "2022-05-26T10:27:01.487Z"
   },
   {
    "duration": 17,
    "start_time": "2022-05-26T10:27:01.501Z"
   },
   {
    "duration": 14,
    "start_time": "2022-05-26T10:27:01.519Z"
   },
   {
    "duration": 6,
    "start_time": "2022-05-26T10:27:01.534Z"
   },
   {
    "duration": 17,
    "start_time": "2022-05-26T10:27:01.542Z"
   },
   {
    "duration": 17,
    "start_time": "2022-05-26T10:27:01.560Z"
   },
   {
    "duration": 451,
    "start_time": "2022-05-26T10:27:01.579Z"
   },
   {
    "duration": 113,
    "start_time": "2022-05-26T10:27:02.032Z"
   },
   {
    "duration": 17,
    "start_time": "2022-05-26T10:27:02.146Z"
   },
   {
    "duration": 20,
    "start_time": "2022-05-26T10:27:02.165Z"
   },
   {
    "duration": 30,
    "start_time": "2022-05-26T10:27:02.186Z"
   },
   {
    "duration": 3,
    "start_time": "2022-05-26T10:27:02.217Z"
   },
   {
    "duration": 8,
    "start_time": "2022-05-26T10:27:02.222Z"
   },
   {
    "duration": 8,
    "start_time": "2022-05-26T10:27:02.231Z"
   },
   {
    "duration": 23,
    "start_time": "2022-05-26T10:27:02.240Z"
   },
   {
    "duration": 14,
    "start_time": "2022-05-26T10:27:02.264Z"
   },
   {
    "duration": 12,
    "start_time": "2022-05-26T10:27:02.279Z"
   },
   {
    "duration": 12,
    "start_time": "2022-05-26T10:27:02.292Z"
   },
   {
    "duration": 4,
    "start_time": "2022-05-26T10:27:02.306Z"
   },
   {
    "duration": 8,
    "start_time": "2022-05-26T10:27:02.312Z"
   },
   {
    "duration": 7,
    "start_time": "2022-05-26T10:27:02.321Z"
   },
   {
    "duration": 8,
    "start_time": "2022-05-26T10:27:02.360Z"
   },
   {
    "duration": 10,
    "start_time": "2022-05-26T10:27:02.370Z"
   },
   {
    "duration": 28,
    "start_time": "2022-05-26T10:27:02.381Z"
   },
   {
    "duration": 8,
    "start_time": "2022-05-26T10:27:02.410Z"
   },
   {
    "duration": 10,
    "start_time": "2022-05-26T10:27:02.420Z"
   },
   {
    "duration": 40,
    "start_time": "2022-05-26T10:27:02.431Z"
   },
   {
    "duration": 13,
    "start_time": "2022-05-26T10:27:02.473Z"
   },
   {
    "duration": 30,
    "start_time": "2022-05-26T10:27:02.488Z"
   },
   {
    "duration": 16,
    "start_time": "2022-05-26T10:27:02.520Z"
   },
   {
    "duration": 23,
    "start_time": "2022-05-26T10:27:02.537Z"
   },
   {
    "duration": 2,
    "start_time": "2022-05-26T10:27:02.562Z"
   },
   {
    "duration": 15,
    "start_time": "2022-05-26T10:27:02.565Z"
   },
   {
    "duration": 12,
    "start_time": "2022-05-26T10:27:02.581Z"
   },
   {
    "duration": 9,
    "start_time": "2022-05-26T10:27:02.594Z"
   },
   {
    "duration": 4,
    "start_time": "2022-05-26T10:27:02.604Z"
   },
   {
    "duration": 9,
    "start_time": "2022-05-26T10:27:02.609Z"
   },
   {
    "duration": 3,
    "start_time": "2022-05-26T10:27:02.619Z"
   },
   {
    "duration": 10,
    "start_time": "2022-05-26T10:27:02.624Z"
   },
   {
    "duration": 5,
    "start_time": "2022-05-26T10:27:02.635Z"
   },
   {
    "duration": 19,
    "start_time": "2022-05-26T10:27:02.641Z"
   },
   {
    "duration": 14,
    "start_time": "2022-05-26T10:27:02.661Z"
   },
   {
    "duration": 8,
    "start_time": "2022-05-26T10:27:02.677Z"
   },
   {
    "duration": 17,
    "start_time": "2022-05-26T10:27:02.686Z"
   },
   {
    "duration": 9,
    "start_time": "2022-05-26T10:27:02.708Z"
   },
   {
    "duration": 20,
    "start_time": "2022-05-26T10:27:02.719Z"
   },
   {
    "duration": 15,
    "start_time": "2022-05-26T10:27:02.760Z"
   },
   {
    "duration": 8,
    "start_time": "2022-05-26T10:27:02.777Z"
   },
   {
    "duration": 7,
    "start_time": "2022-05-26T10:27:02.786Z"
   },
   {
    "duration": 13,
    "start_time": "2022-05-26T10:27:02.795Z"
   },
   {
    "duration": 10,
    "start_time": "2022-05-26T10:27:02.810Z"
   },
   {
    "duration": 6,
    "start_time": "2022-05-26T10:27:02.821Z"
   },
   {
    "duration": 6,
    "start_time": "2022-05-26T10:27:02.829Z"
   },
   {
    "duration": 6,
    "start_time": "2022-05-26T10:27:02.836Z"
   },
   {
    "duration": 21,
    "start_time": "2022-05-26T10:27:02.844Z"
   },
   {
    "duration": 4,
    "start_time": "2022-05-26T10:27:02.867Z"
   },
   {
    "duration": 10,
    "start_time": "2022-05-26T10:27:02.873Z"
   },
   {
    "duration": 22,
    "start_time": "2022-05-26T10:27:02.885Z"
   },
   {
    "duration": 8,
    "start_time": "2022-05-26T10:27:02.909Z"
   },
   {
    "duration": 14,
    "start_time": "2022-05-26T10:27:02.919Z"
   },
   {
    "duration": 27,
    "start_time": "2022-05-26T10:27:02.935Z"
   },
   {
    "duration": 5,
    "start_time": "2022-05-26T10:27:02.963Z"
   },
   {
    "duration": 8,
    "start_time": "2022-05-26T10:27:02.970Z"
   },
   {
    "duration": 11,
    "start_time": "2022-05-26T10:27:02.979Z"
   },
   {
    "duration": 4,
    "start_time": "2022-05-26T10:27:02.991Z"
   },
   {
    "duration": 7,
    "start_time": "2022-05-26T10:27:02.997Z"
   },
   {
    "duration": 7,
    "start_time": "2022-05-26T10:27:03.006Z"
   },
   {
    "duration": 10,
    "start_time": "2022-05-26T10:27:03.015Z"
   },
   {
    "duration": 56,
    "start_time": "2022-05-26T10:27:03.026Z"
   },
   {
    "duration": 87,
    "start_time": "2022-05-26T10:27:03.084Z"
   },
   {
    "duration": 3,
    "start_time": "2022-05-26T10:27:03.173Z"
   },
   {
    "duration": 8,
    "start_time": "2022-05-26T10:27:03.178Z"
   },
   {
    "duration": 9,
    "start_time": "2022-05-26T10:27:03.188Z"
   },
   {
    "duration": 2198,
    "start_time": "2022-05-26T10:27:03.199Z"
   },
   {
    "duration": 3,
    "start_time": "2022-05-26T10:27:05.398Z"
   },
   {
    "duration": 9,
    "start_time": "2022-05-26T10:27:05.403Z"
   },
   {
    "duration": 4,
    "start_time": "2022-05-26T10:27:05.413Z"
   },
   {
    "duration": 9017,
    "start_time": "2022-05-26T10:27:05.418Z"
   },
   {
    "duration": 8,
    "start_time": "2022-05-26T10:27:14.437Z"
   },
   {
    "duration": 4,
    "start_time": "2022-05-26T10:27:14.446Z"
   },
   {
    "duration": 5,
    "start_time": "2022-05-26T10:27:14.451Z"
   },
   {
    "duration": 806,
    "start_time": "2022-05-26T10:27:14.457Z"
   },
   {
    "duration": 8,
    "start_time": "2022-05-26T10:27:15.265Z"
   },
   {
    "duration": 11,
    "start_time": "2022-05-26T10:27:15.275Z"
   },
   {
    "duration": 14,
    "start_time": "2022-05-26T10:33:03.956Z"
   },
   {
    "duration": 112,
    "start_time": "2022-05-26T10:41:17.549Z"
   },
   {
    "duration": 3,
    "start_time": "2022-05-26T11:04:53.185Z"
   },
   {
    "duration": 17,
    "start_time": "2022-05-26T11:04:53.190Z"
   },
   {
    "duration": 186,
    "start_time": "2022-05-26T11:04:53.209Z"
   },
   {
    "duration": 8,
    "start_time": "2022-05-26T11:04:53.397Z"
   },
   {
    "duration": 16,
    "start_time": "2022-05-26T11:04:53.407Z"
   },
   {
    "duration": 18,
    "start_time": "2022-05-26T11:04:53.424Z"
   },
   {
    "duration": 4,
    "start_time": "2022-05-26T11:04:53.444Z"
   },
   {
    "duration": 4,
    "start_time": "2022-05-26T11:04:53.460Z"
   },
   {
    "duration": 18,
    "start_time": "2022-05-26T11:04:53.466Z"
   },
   {
    "duration": 18,
    "start_time": "2022-05-26T11:04:53.486Z"
   },
   {
    "duration": 370,
    "start_time": "2022-05-26T11:04:53.507Z"
   },
   {
    "duration": 148,
    "start_time": "2022-05-26T11:04:53.879Z"
   },
   {
    "duration": 16701,
    "start_time": "2022-05-26T11:04:54.028Z"
   },
   {
    "duration": 11,
    "start_time": "2022-05-26T11:05:10.730Z"
   },
   {
    "duration": 24,
    "start_time": "2022-05-26T11:05:10.742Z"
   },
   {
    "duration": 54,
    "start_time": "2022-05-26T11:05:10.767Z"
   },
   {
    "duration": 3,
    "start_time": "2022-05-26T11:05:10.822Z"
   },
   {
    "duration": 37,
    "start_time": "2022-05-26T11:05:10.826Z"
   },
   {
    "duration": 26,
    "start_time": "2022-05-26T11:05:10.865Z"
   },
   {
    "duration": 13,
    "start_time": "2022-05-26T11:05:10.893Z"
   },
   {
    "duration": 30,
    "start_time": "2022-05-26T11:05:10.907Z"
   },
   {
    "duration": 19,
    "start_time": "2022-05-26T11:05:10.939Z"
   },
   {
    "duration": 47,
    "start_time": "2022-05-26T11:05:10.959Z"
   },
   {
    "duration": 36,
    "start_time": "2022-05-26T11:05:11.007Z"
   },
   {
    "duration": 7,
    "start_time": "2022-05-26T11:05:11.045Z"
   },
   {
    "duration": 31,
    "start_time": "2022-05-26T11:05:11.054Z"
   },
   {
    "duration": 4,
    "start_time": "2022-05-26T11:05:11.086Z"
   },
   {
    "duration": 7,
    "start_time": "2022-05-26T11:05:11.091Z"
   },
   {
    "duration": 9,
    "start_time": "2022-05-26T11:05:11.102Z"
   },
   {
    "duration": 13,
    "start_time": "2022-05-26T11:05:11.112Z"
   },
   {
    "duration": 3,
    "start_time": "2022-05-26T11:05:11.126Z"
   },
   {
    "duration": 5,
    "start_time": "2022-05-26T11:05:11.131Z"
   },
   {
    "duration": 8,
    "start_time": "2022-05-26T11:05:11.137Z"
   },
   {
    "duration": 5,
    "start_time": "2022-05-26T11:05:11.159Z"
   },
   {
    "duration": 405,
    "start_time": "2022-05-26T11:05:11.165Z"
   },
   {
    "duration": 124,
    "start_time": "2022-05-26T11:05:11.573Z"
   },
   {
    "duration": 8,
    "start_time": "2022-05-26T11:05:11.698Z"
   },
   {
    "duration": 20,
    "start_time": "2022-05-26T11:05:11.708Z"
   },
   {
    "duration": 17,
    "start_time": "2022-05-26T11:05:11.729Z"
   },
   {
    "duration": 4,
    "start_time": "2022-05-26T11:05:11.760Z"
   },
   {
    "duration": 7,
    "start_time": "2022-05-26T11:05:11.766Z"
   },
   {
    "duration": 12,
    "start_time": "2022-05-26T11:05:11.774Z"
   },
   {
    "duration": 13,
    "start_time": "2022-05-26T11:05:11.787Z"
   },
   {
    "duration": 361,
    "start_time": "2022-05-26T11:05:11.802Z"
   },
   {
    "duration": 113,
    "start_time": "2022-05-26T11:05:12.164Z"
   },
   {
    "duration": 9,
    "start_time": "2022-05-26T11:05:12.279Z"
   },
   {
    "duration": 16,
    "start_time": "2022-05-26T11:05:12.289Z"
   },
   {
    "duration": 28,
    "start_time": "2022-05-26T11:05:12.306Z"
   },
   {
    "duration": 4,
    "start_time": "2022-05-26T11:05:12.335Z"
   },
   {
    "duration": 6,
    "start_time": "2022-05-26T11:05:12.359Z"
   },
   {
    "duration": 15,
    "start_time": "2022-05-26T11:05:12.366Z"
   },
   {
    "duration": 12,
    "start_time": "2022-05-26T11:05:12.382Z"
   },
   {
    "duration": 11,
    "start_time": "2022-05-26T11:05:12.395Z"
   },
   {
    "duration": 16,
    "start_time": "2022-05-26T11:05:12.407Z"
   },
   {
    "duration": 18,
    "start_time": "2022-05-26T11:05:12.425Z"
   },
   {
    "duration": 15,
    "start_time": "2022-05-26T11:05:12.445Z"
   },
   {
    "duration": 12,
    "start_time": "2022-05-26T11:05:12.462Z"
   },
   {
    "duration": 16,
    "start_time": "2022-05-26T11:05:12.476Z"
   },
   {
    "duration": 15,
    "start_time": "2022-05-26T11:05:12.494Z"
   },
   {
    "duration": 8,
    "start_time": "2022-05-26T11:05:12.511Z"
   },
   {
    "duration": 40,
    "start_time": "2022-05-26T11:05:12.521Z"
   },
   {
    "duration": 14,
    "start_time": "2022-05-26T11:05:12.563Z"
   },
   {
    "duration": 11,
    "start_time": "2022-05-26T11:05:12.578Z"
   },
   {
    "duration": 17,
    "start_time": "2022-05-26T11:05:12.592Z"
   },
   {
    "duration": 20,
    "start_time": "2022-05-26T11:05:12.610Z"
   },
   {
    "duration": 58,
    "start_time": "2022-05-26T11:05:12.631Z"
   },
   {
    "duration": 15,
    "start_time": "2022-05-26T11:05:12.691Z"
   },
   {
    "duration": 5,
    "start_time": "2022-05-26T11:05:12.707Z"
   },
   {
    "duration": 11,
    "start_time": "2022-05-26T11:05:12.714Z"
   },
   {
    "duration": 9,
    "start_time": "2022-05-26T11:05:12.726Z"
   },
   {
    "duration": 9,
    "start_time": "2022-05-26T11:05:12.736Z"
   },
   {
    "duration": 4,
    "start_time": "2022-05-26T11:05:18.509Z"
   },
   {
    "duration": 12,
    "start_time": "2022-05-26T11:09:47.342Z"
   },
   {
    "duration": 10,
    "start_time": "2022-05-26T11:10:01.780Z"
   },
   {
    "duration": 5,
    "start_time": "2022-05-26T11:10:10.285Z"
   },
   {
    "duration": 11,
    "start_time": "2022-05-26T11:10:10.292Z"
   },
   {
    "duration": 200,
    "start_time": "2022-05-26T11:10:10.304Z"
   },
   {
    "duration": 13,
    "start_time": "2022-05-26T11:10:10.508Z"
   },
   {
    "duration": 14,
    "start_time": "2022-05-26T11:10:10.523Z"
   },
   {
    "duration": 21,
    "start_time": "2022-05-26T11:10:10.539Z"
   },
   {
    "duration": 5,
    "start_time": "2022-05-26T11:10:10.562Z"
   },
   {
    "duration": 6,
    "start_time": "2022-05-26T11:10:10.569Z"
   },
   {
    "duration": 9,
    "start_time": "2022-05-26T11:10:10.580Z"
   },
   {
    "duration": 20,
    "start_time": "2022-05-26T11:10:10.591Z"
   },
   {
    "duration": 484,
    "start_time": "2022-05-26T11:10:10.613Z"
   },
   {
    "duration": 211,
    "start_time": "2022-05-26T11:10:11.099Z"
   },
   {
    "duration": 18301,
    "start_time": "2022-05-26T11:10:11.312Z"
   },
   {
    "duration": 12,
    "start_time": "2022-05-26T11:10:29.615Z"
   },
   {
    "duration": 33,
    "start_time": "2022-05-26T11:10:29.629Z"
   },
   {
    "duration": 70,
    "start_time": "2022-05-26T11:10:29.664Z"
   },
   {
    "duration": 4,
    "start_time": "2022-05-26T11:10:29.736Z"
   },
   {
    "duration": 19,
    "start_time": "2022-05-26T11:10:29.742Z"
   },
   {
    "duration": 5,
    "start_time": "2022-05-26T11:10:29.762Z"
   },
   {
    "duration": 9,
    "start_time": "2022-05-26T11:10:29.769Z"
   },
   {
    "duration": 9,
    "start_time": "2022-05-26T11:10:29.779Z"
   },
   {
    "duration": 17,
    "start_time": "2022-05-26T11:10:29.790Z"
   },
   {
    "duration": 29,
    "start_time": "2022-05-26T11:10:29.809Z"
   },
   {
    "duration": 33,
    "start_time": "2022-05-26T11:10:29.842Z"
   },
   {
    "duration": 12,
    "start_time": "2022-05-26T11:10:29.877Z"
   },
   {
    "duration": 34,
    "start_time": "2022-05-26T11:10:29.891Z"
   },
   {
    "duration": 17,
    "start_time": "2022-05-26T11:10:29.926Z"
   },
   {
    "duration": 13,
    "start_time": "2022-05-26T11:10:29.945Z"
   },
   {
    "duration": 13,
    "start_time": "2022-05-26T11:10:29.960Z"
   },
   {
    "duration": 24,
    "start_time": "2022-05-26T11:10:29.974Z"
   },
   {
    "duration": 5,
    "start_time": "2022-05-26T11:10:30.000Z"
   },
   {
    "duration": 54,
    "start_time": "2022-05-26T11:10:30.007Z"
   },
   {
    "duration": 10,
    "start_time": "2022-05-26T11:10:30.062Z"
   },
   {
    "duration": 12,
    "start_time": "2022-05-26T11:10:30.073Z"
   },
   {
    "duration": 453,
    "start_time": "2022-05-26T11:10:30.087Z"
   },
   {
    "duration": 131,
    "start_time": "2022-05-26T11:10:30.542Z"
   },
   {
    "duration": 7,
    "start_time": "2022-05-26T11:10:30.675Z"
   },
   {
    "duration": 46,
    "start_time": "2022-05-26T11:10:30.684Z"
   },
   {
    "duration": 49,
    "start_time": "2022-05-26T11:10:30.732Z"
   },
   {
    "duration": 12,
    "start_time": "2022-05-26T11:10:30.784Z"
   },
   {
    "duration": 16,
    "start_time": "2022-05-26T11:10:30.798Z"
   },
   {
    "duration": 24,
    "start_time": "2022-05-26T11:10:30.816Z"
   },
   {
    "duration": 24,
    "start_time": "2022-05-26T11:10:30.842Z"
   },
   {
    "duration": 480,
    "start_time": "2022-05-26T11:10:30.868Z"
   },
   {
    "duration": 157,
    "start_time": "2022-05-26T11:10:31.350Z"
   },
   {
    "duration": 9,
    "start_time": "2022-05-26T11:10:31.509Z"
   },
   {
    "duration": 25,
    "start_time": "2022-05-26T11:10:31.519Z"
   },
   {
    "duration": 39,
    "start_time": "2022-05-26T11:10:31.546Z"
   },
   {
    "duration": 5,
    "start_time": "2022-05-26T11:10:31.587Z"
   },
   {
    "duration": 11,
    "start_time": "2022-05-26T11:10:31.598Z"
   },
   {
    "duration": 16,
    "start_time": "2022-05-26T11:10:31.611Z"
   },
   {
    "duration": 12,
    "start_time": "2022-05-26T11:10:31.629Z"
   },
   {
    "duration": 50,
    "start_time": "2022-05-26T11:10:31.643Z"
   },
   {
    "duration": 30,
    "start_time": "2022-05-26T11:10:31.695Z"
   },
   {
    "duration": 21,
    "start_time": "2022-05-26T11:10:31.726Z"
   },
   {
    "duration": 8,
    "start_time": "2022-05-26T11:10:31.749Z"
   },
   {
    "duration": 24,
    "start_time": "2022-05-26T11:10:31.758Z"
   },
   {
    "duration": 11,
    "start_time": "2022-05-26T11:10:31.784Z"
   },
   {
    "duration": 18,
    "start_time": "2022-05-26T11:10:31.797Z"
   },
   {
    "duration": 22,
    "start_time": "2022-05-26T11:10:31.817Z"
   },
   {
    "duration": 35,
    "start_time": "2022-05-26T11:10:31.841Z"
   },
   {
    "duration": 42,
    "start_time": "2022-05-26T11:10:31.878Z"
   },
   {
    "duration": 16,
    "start_time": "2022-05-26T11:10:31.921Z"
   },
   {
    "duration": 22,
    "start_time": "2022-05-26T11:10:31.939Z"
   },
   {
    "duration": 51,
    "start_time": "2022-05-26T11:10:31.963Z"
   },
   {
    "duration": 50,
    "start_time": "2022-05-26T11:10:32.016Z"
   },
   {
    "duration": 22,
    "start_time": "2022-05-26T11:10:32.068Z"
   },
   {
    "duration": 8,
    "start_time": "2022-05-26T11:10:32.092Z"
   },
   {
    "duration": 22,
    "start_time": "2022-05-26T11:10:32.105Z"
   },
   {
    "duration": 27,
    "start_time": "2022-05-26T11:10:32.128Z"
   },
   {
    "duration": 31,
    "start_time": "2022-05-26T11:10:32.157Z"
   },
   {
    "duration": 22,
    "start_time": "2022-05-26T11:11:12.732Z"
   },
   {
    "duration": 4,
    "start_time": "2022-05-26T11:15:21.714Z"
   },
   {
    "duration": 12,
    "start_time": "2022-05-26T11:15:21.721Z"
   },
   {
    "duration": 201,
    "start_time": "2022-05-26T11:15:21.734Z"
   },
   {
    "duration": 7,
    "start_time": "2022-05-26T11:15:21.937Z"
   },
   {
    "duration": 17,
    "start_time": "2022-05-26T11:15:21.946Z"
   },
   {
    "duration": 20,
    "start_time": "2022-05-26T11:15:21.965Z"
   },
   {
    "duration": 4,
    "start_time": "2022-05-26T11:15:21.987Z"
   },
   {
    "duration": 8,
    "start_time": "2022-05-26T11:15:21.992Z"
   },
   {
    "duration": 11,
    "start_time": "2022-05-26T11:15:22.002Z"
   },
   {
    "duration": 16,
    "start_time": "2022-05-26T11:15:22.015Z"
   },
   {
    "duration": 488,
    "start_time": "2022-05-26T11:15:22.033Z"
   },
   {
    "duration": 159,
    "start_time": "2022-05-26T11:15:22.523Z"
   },
   {
    "duration": 20824,
    "start_time": "2022-05-26T11:15:22.684Z"
   },
   {
    "duration": 11,
    "start_time": "2022-05-26T11:15:43.509Z"
   },
   {
    "duration": 13,
    "start_time": "2022-05-26T11:15:43.522Z"
   },
   {
    "duration": 72,
    "start_time": "2022-05-26T11:15:43.536Z"
   },
   {
    "duration": 161,
    "start_time": "2022-05-26T11:15:43.610Z"
   },
   {
    "duration": 20,
    "start_time": "2022-05-26T11:15:43.773Z"
   },
   {
    "duration": 23,
    "start_time": "2022-05-26T11:15:43.795Z"
   },
   {
    "duration": 43,
    "start_time": "2022-05-26T11:15:43.820Z"
   },
   {
    "duration": 32,
    "start_time": "2022-05-26T11:15:43.865Z"
   },
   {
    "duration": 17,
    "start_time": "2022-05-26T11:15:43.899Z"
   },
   {
    "duration": 38,
    "start_time": "2022-05-26T11:15:43.918Z"
   },
   {
    "duration": 11,
    "start_time": "2022-05-26T11:15:43.962Z"
   },
   {
    "duration": 11,
    "start_time": "2022-05-26T11:15:43.975Z"
   },
   {
    "duration": 24,
    "start_time": "2022-05-26T11:15:43.988Z"
   },
   {
    "duration": 6,
    "start_time": "2022-05-26T11:15:44.015Z"
   },
   {
    "duration": 21,
    "start_time": "2022-05-26T11:15:44.023Z"
   },
   {
    "duration": 24,
    "start_time": "2022-05-26T11:15:44.046Z"
   },
   {
    "duration": 27,
    "start_time": "2022-05-26T11:15:44.072Z"
   },
   {
    "duration": 5,
    "start_time": "2022-05-26T11:15:44.101Z"
   },
   {
    "duration": 8,
    "start_time": "2022-05-26T11:15:44.108Z"
   },
   {
    "duration": 19,
    "start_time": "2022-05-26T11:15:44.117Z"
   },
   {
    "duration": 21,
    "start_time": "2022-05-26T11:15:44.138Z"
   },
   {
    "duration": 429,
    "start_time": "2022-05-26T11:15:44.162Z"
   },
   {
    "duration": 132,
    "start_time": "2022-05-26T11:15:44.594Z"
   },
   {
    "duration": 8,
    "start_time": "2022-05-26T11:15:44.728Z"
   },
   {
    "duration": 28,
    "start_time": "2022-05-26T11:15:44.737Z"
   },
   {
    "duration": 14,
    "start_time": "2022-05-26T11:15:44.767Z"
   },
   {
    "duration": 5,
    "start_time": "2022-05-26T11:15:44.783Z"
   },
   {
    "duration": 7,
    "start_time": "2022-05-26T11:15:44.789Z"
   },
   {
    "duration": 10,
    "start_time": "2022-05-26T11:15:44.798Z"
   },
   {
    "duration": 16,
    "start_time": "2022-05-26T11:15:44.810Z"
   },
   {
    "duration": 493,
    "start_time": "2022-05-26T11:15:44.828Z"
   },
   {
    "duration": 125,
    "start_time": "2022-05-26T11:15:45.323Z"
   },
   {
    "duration": 18,
    "start_time": "2022-05-26T11:15:45.450Z"
   },
   {
    "duration": 18,
    "start_time": "2022-05-26T11:15:45.469Z"
   },
   {
    "duration": 36,
    "start_time": "2022-05-26T11:15:45.489Z"
   },
   {
    "duration": 4,
    "start_time": "2022-05-26T11:15:45.527Z"
   },
   {
    "duration": 29,
    "start_time": "2022-05-26T11:15:45.533Z"
   },
   {
    "duration": 25,
    "start_time": "2022-05-26T11:15:45.564Z"
   },
   {
    "duration": 13,
    "start_time": "2022-05-26T11:15:45.591Z"
   },
   {
    "duration": 18,
    "start_time": "2022-05-26T11:15:45.605Z"
   },
   {
    "duration": 21,
    "start_time": "2022-05-26T11:15:45.625Z"
   },
   {
    "duration": 16,
    "start_time": "2022-05-26T11:15:45.648Z"
   },
   {
    "duration": 6,
    "start_time": "2022-05-26T11:15:45.666Z"
   },
   {
    "duration": 17,
    "start_time": "2022-05-26T11:15:45.674Z"
   },
   {
    "duration": 11,
    "start_time": "2022-05-26T11:15:45.693Z"
   },
   {
    "duration": 25,
    "start_time": "2022-05-26T11:15:45.706Z"
   },
   {
    "duration": 11,
    "start_time": "2022-05-26T11:15:45.733Z"
   },
   {
    "duration": 25,
    "start_time": "2022-05-26T11:15:45.746Z"
   },
   {
    "duration": 8,
    "start_time": "2022-05-26T11:15:45.773Z"
   },
   {
    "duration": 11,
    "start_time": "2022-05-26T11:15:45.783Z"
   },
   {
    "duration": 15,
    "start_time": "2022-05-26T11:15:45.796Z"
   },
   {
    "duration": 15,
    "start_time": "2022-05-26T11:15:45.813Z"
   },
   {
    "duration": 50,
    "start_time": "2022-05-26T11:15:45.830Z"
   },
   {
    "duration": 17,
    "start_time": "2022-05-26T11:15:45.882Z"
   },
   {
    "duration": 5,
    "start_time": "2022-05-26T11:15:45.901Z"
   },
   {
    "duration": 3,
    "start_time": "2022-05-26T11:15:45.911Z"
   },
   {
    "duration": 11,
    "start_time": "2022-05-26T11:15:45.916Z"
   },
   {
    "duration": 31,
    "start_time": "2022-05-26T11:15:45.929Z"
   },
   {
    "duration": 16,
    "start_time": "2022-05-26T11:15:45.962Z"
   },
   {
    "duration": 3,
    "start_time": "2022-05-26T11:15:45.979Z"
   },
   {
    "duration": 15,
    "start_time": "2022-05-26T11:15:45.984Z"
   },
   {
    "duration": 4,
    "start_time": "2022-05-26T11:16:27.612Z"
   },
   {
    "duration": 7,
    "start_time": "2022-05-26T11:16:27.618Z"
   },
   {
    "duration": 210,
    "start_time": "2022-05-26T11:16:27.627Z"
   },
   {
    "duration": 10,
    "start_time": "2022-05-26T11:16:27.839Z"
   },
   {
    "duration": 103,
    "start_time": "2022-05-26T11:16:27.851Z"
   },
   {
    "duration": 49,
    "start_time": "2022-05-26T11:16:27.956Z"
   },
   {
    "duration": 6,
    "start_time": "2022-05-26T11:16:28.008Z"
   },
   {
    "duration": 25,
    "start_time": "2022-05-26T11:16:28.017Z"
   },
   {
    "duration": 16,
    "start_time": "2022-05-26T11:16:28.045Z"
   },
   {
    "duration": 22,
    "start_time": "2022-05-26T11:16:28.063Z"
   },
   {
    "duration": 421,
    "start_time": "2022-05-26T11:16:28.088Z"
   },
   {
    "duration": 149,
    "start_time": "2022-05-26T11:16:28.511Z"
   },
   {
    "duration": 16907,
    "start_time": "2022-05-26T11:16:28.662Z"
   },
   {
    "duration": 12,
    "start_time": "2022-05-26T11:16:45.570Z"
   },
   {
    "duration": 24,
    "start_time": "2022-05-26T11:16:45.584Z"
   },
   {
    "duration": 57,
    "start_time": "2022-05-26T11:16:45.610Z"
   },
   {
    "duration": 4,
    "start_time": "2022-05-26T11:16:45.668Z"
   },
   {
    "duration": 11,
    "start_time": "2022-05-26T11:16:45.673Z"
   },
   {
    "duration": 5,
    "start_time": "2022-05-26T11:16:45.685Z"
   },
   {
    "duration": 12,
    "start_time": "2022-05-26T11:16:45.692Z"
   },
   {
    "duration": 14,
    "start_time": "2022-05-26T11:16:45.706Z"
   },
   {
    "duration": 41,
    "start_time": "2022-05-26T11:16:45.722Z"
   },
   {
    "duration": 13,
    "start_time": "2022-05-26T11:16:45.764Z"
   },
   {
    "duration": 11,
    "start_time": "2022-05-26T11:16:45.779Z"
   },
   {
    "duration": 3,
    "start_time": "2022-05-26T11:16:45.792Z"
   },
   {
    "duration": 14,
    "start_time": "2022-05-26T11:16:45.796Z"
   },
   {
    "duration": 4,
    "start_time": "2022-05-26T11:16:45.811Z"
   },
   {
    "duration": 48,
    "start_time": "2022-05-26T11:16:45.816Z"
   },
   {
    "duration": 14,
    "start_time": "2022-05-26T11:16:45.869Z"
   },
   {
    "duration": 23,
    "start_time": "2022-05-26T11:16:45.886Z"
   },
   {
    "duration": 4,
    "start_time": "2022-05-26T11:16:45.910Z"
   },
   {
    "duration": 6,
    "start_time": "2022-05-26T11:16:45.916Z"
   },
   {
    "duration": 10,
    "start_time": "2022-05-26T11:16:45.924Z"
   },
   {
    "duration": 23,
    "start_time": "2022-05-26T11:16:45.936Z"
   },
   {
    "duration": 433,
    "start_time": "2022-05-26T11:16:45.961Z"
   },
   {
    "duration": 124,
    "start_time": "2022-05-26T11:16:46.396Z"
   },
   {
    "duration": 7,
    "start_time": "2022-05-26T11:16:46.522Z"
   },
   {
    "duration": 32,
    "start_time": "2022-05-26T11:16:46.531Z"
   },
   {
    "duration": 15,
    "start_time": "2022-05-26T11:16:46.565Z"
   },
   {
    "duration": 4,
    "start_time": "2022-05-26T11:16:46.583Z"
   },
   {
    "duration": 11,
    "start_time": "2022-05-26T11:16:46.590Z"
   },
   {
    "duration": 9,
    "start_time": "2022-05-26T11:16:46.603Z"
   },
   {
    "duration": 15,
    "start_time": "2022-05-26T11:16:46.614Z"
   },
   {
    "duration": 471,
    "start_time": "2022-05-26T11:16:46.631Z"
   },
   {
    "duration": 160,
    "start_time": "2022-05-26T11:16:47.105Z"
   },
   {
    "duration": 10,
    "start_time": "2022-05-26T11:16:47.267Z"
   },
   {
    "duration": 13,
    "start_time": "2022-05-26T11:16:47.279Z"
   },
   {
    "duration": 36,
    "start_time": "2022-05-26T11:16:47.294Z"
   },
   {
    "duration": 28,
    "start_time": "2022-05-26T11:16:47.332Z"
   },
   {
    "duration": 7,
    "start_time": "2022-05-26T11:16:47.362Z"
   },
   {
    "duration": 12,
    "start_time": "2022-05-26T11:16:47.371Z"
   },
   {
    "duration": 7,
    "start_time": "2022-05-26T11:16:47.384Z"
   },
   {
    "duration": 12,
    "start_time": "2022-05-26T11:16:47.393Z"
   },
   {
    "duration": 17,
    "start_time": "2022-05-26T11:16:47.406Z"
   },
   {
    "duration": 43,
    "start_time": "2022-05-26T11:16:47.425Z"
   },
   {
    "duration": 5,
    "start_time": "2022-05-26T11:16:47.470Z"
   },
   {
    "duration": 10,
    "start_time": "2022-05-26T11:16:47.476Z"
   },
   {
    "duration": 13,
    "start_time": "2022-05-26T11:16:47.487Z"
   },
   {
    "duration": 16,
    "start_time": "2022-05-26T11:16:47.503Z"
   },
   {
    "duration": 8,
    "start_time": "2022-05-26T11:16:47.521Z"
   },
   {
    "duration": 53,
    "start_time": "2022-05-26T11:16:47.530Z"
   },
   {
    "duration": 10,
    "start_time": "2022-05-26T11:16:47.585Z"
   },
   {
    "duration": 13,
    "start_time": "2022-05-26T11:16:47.596Z"
   },
   {
    "duration": 14,
    "start_time": "2022-05-26T11:16:47.611Z"
   },
   {
    "duration": 44,
    "start_time": "2022-05-26T11:16:47.627Z"
   },
   {
    "duration": 34,
    "start_time": "2022-05-26T11:16:47.673Z"
   },
   {
    "duration": 27,
    "start_time": "2022-05-26T11:16:47.708Z"
   },
   {
    "duration": 25,
    "start_time": "2022-05-26T11:16:47.737Z"
   },
   {
    "duration": 4,
    "start_time": "2022-05-26T11:16:47.764Z"
   },
   {
    "duration": 18,
    "start_time": "2022-05-26T11:16:47.770Z"
   },
   {
    "duration": 21,
    "start_time": "2022-05-26T11:16:47.790Z"
   },
   {
    "duration": 16,
    "start_time": "2022-05-26T11:16:47.813Z"
   },
   {
    "duration": 14,
    "start_time": "2022-05-26T11:16:47.832Z"
   },
   {
    "duration": 26,
    "start_time": "2022-05-26T11:16:47.848Z"
   },
   {
    "duration": 5,
    "start_time": "2022-05-26T11:17:33.750Z"
   },
   {
    "duration": 33,
    "start_time": "2022-05-26T11:17:33.757Z"
   },
   {
    "duration": 225,
    "start_time": "2022-05-26T11:17:33.793Z"
   },
   {
    "duration": 10,
    "start_time": "2022-05-26T11:17:34.020Z"
   },
   {
    "duration": 30,
    "start_time": "2022-05-26T11:17:34.034Z"
   },
   {
    "duration": 20,
    "start_time": "2022-05-26T11:17:34.066Z"
   },
   {
    "duration": 4,
    "start_time": "2022-05-26T11:17:34.088Z"
   },
   {
    "duration": 11,
    "start_time": "2022-05-26T11:17:34.093Z"
   },
   {
    "duration": 10,
    "start_time": "2022-05-26T11:17:34.106Z"
   },
   {
    "duration": 57,
    "start_time": "2022-05-26T11:17:34.118Z"
   },
   {
    "duration": 417,
    "start_time": "2022-05-26T11:17:34.180Z"
   },
   {
    "duration": 143,
    "start_time": "2022-05-26T11:17:34.599Z"
   },
   {
    "duration": 20426,
    "start_time": "2022-05-26T11:17:34.744Z"
   },
   {
    "duration": 12,
    "start_time": "2022-05-26T11:17:55.172Z"
   },
   {
    "duration": 12,
    "start_time": "2022-05-26T11:17:55.186Z"
   },
   {
    "duration": 68,
    "start_time": "2022-05-26T11:17:55.200Z"
   },
   {
    "duration": 4,
    "start_time": "2022-05-26T11:17:55.270Z"
   },
   {
    "duration": 11,
    "start_time": "2022-05-26T11:17:55.276Z"
   },
   {
    "duration": 24,
    "start_time": "2022-05-26T11:17:55.289Z"
   },
   {
    "duration": 8,
    "start_time": "2022-05-26T11:17:55.315Z"
   },
   {
    "duration": 42,
    "start_time": "2022-05-26T11:17:55.324Z"
   },
   {
    "duration": 30,
    "start_time": "2022-05-26T11:17:55.368Z"
   },
   {
    "duration": 12,
    "start_time": "2022-05-26T11:17:55.400Z"
   },
   {
    "duration": 11,
    "start_time": "2022-05-26T11:17:55.414Z"
   },
   {
    "duration": 13,
    "start_time": "2022-05-26T11:17:55.427Z"
   },
   {
    "duration": 25,
    "start_time": "2022-05-26T11:17:55.441Z"
   },
   {
    "duration": 4,
    "start_time": "2022-05-26T11:17:55.467Z"
   },
   {
    "duration": 12,
    "start_time": "2022-05-26T11:17:55.473Z"
   },
   {
    "duration": 12,
    "start_time": "2022-05-26T11:17:55.490Z"
   },
   {
    "duration": 20,
    "start_time": "2022-05-26T11:17:55.504Z"
   },
   {
    "duration": 5,
    "start_time": "2022-05-26T11:17:55.526Z"
   },
   {
    "duration": 27,
    "start_time": "2022-05-26T11:17:55.532Z"
   },
   {
    "duration": 6,
    "start_time": "2022-05-26T11:17:55.561Z"
   },
   {
    "duration": 10,
    "start_time": "2022-05-26T11:17:55.568Z"
   },
   {
    "duration": 420,
    "start_time": "2022-05-26T11:17:55.580Z"
   },
   {
    "duration": 122,
    "start_time": "2022-05-26T11:17:56.002Z"
   },
   {
    "duration": 8,
    "start_time": "2022-05-26T11:17:56.125Z"
   },
   {
    "duration": 26,
    "start_time": "2022-05-26T11:17:56.135Z"
   },
   {
    "duration": 18,
    "start_time": "2022-05-26T11:17:56.163Z"
   },
   {
    "duration": 6,
    "start_time": "2022-05-26T11:17:56.183Z"
   },
   {
    "duration": 7,
    "start_time": "2022-05-26T11:17:56.191Z"
   },
   {
    "duration": 15,
    "start_time": "2022-05-26T11:17:56.201Z"
   },
   {
    "duration": 43,
    "start_time": "2022-05-26T11:17:56.218Z"
   },
   {
    "duration": 439,
    "start_time": "2022-05-26T11:17:56.263Z"
   },
   {
    "duration": 116,
    "start_time": "2022-05-26T11:17:56.703Z"
   },
   {
    "duration": 16,
    "start_time": "2022-05-26T11:17:56.822Z"
   },
   {
    "duration": 35,
    "start_time": "2022-05-26T11:17:56.840Z"
   },
   {
    "duration": 35,
    "start_time": "2022-05-26T11:17:56.878Z"
   },
   {
    "duration": 4,
    "start_time": "2022-05-26T11:17:56.915Z"
   },
   {
    "duration": 9,
    "start_time": "2022-05-26T11:17:56.921Z"
   },
   {
    "duration": 28,
    "start_time": "2022-05-26T11:17:56.932Z"
   },
   {
    "duration": 7,
    "start_time": "2022-05-26T11:17:56.962Z"
   },
   {
    "duration": 13,
    "start_time": "2022-05-26T11:17:56.970Z"
   },
   {
    "duration": 15,
    "start_time": "2022-05-26T11:17:56.985Z"
   },
   {
    "duration": 13,
    "start_time": "2022-05-26T11:17:57.001Z"
   },
   {
    "duration": 8,
    "start_time": "2022-05-26T11:17:57.016Z"
   },
   {
    "duration": 12,
    "start_time": "2022-05-26T11:17:57.026Z"
   },
   {
    "duration": 7,
    "start_time": "2022-05-26T11:17:57.060Z"
   },
   {
    "duration": 16,
    "start_time": "2022-05-26T11:17:57.069Z"
   },
   {
    "duration": 13,
    "start_time": "2022-05-26T11:17:57.088Z"
   },
   {
    "duration": 23,
    "start_time": "2022-05-26T11:17:57.103Z"
   },
   {
    "duration": 37,
    "start_time": "2022-05-26T11:17:57.128Z"
   },
   {
    "duration": 11,
    "start_time": "2022-05-26T11:17:57.166Z"
   },
   {
    "duration": 16,
    "start_time": "2022-05-26T11:17:57.179Z"
   },
   {
    "duration": 26,
    "start_time": "2022-05-26T11:17:57.198Z"
   },
   {
    "duration": 79,
    "start_time": "2022-05-26T11:17:57.226Z"
   },
   {
    "duration": 16,
    "start_time": "2022-05-26T11:17:57.307Z"
   },
   {
    "duration": 6,
    "start_time": "2022-05-26T11:17:57.325Z"
   },
   {
    "duration": 25,
    "start_time": "2022-05-26T11:17:57.334Z"
   },
   {
    "duration": 16,
    "start_time": "2022-05-26T11:17:57.361Z"
   },
   {
    "duration": 26,
    "start_time": "2022-05-26T11:17:57.379Z"
   },
   {
    "duration": 9,
    "start_time": "2022-05-26T11:17:57.406Z"
   },
   {
    "duration": 9,
    "start_time": "2022-05-26T11:17:57.417Z"
   },
   {
    "duration": 14,
    "start_time": "2022-05-26T11:17:57.428Z"
   },
   {
    "duration": 10,
    "start_time": "2022-05-26T11:18:34.855Z"
   },
   {
    "duration": 16,
    "start_time": "2022-05-26T11:20:14.876Z"
   },
   {
    "duration": 15,
    "start_time": "2022-05-26T11:20:55.770Z"
   },
   {
    "duration": 17,
    "start_time": "2022-05-26T11:20:59.978Z"
   },
   {
    "duration": 18,
    "start_time": "2022-05-26T11:21:13.631Z"
   },
   {
    "duration": 5,
    "start_time": "2022-05-26T11:21:51.893Z"
   },
   {
    "duration": 13,
    "start_time": "2022-05-26T11:21:51.901Z"
   },
   {
    "duration": 191,
    "start_time": "2022-05-26T11:21:51.916Z"
   },
   {
    "duration": 7,
    "start_time": "2022-05-26T11:21:52.109Z"
   },
   {
    "duration": 14,
    "start_time": "2022-05-26T11:21:52.118Z"
   },
   {
    "duration": 18,
    "start_time": "2022-05-26T11:21:52.133Z"
   },
   {
    "duration": 4,
    "start_time": "2022-05-26T11:21:52.152Z"
   },
   {
    "duration": 5,
    "start_time": "2022-05-26T11:21:52.164Z"
   },
   {
    "duration": 21,
    "start_time": "2022-05-26T11:21:52.171Z"
   },
   {
    "duration": 16,
    "start_time": "2022-05-26T11:21:52.193Z"
   },
   {
    "duration": 519,
    "start_time": "2022-05-26T11:21:52.211Z"
   },
   {
    "duration": 186,
    "start_time": "2022-05-26T11:21:52.732Z"
   },
   {
    "duration": 18297,
    "start_time": "2022-05-26T11:21:52.921Z"
   },
   {
    "duration": 11,
    "start_time": "2022-05-26T11:22:11.222Z"
   },
   {
    "duration": 34,
    "start_time": "2022-05-26T11:22:11.235Z"
   },
   {
    "duration": 53,
    "start_time": "2022-05-26T11:22:11.271Z"
   },
   {
    "duration": 4,
    "start_time": "2022-05-26T11:22:11.325Z"
   },
   {
    "duration": 20,
    "start_time": "2022-05-26T11:22:11.330Z"
   },
   {
    "duration": 10,
    "start_time": "2022-05-26T11:22:11.352Z"
   },
   {
    "duration": 12,
    "start_time": "2022-05-26T11:22:11.364Z"
   },
   {
    "duration": 14,
    "start_time": "2022-05-26T11:22:11.378Z"
   },
   {
    "duration": 25,
    "start_time": "2022-05-26T11:22:11.394Z"
   },
   {
    "duration": 45,
    "start_time": "2022-05-26T11:22:11.422Z"
   },
   {
    "duration": 15,
    "start_time": "2022-05-26T11:22:11.470Z"
   },
   {
    "duration": 5,
    "start_time": "2022-05-26T11:22:11.487Z"
   },
   {
    "duration": 16,
    "start_time": "2022-05-26T11:22:11.494Z"
   },
   {
    "duration": 5,
    "start_time": "2022-05-26T11:22:11.512Z"
   },
   {
    "duration": 44,
    "start_time": "2022-05-26T11:22:11.519Z"
   },
   {
    "duration": 16,
    "start_time": "2022-05-26T11:22:11.566Z"
   },
   {
    "duration": 27,
    "start_time": "2022-05-26T11:22:11.584Z"
   },
   {
    "duration": 5,
    "start_time": "2022-05-26T11:22:11.613Z"
   },
   {
    "duration": 14,
    "start_time": "2022-05-26T11:22:11.621Z"
   },
   {
    "duration": 9,
    "start_time": "2022-05-26T11:22:11.637Z"
   },
   {
    "duration": 14,
    "start_time": "2022-05-26T11:22:11.648Z"
   },
   {
    "duration": 456,
    "start_time": "2022-05-26T11:22:11.668Z"
   },
   {
    "duration": 134,
    "start_time": "2022-05-26T11:22:12.125Z"
   },
   {
    "duration": 8,
    "start_time": "2022-05-26T11:22:12.261Z"
   },
   {
    "duration": 12,
    "start_time": "2022-05-26T11:22:12.271Z"
   },
   {
    "duration": 21,
    "start_time": "2022-05-26T11:22:12.285Z"
   },
   {
    "duration": 5,
    "start_time": "2022-05-26T11:22:12.308Z"
   },
   {
    "duration": 6,
    "start_time": "2022-05-26T11:22:12.317Z"
   },
   {
    "duration": 38,
    "start_time": "2022-05-26T11:22:12.325Z"
   },
   {
    "duration": 9,
    "start_time": "2022-05-26T11:22:12.364Z"
   },
   {
    "duration": 411,
    "start_time": "2022-05-26T11:22:12.375Z"
   },
   {
    "duration": 129,
    "start_time": "2022-05-26T11:22:12.787Z"
   },
   {
    "duration": 12,
    "start_time": "2022-05-26T11:22:12.918Z"
   },
   {
    "duration": 34,
    "start_time": "2022-05-26T11:22:12.932Z"
   },
   {
    "duration": 42,
    "start_time": "2022-05-26T11:22:12.971Z"
   },
   {
    "duration": 5,
    "start_time": "2022-05-26T11:22:13.015Z"
   },
   {
    "duration": 19,
    "start_time": "2022-05-26T11:22:13.022Z"
   },
   {
    "duration": 32,
    "start_time": "2022-05-26T11:22:13.042Z"
   },
   {
    "duration": 39,
    "start_time": "2022-05-26T11:22:13.076Z"
   },
   {
    "duration": 33,
    "start_time": "2022-05-26T11:22:13.117Z"
   },
   {
    "duration": 30,
    "start_time": "2022-05-26T11:22:13.151Z"
   },
   {
    "duration": 29,
    "start_time": "2022-05-26T11:22:13.183Z"
   },
   {
    "duration": 20,
    "start_time": "2022-05-26T11:22:13.214Z"
   },
   {
    "duration": 27,
    "start_time": "2022-05-26T11:22:13.236Z"
   },
   {
    "duration": 9,
    "start_time": "2022-05-26T11:22:13.266Z"
   },
   {
    "duration": 14,
    "start_time": "2022-05-26T11:22:13.277Z"
   },
   {
    "duration": 15,
    "start_time": "2022-05-26T11:22:13.294Z"
   },
   {
    "duration": 60,
    "start_time": "2022-05-26T11:22:13.312Z"
   },
   {
    "duration": 14,
    "start_time": "2022-05-26T11:22:13.375Z"
   },
   {
    "duration": 17,
    "start_time": "2022-05-26T11:22:13.391Z"
   },
   {
    "duration": 60,
    "start_time": "2022-05-26T11:22:13.410Z"
   },
   {
    "duration": 18,
    "start_time": "2022-05-26T11:22:13.472Z"
   },
   {
    "duration": 93,
    "start_time": "2022-05-26T11:22:13.493Z"
   },
   {
    "duration": 75,
    "start_time": "2022-05-26T11:22:13.589Z"
   },
   {
    "duration": 9,
    "start_time": "2022-05-26T11:22:13.667Z"
   },
   {
    "duration": 13,
    "start_time": "2022-05-26T11:22:13.678Z"
   },
   {
    "duration": 70,
    "start_time": "2022-05-26T11:22:13.694Z"
   },
   {
    "duration": 18,
    "start_time": "2022-05-26T11:22:13.766Z"
   },
   {
    "duration": 12,
    "start_time": "2022-05-26T11:22:13.786Z"
   },
   {
    "duration": 5,
    "start_time": "2022-05-26T11:22:13.800Z"
   },
   {
    "duration": 73,
    "start_time": "2022-05-26T11:22:13.806Z"
   },
   {
    "duration": 25,
    "start_time": "2022-05-26T11:22:13.887Z"
   },
   {
    "duration": 12,
    "start_time": "2022-05-26T11:24:01.430Z"
   },
   {
    "duration": 14,
    "start_time": "2022-05-26T11:24:51.860Z"
   },
   {
    "duration": 15,
    "start_time": "2022-05-26T11:26:37.749Z"
   },
   {
    "duration": 11,
    "start_time": "2022-05-26T11:28:39.174Z"
   },
   {
    "duration": 16,
    "start_time": "2022-05-26T11:28:43.217Z"
   },
   {
    "duration": 5,
    "start_time": "2022-05-26T11:29:16.118Z"
   },
   {
    "duration": 17,
    "start_time": "2022-05-26T11:29:19.274Z"
   },
   {
    "duration": 26,
    "start_time": "2022-05-26T11:29:26.044Z"
   },
   {
    "duration": 5,
    "start_time": "2022-05-26T11:30:26.346Z"
   },
   {
    "duration": 5,
    "start_time": "2022-05-26T11:30:26.354Z"
   },
   {
    "duration": 195,
    "start_time": "2022-05-26T11:30:26.361Z"
   },
   {
    "duration": 8,
    "start_time": "2022-05-26T11:30:26.558Z"
   },
   {
    "duration": 16,
    "start_time": "2022-05-26T11:30:26.567Z"
   },
   {
    "duration": 29,
    "start_time": "2022-05-26T11:30:26.585Z"
   },
   {
    "duration": 4,
    "start_time": "2022-05-26T11:30:26.617Z"
   },
   {
    "duration": 7,
    "start_time": "2022-05-26T11:30:26.622Z"
   },
   {
    "duration": 32,
    "start_time": "2022-05-26T11:30:26.631Z"
   },
   {
    "duration": 15,
    "start_time": "2022-05-26T11:30:26.664Z"
   },
   {
    "duration": 406,
    "start_time": "2022-05-26T11:30:26.680Z"
   },
   {
    "duration": 152,
    "start_time": "2022-05-26T11:30:27.087Z"
   },
   {
    "duration": 18763,
    "start_time": "2022-05-26T11:30:27.240Z"
   },
   {
    "duration": 12,
    "start_time": "2022-05-26T11:30:46.005Z"
   },
   {
    "duration": 38,
    "start_time": "2022-05-26T11:30:46.018Z"
   },
   {
    "duration": 44,
    "start_time": "2022-05-26T11:30:46.057Z"
   },
   {
    "duration": 3,
    "start_time": "2022-05-26T11:30:46.103Z"
   },
   {
    "duration": 24,
    "start_time": "2022-05-26T11:30:46.108Z"
   },
   {
    "duration": 4,
    "start_time": "2022-05-26T11:30:46.133Z"
   },
   {
    "duration": 22,
    "start_time": "2022-05-26T11:30:46.138Z"
   },
   {
    "duration": 15,
    "start_time": "2022-05-26T11:30:46.161Z"
   },
   {
    "duration": 15,
    "start_time": "2022-05-26T11:30:46.177Z"
   },
   {
    "duration": 18,
    "start_time": "2022-05-26T11:30:46.194Z"
   },
   {
    "duration": 18,
    "start_time": "2022-05-26T11:30:46.216Z"
   },
   {
    "duration": 26,
    "start_time": "2022-05-26T11:30:46.235Z"
   },
   {
    "duration": 20,
    "start_time": "2022-05-26T11:30:46.263Z"
   },
   {
    "duration": 4,
    "start_time": "2022-05-26T11:30:46.285Z"
   },
   {
    "duration": 14,
    "start_time": "2022-05-26T11:30:46.291Z"
   },
   {
    "duration": 12,
    "start_time": "2022-05-26T11:30:46.307Z"
   },
   {
    "duration": 14,
    "start_time": "2022-05-26T11:30:46.321Z"
   },
   {
    "duration": 25,
    "start_time": "2022-05-26T11:30:46.336Z"
   },
   {
    "duration": 8,
    "start_time": "2022-05-26T11:30:46.362Z"
   },
   {
    "duration": 10,
    "start_time": "2022-05-26T11:30:46.372Z"
   },
   {
    "duration": 11,
    "start_time": "2022-05-26T11:30:46.385Z"
   },
   {
    "duration": 406,
    "start_time": "2022-05-26T11:30:46.397Z"
   },
   {
    "duration": 114,
    "start_time": "2022-05-26T11:30:46.805Z"
   },
   {
    "duration": 7,
    "start_time": "2022-05-26T11:30:46.921Z"
   },
   {
    "duration": 14,
    "start_time": "2022-05-26T11:30:46.929Z"
   },
   {
    "duration": 26,
    "start_time": "2022-05-26T11:30:46.944Z"
   },
   {
    "duration": 3,
    "start_time": "2022-05-26T11:30:46.971Z"
   },
   {
    "duration": 5,
    "start_time": "2022-05-26T11:30:46.976Z"
   },
   {
    "duration": 8,
    "start_time": "2022-05-26T11:30:46.982Z"
   },
   {
    "duration": 9,
    "start_time": "2022-05-26T11:30:46.992Z"
   },
   {
    "duration": 379,
    "start_time": "2022-05-26T11:30:47.003Z"
   },
   {
    "duration": 120,
    "start_time": "2022-05-26T11:30:47.383Z"
   },
   {
    "duration": 10,
    "start_time": "2022-05-26T11:30:47.504Z"
   },
   {
    "duration": 12,
    "start_time": "2022-05-26T11:30:47.515Z"
   },
   {
    "duration": 52,
    "start_time": "2022-05-26T11:30:47.528Z"
   },
   {
    "duration": 4,
    "start_time": "2022-05-26T11:30:47.582Z"
   },
   {
    "duration": 8,
    "start_time": "2022-05-26T11:30:47.587Z"
   },
   {
    "duration": 8,
    "start_time": "2022-05-26T11:30:47.597Z"
   },
   {
    "duration": 9,
    "start_time": "2022-05-26T11:30:47.606Z"
   },
   {
    "duration": 11,
    "start_time": "2022-05-26T11:30:47.616Z"
   },
   {
    "duration": 37,
    "start_time": "2022-05-26T11:30:47.628Z"
   },
   {
    "duration": 10,
    "start_time": "2022-05-26T11:30:47.666Z"
   },
   {
    "duration": 8,
    "start_time": "2022-05-26T11:30:47.678Z"
   },
   {
    "duration": 8,
    "start_time": "2022-05-26T11:30:47.688Z"
   },
   {
    "duration": 7,
    "start_time": "2022-05-26T11:30:47.697Z"
   },
   {
    "duration": 13,
    "start_time": "2022-05-26T11:30:47.706Z"
   },
   {
    "duration": 37,
    "start_time": "2022-05-26T11:30:47.724Z"
   },
   {
    "duration": 39,
    "start_time": "2022-05-26T11:30:47.764Z"
   },
   {
    "duration": 17,
    "start_time": "2022-05-26T11:30:47.806Z"
   },
   {
    "duration": 43,
    "start_time": "2022-05-26T11:30:47.825Z"
   },
   {
    "duration": 15,
    "start_time": "2022-05-26T11:30:47.871Z"
   },
   {
    "duration": 30,
    "start_time": "2022-05-26T11:30:47.888Z"
   },
   {
    "duration": 55,
    "start_time": "2022-05-26T11:30:47.919Z"
   },
   {
    "duration": 21,
    "start_time": "2022-05-26T11:30:47.977Z"
   },
   {
    "duration": 8,
    "start_time": "2022-05-26T11:30:48.000Z"
   },
   {
    "duration": 5,
    "start_time": "2022-05-26T11:30:48.014Z"
   },
   {
    "duration": 39,
    "start_time": "2022-05-26T11:30:48.021Z"
   },
   {
    "duration": 6,
    "start_time": "2022-05-26T11:30:48.062Z"
   },
   {
    "duration": 8,
    "start_time": "2022-05-26T11:30:48.069Z"
   },
   {
    "duration": 4,
    "start_time": "2022-05-26T11:30:48.079Z"
   },
   {
    "duration": 13,
    "start_time": "2022-05-26T11:30:48.084Z"
   },
   {
    "duration": 5,
    "start_time": "2022-05-26T11:30:48.099Z"
   },
   {
    "duration": 14,
    "start_time": "2022-05-26T11:31:08.408Z"
   },
   {
    "duration": 10,
    "start_time": "2022-05-26T11:31:20.147Z"
   },
   {
    "duration": 14,
    "start_time": "2022-05-26T11:31:22.312Z"
   },
   {
    "duration": 4,
    "start_time": "2022-05-26T11:33:32.445Z"
   },
   {
    "duration": 25,
    "start_time": "2022-05-26T11:33:43.209Z"
   },
   {
    "duration": 19,
    "start_time": "2022-05-26T11:34:37.893Z"
   },
   {
    "duration": 11,
    "start_time": "2022-05-26T11:34:55.878Z"
   },
   {
    "duration": 5,
    "start_time": "2022-05-26T11:38:08.203Z"
   },
   {
    "duration": 31,
    "start_time": "2022-05-26T11:38:08.211Z"
   },
   {
    "duration": 237,
    "start_time": "2022-05-26T11:38:08.243Z"
   },
   {
    "duration": 8,
    "start_time": "2022-05-26T11:38:08.482Z"
   },
   {
    "duration": 39,
    "start_time": "2022-05-26T11:38:08.491Z"
   },
   {
    "duration": 18,
    "start_time": "2022-05-26T11:38:08.532Z"
   },
   {
    "duration": 24,
    "start_time": "2022-05-26T11:38:08.552Z"
   },
   {
    "duration": 21,
    "start_time": "2022-05-26T11:38:08.577Z"
   },
   {
    "duration": 16,
    "start_time": "2022-05-26T11:38:08.601Z"
   },
   {
    "duration": 30,
    "start_time": "2022-05-26T11:38:08.619Z"
   },
   {
    "duration": 480,
    "start_time": "2022-05-26T11:38:08.651Z"
   },
   {
    "duration": 160,
    "start_time": "2022-05-26T11:38:09.133Z"
   },
   {
    "duration": 20749,
    "start_time": "2022-05-26T11:38:09.295Z"
   },
   {
    "duration": 25,
    "start_time": "2022-05-26T11:38:30.045Z"
   },
   {
    "duration": 18,
    "start_time": "2022-05-26T11:38:30.076Z"
   },
   {
    "duration": 45,
    "start_time": "2022-05-26T11:38:30.096Z"
   },
   {
    "duration": 3,
    "start_time": "2022-05-26T11:38:30.143Z"
   },
   {
    "duration": 15,
    "start_time": "2022-05-26T11:38:30.159Z"
   },
   {
    "duration": 15,
    "start_time": "2022-05-26T11:38:30.176Z"
   },
   {
    "duration": 8,
    "start_time": "2022-05-26T11:38:30.192Z"
   },
   {
    "duration": 12,
    "start_time": "2022-05-26T11:38:30.201Z"
   },
   {
    "duration": 15,
    "start_time": "2022-05-26T11:38:30.215Z"
   },
   {
    "duration": 41,
    "start_time": "2022-05-26T11:38:30.231Z"
   },
   {
    "duration": 10,
    "start_time": "2022-05-26T11:38:30.279Z"
   },
   {
    "duration": 5,
    "start_time": "2022-05-26T11:38:30.290Z"
   },
   {
    "duration": 18,
    "start_time": "2022-05-26T11:38:30.296Z"
   },
   {
    "duration": 5,
    "start_time": "2022-05-26T11:38:30.316Z"
   },
   {
    "duration": 20,
    "start_time": "2022-05-26T11:38:30.322Z"
   },
   {
    "duration": 44,
    "start_time": "2022-05-26T11:38:30.343Z"
   },
   {
    "duration": 33,
    "start_time": "2022-05-26T11:38:30.389Z"
   },
   {
    "duration": 19,
    "start_time": "2022-05-26T11:38:30.423Z"
   },
   {
    "duration": 33,
    "start_time": "2022-05-26T11:38:30.443Z"
   },
   {
    "duration": 40,
    "start_time": "2022-05-26T11:38:30.477Z"
   },
   {
    "duration": 34,
    "start_time": "2022-05-26T11:38:30.519Z"
   },
   {
    "duration": 428,
    "start_time": "2022-05-26T11:38:30.554Z"
   },
   {
    "duration": 127,
    "start_time": "2022-05-26T11:38:30.983Z"
   },
   {
    "duration": 7,
    "start_time": "2022-05-26T11:38:31.112Z"
   },
   {
    "duration": 30,
    "start_time": "2022-05-26T11:38:31.120Z"
   },
   {
    "duration": 22,
    "start_time": "2022-05-26T11:38:31.153Z"
   },
   {
    "duration": 21,
    "start_time": "2022-05-26T11:38:31.177Z"
   },
   {
    "duration": 19,
    "start_time": "2022-05-26T11:38:31.199Z"
   },
   {
    "duration": 30,
    "start_time": "2022-05-26T11:38:31.220Z"
   },
   {
    "duration": 33,
    "start_time": "2022-05-26T11:38:31.251Z"
   },
   {
    "duration": 443,
    "start_time": "2022-05-26T11:38:31.286Z"
   },
   {
    "duration": 155,
    "start_time": "2022-05-26T11:38:31.732Z"
   },
   {
    "duration": 13,
    "start_time": "2022-05-26T11:38:31.889Z"
   },
   {
    "duration": 27,
    "start_time": "2022-05-26T11:38:31.904Z"
   },
   {
    "duration": 47,
    "start_time": "2022-05-26T11:38:31.933Z"
   },
   {
    "duration": 3,
    "start_time": "2022-05-26T11:38:31.983Z"
   },
   {
    "duration": 37,
    "start_time": "2022-05-26T11:38:31.988Z"
   },
   {
    "duration": 10,
    "start_time": "2022-05-26T11:38:32.027Z"
   },
   {
    "duration": 34,
    "start_time": "2022-05-26T11:38:32.039Z"
   },
   {
    "duration": 24,
    "start_time": "2022-05-26T11:38:32.075Z"
   },
   {
    "duration": 26,
    "start_time": "2022-05-26T11:38:32.100Z"
   },
   {
    "duration": 38,
    "start_time": "2022-05-26T11:38:32.127Z"
   },
   {
    "duration": 24,
    "start_time": "2022-05-26T11:38:32.170Z"
   },
   {
    "duration": 26,
    "start_time": "2022-05-26T11:38:32.196Z"
   },
   {
    "duration": 10,
    "start_time": "2022-05-26T11:38:32.225Z"
   },
   {
    "duration": 36,
    "start_time": "2022-05-26T11:38:32.238Z"
   },
   {
    "duration": 21,
    "start_time": "2022-05-26T11:38:32.276Z"
   },
   {
    "duration": 36,
    "start_time": "2022-05-26T11:38:32.299Z"
   },
   {
    "duration": 9,
    "start_time": "2022-05-26T11:38:32.336Z"
   },
   {
    "duration": 24,
    "start_time": "2022-05-26T11:38:32.346Z"
   },
   {
    "duration": 37,
    "start_time": "2022-05-26T11:38:32.371Z"
   },
   {
    "duration": 21,
    "start_time": "2022-05-26T11:38:32.410Z"
   },
   {
    "duration": 43,
    "start_time": "2022-05-26T11:38:32.433Z"
   },
   {
    "duration": 20,
    "start_time": "2022-05-26T11:38:32.478Z"
   },
   {
    "duration": 7,
    "start_time": "2022-05-26T11:38:32.499Z"
   },
   {
    "duration": 19,
    "start_time": "2022-05-26T11:38:32.510Z"
   },
   {
    "duration": 27,
    "start_time": "2022-05-26T11:38:32.530Z"
   },
   {
    "duration": 29,
    "start_time": "2022-05-26T11:38:32.558Z"
   },
   {
    "duration": 25,
    "start_time": "2022-05-26T11:38:32.589Z"
   },
   {
    "duration": 10,
    "start_time": "2022-05-26T11:38:32.617Z"
   },
   {
    "duration": 34,
    "start_time": "2022-05-26T11:38:32.630Z"
   },
   {
    "duration": 24,
    "start_time": "2022-05-26T11:38:32.668Z"
   },
   {
    "duration": 31,
    "start_time": "2022-05-26T11:38:32.694Z"
   },
   {
    "duration": 5,
    "start_time": "2022-05-26T11:38:32.727Z"
   },
   {
    "duration": 22,
    "start_time": "2022-05-26T11:38:32.733Z"
   },
   {
    "duration": 30,
    "start_time": "2022-05-26T11:38:32.756Z"
   },
   {
    "duration": 14,
    "start_time": "2022-05-26T11:38:38.687Z"
   },
   {
    "duration": 15,
    "start_time": "2022-05-26T11:38:44.607Z"
   },
   {
    "duration": 4,
    "start_time": "2022-05-26T11:39:07.378Z"
   },
   {
    "duration": 15,
    "start_time": "2022-05-26T11:39:30.404Z"
   },
   {
    "duration": 5,
    "start_time": "2022-05-26T11:40:39.427Z"
   },
   {
    "duration": 1407,
    "start_time": "2022-05-26T11:48:42.643Z"
   },
   {
    "duration": 4,
    "start_time": "2022-05-26T11:48:44.052Z"
   },
   {
    "duration": 189,
    "start_time": "2022-05-26T11:48:44.059Z"
   },
   {
    "duration": 12,
    "start_time": "2022-05-26T11:48:44.250Z"
   },
   {
    "duration": 13,
    "start_time": "2022-05-26T11:48:44.263Z"
   },
   {
    "duration": 18,
    "start_time": "2022-05-26T11:48:44.278Z"
   },
   {
    "duration": 4,
    "start_time": "2022-05-26T11:48:44.298Z"
   },
   {
    "duration": 6,
    "start_time": "2022-05-26T11:48:44.304Z"
   },
   {
    "duration": 8,
    "start_time": "2022-05-26T11:48:44.312Z"
   },
   {
    "duration": 17,
    "start_time": "2022-05-26T11:48:44.358Z"
   },
   {
    "duration": 440,
    "start_time": "2022-05-26T11:48:44.377Z"
   },
   {
    "duration": 157,
    "start_time": "2022-05-26T11:48:44.819Z"
   },
   {
    "duration": 17156,
    "start_time": "2022-05-26T11:48:44.977Z"
   },
   {
    "duration": 13,
    "start_time": "2022-05-26T11:49:02.135Z"
   },
   {
    "duration": 13,
    "start_time": "2022-05-26T11:49:02.159Z"
   },
   {
    "duration": 53,
    "start_time": "2022-05-26T11:49:02.175Z"
   },
   {
    "duration": 4,
    "start_time": "2022-05-26T11:49:02.229Z"
   },
   {
    "duration": 29,
    "start_time": "2022-05-26T11:49:02.234Z"
   },
   {
    "duration": 4,
    "start_time": "2022-05-26T11:49:02.265Z"
   },
   {
    "duration": 22,
    "start_time": "2022-05-26T11:49:02.270Z"
   },
   {
    "duration": 8,
    "start_time": "2022-05-26T11:49:02.294Z"
   },
   {
    "duration": 24,
    "start_time": "2022-05-26T11:49:02.303Z"
   },
   {
    "duration": 22,
    "start_time": "2022-05-26T11:49:02.329Z"
   },
   {
    "duration": 18,
    "start_time": "2022-05-26T11:49:02.352Z"
   },
   {
    "duration": 13,
    "start_time": "2022-05-26T11:49:02.372Z"
   },
   {
    "duration": 31,
    "start_time": "2022-05-26T11:49:02.386Z"
   },
   {
    "duration": 11,
    "start_time": "2022-05-26T11:49:02.419Z"
   },
   {
    "duration": 13,
    "start_time": "2022-05-26T11:49:02.434Z"
   },
   {
    "duration": 22,
    "start_time": "2022-05-26T11:49:02.449Z"
   },
   {
    "duration": 38,
    "start_time": "2022-05-26T11:49:02.473Z"
   },
   {
    "duration": 5,
    "start_time": "2022-05-26T11:49:02.514Z"
   },
   {
    "duration": 16,
    "start_time": "2022-05-26T11:49:02.521Z"
   },
   {
    "duration": 28,
    "start_time": "2022-05-26T11:49:02.540Z"
   },
   {
    "duration": 23,
    "start_time": "2022-05-26T11:49:02.570Z"
   },
   {
    "duration": 488,
    "start_time": "2022-05-26T11:49:02.596Z"
   },
   {
    "duration": 126,
    "start_time": "2022-05-26T11:49:03.085Z"
   },
   {
    "duration": 7,
    "start_time": "2022-05-26T11:49:03.213Z"
   },
   {
    "duration": 18,
    "start_time": "2022-05-26T11:49:03.221Z"
   },
   {
    "duration": 22,
    "start_time": "2022-05-26T11:49:03.241Z"
   },
   {
    "duration": 7,
    "start_time": "2022-05-26T11:49:03.264Z"
   },
   {
    "duration": 13,
    "start_time": "2022-05-26T11:49:03.273Z"
   },
   {
    "duration": 13,
    "start_time": "2022-05-26T11:49:03.287Z"
   },
   {
    "duration": 17,
    "start_time": "2022-05-26T11:49:03.301Z"
   },
   {
    "duration": 405,
    "start_time": "2022-05-26T11:49:03.320Z"
   },
   {
    "duration": 145,
    "start_time": "2022-05-26T11:49:03.727Z"
   },
   {
    "duration": 11,
    "start_time": "2022-05-26T11:49:03.874Z"
   },
   {
    "duration": 20,
    "start_time": "2022-05-26T11:49:03.886Z"
   },
   {
    "duration": 57,
    "start_time": "2022-05-26T11:49:03.910Z"
   },
   {
    "duration": 5,
    "start_time": "2022-05-26T11:49:03.969Z"
   },
   {
    "duration": 10,
    "start_time": "2022-05-26T11:49:03.977Z"
   },
   {
    "duration": 15,
    "start_time": "2022-05-26T11:49:03.989Z"
   },
   {
    "duration": 11,
    "start_time": "2022-05-26T11:49:04.006Z"
   },
   {
    "duration": 14,
    "start_time": "2022-05-26T11:49:04.019Z"
   },
   {
    "duration": 33,
    "start_time": "2022-05-26T11:49:04.034Z"
   },
   {
    "duration": 19,
    "start_time": "2022-05-26T11:49:04.069Z"
   },
   {
    "duration": 17,
    "start_time": "2022-05-26T11:49:04.089Z"
   },
   {
    "duration": 11,
    "start_time": "2022-05-26T11:49:04.107Z"
   },
   {
    "duration": 15,
    "start_time": "2022-05-26T11:49:04.119Z"
   },
   {
    "duration": 11,
    "start_time": "2022-05-26T11:49:04.135Z"
   },
   {
    "duration": 9,
    "start_time": "2022-05-26T11:49:04.147Z"
   },
   {
    "duration": 24,
    "start_time": "2022-05-26T11:49:04.157Z"
   },
   {
    "duration": 8,
    "start_time": "2022-05-26T11:49:04.182Z"
   },
   {
    "duration": 9,
    "start_time": "2022-05-26T11:49:04.192Z"
   },
   {
    "duration": 12,
    "start_time": "2022-05-26T11:49:04.202Z"
   },
   {
    "duration": 53,
    "start_time": "2022-05-26T11:49:04.216Z"
   },
   {
    "duration": 39,
    "start_time": "2022-05-26T11:49:04.270Z"
   },
   {
    "duration": 16,
    "start_time": "2022-05-26T11:49:04.310Z"
   },
   {
    "duration": 10,
    "start_time": "2022-05-26T11:49:04.327Z"
   },
   {
    "duration": 22,
    "start_time": "2022-05-26T11:49:04.338Z"
   },
   {
    "duration": 20,
    "start_time": "2022-05-26T11:49:04.361Z"
   },
   {
    "duration": 18,
    "start_time": "2022-05-26T11:49:04.383Z"
   },
   {
    "duration": 18,
    "start_time": "2022-05-26T11:49:04.403Z"
   },
   {
    "duration": 7,
    "start_time": "2022-05-26T11:49:04.423Z"
   },
   {
    "duration": 24,
    "start_time": "2022-05-26T11:49:04.432Z"
   },
   {
    "duration": 8,
    "start_time": "2022-05-26T11:49:04.457Z"
   },
   {
    "duration": 15,
    "start_time": "2022-05-26T11:49:04.466Z"
   },
   {
    "duration": 6,
    "start_time": "2022-05-26T11:49:04.483Z"
   },
   {
    "duration": 19,
    "start_time": "2022-05-26T11:49:04.490Z"
   },
   {
    "duration": 6,
    "start_time": "2022-05-26T11:49:04.510Z"
   },
   {
    "duration": 12,
    "start_time": "2022-05-26T11:49:04.517Z"
   },
   {
    "duration": 3,
    "start_time": "2022-05-26T11:49:04.530Z"
   },
   {
    "duration": 37,
    "start_time": "2022-05-26T11:49:04.539Z"
   },
   {
    "duration": 14,
    "start_time": "2022-05-26T11:49:04.578Z"
   },
   {
    "duration": 21,
    "start_time": "2022-05-26T11:49:04.593Z"
   },
   {
    "duration": 15,
    "start_time": "2022-05-26T11:49:04.616Z"
   },
   {
    "duration": 12,
    "start_time": "2022-05-26T11:49:04.633Z"
   },
   {
    "duration": 31,
    "start_time": "2022-05-26T11:49:04.647Z"
   },
   {
    "duration": 18,
    "start_time": "2022-05-26T11:49:04.679Z"
   },
   {
    "duration": 8,
    "start_time": "2022-05-26T11:49:04.698Z"
   },
   {
    "duration": 21,
    "start_time": "2022-05-26T11:49:04.708Z"
   },
   {
    "duration": 12,
    "start_time": "2022-05-26T11:49:04.731Z"
   },
   {
    "duration": 9,
    "start_time": "2022-05-26T11:49:04.745Z"
   },
   {
    "duration": 15,
    "start_time": "2022-05-26T11:49:04.756Z"
   },
   {
    "duration": 6,
    "start_time": "2022-05-26T11:49:04.773Z"
   },
   {
    "duration": 12,
    "start_time": "2022-05-26T11:49:04.781Z"
   },
   {
    "duration": 16,
    "start_time": "2022-05-26T11:49:04.795Z"
   },
   {
    "duration": 10,
    "start_time": "2022-05-26T11:49:04.813Z"
   },
   {
    "duration": 13,
    "start_time": "2022-05-26T11:49:04.825Z"
   },
   {
    "duration": 24,
    "start_time": "2022-05-26T11:49:04.840Z"
   },
   {
    "duration": 9,
    "start_time": "2022-05-26T11:49:04.865Z"
   },
   {
    "duration": 19,
    "start_time": "2022-05-26T11:49:04.876Z"
   },
   {
    "duration": 7,
    "start_time": "2022-05-26T11:49:04.896Z"
   },
   {
    "duration": 8,
    "start_time": "2022-05-26T11:49:04.904Z"
   },
   {
    "duration": 145,
    "start_time": "2022-05-26T11:49:04.914Z"
   },
   {
    "duration": 0,
    "start_time": "2022-05-26T11:49:05.060Z"
   },
   {
    "duration": 0,
    "start_time": "2022-05-26T11:49:05.062Z"
   },
   {
    "duration": 0,
    "start_time": "2022-05-26T11:49:05.063Z"
   },
   {
    "duration": 0,
    "start_time": "2022-05-26T11:49:05.065Z"
   },
   {
    "duration": 0,
    "start_time": "2022-05-26T11:49:05.066Z"
   },
   {
    "duration": 0,
    "start_time": "2022-05-26T11:49:05.067Z"
   },
   {
    "duration": 0,
    "start_time": "2022-05-26T11:49:05.069Z"
   },
   {
    "duration": 0,
    "start_time": "2022-05-26T11:49:05.071Z"
   },
   {
    "duration": 0,
    "start_time": "2022-05-26T11:49:05.072Z"
   },
   {
    "duration": 0,
    "start_time": "2022-05-26T11:49:05.073Z"
   },
   {
    "duration": 0,
    "start_time": "2022-05-26T11:49:05.075Z"
   },
   {
    "duration": 0,
    "start_time": "2022-05-26T11:49:05.076Z"
   },
   {
    "duration": 0,
    "start_time": "2022-05-26T11:49:05.078Z"
   },
   {
    "duration": 0,
    "start_time": "2022-05-26T11:49:05.079Z"
   },
   {
    "duration": 0,
    "start_time": "2022-05-26T11:49:05.080Z"
   },
   {
    "duration": 0,
    "start_time": "2022-05-26T11:49:05.082Z"
   },
   {
    "duration": 1,
    "start_time": "2022-05-26T11:49:05.082Z"
   },
   {
    "duration": 0,
    "start_time": "2022-05-26T11:49:05.085Z"
   },
   {
    "duration": 0,
    "start_time": "2022-05-26T11:49:05.086Z"
   },
   {
    "duration": 0,
    "start_time": "2022-05-26T11:49:05.087Z"
   },
   {
    "duration": 0,
    "start_time": "2022-05-26T11:49:05.088Z"
   },
   {
    "duration": 6,
    "start_time": "2022-05-26T11:49:44.541Z"
   },
   {
    "duration": 5,
    "start_time": "2022-05-26T11:54:49.850Z"
   },
   {
    "duration": 5,
    "start_time": "2022-05-26T12:05:42.512Z"
   },
   {
    "duration": 140,
    "start_time": "2022-05-26T12:05:45.130Z"
   },
   {
    "duration": 6,
    "start_time": "2022-05-26T12:06:09.183Z"
   },
   {
    "duration": 129,
    "start_time": "2022-05-26T12:06:11.364Z"
   },
   {
    "duration": 7,
    "start_time": "2022-05-26T12:07:36.328Z"
   },
   {
    "duration": 146,
    "start_time": "2022-05-26T12:07:39.215Z"
   },
   {
    "duration": 12,
    "start_time": "2022-05-26T12:07:54.571Z"
   },
   {
    "duration": 221,
    "start_time": "2022-05-26T12:07:57.759Z"
   },
   {
    "duration": 8,
    "start_time": "2022-05-26T12:08:08.997Z"
   },
   {
    "duration": 138,
    "start_time": "2022-05-26T12:08:11.135Z"
   },
   {
    "duration": 8,
    "start_time": "2022-05-26T12:08:16.187Z"
   },
   {
    "duration": 130,
    "start_time": "2022-05-26T12:08:18.216Z"
   },
   {
    "duration": 8,
    "start_time": "2022-05-26T12:08:28.289Z"
   },
   {
    "duration": 134,
    "start_time": "2022-05-26T12:08:30.150Z"
   },
   {
    "duration": 437,
    "start_time": "2022-05-26T12:08:35.024Z"
   },
   {
    "duration": 18016,
    "start_time": "2022-05-26T12:09:02.811Z"
   },
   {
    "duration": 9,
    "start_time": "2022-05-26T12:12:31.735Z"
   },
   {
    "duration": 1436,
    "start_time": "2022-05-26T12:17:20.600Z"
   },
   {
    "duration": 3,
    "start_time": "2022-05-26T12:17:22.038Z"
   },
   {
    "duration": 227,
    "start_time": "2022-05-26T12:17:22.043Z"
   },
   {
    "duration": 11,
    "start_time": "2022-05-26T12:17:22.278Z"
   },
   {
    "duration": 30,
    "start_time": "2022-05-26T12:17:22.291Z"
   },
   {
    "duration": 39,
    "start_time": "2022-05-26T12:17:22.323Z"
   },
   {
    "duration": 6,
    "start_time": "2022-05-26T12:17:22.368Z"
   },
   {
    "duration": 24,
    "start_time": "2022-05-26T12:17:22.375Z"
   },
   {
    "duration": 16,
    "start_time": "2022-05-26T12:17:22.400Z"
   },
   {
    "duration": 40,
    "start_time": "2022-05-26T12:17:22.417Z"
   },
   {
    "duration": 449,
    "start_time": "2022-05-26T12:17:22.459Z"
   },
   {
    "duration": 157,
    "start_time": "2022-05-26T12:17:22.909Z"
   },
   {
    "duration": 18520,
    "start_time": "2022-05-26T12:17:23.071Z"
   },
   {
    "duration": 12,
    "start_time": "2022-05-26T12:17:41.594Z"
   },
   {
    "duration": 32,
    "start_time": "2022-05-26T12:17:41.608Z"
   },
   {
    "duration": 64,
    "start_time": "2022-05-26T12:17:41.642Z"
   },
   {
    "duration": 5,
    "start_time": "2022-05-26T12:17:41.708Z"
   },
   {
    "duration": 15,
    "start_time": "2022-05-26T12:17:41.715Z"
   },
   {
    "duration": 10,
    "start_time": "2022-05-26T12:17:41.731Z"
   },
   {
    "duration": 23,
    "start_time": "2022-05-26T12:17:41.743Z"
   },
   {
    "duration": 25,
    "start_time": "2022-05-26T12:17:41.770Z"
   },
   {
    "duration": 19,
    "start_time": "2022-05-26T12:17:41.797Z"
   },
   {
    "duration": 16,
    "start_time": "2022-05-26T12:17:41.818Z"
   },
   {
    "duration": 13,
    "start_time": "2022-05-26T12:17:41.836Z"
   },
   {
    "duration": 31,
    "start_time": "2022-05-26T12:17:41.851Z"
   },
   {
    "duration": 31,
    "start_time": "2022-05-26T12:17:41.885Z"
   },
   {
    "duration": 11,
    "start_time": "2022-05-26T12:17:41.918Z"
   },
   {
    "duration": 16,
    "start_time": "2022-05-26T12:17:41.931Z"
   },
   {
    "duration": 31,
    "start_time": "2022-05-26T12:17:41.948Z"
   },
   {
    "duration": 15,
    "start_time": "2022-05-26T12:17:41.980Z"
   },
   {
    "duration": 4,
    "start_time": "2022-05-26T12:17:41.996Z"
   },
   {
    "duration": 13,
    "start_time": "2022-05-26T12:17:42.002Z"
   },
   {
    "duration": 34,
    "start_time": "2022-05-26T12:17:42.017Z"
   },
   {
    "duration": 28,
    "start_time": "2022-05-26T12:17:42.053Z"
   },
   {
    "duration": 390,
    "start_time": "2022-05-26T12:17:42.083Z"
   },
   {
    "duration": 142,
    "start_time": "2022-05-26T12:17:42.476Z"
   },
   {
    "duration": 8,
    "start_time": "2022-05-26T12:17:42.619Z"
   },
   {
    "duration": 13,
    "start_time": "2022-05-26T12:17:42.629Z"
   },
   {
    "duration": 21,
    "start_time": "2022-05-26T12:17:42.666Z"
   },
   {
    "duration": 4,
    "start_time": "2022-05-26T12:17:42.689Z"
   },
   {
    "duration": 6,
    "start_time": "2022-05-26T12:17:42.699Z"
   },
   {
    "duration": 9,
    "start_time": "2022-05-26T12:17:42.706Z"
   },
   {
    "duration": 13,
    "start_time": "2022-05-26T12:17:42.717Z"
   },
   {
    "duration": 476,
    "start_time": "2022-05-26T12:17:42.732Z"
   },
   {
    "duration": 121,
    "start_time": "2022-05-26T12:17:43.210Z"
   },
   {
    "duration": 9,
    "start_time": "2022-05-26T12:17:43.333Z"
   },
   {
    "duration": 26,
    "start_time": "2022-05-26T12:17:43.343Z"
   },
   {
    "duration": 32,
    "start_time": "2022-05-26T12:17:43.376Z"
   },
   {
    "duration": 4,
    "start_time": "2022-05-26T12:17:43.409Z"
   },
   {
    "duration": 12,
    "start_time": "2022-05-26T12:17:43.414Z"
   },
   {
    "duration": 11,
    "start_time": "2022-05-26T12:17:43.428Z"
   },
   {
    "duration": 7,
    "start_time": "2022-05-26T12:17:43.440Z"
   },
   {
    "duration": 22,
    "start_time": "2022-05-26T12:17:43.449Z"
   },
   {
    "duration": 13,
    "start_time": "2022-05-26T12:17:43.476Z"
   },
   {
    "duration": 14,
    "start_time": "2022-05-26T12:17:43.490Z"
   },
   {
    "duration": 5,
    "start_time": "2022-05-26T12:17:43.506Z"
   },
   {
    "duration": 11,
    "start_time": "2022-05-26T12:17:43.512Z"
   },
   {
    "duration": 7,
    "start_time": "2022-05-26T12:17:43.524Z"
   },
   {
    "duration": 39,
    "start_time": "2022-05-26T12:17:43.532Z"
   },
   {
    "duration": 9,
    "start_time": "2022-05-26T12:17:43.574Z"
   },
   {
    "duration": 11,
    "start_time": "2022-05-26T12:17:43.585Z"
   },
   {
    "duration": 23,
    "start_time": "2022-05-26T12:17:43.598Z"
   },
   {
    "duration": 6,
    "start_time": "2022-05-26T12:17:43.622Z"
   },
   {
    "duration": 7,
    "start_time": "2022-05-26T12:17:43.630Z"
   },
   {
    "duration": 38,
    "start_time": "2022-05-26T12:17:43.639Z"
   },
   {
    "duration": 20,
    "start_time": "2022-05-26T12:17:43.679Z"
   },
   {
    "duration": 14,
    "start_time": "2022-05-26T12:17:43.701Z"
   },
   {
    "duration": 44,
    "start_time": "2022-05-26T12:17:43.716Z"
   },
   {
    "duration": 21,
    "start_time": "2022-05-26T12:17:43.762Z"
   },
   {
    "duration": 10,
    "start_time": "2022-05-26T12:17:43.784Z"
   },
   {
    "duration": 8,
    "start_time": "2022-05-26T12:17:43.795Z"
   },
   {
    "duration": 16,
    "start_time": "2022-05-26T12:17:43.804Z"
   },
   {
    "duration": 10,
    "start_time": "2022-05-26T12:17:43.821Z"
   },
   {
    "duration": 10,
    "start_time": "2022-05-26T12:17:43.832Z"
   },
   {
    "duration": 16,
    "start_time": "2022-05-26T12:17:43.844Z"
   },
   {
    "duration": 31,
    "start_time": "2022-05-26T12:17:43.862Z"
   },
   {
    "duration": 7,
    "start_time": "2022-05-26T12:17:43.895Z"
   },
   {
    "duration": 15,
    "start_time": "2022-05-26T12:17:43.904Z"
   },
   {
    "duration": 4,
    "start_time": "2022-05-26T12:17:43.920Z"
   },
   {
    "duration": 16,
    "start_time": "2022-05-26T12:17:43.925Z"
   },
   {
    "duration": 7,
    "start_time": "2022-05-26T12:17:43.943Z"
   },
   {
    "duration": 30,
    "start_time": "2022-05-26T12:17:43.952Z"
   },
   {
    "duration": 3,
    "start_time": "2022-05-26T12:17:43.984Z"
   },
   {
    "duration": 23,
    "start_time": "2022-05-26T12:17:43.989Z"
   },
   {
    "duration": 12,
    "start_time": "2022-05-26T12:17:44.013Z"
   },
   {
    "duration": 15,
    "start_time": "2022-05-26T12:17:44.026Z"
   },
   {
    "duration": 24,
    "start_time": "2022-05-26T12:17:44.042Z"
   },
   {
    "duration": 14,
    "start_time": "2022-05-26T12:17:44.071Z"
   },
   {
    "duration": 22,
    "start_time": "2022-05-26T12:17:44.087Z"
   },
   {
    "duration": 15,
    "start_time": "2022-05-26T12:17:44.111Z"
   },
   {
    "duration": 7,
    "start_time": "2022-05-26T12:17:44.128Z"
   },
   {
    "duration": 5,
    "start_time": "2022-05-26T12:17:44.136Z"
   },
   {
    "duration": 39,
    "start_time": "2022-05-26T12:17:44.142Z"
   },
   {
    "duration": 6,
    "start_time": "2022-05-26T12:17:44.182Z"
   },
   {
    "duration": 6,
    "start_time": "2022-05-26T12:17:44.190Z"
   },
   {
    "duration": 7,
    "start_time": "2022-05-26T12:17:44.198Z"
   },
   {
    "duration": 126,
    "start_time": "2022-05-26T12:17:44.207Z"
   },
   {
    "duration": 0,
    "start_time": "2022-05-26T12:17:44.335Z"
   },
   {
    "duration": 0,
    "start_time": "2022-05-26T12:17:44.336Z"
   },
   {
    "duration": 0,
    "start_time": "2022-05-26T12:17:44.337Z"
   },
   {
    "duration": 0,
    "start_time": "2022-05-26T12:17:44.338Z"
   },
   {
    "duration": 0,
    "start_time": "2022-05-26T12:17:44.339Z"
   },
   {
    "duration": 0,
    "start_time": "2022-05-26T12:17:44.340Z"
   },
   {
    "duration": 0,
    "start_time": "2022-05-26T12:17:44.342Z"
   },
   {
    "duration": 0,
    "start_time": "2022-05-26T12:17:44.343Z"
   },
   {
    "duration": 0,
    "start_time": "2022-05-26T12:17:44.361Z"
   },
   {
    "duration": 0,
    "start_time": "2022-05-26T12:17:44.362Z"
   },
   {
    "duration": 0,
    "start_time": "2022-05-26T12:17:44.362Z"
   },
   {
    "duration": 0,
    "start_time": "2022-05-26T12:17:44.368Z"
   },
   {
    "duration": 0,
    "start_time": "2022-05-26T12:17:44.370Z"
   },
   {
    "duration": 0,
    "start_time": "2022-05-26T12:17:44.371Z"
   },
   {
    "duration": 0,
    "start_time": "2022-05-26T12:17:44.377Z"
   },
   {
    "duration": 0,
    "start_time": "2022-05-26T12:17:44.378Z"
   },
   {
    "duration": 0,
    "start_time": "2022-05-26T12:17:44.379Z"
   },
   {
    "duration": 0,
    "start_time": "2022-05-26T12:17:44.380Z"
   },
   {
    "duration": 0,
    "start_time": "2022-05-26T12:17:44.382Z"
   },
   {
    "duration": 0,
    "start_time": "2022-05-26T12:17:44.383Z"
   },
   {
    "duration": 0,
    "start_time": "2022-05-26T12:17:44.384Z"
   },
   {
    "duration": 0,
    "start_time": "2022-05-26T12:17:44.386Z"
   },
   {
    "duration": 0,
    "start_time": "2022-05-26T12:17:44.387Z"
   },
   {
    "duration": 0,
    "start_time": "2022-05-26T12:17:44.388Z"
   },
   {
    "duration": 0,
    "start_time": "2022-05-26T12:17:44.390Z"
   },
   {
    "duration": 0,
    "start_time": "2022-05-26T12:17:44.391Z"
   },
   {
    "duration": 0,
    "start_time": "2022-05-26T12:17:44.393Z"
   },
   {
    "duration": 0,
    "start_time": "2022-05-26T12:17:44.394Z"
   },
   {
    "duration": 0,
    "start_time": "2022-05-26T12:17:44.396Z"
   },
   {
    "duration": 13,
    "start_time": "2022-05-26T12:19:22.126Z"
   },
   {
    "duration": 4,
    "start_time": "2022-05-26T12:21:55.369Z"
   },
   {
    "duration": 7,
    "start_time": "2022-05-26T12:21:58.369Z"
   },
   {
    "duration": 4,
    "start_time": "2022-05-26T12:22:06.184Z"
   },
   {
    "duration": 6,
    "start_time": "2022-05-26T12:22:08.073Z"
   },
   {
    "duration": 22,
    "start_time": "2022-05-26T12:22:10.469Z"
   },
   {
    "duration": 9,
    "start_time": "2022-05-26T12:22:34.409Z"
   },
   {
    "duration": 9,
    "start_time": "2022-05-26T12:23:46.293Z"
   },
   {
    "duration": 4,
    "start_time": "2022-05-26T12:23:56.036Z"
   },
   {
    "duration": 7,
    "start_time": "2022-05-26T12:23:57.362Z"
   },
   {
    "duration": 6,
    "start_time": "2022-05-26T12:24:03.901Z"
   },
   {
    "duration": 9,
    "start_time": "2022-05-26T12:27:14.977Z"
   },
   {
    "duration": 5,
    "start_time": "2022-05-26T12:27:18.087Z"
   },
   {
    "duration": 2311,
    "start_time": "2022-05-26T12:28:29.298Z"
   },
   {
    "duration": 4,
    "start_time": "2022-05-26T12:28:31.611Z"
   },
   {
    "duration": 256,
    "start_time": "2022-05-26T12:28:31.617Z"
   },
   {
    "duration": 13,
    "start_time": "2022-05-26T12:28:31.875Z"
   },
   {
    "duration": 52,
    "start_time": "2022-05-26T12:28:31.891Z"
   },
   {
    "duration": 77,
    "start_time": "2022-05-26T12:28:31.945Z"
   },
   {
    "duration": 6,
    "start_time": "2022-05-26T12:28:32.024Z"
   },
   {
    "duration": 15,
    "start_time": "2022-05-26T12:28:32.032Z"
   },
   {
    "duration": 17,
    "start_time": "2022-05-26T12:28:32.050Z"
   },
   {
    "duration": 53,
    "start_time": "2022-05-26T12:28:32.070Z"
   },
   {
    "duration": 599,
    "start_time": "2022-05-26T12:28:32.126Z"
   },
   {
    "duration": 172,
    "start_time": "2022-05-26T12:28:32.727Z"
   },
   {
    "duration": 18844,
    "start_time": "2022-05-26T12:28:32.901Z"
   },
   {
    "duration": 34,
    "start_time": "2022-05-26T12:28:51.751Z"
   },
   {
    "duration": 37,
    "start_time": "2022-05-26T12:28:51.787Z"
   },
   {
    "duration": 66,
    "start_time": "2022-05-26T12:28:51.827Z"
   },
   {
    "duration": 6,
    "start_time": "2022-05-26T12:28:51.895Z"
   },
   {
    "duration": 54,
    "start_time": "2022-05-26T12:28:51.902Z"
   },
   {
    "duration": 47,
    "start_time": "2022-05-26T12:28:51.958Z"
   },
   {
    "duration": 20,
    "start_time": "2022-05-26T12:28:52.008Z"
   },
   {
    "duration": 28,
    "start_time": "2022-05-26T12:28:52.030Z"
   },
   {
    "duration": 61,
    "start_time": "2022-05-26T12:28:52.060Z"
   },
   {
    "duration": 20,
    "start_time": "2022-05-26T12:28:52.123Z"
   },
   {
    "duration": 38,
    "start_time": "2022-05-26T12:28:52.145Z"
   },
   {
    "duration": 23,
    "start_time": "2022-05-26T12:28:52.186Z"
   },
   {
    "duration": 36,
    "start_time": "2022-05-26T12:28:52.211Z"
   },
   {
    "duration": 44,
    "start_time": "2022-05-26T12:28:52.248Z"
   },
   {
    "duration": 29,
    "start_time": "2022-05-26T12:28:52.294Z"
   },
   {
    "duration": 17,
    "start_time": "2022-05-26T12:28:52.326Z"
   },
   {
    "duration": 44,
    "start_time": "2022-05-26T12:28:52.345Z"
   },
   {
    "duration": 23,
    "start_time": "2022-05-26T12:28:52.391Z"
   },
   {
    "duration": 17,
    "start_time": "2022-05-26T12:28:52.416Z"
   },
   {
    "duration": 47,
    "start_time": "2022-05-26T12:28:52.435Z"
   },
   {
    "duration": 19,
    "start_time": "2022-05-26T12:28:52.484Z"
   },
   {
    "duration": 417,
    "start_time": "2022-05-26T12:28:52.505Z"
   },
   {
    "duration": 132,
    "start_time": "2022-05-26T12:28:52.923Z"
   },
   {
    "duration": 20,
    "start_time": "2022-05-26T12:28:53.059Z"
   },
   {
    "duration": 19,
    "start_time": "2022-05-26T12:28:53.080Z"
   },
   {
    "duration": 38,
    "start_time": "2022-05-26T12:28:53.102Z"
   },
   {
    "duration": 5,
    "start_time": "2022-05-26T12:28:53.142Z"
   },
   {
    "duration": 40,
    "start_time": "2022-05-26T12:28:53.154Z"
   },
   {
    "duration": 30,
    "start_time": "2022-05-26T12:28:53.196Z"
   },
   {
    "duration": 42,
    "start_time": "2022-05-26T12:28:53.229Z"
   },
   {
    "duration": 468,
    "start_time": "2022-05-26T12:28:53.272Z"
   },
   {
    "duration": 152,
    "start_time": "2022-05-26T12:28:53.742Z"
   },
   {
    "duration": 20,
    "start_time": "2022-05-26T12:28:53.897Z"
   },
   {
    "duration": 28,
    "start_time": "2022-05-26T12:28:53.920Z"
   },
   {
    "duration": 48,
    "start_time": "2022-05-26T12:28:53.959Z"
   },
   {
    "duration": 5,
    "start_time": "2022-05-26T12:28:54.009Z"
   },
   {
    "duration": 31,
    "start_time": "2022-05-26T12:28:54.016Z"
   },
   {
    "duration": 7,
    "start_time": "2022-05-26T12:28:54.050Z"
   },
   {
    "duration": 27,
    "start_time": "2022-05-26T12:28:54.061Z"
   },
   {
    "duration": 12,
    "start_time": "2022-05-26T12:28:54.091Z"
   },
   {
    "duration": 19,
    "start_time": "2022-05-26T12:28:54.105Z"
   },
   {
    "duration": 17,
    "start_time": "2022-05-26T12:28:54.126Z"
   },
   {
    "duration": 6,
    "start_time": "2022-05-26T12:28:54.146Z"
   },
   {
    "duration": 13,
    "start_time": "2022-05-26T12:28:54.154Z"
   },
   {
    "duration": 38,
    "start_time": "2022-05-26T12:28:54.168Z"
   },
   {
    "duration": 19,
    "start_time": "2022-05-26T12:28:54.208Z"
   },
   {
    "duration": 9,
    "start_time": "2022-05-26T12:28:54.229Z"
   },
   {
    "duration": 13,
    "start_time": "2022-05-26T12:28:54.240Z"
   },
   {
    "duration": 47,
    "start_time": "2022-05-26T12:28:54.255Z"
   },
   {
    "duration": 26,
    "start_time": "2022-05-26T12:28:54.304Z"
   },
   {
    "duration": 18,
    "start_time": "2022-05-26T12:28:54.332Z"
   },
   {
    "duration": 35,
    "start_time": "2022-05-26T12:28:54.352Z"
   },
   {
    "duration": 22,
    "start_time": "2022-05-26T12:28:54.388Z"
   },
   {
    "duration": 14,
    "start_time": "2022-05-26T12:28:54.412Z"
   },
   {
    "duration": 66,
    "start_time": "2022-05-26T12:28:54.428Z"
   },
   {
    "duration": 22,
    "start_time": "2022-05-26T12:28:54.497Z"
   },
   {
    "duration": 6,
    "start_time": "2022-05-26T12:28:54.521Z"
   },
   {
    "duration": 6,
    "start_time": "2022-05-26T12:28:54.530Z"
   },
   {
    "duration": 35,
    "start_time": "2022-05-26T12:28:54.538Z"
   },
   {
    "duration": 30,
    "start_time": "2022-05-26T12:28:54.581Z"
   },
   {
    "duration": 15,
    "start_time": "2022-05-26T12:28:54.614Z"
   },
   {
    "duration": 10,
    "start_time": "2022-05-26T12:28:54.633Z"
   },
   {
    "duration": 62,
    "start_time": "2022-05-26T12:28:54.646Z"
   },
   {
    "duration": 18,
    "start_time": "2022-05-26T12:28:54.711Z"
   },
   {
    "duration": 16,
    "start_time": "2022-05-26T12:28:54.731Z"
   },
   {
    "duration": 4,
    "start_time": "2022-05-26T12:28:54.749Z"
   },
   {
    "duration": 46,
    "start_time": "2022-05-26T12:28:54.755Z"
   },
   {
    "duration": 6,
    "start_time": "2022-05-26T12:28:54.804Z"
   },
   {
    "duration": 25,
    "start_time": "2022-05-26T12:28:54.812Z"
   },
   {
    "duration": 5,
    "start_time": "2022-05-26T12:28:54.840Z"
   },
   {
    "duration": 61,
    "start_time": "2022-05-26T12:28:54.847Z"
   },
   {
    "duration": 4,
    "start_time": "2022-05-26T12:28:54.910Z"
   },
   {
    "duration": 26,
    "start_time": "2022-05-26T12:28:54.916Z"
   },
   {
    "duration": 29,
    "start_time": "2022-05-26T12:28:54.945Z"
   },
   {
    "duration": 14,
    "start_time": "2022-05-26T12:28:54.976Z"
   },
   {
    "duration": 23,
    "start_time": "2022-05-26T12:28:54.992Z"
   },
   {
    "duration": 17,
    "start_time": "2022-05-26T12:28:55.017Z"
   },
   {
    "duration": 46,
    "start_time": "2022-05-26T12:28:55.036Z"
   },
   {
    "duration": 18,
    "start_time": "2022-05-26T12:28:55.084Z"
   },
   {
    "duration": 16,
    "start_time": "2022-05-26T12:28:55.104Z"
   },
   {
    "duration": 24,
    "start_time": "2022-05-26T12:28:55.121Z"
   },
   {
    "duration": 13,
    "start_time": "2022-05-26T12:28:55.147Z"
   },
   {
    "duration": 14,
    "start_time": "2022-05-26T12:28:55.166Z"
   },
   {
    "duration": 13,
    "start_time": "2022-05-26T12:28:55.181Z"
   },
   {
    "duration": 15,
    "start_time": "2022-05-26T12:28:55.196Z"
   },
   {
    "duration": 10,
    "start_time": "2022-05-26T12:28:55.214Z"
   },
   {
    "duration": 23,
    "start_time": "2022-05-26T12:28:55.226Z"
   },
   {
    "duration": 14,
    "start_time": "2022-05-26T12:28:55.253Z"
   },
   {
    "duration": 13,
    "start_time": "2022-05-26T12:28:55.275Z"
   },
   {
    "duration": 9,
    "start_time": "2022-05-26T12:28:55.289Z"
   },
   {
    "duration": 8,
    "start_time": "2022-05-26T12:28:55.300Z"
   },
   {
    "duration": 5,
    "start_time": "2022-05-26T12:28:55.310Z"
   },
   {
    "duration": 26,
    "start_time": "2022-05-26T12:28:55.316Z"
   },
   {
    "duration": 34,
    "start_time": "2022-05-26T12:28:55.343Z"
   },
   {
    "duration": 14,
    "start_time": "2022-05-26T12:28:55.378Z"
   },
   {
    "duration": 7,
    "start_time": "2022-05-26T12:28:55.393Z"
   },
   {
    "duration": 11,
    "start_time": "2022-05-26T12:28:55.402Z"
   },
   {
    "duration": 11,
    "start_time": "2022-05-26T12:28:55.415Z"
   },
   {
    "duration": 12,
    "start_time": "2022-05-26T12:28:55.428Z"
   },
   {
    "duration": 10,
    "start_time": "2022-05-26T12:28:55.442Z"
   },
   {
    "duration": 32,
    "start_time": "2022-05-26T12:28:55.454Z"
   },
   {
    "duration": 7,
    "start_time": "2022-05-26T12:28:55.489Z"
   },
   {
    "duration": 9,
    "start_time": "2022-05-26T12:28:55.498Z"
   },
   {
    "duration": 38,
    "start_time": "2022-05-26T12:28:55.508Z"
   },
   {
    "duration": 35,
    "start_time": "2022-05-26T12:28:55.548Z"
   },
   {
    "duration": 12,
    "start_time": "2022-05-26T12:28:55.587Z"
   },
   {
    "duration": 8,
    "start_time": "2022-05-26T12:28:55.601Z"
   },
   {
    "duration": 6,
    "start_time": "2022-05-26T12:28:55.611Z"
   },
   {
    "duration": 440,
    "start_time": "2022-05-26T12:28:55.623Z"
   },
   {
    "duration": 4,
    "start_time": "2022-05-26T12:28:56.065Z"
   },
   {
    "duration": 22,
    "start_time": "2022-05-26T12:28:56.077Z"
   },
   {
    "duration": 7,
    "start_time": "2022-05-26T12:28:56.101Z"
   },
   {
    "duration": 2921,
    "start_time": "2022-05-26T12:28:56.110Z"
   },
   {
    "duration": 4,
    "start_time": "2022-05-26T12:28:59.034Z"
   },
   {
    "duration": 6,
    "start_time": "2022-05-26T12:28:59.041Z"
   },
   {
    "duration": 11,
    "start_time": "2022-05-26T12:28:59.048Z"
   },
   {
    "duration": 16124,
    "start_time": "2022-05-26T12:28:59.065Z"
   },
   {
    "duration": 75,
    "start_time": "2022-05-26T12:29:15.191Z"
   },
   {
    "duration": 21,
    "start_time": "2022-05-26T12:29:15.270Z"
   },
   {
    "duration": 1392,
    "start_time": "2022-05-26T12:29:35.393Z"
   },
   {
    "duration": 3,
    "start_time": "2022-05-26T12:29:36.787Z"
   },
   {
    "duration": 223,
    "start_time": "2022-05-26T12:29:36.792Z"
   },
   {
    "duration": 16,
    "start_time": "2022-05-26T12:29:37.018Z"
   },
   {
    "duration": 16,
    "start_time": "2022-05-26T12:29:37.036Z"
   },
   {
    "duration": 23,
    "start_time": "2022-05-26T12:29:37.054Z"
   },
   {
    "duration": 17,
    "start_time": "2022-05-26T12:29:37.079Z"
   },
   {
    "duration": 14,
    "start_time": "2022-05-26T12:29:37.098Z"
   },
   {
    "duration": 23,
    "start_time": "2022-05-26T12:29:37.114Z"
   },
   {
    "duration": 26,
    "start_time": "2022-05-26T12:29:37.140Z"
   },
   {
    "duration": 456,
    "start_time": "2022-05-26T12:29:37.168Z"
   },
   {
    "duration": 188,
    "start_time": "2022-05-26T12:29:37.626Z"
   },
   {
    "duration": 18380,
    "start_time": "2022-05-26T12:29:37.817Z"
   },
   {
    "duration": 12,
    "start_time": "2022-05-26T12:29:56.198Z"
   },
   {
    "duration": 14,
    "start_time": "2022-05-26T12:29:56.212Z"
   },
   {
    "duration": 60,
    "start_time": "2022-05-26T12:29:56.227Z"
   },
   {
    "duration": 5,
    "start_time": "2022-05-26T12:29:56.289Z"
   },
   {
    "duration": 14,
    "start_time": "2022-05-26T12:29:56.295Z"
   },
   {
    "duration": 19,
    "start_time": "2022-05-26T12:29:56.311Z"
   },
   {
    "duration": 7,
    "start_time": "2022-05-26T12:29:56.332Z"
   },
   {
    "duration": 22,
    "start_time": "2022-05-26T12:29:56.341Z"
   },
   {
    "duration": 19,
    "start_time": "2022-05-26T12:29:56.364Z"
   },
   {
    "duration": 15,
    "start_time": "2022-05-26T12:29:56.384Z"
   },
   {
    "duration": 12,
    "start_time": "2022-05-26T12:29:56.401Z"
   },
   {
    "duration": 11,
    "start_time": "2022-05-26T12:29:56.415Z"
   },
   {
    "duration": 21,
    "start_time": "2022-05-26T12:29:56.428Z"
   },
   {
    "duration": 28,
    "start_time": "2022-05-26T12:29:56.450Z"
   },
   {
    "duration": 31,
    "start_time": "2022-05-26T12:29:56.482Z"
   },
   {
    "duration": 12,
    "start_time": "2022-05-26T12:29:56.514Z"
   },
   {
    "duration": 27,
    "start_time": "2022-05-26T12:29:56.527Z"
   },
   {
    "duration": 12,
    "start_time": "2022-05-26T12:29:56.555Z"
   },
   {
    "duration": 9,
    "start_time": "2022-05-26T12:29:56.576Z"
   },
   {
    "duration": 23,
    "start_time": "2022-05-26T12:29:56.586Z"
   },
   {
    "duration": 18,
    "start_time": "2022-05-26T12:29:56.611Z"
   },
   {
    "duration": 445,
    "start_time": "2022-05-26T12:29:56.631Z"
   },
   {
    "duration": 121,
    "start_time": "2022-05-26T12:29:57.077Z"
   },
   {
    "duration": 8,
    "start_time": "2022-05-26T12:29:57.199Z"
   },
   {
    "duration": 30,
    "start_time": "2022-05-26T12:29:57.209Z"
   },
   {
    "duration": 26,
    "start_time": "2022-05-26T12:29:57.241Z"
   },
   {
    "duration": 12,
    "start_time": "2022-05-26T12:29:57.268Z"
   },
   {
    "duration": 10,
    "start_time": "2022-05-26T12:29:57.282Z"
   },
   {
    "duration": 27,
    "start_time": "2022-05-26T12:29:57.293Z"
   },
   {
    "duration": 11,
    "start_time": "2022-05-26T12:29:57.322Z"
   },
   {
    "duration": 482,
    "start_time": "2022-05-26T12:29:57.334Z"
   },
   {
    "duration": 167,
    "start_time": "2022-05-26T12:29:57.818Z"
   },
   {
    "duration": 10,
    "start_time": "2022-05-26T12:29:57.987Z"
   },
   {
    "duration": 18,
    "start_time": "2022-05-26T12:29:57.999Z"
   },
   {
    "duration": 47,
    "start_time": "2022-05-26T12:29:58.020Z"
   },
   {
    "duration": 9,
    "start_time": "2022-05-26T12:29:58.069Z"
   },
   {
    "duration": 28,
    "start_time": "2022-05-26T12:29:58.079Z"
   },
   {
    "duration": 9,
    "start_time": "2022-05-26T12:29:58.111Z"
   },
   {
    "duration": 19,
    "start_time": "2022-05-26T12:29:58.122Z"
   },
   {
    "duration": 27,
    "start_time": "2022-05-26T12:29:58.143Z"
   },
   {
    "duration": 27,
    "start_time": "2022-05-26T12:29:58.172Z"
   },
   {
    "duration": 15,
    "start_time": "2022-05-26T12:29:58.202Z"
   },
   {
    "duration": 17,
    "start_time": "2022-05-26T12:29:58.219Z"
   },
   {
    "duration": 11,
    "start_time": "2022-05-26T12:29:58.238Z"
   },
   {
    "duration": 30,
    "start_time": "2022-05-26T12:29:58.250Z"
   },
   {
    "duration": 32,
    "start_time": "2022-05-26T12:29:58.282Z"
   },
   {
    "duration": 10,
    "start_time": "2022-05-26T12:29:58.316Z"
   },
   {
    "duration": 14,
    "start_time": "2022-05-26T12:29:58.327Z"
   },
   {
    "duration": 33,
    "start_time": "2022-05-26T12:29:58.343Z"
   },
   {
    "duration": 12,
    "start_time": "2022-05-26T12:29:58.379Z"
   },
   {
    "duration": 13,
    "start_time": "2022-05-26T12:29:58.393Z"
   },
   {
    "duration": 20,
    "start_time": "2022-05-26T12:29:58.407Z"
   },
   {
    "duration": 22,
    "start_time": "2022-05-26T12:29:58.428Z"
   },
   {
    "duration": 18,
    "start_time": "2022-05-26T12:29:58.461Z"
   },
   {
    "duration": 40,
    "start_time": "2022-05-26T12:29:58.482Z"
   },
   {
    "duration": 19,
    "start_time": "2022-05-26T12:29:58.524Z"
   },
   {
    "duration": 10,
    "start_time": "2022-05-26T12:29:58.561Z"
   },
   {
    "duration": 17,
    "start_time": "2022-05-26T12:29:58.573Z"
   },
   {
    "duration": 13,
    "start_time": "2022-05-26T12:29:58.592Z"
   },
   {
    "duration": 13,
    "start_time": "2022-05-26T12:29:58.607Z"
   },
   {
    "duration": 10,
    "start_time": "2022-05-26T12:29:58.622Z"
   },
   {
    "duration": 5,
    "start_time": "2022-05-26T12:29:58.633Z"
   },
   {
    "duration": 18,
    "start_time": "2022-05-26T12:29:58.640Z"
   },
   {
    "duration": 22,
    "start_time": "2022-05-26T12:29:58.659Z"
   },
   {
    "duration": 12,
    "start_time": "2022-05-26T12:29:58.683Z"
   },
   {
    "duration": 5,
    "start_time": "2022-05-26T12:29:58.696Z"
   },
   {
    "duration": 17,
    "start_time": "2022-05-26T12:29:58.703Z"
   },
   {
    "duration": 7,
    "start_time": "2022-05-26T12:29:58.722Z"
   },
   {
    "duration": 16,
    "start_time": "2022-05-26T12:29:58.736Z"
   },
   {
    "duration": 10,
    "start_time": "2022-05-26T12:29:58.754Z"
   },
   {
    "duration": 20,
    "start_time": "2022-05-26T12:29:58.771Z"
   },
   {
    "duration": 5,
    "start_time": "2022-05-26T12:29:58.793Z"
   },
   {
    "duration": 12,
    "start_time": "2022-05-26T12:29:58.800Z"
   },
   {
    "duration": 14,
    "start_time": "2022-05-26T12:29:58.814Z"
   },
   {
    "duration": 10,
    "start_time": "2022-05-26T12:29:58.829Z"
   },
   {
    "duration": 36,
    "start_time": "2022-05-26T12:29:58.840Z"
   },
   {
    "duration": 18,
    "start_time": "2022-05-26T12:29:58.877Z"
   },
   {
    "duration": 6,
    "start_time": "2022-05-26T12:29:58.897Z"
   },
   {
    "duration": 3,
    "start_time": "2022-05-26T12:29:58.905Z"
   },
   {
    "duration": 7,
    "start_time": "2022-05-26T12:29:58.910Z"
   },
   {
    "duration": 7,
    "start_time": "2022-05-26T12:29:58.919Z"
   },
   {
    "duration": 5,
    "start_time": "2022-05-26T12:29:58.928Z"
   },
   {
    "duration": 9,
    "start_time": "2022-05-26T12:29:58.962Z"
   },
   {
    "duration": 10,
    "start_time": "2022-05-26T12:29:58.973Z"
   },
   {
    "duration": 5,
    "start_time": "2022-05-26T12:29:58.985Z"
   },
   {
    "duration": 10,
    "start_time": "2022-05-26T12:29:58.992Z"
   },
   {
    "duration": 8,
    "start_time": "2022-05-26T12:29:59.003Z"
   },
   {
    "duration": 11,
    "start_time": "2022-05-26T12:29:59.013Z"
   },
   {
    "duration": 6,
    "start_time": "2022-05-26T12:29:59.026Z"
   },
   {
    "duration": 14,
    "start_time": "2022-05-26T12:29:59.033Z"
   },
   {
    "duration": 19,
    "start_time": "2022-05-26T12:29:59.049Z"
   },
   {
    "duration": 38,
    "start_time": "2022-05-26T12:29:59.069Z"
   },
   {
    "duration": 9,
    "start_time": "2022-05-26T12:29:59.109Z"
   },
   {
    "duration": 14,
    "start_time": "2022-05-26T12:29:59.119Z"
   },
   {
    "duration": 5,
    "start_time": "2022-05-26T12:29:59.134Z"
   },
   {
    "duration": 8,
    "start_time": "2022-05-26T12:29:59.140Z"
   },
   {
    "duration": 23,
    "start_time": "2022-05-26T12:29:59.149Z"
   },
   {
    "duration": 19,
    "start_time": "2022-05-26T12:29:59.174Z"
   },
   {
    "duration": 8,
    "start_time": "2022-05-26T12:29:59.195Z"
   },
   {
    "duration": 9,
    "start_time": "2022-05-26T12:29:59.205Z"
   },
   {
    "duration": 8,
    "start_time": "2022-05-26T12:29:59.215Z"
   },
   {
    "duration": 11,
    "start_time": "2022-05-26T12:29:59.224Z"
   },
   {
    "duration": 44,
    "start_time": "2022-05-26T12:29:59.236Z"
   },
   {
    "duration": 27,
    "start_time": "2022-05-26T12:29:59.282Z"
   },
   {
    "duration": 58,
    "start_time": "2022-05-26T12:29:59.310Z"
   },
   {
    "duration": 11,
    "start_time": "2022-05-26T12:29:59.371Z"
   },
   {
    "duration": 5,
    "start_time": "2022-05-26T12:29:59.384Z"
   },
   {
    "duration": 857,
    "start_time": "2022-05-26T12:29:59.391Z"
   },
   {
    "duration": 3,
    "start_time": "2022-05-26T12:30:00.250Z"
   },
   {
    "duration": 33,
    "start_time": "2022-05-26T12:30:00.259Z"
   },
   {
    "duration": 28,
    "start_time": "2022-05-26T12:30:00.293Z"
   },
   {
    "duration": 9135,
    "start_time": "2022-05-26T12:30:00.323Z"
   },
   {
    "duration": 6,
    "start_time": "2022-05-26T12:30:09.462Z"
   },
   {
    "duration": 12,
    "start_time": "2022-05-26T12:30:09.472Z"
   },
   {
    "duration": 8,
    "start_time": "2022-05-26T12:30:09.486Z"
   },
   {
    "duration": 228993,
    "start_time": "2022-05-26T12:30:09.495Z"
   },
   {
    "duration": 23,
    "start_time": "2022-05-26T12:33:58.562Z"
   },
   {
    "duration": 17,
    "start_time": "2022-05-26T12:33:58.587Z"
   },
   {
    "duration": 3,
    "start_time": "2022-05-26T12:34:46.782Z"
   },
   {
    "duration": 92016,
    "start_time": "2022-05-26T12:34:47.660Z"
   },
   {
    "duration": 0,
    "start_time": "2022-05-26T12:36:19.678Z"
   },
   {
    "duration": 0,
    "start_time": "2022-05-26T12:36:19.679Z"
   },
   {
    "duration": 6,
    "start_time": "2022-05-26T12:36:27.696Z"
   },
   {
    "duration": 594862,
    "start_time": "2022-05-26T12:36:28.181Z"
   },
   {
    "duration": 20,
    "start_time": "2022-05-26T12:46:23.045Z"
   },
   {
    "duration": 4,
    "start_time": "2022-05-26T12:46:23.072Z"
   },
   {
    "duration": 16,
    "start_time": "2022-05-26T12:46:23.078Z"
   },
   {
    "duration": 3,
    "start_time": "2022-05-26T12:46:38.431Z"
   },
   {
    "duration": 1239,
    "start_time": "2022-05-26T12:46:38.907Z"
   },
   {
    "duration": 7,
    "start_time": "2022-05-26T12:46:45.198Z"
   },
   {
    "duration": 4,
    "start_time": "2022-05-26T12:46:45.805Z"
   },
   {
    "duration": 3,
    "start_time": "2022-05-26T12:46:53.245Z"
   },
   {
    "duration": 885,
    "start_time": "2022-05-26T12:46:53.709Z"
   },
   {
    "duration": 4,
    "start_time": "2022-05-26T12:46:54.596Z"
   },
   {
    "duration": 4,
    "start_time": "2022-05-26T12:46:56.678Z"
   },
   {
    "duration": 3,
    "start_time": "2022-05-26T12:47:01.047Z"
   },
   {
    "duration": 1429,
    "start_time": "2022-05-26T12:47:01.510Z"
   },
   {
    "duration": 3,
    "start_time": "2022-05-26T12:47:02.940Z"
   },
   {
    "duration": 7,
    "start_time": "2022-05-26T12:47:02.945Z"
   },
   {
    "duration": 4,
    "start_time": "2022-05-26T12:47:08.067Z"
   },
   {
    "duration": 2104,
    "start_time": "2022-05-26T12:47:08.608Z"
   },
   {
    "duration": 4,
    "start_time": "2022-05-26T12:47:10.714Z"
   },
   {
    "duration": 4,
    "start_time": "2022-05-26T12:47:11.433Z"
   },
   {
    "duration": 3,
    "start_time": "2022-05-26T12:47:19.554Z"
   },
   {
    "duration": 1152,
    "start_time": "2022-05-26T12:47:20.020Z"
   },
   {
    "duration": 4,
    "start_time": "2022-05-26T12:47:21.954Z"
   },
   {
    "duration": 4,
    "start_time": "2022-05-26T12:47:22.786Z"
   },
   {
    "duration": 3,
    "start_time": "2022-05-26T12:47:27.080Z"
   },
   {
    "duration": 1016,
    "start_time": "2022-05-26T12:47:28.265Z"
   },
   {
    "duration": 13,
    "start_time": "2022-05-26T12:47:31.054Z"
   },
   {
    "duration": 5,
    "start_time": "2022-05-26T12:47:31.788Z"
   },
   {
    "duration": 3,
    "start_time": "2022-05-26T12:47:36.736Z"
   },
   {
    "duration": 1601,
    "start_time": "2022-05-26T12:47:37.308Z"
   },
   {
    "duration": 4,
    "start_time": "2022-05-26T12:47:38.910Z"
   },
   {
    "duration": 4,
    "start_time": "2022-05-26T12:47:39.989Z"
   },
   {
    "duration": 3,
    "start_time": "2022-05-26T12:47:44.802Z"
   },
   {
    "duration": 1888,
    "start_time": "2022-05-26T12:47:45.447Z"
   },
   {
    "duration": 4,
    "start_time": "2022-05-26T12:47:47.337Z"
   },
   {
    "duration": 28,
    "start_time": "2022-05-26T12:47:47.343Z"
   },
   {
    "duration": 2,
    "start_time": "2022-05-26T12:47:52.229Z"
   },
   {
    "duration": 2339,
    "start_time": "2022-05-26T12:47:52.851Z"
   },
   {
    "duration": 4,
    "start_time": "2022-05-26T12:47:56.193Z"
   },
   {
    "duration": 10,
    "start_time": "2022-05-26T12:47:56.957Z"
   },
   {
    "duration": 3,
    "start_time": "2022-05-26T12:48:03.483Z"
   },
   {
    "duration": 2966,
    "start_time": "2022-05-26T12:48:04.264Z"
   },
   {
    "duration": 3,
    "start_time": "2022-05-26T12:48:07.232Z"
   },
   {
    "duration": 5,
    "start_time": "2022-05-26T12:48:08.175Z"
   },
   {
    "duration": 2,
    "start_time": "2022-05-26T12:48:15.116Z"
   },
   {
    "duration": 24184,
    "start_time": "2022-05-26T12:48:15.953Z"
   },
   {
    "duration": 8,
    "start_time": "2022-05-26T12:48:42.394Z"
   },
   {
    "duration": 4,
    "start_time": "2022-05-26T12:48:43.269Z"
   },
   {
    "duration": 3,
    "start_time": "2022-05-26T12:49:00.234Z"
   },
   {
    "duration": 3,
    "start_time": "2022-05-26T12:49:08.410Z"
   },
   {
    "duration": 20350,
    "start_time": "2022-05-26T12:49:09.250Z"
   },
   {
    "duration": 12,
    "start_time": "2022-05-26T12:49:32.629Z"
   },
   {
    "duration": 4,
    "start_time": "2022-05-26T12:49:33.167Z"
   },
   {
    "duration": 4,
    "start_time": "2022-05-26T12:49:41.289Z"
   },
   {
    "duration": 51384,
    "start_time": "2022-05-26T12:49:41.821Z"
   },
   {
    "duration": 17,
    "start_time": "2022-05-26T12:50:33.207Z"
   },
   {
    "duration": 4,
    "start_time": "2022-05-26T12:50:33.225Z"
   },
   {
    "duration": 3,
    "start_time": "2022-05-26T12:51:04.872Z"
   },
   {
    "duration": 4,
    "start_time": "2022-05-26T12:51:05.975Z"
   },
   {
    "duration": 3,
    "start_time": "2022-05-26T12:51:07.396Z"
   },
   {
    "duration": 118468,
    "start_time": "2022-05-26T12:51:08.335Z"
   },
   {
    "duration": 3,
    "start_time": "2022-05-26T12:53:06.805Z"
   },
   {
    "duration": 69,
    "start_time": "2022-05-26T12:53:06.810Z"
   },
   {
    "duration": 3,
    "start_time": "2022-05-26T12:53:06.881Z"
   },
   {
    "duration": 49493,
    "start_time": "2022-05-26T12:53:06.886Z"
   },
   {
    "duration": 16,
    "start_time": "2022-05-26T12:53:56.381Z"
   },
   {
    "duration": 4,
    "start_time": "2022-05-26T12:53:56.399Z"
   },
   {
    "duration": 3,
    "start_time": "2022-05-26T13:00:51.242Z"
   },
   {
    "duration": 46084,
    "start_time": "2022-05-26T13:00:51.732Z"
   },
   {
    "duration": 19,
    "start_time": "2022-05-26T13:01:37.818Z"
   },
   {
    "duration": 28,
    "start_time": "2022-05-26T13:01:37.839Z"
   },
   {
    "duration": 3,
    "start_time": "2022-05-26T13:02:27.277Z"
   },
   {
    "duration": 49418,
    "start_time": "2022-05-26T13:02:28.164Z"
   },
   {
    "duration": 15,
    "start_time": "2022-05-26T13:03:17.585Z"
   },
   {
    "duration": 4,
    "start_time": "2022-05-26T13:03:17.601Z"
   },
   {
    "duration": 4,
    "start_time": "2022-05-26T13:21:43.492Z"
   },
   {
    "duration": 79200,
    "start_time": "2022-05-26T13:21:44.516Z"
   },
   {
    "duration": 30,
    "start_time": "2022-05-26T13:23:03.718Z"
   },
   {
    "duration": 4,
    "start_time": "2022-05-26T13:23:03.760Z"
   },
   {
    "duration": 3,
    "start_time": "2022-05-26T13:25:13.268Z"
   },
   {
    "duration": 79684,
    "start_time": "2022-05-26T13:25:13.830Z"
   },
   {
    "duration": 22,
    "start_time": "2022-05-26T13:26:33.516Z"
   },
   {
    "duration": 4,
    "start_time": "2022-05-26T13:26:33.540Z"
   },
   {
    "duration": 9,
    "start_time": "2022-05-26T13:26:33.560Z"
   },
   {
    "duration": 169104,
    "start_time": "2022-05-26T13:26:33.571Z"
   },
   {
    "duration": 90,
    "start_time": "2022-05-26T13:29:22.677Z"
   },
   {
    "duration": 4,
    "start_time": "2022-05-26T13:29:22.769Z"
   },
   {
    "duration": 2,
    "start_time": "2022-05-26T13:30:59.206Z"
   },
   {
    "duration": 103880,
    "start_time": "2022-05-26T13:30:59.733Z"
   },
   {
    "duration": 30,
    "start_time": "2022-05-26T13:32:43.614Z"
   },
   {
    "duration": 16,
    "start_time": "2022-05-26T13:32:43.646Z"
   },
   {
    "duration": 4,
    "start_time": "2022-05-26T13:42:56.914Z"
   },
   {
    "duration": 96194,
    "start_time": "2022-05-26T13:42:57.543Z"
   },
   {
    "duration": 63,
    "start_time": "2022-05-26T13:44:33.740Z"
   },
   {
    "duration": 5,
    "start_time": "2022-05-26T13:44:33.804Z"
   },
   {
    "duration": 3,
    "start_time": "2022-05-26T13:46:13.578Z"
   },
   {
    "duration": 56,
    "start_time": "2022-05-26T19:12:18.852Z"
   },
   {
    "duration": 7,
    "start_time": "2022-05-26T19:17:39.508Z"
   },
   {
    "duration": 1542,
    "start_time": "2022-05-26T19:17:50.352Z"
   },
   {
    "duration": 3,
    "start_time": "2022-05-26T19:17:51.896Z"
   },
   {
    "duration": 551,
    "start_time": "2022-05-26T19:17:51.900Z"
   },
   {
    "duration": 13,
    "start_time": "2022-05-26T19:17:52.454Z"
   },
   {
    "duration": 13,
    "start_time": "2022-05-26T19:17:52.469Z"
   },
   {
    "duration": 23,
    "start_time": "2022-05-26T19:17:52.484Z"
   },
   {
    "duration": 5,
    "start_time": "2022-05-26T19:17:52.509Z"
   },
   {
    "duration": 12,
    "start_time": "2022-05-26T19:17:52.516Z"
   },
   {
    "duration": 36,
    "start_time": "2022-05-26T19:17:52.530Z"
   },
   {
    "duration": 17,
    "start_time": "2022-05-26T19:17:52.569Z"
   },
   {
    "duration": 422,
    "start_time": "2022-05-26T19:17:52.588Z"
   },
   {
    "duration": 158,
    "start_time": "2022-05-26T19:17:53.012Z"
   },
   {
    "duration": 18165,
    "start_time": "2022-05-26T19:17:53.172Z"
   },
   {
    "duration": 10,
    "start_time": "2022-05-26T19:18:11.339Z"
   },
   {
    "duration": 58,
    "start_time": "2022-05-26T19:18:11.351Z"
   },
   {
    "duration": 110,
    "start_time": "2022-05-26T19:18:11.410Z"
   },
   {
    "duration": 4,
    "start_time": "2022-05-26T19:18:11.522Z"
   },
   {
    "duration": 65,
    "start_time": "2022-05-26T19:18:11.527Z"
   },
   {
    "duration": 39,
    "start_time": "2022-05-26T19:18:11.594Z"
   },
   {
    "duration": 39,
    "start_time": "2022-05-26T19:18:11.634Z"
   },
   {
    "duration": 45,
    "start_time": "2022-05-26T19:18:11.675Z"
   },
   {
    "duration": 33,
    "start_time": "2022-05-26T19:18:11.722Z"
   },
   {
    "duration": 41,
    "start_time": "2022-05-26T19:18:11.756Z"
   },
   {
    "duration": 69,
    "start_time": "2022-05-26T19:18:11.799Z"
   },
   {
    "duration": 34,
    "start_time": "2022-05-26T19:18:11.870Z"
   },
   {
    "duration": 60,
    "start_time": "2022-05-26T19:18:11.906Z"
   },
   {
    "duration": 25,
    "start_time": "2022-05-26T19:18:11.967Z"
   },
   {
    "duration": 26,
    "start_time": "2022-05-26T19:18:11.996Z"
   },
   {
    "duration": 28,
    "start_time": "2022-05-26T19:18:12.023Z"
   },
   {
    "duration": 47,
    "start_time": "2022-05-26T19:18:12.052Z"
   },
   {
    "duration": 13,
    "start_time": "2022-05-26T19:18:12.101Z"
   },
   {
    "duration": 47,
    "start_time": "2022-05-26T19:18:12.115Z"
   },
   {
    "duration": 23,
    "start_time": "2022-05-26T19:18:12.163Z"
   },
   {
    "duration": 42,
    "start_time": "2022-05-26T19:18:12.187Z"
   },
   {
    "duration": 448,
    "start_time": "2022-05-26T19:18:12.231Z"
   },
   {
    "duration": 130,
    "start_time": "2022-05-26T19:18:12.681Z"
   },
   {
    "duration": 8,
    "start_time": "2022-05-26T19:18:12.813Z"
   },
   {
    "duration": 26,
    "start_time": "2022-05-26T19:18:12.823Z"
   },
   {
    "duration": 38,
    "start_time": "2022-05-26T19:18:12.851Z"
   },
   {
    "duration": 18,
    "start_time": "2022-05-26T19:18:12.890Z"
   },
   {
    "duration": 22,
    "start_time": "2022-05-26T19:18:12.910Z"
   },
   {
    "duration": 40,
    "start_time": "2022-05-26T19:18:12.934Z"
   },
   {
    "duration": 29,
    "start_time": "2022-05-26T19:18:12.976Z"
   },
   {
    "duration": 404,
    "start_time": "2022-05-26T19:18:13.007Z"
   },
   {
    "duration": 121,
    "start_time": "2022-05-26T19:18:13.413Z"
   },
   {
    "duration": 9,
    "start_time": "2022-05-26T19:18:13.536Z"
   },
   {
    "duration": 25,
    "start_time": "2022-05-26T19:18:13.560Z"
   },
   {
    "duration": 45,
    "start_time": "2022-05-26T19:18:13.587Z"
   },
   {
    "duration": 12,
    "start_time": "2022-05-26T19:18:13.633Z"
   },
   {
    "duration": 30,
    "start_time": "2022-05-26T19:18:13.646Z"
   },
   {
    "duration": 26,
    "start_time": "2022-05-26T19:18:13.678Z"
   },
   {
    "duration": 39,
    "start_time": "2022-05-26T19:18:13.705Z"
   },
   {
    "duration": 35,
    "start_time": "2022-05-26T19:18:13.745Z"
   },
   {
    "duration": 58,
    "start_time": "2022-05-26T19:18:13.781Z"
   },
   {
    "duration": 39,
    "start_time": "2022-05-26T19:18:13.840Z"
   },
   {
    "duration": 28,
    "start_time": "2022-05-26T19:18:13.880Z"
   },
   {
    "duration": 39,
    "start_time": "2022-05-26T19:18:13.910Z"
   },
   {
    "duration": 35,
    "start_time": "2022-05-26T19:18:13.951Z"
   },
   {
    "duration": 54,
    "start_time": "2022-05-26T19:18:13.988Z"
   },
   {
    "duration": 20,
    "start_time": "2022-05-26T19:18:14.044Z"
   },
   {
    "duration": 31,
    "start_time": "2022-05-26T19:18:14.066Z"
   },
   {
    "duration": 25,
    "start_time": "2022-05-26T19:18:14.099Z"
   },
   {
    "duration": 26,
    "start_time": "2022-05-26T19:18:14.125Z"
   },
   {
    "duration": 28,
    "start_time": "2022-05-26T19:18:14.152Z"
   },
   {
    "duration": 39,
    "start_time": "2022-05-26T19:18:14.182Z"
   },
   {
    "duration": 29,
    "start_time": "2022-05-26T19:18:14.223Z"
   },
   {
    "duration": 30,
    "start_time": "2022-05-26T19:18:14.254Z"
   },
   {
    "duration": 53,
    "start_time": "2022-05-26T19:18:14.285Z"
   },
   {
    "duration": 23,
    "start_time": "2022-05-26T19:18:14.340Z"
   },
   {
    "duration": 26,
    "start_time": "2022-05-26T19:18:14.365Z"
   },
   {
    "duration": 19,
    "start_time": "2022-05-26T19:18:14.393Z"
   },
   {
    "duration": 32,
    "start_time": "2022-05-26T19:18:14.413Z"
   },
   {
    "duration": 33,
    "start_time": "2022-05-26T19:18:14.446Z"
   },
   {
    "duration": 29,
    "start_time": "2022-05-26T19:18:14.481Z"
   },
   {
    "duration": 27,
    "start_time": "2022-05-26T19:18:14.511Z"
   },
   {
    "duration": 35,
    "start_time": "2022-05-26T19:18:14.539Z"
   },
   {
    "duration": 20,
    "start_time": "2022-05-26T19:18:14.576Z"
   },
   {
    "duration": 32,
    "start_time": "2022-05-26T19:18:14.597Z"
   },
   {
    "duration": 30,
    "start_time": "2022-05-26T19:18:14.630Z"
   },
   {
    "duration": 39,
    "start_time": "2022-05-26T19:18:14.662Z"
   },
   {
    "duration": 45,
    "start_time": "2022-05-26T19:18:14.702Z"
   },
   {
    "duration": 24,
    "start_time": "2022-05-26T19:18:14.754Z"
   },
   {
    "duration": 9,
    "start_time": "2022-05-26T19:18:14.780Z"
   },
   {
    "duration": 37,
    "start_time": "2022-05-26T19:18:14.791Z"
   },
   {
    "duration": 34,
    "start_time": "2022-05-26T19:18:14.829Z"
   },
   {
    "duration": 29,
    "start_time": "2022-05-26T19:18:14.865Z"
   },
   {
    "duration": 36,
    "start_time": "2022-05-26T19:18:14.895Z"
   },
   {
    "duration": 22,
    "start_time": "2022-05-26T19:18:14.933Z"
   },
   {
    "duration": 36,
    "start_time": "2022-05-26T19:18:14.957Z"
   },
   {
    "duration": 34,
    "start_time": "2022-05-26T19:18:14.995Z"
   },
   {
    "duration": 22,
    "start_time": "2022-05-26T19:18:15.031Z"
   },
   {
    "duration": 28,
    "start_time": "2022-05-26T19:18:15.055Z"
   },
   {
    "duration": 54,
    "start_time": "2022-05-26T19:18:15.084Z"
   },
   {
    "duration": 18,
    "start_time": "2022-05-26T19:18:15.140Z"
   },
   {
    "duration": 21,
    "start_time": "2022-05-26T19:18:15.159Z"
   },
   {
    "duration": 19,
    "start_time": "2022-05-26T19:18:15.182Z"
   },
   {
    "duration": 17,
    "start_time": "2022-05-26T19:18:15.202Z"
   },
   {
    "duration": 55,
    "start_time": "2022-05-26T19:18:15.221Z"
   },
   {
    "duration": 10,
    "start_time": "2022-05-26T19:18:15.277Z"
   },
   {
    "duration": 21,
    "start_time": "2022-05-26T19:18:15.288Z"
   },
   {
    "duration": 21,
    "start_time": "2022-05-26T19:18:15.310Z"
   },
   {
    "duration": 25,
    "start_time": "2022-05-26T19:18:15.332Z"
   },
   {
    "duration": 42,
    "start_time": "2022-05-26T19:18:15.358Z"
   },
   {
    "duration": 27,
    "start_time": "2022-05-26T19:18:15.402Z"
   },
   {
    "duration": 19,
    "start_time": "2022-05-26T19:18:15.431Z"
   },
   {
    "duration": 27,
    "start_time": "2022-05-26T19:18:15.452Z"
   },
   {
    "duration": 19,
    "start_time": "2022-05-26T19:18:15.481Z"
   },
   {
    "duration": 64,
    "start_time": "2022-05-26T19:18:15.502Z"
   },
   {
    "duration": 94,
    "start_time": "2022-05-26T19:18:15.568Z"
   },
   {
    "duration": 3,
    "start_time": "2022-05-26T19:18:15.664Z"
   },
   {
    "duration": 14,
    "start_time": "2022-05-26T19:18:15.669Z"
   },
   {
    "duration": 23,
    "start_time": "2022-05-26T19:18:15.685Z"
   },
   {
    "duration": 127411,
    "start_time": "2022-05-26T19:18:15.710Z"
   },
   {
    "duration": 3,
    "start_time": "2022-05-26T19:20:23.123Z"
   },
   {
    "duration": 78,
    "start_time": "2022-05-26T19:20:23.128Z"
   },
   {
    "duration": 3,
    "start_time": "2022-05-26T19:20:23.208Z"
   },
   {
    "duration": 28431,
    "start_time": "2022-05-26T19:20:23.213Z"
   },
   {
    "duration": 21,
    "start_time": "2022-05-26T19:20:51.646Z"
   },
   {
    "duration": 9,
    "start_time": "2022-05-26T19:20:51.669Z"
   },
   {
    "duration": 7,
    "start_time": "2022-05-26T19:20:51.688Z"
   },
   {
    "duration": 77970,
    "start_time": "2022-05-26T19:20:51.698Z"
   },
   {
    "duration": 13,
    "start_time": "2022-05-26T19:22:09.670Z"
   },
   {
    "duration": 14,
    "start_time": "2022-05-26T19:22:09.762Z"
   },
   {
    "duration": 1361,
    "start_time": "2022-05-26T19:27:25.408Z"
   },
   {
    "duration": 3,
    "start_time": "2022-05-26T19:27:26.771Z"
   },
   {
    "duration": 192,
    "start_time": "2022-05-26T19:27:26.775Z"
   },
   {
    "duration": 11,
    "start_time": "2022-05-26T19:27:26.968Z"
   },
   {
    "duration": 12,
    "start_time": "2022-05-26T19:27:26.981Z"
   },
   {
    "duration": 17,
    "start_time": "2022-05-26T19:27:26.995Z"
   },
   {
    "duration": 5,
    "start_time": "2022-05-26T19:27:27.014Z"
   },
   {
    "duration": 41,
    "start_time": "2022-05-26T19:27:27.021Z"
   },
   {
    "duration": 11,
    "start_time": "2022-05-26T19:27:27.064Z"
   },
   {
    "duration": 15,
    "start_time": "2022-05-26T19:27:27.077Z"
   },
   {
    "duration": 416,
    "start_time": "2022-05-26T19:27:27.093Z"
   },
   {
    "duration": 155,
    "start_time": "2022-05-26T19:27:27.511Z"
   },
   {
    "duration": 17612,
    "start_time": "2022-05-26T19:27:27.668Z"
   },
   {
    "duration": 12,
    "start_time": "2022-05-26T19:27:45.283Z"
   },
   {
    "duration": 21,
    "start_time": "2022-05-26T19:27:45.297Z"
   },
   {
    "duration": 87,
    "start_time": "2022-05-26T19:27:45.321Z"
   },
   {
    "duration": 4,
    "start_time": "2022-05-26T19:27:45.410Z"
   },
   {
    "duration": 11,
    "start_time": "2022-05-26T19:27:45.416Z"
   },
   {
    "duration": 4,
    "start_time": "2022-05-26T19:27:45.429Z"
   },
   {
    "duration": 30,
    "start_time": "2022-05-26T19:27:45.434Z"
   },
   {
    "duration": 8,
    "start_time": "2022-05-26T19:27:45.466Z"
   },
   {
    "duration": 14,
    "start_time": "2022-05-26T19:27:45.475Z"
   },
   {
    "duration": 14,
    "start_time": "2022-05-26T19:27:45.490Z"
   },
   {
    "duration": 11,
    "start_time": "2022-05-26T19:27:45.505Z"
   },
   {
    "duration": 6,
    "start_time": "2022-05-26T19:27:45.518Z"
   },
   {
    "duration": 42,
    "start_time": "2022-05-26T19:27:45.525Z"
   },
   {
    "duration": 4,
    "start_time": "2022-05-26T19:27:45.569Z"
   },
   {
    "duration": 8,
    "start_time": "2022-05-26T19:27:45.575Z"
   },
   {
    "duration": 11,
    "start_time": "2022-05-26T19:27:45.585Z"
   },
   {
    "duration": 14,
    "start_time": "2022-05-26T19:27:45.598Z"
   },
   {
    "duration": 4,
    "start_time": "2022-05-26T19:27:45.614Z"
   },
   {
    "duration": 42,
    "start_time": "2022-05-26T19:27:45.619Z"
   },
   {
    "duration": 9,
    "start_time": "2022-05-26T19:27:45.663Z"
   },
   {
    "duration": 8,
    "start_time": "2022-05-26T19:27:45.673Z"
   },
   {
    "duration": 406,
    "start_time": "2022-05-26T19:27:45.683Z"
   },
   {
    "duration": 128,
    "start_time": "2022-05-26T19:27:46.091Z"
   },
   {
    "duration": 7,
    "start_time": "2022-05-26T19:27:46.221Z"
   },
   {
    "duration": 13,
    "start_time": "2022-05-26T19:27:46.230Z"
   },
   {
    "duration": 14,
    "start_time": "2022-05-26T19:27:46.259Z"
   },
   {
    "duration": 3,
    "start_time": "2022-05-26T19:27:46.275Z"
   },
   {
    "duration": 4,
    "start_time": "2022-05-26T19:27:46.284Z"
   },
   {
    "duration": 9,
    "start_time": "2022-05-26T19:27:46.289Z"
   },
   {
    "duration": 10,
    "start_time": "2022-05-26T19:27:46.299Z"
   },
   {
    "duration": 499,
    "start_time": "2022-05-26T19:27:46.311Z"
   },
   {
    "duration": 117,
    "start_time": "2022-05-26T19:27:46.812Z"
   },
   {
    "duration": 9,
    "start_time": "2022-05-26T19:27:46.931Z"
   },
   {
    "duration": 24,
    "start_time": "2022-05-26T19:27:46.942Z"
   },
   {
    "duration": 32,
    "start_time": "2022-05-26T19:27:46.968Z"
   },
   {
    "duration": 4,
    "start_time": "2022-05-26T19:27:47.001Z"
   },
   {
    "duration": 10,
    "start_time": "2022-05-26T19:27:47.007Z"
   },
   {
    "duration": 11,
    "start_time": "2022-05-26T19:27:47.018Z"
   },
   {
    "duration": 34,
    "start_time": "2022-05-26T19:27:47.031Z"
   },
   {
    "duration": 11,
    "start_time": "2022-05-26T19:27:47.066Z"
   },
   {
    "duration": 13,
    "start_time": "2022-05-26T19:27:47.078Z"
   },
   {
    "duration": 16,
    "start_time": "2022-05-26T19:27:47.093Z"
   },
   {
    "duration": 5,
    "start_time": "2022-05-26T19:27:47.112Z"
   },
   {
    "duration": 10,
    "start_time": "2022-05-26T19:27:47.119Z"
   },
   {
    "duration": 35,
    "start_time": "2022-05-26T19:27:47.131Z"
   },
   {
    "duration": 14,
    "start_time": "2022-05-26T19:27:47.169Z"
   },
   {
    "duration": 12,
    "start_time": "2022-05-26T19:27:47.185Z"
   },
   {
    "duration": 11,
    "start_time": "2022-05-26T19:27:47.198Z"
   },
   {
    "duration": 51,
    "start_time": "2022-05-26T19:27:47.210Z"
   },
   {
    "duration": 7,
    "start_time": "2022-05-26T19:27:47.263Z"
   },
   {
    "duration": 13,
    "start_time": "2022-05-26T19:27:47.271Z"
   },
   {
    "duration": 11,
    "start_time": "2022-05-26T19:27:47.285Z"
   },
   {
    "duration": 19,
    "start_time": "2022-05-26T19:27:47.297Z"
   },
   {
    "duration": 42,
    "start_time": "2022-05-26T19:27:47.317Z"
   },
   {
    "duration": 32,
    "start_time": "2022-05-26T19:27:47.361Z"
   },
   {
    "duration": 16,
    "start_time": "2022-05-26T19:27:47.395Z"
   },
   {
    "duration": 6,
    "start_time": "2022-05-26T19:27:47.413Z"
   },
   {
    "duration": 4,
    "start_time": "2022-05-26T19:27:47.420Z"
   },
   {
    "duration": 41,
    "start_time": "2022-05-26T19:27:47.425Z"
   },
   {
    "duration": 12,
    "start_time": "2022-05-26T19:27:47.467Z"
   },
   {
    "duration": 13,
    "start_time": "2022-05-26T19:27:47.480Z"
   },
   {
    "duration": 3,
    "start_time": "2022-05-26T19:27:47.495Z"
   },
   {
    "duration": 17,
    "start_time": "2022-05-26T19:27:47.499Z"
   },
   {
    "duration": 4,
    "start_time": "2022-05-26T19:27:47.518Z"
   },
   {
    "duration": 39,
    "start_time": "2022-05-26T19:27:47.523Z"
   },
   {
    "duration": 3,
    "start_time": "2022-05-26T19:27:47.564Z"
   },
   {
    "duration": 15,
    "start_time": "2022-05-26T19:27:47.568Z"
   },
   {
    "duration": 6,
    "start_time": "2022-05-26T19:27:47.584Z"
   },
   {
    "duration": 13,
    "start_time": "2022-05-26T19:27:47.591Z"
   },
   {
    "duration": 17,
    "start_time": "2022-05-26T19:27:47.606Z"
   },
   {
    "duration": 35,
    "start_time": "2022-05-26T19:27:47.625Z"
   },
   {
    "duration": 5,
    "start_time": "2022-05-26T19:27:47.662Z"
   },
   {
    "duration": 13,
    "start_time": "2022-05-26T19:27:47.668Z"
   },
   {
    "duration": 13,
    "start_time": "2022-05-26T19:27:47.683Z"
   },
   {
    "duration": 15,
    "start_time": "2022-05-26T19:27:47.697Z"
   },
   {
    "duration": 57,
    "start_time": "2022-05-26T19:27:47.715Z"
   },
   {
    "duration": 36,
    "start_time": "2022-05-26T19:27:47.774Z"
   },
   {
    "duration": 15,
    "start_time": "2022-05-26T19:27:47.813Z"
   },
   {
    "duration": 15,
    "start_time": "2022-05-26T19:27:47.831Z"
   },
   {
    "duration": 24,
    "start_time": "2022-05-26T19:27:47.849Z"
   },
   {
    "duration": 23,
    "start_time": "2022-05-26T19:27:47.875Z"
   },
   {
    "duration": 25,
    "start_time": "2022-05-26T19:27:47.900Z"
   },
   {
    "duration": 27,
    "start_time": "2022-05-26T19:27:47.927Z"
   },
   {
    "duration": 14,
    "start_time": "2022-05-26T19:27:47.956Z"
   },
   {
    "duration": 35,
    "start_time": "2022-05-26T19:27:47.973Z"
   },
   {
    "duration": 12,
    "start_time": "2022-05-26T19:27:48.010Z"
   },
   {
    "duration": 24,
    "start_time": "2022-05-26T19:27:48.023Z"
   },
   {
    "duration": 5,
    "start_time": "2022-05-26T19:27:48.048Z"
   },
   {
    "duration": 15,
    "start_time": "2022-05-26T19:27:48.059Z"
   },
   {
    "duration": 9,
    "start_time": "2022-05-26T19:27:48.076Z"
   },
   {
    "duration": 6,
    "start_time": "2022-05-26T19:27:48.086Z"
   },
   {
    "duration": 8,
    "start_time": "2022-05-26T19:27:48.093Z"
   },
   {
    "duration": 8,
    "start_time": "2022-05-26T19:27:48.102Z"
   },
   {
    "duration": 10,
    "start_time": "2022-05-26T19:27:48.112Z"
   },
   {
    "duration": 75,
    "start_time": "2022-05-26T19:27:48.125Z"
   },
   {
    "duration": 84,
    "start_time": "2022-05-26T19:27:48.202Z"
   },
   {
    "duration": 3,
    "start_time": "2022-05-26T19:27:48.287Z"
   },
   {
    "duration": 5,
    "start_time": "2022-05-26T19:27:48.292Z"
   },
   {
    "duration": 5,
    "start_time": "2022-05-26T19:27:48.298Z"
   },
   {
    "duration": 118367,
    "start_time": "2022-05-26T19:27:48.305Z"
   },
   {
    "duration": 4,
    "start_time": "2022-05-26T19:29:46.674Z"
   },
   {
    "duration": 29,
    "start_time": "2022-05-26T19:29:46.680Z"
   },
   {
    "duration": 2,
    "start_time": "2022-05-26T19:29:46.711Z"
   },
   {
    "duration": 27254,
    "start_time": "2022-05-26T19:29:46.715Z"
   },
   {
    "duration": 17,
    "start_time": "2022-05-26T19:30:13.971Z"
   },
   {
    "duration": 6,
    "start_time": "2022-05-26T19:30:13.990Z"
   },
   {
    "duration": 14,
    "start_time": "2022-05-26T19:30:13.997Z"
   },
   {
    "duration": 1526,
    "start_time": "2022-05-26T19:31:29.050Z"
   },
   {
    "duration": 3,
    "start_time": "2022-05-26T19:31:30.579Z"
   },
   {
    "duration": 222,
    "start_time": "2022-05-26T19:31:30.583Z"
   },
   {
    "duration": 12,
    "start_time": "2022-05-26T19:31:30.807Z"
   },
   {
    "duration": 39,
    "start_time": "2022-05-26T19:31:30.821Z"
   },
   {
    "duration": 31,
    "start_time": "2022-05-26T19:31:30.866Z"
   },
   {
    "duration": 15,
    "start_time": "2022-05-26T19:31:30.899Z"
   },
   {
    "duration": 33,
    "start_time": "2022-05-26T19:31:30.916Z"
   },
   {
    "duration": 43,
    "start_time": "2022-05-26T19:31:30.951Z"
   },
   {
    "duration": 30,
    "start_time": "2022-05-26T19:31:30.997Z"
   },
   {
    "duration": 455,
    "start_time": "2022-05-26T19:31:31.029Z"
   },
   {
    "duration": 221,
    "start_time": "2022-05-26T19:31:31.486Z"
   },
   {
    "duration": 18238,
    "start_time": "2022-05-26T19:31:31.709Z"
   },
   {
    "duration": 28,
    "start_time": "2022-05-26T19:31:49.949Z"
   },
   {
    "duration": 32,
    "start_time": "2022-05-26T19:31:49.979Z"
   },
   {
    "duration": 61,
    "start_time": "2022-05-26T19:31:50.012Z"
   },
   {
    "duration": 4,
    "start_time": "2022-05-26T19:31:50.075Z"
   },
   {
    "duration": 15,
    "start_time": "2022-05-26T19:31:50.080Z"
   },
   {
    "duration": 7,
    "start_time": "2022-05-26T19:31:50.097Z"
   },
   {
    "duration": 10,
    "start_time": "2022-05-26T19:31:50.105Z"
   },
   {
    "duration": 16,
    "start_time": "2022-05-26T19:31:50.116Z"
   },
   {
    "duration": 18,
    "start_time": "2022-05-26T19:31:50.133Z"
   },
   {
    "duration": 63,
    "start_time": "2022-05-26T19:31:50.153Z"
   },
   {
    "duration": 32,
    "start_time": "2022-05-26T19:31:50.218Z"
   },
   {
    "duration": 33,
    "start_time": "2022-05-26T19:31:50.252Z"
   },
   {
    "duration": 18,
    "start_time": "2022-05-26T19:31:50.286Z"
   },
   {
    "duration": 13,
    "start_time": "2022-05-26T19:31:50.305Z"
   },
   {
    "duration": 26,
    "start_time": "2022-05-26T19:31:50.322Z"
   },
   {
    "duration": 42,
    "start_time": "2022-05-26T19:31:50.350Z"
   },
   {
    "duration": 17,
    "start_time": "2022-05-26T19:31:50.394Z"
   },
   {
    "duration": 4,
    "start_time": "2022-05-26T19:31:50.413Z"
   },
   {
    "duration": 8,
    "start_time": "2022-05-26T19:31:50.418Z"
   },
   {
    "duration": 8,
    "start_time": "2022-05-26T19:31:50.428Z"
   },
   {
    "duration": 11,
    "start_time": "2022-05-26T19:31:50.437Z"
   },
   {
    "duration": 439,
    "start_time": "2022-05-26T19:31:50.450Z"
   },
   {
    "duration": 135,
    "start_time": "2022-05-26T19:31:50.891Z"
   },
   {
    "duration": 8,
    "start_time": "2022-05-26T19:31:51.028Z"
   },
   {
    "duration": 37,
    "start_time": "2022-05-26T19:31:51.037Z"
   },
   {
    "duration": 18,
    "start_time": "2022-05-26T19:31:51.075Z"
   },
   {
    "duration": 4,
    "start_time": "2022-05-26T19:31:51.094Z"
   },
   {
    "duration": 5,
    "start_time": "2022-05-26T19:31:51.099Z"
   },
   {
    "duration": 9,
    "start_time": "2022-05-26T19:31:51.106Z"
   },
   {
    "duration": 15,
    "start_time": "2022-05-26T19:31:51.116Z"
   },
   {
    "duration": 462,
    "start_time": "2022-05-26T19:31:51.132Z"
   },
   {
    "duration": 197,
    "start_time": "2022-05-26T19:31:51.596Z"
   },
   {
    "duration": 9,
    "start_time": "2022-05-26T19:31:51.795Z"
   },
   {
    "duration": 11,
    "start_time": "2022-05-26T19:31:51.806Z"
   },
   {
    "duration": 68,
    "start_time": "2022-05-26T19:31:51.819Z"
   },
   {
    "duration": 4,
    "start_time": "2022-05-26T19:31:51.889Z"
   },
   {
    "duration": 20,
    "start_time": "2022-05-26T19:31:51.895Z"
   },
   {
    "duration": 8,
    "start_time": "2022-05-26T19:31:51.917Z"
   },
   {
    "duration": 22,
    "start_time": "2022-05-26T19:31:51.926Z"
   },
   {
    "duration": 14,
    "start_time": "2022-05-26T19:31:51.950Z"
   },
   {
    "duration": 23,
    "start_time": "2022-05-26T19:31:51.969Z"
   },
   {
    "duration": 11,
    "start_time": "2022-05-26T19:31:51.994Z"
   },
   {
    "duration": 4,
    "start_time": "2022-05-26T19:31:52.007Z"
   },
   {
    "duration": 13,
    "start_time": "2022-05-26T19:31:52.013Z"
   },
   {
    "duration": 8,
    "start_time": "2022-05-26T19:31:52.028Z"
   },
   {
    "duration": 37,
    "start_time": "2022-05-26T19:31:52.038Z"
   },
   {
    "duration": 10,
    "start_time": "2022-05-26T19:31:52.077Z"
   },
   {
    "duration": 31,
    "start_time": "2022-05-26T19:31:52.089Z"
   },
   {
    "duration": 27,
    "start_time": "2022-05-26T19:31:52.123Z"
   },
   {
    "duration": 28,
    "start_time": "2022-05-26T19:31:52.152Z"
   },
   {
    "duration": 15,
    "start_time": "2022-05-26T19:31:52.182Z"
   },
   {
    "duration": 10,
    "start_time": "2022-05-26T19:31:52.199Z"
   },
   {
    "duration": 20,
    "start_time": "2022-05-26T19:31:52.212Z"
   },
   {
    "duration": 42,
    "start_time": "2022-05-26T19:31:52.233Z"
   },
   {
    "duration": 36,
    "start_time": "2022-05-26T19:31:52.277Z"
   },
   {
    "duration": 18,
    "start_time": "2022-05-26T19:31:52.315Z"
   },
   {
    "duration": 7,
    "start_time": "2022-05-26T19:31:52.335Z"
   },
   {
    "duration": 4,
    "start_time": "2022-05-26T19:31:52.343Z"
   },
   {
    "duration": 14,
    "start_time": "2022-05-26T19:31:52.360Z"
   },
   {
    "duration": 11,
    "start_time": "2022-05-26T19:31:52.376Z"
   },
   {
    "duration": 30,
    "start_time": "2022-05-26T19:31:52.390Z"
   },
   {
    "duration": 4,
    "start_time": "2022-05-26T19:31:52.422Z"
   },
   {
    "duration": 19,
    "start_time": "2022-05-26T19:31:52.428Z"
   },
   {
    "duration": 7,
    "start_time": "2022-05-26T19:31:52.449Z"
   },
   {
    "duration": 24,
    "start_time": "2022-05-26T19:31:52.461Z"
   },
   {
    "duration": 4,
    "start_time": "2022-05-26T19:31:52.486Z"
   },
   {
    "duration": 15,
    "start_time": "2022-05-26T19:31:52.491Z"
   },
   {
    "duration": 9,
    "start_time": "2022-05-26T19:31:52.507Z"
   },
   {
    "duration": 11,
    "start_time": "2022-05-26T19:31:52.523Z"
   },
   {
    "duration": 3,
    "start_time": "2022-05-26T19:31:52.536Z"
   },
   {
    "duration": 21,
    "start_time": "2022-05-26T19:31:52.563Z"
   },
   {
    "duration": 6,
    "start_time": "2022-05-26T19:31:52.586Z"
   },
   {
    "duration": 10,
    "start_time": "2022-05-26T19:31:52.594Z"
   },
   {
    "duration": 14,
    "start_time": "2022-05-26T19:31:52.606Z"
   },
   {
    "duration": 11,
    "start_time": "2022-05-26T19:31:52.622Z"
   },
   {
    "duration": 23,
    "start_time": "2022-05-26T19:31:52.661Z"
   },
   {
    "duration": 20,
    "start_time": "2022-05-26T19:31:52.686Z"
   },
   {
    "duration": 14,
    "start_time": "2022-05-26T19:31:52.708Z"
   },
   {
    "duration": 180,
    "start_time": "2022-05-26T19:31:52.724Z"
   },
   {
    "duration": 0,
    "start_time": "2022-05-26T19:31:52.906Z"
   },
   {
    "duration": 0,
    "start_time": "2022-05-26T19:31:52.907Z"
   },
   {
    "duration": 0,
    "start_time": "2022-05-26T19:31:52.908Z"
   },
   {
    "duration": 0,
    "start_time": "2022-05-26T19:31:52.909Z"
   },
   {
    "duration": 0,
    "start_time": "2022-05-26T19:31:52.911Z"
   },
   {
    "duration": 0,
    "start_time": "2022-05-26T19:31:52.913Z"
   },
   {
    "duration": 0,
    "start_time": "2022-05-26T19:31:52.914Z"
   },
   {
    "duration": 0,
    "start_time": "2022-05-26T19:31:52.915Z"
   },
   {
    "duration": 0,
    "start_time": "2022-05-26T19:31:52.916Z"
   },
   {
    "duration": 0,
    "start_time": "2022-05-26T19:31:52.917Z"
   },
   {
    "duration": 0,
    "start_time": "2022-05-26T19:31:52.918Z"
   },
   {
    "duration": 0,
    "start_time": "2022-05-26T19:31:52.919Z"
   },
   {
    "duration": 0,
    "start_time": "2022-05-26T19:31:52.920Z"
   },
   {
    "duration": 0,
    "start_time": "2022-05-26T19:31:52.921Z"
   },
   {
    "duration": 0,
    "start_time": "2022-05-26T19:31:52.922Z"
   },
   {
    "duration": 0,
    "start_time": "2022-05-26T19:31:52.923Z"
   },
   {
    "duration": 0,
    "start_time": "2022-05-26T19:31:52.924Z"
   },
   {
    "duration": 0,
    "start_time": "2022-05-26T19:31:52.959Z"
   },
   {
    "duration": 0,
    "start_time": "2022-05-26T19:31:52.960Z"
   },
   {
    "duration": 0,
    "start_time": "2022-05-26T19:31:52.961Z"
   },
   {
    "duration": 0,
    "start_time": "2022-05-26T19:31:52.961Z"
   },
   {
    "duration": 0,
    "start_time": "2022-05-26T19:31:52.962Z"
   },
   {
    "duration": 0,
    "start_time": "2022-05-26T19:31:52.963Z"
   },
   {
    "duration": 0,
    "start_time": "2022-05-26T19:31:52.964Z"
   },
   {
    "duration": 0,
    "start_time": "2022-05-26T19:31:52.964Z"
   },
   {
    "duration": 0,
    "start_time": "2022-05-26T19:31:52.967Z"
   },
   {
    "duration": 0,
    "start_time": "2022-05-26T19:31:52.967Z"
   },
   {
    "duration": 0,
    "start_time": "2022-05-26T19:31:52.968Z"
   },
   {
    "duration": 0,
    "start_time": "2022-05-26T19:31:52.969Z"
   },
   {
    "duration": 0,
    "start_time": "2022-05-26T19:31:52.970Z"
   },
   {
    "duration": 0,
    "start_time": "2022-05-26T19:31:52.971Z"
   },
   {
    "duration": 1514,
    "start_time": "2022-05-26T19:34:29.756Z"
   },
   {
    "duration": 4,
    "start_time": "2022-05-26T19:34:31.277Z"
   },
   {
    "duration": 224,
    "start_time": "2022-05-26T19:34:31.283Z"
   },
   {
    "duration": 12,
    "start_time": "2022-05-26T19:34:31.511Z"
   },
   {
    "duration": 18,
    "start_time": "2022-05-26T19:34:31.525Z"
   },
   {
    "duration": 25,
    "start_time": "2022-05-26T19:34:31.545Z"
   },
   {
    "duration": 13,
    "start_time": "2022-05-26T19:34:31.572Z"
   },
   {
    "duration": 9,
    "start_time": "2022-05-26T19:34:31.586Z"
   },
   {
    "duration": 54,
    "start_time": "2022-05-26T19:34:31.596Z"
   },
   {
    "duration": 57,
    "start_time": "2022-05-26T19:34:31.652Z"
   },
   {
    "duration": 492,
    "start_time": "2022-05-26T19:34:31.712Z"
   },
   {
    "duration": 190,
    "start_time": "2022-05-26T19:34:32.206Z"
   },
   {
    "duration": 19110,
    "start_time": "2022-05-26T19:34:32.397Z"
   },
   {
    "duration": 14,
    "start_time": "2022-05-26T19:34:51.508Z"
   },
   {
    "duration": 19,
    "start_time": "2022-05-26T19:34:51.524Z"
   },
   {
    "duration": 87,
    "start_time": "2022-05-26T19:34:51.546Z"
   },
   {
    "duration": 5,
    "start_time": "2022-05-26T19:34:51.635Z"
   },
   {
    "duration": 14,
    "start_time": "2022-05-26T19:34:51.641Z"
   },
   {
    "duration": 39,
    "start_time": "2022-05-26T19:34:51.657Z"
   },
   {
    "duration": 11,
    "start_time": "2022-05-26T19:34:51.698Z"
   },
   {
    "duration": 25,
    "start_time": "2022-05-26T19:34:51.711Z"
   },
   {
    "duration": 39,
    "start_time": "2022-05-26T19:34:51.740Z"
   },
   {
    "duration": 29,
    "start_time": "2022-05-26T19:34:51.781Z"
   },
   {
    "duration": 29,
    "start_time": "2022-05-26T19:34:51.812Z"
   },
   {
    "duration": 19,
    "start_time": "2022-05-26T19:34:51.843Z"
   },
   {
    "duration": 41,
    "start_time": "2022-05-26T19:34:51.867Z"
   },
   {
    "duration": 13,
    "start_time": "2022-05-26T19:34:51.910Z"
   },
   {
    "duration": 9,
    "start_time": "2022-05-26T19:34:51.927Z"
   },
   {
    "duration": 37,
    "start_time": "2022-05-26T19:34:51.938Z"
   },
   {
    "duration": 26,
    "start_time": "2022-05-26T19:34:51.978Z"
   },
   {
    "duration": 6,
    "start_time": "2022-05-26T19:34:52.006Z"
   },
   {
    "duration": 12,
    "start_time": "2022-05-26T19:34:52.014Z"
   },
   {
    "duration": 23,
    "start_time": "2022-05-26T19:34:52.028Z"
   },
   {
    "duration": 15,
    "start_time": "2022-05-26T19:34:52.053Z"
   },
   {
    "duration": 463,
    "start_time": "2022-05-26T19:34:52.071Z"
   },
   {
    "duration": 170,
    "start_time": "2022-05-26T19:34:52.536Z"
   },
   {
    "duration": 8,
    "start_time": "2022-05-26T19:34:52.708Z"
   },
   {
    "duration": 25,
    "start_time": "2022-05-26T19:34:52.718Z"
   },
   {
    "duration": 33,
    "start_time": "2022-05-26T19:34:52.744Z"
   },
   {
    "duration": 11,
    "start_time": "2022-05-26T19:34:52.779Z"
   },
   {
    "duration": 15,
    "start_time": "2022-05-26T19:34:52.792Z"
   },
   {
    "duration": 28,
    "start_time": "2022-05-26T19:34:52.809Z"
   },
   {
    "duration": 25,
    "start_time": "2022-05-26T19:34:52.839Z"
   },
   {
    "duration": 482,
    "start_time": "2022-05-26T19:34:52.867Z"
   },
   {
    "duration": 139,
    "start_time": "2022-05-26T19:34:53.351Z"
   },
   {
    "duration": 10,
    "start_time": "2022-05-26T19:34:53.492Z"
   },
   {
    "duration": 91,
    "start_time": "2022-05-26T19:34:53.504Z"
   },
   {
    "duration": 35,
    "start_time": "2022-05-26T19:34:53.597Z"
   },
   {
    "duration": 5,
    "start_time": "2022-05-26T19:34:53.634Z"
   },
   {
    "duration": 40,
    "start_time": "2022-05-26T19:34:53.641Z"
   },
   {
    "duration": 28,
    "start_time": "2022-05-26T19:34:53.683Z"
   },
   {
    "duration": 11,
    "start_time": "2022-05-26T19:34:53.713Z"
   },
   {
    "duration": 23,
    "start_time": "2022-05-26T19:34:53.726Z"
   },
   {
    "duration": 18,
    "start_time": "2022-05-26T19:34:53.750Z"
   },
   {
    "duration": 35,
    "start_time": "2022-05-26T19:34:53.770Z"
   },
   {
    "duration": 7,
    "start_time": "2022-05-26T19:34:53.807Z"
   },
   {
    "duration": 20,
    "start_time": "2022-05-26T19:34:53.816Z"
   },
   {
    "duration": 8,
    "start_time": "2022-05-26T19:34:53.838Z"
   },
   {
    "duration": 49,
    "start_time": "2022-05-26T19:34:53.848Z"
   },
   {
    "duration": 55,
    "start_time": "2022-05-26T19:34:53.898Z"
   },
   {
    "duration": 28,
    "start_time": "2022-05-26T19:34:53.955Z"
   },
   {
    "duration": 26,
    "start_time": "2022-05-26T19:34:53.986Z"
   },
   {
    "duration": 11,
    "start_time": "2022-05-26T19:34:54.013Z"
   },
   {
    "duration": 25,
    "start_time": "2022-05-26T19:34:54.026Z"
   },
   {
    "duration": 39,
    "start_time": "2022-05-26T19:34:54.052Z"
   },
   {
    "duration": 23,
    "start_time": "2022-05-26T19:34:54.092Z"
   },
   {
    "duration": 15,
    "start_time": "2022-05-26T19:34:54.117Z"
   },
   {
    "duration": 51,
    "start_time": "2022-05-26T19:34:54.133Z"
   },
   {
    "duration": 24,
    "start_time": "2022-05-26T19:34:54.186Z"
   },
   {
    "duration": 7,
    "start_time": "2022-05-26T19:34:54.211Z"
   },
   {
    "duration": 10,
    "start_time": "2022-05-26T19:34:54.220Z"
   },
   {
    "duration": 12,
    "start_time": "2022-05-26T19:34:54.232Z"
   },
   {
    "duration": 15,
    "start_time": "2022-05-26T19:34:54.246Z"
   },
   {
    "duration": 28,
    "start_time": "2022-05-26T19:34:54.262Z"
   },
   {
    "duration": 4,
    "start_time": "2022-05-26T19:34:54.293Z"
   },
   {
    "duration": 17,
    "start_time": "2022-05-26T19:34:54.300Z"
   },
   {
    "duration": 7,
    "start_time": "2022-05-26T19:34:54.319Z"
   },
   {
    "duration": 11,
    "start_time": "2022-05-26T19:34:54.328Z"
   },
   {
    "duration": 6,
    "start_time": "2022-05-26T19:34:54.341Z"
   },
   {
    "duration": 43,
    "start_time": "2022-05-26T19:34:54.349Z"
   },
   {
    "duration": 6,
    "start_time": "2022-05-26T19:34:54.394Z"
   },
   {
    "duration": 10,
    "start_time": "2022-05-26T19:34:54.409Z"
   },
   {
    "duration": 5,
    "start_time": "2022-05-26T19:34:54.421Z"
   },
   {
    "duration": 21,
    "start_time": "2022-05-26T19:34:54.428Z"
   },
   {
    "duration": 21,
    "start_time": "2022-05-26T19:34:54.450Z"
   },
   {
    "duration": 14,
    "start_time": "2022-05-26T19:34:54.476Z"
   },
   {
    "duration": 18,
    "start_time": "2022-05-26T19:34:54.491Z"
   },
   {
    "duration": 11,
    "start_time": "2022-05-26T19:34:54.511Z"
   },
   {
    "duration": 19,
    "start_time": "2022-05-26T19:34:54.523Z"
   },
   {
    "duration": 26,
    "start_time": "2022-05-26T19:34:54.543Z"
   },
   {
    "duration": 8,
    "start_time": "2022-05-26T19:34:54.581Z"
   },
   {
    "duration": 5,
    "start_time": "2022-05-26T19:34:54.590Z"
   },
   {
    "duration": 5,
    "start_time": "2022-05-26T19:34:54.596Z"
   },
   {
    "duration": 14,
    "start_time": "2022-05-26T19:34:54.603Z"
   },
   {
    "duration": 12,
    "start_time": "2022-05-26T19:34:54.618Z"
   },
   {
    "duration": 8,
    "start_time": "2022-05-26T19:34:54.632Z"
   },
   {
    "duration": 26,
    "start_time": "2022-05-26T19:34:54.642Z"
   },
   {
    "duration": 43,
    "start_time": "2022-05-26T19:34:54.669Z"
   },
   {
    "duration": 10,
    "start_time": "2022-05-26T19:34:54.714Z"
   },
   {
    "duration": 20,
    "start_time": "2022-05-26T19:34:54.726Z"
   },
   {
    "duration": 5,
    "start_time": "2022-05-26T19:34:54.748Z"
   },
   {
    "duration": 32,
    "start_time": "2022-05-26T19:34:54.754Z"
   },
   {
    "duration": 12,
    "start_time": "2022-05-26T19:34:54.788Z"
   },
   {
    "duration": 10,
    "start_time": "2022-05-26T19:34:54.803Z"
   },
   {
    "duration": 13,
    "start_time": "2022-05-26T19:34:54.814Z"
   },
   {
    "duration": 9,
    "start_time": "2022-05-26T19:34:54.828Z"
   },
   {
    "duration": 10,
    "start_time": "2022-05-26T19:34:54.838Z"
   },
   {
    "duration": 64,
    "start_time": "2022-05-26T19:34:54.850Z"
   },
   {
    "duration": 75,
    "start_time": "2022-05-26T19:34:54.915Z"
   },
   {
    "duration": 6,
    "start_time": "2022-05-26T19:34:54.992Z"
   },
   {
    "duration": 8,
    "start_time": "2022-05-26T19:34:54.999Z"
   },
   {
    "duration": 12,
    "start_time": "2022-05-26T19:34:55.009Z"
   },
   {
    "duration": 130097,
    "start_time": "2022-05-26T19:34:55.023Z"
   },
   {
    "duration": 3,
    "start_time": "2022-05-26T19:37:05.122Z"
   },
   {
    "duration": 78,
    "start_time": "2022-05-26T19:37:05.126Z"
   },
   {
    "duration": 3,
    "start_time": "2022-05-26T19:37:05.206Z"
   },
   {
    "duration": 33059,
    "start_time": "2022-05-26T19:37:05.211Z"
   },
   {
    "duration": 17,
    "start_time": "2022-05-26T19:37:38.274Z"
   },
   {
    "duration": 21,
    "start_time": "2022-05-26T19:37:38.296Z"
   },
   {
    "duration": 12,
    "start_time": "2022-05-26T19:37:38.321Z"
   },
   {
    "duration": 186756,
    "start_time": "2022-05-26T19:37:38.335Z"
   },
   {
    "duration": 88,
    "start_time": "2022-05-26T19:40:45.094Z"
   },
   {
    "duration": 7,
    "start_time": "2022-05-26T19:40:45.187Z"
   },
   {
    "duration": 16,
    "start_time": "2022-05-26T19:40:45.200Z"
   },
   {
    "duration": 13,
    "start_time": "2022-05-26T19:44:01.576Z"
   },
   {
    "duration": 15,
    "start_time": "2022-05-26T19:44:05.893Z"
   },
   {
    "duration": 5,
    "start_time": "2022-05-26T19:45:17.144Z"
   },
   {
    "duration": 21,
    "start_time": "2022-05-26T19:45:25.591Z"
   },
   {
    "duration": 1404,
    "start_time": "2022-05-26T19:45:47.841Z"
   },
   {
    "duration": 3,
    "start_time": "2022-05-26T19:45:49.246Z"
   },
   {
    "duration": 199,
    "start_time": "2022-05-26T19:45:49.250Z"
   },
   {
    "duration": 22,
    "start_time": "2022-05-26T19:45:49.451Z"
   },
   {
    "duration": 19,
    "start_time": "2022-05-26T19:45:49.477Z"
   },
   {
    "duration": 24,
    "start_time": "2022-05-26T19:45:49.498Z"
   },
   {
    "duration": 4,
    "start_time": "2022-05-26T19:45:49.524Z"
   },
   {
    "duration": 4,
    "start_time": "2022-05-26T19:45:49.531Z"
   },
   {
    "duration": 39,
    "start_time": "2022-05-26T19:45:49.536Z"
   },
   {
    "duration": 16,
    "start_time": "2022-05-26T19:45:49.577Z"
   },
   {
    "duration": 425,
    "start_time": "2022-05-26T19:45:49.594Z"
   },
   {
    "duration": 214,
    "start_time": "2022-05-26T19:45:50.021Z"
   },
   {
    "duration": 19024,
    "start_time": "2022-05-26T19:45:50.237Z"
   },
   {
    "duration": 13,
    "start_time": "2022-05-26T19:46:09.271Z"
   },
   {
    "duration": 20,
    "start_time": "2022-05-26T19:46:09.285Z"
   },
   {
    "duration": 76,
    "start_time": "2022-05-26T19:46:09.306Z"
   },
   {
    "duration": 3,
    "start_time": "2022-05-26T19:46:09.384Z"
   },
   {
    "duration": 41,
    "start_time": "2022-05-26T19:46:09.389Z"
   },
   {
    "duration": 12,
    "start_time": "2022-05-26T19:46:09.432Z"
   },
   {
    "duration": 14,
    "start_time": "2022-05-26T19:46:09.445Z"
   },
   {
    "duration": 43,
    "start_time": "2022-05-26T19:46:09.460Z"
   },
   {
    "duration": 21,
    "start_time": "2022-05-26T19:46:09.504Z"
   },
   {
    "duration": 35,
    "start_time": "2022-05-26T19:46:09.527Z"
   },
   {
    "duration": 30,
    "start_time": "2022-05-26T19:46:09.567Z"
   },
   {
    "duration": 15,
    "start_time": "2022-05-26T19:46:09.599Z"
   },
   {
    "duration": 27,
    "start_time": "2022-05-26T19:46:09.616Z"
   },
   {
    "duration": 30,
    "start_time": "2022-05-26T19:46:09.644Z"
   },
   {
    "duration": 24,
    "start_time": "2022-05-26T19:46:09.676Z"
   },
   {
    "duration": 23,
    "start_time": "2022-05-26T19:46:09.702Z"
   },
   {
    "duration": 44,
    "start_time": "2022-05-26T19:46:09.726Z"
   },
   {
    "duration": 22,
    "start_time": "2022-05-26T19:46:09.772Z"
   },
   {
    "duration": 25,
    "start_time": "2022-05-26T19:46:09.796Z"
   },
   {
    "duration": 33,
    "start_time": "2022-05-26T19:46:09.823Z"
   },
   {
    "duration": 36,
    "start_time": "2022-05-26T19:46:09.857Z"
   },
   {
    "duration": 440,
    "start_time": "2022-05-26T19:46:09.895Z"
   },
   {
    "duration": 141,
    "start_time": "2022-05-26T19:46:10.337Z"
   },
   {
    "duration": 8,
    "start_time": "2022-05-26T19:46:10.480Z"
   },
   {
    "duration": 13,
    "start_time": "2022-05-26T19:46:10.490Z"
   },
   {
    "duration": 20,
    "start_time": "2022-05-26T19:46:10.504Z"
   },
   {
    "duration": 5,
    "start_time": "2022-05-26T19:46:10.526Z"
   },
   {
    "duration": 3,
    "start_time": "2022-05-26T19:46:10.559Z"
   },
   {
    "duration": 17,
    "start_time": "2022-05-26T19:46:10.564Z"
   },
   {
    "duration": 10,
    "start_time": "2022-05-26T19:46:10.583Z"
   },
   {
    "duration": 400,
    "start_time": "2022-05-26T19:46:10.595Z"
   },
   {
    "duration": 122,
    "start_time": "2022-05-26T19:46:10.997Z"
   },
   {
    "duration": 8,
    "start_time": "2022-05-26T19:46:11.121Z"
   },
   {
    "duration": 12,
    "start_time": "2022-05-26T19:46:11.131Z"
   },
   {
    "duration": 52,
    "start_time": "2022-05-26T19:46:11.145Z"
   },
   {
    "duration": 4,
    "start_time": "2022-05-26T19:46:11.198Z"
   },
   {
    "duration": 13,
    "start_time": "2022-05-26T19:46:11.204Z"
   },
   {
    "duration": 9,
    "start_time": "2022-05-26T19:46:11.219Z"
   },
   {
    "duration": 8,
    "start_time": "2022-05-26T19:46:11.230Z"
   },
   {
    "duration": 50,
    "start_time": "2022-05-26T19:46:11.239Z"
   },
   {
    "duration": 20,
    "start_time": "2022-05-26T19:46:11.292Z"
   },
   {
    "duration": 14,
    "start_time": "2022-05-26T19:46:11.315Z"
   },
   {
    "duration": 8,
    "start_time": "2022-05-26T19:46:11.331Z"
   },
   {
    "duration": 21,
    "start_time": "2022-05-26T19:46:11.341Z"
   },
   {
    "duration": 22,
    "start_time": "2022-05-26T19:46:11.364Z"
   },
   {
    "duration": 10,
    "start_time": "2022-05-26T19:46:11.387Z"
   },
   {
    "duration": 31,
    "start_time": "2022-05-26T19:46:11.399Z"
   },
   {
    "duration": 35,
    "start_time": "2022-05-26T19:46:11.431Z"
   },
   {
    "duration": 41,
    "start_time": "2022-05-26T19:46:11.469Z"
   },
   {
    "duration": 69,
    "start_time": "2022-05-26T19:46:11.512Z"
   },
   {
    "duration": 41,
    "start_time": "2022-05-26T19:46:11.582Z"
   },
   {
    "duration": 38,
    "start_time": "2022-05-26T19:46:11.625Z"
   },
   {
    "duration": 30,
    "start_time": "2022-05-26T19:46:11.667Z"
   },
   {
    "duration": 19,
    "start_time": "2022-05-26T19:46:11.699Z"
   },
   {
    "duration": 85,
    "start_time": "2022-05-26T19:46:11.720Z"
   },
   {
    "duration": 19,
    "start_time": "2022-05-26T19:46:11.807Z"
   },
   {
    "duration": 77,
    "start_time": "2022-05-26T19:46:11.828Z"
   },
   {
    "duration": 43,
    "start_time": "2022-05-26T19:46:11.908Z"
   },
   {
    "duration": 11,
    "start_time": "2022-05-26T19:46:11.953Z"
   },
   {
    "duration": 3,
    "start_time": "2022-05-26T19:46:11.965Z"
   },
   {
    "duration": 31,
    "start_time": "2022-05-26T19:46:11.971Z"
   },
   {
    "duration": 26,
    "start_time": "2022-05-26T19:46:12.004Z"
   },
   {
    "duration": 16,
    "start_time": "2022-05-26T19:46:12.032Z"
   },
   {
    "duration": 29,
    "start_time": "2022-05-26T19:46:12.050Z"
   },
   {
    "duration": 38,
    "start_time": "2022-05-26T19:46:12.081Z"
   },
   {
    "duration": 20,
    "start_time": "2022-05-26T19:46:12.121Z"
   },
   {
    "duration": 30,
    "start_time": "2022-05-26T19:46:12.143Z"
   },
   {
    "duration": 28,
    "start_time": "2022-05-26T19:46:12.175Z"
   },
   {
    "duration": 35,
    "start_time": "2022-05-26T19:46:12.205Z"
   },
   {
    "duration": 15,
    "start_time": "2022-05-26T19:46:12.243Z"
   },
   {
    "duration": 46,
    "start_time": "2022-05-26T19:46:12.261Z"
   },
   {
    "duration": 16,
    "start_time": "2022-05-26T19:46:12.309Z"
   },
   {
    "duration": 42,
    "start_time": "2022-05-26T19:46:12.328Z"
   },
   {
    "duration": 15,
    "start_time": "2022-05-26T19:46:12.371Z"
   },
   {
    "duration": 22,
    "start_time": "2022-05-26T19:46:12.388Z"
   },
   {
    "duration": 40,
    "start_time": "2022-05-26T19:46:12.412Z"
   },
   {
    "duration": 41,
    "start_time": "2022-05-26T19:46:12.453Z"
   },
   {
    "duration": 41,
    "start_time": "2022-05-26T19:46:12.496Z"
   },
   {
    "duration": 31,
    "start_time": "2022-05-26T19:46:12.539Z"
   },
   {
    "duration": 37,
    "start_time": "2022-05-26T19:46:12.571Z"
   },
   {
    "duration": 25,
    "start_time": "2022-05-26T19:46:12.609Z"
   },
   {
    "duration": 34,
    "start_time": "2022-05-26T19:46:12.636Z"
   },
   {
    "duration": 27,
    "start_time": "2022-05-26T19:46:12.671Z"
   },
   {
    "duration": 26,
    "start_time": "2022-05-26T19:46:12.700Z"
   },
   {
    "duration": 41,
    "start_time": "2022-05-26T19:46:12.728Z"
   },
   {
    "duration": 14,
    "start_time": "2022-05-26T19:46:12.770Z"
   },
   {
    "duration": 48,
    "start_time": "2022-05-26T19:46:12.786Z"
   },
   {
    "duration": 12,
    "start_time": "2022-05-26T19:46:12.836Z"
   },
   {
    "duration": 30,
    "start_time": "2022-05-26T19:46:12.850Z"
   },
   {
    "duration": 12,
    "start_time": "2022-05-26T19:46:12.881Z"
   },
   {
    "duration": 34,
    "start_time": "2022-05-26T19:46:12.895Z"
   },
   {
    "duration": 50,
    "start_time": "2022-05-26T19:46:12.930Z"
   },
   {
    "duration": 27,
    "start_time": "2022-05-26T19:46:12.981Z"
   },
   {
    "duration": 23,
    "start_time": "2022-05-26T19:46:13.010Z"
   },
   {
    "duration": 43,
    "start_time": "2022-05-26T19:46:13.035Z"
   },
   {
    "duration": 33,
    "start_time": "2022-05-26T19:46:13.080Z"
   },
   {
    "duration": 24,
    "start_time": "2022-05-26T19:46:13.115Z"
   },
   {
    "duration": 76,
    "start_time": "2022-05-26T19:46:13.140Z"
   },
   {
    "duration": 67,
    "start_time": "2022-05-26T19:46:13.218Z"
   },
   {
    "duration": 3,
    "start_time": "2022-05-26T19:46:13.286Z"
   },
   {
    "duration": 71,
    "start_time": "2022-05-26T19:46:13.291Z"
   },
   {
    "duration": 26,
    "start_time": "2022-05-26T19:46:13.367Z"
   },
   {
    "duration": 128730,
    "start_time": "2022-05-26T19:46:13.395Z"
   },
   {
    "duration": 4,
    "start_time": "2022-05-26T19:48:22.127Z"
   },
   {
    "duration": 74,
    "start_time": "2022-05-26T19:48:22.132Z"
   },
   {
    "duration": 3,
    "start_time": "2022-05-26T19:48:22.208Z"
   },
   {
    "duration": 33554,
    "start_time": "2022-05-26T19:48:22.212Z"
   },
   {
    "duration": 12,
    "start_time": "2022-05-26T19:48:55.768Z"
   },
   {
    "duration": 6,
    "start_time": "2022-05-26T19:48:55.786Z"
   },
   {
    "duration": 9,
    "start_time": "2022-05-26T19:48:55.794Z"
   },
   {
    "duration": 1341,
    "start_time": "2022-05-26T19:50:50.326Z"
   },
   {
    "duration": 8,
    "start_time": "2022-05-26T19:50:51.676Z"
   },
   {
    "duration": 281,
    "start_time": "2022-05-26T19:50:51.685Z"
   },
   {
    "duration": 17,
    "start_time": "2022-05-26T19:50:51.972Z"
   },
   {
    "duration": 30,
    "start_time": "2022-05-26T19:50:51.991Z"
   },
   {
    "duration": 21,
    "start_time": "2022-05-26T19:50:52.023Z"
   },
   {
    "duration": 12,
    "start_time": "2022-05-26T19:50:52.045Z"
   },
   {
    "duration": 32,
    "start_time": "2022-05-26T19:50:52.060Z"
   },
   {
    "duration": 23,
    "start_time": "2022-05-26T19:50:52.094Z"
   },
   {
    "duration": 29,
    "start_time": "2022-05-26T19:50:52.120Z"
   },
   {
    "duration": 465,
    "start_time": "2022-05-26T19:50:52.151Z"
   },
   {
    "duration": 185,
    "start_time": "2022-05-26T19:50:52.618Z"
   },
   {
    "duration": 17938,
    "start_time": "2022-05-26T19:50:52.805Z"
   },
   {
    "duration": 30,
    "start_time": "2022-05-26T19:51:10.744Z"
   },
   {
    "duration": 37,
    "start_time": "2022-05-26T19:51:10.776Z"
   },
   {
    "duration": 47,
    "start_time": "2022-05-26T19:51:10.816Z"
   },
   {
    "duration": 4,
    "start_time": "2022-05-26T19:51:10.865Z"
   },
   {
    "duration": 16,
    "start_time": "2022-05-26T19:51:10.871Z"
   },
   {
    "duration": 9,
    "start_time": "2022-05-26T19:51:10.889Z"
   },
   {
    "duration": 10,
    "start_time": "2022-05-26T19:51:10.900Z"
   },
   {
    "duration": 10,
    "start_time": "2022-05-26T19:51:10.912Z"
   },
   {
    "duration": 42,
    "start_time": "2022-05-26T19:51:10.924Z"
   },
   {
    "duration": 22,
    "start_time": "2022-05-26T19:51:10.970Z"
   },
   {
    "duration": 12,
    "start_time": "2022-05-26T19:51:10.994Z"
   },
   {
    "duration": 4,
    "start_time": "2022-05-26T19:51:11.007Z"
   },
   {
    "duration": 13,
    "start_time": "2022-05-26T19:51:11.013Z"
   },
   {
    "duration": 4,
    "start_time": "2022-05-26T19:51:11.027Z"
   },
   {
    "duration": 27,
    "start_time": "2022-05-26T19:51:11.035Z"
   },
   {
    "duration": 29,
    "start_time": "2022-05-26T19:51:11.064Z"
   },
   {
    "duration": 19,
    "start_time": "2022-05-26T19:51:11.095Z"
   },
   {
    "duration": 4,
    "start_time": "2022-05-26T19:51:11.116Z"
   },
   {
    "duration": 6,
    "start_time": "2022-05-26T19:51:11.122Z"
   },
   {
    "duration": 21,
    "start_time": "2022-05-26T19:51:11.130Z"
   },
   {
    "duration": 41,
    "start_time": "2022-05-26T19:51:11.153Z"
   },
   {
    "duration": 395,
    "start_time": "2022-05-26T19:51:11.195Z"
   },
   {
    "duration": 146,
    "start_time": "2022-05-26T19:51:11.592Z"
   },
   {
    "duration": 9,
    "start_time": "2022-05-26T19:51:11.740Z"
   },
   {
    "duration": 31,
    "start_time": "2022-05-26T19:51:11.762Z"
   },
   {
    "duration": 36,
    "start_time": "2022-05-26T19:51:11.795Z"
   },
   {
    "duration": 13,
    "start_time": "2022-05-26T19:51:11.833Z"
   },
   {
    "duration": 43,
    "start_time": "2022-05-26T19:51:11.848Z"
   },
   {
    "duration": 23,
    "start_time": "2022-05-26T19:51:11.893Z"
   },
   {
    "duration": 14,
    "start_time": "2022-05-26T19:51:11.918Z"
   },
   {
    "duration": 491,
    "start_time": "2022-05-26T19:51:11.933Z"
   },
   {
    "duration": 123,
    "start_time": "2022-05-26T19:51:12.425Z"
   },
   {
    "duration": 16,
    "start_time": "2022-05-26T19:51:12.550Z"
   },
   {
    "duration": 38,
    "start_time": "2022-05-26T19:51:12.568Z"
   },
   {
    "duration": 47,
    "start_time": "2022-05-26T19:51:12.608Z"
   },
   {
    "duration": 14,
    "start_time": "2022-05-26T19:51:12.657Z"
   },
   {
    "duration": 28,
    "start_time": "2022-05-26T19:51:12.673Z"
   },
   {
    "duration": 17,
    "start_time": "2022-05-26T19:51:12.703Z"
   },
   {
    "duration": 11,
    "start_time": "2022-05-26T19:51:12.722Z"
   },
   {
    "duration": 23,
    "start_time": "2022-05-26T19:51:12.734Z"
   },
   {
    "duration": 38,
    "start_time": "2022-05-26T19:51:12.763Z"
   },
   {
    "duration": 39,
    "start_time": "2022-05-26T19:51:12.803Z"
   },
   {
    "duration": 17,
    "start_time": "2022-05-26T19:51:12.844Z"
   },
   {
    "duration": 64,
    "start_time": "2022-05-26T19:51:12.863Z"
   },
   {
    "duration": 15,
    "start_time": "2022-05-26T19:51:12.929Z"
   },
   {
    "duration": 18,
    "start_time": "2022-05-26T19:51:12.946Z"
   },
   {
    "duration": 34,
    "start_time": "2022-05-26T19:51:12.965Z"
   },
   {
    "duration": 27,
    "start_time": "2022-05-26T19:51:13.001Z"
   },
   {
    "duration": 40,
    "start_time": "2022-05-26T19:51:13.030Z"
   },
   {
    "duration": 37,
    "start_time": "2022-05-26T19:51:13.080Z"
   },
   {
    "duration": 20,
    "start_time": "2022-05-26T19:51:13.119Z"
   },
   {
    "duration": 45,
    "start_time": "2022-05-26T19:51:13.141Z"
   },
   {
    "duration": 28,
    "start_time": "2022-05-26T19:51:13.187Z"
   },
   {
    "duration": 33,
    "start_time": "2022-05-26T19:51:13.217Z"
   },
   {
    "duration": 54,
    "start_time": "2022-05-26T19:51:13.252Z"
   },
   {
    "duration": 23,
    "start_time": "2022-05-26T19:51:13.308Z"
   },
   {
    "duration": 70,
    "start_time": "2022-05-26T19:51:13.334Z"
   },
   {
    "duration": 21,
    "start_time": "2022-05-26T19:51:13.406Z"
   },
   {
    "duration": 24,
    "start_time": "2022-05-26T19:51:13.429Z"
   },
   {
    "duration": 54,
    "start_time": "2022-05-26T19:51:13.455Z"
   },
   {
    "duration": 23,
    "start_time": "2022-05-26T19:51:13.512Z"
   },
   {
    "duration": 10,
    "start_time": "2022-05-26T19:51:13.537Z"
   },
   {
    "duration": 51,
    "start_time": "2022-05-26T19:51:13.549Z"
   },
   {
    "duration": 13,
    "start_time": "2022-05-26T19:51:13.603Z"
   },
   {
    "duration": 23,
    "start_time": "2022-05-26T19:51:13.617Z"
   },
   {
    "duration": 19,
    "start_time": "2022-05-26T19:51:13.642Z"
   },
   {
    "duration": 61,
    "start_time": "2022-05-26T19:51:13.665Z"
   },
   {
    "duration": 36,
    "start_time": "2022-05-26T19:51:13.728Z"
   },
   {
    "duration": 43,
    "start_time": "2022-05-26T19:51:13.772Z"
   },
   {
    "duration": 23,
    "start_time": "2022-05-26T19:51:13.817Z"
   },
   {
    "duration": 63,
    "start_time": "2022-05-26T19:51:13.842Z"
   },
   {
    "duration": 26,
    "start_time": "2022-05-26T19:51:13.907Z"
   },
   {
    "duration": 61,
    "start_time": "2022-05-26T19:51:13.935Z"
   },
   {
    "duration": 37,
    "start_time": "2022-05-26T19:51:13.997Z"
   },
   {
    "duration": 13,
    "start_time": "2022-05-26T19:51:14.035Z"
   },
   {
    "duration": 73,
    "start_time": "2022-05-26T19:51:14.050Z"
   },
   {
    "duration": 43,
    "start_time": "2022-05-26T19:51:14.124Z"
   },
   {
    "duration": 33,
    "start_time": "2022-05-26T19:51:14.168Z"
   },
   {
    "duration": 12,
    "start_time": "2022-05-26T19:51:14.203Z"
   },
   {
    "duration": 21,
    "start_time": "2022-05-26T19:51:14.216Z"
   },
   {
    "duration": 45,
    "start_time": "2022-05-26T19:51:14.239Z"
   },
   {
    "duration": 17,
    "start_time": "2022-05-26T19:51:14.286Z"
   },
   {
    "duration": 13,
    "start_time": "2022-05-26T19:51:14.304Z"
   },
   {
    "duration": 19,
    "start_time": "2022-05-26T19:51:14.318Z"
   },
   {
    "duration": 32,
    "start_time": "2022-05-26T19:51:14.339Z"
   },
   {
    "duration": 13,
    "start_time": "2022-05-26T19:51:14.373Z"
   },
   {
    "duration": 12,
    "start_time": "2022-05-26T19:51:14.388Z"
   },
   {
    "duration": 14,
    "start_time": "2022-05-26T19:51:14.402Z"
   },
   {
    "duration": 18,
    "start_time": "2022-05-26T19:51:14.417Z"
   },
   {
    "duration": 18,
    "start_time": "2022-05-26T19:51:14.437Z"
   },
   {
    "duration": 25,
    "start_time": "2022-05-26T19:51:14.457Z"
   },
   {
    "duration": 5,
    "start_time": "2022-05-26T19:51:14.484Z"
   },
   {
    "duration": 7,
    "start_time": "2022-05-26T19:51:14.490Z"
   },
   {
    "duration": 7,
    "start_time": "2022-05-26T19:51:14.498Z"
   },
   {
    "duration": 9,
    "start_time": "2022-05-26T19:51:14.506Z"
   },
   {
    "duration": 66,
    "start_time": "2022-05-26T19:51:14.516Z"
   },
   {
    "duration": 79,
    "start_time": "2022-05-26T19:51:14.584Z"
   },
   {
    "duration": 4,
    "start_time": "2022-05-26T19:51:14.664Z"
   },
   {
    "duration": 20,
    "start_time": "2022-05-26T19:51:14.669Z"
   },
   {
    "duration": 5,
    "start_time": "2022-05-26T19:51:14.690Z"
   },
   {
    "duration": 127777,
    "start_time": "2022-05-26T19:51:14.697Z"
   },
   {
    "duration": 6,
    "start_time": "2022-05-26T19:53:22.475Z"
   },
   {
    "duration": 55,
    "start_time": "2022-05-26T19:53:22.488Z"
   },
   {
    "duration": 2,
    "start_time": "2022-05-26T19:53:22.545Z"
   },
   {
    "duration": 32973,
    "start_time": "2022-05-26T19:53:22.549Z"
   },
   {
    "duration": 10,
    "start_time": "2022-05-26T19:53:55.523Z"
   },
   {
    "duration": 3,
    "start_time": "2022-05-26T19:53:55.535Z"
   },
   {
    "duration": 7,
    "start_time": "2022-05-26T19:53:55.540Z"
   },
   {
    "duration": 49433,
    "start_time": "2022-05-26T19:53:55.548Z"
   },
   {
    "duration": 0,
    "start_time": "2022-05-26T19:54:44.983Z"
   },
   {
    "duration": 0,
    "start_time": "2022-05-26T19:54:44.984Z"
   },
   {
    "duration": 0,
    "start_time": "2022-05-26T19:54:44.986Z"
   },
   {
    "duration": 0,
    "start_time": "2022-05-26T19:54:44.988Z"
   },
   {
    "duration": 0,
    "start_time": "2022-05-26T19:54:44.989Z"
   },
   {
    "duration": 0,
    "start_time": "2022-05-26T19:54:44.990Z"
   },
   {
    "duration": 3,
    "start_time": "2022-05-26T19:54:46.943Z"
   },
   {
    "duration": 1929,
    "start_time": "2022-05-26T19:54:47.177Z"
   },
   {
    "duration": 4,
    "start_time": "2022-05-26T19:54:49.109Z"
   },
   {
    "duration": 14,
    "start_time": "2022-05-26T19:54:49.114Z"
   },
   {
    "duration": 2,
    "start_time": "2022-05-26T19:55:02.613Z"
   },
   {
    "duration": 7530,
    "start_time": "2022-05-26T19:55:02.774Z"
   },
   {
    "duration": 0,
    "start_time": "2022-05-26T19:55:10.306Z"
   },
   {
    "duration": 0,
    "start_time": "2022-05-26T19:55:10.307Z"
   },
   {
    "duration": 3,
    "start_time": "2022-05-26T19:55:15.277Z"
   },
   {
    "duration": 33945,
    "start_time": "2022-05-26T19:55:15.570Z"
   },
   {
    "duration": 10,
    "start_time": "2022-05-26T19:55:49.518Z"
   },
   {
    "duration": 7,
    "start_time": "2022-05-26T19:55:49.529Z"
   },
   {
    "duration": 16,
    "start_time": "2022-05-26T20:12:59.658Z"
   },
   {
    "duration": 19,
    "start_time": "2022-05-26T20:13:05.041Z"
   },
   {
    "duration": 9,
    "start_time": "2022-05-26T20:13:53.446Z"
   },
   {
    "duration": 22,
    "start_time": "2022-05-26T20:13:54.085Z"
   },
   {
    "duration": 1561,
    "start_time": "2022-05-26T20:14:17.586Z"
   },
   {
    "duration": 3,
    "start_time": "2022-05-26T20:14:19.149Z"
   },
   {
    "duration": 280,
    "start_time": "2022-05-26T20:14:19.153Z"
   },
   {
    "duration": 11,
    "start_time": "2022-05-26T20:14:19.436Z"
   },
   {
    "duration": 60,
    "start_time": "2022-05-26T20:14:19.449Z"
   },
   {
    "duration": 33,
    "start_time": "2022-05-26T20:14:19.511Z"
   },
   {
    "duration": 6,
    "start_time": "2022-05-26T20:14:19.546Z"
   },
   {
    "duration": 63,
    "start_time": "2022-05-26T20:14:19.553Z"
   },
   {
    "duration": 20,
    "start_time": "2022-05-26T20:14:19.618Z"
   },
   {
    "duration": 45,
    "start_time": "2022-05-26T20:14:19.642Z"
   },
   {
    "duration": 501,
    "start_time": "2022-05-26T20:14:19.688Z"
   },
   {
    "duration": 214,
    "start_time": "2022-05-26T20:14:20.191Z"
   },
   {
    "duration": 20315,
    "start_time": "2022-05-26T20:14:20.406Z"
   },
   {
    "duration": 11,
    "start_time": "2022-05-26T20:14:40.723Z"
   },
   {
    "duration": 39,
    "start_time": "2022-05-26T20:14:40.736Z"
   },
   {
    "duration": 71,
    "start_time": "2022-05-26T20:14:40.777Z"
   },
   {
    "duration": 4,
    "start_time": "2022-05-26T20:14:40.850Z"
   },
   {
    "duration": 50,
    "start_time": "2022-05-26T20:14:40.856Z"
   },
   {
    "duration": 15,
    "start_time": "2022-05-26T20:14:40.908Z"
   },
   {
    "duration": 26,
    "start_time": "2022-05-26T20:14:40.926Z"
   },
   {
    "duration": 30,
    "start_time": "2022-05-26T20:14:40.955Z"
   },
   {
    "duration": 47,
    "start_time": "2022-05-26T20:14:40.988Z"
   },
   {
    "duration": 32,
    "start_time": "2022-05-26T20:14:41.037Z"
   },
   {
    "duration": 35,
    "start_time": "2022-05-26T20:14:41.080Z"
   },
   {
    "duration": 11,
    "start_time": "2022-05-26T20:14:41.117Z"
   },
   {
    "duration": 33,
    "start_time": "2022-05-26T20:14:41.130Z"
   },
   {
    "duration": 50,
    "start_time": "2022-05-26T20:14:41.166Z"
   },
   {
    "duration": 19,
    "start_time": "2022-05-26T20:14:41.220Z"
   },
   {
    "duration": 28,
    "start_time": "2022-05-26T20:14:41.241Z"
   },
   {
    "duration": 38,
    "start_time": "2022-05-26T20:14:41.273Z"
   },
   {
    "duration": 4,
    "start_time": "2022-05-26T20:14:41.313Z"
   },
   {
    "duration": 4,
    "start_time": "2022-05-26T20:14:41.319Z"
   },
   {
    "duration": 9,
    "start_time": "2022-05-26T20:14:41.325Z"
   },
   {
    "duration": 8,
    "start_time": "2022-05-26T20:14:41.336Z"
   },
   {
    "duration": 536,
    "start_time": "2022-05-26T20:14:41.346Z"
   },
   {
    "duration": 159,
    "start_time": "2022-05-26T20:14:41.884Z"
   },
   {
    "duration": 10,
    "start_time": "2022-05-26T20:14:42.045Z"
   },
   {
    "duration": 45,
    "start_time": "2022-05-26T20:14:42.060Z"
   },
   {
    "duration": 21,
    "start_time": "2022-05-26T20:14:42.108Z"
   },
   {
    "duration": 4,
    "start_time": "2022-05-26T20:14:42.132Z"
   },
   {
    "duration": 5,
    "start_time": "2022-05-26T20:14:42.137Z"
   },
   {
    "duration": 9,
    "start_time": "2022-05-26T20:14:42.144Z"
   },
   {
    "duration": 57,
    "start_time": "2022-05-26T20:14:42.160Z"
   },
   {
    "duration": 455,
    "start_time": "2022-05-26T20:14:42.218Z"
   },
   {
    "duration": 159,
    "start_time": "2022-05-26T20:14:42.675Z"
   },
   {
    "duration": 17,
    "start_time": "2022-05-26T20:14:42.837Z"
   },
   {
    "duration": 31,
    "start_time": "2022-05-26T20:14:42.856Z"
   },
   {
    "duration": 50,
    "start_time": "2022-05-26T20:14:42.889Z"
   },
   {
    "duration": 4,
    "start_time": "2022-05-26T20:14:42.941Z"
   },
   {
    "duration": 7,
    "start_time": "2022-05-26T20:14:42.947Z"
   },
   {
    "duration": 16,
    "start_time": "2022-05-26T20:14:42.956Z"
   },
   {
    "duration": 34,
    "start_time": "2022-05-26T20:14:42.973Z"
   },
   {
    "duration": 14,
    "start_time": "2022-05-26T20:14:43.008Z"
   },
   {
    "duration": 15,
    "start_time": "2022-05-26T20:14:43.024Z"
   },
   {
    "duration": 12,
    "start_time": "2022-05-26T20:14:43.041Z"
   },
   {
    "duration": 12,
    "start_time": "2022-05-26T20:14:43.054Z"
   },
   {
    "duration": 37,
    "start_time": "2022-05-26T20:14:43.068Z"
   },
   {
    "duration": 15,
    "start_time": "2022-05-26T20:14:43.107Z"
   },
   {
    "duration": 11,
    "start_time": "2022-05-26T20:14:43.124Z"
   },
   {
    "duration": 10,
    "start_time": "2022-05-26T20:14:43.136Z"
   },
   {
    "duration": 11,
    "start_time": "2022-05-26T20:14:43.148Z"
   },
   {
    "duration": 53,
    "start_time": "2022-05-26T20:14:43.162Z"
   },
   {
    "duration": 9,
    "start_time": "2022-05-26T20:14:43.217Z"
   },
   {
    "duration": 15,
    "start_time": "2022-05-26T20:14:43.227Z"
   },
   {
    "duration": 12,
    "start_time": "2022-05-26T20:14:43.244Z"
   },
   {
    "duration": 51,
    "start_time": "2022-05-26T20:14:43.258Z"
   },
   {
    "duration": 15,
    "start_time": "2022-05-26T20:14:43.311Z"
   },
   {
    "duration": 44,
    "start_time": "2022-05-26T20:14:43.328Z"
   },
   {
    "duration": 30,
    "start_time": "2022-05-26T20:14:43.374Z"
   },
   {
    "duration": 7,
    "start_time": "2022-05-26T20:14:43.406Z"
   },
   {
    "duration": 5,
    "start_time": "2022-05-26T20:14:43.416Z"
   },
   {
    "duration": 12,
    "start_time": "2022-05-26T20:14:43.422Z"
   },
   {
    "duration": 31,
    "start_time": "2022-05-26T20:14:43.436Z"
   },
   {
    "duration": 34,
    "start_time": "2022-05-26T20:14:43.471Z"
   },
   {
    "duration": 4,
    "start_time": "2022-05-26T20:14:43.506Z"
   },
   {
    "duration": 22,
    "start_time": "2022-05-26T20:14:43.512Z"
   },
   {
    "duration": 4,
    "start_time": "2022-05-26T20:14:43.536Z"
   },
   {
    "duration": 12,
    "start_time": "2022-05-26T20:14:43.542Z"
   },
   {
    "duration": 51,
    "start_time": "2022-05-26T20:14:43.556Z"
   },
   {
    "duration": 21,
    "start_time": "2022-05-26T20:14:43.609Z"
   },
   {
    "duration": 6,
    "start_time": "2022-05-26T20:14:43.632Z"
   },
   {
    "duration": 10,
    "start_time": "2022-05-26T20:14:43.646Z"
   },
   {
    "duration": 11,
    "start_time": "2022-05-26T20:14:43.657Z"
   },
   {
    "duration": 52,
    "start_time": "2022-05-26T20:14:43.669Z"
   },
   {
    "duration": 9,
    "start_time": "2022-05-26T20:14:43.722Z"
   },
   {
    "duration": 18,
    "start_time": "2022-05-26T20:14:43.733Z"
   },
   {
    "duration": 53,
    "start_time": "2022-05-26T20:14:43.752Z"
   },
   {
    "duration": 18,
    "start_time": "2022-05-26T20:14:43.807Z"
   },
   {
    "duration": 28,
    "start_time": "2022-05-26T20:14:43.827Z"
   },
   {
    "duration": 63,
    "start_time": "2022-05-26T20:14:43.857Z"
   },
   {
    "duration": 10,
    "start_time": "2022-05-26T20:14:43.923Z"
   },
   {
    "duration": 9,
    "start_time": "2022-05-26T20:14:43.935Z"
   },
   {
    "duration": 6,
    "start_time": "2022-05-26T20:14:43.945Z"
   },
   {
    "duration": 26,
    "start_time": "2022-05-26T20:14:43.953Z"
   },
   {
    "duration": 35,
    "start_time": "2022-05-26T20:14:43.983Z"
   },
   {
    "duration": 11,
    "start_time": "2022-05-26T20:14:44.020Z"
   },
   {
    "duration": 12,
    "start_time": "2022-05-26T20:14:44.033Z"
   },
   {
    "duration": 43,
    "start_time": "2022-05-26T20:14:44.048Z"
   },
   {
    "duration": 13,
    "start_time": "2022-05-26T20:14:44.093Z"
   },
   {
    "duration": 31,
    "start_time": "2022-05-26T20:14:44.108Z"
   },
   {
    "duration": 6,
    "start_time": "2022-05-26T20:14:44.141Z"
   },
   {
    "duration": 15,
    "start_time": "2022-05-26T20:14:44.149Z"
   },
   {
    "duration": 33,
    "start_time": "2022-05-26T20:14:44.176Z"
   },
   {
    "duration": 12,
    "start_time": "2022-05-26T20:14:44.210Z"
   },
   {
    "duration": 5,
    "start_time": "2022-05-26T20:14:44.224Z"
   },
   {
    "duration": 9,
    "start_time": "2022-05-26T20:14:44.231Z"
   },
   {
    "duration": 7,
    "start_time": "2022-05-26T20:14:44.242Z"
   },
   {
    "duration": 21,
    "start_time": "2022-05-26T20:14:44.250Z"
   },
   {
    "duration": 121,
    "start_time": "2022-05-26T20:14:44.282Z"
   },
   {
    "duration": 104,
    "start_time": "2022-05-26T20:14:44.405Z"
   },
   {
    "duration": 3,
    "start_time": "2022-05-26T20:14:44.511Z"
   },
   {
    "duration": 5,
    "start_time": "2022-05-26T20:14:44.565Z"
   },
   {
    "duration": 34,
    "start_time": "2022-05-26T20:14:44.571Z"
   },
   {
    "duration": 140093,
    "start_time": "2022-05-26T20:14:44.607Z"
   },
   {
    "duration": 4,
    "start_time": "2022-05-26T20:17:04.702Z"
   },
   {
    "duration": 72,
    "start_time": "2022-05-26T20:17:04.708Z"
   },
   {
    "duration": 5,
    "start_time": "2022-05-26T20:17:04.782Z"
   },
   {
    "duration": 41361,
    "start_time": "2022-05-26T20:17:04.788Z"
   },
   {
    "duration": 19,
    "start_time": "2022-05-26T20:17:46.150Z"
   },
   {
    "duration": 25,
    "start_time": "2022-05-26T20:17:46.175Z"
   },
   {
    "duration": 6,
    "start_time": "2022-05-26T20:17:46.202Z"
   },
   {
    "duration": 1459,
    "start_time": "2022-05-26T20:18:39.554Z"
   },
   {
    "duration": 3,
    "start_time": "2022-05-26T20:18:41.015Z"
   },
   {
    "duration": 211,
    "start_time": "2022-05-26T20:18:41.019Z"
   },
   {
    "duration": 12,
    "start_time": "2022-05-26T20:18:41.232Z"
   },
   {
    "duration": 13,
    "start_time": "2022-05-26T20:18:41.245Z"
   },
   {
    "duration": 30,
    "start_time": "2022-05-26T20:18:41.266Z"
   },
   {
    "duration": 9,
    "start_time": "2022-05-26T20:18:41.298Z"
   },
   {
    "duration": 7,
    "start_time": "2022-05-26T20:18:41.309Z"
   },
   {
    "duration": 14,
    "start_time": "2022-05-26T20:18:41.317Z"
   },
   {
    "duration": 23,
    "start_time": "2022-05-26T20:18:41.333Z"
   },
   {
    "duration": 508,
    "start_time": "2022-05-26T20:18:41.363Z"
   },
   {
    "duration": 183,
    "start_time": "2022-05-26T20:18:41.879Z"
   },
   {
    "duration": 19369,
    "start_time": "2022-05-26T20:18:42.068Z"
   },
   {
    "duration": 11,
    "start_time": "2022-05-26T20:19:01.440Z"
   },
   {
    "duration": 40,
    "start_time": "2022-05-26T20:19:01.460Z"
   },
   {
    "duration": 44,
    "start_time": "2022-05-26T20:19:01.501Z"
   },
   {
    "duration": 4,
    "start_time": "2022-05-26T20:19:01.548Z"
   },
   {
    "duration": 39,
    "start_time": "2022-05-26T20:19:01.554Z"
   },
   {
    "duration": 25,
    "start_time": "2022-05-26T20:19:01.595Z"
   },
   {
    "duration": 24,
    "start_time": "2022-05-26T20:19:01.621Z"
   },
   {
    "duration": 12,
    "start_time": "2022-05-26T20:19:01.646Z"
   },
   {
    "duration": 33,
    "start_time": "2022-05-26T20:19:01.663Z"
   },
   {
    "duration": 54,
    "start_time": "2022-05-26T20:19:01.699Z"
   },
   {
    "duration": 32,
    "start_time": "2022-05-26T20:19:01.755Z"
   },
   {
    "duration": 30,
    "start_time": "2022-05-26T20:19:01.790Z"
   },
   {
    "duration": 18,
    "start_time": "2022-05-26T20:19:01.821Z"
   },
   {
    "duration": 4,
    "start_time": "2022-05-26T20:19:01.841Z"
   },
   {
    "duration": 17,
    "start_time": "2022-05-26T20:19:01.850Z"
   },
   {
    "duration": 37,
    "start_time": "2022-05-26T20:19:01.877Z"
   },
   {
    "duration": 31,
    "start_time": "2022-05-26T20:19:01.916Z"
   },
   {
    "duration": 5,
    "start_time": "2022-05-26T20:19:01.949Z"
   },
   {
    "duration": 48,
    "start_time": "2022-05-26T20:19:01.955Z"
   },
   {
    "duration": 10,
    "start_time": "2022-05-26T20:19:02.005Z"
   },
   {
    "duration": 12,
    "start_time": "2022-05-26T20:19:02.018Z"
   },
   {
    "duration": 459,
    "start_time": "2022-05-26T20:19:02.032Z"
   },
   {
    "duration": 153,
    "start_time": "2022-05-26T20:19:02.493Z"
   },
   {
    "duration": 11,
    "start_time": "2022-05-26T20:19:02.648Z"
   },
   {
    "duration": 36,
    "start_time": "2022-05-26T20:19:02.664Z"
   },
   {
    "duration": 25,
    "start_time": "2022-05-26T20:19:02.703Z"
   },
   {
    "duration": 5,
    "start_time": "2022-05-26T20:19:02.730Z"
   },
   {
    "duration": 9,
    "start_time": "2022-05-26T20:19:02.737Z"
   },
   {
    "duration": 22,
    "start_time": "2022-05-26T20:19:02.749Z"
   },
   {
    "duration": 43,
    "start_time": "2022-05-26T20:19:02.773Z"
   },
   {
    "duration": 382,
    "start_time": "2022-05-26T20:19:02.818Z"
   },
   {
    "duration": 134,
    "start_time": "2022-05-26T20:19:03.201Z"
   },
   {
    "duration": 10,
    "start_time": "2022-05-26T20:19:03.336Z"
   },
   {
    "duration": 24,
    "start_time": "2022-05-26T20:19:03.348Z"
   },
   {
    "duration": 88,
    "start_time": "2022-05-26T20:19:03.380Z"
   },
   {
    "duration": 11,
    "start_time": "2022-05-26T20:19:03.472Z"
   },
   {
    "duration": 23,
    "start_time": "2022-05-26T20:19:03.485Z"
   },
   {
    "duration": 10,
    "start_time": "2022-05-26T20:19:03.509Z"
   },
   {
    "duration": 8,
    "start_time": "2022-05-26T20:19:03.521Z"
   },
   {
    "duration": 18,
    "start_time": "2022-05-26T20:19:03.530Z"
   },
   {
    "duration": 18,
    "start_time": "2022-05-26T20:19:03.550Z"
   },
   {
    "duration": 40,
    "start_time": "2022-05-26T20:19:03.572Z"
   },
   {
    "duration": 19,
    "start_time": "2022-05-26T20:19:03.614Z"
   },
   {
    "duration": 14,
    "start_time": "2022-05-26T20:19:03.635Z"
   },
   {
    "duration": 47,
    "start_time": "2022-05-26T20:19:03.650Z"
   },
   {
    "duration": 17,
    "start_time": "2022-05-26T20:19:03.701Z"
   },
   {
    "duration": 11,
    "start_time": "2022-05-26T20:19:03.719Z"
   },
   {
    "duration": 15,
    "start_time": "2022-05-26T20:19:03.732Z"
   },
   {
    "duration": 69,
    "start_time": "2022-05-26T20:19:03.748Z"
   },
   {
    "duration": 8,
    "start_time": "2022-05-26T20:19:03.818Z"
   },
   {
    "duration": 18,
    "start_time": "2022-05-26T20:19:03.828Z"
   },
   {
    "duration": 27,
    "start_time": "2022-05-26T20:19:03.847Z"
   },
   {
    "duration": 44,
    "start_time": "2022-05-26T20:19:03.876Z"
   },
   {
    "duration": 23,
    "start_time": "2022-05-26T20:19:03.923Z"
   },
   {
    "duration": 100,
    "start_time": "2022-05-26T20:19:03.949Z"
   },
   {
    "duration": 22,
    "start_time": "2022-05-26T20:19:04.052Z"
   },
   {
    "duration": 33,
    "start_time": "2022-05-26T20:19:04.075Z"
   },
   {
    "duration": 6,
    "start_time": "2022-05-26T20:19:04.110Z"
   },
   {
    "duration": 14,
    "start_time": "2022-05-26T20:19:04.117Z"
   },
   {
    "duration": 29,
    "start_time": "2022-05-26T20:19:04.133Z"
   },
   {
    "duration": 12,
    "start_time": "2022-05-26T20:19:04.164Z"
   },
   {
    "duration": 22,
    "start_time": "2022-05-26T20:19:04.183Z"
   },
   {
    "duration": 16,
    "start_time": "2022-05-26T20:19:04.207Z"
   },
   {
    "duration": 9,
    "start_time": "2022-05-26T20:19:04.225Z"
   },
   {
    "duration": 13,
    "start_time": "2022-05-26T20:19:04.236Z"
   },
   {
    "duration": 7,
    "start_time": "2022-05-26T20:19:04.250Z"
   },
   {
    "duration": 50,
    "start_time": "2022-05-26T20:19:04.258Z"
   },
   {
    "duration": 13,
    "start_time": "2022-05-26T20:19:04.310Z"
   },
   {
    "duration": 9,
    "start_time": "2022-05-26T20:19:04.330Z"
   },
   {
    "duration": 9,
    "start_time": "2022-05-26T20:19:04.341Z"
   },
   {
    "duration": 61,
    "start_time": "2022-05-26T20:19:04.352Z"
   },
   {
    "duration": 12,
    "start_time": "2022-05-26T20:19:04.414Z"
   },
   {
    "duration": 15,
    "start_time": "2022-05-26T20:19:04.428Z"
   },
   {
    "duration": 38,
    "start_time": "2022-05-26T20:19:04.445Z"
   },
   {
    "duration": 27,
    "start_time": "2022-05-26T20:19:04.486Z"
   },
   {
    "duration": 49,
    "start_time": "2022-05-26T20:19:04.515Z"
   },
   {
    "duration": 41,
    "start_time": "2022-05-26T20:19:04.567Z"
   },
   {
    "duration": 9,
    "start_time": "2022-05-26T20:19:04.610Z"
   },
   {
    "duration": 12,
    "start_time": "2022-05-26T20:19:04.621Z"
   },
   {
    "duration": 15,
    "start_time": "2022-05-26T20:19:04.634Z"
   },
   {
    "duration": 48,
    "start_time": "2022-05-26T20:19:04.650Z"
   },
   {
    "duration": 13,
    "start_time": "2022-05-26T20:19:04.701Z"
   },
   {
    "duration": 6,
    "start_time": "2022-05-26T20:19:04.716Z"
   },
   {
    "duration": 10,
    "start_time": "2022-05-26T20:19:04.723Z"
   },
   {
    "duration": 25,
    "start_time": "2022-05-26T20:19:04.734Z"
   },
   {
    "duration": 13,
    "start_time": "2022-05-26T20:19:04.760Z"
   },
   {
    "duration": 49,
    "start_time": "2022-05-26T20:19:04.775Z"
   },
   {
    "duration": 6,
    "start_time": "2022-05-26T20:19:04.827Z"
   },
   {
    "duration": 7,
    "start_time": "2022-05-26T20:19:04.835Z"
   },
   {
    "duration": 9,
    "start_time": "2022-05-26T20:19:04.843Z"
   },
   {
    "duration": 28,
    "start_time": "2022-05-26T20:19:04.854Z"
   },
   {
    "duration": 9,
    "start_time": "2022-05-26T20:19:04.891Z"
   },
   {
    "duration": 12,
    "start_time": "2022-05-26T20:19:04.902Z"
   },
   {
    "duration": 6,
    "start_time": "2022-05-26T20:19:04.916Z"
   },
   {
    "duration": 8,
    "start_time": "2022-05-26T20:19:04.924Z"
   },
   {
    "duration": 63,
    "start_time": "2022-05-26T20:19:04.933Z"
   },
   {
    "duration": 81,
    "start_time": "2022-05-26T20:19:04.998Z"
   },
   {
    "duration": 6,
    "start_time": "2022-05-26T20:19:05.081Z"
   },
   {
    "duration": 28,
    "start_time": "2022-05-26T20:19:05.088Z"
   },
   {
    "duration": 40,
    "start_time": "2022-05-26T20:19:05.159Z"
   },
   {
    "duration": 139878,
    "start_time": "2022-05-26T20:19:05.201Z"
   },
   {
    "duration": 9,
    "start_time": "2022-05-26T20:21:25.084Z"
   },
   {
    "duration": 67,
    "start_time": "2022-05-26T20:21:25.095Z"
   },
   {
    "duration": 9,
    "start_time": "2022-05-26T20:21:25.167Z"
   },
   {
    "duration": 36847,
    "start_time": "2022-05-26T20:21:25.188Z"
   },
   {
    "duration": 12,
    "start_time": "2022-05-26T20:22:02.036Z"
   },
   {
    "duration": 14,
    "start_time": "2022-05-26T20:22:02.050Z"
   },
   {
    "duration": 27,
    "start_time": "2022-05-26T20:22:02.067Z"
   },
   {
    "duration": 189875,
    "start_time": "2022-05-26T20:22:02.096Z"
   },
   {
    "duration": 90,
    "start_time": "2022-05-26T20:25:11.973Z"
   },
   {
    "duration": 6,
    "start_time": "2022-05-26T20:25:12.065Z"
   },
   {
    "duration": 1459,
    "start_time": "2022-05-26T20:31:00.136Z"
   },
   {
    "duration": 4,
    "start_time": "2022-05-26T20:31:01.597Z"
   },
   {
    "duration": 254,
    "start_time": "2022-05-26T20:31:01.602Z"
   },
   {
    "duration": 15,
    "start_time": "2022-05-26T20:31:01.858Z"
   },
   {
    "duration": 50,
    "start_time": "2022-05-26T20:31:01.875Z"
   },
   {
    "duration": 24,
    "start_time": "2022-05-26T20:31:01.927Z"
   },
   {
    "duration": 12,
    "start_time": "2022-05-26T20:31:01.953Z"
   },
   {
    "duration": 27,
    "start_time": "2022-05-26T20:31:01.968Z"
   },
   {
    "duration": 34,
    "start_time": "2022-05-26T20:31:01.998Z"
   },
   {
    "duration": 45,
    "start_time": "2022-05-26T20:31:02.034Z"
   },
   {
    "duration": 431,
    "start_time": "2022-05-26T20:31:02.081Z"
   },
   {
    "duration": 184,
    "start_time": "2022-05-26T20:31:02.514Z"
   },
   {
    "duration": 18075,
    "start_time": "2022-05-26T20:31:02.700Z"
   },
   {
    "duration": 16,
    "start_time": "2022-05-26T20:31:20.779Z"
   },
   {
    "duration": 16,
    "start_time": "2022-05-26T20:31:20.797Z"
   },
   {
    "duration": 63,
    "start_time": "2022-05-26T20:31:20.815Z"
   },
   {
    "duration": 5,
    "start_time": "2022-05-26T20:31:20.880Z"
   },
   {
    "duration": 12,
    "start_time": "2022-05-26T20:31:20.887Z"
   },
   {
    "duration": 6,
    "start_time": "2022-05-26T20:31:20.901Z"
   },
   {
    "duration": 12,
    "start_time": "2022-05-26T20:31:20.908Z"
   },
   {
    "duration": 19,
    "start_time": "2022-05-26T20:31:20.921Z"
   },
   {
    "duration": 15,
    "start_time": "2022-05-26T20:31:20.959Z"
   },
   {
    "duration": 18,
    "start_time": "2022-05-26T20:31:20.976Z"
   },
   {
    "duration": 13,
    "start_time": "2022-05-26T20:31:20.996Z"
   },
   {
    "duration": 4,
    "start_time": "2022-05-26T20:31:21.010Z"
   },
   {
    "duration": 47,
    "start_time": "2022-05-26T20:31:21.016Z"
   },
   {
    "duration": 5,
    "start_time": "2022-05-26T20:31:21.065Z"
   },
   {
    "duration": 9,
    "start_time": "2022-05-26T20:31:21.071Z"
   },
   {
    "duration": 15,
    "start_time": "2022-05-26T20:31:21.082Z"
   },
   {
    "duration": 19,
    "start_time": "2022-05-26T20:31:21.099Z"
   },
   {
    "duration": 41,
    "start_time": "2022-05-26T20:31:21.120Z"
   },
   {
    "duration": 6,
    "start_time": "2022-05-26T20:31:21.163Z"
   },
   {
    "duration": 9,
    "start_time": "2022-05-26T20:31:21.170Z"
   },
   {
    "duration": 8,
    "start_time": "2022-05-26T20:31:21.181Z"
   },
   {
    "duration": 397,
    "start_time": "2022-05-26T20:31:21.191Z"
   },
   {
    "duration": 140,
    "start_time": "2022-05-26T20:31:21.590Z"
   },
   {
    "duration": 14,
    "start_time": "2022-05-26T20:31:21.732Z"
   },
   {
    "duration": 24,
    "start_time": "2022-05-26T20:31:21.748Z"
   },
   {
    "duration": 27,
    "start_time": "2022-05-26T20:31:21.774Z"
   },
   {
    "duration": 4,
    "start_time": "2022-05-26T20:31:21.803Z"
   },
   {
    "duration": 4,
    "start_time": "2022-05-26T20:31:21.812Z"
   },
   {
    "duration": 12,
    "start_time": "2022-05-26T20:31:21.817Z"
   },
   {
    "duration": 14,
    "start_time": "2022-05-26T20:31:21.830Z"
   },
   {
    "duration": 429,
    "start_time": "2022-05-26T20:31:21.860Z"
   },
   {
    "duration": 132,
    "start_time": "2022-05-26T20:31:22.291Z"
   },
   {
    "duration": 10,
    "start_time": "2022-05-26T20:31:22.426Z"
   },
   {
    "duration": 27,
    "start_time": "2022-05-26T20:31:22.438Z"
   },
   {
    "duration": 32,
    "start_time": "2022-05-26T20:31:22.467Z"
   },
   {
    "duration": 5,
    "start_time": "2022-05-26T20:31:22.500Z"
   },
   {
    "duration": 8,
    "start_time": "2022-05-26T20:31:22.506Z"
   },
   {
    "duration": 7,
    "start_time": "2022-05-26T20:31:22.516Z"
   },
   {
    "duration": 8,
    "start_time": "2022-05-26T20:31:22.559Z"
   },
   {
    "duration": 11,
    "start_time": "2022-05-26T20:31:22.569Z"
   },
   {
    "duration": 13,
    "start_time": "2022-05-26T20:31:22.582Z"
   },
   {
    "duration": 14,
    "start_time": "2022-05-26T20:31:22.597Z"
   },
   {
    "duration": 6,
    "start_time": "2022-05-26T20:31:22.612Z"
   },
   {
    "duration": 42,
    "start_time": "2022-05-26T20:31:22.620Z"
   },
   {
    "duration": 9,
    "start_time": "2022-05-26T20:31:22.664Z"
   },
   {
    "duration": 14,
    "start_time": "2022-05-26T20:31:22.674Z"
   },
   {
    "duration": 9,
    "start_time": "2022-05-26T20:31:22.690Z"
   },
   {
    "duration": 13,
    "start_time": "2022-05-26T20:31:22.701Z"
   },
   {
    "duration": 54,
    "start_time": "2022-05-26T20:31:22.715Z"
   },
   {
    "duration": 10,
    "start_time": "2022-05-26T20:31:22.771Z"
   },
   {
    "duration": 16,
    "start_time": "2022-05-26T20:31:22.783Z"
   },
   {
    "duration": 14,
    "start_time": "2022-05-26T20:31:22.801Z"
   },
   {
    "duration": 46,
    "start_time": "2022-05-26T20:31:22.818Z"
   },
   {
    "duration": 22,
    "start_time": "2022-05-26T20:31:22.866Z"
   },
   {
    "duration": 42,
    "start_time": "2022-05-26T20:31:22.890Z"
   },
   {
    "duration": 43,
    "start_time": "2022-05-26T20:31:22.933Z"
   },
   {
    "duration": 8,
    "start_time": "2022-05-26T20:31:22.978Z"
   },
   {
    "duration": 9,
    "start_time": "2022-05-26T20:31:22.988Z"
   },
   {
    "duration": 11,
    "start_time": "2022-05-26T20:31:22.999Z"
   },
   {
    "duration": 10,
    "start_time": "2022-05-26T20:31:23.012Z"
   },
   {
    "duration": 40,
    "start_time": "2022-05-26T20:31:23.024Z"
   },
   {
    "duration": 4,
    "start_time": "2022-05-26T20:31:23.066Z"
   },
   {
    "duration": 15,
    "start_time": "2022-05-26T20:31:23.072Z"
   },
   {
    "duration": 7,
    "start_time": "2022-05-26T20:31:23.088Z"
   },
   {
    "duration": 14,
    "start_time": "2022-05-26T20:31:23.097Z"
   },
   {
    "duration": 5,
    "start_time": "2022-05-26T20:31:23.113Z"
   },
   {
    "duration": 43,
    "start_time": "2022-05-26T20:31:23.120Z"
   },
   {
    "duration": 6,
    "start_time": "2022-05-26T20:31:23.165Z"
   },
   {
    "duration": 12,
    "start_time": "2022-05-26T20:31:23.172Z"
   },
   {
    "duration": 3,
    "start_time": "2022-05-26T20:31:23.186Z"
   },
   {
    "duration": 19,
    "start_time": "2022-05-26T20:31:23.191Z"
   },
   {
    "duration": 6,
    "start_time": "2022-05-26T20:31:23.212Z"
   },
   {
    "duration": 11,
    "start_time": "2022-05-26T20:31:23.220Z"
   },
   {
    "duration": 40,
    "start_time": "2022-05-26T20:31:23.233Z"
   },
   {
    "duration": 10,
    "start_time": "2022-05-26T20:31:23.275Z"
   },
   {
    "duration": 17,
    "start_time": "2022-05-26T20:31:23.287Z"
   },
   {
    "duration": 15,
    "start_time": "2022-05-26T20:31:23.306Z"
   },
   {
    "duration": 7,
    "start_time": "2022-05-26T20:31:23.323Z"
   },
   {
    "duration": 31,
    "start_time": "2022-05-26T20:31:23.332Z"
   },
   {
    "duration": 7,
    "start_time": "2022-05-26T20:31:23.365Z"
   },
   {
    "duration": 7,
    "start_time": "2022-05-26T20:31:23.374Z"
   },
   {
    "duration": 10,
    "start_time": "2022-05-26T20:31:23.382Z"
   },
   {
    "duration": 5,
    "start_time": "2022-05-26T20:31:23.394Z"
   },
   {
    "duration": 8,
    "start_time": "2022-05-26T20:31:23.401Z"
   },
   {
    "duration": 56,
    "start_time": "2022-05-26T20:31:23.411Z"
   },
   {
    "duration": 9,
    "start_time": "2022-05-26T20:31:23.469Z"
   },
   {
    "duration": 12,
    "start_time": "2022-05-26T20:31:23.480Z"
   },
   {
    "duration": 4,
    "start_time": "2022-05-26T20:31:23.494Z"
   },
   {
    "duration": 13,
    "start_time": "2022-05-26T20:31:23.501Z"
   },
   {
    "duration": 8,
    "start_time": "2022-05-26T20:31:23.516Z"
   },
   {
    "duration": 47,
    "start_time": "2022-05-26T20:31:23.526Z"
   },
   {
    "duration": 5,
    "start_time": "2022-05-26T20:31:23.575Z"
   },
   {
    "duration": 8,
    "start_time": "2022-05-26T20:31:23.583Z"
   },
   {
    "duration": 4,
    "start_time": "2022-05-26T20:31:23.593Z"
   },
   {
    "duration": 8,
    "start_time": "2022-05-26T20:31:23.599Z"
   },
   {
    "duration": 83,
    "start_time": "2022-05-26T20:31:23.609Z"
   },
   {
    "duration": 86,
    "start_time": "2022-05-26T20:31:23.694Z"
   },
   {
    "duration": 3,
    "start_time": "2022-05-26T20:31:23.782Z"
   },
   {
    "duration": 6,
    "start_time": "2022-05-26T20:31:23.787Z"
   },
   {
    "duration": 67,
    "start_time": "2022-05-26T20:31:23.796Z"
   },
   {
    "duration": 33178,
    "start_time": "2022-05-26T20:31:23.866Z"
   },
   {
    "duration": 0,
    "start_time": "2022-05-26T20:31:57.046Z"
   },
   {
    "duration": 0,
    "start_time": "2022-05-26T20:31:57.047Z"
   },
   {
    "duration": 0,
    "start_time": "2022-05-26T20:31:57.048Z"
   },
   {
    "duration": 0,
    "start_time": "2022-05-26T20:31:57.061Z"
   },
   {
    "duration": 0,
    "start_time": "2022-05-26T20:31:57.064Z"
   },
   {
    "duration": 0,
    "start_time": "2022-05-26T20:31:57.066Z"
   },
   {
    "duration": 0,
    "start_time": "2022-05-26T20:31:57.068Z"
   },
   {
    "duration": 0,
    "start_time": "2022-05-26T20:31:57.069Z"
   },
   {
    "duration": 0,
    "start_time": "2022-05-26T20:31:57.070Z"
   },
   {
    "duration": 0,
    "start_time": "2022-05-26T20:31:57.071Z"
   },
   {
    "duration": 1419,
    "start_time": "2022-05-26T20:32:04.529Z"
   },
   {
    "duration": 11,
    "start_time": "2022-05-26T20:32:05.950Z"
   },
   {
    "duration": 189,
    "start_time": "2022-05-26T20:32:05.963Z"
   },
   {
    "duration": 13,
    "start_time": "2022-05-26T20:32:06.154Z"
   },
   {
    "duration": 12,
    "start_time": "2022-05-26T20:32:06.168Z"
   },
   {
    "duration": 16,
    "start_time": "2022-05-26T20:32:06.182Z"
   },
   {
    "duration": 10,
    "start_time": "2022-05-26T20:32:06.200Z"
   },
   {
    "duration": 9,
    "start_time": "2022-05-26T20:32:06.212Z"
   },
   {
    "duration": 14,
    "start_time": "2022-05-26T20:32:06.222Z"
   },
   {
    "duration": 18,
    "start_time": "2022-05-26T20:32:06.259Z"
   },
   {
    "duration": 426,
    "start_time": "2022-05-26T20:32:06.279Z"
   },
   {
    "duration": 140,
    "start_time": "2022-05-26T20:32:06.706Z"
   },
   {
    "duration": 17739,
    "start_time": "2022-05-26T20:32:06.848Z"
   },
   {
    "duration": 15,
    "start_time": "2022-05-26T20:32:24.589Z"
   },
   {
    "duration": 40,
    "start_time": "2022-05-26T20:32:24.606Z"
   },
   {
    "duration": 70,
    "start_time": "2022-05-26T20:32:24.648Z"
   },
   {
    "duration": 5,
    "start_time": "2022-05-26T20:32:24.720Z"
   },
   {
    "duration": 27,
    "start_time": "2022-05-26T20:32:24.727Z"
   },
   {
    "duration": 8,
    "start_time": "2022-05-26T20:32:24.759Z"
   },
   {
    "duration": 14,
    "start_time": "2022-05-26T20:32:24.769Z"
   },
   {
    "duration": 18,
    "start_time": "2022-05-26T20:32:24.786Z"
   },
   {
    "duration": 19,
    "start_time": "2022-05-26T20:32:24.806Z"
   },
   {
    "duration": 40,
    "start_time": "2022-05-26T20:32:24.827Z"
   },
   {
    "duration": 12,
    "start_time": "2022-05-26T20:32:24.869Z"
   },
   {
    "duration": 10,
    "start_time": "2022-05-26T20:32:24.883Z"
   },
   {
    "duration": 18,
    "start_time": "2022-05-26T20:32:24.896Z"
   },
   {
    "duration": 13,
    "start_time": "2022-05-26T20:32:24.916Z"
   },
   {
    "duration": 9,
    "start_time": "2022-05-26T20:32:24.935Z"
   },
   {
    "duration": 11,
    "start_time": "2022-05-26T20:32:24.960Z"
   },
   {
    "duration": 26,
    "start_time": "2022-05-26T20:32:24.973Z"
   },
   {
    "duration": 8,
    "start_time": "2022-05-26T20:32:25.002Z"
   },
   {
    "duration": 9,
    "start_time": "2022-05-26T20:32:25.012Z"
   },
   {
    "duration": 15,
    "start_time": "2022-05-26T20:32:25.023Z"
   },
   {
    "duration": 9,
    "start_time": "2022-05-26T20:32:25.059Z"
   },
   {
    "duration": 468,
    "start_time": "2022-05-26T20:32:25.070Z"
   },
   {
    "duration": 131,
    "start_time": "2022-05-26T20:32:25.540Z"
   },
   {
    "duration": 8,
    "start_time": "2022-05-26T20:32:25.673Z"
   },
   {
    "duration": 29,
    "start_time": "2022-05-26T20:32:25.683Z"
   },
   {
    "duration": 21,
    "start_time": "2022-05-26T20:32:25.714Z"
   },
   {
    "duration": 7,
    "start_time": "2022-05-26T20:32:25.737Z"
   },
   {
    "duration": 17,
    "start_time": "2022-05-26T20:32:25.746Z"
   },
   {
    "duration": 17,
    "start_time": "2022-05-26T20:32:25.766Z"
   },
   {
    "duration": 15,
    "start_time": "2022-05-26T20:32:25.785Z"
   },
   {
    "duration": 411,
    "start_time": "2022-05-26T20:32:25.802Z"
   },
   {
    "duration": 123,
    "start_time": "2022-05-26T20:32:26.215Z"
   },
   {
    "duration": 21,
    "start_time": "2022-05-26T20:32:26.340Z"
   },
   {
    "duration": 29,
    "start_time": "2022-05-26T20:32:26.363Z"
   },
   {
    "duration": 55,
    "start_time": "2022-05-26T20:32:26.394Z"
   },
   {
    "duration": 6,
    "start_time": "2022-05-26T20:32:26.451Z"
   },
   {
    "duration": 11,
    "start_time": "2022-05-26T20:32:26.458Z"
   },
   {
    "duration": 10,
    "start_time": "2022-05-26T20:32:26.471Z"
   },
   {
    "duration": 9,
    "start_time": "2022-05-26T20:32:26.483Z"
   },
   {
    "duration": 20,
    "start_time": "2022-05-26T20:32:26.494Z"
   },
   {
    "duration": 45,
    "start_time": "2022-05-26T20:32:26.516Z"
   },
   {
    "duration": 20,
    "start_time": "2022-05-26T20:32:26.563Z"
   },
   {
    "duration": 7,
    "start_time": "2022-05-26T20:32:26.585Z"
   },
   {
    "duration": 13,
    "start_time": "2022-05-26T20:32:26.594Z"
   },
   {
    "duration": 14,
    "start_time": "2022-05-26T20:32:26.609Z"
   },
   {
    "duration": 20,
    "start_time": "2022-05-26T20:32:26.625Z"
   },
   {
    "duration": 11,
    "start_time": "2022-05-26T20:32:26.661Z"
   },
   {
    "duration": 17,
    "start_time": "2022-05-26T20:32:26.673Z"
   },
   {
    "duration": 36,
    "start_time": "2022-05-26T20:32:26.692Z"
   },
   {
    "duration": 35,
    "start_time": "2022-05-26T20:32:26.730Z"
   },
   {
    "duration": 21,
    "start_time": "2022-05-26T20:32:26.767Z"
   },
   {
    "duration": 15,
    "start_time": "2022-05-26T20:32:26.790Z"
   },
   {
    "duration": 44,
    "start_time": "2022-05-26T20:32:26.807Z"
   },
   {
    "duration": 24,
    "start_time": "2022-05-26T20:32:26.853Z"
   },
   {
    "duration": 30,
    "start_time": "2022-05-26T20:32:26.878Z"
   },
   {
    "duration": 18,
    "start_time": "2022-05-26T20:32:26.910Z"
   },
   {
    "duration": 31,
    "start_time": "2022-05-26T20:32:26.930Z"
   },
   {
    "duration": 13,
    "start_time": "2022-05-26T20:32:26.963Z"
   },
   {
    "duration": 13,
    "start_time": "2022-05-26T20:32:26.978Z"
   },
   {
    "duration": 9,
    "start_time": "2022-05-26T20:32:26.992Z"
   },
   {
    "duration": 8,
    "start_time": "2022-05-26T20:32:27.003Z"
   },
   {
    "duration": 5,
    "start_time": "2022-05-26T20:32:27.013Z"
   },
   {
    "duration": 42,
    "start_time": "2022-05-26T20:32:27.019Z"
   },
   {
    "duration": 28,
    "start_time": "2022-05-26T20:32:27.063Z"
   },
   {
    "duration": 14,
    "start_time": "2022-05-26T20:32:27.093Z"
   },
   {
    "duration": 10,
    "start_time": "2022-05-26T20:32:27.109Z"
   },
   {
    "duration": 18,
    "start_time": "2022-05-26T20:32:27.121Z"
   },
   {
    "duration": 7,
    "start_time": "2022-05-26T20:32:27.141Z"
   },
   {
    "duration": 12,
    "start_time": "2022-05-26T20:32:27.155Z"
   },
   {
    "duration": 27,
    "start_time": "2022-05-26T20:32:27.169Z"
   },
   {
    "duration": 15,
    "start_time": "2022-05-26T20:32:27.198Z"
   },
   {
    "duration": 5,
    "start_time": "2022-05-26T20:32:27.215Z"
   },
   {
    "duration": 12,
    "start_time": "2022-05-26T20:32:27.221Z"
   },
   {
    "duration": 26,
    "start_time": "2022-05-26T20:32:27.234Z"
   },
   {
    "duration": 19,
    "start_time": "2022-05-26T20:32:27.262Z"
   },
   {
    "duration": 22,
    "start_time": "2022-05-26T20:32:27.283Z"
   },
   {
    "duration": 16,
    "start_time": "2022-05-26T20:32:27.307Z"
   },
   {
    "duration": 6,
    "start_time": "2022-05-26T20:32:27.325Z"
   },
   {
    "duration": 32,
    "start_time": "2022-05-26T20:32:27.334Z"
   },
   {
    "duration": 17,
    "start_time": "2022-05-26T20:32:27.368Z"
   },
   {
    "duration": 7,
    "start_time": "2022-05-26T20:32:27.387Z"
   },
   {
    "duration": 10,
    "start_time": "2022-05-26T20:32:27.396Z"
   },
   {
    "duration": 8,
    "start_time": "2022-05-26T20:32:27.408Z"
   },
   {
    "duration": 9,
    "start_time": "2022-05-26T20:32:27.417Z"
   },
   {
    "duration": 37,
    "start_time": "2022-05-26T20:32:27.428Z"
   },
   {
    "duration": 10,
    "start_time": "2022-05-26T20:32:27.475Z"
   },
   {
    "duration": 11,
    "start_time": "2022-05-26T20:32:27.486Z"
   },
   {
    "duration": 5,
    "start_time": "2022-05-26T20:32:27.499Z"
   },
   {
    "duration": 9,
    "start_time": "2022-05-26T20:32:27.506Z"
   },
   {
    "duration": 8,
    "start_time": "2022-05-26T20:32:27.517Z"
   },
   {
    "duration": 46,
    "start_time": "2022-05-26T20:32:27.527Z"
   },
   {
    "duration": 4,
    "start_time": "2022-05-26T20:32:27.577Z"
   },
   {
    "duration": 8,
    "start_time": "2022-05-26T20:32:27.583Z"
   },
   {
    "duration": 6,
    "start_time": "2022-05-26T20:32:27.593Z"
   },
   {
    "duration": 12,
    "start_time": "2022-05-26T20:32:27.600Z"
   },
   {
    "duration": 73,
    "start_time": "2022-05-26T20:32:27.614Z"
   },
   {
    "duration": 101,
    "start_time": "2022-05-26T20:32:27.690Z"
   },
   {
    "duration": 4,
    "start_time": "2022-05-26T20:32:27.794Z"
   },
   {
    "duration": 14,
    "start_time": "2022-05-26T20:32:27.800Z"
   },
   {
    "duration": 36,
    "start_time": "2022-05-26T20:32:27.869Z"
   },
   {
    "duration": 126738,
    "start_time": "2022-05-26T20:32:27.911Z"
   },
   {
    "duration": 3,
    "start_time": "2022-05-26T20:34:34.651Z"
   },
   {
    "duration": 65,
    "start_time": "2022-05-26T20:34:34.659Z"
   },
   {
    "duration": 3,
    "start_time": "2022-05-26T20:34:34.726Z"
   },
   {
    "duration": 33844,
    "start_time": "2022-05-26T20:34:34.730Z"
   },
   {
    "duration": 12,
    "start_time": "2022-05-26T20:35:08.576Z"
   },
   {
    "duration": 13,
    "start_time": "2022-05-26T20:35:08.589Z"
   },
   {
    "duration": 7,
    "start_time": "2022-05-26T20:35:08.603Z"
   },
   {
    "duration": 46366,
    "start_time": "2022-05-26T20:35:08.612Z"
   },
   {
    "duration": 0,
    "start_time": "2022-05-26T20:35:54.981Z"
   },
   {
    "duration": 0,
    "start_time": "2022-05-26T20:35:54.982Z"
   },
   {
    "duration": 0,
    "start_time": "2022-05-26T20:35:54.983Z"
   },
   {
    "duration": 0,
    "start_time": "2022-05-26T20:35:54.984Z"
   },
   {
    "duration": 0,
    "start_time": "2022-05-26T20:35:54.985Z"
   },
   {
    "duration": 0,
    "start_time": "2022-05-26T20:35:54.986Z"
   },
   {
    "duration": 5,
    "start_time": "2022-05-26T20:35:56.957Z"
   },
   {
    "duration": 3831,
    "start_time": "2022-05-26T20:35:57.305Z"
   },
   {
    "duration": 5,
    "start_time": "2022-05-26T20:36:01.138Z"
   },
   {
    "duration": 13,
    "start_time": "2022-05-26T20:36:01.144Z"
   },
   {
    "duration": 3,
    "start_time": "2022-05-26T20:36:05.920Z"
   },
   {
    "duration": 2454,
    "start_time": "2022-05-26T20:36:06.142Z"
   },
   {
    "duration": 6,
    "start_time": "2022-05-26T20:36:08.599Z"
   },
   {
    "duration": 13,
    "start_time": "2022-05-26T20:36:08.607Z"
   },
   {
    "duration": 7,
    "start_time": "2022-05-26T20:36:13.183Z"
   },
   {
    "duration": 1891,
    "start_time": "2022-05-26T20:36:13.401Z"
   },
   {
    "duration": 4,
    "start_time": "2022-05-26T20:36:15.294Z"
   },
   {
    "duration": 7,
    "start_time": "2022-05-26T20:36:15.300Z"
   },
   {
    "duration": 7,
    "start_time": "2022-05-26T20:36:19.283Z"
   },
   {
    "duration": 2216,
    "start_time": "2022-05-26T20:36:19.441Z"
   },
   {
    "duration": 6,
    "start_time": "2022-05-26T20:36:21.659Z"
   },
   {
    "duration": 43,
    "start_time": "2022-05-26T20:36:21.667Z"
   },
   {
    "duration": 4,
    "start_time": "2022-05-26T20:36:25.482Z"
   },
   {
    "duration": 2698,
    "start_time": "2022-05-26T20:36:25.656Z"
   },
   {
    "duration": 5,
    "start_time": "2022-05-26T20:36:28.356Z"
   },
   {
    "duration": 35,
    "start_time": "2022-05-26T20:36:28.363Z"
   },
   {
    "duration": 3,
    "start_time": "2022-05-26T20:36:32.091Z"
   },
   {
    "duration": 3499,
    "start_time": "2022-05-26T20:36:32.255Z"
   },
   {
    "duration": 8,
    "start_time": "2022-05-26T20:36:35.756Z"
   },
   {
    "duration": 29,
    "start_time": "2022-05-26T20:36:35.766Z"
   },
   {
    "duration": 3,
    "start_time": "2022-05-26T20:36:40.091Z"
   },
   {
    "duration": 5155,
    "start_time": "2022-05-26T20:36:40.288Z"
   },
   {
    "duration": 3,
    "start_time": "2022-05-26T20:36:45.445Z"
   },
   {
    "duration": 8,
    "start_time": "2022-05-26T20:36:45.449Z"
   },
   {
    "duration": 3,
    "start_time": "2022-05-26T20:36:54.152Z"
   },
   {
    "duration": 2866,
    "start_time": "2022-05-26T20:36:54.342Z"
   },
   {
    "duration": 4,
    "start_time": "2022-05-26T20:36:57.210Z"
   },
   {
    "duration": 6,
    "start_time": "2022-05-26T20:36:57.215Z"
   },
   {
    "duration": 3,
    "start_time": "2022-05-26T20:37:04.737Z"
   },
   {
    "duration": 2842,
    "start_time": "2022-05-26T20:37:04.974Z"
   },
   {
    "duration": 4,
    "start_time": "2022-05-26T20:37:07.818Z"
   },
   {
    "duration": 6,
    "start_time": "2022-05-26T20:37:07.824Z"
   },
   {
    "duration": 3,
    "start_time": "2022-05-26T20:37:14.357Z"
   },
   {
    "duration": 2840,
    "start_time": "2022-05-26T20:37:14.542Z"
   },
   {
    "duration": 3,
    "start_time": "2022-05-26T20:37:17.384Z"
   },
   {
    "duration": 7,
    "start_time": "2022-05-26T20:37:17.388Z"
   },
   {
    "duration": 3,
    "start_time": "2022-05-26T20:37:22.890Z"
   },
   {
    "duration": 2968,
    "start_time": "2022-05-26T20:37:23.076Z"
   },
   {
    "duration": 4,
    "start_time": "2022-05-26T20:37:26.046Z"
   },
   {
    "duration": 37,
    "start_time": "2022-05-26T20:37:26.051Z"
   },
   {
    "duration": 6,
    "start_time": "2022-05-26T20:37:30.779Z"
   },
   {
    "duration": 3431,
    "start_time": "2022-05-26T20:37:30.961Z"
   },
   {
    "duration": 3,
    "start_time": "2022-05-26T20:37:34.394Z"
   },
   {
    "duration": 15,
    "start_time": "2022-05-26T20:37:34.399Z"
   },
   {
    "duration": 3,
    "start_time": "2022-05-26T20:37:38.337Z"
   },
   {
    "duration": 2872,
    "start_time": "2022-05-26T20:37:38.503Z"
   },
   {
    "duration": 4,
    "start_time": "2022-05-26T20:37:41.377Z"
   },
   {
    "duration": 6,
    "start_time": "2022-05-26T20:37:41.382Z"
   },
   {
    "duration": 3,
    "start_time": "2022-05-26T20:37:45.802Z"
   },
   {
    "duration": 2850,
    "start_time": "2022-05-26T20:37:46.073Z"
   },
   {
    "duration": 3,
    "start_time": "2022-05-26T20:37:48.924Z"
   },
   {
    "duration": 16,
    "start_time": "2022-05-26T20:37:48.929Z"
   },
   {
    "duration": 2,
    "start_time": "2022-05-26T20:37:54.092Z"
   },
   {
    "duration": 2602,
    "start_time": "2022-05-26T20:37:54.290Z"
   },
   {
    "duration": 3,
    "start_time": "2022-05-26T20:37:56.894Z"
   },
   {
    "duration": 28,
    "start_time": "2022-05-26T20:37:56.898Z"
   },
   {
    "duration": 8,
    "start_time": "2022-05-26T20:38:00.367Z"
   },
   {
    "duration": 4044,
    "start_time": "2022-05-26T20:38:00.572Z"
   },
   {
    "duration": 3,
    "start_time": "2022-05-26T20:38:04.618Z"
   },
   {
    "duration": 21,
    "start_time": "2022-05-26T20:38:04.622Z"
   },
   {
    "duration": 4,
    "start_time": "2022-05-26T20:38:13.942Z"
   },
   {
    "duration": 24938,
    "start_time": "2022-05-26T20:38:14.125Z"
   },
   {
    "duration": 9,
    "start_time": "2022-05-26T20:38:39.064Z"
   },
   {
    "duration": 11,
    "start_time": "2022-05-26T20:38:39.074Z"
   },
   {
    "duration": 3,
    "start_time": "2022-05-26T20:38:46.735Z"
   },
   {
    "duration": 412,
    "start_time": "2022-05-26T20:38:46.967Z"
   },
   {
    "duration": 3,
    "start_time": "2022-05-26T20:38:47.381Z"
   },
   {
    "duration": 7,
    "start_time": "2022-05-26T20:38:47.385Z"
   },
   {
    "duration": 4,
    "start_time": "2022-05-26T20:38:59.850Z"
   },
   {
    "duration": 1323,
    "start_time": "2022-05-26T20:39:00.033Z"
   },
   {
    "duration": 13,
    "start_time": "2022-05-26T20:39:01.358Z"
   },
   {
    "duration": 15,
    "start_time": "2022-05-26T20:39:01.373Z"
   },
   {
    "duration": 3,
    "start_time": "2022-05-26T20:39:06.132Z"
   },
   {
    "duration": 1577,
    "start_time": "2022-05-26T20:39:06.314Z"
   },
   {
    "duration": 3,
    "start_time": "2022-05-26T20:39:07.894Z"
   },
   {
    "duration": 22,
    "start_time": "2022-05-26T20:39:07.900Z"
   },
   {
    "duration": 4,
    "start_time": "2022-05-26T20:39:11.309Z"
   },
   {
    "duration": 1818,
    "start_time": "2022-05-26T20:39:11.484Z"
   },
   {
    "duration": 4,
    "start_time": "2022-05-26T20:39:13.304Z"
   },
   {
    "duration": 9,
    "start_time": "2022-05-26T20:39:13.309Z"
   },
   {
    "duration": 2,
    "start_time": "2022-05-26T20:39:16.826Z"
   },
   {
    "duration": 2119,
    "start_time": "2022-05-26T20:39:16.998Z"
   },
   {
    "duration": 3,
    "start_time": "2022-05-26T20:39:19.119Z"
   },
   {
    "duration": 28,
    "start_time": "2022-05-26T20:39:19.123Z"
   },
   {
    "duration": 3,
    "start_time": "2022-05-26T20:39:22.548Z"
   },
   {
    "duration": 2255,
    "start_time": "2022-05-26T20:39:22.718Z"
   },
   {
    "duration": 4,
    "start_time": "2022-05-26T20:39:24.975Z"
   },
   {
    "duration": 5,
    "start_time": "2022-05-26T20:39:24.980Z"
   },
   {
    "duration": 4,
    "start_time": "2022-05-26T20:39:29.836Z"
   },
   {
    "duration": 2805,
    "start_time": "2022-05-26T20:39:30.010Z"
   },
   {
    "duration": 3,
    "start_time": "2022-05-26T20:39:32.817Z"
   },
   {
    "duration": 8,
    "start_time": "2022-05-26T20:39:32.821Z"
   },
   {
    "duration": 3,
    "start_time": "2022-05-26T20:39:35.670Z"
   },
   {
    "duration": 3630,
    "start_time": "2022-05-26T20:39:35.858Z"
   },
   {
    "duration": 4,
    "start_time": "2022-05-26T20:39:39.490Z"
   },
   {
    "duration": 7,
    "start_time": "2022-05-26T20:39:39.495Z"
   },
   {
    "duration": 3,
    "start_time": "2022-05-26T20:39:42.819Z"
   },
   {
    "duration": 3156,
    "start_time": "2022-05-26T20:39:43.021Z"
   },
   {
    "duration": 4,
    "start_time": "2022-05-26T20:39:46.179Z"
   },
   {
    "duration": 6,
    "start_time": "2022-05-26T20:39:46.184Z"
   },
   {
    "duration": 3,
    "start_time": "2022-05-26T20:39:51.613Z"
   },
   {
    "duration": 3612,
    "start_time": "2022-05-26T20:39:51.789Z"
   },
   {
    "duration": 5,
    "start_time": "2022-05-26T20:39:55.403Z"
   },
   {
    "duration": 7,
    "start_time": "2022-05-26T20:39:55.409Z"
   },
   {
    "duration": 10,
    "start_time": "2022-05-26T20:40:07.643Z"
   },
   {
    "duration": 4450,
    "start_time": "2022-05-26T20:40:08.117Z"
   },
   {
    "duration": 4,
    "start_time": "2022-05-26T20:40:12.569Z"
   },
   {
    "duration": 3,
    "start_time": "2022-05-26T20:41:59.414Z"
   },
   {
    "duration": 480,
    "start_time": "2022-05-26T20:42:00.030Z"
   },
   {
    "duration": 3,
    "start_time": "2022-05-26T20:42:00.512Z"
   },
   {
    "duration": 12,
    "start_time": "2022-05-26T20:42:00.516Z"
   },
   {
    "duration": 3,
    "start_time": "2022-05-26T20:42:04.888Z"
   },
   {
    "duration": 3162,
    "start_time": "2022-05-26T20:42:05.056Z"
   },
   {
    "duration": 4,
    "start_time": "2022-05-26T20:42:08.219Z"
   },
   {
    "duration": 10,
    "start_time": "2022-05-26T20:42:08.224Z"
   },
   {
    "duration": 3,
    "start_time": "2022-05-26T20:42:12.491Z"
   },
   {
    "duration": 3212,
    "start_time": "2022-05-26T20:42:12.682Z"
   },
   {
    "duration": 4,
    "start_time": "2022-05-26T20:42:15.895Z"
   },
   {
    "duration": 9,
    "start_time": "2022-05-26T20:42:15.900Z"
   },
   {
    "duration": 3,
    "start_time": "2022-05-26T20:42:19.246Z"
   },
   {
    "duration": 3194,
    "start_time": "2022-05-26T20:42:19.443Z"
   },
   {
    "duration": 4,
    "start_time": "2022-05-26T20:42:22.639Z"
   },
   {
    "duration": 29,
    "start_time": "2022-05-26T20:42:22.644Z"
   },
   {
    "duration": 3,
    "start_time": "2022-05-26T20:42:35.011Z"
   },
   {
    "duration": 3033,
    "start_time": "2022-05-26T20:42:35.199Z"
   },
   {
    "duration": 5,
    "start_time": "2022-05-26T20:42:38.234Z"
   },
   {
    "duration": 8,
    "start_time": "2022-05-26T20:42:38.240Z"
   },
   {
    "duration": 1304,
    "start_time": "2022-05-26T20:44:36.345Z"
   },
   {
    "duration": 2,
    "start_time": "2022-05-26T20:44:37.651Z"
   },
   {
    "duration": 222,
    "start_time": "2022-05-26T20:44:37.655Z"
   },
   {
    "duration": 14,
    "start_time": "2022-05-26T20:44:37.879Z"
   },
   {
    "duration": 28,
    "start_time": "2022-05-26T20:44:37.895Z"
   },
   {
    "duration": 29,
    "start_time": "2022-05-26T20:44:37.925Z"
   },
   {
    "duration": 9,
    "start_time": "2022-05-26T20:44:37.955Z"
   },
   {
    "duration": 12,
    "start_time": "2022-05-26T20:44:37.966Z"
   },
   {
    "duration": 17,
    "start_time": "2022-05-26T20:44:37.979Z"
   },
   {
    "duration": 22,
    "start_time": "2022-05-26T20:44:37.998Z"
   },
   {
    "duration": 380,
    "start_time": "2022-05-26T20:44:38.021Z"
   },
   {
    "duration": 135,
    "start_time": "2022-05-26T20:44:38.402Z"
   },
   {
    "duration": 15587,
    "start_time": "2022-05-26T20:44:38.538Z"
   },
   {
    "duration": 15,
    "start_time": "2022-05-26T20:44:54.129Z"
   },
   {
    "duration": 20,
    "start_time": "2022-05-26T20:44:54.146Z"
   },
   {
    "duration": 60,
    "start_time": "2022-05-26T20:44:54.168Z"
   },
   {
    "duration": 4,
    "start_time": "2022-05-26T20:44:54.230Z"
   },
   {
    "duration": 23,
    "start_time": "2022-05-26T20:44:54.235Z"
   },
   {
    "duration": 20,
    "start_time": "2022-05-26T20:44:54.259Z"
   },
   {
    "duration": 16,
    "start_time": "2022-05-26T20:44:54.280Z"
   },
   {
    "duration": 13,
    "start_time": "2022-05-26T20:44:54.297Z"
   },
   {
    "duration": 17,
    "start_time": "2022-05-26T20:44:54.311Z"
   },
   {
    "duration": 21,
    "start_time": "2022-05-26T20:44:54.330Z"
   },
   {
    "duration": 20,
    "start_time": "2022-05-26T20:44:54.352Z"
   },
   {
    "duration": 11,
    "start_time": "2022-05-26T20:44:54.373Z"
   },
   {
    "duration": 18,
    "start_time": "2022-05-26T20:44:54.386Z"
   },
   {
    "duration": 3,
    "start_time": "2022-05-26T20:44:54.406Z"
   },
   {
    "duration": 25,
    "start_time": "2022-05-26T20:44:54.411Z"
   },
   {
    "duration": 17,
    "start_time": "2022-05-26T20:44:54.437Z"
   },
   {
    "duration": 17,
    "start_time": "2022-05-26T20:44:54.455Z"
   },
   {
    "duration": 12,
    "start_time": "2022-05-26T20:44:54.474Z"
   },
   {
    "duration": 13,
    "start_time": "2022-05-26T20:44:54.487Z"
   },
   {
    "duration": 23,
    "start_time": "2022-05-26T20:44:54.501Z"
   },
   {
    "duration": 8,
    "start_time": "2022-05-26T20:44:54.526Z"
   },
   {
    "duration": 415,
    "start_time": "2022-05-26T20:44:54.536Z"
   },
   {
    "duration": 108,
    "start_time": "2022-05-26T20:44:54.952Z"
   },
   {
    "duration": 6,
    "start_time": "2022-05-26T20:44:55.062Z"
   },
   {
    "duration": 23,
    "start_time": "2022-05-26T20:44:55.070Z"
   },
   {
    "duration": 21,
    "start_time": "2022-05-26T20:44:55.094Z"
   },
   {
    "duration": 4,
    "start_time": "2022-05-26T20:44:55.116Z"
   },
   {
    "duration": 11,
    "start_time": "2022-05-26T20:44:55.124Z"
   },
   {
    "duration": 18,
    "start_time": "2022-05-26T20:44:55.136Z"
   },
   {
    "duration": 30,
    "start_time": "2022-05-26T20:44:55.155Z"
   },
   {
    "duration": 346,
    "start_time": "2022-05-26T20:44:55.187Z"
   },
   {
    "duration": 110,
    "start_time": "2022-05-26T20:44:55.534Z"
   },
   {
    "duration": 16,
    "start_time": "2022-05-26T20:44:55.646Z"
   },
   {
    "duration": 21,
    "start_time": "2022-05-26T20:44:55.663Z"
   },
   {
    "duration": 43,
    "start_time": "2022-05-26T20:44:55.686Z"
   },
   {
    "duration": 3,
    "start_time": "2022-05-26T20:44:55.731Z"
   },
   {
    "duration": 9,
    "start_time": "2022-05-26T20:44:55.735Z"
   },
   {
    "duration": 16,
    "start_time": "2022-05-26T20:44:55.746Z"
   },
   {
    "duration": 18,
    "start_time": "2022-05-26T20:44:55.764Z"
   },
   {
    "duration": 24,
    "start_time": "2022-05-26T20:44:55.783Z"
   },
   {
    "duration": 19,
    "start_time": "2022-05-26T20:44:55.809Z"
   },
   {
    "duration": 13,
    "start_time": "2022-05-26T20:44:55.830Z"
   },
   {
    "duration": 18,
    "start_time": "2022-05-26T20:44:55.844Z"
   },
   {
    "duration": 13,
    "start_time": "2022-05-26T20:44:55.863Z"
   },
   {
    "duration": 13,
    "start_time": "2022-05-26T20:44:55.878Z"
   },
   {
    "duration": 22,
    "start_time": "2022-05-26T20:44:55.893Z"
   },
   {
    "duration": 20,
    "start_time": "2022-05-26T20:44:55.916Z"
   },
   {
    "duration": 24,
    "start_time": "2022-05-26T20:44:55.937Z"
   },
   {
    "duration": 38,
    "start_time": "2022-05-26T20:44:55.963Z"
   },
   {
    "duration": 9,
    "start_time": "2022-05-26T20:44:56.003Z"
   },
   {
    "duration": 32,
    "start_time": "2022-05-26T20:44:56.013Z"
   },
   {
    "duration": 13,
    "start_time": "2022-05-26T20:44:56.046Z"
   },
   {
    "duration": 32,
    "start_time": "2022-05-26T20:44:56.060Z"
   },
   {
    "duration": 19,
    "start_time": "2022-05-26T20:44:56.094Z"
   },
   {
    "duration": 28,
    "start_time": "2022-05-26T20:44:56.114Z"
   },
   {
    "duration": 16,
    "start_time": "2022-05-26T20:44:56.144Z"
   },
   {
    "duration": 20,
    "start_time": "2022-05-26T20:44:56.161Z"
   },
   {
    "duration": 20,
    "start_time": "2022-05-26T20:44:56.182Z"
   },
   {
    "duration": 13,
    "start_time": "2022-05-26T20:44:56.203Z"
   },
   {
    "duration": 19,
    "start_time": "2022-05-26T20:44:56.218Z"
   },
   {
    "duration": 8,
    "start_time": "2022-05-26T20:44:56.239Z"
   },
   {
    "duration": 4,
    "start_time": "2022-05-26T20:44:56.249Z"
   },
   {
    "duration": 15,
    "start_time": "2022-05-26T20:44:56.254Z"
   },
   {
    "duration": 4,
    "start_time": "2022-05-26T20:44:56.271Z"
   },
   {
    "duration": 11,
    "start_time": "2022-05-26T20:44:56.276Z"
   },
   {
    "duration": 3,
    "start_time": "2022-05-26T20:44:56.289Z"
   },
   {
    "duration": 17,
    "start_time": "2022-05-26T20:44:56.294Z"
   },
   {
    "duration": 5,
    "start_time": "2022-05-26T20:44:56.312Z"
   },
   {
    "duration": 14,
    "start_time": "2022-05-26T20:44:56.319Z"
   },
   {
    "duration": 23,
    "start_time": "2022-05-26T20:44:56.336Z"
   },
   {
    "duration": 18,
    "start_time": "2022-05-26T20:44:56.361Z"
   },
   {
    "duration": 4,
    "start_time": "2022-05-26T20:44:56.381Z"
   },
   {
    "duration": 15,
    "start_time": "2022-05-26T20:44:56.386Z"
   },
   {
    "duration": 14,
    "start_time": "2022-05-26T20:44:56.402Z"
   },
   {
    "duration": 9,
    "start_time": "2022-05-26T20:44:56.417Z"
   },
   {
    "duration": 36,
    "start_time": "2022-05-26T20:44:56.428Z"
   },
   {
    "duration": 14,
    "start_time": "2022-05-26T20:44:56.465Z"
   },
   {
    "duration": 6,
    "start_time": "2022-05-26T20:44:56.480Z"
   },
   {
    "duration": 8,
    "start_time": "2022-05-26T20:44:56.488Z"
   },
   {
    "duration": 7,
    "start_time": "2022-05-26T20:44:56.497Z"
   },
   {
    "duration": 6,
    "start_time": "2022-05-26T20:44:56.505Z"
   },
   {
    "duration": 8,
    "start_time": "2022-05-26T20:44:56.512Z"
   },
   {
    "duration": 4,
    "start_time": "2022-05-26T20:44:56.522Z"
   },
   {
    "duration": 11,
    "start_time": "2022-05-26T20:44:56.527Z"
   },
   {
    "duration": 42,
    "start_time": "2022-05-26T20:44:56.539Z"
   },
   {
    "duration": 8,
    "start_time": "2022-05-26T20:44:56.583Z"
   },
   {
    "duration": 10,
    "start_time": "2022-05-26T20:44:56.592Z"
   },
   {
    "duration": 4,
    "start_time": "2022-05-26T20:44:56.603Z"
   },
   {
    "duration": 7,
    "start_time": "2022-05-26T20:44:56.608Z"
   },
   {
    "duration": 6,
    "start_time": "2022-05-26T20:44:56.616Z"
   },
   {
    "duration": 36,
    "start_time": "2022-05-26T20:44:56.624Z"
   },
   {
    "duration": 3,
    "start_time": "2022-05-26T20:44:56.661Z"
   },
   {
    "duration": 6,
    "start_time": "2022-05-26T20:44:56.666Z"
   },
   {
    "duration": 6,
    "start_time": "2022-05-26T20:44:56.674Z"
   },
   {
    "duration": 10,
    "start_time": "2022-05-26T20:44:56.681Z"
   },
   {
    "duration": 26,
    "start_time": "2022-05-26T20:44:56.692Z"
   },
   {
    "duration": 66,
    "start_time": "2022-05-26T20:44:56.720Z"
   },
   {
    "duration": 3,
    "start_time": "2022-05-26T20:44:56.788Z"
   },
   {
    "duration": 67,
    "start_time": "2022-05-26T20:44:56.792Z"
   },
   {
    "duration": 3,
    "start_time": "2022-05-26T20:44:56.861Z"
   },
   {
    "duration": 6,
    "start_time": "2022-05-26T20:44:56.865Z"
   },
   {
    "duration": 3076,
    "start_time": "2022-05-26T20:44:56.873Z"
   },
   {
    "duration": 4,
    "start_time": "2022-05-26T20:44:59.951Z"
   },
   {
    "duration": 6,
    "start_time": "2022-05-26T20:44:59.956Z"
   },
   {
    "duration": 4,
    "start_time": "2022-05-26T20:44:59.964Z"
   },
   {
    "duration": 3,
    "start_time": "2022-05-26T20:48:36.585Z"
   },
   {
    "duration": 79379,
    "start_time": "2022-05-26T20:48:36.589Z"
   },
   {
    "duration": 0,
    "start_time": "2022-05-26T20:49:55.970Z"
   },
   {
    "duration": 0,
    "start_time": "2022-05-26T20:49:55.972Z"
   },
   {
    "duration": 0,
    "start_time": "2022-05-26T20:49:55.974Z"
   },
   {
    "duration": 1222,
    "start_time": "2022-05-26T20:50:03.412Z"
   },
   {
    "duration": 2,
    "start_time": "2022-05-26T20:50:04.636Z"
   },
   {
    "duration": 195,
    "start_time": "2022-05-26T20:50:04.639Z"
   },
   {
    "duration": 10,
    "start_time": "2022-05-26T20:50:04.836Z"
   },
   {
    "duration": 36,
    "start_time": "2022-05-26T20:50:04.848Z"
   },
   {
    "duration": 25,
    "start_time": "2022-05-26T20:50:04.885Z"
   },
   {
    "duration": 18,
    "start_time": "2022-05-26T20:50:04.912Z"
   },
   {
    "duration": 16,
    "start_time": "2022-05-26T20:50:04.932Z"
   },
   {
    "duration": 22,
    "start_time": "2022-05-26T20:50:04.949Z"
   },
   {
    "duration": 18,
    "start_time": "2022-05-26T20:50:04.972Z"
   },
   {
    "duration": 384,
    "start_time": "2022-05-26T20:50:04.992Z"
   },
   {
    "duration": 133,
    "start_time": "2022-05-26T20:50:05.378Z"
   },
   {
    "duration": 15840,
    "start_time": "2022-05-26T20:50:05.513Z"
   },
   {
    "duration": 9,
    "start_time": "2022-05-26T20:50:21.360Z"
   },
   {
    "duration": 14,
    "start_time": "2022-05-26T20:50:21.370Z"
   },
   {
    "duration": 42,
    "start_time": "2022-05-26T20:50:21.385Z"
   },
   {
    "duration": 3,
    "start_time": "2022-05-26T20:50:21.429Z"
   },
   {
    "duration": 28,
    "start_time": "2022-05-26T20:50:21.433Z"
   },
   {
    "duration": 3,
    "start_time": "2022-05-26T20:50:21.462Z"
   },
   {
    "duration": 7,
    "start_time": "2022-05-26T20:50:21.467Z"
   },
   {
    "duration": 8,
    "start_time": "2022-05-26T20:50:21.475Z"
   },
   {
    "duration": 12,
    "start_time": "2022-05-26T20:50:21.484Z"
   },
   {
    "duration": 11,
    "start_time": "2022-05-26T20:50:21.498Z"
   },
   {
    "duration": 11,
    "start_time": "2022-05-26T20:50:21.510Z"
   },
   {
    "duration": 5,
    "start_time": "2022-05-26T20:50:21.523Z"
   },
   {
    "duration": 39,
    "start_time": "2022-05-26T20:50:21.529Z"
   },
   {
    "duration": 5,
    "start_time": "2022-05-26T20:50:21.570Z"
   },
   {
    "duration": 13,
    "start_time": "2022-05-26T20:50:21.577Z"
   },
   {
    "duration": 10,
    "start_time": "2022-05-26T20:50:21.592Z"
   },
   {
    "duration": 14,
    "start_time": "2022-05-26T20:50:21.604Z"
   },
   {
    "duration": 3,
    "start_time": "2022-05-26T20:50:21.620Z"
   },
   {
    "duration": 12,
    "start_time": "2022-05-26T20:50:21.624Z"
   },
   {
    "duration": 22,
    "start_time": "2022-05-26T20:50:21.638Z"
   },
   {
    "duration": 11,
    "start_time": "2022-05-26T20:50:21.662Z"
   },
   {
    "duration": 391,
    "start_time": "2022-05-26T20:50:21.675Z"
   },
   {
    "duration": 113,
    "start_time": "2022-05-26T20:50:22.068Z"
   },
   {
    "duration": 7,
    "start_time": "2022-05-26T20:50:22.182Z"
   },
   {
    "duration": 15,
    "start_time": "2022-05-26T20:50:22.191Z"
   },
   {
    "duration": 15,
    "start_time": "2022-05-26T20:50:22.208Z"
   },
   {
    "duration": 4,
    "start_time": "2022-05-26T20:50:22.224Z"
   },
   {
    "duration": 3,
    "start_time": "2022-05-26T20:50:22.261Z"
   },
   {
    "duration": 7,
    "start_time": "2022-05-26T20:50:22.265Z"
   },
   {
    "duration": 9,
    "start_time": "2022-05-26T20:50:22.274Z"
   },
   {
    "duration": 356,
    "start_time": "2022-05-26T20:50:22.284Z"
   },
   {
    "duration": 104,
    "start_time": "2022-05-26T20:50:22.642Z"
   },
   {
    "duration": 16,
    "start_time": "2022-05-26T20:50:22.747Z"
   },
   {
    "duration": 12,
    "start_time": "2022-05-26T20:50:22.765Z"
   },
   {
    "duration": 27,
    "start_time": "2022-05-26T20:50:22.779Z"
   },
   {
    "duration": 3,
    "start_time": "2022-05-26T20:50:22.808Z"
   },
   {
    "duration": 8,
    "start_time": "2022-05-26T20:50:22.813Z"
   },
   {
    "duration": 38,
    "start_time": "2022-05-26T20:50:22.822Z"
   },
   {
    "duration": 7,
    "start_time": "2022-05-26T20:50:22.862Z"
   },
   {
    "duration": 12,
    "start_time": "2022-05-26T20:50:22.871Z"
   },
   {
    "duration": 11,
    "start_time": "2022-05-26T20:50:22.884Z"
   },
   {
    "duration": 11,
    "start_time": "2022-05-26T20:50:22.897Z"
   },
   {
    "duration": 4,
    "start_time": "2022-05-26T20:50:22.910Z"
   },
   {
    "duration": 8,
    "start_time": "2022-05-26T20:50:22.915Z"
   },
   {
    "duration": 7,
    "start_time": "2022-05-26T20:50:22.962Z"
   },
   {
    "duration": 11,
    "start_time": "2022-05-26T20:50:22.970Z"
   },
   {
    "duration": 7,
    "start_time": "2022-05-26T20:50:22.982Z"
   },
   {
    "duration": 9,
    "start_time": "2022-05-26T20:50:22.991Z"
   },
   {
    "duration": 25,
    "start_time": "2022-05-26T20:50:23.001Z"
   },
   {
    "duration": 8,
    "start_time": "2022-05-26T20:50:23.027Z"
   },
   {
    "duration": 33,
    "start_time": "2022-05-26T20:50:23.036Z"
   },
   {
    "duration": 14,
    "start_time": "2022-05-26T20:50:23.070Z"
   },
   {
    "duration": 13,
    "start_time": "2022-05-26T20:50:23.085Z"
   },
   {
    "duration": 12,
    "start_time": "2022-05-26T20:50:23.100Z"
   },
   {
    "duration": 30,
    "start_time": "2022-05-26T20:50:23.113Z"
   },
   {
    "duration": 16,
    "start_time": "2022-05-26T20:50:23.160Z"
   },
   {
    "duration": 5,
    "start_time": "2022-05-26T20:50:23.178Z"
   },
   {
    "duration": 3,
    "start_time": "2022-05-26T20:50:23.185Z"
   },
   {
    "duration": 9,
    "start_time": "2022-05-26T20:50:23.189Z"
   },
   {
    "duration": 8,
    "start_time": "2022-05-26T20:50:23.199Z"
   },
   {
    "duration": 7,
    "start_time": "2022-05-26T20:50:23.209Z"
   },
   {
    "duration": 8,
    "start_time": "2022-05-26T20:50:23.219Z"
   },
   {
    "duration": 32,
    "start_time": "2022-05-26T20:50:23.228Z"
   },
   {
    "duration": 3,
    "start_time": "2022-05-26T20:50:23.261Z"
   },
   {
    "duration": 10,
    "start_time": "2022-05-26T20:50:23.265Z"
   },
   {
    "duration": 3,
    "start_time": "2022-05-26T20:50:23.277Z"
   },
   {
    "duration": 12,
    "start_time": "2022-05-26T20:50:23.281Z"
   },
   {
    "duration": 6,
    "start_time": "2022-05-26T20:50:23.295Z"
   },
   {
    "duration": 11,
    "start_time": "2022-05-26T20:50:23.302Z"
   },
   {
    "duration": 9,
    "start_time": "2022-05-26T20:50:23.314Z"
   },
   {
    "duration": 16,
    "start_time": "2022-05-26T20:50:23.324Z"
   },
   {
    "duration": 20,
    "start_time": "2022-05-26T20:50:23.341Z"
   },
   {
    "duration": 12,
    "start_time": "2022-05-26T20:50:23.363Z"
   },
   {
    "duration": 12,
    "start_time": "2022-05-26T20:50:23.377Z"
   },
   {
    "duration": 10,
    "start_time": "2022-05-26T20:50:23.391Z"
   },
   {
    "duration": 21,
    "start_time": "2022-05-26T20:50:23.402Z"
   },
   {
    "duration": 13,
    "start_time": "2022-05-26T20:50:23.424Z"
   },
   {
    "duration": 26,
    "start_time": "2022-05-26T20:50:23.438Z"
   },
   {
    "duration": 4,
    "start_time": "2022-05-26T20:50:23.465Z"
   },
   {
    "duration": 6,
    "start_time": "2022-05-26T20:50:23.470Z"
   },
   {
    "duration": 6,
    "start_time": "2022-05-26T20:50:23.477Z"
   },
   {
    "duration": 8,
    "start_time": "2022-05-26T20:50:23.484Z"
   },
   {
    "duration": 5,
    "start_time": "2022-05-26T20:50:23.493Z"
   },
   {
    "duration": 6,
    "start_time": "2022-05-26T20:50:23.500Z"
   },
   {
    "duration": 20,
    "start_time": "2022-05-26T20:50:23.508Z"
   },
   {
    "duration": 32,
    "start_time": "2022-05-26T20:50:23.529Z"
   },
   {
    "duration": 14,
    "start_time": "2022-05-26T20:50:23.563Z"
   },
   {
    "duration": 5,
    "start_time": "2022-05-26T20:50:23.579Z"
   },
   {
    "duration": 9,
    "start_time": "2022-05-26T20:50:23.585Z"
   },
   {
    "duration": 6,
    "start_time": "2022-05-26T20:50:23.595Z"
   },
   {
    "duration": 10,
    "start_time": "2022-05-26T20:50:23.603Z"
   },
   {
    "duration": 3,
    "start_time": "2022-05-26T20:50:23.614Z"
   },
   {
    "duration": 6,
    "start_time": "2022-05-26T20:50:23.619Z"
   },
   {
    "duration": 34,
    "start_time": "2022-05-26T20:50:23.626Z"
   },
   {
    "duration": 5,
    "start_time": "2022-05-26T20:50:23.662Z"
   },
   {
    "duration": 28,
    "start_time": "2022-05-26T20:50:23.669Z"
   },
   {
    "duration": 81,
    "start_time": "2022-05-26T20:50:23.699Z"
   },
   {
    "duration": 2,
    "start_time": "2022-05-26T20:50:23.782Z"
   },
   {
    "duration": 5,
    "start_time": "2022-05-26T20:50:23.786Z"
   },
   {
    "duration": 5,
    "start_time": "2022-05-26T20:50:23.792Z"
   },
   {
    "duration": 72,
    "start_time": "2022-05-26T20:50:23.798Z"
   },
   {
    "duration": 2997,
    "start_time": "2022-05-26T20:50:23.872Z"
   },
   {
    "duration": 5,
    "start_time": "2022-05-26T20:50:26.871Z"
   },
   {
    "duration": 10,
    "start_time": "2022-05-26T20:50:26.878Z"
   },
   {
    "duration": 12,
    "start_time": "2022-05-26T20:50:26.890Z"
   },
   {
    "duration": 44999,
    "start_time": "2022-05-26T20:50:26.904Z"
   },
   {
    "duration": 0,
    "start_time": "2022-05-26T20:51:11.904Z"
   },
   {
    "duration": 0,
    "start_time": "2022-05-26T20:51:11.905Z"
   },
   {
    "duration": 0,
    "start_time": "2022-05-26T20:51:11.906Z"
   },
   {
    "duration": 3,
    "start_time": "2022-05-26T20:51:21.555Z"
   },
   {
    "duration": 2263,
    "start_time": "2022-05-26T20:51:21.739Z"
   },
   {
    "duration": 3,
    "start_time": "2022-05-26T20:51:24.004Z"
   },
   {
    "duration": 25,
    "start_time": "2022-05-26T20:51:24.008Z"
   },
   {
    "duration": 4,
    "start_time": "2022-05-26T20:51:28.965Z"
   },
   {
    "duration": 1797,
    "start_time": "2022-05-26T20:51:29.151Z"
   },
   {
    "duration": 5,
    "start_time": "2022-05-26T20:51:30.950Z"
   },
   {
    "duration": 39,
    "start_time": "2022-05-26T20:51:30.956Z"
   },
   {
    "duration": 3,
    "start_time": "2022-05-26T20:51:35.185Z"
   },
   {
    "duration": 1567,
    "start_time": "2022-05-26T20:51:35.370Z"
   },
   {
    "duration": 3,
    "start_time": "2022-05-26T20:51:36.939Z"
   },
   {
    "duration": 19,
    "start_time": "2022-05-26T20:51:36.943Z"
   },
   {
    "duration": 3,
    "start_time": "2022-05-26T20:51:43.916Z"
   },
   {
    "duration": 1786,
    "start_time": "2022-05-26T20:51:44.084Z"
   },
   {
    "duration": 4,
    "start_time": "2022-05-26T20:51:45.872Z"
   },
   {
    "duration": 8,
    "start_time": "2022-05-26T20:51:45.877Z"
   },
   {
    "duration": 2,
    "start_time": "2022-05-26T20:51:52.104Z"
   },
   {
    "duration": 1838,
    "start_time": "2022-05-26T20:51:52.293Z"
   },
   {
    "duration": 4,
    "start_time": "2022-05-26T20:51:54.132Z"
   },
   {
    "duration": 7,
    "start_time": "2022-05-26T20:51:54.137Z"
   },
   {
    "duration": 3,
    "start_time": "2022-05-26T20:51:59.059Z"
   },
   {
    "duration": 1888,
    "start_time": "2022-05-26T20:51:59.228Z"
   },
   {
    "duration": 3,
    "start_time": "2022-05-26T20:52:01.118Z"
   },
   {
    "duration": 29,
    "start_time": "2022-05-26T20:52:01.123Z"
   },
   {
    "duration": 3,
    "start_time": "2022-05-26T20:52:04.974Z"
   },
   {
    "duration": 1755,
    "start_time": "2022-05-26T20:52:05.156Z"
   },
   {
    "duration": 3,
    "start_time": "2022-05-26T20:52:06.913Z"
   },
   {
    "duration": 6,
    "start_time": "2022-05-26T20:52:06.917Z"
   },
   {
    "duration": 3,
    "start_time": "2022-05-26T20:52:10.842Z"
   },
   {
    "duration": 1811,
    "start_time": "2022-05-26T20:52:11.010Z"
   },
   {
    "duration": 4,
    "start_time": "2022-05-26T20:52:12.824Z"
   },
   {
    "duration": 5,
    "start_time": "2022-05-26T20:52:12.829Z"
   },
   {
    "duration": 3,
    "start_time": "2022-05-26T20:52:18.198Z"
   },
   {
    "duration": 1833,
    "start_time": "2022-05-26T20:52:18.386Z"
   },
   {
    "duration": 4,
    "start_time": "2022-05-26T20:52:20.220Z"
   },
   {
    "duration": 8,
    "start_time": "2022-05-26T20:52:20.225Z"
   },
   {
    "duration": 2,
    "start_time": "2022-05-26T20:52:24.891Z"
   },
   {
    "duration": 1820,
    "start_time": "2022-05-26T20:52:25.062Z"
   },
   {
    "duration": 3,
    "start_time": "2022-05-26T20:52:26.884Z"
   },
   {
    "duration": 7,
    "start_time": "2022-05-26T20:52:26.888Z"
   },
   {
    "duration": 3,
    "start_time": "2022-05-26T20:52:30.462Z"
   },
   {
    "duration": 1764,
    "start_time": "2022-05-26T20:52:30.653Z"
   },
   {
    "duration": 3,
    "start_time": "2022-05-26T20:52:32.419Z"
   },
   {
    "duration": 20,
    "start_time": "2022-05-26T20:52:32.423Z"
   },
   {
    "duration": 3,
    "start_time": "2022-05-26T20:52:36.169Z"
   },
   {
    "duration": 1487,
    "start_time": "2022-05-26T20:52:36.357Z"
   },
   {
    "duration": 4,
    "start_time": "2022-05-26T20:52:37.846Z"
   },
   {
    "duration": 8,
    "start_time": "2022-05-26T20:52:37.852Z"
   },
   {
    "duration": 3,
    "start_time": "2022-05-26T20:52:42.288Z"
   },
   {
    "duration": 2095,
    "start_time": "2022-05-26T20:52:42.475Z"
   },
   {
    "duration": 5,
    "start_time": "2022-05-26T20:52:44.572Z"
   },
   {
    "duration": 8,
    "start_time": "2022-05-26T20:52:44.579Z"
   },
   {
    "duration": 3,
    "start_time": "2022-05-26T20:52:47.975Z"
   },
   {
    "duration": 2332,
    "start_time": "2022-05-26T20:52:48.171Z"
   },
   {
    "duration": 3,
    "start_time": "2022-05-26T20:52:50.505Z"
   },
   {
    "duration": 9,
    "start_time": "2022-05-26T20:52:50.509Z"
   },
   {
    "duration": 3,
    "start_time": "2022-05-26T20:52:53.854Z"
   },
   {
    "duration": 2364,
    "start_time": "2022-05-26T20:52:54.041Z"
   },
   {
    "duration": 3,
    "start_time": "2022-05-26T20:52:56.407Z"
   },
   {
    "duration": 7,
    "start_time": "2022-05-26T20:52:56.412Z"
   },
   {
    "duration": 3,
    "start_time": "2022-05-26T20:53:00.188Z"
   },
   {
    "duration": 2603,
    "start_time": "2022-05-26T20:53:00.396Z"
   },
   {
    "duration": 5,
    "start_time": "2022-05-26T20:53:03.001Z"
   },
   {
    "duration": 22,
    "start_time": "2022-05-26T20:53:03.007Z"
   },
   {
    "duration": 3,
    "start_time": "2022-05-26T20:53:07.055Z"
   },
   {
    "duration": 2811,
    "start_time": "2022-05-26T20:53:07.234Z"
   },
   {
    "duration": 4,
    "start_time": "2022-05-26T20:53:10.046Z"
   },
   {
    "duration": 5,
    "start_time": "2022-05-26T20:53:10.052Z"
   },
   {
    "duration": 2,
    "start_time": "2022-05-26T20:53:14.796Z"
   },
   {
    "duration": 2952,
    "start_time": "2022-05-26T20:53:14.965Z"
   },
   {
    "duration": 5,
    "start_time": "2022-05-26T20:53:17.919Z"
   },
   {
    "duration": 10,
    "start_time": "2022-05-26T20:53:17.926Z"
   },
   {
    "duration": 3,
    "start_time": "2022-05-26T20:53:23.799Z"
   },
   {
    "duration": 2768,
    "start_time": "2022-05-26T20:53:23.964Z"
   },
   {
    "duration": 3,
    "start_time": "2022-05-26T20:53:26.734Z"
   },
   {
    "duration": 7,
    "start_time": "2022-05-26T20:53:26.739Z"
   },
   {
    "duration": 3,
    "start_time": "2022-05-26T20:53:53.555Z"
   },
   {
    "duration": 29638,
    "start_time": "2022-05-26T20:53:53.735Z"
   },
   {
    "duration": 96,
    "start_time": "2022-05-26T20:54:23.375Z"
   },
   {
    "duration": 24,
    "start_time": "2022-05-26T20:54:23.473Z"
   },
   {
    "duration": 23,
    "start_time": "2022-05-26T20:54:23.498Z"
   },
   {
    "duration": 9,
    "start_time": "2022-05-26T20:55:11.920Z"
   },
   {
    "duration": 9,
    "start_time": "2022-05-26T20:55:17.640Z"
   },
   {
    "duration": 111,
    "start_time": "2022-05-26T20:55:54.823Z"
   },
   {
    "duration": 117,
    "start_time": "2022-05-26T20:56:18.728Z"
   },
   {
    "duration": 134,
    "start_time": "2022-05-26T20:56:22.854Z"
   },
   {
    "duration": 15,
    "start_time": "2022-05-26T21:00:48.313Z"
   },
   {
    "duration": 1298,
    "start_time": "2022-05-26T21:01:34.520Z"
   },
   {
    "duration": 3,
    "start_time": "2022-05-26T21:01:35.820Z"
   },
   {
    "duration": 208,
    "start_time": "2022-05-26T21:01:35.824Z"
   },
   {
    "duration": 12,
    "start_time": "2022-05-26T21:01:36.034Z"
   },
   {
    "duration": 19,
    "start_time": "2022-05-26T21:01:36.048Z"
   },
   {
    "duration": 38,
    "start_time": "2022-05-26T21:01:36.069Z"
   },
   {
    "duration": 4,
    "start_time": "2022-05-26T21:01:36.108Z"
   },
   {
    "duration": 7,
    "start_time": "2022-05-26T21:01:36.114Z"
   },
   {
    "duration": 12,
    "start_time": "2022-05-26T21:01:36.123Z"
   },
   {
    "duration": 27,
    "start_time": "2022-05-26T21:01:36.137Z"
   },
   {
    "duration": 427,
    "start_time": "2022-05-26T21:01:36.166Z"
   },
   {
    "duration": 144,
    "start_time": "2022-05-26T21:01:36.595Z"
   },
   {
    "duration": 16822,
    "start_time": "2022-05-26T21:01:36.741Z"
   },
   {
    "duration": 15,
    "start_time": "2022-05-26T21:01:53.566Z"
   },
   {
    "duration": 20,
    "start_time": "2022-05-26T21:01:53.583Z"
   },
   {
    "duration": 75,
    "start_time": "2022-05-26T21:01:53.605Z"
   },
   {
    "duration": 5,
    "start_time": "2022-05-26T21:01:53.682Z"
   },
   {
    "duration": 19,
    "start_time": "2022-05-26T21:01:53.689Z"
   },
   {
    "duration": 7,
    "start_time": "2022-05-26T21:01:53.710Z"
   },
   {
    "duration": 20,
    "start_time": "2022-05-26T21:01:53.719Z"
   },
   {
    "duration": 34,
    "start_time": "2022-05-26T21:01:53.740Z"
   },
   {
    "duration": 22,
    "start_time": "2022-05-26T21:01:53.776Z"
   },
   {
    "duration": 18,
    "start_time": "2022-05-26T21:01:53.800Z"
   },
   {
    "duration": 30,
    "start_time": "2022-05-26T21:01:53.820Z"
   },
   {
    "duration": 8,
    "start_time": "2022-05-26T21:01:53.852Z"
   },
   {
    "duration": 47,
    "start_time": "2022-05-26T21:01:53.862Z"
   },
   {
    "duration": 7,
    "start_time": "2022-05-26T21:01:53.910Z"
   },
   {
    "duration": 11,
    "start_time": "2022-05-26T21:01:53.921Z"
   },
   {
    "duration": 21,
    "start_time": "2022-05-26T21:01:53.933Z"
   },
   {
    "duration": 43,
    "start_time": "2022-05-26T21:01:53.956Z"
   },
   {
    "duration": 4,
    "start_time": "2022-05-26T21:01:54.002Z"
   },
   {
    "duration": 21,
    "start_time": "2022-05-26T21:01:54.008Z"
   },
   {
    "duration": 10,
    "start_time": "2022-05-26T21:01:54.031Z"
   },
   {
    "duration": 14,
    "start_time": "2022-05-26T21:01:54.043Z"
   },
   {
    "duration": 424,
    "start_time": "2022-05-26T21:01:54.059Z"
   },
   {
    "duration": 132,
    "start_time": "2022-05-26T21:01:54.485Z"
   },
   {
    "duration": 7,
    "start_time": "2022-05-26T21:01:54.619Z"
   },
   {
    "duration": 21,
    "start_time": "2022-05-26T21:01:54.628Z"
   },
   {
    "duration": 23,
    "start_time": "2022-05-26T21:01:54.651Z"
   },
   {
    "duration": 13,
    "start_time": "2022-05-26T21:01:54.676Z"
   },
   {
    "duration": 9,
    "start_time": "2022-05-26T21:01:54.691Z"
   },
   {
    "duration": 13,
    "start_time": "2022-05-26T21:01:54.702Z"
   },
   {
    "duration": 12,
    "start_time": "2022-05-26T21:01:54.717Z"
   },
   {
    "duration": 436,
    "start_time": "2022-05-26T21:01:54.731Z"
   },
   {
    "duration": 132,
    "start_time": "2022-05-26T21:01:55.169Z"
   },
   {
    "duration": 10,
    "start_time": "2022-05-26T21:01:55.304Z"
   },
   {
    "duration": 29,
    "start_time": "2022-05-26T21:01:55.317Z"
   },
   {
    "duration": 60,
    "start_time": "2022-05-26T21:01:55.348Z"
   },
   {
    "duration": 5,
    "start_time": "2022-05-26T21:01:55.409Z"
   },
   {
    "duration": 8,
    "start_time": "2022-05-26T21:01:55.416Z"
   },
   {
    "duration": 7,
    "start_time": "2022-05-26T21:01:55.426Z"
   },
   {
    "duration": 9,
    "start_time": "2022-05-26T21:01:55.434Z"
   },
   {
    "duration": 22,
    "start_time": "2022-05-26T21:01:55.445Z"
   },
   {
    "duration": 22,
    "start_time": "2022-05-26T21:01:55.470Z"
   },
   {
    "duration": 14,
    "start_time": "2022-05-26T21:01:55.494Z"
   },
   {
    "duration": 8,
    "start_time": "2022-05-26T21:01:55.510Z"
   },
   {
    "duration": 13,
    "start_time": "2022-05-26T21:01:55.520Z"
   },
   {
    "duration": 18,
    "start_time": "2022-05-26T21:01:55.535Z"
   },
   {
    "duration": 22,
    "start_time": "2022-05-26T21:01:55.555Z"
   },
   {
    "duration": 10,
    "start_time": "2022-05-26T21:01:55.578Z"
   },
   {
    "duration": 9,
    "start_time": "2022-05-26T21:01:55.590Z"
   },
   {
    "duration": 24,
    "start_time": "2022-05-26T21:01:55.600Z"
   },
   {
    "duration": 8,
    "start_time": "2022-05-26T21:01:55.625Z"
   },
   {
    "duration": 16,
    "start_time": "2022-05-26T21:01:55.634Z"
   },
   {
    "duration": 11,
    "start_time": "2022-05-26T21:01:55.660Z"
   },
   {
    "duration": 25,
    "start_time": "2022-05-26T21:01:55.672Z"
   },
   {
    "duration": 12,
    "start_time": "2022-05-26T21:01:55.699Z"
   },
   {
    "duration": 27,
    "start_time": "2022-05-26T21:01:55.712Z"
   },
   {
    "duration": 34,
    "start_time": "2022-05-26T21:01:55.741Z"
   },
   {
    "duration": 6,
    "start_time": "2022-05-26T21:01:55.777Z"
   },
   {
    "duration": 8,
    "start_time": "2022-05-26T21:01:55.785Z"
   },
   {
    "duration": 9,
    "start_time": "2022-05-26T21:01:55.795Z"
   },
   {
    "duration": 14,
    "start_time": "2022-05-26T21:01:55.806Z"
   },
   {
    "duration": 12,
    "start_time": "2022-05-26T21:01:55.822Z"
   },
   {
    "duration": 6,
    "start_time": "2022-05-26T21:01:55.836Z"
   },
   {
    "duration": 30,
    "start_time": "2022-05-26T21:01:55.843Z"
   },
   {
    "duration": 17,
    "start_time": "2022-05-26T21:01:55.874Z"
   },
   {
    "duration": 16,
    "start_time": "2022-05-26T21:01:55.893Z"
   },
   {
    "duration": 6,
    "start_time": "2022-05-26T21:01:55.911Z"
   },
   {
    "duration": 17,
    "start_time": "2022-05-26T21:01:55.918Z"
   },
   {
    "duration": 13,
    "start_time": "2022-05-26T21:01:55.937Z"
   },
   {
    "duration": 14,
    "start_time": "2022-05-26T21:01:55.958Z"
   },
   {
    "duration": 10,
    "start_time": "2022-05-26T21:01:55.975Z"
   },
   {
    "duration": 23,
    "start_time": "2022-05-26T21:01:55.987Z"
   },
   {
    "duration": 7,
    "start_time": "2022-05-26T21:01:56.012Z"
   },
   {
    "duration": 14,
    "start_time": "2022-05-26T21:01:56.021Z"
   },
   {
    "duration": 17,
    "start_time": "2022-05-26T21:01:56.036Z"
   },
   {
    "duration": 18,
    "start_time": "2022-05-26T21:01:56.054Z"
   },
   {
    "duration": 23,
    "start_time": "2022-05-26T21:01:56.075Z"
   },
   {
    "duration": 14,
    "start_time": "2022-05-26T21:01:56.100Z"
   },
   {
    "duration": 6,
    "start_time": "2022-05-26T21:01:56.115Z"
   },
   {
    "duration": 8,
    "start_time": "2022-05-26T21:01:56.122Z"
   },
   {
    "duration": 10,
    "start_time": "2022-05-26T21:01:56.132Z"
   },
   {
    "duration": 19,
    "start_time": "2022-05-26T21:01:56.144Z"
   },
   {
    "duration": 20,
    "start_time": "2022-05-26T21:01:56.168Z"
   },
   {
    "duration": 5,
    "start_time": "2022-05-26T21:01:56.190Z"
   },
   {
    "duration": 12,
    "start_time": "2022-05-26T21:01:56.197Z"
   },
   {
    "duration": 27,
    "start_time": "2022-05-26T21:01:56.210Z"
   },
   {
    "duration": 8,
    "start_time": "2022-05-26T21:01:56.239Z"
   },
   {
    "duration": 27,
    "start_time": "2022-05-26T21:01:56.249Z"
   },
   {
    "duration": 5,
    "start_time": "2022-05-26T21:01:56.277Z"
   },
   {
    "duration": 7,
    "start_time": "2022-05-26T21:01:56.284Z"
   },
   {
    "duration": 9,
    "start_time": "2022-05-26T21:01:56.292Z"
   },
   {
    "duration": 10,
    "start_time": "2022-05-26T21:01:56.303Z"
   },
   {
    "duration": 4,
    "start_time": "2022-05-26T21:01:56.314Z"
   },
   {
    "duration": 7,
    "start_time": "2022-05-26T21:01:56.319Z"
   },
   {
    "duration": 10,
    "start_time": "2022-05-26T21:01:56.329Z"
   },
   {
    "duration": 9,
    "start_time": "2022-05-26T21:01:56.341Z"
   },
   {
    "duration": 34,
    "start_time": "2022-05-26T21:01:56.367Z"
   },
   {
    "duration": 88,
    "start_time": "2022-05-26T21:01:56.404Z"
   },
   {
    "duration": 4,
    "start_time": "2022-05-26T21:01:56.493Z"
   },
   {
    "duration": 11,
    "start_time": "2022-05-26T21:01:56.498Z"
   },
   {
    "duration": 4,
    "start_time": "2022-05-26T21:01:56.562Z"
   },
   {
    "duration": 126294,
    "start_time": "2022-05-26T21:01:56.570Z"
   },
   {
    "duration": 14,
    "start_time": "2022-05-26T21:04:02.865Z"
   },
   {
    "duration": 62,
    "start_time": "2022-05-26T21:04:02.886Z"
   },
   {
    "duration": 3,
    "start_time": "2022-05-26T21:04:02.950Z"
   },
   {
    "duration": 3688,
    "start_time": "2022-05-26T21:04:02.955Z"
   },
   {
    "duration": 6,
    "start_time": "2022-05-26T21:04:06.645Z"
   },
   {
    "duration": 35,
    "start_time": "2022-05-26T21:04:06.653Z"
   },
   {
    "duration": 25,
    "start_time": "2022-05-26T21:04:06.689Z"
   },
   {
    "duration": 97385,
    "start_time": "2022-05-26T21:04:06.716Z"
   },
   {
    "duration": 32,
    "start_time": "2022-05-26T21:05:44.163Z"
   },
   {
    "duration": 14,
    "start_time": "2022-05-26T21:05:44.198Z"
   },
   {
    "duration": 151,
    "start_time": "2022-05-26T21:05:44.213Z"
   },
   {
    "duration": 1332,
    "start_time": "2022-05-27T05:59:23.188Z"
   },
   {
    "duration": 3,
    "start_time": "2022-05-27T05:59:24.521Z"
   },
   {
    "duration": 516,
    "start_time": "2022-05-27T05:59:24.525Z"
   },
   {
    "duration": 15,
    "start_time": "2022-05-27T05:59:25.789Z"
   },
   {
    "duration": 12,
    "start_time": "2022-05-27T05:59:26.011Z"
   },
   {
    "duration": 18,
    "start_time": "2022-05-27T05:59:26.227Z"
   },
   {
    "duration": 3,
    "start_time": "2022-05-27T05:59:26.393Z"
   },
   {
    "duration": 4,
    "start_time": "2022-05-27T05:59:26.756Z"
   },
   {
    "duration": 7,
    "start_time": "2022-05-27T05:59:27.059Z"
   },
   {
    "duration": 18,
    "start_time": "2022-05-27T05:59:27.213Z"
   },
   {
    "duration": 421,
    "start_time": "2022-05-27T05:59:27.553Z"
   },
   {
    "duration": 152,
    "start_time": "2022-05-27T05:59:27.976Z"
   },
   {
    "duration": 16269,
    "start_time": "2022-05-27T05:59:28.533Z"
   },
   {
    "duration": 12,
    "start_time": "2022-05-27T05:59:44.804Z"
   },
   {
    "duration": 19,
    "start_time": "2022-05-27T05:59:44.817Z"
   },
   {
    "duration": 57,
    "start_time": "2022-05-27T05:59:44.838Z"
   },
   {
    "duration": 5,
    "start_time": "2022-05-27T05:59:44.897Z"
   },
   {
    "duration": 13,
    "start_time": "2022-05-27T05:59:44.903Z"
   },
   {
    "duration": 4,
    "start_time": "2022-05-27T05:59:44.918Z"
   },
   {
    "duration": 8,
    "start_time": "2022-05-27T05:59:44.923Z"
   },
   {
    "duration": 9,
    "start_time": "2022-05-27T05:59:44.933Z"
   },
   {
    "duration": 13,
    "start_time": "2022-05-27T05:59:44.945Z"
   },
   {
    "duration": 49,
    "start_time": "2022-05-27T05:59:44.960Z"
   },
   {
    "duration": 23,
    "start_time": "2022-05-27T05:59:45.011Z"
   },
   {
    "duration": 5,
    "start_time": "2022-05-27T05:59:45.036Z"
   },
   {
    "duration": 13,
    "start_time": "2022-05-27T05:59:45.043Z"
   },
   {
    "duration": 3,
    "start_time": "2022-05-27T05:59:45.058Z"
   },
   {
    "duration": 9,
    "start_time": "2022-05-27T05:59:45.062Z"
   },
   {
    "duration": 29,
    "start_time": "2022-05-27T05:59:45.073Z"
   },
   {
    "duration": 15,
    "start_time": "2022-05-27T05:59:45.104Z"
   },
   {
    "duration": 4,
    "start_time": "2022-05-27T05:59:45.121Z"
   },
   {
    "duration": 6,
    "start_time": "2022-05-27T05:59:45.127Z"
   },
   {
    "duration": 6,
    "start_time": "2022-05-27T05:59:45.134Z"
   },
   {
    "duration": 6,
    "start_time": "2022-05-27T05:59:45.142Z"
   },
   {
    "duration": 454,
    "start_time": "2022-05-27T05:59:45.149Z"
   },
   {
    "duration": 122,
    "start_time": "2022-05-27T05:59:45.605Z"
   },
   {
    "duration": 7,
    "start_time": "2022-05-27T05:59:45.729Z"
   },
   {
    "duration": 14,
    "start_time": "2022-05-27T05:59:45.737Z"
   },
   {
    "duration": 13,
    "start_time": "2022-05-27T05:59:45.753Z"
   },
   {
    "duration": 3,
    "start_time": "2022-05-27T05:59:45.769Z"
   },
   {
    "duration": 3,
    "start_time": "2022-05-27T05:59:45.794Z"
   },
   {
    "duration": 8,
    "start_time": "2022-05-27T05:59:45.799Z"
   },
   {
    "duration": 9,
    "start_time": "2022-05-27T05:59:45.809Z"
   },
   {
    "duration": 385,
    "start_time": "2022-05-27T05:59:45.820Z"
   },
   {
    "duration": 118,
    "start_time": "2022-05-27T05:59:46.207Z"
   },
   {
    "duration": 9,
    "start_time": "2022-05-27T05:59:46.327Z"
   },
   {
    "duration": 15,
    "start_time": "2022-05-27T05:59:46.337Z"
   },
   {
    "duration": 47,
    "start_time": "2022-05-27T05:59:46.353Z"
   },
   {
    "duration": 4,
    "start_time": "2022-05-27T05:59:46.401Z"
   },
   {
    "duration": 11,
    "start_time": "2022-05-27T05:59:46.406Z"
   },
   {
    "duration": 14,
    "start_time": "2022-05-27T05:59:46.418Z"
   },
   {
    "duration": 23,
    "start_time": "2022-05-27T05:59:46.434Z"
   },
   {
    "duration": 15,
    "start_time": "2022-05-27T05:59:46.458Z"
   },
   {
    "duration": 20,
    "start_time": "2022-05-27T05:59:46.474Z"
   },
   {
    "duration": 19,
    "start_time": "2022-05-27T05:59:46.496Z"
   },
   {
    "duration": 9,
    "start_time": "2022-05-27T05:59:46.516Z"
   },
   {
    "duration": 17,
    "start_time": "2022-05-27T05:59:46.526Z"
   },
   {
    "duration": 22,
    "start_time": "2022-05-27T05:59:46.544Z"
   },
   {
    "duration": 17,
    "start_time": "2022-05-27T05:59:46.567Z"
   },
   {
    "duration": 8,
    "start_time": "2022-05-27T06:00:10.909Z"
   },
   {
    "duration": 8,
    "start_time": "2022-05-27T06:00:13.473Z"
   },
   {
    "duration": 25,
    "start_time": "2022-05-27T06:00:33.685Z"
   },
   {
    "duration": 9,
    "start_time": "2022-05-27T06:00:37.455Z"
   },
   {
    "duration": 14,
    "start_time": "2022-05-27T06:00:39.053Z"
   },
   {
    "duration": 11,
    "start_time": "2022-05-27T06:00:41.155Z"
   },
   {
    "duration": 13,
    "start_time": "2022-05-27T06:00:43.002Z"
   },
   {
    "duration": 15,
    "start_time": "2022-05-27T06:00:45.717Z"
   },
   {
    "duration": 31,
    "start_time": "2022-05-27T06:00:48.192Z"
   },
   {
    "duration": 16,
    "start_time": "2022-05-27T06:00:50.316Z"
   },
   {
    "duration": 6,
    "start_time": "2022-05-27T06:00:51.049Z"
   },
   {
    "duration": 2,
    "start_time": "2022-05-27T06:00:51.689Z"
   },
   {
    "duration": 7,
    "start_time": "2022-05-27T06:00:52.179Z"
   },
   {
    "duration": 6,
    "start_time": "2022-05-27T06:00:53.406Z"
   },
   {
    "duration": 7,
    "start_time": "2022-05-27T06:00:53.624Z"
   },
   {
    "duration": 3,
    "start_time": "2022-05-27T06:00:53.824Z"
   },
   {
    "duration": 13,
    "start_time": "2022-05-27T06:00:54.002Z"
   },
   {
    "duration": 4,
    "start_time": "2022-05-27T06:00:54.211Z"
   },
   {
    "duration": 10,
    "start_time": "2022-05-27T06:00:55.147Z"
   },
   {
    "duration": 3,
    "start_time": "2022-05-27T06:00:55.410Z"
   },
   {
    "duration": 15,
    "start_time": "2022-05-27T06:00:55.719Z"
   },
   {
    "duration": 4,
    "start_time": "2022-05-27T06:00:55.923Z"
   },
   {
    "duration": 12,
    "start_time": "2022-05-27T06:00:56.708Z"
   },
   {
    "duration": 4,
    "start_time": "2022-05-27T06:00:56.964Z"
   },
   {
    "duration": 16,
    "start_time": "2022-05-27T06:00:57.160Z"
   },
   {
    "duration": 7,
    "start_time": "2022-05-27T06:00:57.560Z"
   },
   {
    "duration": 9,
    "start_time": "2022-05-27T06:00:58.019Z"
   },
   {
    "duration": 11,
    "start_time": "2022-05-27T06:00:58.481Z"
   },
   {
    "duration": 10,
    "start_time": "2022-05-27T06:00:58.668Z"
   },
   {
    "duration": 18,
    "start_time": "2022-05-27T06:00:59.177Z"
   },
   {
    "duration": 15,
    "start_time": "2022-05-27T06:00:59.557Z"
   },
   {
    "duration": 8,
    "start_time": "2022-05-27T06:01:01.756Z"
   },
   {
    "duration": 5,
    "start_time": "2022-05-27T06:01:02.159Z"
   },
   {
    "duration": 5,
    "start_time": "2022-05-27T06:01:03.488Z"
   },
   {
    "duration": 4,
    "start_time": "2022-05-27T06:01:03.719Z"
   },
   {
    "duration": 6,
    "start_time": "2022-05-27T06:01:04.359Z"
   },
   {
    "duration": 4,
    "start_time": "2022-05-27T06:01:04.996Z"
   },
   {
    "duration": 7,
    "start_time": "2022-05-27T06:01:05.845Z"
   },
   {
    "duration": 31,
    "start_time": "2022-05-27T06:01:06.053Z"
   },
   {
    "duration": 11,
    "start_time": "2022-05-27T06:01:07.417Z"
   },
   {
    "duration": 12,
    "start_time": "2022-05-27T06:01:07.962Z"
   },
   {
    "duration": 4,
    "start_time": "2022-05-27T06:01:08.171Z"
   },
   {
    "duration": 8,
    "start_time": "2022-05-27T06:01:08.582Z"
   },
   {
    "duration": 7,
    "start_time": "2022-05-27T06:01:08.811Z"
   },
   {
    "duration": 14,
    "start_time": "2022-05-27T06:01:09.187Z"
   },
   {
    "duration": 113,
    "start_time": "2022-05-27T06:04:23.986Z"
   },
   {
    "duration": 14,
    "start_time": "2022-05-27T06:04:30.479Z"
   },
   {
    "duration": 16,
    "start_time": "2022-05-27T06:05:52.176Z"
   },
   {
    "duration": 4,
    "start_time": "2022-05-27T06:08:27.029Z"
   },
   {
    "duration": 6,
    "start_time": "2022-05-27T06:08:28.490Z"
   },
   {
    "duration": 3,
    "start_time": "2022-05-27T06:08:28.922Z"
   },
   {
    "duration": 6,
    "start_time": "2022-05-27T06:08:33.859Z"
   },
   {
    "duration": 36,
    "start_time": "2022-05-27T06:08:34.708Z"
   },
   {
    "duration": 29,
    "start_time": "2022-05-27T06:08:38.902Z"
   },
   {
    "duration": 2,
    "start_time": "2022-05-27T06:08:56.967Z"
   },
   {
    "duration": 3190,
    "start_time": "2022-05-27T06:08:57.599Z"
   },
   {
    "duration": 4,
    "start_time": "2022-05-27T06:09:00.791Z"
   },
   {
    "duration": 13,
    "start_time": "2022-05-27T06:09:00.797Z"
   },
   {
    "duration": 3,
    "start_time": "2022-05-27T06:09:01.009Z"
   }
  ],
  "interpreter": {
   "hash": "40d3a090f54c6569ab1632332b64b2c03c39dcf918b08424e98f38b5ae0af88f"
  },
  "kernelspec": {
   "display_name": "Python 3 (ipykernel)",
   "language": "python",
   "name": "python3"
  },
  "language_info": {
   "codemirror_mode": {
    "name": "ipython",
    "version": 3
   },
   "file_extension": ".py",
   "mimetype": "text/x-python",
   "name": "python",
   "nbconvert_exporter": "python",
   "pygments_lexer": "ipython3",
   "version": "3.9.7"
  },
  "toc": {
   "base_numbering": 1,
   "nav_menu": {},
   "number_sections": true,
   "sideBar": true,
   "skip_h1_title": true,
   "title_cell": "Table of Contents",
   "title_sidebar": "Contents",
   "toc_cell": false,
   "toc_position": {},
   "toc_section_display": true,
   "toc_window_display": false
  }
 },
 "nbformat": 4,
 "nbformat_minor": 4
}

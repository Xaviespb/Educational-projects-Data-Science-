{
 "cells": [
  {
   "cell_type": "markdown",
   "metadata": {},
   "source": [
    "# Отток клиентов"
   ]
  },
  {
   "cell_type": "markdown",
   "metadata": {},
   "source": [
    "Из «Банка» стали уходить клиенты. Банковские маркетологи посчитали: сохранять текущих клиентов дешевле, чем привлекать новых.\n",
    "\n",
    "Нужно спрогнозировать, уйдёт клиент из банка в ближайшее время или нет.\n",
    "\n",
    "Постройте модель с предельно большим значением *F1*-меры. Чтобы сдать проект успешно, нужно довести метрику до 0.59. Проверьте *F1*-меру на тестовой выборке самостоятельно.\n",
    "\n",
    "Дополнительно измеряйте *AUC-ROC*, сравнивайте её значение с *F1*-мерой.\n",
    "\n",
    "Источник данных: [https://www.kaggle.com/barelydedicated/bank-customer-churn-modeling](https://www.kaggle.com/barelydedicated/bank-customer-churn-modeling)"
   ]
  },
  {
   "cell_type": "markdown",
   "metadata": {},
   "source": [
    "## Подготовка данных"
   ]
  },
  {
   "cell_type": "markdown",
   "metadata": {},
   "source": [
    "Импорт необходимых библиотек"
   ]
  },
  {
   "cell_type": "code",
   "execution_count": 1,
   "metadata": {},
   "outputs": [],
   "source": [
    "import pandas as pd\n",
    "from sklearn.tree import DecisionTreeClassifier\n",
    "from sklearn.linear_model import LogisticRegression\n",
    "from sklearn.ensemble import RandomForestClassifier\n",
    "from sklearn.model_selection import train_test_split, GridSearchCV\n",
    "from sklearn.metrics import roc_auc_score\n",
    "from sklearn.metrics import f1_score\n",
    "from sklearn.preprocessing import StandardScaler\n",
    "from sklearn.utils import shuffle\n",
    "from sklearn.metrics import roc_curve\n",
    "import matplotlib.pyplot as plt"
   ]
  },
  {
   "cell_type": "code",
   "execution_count": 2,
   "metadata": {
    "scrolled": false
   },
   "outputs": [
    {
     "name": "stdout",
     "output_type": "stream",
     "text": [
      "<class 'pandas.core.frame.DataFrame'>\n",
      "RangeIndex: 10000 entries, 0 to 9999\n",
      "Data columns (total 14 columns):\n",
      "RowNumber          10000 non-null int64\n",
      "CustomerId         10000 non-null int64\n",
      "Surname            10000 non-null object\n",
      "CreditScore        10000 non-null int64\n",
      "Geography          10000 non-null object\n",
      "Gender             10000 non-null object\n",
      "Age                10000 non-null int64\n",
      "Tenure             9091 non-null float64\n",
      "Balance            10000 non-null float64\n",
      "NumOfProducts      10000 non-null int64\n",
      "HasCrCard          10000 non-null int64\n",
      "IsActiveMember     10000 non-null int64\n",
      "EstimatedSalary    10000 non-null float64\n",
      "Exited             10000 non-null int64\n",
      "dtypes: float64(3), int64(8), object(3)\n",
      "memory usage: 1.1+ MB\n"
     ]
    }
   ],
   "source": [
    "df = pd.read_csv('/datasets/Churn.csv')\n",
    "df.info()"
   ]
  },
  {
   "cell_type": "code",
   "execution_count": 3,
   "metadata": {},
   "outputs": [
    {
     "data": {
      "text/html": [
       "<div>\n",
       "<style scoped>\n",
       "    .dataframe tbody tr th:only-of-type {\n",
       "        vertical-align: middle;\n",
       "    }\n",
       "\n",
       "    .dataframe tbody tr th {\n",
       "        vertical-align: top;\n",
       "    }\n",
       "\n",
       "    .dataframe thead th {\n",
       "        text-align: right;\n",
       "    }\n",
       "</style>\n",
       "<table border=\"1\" class=\"dataframe\">\n",
       "  <thead>\n",
       "    <tr style=\"text-align: right;\">\n",
       "      <th></th>\n",
       "      <th>RowNumber</th>\n",
       "      <th>CustomerId</th>\n",
       "      <th>Surname</th>\n",
       "      <th>CreditScore</th>\n",
       "      <th>Geography</th>\n",
       "      <th>Gender</th>\n",
       "      <th>Age</th>\n",
       "      <th>Tenure</th>\n",
       "      <th>Balance</th>\n",
       "      <th>NumOfProducts</th>\n",
       "      <th>HasCrCard</th>\n",
       "      <th>IsActiveMember</th>\n",
       "      <th>EstimatedSalary</th>\n",
       "      <th>Exited</th>\n",
       "    </tr>\n",
       "  </thead>\n",
       "  <tbody>\n",
       "    <tr>\n",
       "      <td>0</td>\n",
       "      <td>1</td>\n",
       "      <td>15634602</td>\n",
       "      <td>Hargrave</td>\n",
       "      <td>619</td>\n",
       "      <td>France</td>\n",
       "      <td>Female</td>\n",
       "      <td>42</td>\n",
       "      <td>2.0</td>\n",
       "      <td>0.00</td>\n",
       "      <td>1</td>\n",
       "      <td>1</td>\n",
       "      <td>1</td>\n",
       "      <td>101348.88</td>\n",
       "      <td>1</td>\n",
       "    </tr>\n",
       "    <tr>\n",
       "      <td>1</td>\n",
       "      <td>2</td>\n",
       "      <td>15647311</td>\n",
       "      <td>Hill</td>\n",
       "      <td>608</td>\n",
       "      <td>Spain</td>\n",
       "      <td>Female</td>\n",
       "      <td>41</td>\n",
       "      <td>1.0</td>\n",
       "      <td>83807.86</td>\n",
       "      <td>1</td>\n",
       "      <td>0</td>\n",
       "      <td>1</td>\n",
       "      <td>112542.58</td>\n",
       "      <td>0</td>\n",
       "    </tr>\n",
       "    <tr>\n",
       "      <td>2</td>\n",
       "      <td>3</td>\n",
       "      <td>15619304</td>\n",
       "      <td>Onio</td>\n",
       "      <td>502</td>\n",
       "      <td>France</td>\n",
       "      <td>Female</td>\n",
       "      <td>42</td>\n",
       "      <td>8.0</td>\n",
       "      <td>159660.80</td>\n",
       "      <td>3</td>\n",
       "      <td>1</td>\n",
       "      <td>0</td>\n",
       "      <td>113931.57</td>\n",
       "      <td>1</td>\n",
       "    </tr>\n",
       "    <tr>\n",
       "      <td>3</td>\n",
       "      <td>4</td>\n",
       "      <td>15701354</td>\n",
       "      <td>Boni</td>\n",
       "      <td>699</td>\n",
       "      <td>France</td>\n",
       "      <td>Female</td>\n",
       "      <td>39</td>\n",
       "      <td>1.0</td>\n",
       "      <td>0.00</td>\n",
       "      <td>2</td>\n",
       "      <td>0</td>\n",
       "      <td>0</td>\n",
       "      <td>93826.63</td>\n",
       "      <td>0</td>\n",
       "    </tr>\n",
       "    <tr>\n",
       "      <td>4</td>\n",
       "      <td>5</td>\n",
       "      <td>15737888</td>\n",
       "      <td>Mitchell</td>\n",
       "      <td>850</td>\n",
       "      <td>Spain</td>\n",
       "      <td>Female</td>\n",
       "      <td>43</td>\n",
       "      <td>2.0</td>\n",
       "      <td>125510.82</td>\n",
       "      <td>1</td>\n",
       "      <td>1</td>\n",
       "      <td>1</td>\n",
       "      <td>79084.10</td>\n",
       "      <td>0</td>\n",
       "    </tr>\n",
       "  </tbody>\n",
       "</table>\n",
       "</div>"
      ],
      "text/plain": [
       "   RowNumber  CustomerId   Surname  CreditScore Geography  Gender  Age  \\\n",
       "0          1    15634602  Hargrave          619    France  Female   42   \n",
       "1          2    15647311      Hill          608     Spain  Female   41   \n",
       "2          3    15619304      Onio          502    France  Female   42   \n",
       "3          4    15701354      Boni          699    France  Female   39   \n",
       "4          5    15737888  Mitchell          850     Spain  Female   43   \n",
       "\n",
       "   Tenure    Balance  NumOfProducts  HasCrCard  IsActiveMember  \\\n",
       "0     2.0       0.00              1          1               1   \n",
       "1     1.0   83807.86              1          0               1   \n",
       "2     8.0  159660.80              3          1               0   \n",
       "3     1.0       0.00              2          0               0   \n",
       "4     2.0  125510.82              1          1               1   \n",
       "\n",
       "   EstimatedSalary  Exited  \n",
       "0        101348.88       1  \n",
       "1        112542.58       0  \n",
       "2        113931.57       1  \n",
       "3         93826.63       0  \n",
       "4         79084.10       0  "
      ]
     },
     "execution_count": 3,
     "metadata": {},
     "output_type": "execute_result"
    }
   ],
   "source": [
    "df.head()"
   ]
  },
  {
   "cell_type": "code",
   "execution_count": 4,
   "metadata": {
    "scrolled": true
   },
   "outputs": [
    {
     "data": {
      "text/plain": [
       "909"
      ]
     },
     "execution_count": 4,
     "metadata": {},
     "output_type": "execute_result"
    }
   ],
   "source": [
    "df['Tenure'].isna().sum()"
   ]
  },
  {
   "cell_type": "markdown",
   "metadata": {},
   "source": [
    "Обнаружили в признаке Tenure (сколько лет человек является клиентом банка) 909 пропусков"
   ]
  },
  {
   "cell_type": "code",
   "execution_count": 5,
   "metadata": {
    "scrolled": true
   },
   "outputs": [],
   "source": [
    "df['Tenure'] = df['Tenure'].fillna(df['Tenure'].median())"
   ]
  },
  {
   "cell_type": "markdown",
   "metadata": {},
   "source": [
    "Заполним пропуски средним значением"
   ]
  },
  {
   "cell_type": "markdown",
   "metadata": {},
   "source": [
    "Проводим OHE (One-Hot Encoding) для работы логистической регрессии она работает только с численными значениями"
   ]
  },
  {
   "cell_type": "code",
   "execution_count": 6,
   "metadata": {},
   "outputs": [],
   "source": [
    "df = df.drop(['CustomerId', 'Surname', 'RowNumber'] , axis=1)"
   ]
  },
  {
   "cell_type": "code",
   "execution_count": 7,
   "metadata": {},
   "outputs": [],
   "source": [
    "data_ohe = pd.get_dummies(df, drop_first=True)"
   ]
  },
  {
   "cell_type": "code",
   "execution_count": 8,
   "metadata": {},
   "outputs": [
    {
     "data": {
      "text/html": [
       "<div>\n",
       "<style scoped>\n",
       "    .dataframe tbody tr th:only-of-type {\n",
       "        vertical-align: middle;\n",
       "    }\n",
       "\n",
       "    .dataframe tbody tr th {\n",
       "        vertical-align: top;\n",
       "    }\n",
       "\n",
       "    .dataframe thead th {\n",
       "        text-align: right;\n",
       "    }\n",
       "</style>\n",
       "<table border=\"1\" class=\"dataframe\">\n",
       "  <thead>\n",
       "    <tr style=\"text-align: right;\">\n",
       "      <th></th>\n",
       "      <th>CreditScore</th>\n",
       "      <th>Age</th>\n",
       "      <th>Tenure</th>\n",
       "      <th>Balance</th>\n",
       "      <th>NumOfProducts</th>\n",
       "      <th>HasCrCard</th>\n",
       "      <th>IsActiveMember</th>\n",
       "      <th>EstimatedSalary</th>\n",
       "      <th>Exited</th>\n",
       "      <th>Geography_Germany</th>\n",
       "      <th>Geography_Spain</th>\n",
       "      <th>Gender_Male</th>\n",
       "    </tr>\n",
       "  </thead>\n",
       "  <tbody>\n",
       "    <tr>\n",
       "      <td>0</td>\n",
       "      <td>619</td>\n",
       "      <td>42</td>\n",
       "      <td>2.0</td>\n",
       "      <td>0.00</td>\n",
       "      <td>1</td>\n",
       "      <td>1</td>\n",
       "      <td>1</td>\n",
       "      <td>101348.88</td>\n",
       "      <td>1</td>\n",
       "      <td>0</td>\n",
       "      <td>0</td>\n",
       "      <td>0</td>\n",
       "    </tr>\n",
       "    <tr>\n",
       "      <td>1</td>\n",
       "      <td>608</td>\n",
       "      <td>41</td>\n",
       "      <td>1.0</td>\n",
       "      <td>83807.86</td>\n",
       "      <td>1</td>\n",
       "      <td>0</td>\n",
       "      <td>1</td>\n",
       "      <td>112542.58</td>\n",
       "      <td>0</td>\n",
       "      <td>0</td>\n",
       "      <td>1</td>\n",
       "      <td>0</td>\n",
       "    </tr>\n",
       "    <tr>\n",
       "      <td>2</td>\n",
       "      <td>502</td>\n",
       "      <td>42</td>\n",
       "      <td>8.0</td>\n",
       "      <td>159660.80</td>\n",
       "      <td>3</td>\n",
       "      <td>1</td>\n",
       "      <td>0</td>\n",
       "      <td>113931.57</td>\n",
       "      <td>1</td>\n",
       "      <td>0</td>\n",
       "      <td>0</td>\n",
       "      <td>0</td>\n",
       "    </tr>\n",
       "    <tr>\n",
       "      <td>3</td>\n",
       "      <td>699</td>\n",
       "      <td>39</td>\n",
       "      <td>1.0</td>\n",
       "      <td>0.00</td>\n",
       "      <td>2</td>\n",
       "      <td>0</td>\n",
       "      <td>0</td>\n",
       "      <td>93826.63</td>\n",
       "      <td>0</td>\n",
       "      <td>0</td>\n",
       "      <td>0</td>\n",
       "      <td>0</td>\n",
       "    </tr>\n",
       "    <tr>\n",
       "      <td>4</td>\n",
       "      <td>850</td>\n",
       "      <td>43</td>\n",
       "      <td>2.0</td>\n",
       "      <td>125510.82</td>\n",
       "      <td>1</td>\n",
       "      <td>1</td>\n",
       "      <td>1</td>\n",
       "      <td>79084.10</td>\n",
       "      <td>0</td>\n",
       "      <td>0</td>\n",
       "      <td>1</td>\n",
       "      <td>0</td>\n",
       "    </tr>\n",
       "  </tbody>\n",
       "</table>\n",
       "</div>"
      ],
      "text/plain": [
       "   CreditScore  Age  Tenure    Balance  NumOfProducts  HasCrCard  \\\n",
       "0          619   42     2.0       0.00              1          1   \n",
       "1          608   41     1.0   83807.86              1          0   \n",
       "2          502   42     8.0  159660.80              3          1   \n",
       "3          699   39     1.0       0.00              2          0   \n",
       "4          850   43     2.0  125510.82              1          1   \n",
       "\n",
       "   IsActiveMember  EstimatedSalary  Exited  Geography_Germany  \\\n",
       "0               1        101348.88       1                  0   \n",
       "1               1        112542.58       0                  0   \n",
       "2               0        113931.57       1                  0   \n",
       "3               0         93826.63       0                  0   \n",
       "4               1         79084.10       0                  0   \n",
       "\n",
       "   Geography_Spain  Gender_Male  \n",
       "0                0            0  \n",
       "1                1            0  \n",
       "2                0            0  \n",
       "3                0            0  \n",
       "4                1            0  "
      ]
     },
     "execution_count": 8,
     "metadata": {},
     "output_type": "execute_result"
    }
   ],
   "source": [
    "data_ohe.head()"
   ]
  },
  {
   "cell_type": "markdown",
   "metadata": {},
   "source": [
    "Разделим выборку на признаки и целевой признак <br>\n",
    "Выделим тестовую выборку"
   ]
  },
  {
   "cell_type": "code",
   "execution_count": 9,
   "metadata": {},
   "outputs": [],
   "source": [
    "target = data_ohe['Exited']\n",
    "features = data_ohe.drop(['Exited'] , axis=1)\n",
    "n = df.shape[0]\n",
    "features_train, features_test, target_train, target_test = train_test_split(\n",
    "    features, target, test_size=0.2, random_state=17)"
   ]
  },
  {
   "cell_type": "markdown",
   "metadata": {},
   "source": [
    "Выделим валидационную выборку"
   ]
  },
  {
   "cell_type": "code",
   "execution_count": 10,
   "metadata": {},
   "outputs": [],
   "source": [
    "features_train, features_valid, target_train, target_valid = train_test_split(\n",
    "    features_train, target_train, test_size=0.25, random_state=17)"
   ]
  },
  {
   "cell_type": "code",
   "execution_count": 11,
   "metadata": {},
   "outputs": [
    {
     "name": "stdout",
     "output_type": "stream",
     "text": [
      "Размер обучающего набора: 0.6        размер проверочного набора: 0.2        размер тестового набора: 0.2\n"
     ]
    }
   ],
   "source": [
    "print(f'Размер обучающего набора: {features_train.shape[0]/n}\\\n",
    "        размер проверочного набора: {features_valid.shape[0]/n}\\\n",
    "        размер тестового набора: {features_test.shape[0]/n}'\\\n",
    "     )"
   ]
  },
  {
   "cell_type": "code",
   "execution_count": 12,
   "metadata": {},
   "outputs": [
    {
     "name": "stdout",
     "output_type": "stream",
     "text": [
      "Среднее обучающего набора: 0.203        среднее проверочного набора: 0.2025        среднее тестового набора: 0.207\n"
     ]
    }
   ],
   "source": [
    "print(f'Среднее обучающего набора: {target_train.mean()}\\\n",
    "        среднее проверочного набора: {target_valid.mean()}\\\n",
    "        среднее тестового набора: {target_test.mean()}'\\\n",
    "     )"
   ]
  },
  {
   "cell_type": "markdown",
   "metadata": {},
   "source": [
    "Отмасштабируем числовые признаки, чтобы алгоритм не решил, что больший по размерности признак более важен"
   ]
  },
  {
   "cell_type": "code",
   "execution_count": 13,
   "metadata": {},
   "outputs": [],
   "source": [
    "numeric = ['CreditScore', 'Age', 'Tenure', 'Balance', 'EstimatedSalary']"
   ]
  },
  {
   "cell_type": "code",
   "execution_count": 14,
   "metadata": {
    "scrolled": false
   },
   "outputs": [
    {
     "name": "stderr",
     "output_type": "stream",
     "text": [
      "/opt/conda/lib/python3.7/site-packages/ipykernel_launcher.py:5: SettingWithCopyWarning: \n",
      "A value is trying to be set on a copy of a slice from a DataFrame.\n",
      "Try using .loc[row_indexer,col_indexer] = value instead\n",
      "\n",
      "See the caveats in the documentation: http://pandas.pydata.org/pandas-docs/stable/user_guide/indexing.html#returning-a-view-versus-a-copy\n",
      "  \"\"\"\n",
      "/opt/conda/lib/python3.7/site-packages/pandas/core/indexing.py:494: SettingWithCopyWarning: \n",
      "A value is trying to be set on a copy of a slice from a DataFrame.\n",
      "Try using .loc[row_indexer,col_indexer] = value instead\n",
      "\n",
      "See the caveats in the documentation: http://pandas.pydata.org/pandas-docs/stable/user_guide/indexing.html#returning-a-view-versus-a-copy\n",
      "  self.obj[item] = s\n"
     ]
    }
   ],
   "source": [
    "scaler = StandardScaler()\n",
    "scaler.fit(features_train[numeric])\n",
    "features_train[numeric] = scaler.transform(features_train[numeric])\n",
    "features_valid[numeric] = scaler.transform(features_valid[numeric])\n",
    "features_test[numeric] = scaler.transform(features_test[numeric])"
   ]
  },
  {
   "cell_type": "markdown",
   "metadata": {},
   "source": [
    "## Исследование задачи"
   ]
  },
  {
   "cell_type": "markdown",
   "metadata": {},
   "source": [
    "Решаем задачу бинарной классификации"
   ]
  },
  {
   "cell_type": "markdown",
   "metadata": {},
   "source": [
    "### Логистическая регрессия"
   ]
  },
  {
   "cell_type": "code",
   "execution_count": 15,
   "metadata": {},
   "outputs": [
    {
     "data": {
      "text/plain": [
       "LogisticRegression(C=1.0, class_weight=None, dual=False, fit_intercept=True,\n",
       "                   intercept_scaling=1, l1_ratio=None, max_iter=100,\n",
       "                   multi_class='warn', n_jobs=None, penalty='l2',\n",
       "                   random_state=None, solver='liblinear', tol=0.0001, verbose=0,\n",
       "                   warm_start=False)"
      ]
     },
     "execution_count": 15,
     "metadata": {},
     "output_type": "execute_result"
    }
   ],
   "source": [
    "model = LogisticRegression(solver='liblinear')\n",
    "model.fit(features_train, target_train)"
   ]
  },
  {
   "cell_type": "code",
   "execution_count": 16,
   "metadata": {},
   "outputs": [
    {
     "name": "stdout",
     "output_type": "stream",
     "text": [
      "0.3563636363636363\n",
      "0.7649924532683153\n"
     ]
    }
   ],
   "source": [
    "predicted_valid = model.predict(features_valid)\n",
    "\n",
    "probabilities_valid = model.predict_proba(features_valid)\n",
    "probabilities_one_valid = probabilities_valid[:, 1]\n",
    "\n",
    "print(f1_score(target_valid, predicted_valid))\n",
    "print(roc_auc_score(target_valid, probabilities_one_valid))"
   ]
  },
  {
   "cell_type": "markdown",
   "metadata": {},
   "source": [
    "F1 - гармоническое среднее полноты и точности, крайне низкое значение на валидации <br>\n",
    "AUC ROC - близко к случайному алгоритму"
   ]
  },
  {
   "cell_type": "markdown",
   "metadata": {},
   "source": [
    "### Решающее дерево"
   ]
  },
  {
   "cell_type": "code",
   "execution_count": 17,
   "metadata": {},
   "outputs": [],
   "source": [
    "tree = DecisionTreeClassifier(\n",
    "    random_state=17,\n",
    "    max_depth=5\n",
    ")"
   ]
  },
  {
   "cell_type": "markdown",
   "metadata": {},
   "source": [
    "Для подбора гиперпараметров используем GridSearch CV с кроссвалидацией.\n",
    "Подбираем максимальную глубину дерева"
   ]
  },
  {
   "cell_type": "code",
   "execution_count": 18,
   "metadata": {},
   "outputs": [],
   "source": [
    "tree_params = {'max_depth': list(range(1,100))}"
   ]
  },
  {
   "cell_type": "code",
   "execution_count": 19,
   "metadata": {},
   "outputs": [],
   "source": [
    "tree_grid = GridSearchCV(tree,\n",
    "                         tree_params,\n",
    "                         cv=5,\n",
    "                         n_jobs=-1,\n",
    "                         scoring='f1'\n",
    "                        )"
   ]
  },
  {
   "cell_type": "code",
   "execution_count": 20,
   "metadata": {},
   "outputs": [
    {
     "name": "stderr",
     "output_type": "stream",
     "text": [
      "/opt/conda/lib/python3.7/site-packages/sklearn/metrics/classification.py:1437: UndefinedMetricWarning: F-score is ill-defined and being set to 0.0 due to no predicted samples.\n",
      "  'precision', 'predicted', average, warn_for)\n",
      "/opt/conda/lib/python3.7/site-packages/sklearn/metrics/classification.py:1437: UndefinedMetricWarning: F-score is ill-defined and being set to 0.0 due to no predicted samples.\n",
      "  'precision', 'predicted', average, warn_for)\n",
      "/opt/conda/lib/python3.7/site-packages/sklearn/metrics/classification.py:1437: UndefinedMetricWarning: F-score is ill-defined and being set to 0.0 due to no predicted samples.\n",
      "  'precision', 'predicted', average, warn_for)\n",
      "/opt/conda/lib/python3.7/site-packages/sklearn/metrics/classification.py:1437: UndefinedMetricWarning: F-score is ill-defined and being set to 0.0 due to no predicted samples.\n",
      "  'precision', 'predicted', average, warn_for)\n",
      "/opt/conda/lib/python3.7/site-packages/sklearn/metrics/classification.py:1437: UndefinedMetricWarning: F-score is ill-defined and being set to 0.0 due to no predicted samples.\n",
      "  'precision', 'predicted', average, warn_for)\n"
     ]
    },
    {
     "data": {
      "text/plain": [
       "GridSearchCV(cv=5, error_score='raise-deprecating',\n",
       "             estimator=DecisionTreeClassifier(class_weight=None,\n",
       "                                              criterion='gini', max_depth=5,\n",
       "                                              max_features=None,\n",
       "                                              max_leaf_nodes=None,\n",
       "                                              min_impurity_decrease=0.0,\n",
       "                                              min_impurity_split=None,\n",
       "                                              min_samples_leaf=1,\n",
       "                                              min_samples_split=2,\n",
       "                                              min_weight_fraction_leaf=0.0,\n",
       "                                              presort=False, random_state=17,\n",
       "                                              splitter='best'),\n",
       "             iid='warn', n_jobs=-1,\n",
       "             param_grid={'max_depth': [1, 2, 3, 4, 5, 6, 7, 8, 9, 10, 11, 12,\n",
       "                                       13, 14, 15, 16, 17, 18, 19, 20, 21, 22,\n",
       "                                       23, 24, 25, 26, 27, 28, 29, 30, ...]},\n",
       "             pre_dispatch='2*n_jobs', refit=True, return_train_score=False,\n",
       "             scoring='f1', verbose=0)"
      ]
     },
     "execution_count": 20,
     "metadata": {},
     "output_type": "execute_result"
    }
   ],
   "source": [
    "tree_grid.fit(features_train, target_train)"
   ]
  },
  {
   "cell_type": "code",
   "execution_count": 21,
   "metadata": {},
   "outputs": [
    {
     "name": "stdout",
     "output_type": "stream",
     "text": [
      "0.5434083601286174\n",
      "0.8225395719648592\n"
     ]
    }
   ],
   "source": [
    "probabilities_valid = tree_grid.predict_proba(features_valid)\n",
    "probabilities_one_valid = probabilities_valid[:, 1]\n",
    "\n",
    "print(f1_score(target_valid, tree_grid.predict(features_valid)))\n",
    "print(roc_auc_score(target_valid, probabilities_one_valid))"
   ]
  },
  {
   "cell_type": "markdown",
   "metadata": {},
   "source": [
    "F1 - значение на валидации лучше логистической регрессии <br>\n",
    "AUC ROC - тоже лучше чем у логистической регрессии"
   ]
  },
  {
   "cell_type": "markdown",
   "metadata": {},
   "source": [
    "### Случайный лес"
   ]
  },
  {
   "cell_type": "code",
   "execution_count": 22,
   "metadata": {},
   "outputs": [],
   "source": [
    "forest = RandomForestClassifier(\n",
    "    random_state=17,\n",
    "    max_depth=10,\n",
    "    n_estimators=5\n",
    ")"
   ]
  },
  {
   "cell_type": "code",
   "execution_count": 23,
   "metadata": {},
   "outputs": [],
   "source": [
    "forest_params = {'max_depth': list(range(1,20)),\n",
    "                'n_estimators': list(range(1,10))\n",
    "                }"
   ]
  },
  {
   "cell_type": "code",
   "execution_count": 24,
   "metadata": {},
   "outputs": [],
   "source": [
    "forest_grid = GridSearchCV(forest,\n",
    "                           forest_params,\n",
    "                           cv=5,\n",
    "                           n_jobs=-1,\n",
    "                           scoring='f1'\n",
    "                          )"
   ]
  },
  {
   "cell_type": "code",
   "execution_count": 25,
   "metadata": {},
   "outputs": [
    {
     "name": "stderr",
     "output_type": "stream",
     "text": [
      "/opt/conda/lib/python3.7/site-packages/sklearn/metrics/classification.py:1437: UndefinedMetricWarning: F-score is ill-defined and being set to 0.0 due to no predicted samples.\n",
      "  'precision', 'predicted', average, warn_for)\n",
      "/opt/conda/lib/python3.7/site-packages/sklearn/metrics/classification.py:1437: UndefinedMetricWarning: F-score is ill-defined and being set to 0.0 due to no predicted samples.\n",
      "  'precision', 'predicted', average, warn_for)\n",
      "/opt/conda/lib/python3.7/site-packages/sklearn/metrics/classification.py:1437: UndefinedMetricWarning: F-score is ill-defined and being set to 0.0 due to no predicted samples.\n",
      "  'precision', 'predicted', average, warn_for)\n",
      "/opt/conda/lib/python3.7/site-packages/sklearn/metrics/classification.py:1437: UndefinedMetricWarning: F-score is ill-defined and being set to 0.0 due to no predicted samples.\n",
      "  'precision', 'predicted', average, warn_for)\n",
      "/opt/conda/lib/python3.7/site-packages/sklearn/metrics/classification.py:1437: UndefinedMetricWarning: F-score is ill-defined and being set to 0.0 due to no predicted samples.\n",
      "  'precision', 'predicted', average, warn_for)\n",
      "/opt/conda/lib/python3.7/site-packages/sklearn/metrics/classification.py:1437: UndefinedMetricWarning: F-score is ill-defined and being set to 0.0 due to no predicted samples.\n",
      "  'precision', 'predicted', average, warn_for)\n",
      "/opt/conda/lib/python3.7/site-packages/sklearn/metrics/classification.py:1437: UndefinedMetricWarning: F-score is ill-defined and being set to 0.0 due to no predicted samples.\n",
      "  'precision', 'predicted', average, warn_for)\n",
      "/opt/conda/lib/python3.7/site-packages/sklearn/metrics/classification.py:1437: UndefinedMetricWarning: F-score is ill-defined and being set to 0.0 due to no predicted samples.\n",
      "  'precision', 'predicted', average, warn_for)\n",
      "/opt/conda/lib/python3.7/site-packages/sklearn/metrics/classification.py:1437: UndefinedMetricWarning: F-score is ill-defined and being set to 0.0 due to no predicted samples.\n",
      "  'precision', 'predicted', average, warn_for)\n",
      "/opt/conda/lib/python3.7/site-packages/sklearn/metrics/classification.py:1437: UndefinedMetricWarning: F-score is ill-defined and being set to 0.0 due to no predicted samples.\n",
      "  'precision', 'predicted', average, warn_for)\n",
      "/opt/conda/lib/python3.7/site-packages/sklearn/metrics/classification.py:1437: UndefinedMetricWarning: F-score is ill-defined and being set to 0.0 due to no predicted samples.\n",
      "  'precision', 'predicted', average, warn_for)\n",
      "/opt/conda/lib/python3.7/site-packages/sklearn/metrics/classification.py:1437: UndefinedMetricWarning: F-score is ill-defined and being set to 0.0 due to no predicted samples.\n",
      "  'precision', 'predicted', average, warn_for)\n",
      "/opt/conda/lib/python3.7/site-packages/sklearn/metrics/classification.py:1437: UndefinedMetricWarning: F-score is ill-defined and being set to 0.0 due to no predicted samples.\n",
      "  'precision', 'predicted', average, warn_for)\n",
      "/opt/conda/lib/python3.7/site-packages/sklearn/metrics/classification.py:1437: UndefinedMetricWarning: F-score is ill-defined and being set to 0.0 due to no predicted samples.\n",
      "  'precision', 'predicted', average, warn_for)\n",
      "/opt/conda/lib/python3.7/site-packages/sklearn/metrics/classification.py:1437: UndefinedMetricWarning: F-score is ill-defined and being set to 0.0 due to no predicted samples.\n",
      "  'precision', 'predicted', average, warn_for)\n",
      "/opt/conda/lib/python3.7/site-packages/sklearn/metrics/classification.py:1437: UndefinedMetricWarning: F-score is ill-defined and being set to 0.0 due to no predicted samples.\n",
      "  'precision', 'predicted', average, warn_for)\n",
      "/opt/conda/lib/python3.7/site-packages/sklearn/metrics/classification.py:1437: UndefinedMetricWarning: F-score is ill-defined and being set to 0.0 due to no predicted samples.\n",
      "  'precision', 'predicted', average, warn_for)\n",
      "/opt/conda/lib/python3.7/site-packages/sklearn/metrics/classification.py:1437: UndefinedMetricWarning: F-score is ill-defined and being set to 0.0 due to no predicted samples.\n",
      "  'precision', 'predicted', average, warn_for)\n",
      "/opt/conda/lib/python3.7/site-packages/sklearn/metrics/classification.py:1437: UndefinedMetricWarning: F-score is ill-defined and being set to 0.0 due to no predicted samples.\n",
      "  'precision', 'predicted', average, warn_for)\n",
      "/opt/conda/lib/python3.7/site-packages/sklearn/metrics/classification.py:1437: UndefinedMetricWarning: F-score is ill-defined and being set to 0.0 due to no predicted samples.\n",
      "  'precision', 'predicted', average, warn_for)\n",
      "/opt/conda/lib/python3.7/site-packages/sklearn/metrics/classification.py:1437: UndefinedMetricWarning: F-score is ill-defined and being set to 0.0 due to no predicted samples.\n",
      "  'precision', 'predicted', average, warn_for)\n",
      "/opt/conda/lib/python3.7/site-packages/sklearn/metrics/classification.py:1437: UndefinedMetricWarning: F-score is ill-defined and being set to 0.0 due to no predicted samples.\n",
      "  'precision', 'predicted', average, warn_for)\n",
      "/opt/conda/lib/python3.7/site-packages/sklearn/metrics/classification.py:1437: UndefinedMetricWarning: F-score is ill-defined and being set to 0.0 due to no predicted samples.\n",
      "  'precision', 'predicted', average, warn_for)\n",
      "/opt/conda/lib/python3.7/site-packages/sklearn/metrics/classification.py:1437: UndefinedMetricWarning: F-score is ill-defined and being set to 0.0 due to no predicted samples.\n",
      "  'precision', 'predicted', average, warn_for)\n",
      "/opt/conda/lib/python3.7/site-packages/sklearn/metrics/classification.py:1437: UndefinedMetricWarning: F-score is ill-defined and being set to 0.0 due to no predicted samples.\n",
      "  'precision', 'predicted', average, warn_for)\n",
      "/opt/conda/lib/python3.7/site-packages/sklearn/metrics/classification.py:1437: UndefinedMetricWarning: F-score is ill-defined and being set to 0.0 due to no predicted samples.\n",
      "  'precision', 'predicted', average, warn_for)\n",
      "/opt/conda/lib/python3.7/site-packages/sklearn/metrics/classification.py:1437: UndefinedMetricWarning: F-score is ill-defined and being set to 0.0 due to no predicted samples.\n",
      "  'precision', 'predicted', average, warn_for)\n",
      "/opt/conda/lib/python3.7/site-packages/sklearn/metrics/classification.py:1437: UndefinedMetricWarning: F-score is ill-defined and being set to 0.0 due to no predicted samples.\n",
      "  'precision', 'predicted', average, warn_for)\n",
      "/opt/conda/lib/python3.7/site-packages/sklearn/metrics/classification.py:1437: UndefinedMetricWarning: F-score is ill-defined and being set to 0.0 due to no predicted samples.\n",
      "  'precision', 'predicted', average, warn_for)\n",
      "/opt/conda/lib/python3.7/site-packages/sklearn/metrics/classification.py:1437: UndefinedMetricWarning: F-score is ill-defined and being set to 0.0 due to no predicted samples.\n",
      "  'precision', 'predicted', average, warn_for)\n",
      "/opt/conda/lib/python3.7/site-packages/sklearn/metrics/classification.py:1437: UndefinedMetricWarning: F-score is ill-defined and being set to 0.0 due to no predicted samples.\n",
      "  'precision', 'predicted', average, warn_for)\n"
     ]
    },
    {
     "data": {
      "text/plain": [
       "GridSearchCV(cv=5, error_score='raise-deprecating',\n",
       "             estimator=RandomForestClassifier(bootstrap=True, class_weight=None,\n",
       "                                              criterion='gini', max_depth=10,\n",
       "                                              max_features='auto',\n",
       "                                              max_leaf_nodes=None,\n",
       "                                              min_impurity_decrease=0.0,\n",
       "                                              min_impurity_split=None,\n",
       "                                              min_samples_leaf=1,\n",
       "                                              min_samples_split=2,\n",
       "                                              min_weight_fraction_leaf=0.0,\n",
       "                                              n_estimators=5, n_jobs=None,\n",
       "                                              oob_score=False, random_state=17,\n",
       "                                              verbose=0, warm_start=False),\n",
       "             iid='warn', n_jobs=-1,\n",
       "             param_grid={'max_depth': [1, 2, 3, 4, 5, 6, 7, 8, 9, 10, 11, 12,\n",
       "                                       13, 14, 15, 16, 17, 18, 19],\n",
       "                         'n_estimators': [1, 2, 3, 4, 5, 6, 7, 8, 9]},\n",
       "             pre_dispatch='2*n_jobs', refit=True, return_train_score=False,\n",
       "             scoring='f1', verbose=0)"
      ]
     },
     "execution_count": 25,
     "metadata": {},
     "output_type": "execute_result"
    }
   ],
   "source": [
    "forest_grid.fit(features_train, target_train)"
   ]
  },
  {
   "cell_type": "code",
   "execution_count": 26,
   "metadata": {},
   "outputs": [
    {
     "name": "stdout",
     "output_type": "stream",
     "text": [
      "{'max_depth': 12, 'n_estimators': 9} 0.5712636342084015\n"
     ]
    }
   ],
   "source": [
    "print(forest_grid.best_params_, forest_grid.best_score_)"
   ]
  },
  {
   "cell_type": "code",
   "execution_count": 27,
   "metadata": {},
   "outputs": [
    {
     "name": "stdout",
     "output_type": "stream",
     "text": [
      "0.5524691358024693\n",
      "0.8333836448778977\n"
     ]
    }
   ],
   "source": [
    "probabilities_valid = forest_grid.predict_proba(features_valid)\n",
    "probabilities_one_valid = probabilities_valid[:, 1]\n",
    "\n",
    "print(f1_score(target_valid, forest_grid.predict(features_valid)))\n",
    "print(roc_auc_score(target_valid, probabilities_one_valid))"
   ]
  },
  {
   "cell_type": "markdown",
   "metadata": {},
   "source": [
    "F1 - значение на валидации чуть хуже чем у решающего дерева <br>\n",
    "AUC ROC - значение почти не поменялось"
   ]
  },
  {
   "cell_type": "markdown",
   "metadata": {},
   "source": [
    "## Борьба с дисбалансом"
   ]
  },
  {
   "cell_type": "markdown",
   "metadata": {},
   "source": [
    "### Увеличение выборки"
   ]
  },
  {
   "cell_type": "code",
   "execution_count": 28,
   "metadata": {},
   "outputs": [
    {
     "data": {
      "text/plain": [
       "0    7963\n",
       "1    2037\n",
       "Name: Exited, dtype: int64"
      ]
     },
     "execution_count": 28,
     "metadata": {},
     "output_type": "execute_result"
    }
   ],
   "source": [
    "target.value_counts()"
   ]
  },
  {
   "cell_type": "markdown",
   "metadata": {},
   "source": [
    "Напишем и применим функцию увеличивающую признаки у которых целевой признак = 1, чтобы выровнить баланс классов. Перемешаем результат."
   ]
  },
  {
   "cell_type": "code",
   "execution_count": 29,
   "metadata": {},
   "outputs": [
    {
     "name": "stdout",
     "output_type": "stream",
     "text": [
      "(9654, 11)\n",
      "(9654,)\n"
     ]
    }
   ],
   "source": [
    "def upsample(features, target, repeat):\n",
    "    features_zeros = features[target == 0]\n",
    "    features_ones = features[target == 1]\n",
    "    target_zeros = target[target == 0]\n",
    "    target_ones = target[target == 1]\n",
    "    features_upsampled = pd.concat([features_zeros] + [features_ones] * repeat)\n",
    "    target_upsampled = pd.concat([target_zeros] + [target_ones] * repeat)\n",
    "   \n",
    "    features_upsampled = shuffle(features_upsampled, random_state=12345)\n",
    "    target_upsampled  =shuffle(target_upsampled, random_state=12345)\n",
    "    return features_upsampled, target_upsampled \n",
    "\n",
    "features_upsampled, target_upsampled = upsample(features_train, target_train, 4)\n",
    "\n",
    "print(features_upsampled.shape)\n",
    "print(target_upsampled.shape)"
   ]
  },
  {
   "cell_type": "markdown",
   "metadata": {},
   "source": [
    "#### Логистическая регрессия"
   ]
  },
  {
   "cell_type": "code",
   "execution_count": 30,
   "metadata": {},
   "outputs": [
    {
     "data": {
      "text/plain": [
       "LogisticRegression(C=1.0, class_weight=None, dual=False, fit_intercept=True,\n",
       "                   intercept_scaling=1, l1_ratio=None, max_iter=100,\n",
       "                   multi_class='warn', n_jobs=None, penalty='l2',\n",
       "                   random_state=None, solver='liblinear', tol=0.0001, verbose=0,\n",
       "                   warm_start=False)"
      ]
     },
     "execution_count": 30,
     "metadata": {},
     "output_type": "execute_result"
    }
   ],
   "source": [
    "model = LogisticRegression(solver='liblinear')\n",
    "model.fit(features_upsampled, target_upsampled)"
   ]
  },
  {
   "cell_type": "code",
   "execution_count": 31,
   "metadata": {},
   "outputs": [
    {
     "name": "stdout",
     "output_type": "stream",
     "text": [
      "0.4720279720279721\n",
      "0.7684275707264212\n"
     ]
    }
   ],
   "source": [
    "predicted_valid = model.predict(features_valid)\n",
    "\n",
    "probabilities_valid = model.predict_proba(features_valid)\n",
    "probabilities_one_valid = probabilities_valid[:, 1]\n",
    "\n",
    "print(f1_score(target_valid, predicted_valid))\n",
    "print(roc_auc_score(target_valid, probabilities_one_valid))"
   ]
  },
  {
   "cell_type": "markdown",
   "metadata": {},
   "source": [
    "F1 - значение на валидации стало лучше чем до выравнивания баланса классов <br>\n",
    "AUC ROC - значение почти не поменялось"
   ]
  },
  {
   "cell_type": "markdown",
   "metadata": {},
   "source": [
    "#### Решающее дерево"
   ]
  },
  {
   "cell_type": "code",
   "execution_count": 32,
   "metadata": {},
   "outputs": [],
   "source": [
    "def param_tree_search(features_train, target_train, features_valid, target_valid):\n",
    "    score_dict = {}\n",
    "    for depth in range(1, 30, 1):\n",
    "        tree = DecisionTreeClassifier(random_state=17, max_depth=depth)\n",
    "        tree.fit(features_train, target_train)\n",
    "        score_dict[depth] = f1_score(target_valid, tree.predict(features_valid))\n",
    "    for k in sorted(score_dict, key=score_dict.get, reverse=True):\n",
    "        print(f'{k} --- {score_dict[k]}')"
   ]
  },
  {
   "cell_type": "code",
   "execution_count": 33,
   "metadata": {},
   "outputs": [
    {
     "name": "stdout",
     "output_type": "stream",
     "text": [
      "7 --- 0.5625\n",
      "6 --- 0.5580969807868252\n",
      "8 --- 0.5491329479768786\n",
      "5 --- 0.5468886941279579\n",
      "9 --- 0.5450941526263627\n",
      "10 --- 0.5299492385786803\n",
      "11 --- 0.5207920792079207\n",
      "4 --- 0.5163453478625314\n",
      "12 --- 0.5114754098360657\n",
      "3 --- 0.5073457394711067\n",
      "2 --- 0.49671977507029047\n",
      "13 --- 0.4940668824163969\n",
      "21 --- 0.4866242038216561\n",
      "14 --- 0.4854819976771196\n",
      "23 --- 0.48531289910600256\n",
      "24 --- 0.48531289910600256\n",
      "25 --- 0.48531289910600256\n",
      "26 --- 0.48531289910600256\n",
      "27 --- 0.48531289910600256\n",
      "28 --- 0.48531289910600256\n",
      "29 --- 0.48531289910600256\n",
      "16 --- 0.48441247002398086\n",
      "15 --- 0.4803804994054697\n",
      "18 --- 0.4801980198019802\n",
      "20 --- 0.4796954314720812\n",
      "19 --- 0.475\n",
      "22 --- 0.4744897959183673\n",
      "17 --- 0.4741275571600482\n",
      "1 --- 0.46525096525096526\n"
     ]
    }
   ],
   "source": [
    "param_tree_search(features_upsampled, target_upsampled, features_valid, target_valid)"
   ]
  },
  {
   "cell_type": "code",
   "execution_count": 34,
   "metadata": {},
   "outputs": [],
   "source": [
    "tree = DecisionTreeClassifier(\n",
    "    random_state=17,\n",
    "    max_depth=7\n",
    ")"
   ]
  },
  {
   "cell_type": "code",
   "execution_count": 35,
   "metadata": {},
   "outputs": [
    {
     "data": {
      "text/plain": [
       "DecisionTreeClassifier(class_weight=None, criterion='gini', max_depth=7,\n",
       "                       max_features=None, max_leaf_nodes=None,\n",
       "                       min_impurity_decrease=0.0, min_impurity_split=None,\n",
       "                       min_samples_leaf=1, min_samples_split=2,\n",
       "                       min_weight_fraction_leaf=0.0, presort=False,\n",
       "                       random_state=17, splitter='best')"
      ]
     },
     "execution_count": 35,
     "metadata": {},
     "output_type": "execute_result"
    }
   ],
   "source": [
    "tree.fit(features_upsampled, target_upsampled)"
   ]
  },
  {
   "cell_type": "code",
   "execution_count": 36,
   "metadata": {},
   "outputs": [
    {
     "name": "stdout",
     "output_type": "stream",
     "text": [
      "0.5625\n",
      "0.8113394481210574\n"
     ]
    }
   ],
   "source": [
    "probabilities_valid = tree.predict_proba(features_valid)\n",
    "probabilities_one_valid = probabilities_valid[:, 1]\n",
    "\n",
    "print(f1_score(target_valid, tree.predict(features_valid)))\n",
    "print(roc_auc_score(target_valid, probabilities_one_valid))"
   ]
  },
  {
   "cell_type": "markdown",
   "metadata": {},
   "source": [
    "F1 - значение на валидации стало чуть хуже чем у решающего дерева до балансировки <br>\n",
    "AUC ROC - тоже немного ухудшилась"
   ]
  },
  {
   "cell_type": "markdown",
   "metadata": {},
   "source": [
    "#### Случайный лес"
   ]
  },
  {
   "cell_type": "code",
   "execution_count": 37,
   "metadata": {},
   "outputs": [],
   "source": [
    "def depth_forest_search(features_train, target_train, features_valid, target_valid):\n",
    "    score_dict = {}\n",
    "    for depth in range(1, 30, 1):\n",
    "        forest = RandomForestClassifier(random_state=17, max_depth=depth, n_estimators=5)\n",
    "        forest.fit(features_train, target_train)\n",
    "        score_dict[depth] = f1_score(target_valid, forest.predict(features_valid))\n",
    "    for k in sorted(score_dict, key=score_dict.get, reverse=True):\n",
    "        print(f'{k} --- {score_dict[k]}')"
   ]
  },
  {
   "cell_type": "code",
   "execution_count": 38,
   "metadata": {
    "scrolled": true
   },
   "outputs": [
    {
     "name": "stdout",
     "output_type": "stream",
     "text": [
      "9 --- 0.5897435897435898\n",
      "12 --- 0.5819397993311036\n",
      "13 --- 0.5787037037037037\n",
      "10 --- 0.5781777277840269\n",
      "21 --- 0.5724815724815725\n",
      "23 --- 0.5707376058041113\n",
      "7 --- 0.5687693898655636\n",
      "4 --- 0.5683593750000001\n",
      "17 --- 0.567237163814181\n",
      "24 --- 0.5641025641025642\n",
      "28 --- 0.5623471882640587\n",
      "29 --- 0.5623471882640587\n",
      "14 --- 0.561849710982659\n",
      "27 --- 0.5608856088560885\n",
      "25 --- 0.5605875152998776\n",
      "8 --- 0.5599999999999999\n",
      "15 --- 0.5594237695078031\n",
      "22 --- 0.5583126550868487\n",
      "11 --- 0.5562913907284768\n",
      "26 --- 0.5536585365853659\n",
      "6 --- 0.5522088353413654\n",
      "20 --- 0.5463659147869674\n",
      "5 --- 0.5450901803607214\n",
      "3 --- 0.5435897435897435\n",
      "19 --- 0.5378973105134475\n",
      "18 --- 0.5328282828282828\n",
      "16 --- 0.5323383084577114\n",
      "2 --- 0.4984025559105431\n",
      "1 --- 0.49060542797494777\n"
     ]
    }
   ],
   "source": [
    "depth_forest_search(features_upsampled, target_upsampled, features_valid, target_valid)"
   ]
  },
  {
   "cell_type": "code",
   "execution_count": 39,
   "metadata": {},
   "outputs": [],
   "source": [
    "def est_forest_search(features_train, target_train, features_valid, target_valid, depth):\n",
    "    score_dict = {}\n",
    "    for est in range(10, 100, 10):\n",
    "        forest = RandomForestClassifier(random_state=17, max_depth=depth, n_estimators=est)\n",
    "        forest.fit(features_train, target_train)\n",
    "        score_dict[est] = f1_score(target_valid, forest.predict(features_valid))\n",
    "    for k in sorted(score_dict, key=score_dict.get, reverse=True):\n",
    "        print(f'{k} --- {score_dict[k]}')"
   ]
  },
  {
   "cell_type": "code",
   "execution_count": 40,
   "metadata": {},
   "outputs": [
    {
     "name": "stdout",
     "output_type": "stream",
     "text": [
      "90 --- 0.6153846153846154\n",
      "70 --- 0.6148723640399556\n",
      "80 --- 0.6148723640399556\n",
      "20 --- 0.6145251396648045\n",
      "10 --- 0.6140350877192982\n",
      "40 --- 0.6109253065774806\n",
      "60 --- 0.6100558659217876\n",
      "30 --- 0.6095661846496107\n",
      "50 --- 0.605586592178771\n"
     ]
    }
   ],
   "source": [
    "est_forest_search(features_upsampled, target_upsampled, features_valid, target_valid, 9)"
   ]
  },
  {
   "cell_type": "code",
   "execution_count": 41,
   "metadata": {},
   "outputs": [],
   "source": [
    "forest = RandomForestClassifier(\n",
    "    random_state=17,\n",
    "    max_depth=9,\n",
    "    n_estimators=90\n",
    ")"
   ]
  },
  {
   "cell_type": "code",
   "execution_count": 42,
   "metadata": {},
   "outputs": [
    {
     "data": {
      "text/plain": [
       "RandomForestClassifier(bootstrap=True, class_weight=None, criterion='gini',\n",
       "                       max_depth=9, max_features='auto', max_leaf_nodes=None,\n",
       "                       min_impurity_decrease=0.0, min_impurity_split=None,\n",
       "                       min_samples_leaf=1, min_samples_split=2,\n",
       "                       min_weight_fraction_leaf=0.0, n_estimators=90,\n",
       "                       n_jobs=None, oob_score=False, random_state=17, verbose=0,\n",
       "                       warm_start=False)"
      ]
     },
     "execution_count": 42,
     "metadata": {},
     "output_type": "execute_result"
    }
   ],
   "source": [
    "forest.fit(features_upsampled, target_upsampled)"
   ]
  },
  {
   "cell_type": "code",
   "execution_count": 43,
   "metadata": {},
   "outputs": [
    {
     "name": "stdout",
     "output_type": "stream",
     "text": [
      "0.6153846153846154\n",
      "0.8593242772553118\n"
     ]
    }
   ],
   "source": [
    "probabilities_valid = forest.predict_proba(features_valid)\n",
    "probabilities_one_valid = probabilities_valid[:, 1]\n",
    "\n",
    "print(f1_score(target_valid, forest.predict(features_valid)))\n",
    "print(roc_auc_score(target_valid, probabilities_one_valid))"
   ]
  },
  {
   "cell_type": "markdown",
   "metadata": {},
   "source": [
    "F1 и AUC ROC - улучшились относительно небалансированной модели"
   ]
  },
  {
   "cell_type": "markdown",
   "metadata": {},
   "source": [
    "### Уменьшение выборки"
   ]
  },
  {
   "cell_type": "code",
   "execution_count": 44,
   "metadata": {},
   "outputs": [
    {
     "data": {
      "text/plain": [
       "0    7963\n",
       "1    2037\n",
       "Name: Exited, dtype: int64"
      ]
     },
     "execution_count": 44,
     "metadata": {},
     "output_type": "execute_result"
    }
   ],
   "source": [
    "target.value_counts()"
   ]
  },
  {
   "cell_type": "markdown",
   "metadata": {},
   "source": [
    "Напишем и применим функцию уменьшающую выборку с признаками у которых целевой признак = 0, чтобы выровнить баланс классов. Перемешаем результат."
   ]
  },
  {
   "cell_type": "code",
   "execution_count": 45,
   "metadata": {},
   "outputs": [],
   "source": [
    "def downsample(features, target, fraction):\n",
    "    features_zeros = features[target == 0]\n",
    "    features_ones = features[target == 1]\n",
    "    target_zeros = target[target == 0]\n",
    "    target_ones = target[target == 1]\n",
    "    \n",
    "    feature_zeros_down = features_zeros.sample(frac=fraction, random_state=12345)\n",
    "    target_zeros_down = target_zeros.sample(frac=fraction, random_state=12345)\n",
    "    \n",
    "    features_downsampled = pd.concat(\n",
    "        [feature_zeros_down] + [features_ones]\n",
    "    )\n",
    "    \n",
    "    target_downsampled = pd.concat(\n",
    "        [target_zeros_down] + [target_ones]\n",
    "    )\n",
    "    \n",
    "    features_downsampled = shuffle(features_downsampled, random_state=12345)\n",
    "    target_downsampled  =shuffle(target_downsampled, random_state=12345)\n",
    "\n",
    "    return features_downsampled, target_downsampled"
   ]
  },
  {
   "cell_type": "code",
   "execution_count": 46,
   "metadata": {},
   "outputs": [],
   "source": [
    "features_downsampled, target_downsampled = downsample(features_train, target_train, 0.25)"
   ]
  },
  {
   "cell_type": "code",
   "execution_count": 47,
   "metadata": {},
   "outputs": [
    {
     "name": "stdout",
     "output_type": "stream",
     "text": [
      "(2414, 11)\n",
      "(2414,)\n"
     ]
    }
   ],
   "source": [
    "print(features_downsampled.shape)\n",
    "print(target_downsampled.shape)"
   ]
  },
  {
   "cell_type": "markdown",
   "metadata": {},
   "source": [
    "#### Логистическая регрессия"
   ]
  },
  {
   "cell_type": "code",
   "execution_count": 48,
   "metadata": {},
   "outputs": [
    {
     "data": {
      "text/plain": [
       "LogisticRegression(C=1.0, class_weight=None, dual=False, fit_intercept=True,\n",
       "                   intercept_scaling=1, l1_ratio=None, max_iter=100,\n",
       "                   multi_class='warn', n_jobs=None, penalty='l2',\n",
       "                   random_state=None, solver='liblinear', tol=0.0001, verbose=0,\n",
       "                   warm_start=False)"
      ]
     },
     "execution_count": 48,
     "metadata": {},
     "output_type": "execute_result"
    }
   ],
   "source": [
    "model = LogisticRegression(solver='liblinear')\n",
    "model.fit(features_downsampled, target_downsampled)"
   ]
  },
  {
   "cell_type": "code",
   "execution_count": 49,
   "metadata": {},
   "outputs": [
    {
     "name": "stdout",
     "output_type": "stream",
     "text": [
      "0.48198970840480276\n",
      "0.7690839428770463\n"
     ]
    }
   ],
   "source": [
    "predicted_valid = model.predict(features_valid)\n",
    "\n",
    "probabilities_valid = model.predict_proba(features_valid)\n",
    "probabilities_one_valid = probabilities_valid[:, 1]\n",
    "\n",
    "print(f1_score(target_valid, predicted_valid))\n",
    "print(roc_auc_score(target_valid, probabilities_one_valid))"
   ]
  },
  {
   "cell_type": "markdown",
   "metadata": {},
   "source": [
    "По отношению к upsample изменений метрики не наблюдается"
   ]
  },
  {
   "cell_type": "markdown",
   "metadata": {},
   "source": [
    "#### Решающее дерево"
   ]
  },
  {
   "cell_type": "code",
   "execution_count": 50,
   "metadata": {},
   "outputs": [
    {
     "name": "stdout",
     "output_type": "stream",
     "text": [
      "5 --- 0.5661080074487895\n",
      "4 --- 0.5498489425981872\n",
      "6 --- 0.5430463576158941\n",
      "8 --- 0.5428859737638748\n",
      "2 --- 0.5128712871287129\n",
      "3 --- 0.5113974231912785\n",
      "9 --- 0.5107142857142857\n",
      "7 --- 0.509124087591241\n",
      "10 --- 0.5032740879326473\n",
      "14 --- 0.5013100436681223\n",
      "15 --- 0.49559082892416234\n",
      "11 --- 0.4926470588235294\n",
      "19 --- 0.4904013961605585\n",
      "13 --- 0.4887285843101894\n",
      "12 --- 0.4884955752212389\n",
      "20 --- 0.48843187660668386\n",
      "16 --- 0.48323301805674984\n",
      "18 --- 0.48257839721254353\n",
      "17 --- 0.4820512820512821\n",
      "23 --- 0.4817021276595745\n",
      "24 --- 0.4817021276595745\n",
      "25 --- 0.4817021276595745\n",
      "26 --- 0.4817021276595745\n",
      "27 --- 0.4817021276595745\n",
      "28 --- 0.4817021276595745\n",
      "29 --- 0.4817021276595745\n",
      "21 --- 0.4815133276010318\n",
      "22 --- 0.4808836023789295\n",
      "1 --- 0.47482014388489213\n"
     ]
    }
   ],
   "source": [
    "param_tree_search(features_downsampled, target_downsampled, features_valid, target_valid)"
   ]
  },
  {
   "cell_type": "code",
   "execution_count": 51,
   "metadata": {},
   "outputs": [
    {
     "data": {
      "text/plain": [
       "DecisionTreeClassifier(class_weight=None, criterion='gini', max_depth=5,\n",
       "                       max_features=None, max_leaf_nodes=None,\n",
       "                       min_impurity_decrease=0.0, min_impurity_split=None,\n",
       "                       min_samples_leaf=1, min_samples_split=2,\n",
       "                       min_weight_fraction_leaf=0.0, presort=False,\n",
       "                       random_state=17, splitter='best')"
      ]
     },
     "execution_count": 51,
     "metadata": {},
     "output_type": "execute_result"
    }
   ],
   "source": [
    "tree = DecisionTreeClassifier(\n",
    "    random_state=17,\n",
    "    max_depth=5\n",
    ")\n",
    "tree.fit(features_downsampled, target_downsampled)"
   ]
  },
  {
   "cell_type": "code",
   "execution_count": 52,
   "metadata": {},
   "outputs": [
    {
     "name": "stdout",
     "output_type": "stream",
     "text": [
      "0.5434083601286174\n",
      "0.8267270405201439\n"
     ]
    }
   ],
   "source": [
    "probabilities_valid = tree.predict_proba(features_valid)\n",
    "probabilities_one_valid = probabilities_valid[:, 1]\n",
    "\n",
    "print(f1_score(target_valid, tree_grid.predict(features_valid)))\n",
    "print(roc_auc_score(target_valid, probabilities_one_valid))"
   ]
  },
  {
   "cell_type": "markdown",
   "metadata": {},
   "source": [
    "F1 и AUC ROC - значения на валидации практически не изменились по отношению к несбалансированной выборке"
   ]
  },
  {
   "cell_type": "markdown",
   "metadata": {},
   "source": [
    "#### Случайный лес"
   ]
  },
  {
   "cell_type": "code",
   "execution_count": 53,
   "metadata": {},
   "outputs": [
    {
     "name": "stdout",
     "output_type": "stream",
     "text": [
      "6 --- 0.5685685685685685\n",
      "7 --- 0.5649157581764124\n",
      "5 --- 0.5630676084762865\n",
      "9 --- 0.5623242736644799\n",
      "10 --- 0.555350553505535\n",
      "8 --- 0.5523255813953488\n",
      "19 --- 0.5430346051464064\n",
      "11 --- 0.5423423423423424\n",
      "14 --- 0.5416301489921123\n",
      "13 --- 0.5386666666666667\n",
      "4 --- 0.5383903792784459\n",
      "17 --- 0.5367581930912311\n",
      "15 --- 0.5363636363636363\n",
      "20 --- 0.5345132743362832\n",
      "21 --- 0.5345132743362832\n",
      "22 --- 0.5345132743362832\n",
      "23 --- 0.5345132743362832\n",
      "24 --- 0.5345132743362832\n",
      "25 --- 0.5345132743362832\n",
      "26 --- 0.5345132743362832\n",
      "27 --- 0.5345132743362832\n",
      "28 --- 0.5345132743362832\n",
      "29 --- 0.5345132743362832\n",
      "16 --- 0.5332120109190174\n",
      "18 --- 0.5308641975308642\n",
      "12 --- 0.5276292335115864\n",
      "3 --- 0.5238523852385237\n",
      "2 --- 0.45006839945280436\n",
      "1 --- 0.4029255319148936\n"
     ]
    }
   ],
   "source": [
    "depth_forest_search(features_downsampled, target_downsampled, features_valid, target_valid)"
   ]
  },
  {
   "cell_type": "code",
   "execution_count": 54,
   "metadata": {},
   "outputs": [
    {
     "name": "stdout",
     "output_type": "stream",
     "text": [
      "80 --- 0.6069958847736625\n",
      "30 --- 0.6024844720496894\n",
      "40 --- 0.6016597510373444\n",
      "50 --- 0.6016597510373444\n",
      "90 --- 0.5987654320987655\n",
      "20 --- 0.5981308411214953\n",
      "60 --- 0.5977249224405378\n",
      "70 --- 0.5967078189300411\n",
      "10 --- 0.5933609958506224\n"
     ]
    }
   ],
   "source": [
    "est_forest_search(features_downsampled, target_downsampled, features_valid, target_valid, 6)"
   ]
  },
  {
   "cell_type": "code",
   "execution_count": 65,
   "metadata": {},
   "outputs": [],
   "source": [
    "forest = RandomForestClassifier(\n",
    "    random_state=17,\n",
    "    max_depth=6,\n",
    "    n_estimators=80\n",
    ")"
   ]
  },
  {
   "cell_type": "code",
   "execution_count": 66,
   "metadata": {},
   "outputs": [
    {
     "data": {
      "text/plain": [
       "RandomForestClassifier(bootstrap=True, class_weight=None, criterion='gini',\n",
       "                       max_depth=6, max_features='auto', max_leaf_nodes=None,\n",
       "                       min_impurity_decrease=0.0, min_impurity_split=None,\n",
       "                       min_samples_leaf=1, min_samples_split=2,\n",
       "                       min_weight_fraction_leaf=0.0, n_estimators=80,\n",
       "                       n_jobs=None, oob_score=False, random_state=17, verbose=0,\n",
       "                       warm_start=False)"
      ]
     },
     "execution_count": 66,
     "metadata": {},
     "output_type": "execute_result"
    }
   ],
   "source": [
    "forest.fit(features_downsampled, target_downsampled)"
   ]
  },
  {
   "cell_type": "code",
   "execution_count": 67,
   "metadata": {},
   "outputs": [
    {
     "name": "stdout",
     "output_type": "stream",
     "text": [
      "0.6069958847736625\n",
      "0.8509694647625682\n"
     ]
    }
   ],
   "source": [
    "probabilities_valid = forest.predict_proba(features_valid)\n",
    "probabilities_one_valid = probabilities_valid[:, 1]\n",
    "\n",
    "print(f1_score(target_valid, forest.predict(features_valid)))\n",
    "print(roc_auc_score(target_valid, probabilities_one_valid))"
   ]
  },
  {
   "cell_type": "markdown",
   "metadata": {},
   "source": [
    "F1 чуть хуже чем при upsampling"
   ]
  },
  {
   "cell_type": "markdown",
   "metadata": {},
   "source": [
    "Построим ROC кривую лучшей модели (RandomForest with upsampling)"
   ]
  },
  {
   "cell_type": "code",
   "execution_count": 58,
   "metadata": {},
   "outputs": [
    {
     "data": {
      "image/png": "[encoded data removed]",
      "text/plain": [
       "<Figure size 432x288 with 1 Axes>"
      ]
     },
     "metadata": {
      "needs_background": "light"
     },
     "output_type": "display_data"
    }
   ],
   "source": [
    "forest = RandomForestClassifier(\n",
    "    random_state=17,\n",
    "    max_depth=9,\n",
    "    n_estimators=90\n",
    ")\n",
    "\n",
    "forest.fit(features_upsampled, target_upsampled)\n",
    "\n",
    "probabilities_valid = forest.predict_proba(features_valid)\n",
    "probabilities_one_valid = probabilities_valid[:, 1]\n",
    "\n",
    "fpr, tpr, thresholds = roc_curve(target_valid, probabilities_one_valid)\n",
    "\n",
    "plt.figure()\n",
    "\n",
    "plt.plot(fpr, tpr)\n",
    "\n",
    "plt.plot([0, 1], [0, 1], linestyle='--')\n",
    "\n",
    "plt.xlim([0.0, 1.0])\n",
    "plt.ylim([0.0, 1.0])\n",
    "\n",
    "plt.xlabel('False Positive Rate')\n",
    "plt.ylabel('True Positive Rate')\n",
    "\n",
    "plt.title('ROC-кривая')\n",
    "plt.show()"
   ]
  },
  {
   "cell_type": "markdown",
   "metadata": {},
   "source": [
    "ROC кривая сильно выше горизонтальной прямой, определяющей модель случайного выбора,\n",
    "поэтому итоговая получившаяся модель лучше случайной"
   ]
  },
  {
   "cell_type": "markdown",
   "metadata": {},
   "source": [
    "## Тестирование модели"
   ]
  },
  {
   "cell_type": "markdown",
   "metadata": {},
   "source": [
    "Протестируем лучшую модель на тестовой выборке"
   ]
  },
  {
   "cell_type": "code",
   "execution_count": 68,
   "metadata": {},
   "outputs": [
    {
     "name": "stdout",
     "output_type": "stream",
     "text": [
      "0.6153846153846154\n",
      "0.8593242772553118\n"
     ]
    }
   ],
   "source": [
    "forest = RandomForestClassifier(\n",
    "    random_state=17,\n",
    "    max_depth=9,\n",
    "    n_estimators=90\n",
    ")\n",
    "\n",
    "forest.fit(features_upsampled, target_upsampled)\n",
    "\n",
    "probabilities_valid = forest.predict_proba(features_valid)\n",
    "probabilities_one_valid = probabilities_valid[:, 1]\n",
    "\n",
    "print(f1_score(target_valid, forest.predict(features_valid)))\n",
    "print(roc_auc_score(target_valid, probabilities_one_valid))"
   ]
  },
  {
   "cell_type": "code",
   "execution_count": 69,
   "metadata": {},
   "outputs": [
    {
     "name": "stdout",
     "output_type": "stream",
     "text": [
      "0.6081229418221733\n",
      "0.8567949631741506\n"
     ]
    }
   ],
   "source": [
    "probabilities_test = forest.predict_proba(features_test)\n",
    "probabilities_one_test = probabilities_test[:, 1]\n",
    "\n",
    "print(f1_score(target_test, forest.predict(features_test)))\n",
    "print(roc_auc_score(target_test, probabilities_one_test))"
   ]
  },
  {
   "cell_type": "markdown",
   "metadata": {},
   "source": [
    "Тестирование показало, что модель обучена нормально"
   ]
  },
  {
   "cell_type": "markdown",
   "metadata": {},
   "source": [
    "Проанализируем изменение метрик в ходе балансировки"
   ]
  },
  {
   "cell_type": "code",
   "execution_count": 70,
   "metadata": {
    "scrolled": true
   },
   "outputs": [
    {
     "data": {
      "text/html": [
       "<div>\n",
       "<style scoped>\n",
       "    .dataframe tbody tr th:only-of-type {\n",
       "        vertical-align: middle;\n",
       "    }\n",
       "\n",
       "    .dataframe tbody tr th {\n",
       "        vertical-align: top;\n",
       "    }\n",
       "\n",
       "    .dataframe thead th {\n",
       "        text-align: right;\n",
       "    }\n",
       "</style>\n",
       "<table border=\"1\" class=\"dataframe\">\n",
       "  <thead>\n",
       "    <tr style=\"text-align: right;\">\n",
       "      <th></th>\n",
       "      <th>log</th>\n",
       "      <th>tree</th>\n",
       "      <th>forest</th>\n",
       "    </tr>\n",
       "  </thead>\n",
       "  <tbody>\n",
       "    <tr>\n",
       "      <td>F1</td>\n",
       "      <td>0.356</td>\n",
       "      <td>0.543</td>\n",
       "      <td>0.552</td>\n",
       "    </tr>\n",
       "    <tr>\n",
       "      <td>F1_up</td>\n",
       "      <td>0.472</td>\n",
       "      <td>0.562</td>\n",
       "      <td>0.615</td>\n",
       "    </tr>\n",
       "    <tr>\n",
       "      <td>F1_down</td>\n",
       "      <td>0.482</td>\n",
       "      <td>0.543</td>\n",
       "      <td>0.607</td>\n",
       "    </tr>\n",
       "  </tbody>\n",
       "</table>\n",
       "</div>"
      ],
      "text/plain": [
       "           log   tree  forest\n",
       "F1       0.356  0.543   0.552\n",
       "F1_up    0.472  0.562   0.615\n",
       "F1_down  0.482  0.543   0.607"
      ]
     },
     "execution_count": 70,
     "metadata": {},
     "output_type": "execute_result"
    }
   ],
   "source": [
    "d_f1 = {'F1': [0.356, 0.543, 0.552],\n",
    "          'F1_up': [0.472, 0.562, 0.615],\n",
    "          'F1_down': [0.482, 0.543, 0.607]\n",
    "         }\n",
    "d_auc = {'AUC_ROC': [0.765, 0.822, 0.833],\n",
    "          'AUC_ROC_up': [0.768, 0.811, 0.859],\n",
    "          'AUC_ROC_down': [0.769, 0.827, 0.851]\n",
    "         }\n",
    "f1 = pd.DataFrame(data=d_f1, index=['log', 'tree', 'forest']).T\n",
    "auc = pd.DataFrame(data=d_auc, index=['log', 'tree', 'forest']).T\n",
    "f1"
   ]
  },
  {
   "cell_type": "code",
   "execution_count": 71,
   "metadata": {
    "scrolled": false
   },
   "outputs": [
    {
     "data": {
      "image/png": "[encoded data removed]",
      "text/plain": [
       "<Figure size 432x288 with 1 Axes>"
      ]
     },
     "metadata": {
      "needs_background": "light"
     },
     "output_type": "display_data"
    }
   ],
   "source": [
    "plt.plot(f1)\n",
    "plt.title('F1 metric')\n",
    "plt.legend(labels=['log', 'tree', 'forest'])\n",
    "plt.grid()"
   ]
  },
  {
   "cell_type": "markdown",
   "metadata": {},
   "source": [
    "Проанализируем график изменения метрики F1: <br>\n",
    "<ul>\n",
    "- Балансировка положительно влияет на модели логистической регрессии и случайного леса, особенно логистической регрессии.<br>\n",
    "- upsampling лучше повлиял на метрики деревьев чем downsampling\n",
    "</ul>"
   ]
  },
  {
   "cell_type": "code",
   "execution_count": 72,
   "metadata": {},
   "outputs": [
    {
     "data": {
      "text/html": [
       "<div>\n",
       "<style scoped>\n",
       "    .dataframe tbody tr th:only-of-type {\n",
       "        vertical-align: middle;\n",
       "    }\n",
       "\n",
       "    .dataframe tbody tr th {\n",
       "        vertical-align: top;\n",
       "    }\n",
       "\n",
       "    .dataframe thead th {\n",
       "        text-align: right;\n",
       "    }\n",
       "</style>\n",
       "<table border=\"1\" class=\"dataframe\">\n",
       "  <thead>\n",
       "    <tr style=\"text-align: right;\">\n",
       "      <th></th>\n",
       "      <th>log</th>\n",
       "      <th>tree</th>\n",
       "      <th>forest</th>\n",
       "    </tr>\n",
       "  </thead>\n",
       "  <tbody>\n",
       "    <tr>\n",
       "      <td>AUC_ROC</td>\n",
       "      <td>0.765</td>\n",
       "      <td>0.822</td>\n",
       "      <td>0.833</td>\n",
       "    </tr>\n",
       "    <tr>\n",
       "      <td>AUC_ROC_up</td>\n",
       "      <td>0.768</td>\n",
       "      <td>0.811</td>\n",
       "      <td>0.859</td>\n",
       "    </tr>\n",
       "    <tr>\n",
       "      <td>AUC_ROC_down</td>\n",
       "      <td>0.769</td>\n",
       "      <td>0.827</td>\n",
       "      <td>0.851</td>\n",
       "    </tr>\n",
       "  </tbody>\n",
       "</table>\n",
       "</div>"
      ],
      "text/plain": [
       "                log   tree  forest\n",
       "AUC_ROC       0.765  0.822   0.833\n",
       "AUC_ROC_up    0.768  0.811   0.859\n",
       "AUC_ROC_down  0.769  0.827   0.851"
      ]
     },
     "execution_count": 72,
     "metadata": {},
     "output_type": "execute_result"
    }
   ],
   "source": [
    "auc"
   ]
  },
  {
   "cell_type": "code",
   "execution_count": 73,
   "metadata": {
    "scrolled": true
   },
   "outputs": [
    {
     "data": {
      "image/png": "[encoded data removed]",
      "text/plain": [
       "<Figure size 432x288 with 1 Axes>"
      ]
     },
     "metadata": {
      "needs_background": "light"
     },
     "output_type": "display_data"
    }
   ],
   "source": [
    "plt.plot(auc)\n",
    "plt.title('AUC ROC metric')\n",
    "plt.legend(labels=['log', 'tree', 'forest'])\n",
    "plt.grid()"
   ]
  },
  {
   "cell_type": "markdown",
   "metadata": {},
   "source": [
    "Проанализируем график изменения метрики AUC ROC: <br>\n",
    "<ul>\n",
    "- Балансировка почти не влияет на модели логистической регрессии. <br>\n",
    "- Уменьшение большего класса выборки ухудшает метрику AUC ROC случайного леса.\n",
    "</ul>"
   ]
  },
  {
   "cell_type": "markdown",
   "metadata": {},
   "source": [
    "F1 метрика баланса между полнойтой и точностью <br>\n",
    "AUC ROC - баланс между долей истинно положительных ответов (TPR) и долей ложноположительных ответов (FPR)"
   ]
  },
  {
   "cell_type": "code",
   "execution_count": null,
   "metadata": {},
   "outputs": [],
   "source": []
  }
 ],
 "metadata": {
  "ExecuteTimeLog": [
   {
    "duration": 359,
    "start_time": "2021-12-29T17:03:35.136Z"
   },
   {
    "duration": 1052,
    "start_time": "2021-12-29T17:03:51.896Z"
   },
   {
    "duration": 33,
    "start_time": "2021-12-29T17:03:54.104Z"
   },
   {
    "duration": 15,
    "start_time": "2021-12-29T17:04:37.770Z"
   },
   {
    "duration": 368,
    "start_time": "2021-12-29T17:07:00.403Z"
   },
   {
    "duration": 192,
    "start_time": "2021-12-29T17:07:06.931Z"
   },
   {
    "duration": 25,
    "start_time": "2021-12-29T17:07:09.029Z"
   },
   {
    "duration": 15,
    "start_time": "2021-12-29T17:08:05.846Z"
   },
   {
    "duration": 211,
    "start_time": "2021-12-29T17:08:46.085Z"
   },
   {
    "duration": 4,
    "start_time": "2021-12-29T17:09:25.955Z"
   },
   {
    "duration": 11,
    "start_time": "2021-12-29T17:09:42.268Z"
   },
   {
    "duration": 10,
    "start_time": "2021-12-29T17:12:57.755Z"
   },
   {
    "duration": 5,
    "start_time": "2021-12-29T17:13:01.336Z"
   },
   {
    "duration": 12,
    "start_time": "2021-12-29T17:13:04.536Z"
   },
   {
    "duration": 11,
    "start_time": "2021-12-29T17:13:05.586Z"
   },
   {
    "duration": 324,
    "start_time": "2021-12-29T17:13:24.985Z"
   },
   {
    "duration": 12,
    "start_time": "2021-12-29T17:13:25.509Z"
   },
   {
    "duration": 30,
    "start_time": "2021-12-29T17:13:31.277Z"
   },
   {
    "duration": 11,
    "start_time": "2021-12-29T17:13:33.897Z"
   },
   {
    "duration": 4,
    "start_time": "2021-12-29T17:13:39.684Z"
   },
   {
    "duration": 11,
    "start_time": "2021-12-29T17:13:41.897Z"
   },
   {
    "duration": 11,
    "start_time": "2021-12-29T17:13:44.907Z"
   },
   {
    "duration": 10,
    "start_time": "2021-12-29T17:17:00.992Z"
   },
   {
    "duration": 2,
    "start_time": "2021-12-29T17:17:02.040Z"
   },
   {
    "duration": 19,
    "start_time": "2021-12-29T17:17:02.794Z"
   },
   {
    "duration": 2,
    "start_time": "2021-12-29T17:17:23.118Z"
   },
   {
    "duration": 335,
    "start_time": "2021-12-29T17:17:51.323Z"
   },
   {
    "duration": 8991,
    "start_time": "2021-12-29T17:19:03.151Z"
   },
   {
    "duration": 8869,
    "start_time": "2021-12-29T17:19:12.299Z"
   },
   {
    "duration": 5,
    "start_time": "2021-12-29T17:19:30.029Z"
   },
   {
    "duration": 4,
    "start_time": "2021-12-29T17:19:40.645Z"
   },
   {
    "duration": 6,
    "start_time": "2021-12-29T17:20:09.736Z"
   },
   {
    "duration": 18,
    "start_time": "2021-12-29T17:21:06.883Z"
   },
   {
    "duration": 6,
    "start_time": "2021-12-29T17:22:42.303Z"
   },
   {
    "duration": 19,
    "start_time": "2021-12-29T17:22:49.643Z"
   },
   {
    "duration": 4,
    "start_time": "2021-12-29T17:23:00.400Z"
   },
   {
    "duration": 8,
    "start_time": "2021-12-29T17:23:03.276Z"
   },
   {
    "duration": 330,
    "start_time": "2021-12-29T17:23:13.236Z"
   },
   {
    "duration": 13,
    "start_time": "2021-12-29T17:23:22.150Z"
   },
   {
    "duration": 11,
    "start_time": "2021-12-29T17:23:24.772Z"
   },
   {
    "duration": 8,
    "start_time": "2021-12-29T17:23:27.541Z"
   },
   {
    "duration": 3,
    "start_time": "2021-12-29T17:23:30.297Z"
   },
   {
    "duration": 18,
    "start_time": "2021-12-29T17:23:33.158Z"
   },
   {
    "duration": 21,
    "start_time": "2021-12-29T17:23:39.453Z"
   },
   {
    "duration": 10,
    "start_time": "2021-12-29T17:24:41.048Z"
   },
   {
    "duration": 1060,
    "start_time": "2022-01-02T17:53:48.512Z"
   },
   {
    "duration": 34,
    "start_time": "2022-01-02T17:53:49.573Z"
   },
   {
    "duration": 16,
    "start_time": "2022-01-02T17:53:49.609Z"
   },
   {
    "duration": 4,
    "start_time": "2022-01-02T17:53:49.627Z"
   },
   {
    "duration": 8,
    "start_time": "2022-01-02T17:53:49.632Z"
   },
   {
    "duration": 7,
    "start_time": "2022-01-02T17:53:49.642Z"
   },
   {
    "duration": 15,
    "start_time": "2022-01-02T17:53:49.650Z"
   },
   {
    "duration": 10,
    "start_time": "2022-01-02T17:53:49.666Z"
   },
   {
    "duration": 7,
    "start_time": "2022-01-02T17:53:49.678Z"
   },
   {
    "duration": 2,
    "start_time": "2022-01-02T17:53:49.687Z"
   },
   {
    "duration": 21,
    "start_time": "2022-01-02T17:53:49.691Z"
   },
   {
    "duration": 47,
    "start_time": "2022-01-02T17:53:49.714Z"
   },
   {
    "duration": 87,
    "start_time": "2022-01-02T17:53:49.762Z"
   },
   {
    "duration": 18,
    "start_time": "2022-01-02T17:57:46.121Z"
   },
   {
    "duration": 368,
    "start_time": "2022-01-02T17:58:10.733Z"
   },
   {
    "duration": 22,
    "start_time": "2022-01-02T17:58:37.394Z"
   },
   {
    "duration": 3,
    "start_time": "2022-01-02T17:59:31.943Z"
   },
   {
    "duration": 2,
    "start_time": "2022-01-02T17:59:34.749Z"
   },
   {
    "duration": 3,
    "start_time": "2022-01-02T17:59:46.569Z"
   },
   {
    "duration": 14308,
    "start_time": "2022-01-02T18:00:18.682Z"
   },
   {
    "duration": 7,
    "start_time": "2022-01-02T18:00:59.600Z"
   },
   {
    "duration": 228,
    "start_time": "2022-01-02T18:04:17.749Z"
   },
   {
    "duration": 233,
    "start_time": "2022-01-02T18:04:20.871Z"
   },
   {
    "duration": 3,
    "start_time": "2022-01-02T18:04:42.234Z"
   },
   {
    "duration": 3,
    "start_time": "2022-01-02T18:05:34.694Z"
   },
   {
    "duration": 276,
    "start_time": "2022-01-02T18:05:43.031Z"
   },
   {
    "duration": 82,
    "start_time": "2022-01-02T18:06:02.125Z"
   },
   {
    "duration": 44,
    "start_time": "2022-01-02T18:06:05.341Z"
   },
   {
    "duration": 3,
    "start_time": "2022-01-02T18:06:23.680Z"
   },
   {
    "duration": 2,
    "start_time": "2022-01-02T18:06:25.604Z"
   },
   {
    "duration": 23995,
    "start_time": "2022-01-02T18:06:34.762Z"
   },
   {
    "duration": 3,
    "start_time": "2022-01-02T18:07:07.413Z"
   },
   {
    "duration": 9,
    "start_time": "2022-01-02T18:08:09.838Z"
   },
   {
    "duration": 240,
    "start_time": "2022-01-02T18:09:39.768Z"
   },
   {
    "duration": 2,
    "start_time": "2022-01-02T18:09:45.566Z"
   },
   {
    "duration": 3,
    "start_time": "2022-01-02T18:10:10.781Z"
   },
   {
    "duration": 36,
    "start_time": "2022-01-02T18:10:10.786Z"
   },
   {
    "duration": 10,
    "start_time": "2022-01-02T18:10:10.824Z"
   },
   {
    "duration": 6,
    "start_time": "2022-01-02T18:10:10.835Z"
   },
   {
    "duration": 6,
    "start_time": "2022-01-02T18:10:10.842Z"
   },
   {
    "duration": 6,
    "start_time": "2022-01-02T18:10:10.849Z"
   },
   {
    "duration": 16,
    "start_time": "2022-01-02T18:10:10.856Z"
   },
   {
    "duration": 9,
    "start_time": "2022-01-02T18:10:10.873Z"
   },
   {
    "duration": 7,
    "start_time": "2022-01-02T18:10:10.885Z"
   },
   {
    "duration": 5,
    "start_time": "2022-01-02T18:10:10.893Z"
   },
   {
    "duration": 24,
    "start_time": "2022-01-02T18:10:10.900Z"
   },
   {
    "duration": 20,
    "start_time": "2022-01-02T18:10:10.941Z"
   },
   {
    "duration": 9,
    "start_time": "2022-01-02T18:10:10.963Z"
   },
   {
    "duration": 114,
    "start_time": "2022-01-02T18:10:11.048Z"
   },
   {
    "duration": 7,
    "start_time": "2022-01-02T18:10:11.164Z"
   },
   {
    "duration": 5,
    "start_time": "2022-01-02T18:10:11.172Z"
   },
   {
    "duration": 4,
    "start_time": "2022-01-02T18:10:11.178Z"
   },
   {
    "duration": 14050,
    "start_time": "2022-01-02T18:10:11.184Z"
   },
   {
    "duration": 11,
    "start_time": "2022-01-02T18:10:25.236Z"
   },
   {
    "duration": 4,
    "start_time": "2022-01-02T18:10:25.249Z"
   },
   {
    "duration": 9,
    "start_time": "2022-01-02T18:10:25.254Z"
   },
   {
    "duration": 42,
    "start_time": "2022-01-02T18:10:25.264Z"
   },
   {
    "duration": 2,
    "start_time": "2022-01-02T18:10:25.308Z"
   },
   {
    "duration": 7,
    "start_time": "2022-01-02T18:10:25.312Z"
   },
   {
    "duration": 24974,
    "start_time": "2022-01-02T18:10:25.341Z"
   },
   {
    "duration": 3,
    "start_time": "2022-01-02T18:10:50.317Z"
   },
   {
    "duration": 22,
    "start_time": "2022-01-02T18:10:50.322Z"
   },
   {
    "duration": 6,
    "start_time": "2022-01-02T18:22:23.654Z"
   },
   {
    "duration": 4,
    "start_time": "2022-01-02T18:23:32.118Z"
   },
   {
    "duration": 1286,
    "start_time": "2022-01-07T19:47:39.983Z"
   },
   {
    "duration": 41,
    "start_time": "2022-01-07T19:47:41.272Z"
   },
   {
    "duration": 33,
    "start_time": "2022-01-07T19:47:41.316Z"
   },
   {
    "duration": 18,
    "start_time": "2022-01-07T19:47:41.352Z"
   },
   {
    "duration": 19,
    "start_time": "2022-01-07T19:47:41.372Z"
   },
   {
    "duration": 20,
    "start_time": "2022-01-07T19:47:41.393Z"
   },
   {
    "duration": 30,
    "start_time": "2022-01-07T19:47:41.415Z"
   },
   {
    "duration": 18,
    "start_time": "2022-01-07T19:47:41.448Z"
   },
   {
    "duration": 10,
    "start_time": "2022-01-07T19:47:41.469Z"
   },
   {
    "duration": 19,
    "start_time": "2022-01-07T19:47:41.481Z"
   },
   {
    "duration": 38,
    "start_time": "2022-01-07T19:47:41.501Z"
   },
   {
    "duration": 35,
    "start_time": "2022-01-07T19:47:41.542Z"
   },
   {
    "duration": 49,
    "start_time": "2022-01-07T19:47:41.579Z"
   },
   {
    "duration": 97,
    "start_time": "2022-01-07T19:47:41.632Z"
   },
   {
    "duration": 16,
    "start_time": "2022-01-07T19:47:41.732Z"
   },
   {
    "duration": 18,
    "start_time": "2022-01-07T19:47:41.750Z"
   },
   {
    "duration": 18591,
    "start_time": "2022-01-07T19:47:41.770Z"
   },
   {
    "duration": 9,
    "start_time": "2022-01-07T19:48:00.363Z"
   },
   {
    "duration": 12,
    "start_time": "2022-01-07T19:48:00.375Z"
   },
   {
    "duration": 19,
    "start_time": "2022-01-07T19:48:00.389Z"
   },
   {
    "duration": 25,
    "start_time": "2022-01-07T19:48:00.422Z"
   },
   {
    "duration": 460,
    "start_time": "2022-01-07T19:48:00.450Z"
   },
   {
    "duration": 76,
    "start_time": "2022-01-07T19:48:00.837Z"
   },
   {
    "duration": 76,
    "start_time": "2022-01-07T19:48:00.839Z"
   },
   {
    "duration": 69,
    "start_time": "2022-01-07T19:48:00.848Z"
   },
   {
    "duration": 64,
    "start_time": "2022-01-07T19:48:00.856Z"
   },
   {
    "duration": 63,
    "start_time": "2022-01-07T19:48:00.859Z"
   },
   {
    "duration": 290,
    "start_time": "2022-01-07T19:48:32.028Z"
   },
   {
    "duration": 3,
    "start_time": "2022-01-07T19:49:00.096Z"
   },
   {
    "duration": 37152,
    "start_time": "2022-01-07T19:49:03.661Z"
   },
   {
    "duration": 9,
    "start_time": "2022-01-07T19:49:40.816Z"
   },
   {
    "duration": 17,
    "start_time": "2022-01-07T19:49:40.828Z"
   },
   {
    "duration": 8,
    "start_time": "2022-01-07T19:49:48.620Z"
   },
   {
    "duration": 21,
    "start_time": "2022-01-07T19:49:50.984Z"
   },
   {
    "duration": 49,
    "start_time": "2022-01-07T19:57:24.878Z"
   },
   {
    "duration": 71,
    "start_time": "2022-01-07T19:57:28.056Z"
   },
   {
    "duration": 3,
    "start_time": "2022-01-07T19:57:46.183Z"
   },
   {
    "duration": 4,
    "start_time": "2022-01-07T19:57:48.058Z"
   },
   {
    "duration": 5,
    "start_time": "2022-01-07T20:00:22.142Z"
   },
   {
    "duration": 3,
    "start_time": "2022-01-07T20:00:24.902Z"
   },
   {
    "duration": 4,
    "start_time": "2022-01-07T20:00:26.881Z"
   },
   {
    "duration": 26519,
    "start_time": "2022-01-07T20:00:30.884Z"
   },
   {
    "duration": 9,
    "start_time": "2022-01-07T20:01:02.500Z"
   },
   {
    "duration": 4,
    "start_time": "2022-01-07T20:01:03.513Z"
   },
   {
    "duration": 4,
    "start_time": "2022-01-07T20:01:44.306Z"
   },
   {
    "duration": 4,
    "start_time": "2022-01-07T20:01:45.729Z"
   },
   {
    "duration": 3,
    "start_time": "2022-01-07T20:01:46.398Z"
   },
   {
    "duration": 4,
    "start_time": "2022-01-07T20:01:55.749Z"
   },
   {
    "duration": 4,
    "start_time": "2022-01-07T20:01:56.967Z"
   },
   {
    "duration": 5,
    "start_time": "2022-01-07T20:01:57.982Z"
   },
   {
    "duration": 53253,
    "start_time": "2022-01-07T20:02:14.390Z"
   },
   {
    "duration": 5,
    "start_time": "2022-01-07T20:03:18.388Z"
   },
   {
    "duration": 13,
    "start_time": "2022-01-07T20:04:27.409Z"
   },
   {
    "duration": 7,
    "start_time": "2022-01-07T20:07:23.179Z"
   },
   {
    "duration": 9,
    "start_time": "2022-01-07T20:08:30.789Z"
   },
   {
    "duration": 6,
    "start_time": "2022-01-07T20:08:47.327Z"
   },
   {
    "duration": 17,
    "start_time": "2022-01-07T20:14:36.166Z"
   },
   {
    "duration": 5,
    "start_time": "2022-01-07T20:14:38.444Z"
   },
   {
    "duration": 5,
    "start_time": "2022-01-07T20:14:51.620Z"
   },
   {
    "duration": 17,
    "start_time": "2022-01-07T20:17:47.863Z"
   },
   {
    "duration": 10,
    "start_time": "2022-01-07T20:17:50.507Z"
   },
   {
    "duration": 4,
    "start_time": "2022-01-07T20:17:53.590Z"
   },
   {
    "duration": 3,
    "start_time": "2022-01-07T20:17:55.955Z"
   },
   {
    "duration": 3,
    "start_time": "2022-01-07T20:17:58.419Z"
   },
   {
    "duration": 8612,
    "start_time": "2022-01-07T20:18:02.097Z"
   },
   {
    "duration": 9,
    "start_time": "2022-01-07T20:18:25.241Z"
   },
   {
    "duration": 4,
    "start_time": "2022-01-07T20:18:27.387Z"
   },
   {
    "duration": 4,
    "start_time": "2022-01-07T20:18:29.853Z"
   },
   {
    "duration": 4,
    "start_time": "2022-01-07T20:18:32.977Z"
   },
   {
    "duration": 4,
    "start_time": "2022-01-07T20:18:35.305Z"
   },
   {
    "duration": 23150,
    "start_time": "2022-01-07T20:18:43.008Z"
   },
   {
    "duration": 5,
    "start_time": "2022-01-07T20:19:33.951Z"
   },
   {
    "duration": 15,
    "start_time": "2022-01-07T20:19:36.419Z"
   },
   {
    "duration": 16,
    "start_time": "2022-01-07T20:22:17.076Z"
   },
   {
    "duration": 15,
    "start_time": "2022-01-07T20:22:37.459Z"
   },
   {
    "duration": 21,
    "start_time": "2022-01-07T20:23:02.607Z"
   },
   {
    "duration": 109,
    "start_time": "2022-01-07T20:23:48.216Z"
   },
   {
    "duration": 21,
    "start_time": "2022-01-07T20:27:37.751Z"
   },
   {
    "duration": 12,
    "start_time": "2022-01-07T20:27:43.572Z"
   },
   {
    "duration": 15,
    "start_time": "2022-01-07T20:27:51.228Z"
   },
   {
    "duration": 5,
    "start_time": "2022-01-07T20:28:00.432Z"
   },
   {
    "duration": 55,
    "start_time": "2022-01-07T20:28:00.439Z"
   },
   {
    "duration": 31,
    "start_time": "2022-01-07T20:28:00.497Z"
   },
   {
    "duration": 13,
    "start_time": "2022-01-07T20:28:00.532Z"
   },
   {
    "duration": 20,
    "start_time": "2022-01-07T20:28:00.548Z"
   },
   {
    "duration": 18,
    "start_time": "2022-01-07T20:28:00.572Z"
   },
   {
    "duration": 47,
    "start_time": "2022-01-07T20:28:00.593Z"
   },
   {
    "duration": 21,
    "start_time": "2022-01-07T20:28:00.642Z"
   },
   {
    "duration": 12,
    "start_time": "2022-01-07T20:28:00.668Z"
   },
   {
    "duration": 19,
    "start_time": "2022-01-07T20:28:00.684Z"
   },
   {
    "duration": 41,
    "start_time": "2022-01-07T20:28:00.706Z"
   },
   {
    "duration": 35,
    "start_time": "2022-01-07T20:28:00.749Z"
   },
   {
    "duration": 40,
    "start_time": "2022-01-07T20:28:00.787Z"
   },
   {
    "duration": 95,
    "start_time": "2022-01-07T20:28:00.831Z"
   },
   {
    "duration": 7,
    "start_time": "2022-01-07T20:28:00.929Z"
   },
   {
    "duration": 6,
    "start_time": "2022-01-07T20:28:00.938Z"
   },
   {
    "duration": 19043,
    "start_time": "2022-01-07T20:28:00.947Z"
   },
   {
    "duration": 12,
    "start_time": "2022-01-07T20:28:19.993Z"
   },
   {
    "duration": 17,
    "start_time": "2022-01-07T20:28:20.008Z"
   },
   {
    "duration": 6,
    "start_time": "2022-01-07T20:28:20.028Z"
   },
   {
    "duration": 4,
    "start_time": "2022-01-07T20:28:20.037Z"
   },
   {
    "duration": 7,
    "start_time": "2022-01-07T20:28:20.044Z"
   },
   {
    "duration": 37569,
    "start_time": "2022-01-07T20:28:20.053Z"
   },
   {
    "duration": 6,
    "start_time": "2022-01-07T20:28:57.625Z"
   },
   {
    "duration": 28,
    "start_time": "2022-01-07T20:28:57.633Z"
   },
   {
    "duration": 7,
    "start_time": "2022-01-07T20:28:57.663Z"
   },
   {
    "duration": 53,
    "start_time": "2022-01-07T20:28:57.675Z"
   },
   {
    "duration": 46,
    "start_time": "2022-01-07T20:28:57.731Z"
   },
   {
    "duration": 57,
    "start_time": "2022-01-07T20:28:57.779Z"
   },
   {
    "duration": 3,
    "start_time": "2022-01-07T20:28:57.923Z"
   },
   {
    "duration": 6,
    "start_time": "2022-01-07T20:28:57.929Z"
   },
   {
    "duration": 5,
    "start_time": "2022-01-07T20:28:57.937Z"
   },
   {
    "duration": 26816,
    "start_time": "2022-01-07T20:28:57.944Z"
   },
   {
    "duration": 14,
    "start_time": "2022-01-07T20:29:24.762Z"
   },
   {
    "duration": 5,
    "start_time": "2022-01-07T20:29:24.778Z"
   },
   {
    "duration": 4,
    "start_time": "2022-01-07T20:29:24.785Z"
   },
   {
    "duration": 33,
    "start_time": "2022-01-07T20:29:24.791Z"
   },
   {
    "duration": 7,
    "start_time": "2022-01-07T20:29:24.826Z"
   },
   {
    "duration": 53649,
    "start_time": "2022-01-07T20:29:24.835Z"
   },
   {
    "duration": 4,
    "start_time": "2022-01-07T20:30:18.486Z"
   },
   {
    "duration": 35,
    "start_time": "2022-01-07T20:30:18.493Z"
   },
   {
    "duration": 6,
    "start_time": "2022-01-07T20:30:18.531Z"
   },
   {
    "duration": 6,
    "start_time": "2022-01-07T20:30:18.540Z"
   },
   {
    "duration": 18,
    "start_time": "2022-01-07T20:30:18.548Z"
   },
   {
    "duration": 4,
    "start_time": "2022-01-07T20:30:18.568Z"
   },
   {
    "duration": 56,
    "start_time": "2022-01-07T20:30:18.575Z"
   },
   {
    "duration": 91,
    "start_time": "2022-01-07T20:30:18.633Z"
   },
   {
    "duration": 5,
    "start_time": "2022-01-07T20:30:18.727Z"
   },
   {
    "duration": 4,
    "start_time": "2022-01-07T20:30:18.823Z"
   },
   {
    "duration": 6,
    "start_time": "2022-01-07T20:30:18.829Z"
   },
   {
    "duration": 8654,
    "start_time": "2022-01-07T20:30:18.837Z"
   },
   {
    "duration": 11,
    "start_time": "2022-01-07T20:30:27.493Z"
   },
   {
    "duration": 4,
    "start_time": "2022-01-07T20:30:27.523Z"
   },
   {
    "duration": 4,
    "start_time": "2022-01-07T20:30:27.529Z"
   },
   {
    "duration": 8,
    "start_time": "2022-01-07T20:30:27.535Z"
   },
   {
    "duration": 6,
    "start_time": "2022-01-07T20:30:27.546Z"
   },
   {
    "duration": 22104,
    "start_time": "2022-01-07T20:30:27.554Z"
   },
   {
    "duration": 5,
    "start_time": "2022-01-07T20:30:49.660Z"
   },
   {
    "duration": 24,
    "start_time": "2022-01-07T20:30:49.667Z"
   },
   {
    "duration": 1123,
    "start_time": "2022-01-08T13:07:33.076Z"
   },
   {
    "duration": 5,
    "start_time": "2022-01-08T13:07:39.254Z"
   },
   {
    "duration": 1517,
    "start_time": "2022-01-08T13:07:39.261Z"
   },
   {
    "duration": 15,
    "start_time": "2022-01-08T13:07:40.780Z"
   },
   {
    "duration": 6,
    "start_time": "2022-01-08T13:07:40.797Z"
   },
   {
    "duration": 7,
    "start_time": "2022-01-08T13:07:40.804Z"
   },
   {
    "duration": 6,
    "start_time": "2022-01-08T13:07:40.812Z"
   },
   {
    "duration": 17,
    "start_time": "2022-01-08T13:07:40.819Z"
   },
   {
    "duration": 11,
    "start_time": "2022-01-08T13:07:40.838Z"
   },
   {
    "duration": 7,
    "start_time": "2022-01-08T13:07:40.851Z"
   },
   {
    "duration": 3,
    "start_time": "2022-01-08T13:07:40.860Z"
   },
   {
    "duration": 21,
    "start_time": "2022-01-08T13:07:40.892Z"
   },
   {
    "duration": 22,
    "start_time": "2022-01-08T13:07:40.914Z"
   },
   {
    "duration": 154,
    "start_time": "2022-01-08T13:07:40.938Z"
   },
   {
    "duration": 3,
    "start_time": "2022-01-08T13:07:41.094Z"
   },
   {
    "duration": 6,
    "start_time": "2022-01-08T13:07:41.098Z"
   },
   {
    "duration": 5,
    "start_time": "2022-01-08T13:07:41.105Z"
   },
   {
    "duration": 14254,
    "start_time": "2022-01-08T13:07:41.112Z"
   },
   {
    "duration": 9,
    "start_time": "2022-01-08T13:07:55.368Z"
   },
   {
    "duration": 15,
    "start_time": "2022-01-08T13:07:55.378Z"
   },
   {
    "duration": 5,
    "start_time": "2022-01-08T13:07:55.395Z"
   },
   {
    "duration": 14,
    "start_time": "2022-01-08T13:07:55.401Z"
   },
   {
    "duration": 12,
    "start_time": "2022-01-08T13:07:55.417Z"
   },
   {
    "duration": 26478,
    "start_time": "2022-01-08T13:07:55.432Z"
   },
   {
    "duration": 3,
    "start_time": "2022-01-08T13:08:21.912Z"
   },
   {
    "duration": 19,
    "start_time": "2022-01-08T13:08:21.917Z"
   },
   {
    "duration": 5,
    "start_time": "2022-01-08T13:08:21.938Z"
   },
   {
    "duration": 15,
    "start_time": "2022-01-08T13:08:21.944Z"
   },
   {
    "duration": 32,
    "start_time": "2022-01-08T13:08:21.996Z"
   },
   {
    "duration": 62,
    "start_time": "2022-01-08T13:08:22.030Z"
   },
   {
    "duration": 3,
    "start_time": "2022-01-08T13:08:22.094Z"
   },
   {
    "duration": 92,
    "start_time": "2022-01-08T13:08:22.100Z"
   },
   {
    "duration": 5,
    "start_time": "2022-01-08T13:08:22.193Z"
   },
   {
    "duration": 18779,
    "start_time": "2022-01-08T13:08:22.199Z"
   },
   {
    "duration": 14,
    "start_time": "2022-01-08T13:08:40.980Z"
   },
   {
    "duration": 3,
    "start_time": "2022-01-08T13:08:40.995Z"
   },
   {
    "duration": 4,
    "start_time": "2022-01-08T13:08:41.000Z"
   },
   {
    "duration": 5,
    "start_time": "2022-01-08T13:08:41.005Z"
   },
   {
    "duration": 4,
    "start_time": "2022-01-08T13:08:41.012Z"
   },
   {
    "duration": 36086,
    "start_time": "2022-01-08T13:08:41.018Z"
   },
   {
    "duration": 3,
    "start_time": "2022-01-08T13:09:17.106Z"
   },
   {
    "duration": 17,
    "start_time": "2022-01-08T13:09:17.111Z"
   },
   {
    "duration": 6,
    "start_time": "2022-01-08T13:09:17.129Z"
   },
   {
    "duration": 5,
    "start_time": "2022-01-08T13:09:17.136Z"
   },
   {
    "duration": 13,
    "start_time": "2022-01-08T13:09:17.142Z"
   },
   {
    "duration": 3,
    "start_time": "2022-01-08T13:09:17.156Z"
   },
   {
    "duration": 11,
    "start_time": "2022-01-08T13:09:17.191Z"
   },
   {
    "duration": 11,
    "start_time": "2022-01-08T13:09:17.204Z"
   },
   {
    "duration": 76,
    "start_time": "2022-01-08T13:09:17.217Z"
   },
   {
    "duration": 6,
    "start_time": "2022-01-08T13:09:17.295Z"
   },
   {
    "duration": 3,
    "start_time": "2022-01-08T13:09:17.391Z"
   },
   {
    "duration": 6277,
    "start_time": "2022-01-08T13:09:17.396Z"
   },
   {
    "duration": 8,
    "start_time": "2022-01-08T13:09:23.674Z"
   },
   {
    "duration": 3,
    "start_time": "2022-01-08T13:09:23.691Z"
   },
   {
    "duration": 4,
    "start_time": "2022-01-08T13:09:23.696Z"
   },
   {
    "duration": 7,
    "start_time": "2022-01-08T13:09:23.702Z"
   },
   {
    "duration": 5,
    "start_time": "2022-01-08T13:09:23.710Z"
   },
   {
    "duration": 15466,
    "start_time": "2022-01-08T13:09:23.717Z"
   },
   {
    "duration": 7,
    "start_time": "2022-01-08T13:09:39.184Z"
   },
   {
    "duration": 17,
    "start_time": "2022-01-08T13:09:39.193Z"
   },
   {
    "duration": 183,
    "start_time": "2022-01-08T13:09:39.211Z"
   },
   {
    "duration": 3,
    "start_time": "2022-01-08T13:33:40.216Z"
   },
   {
    "duration": 7,
    "start_time": "2022-01-08T14:47:00.138Z"
   },
   {
    "duration": 9,
    "start_time": "2022-01-08T14:50:50.482Z"
   },
   {
    "duration": 7,
    "start_time": "2022-01-08T14:54:41.237Z"
   },
   {
    "duration": 8,
    "start_time": "2022-01-08T14:54:52.563Z"
   },
   {
    "duration": 8,
    "start_time": "2022-01-08T14:55:03.350Z"
   },
   {
    "duration": 8,
    "start_time": "2022-01-08T14:55:10.181Z"
   },
   {
    "duration": 153,
    "start_time": "2022-01-08T14:58:53.815Z"
   },
   {
    "duration": 165,
    "start_time": "2022-01-08T14:59:51.491Z"
   },
   {
    "duration": 171,
    "start_time": "2022-01-08T15:00:10.506Z"
   },
   {
    "duration": 3,
    "start_time": "2022-01-08T15:00:25.267Z"
   },
   {
    "duration": 465,
    "start_time": "2022-01-08T15:00:59.128Z"
   },
   {
    "duration": 136,
    "start_time": "2022-01-08T15:02:35.836Z"
   },
   {
    "duration": 136,
    "start_time": "2022-01-08T15:02:53.906Z"
   },
   {
    "duration": 254,
    "start_time": "2022-01-08T15:03:12.348Z"
   },
   {
    "duration": 136,
    "start_time": "2022-01-08T15:03:30.884Z"
   },
   {
    "duration": 137,
    "start_time": "2022-01-08T15:04:04.563Z"
   },
   {
    "duration": 138,
    "start_time": "2022-01-08T15:04:24.769Z"
   },
   {
    "duration": 219,
    "start_time": "2022-01-08T15:04:53.189Z"
   },
   {
    "duration": 145,
    "start_time": "2022-01-08T15:05:38.497Z"
   },
   {
    "duration": 168,
    "start_time": "2022-01-08T15:09:43.991Z"
   },
   {
    "duration": 167,
    "start_time": "2022-01-08T15:10:31.192Z"
   },
   {
    "duration": 179,
    "start_time": "2022-01-08T15:24:45.992Z"
   },
   {
    "duration": 5,
    "start_time": "2022-01-08T15:25:06.678Z"
   },
   {
    "duration": 10,
    "start_time": "2022-01-08T15:25:13.335Z"
   },
   {
    "duration": 4,
    "start_time": "2022-01-08T15:26:02.476Z"
   },
   {
    "duration": 10,
    "start_time": "2022-01-08T15:26:08.141Z"
   },
   {
    "duration": 11,
    "start_time": "2022-01-08T15:30:01.578Z"
   },
   {
    "duration": 13,
    "start_time": "2022-01-08T15:30:53.836Z"
   },
   {
    "duration": 13,
    "start_time": "2022-01-08T15:31:48.473Z"
   },
   {
    "duration": 6,
    "start_time": "2022-01-08T15:36:15.710Z"
   },
   {
    "duration": 11,
    "start_time": "2022-01-08T15:36:21.229Z"
   },
   {
    "duration": 144,
    "start_time": "2022-01-08T15:37:08.715Z"
   },
   {
    "duration": 141,
    "start_time": "2022-01-08T15:37:40.074Z"
   },
   {
    "duration": 13,
    "start_time": "2022-01-08T15:40:11.214Z"
   },
   {
    "duration": 11,
    "start_time": "2022-01-08T15:40:27.789Z"
   },
   {
    "duration": 16,
    "start_time": "2022-01-08T15:40:35.553Z"
   },
   {
    "duration": 126,
    "start_time": "2022-01-08T15:41:02.547Z"
   },
   {
    "duration": 137,
    "start_time": "2022-01-08T15:41:21.416Z"
   },
   {
    "duration": 141,
    "start_time": "2022-01-08T15:41:30.984Z"
   },
   {
    "duration": 147,
    "start_time": "2022-01-08T15:41:52.034Z"
   },
   {
    "duration": 175,
    "start_time": "2022-01-08T15:42:06.893Z"
   },
   {
    "duration": 160,
    "start_time": "2022-01-08T15:42:35.134Z"
   },
   {
    "duration": 170,
    "start_time": "2022-01-08T15:43:27.417Z"
   },
   {
    "duration": 7,
    "start_time": "2022-01-08T15:43:42.218Z"
   },
   {
    "duration": 239,
    "start_time": "2022-01-08T15:44:21.968Z"
   },
   {
    "duration": 168,
    "start_time": "2022-01-08T15:44:27.017Z"
   },
   {
    "duration": 165,
    "start_time": "2022-01-08T15:44:33.280Z"
   },
   {
    "duration": 172,
    "start_time": "2022-01-08T15:44:39.325Z"
   },
   {
    "duration": 11,
    "start_time": "2022-01-08T15:45:36.633Z"
   },
   {
    "duration": 7,
    "start_time": "2022-01-08T15:45:42.872Z"
   },
   {
    "duration": 58,
    "start_time": "2022-01-08T15:49:03.647Z"
   },
   {
    "duration": 298,
    "start_time": "2022-01-08T15:52:36.736Z"
   },
   {
    "duration": 159,
    "start_time": "2022-01-08T15:52:46.165Z"
   },
   {
    "duration": 157,
    "start_time": "2022-01-08T15:53:03.871Z"
   },
   {
    "duration": 165,
    "start_time": "2022-01-08T15:53:12.453Z"
   },
   {
    "duration": 180,
    "start_time": "2022-01-08T15:53:22.320Z"
   },
   {
    "duration": 4,
    "start_time": "2022-01-08T16:15:44.178Z"
   },
   {
    "duration": 37,
    "start_time": "2022-01-08T16:15:44.184Z"
   },
   {
    "duration": 12,
    "start_time": "2022-01-08T16:15:44.223Z"
   },
   {
    "duration": 5,
    "start_time": "2022-01-08T16:15:44.237Z"
   },
   {
    "duration": 4,
    "start_time": "2022-01-08T16:15:44.244Z"
   },
   {
    "duration": 5,
    "start_time": "2022-01-08T16:15:44.249Z"
   },
   {
    "duration": 14,
    "start_time": "2022-01-08T16:15:44.255Z"
   },
   {
    "duration": 26,
    "start_time": "2022-01-08T16:15:44.271Z"
   },
   {
    "duration": 8,
    "start_time": "2022-01-08T16:15:44.298Z"
   },
   {
    "duration": 3,
    "start_time": "2022-01-08T16:15:44.308Z"
   },
   {
    "duration": 21,
    "start_time": "2022-01-08T16:15:44.312Z"
   },
   {
    "duration": 19,
    "start_time": "2022-01-08T16:15:44.335Z"
   },
   {
    "duration": 42,
    "start_time": "2022-01-08T16:15:44.355Z"
   },
   {
    "duration": 94,
    "start_time": "2022-01-08T16:15:44.399Z"
   },
   {
    "duration": 5,
    "start_time": "2022-01-08T16:15:44.495Z"
   },
   {
    "duration": 6,
    "start_time": "2022-01-08T16:15:44.502Z"
   },
   {
    "duration": 1140,
    "start_time": "2022-01-08T16:15:59.756Z"
   },
   {
    "duration": 35,
    "start_time": "2022-01-08T16:16:00.897Z"
   },
   {
    "duration": 15,
    "start_time": "2022-01-08T16:16:00.935Z"
   },
   {
    "duration": 9,
    "start_time": "2022-01-08T16:16:00.953Z"
   },
   {
    "duration": 11,
    "start_time": "2022-01-08T16:16:00.963Z"
   },
   {
    "duration": 17,
    "start_time": "2022-01-08T16:16:00.975Z"
   },
   {
    "duration": 36,
    "start_time": "2022-01-08T16:16:00.994Z"
   },
   {
    "duration": 23,
    "start_time": "2022-01-08T16:16:01.032Z"
   },
   {
    "duration": 26,
    "start_time": "2022-01-08T16:16:01.057Z"
   },
   {
    "duration": 17,
    "start_time": "2022-01-08T16:16:01.085Z"
   },
   {
    "duration": 41,
    "start_time": "2022-01-08T16:16:01.104Z"
   },
   {
    "duration": 22,
    "start_time": "2022-01-08T16:16:01.147Z"
   },
   {
    "duration": 28,
    "start_time": "2022-01-08T16:16:01.171Z"
   },
   {
    "duration": 5,
    "start_time": "2022-01-08T16:16:01.292Z"
   },
   {
    "duration": 107,
    "start_time": "2022-01-08T16:16:01.299Z"
   },
   {
    "duration": 7,
    "start_time": "2022-01-08T16:16:01.408Z"
   },
   {
    "duration": 14254,
    "start_time": "2022-01-08T16:16:01.417Z"
   },
   {
    "duration": 18,
    "start_time": "2022-01-08T16:16:15.673Z"
   },
   {
    "duration": 2,
    "start_time": "2022-01-08T16:16:15.693Z"
   },
   {
    "duration": 10,
    "start_time": "2022-01-08T16:16:15.697Z"
   },
   {
    "duration": 13,
    "start_time": "2022-01-08T16:16:15.708Z"
   },
   {
    "duration": 25713,
    "start_time": "2022-01-08T16:16:15.722Z"
   },
   {
    "duration": 3,
    "start_time": "2022-01-08T16:16:41.438Z"
   },
   {
    "duration": 20,
    "start_time": "2022-01-08T16:16:41.443Z"
   },
   {
    "duration": 28,
    "start_time": "2022-01-08T16:16:41.465Z"
   },
   {
    "duration": 17,
    "start_time": "2022-01-08T16:16:41.495Z"
   },
   {
    "duration": 31,
    "start_time": "2022-01-08T16:16:41.514Z"
   },
   {
    "duration": 50,
    "start_time": "2022-01-08T16:16:41.548Z"
   },
   {
    "duration": 91,
    "start_time": "2022-01-08T16:16:41.601Z"
   },
   {
    "duration": 5,
    "start_time": "2022-01-08T16:16:41.695Z"
   },
   {
    "duration": 4,
    "start_time": "2022-01-08T16:16:41.702Z"
   },
   {
    "duration": 18841,
    "start_time": "2022-01-08T16:16:41.707Z"
   },
   {
    "duration": 3,
    "start_time": "2022-01-08T16:17:00.550Z"
   },
   {
    "duration": 18,
    "start_time": "2022-01-08T16:17:00.555Z"
   },
   {
    "duration": 5,
    "start_time": "2022-01-08T16:17:00.575Z"
   },
   {
    "duration": 13,
    "start_time": "2022-01-08T16:17:00.582Z"
   },
   {
    "duration": 11,
    "start_time": "2022-01-08T16:17:00.597Z"
   },
   {
    "duration": 36148,
    "start_time": "2022-01-08T16:17:00.610Z"
   },
   {
    "duration": 3,
    "start_time": "2022-01-08T16:17:36.760Z"
   },
   {
    "duration": 14,
    "start_time": "2022-01-08T16:17:36.764Z"
   },
   {
    "duration": 15,
    "start_time": "2022-01-08T16:17:36.779Z"
   },
   {
    "duration": 5,
    "start_time": "2022-01-08T16:17:36.796Z"
   },
   {
    "duration": 14,
    "start_time": "2022-01-08T16:17:36.802Z"
   },
   {
    "duration": 3,
    "start_time": "2022-01-08T16:17:36.817Z"
   },
   {
    "duration": 15,
    "start_time": "2022-01-08T16:17:36.821Z"
   },
   {
    "duration": 63,
    "start_time": "2022-01-08T16:17:36.837Z"
   },
   {
    "duration": 3,
    "start_time": "2022-01-08T16:17:36.992Z"
   },
   {
    "duration": 5,
    "start_time": "2022-01-08T16:17:36.997Z"
   },
   {
    "duration": 5,
    "start_time": "2022-01-08T16:17:37.004Z"
   },
   {
    "duration": 6134,
    "start_time": "2022-01-08T16:17:37.011Z"
   },
   {
    "duration": 4,
    "start_time": "2022-01-08T16:17:43.146Z"
   },
   {
    "duration": 10,
    "start_time": "2022-01-08T16:17:43.151Z"
   },
   {
    "duration": 2,
    "start_time": "2022-01-08T16:17:43.163Z"
   },
   {
    "duration": 25,
    "start_time": "2022-01-08T16:17:43.167Z"
   },
   {
    "duration": 5,
    "start_time": "2022-01-08T16:17:43.194Z"
   },
   {
    "duration": 15006,
    "start_time": "2022-01-08T16:17:43.201Z"
   },
   {
    "duration": 4,
    "start_time": "2022-01-08T16:17:58.209Z"
   },
   {
    "duration": 17,
    "start_time": "2022-01-08T16:17:58.215Z"
   },
   {
    "duration": 204,
    "start_time": "2022-01-08T16:17:58.233Z"
   },
   {
    "duration": 13,
    "start_time": "2022-01-08T16:17:58.439Z"
   },
   {
    "duration": 182,
    "start_time": "2022-01-08T16:17:58.454Z"
   },
   {
    "duration": 8,
    "start_time": "2022-01-08T16:17:58.638Z"
   },
   {
    "duration": 187,
    "start_time": "2022-01-08T16:17:58.649Z"
   },
   {
    "duration": 146,
    "start_time": "2022-01-08T16:27:06.615Z"
   },
   {
    "duration": 149,
    "start_time": "2022-01-08T16:28:20.617Z"
   },
   {
    "duration": 142,
    "start_time": "2022-01-08T16:28:54.841Z"
   },
   {
    "duration": 147,
    "start_time": "2022-01-08T16:28:57.531Z"
   },
   {
    "duration": 60,
    "start_time": "2022-01-08T18:31:58.973Z"
   },
   {
    "duration": 14,
    "start_time": "2022-01-08T18:32:06.349Z"
   },
   {
    "duration": 4,
    "start_time": "2022-01-08T18:33:13.552Z"
   },
   {
    "duration": 14,
    "start_time": "2022-01-08T18:33:24.837Z"
   },
   {
    "duration": 1198,
    "start_time": "2022-01-09T11:56:33.293Z"
   },
   {
    "duration": 32,
    "start_time": "2022-01-09T11:56:37.730Z"
   },
   {
    "duration": 4,
    "start_time": "2022-01-09T11:56:46.489Z"
   },
   {
    "duration": 34,
    "start_time": "2022-01-09T11:56:46.494Z"
   },
   {
    "duration": 13,
    "start_time": "2022-01-09T11:56:46.530Z"
   },
   {
    "duration": 3,
    "start_time": "2022-01-09T11:56:46.545Z"
   },
   {
    "duration": 4,
    "start_time": "2022-01-09T11:56:52.524Z"
   },
   {
    "duration": 459,
    "start_time": "2022-01-09T12:16:15.389Z"
   },
   {
    "duration": 4,
    "start_time": "2022-01-09T12:16:21.776Z"
   },
   {
    "duration": 34,
    "start_time": "2022-01-09T12:16:21.782Z"
   },
   {
    "duration": 10,
    "start_time": "2022-01-09T12:16:21.818Z"
   },
   {
    "duration": 5,
    "start_time": "2022-01-09T12:16:21.830Z"
   },
   {
    "duration": 5,
    "start_time": "2022-01-09T12:16:21.836Z"
   },
   {
    "duration": 10,
    "start_time": "2022-01-09T12:16:21.842Z"
   },
   {
    "duration": 14,
    "start_time": "2022-01-09T12:16:21.853Z"
   },
   {
    "duration": 10,
    "start_time": "2022-01-09T12:16:21.868Z"
   },
   {
    "duration": 13,
    "start_time": "2022-01-09T12:16:21.880Z"
   },
   {
    "duration": 14,
    "start_time": "2022-01-09T12:16:21.895Z"
   },
   {
    "duration": 27,
    "start_time": "2022-01-09T12:16:21.911Z"
   },
   {
    "duration": 20,
    "start_time": "2022-01-09T12:16:21.940Z"
   },
   {
    "duration": 33,
    "start_time": "2022-01-09T12:16:26.608Z"
   },
   {
    "duration": 7,
    "start_time": "2022-01-09T12:34:04.486Z"
   },
   {
    "duration": 6,
    "start_time": "2022-01-09T12:34:07.004Z"
   },
   {
    "duration": 4,
    "start_time": "2022-01-09T12:34:10.888Z"
   },
   {
    "duration": 43,
    "start_time": "2022-01-09T12:34:10.894Z"
   },
   {
    "duration": 12,
    "start_time": "2022-01-09T12:34:10.939Z"
   },
   {
    "duration": 5,
    "start_time": "2022-01-09T12:34:10.952Z"
   },
   {
    "duration": 4,
    "start_time": "2022-01-09T12:34:10.959Z"
   },
   {
    "duration": 5,
    "start_time": "2022-01-09T12:34:10.964Z"
   },
   {
    "duration": 14,
    "start_time": "2022-01-09T12:34:10.970Z"
   },
   {
    "duration": 9,
    "start_time": "2022-01-09T12:34:10.985Z"
   },
   {
    "duration": 7,
    "start_time": "2022-01-09T12:34:10.995Z"
   },
   {
    "duration": 314,
    "start_time": "2022-01-09T12:34:26.486Z"
   },
   {
    "duration": 3,
    "start_time": "2022-01-09T12:35:29.811Z"
   },
   {
    "duration": 36,
    "start_time": "2022-01-09T12:35:29.816Z"
   },
   {
    "duration": 10,
    "start_time": "2022-01-09T12:35:29.854Z"
   },
   {
    "duration": 6,
    "start_time": "2022-01-09T12:35:29.865Z"
   },
   {
    "duration": 4,
    "start_time": "2022-01-09T12:35:29.873Z"
   },
   {
    "duration": 4,
    "start_time": "2022-01-09T12:35:29.879Z"
   },
   {
    "duration": 18,
    "start_time": "2022-01-09T12:35:29.885Z"
   },
   {
    "duration": 24,
    "start_time": "2022-01-09T12:35:29.905Z"
   },
   {
    "duration": 8,
    "start_time": "2022-01-09T12:35:29.932Z"
   },
   {
    "duration": 6,
    "start_time": "2022-01-09T12:35:29.942Z"
   },
   {
    "duration": 8,
    "start_time": "2022-01-09T12:35:34.629Z"
   },
   {
    "duration": 6,
    "start_time": "2022-01-09T12:35:36.130Z"
   },
   {
    "duration": 3,
    "start_time": "2022-01-09T12:35:37.056Z"
   },
   {
    "duration": 4,
    "start_time": "2022-01-09T12:36:07.004Z"
   },
   {
    "duration": 3,
    "start_time": "2022-01-09T12:37:31.948Z"
   },
   {
    "duration": 43,
    "start_time": "2022-01-09T12:37:31.953Z"
   },
   {
    "duration": 10,
    "start_time": "2022-01-09T12:37:31.998Z"
   },
   {
    "duration": 5,
    "start_time": "2022-01-09T12:37:32.009Z"
   },
   {
    "duration": 4,
    "start_time": "2022-01-09T12:37:32.016Z"
   },
   {
    "duration": 6,
    "start_time": "2022-01-09T12:37:32.022Z"
   },
   {
    "duration": 12,
    "start_time": "2022-01-09T12:37:32.029Z"
   },
   {
    "duration": 9,
    "start_time": "2022-01-09T12:37:32.044Z"
   },
   {
    "duration": 7,
    "start_time": "2022-01-09T12:37:32.055Z"
   },
   {
    "duration": 5,
    "start_time": "2022-01-09T12:37:32.064Z"
   },
   {
    "duration": 4,
    "start_time": "2022-01-09T12:37:32.071Z"
   },
   {
    "duration": 5,
    "start_time": "2022-01-09T12:37:32.077Z"
   },
   {
    "duration": 43,
    "start_time": "2022-01-09T12:37:32.084Z"
   },
   {
    "duration": 14,
    "start_time": "2022-01-09T12:37:32.128Z"
   },
   {
    "duration": 14,
    "start_time": "2022-01-09T12:37:32.144Z"
   },
   {
    "duration": 68,
    "start_time": "2022-01-09T12:37:32.159Z"
   },
   {
    "duration": 101,
    "start_time": "2022-01-09T12:37:32.229Z"
   },
   {
    "duration": 5,
    "start_time": "2022-01-09T12:37:32.331Z"
   },
   {
    "duration": 4,
    "start_time": "2022-01-09T12:37:32.338Z"
   },
   {
    "duration": 11040,
    "start_time": "2022-01-09T12:37:32.344Z"
   },
   {
    "duration": 57,
    "start_time": "2022-01-09T12:37:43.385Z"
   },
   {
    "duration": 6,
    "start_time": "2022-01-09T12:37:43.528Z"
   },
   {
    "duration": 9,
    "start_time": "2022-01-09T12:37:43.536Z"
   },
   {
    "duration": 7,
    "start_time": "2022-01-09T12:37:43.546Z"
   },
   {
    "duration": 20518,
    "start_time": "2022-01-09T12:37:43.554Z"
   },
   {
    "duration": 3,
    "start_time": "2022-01-09T12:38:04.073Z"
   },
   {
    "duration": 60,
    "start_time": "2022-01-09T12:38:04.078Z"
   },
   {
    "duration": 327,
    "start_time": "2022-01-09T12:43:22.005Z"
   },
   {
    "duration": 4,
    "start_time": "2022-01-09T12:47:09.429Z"
   },
   {
    "duration": 35,
    "start_time": "2022-01-09T12:47:09.434Z"
   },
   {
    "duration": 10,
    "start_time": "2022-01-09T12:47:09.470Z"
   },
   {
    "duration": 8,
    "start_time": "2022-01-09T12:47:09.481Z"
   },
   {
    "duration": 6,
    "start_time": "2022-01-09T12:47:09.490Z"
   },
   {
    "duration": 6,
    "start_time": "2022-01-09T12:47:09.497Z"
   },
   {
    "duration": 14,
    "start_time": "2022-01-09T12:47:09.504Z"
   },
   {
    "duration": 13,
    "start_time": "2022-01-09T12:47:09.520Z"
   },
   {
    "duration": 8,
    "start_time": "2022-01-09T12:47:09.536Z"
   },
   {
    "duration": 5,
    "start_time": "2022-01-09T12:47:09.546Z"
   },
   {
    "duration": 4,
    "start_time": "2022-01-09T12:47:09.552Z"
   },
   {
    "duration": 7,
    "start_time": "2022-01-09T12:47:09.557Z"
   },
   {
    "duration": 4,
    "start_time": "2022-01-09T12:47:09.566Z"
   },
   {
    "duration": 14,
    "start_time": "2022-01-09T12:47:09.571Z"
   },
   {
    "duration": 42,
    "start_time": "2022-01-09T12:47:09.587Z"
   },
   {
    "duration": 96,
    "start_time": "2022-01-09T12:47:09.631Z"
   },
   {
    "duration": 6,
    "start_time": "2022-01-09T12:47:09.729Z"
   },
   {
    "duration": 98,
    "start_time": "2022-01-09T12:47:09.736Z"
   },
   {
    "duration": 13,
    "start_time": "2022-01-09T12:47:09.835Z"
   },
   {
    "duration": 10087,
    "start_time": "2022-01-09T12:47:09.849Z"
   },
   {
    "duration": 319,
    "start_time": "2022-01-09T12:47:19.938Z"
   },
   {
    "duration": 1060,
    "start_time": "2022-01-09T12:47:19.198Z"
   },
   {
    "duration": 1042,
    "start_time": "2022-01-09T12:47:19.217Z"
   },
   {
    "duration": 1036,
    "start_time": "2022-01-09T12:47:19.224Z"
   },
   {
    "duration": 1032,
    "start_time": "2022-01-09T12:47:19.229Z"
   },
   {
    "duration": 1028,
    "start_time": "2022-01-09T12:47:19.234Z"
   },
   {
    "duration": 1022,
    "start_time": "2022-01-09T12:47:19.240Z"
   },
   {
    "duration": 153,
    "start_time": "2022-01-09T13:00:41.248Z"
   },
   {
    "duration": 3,
    "start_time": "2022-01-09T13:00:46.254Z"
   },
   {
    "duration": 249,
    "start_time": "2022-01-09T13:00:55.724Z"
   },
   {
    "duration": 3,
    "start_time": "2022-01-09T13:01:23.132Z"
   },
   {
    "duration": 250,
    "start_time": "2022-01-09T13:01:24.929Z"
   },
   {
    "duration": 3,
    "start_time": "2022-01-09T13:01:34.503Z"
   },
   {
    "duration": 883,
    "start_time": "2022-01-09T13:01:36.215Z"
   },
   {
    "duration": 3,
    "start_time": "2022-01-09T13:03:58.066Z"
   },
   {
    "duration": 252,
    "start_time": "2022-01-09T13:03:58.961Z"
   },
   {
    "duration": 3,
    "start_time": "2022-01-09T13:04:18.466Z"
   },
   {
    "duration": 251,
    "start_time": "2022-01-09T13:04:19.654Z"
   },
   {
    "duration": 3,
    "start_time": "2022-01-09T13:04:36.448Z"
   },
   {
    "duration": 622,
    "start_time": "2022-01-09T13:04:37.148Z"
   },
   {
    "duration": 3,
    "start_time": "2022-01-09T13:05:07.538Z"
   },
   {
    "duration": 621,
    "start_time": "2022-01-09T13:05:09.980Z"
   },
   {
    "duration": 3,
    "start_time": "2022-01-09T13:06:03.216Z"
   },
   {
    "duration": 621,
    "start_time": "2022-01-09T13:06:04.631Z"
   },
   {
    "duration": 4,
    "start_time": "2022-01-09T13:06:14.549Z"
   },
   {
    "duration": 114,
    "start_time": "2022-01-09T13:06:15.785Z"
   },
   {
    "duration": 5,
    "start_time": "2022-01-09T13:14:58.326Z"
   },
   {
    "duration": 47,
    "start_time": "2022-01-09T13:14:58.333Z"
   },
   {
    "duration": 10,
    "start_time": "2022-01-09T13:14:58.381Z"
   },
   {
    "duration": 5,
    "start_time": "2022-01-09T13:14:58.393Z"
   },
   {
    "duration": 5,
    "start_time": "2022-01-09T13:14:58.400Z"
   },
   {
    "duration": 4,
    "start_time": "2022-01-09T13:14:58.407Z"
   },
   {
    "duration": 24,
    "start_time": "2022-01-09T13:14:58.412Z"
   },
   {
    "duration": 17,
    "start_time": "2022-01-09T13:14:58.438Z"
   },
   {
    "duration": 9,
    "start_time": "2022-01-09T13:14:58.458Z"
   },
   {
    "duration": 13,
    "start_time": "2022-01-09T13:14:58.469Z"
   },
   {
    "duration": 3,
    "start_time": "2022-01-09T13:14:58.484Z"
   },
   {
    "duration": 5,
    "start_time": "2022-01-09T13:14:58.489Z"
   },
   {
    "duration": 4,
    "start_time": "2022-01-09T13:14:58.496Z"
   },
   {
    "duration": 42,
    "start_time": "2022-01-09T13:14:58.501Z"
   },
   {
    "duration": 22,
    "start_time": "2022-01-09T13:14:58.545Z"
   },
   {
    "duration": 61,
    "start_time": "2022-01-09T13:14:58.569Z"
   },
   {
    "duration": 99,
    "start_time": "2022-01-09T13:14:58.631Z"
   },
   {
    "duration": 13,
    "start_time": "2022-01-09T13:14:58.732Z"
   },
   {
    "duration": 6,
    "start_time": "2022-01-09T13:14:58.747Z"
   },
   {
    "duration": 14939,
    "start_time": "2022-01-09T13:14:58.755Z"
   },
   {
    "duration": 371,
    "start_time": "2022-01-09T13:15:13.695Z"
   },
   {
    "duration": 1092,
    "start_time": "2022-01-09T13:15:12.976Z"
   },
   {
    "duration": 1088,
    "start_time": "2022-01-09T13:15:12.982Z"
   },
   {
    "duration": 1083,
    "start_time": "2022-01-09T13:15:12.988Z"
   },
   {
    "duration": 1079,
    "start_time": "2022-01-09T13:15:12.994Z"
   },
   {
    "duration": 1044,
    "start_time": "2022-01-09T13:15:13.030Z"
   },
   {
    "duration": 1040,
    "start_time": "2022-01-09T13:15:13.035Z"
   },
   {
    "duration": 1034,
    "start_time": "2022-01-09T13:15:13.042Z"
   },
   {
    "duration": 1029,
    "start_time": "2022-01-09T13:15:13.048Z"
   },
   {
    "duration": 1023,
    "start_time": "2022-01-09T13:15:13.055Z"
   },
   {
    "duration": 1019,
    "start_time": "2022-01-09T13:15:13.061Z"
   },
   {
    "duration": 1015,
    "start_time": "2022-01-09T13:15:13.067Z"
   },
   {
    "duration": 1009,
    "start_time": "2022-01-09T13:15:13.074Z"
   },
   {
    "duration": 1002,
    "start_time": "2022-01-09T13:15:13.082Z"
   },
   {
    "duration": 996,
    "start_time": "2022-01-09T13:15:13.089Z"
   },
   {
    "duration": 9,
    "start_time": "2022-01-09T13:17:17.356Z"
   },
   {
    "duration": 3,
    "start_time": "2022-01-09T13:17:21.762Z"
   },
   {
    "duration": 3,
    "start_time": "2022-01-09T13:17:24.858Z"
   },
   {
    "duration": 20,
    "start_time": "2022-01-09T13:17:32.022Z"
   },
   {
    "duration": 4,
    "start_time": "2022-01-09T13:17:48.365Z"
   },
   {
    "duration": 41,
    "start_time": "2022-01-09T13:17:48.370Z"
   },
   {
    "duration": 13,
    "start_time": "2022-01-09T13:17:48.413Z"
   },
   {
    "duration": 12,
    "start_time": "2022-01-09T13:17:48.428Z"
   },
   {
    "duration": 7,
    "start_time": "2022-01-09T13:17:48.442Z"
   },
   {
    "duration": 7,
    "start_time": "2022-01-09T13:17:48.451Z"
   },
   {
    "duration": 12,
    "start_time": "2022-01-09T13:17:48.460Z"
   },
   {
    "duration": 9,
    "start_time": "2022-01-09T13:17:48.474Z"
   },
   {
    "duration": 7,
    "start_time": "2022-01-09T13:17:48.484Z"
   },
   {
    "duration": 6,
    "start_time": "2022-01-09T13:17:48.492Z"
   },
   {
    "duration": 5,
    "start_time": "2022-01-09T13:17:48.499Z"
   },
   {
    "duration": 7,
    "start_time": "2022-01-09T13:17:48.506Z"
   },
   {
    "duration": 3,
    "start_time": "2022-01-09T13:17:48.526Z"
   },
   {
    "duration": 24,
    "start_time": "2022-01-09T13:17:48.531Z"
   },
   {
    "duration": 15,
    "start_time": "2022-01-09T13:17:48.557Z"
   },
   {
    "duration": 59,
    "start_time": "2022-01-09T13:17:48.573Z"
   },
   {
    "duration": 3,
    "start_time": "2022-01-09T13:17:48.635Z"
   },
   {
    "duration": 92,
    "start_time": "2022-01-09T13:17:48.640Z"
   },
   {
    "duration": 9,
    "start_time": "2022-01-09T13:17:48.735Z"
   },
   {
    "duration": 11148,
    "start_time": "2022-01-09T13:17:48.746Z"
   },
   {
    "duration": 7,
    "start_time": "2022-01-09T13:17:59.896Z"
   },
   {
    "duration": 3,
    "start_time": "2022-01-09T13:17:59.905Z"
   },
   {
    "duration": 5,
    "start_time": "2022-01-09T13:17:59.909Z"
   },
   {
    "duration": 2,
    "start_time": "2022-01-09T13:17:59.928Z"
   },
   {
    "duration": 24444,
    "start_time": "2022-01-09T13:17:59.932Z"
   },
   {
    "duration": 3,
    "start_time": "2022-01-09T13:18:24.377Z"
   },
   {
    "duration": 15,
    "start_time": "2022-01-09T13:18:24.381Z"
   },
   {
    "duration": 4,
    "start_time": "2022-01-09T13:18:24.398Z"
   },
   {
    "duration": 30,
    "start_time": "2022-01-09T13:18:24.403Z"
   },
   {
    "duration": 46,
    "start_time": "2022-01-09T13:18:24.435Z"
   },
   {
    "duration": 51,
    "start_time": "2022-01-09T13:18:24.482Z"
   },
   {
    "duration": 5,
    "start_time": "2022-01-09T13:18:24.535Z"
   },
   {
    "duration": 1017,
    "start_time": "2022-01-09T13:18:24.542Z"
   },
   {
    "duration": 3,
    "start_time": "2022-01-09T13:18:25.560Z"
   },
   {
    "duration": 23,
    "start_time": "2022-01-09T13:18:25.564Z"
   },
   {
    "duration": 8,
    "start_time": "2022-01-09T13:18:25.588Z"
   },
   {
    "duration": 3,
    "start_time": "2022-01-09T13:19:19.839Z"
   },
   {
    "duration": 22,
    "start_time": "2022-01-09T13:19:20.436Z"
   },
   {
    "duration": 9,
    "start_time": "2022-01-09T13:19:21.695Z"
   },
   {
    "duration": 1684,
    "start_time": "2022-01-09T17:54:27.207Z"
   },
   {
    "duration": 143,
    "start_time": "2022-01-09T17:54:28.894Z"
   },
   {
    "duration": 23,
    "start_time": "2022-01-09T17:54:29.040Z"
   },
   {
    "duration": 6,
    "start_time": "2022-01-09T17:54:29.065Z"
   },
   {
    "duration": 6,
    "start_time": "2022-01-09T17:54:29.074Z"
   },
   {
    "duration": 8,
    "start_time": "2022-01-09T17:54:29.082Z"
   },
   {
    "duration": 24,
    "start_time": "2022-01-09T17:54:29.092Z"
   },
   {
    "duration": 54,
    "start_time": "2022-01-09T17:54:29.120Z"
   },
   {
    "duration": 16,
    "start_time": "2022-01-09T17:54:29.178Z"
   },
   {
    "duration": 7,
    "start_time": "2022-01-09T17:54:29.197Z"
   },
   {
    "duration": 5,
    "start_time": "2022-01-09T17:54:29.207Z"
   },
   {
    "duration": 49,
    "start_time": "2022-01-09T17:54:29.215Z"
   },
   {
    "duration": 4,
    "start_time": "2022-01-09T17:54:29.266Z"
   },
   {
    "duration": 25,
    "start_time": "2022-01-09T17:54:29.272Z"
   },
   {
    "duration": 65,
    "start_time": "2022-01-09T17:54:29.300Z"
   },
   {
    "duration": 196,
    "start_time": "2022-01-09T17:54:29.368Z"
   },
   {
    "duration": 92,
    "start_time": "2022-01-09T17:54:29.568Z"
   },
   {
    "duration": 5,
    "start_time": "2022-01-09T17:54:29.663Z"
   },
   {
    "duration": 6,
    "start_time": "2022-01-09T17:54:29.671Z"
   },
   {
    "duration": 16800,
    "start_time": "2022-01-09T17:54:29.680Z"
   },
   {
    "duration": 12,
    "start_time": "2022-01-09T17:54:46.482Z"
   },
   {
    "duration": 4,
    "start_time": "2022-01-09T17:54:46.497Z"
   },
   {
    "duration": 5,
    "start_time": "2022-01-09T17:54:46.513Z"
   },
   {
    "duration": 37,
    "start_time": "2022-01-09T17:54:46.524Z"
   },
   {
    "duration": 36835,
    "start_time": "2022-01-09T17:54:46.565Z"
   },
   {
    "duration": 5,
    "start_time": "2022-01-09T17:55:23.403Z"
   },
   {
    "duration": 51,
    "start_time": "2022-01-09T17:55:23.411Z"
   },
   {
    "duration": 9,
    "start_time": "2022-01-09T17:55:23.465Z"
   },
   {
    "duration": 31,
    "start_time": "2022-01-09T17:55:23.477Z"
   },
   {
    "duration": 79,
    "start_time": "2022-01-09T17:55:23.510Z"
   },
   {
    "duration": 174,
    "start_time": "2022-01-09T17:55:23.591Z"
   },
   {
    "duration": 98,
    "start_time": "2022-01-09T17:55:23.768Z"
   },
   {
    "duration": 1966,
    "start_time": "2022-01-09T17:55:23.870Z"
   },
   {
    "duration": 5,
    "start_time": "2022-01-09T17:55:25.839Z"
   },
   {
    "duration": 36,
    "start_time": "2022-01-09T17:55:25.859Z"
   },
   {
    "duration": 14,
    "start_time": "2022-01-09T17:55:25.897Z"
   },
   {
    "duration": 4,
    "start_time": "2022-01-09T17:55:25.914Z"
   },
   {
    "duration": 5,
    "start_time": "2022-01-09T17:55:25.960Z"
   },
   {
    "duration": 5,
    "start_time": "2022-01-09T17:55:25.968Z"
   },
   {
    "duration": 46975,
    "start_time": "2022-01-09T17:55:25.976Z"
   },
   {
    "duration": 5,
    "start_time": "2022-01-09T17:56:12.958Z"
   },
   {
    "duration": 705,
    "start_time": "2022-01-09T17:56:12.965Z"
   },
   {
    "duration": 40,
    "start_time": "2022-01-09T17:56:13.633Z"
   },
   {
    "duration": 36,
    "start_time": "2022-01-09T17:56:13.638Z"
   },
   {
    "duration": 33,
    "start_time": "2022-01-09T17:56:13.643Z"
   },
   {
    "duration": 31,
    "start_time": "2022-01-09T17:56:13.647Z"
   },
   {
    "duration": 27,
    "start_time": "2022-01-09T17:56:13.652Z"
   },
   {
    "duration": 24,
    "start_time": "2022-01-09T17:56:13.656Z"
   },
   {
    "duration": 21,
    "start_time": "2022-01-09T17:56:13.661Z"
   },
   {
    "duration": 20,
    "start_time": "2022-01-09T17:56:13.664Z"
   },
   {
    "duration": 17,
    "start_time": "2022-01-09T17:56:13.668Z"
   },
   {
    "duration": 15,
    "start_time": "2022-01-09T17:56:13.671Z"
   },
   {
    "duration": 6,
    "start_time": "2022-01-09T17:56:13.682Z"
   },
   {
    "duration": 3,
    "start_time": "2022-01-09T17:56:13.686Z"
   },
   {
    "duration": -1,
    "start_time": "2022-01-09T17:56:13.691Z"
   },
   {
    "duration": -3,
    "start_time": "2022-01-09T17:56:13.695Z"
   },
   {
    "duration": -7,
    "start_time": "2022-01-09T17:56:13.700Z"
   },
   {
    "duration": -10,
    "start_time": "2022-01-09T17:56:13.704Z"
   },
   {
    "duration": -19,
    "start_time": "2022-01-09T17:56:13.715Z"
   },
   {
    "duration": -21,
    "start_time": "2022-01-09T17:56:13.718Z"
   },
   {
    "duration": -25,
    "start_time": "2022-01-09T17:56:13.723Z"
   },
   {
    "duration": -27,
    "start_time": "2022-01-09T17:56:13.727Z"
   },
   {
    "duration": -30,
    "start_time": "2022-01-09T17:56:13.731Z"
   },
   {
    "duration": -32,
    "start_time": "2022-01-09T17:56:13.734Z"
   },
   {
    "duration": -35,
    "start_time": "2022-01-09T17:56:13.738Z"
   },
   {
    "duration": -37,
    "start_time": "2022-01-09T17:56:13.742Z"
   },
   {
    "duration": -40,
    "start_time": "2022-01-09T17:56:13.746Z"
   },
   {
    "duration": -42,
    "start_time": "2022-01-09T17:56:13.749Z"
   },
   {
    "duration": 540,
    "start_time": "2022-01-09T18:03:27.637Z"
   },
   {
    "duration": 9,
    "start_time": "2022-01-09T18:03:36.672Z"
   },
   {
    "duration": 6,
    "start_time": "2022-01-09T18:03:38.242Z"
   },
   {
    "duration": 16,
    "start_time": "2022-01-09T18:03:41.420Z"
   },
   {
    "duration": 4,
    "start_time": "2022-01-09T18:03:42.264Z"
   },
   {
    "duration": 20,
    "start_time": "2022-01-09T18:03:44.850Z"
   },
   {
    "duration": 124,
    "start_time": "2022-01-09T18:03:45.540Z"
   },
   {
    "duration": 456,
    "start_time": "2022-01-09T18:03:49.652Z"
   },
   {
    "duration": 4,
    "start_time": "2022-01-09T18:03:59.072Z"
   },
   {
    "duration": 770,
    "start_time": "2022-01-09T18:04:01.487Z"
   },
   {
    "duration": 17,
    "start_time": "2022-01-09T18:04:36.755Z"
   },
   {
    "duration": 13,
    "start_time": "2022-01-09T18:04:37.345Z"
   },
   {
    "duration": 5,
    "start_time": "2022-01-09T18:13:15.377Z"
   },
   {
    "duration": 2231,
    "start_time": "2022-01-09T18:13:16.306Z"
   },
   {
    "duration": 6,
    "start_time": "2022-01-09T18:15:11.943Z"
   },
   {
    "duration": 6968,
    "start_time": "2022-01-09T18:15:13.026Z"
   },
   {
    "duration": 5,
    "start_time": "2022-01-09T18:15:46.242Z"
   },
   {
    "duration": 10006,
    "start_time": "2022-01-09T18:15:50.912Z"
   },
   {
    "duration": 6,
    "start_time": "2022-01-09T18:16:37.482Z"
   },
   {
    "duration": 6652,
    "start_time": "2022-01-09T18:16:38.018Z"
   },
   {
    "duration": 4,
    "start_time": "2022-01-09T18:17:07.655Z"
   },
   {
    "duration": 1060,
    "start_time": "2022-01-09T18:17:20.971Z"
   },
   {
    "duration": 105,
    "start_time": "2022-01-09T18:17:43.958Z"
   },
   {
    "duration": 540,
    "start_time": "2022-01-09T18:19:14.966Z"
   },
   {
    "duration": 6,
    "start_time": "2022-01-09T18:19:25.744Z"
   },
   {
    "duration": 2004,
    "start_time": "2022-01-09T18:19:27.779Z"
   },
   {
    "duration": 896,
    "start_time": "2022-01-09T18:19:37.268Z"
   },
   {
    "duration": 2077,
    "start_time": "2022-01-09T18:19:42.640Z"
   },
   {
    "duration": 4,
    "start_time": "2022-01-09T18:20:03.979Z"
   },
   {
    "duration": 296,
    "start_time": "2022-01-09T18:20:20.071Z"
   },
   {
    "duration": 76,
    "start_time": "2022-01-09T18:20:32.532Z"
   },
   {
    "duration": 1482,
    "start_time": "2022-01-09T18:21:11.113Z"
   },
   {
    "duration": 46,
    "start_time": "2022-01-09T18:21:12.598Z"
   },
   {
    "duration": 27,
    "start_time": "2022-01-09T18:21:12.647Z"
   },
   {
    "duration": 6,
    "start_time": "2022-01-09T18:21:12.677Z"
   },
   {
    "duration": 9,
    "start_time": "2022-01-09T18:21:12.687Z"
   },
   {
    "duration": 7,
    "start_time": "2022-01-09T18:21:12.699Z"
   },
   {
    "duration": 70,
    "start_time": "2022-01-09T18:21:12.709Z"
   },
   {
    "duration": 19,
    "start_time": "2022-01-09T18:21:12.781Z"
   },
   {
    "duration": 33,
    "start_time": "2022-01-09T18:21:12.804Z"
   },
   {
    "duration": 19,
    "start_time": "2022-01-09T18:21:12.840Z"
   },
   {
    "duration": 11,
    "start_time": "2022-01-09T18:21:12.861Z"
   },
   {
    "duration": 11,
    "start_time": "2022-01-09T18:21:12.875Z"
   },
   {
    "duration": 20,
    "start_time": "2022-01-09T18:21:12.888Z"
   },
   {
    "duration": 31,
    "start_time": "2022-01-09T18:21:12.910Z"
   },
   {
    "duration": 42,
    "start_time": "2022-01-09T18:21:12.943Z"
   },
   {
    "duration": 174,
    "start_time": "2022-01-09T18:21:12.988Z"
   },
   {
    "duration": 90,
    "start_time": "2022-01-09T18:21:13.170Z"
   },
   {
    "duration": 4,
    "start_time": "2022-01-09T18:21:13.263Z"
   },
   {
    "duration": 20,
    "start_time": "2022-01-09T18:21:13.269Z"
   },
   {
    "duration": 23257,
    "start_time": "2022-01-09T18:21:13.291Z"
   },
   {
    "duration": 23,
    "start_time": "2022-01-09T18:21:36.552Z"
   },
   {
    "duration": 4,
    "start_time": "2022-01-09T18:21:36.578Z"
   },
   {
    "duration": 8,
    "start_time": "2022-01-09T18:21:36.585Z"
   },
   {
    "duration": 7,
    "start_time": "2022-01-09T18:21:36.595Z"
   },
   {
    "duration": 39455,
    "start_time": "2022-01-09T18:21:36.604Z"
   },
   {
    "duration": 7,
    "start_time": "2022-01-09T18:22:16.062Z"
   },
   {
    "duration": 26,
    "start_time": "2022-01-09T18:22:16.076Z"
   },
   {
    "duration": 9,
    "start_time": "2022-01-09T18:22:16.107Z"
   },
   {
    "duration": 75,
    "start_time": "2022-01-09T18:22:16.119Z"
   },
   {
    "duration": 45,
    "start_time": "2022-01-09T18:22:16.197Z"
   },
   {
    "duration": 116,
    "start_time": "2022-01-09T18:22:16.245Z"
   },
   {
    "duration": 104,
    "start_time": "2022-01-09T18:22:16.365Z"
   },
   {
    "duration": 1395,
    "start_time": "2022-01-09T18:22:16.475Z"
   },
   {
    "duration": 4,
    "start_time": "2022-01-09T18:22:17.873Z"
   },
   {
    "duration": 40,
    "start_time": "2022-01-09T18:22:17.879Z"
   },
   {
    "duration": 13,
    "start_time": "2022-01-09T18:22:17.922Z"
   },
   {
    "duration": 6,
    "start_time": "2022-01-09T18:22:17.937Z"
   },
   {
    "duration": 2216,
    "start_time": "2022-01-09T18:22:17.945Z"
   },
   {
    "duration": 5,
    "start_time": "2022-01-09T18:22:20.164Z"
   },
   {
    "duration": 6695,
    "start_time": "2022-01-09T18:22:20.171Z"
   },
   {
    "duration": 4,
    "start_time": "2022-01-09T18:22:26.868Z"
   },
   {
    "duration": 1002,
    "start_time": "2022-01-09T18:22:26.874Z"
   },
   {
    "duration": 105,
    "start_time": "2022-01-09T18:22:27.879Z"
   },
   {
    "duration": 7,
    "start_time": "2022-01-09T18:22:27.986Z"
   },
   {
    "duration": 6,
    "start_time": "2022-01-09T18:22:27.996Z"
   },
   {
    "duration": 20,
    "start_time": "2022-01-09T18:22:28.004Z"
   },
   {
    "duration": 4,
    "start_time": "2022-01-09T18:22:28.026Z"
   },
   {
    "duration": 19,
    "start_time": "2022-01-09T18:22:28.060Z"
   },
   {
    "duration": 178,
    "start_time": "2022-01-09T18:22:28.081Z"
   },
   {
    "duration": 456,
    "start_time": "2022-01-09T18:22:28.263Z"
   },
   {
    "duration": 18,
    "start_time": "2022-01-09T18:22:28.723Z"
   },
   {
    "duration": 12,
    "start_time": "2022-01-09T18:22:28.760Z"
   },
   {
    "duration": 842,
    "start_time": "2022-01-09T18:22:28.775Z"
   },
   {
    "duration": 1965,
    "start_time": "2022-01-09T18:22:29.619Z"
   },
   {
    "duration": 3,
    "start_time": "2022-01-09T18:22:31.587Z"
   },
   {
    "duration": 318,
    "start_time": "2022-01-09T18:22:31.593Z"
   },
   {
    "duration": 86,
    "start_time": "2022-01-09T18:22:31.913Z"
   },
   {
    "duration": 483,
    "start_time": "2022-01-09T18:22:32.001Z"
   },
   {
    "duration": 24,
    "start_time": "2022-01-09T18:22:32.487Z"
   },
   {
    "duration": 275,
    "start_time": "2022-01-09T18:22:32.514Z"
   },
   {
    "duration": 11,
    "start_time": "2022-01-09T18:22:32.792Z"
   },
   {
    "duration": 280,
    "start_time": "2022-01-09T18:22:32.805Z"
   },
   {
    "duration": 1358,
    "start_time": "2022-01-09T18:41:30.489Z"
   },
   {
    "duration": 16,
    "start_time": "2022-01-09T18:47:55.213Z"
   },
   {
    "duration": 260,
    "start_time": "2022-01-09T18:48:00.143Z"
   },
   {
    "duration": 11,
    "start_time": "2022-01-09T18:48:05.366Z"
   },
   {
    "duration": 259,
    "start_time": "2022-01-09T18:48:08.894Z"
   },
   {
    "duration": 260,
    "start_time": "2022-01-09T18:48:14.532Z"
   },
   {
    "duration": 1206,
    "start_time": "2022-01-09T18:55:34.193Z"
   },
   {
    "duration": 63,
    "start_time": "2022-01-09T18:56:54.102Z"
   },
   {
    "duration": 1115,
    "start_time": "2022-01-09T18:57:30.217Z"
   },
   {
    "duration": 63,
    "start_time": "2022-01-09T18:57:33.540Z"
   },
   {
    "duration": 10,
    "start_time": "2022-01-09T18:58:34.598Z"
   },
   {
    "duration": 6,
    "start_time": "2022-01-09T18:58:35.247Z"
   },
   {
    "duration": 7,
    "start_time": "2022-01-09T18:58:36.528Z"
   },
   {
    "duration": 8,
    "start_time": "2022-01-09T18:58:45.190Z"
   },
   {
    "duration": 6,
    "start_time": "2022-01-09T18:58:45.853Z"
   },
   {
    "duration": 13,
    "start_time": "2022-01-09T18:58:55.264Z"
   },
   {
    "duration": 8,
    "start_time": "2022-01-09T18:58:57.388Z"
   },
   {
    "duration": 5,
    "start_time": "2022-01-09T18:58:58.997Z"
   },
   {
    "duration": 12,
    "start_time": "2022-01-09T18:59:05.985Z"
   },
   {
    "duration": 11,
    "start_time": "2022-01-09T18:59:32.597Z"
   },
   {
    "duration": 8,
    "start_time": "2022-01-09T18:59:33.579Z"
   },
   {
    "duration": 6,
    "start_time": "2022-01-09T18:59:34.349Z"
   },
   {
    "duration": 6,
    "start_time": "2022-01-09T18:59:35.453Z"
   },
   {
    "duration": 11,
    "start_time": "2022-01-09T19:00:08.638Z"
   },
   {
    "duration": 8,
    "start_time": "2022-01-09T19:00:09.820Z"
   },
   {
    "duration": 5,
    "start_time": "2022-01-09T19:00:10.310Z"
   },
   {
    "duration": 7,
    "start_time": "2022-01-09T19:00:11.065Z"
   },
   {
    "duration": 1920,
    "start_time": "2022-01-09T19:00:23.538Z"
   },
   {
    "duration": 155,
    "start_time": "2022-01-09T19:00:25.460Z"
   },
   {
    "duration": 24,
    "start_time": "2022-01-09T19:00:25.619Z"
   },
   {
    "duration": 10,
    "start_time": "2022-01-09T19:00:25.646Z"
   },
   {
    "duration": 10,
    "start_time": "2022-01-09T19:00:25.659Z"
   },
   {
    "duration": 10,
    "start_time": "2022-01-09T19:00:25.671Z"
   },
   {
    "duration": 30,
    "start_time": "2022-01-09T19:00:25.684Z"
   },
   {
    "duration": 22,
    "start_time": "2022-01-09T19:00:25.716Z"
   },
   {
    "duration": 13,
    "start_time": "2022-01-09T19:00:25.758Z"
   },
   {
    "duration": 8,
    "start_time": "2022-01-09T19:00:25.774Z"
   },
   {
    "duration": 6,
    "start_time": "2022-01-09T19:00:25.784Z"
   },
   {
    "duration": 5,
    "start_time": "2022-01-09T19:00:25.793Z"
   },
   {
    "duration": 4,
    "start_time": "2022-01-09T19:00:25.801Z"
   },
   {
    "duration": 72,
    "start_time": "2022-01-09T19:00:25.808Z"
   },
   {
    "duration": 35,
    "start_time": "2022-01-09T19:00:25.883Z"
   },
   {
    "duration": 49,
    "start_time": "2022-01-09T19:00:25.921Z"
   },
   {
    "duration": 92,
    "start_time": "2022-01-09T19:00:25.974Z"
   },
   {
    "duration": 7,
    "start_time": "2022-01-09T19:00:26.070Z"
   },
   {
    "duration": 81,
    "start_time": "2022-01-09T19:00:26.079Z"
   },
   {
    "duration": 18038,
    "start_time": "2022-01-09T19:00:26.163Z"
   },
   {
    "duration": 15,
    "start_time": "2022-01-09T19:00:44.204Z"
   },
   {
    "duration": 4,
    "start_time": "2022-01-09T19:00:44.222Z"
   },
   {
    "duration": 4,
    "start_time": "2022-01-09T19:00:44.229Z"
   },
   {
    "duration": 26,
    "start_time": "2022-01-09T19:00:44.235Z"
   },
   {
    "duration": 35610,
    "start_time": "2022-01-09T19:00:44.264Z"
   },
   {
    "duration": 4,
    "start_time": "2022-01-09T19:01:19.876Z"
   },
   {
    "duration": 22,
    "start_time": "2022-01-09T19:01:19.885Z"
   },
   {
    "duration": 8,
    "start_time": "2022-01-09T19:01:19.910Z"
   },
   {
    "duration": 53,
    "start_time": "2022-01-09T19:01:19.920Z"
   },
   {
    "duration": 41,
    "start_time": "2022-01-09T19:01:19.976Z"
   },
   {
    "duration": 50,
    "start_time": "2022-01-09T19:01:20.020Z"
   },
   {
    "duration": 92,
    "start_time": "2022-01-09T19:01:20.073Z"
   },
   {
    "duration": 2059,
    "start_time": "2022-01-09T19:01:20.168Z"
   },
   {
    "duration": 5,
    "start_time": "2022-01-09T19:01:22.230Z"
   },
   {
    "duration": 54,
    "start_time": "2022-01-09T19:01:22.238Z"
   },
   {
    "duration": 15,
    "start_time": "2022-01-09T19:01:22.295Z"
   },
   {
    "duration": 6,
    "start_time": "2022-01-09T19:01:22.313Z"
   },
   {
    "duration": 1951,
    "start_time": "2022-01-09T19:01:22.358Z"
   },
   {
    "duration": 5,
    "start_time": "2022-01-09T19:01:24.312Z"
   },
   {
    "duration": 6720,
    "start_time": "2022-01-09T19:01:24.320Z"
   },
   {
    "duration": 17,
    "start_time": "2022-01-09T19:01:31.043Z"
   },
   {
    "duration": 1075,
    "start_time": "2022-01-09T19:01:31.064Z"
   },
   {
    "duration": 98,
    "start_time": "2022-01-09T19:01:32.141Z"
   },
   {
    "duration": 20,
    "start_time": "2022-01-09T19:01:32.241Z"
   },
   {
    "duration": 7,
    "start_time": "2022-01-09T19:01:32.264Z"
   },
   {
    "duration": 27,
    "start_time": "2022-01-09T19:01:32.274Z"
   },
   {
    "duration": 5,
    "start_time": "2022-01-09T19:01:32.304Z"
   },
   {
    "duration": 51,
    "start_time": "2022-01-09T19:01:32.311Z"
   },
   {
    "duration": 16,
    "start_time": "2022-01-09T19:01:32.364Z"
   },
   {
    "duration": 717,
    "start_time": "2022-01-09T19:01:32.383Z"
   },
   {
    "duration": 17,
    "start_time": "2022-01-09T19:01:33.102Z"
   },
   {
    "duration": 38,
    "start_time": "2022-01-09T19:01:33.121Z"
   },
   {
    "duration": 830,
    "start_time": "2022-01-09T19:01:33.162Z"
   },
   {
    "duration": 2004,
    "start_time": "2022-01-09T19:01:33.996Z"
   },
   {
    "duration": 3,
    "start_time": "2022-01-09T19:01:36.002Z"
   },
   {
    "duration": 430,
    "start_time": "2022-01-09T19:01:36.007Z"
   },
   {
    "duration": 92,
    "start_time": "2022-01-09T19:01:36.441Z"
   },
   {
    "duration": 1403,
    "start_time": "2022-01-09T19:01:36.536Z"
   },
   {
    "duration": 1068,
    "start_time": "2022-01-09T19:01:37.942Z"
   },
   {
    "duration": 76,
    "start_time": "2022-01-09T19:01:39.013Z"
   },
   {
    "duration": 16,
    "start_time": "2022-01-09T19:01:39.091Z"
   },
   {
    "duration": 269,
    "start_time": "2022-01-09T19:01:39.109Z"
   },
   {
    "duration": 13,
    "start_time": "2022-01-09T19:01:39.381Z"
   },
   {
    "duration": 454,
    "start_time": "2022-01-09T19:01:39.397Z"
   },
   {
    "duration": 50,
    "start_time": "2022-01-09T19:07:07.500Z"
   },
   {
    "duration": 1225,
    "start_time": "2022-01-09T19:07:20.834Z"
   },
   {
    "duration": 66,
    "start_time": "2022-01-09T19:07:23.179Z"
   },
   {
    "duration": 18,
    "start_time": "2022-01-09T19:12:43.479Z"
   },
   {
    "duration": 18,
    "start_time": "2022-01-09T19:12:56.431Z"
   },
   {
    "duration": 19,
    "start_time": "2022-01-09T19:13:30.450Z"
   },
   {
    "duration": 1554,
    "start_time": "2022-01-09T19:13:42.924Z"
   },
   {
    "duration": 44,
    "start_time": "2022-01-09T19:13:44.480Z"
   },
   {
    "duration": 33,
    "start_time": "2022-01-09T19:13:44.527Z"
   },
   {
    "duration": 7,
    "start_time": "2022-01-09T19:13:44.563Z"
   },
   {
    "duration": 7,
    "start_time": "2022-01-09T19:13:44.573Z"
   },
   {
    "duration": 5,
    "start_time": "2022-01-09T19:13:44.583Z"
   },
   {
    "duration": 24,
    "start_time": "2022-01-09T19:13:44.590Z"
   },
   {
    "duration": 58,
    "start_time": "2022-01-09T19:13:44.617Z"
   },
   {
    "duration": 14,
    "start_time": "2022-01-09T19:13:44.679Z"
   },
   {
    "duration": 9,
    "start_time": "2022-01-09T19:13:44.696Z"
   },
   {
    "duration": 7,
    "start_time": "2022-01-09T19:13:44.707Z"
   },
   {
    "duration": 42,
    "start_time": "2022-01-09T19:13:44.717Z"
   },
   {
    "duration": 3,
    "start_time": "2022-01-09T19:13:44.762Z"
   },
   {
    "duration": 38,
    "start_time": "2022-01-09T19:13:44.768Z"
   },
   {
    "duration": 60,
    "start_time": "2022-01-09T19:13:44.809Z"
   },
   {
    "duration": 189,
    "start_time": "2022-01-09T19:13:44.872Z"
   },
   {
    "duration": 4,
    "start_time": "2022-01-09T19:13:45.063Z"
   },
   {
    "duration": 7,
    "start_time": "2022-01-09T19:13:45.069Z"
   },
   {
    "duration": 8,
    "start_time": "2022-01-09T19:13:45.079Z"
   },
   {
    "duration": 18717,
    "start_time": "2022-01-09T19:13:45.089Z"
   },
   {
    "duration": 13,
    "start_time": "2022-01-09T19:14:03.809Z"
   },
   {
    "duration": 4,
    "start_time": "2022-01-09T19:14:03.824Z"
   },
   {
    "duration": 31,
    "start_time": "2022-01-09T19:14:03.830Z"
   },
   {
    "duration": 6,
    "start_time": "2022-01-09T19:14:03.863Z"
   },
   {
    "duration": 34820,
    "start_time": "2022-01-09T19:14:03.872Z"
   },
   {
    "duration": 5,
    "start_time": "2022-01-09T19:14:38.695Z"
   },
   {
    "duration": 23,
    "start_time": "2022-01-09T19:14:38.709Z"
   },
   {
    "duration": 9,
    "start_time": "2022-01-09T19:14:38.761Z"
   },
   {
    "duration": 22,
    "start_time": "2022-01-09T19:14:38.774Z"
   },
   {
    "duration": 74,
    "start_time": "2022-01-09T19:14:38.798Z"
   },
   {
    "duration": 87,
    "start_time": "2022-01-09T19:14:38.874Z"
   },
   {
    "duration": 97,
    "start_time": "2022-01-09T19:14:38.964Z"
   },
   {
    "duration": 1341,
    "start_time": "2022-01-09T19:14:39.064Z"
   },
   {
    "duration": 4,
    "start_time": "2022-01-09T19:14:40.407Z"
   },
   {
    "duration": 52,
    "start_time": "2022-01-09T19:14:40.413Z"
   },
   {
    "duration": 14,
    "start_time": "2022-01-09T19:14:40.467Z"
   },
   {
    "duration": 7,
    "start_time": "2022-01-09T19:14:40.483Z"
   },
   {
    "duration": 2024,
    "start_time": "2022-01-09T19:14:40.493Z"
   },
   {
    "duration": 7,
    "start_time": "2022-01-09T19:14:42.520Z"
   },
   {
    "duration": 8461,
    "start_time": "2022-01-09T19:14:42.530Z"
   },
   {
    "duration": 4,
    "start_time": "2022-01-09T19:14:50.994Z"
   },
   {
    "duration": 1111,
    "start_time": "2022-01-09T19:14:51.002Z"
   },
   {
    "duration": 101,
    "start_time": "2022-01-09T19:14:52.115Z"
   },
   {
    "duration": 8,
    "start_time": "2022-01-09T19:14:52.219Z"
   },
   {
    "duration": 28,
    "start_time": "2022-01-09T19:14:52.231Z"
   },
   {
    "duration": 24,
    "start_time": "2022-01-09T19:14:52.262Z"
   },
   {
    "duration": 4,
    "start_time": "2022-01-09T19:14:52.289Z"
   },
   {
    "duration": 26,
    "start_time": "2022-01-09T19:14:52.296Z"
   },
   {
    "duration": 142,
    "start_time": "2022-01-09T19:14:52.325Z"
   },
   {
    "duration": 472,
    "start_time": "2022-01-09T19:14:52.559Z"
   },
   {
    "duration": 32,
    "start_time": "2022-01-09T19:14:53.034Z"
   },
   {
    "duration": 15,
    "start_time": "2022-01-09T19:14:53.069Z"
   },
   {
    "duration": 847,
    "start_time": "2022-01-09T19:14:53.087Z"
   },
   {
    "duration": 1903,
    "start_time": "2022-01-09T19:14:53.936Z"
   },
   {
    "duration": 17,
    "start_time": "2022-01-09T19:14:55.842Z"
   },
   {
    "duration": 340,
    "start_time": "2022-01-09T19:14:55.861Z"
   },
   {
    "duration": 106,
    "start_time": "2022-01-09T19:14:56.203Z"
   },
   {
    "duration": 1316,
    "start_time": "2022-01-09T19:14:56.313Z"
   },
   {
    "duration": 1083,
    "start_time": "2022-01-09T19:14:57.632Z"
   },
   {
    "duration": 108,
    "start_time": "2022-01-09T19:14:58.718Z"
   },
   {
    "duration": 30,
    "start_time": "2022-01-09T19:14:58.829Z"
   },
   {
    "duration": 277,
    "start_time": "2022-01-09T19:14:58.862Z"
   },
   {
    "duration": 20,
    "start_time": "2022-01-09T19:14:59.141Z"
   },
   {
    "duration": 279,
    "start_time": "2022-01-09T19:14:59.163Z"
   },
   {
    "duration": 37,
    "start_time": "2022-01-09T19:14:59.445Z"
   },
   {
    "duration": 171,
    "start_time": "2022-01-09T19:16:13.347Z"
   },
   {
    "duration": 5606,
    "start_time": "2022-01-09T19:21:34.473Z"
   },
   {
    "duration": 1119,
    "start_time": "2022-01-09T19:22:01.543Z"
   },
   {
    "duration": 105,
    "start_time": "2022-01-09T19:22:02.859Z"
   },
   {
    "duration": 15,
    "start_time": "2022-01-09T19:22:32.552Z"
   },
   {
    "duration": 14,
    "start_time": "2022-01-09T19:22:33.149Z"
   },
   {
    "duration": 2242,
    "start_time": "2022-01-09T19:23:07.717Z"
   },
   {
    "duration": 1834,
    "start_time": "2022-01-09T19:25:11.930Z"
   },
   {
    "duration": 47,
    "start_time": "2022-01-09T19:25:13.767Z"
   },
   {
    "duration": 24,
    "start_time": "2022-01-09T19:25:13.817Z"
   },
   {
    "duration": 23,
    "start_time": "2022-01-09T19:25:13.844Z"
   },
   {
    "duration": 10,
    "start_time": "2022-01-09T19:25:13.870Z"
   },
   {
    "duration": 8,
    "start_time": "2022-01-09T19:25:13.882Z"
   },
   {
    "duration": 25,
    "start_time": "2022-01-09T19:25:13.892Z"
   },
   {
    "duration": 41,
    "start_time": "2022-01-09T19:25:13.921Z"
   },
   {
    "duration": 18,
    "start_time": "2022-01-09T19:25:13.967Z"
   },
   {
    "duration": 12,
    "start_time": "2022-01-09T19:25:13.988Z"
   },
   {
    "duration": 7,
    "start_time": "2022-01-09T19:25:14.003Z"
   },
   {
    "duration": 49,
    "start_time": "2022-01-09T19:25:14.013Z"
   },
   {
    "duration": 4,
    "start_time": "2022-01-09T19:25:14.065Z"
   },
   {
    "duration": 51,
    "start_time": "2022-01-09T19:25:14.073Z"
   },
   {
    "duration": 57,
    "start_time": "2022-01-09T19:25:14.126Z"
   },
   {
    "duration": 92,
    "start_time": "2022-01-09T19:25:14.186Z"
   },
   {
    "duration": 5,
    "start_time": "2022-01-09T19:25:14.360Z"
   },
   {
    "duration": 8,
    "start_time": "2022-01-09T19:25:14.368Z"
   },
   {
    "duration": 8,
    "start_time": "2022-01-09T19:25:14.379Z"
   },
   {
    "duration": 22411,
    "start_time": "2022-01-09T19:25:14.389Z"
   },
   {
    "duration": 20,
    "start_time": "2022-01-09T19:25:36.803Z"
   },
   {
    "duration": 5,
    "start_time": "2022-01-09T19:25:36.825Z"
   },
   {
    "duration": 6,
    "start_time": "2022-01-09T19:25:36.866Z"
   },
   {
    "duration": 10,
    "start_time": "2022-01-09T19:25:36.877Z"
   },
   {
    "duration": 44076,
    "start_time": "2022-01-09T19:25:36.891Z"
   },
   {
    "duration": 6,
    "start_time": "2022-01-09T19:26:20.970Z"
   },
   {
    "duration": 32,
    "start_time": "2022-01-09T19:26:20.980Z"
   },
   {
    "duration": 43,
    "start_time": "2022-01-09T19:26:21.016Z"
   },
   {
    "duration": 24,
    "start_time": "2022-01-09T19:26:21.062Z"
   },
   {
    "duration": 73,
    "start_time": "2022-01-09T19:26:21.089Z"
   },
   {
    "duration": 201,
    "start_time": "2022-01-09T19:26:21.165Z"
   },
   {
    "duration": 7,
    "start_time": "2022-01-09T19:26:21.369Z"
   },
   {
    "duration": 1656,
    "start_time": "2022-01-09T19:26:21.380Z"
   },
   {
    "duration": 4,
    "start_time": "2022-01-09T19:26:23.039Z"
   },
   {
    "duration": 51,
    "start_time": "2022-01-09T19:26:23.060Z"
   },
   {
    "duration": 15,
    "start_time": "2022-01-09T19:26:23.113Z"
   },
   {
    "duration": 8,
    "start_time": "2022-01-09T19:26:23.161Z"
   },
   {
    "duration": 3262,
    "start_time": "2022-01-09T19:26:23.172Z"
   },
   {
    "duration": 8,
    "start_time": "2022-01-09T19:26:26.437Z"
   },
   {
    "duration": 7771,
    "start_time": "2022-01-09T19:26:26.459Z"
   },
   {
    "duration": 5,
    "start_time": "2022-01-09T19:26:34.233Z"
   },
   {
    "duration": 1081,
    "start_time": "2022-01-09T19:26:34.240Z"
   },
   {
    "duration": 110,
    "start_time": "2022-01-09T19:26:35.324Z"
   },
   {
    "duration": 8,
    "start_time": "2022-01-09T19:26:35.436Z"
   },
   {
    "duration": 15,
    "start_time": "2022-01-09T19:26:35.447Z"
   },
   {
    "duration": 27,
    "start_time": "2022-01-09T19:26:35.465Z"
   },
   {
    "duration": 6,
    "start_time": "2022-01-09T19:26:35.495Z"
   },
   {
    "duration": 64,
    "start_time": "2022-01-09T19:26:35.503Z"
   },
   {
    "duration": 189,
    "start_time": "2022-01-09T19:26:35.570Z"
   },
   {
    "duration": 505,
    "start_time": "2022-01-09T19:26:35.763Z"
   },
   {
    "duration": 15,
    "start_time": "2022-01-09T19:26:36.271Z"
   },
   {
    "duration": 14,
    "start_time": "2022-01-09T19:26:36.288Z"
   },
   {
    "duration": 987,
    "start_time": "2022-01-09T19:26:36.304Z"
   },
   {
    "duration": 1702,
    "start_time": "2022-01-09T19:26:37.294Z"
   },
   {
    "duration": 4,
    "start_time": "2022-01-09T19:26:38.999Z"
   },
   {
    "duration": 364,
    "start_time": "2022-01-09T19:26:39.006Z"
   },
   {
    "duration": 94,
    "start_time": "2022-01-09T19:26:39.373Z"
   },
   {
    "duration": 693,
    "start_time": "2022-01-09T19:26:39.470Z"
   },
   {
    "duration": 449,
    "start_time": "2022-01-09T19:26:40.166Z"
   },
   {
    "duration": 99,
    "start_time": "2022-01-09T19:26:40.618Z"
   },
   {
    "duration": 19,
    "start_time": "2022-01-09T19:26:40.720Z"
   },
   {
    "duration": 352,
    "start_time": "2022-01-09T19:26:40.741Z"
   },
   {
    "duration": 13,
    "start_time": "2022-01-09T19:26:41.095Z"
   },
   {
    "duration": 273,
    "start_time": "2022-01-09T19:26:41.112Z"
   },
   {
    "duration": 5,
    "start_time": "2022-01-09T19:29:15.076Z"
   },
   {
    "duration": 472,
    "start_time": "2022-01-09T19:29:18.330Z"
   },
   {
    "duration": 101,
    "start_time": "2022-01-09T19:29:19.976Z"
   },
   {
    "duration": 1204,
    "start_time": "2022-01-09T19:31:41.815Z"
   },
   {
    "duration": 87,
    "start_time": "2022-01-09T19:31:44.427Z"
   },
   {
    "duration": 17,
    "start_time": "2022-01-09T19:35:29.662Z"
   },
   {
    "duration": 381,
    "start_time": "2022-01-09T19:35:30.319Z"
   },
   {
    "duration": 16,
    "start_time": "2022-01-09T19:35:34.856Z"
   },
   {
    "duration": 388,
    "start_time": "2022-01-09T19:35:37.006Z"
   }
  ],
  "kernelspec": {
   "display_name": "Python 3",
   "language": "python",
   "name": "python3"
  },
  "language_info": {
   "codemirror_mode": {
    "name": "ipython",
    "version": 3
   },
   "file_extension": ".py",
   "mimetype": "text/x-python",
   "name": "python",
   "nbconvert_exporter": "python",
   "pygments_lexer": "ipython3",
   "version": "3.7.8"
  },
  "toc": {
   "base_numbering": 1,
   "nav_menu": {},
   "number_sections": true,
   "sideBar": true,
   "skip_h1_title": true,
   "title_cell": "Содержание",
   "title_sidebar": "Contents",
   "toc_cell": true,
   "toc_position": {
    "height": "calc(100% - 180px)",
    "left": "10px",
    "top": "150px",
    "width": "251.2px"
   },
   "toc_section_display": true,
   "toc_window_display": true
  }
 },
 "nbformat": 4,
 "nbformat_minor": 2
}

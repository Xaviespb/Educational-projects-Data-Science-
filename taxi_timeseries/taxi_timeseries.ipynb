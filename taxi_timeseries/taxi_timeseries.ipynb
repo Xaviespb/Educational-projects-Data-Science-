{
 "cells": [
  {
   "cell_type": "markdown",
   "metadata": {
    "toc": true
   },
   "source": [
    "<h1>Содержание<span class=\"tocSkip\"></span></h1>\n",
    "<div class=\"toc\"></span></li></ul></li><li><span><a href=\"#Подготовка\" data-toc-modified-id=\"Подготовка-1\"><span class=\"toc-item-num\">1&nbsp;&nbsp;</span>Подготовка</a></span></li><li><span><a href=\"#Анализ\" data-toc-modified-id=\"Анализ-2\"><span class=\"toc-item-num\">2&nbsp;&nbsp;</span>Анализ</a></span></li><li><span><a href=\"#Обучение\" data-toc-modified-id=\"Обучение-3\"><span class=\"toc-item-num\">3&nbsp;&nbsp;</span>Обучение</a></span><ul class=\"toc-item\"><li><span><a href=\"#LinearRegression\" data-toc-modified-id=\"LinearRegression-3.1\"><span class=\"toc-item-num\">3.1&nbsp;&nbsp;</span>LinearRegression</a></span></li><li><span><a href=\"#LGBMRegressor\" data-toc-modified-id=\"LGBMRegressor-3.2\"><span class=\"toc-item-num\">3.2&nbsp;&nbsp;</span>LGBMRegressor</a></span></li><li><span><a href=\"#CatBoostRegression\" data-toc-modified-id=\"CatBoostRegression-3.3\"><span class=\"toc-item-num\">3.3&nbsp;&nbsp;</span>CatBoostRegression</a></span></li></ul></li><li><span><a href=\"#Тестирование\" data-toc-modified-id=\"Тестирование-4\"><span class=\"toc-item-num\">4&nbsp;&nbsp;</span>Тестирование</a></span></li><li><span><a href=\"#Чек-лист-проверки\" data-toc-modified-id=\"Чек-лист-проверки-5\"><span class=\"toc-item-num\">5&nbsp;&nbsp;</span>Чек-лист проверки</a></span></li></ul></div>"
   ]
  },
  {
   "cell_type": "markdown",
   "metadata": {},
   "source": [
    "#  Прогнозирование заказов такси"
   ]
  },
  {
   "cell_type": "markdown",
   "metadata": {},
   "source": [
    "Компания собрала исторические данные о заказах такси в аэропортах. Чтобы привлекать больше водителей в период пиковой нагрузки, нужно спрогнозировать количество заказов такси на следующий час. Постройте модель для такого предсказания.\n",
    "\n",
    "Значение метрики *RMSE* на тестовой выборке должно быть не больше 48."
   ]
  },
  {
   "cell_type": "markdown",
   "metadata": {},
   "source": [
    "## Подготовка"
   ]
  },
  {
   "cell_type": "code",
   "execution_count": 1,
   "metadata": {},
   "outputs": [],
   "source": [
    "import pandas as pd\n",
    "from sklearn.model_selection import train_test_split, GridSearchCV, cross_val_score\n",
    "from sklearn.linear_model import LinearRegression\n",
    "from catboost import CatBoostRegressor as catbreg\n",
    "from lightgbm import LGBMRegressor as lgbmreg\n",
    "import lightgbm as lgb\n",
    "from sklearn.metrics import mean_squared_error\n",
    "import matplotlib.pyplot as plt\n",
    "import numpy as np\n",
    "from statsmodels.tsa.seasonal import seasonal_decompose\n",
    "from sklearn.model_selection import TimeSeriesSplit"
   ]
  },
  {
   "cell_type": "markdown",
   "metadata": {},
   "source": [
    "Выполним ресемплирование по одному часу, агрегируем сумму значений"
   ]
  },
  {
   "cell_type": "code",
   "execution_count": 2,
   "metadata": {},
   "outputs": [],
   "source": [
    "df = pd.read_csv('/datasets/taxi.csv', index_col=[0], parse_dates=[0])\n",
    "df.sort_index(inplace=True)\n",
    "df = df.resample('1H').sum()"
   ]
  },
  {
   "cell_type": "code",
   "execution_count": 3,
   "metadata": {},
   "outputs": [
    {
     "data": {
      "text/html": [
       "<div>\n",
       "<style scoped>\n",
       "    .dataframe tbody tr th:only-of-type {\n",
       "        vertical-align: middle;\n",
       "    }\n",
       "\n",
       "    .dataframe tbody tr th {\n",
       "        vertical-align: top;\n",
       "    }\n",
       "\n",
       "    .dataframe thead th {\n",
       "        text-align: right;\n",
       "    }\n",
       "</style>\n",
       "<table border=\"1\" class=\"dataframe\">\n",
       "  <thead>\n",
       "    <tr style=\"text-align: right;\">\n",
       "      <th></th>\n",
       "      <th>num_orders</th>\n",
       "    </tr>\n",
       "    <tr>\n",
       "      <th>datetime</th>\n",
       "      <th></th>\n",
       "    </tr>\n",
       "  </thead>\n",
       "  <tbody>\n",
       "    <tr>\n",
       "      <th>2018-03-01 00:00:00</th>\n",
       "      <td>124</td>\n",
       "    </tr>\n",
       "    <tr>\n",
       "      <th>2018-03-01 01:00:00</th>\n",
       "      <td>85</td>\n",
       "    </tr>\n",
       "    <tr>\n",
       "      <th>2018-03-01 02:00:00</th>\n",
       "      <td>71</td>\n",
       "    </tr>\n",
       "    <tr>\n",
       "      <th>2018-03-01 03:00:00</th>\n",
       "      <td>66</td>\n",
       "    </tr>\n",
       "    <tr>\n",
       "      <th>2018-03-01 04:00:00</th>\n",
       "      <td>43</td>\n",
       "    </tr>\n",
       "    <tr>\n",
       "      <th>...</th>\n",
       "      <td>...</td>\n",
       "    </tr>\n",
       "    <tr>\n",
       "      <th>2018-08-31 19:00:00</th>\n",
       "      <td>136</td>\n",
       "    </tr>\n",
       "    <tr>\n",
       "      <th>2018-08-31 20:00:00</th>\n",
       "      <td>154</td>\n",
       "    </tr>\n",
       "    <tr>\n",
       "      <th>2018-08-31 21:00:00</th>\n",
       "      <td>159</td>\n",
       "    </tr>\n",
       "    <tr>\n",
       "      <th>2018-08-31 22:00:00</th>\n",
       "      <td>223</td>\n",
       "    </tr>\n",
       "    <tr>\n",
       "      <th>2018-08-31 23:00:00</th>\n",
       "      <td>205</td>\n",
       "    </tr>\n",
       "  </tbody>\n",
       "</table>\n",
       "<p>4416 rows × 1 columns</p>\n",
       "</div>"
      ],
      "text/plain": [
       "                     num_orders\n",
       "datetime                       \n",
       "2018-03-01 00:00:00         124\n",
       "2018-03-01 01:00:00          85\n",
       "2018-03-01 02:00:00          71\n",
       "2018-03-01 03:00:00          66\n",
       "2018-03-01 04:00:00          43\n",
       "...                         ...\n",
       "2018-08-31 19:00:00         136\n",
       "2018-08-31 20:00:00         154\n",
       "2018-08-31 21:00:00         159\n",
       "2018-08-31 22:00:00         223\n",
       "2018-08-31 23:00:00         205\n",
       "\n",
       "[4416 rows x 1 columns]"
      ]
     },
     "execution_count": 3,
     "metadata": {},
     "output_type": "execute_result"
    }
   ],
   "source": [
    "df"
   ]
  },
  {
   "cell_type": "markdown",
   "metadata": {},
   "source": [
    "## Анализ"
   ]
  },
  {
   "cell_type": "markdown",
   "metadata": {},
   "source": [
    "Визуализируем временной ряд"
   ]
  },
  {
   "cell_type": "code",
   "execution_count": 4,
   "metadata": {},
   "outputs": [
    {
     "data": {
      "text/plain": [
       "[<matplotlib.lines.Line2D at 0x7f199f23ec40>]"
      ]
     },
     "execution_count": 4,
     "metadata": {},
     "output_type": "execute_result"
    },
    {
     "data": {
      "image/png": "[encoded data removed]",
      "text/plain": [
       "<Figure size 1440x720 with 1 Axes>"
      ]
     },
     "metadata": {
      "needs_background": "light"
     },
     "output_type": "display_data"
    }
   ],
   "source": [
    "plt.figure(figsize=(20, 10))\n",
    "plt.title('Airport taxi orders')\n",
    "plt.xlabel('Time')\n",
    "plt.ylabel('Number of orders')\n",
    "plt.plot(df)"
   ]
  },
  {
   "cell_type": "markdown",
   "metadata": {},
   "source": [
    "Разложим временной ряд на три составляющие: тренд, сезонность и шум"
   ]
  },
  {
   "cell_type": "code",
   "execution_count": 5,
   "metadata": {
    "scrolled": false
   },
   "outputs": [
    {
     "data": {
      "image/png": "[encoded data removed]",
      "text/plain": [
       "<Figure size 1440x720 with 3 Axes>"
      ]
     },
     "metadata": {
      "needs_background": "light"
     },
     "output_type": "display_data"
    }
   ],
   "source": [
    "decomposed = seasonal_decompose(df)\n",
    "plt.figure(figsize=(20, 10))\n",
    "plt.subplot(311)\n",
    "decomposed.trend.plot(ax=plt.gca())\n",
    "plt.title('Trend')\n",
    "plt.subplot(312)\n",
    "decomposed.seasonal.plot(ax=plt.gca()) \n",
    "plt.title('Seasonality')\n",
    "plt.subplot(313)\n",
    "decomposed.resid.plot(ax=plt.gca())\n",
    "plt.title('Residuals')\n",
    "plt.tight_layout()"
   ]
  },
  {
   "cell_type": "markdown",
   "metadata": {},
   "source": [
    "Наблюдаем, что тренд на повышение"
   ]
  },
  {
   "cell_type": "markdown",
   "metadata": {},
   "source": [
    "Напишем функцию с аргументами \"max_lag\" и \"rolling_mean_size\" для создания новых признаков <br>\n",
    "_max_lag - задает максимальный размер отставания <br>_\n",
    "_rolling_mean_size - задает ширину окна_"
   ]
  },
  {
   "cell_type": "code",
   "execution_count": 6,
   "metadata": {},
   "outputs": [],
   "source": [
    "def make_features(df, max_lag, rolling_mean_size):\n",
    "    df['year'] = df.index.year\n",
    "    df['month'] = df.index.month\n",
    "    df['day'] = df.index.day\n",
    "    df['dayofweek'] = df.index.dayofweek\n",
    "    \n",
    "    for lag in range(1, max_lag + 1):\n",
    "        df['lag_{}'.format(lag)] = df['num_orders'].shift(lag)\n",
    "\n",
    "    df['rolling_mean'] = df['num_orders'].shift().rolling(rolling_mean_size).mean()\n",
    "\n",
    "\n",
    "make_features(df, 20, 20)"
   ]
  },
  {
   "cell_type": "markdown",
   "metadata": {},
   "source": [
    "Выведем новый data frame"
   ]
  },
  {
   "cell_type": "code",
   "execution_count": 7,
   "metadata": {},
   "outputs": [
    {
     "data": {
      "text/plain": [
       "20"
      ]
     },
     "execution_count": 7,
     "metadata": {},
     "output_type": "execute_result"
    }
   ],
   "source": [
    "df.isna().sum().max()"
   ]
  },
  {
   "cell_type": "code",
   "execution_count": 8,
   "metadata": {},
   "outputs": [],
   "source": [
    "df.dropna(inplace=True)"
   ]
  },
  {
   "cell_type": "code",
   "execution_count": 9,
   "metadata": {},
   "outputs": [
    {
     "data": {
      "text/html": [
       "<div>\n",
       "<style scoped>\n",
       "    .dataframe tbody tr th:only-of-type {\n",
       "        vertical-align: middle;\n",
       "    }\n",
       "\n",
       "    .dataframe tbody tr th {\n",
       "        vertical-align: top;\n",
       "    }\n",
       "\n",
       "    .dataframe thead th {\n",
       "        text-align: right;\n",
       "    }\n",
       "</style>\n",
       "<table border=\"1\" class=\"dataframe\">\n",
       "  <thead>\n",
       "    <tr style=\"text-align: right;\">\n",
       "      <th></th>\n",
       "      <th>num_orders</th>\n",
       "      <th>year</th>\n",
       "      <th>month</th>\n",
       "      <th>day</th>\n",
       "      <th>dayofweek</th>\n",
       "      <th>lag_1</th>\n",
       "      <th>lag_2</th>\n",
       "      <th>lag_3</th>\n",
       "      <th>lag_4</th>\n",
       "      <th>lag_5</th>\n",
       "      <th>...</th>\n",
       "      <th>lag_12</th>\n",
       "      <th>lag_13</th>\n",
       "      <th>lag_14</th>\n",
       "      <th>lag_15</th>\n",
       "      <th>lag_16</th>\n",
       "      <th>lag_17</th>\n",
       "      <th>lag_18</th>\n",
       "      <th>lag_19</th>\n",
       "      <th>lag_20</th>\n",
       "      <th>rolling_mean</th>\n",
       "    </tr>\n",
       "    <tr>\n",
       "      <th>datetime</th>\n",
       "      <th></th>\n",
       "      <th></th>\n",
       "      <th></th>\n",
       "      <th></th>\n",
       "      <th></th>\n",
       "      <th></th>\n",
       "      <th></th>\n",
       "      <th></th>\n",
       "      <th></th>\n",
       "      <th></th>\n",
       "      <th></th>\n",
       "      <th></th>\n",
       "      <th></th>\n",
       "      <th></th>\n",
       "      <th></th>\n",
       "      <th></th>\n",
       "      <th></th>\n",
       "      <th></th>\n",
       "      <th></th>\n",
       "      <th></th>\n",
       "      <th></th>\n",
       "    </tr>\n",
       "  </thead>\n",
       "  <tbody>\n",
       "    <tr>\n",
       "      <th>2018-03-01 20:00:00</th>\n",
       "      <td>61</td>\n",
       "      <td>2018</td>\n",
       "      <td>3</td>\n",
       "      <td>1</td>\n",
       "      <td>3</td>\n",
       "      <td>45.0</td>\n",
       "      <td>73.0</td>\n",
       "      <td>44.0</td>\n",
       "      <td>43.0</td>\n",
       "      <td>66.0</td>\n",
       "      <td>...</td>\n",
       "      <td>34.0</td>\n",
       "      <td>15.0</td>\n",
       "      <td>12.0</td>\n",
       "      <td>6.0</td>\n",
       "      <td>43.0</td>\n",
       "      <td>66.0</td>\n",
       "      <td>71.0</td>\n",
       "      <td>85.0</td>\n",
       "      <td>124.0</td>\n",
       "      <td>53.30</td>\n",
       "    </tr>\n",
       "    <tr>\n",
       "      <th>2018-03-01 21:00:00</th>\n",
       "      <td>66</td>\n",
       "      <td>2018</td>\n",
       "      <td>3</td>\n",
       "      <td>1</td>\n",
       "      <td>3</td>\n",
       "      <td>61.0</td>\n",
       "      <td>45.0</td>\n",
       "      <td>73.0</td>\n",
       "      <td>44.0</td>\n",
       "      <td>43.0</td>\n",
       "      <td>...</td>\n",
       "      <td>69.0</td>\n",
       "      <td>34.0</td>\n",
       "      <td>15.0</td>\n",
       "      <td>12.0</td>\n",
       "      <td>6.0</td>\n",
       "      <td>43.0</td>\n",
       "      <td>66.0</td>\n",
       "      <td>71.0</td>\n",
       "      <td>85.0</td>\n",
       "      <td>50.15</td>\n",
       "    </tr>\n",
       "    <tr>\n",
       "      <th>2018-03-01 22:00:00</th>\n",
       "      <td>113</td>\n",
       "      <td>2018</td>\n",
       "      <td>3</td>\n",
       "      <td>1</td>\n",
       "      <td>3</td>\n",
       "      <td>66.0</td>\n",
       "      <td>61.0</td>\n",
       "      <td>45.0</td>\n",
       "      <td>73.0</td>\n",
       "      <td>44.0</td>\n",
       "      <td>...</td>\n",
       "      <td>64.0</td>\n",
       "      <td>69.0</td>\n",
       "      <td>34.0</td>\n",
       "      <td>15.0</td>\n",
       "      <td>12.0</td>\n",
       "      <td>6.0</td>\n",
       "      <td>43.0</td>\n",
       "      <td>66.0</td>\n",
       "      <td>71.0</td>\n",
       "      <td>49.20</td>\n",
       "    </tr>\n",
       "    <tr>\n",
       "      <th>2018-03-01 23:00:00</th>\n",
       "      <td>58</td>\n",
       "      <td>2018</td>\n",
       "      <td>3</td>\n",
       "      <td>1</td>\n",
       "      <td>3</td>\n",
       "      <td>113.0</td>\n",
       "      <td>66.0</td>\n",
       "      <td>61.0</td>\n",
       "      <td>45.0</td>\n",
       "      <td>73.0</td>\n",
       "      <td>...</td>\n",
       "      <td>96.0</td>\n",
       "      <td>64.0</td>\n",
       "      <td>69.0</td>\n",
       "      <td>34.0</td>\n",
       "      <td>15.0</td>\n",
       "      <td>12.0</td>\n",
       "      <td>6.0</td>\n",
       "      <td>43.0</td>\n",
       "      <td>66.0</td>\n",
       "      <td>51.30</td>\n",
       "    </tr>\n",
       "    <tr>\n",
       "      <th>2018-03-02 00:00:00</th>\n",
       "      <td>90</td>\n",
       "      <td>2018</td>\n",
       "      <td>3</td>\n",
       "      <td>2</td>\n",
       "      <td>4</td>\n",
       "      <td>58.0</td>\n",
       "      <td>113.0</td>\n",
       "      <td>66.0</td>\n",
       "      <td>61.0</td>\n",
       "      <td>45.0</td>\n",
       "      <td>...</td>\n",
       "      <td>30.0</td>\n",
       "      <td>96.0</td>\n",
       "      <td>64.0</td>\n",
       "      <td>69.0</td>\n",
       "      <td>34.0</td>\n",
       "      <td>15.0</td>\n",
       "      <td>12.0</td>\n",
       "      <td>6.0</td>\n",
       "      <td>43.0</td>\n",
       "      <td>50.90</td>\n",
       "    </tr>\n",
       "    <tr>\n",
       "      <th>...</th>\n",
       "      <td>...</td>\n",
       "      <td>...</td>\n",
       "      <td>...</td>\n",
       "      <td>...</td>\n",
       "      <td>...</td>\n",
       "      <td>...</td>\n",
       "      <td>...</td>\n",
       "      <td>...</td>\n",
       "      <td>...</td>\n",
       "      <td>...</td>\n",
       "      <td>...</td>\n",
       "      <td>...</td>\n",
       "      <td>...</td>\n",
       "      <td>...</td>\n",
       "      <td>...</td>\n",
       "      <td>...</td>\n",
       "      <td>...</td>\n",
       "      <td>...</td>\n",
       "      <td>...</td>\n",
       "      <td>...</td>\n",
       "      <td>...</td>\n",
       "    </tr>\n",
       "    <tr>\n",
       "      <th>2018-08-31 19:00:00</th>\n",
       "      <td>136</td>\n",
       "      <td>2018</td>\n",
       "      <td>8</td>\n",
       "      <td>31</td>\n",
       "      <td>4</td>\n",
       "      <td>207.0</td>\n",
       "      <td>217.0</td>\n",
       "      <td>197.0</td>\n",
       "      <td>116.0</td>\n",
       "      <td>133.0</td>\n",
       "      <td>...</td>\n",
       "      <td>46.0</td>\n",
       "      <td>35.0</td>\n",
       "      <td>78.0</td>\n",
       "      <td>268.0</td>\n",
       "      <td>99.0</td>\n",
       "      <td>230.0</td>\n",
       "      <td>194.0</td>\n",
       "      <td>276.0</td>\n",
       "      <td>246.0</td>\n",
       "      <td>169.35</td>\n",
       "    </tr>\n",
       "    <tr>\n",
       "      <th>2018-08-31 20:00:00</th>\n",
       "      <td>154</td>\n",
       "      <td>2018</td>\n",
       "      <td>8</td>\n",
       "      <td>31</td>\n",
       "      <td>4</td>\n",
       "      <td>136.0</td>\n",
       "      <td>207.0</td>\n",
       "      <td>217.0</td>\n",
       "      <td>197.0</td>\n",
       "      <td>116.0</td>\n",
       "      <td>...</td>\n",
       "      <td>182.0</td>\n",
       "      <td>46.0</td>\n",
       "      <td>35.0</td>\n",
       "      <td>78.0</td>\n",
       "      <td>268.0</td>\n",
       "      <td>99.0</td>\n",
       "      <td>230.0</td>\n",
       "      <td>194.0</td>\n",
       "      <td>276.0</td>\n",
       "      <td>163.85</td>\n",
       "    </tr>\n",
       "    <tr>\n",
       "      <th>2018-08-31 21:00:00</th>\n",
       "      <td>159</td>\n",
       "      <td>2018</td>\n",
       "      <td>8</td>\n",
       "      <td>31</td>\n",
       "      <td>4</td>\n",
       "      <td>154.0</td>\n",
       "      <td>136.0</td>\n",
       "      <td>207.0</td>\n",
       "      <td>217.0</td>\n",
       "      <td>197.0</td>\n",
       "      <td>...</td>\n",
       "      <td>203.0</td>\n",
       "      <td>182.0</td>\n",
       "      <td>46.0</td>\n",
       "      <td>35.0</td>\n",
       "      <td>78.0</td>\n",
       "      <td>268.0</td>\n",
       "      <td>99.0</td>\n",
       "      <td>230.0</td>\n",
       "      <td>194.0</td>\n",
       "      <td>157.75</td>\n",
       "    </tr>\n",
       "    <tr>\n",
       "      <th>2018-08-31 22:00:00</th>\n",
       "      <td>223</td>\n",
       "      <td>2018</td>\n",
       "      <td>8</td>\n",
       "      <td>31</td>\n",
       "      <td>4</td>\n",
       "      <td>159.0</td>\n",
       "      <td>154.0</td>\n",
       "      <td>136.0</td>\n",
       "      <td>207.0</td>\n",
       "      <td>217.0</td>\n",
       "      <td>...</td>\n",
       "      <td>191.0</td>\n",
       "      <td>203.0</td>\n",
       "      <td>182.0</td>\n",
       "      <td>46.0</td>\n",
       "      <td>35.0</td>\n",
       "      <td>78.0</td>\n",
       "      <td>268.0</td>\n",
       "      <td>99.0</td>\n",
       "      <td>230.0</td>\n",
       "      <td>156.00</td>\n",
       "    </tr>\n",
       "    <tr>\n",
       "      <th>2018-08-31 23:00:00</th>\n",
       "      <td>205</td>\n",
       "      <td>2018</td>\n",
       "      <td>8</td>\n",
       "      <td>31</td>\n",
       "      <td>4</td>\n",
       "      <td>223.0</td>\n",
       "      <td>159.0</td>\n",
       "      <td>154.0</td>\n",
       "      <td>136.0</td>\n",
       "      <td>207.0</td>\n",
       "      <td>...</td>\n",
       "      <td>167.0</td>\n",
       "      <td>191.0</td>\n",
       "      <td>203.0</td>\n",
       "      <td>182.0</td>\n",
       "      <td>46.0</td>\n",
       "      <td>35.0</td>\n",
       "      <td>78.0</td>\n",
       "      <td>268.0</td>\n",
       "      <td>99.0</td>\n",
       "      <td>155.65</td>\n",
       "    </tr>\n",
       "  </tbody>\n",
       "</table>\n",
       "<p>4396 rows × 26 columns</p>\n",
       "</div>"
      ],
      "text/plain": [
       "                     num_orders  year  month  day  dayofweek  lag_1  lag_2  \\\n",
       "datetime                                                                     \n",
       "2018-03-01 20:00:00          61  2018      3    1          3   45.0   73.0   \n",
       "2018-03-01 21:00:00          66  2018      3    1          3   61.0   45.0   \n",
       "2018-03-01 22:00:00         113  2018      3    1          3   66.0   61.0   \n",
       "2018-03-01 23:00:00          58  2018      3    1          3  113.0   66.0   \n",
       "2018-03-02 00:00:00          90  2018      3    2          4   58.0  113.0   \n",
       "...                         ...   ...    ...  ...        ...    ...    ...   \n",
       "2018-08-31 19:00:00         136  2018      8   31          4  207.0  217.0   \n",
       "2018-08-31 20:00:00         154  2018      8   31          4  136.0  207.0   \n",
       "2018-08-31 21:00:00         159  2018      8   31          4  154.0  136.0   \n",
       "2018-08-31 22:00:00         223  2018      8   31          4  159.0  154.0   \n",
       "2018-08-31 23:00:00         205  2018      8   31          4  223.0  159.0   \n",
       "\n",
       "                     lag_3  lag_4  lag_5  ...  lag_12  lag_13  lag_14  lag_15  \\\n",
       "datetime                                  ...                                   \n",
       "2018-03-01 20:00:00   44.0   43.0   66.0  ...    34.0    15.0    12.0     6.0   \n",
       "2018-03-01 21:00:00   73.0   44.0   43.0  ...    69.0    34.0    15.0    12.0   \n",
       "2018-03-01 22:00:00   45.0   73.0   44.0  ...    64.0    69.0    34.0    15.0   \n",
       "2018-03-01 23:00:00   61.0   45.0   73.0  ...    96.0    64.0    69.0    34.0   \n",
       "2018-03-02 00:00:00   66.0   61.0   45.0  ...    30.0    96.0    64.0    69.0   \n",
       "...                    ...    ...    ...  ...     ...     ...     ...     ...   \n",
       "2018-08-31 19:00:00  197.0  116.0  133.0  ...    46.0    35.0    78.0   268.0   \n",
       "2018-08-31 20:00:00  217.0  197.0  116.0  ...   182.0    46.0    35.0    78.0   \n",
       "2018-08-31 21:00:00  207.0  217.0  197.0  ...   203.0   182.0    46.0    35.0   \n",
       "2018-08-31 22:00:00  136.0  207.0  217.0  ...   191.0   203.0   182.0    46.0   \n",
       "2018-08-31 23:00:00  154.0  136.0  207.0  ...   167.0   191.0   203.0   182.0   \n",
       "\n",
       "                     lag_16  lag_17  lag_18  lag_19  lag_20  rolling_mean  \n",
       "datetime                                                                   \n",
       "2018-03-01 20:00:00    43.0    66.0    71.0    85.0   124.0         53.30  \n",
       "2018-03-01 21:00:00     6.0    43.0    66.0    71.0    85.0         50.15  \n",
       "2018-03-01 22:00:00    12.0     6.0    43.0    66.0    71.0         49.20  \n",
       "2018-03-01 23:00:00    15.0    12.0     6.0    43.0    66.0         51.30  \n",
       "2018-03-02 00:00:00    34.0    15.0    12.0     6.0    43.0         50.90  \n",
       "...                     ...     ...     ...     ...     ...           ...  \n",
       "2018-08-31 19:00:00    99.0   230.0   194.0   276.0   246.0        169.35  \n",
       "2018-08-31 20:00:00   268.0    99.0   230.0   194.0   276.0        163.85  \n",
       "2018-08-31 21:00:00    78.0   268.0    99.0   230.0   194.0        157.75  \n",
       "2018-08-31 22:00:00    35.0    78.0   268.0    99.0   230.0        156.00  \n",
       "2018-08-31 23:00:00    46.0    35.0    78.0   268.0    99.0        155.65  \n",
       "\n",
       "[4396 rows x 26 columns]"
      ]
     },
     "execution_count": 9,
     "metadata": {},
     "output_type": "execute_result"
    }
   ],
   "source": [
    "df"
   ]
  },
  {
   "cell_type": "markdown",
   "metadata": {},
   "source": [
    "## Обучение"
   ]
  },
  {
   "cell_type": "markdown",
   "metadata": {},
   "source": [
    "Разобъем df на тестовую и тренировочную выборки\n",
    "и выделим признаки и целевой признак в каждой из выборок"
   ]
  },
  {
   "cell_type": "code",
   "execution_count": 10,
   "metadata": {},
   "outputs": [],
   "source": [
    "train, test = train_test_split(df, shuffle=False, test_size=0.1)\n",
    "train = train.dropna()\n",
    "\n",
    "train_features = train.drop('num_orders', axis=1)\n",
    "train_target = train['num_orders']\n",
    "test_features = test.drop('num_orders', axis=1)\n",
    "test_target = test['num_orders']"
   ]
  },
  {
   "cell_type": "markdown",
   "metadata": {},
   "source": [
    "### LinearRegression"
   ]
  },
  {
   "cell_type": "markdown",
   "metadata": {},
   "source": [
    "Обучим модель линейной регрессии"
   ]
  },
  {
   "cell_type": "code",
   "execution_count": 11,
   "metadata": {},
   "outputs": [
    {
     "name": "stdout",
     "output_type": "stream",
     "text": [
      "RMSE обучающей выборки: 29.272671810257194\n",
      "RMSE тестовой выборки:  54.99759418112109\n"
     ]
    }
   ],
   "source": [
    "model = LinearRegression()\n",
    "model.fit(train_features, train_target)\n",
    "\n",
    "predicted_test = model.predict(test_features)\n",
    "predicted_train = model.predict(train_features)\n",
    "\n",
    "print(\"RMSE обучающей выборки:\", mean_squared_error(train_target, predicted_train) ** 0.5)\n",
    "print(\"RMSE тестовой выборки: \", mean_squared_error(test_target, predicted_test) ** 0.5)"
   ]
  },
  {
   "cell_type": "markdown",
   "metadata": {},
   "source": [
    "### LGBMRegressor"
   ]
  },
  {
   "cell_type": "markdown",
   "metadata": {},
   "source": [
    "Обучим модель LGBM регрессии c подбором параметров по GridSearchCV"
   ]
  },
  {
   "cell_type": "code",
   "execution_count": 12,
   "metadata": {},
   "outputs": [],
   "source": [
    "tscv = TimeSeriesSplit(n_splits=2)"
   ]
  },
  {
   "cell_type": "code",
   "execution_count": 13,
   "metadata": {},
   "outputs": [
    {
     "data": {
      "text/plain": [
       "GridSearchCV(cv=TimeSeriesSplit(gap=0, max_train_size=None, n_splits=2, test_size=None),\n",
       "             estimator=LGBMRegressor(), n_jobs=-1,\n",
       "             param_grid={'learning_rate': [0.01, 0.05], 'max_depth': [3],\n",
       "                         'n_estimators': (800, 600)},\n",
       "             scoring='neg_root_mean_squared_error')"
      ]
     },
     "execution_count": 13,
     "metadata": {},
     "output_type": "execute_result"
    }
   ],
   "source": [
    "params = {\n",
    "    'n_estimators':(800, 600),\n",
    "    'learning_rate':[0.01, 0.05],\n",
    "    'max_depth':[3]\n",
    "}\n",
    "lgb = lgb.LGBMRegressor()\n",
    "lgb_cv = GridSearchCV(lgb, params, scoring='neg_root_mean_squared_error', cv=tscv, n_jobs=-1)\n",
    "lgb_cv.fit(train_features, train_target)"
   ]
  },
  {
   "cell_type": "markdown",
   "metadata": {},
   "source": [
    "Лучшие параметры после GridSearchCV:"
   ]
  },
  {
   "cell_type": "code",
   "execution_count": 14,
   "metadata": {},
   "outputs": [
    {
     "data": {
      "text/plain": [
       "{'learning_rate': 0.05, 'max_depth': 3, 'n_estimators': 600}"
      ]
     },
     "execution_count": 14,
     "metadata": {},
     "output_type": "execute_result"
    }
   ],
   "source": [
    "lgb_cv.best_params_"
   ]
  },
  {
   "cell_type": "code",
   "execution_count": 15,
   "metadata": {},
   "outputs": [
    {
     "name": "stdout",
     "output_type": "stream",
     "text": [
      "RMSE обучающей выборки: 18.455881171895548\n",
      "RMSE тестовой выборки:  47.23801794460981\n"
     ]
    }
   ],
   "source": [
    "predicted_train = lgb_cv.best_estimator_.predict(train_features)\n",
    "predicted_test = lgb_cv.best_estimator_.predict(test_features)\n",
    "print(\"RMSE обучающей выборки:\", mean_squared_error(train_target, predicted_train) ** 0.5)\n",
    "print(\"RMSE тестовой выборки: \", mean_squared_error(test_target, predicted_test) ** 0.5)\n",
    "predicted_test_best = predicted_test\n",
    "test_target_best = test_target\n",
    "test_features_best = test_features"
   ]
  },
  {
   "cell_type": "markdown",
   "metadata": {},
   "source": [
    "### CatBoostRegression"
   ]
  },
  {
   "cell_type": "markdown",
   "metadata": {},
   "source": [
    "Обучим модель CatBoost регрессии c подбором параметров по GridSearchCV"
   ]
  },
  {
   "cell_type": "code",
   "execution_count": 16,
   "metadata": {},
   "outputs": [
    {
     "data": {
      "text/plain": [
       "GridSearchCV(cv=TimeSeriesSplit(gap=0, max_train_size=None, n_splits=2, test_size=None),\n",
       "             estimator=<catboost.core.CatBoostRegressor object at 0x7f199eb24a00>,\n",
       "             n_jobs=-1,\n",
       "             param_grid={'learning_rate': [0.01, 0.05], 'max_depth': [3],\n",
       "                         'n_estimators': (800, 600)},\n",
       "             scoring='neg_root_mean_squared_error')"
      ]
     },
     "execution_count": 16,
     "metadata": {},
     "output_type": "execute_result"
    }
   ],
   "source": [
    "params = {\n",
    "    'n_estimators':(800, 600),\n",
    "    'learning_rate':[0.01, 0.05],\n",
    "    'max_depth':[3]\n",
    "}\n",
    "cbr = catbreg(verbose=False)\n",
    "cbr_cv = GridSearchCV(cbr, params, scoring='neg_root_mean_squared_error', cv=tscv, n_jobs=-1)\n",
    "cbr_cv.fit(train_features, train_target)"
   ]
  },
  {
   "cell_type": "markdown",
   "metadata": {},
   "source": [
    "Лучшие параметры после GridSearchCV:"
   ]
  },
  {
   "cell_type": "code",
   "execution_count": 17,
   "metadata": {},
   "outputs": [
    {
     "data": {
      "text/plain": [
       "{'learning_rate': 0.05, 'max_depth': 3, 'n_estimators': 600}"
      ]
     },
     "execution_count": 17,
     "metadata": {},
     "output_type": "execute_result"
    }
   ],
   "source": [
    "cbr_cv.best_params_"
   ]
  },
  {
   "cell_type": "code",
   "execution_count": 18,
   "metadata": {},
   "outputs": [
    {
     "name": "stdout",
     "output_type": "stream",
     "text": [
      "RMSE обучающей выборки: 21.292725139213623\n",
      "RMSE тестовой выборки:  48.757565275600534\n"
     ]
    }
   ],
   "source": [
    "predicted_train = cbr_cv.best_estimator_.predict(train_features)\n",
    "predicted_test = cbr_cv.best_estimator_.predict(test_features)\n",
    "print(\"RMSE обучающей выборки:\", mean_squared_error(train_target, predicted_train) ** 0.5)\n",
    "print(\"RMSE тестовой выборки: \", mean_squared_error(test_target, predicted_test) ** 0.5)"
   ]
  },
  {
   "cell_type": "markdown",
   "metadata": {},
   "source": [
    "## Тестирование"
   ]
  },
  {
   "cell_type": "code",
   "execution_count": 19,
   "metadata": {},
   "outputs": [],
   "source": [
    "data = [[29.27, 54.99],\n",
    "       [18.45, 47.23],\n",
    "       [21.29, 48.75]]\n",
    "model_name = ['LinearRegression', 'LGBMRegresspor', 'CatBoostRegression']\n",
    "col_name = ['train_score','test_score']"
   ]
  },
  {
   "cell_type": "code",
   "execution_count": 20,
   "metadata": {
    "scrolled": true
   },
   "outputs": [
    {
     "data": {
      "text/html": [
       "<div>\n",
       "<style scoped>\n",
       "    .dataframe tbody tr th:only-of-type {\n",
       "        vertical-align: middle;\n",
       "    }\n",
       "\n",
       "    .dataframe tbody tr th {\n",
       "        vertical-align: top;\n",
       "    }\n",
       "\n",
       "    .dataframe thead th {\n",
       "        text-align: right;\n",
       "    }\n",
       "</style>\n",
       "<table border=\"1\" class=\"dataframe\">\n",
       "  <thead>\n",
       "    <tr style=\"text-align: right;\">\n",
       "      <th></th>\n",
       "      <th>train_score</th>\n",
       "      <th>test_score</th>\n",
       "    </tr>\n",
       "  </thead>\n",
       "  <tbody>\n",
       "    <tr>\n",
       "      <th>LinearRegression</th>\n",
       "      <td>29.27</td>\n",
       "      <td>54.99</td>\n",
       "    </tr>\n",
       "    <tr>\n",
       "      <th>LGBMRegresspor</th>\n",
       "      <td>18.45</td>\n",
       "      <td>47.23</td>\n",
       "    </tr>\n",
       "    <tr>\n",
       "      <th>CatBoostRegression</th>\n",
       "      <td>21.29</td>\n",
       "      <td>48.75</td>\n",
       "    </tr>\n",
       "  </tbody>\n",
       "</table>\n",
       "</div>"
      ],
      "text/plain": [
       "                    train_score  test_score\n",
       "LinearRegression          29.27       54.99\n",
       "LGBMRegresspor            18.45       47.23\n",
       "CatBoostRegression        21.29       48.75"
      ]
     },
     "execution_count": 20,
     "metadata": {},
     "output_type": "execute_result"
    }
   ],
   "source": [
    "pd.DataFrame(data=data, index=model_name, columns=col_name)"
   ]
  },
  {
   "cell_type": "code",
   "execution_count": 21,
   "metadata": {},
   "outputs": [
    {
     "name": "stdout",
     "output_type": "stream",
     "text": [
      "RMSE: 47.23801794460981\n"
     ]
    },
    {
     "data": {
      "image/png": "[encoded data removed]",
      "text/plain": [
       "<Figure size 1440x720 with 1 Axes>"
      ]
     },
     "metadata": {
      "needs_background": "light"
     },
     "output_type": "display_data"
    }
   ],
   "source": [
    "print(\"RMSE:\", mean_squared_error(test_target_best, predicted_test_best) ** 0.5)\n",
    "plt.figure(figsize=(20, 10))\n",
    "plt.plot(test_features.index, test_target_best, label='Target')\n",
    "plt.plot(test_features.index, predicted_test_best, label='Predicted')\n",
    "plt.title('Comparing predicted and target')\n",
    "plt.xlabel('Time')\n",
    "plt.ylabel('Number of orders')\n",
    "plt.legend()\n",
    "plt.show()"
   ]
  },
  {
   "cell_type": "markdown",
   "metadata": {},
   "source": [
    "Лучшая модель на тесте и на трейне - LGBMRegresspor, LinearRegression обучается быстрее, меньше переобучивается, но RMSE больше всех рассмотренных моделей"
   ]
  }
 ],
 "metadata": {
  "ExecuteTimeLog": [
   {
    "duration": 1184,
    "start_time": "2022-03-13T17:48:40.567Z"
   },
   {
    "duration": 32,
    "start_time": "2022-03-13T17:48:42.571Z"
   },
   {
    "duration": 14,
    "start_time": "2022-03-13T17:48:46.467Z"
   },
   {
    "duration": 38,
    "start_time": "2022-03-13T17:49:15.108Z"
   },
   {
    "duration": 8,
    "start_time": "2022-03-13T17:49:16.046Z"
   },
   {
    "duration": 42,
    "start_time": "2022-03-13T17:50:19.673Z"
   },
   {
    "duration": 9,
    "start_time": "2022-03-13T17:50:20.545Z"
   },
   {
    "duration": 42,
    "start_time": "2022-03-13T17:50:46.416Z"
   },
   {
    "duration": 8,
    "start_time": "2022-03-13T17:50:47.012Z"
   },
   {
    "duration": 432,
    "start_time": "2022-03-13T17:57:35.513Z"
   },
   {
    "duration": 19,
    "start_time": "2022-03-13T17:57:47.915Z"
   },
   {
    "duration": 10,
    "start_time": "2022-03-13T17:57:51.435Z"
   },
   {
    "duration": 95,
    "start_time": "2022-03-13T17:57:52.515Z"
   },
   {
    "duration": 387,
    "start_time": "2022-03-13T17:57:53.571Z"
   },
   {
    "duration": 4,
    "start_time": "2022-03-13T17:59:12.585Z"
   },
   {
    "duration": 15,
    "start_time": "2022-03-13T18:00:47.735Z"
   },
   {
    "duration": 4,
    "start_time": "2022-03-13T18:01:44.092Z"
   },
   {
    "duration": 42,
    "start_time": "2022-03-13T18:01:44.643Z"
   },
   {
    "duration": 40,
    "start_time": "2022-03-13T18:01:45.398Z"
   },
   {
    "duration": 7455,
    "start_time": "2022-03-13T18:02:07.029Z"
   },
   {
    "duration": 351,
    "start_time": "2022-03-13T18:02:22.907Z"
   },
   {
    "duration": 4,
    "start_time": "2022-03-13T18:03:21.602Z"
   },
   {
    "duration": 42,
    "start_time": "2022-03-13T18:03:22.092Z"
   },
   {
    "duration": 8,
    "start_time": "2022-03-13T18:03:22.729Z"
   },
   {
    "duration": 382,
    "start_time": "2022-03-13T18:03:25.868Z"
   },
   {
    "duration": 1441,
    "start_time": "2022-03-13T18:11:08.370Z"
   },
   {
    "duration": 44,
    "start_time": "2022-03-13T18:11:09.814Z"
   },
   {
    "duration": 10,
    "start_time": "2022-03-13T18:11:09.860Z"
   },
   {
    "duration": 342,
    "start_time": "2022-03-13T18:11:09.872Z"
   },
   {
    "duration": 361,
    "start_time": "2022-03-13T18:11:10.215Z"
   },
   {
    "duration": 15,
    "start_time": "2022-03-13T18:11:10.578Z"
   },
   {
    "duration": 20,
    "start_time": "2022-03-13T18:11:10.605Z"
   },
   {
    "duration": 82,
    "start_time": "2022-03-13T18:11:10.627Z"
   },
   {
    "duration": 193,
    "start_time": "2022-03-13T18:11:10.712Z"
   },
   {
    "duration": 400,
    "start_time": "2022-03-13T18:11:10.908Z"
   },
   {
    "duration": -92,
    "start_time": "2022-03-13T18:11:11.402Z"
   },
   {
    "duration": 1195,
    "start_time": "2022-03-13T18:12:58.351Z"
   },
   {
    "duration": 55,
    "start_time": "2022-03-13T18:12:59.548Z"
   },
   {
    "duration": 10,
    "start_time": "2022-03-13T18:12:59.606Z"
   },
   {
    "duration": 439,
    "start_time": "2022-03-13T18:12:59.618Z"
   },
   {
    "duration": 533,
    "start_time": "2022-03-13T18:13:00.059Z"
   },
   {
    "duration": 25,
    "start_time": "2022-03-13T18:13:00.594Z"
   },
   {
    "duration": 26,
    "start_time": "2022-03-13T18:13:00.621Z"
   },
   {
    "duration": 10,
    "start_time": "2022-03-13T18:13:00.650Z"
   },
   {
    "duration": 150,
    "start_time": "2022-03-13T18:13:00.662Z"
   },
   {
    "duration": 89206,
    "start_time": "2022-03-13T18:13:00.814Z"
   },
   {
    "duration": 36798,
    "start_time": "2022-03-13T18:14:30.022Z"
   },
   {
    "duration": 13,
    "start_time": "2022-03-13T18:17:23.617Z"
   },
   {
    "duration": 11,
    "start_time": "2022-03-13T18:17:30.196Z"
   },
   {
    "duration": 19826,
    "start_time": "2022-03-13T18:17:33.099Z"
   },
   {
    "duration": 8962,
    "start_time": "2022-03-13T18:18:02.060Z"
   },
   {
    "duration": 61941,
    "start_time": "2022-03-13T18:26:05.573Z"
   },
   {
    "duration": 11205,
    "start_time": "2022-03-13T18:27:27.717Z"
   },
   {
    "duration": 10876,
    "start_time": "2022-03-13T18:27:58.913Z"
   },
   {
    "duration": 10361,
    "start_time": "2022-03-13T18:28:43.445Z"
   },
   {
    "duration": 1957,
    "start_time": "2022-03-18T09:07:42.062Z"
   },
   {
    "duration": 94,
    "start_time": "2022-03-18T09:07:44.022Z"
   },
   {
    "duration": 13,
    "start_time": "2022-03-18T09:07:44.118Z"
   },
   {
    "duration": 269,
    "start_time": "2022-03-18T09:07:44.133Z"
   },
   {
    "duration": 389,
    "start_time": "2022-03-18T09:07:44.404Z"
   },
   {
    "duration": 14,
    "start_time": "2022-03-18T09:07:44.795Z"
   },
   {
    "duration": 23,
    "start_time": "2022-03-18T09:07:44.811Z"
   },
   {
    "duration": 34,
    "start_time": "2022-03-18T09:07:44.836Z"
   },
   {
    "duration": 192,
    "start_time": "2022-03-18T09:07:44.872Z"
   },
   {
    "duration": 600,
    "start_time": "2022-03-18T09:07:45.066Z"
   },
   {
    "duration": 1843,
    "start_time": "2022-03-18T09:07:45.668Z"
   },
   {
    "duration": 1709,
    "start_time": "2022-03-18T09:34:16.627Z"
   },
   {
    "duration": 41,
    "start_time": "2022-03-18T09:34:18.339Z"
   },
   {
    "duration": 13,
    "start_time": "2022-03-18T09:34:18.382Z"
   },
   {
    "duration": 295,
    "start_time": "2022-03-18T09:34:18.397Z"
   },
   {
    "duration": 374,
    "start_time": "2022-03-18T09:34:18.695Z"
   },
   {
    "duration": 15,
    "start_time": "2022-03-18T09:34:19.071Z"
   },
   {
    "duration": 22,
    "start_time": "2022-03-18T09:34:19.087Z"
   },
   {
    "duration": 9,
    "start_time": "2022-03-18T09:34:19.111Z"
   },
   {
    "duration": 45,
    "start_time": "2022-03-18T09:34:19.122Z"
   },
   {
    "duration": 157,
    "start_time": "2022-03-18T09:34:19.169Z"
   },
   {
    "duration": 0,
    "start_time": "2022-03-18T09:34:19.328Z"
   },
   {
    "duration": 0,
    "start_time": "2022-03-18T09:34:19.363Z"
   },
   {
    "duration": 0,
    "start_time": "2022-03-18T09:34:19.364Z"
   },
   {
    "duration": 0,
    "start_time": "2022-03-18T09:34:19.365Z"
   },
   {
    "duration": 0,
    "start_time": "2022-03-18T09:34:19.367Z"
   },
   {
    "duration": 0,
    "start_time": "2022-03-18T09:34:19.368Z"
   },
   {
    "duration": 0,
    "start_time": "2022-03-18T09:34:19.369Z"
   },
   {
    "duration": 1576,
    "start_time": "2022-03-18T09:34:48.700Z"
   },
   {
    "duration": 42,
    "start_time": "2022-03-18T09:34:50.278Z"
   },
   {
    "duration": 11,
    "start_time": "2022-03-18T09:34:50.322Z"
   },
   {
    "duration": 278,
    "start_time": "2022-03-18T09:34:50.335Z"
   },
   {
    "duration": 372,
    "start_time": "2022-03-18T09:34:50.615Z"
   },
   {
    "duration": 15,
    "start_time": "2022-03-18T09:34:50.989Z"
   },
   {
    "duration": 24,
    "start_time": "2022-03-18T09:34:51.006Z"
   },
   {
    "duration": 40,
    "start_time": "2022-03-18T09:34:51.032Z"
   },
   {
    "duration": 27,
    "start_time": "2022-03-18T09:34:51.074Z"
   },
   {
    "duration": 260,
    "start_time": "2022-03-18T09:34:51.104Z"
   },
   {
    "duration": 0,
    "start_time": "2022-03-18T09:34:51.366Z"
   },
   {
    "duration": 0,
    "start_time": "2022-03-18T09:34:51.368Z"
   },
   {
    "duration": 0,
    "start_time": "2022-03-18T09:34:51.369Z"
   },
   {
    "duration": 0,
    "start_time": "2022-03-18T09:34:51.370Z"
   },
   {
    "duration": 0,
    "start_time": "2022-03-18T09:34:51.372Z"
   },
   {
    "duration": 0,
    "start_time": "2022-03-18T09:34:51.373Z"
   },
   {
    "duration": 0,
    "start_time": "2022-03-18T09:34:51.375Z"
   },
   {
    "duration": 3,
    "start_time": "2022-03-18T09:42:34.014Z"
   },
   {
    "duration": 1594,
    "start_time": "2022-03-18T09:42:48.347Z"
   },
   {
    "duration": 37,
    "start_time": "2022-03-18T09:42:49.943Z"
   },
   {
    "duration": 11,
    "start_time": "2022-03-18T09:42:49.982Z"
   },
   {
    "duration": 277,
    "start_time": "2022-03-18T09:42:49.995Z"
   },
   {
    "duration": 357,
    "start_time": "2022-03-18T09:42:50.275Z"
   },
   {
    "duration": 14,
    "start_time": "2022-03-18T09:42:50.633Z"
   },
   {
    "duration": 33,
    "start_time": "2022-03-18T09:42:50.649Z"
   },
   {
    "duration": 10,
    "start_time": "2022-03-18T09:42:50.684Z"
   },
   {
    "duration": 72,
    "start_time": "2022-03-18T09:42:50.696Z"
   },
   {
    "duration": 207,
    "start_time": "2022-03-18T09:42:50.771Z"
   },
   {
    "duration": 0,
    "start_time": "2022-03-18T09:42:50.980Z"
   },
   {
    "duration": 0,
    "start_time": "2022-03-18T09:42:50.981Z"
   },
   {
    "duration": 0,
    "start_time": "2022-03-18T09:42:50.982Z"
   },
   {
    "duration": 0,
    "start_time": "2022-03-18T09:42:50.983Z"
   },
   {
    "duration": 0,
    "start_time": "2022-03-18T09:42:50.984Z"
   },
   {
    "duration": 0,
    "start_time": "2022-03-18T09:42:50.985Z"
   },
   {
    "duration": 0,
    "start_time": "2022-03-18T09:42:50.986Z"
   },
   {
    "duration": 1594,
    "start_time": "2022-03-18T09:43:25.735Z"
   },
   {
    "duration": 49,
    "start_time": "2022-03-18T09:43:27.331Z"
   },
   {
    "duration": 17,
    "start_time": "2022-03-18T09:43:27.383Z"
   },
   {
    "duration": 278,
    "start_time": "2022-03-18T09:43:27.403Z"
   },
   {
    "duration": 505,
    "start_time": "2022-03-18T09:43:27.683Z"
   },
   {
    "duration": 19,
    "start_time": "2022-03-18T09:43:28.190Z"
   },
   {
    "duration": 53,
    "start_time": "2022-03-18T09:43:28.211Z"
   },
   {
    "duration": 15,
    "start_time": "2022-03-18T09:43:28.266Z"
   },
   {
    "duration": 85,
    "start_time": "2022-03-18T09:43:28.283Z"
   },
   {
    "duration": 470,
    "start_time": "2022-03-18T09:43:28.372Z"
   },
   {
    "duration": 0,
    "start_time": "2022-03-18T09:43:28.844Z"
   },
   {
    "duration": 0,
    "start_time": "2022-03-18T09:43:28.845Z"
   },
   {
    "duration": 0,
    "start_time": "2022-03-18T09:43:28.846Z"
   },
   {
    "duration": 0,
    "start_time": "2022-03-18T09:43:28.847Z"
   },
   {
    "duration": 0,
    "start_time": "2022-03-18T09:43:28.847Z"
   },
   {
    "duration": 0,
    "start_time": "2022-03-18T09:43:28.848Z"
   },
   {
    "duration": 0,
    "start_time": "2022-03-18T09:43:28.849Z"
   },
   {
    "duration": 1631,
    "start_time": "2022-03-18T09:44:20.716Z"
   },
   {
    "duration": 38,
    "start_time": "2022-03-18T09:44:22.349Z"
   },
   {
    "duration": 12,
    "start_time": "2022-03-18T09:44:22.388Z"
   },
   {
    "duration": 283,
    "start_time": "2022-03-18T09:44:22.402Z"
   },
   {
    "duration": 387,
    "start_time": "2022-03-18T09:44:22.688Z"
   },
   {
    "duration": 14,
    "start_time": "2022-03-18T09:44:23.077Z"
   },
   {
    "duration": 22,
    "start_time": "2022-03-18T09:44:23.093Z"
   },
   {
    "duration": 9,
    "start_time": "2022-03-18T09:44:23.117Z"
   },
   {
    "duration": 137,
    "start_time": "2022-03-18T09:44:23.128Z"
   },
   {
    "duration": 1633,
    "start_time": "2022-03-18T09:44:58.325Z"
   },
   {
    "duration": 36,
    "start_time": "2022-03-18T09:44:59.960Z"
   },
   {
    "duration": 13,
    "start_time": "2022-03-18T09:44:59.998Z"
   },
   {
    "duration": 295,
    "start_time": "2022-03-18T09:45:00.013Z"
   },
   {
    "duration": 380,
    "start_time": "2022-03-18T09:45:00.310Z"
   },
   {
    "duration": 13,
    "start_time": "2022-03-18T09:45:00.692Z"
   },
   {
    "duration": 32,
    "start_time": "2022-03-18T09:45:00.708Z"
   },
   {
    "duration": 25,
    "start_time": "2022-03-18T09:45:00.742Z"
   },
   {
    "duration": 100,
    "start_time": "2022-03-18T09:45:00.768Z"
   },
   {
    "duration": 44297,
    "start_time": "2022-03-18T09:45:00.871Z"
   },
   {
    "duration": 4,
    "start_time": "2022-03-18T09:45:45.169Z"
   },
   {
    "duration": 6,
    "start_time": "2022-03-18T09:45:45.174Z"
   },
   {
    "duration": 128,
    "start_time": "2022-03-18T09:45:45.182Z"
   },
   {
    "duration": 0,
    "start_time": "2022-03-18T09:45:45.312Z"
   },
   {
    "duration": 0,
    "start_time": "2022-03-18T09:45:45.313Z"
   },
   {
    "duration": 0,
    "start_time": "2022-03-18T09:45:45.314Z"
   },
   {
    "duration": 0,
    "start_time": "2022-03-18T09:45:45.315Z"
   },
   {
    "duration": 15,
    "start_time": "2022-03-18T09:46:39.760Z"
   },
   {
    "duration": 1609,
    "start_time": "2022-03-18T09:49:56.790Z"
   },
   {
    "duration": 43,
    "start_time": "2022-03-18T09:49:58.401Z"
   },
   {
    "duration": 12,
    "start_time": "2022-03-18T09:49:58.445Z"
   },
   {
    "duration": 272,
    "start_time": "2022-03-18T09:49:58.463Z"
   },
   {
    "duration": 363,
    "start_time": "2022-03-18T09:49:58.738Z"
   },
   {
    "duration": 12,
    "start_time": "2022-03-18T09:49:59.103Z"
   },
   {
    "duration": 40,
    "start_time": "2022-03-18T09:49:59.117Z"
   },
   {
    "duration": 9,
    "start_time": "2022-03-18T09:49:59.160Z"
   },
   {
    "duration": 94,
    "start_time": "2022-03-18T09:49:59.171Z"
   },
   {
    "duration": 341897,
    "start_time": "2022-03-18T09:49:59.267Z"
   },
   {
    "duration": 4,
    "start_time": "2022-03-18T09:55:41.165Z"
   },
   {
    "duration": 6,
    "start_time": "2022-03-18T09:55:41.171Z"
   },
   {
    "duration": 91,
    "start_time": "2022-03-18T09:55:41.179Z"
   },
   {
    "duration": 163,
    "start_time": "2022-03-18T09:55:41.273Z"
   },
   {
    "duration": 0,
    "start_time": "2022-03-18T09:55:41.438Z"
   },
   {
    "duration": 0,
    "start_time": "2022-03-18T09:55:41.440Z"
   },
   {
    "duration": 0,
    "start_time": "2022-03-18T09:55:41.441Z"
   },
   {
    "duration": 0,
    "start_time": "2022-03-18T09:55:41.443Z"
   },
   {
    "duration": 59781,
    "start_time": "2022-03-18T09:58:22.596Z"
   },
   {
    "duration": 4,
    "start_time": "2022-03-18T09:59:22.379Z"
   },
   {
    "duration": 7,
    "start_time": "2022-03-18T09:59:22.385Z"
   },
   {
    "duration": 13,
    "start_time": "2022-03-18T09:59:22.394Z"
   },
   {
    "duration": 3,
    "start_time": "2022-03-18T10:47:23.648Z"
   },
   {
    "duration": 9,
    "start_time": "2022-03-18T10:47:24.466Z"
   },
   {
    "duration": 1613,
    "start_time": "2022-03-18T10:50:14.327Z"
   },
   {
    "duration": 38,
    "start_time": "2022-03-18T10:50:15.943Z"
   },
   {
    "duration": 12,
    "start_time": "2022-03-18T10:50:15.982Z"
   },
   {
    "duration": 279,
    "start_time": "2022-03-18T10:50:15.996Z"
   },
   {
    "duration": 370,
    "start_time": "2022-03-18T10:50:16.278Z"
   },
   {
    "duration": 23,
    "start_time": "2022-03-18T10:50:16.650Z"
   },
   {
    "duration": 22,
    "start_time": "2022-03-18T10:50:16.675Z"
   },
   {
    "duration": 9,
    "start_time": "2022-03-18T10:50:16.699Z"
   },
   {
    "duration": 157,
    "start_time": "2022-03-18T10:50:16.709Z"
   },
   {
    "duration": 43096,
    "start_time": "2022-03-18T10:50:16.868Z"
   },
   {
    "duration": 4,
    "start_time": "2022-03-18T10:50:59.966Z"
   },
   {
    "duration": 7,
    "start_time": "2022-03-18T10:50:59.971Z"
   },
   {
    "duration": 92,
    "start_time": "2022-03-18T10:50:59.979Z"
   },
   {
    "duration": 58024,
    "start_time": "2022-03-18T10:51:00.074Z"
   },
   {
    "duration": 136,
    "start_time": "2022-03-18T10:51:58.100Z"
   },
   {
    "duration": 0,
    "start_time": "2022-03-18T10:51:58.238Z"
   },
   {
    "duration": 0,
    "start_time": "2022-03-18T10:51:58.239Z"
   },
   {
    "duration": 0,
    "start_time": "2022-03-18T10:51:58.240Z"
   },
   {
    "duration": 0,
    "start_time": "2022-03-18T10:51:58.241Z"
   },
   {
    "duration": 0,
    "start_time": "2022-03-18T10:51:58.243Z"
   },
   {
    "duration": 3,
    "start_time": "2022-03-18T10:53:30.984Z"
   },
   {
    "duration": 4,
    "start_time": "2022-03-18T10:53:33.537Z"
   },
   {
    "duration": 12,
    "start_time": "2022-03-18T10:53:35.039Z"
   },
   {
    "duration": 3,
    "start_time": "2022-03-18T10:54:42.513Z"
   },
   {
    "duration": 9,
    "start_time": "2022-03-18T10:54:43.074Z"
   },
   {
    "duration": 1728,
    "start_time": "2022-03-18T10:55:16.981Z"
   },
   {
    "duration": 43,
    "start_time": "2022-03-18T10:55:18.711Z"
   },
   {
    "duration": 11,
    "start_time": "2022-03-18T10:55:18.756Z"
   },
   {
    "duration": 275,
    "start_time": "2022-03-18T10:55:18.769Z"
   },
   {
    "duration": 371,
    "start_time": "2022-03-18T10:55:19.046Z"
   },
   {
    "duration": 13,
    "start_time": "2022-03-18T10:55:19.419Z"
   },
   {
    "duration": 39,
    "start_time": "2022-03-18T10:55:19.434Z"
   },
   {
    "duration": 9,
    "start_time": "2022-03-18T10:55:19.475Z"
   },
   {
    "duration": 82,
    "start_time": "2022-03-18T10:55:19.486Z"
   },
   {
    "duration": 43301,
    "start_time": "2022-03-18T10:55:19.570Z"
   },
   {
    "duration": 4,
    "start_time": "2022-03-18T10:56:02.873Z"
   },
   {
    "duration": 109,
    "start_time": "2022-03-18T10:56:02.879Z"
   },
   {
    "duration": 57422,
    "start_time": "2022-03-18T10:56:03.064Z"
   },
   {
    "duration": 4,
    "start_time": "2022-03-18T10:57:00.489Z"
   },
   {
    "duration": 20,
    "start_time": "2022-03-18T10:57:00.494Z"
   },
   {
    "duration": 3,
    "start_time": "2022-03-18T10:57:00.516Z"
   },
   {
    "duration": 17,
    "start_time": "2022-03-18T10:57:00.521Z"
   },
   {
    "duration": 2109,
    "start_time": "2022-03-20T12:31:36.532Z"
   },
   {
    "duration": 1939,
    "start_time": "2022-03-20T12:33:07.967Z"
   },
   {
    "duration": 100,
    "start_time": "2022-03-20T12:33:09.908Z"
   },
   {
    "duration": 14,
    "start_time": "2022-03-20T12:33:10.009Z"
   },
   {
    "duration": 275,
    "start_time": "2022-03-20T12:33:10.025Z"
   },
   {
    "duration": 129,
    "start_time": "2022-03-20T12:33:10.303Z"
   },
   {
    "duration": 0,
    "start_time": "2022-03-20T12:33:10.434Z"
   },
   {
    "duration": 0,
    "start_time": "2022-03-20T12:33:10.435Z"
   },
   {
    "duration": 0,
    "start_time": "2022-03-20T12:33:10.436Z"
   },
   {
    "duration": 0,
    "start_time": "2022-03-20T12:33:10.437Z"
   },
   {
    "duration": 0,
    "start_time": "2022-03-20T12:33:10.438Z"
   },
   {
    "duration": 0,
    "start_time": "2022-03-20T12:33:10.439Z"
   },
   {
    "duration": 0,
    "start_time": "2022-03-20T12:33:10.440Z"
   },
   {
    "duration": 0,
    "start_time": "2022-03-20T12:33:10.441Z"
   },
   {
    "duration": 0,
    "start_time": "2022-03-20T12:33:10.442Z"
   },
   {
    "duration": 0,
    "start_time": "2022-03-20T12:33:10.443Z"
   },
   {
    "duration": 0,
    "start_time": "2022-03-20T12:33:10.445Z"
   },
   {
    "duration": 0,
    "start_time": "2022-03-20T12:33:10.463Z"
   },
   {
    "duration": 0,
    "start_time": "2022-03-20T12:33:10.464Z"
   },
   {
    "duration": 337,
    "start_time": "2022-03-20T12:33:30.378Z"
   },
   {
    "duration": 140,
    "start_time": "2022-03-20T12:33:41.842Z"
   },
   {
    "duration": 139,
    "start_time": "2022-03-20T12:33:45.321Z"
   },
   {
    "duration": 263,
    "start_time": "2022-03-20T12:34:01.571Z"
   },
   {
    "duration": 262,
    "start_time": "2022-03-20T12:34:26.500Z"
   },
   {
    "duration": 250,
    "start_time": "2022-03-20T12:34:42.789Z"
   },
   {
    "duration": 14,
    "start_time": "2022-03-20T12:36:21.127Z"
   },
   {
    "duration": 13,
    "start_time": "2022-03-20T12:36:23.042Z"
   },
   {
    "duration": 1962,
    "start_time": "2022-03-20T12:36:29.242Z"
   },
   {
    "duration": 42,
    "start_time": "2022-03-20T12:36:31.206Z"
   },
   {
    "duration": 18,
    "start_time": "2022-03-20T12:36:31.250Z"
   },
   {
    "duration": 702,
    "start_time": "2022-03-20T12:36:31.269Z"
   },
   {
    "duration": 516,
    "start_time": "2022-03-20T12:36:31.973Z"
   },
   {
    "duration": 461,
    "start_time": "2022-03-20T12:36:32.491Z"
   },
   {
    "duration": 24,
    "start_time": "2022-03-20T12:36:32.954Z"
   },
   {
    "duration": 36,
    "start_time": "2022-03-20T12:36:32.981Z"
   },
   {
    "duration": 14,
    "start_time": "2022-03-20T12:36:33.020Z"
   },
   {
    "duration": 128,
    "start_time": "2022-03-20T12:36:33.036Z"
   },
   {
    "duration": 1671,
    "start_time": "2022-03-20T12:37:04.752Z"
   },
   {
    "duration": 40,
    "start_time": "2022-03-20T12:37:06.426Z"
   },
   {
    "duration": 14,
    "start_time": "2022-03-20T12:37:06.467Z"
   },
   {
    "duration": 796,
    "start_time": "2022-03-20T12:37:09.887Z"
   },
   {
    "duration": 901,
    "start_time": "2022-03-20T12:37:19.797Z"
   },
   {
    "duration": 224,
    "start_time": "2022-03-20T12:38:34.609Z"
   },
   {
    "duration": 210,
    "start_time": "2022-03-20T12:39:05.104Z"
   },
   {
    "duration": 213,
    "start_time": "2022-03-20T12:39:09.984Z"
   },
   {
    "duration": 351,
    "start_time": "2022-03-20T12:39:16.540Z"
   },
   {
    "duration": 300,
    "start_time": "2022-03-20T12:39:24.122Z"
   },
   {
    "duration": 259,
    "start_time": "2022-03-20T12:40:43.052Z"
   },
   {
    "duration": 359,
    "start_time": "2022-03-20T12:40:52.183Z"
   },
   {
    "duration": 366,
    "start_time": "2022-03-20T12:40:55.725Z"
   },
   {
    "duration": 252,
    "start_time": "2022-03-20T12:42:06.044Z"
   },
   {
    "duration": 4,
    "start_time": "2022-03-20T13:45:25.405Z"
   },
   {
    "duration": 2,
    "start_time": "2022-03-20T13:47:31.896Z"
   },
   {
    "duration": 115,
    "start_time": "2022-03-20T13:47:34.083Z"
   },
   {
    "duration": 1653,
    "start_time": "2022-03-20T13:48:00.794Z"
   },
   {
    "duration": 98,
    "start_time": "2022-03-20T13:48:02.449Z"
   },
   {
    "duration": 12,
    "start_time": "2022-03-20T13:48:02.549Z"
   },
   {
    "duration": 336,
    "start_time": "2022-03-20T13:48:02.563Z"
   },
   {
    "duration": 897,
    "start_time": "2022-03-20T13:48:02.902Z"
   },
   {
    "duration": 15,
    "start_time": "2022-03-20T13:48:03.801Z"
   },
   {
    "duration": 19,
    "start_time": "2022-03-20T13:48:03.817Z"
   },
   {
    "duration": 32,
    "start_time": "2022-03-20T13:48:03.837Z"
   },
   {
    "duration": 15,
    "start_time": "2022-03-20T13:48:03.870Z"
   },
   {
    "duration": 8,
    "start_time": "2022-03-20T13:48:03.963Z"
   },
   {
    "duration": 254199,
    "start_time": "2022-03-20T13:48:03.973Z"
   },
   {
    "duration": 4,
    "start_time": "2022-03-20T13:52:18.174Z"
   },
   {
    "duration": 90,
    "start_time": "2022-03-20T13:52:18.180Z"
   },
   {
    "duration": 51684,
    "start_time": "2022-03-20T13:52:18.272Z"
   },
   {
    "duration": 4,
    "start_time": "2022-03-20T13:53:09.958Z"
   },
   {
    "duration": 13,
    "start_time": "2022-03-20T13:53:09.963Z"
   },
   {
    "duration": 3,
    "start_time": "2022-03-20T13:53:09.978Z"
   },
   {
    "duration": 11,
    "start_time": "2022-03-20T13:53:09.982Z"
   },
   {
    "duration": 8,
    "start_time": "2022-03-20T14:00:49.375Z"
   },
   {
    "duration": 19,
    "start_time": "2022-03-20T14:00:51.816Z"
   },
   {
    "duration": 10,
    "start_time": "2022-03-20T14:00:55.131Z"
   },
   {
    "duration": 93,
    "start_time": "2022-03-20T14:00:57.775Z"
   },
   {
    "duration": 9,
    "start_time": "2022-03-20T14:01:04.225Z"
   },
   {
    "duration": 10,
    "start_time": "2022-03-20T14:01:06.515Z"
   },
   {
    "duration": 16,
    "start_time": "2022-03-20T14:01:08.655Z"
   },
   {
    "duration": 14,
    "start_time": "2022-03-20T14:01:14.553Z"
   },
   {
    "duration": 28,
    "start_time": "2022-03-20T14:01:15.536Z"
   },
   {
    "duration": 10,
    "start_time": "2022-03-20T14:01:18.343Z"
   },
   {
    "duration": 24,
    "start_time": "2022-03-20T14:01:20.653Z"
   },
   {
    "duration": 2,
    "start_time": "2022-03-20T14:01:23.168Z"
   },
   {
    "duration": 108,
    "start_time": "2022-03-20T14:01:23.642Z"
   },
   {
    "duration": 1631,
    "start_time": "2022-03-20T14:01:38.516Z"
   },
   {
    "duration": 41,
    "start_time": "2022-03-20T14:01:40.149Z"
   },
   {
    "duration": 13,
    "start_time": "2022-03-20T14:01:40.192Z"
   },
   {
    "duration": 399,
    "start_time": "2022-03-20T14:01:40.208Z"
   },
   {
    "duration": 905,
    "start_time": "2022-03-20T14:01:40.609Z"
   },
   {
    "duration": 18,
    "start_time": "2022-03-20T14:01:41.516Z"
   },
   {
    "duration": 52,
    "start_time": "2022-03-20T14:01:41.536Z"
   },
   {
    "duration": 33,
    "start_time": "2022-03-20T14:01:41.590Z"
   },
   {
    "duration": 38,
    "start_time": "2022-03-20T14:01:41.625Z"
   },
   {
    "duration": 197,
    "start_time": "2022-03-20T14:01:41.667Z"
   },
   {
    "duration": 294712,
    "start_time": "2022-03-20T14:01:41.866Z"
   },
   {
    "duration": 0,
    "start_time": "2022-03-20T14:06:36.580Z"
   },
   {
    "duration": 0,
    "start_time": "2022-03-20T14:06:36.581Z"
   },
   {
    "duration": 0,
    "start_time": "2022-03-20T14:06:36.582Z"
   },
   {
    "duration": 1,
    "start_time": "2022-03-20T14:06:36.583Z"
   },
   {
    "duration": 0,
    "start_time": "2022-03-20T14:06:36.585Z"
   },
   {
    "duration": 0,
    "start_time": "2022-03-20T14:06:36.586Z"
   },
   {
    "duration": 0,
    "start_time": "2022-03-20T14:06:36.588Z"
   },
   {
    "duration": 0,
    "start_time": "2022-03-20T14:06:36.589Z"
   },
   {
    "duration": 3,
    "start_time": "2022-03-20T14:06:37.984Z"
   },
   {
    "duration": 9,
    "start_time": "2022-03-20T14:06:39.603Z"
   },
   {
    "duration": 1832,
    "start_time": "2022-03-20T14:08:25.775Z"
   },
   {
    "duration": 40,
    "start_time": "2022-03-20T14:08:27.609Z"
   },
   {
    "duration": 18,
    "start_time": "2022-03-20T14:08:27.650Z"
   },
   {
    "duration": 533,
    "start_time": "2022-03-20T14:08:27.670Z"
   },
   {
    "duration": 947,
    "start_time": "2022-03-20T14:08:28.207Z"
   },
   {
    "duration": 13,
    "start_time": "2022-03-20T14:08:29.156Z"
   },
   {
    "duration": 18,
    "start_time": "2022-03-20T14:08:29.171Z"
   },
   {
    "duration": 9,
    "start_time": "2022-03-20T14:08:29.190Z"
   },
   {
    "duration": 66,
    "start_time": "2022-03-20T14:08:29.201Z"
   },
   {
    "duration": 100,
    "start_time": "2022-03-20T14:08:29.269Z"
   },
   {
    "duration": 261678,
    "start_time": "2022-03-20T14:08:29.371Z"
   },
   {
    "duration": 0,
    "start_time": "2022-03-20T14:12:51.051Z"
   },
   {
    "duration": 0,
    "start_time": "2022-03-20T14:12:51.052Z"
   },
   {
    "duration": 0,
    "start_time": "2022-03-20T14:12:51.053Z"
   },
   {
    "duration": 0,
    "start_time": "2022-03-20T14:12:51.055Z"
   },
   {
    "duration": 0,
    "start_time": "2022-03-20T14:12:51.062Z"
   },
   {
    "duration": 0,
    "start_time": "2022-03-20T14:12:51.063Z"
   },
   {
    "duration": 0,
    "start_time": "2022-03-20T14:12:51.065Z"
   },
   {
    "duration": 0,
    "start_time": "2022-03-20T14:12:51.066Z"
   },
   {
    "duration": 1653,
    "start_time": "2022-03-20T14:13:09.936Z"
   },
   {
    "duration": 38,
    "start_time": "2022-03-20T14:13:11.592Z"
   },
   {
    "duration": 11,
    "start_time": "2022-03-20T14:13:11.631Z"
   },
   {
    "duration": 359,
    "start_time": "2022-03-20T14:13:11.644Z"
   },
   {
    "duration": 945,
    "start_time": "2022-03-20T14:13:12.006Z"
   },
   {
    "duration": 15,
    "start_time": "2022-03-20T14:13:12.953Z"
   },
   {
    "duration": 18,
    "start_time": "2022-03-20T14:13:12.969Z"
   },
   {
    "duration": 10,
    "start_time": "2022-03-20T14:13:12.988Z"
   },
   {
    "duration": 64,
    "start_time": "2022-03-20T14:13:13.000Z"
   },
   {
    "duration": 4,
    "start_time": "2022-03-20T14:13:13.074Z"
   },
   {
    "duration": 259714,
    "start_time": "2022-03-20T14:13:13.164Z"
   },
   {
    "duration": 4,
    "start_time": "2022-03-20T14:17:32.880Z"
   },
   {
    "duration": 187,
    "start_time": "2022-03-20T14:17:32.886Z"
   },
   {
    "duration": 32107,
    "start_time": "2022-03-20T14:17:33.077Z"
   },
   {
    "duration": 4,
    "start_time": "2022-03-20T14:18:05.186Z"
   },
   {
    "duration": 11,
    "start_time": "2022-03-20T14:18:05.192Z"
   },
   {
    "duration": 3,
    "start_time": "2022-03-20T14:18:05.205Z"
   },
   {
    "duration": 11,
    "start_time": "2022-03-20T14:18:05.210Z"
   },
   {
    "duration": 108,
    "start_time": "2022-03-20T14:18:05.222Z"
   },
   {
    "duration": 1665,
    "start_time": "2022-03-20T14:19:04.021Z"
   },
   {
    "duration": 42,
    "start_time": "2022-03-20T14:19:05.688Z"
   },
   {
    "duration": 11,
    "start_time": "2022-03-20T14:19:05.732Z"
   },
   {
    "duration": 346,
    "start_time": "2022-03-20T14:19:05.745Z"
   },
   {
    "duration": 892,
    "start_time": "2022-03-20T14:19:06.093Z"
   },
   {
    "duration": 14,
    "start_time": "2022-03-20T14:19:06.987Z"
   },
   {
    "duration": 20,
    "start_time": "2022-03-20T14:19:07.003Z"
   },
   {
    "duration": 38,
    "start_time": "2022-03-20T14:19:07.025Z"
   },
   {
    "duration": 17,
    "start_time": "2022-03-20T14:19:07.064Z"
   },
   {
    "duration": 206,
    "start_time": "2022-03-20T14:19:07.165Z"
   },
   {
    "duration": 0,
    "start_time": "2022-03-20T14:19:07.373Z"
   },
   {
    "duration": 0,
    "start_time": "2022-03-20T14:19:07.374Z"
   },
   {
    "duration": 0,
    "start_time": "2022-03-20T14:19:07.375Z"
   },
   {
    "duration": 0,
    "start_time": "2022-03-20T14:19:07.377Z"
   },
   {
    "duration": 0,
    "start_time": "2022-03-20T14:19:07.377Z"
   },
   {
    "duration": 0,
    "start_time": "2022-03-20T14:19:07.378Z"
   },
   {
    "duration": 0,
    "start_time": "2022-03-20T14:19:07.380Z"
   },
   {
    "duration": 0,
    "start_time": "2022-03-20T14:19:07.381Z"
   },
   {
    "duration": 0,
    "start_time": "2022-03-20T14:19:07.382Z"
   },
   {
    "duration": 1564,
    "start_time": "2022-03-20T14:19:35.010Z"
   },
   {
    "duration": 39,
    "start_time": "2022-03-20T14:19:36.576Z"
   },
   {
    "duration": 12,
    "start_time": "2022-03-20T14:19:36.617Z"
   },
   {
    "duration": 348,
    "start_time": "2022-03-20T14:19:36.631Z"
   },
   {
    "duration": 997,
    "start_time": "2022-03-20T14:19:36.982Z"
   },
   {
    "duration": 16,
    "start_time": "2022-03-20T14:19:37.981Z"
   },
   {
    "duration": 18,
    "start_time": "2022-03-20T14:19:37.999Z"
   },
   {
    "duration": 10,
    "start_time": "2022-03-20T14:19:38.019Z"
   },
   {
    "duration": 46,
    "start_time": "2022-03-20T14:19:38.031Z"
   },
   {
    "duration": 99,
    "start_time": "2022-03-20T14:19:38.163Z"
   },
   {
    "duration": 1625,
    "start_time": "2022-03-20T14:20:19.338Z"
   },
   {
    "duration": 37,
    "start_time": "2022-03-20T14:20:20.965Z"
   },
   {
    "duration": 12,
    "start_time": "2022-03-20T14:20:21.004Z"
   },
   {
    "duration": 392,
    "start_time": "2022-03-20T14:20:21.017Z"
   },
   {
    "duration": 904,
    "start_time": "2022-03-20T14:20:21.412Z"
   },
   {
    "duration": 14,
    "start_time": "2022-03-20T14:20:22.318Z"
   },
   {
    "duration": 38,
    "start_time": "2022-03-20T14:20:22.333Z"
   },
   {
    "duration": 12,
    "start_time": "2022-03-20T14:20:22.373Z"
   },
   {
    "duration": 81,
    "start_time": "2022-03-20T14:20:22.387Z"
   },
   {
    "duration": 4,
    "start_time": "2022-03-20T14:20:22.470Z"
   },
   {
    "duration": 27203,
    "start_time": "2022-03-20T14:20:22.475Z"
   },
   {
    "duration": 4,
    "start_time": "2022-03-20T14:20:49.680Z"
   },
   {
    "duration": 281,
    "start_time": "2022-03-20T14:20:49.686Z"
   },
   {
    "duration": 26298,
    "start_time": "2022-03-20T14:20:49.969Z"
   },
   {
    "duration": 5,
    "start_time": "2022-03-20T14:21:16.268Z"
   },
   {
    "duration": 15,
    "start_time": "2022-03-20T14:21:16.275Z"
   },
   {
    "duration": 4,
    "start_time": "2022-03-20T14:21:16.292Z"
   },
   {
    "duration": 16,
    "start_time": "2022-03-20T14:21:16.298Z"
   },
   {
    "duration": 138,
    "start_time": "2022-03-20T14:21:16.316Z"
   },
   {
    "duration": 1760,
    "start_time": "2022-03-20T14:21:56.061Z"
   },
   {
    "duration": 42,
    "start_time": "2022-03-20T14:21:57.823Z"
   },
   {
    "duration": 11,
    "start_time": "2022-03-20T14:21:57.867Z"
   },
   {
    "duration": 347,
    "start_time": "2022-03-20T14:21:57.880Z"
   },
   {
    "duration": 1013,
    "start_time": "2022-03-20T14:21:58.229Z"
   },
   {
    "duration": 25,
    "start_time": "2022-03-20T14:21:59.244Z"
   },
   {
    "duration": 18,
    "start_time": "2022-03-20T14:21:59.271Z"
   },
   {
    "duration": 10,
    "start_time": "2022-03-20T14:21:59.291Z"
   },
   {
    "duration": 61,
    "start_time": "2022-03-20T14:21:59.303Z"
   },
   {
    "duration": 100,
    "start_time": "2022-03-20T14:21:59.368Z"
   },
   {
    "duration": 24794,
    "start_time": "2022-03-20T14:21:59.470Z"
   },
   {
    "duration": 4,
    "start_time": "2022-03-20T14:22:24.266Z"
   },
   {
    "duration": 98,
    "start_time": "2022-03-20T14:22:24.272Z"
   },
   {
    "duration": 24969,
    "start_time": "2022-03-20T14:22:24.372Z"
   },
   {
    "duration": 3,
    "start_time": "2022-03-20T14:22:49.343Z"
   },
   {
    "duration": 17,
    "start_time": "2022-03-20T14:22:49.348Z"
   },
   {
    "duration": 16,
    "start_time": "2022-03-20T14:22:49.366Z"
   },
   {
    "duration": 27,
    "start_time": "2022-03-20T14:22:49.383Z"
   },
   {
    "duration": 114,
    "start_time": "2022-03-20T14:22:49.411Z"
   },
   {
    "duration": 1756,
    "start_time": "2022-03-20T14:25:15.258Z"
   },
   {
    "duration": 84,
    "start_time": "2022-03-20T14:25:17.016Z"
   },
   {
    "duration": 12,
    "start_time": "2022-03-20T14:25:17.102Z"
   },
   {
    "duration": 340,
    "start_time": "2022-03-20T14:25:17.115Z"
   },
   {
    "duration": 946,
    "start_time": "2022-03-20T14:25:17.458Z"
   },
   {
    "duration": 16,
    "start_time": "2022-03-20T14:25:18.406Z"
   },
   {
    "duration": 39,
    "start_time": "2022-03-20T14:25:18.424Z"
   },
   {
    "duration": 10,
    "start_time": "2022-03-20T14:25:18.464Z"
   },
   {
    "duration": 16,
    "start_time": "2022-03-20T14:25:18.475Z"
   },
   {
    "duration": 4,
    "start_time": "2022-03-20T14:25:18.565Z"
   },
   {
    "duration": 28393,
    "start_time": "2022-03-20T14:25:18.571Z"
   },
   {
    "duration": 4,
    "start_time": "2022-03-20T14:25:46.966Z"
   },
   {
    "duration": 199,
    "start_time": "2022-03-20T14:25:46.972Z"
   },
   {
    "duration": 30627,
    "start_time": "2022-03-20T14:25:47.173Z"
   },
   {
    "duration": 4,
    "start_time": "2022-03-20T14:26:17.801Z"
   },
   {
    "duration": 13,
    "start_time": "2022-03-20T14:26:17.807Z"
   },
   {
    "duration": 3,
    "start_time": "2022-03-20T14:26:17.822Z"
   },
   {
    "duration": 10,
    "start_time": "2022-03-20T14:26:17.827Z"
   },
   {
    "duration": 104,
    "start_time": "2022-03-20T14:26:17.839Z"
   },
   {
    "duration": 164,
    "start_time": "2022-03-20T14:27:19.831Z"
   },
   {
    "duration": 265,
    "start_time": "2022-03-20T14:27:41.528Z"
   },
   {
    "duration": 1730,
    "start_time": "2022-03-20T14:29:12.869Z"
   },
   {
    "duration": 44,
    "start_time": "2022-03-20T14:29:14.601Z"
   },
   {
    "duration": 16,
    "start_time": "2022-03-20T14:29:14.647Z"
   },
   {
    "duration": 390,
    "start_time": "2022-03-20T14:29:14.665Z"
   },
   {
    "duration": 976,
    "start_time": "2022-03-20T14:29:15.059Z"
   },
   {
    "duration": 34,
    "start_time": "2022-03-20T14:29:16.037Z"
   },
   {
    "duration": 39,
    "start_time": "2022-03-20T14:29:16.073Z"
   },
   {
    "duration": 13,
    "start_time": "2022-03-20T14:29:16.114Z"
   },
   {
    "duration": 135,
    "start_time": "2022-03-20T14:29:16.129Z"
   },
   {
    "duration": 5,
    "start_time": "2022-03-20T14:29:16.266Z"
   },
   {
    "duration": 280703,
    "start_time": "2022-03-20T14:29:16.273Z"
   },
   {
    "duration": 3,
    "start_time": "2022-03-20T14:33:56.978Z"
   },
   {
    "duration": 120,
    "start_time": "2022-03-20T14:33:57.063Z"
   },
   {
    "duration": 33111,
    "start_time": "2022-03-20T14:33:57.185Z"
   },
   {
    "duration": 4,
    "start_time": "2022-03-20T14:34:30.298Z"
   },
   {
    "duration": 18,
    "start_time": "2022-03-20T14:34:30.304Z"
   },
   {
    "duration": 11,
    "start_time": "2022-03-20T14:34:30.324Z"
   },
   {
    "duration": 25,
    "start_time": "2022-03-20T14:34:30.337Z"
   },
   {
    "duration": 274,
    "start_time": "2022-03-20T14:34:30.363Z"
   },
   {
    "duration": 1575,
    "start_time": "2022-03-20T14:35:48.484Z"
   },
   {
    "duration": 39,
    "start_time": "2022-03-20T14:35:50.061Z"
   },
   {
    "duration": 13,
    "start_time": "2022-03-20T14:35:50.101Z"
   },
   {
    "duration": 364,
    "start_time": "2022-03-20T14:35:50.115Z"
   },
   {
    "duration": 934,
    "start_time": "2022-03-20T14:35:50.482Z"
   },
   {
    "duration": 12,
    "start_time": "2022-03-20T14:35:51.418Z"
   },
   {
    "duration": 49,
    "start_time": "2022-03-20T14:35:51.432Z"
   },
   {
    "duration": 11,
    "start_time": "2022-03-20T14:35:51.483Z"
   },
   {
    "duration": 80,
    "start_time": "2022-03-20T14:35:51.496Z"
   },
   {
    "duration": 4,
    "start_time": "2022-03-20T14:35:51.663Z"
   },
   {
    "duration": 16105,
    "start_time": "2022-03-20T14:35:51.668Z"
   },
   {
    "duration": 4,
    "start_time": "2022-03-20T14:36:07.776Z"
   },
   {
    "duration": 93,
    "start_time": "2022-03-20T14:36:07.781Z"
   },
   {
    "duration": 20466,
    "start_time": "2022-03-20T14:36:07.877Z"
   },
   {
    "duration": 3,
    "start_time": "2022-03-20T14:36:28.345Z"
   },
   {
    "duration": 10,
    "start_time": "2022-03-20T14:36:28.350Z"
   },
   {
    "duration": 3,
    "start_time": "2022-03-20T14:36:28.361Z"
   },
   {
    "duration": 9,
    "start_time": "2022-03-20T14:36:28.366Z"
   },
   {
    "duration": 297,
    "start_time": "2022-03-20T14:36:28.376Z"
   },
   {
    "duration": 1623,
    "start_time": "2022-03-20T14:37:22.255Z"
   },
   {
    "duration": 38,
    "start_time": "2022-03-20T14:37:23.880Z"
   },
   {
    "duration": 12,
    "start_time": "2022-03-20T14:37:23.919Z"
   },
   {
    "duration": 339,
    "start_time": "2022-03-20T14:37:23.932Z"
   },
   {
    "duration": 912,
    "start_time": "2022-03-20T14:37:24.275Z"
   },
   {
    "duration": 12,
    "start_time": "2022-03-20T14:37:25.189Z"
   },
   {
    "duration": 19,
    "start_time": "2022-03-20T14:37:25.203Z"
   },
   {
    "duration": 19,
    "start_time": "2022-03-20T14:37:25.224Z"
   },
   {
    "duration": 27,
    "start_time": "2022-03-20T14:37:25.245Z"
   },
   {
    "duration": 90,
    "start_time": "2022-03-20T14:37:25.275Z"
   },
   {
    "duration": 8702,
    "start_time": "2022-03-20T14:37:25.367Z"
   },
   {
    "duration": 4,
    "start_time": "2022-03-20T14:37:34.071Z"
   },
   {
    "duration": 94,
    "start_time": "2022-03-20T14:37:34.076Z"
   },
   {
    "duration": 18580,
    "start_time": "2022-03-20T14:37:34.173Z"
   },
   {
    "duration": 4,
    "start_time": "2022-03-20T14:37:52.755Z"
   },
   {
    "duration": 11,
    "start_time": "2022-03-20T14:37:52.761Z"
   },
   {
    "duration": 4,
    "start_time": "2022-03-20T14:37:52.774Z"
   },
   {
    "duration": 12,
    "start_time": "2022-03-20T14:37:52.780Z"
   },
   {
    "duration": 310,
    "start_time": "2022-03-20T14:37:52.794Z"
   },
   {
    "duration": 1653,
    "start_time": "2022-03-20T14:38:27.650Z"
   },
   {
    "duration": 38,
    "start_time": "2022-03-20T14:38:29.305Z"
   },
   {
    "duration": 12,
    "start_time": "2022-03-20T14:38:29.345Z"
   },
   {
    "duration": 352,
    "start_time": "2022-03-20T14:38:29.363Z"
   },
   {
    "duration": 886,
    "start_time": "2022-03-20T14:38:29.718Z"
   },
   {
    "duration": 12,
    "start_time": "2022-03-20T14:38:30.606Z"
   },
   {
    "duration": 27,
    "start_time": "2022-03-20T14:38:30.619Z"
   },
   {
    "duration": 18,
    "start_time": "2022-03-20T14:38:30.647Z"
   },
   {
    "duration": 96,
    "start_time": "2022-03-20T14:38:30.667Z"
   },
   {
    "duration": 3,
    "start_time": "2022-03-20T14:38:30.766Z"
   },
   {
    "duration": 13705,
    "start_time": "2022-03-20T14:38:30.771Z"
   },
   {
    "duration": 4,
    "start_time": "2022-03-20T14:38:44.478Z"
   },
   {
    "duration": 101,
    "start_time": "2022-03-20T14:38:44.564Z"
   },
   {
    "duration": 18195,
    "start_time": "2022-03-20T14:38:44.668Z"
   },
   {
    "duration": 4,
    "start_time": "2022-03-20T14:39:02.865Z"
   },
   {
    "duration": 23,
    "start_time": "2022-03-20T14:39:02.870Z"
   },
   {
    "duration": 2,
    "start_time": "2022-03-20T14:39:02.895Z"
   },
   {
    "duration": 9,
    "start_time": "2022-03-20T14:39:02.899Z"
   },
   {
    "duration": 269,
    "start_time": "2022-03-20T14:39:02.910Z"
   },
   {
    "duration": 1742,
    "start_time": "2022-03-20T14:40:02.870Z"
   },
   {
    "duration": 43,
    "start_time": "2022-03-20T14:40:04.615Z"
   },
   {
    "duration": 13,
    "start_time": "2022-03-20T14:40:04.660Z"
   },
   {
    "duration": 389,
    "start_time": "2022-03-20T14:40:04.675Z"
   },
   {
    "duration": 992,
    "start_time": "2022-03-20T14:40:05.067Z"
   },
   {
    "duration": 19,
    "start_time": "2022-03-20T14:40:06.064Z"
   },
   {
    "duration": 36,
    "start_time": "2022-03-20T14:40:06.086Z"
   },
   {
    "duration": 12,
    "start_time": "2022-03-20T14:40:06.125Z"
   },
   {
    "duration": 36,
    "start_time": "2022-03-20T14:40:06.139Z"
   },
   {
    "duration": 187,
    "start_time": "2022-03-20T14:40:06.177Z"
   },
   {
    "duration": 105508,
    "start_time": "2022-03-20T14:40:06.366Z"
   },
   {
    "duration": 4,
    "start_time": "2022-03-20T14:41:51.876Z"
   },
   {
    "duration": 91,
    "start_time": "2022-03-20T14:41:51.881Z"
   },
   {
    "duration": 20250,
    "start_time": "2022-03-20T14:41:51.975Z"
   },
   {
    "duration": 5,
    "start_time": "2022-03-20T14:42:12.227Z"
   },
   {
    "duration": 15,
    "start_time": "2022-03-20T14:42:12.233Z"
   },
   {
    "duration": 8,
    "start_time": "2022-03-20T14:42:12.250Z"
   },
   {
    "duration": 15,
    "start_time": "2022-03-20T14:42:12.259Z"
   },
   {
    "duration": 280,
    "start_time": "2022-03-20T14:42:12.276Z"
   },
   {
    "duration": 7,
    "start_time": "2022-03-20T14:43:15.565Z"
   },
   {
    "duration": 7,
    "start_time": "2022-03-20T14:43:25.089Z"
   },
   {
    "duration": 220,
    "start_time": "2022-03-20T14:44:02.426Z"
   },
   {
    "duration": 6,
    "start_time": "2022-03-20T14:44:16.792Z"
   },
   {
    "duration": 127,
    "start_time": "2022-03-20T14:45:07.053Z"
   },
   {
    "duration": 2103,
    "start_time": "2022-03-20T14:45:18.600Z"
   },
   {
    "duration": 57,
    "start_time": "2022-03-20T14:45:20.706Z"
   },
   {
    "duration": 18,
    "start_time": "2022-03-20T14:45:20.765Z"
   },
   {
    "duration": 382,
    "start_time": "2022-03-20T14:45:20.785Z"
   },
   {
    "duration": 944,
    "start_time": "2022-03-20T14:45:21.170Z"
   },
   {
    "duration": 8,
    "start_time": "2022-03-20T14:45:22.116Z"
   },
   {
    "duration": 147,
    "start_time": "2022-03-20T14:45:22.125Z"
   },
   {
    "duration": 0,
    "start_time": "2022-03-20T14:45:22.274Z"
   },
   {
    "duration": 0,
    "start_time": "2022-03-20T14:45:22.275Z"
   },
   {
    "duration": 0,
    "start_time": "2022-03-20T14:45:22.276Z"
   },
   {
    "duration": 0,
    "start_time": "2022-03-20T14:45:22.277Z"
   },
   {
    "duration": 0,
    "start_time": "2022-03-20T14:45:22.278Z"
   },
   {
    "duration": 0,
    "start_time": "2022-03-20T14:45:22.279Z"
   },
   {
    "duration": 0,
    "start_time": "2022-03-20T14:45:22.280Z"
   },
   {
    "duration": 0,
    "start_time": "2022-03-20T14:45:22.281Z"
   },
   {
    "duration": 0,
    "start_time": "2022-03-20T14:45:22.283Z"
   },
   {
    "duration": 0,
    "start_time": "2022-03-20T14:45:22.284Z"
   },
   {
    "duration": 0,
    "start_time": "2022-03-20T14:45:22.285Z"
   },
   {
    "duration": 0,
    "start_time": "2022-03-20T14:45:22.286Z"
   },
   {
    "duration": 0,
    "start_time": "2022-03-20T14:45:22.287Z"
   },
   {
    "duration": 1955,
    "start_time": "2022-03-20T14:46:38.938Z"
   },
   {
    "duration": 40,
    "start_time": "2022-03-20T14:46:40.895Z"
   },
   {
    "duration": 14,
    "start_time": "2022-03-20T14:46:40.937Z"
   },
   {
    "duration": 368,
    "start_time": "2022-03-20T14:46:40.963Z"
   },
   {
    "duration": 960,
    "start_time": "2022-03-20T14:46:41.335Z"
   },
   {
    "duration": 6,
    "start_time": "2022-03-20T14:46:42.297Z"
   },
   {
    "duration": 2557,
    "start_time": "2022-03-20T14:46:42.305Z"
   },
   {
    "duration": 0,
    "start_time": "2022-03-20T14:46:44.863Z"
   },
   {
    "duration": 0,
    "start_time": "2022-03-20T14:46:44.865Z"
   },
   {
    "duration": 0,
    "start_time": "2022-03-20T14:46:44.866Z"
   },
   {
    "duration": 0,
    "start_time": "2022-03-20T14:46:44.866Z"
   },
   {
    "duration": 0,
    "start_time": "2022-03-20T14:46:44.867Z"
   },
   {
    "duration": 0,
    "start_time": "2022-03-20T14:46:44.869Z"
   },
   {
    "duration": 0,
    "start_time": "2022-03-20T14:46:44.870Z"
   },
   {
    "duration": 0,
    "start_time": "2022-03-20T14:46:44.871Z"
   },
   {
    "duration": 0,
    "start_time": "2022-03-20T14:46:44.872Z"
   },
   {
    "duration": 0,
    "start_time": "2022-03-20T14:46:44.872Z"
   },
   {
    "duration": 0,
    "start_time": "2022-03-20T14:46:44.873Z"
   },
   {
    "duration": 0,
    "start_time": "2022-03-20T14:46:44.874Z"
   },
   {
    "duration": 0,
    "start_time": "2022-03-20T14:46:44.875Z"
   },
   {
    "duration": 1787,
    "start_time": "2022-03-20T14:48:43.157Z"
   },
   {
    "duration": 44,
    "start_time": "2022-03-20T14:48:44.946Z"
   },
   {
    "duration": 14,
    "start_time": "2022-03-20T14:48:44.992Z"
   },
   {
    "duration": 363,
    "start_time": "2022-03-20T14:48:45.008Z"
   },
   {
    "duration": 939,
    "start_time": "2022-03-20T14:48:45.375Z"
   },
   {
    "duration": 3,
    "start_time": "2022-03-20T14:48:46.316Z"
   },
   {
    "duration": 42,
    "start_time": "2022-03-20T14:48:46.321Z"
   },
   {
    "duration": 17,
    "start_time": "2022-03-20T14:48:46.364Z"
   },
   {
    "duration": 9,
    "start_time": "2022-03-20T14:48:46.382Z"
   },
   {
    "duration": 75,
    "start_time": "2022-03-20T14:48:46.392Z"
   },
   {
    "duration": 103,
    "start_time": "2022-03-20T14:48:46.469Z"
   },
   {
    "duration": 1641,
    "start_time": "2022-03-20T14:49:05.326Z"
   },
   {
    "duration": 39,
    "start_time": "2022-03-20T14:49:06.969Z"
   },
   {
    "duration": 12,
    "start_time": "2022-03-20T14:49:07.010Z"
   },
   {
    "duration": 344,
    "start_time": "2022-03-20T14:49:07.023Z"
   },
   {
    "duration": 941,
    "start_time": "2022-03-20T14:49:07.371Z"
   },
   {
    "duration": 3,
    "start_time": "2022-03-20T14:49:08.314Z"
   },
   {
    "duration": 24,
    "start_time": "2022-03-20T14:49:08.319Z"
   },
   {
    "duration": 29,
    "start_time": "2022-03-20T14:49:08.345Z"
   },
   {
    "duration": 11,
    "start_time": "2022-03-20T14:49:08.376Z"
   },
   {
    "duration": 174,
    "start_time": "2022-03-20T14:49:08.389Z"
   },
   {
    "duration": 6,
    "start_time": "2022-03-20T14:49:08.566Z"
   },
   {
    "duration": 27970,
    "start_time": "2022-03-20T14:49:08.574Z"
   },
   {
    "duration": 0,
    "start_time": "2022-03-20T14:49:36.547Z"
   },
   {
    "duration": 0,
    "start_time": "2022-03-20T14:49:36.549Z"
   },
   {
    "duration": 0,
    "start_time": "2022-03-20T14:49:36.550Z"
   },
   {
    "duration": 0,
    "start_time": "2022-03-20T14:49:36.551Z"
   },
   {
    "duration": 0,
    "start_time": "2022-03-20T14:49:36.552Z"
   },
   {
    "duration": 0,
    "start_time": "2022-03-20T14:49:36.553Z"
   },
   {
    "duration": 0,
    "start_time": "2022-03-20T14:49:36.562Z"
   },
   {
    "duration": 0,
    "start_time": "2022-03-20T14:49:36.564Z"
   },
   {
    "duration": 0,
    "start_time": "2022-03-20T14:49:36.565Z"
   },
   {
    "duration": 5,
    "start_time": "2022-03-20T14:49:40.125Z"
   },
   {
    "duration": 39,
    "start_time": "2022-03-20T14:49:40.132Z"
   },
   {
    "duration": 10,
    "start_time": "2022-03-20T14:49:40.173Z"
   },
   {
    "duration": 284,
    "start_time": "2022-03-20T14:49:40.184Z"
   },
   {
    "duration": 842,
    "start_time": "2022-03-20T14:49:40.471Z"
   },
   {
    "duration": 3,
    "start_time": "2022-03-20T14:49:41.315Z"
   },
   {
    "duration": 6,
    "start_time": "2022-03-20T14:49:45.427Z"
   },
   {
    "duration": 13,
    "start_time": "2022-03-20T14:51:02.332Z"
   },
   {
    "duration": 1700,
    "start_time": "2022-03-20T14:53:13.735Z"
   },
   {
    "duration": 41,
    "start_time": "2022-03-20T14:53:15.438Z"
   },
   {
    "duration": 12,
    "start_time": "2022-03-20T14:53:15.481Z"
   },
   {
    "duration": 380,
    "start_time": "2022-03-20T14:53:15.496Z"
   },
   {
    "duration": 1139,
    "start_time": "2022-03-20T14:53:15.878Z"
   },
   {
    "duration": 4,
    "start_time": "2022-03-20T14:53:17.019Z"
   },
   {
    "duration": 142,
    "start_time": "2022-03-20T14:53:17.024Z"
   },
   {
    "duration": 0,
    "start_time": "2022-03-20T14:53:17.168Z"
   },
   {
    "duration": 0,
    "start_time": "2022-03-20T14:53:17.170Z"
   },
   {
    "duration": 0,
    "start_time": "2022-03-20T14:53:17.172Z"
   },
   {
    "duration": 0,
    "start_time": "2022-03-20T14:53:17.173Z"
   },
   {
    "duration": 0,
    "start_time": "2022-03-20T14:53:17.174Z"
   },
   {
    "duration": 0,
    "start_time": "2022-03-20T14:53:17.176Z"
   },
   {
    "duration": 0,
    "start_time": "2022-03-20T14:53:17.177Z"
   },
   {
    "duration": 0,
    "start_time": "2022-03-20T14:53:17.179Z"
   },
   {
    "duration": 0,
    "start_time": "2022-03-20T14:53:17.180Z"
   },
   {
    "duration": 0,
    "start_time": "2022-03-20T14:53:17.182Z"
   },
   {
    "duration": 0,
    "start_time": "2022-03-20T14:53:17.183Z"
   },
   {
    "duration": 0,
    "start_time": "2022-03-20T14:53:17.185Z"
   },
   {
    "duration": 0,
    "start_time": "2022-03-20T14:53:17.186Z"
   },
   {
    "duration": 1788,
    "start_time": "2022-03-20T14:58:12.194Z"
   },
   {
    "duration": 49,
    "start_time": "2022-03-20T14:58:13.985Z"
   },
   {
    "duration": 17,
    "start_time": "2022-03-20T14:58:14.036Z"
   },
   {
    "duration": 376,
    "start_time": "2022-03-20T14:58:14.063Z"
   },
   {
    "duration": 957,
    "start_time": "2022-03-20T14:58:14.442Z"
   },
   {
    "duration": 3,
    "start_time": "2022-03-20T14:58:15.401Z"
   },
   {
    "duration": 148,
    "start_time": "2022-03-20T14:58:15.406Z"
   },
   {
    "duration": 0,
    "start_time": "2022-03-20T14:58:15.556Z"
   },
   {
    "duration": 0,
    "start_time": "2022-03-20T14:58:15.557Z"
   },
   {
    "duration": 0,
    "start_time": "2022-03-20T14:58:15.563Z"
   },
   {
    "duration": 0,
    "start_time": "2022-03-20T14:58:15.564Z"
   },
   {
    "duration": 0,
    "start_time": "2022-03-20T14:58:15.565Z"
   },
   {
    "duration": 0,
    "start_time": "2022-03-20T14:58:15.566Z"
   },
   {
    "duration": 0,
    "start_time": "2022-03-20T14:58:15.567Z"
   },
   {
    "duration": 0,
    "start_time": "2022-03-20T14:58:15.568Z"
   },
   {
    "duration": 0,
    "start_time": "2022-03-20T14:58:15.569Z"
   },
   {
    "duration": 0,
    "start_time": "2022-03-20T14:58:15.570Z"
   },
   {
    "duration": 0,
    "start_time": "2022-03-20T14:58:15.571Z"
   },
   {
    "duration": 0,
    "start_time": "2022-03-20T14:58:15.572Z"
   },
   {
    "duration": 0,
    "start_time": "2022-03-20T14:58:15.573Z"
   },
   {
    "duration": 19,
    "start_time": "2022-03-20T14:59:13.086Z"
   },
   {
    "duration": 23,
    "start_time": "2022-03-20T14:59:21.551Z"
   },
   {
    "duration": 23,
    "start_time": "2022-03-20T14:59:40.751Z"
   },
   {
    "duration": 26,
    "start_time": "2022-03-20T15:00:06.208Z"
   },
   {
    "duration": 18,
    "start_time": "2022-03-20T15:00:47.189Z"
   },
   {
    "duration": 25,
    "start_time": "2022-03-20T15:00:51.461Z"
   },
   {
    "duration": 12,
    "start_time": "2022-03-20T15:02:57.972Z"
   },
   {
    "duration": 19,
    "start_time": "2022-03-20T15:03:06.006Z"
   },
   {
    "duration": 7,
    "start_time": "2022-03-20T15:03:41.158Z"
   },
   {
    "duration": 7,
    "start_time": "2022-03-20T15:03:50.310Z"
   },
   {
    "duration": 11,
    "start_time": "2022-03-20T15:05:09.205Z"
   },
   {
    "duration": 20,
    "start_time": "2022-03-20T15:05:11.270Z"
   },
   {
    "duration": 27,
    "start_time": "2022-03-20T15:05:57.555Z"
   },
   {
    "duration": 1677,
    "start_time": "2022-03-20T15:06:06.622Z"
   },
   {
    "duration": 88,
    "start_time": "2022-03-20T15:06:08.301Z"
   },
   {
    "duration": 15,
    "start_time": "2022-03-20T15:06:08.391Z"
   },
   {
    "duration": 391,
    "start_time": "2022-03-20T15:06:08.408Z"
   },
   {
    "duration": 913,
    "start_time": "2022-03-20T15:06:08.803Z"
   },
   {
    "duration": 3,
    "start_time": "2022-03-20T15:06:09.718Z"
   },
   {
    "duration": 50,
    "start_time": "2022-03-20T15:06:09.723Z"
   },
   {
    "duration": 18,
    "start_time": "2022-03-20T15:06:09.775Z"
   },
   {
    "duration": 10,
    "start_time": "2022-03-20T15:06:09.795Z"
   },
   {
    "duration": 65,
    "start_time": "2022-03-20T15:06:09.807Z"
   },
   {
    "duration": 89,
    "start_time": "2022-03-20T15:06:09.875Z"
   },
   {
    "duration": 139110,
    "start_time": "2022-03-20T15:06:09.966Z"
   },
   {
    "duration": 87,
    "start_time": "2022-03-20T15:08:29.077Z"
   },
   {
    "duration": 105,
    "start_time": "2022-03-20T15:08:29.167Z"
   },
   {
    "duration": 20229,
    "start_time": "2022-03-20T15:08:29.274Z"
   },
   {
    "duration": 5,
    "start_time": "2022-03-20T15:08:49.504Z"
   },
   {
    "duration": 11,
    "start_time": "2022-03-20T15:08:49.510Z"
   },
   {
    "duration": 4,
    "start_time": "2022-03-20T15:08:49.523Z"
   },
   {
    "duration": 12,
    "start_time": "2022-03-20T15:08:49.528Z"
   },
   {
    "duration": 277,
    "start_time": "2022-03-20T15:08:49.542Z"
   },
   {
    "duration": 1601,
    "start_time": "2022-03-20T15:10:15.407Z"
   },
   {
    "duration": 39,
    "start_time": "2022-03-20T15:10:17.010Z"
   },
   {
    "duration": 16,
    "start_time": "2022-03-20T15:10:17.051Z"
   },
   {
    "duration": 387,
    "start_time": "2022-03-20T15:10:17.068Z"
   },
   {
    "duration": 960,
    "start_time": "2022-03-20T15:10:17.458Z"
   },
   {
    "duration": 15,
    "start_time": "2022-03-20T15:10:18.420Z"
   },
   {
    "duration": 40,
    "start_time": "2022-03-20T15:10:18.437Z"
   },
   {
    "duration": 10,
    "start_time": "2022-03-20T15:10:18.479Z"
   },
   {
    "duration": 75,
    "start_time": "2022-03-20T15:10:18.490Z"
   },
   {
    "duration": 97,
    "start_time": "2022-03-20T15:10:18.567Z"
   },
   {
    "duration": 208898,
    "start_time": "2022-03-20T15:10:18.666Z"
   },
   {
    "duration": 4,
    "start_time": "2022-03-20T15:13:47.566Z"
   },
   {
    "duration": 107,
    "start_time": "2022-03-20T15:13:47.572Z"
   },
   {
    "duration": 19735,
    "start_time": "2022-03-20T15:13:47.682Z"
   },
   {
    "duration": 4,
    "start_time": "2022-03-20T15:14:07.420Z"
   },
   {
    "duration": 13,
    "start_time": "2022-03-20T15:14:07.426Z"
   },
   {
    "duration": 3,
    "start_time": "2022-03-20T15:14:07.441Z"
   },
   {
    "duration": 13,
    "start_time": "2022-03-20T15:14:07.446Z"
   },
   {
    "duration": 270,
    "start_time": "2022-03-20T15:14:07.460Z"
   },
   {
    "duration": 1922,
    "start_time": "2022-03-20T15:23:31.220Z"
   },
   {
    "duration": 42,
    "start_time": "2022-03-20T15:23:33.144Z"
   },
   {
    "duration": 12,
    "start_time": "2022-03-20T15:23:33.188Z"
   },
   {
    "duration": 470,
    "start_time": "2022-03-20T15:23:33.201Z"
   },
   {
    "duration": 963,
    "start_time": "2022-03-20T15:23:33.674Z"
   },
   {
    "duration": 23,
    "start_time": "2022-03-20T15:23:34.639Z"
   },
   {
    "duration": 30,
    "start_time": "2022-03-20T15:23:34.664Z"
   },
   {
    "duration": 12,
    "start_time": "2022-03-20T15:23:34.696Z"
   },
   {
    "duration": 54,
    "start_time": "2022-03-20T15:23:34.712Z"
   },
   {
    "duration": 97,
    "start_time": "2022-03-20T15:23:34.768Z"
   },
   {
    "duration": 1611,
    "start_time": "2022-03-20T15:29:51.997Z"
   },
   {
    "duration": 89,
    "start_time": "2022-03-20T15:29:53.610Z"
   },
   {
    "duration": 14,
    "start_time": "2022-03-20T15:29:53.700Z"
   },
   {
    "duration": 344,
    "start_time": "2022-03-20T15:29:53.715Z"
   },
   {
    "duration": 1435,
    "start_time": "2022-03-20T15:29:54.061Z"
   },
   {
    "duration": 21,
    "start_time": "2022-03-20T15:29:55.498Z"
   },
   {
    "duration": 59,
    "start_time": "2022-03-20T15:29:55.521Z"
   },
   {
    "duration": 12,
    "start_time": "2022-03-20T15:29:55.582Z"
   },
   {
    "duration": 81,
    "start_time": "2022-03-20T15:29:55.596Z"
   },
   {
    "duration": 96,
    "start_time": "2022-03-20T15:29:55.767Z"
   },
   {
    "duration": 804911,
    "start_time": "2022-03-20T15:29:55.866Z"
   },
   {
    "duration": 4,
    "start_time": "2022-03-20T15:43:20.779Z"
   },
   {
    "duration": 185,
    "start_time": "2022-03-20T15:43:20.785Z"
   },
   {
    "duration": 14543,
    "start_time": "2022-03-20T15:43:20.974Z"
   },
   {
    "duration": 3,
    "start_time": "2022-03-20T15:43:35.519Z"
   },
   {
    "duration": 13,
    "start_time": "2022-03-20T15:43:35.524Z"
   },
   {
    "duration": 7,
    "start_time": "2022-03-20T15:43:35.538Z"
   },
   {
    "duration": 11,
    "start_time": "2022-03-20T15:43:35.546Z"
   },
   {
    "duration": 259,
    "start_time": "2022-03-20T15:43:35.558Z"
   },
   {
    "duration": 1647,
    "start_time": "2022-03-20T15:50:41.252Z"
   },
   {
    "duration": 92,
    "start_time": "2022-03-20T15:50:42.901Z"
   },
   {
    "duration": 13,
    "start_time": "2022-03-20T15:50:42.994Z"
   },
   {
    "duration": 355,
    "start_time": "2022-03-20T15:50:43.008Z"
   },
   {
    "duration": 926,
    "start_time": "2022-03-20T15:50:43.367Z"
   },
   {
    "duration": 25,
    "start_time": "2022-03-20T15:50:44.296Z"
   },
   {
    "duration": 9,
    "start_time": "2022-03-20T15:50:44.323Z"
   },
   {
    "duration": 37,
    "start_time": "2022-03-20T15:50:44.333Z"
   },
   {
    "duration": 32,
    "start_time": "2022-03-20T15:50:44.372Z"
   },
   {
    "duration": 9,
    "start_time": "2022-03-20T15:50:44.406Z"
   },
   {
    "duration": 147,
    "start_time": "2022-03-20T15:50:44.417Z"
   },
   {
    "duration": 4,
    "start_time": "2022-03-20T15:50:44.566Z"
   },
   {
    "duration": 13607,
    "start_time": "2022-03-20T15:50:44.571Z"
   },
   {
    "duration": 4,
    "start_time": "2022-03-20T15:50:58.181Z"
   },
   {
    "duration": 113,
    "start_time": "2022-03-20T15:50:58.262Z"
   },
   {
    "duration": 18653,
    "start_time": "2022-03-20T15:50:58.377Z"
   },
   {
    "duration": 4,
    "start_time": "2022-03-20T15:51:17.032Z"
   },
   {
    "duration": 16,
    "start_time": "2022-03-20T15:51:17.038Z"
   },
   {
    "duration": 2,
    "start_time": "2022-03-20T15:51:17.056Z"
   },
   {
    "duration": 10,
    "start_time": "2022-03-20T15:51:17.060Z"
   },
   {
    "duration": 285,
    "start_time": "2022-03-20T15:51:17.072Z"
   },
   {
    "duration": 3,
    "start_time": "2022-03-20T15:53:34.082Z"
   },
   {
    "duration": 9,
    "start_time": "2022-03-20T15:53:34.607Z"
   },
   {
    "duration": 113,
    "start_time": "2022-03-20T15:57:26.570Z"
   },
   {
    "duration": 1654,
    "start_time": "2022-03-20T15:57:34.643Z"
   },
   {
    "duration": 36,
    "start_time": "2022-03-20T15:57:36.300Z"
   },
   {
    "duration": 12,
    "start_time": "2022-03-20T15:57:36.338Z"
   },
   {
    "duration": 368,
    "start_time": "2022-03-20T15:57:36.351Z"
   },
   {
    "duration": 911,
    "start_time": "2022-03-20T15:57:36.722Z"
   },
   {
    "duration": 39,
    "start_time": "2022-03-20T15:57:37.635Z"
   },
   {
    "duration": 8,
    "start_time": "2022-03-20T15:57:37.676Z"
   },
   {
    "duration": 11,
    "start_time": "2022-03-20T15:57:37.686Z"
   },
   {
    "duration": 33,
    "start_time": "2022-03-20T15:57:37.699Z"
   },
   {
    "duration": 37,
    "start_time": "2022-03-20T15:57:37.734Z"
   },
   {
    "duration": 293,
    "start_time": "2022-03-20T15:57:37.773Z"
   },
   {
    "duration": 3,
    "start_time": "2022-03-20T15:57:38.068Z"
   },
   {
    "duration": 686407,
    "start_time": "2022-03-20T15:57:38.074Z"
   },
   {
    "duration": 4,
    "start_time": "2022-03-20T16:09:04.484Z"
   },
   {
    "duration": 278,
    "start_time": "2022-03-20T16:09:04.490Z"
   },
   {
    "duration": 18888,
    "start_time": "2022-03-20T16:09:04.770Z"
   },
   {
    "duration": 5,
    "start_time": "2022-03-20T16:09:23.660Z"
   },
   {
    "duration": 16,
    "start_time": "2022-03-20T16:09:23.668Z"
   },
   {
    "duration": 3,
    "start_time": "2022-03-20T16:09:23.686Z"
   },
   {
    "duration": 12,
    "start_time": "2022-03-20T16:09:23.691Z"
   },
   {
    "duration": 434,
    "start_time": "2022-03-20T16:09:23.705Z"
   }
  ],
  "kernelspec": {
   "display_name": "Python 3 (ipykernel)",
   "language": "python",
   "name": "python3"
  },
  "language_info": {
   "codemirror_mode": {
    "name": "ipython",
    "version": 3
   },
   "file_extension": ".py",
   "mimetype": "text/x-python",
   "name": "python",
   "nbconvert_exporter": "python",
   "pygments_lexer": "ipython3",
   "version": "3.9.5"
  },
  "toc": {
   "base_numbering": 1,
   "nav_menu": {},
   "number_sections": true,
   "sideBar": true,
   "skip_h1_title": true,
   "title_cell": "Содержание",
   "title_sidebar": "Contents",
   "toc_cell": true,
   "toc_position": {},
   "toc_section_display": true,
   "toc_window_display": false
  }
 },
 "nbformat": 4,
 "nbformat_minor": 2
}

{
 "cells": [
  {
   "cell_type": "markdown",
   "metadata": {},
   "source": [
    "# Определение перспективного тарифа для телеком-компании\n",
    "\n",
    "Клиентам предлагают два тарифных плана: «Смарт» и «Ультра». Чтобы скорректировать рекламный бюджет, коммерческий департамент хочет понять, какой тариф приносит больше денег.\n",
    "В работе предстоит сделать предварительный анализ тарифов на небольшой выборке клиентов. В нашем распоряжении данные 500 пользователей «Мегалайна»: кто они, откуда, каким тарифом пользуются, сколько звонков и сообщений каждый отправил за 2018 год. Нужно проанализировать поведение клиентов и сделать вывод — какой тариф лучше.\n",
    "\n",
    "\n",
    "**Описание тарифов**\n",
    "\n",
    "- Тариф «Смарт»\n",
    "Ежемесячная плата: 550 рублей\n",
    "Включено 500 минут разговора, 50 сообщений и 15 Гб интернет-трафика\n",
    "Стоимость услуг сверх тарифного пакета: 1. минута разговора: 3 рубля («Мегалайн» всегда округляет вверх значения минут и мегабайтов. Если пользователь проговорил всего 1 секунду, в тарифе засчитывается целая минута); 2. сообщение: 3 рубля; 3. 1 Гб интернет-трафика: 200 рублей.\n",
    "\n",
    "- Тариф «Ультра»\n",
    "Ежемесячная плата: 1950 рублей\n",
    "Включено 3000 минут разговора, 1000 сообщений и 30 Гб интернет-трафика\n",
    "Стоимость услуг сверх тарифного пакета: 1. минута разговора: 1 рубль; 2. сообщение: 1 рубль; 3. 1 Гб интернет-трафика: 150 рублей.\n",
    "\n",
    "**Примечание:**<a id='note_1'></a>\n",
    ">«Мегалайн» всегда округляет секунды до минут, а мегабайты — до гигабайт. Каждый звонок округляется отдельно: даже если он длился всего 1 секунду, будет засчитан как 1 минута.\n",
    "Для веб-трафика отдельные сессии не считаются. Вместо этого общая сумма за месяц округляется в бо́льшую сторону. Если абонент использует 1025 мегабайт в этом месяце, с него возьмут плату за 2 гигабайта."
   ]
  },
  {
   "cell_type": "markdown",
   "metadata": {},
   "source": [
    "## Изучение данных из файлов"
   ]
  },
  {
   "cell_type": "code",
   "execution_count": 486,
   "metadata": {},
   "outputs": [],
   "source": [
    "import pandas as pd\n",
    "import numpy as np\n",
    "import matplotlib.pyplot as plt\n",
    "import seaborn as sns\n",
    "from scipy import stats as st\n",
    "pd.set_option('display.float_format', '{:,.2f}'.format)"
   ]
  },
  {
   "cell_type": "markdown",
   "metadata": {},
   "source": [
    "***Информация о звонках***"
   ]
  },
  {
   "cell_type": "code",
   "execution_count": 487,
   "metadata": {},
   "outputs": [
    {
     "data": {
      "text/html": [
       "<div>\n",
       "<style scoped>\n",
       "    .dataframe tbody tr th:only-of-type {\n",
       "        vertical-align: middle;\n",
       "    }\n",
       "\n",
       "    .dataframe tbody tr th {\n",
       "        vertical-align: top;\n",
       "    }\n",
       "\n",
       "    .dataframe thead th {\n",
       "        text-align: right;\n",
       "    }\n",
       "</style>\n",
       "<table border=\"1\" class=\"dataframe\">\n",
       "  <thead>\n",
       "    <tr style=\"text-align: right;\">\n",
       "      <th></th>\n",
       "      <th>user_id</th>\n",
       "      <th>age</th>\n",
       "      <th>churn_date</th>\n",
       "      <th>city</th>\n",
       "      <th>first_name</th>\n",
       "      <th>last_name</th>\n",
       "      <th>reg_date</th>\n",
       "      <th>tariff</th>\n",
       "    </tr>\n",
       "  </thead>\n",
       "  <tbody>\n",
       "    <tr>\n",
       "      <td>0</td>\n",
       "      <td>1000</td>\n",
       "      <td>52</td>\n",
       "      <td>NaN</td>\n",
       "      <td>Краснодар</td>\n",
       "      <td>Рафаил</td>\n",
       "      <td>Верещагин</td>\n",
       "      <td>2018-05-25</td>\n",
       "      <td>ultra</td>\n",
       "    </tr>\n",
       "    <tr>\n",
       "      <td>1</td>\n",
       "      <td>1001</td>\n",
       "      <td>41</td>\n",
       "      <td>NaN</td>\n",
       "      <td>Москва</td>\n",
       "      <td>Иван</td>\n",
       "      <td>Ежов</td>\n",
       "      <td>2018-11-01</td>\n",
       "      <td>smart</td>\n",
       "    </tr>\n",
       "    <tr>\n",
       "      <td>2</td>\n",
       "      <td>1002</td>\n",
       "      <td>59</td>\n",
       "      <td>NaN</td>\n",
       "      <td>Стерлитамак</td>\n",
       "      <td>Евгений</td>\n",
       "      <td>Абрамович</td>\n",
       "      <td>2018-06-17</td>\n",
       "      <td>smart</td>\n",
       "    </tr>\n",
       "    <tr>\n",
       "      <td>3</td>\n",
       "      <td>1003</td>\n",
       "      <td>23</td>\n",
       "      <td>NaN</td>\n",
       "      <td>Москва</td>\n",
       "      <td>Белла</td>\n",
       "      <td>Белякова</td>\n",
       "      <td>2018-08-17</td>\n",
       "      <td>ultra</td>\n",
       "    </tr>\n",
       "    <tr>\n",
       "      <td>4</td>\n",
       "      <td>1004</td>\n",
       "      <td>68</td>\n",
       "      <td>NaN</td>\n",
       "      <td>Новокузнецк</td>\n",
       "      <td>Татьяна</td>\n",
       "      <td>Авдеенко</td>\n",
       "      <td>2018-05-14</td>\n",
       "      <td>ultra</td>\n",
       "    </tr>\n",
       "  </tbody>\n",
       "</table>\n",
       "</div>"
      ],
      "text/plain": [
       "   user_id  age churn_date         city first_name  last_name    reg_date  \\\n",
       "0     1000   52        NaN    Краснодар     Рафаил  Верещагин  2018-05-25   \n",
       "1     1001   41        NaN       Москва       Иван       Ежов  2018-11-01   \n",
       "2     1002   59        NaN  Стерлитамак    Евгений  Абрамович  2018-06-17   \n",
       "3     1003   23        NaN       Москва      Белла   Белякова  2018-08-17   \n",
       "4     1004   68        NaN  Новокузнецк    Татьяна   Авдеенко  2018-05-14   \n",
       "\n",
       "  tariff  \n",
       "0  ultra  \n",
       "1  smart  \n",
       "2  smart  \n",
       "3  ultra  \n",
       "4  ultra  "
      ]
     },
     "metadata": {},
     "output_type": "display_data"
    },
    {
     "name": "stdout",
     "output_type": "stream",
     "text": [
      "<class 'pandas.core.frame.DataFrame'>\n",
      "RangeIndex: 500 entries, 0 to 499\n",
      "Data columns (total 8 columns):\n",
      "user_id       500 non-null int64\n",
      "age           500 non-null int64\n",
      "churn_date    38 non-null object\n",
      "city          500 non-null object\n",
      "first_name    500 non-null object\n",
      "last_name     500 non-null object\n",
      "reg_date      500 non-null object\n",
      "tariff        500 non-null object\n",
      "dtypes: int64(2), object(6)\n",
      "memory usage: 31.4+ KB\n",
      "None\n"
     ]
    }
   ],
   "source": [
    "df_users = pd.read_csv('/datasets/users.csv')\n",
    "display(df_users.head())\n",
    "print(df_users.info())"
   ]
  },
  {
   "cell_type": "markdown",
   "metadata": {},
   "source": [
    "***Информация о звонках***"
   ]
  },
  {
   "cell_type": "code",
   "execution_count": 488,
   "metadata": {
    "scrolled": true
   },
   "outputs": [
    {
     "data": {
      "text/html": [
       "<div>\n",
       "<style scoped>\n",
       "    .dataframe tbody tr th:only-of-type {\n",
       "        vertical-align: middle;\n",
       "    }\n",
       "\n",
       "    .dataframe tbody tr th {\n",
       "        vertical-align: top;\n",
       "    }\n",
       "\n",
       "    .dataframe thead th {\n",
       "        text-align: right;\n",
       "    }\n",
       "</style>\n",
       "<table border=\"1\" class=\"dataframe\">\n",
       "  <thead>\n",
       "    <tr style=\"text-align: right;\">\n",
       "      <th></th>\n",
       "      <th>id</th>\n",
       "      <th>call_date</th>\n",
       "      <th>duration</th>\n",
       "      <th>user_id</th>\n",
       "    </tr>\n",
       "  </thead>\n",
       "  <tbody>\n",
       "    <tr>\n",
       "      <td>0</td>\n",
       "      <td>1000_0</td>\n",
       "      <td>2018-07-25</td>\n",
       "      <td>0.00</td>\n",
       "      <td>1000</td>\n",
       "    </tr>\n",
       "    <tr>\n",
       "      <td>1</td>\n",
       "      <td>1000_1</td>\n",
       "      <td>2018-08-17</td>\n",
       "      <td>0.00</td>\n",
       "      <td>1000</td>\n",
       "    </tr>\n",
       "    <tr>\n",
       "      <td>2</td>\n",
       "      <td>1000_2</td>\n",
       "      <td>2018-06-11</td>\n",
       "      <td>2.85</td>\n",
       "      <td>1000</td>\n",
       "    </tr>\n",
       "    <tr>\n",
       "      <td>3</td>\n",
       "      <td>1000_3</td>\n",
       "      <td>2018-09-21</td>\n",
       "      <td>13.80</td>\n",
       "      <td>1000</td>\n",
       "    </tr>\n",
       "    <tr>\n",
       "      <td>4</td>\n",
       "      <td>1000_4</td>\n",
       "      <td>2018-12-15</td>\n",
       "      <td>5.18</td>\n",
       "      <td>1000</td>\n",
       "    </tr>\n",
       "  </tbody>\n",
       "</table>\n",
       "</div>"
      ],
      "text/plain": [
       "       id   call_date  duration  user_id\n",
       "0  1000_0  2018-07-25      0.00     1000\n",
       "1  1000_1  2018-08-17      0.00     1000\n",
       "2  1000_2  2018-06-11      2.85     1000\n",
       "3  1000_3  2018-09-21     13.80     1000\n",
       "4  1000_4  2018-12-15      5.18     1000"
      ]
     },
     "metadata": {},
     "output_type": "display_data"
    },
    {
     "name": "stdout",
     "output_type": "stream",
     "text": [
      "<class 'pandas.core.frame.DataFrame'>\n",
      "RangeIndex: 202607 entries, 0 to 202606\n",
      "Data columns (total 4 columns):\n",
      "id           202607 non-null object\n",
      "call_date    202607 non-null object\n",
      "duration     202607 non-null float64\n",
      "user_id      202607 non-null int64\n",
      "dtypes: float64(1), int64(1), object(2)\n",
      "memory usage: 6.2+ MB\n",
      "None\n"
     ]
    }
   ],
   "source": [
    "df_calls = pd.read_csv('/datasets/calls.csv')\n",
    "display(df_calls.head())\n",
    "print(df_calls.info())"
   ]
  },
  {
   "cell_type": "markdown",
   "metadata": {},
   "source": [
    "***Информация о сообщениях***"
   ]
  },
  {
   "cell_type": "code",
   "execution_count": 489,
   "metadata": {},
   "outputs": [
    {
     "data": {
      "text/html": [
       "<div>\n",
       "<style scoped>\n",
       "    .dataframe tbody tr th:only-of-type {\n",
       "        vertical-align: middle;\n",
       "    }\n",
       "\n",
       "    .dataframe tbody tr th {\n",
       "        vertical-align: top;\n",
       "    }\n",
       "\n",
       "    .dataframe thead th {\n",
       "        text-align: right;\n",
       "    }\n",
       "</style>\n",
       "<table border=\"1\" class=\"dataframe\">\n",
       "  <thead>\n",
       "    <tr style=\"text-align: right;\">\n",
       "      <th></th>\n",
       "      <th>id</th>\n",
       "      <th>message_date</th>\n",
       "      <th>user_id</th>\n",
       "    </tr>\n",
       "  </thead>\n",
       "  <tbody>\n",
       "    <tr>\n",
       "      <td>0</td>\n",
       "      <td>1000_0</td>\n",
       "      <td>2018-06-27</td>\n",
       "      <td>1000</td>\n",
       "    </tr>\n",
       "    <tr>\n",
       "      <td>1</td>\n",
       "      <td>1000_1</td>\n",
       "      <td>2018-10-08</td>\n",
       "      <td>1000</td>\n",
       "    </tr>\n",
       "    <tr>\n",
       "      <td>2</td>\n",
       "      <td>1000_2</td>\n",
       "      <td>2018-08-04</td>\n",
       "      <td>1000</td>\n",
       "    </tr>\n",
       "    <tr>\n",
       "      <td>3</td>\n",
       "      <td>1000_3</td>\n",
       "      <td>2018-06-16</td>\n",
       "      <td>1000</td>\n",
       "    </tr>\n",
       "    <tr>\n",
       "      <td>4</td>\n",
       "      <td>1000_4</td>\n",
       "      <td>2018-12-05</td>\n",
       "      <td>1000</td>\n",
       "    </tr>\n",
       "  </tbody>\n",
       "</table>\n",
       "</div>"
      ],
      "text/plain": [
       "       id message_date  user_id\n",
       "0  1000_0   2018-06-27     1000\n",
       "1  1000_1   2018-10-08     1000\n",
       "2  1000_2   2018-08-04     1000\n",
       "3  1000_3   2018-06-16     1000\n",
       "4  1000_4   2018-12-05     1000"
      ]
     },
     "metadata": {},
     "output_type": "display_data"
    },
    {
     "name": "stdout",
     "output_type": "stream",
     "text": [
      "<class 'pandas.core.frame.DataFrame'>\n",
      "RangeIndex: 123036 entries, 0 to 123035\n",
      "Data columns (total 3 columns):\n",
      "id              123036 non-null object\n",
      "message_date    123036 non-null object\n",
      "user_id         123036 non-null int64\n",
      "dtypes: int64(1), object(2)\n",
      "memory usage: 2.8+ MB\n",
      "None\n"
     ]
    }
   ],
   "source": [
    "df_messages = pd.read_csv('/datasets/messages.csv')\n",
    "display(df_messages.head())\n",
    "print(df_messages.info())"
   ]
  },
  {
   "cell_type": "markdown",
   "metadata": {},
   "source": [
    "***Информация об интернет-сессиях***"
   ]
  },
  {
   "cell_type": "code",
   "execution_count": 490,
   "metadata": {},
   "outputs": [
    {
     "data": {
      "text/html": [
       "<div>\n",
       "<style scoped>\n",
       "    .dataframe tbody tr th:only-of-type {\n",
       "        vertical-align: middle;\n",
       "    }\n",
       "\n",
       "    .dataframe tbody tr th {\n",
       "        vertical-align: top;\n",
       "    }\n",
       "\n",
       "    .dataframe thead th {\n",
       "        text-align: right;\n",
       "    }\n",
       "</style>\n",
       "<table border=\"1\" class=\"dataframe\">\n",
       "  <thead>\n",
       "    <tr style=\"text-align: right;\">\n",
       "      <th></th>\n",
       "      <th>Unnamed: 0</th>\n",
       "      <th>id</th>\n",
       "      <th>mb_used</th>\n",
       "      <th>session_date</th>\n",
       "      <th>user_id</th>\n",
       "    </tr>\n",
       "  </thead>\n",
       "  <tbody>\n",
       "    <tr>\n",
       "      <td>0</td>\n",
       "      <td>0</td>\n",
       "      <td>1000_0</td>\n",
       "      <td>112.95</td>\n",
       "      <td>2018-11-25</td>\n",
       "      <td>1000</td>\n",
       "    </tr>\n",
       "    <tr>\n",
       "      <td>1</td>\n",
       "      <td>1</td>\n",
       "      <td>1000_1</td>\n",
       "      <td>1,052.81</td>\n",
       "      <td>2018-09-07</td>\n",
       "      <td>1000</td>\n",
       "    </tr>\n",
       "    <tr>\n",
       "      <td>2</td>\n",
       "      <td>2</td>\n",
       "      <td>1000_2</td>\n",
       "      <td>1,197.26</td>\n",
       "      <td>2018-06-25</td>\n",
       "      <td>1000</td>\n",
       "    </tr>\n",
       "    <tr>\n",
       "      <td>3</td>\n",
       "      <td>3</td>\n",
       "      <td>1000_3</td>\n",
       "      <td>550.27</td>\n",
       "      <td>2018-08-22</td>\n",
       "      <td>1000</td>\n",
       "    </tr>\n",
       "    <tr>\n",
       "      <td>4</td>\n",
       "      <td>4</td>\n",
       "      <td>1000_4</td>\n",
       "      <td>302.56</td>\n",
       "      <td>2018-09-24</td>\n",
       "      <td>1000</td>\n",
       "    </tr>\n",
       "  </tbody>\n",
       "</table>\n",
       "</div>"
      ],
      "text/plain": [
       "   Unnamed: 0      id  mb_used session_date  user_id\n",
       "0           0  1000_0   112.95   2018-11-25     1000\n",
       "1           1  1000_1 1,052.81   2018-09-07     1000\n",
       "2           2  1000_2 1,197.26   2018-06-25     1000\n",
       "3           3  1000_3   550.27   2018-08-22     1000\n",
       "4           4  1000_4   302.56   2018-09-24     1000"
      ]
     },
     "metadata": {},
     "output_type": "display_data"
    },
    {
     "name": "stdout",
     "output_type": "stream",
     "text": [
      "<class 'pandas.core.frame.DataFrame'>\n",
      "RangeIndex: 149396 entries, 0 to 149395\n",
      "Data columns (total 5 columns):\n",
      "Unnamed: 0      149396 non-null int64\n",
      "id              149396 non-null object\n",
      "mb_used         149396 non-null float64\n",
      "session_date    149396 non-null object\n",
      "user_id         149396 non-null int64\n",
      "dtypes: float64(1), int64(2), object(2)\n",
      "memory usage: 5.7+ MB\n",
      "None\n"
     ]
    }
   ],
   "source": [
    "df_internet = pd.read_csv('/datasets/internet.csv')\n",
    "display(df_internet.head())\n",
    "print(df_internet.info())"
   ]
  },
  {
   "cell_type": "markdown",
   "metadata": {},
   "source": [
    "***Информация о тарифах***"
   ]
  },
  {
   "cell_type": "code",
   "execution_count": 491,
   "metadata": {},
   "outputs": [
    {
     "data": {
      "text/html": [
       "<div>\n",
       "<style scoped>\n",
       "    .dataframe tbody tr th:only-of-type {\n",
       "        vertical-align: middle;\n",
       "    }\n",
       "\n",
       "    .dataframe tbody tr th {\n",
       "        vertical-align: top;\n",
       "    }\n",
       "\n",
       "    .dataframe thead th {\n",
       "        text-align: right;\n",
       "    }\n",
       "</style>\n",
       "<table border=\"1\" class=\"dataframe\">\n",
       "  <thead>\n",
       "    <tr style=\"text-align: right;\">\n",
       "      <th></th>\n",
       "      <th>messages_included</th>\n",
       "      <th>mb_per_month_included</th>\n",
       "      <th>minutes_included</th>\n",
       "      <th>rub_monthly_fee</th>\n",
       "      <th>rub_per_gb</th>\n",
       "      <th>rub_per_message</th>\n",
       "      <th>rub_per_minute</th>\n",
       "      <th>tariff_name</th>\n",
       "    </tr>\n",
       "  </thead>\n",
       "  <tbody>\n",
       "    <tr>\n",
       "      <td>0</td>\n",
       "      <td>50</td>\n",
       "      <td>15360</td>\n",
       "      <td>500</td>\n",
       "      <td>550</td>\n",
       "      <td>200</td>\n",
       "      <td>3</td>\n",
       "      <td>3</td>\n",
       "      <td>smart</td>\n",
       "    </tr>\n",
       "    <tr>\n",
       "      <td>1</td>\n",
       "      <td>1000</td>\n",
       "      <td>30720</td>\n",
       "      <td>3000</td>\n",
       "      <td>1950</td>\n",
       "      <td>150</td>\n",
       "      <td>1</td>\n",
       "      <td>1</td>\n",
       "      <td>ultra</td>\n",
       "    </tr>\n",
       "  </tbody>\n",
       "</table>\n",
       "</div>"
      ],
      "text/plain": [
       "   messages_included  mb_per_month_included  minutes_included  \\\n",
       "0                 50                  15360               500   \n",
       "1               1000                  30720              3000   \n",
       "\n",
       "   rub_monthly_fee  rub_per_gb  rub_per_message  rub_per_minute tariff_name  \n",
       "0              550         200                3               3       smart  \n",
       "1             1950         150                1               1       ultra  "
      ]
     },
     "metadata": {},
     "output_type": "display_data"
    },
    {
     "name": "stdout",
     "output_type": "stream",
     "text": [
      "<class 'pandas.core.frame.DataFrame'>\n",
      "RangeIndex: 2 entries, 0 to 1\n",
      "Data columns (total 8 columns):\n",
      "messages_included        2 non-null int64\n",
      "mb_per_month_included    2 non-null int64\n",
      "minutes_included         2 non-null int64\n",
      "rub_monthly_fee          2 non-null int64\n",
      "rub_per_gb               2 non-null int64\n",
      "rub_per_message          2 non-null int64\n",
      "rub_per_minute           2 non-null int64\n",
      "tariff_name              2 non-null object\n",
      "dtypes: int64(7), object(1)\n",
      "memory usage: 256.0+ bytes\n"
     ]
    },
    {
     "data": {
      "text/plain": [
       "None"
      ]
     },
     "metadata": {},
     "output_type": "display_data"
    }
   ],
   "source": [
    "df_tariffs = pd.read_csv('/datasets/tariffs.csv')\n",
    "display(df_tariffs.head())\n",
    "display(df_tariffs.info())"
   ]
  },
  {
   "cell_type": "markdown",
   "metadata": {},
   "source": [
    "## Подготовка данных"
   ]
  },
  {
   "cell_type": "markdown",
   "metadata": {},
   "source": [
    "### Поиск и заполнение пропусков"
   ]
  },
  {
   "cell_type": "code",
   "execution_count": 492,
   "metadata": {},
   "outputs": [],
   "source": [
    "data_list = [df_users, df_calls, df_messages, df_internet]\n",
    "name_list = ['df_users', 'df_calls', 'df_messages', 'df_internet']"
   ]
  },
  {
   "cell_type": "code",
   "execution_count": 493,
   "metadata": {},
   "outputs": [
    {
     "name": "stdout",
     "output_type": "stream",
     "text": [
      "df_users\n"
     ]
    },
    {
     "data": {
      "text/plain": [
       "user_id         0\n",
       "age             0\n",
       "churn_date    462\n",
       "city            0\n",
       "first_name      0\n",
       "last_name       0\n",
       "reg_date        0\n",
       "tariff          0\n",
       "dtype: int64"
      ]
     },
     "metadata": {},
     "output_type": "display_data"
    },
    {
     "name": "stdout",
     "output_type": "stream",
     "text": [
      "\n",
      "df_calls\n"
     ]
    },
    {
     "data": {
      "text/plain": [
       "id           0\n",
       "call_date    0\n",
       "duration     0\n",
       "user_id      0\n",
       "dtype: int64"
      ]
     },
     "metadata": {},
     "output_type": "display_data"
    },
    {
     "name": "stdout",
     "output_type": "stream",
     "text": [
      "\n",
      "df_messages\n"
     ]
    },
    {
     "data": {
      "text/plain": [
       "id              0\n",
       "message_date    0\n",
       "user_id         0\n",
       "dtype: int64"
      ]
     },
     "metadata": {},
     "output_type": "display_data"
    },
    {
     "name": "stdout",
     "output_type": "stream",
     "text": [
      "\n",
      "df_internet\n"
     ]
    },
    {
     "data": {
      "text/plain": [
       "Unnamed: 0      0\n",
       "id              0\n",
       "mb_used         0\n",
       "session_date    0\n",
       "user_id         0\n",
       "dtype: int64"
      ]
     },
     "metadata": {},
     "output_type": "display_data"
    },
    {
     "name": "stdout",
     "output_type": "stream",
     "text": [
      "\n"
     ]
    }
   ],
   "source": [
    "for i in range(4):\n",
    "    print(name_list[i])\n",
    "    display(data_list[i].isna().sum())\n",
    "    print()"
   ]
  },
  {
   "cell_type": "code",
   "execution_count": 494,
   "metadata": {},
   "outputs": [
    {
     "data": {
      "text/html": [
       "<div>\n",
       "<style scoped>\n",
       "    .dataframe tbody tr th:only-of-type {\n",
       "        vertical-align: middle;\n",
       "    }\n",
       "\n",
       "    .dataframe tbody tr th {\n",
       "        vertical-align: top;\n",
       "    }\n",
       "\n",
       "    .dataframe thead th {\n",
       "        text-align: right;\n",
       "    }\n",
       "</style>\n",
       "<table border=\"1\" class=\"dataframe\">\n",
       "  <thead>\n",
       "    <tr style=\"text-align: right;\">\n",
       "      <th></th>\n",
       "      <th>user_id</th>\n",
       "      <th>age</th>\n",
       "      <th>churn_date</th>\n",
       "      <th>city</th>\n",
       "      <th>first_name</th>\n",
       "      <th>last_name</th>\n",
       "      <th>reg_date</th>\n",
       "      <th>tariff</th>\n",
       "    </tr>\n",
       "  </thead>\n",
       "  <tbody>\n",
       "    <tr>\n",
       "      <td>19</td>\n",
       "      <td>1019</td>\n",
       "      <td>63</td>\n",
       "      <td>2018-10-05</td>\n",
       "      <td>Томск</td>\n",
       "      <td>Игнатий</td>\n",
       "      <td>Круглов</td>\n",
       "      <td>2018-05-16</td>\n",
       "      <td>ultra</td>\n",
       "    </tr>\n",
       "    <tr>\n",
       "      <td>20</td>\n",
       "      <td>1020</td>\n",
       "      <td>59</td>\n",
       "      <td>2018-12-18</td>\n",
       "      <td>Чита</td>\n",
       "      <td>Тала</td>\n",
       "      <td>Костина</td>\n",
       "      <td>2018-10-22</td>\n",
       "      <td>smart</td>\n",
       "    </tr>\n",
       "    <tr>\n",
       "      <td>34</td>\n",
       "      <td>1034</td>\n",
       "      <td>66</td>\n",
       "      <td>2018-11-21</td>\n",
       "      <td>Вологда</td>\n",
       "      <td>Святослав</td>\n",
       "      <td>Бондарев</td>\n",
       "      <td>2018-08-26</td>\n",
       "      <td>smart</td>\n",
       "    </tr>\n",
       "    <tr>\n",
       "      <td>50</td>\n",
       "      <td>1050</td>\n",
       "      <td>44</td>\n",
       "      <td>2018-10-03</td>\n",
       "      <td>Тюмень</td>\n",
       "      <td>Рузана</td>\n",
       "      <td>Аничкина</td>\n",
       "      <td>2018-06-16</td>\n",
       "      <td>ultra</td>\n",
       "    </tr>\n",
       "    <tr>\n",
       "      <td>51</td>\n",
       "      <td>1051</td>\n",
       "      <td>37</td>\n",
       "      <td>2018-10-14</td>\n",
       "      <td>Москва</td>\n",
       "      <td>Кристина</td>\n",
       "      <td>Сомова</td>\n",
       "      <td>2018-05-28</td>\n",
       "      <td>smart</td>\n",
       "    </tr>\n",
       "  </tbody>\n",
       "</table>\n",
       "</div>"
      ],
      "text/plain": [
       "    user_id  age  churn_date     city first_name last_name    reg_date tariff\n",
       "19     1019   63  2018-10-05    Томск    Игнатий   Круглов  2018-05-16  ultra\n",
       "20     1020   59  2018-12-18     Чита       Тала   Костина  2018-10-22  smart\n",
       "34     1034   66  2018-11-21  Вологда  Святослав  Бондарев  2018-08-26  smart\n",
       "50     1050   44  2018-10-03   Тюмень     Рузана  Аничкина  2018-06-16  ultra\n",
       "51     1051   37  2018-10-14   Москва   Кристина    Сомова  2018-05-28  smart"
      ]
     },
     "execution_count": 494,
     "metadata": {},
     "output_type": "execute_result"
    }
   ],
   "source": [
    "df_users[~df_users['churn_date'].isna()].head()"
   ]
  },
  {
   "cell_type": "markdown",
   "metadata": {},
   "source": [
    "462 из 500 действующих тарифов"
   ]
  },
  {
   "cell_type": "markdown",
   "metadata": {},
   "source": [
    "Проверим полноту данных о пользователях"
   ]
  },
  {
   "cell_type": "code",
   "execution_count": 495,
   "metadata": {},
   "outputs": [
    {
     "name": "stdout",
     "output_type": "stream",
     "text": [
      "df_users\n"
     ]
    },
    {
     "data": {
      "text/plain": [
       "500"
      ]
     },
     "metadata": {},
     "output_type": "display_data"
    },
    {
     "name": "stdout",
     "output_type": "stream",
     "text": [
      "\n",
      "df_calls\n"
     ]
    },
    {
     "data": {
      "text/plain": [
       "492"
      ]
     },
     "metadata": {},
     "output_type": "display_data"
    },
    {
     "name": "stdout",
     "output_type": "stream",
     "text": [
      "\n",
      "df_messages\n"
     ]
    },
    {
     "data": {
      "text/plain": [
       "426"
      ]
     },
     "metadata": {},
     "output_type": "display_data"
    },
    {
     "name": "stdout",
     "output_type": "stream",
     "text": [
      "\n",
      "df_internet\n"
     ]
    },
    {
     "data": {
      "text/plain": [
       "497"
      ]
     },
     "metadata": {},
     "output_type": "display_data"
    },
    {
     "name": "stdout",
     "output_type": "stream",
     "text": [
      "\n"
     ]
    }
   ],
   "source": [
    "for i in range(4):\n",
    "    print(name_list[i])\n",
    "    display(len(data_list[i]['user_id'].unique()))\n",
    "    print()"
   ]
  },
  {
   "cell_type": "markdown",
   "metadata": {},
   "source": [
    "Скорее всего пропуски из-за отсутствия активности, для заполнения объеденим с датафреймом df_users и удалим личные данные."
   ]
  },
  {
   "cell_type": "code",
   "execution_count": 496,
   "metadata": {},
   "outputs": [
    {
     "name": "stdout",
     "output_type": "stream",
     "text": [
      "500\n",
      "500\n",
      "500\n"
     ]
    }
   ],
   "source": [
    "data_list_short = [df_calls, df_messages, df_internet]\n",
    "for i in data_list_short:\n",
    "    i = df_users\\\n",
    "    .merge(i,how='outer')\\\n",
    "    .drop(['first_name','last_name'],axis=1)\\\n",
    "    .fillna(0)\n",
    "    print(len(i['user_id'].unique()))"
   ]
  },
  {
   "cell_type": "markdown",
   "metadata": {},
   "source": [
    "### Поиск дубликатов"
   ]
  },
  {
   "cell_type": "code",
   "execution_count": 497,
   "metadata": {},
   "outputs": [
    {
     "name": "stdout",
     "output_type": "stream",
     "text": [
      "0\n",
      "0\n",
      "0\n",
      "0\n"
     ]
    }
   ],
   "source": [
    "for i in data_list:\n",
    "    print(i.duplicated().sum())"
   ]
  },
  {
   "cell_type": "markdown",
   "metadata": {},
   "source": [
    "Явных дубликатов нет"
   ]
  },
  {
   "cell_type": "markdown",
   "metadata": {},
   "source": [
    "Приведем строковые столбцы к нижнему регистру чтобы исключить возможное дублирование"
   ]
  },
  {
   "cell_type": "code",
   "execution_count": 498,
   "metadata": {},
   "outputs": [],
   "source": [
    "df_users['city'] = df_users['city'].str.lower()\n",
    "df_users['first_name'] = df_users['first_name'].str.lower()\n",
    "df_users['last_name'] = df_users['last_name'].str.lower()\n",
    "df_users['tariff'] = df_users['tariff'].str.lower()"
   ]
  },
  {
   "cell_type": "markdown",
   "metadata": {},
   "source": [
    "### Приведение типов данных"
   ]
  },
  {
   "cell_type": "markdown",
   "metadata": {},
   "source": [
    "Типы данных в столбцах таблиц указаны верно, за исключением дат (они указаны как строковые).\n",
    "Приводить их к формату datetime будем в части анализа данных в ходе решения конкретных задач."
   ]
  },
  {
   "cell_type": "markdown",
   "metadata": {},
   "source": [
    "***Округление значений длительности звонков и интернет сессий и расчет активности пользователей по месяцам***"
   ]
  },
  {
   "cell_type": "markdown",
   "metadata": {},
   "source": [
    "Округлим значения длительности звонков"
   ]
  },
  {
   "cell_type": "code",
   "execution_count": 499,
   "metadata": {},
   "outputs": [],
   "source": [
    "df_calls['duration'] = df_calls['duration'].apply(np.ceil).astype('int')"
   ]
  },
  {
   "cell_type": "markdown",
   "metadata": {},
   "source": [
    "Приведем время к datetime"
   ]
  },
  {
   "cell_type": "code",
   "execution_count": 500,
   "metadata": {},
   "outputs": [
    {
     "data": {
      "text/plain": [
       "2018    202607\n",
       "Name: year, dtype: int64"
      ]
     },
     "execution_count": 500,
     "metadata": {},
     "output_type": "execute_result"
    }
   ],
   "source": [
    "df_calls['call_date'] = pd.to_datetime(df_calls['call_date'], format='%Y-%m-%d')\n",
    "df_calls['month'] = pd.DatetimeIndex(df_calls['call_date']).month\n",
    "df_calls['year'] = pd.DatetimeIndex(df_calls['call_date']).year\n",
    "df_calls['year'].value_counts()"
   ]
  },
  {
   "cell_type": "code",
   "execution_count": 501,
   "metadata": {},
   "outputs": [
    {
     "data": {
      "text/plain": [
       "2018    123036\n",
       "Name: year, dtype: int64"
      ]
     },
     "execution_count": 501,
     "metadata": {},
     "output_type": "execute_result"
    }
   ],
   "source": [
    "df_messages['message_date'] = pd.to_datetime(df_messages['message_date'], format='%Y-%m-%d')\n",
    "df_messages['month'] = pd.DatetimeIndex(df_messages['message_date']).month\n",
    "df_messages['year'] = pd.DatetimeIndex(df_messages['message_date']).year\n",
    "df_messages['year'].value_counts()"
   ]
  },
  {
   "cell_type": "code",
   "execution_count": 502,
   "metadata": {},
   "outputs": [
    {
     "data": {
      "text/plain": [
       "2018    149396\n",
       "Name: year, dtype: int64"
      ]
     },
     "execution_count": 502,
     "metadata": {},
     "output_type": "execute_result"
    }
   ],
   "source": [
    "df_internet['session_date'] = pd.to_datetime(df_internet['session_date'], format='%Y-%m-%d')\n",
    "df_internet['month'] = pd.DatetimeIndex(df_internet['session_date']).month\n",
    "df_internet['year'] = pd.DatetimeIndex(df_internet['session_date']).year\n",
    "df_internet['year'].value_counts()"
   ]
  },
  {
   "cell_type": "markdown",
   "metadata": {},
   "source": [
    "В данных есть 1970 год, чтобы избежать искажения в анализе данных, удалим записи с этим значением"
   ]
  },
  {
   "cell_type": "code",
   "execution_count": 503,
   "metadata": {},
   "outputs": [],
   "source": [
    "df_calls = df_calls[~(df_calls['year']==1970)]\n",
    "df_messages = df_messages[~(df_messages['year']==1970)]\n",
    "df_internet = df_internet[~(df_internet['year']==1970)]"
   ]
  },
  {
   "cell_type": "markdown",
   "metadata": {},
   "source": [
    "### Подсчет звонков, сообщений и трафика"
   ]
  },
  {
   "cell_type": "markdown",
   "metadata": {},
   "source": [
    "Посчитаем длительность сделанных звонков по месяцам"
   ]
  },
  {
   "cell_type": "markdown",
   "metadata": {},
   "source": [
    "Дополним таблицу со звонками данными о пользователях"
   ]
  },
  {
   "cell_type": "code",
   "execution_count": 504,
   "metadata": {
    "scrolled": true
   },
   "outputs": [
    {
     "data": {
      "text/plain": [
       "500"
      ]
     },
     "execution_count": 504,
     "metadata": {},
     "output_type": "execute_result"
    }
   ],
   "source": [
    "df_calls = df_users.merge(df_calls,how='outer').drop(['first_name','last_name'],axis=1).fillna(0)\n",
    "len(df_calls['user_id'].unique())\n",
    "\n",
    "df_messages = df_users.merge(df_messages,how='outer').drop(['first_name','last_name'],axis=1).fillna(0)\n",
    "len(df_messages['user_id'].unique())\n",
    "\n",
    "df_internet = df_users.merge(df_internet,how='outer').drop(['first_name','last_name'],axis=1).fillna(0)\n",
    "len(df_internet['user_id'].unique())"
   ]
  },
  {
   "cell_type": "code",
   "execution_count": 505,
   "metadata": {
    "scrolled": true
   },
   "outputs": [
    {
     "data": {
      "text/html": [
       "<div>\n",
       "<style scoped>\n",
       "    .dataframe tbody tr th:only-of-type {\n",
       "        vertical-align: middle;\n",
       "    }\n",
       "\n",
       "    .dataframe tbody tr th {\n",
       "        vertical-align: top;\n",
       "    }\n",
       "\n",
       "    .dataframe thead th {\n",
       "        text-align: right;\n",
       "    }\n",
       "</style>\n",
       "<table border=\"1\" class=\"dataframe\">\n",
       "  <thead>\n",
       "    <tr style=\"text-align: right;\">\n",
       "      <th></th>\n",
       "      <th>month</th>\n",
       "      <th>user_id</th>\n",
       "      <th>tariff</th>\n",
       "      <th>city</th>\n",
       "      <th>call_sum</th>\n",
       "      <th>call_count</th>\n",
       "    </tr>\n",
       "  </thead>\n",
       "  <tbody>\n",
       "    <tr>\n",
       "      <td>0</td>\n",
       "      <td>0.00</td>\n",
       "      <td>1091</td>\n",
       "      <td>ultra</td>\n",
       "      <td>набережные челны</td>\n",
       "      <td>0.00</td>\n",
       "      <td>1</td>\n",
       "    </tr>\n",
       "    <tr>\n",
       "      <td>1</td>\n",
       "      <td>0.00</td>\n",
       "      <td>1106</td>\n",
       "      <td>ultra</td>\n",
       "      <td>калуга</td>\n",
       "      <td>0.00</td>\n",
       "      <td>1</td>\n",
       "    </tr>\n",
       "    <tr>\n",
       "      <td>2</td>\n",
       "      <td>0.00</td>\n",
       "      <td>1128</td>\n",
       "      <td>ultra</td>\n",
       "      <td>волжский</td>\n",
       "      <td>0.00</td>\n",
       "      <td>1</td>\n",
       "    </tr>\n",
       "    <tr>\n",
       "      <td>3</td>\n",
       "      <td>0.00</td>\n",
       "      <td>1231</td>\n",
       "      <td>ultra</td>\n",
       "      <td>чебоксары</td>\n",
       "      <td>0.00</td>\n",
       "      <td>1</td>\n",
       "    </tr>\n",
       "    <tr>\n",
       "      <td>4</td>\n",
       "      <td>0.00</td>\n",
       "      <td>1328</td>\n",
       "      <td>ultra</td>\n",
       "      <td>мурманск</td>\n",
       "      <td>0.00</td>\n",
       "      <td>1</td>\n",
       "    </tr>\n",
       "  </tbody>\n",
       "</table>\n",
       "</div>"
      ],
      "text/plain": [
       "   month  user_id tariff              city  call_sum  call_count\n",
       "0   0.00     1091  ultra  набережные челны      0.00           1\n",
       "1   0.00     1106  ultra            калуга      0.00           1\n",
       "2   0.00     1128  ultra          волжский      0.00           1\n",
       "3   0.00     1231  ultra         чебоксары      0.00           1\n",
       "4   0.00     1328  ultra          мурманск      0.00           1"
      ]
     },
     "execution_count": 505,
     "metadata": {},
     "output_type": "execute_result"
    }
   ],
   "source": [
    "df_calls_used = df_calls.pivot_table(index=['month','user_id','tariff', 'city'],\n",
    "                                           values='duration',\n",
    "                                           aggfunc=['sum','count'])\\\n",
    ".fillna(0)\\\n",
    ".reset_index()\n",
    "df_calls_used.columns = ['month', 'user_id', 'tariff','city', 'call_sum', 'call_count']\n",
    "df_calls_used.head()"
   ]
  },
  {
   "cell_type": "markdown",
   "metadata": {},
   "source": [
    "Посчитаем количество сообщений в месяц для пользователей"
   ]
  },
  {
   "cell_type": "code",
   "execution_count": 506,
   "metadata": {},
   "outputs": [
    {
     "data": {
      "text/html": [
       "<div>\n",
       "<style scoped>\n",
       "    .dataframe tbody tr th:only-of-type {\n",
       "        vertical-align: middle;\n",
       "    }\n",
       "\n",
       "    .dataframe tbody tr th {\n",
       "        vertical-align: top;\n",
       "    }\n",
       "\n",
       "    .dataframe thead th {\n",
       "        text-align: right;\n",
       "    }\n",
       "</style>\n",
       "<table border=\"1\" class=\"dataframe\">\n",
       "  <thead>\n",
       "    <tr style=\"text-align: right;\">\n",
       "      <th></th>\n",
       "      <th>month</th>\n",
       "      <th>user_id</th>\n",
       "      <th>message_count</th>\n",
       "    </tr>\n",
       "  </thead>\n",
       "  <tbody>\n",
       "    <tr>\n",
       "      <td>0</td>\n",
       "      <td>0.00</td>\n",
       "      <td>1001</td>\n",
       "      <td>1</td>\n",
       "    </tr>\n",
       "    <tr>\n",
       "      <td>1</td>\n",
       "      <td>0.00</td>\n",
       "      <td>1006</td>\n",
       "      <td>1</td>\n",
       "    </tr>\n",
       "    <tr>\n",
       "      <td>2</td>\n",
       "      <td>0.00</td>\n",
       "      <td>1010</td>\n",
       "      <td>1</td>\n",
       "    </tr>\n",
       "    <tr>\n",
       "      <td>3</td>\n",
       "      <td>0.00</td>\n",
       "      <td>1017</td>\n",
       "      <td>1</td>\n",
       "    </tr>\n",
       "    <tr>\n",
       "      <td>4</td>\n",
       "      <td>0.00</td>\n",
       "      <td>1024</td>\n",
       "      <td>1</td>\n",
       "    </tr>\n",
       "  </tbody>\n",
       "</table>\n",
       "</div>"
      ],
      "text/plain": [
       "   month  user_id  message_count\n",
       "0   0.00     1001              1\n",
       "1   0.00     1006              1\n",
       "2   0.00     1010              1\n",
       "3   0.00     1017              1\n",
       "4   0.00     1024              1"
      ]
     },
     "execution_count": 506,
     "metadata": {},
     "output_type": "execute_result"
    }
   ],
   "source": [
    "df_messages_count = df_messages.pivot_table(index=['month', 'user_id'],\n",
    "                                           values='message_date',\n",
    "                                           aggfunc='count')\\\n",
    ".fillna(0)\\\n",
    ".reset_index()\\\n",
    ".rename({'message_date':'message_count'},axis=1)\n",
    "df_messages_count.head()"
   ]
  },
  {
   "cell_type": "markdown",
   "metadata": {},
   "source": [
    "Приведем таблицу с использованными мегабайтами по месяцам для каждого пользователя и округлим значения согласно [примечанию](#note_1)"
   ]
  },
  {
   "cell_type": "code",
   "execution_count": 507,
   "metadata": {
    "scrolled": true
   },
   "outputs": [
    {
     "data": {
      "text/html": [
       "<div>\n",
       "<style scoped>\n",
       "    .dataframe tbody tr th:only-of-type {\n",
       "        vertical-align: middle;\n",
       "    }\n",
       "\n",
       "    .dataframe tbody tr th {\n",
       "        vertical-align: top;\n",
       "    }\n",
       "\n",
       "    .dataframe thead th {\n",
       "        text-align: right;\n",
       "    }\n",
       "</style>\n",
       "<table border=\"1\" class=\"dataframe\">\n",
       "  <thead>\n",
       "    <tr style=\"text-align: right;\">\n",
       "      <th></th>\n",
       "      <th>month</th>\n",
       "      <th>user_id</th>\n",
       "      <th>gb_used</th>\n",
       "    </tr>\n",
       "  </thead>\n",
       "  <tbody>\n",
       "    <tr>\n",
       "      <td>0</td>\n",
       "      <td>0.00</td>\n",
       "      <td>1128</td>\n",
       "      <td>0.00</td>\n",
       "    </tr>\n",
       "    <tr>\n",
       "      <td>1</td>\n",
       "      <td>0.00</td>\n",
       "      <td>1273</td>\n",
       "      <td>0.00</td>\n",
       "    </tr>\n",
       "    <tr>\n",
       "      <td>2</td>\n",
       "      <td>0.00</td>\n",
       "      <td>1371</td>\n",
       "      <td>0.00</td>\n",
       "    </tr>\n",
       "    <tr>\n",
       "      <td>3</td>\n",
       "      <td>1.00</td>\n",
       "      <td>1005</td>\n",
       "      <td>3.00</td>\n",
       "    </tr>\n",
       "    <tr>\n",
       "      <td>4</td>\n",
       "      <td>1.00</td>\n",
       "      <td>1032</td>\n",
       "      <td>24.00</td>\n",
       "    </tr>\n",
       "  </tbody>\n",
       "</table>\n",
       "</div>"
      ],
      "text/plain": [
       "   month  user_id  gb_used\n",
       "0   0.00     1128     0.00\n",
       "1   0.00     1273     0.00\n",
       "2   0.00     1371     0.00\n",
       "3   1.00     1005     3.00\n",
       "4   1.00     1032    24.00"
      ]
     },
     "execution_count": 507,
     "metadata": {},
     "output_type": "execute_result"
    }
   ],
   "source": [
    "df_internet_used = df_internet.pivot_table(index=['month', 'user_id'],\n",
    "                                           values='mb_used',\n",
    "                                           aggfunc='sum',\n",
    "                                          )\\\n",
    ".apply(lambda x: x/1024)\\\n",
    ".apply(np.ceil)\\\n",
    ".fillna(0)\\\n",
    ".reset_index()\\\n",
    ".rename({'mb_used':'gb_used'},axis=1)\n",
    "\n",
    "df_internet_used.head()"
   ]
  },
  {
   "cell_type": "markdown",
   "metadata": {},
   "source": [
    "###  Подсчет ежемесячной выручки по пользователям"
   ]
  },
  {
   "cell_type": "code",
   "execution_count": 508,
   "metadata": {},
   "outputs": [
    {
     "data": {
      "text/html": [
       "<div>\n",
       "<style scoped>\n",
       "    .dataframe tbody tr th:only-of-type {\n",
       "        vertical-align: middle;\n",
       "    }\n",
       "\n",
       "    .dataframe tbody tr th {\n",
       "        vertical-align: top;\n",
       "    }\n",
       "\n",
       "    .dataframe thead th {\n",
       "        text-align: right;\n",
       "    }\n",
       "</style>\n",
       "<table border=\"1\" class=\"dataframe\">\n",
       "  <thead>\n",
       "    <tr style=\"text-align: right;\">\n",
       "      <th></th>\n",
       "      <th>messages_included</th>\n",
       "      <th>mb_per_month_included</th>\n",
       "      <th>minutes_included</th>\n",
       "      <th>rub_monthly_fee</th>\n",
       "      <th>rub_per_gb</th>\n",
       "      <th>rub_per_message</th>\n",
       "      <th>rub_per_minute</th>\n",
       "      <th>tariff_name</th>\n",
       "    </tr>\n",
       "  </thead>\n",
       "  <tbody>\n",
       "    <tr>\n",
       "      <td>0</td>\n",
       "      <td>50</td>\n",
       "      <td>15360</td>\n",
       "      <td>500</td>\n",
       "      <td>550</td>\n",
       "      <td>200</td>\n",
       "      <td>3</td>\n",
       "      <td>3</td>\n",
       "      <td>smart</td>\n",
       "    </tr>\n",
       "  </tbody>\n",
       "</table>\n",
       "</div>"
      ],
      "text/plain": [
       "   messages_included  mb_per_month_included  minutes_included  \\\n",
       "0                 50                  15360               500   \n",
       "\n",
       "   rub_monthly_fee  rub_per_gb  rub_per_message  rub_per_minute tariff_name  \n",
       "0              550         200                3               3       smart  "
      ]
     },
     "metadata": {},
     "output_type": "display_data"
    },
    {
     "data": {
      "text/html": [
       "<div>\n",
       "<style scoped>\n",
       "    .dataframe tbody tr th:only-of-type {\n",
       "        vertical-align: middle;\n",
       "    }\n",
       "\n",
       "    .dataframe tbody tr th {\n",
       "        vertical-align: top;\n",
       "    }\n",
       "\n",
       "    .dataframe thead th {\n",
       "        text-align: right;\n",
       "    }\n",
       "</style>\n",
       "<table border=\"1\" class=\"dataframe\">\n",
       "  <thead>\n",
       "    <tr style=\"text-align: right;\">\n",
       "      <th></th>\n",
       "      <th>messages_included</th>\n",
       "      <th>mb_per_month_included</th>\n",
       "      <th>minutes_included</th>\n",
       "      <th>rub_monthly_fee</th>\n",
       "      <th>rub_per_gb</th>\n",
       "      <th>rub_per_message</th>\n",
       "      <th>rub_per_minute</th>\n",
       "      <th>tariff_name</th>\n",
       "    </tr>\n",
       "  </thead>\n",
       "  <tbody>\n",
       "    <tr>\n",
       "      <td>1</td>\n",
       "      <td>1000</td>\n",
       "      <td>30720</td>\n",
       "      <td>3000</td>\n",
       "      <td>1950</td>\n",
       "      <td>150</td>\n",
       "      <td>1</td>\n",
       "      <td>1</td>\n",
       "      <td>ultra</td>\n",
       "    </tr>\n",
       "  </tbody>\n",
       "</table>\n",
       "</div>"
      ],
      "text/plain": [
       "   messages_included  mb_per_month_included  minutes_included  \\\n",
       "1               1000                  30720              3000   \n",
       "\n",
       "   rub_monthly_fee  rub_per_gb  rub_per_message  rub_per_minute tariff_name  \n",
       "1             1950         150                1               1       ultra  "
      ]
     },
     "metadata": {},
     "output_type": "display_data"
    }
   ],
   "source": [
    "display(df_tariffs.query('tariff_name==\"smart\"'))\n",
    "display(df_tariffs.query('tariff_name==\"ultra\"'))"
   ]
  },
  {
   "cell_type": "markdown",
   "metadata": {},
   "source": [
    "- Посчитаем остаток минут у пользователей на тарифе Ультра\n",
    "- Все значения меньше нуля заменим на 0\n",
    "- Посчитаем деньги уплаченные за перерасход минут"
   ]
  },
  {
   "cell_type": "markdown",
   "metadata": {},
   "source": [
    "Объединим полученные таблицы"
   ]
  },
  {
   "cell_type": "code",
   "execution_count": 509,
   "metadata": {
    "scrolled": true
   },
   "outputs": [
    {
     "data": {
      "text/html": [
       "<div>\n",
       "<style scoped>\n",
       "    .dataframe tbody tr th:only-of-type {\n",
       "        vertical-align: middle;\n",
       "    }\n",
       "\n",
       "    .dataframe tbody tr th {\n",
       "        vertical-align: top;\n",
       "    }\n",
       "\n",
       "    .dataframe thead th {\n",
       "        text-align: right;\n",
       "    }\n",
       "</style>\n",
       "<table border=\"1\" class=\"dataframe\">\n",
       "  <thead>\n",
       "    <tr style=\"text-align: right;\">\n",
       "      <th></th>\n",
       "      <th>month</th>\n",
       "      <th>user_id</th>\n",
       "      <th>tariff</th>\n",
       "      <th>city</th>\n",
       "      <th>call_sum</th>\n",
       "      <th>call_count</th>\n",
       "      <th>gb_used</th>\n",
       "      <th>message_count</th>\n",
       "    </tr>\n",
       "  </thead>\n",
       "  <tbody>\n",
       "    <tr>\n",
       "      <td>0</td>\n",
       "      <td>0.00</td>\n",
       "      <td>1128</td>\n",
       "      <td>ultra</td>\n",
       "      <td>волжский</td>\n",
       "      <td>0.00</td>\n",
       "      <td>1</td>\n",
       "      <td>0.00</td>\n",
       "      <td>1</td>\n",
       "    </tr>\n",
       "    <tr>\n",
       "      <td>1</td>\n",
       "      <td>0.00</td>\n",
       "      <td>1371</td>\n",
       "      <td>smart</td>\n",
       "      <td>омск</td>\n",
       "      <td>0.00</td>\n",
       "      <td>1</td>\n",
       "      <td>0.00</td>\n",
       "      <td>1</td>\n",
       "    </tr>\n",
       "    <tr>\n",
       "      <td>2</td>\n",
       "      <td>1.00</td>\n",
       "      <td>1005</td>\n",
       "      <td>smart</td>\n",
       "      <td>набережные челны</td>\n",
       "      <td>95.00</td>\n",
       "      <td>15</td>\n",
       "      <td>3.00</td>\n",
       "      <td>7</td>\n",
       "    </tr>\n",
       "    <tr>\n",
       "      <td>3</td>\n",
       "      <td>1.00</td>\n",
       "      <td>1032</td>\n",
       "      <td>smart</td>\n",
       "      <td>ульяновск</td>\n",
       "      <td>380.00</td>\n",
       "      <td>61</td>\n",
       "      <td>24.00</td>\n",
       "      <td>38</td>\n",
       "    </tr>\n",
       "    <tr>\n",
       "      <td>4</td>\n",
       "      <td>1.00</td>\n",
       "      <td>1045</td>\n",
       "      <td>smart</td>\n",
       "      <td>улан-удэ</td>\n",
       "      <td>9.00</td>\n",
       "      <td>1</td>\n",
       "      <td>3.00</td>\n",
       "      <td>5</td>\n",
       "    </tr>\n",
       "    <tr>\n",
       "      <td>...</td>\n",
       "      <td>...</td>\n",
       "      <td>...</td>\n",
       "      <td>...</td>\n",
       "      <td>...</td>\n",
       "      <td>...</td>\n",
       "      <td>...</td>\n",
       "      <td>...</td>\n",
       "      <td>...</td>\n",
       "    </tr>\n",
       "    <tr>\n",
       "      <td>2664</td>\n",
       "      <td>12.00</td>\n",
       "      <td>1493</td>\n",
       "      <td>ultra</td>\n",
       "      <td>красноярск</td>\n",
       "      <td>571.00</td>\n",
       "      <td>84</td>\n",
       "      <td>42.00</td>\n",
       "      <td>78</td>\n",
       "    </tr>\n",
       "    <tr>\n",
       "      <td>2665</td>\n",
       "      <td>12.00</td>\n",
       "      <td>1495</td>\n",
       "      <td>ultra</td>\n",
       "      <td>иркутск</td>\n",
       "      <td>1,031.00</td>\n",
       "      <td>155</td>\n",
       "      <td>23.00</td>\n",
       "      <td>84</td>\n",
       "    </tr>\n",
       "    <tr>\n",
       "      <td>2666</td>\n",
       "      <td>12.00</td>\n",
       "      <td>1496</td>\n",
       "      <td>smart</td>\n",
       "      <td>вологда</td>\n",
       "      <td>518.00</td>\n",
       "      <td>80</td>\n",
       "      <td>21.00</td>\n",
       "      <td>51</td>\n",
       "    </tr>\n",
       "    <tr>\n",
       "      <td>2667</td>\n",
       "      <td>12.00</td>\n",
       "      <td>1497</td>\n",
       "      <td>smart</td>\n",
       "      <td>челябинск</td>\n",
       "      <td>545.00</td>\n",
       "      <td>71</td>\n",
       "      <td>20.00</td>\n",
       "      <td>17</td>\n",
       "    </tr>\n",
       "    <tr>\n",
       "      <td>2668</td>\n",
       "      <td>12.00</td>\n",
       "      <td>1499</td>\n",
       "      <td>smart</td>\n",
       "      <td>пермь</td>\n",
       "      <td>492.00</td>\n",
       "      <td>69</td>\n",
       "      <td>13.00</td>\n",
       "      <td>66</td>\n",
       "    </tr>\n",
       "  </tbody>\n",
       "</table>\n",
       "<p>2669 rows × 8 columns</p>\n",
       "</div>"
      ],
      "text/plain": [
       "      month  user_id tariff              city  call_sum  call_count  gb_used  \\\n",
       "0      0.00     1128  ultra          волжский      0.00           1     0.00   \n",
       "1      0.00     1371  smart              омск      0.00           1     0.00   \n",
       "2      1.00     1005  smart  набережные челны     95.00          15     3.00   \n",
       "3      1.00     1032  smart         ульяновск    380.00          61    24.00   \n",
       "4      1.00     1045  smart          улан-удэ      9.00           1     3.00   \n",
       "...     ...      ...    ...               ...       ...         ...      ...   \n",
       "2664  12.00     1493  ultra        красноярск    571.00          84    42.00   \n",
       "2665  12.00     1495  ultra           иркутск  1,031.00         155    23.00   \n",
       "2666  12.00     1496  smart           вологда    518.00          80    21.00   \n",
       "2667  12.00     1497  smart         челябинск    545.00          71    20.00   \n",
       "2668  12.00     1499  smart             пермь    492.00          69    13.00   \n",
       "\n",
       "      message_count  \n",
       "0                 1  \n",
       "1                 1  \n",
       "2                 7  \n",
       "3                38  \n",
       "4                 5  \n",
       "...             ...  \n",
       "2664             78  \n",
       "2665             84  \n",
       "2666             51  \n",
       "2667             17  \n",
       "2668             66  \n",
       "\n",
       "[2669 rows x 8 columns]"
      ]
     },
     "execution_count": 509,
     "metadata": {},
     "output_type": "execute_result"
    }
   ],
   "source": [
    "df_used = df_calls_used.merge(df_internet_used, on=['user_id', 'month'])\n",
    "df_used = df_used.merge(df_messages_count, on=['user_id', 'month'])\n",
    "df_used"
   ]
  },
  {
   "cell_type": "code",
   "execution_count": 510,
   "metadata": {
    "scrolled": true
   },
   "outputs": [
    {
     "data": {
      "text/html": [
       "<div>\n",
       "<style scoped>\n",
       "    .dataframe tbody tr th:only-of-type {\n",
       "        vertical-align: middle;\n",
       "    }\n",
       "\n",
       "    .dataframe tbody tr th {\n",
       "        vertical-align: top;\n",
       "    }\n",
       "\n",
       "    .dataframe thead th {\n",
       "        text-align: right;\n",
       "    }\n",
       "</style>\n",
       "<table border=\"1\" class=\"dataframe\">\n",
       "  <thead>\n",
       "    <tr style=\"text-align: right;\">\n",
       "      <th></th>\n",
       "      <th>month</th>\n",
       "      <th>user_id</th>\n",
       "      <th>tariff</th>\n",
       "      <th>city</th>\n",
       "      <th>call_sum</th>\n",
       "      <th>call_count</th>\n",
       "      <th>gb_used</th>\n",
       "      <th>message_count</th>\n",
       "      <th>call_earn</th>\n",
       "    </tr>\n",
       "  </thead>\n",
       "  <tbody>\n",
       "    <tr>\n",
       "      <td>0</td>\n",
       "      <td>0.00</td>\n",
       "      <td>1128</td>\n",
       "      <td>ultra</td>\n",
       "      <td>волжский</td>\n",
       "      <td>0.00</td>\n",
       "      <td>1</td>\n",
       "      <td>0.00</td>\n",
       "      <td>1</td>\n",
       "      <td>0.00</td>\n",
       "    </tr>\n",
       "    <tr>\n",
       "      <td>1</td>\n",
       "      <td>0.00</td>\n",
       "      <td>1371</td>\n",
       "      <td>smart</td>\n",
       "      <td>омск</td>\n",
       "      <td>0.00</td>\n",
       "      <td>1</td>\n",
       "      <td>0.00</td>\n",
       "      <td>1</td>\n",
       "      <td>0.00</td>\n",
       "    </tr>\n",
       "    <tr>\n",
       "      <td>2</td>\n",
       "      <td>1.00</td>\n",
       "      <td>1005</td>\n",
       "      <td>smart</td>\n",
       "      <td>набережные челны</td>\n",
       "      <td>95.00</td>\n",
       "      <td>15</td>\n",
       "      <td>3.00</td>\n",
       "      <td>7</td>\n",
       "      <td>0.00</td>\n",
       "    </tr>\n",
       "    <tr>\n",
       "      <td>3</td>\n",
       "      <td>1.00</td>\n",
       "      <td>1032</td>\n",
       "      <td>smart</td>\n",
       "      <td>ульяновск</td>\n",
       "      <td>380.00</td>\n",
       "      <td>61</td>\n",
       "      <td>24.00</td>\n",
       "      <td>38</td>\n",
       "      <td>0.00</td>\n",
       "    </tr>\n",
       "    <tr>\n",
       "      <td>4</td>\n",
       "      <td>1.00</td>\n",
       "      <td>1045</td>\n",
       "      <td>smart</td>\n",
       "      <td>улан-удэ</td>\n",
       "      <td>9.00</td>\n",
       "      <td>1</td>\n",
       "      <td>3.00</td>\n",
       "      <td>5</td>\n",
       "      <td>0.00</td>\n",
       "    </tr>\n",
       "  </tbody>\n",
       "</table>\n",
       "</div>"
      ],
      "text/plain": [
       "   month  user_id tariff              city  call_sum  call_count  gb_used  \\\n",
       "0   0.00     1128  ultra          волжский      0.00           1     0.00   \n",
       "1   0.00     1371  smart              омск      0.00           1     0.00   \n",
       "2   1.00     1005  smart  набережные челны     95.00          15     3.00   \n",
       "3   1.00     1032  smart         ульяновск    380.00          61    24.00   \n",
       "4   1.00     1045  smart          улан-удэ      9.00           1     3.00   \n",
       "\n",
       "   message_count  call_earn  \n",
       "0              1       0.00  \n",
       "1              1       0.00  \n",
       "2              7       0.00  \n",
       "3             38       0.00  \n",
       "4              5       0.00  "
      ]
     },
     "execution_count": 510,
     "metadata": {},
     "output_type": "execute_result"
    }
   ],
   "source": [
    "def tariff_call(row):\n",
    "    if (row['tariff']=='ultra') and (row['call_sum']>=(df_tariffs['minutes_included'][1])):\n",
    "        return (row['call_sum'] - df_tariffs['minutes_included'][1])*df_tariffs['rub_per_minute'][1]\n",
    "    \n",
    "    elif (row['tariff']=='smart') and (row['call_sum']>=(df_tariffs['minutes_included'][0])):\n",
    "        return (row['call_sum'] - df_tariffs['minutes_included'][0])*df_tariffs['rub_per_minute'][0]\n",
    "    \n",
    "    else:\n",
    "        return 0\n",
    "\n",
    "df_used['call_earn'] = df_used.apply(lambda row: tariff_call(row), axis=1)\n",
    "df_used.head()"
   ]
  },
  {
   "cell_type": "code",
   "execution_count": 511,
   "metadata": {},
   "outputs": [],
   "source": [
    "def tariff_mess(row):\n",
    "    if (row['tariff']=='ultra') and (row['message_count']>=(df_tariffs['messages_included'][1])):\n",
    "        return (row['message_count'] - df_tariffs['messages_included'][1])*df_tariffs['rub_per_message'][1]\n",
    "    \n",
    "    elif (row['tariff']=='smart') and (row['message_count']>=(df_tariffs['messages_included'][0])):\n",
    "        return (row['message_count'] - df_tariffs['messages_included'][0])*df_tariffs['rub_per_message'][0]\n",
    "    \n",
    "    else:\n",
    "        return 0\n",
    "\n",
    "df_used['mess_earn'] = df_used.apply(lambda row: tariff_mess(row), axis=1)"
   ]
  },
  {
   "cell_type": "code",
   "execution_count": 512,
   "metadata": {},
   "outputs": [],
   "source": [
    "def tariff_inter(row):\n",
    "    if (row['tariff']=='ultra') and (row['gb_used']>=(df_tariffs['mb_per_month_included'][1]/1024)):\n",
    "        return (row['gb_used'] - df_tariffs['mb_per_month_included'][1]/1024)*df_tariffs['rub_per_gb'][1]\n",
    "    \n",
    "    elif (row['tariff']=='smart') and (row['gb_used']>=(df_tariffs['mb_per_month_included'][0]/1024)):\n",
    "        return (row['gb_used'] - df_tariffs['mb_per_month_included'][0]/1024)*df_tariffs['rub_per_gb'][0]\n",
    "    \n",
    "    else:\n",
    "        return 0\n",
    "\n",
    "df_used['inter_earn'] = df_used.apply(lambda row: tariff_inter(row), axis=1)"
   ]
  },
  {
   "cell_type": "code",
   "execution_count": 513,
   "metadata": {},
   "outputs": [
    {
     "data": {
      "text/html": [
       "<div>\n",
       "<style scoped>\n",
       "    .dataframe tbody tr th:only-of-type {\n",
       "        vertical-align: middle;\n",
       "    }\n",
       "\n",
       "    .dataframe tbody tr th {\n",
       "        vertical-align: top;\n",
       "    }\n",
       "\n",
       "    .dataframe thead th {\n",
       "        text-align: right;\n",
       "    }\n",
       "</style>\n",
       "<table border=\"1\" class=\"dataframe\">\n",
       "  <thead>\n",
       "    <tr style=\"text-align: right;\">\n",
       "      <th></th>\n",
       "      <th>month</th>\n",
       "      <th>user_id</th>\n",
       "      <th>tariff</th>\n",
       "      <th>city</th>\n",
       "      <th>call_sum</th>\n",
       "      <th>call_count</th>\n",
       "      <th>gb_used</th>\n",
       "      <th>message_count</th>\n",
       "      <th>call_earn</th>\n",
       "      <th>mess_earn</th>\n",
       "      <th>inter_earn</th>\n",
       "      <th>fee</th>\n",
       "    </tr>\n",
       "  </thead>\n",
       "  <tbody>\n",
       "    <tr>\n",
       "      <td>2659</td>\n",
       "      <td>12.00</td>\n",
       "      <td>1487</td>\n",
       "      <td>smart</td>\n",
       "      <td>кострома</td>\n",
       "      <td>155.00</td>\n",
       "      <td>30</td>\n",
       "      <td>12.00</td>\n",
       "      <td>20</td>\n",
       "      <td>0.00</td>\n",
       "      <td>0</td>\n",
       "      <td>0.00</td>\n",
       "      <td>550</td>\n",
       "    </tr>\n",
       "    <tr>\n",
       "      <td>2660</td>\n",
       "      <td>12.00</td>\n",
       "      <td>1488</td>\n",
       "      <td>smart</td>\n",
       "      <td>новороссийск</td>\n",
       "      <td>444.00</td>\n",
       "      <td>65</td>\n",
       "      <td>17.00</td>\n",
       "      <td>103</td>\n",
       "      <td>0.00</td>\n",
       "      <td>159</td>\n",
       "      <td>400.00</td>\n",
       "      <td>550</td>\n",
       "    </tr>\n",
       "    <tr>\n",
       "      <td>2661</td>\n",
       "      <td>12.00</td>\n",
       "      <td>1490</td>\n",
       "      <td>smart</td>\n",
       "      <td>москва</td>\n",
       "      <td>290.00</td>\n",
       "      <td>42</td>\n",
       "      <td>16.00</td>\n",
       "      <td>46</td>\n",
       "      <td>0.00</td>\n",
       "      <td>0</td>\n",
       "      <td>200.00</td>\n",
       "      <td>550</td>\n",
       "    </tr>\n",
       "    <tr>\n",
       "      <td>2662</td>\n",
       "      <td>12.00</td>\n",
       "      <td>1491</td>\n",
       "      <td>ultra</td>\n",
       "      <td>челябинск</td>\n",
       "      <td>674.00</td>\n",
       "      <td>90</td>\n",
       "      <td>22.00</td>\n",
       "      <td>51</td>\n",
       "      <td>0.00</td>\n",
       "      <td>0</td>\n",
       "      <td>0.00</td>\n",
       "      <td>1950</td>\n",
       "    </tr>\n",
       "    <tr>\n",
       "      <td>2663</td>\n",
       "      <td>12.00</td>\n",
       "      <td>1492</td>\n",
       "      <td>smart</td>\n",
       "      <td>санкт-петербург</td>\n",
       "      <td>781.00</td>\n",
       "      <td>102</td>\n",
       "      <td>25.00</td>\n",
       "      <td>19</td>\n",
       "      <td>843.00</td>\n",
       "      <td>0</td>\n",
       "      <td>2,000.00</td>\n",
       "      <td>550</td>\n",
       "    </tr>\n",
       "    <tr>\n",
       "      <td>2664</td>\n",
       "      <td>12.00</td>\n",
       "      <td>1493</td>\n",
       "      <td>ultra</td>\n",
       "      <td>красноярск</td>\n",
       "      <td>571.00</td>\n",
       "      <td>84</td>\n",
       "      <td>42.00</td>\n",
       "      <td>78</td>\n",
       "      <td>0.00</td>\n",
       "      <td>0</td>\n",
       "      <td>1,800.00</td>\n",
       "      <td>1950</td>\n",
       "    </tr>\n",
       "    <tr>\n",
       "      <td>2665</td>\n",
       "      <td>12.00</td>\n",
       "      <td>1495</td>\n",
       "      <td>ultra</td>\n",
       "      <td>иркутск</td>\n",
       "      <td>1,031.00</td>\n",
       "      <td>155</td>\n",
       "      <td>23.00</td>\n",
       "      <td>84</td>\n",
       "      <td>0.00</td>\n",
       "      <td>0</td>\n",
       "      <td>0.00</td>\n",
       "      <td>1950</td>\n",
       "    </tr>\n",
       "    <tr>\n",
       "      <td>2666</td>\n",
       "      <td>12.00</td>\n",
       "      <td>1496</td>\n",
       "      <td>smart</td>\n",
       "      <td>вологда</td>\n",
       "      <td>518.00</td>\n",
       "      <td>80</td>\n",
       "      <td>21.00</td>\n",
       "      <td>51</td>\n",
       "      <td>54.00</td>\n",
       "      <td>3</td>\n",
       "      <td>1,200.00</td>\n",
       "      <td>550</td>\n",
       "    </tr>\n",
       "    <tr>\n",
       "      <td>2667</td>\n",
       "      <td>12.00</td>\n",
       "      <td>1497</td>\n",
       "      <td>smart</td>\n",
       "      <td>челябинск</td>\n",
       "      <td>545.00</td>\n",
       "      <td>71</td>\n",
       "      <td>20.00</td>\n",
       "      <td>17</td>\n",
       "      <td>135.00</td>\n",
       "      <td>0</td>\n",
       "      <td>1,000.00</td>\n",
       "      <td>550</td>\n",
       "    </tr>\n",
       "    <tr>\n",
       "      <td>2668</td>\n",
       "      <td>12.00</td>\n",
       "      <td>1499</td>\n",
       "      <td>smart</td>\n",
       "      <td>пермь</td>\n",
       "      <td>492.00</td>\n",
       "      <td>69</td>\n",
       "      <td>13.00</td>\n",
       "      <td>66</td>\n",
       "      <td>0.00</td>\n",
       "      <td>48</td>\n",
       "      <td>0.00</td>\n",
       "      <td>550</td>\n",
       "    </tr>\n",
       "  </tbody>\n",
       "</table>\n",
       "</div>"
      ],
      "text/plain": [
       "      month  user_id tariff             city  call_sum  call_count  gb_used  \\\n",
       "2659  12.00     1487  smart         кострома    155.00          30    12.00   \n",
       "2660  12.00     1488  smart     новороссийск    444.00          65    17.00   \n",
       "2661  12.00     1490  smart           москва    290.00          42    16.00   \n",
       "2662  12.00     1491  ultra        челябинск    674.00          90    22.00   \n",
       "2663  12.00     1492  smart  санкт-петербург    781.00         102    25.00   \n",
       "2664  12.00     1493  ultra       красноярск    571.00          84    42.00   \n",
       "2665  12.00     1495  ultra          иркутск  1,031.00         155    23.00   \n",
       "2666  12.00     1496  smart          вологда    518.00          80    21.00   \n",
       "2667  12.00     1497  smart        челябинск    545.00          71    20.00   \n",
       "2668  12.00     1499  smart            пермь    492.00          69    13.00   \n",
       "\n",
       "      message_count  call_earn  mess_earn  inter_earn   fee  \n",
       "2659             20       0.00          0        0.00   550  \n",
       "2660            103       0.00        159      400.00   550  \n",
       "2661             46       0.00          0      200.00   550  \n",
       "2662             51       0.00          0        0.00  1950  \n",
       "2663             19     843.00          0    2,000.00   550  \n",
       "2664             78       0.00          0    1,800.00  1950  \n",
       "2665             84       0.00          0        0.00  1950  \n",
       "2666             51      54.00          3    1,200.00   550  \n",
       "2667             17     135.00          0    1,000.00   550  \n",
       "2668             66       0.00         48        0.00   550  "
      ]
     },
     "execution_count": 513,
     "metadata": {},
     "output_type": "execute_result"
    }
   ],
   "source": [
    "def tariff(row):\n",
    "    if (row['tariff']=='ultra'):\n",
    "        return df_tariffs['rub_monthly_fee'][1]\n",
    "    elif (row['tariff']=='smart'):\n",
    "        return df_tariffs['rub_monthly_fee'][0]\n",
    "df_used['fee'] =  df_used.apply(lambda row: tariff(row), axis=1) \n",
    "df_used.tail(10)"
   ]
  },
  {
   "cell_type": "code",
   "execution_count": 514,
   "metadata": {},
   "outputs": [],
   "source": [
    "df_used['total_earn'] = df_used['call_earn'] + df_used['mess_earn'] + df_used['inter_earn'] + df_used['fee']"
   ]
  },
  {
   "cell_type": "markdown",
   "metadata": {},
   "source": [
    "Посчитаем помесячную выручку с каждого пользователя по тарифам"
   ]
  },
  {
   "cell_type": "markdown",
   "metadata": {},
   "source": [
    "Проанализируем отток пользователей по месяцам"
   ]
  },
  {
   "cell_type": "code",
   "execution_count": 515,
   "metadata": {
    "scrolled": true
   },
   "outputs": [
    {
     "name": "stderr",
     "output_type": "stream",
     "text": [
      "/opt/conda/lib/python3.7/site-packages/ipykernel_launcher.py:2: SettingWithCopyWarning: \n",
      "A value is trying to be set on a copy of a slice from a DataFrame.\n",
      "Try using .loc[row_indexer,col_indexer] = value instead\n",
      "\n",
      "See the caveats in the documentation: http://pandas.pydata.org/pandas-docs/stable/user_guide/indexing.html#returning-a-view-versus-a-copy\n",
      "  \n",
      "/opt/conda/lib/python3.7/site-packages/ipykernel_launcher.py:3: SettingWithCopyWarning: \n",
      "A value is trying to be set on a copy of a slice from a DataFrame.\n",
      "Try using .loc[row_indexer,col_indexer] = value instead\n",
      "\n",
      "See the caveats in the documentation: http://pandas.pydata.org/pandas-docs/stable/user_guide/indexing.html#returning-a-view-versus-a-copy\n",
      "  This is separate from the ipykernel package so we can avoid doing imports until\n"
     ]
    },
    {
     "data": {
      "text/plain": [
       "<matplotlib.legend.Legend at 0x7f0db024e550>"
      ]
     },
     "execution_count": 515,
     "metadata": {},
     "output_type": "execute_result"
    },
    {
     "data": {
      "image/png": "[encoded data removed]",
      "text/plain": [
       "<Figure size 432x288 with 1 Axes>"
      ]
     },
     "metadata": {
      "needs_background": "light"
     },
     "output_type": "display_data"
    }
   ],
   "source": [
    "df_churn = df_users[~(df_users['churn_date'].isna())]\n",
    "df_churn['churn_date'] = pd.to_datetime(df_churn['churn_date'], format='%Y-%m-%d', errors='ignore')\n",
    "df_churn['churn_month'] = pd.DatetimeIndex(df_churn['churn_date']).month\n",
    "\n",
    "df_churn_ultra = df_churn[df_churn['tariff']=='ultra']\n",
    "df_churn_smart = df_churn[df_churn['tariff']=='smart']\n",
    "\n",
    "fig, ax = plt.subplots()\n",
    "df_churn_smart['churn_month'].plot(kind='hist', color='b', alpha=0.5, bins=12, edgecolor='black')\n",
    "df_churn_ultra['churn_month'].plot(kind='hist', color='r', alpha=0.5, bins=12, edgecolor='black')\n",
    "\n",
    "plt.legend(['smart', 'ultra'])"
   ]
  },
  {
   "cell_type": "markdown",
   "metadata": {},
   "source": [
    "Чем больше абонентов тем больше отток"
   ]
  },
  {
   "cell_type": "markdown",
   "metadata": {},
   "source": [
    "Проанализируем приток новых пользователей по месяцам"
   ]
  },
  {
   "cell_type": "code",
   "execution_count": 535,
   "metadata": {
    "scrolled": true
   },
   "outputs": [
    {
     "name": "stderr",
     "output_type": "stream",
     "text": [
      "/opt/conda/lib/python3.7/site-packages/ipykernel_launcher.py:3: UserWarning: Boolean Series key will be reindexed to match DataFrame index.\n",
      "  This is separate from the ipykernel package so we can avoid doing imports until\n",
      "/opt/conda/lib/python3.7/site-packages/ipykernel_launcher.py:4: UserWarning: Boolean Series key will be reindexed to match DataFrame index.\n",
      "  after removing the cwd from sys.path.\n"
     ]
    },
    {
     "data": {
      "text/plain": [
       "<matplotlib.legend.Legend at 0x7f0dc101e610>"
      ]
     },
     "execution_count": 535,
     "metadata": {},
     "output_type": "execute_result"
    },
    {
     "data": {
      "image/png": "[encoded data removed]",
      "text/plain": [
       "<Figure size 432x288 with 1 Axes>"
      ]
     },
     "metadata": {
      "needs_background": "light"
     },
     "output_type": "display_data"
    }
   ],
   "source": [
    "df_users['month'] = pd.DatetimeIndex(df_users['reg_date']).month\n",
    "\n",
    "df_users_ultra = df_users[df_used['tariff']=='ultra']\n",
    "df_users_smart = df_users[df_used['tariff']=='smart']\n",
    "\n",
    "fig, ax = plt.subplots()\n",
    "df_users_smart['month'].plot(kind='hist', color='b', alpha=0.5, bins=12, edgecolor='black')\n",
    "df_users_ultra['month'].plot(kind='hist', color='r', alpha=0.5, bins=12, edgecolor='black')\n",
    "df_churn['churn_month'].plot(kind='hist', color='g', alpha=1, bins=12, edgecolor='black')\n",
    "\n",
    "plt.legend(['smart', 'ultra', 'churn'])"
   ]
  },
  {
   "cell_type": "markdown",
   "metadata": {},
   "source": [
    "Количество новых пользователей в течении года по тарифам равномерное, в сумме на тарифе smart в выборке их больше"
   ]
  },
  {
   "cell_type": "code",
   "execution_count": 536,
   "metadata": {},
   "outputs": [
    {
     "data": {
      "text/plain": [
       "<matplotlib.legend.Legend at 0x7f0dc12fd090>"
      ]
     },
     "execution_count": 536,
     "metadata": {},
     "output_type": "execute_result"
    },
    {
     "data": {
      "image/png": "[encoded data removed]",
      "text/plain": [
       "<Figure size 432x288 with 1 Axes>"
      ]
     },
     "metadata": {
      "needs_background": "light"
     },
     "output_type": "display_data"
    }
   ],
   "source": [
    "fig, ax = plt.subplots()\n",
    "df_users_smart['month'].plot(kind='hist', color='b', alpha=0.5, bins=12, cumulative=True, edgecolor='black')\n",
    "df_users_ultra['month'].plot(kind='hist', color='r', alpha=0.5, bins=12, cumulative=True, edgecolor='black')\n",
    "df_churn['churn_month'].plot(kind='hist', color='g', alpha=1, bins=12, cumulative=True, edgecolor='black')\n",
    "plt.legend(['smart', 'ultra', 'churn'])"
   ]
  },
  {
   "cell_type": "markdown",
   "metadata": {},
   "source": [
    "Кумулятивно (накапливаемый со временем) тренд тарифа Смарт более крутой в отличии от Ультра, который к концу года замедляется"
   ]
  },
  {
   "cell_type": "markdown",
   "metadata": {},
   "source": [
    "Проанализируем помесячную выручку с каждого пользователя по месяцам и по тарифам"
   ]
  },
  {
   "cell_type": "code",
   "execution_count": 537,
   "metadata": {},
   "outputs": [
    {
     "data": {
      "text/plain": [
       "<matplotlib.legend.Legend at 0x7f0dc108c150>"
      ]
     },
     "execution_count": 537,
     "metadata": {},
     "output_type": "execute_result"
    },
    {
     "data": {
      "image/png": "[encoded data removed]",
      "text/plain": [
       "<Figure size 432x288 with 1 Axes>"
      ]
     },
     "metadata": {
      "needs_background": "light"
     },
     "output_type": "display_data"
    }
   ],
   "source": [
    "df_used.query('tariff==\"smart\"')\\\n",
    ".groupby('month')['total_earn']\\\n",
    ".sum()\\\n",
    ".plot(x= df_used['tariff'],\n",
    "      y=df_used['total_earn'],\n",
    "      kind='bar',\n",
    "      color='b',\n",
    "      alpha=0.5,\n",
    "      edgecolor='black')\n",
    "df_used.query('tariff==\"ultra\"')\\\n",
    ".groupby('month')['total_earn']\\\n",
    ".sum()\\\n",
    ".plot(x= df_used['tariff'],\n",
    "      y=df_used['total_earn'],\n",
    "      kind='bar',\n",
    "      color='r',\n",
    "      alpha=0.5,\n",
    "      edgecolor='black')\n",
    "plt.legend(['smart', 'ultra'])"
   ]
  },
  {
   "cell_type": "markdown",
   "metadata": {},
   "source": [
    "Выручка от абонентов с тарифом Смарт повышается к концу года, в начале года разница в выручка была меньше\n",
    "Очевидно, это влияние накопленных к концу года абонентов"
   ]
  },
  {
   "cell_type": "code",
   "execution_count": 519,
   "metadata": {},
   "outputs": [
    {
     "data": {
      "text/plain": [
       "<matplotlib.legend.Legend at 0x7f0db49d4090>"
      ]
     },
     "execution_count": 519,
     "metadata": {},
     "output_type": "execute_result"
    },
    {
     "data": {
      "image/png": "[encoded data removed]",
      "text/plain": [
       "<Figure size 432x288 with 1 Axes>"
      ]
     },
     "metadata": {
      "needs_background": "light"
     },
     "output_type": "display_data"
    }
   ],
   "source": [
    "df_used.query('tariff==\"smart\"')\\\n",
    ".groupby('month')['total_earn']\\\n",
    ".sum()\\\n",
    ".plot(x= df_used['tariff'],\n",
    "      y=df_used['total_earn'],\n",
    "      kind='bar',\n",
    "      color='b',\n",
    "      alpha=0.5,\n",
    "      edgecolor='black')\n",
    "df_used.query('tariff==\"ultra\"')\\\n",
    ".groupby('month')['total_earn']\\\n",
    ".sum()\\\n",
    ".plot(x= df_used['tariff'],\n",
    "      y=df_used['total_earn'],\n",
    "      kind='bar',\n",
    "      color='r',\n",
    "      alpha=0.5,\n",
    "      edgecolor='black')\n",
    "plt.legend(['smart', 'ultra'])"
   ]
  },
  {
   "cell_type": "markdown",
   "metadata": {},
   "source": [
    "В среднем за год выручка от Смарта выше чем от Ультра на 37.6%\n",
    "\n",
    "В то же время пользователей на тарифе смарт в выборке в 2.8 раза больше\n",
    "\n",
    "По этим показателям тариф смарт более прибыльный для оператора связи, можно посмотреть данные за 2019 год, но на данный момент (2018 год) тренд у тарифа Смарт восходящий и разница в выручке, если динамика сохраниться, будет увеличиваться"
   ]
  },
  {
   "cell_type": "code",
   "execution_count": 538,
   "metadata": {},
   "outputs": [
    {
     "name": "stdout",
     "output_type": "stream",
     "text": [
      "190169.07692307694\n",
      "118673.07692307692\n"
     ]
    }
   ],
   "source": [
    "mean_smart = df_used.query('tariff==\"smart\"')\\\n",
    ".groupby('month')['total_earn']\\\n",
    ".sum()\\\n",
    ".mean()\n",
    "mean_ultra = df_used.query('tariff==\"ultra\"')\\\n",
    ".groupby('month')['total_earn']\\\n",
    ".sum()\\\n",
    ".mean()\n",
    "print(mean_smart)\n",
    "print(mean_ultra)"
   ]
  },
  {
   "cell_type": "code",
   "execution_count": 539,
   "metadata": {
    "scrolled": true
   },
   "outputs": [
    {
     "data": {
      "text/plain": [
       "37.59601779469121"
      ]
     },
     "execution_count": 539,
     "metadata": {},
     "output_type": "execute_result"
    }
   ],
   "source": [
    "100-(mean_ultra/mean_smart)*100"
   ]
  },
  {
   "cell_type": "code",
   "execution_count": 540,
   "metadata": {},
   "outputs": [
    {
     "data": {
      "text/plain": [
       "2.787878787878788"
      ]
     },
     "execution_count": 540,
     "metadata": {},
     "output_type": "execute_result"
    }
   ],
   "source": [
    "len(df_users_smart)/len(df_users_ultra)"
   ]
  },
  {
   "cell_type": "markdown",
   "metadata": {},
   "source": [
    "## Анализ данных\n",
    "\n",
    "### Расчет и оценка показателей описательной статистики по выборкам"
   ]
  },
  {
   "cell_type": "code",
   "execution_count": 523,
   "metadata": {},
   "outputs": [
    {
     "name": "stdout",
     "output_type": "stream",
     "text": [
      "Статистики звонков\n"
     ]
    },
    {
     "data": {
      "image/png": "[encoded data removed]",
      "text/plain": [
       "<Figure size 432x288 with 1 Axes>"
      ]
     },
     "metadata": {
      "needs_background": "light"
     },
     "output_type": "display_data"
    },
    {
     "data": {
      "image/png": "[encoded data removed]",
      "text/plain": [
       "<Figure size 432x288 with 1 Axes>"
      ]
     },
     "metadata": {
      "needs_background": "light"
     },
     "output_type": "display_data"
    },
    {
     "data": {
      "image/png": "[encoded data removed]",
      "text/plain": [
       "<Figure size 432x288 with 1 Axes>"
      ]
     },
     "metadata": {
      "needs_background": "light"
     },
     "output_type": "display_data"
    },
    {
     "name": "stdout",
     "output_type": "stream",
     "text": [
      "Статистики сообщений\n"
     ]
    },
    {
     "data": {
      "image/png": "[encoded data removed]",
      "text/plain": [
       "<Figure size 432x288 with 1 Axes>"
      ]
     },
     "metadata": {
      "needs_background": "light"
     },
     "output_type": "display_data"
    },
    {
     "data": {
      "image/png": "[encoded data removed]",
      "text/plain": [
       "<Figure size 432x288 with 1 Axes>"
      ]
     },
     "metadata": {
      "needs_background": "light"
     },
     "output_type": "display_data"
    },
    {
     "data": {
      "image/png": "[encoded data removed]",
      "text/plain": [
       "<Figure size 432x288 with 1 Axes>"
      ]
     },
     "metadata": {
      "needs_background": "light"
     },
     "output_type": "display_data"
    },
    {
     "name": "stdout",
     "output_type": "stream",
     "text": [
      "Статистики интернет трафик\n"
     ]
    },
    {
     "data": {
      "image/png": "[encoded data removed]",
      "text/plain": [
       "<Figure size 432x288 with 1 Axes>"
      ]
     },
     "metadata": {
      "needs_background": "light"
     },
     "output_type": "display_data"
    },
    {
     "data": {
      "image/png": "[encoded data removed]",
      "text/plain": [
       "<Figure size 432x288 with 1 Axes>"
      ]
     },
     "metadata": {
      "needs_background": "light"
     },
     "output_type": "display_data"
    },
    {
     "data": {
      "image/png": "[encoded data removed]",
      "text/plain": [
       "<Figure size 432x288 with 1 Axes>"
      ]
     },
     "metadata": {
      "needs_background": "light"
     },
     "output_type": "display_data"
    }
   ],
   "source": [
    "data_name_short = {'call_sum':'Статистики звонков',\n",
    "                   'message_count':'Статистики сообщений',\n",
    "                   'gb_used':'Статистики интернет трафик'}\n",
    "def statist(data):\n",
    "    df_used.query('tariff==\"ultra\"').groupby(['month'])[data].mean()[1:13].plot(x=df_used['month'],\n",
    "          y=df_used[data],\n",
    "          kind='bar',\n",
    "          alpha=0.5,\n",
    "          edgecolor='black',\n",
    "          color='r')\n",
    "\n",
    "    df_used.query('tariff==\"smart\"').groupby(['month'])[data].mean()[1:13].plot(x=df_used['month'],\n",
    "          y=df_used[data],\n",
    "          kind='bar',\n",
    "          alpha=0.5,\n",
    "          edgecolor='black',\n",
    "          color='b')\n",
    "    plt.title('Подсчет среднего по месяцам')\n",
    "    plt.ylabel('mean')\n",
    "    plt.legend(['ultra', 'smart'])\n",
    "    plt.show()\n",
    "    \n",
    "    df_used.query('tariff==\"ultra\"').groupby(['month'])[data].std()[1:13].plot(x=df_used['month'],\n",
    "          y=df_used[data],\n",
    "          kind='bar',\n",
    "          alpha=0.5,\n",
    "          edgecolor='black',\n",
    "          color='r')\n",
    "\n",
    "    df_used.query('tariff==\"smart\"').groupby(['month'])[data].std()[1:13].plot(x=df_used['month'],\n",
    "          y=df_used[data],\n",
    "          kind='bar',\n",
    "          alpha=0.5,\n",
    "          edgecolor='black',\n",
    "          color='b')\n",
    "    plt.title('Подсчет стандартного отклонения по месяцам')\n",
    "    plt.ylabel('std')\n",
    "    plt.legend(['ultra', 'smart'])\n",
    "    plt.show()\n",
    "    \n",
    "    (df_used.query('tariff==\"ultra\"').groupby(['month'])[data].std()**2)[1:13].plot(x=df_used['month'],\n",
    "          y=df_used[data],\n",
    "          kind='bar',\n",
    "          alpha=0.5,\n",
    "          edgecolor='black',\n",
    "          color='r')\n",
    "\n",
    "    (df_used.query('tariff==\"smart\"').groupby(['month'])[data].std()**2)[1:13].plot(x=df_used['month'],\n",
    "          y=df_used[data],\n",
    "          kind='bar',\n",
    "          alpha=0.5,\n",
    "          edgecolor='black',\n",
    "          color='b')\n",
    "    plt.title('Подсчет дисперсии по месяцам')\n",
    "    plt.ylabel('var')\n",
    "    plt.legend(['ultra', 'smart'])\n",
    "    plt.show()\n",
    "    \n",
    "for name in data_name_short:\n",
    "    print(data_name_short[name])\n",
    "    statist(name)"
   ]
  },
  {
   "cell_type": "markdown",
   "metadata": {},
   "source": [
    "В среднем количество минут на тарифах по месячно растет, стандартное отклонение и соответственно дисперсия с серидины года остаются примерно одинаковыми по месяцам"
   ]
  },
  {
   "cell_type": "markdown",
   "metadata": {},
   "source": [
    "Абоненты с тарифом Смарт в среднем отправляют меньше сообщений чем на тарифе Ультра, и динамика изменения стандартного отклонения у Смарт значительно ниже. Очевидно, эта зависимость обусловлена количеством бесплатных минут на тарифах"
   ]
  },
  {
   "cell_type": "markdown",
   "metadata": {},
   "source": [
    "По объему интернет трафика картина практически такая же, как и по звонкам. Стандартное отклонение к концу года даже понижается. Это говорит о том что месячное количество используемого интернета пользователями начинает больше консолидироваться вокруг среднего относительно середины года"
   ]
  },
  {
   "cell_type": "code",
   "execution_count": 524,
   "metadata": {},
   "outputs": [
    {
     "data": {
      "text/html": [
       "<div>\n",
       "<style scoped>\n",
       "    .dataframe tbody tr th:only-of-type {\n",
       "        vertical-align: middle;\n",
       "    }\n",
       "\n",
       "    .dataframe tbody tr th {\n",
       "        vertical-align: top;\n",
       "    }\n",
       "\n",
       "    .dataframe thead th {\n",
       "        text-align: right;\n",
       "    }\n",
       "</style>\n",
       "<table border=\"1\" class=\"dataframe\">\n",
       "  <thead>\n",
       "    <tr style=\"text-align: right;\">\n",
       "      <th></th>\n",
       "      <th>month</th>\n",
       "      <th>user_id</th>\n",
       "      <th>tariff</th>\n",
       "      <th>city</th>\n",
       "      <th>call_sum</th>\n",
       "      <th>call_count</th>\n",
       "      <th>gb_used</th>\n",
       "      <th>message_count</th>\n",
       "      <th>call_earn</th>\n",
       "      <th>mess_earn</th>\n",
       "      <th>inter_earn</th>\n",
       "      <th>fee</th>\n",
       "      <th>total_earn</th>\n",
       "    </tr>\n",
       "  </thead>\n",
       "  <tbody>\n",
       "    <tr>\n",
       "      <td>0</td>\n",
       "      <td>0.00</td>\n",
       "      <td>1128</td>\n",
       "      <td>ultra</td>\n",
       "      <td>волжский</td>\n",
       "      <td>0.00</td>\n",
       "      <td>1</td>\n",
       "      <td>0.00</td>\n",
       "      <td>1</td>\n",
       "      <td>0.00</td>\n",
       "      <td>0</td>\n",
       "      <td>0.00</td>\n",
       "      <td>1950</td>\n",
       "      <td>1,950.00</td>\n",
       "    </tr>\n",
       "    <tr>\n",
       "      <td>1</td>\n",
       "      <td>0.00</td>\n",
       "      <td>1371</td>\n",
       "      <td>smart</td>\n",
       "      <td>омск</td>\n",
       "      <td>0.00</td>\n",
       "      <td>1</td>\n",
       "      <td>0.00</td>\n",
       "      <td>1</td>\n",
       "      <td>0.00</td>\n",
       "      <td>0</td>\n",
       "      <td>0.00</td>\n",
       "      <td>550</td>\n",
       "      <td>550.00</td>\n",
       "    </tr>\n",
       "    <tr>\n",
       "      <td>2</td>\n",
       "      <td>1.00</td>\n",
       "      <td>1005</td>\n",
       "      <td>smart</td>\n",
       "      <td>набережные челны</td>\n",
       "      <td>95.00</td>\n",
       "      <td>15</td>\n",
       "      <td>3.00</td>\n",
       "      <td>7</td>\n",
       "      <td>0.00</td>\n",
       "      <td>0</td>\n",
       "      <td>0.00</td>\n",
       "      <td>550</td>\n",
       "      <td>550.00</td>\n",
       "    </tr>\n",
       "    <tr>\n",
       "      <td>3</td>\n",
       "      <td>1.00</td>\n",
       "      <td>1032</td>\n",
       "      <td>smart</td>\n",
       "      <td>ульяновск</td>\n",
       "      <td>380.00</td>\n",
       "      <td>61</td>\n",
       "      <td>24.00</td>\n",
       "      <td>38</td>\n",
       "      <td>0.00</td>\n",
       "      <td>0</td>\n",
       "      <td>1,800.00</td>\n",
       "      <td>550</td>\n",
       "      <td>2,350.00</td>\n",
       "    </tr>\n",
       "    <tr>\n",
       "      <td>4</td>\n",
       "      <td>1.00</td>\n",
       "      <td>1045</td>\n",
       "      <td>smart</td>\n",
       "      <td>улан-удэ</td>\n",
       "      <td>9.00</td>\n",
       "      <td>1</td>\n",
       "      <td>3.00</td>\n",
       "      <td>5</td>\n",
       "      <td>0.00</td>\n",
       "      <td>0</td>\n",
       "      <td>0.00</td>\n",
       "      <td>550</td>\n",
       "      <td>550.00</td>\n",
       "    </tr>\n",
       "    <tr>\n",
       "      <td>...</td>\n",
       "      <td>...</td>\n",
       "      <td>...</td>\n",
       "      <td>...</td>\n",
       "      <td>...</td>\n",
       "      <td>...</td>\n",
       "      <td>...</td>\n",
       "      <td>...</td>\n",
       "      <td>...</td>\n",
       "      <td>...</td>\n",
       "      <td>...</td>\n",
       "      <td>...</td>\n",
       "      <td>...</td>\n",
       "      <td>...</td>\n",
       "    </tr>\n",
       "    <tr>\n",
       "      <td>2664</td>\n",
       "      <td>12.00</td>\n",
       "      <td>1493</td>\n",
       "      <td>ultra</td>\n",
       "      <td>красноярск</td>\n",
       "      <td>571.00</td>\n",
       "      <td>84</td>\n",
       "      <td>42.00</td>\n",
       "      <td>78</td>\n",
       "      <td>0.00</td>\n",
       "      <td>0</td>\n",
       "      <td>1,800.00</td>\n",
       "      <td>1950</td>\n",
       "      <td>3,750.00</td>\n",
       "    </tr>\n",
       "    <tr>\n",
       "      <td>2665</td>\n",
       "      <td>12.00</td>\n",
       "      <td>1495</td>\n",
       "      <td>ultra</td>\n",
       "      <td>иркутск</td>\n",
       "      <td>1,031.00</td>\n",
       "      <td>155</td>\n",
       "      <td>23.00</td>\n",
       "      <td>84</td>\n",
       "      <td>0.00</td>\n",
       "      <td>0</td>\n",
       "      <td>0.00</td>\n",
       "      <td>1950</td>\n",
       "      <td>1,950.00</td>\n",
       "    </tr>\n",
       "    <tr>\n",
       "      <td>2666</td>\n",
       "      <td>12.00</td>\n",
       "      <td>1496</td>\n",
       "      <td>smart</td>\n",
       "      <td>вологда</td>\n",
       "      <td>518.00</td>\n",
       "      <td>80</td>\n",
       "      <td>21.00</td>\n",
       "      <td>51</td>\n",
       "      <td>54.00</td>\n",
       "      <td>3</td>\n",
       "      <td>1,200.00</td>\n",
       "      <td>550</td>\n",
       "      <td>1,807.00</td>\n",
       "    </tr>\n",
       "    <tr>\n",
       "      <td>2667</td>\n",
       "      <td>12.00</td>\n",
       "      <td>1497</td>\n",
       "      <td>smart</td>\n",
       "      <td>челябинск</td>\n",
       "      <td>545.00</td>\n",
       "      <td>71</td>\n",
       "      <td>20.00</td>\n",
       "      <td>17</td>\n",
       "      <td>135.00</td>\n",
       "      <td>0</td>\n",
       "      <td>1,000.00</td>\n",
       "      <td>550</td>\n",
       "      <td>1,685.00</td>\n",
       "    </tr>\n",
       "    <tr>\n",
       "      <td>2668</td>\n",
       "      <td>12.00</td>\n",
       "      <td>1499</td>\n",
       "      <td>smart</td>\n",
       "      <td>пермь</td>\n",
       "      <td>492.00</td>\n",
       "      <td>69</td>\n",
       "      <td>13.00</td>\n",
       "      <td>66</td>\n",
       "      <td>0.00</td>\n",
       "      <td>48</td>\n",
       "      <td>0.00</td>\n",
       "      <td>550</td>\n",
       "      <td>598.00</td>\n",
       "    </tr>\n",
       "  </tbody>\n",
       "</table>\n",
       "<p>2669 rows × 13 columns</p>\n",
       "</div>"
      ],
      "text/plain": [
       "      month  user_id tariff              city  call_sum  call_count  gb_used  \\\n",
       "0      0.00     1128  ultra          волжский      0.00           1     0.00   \n",
       "1      0.00     1371  smart              омск      0.00           1     0.00   \n",
       "2      1.00     1005  smart  набережные челны     95.00          15     3.00   \n",
       "3      1.00     1032  smart         ульяновск    380.00          61    24.00   \n",
       "4      1.00     1045  smart          улан-удэ      9.00           1     3.00   \n",
       "...     ...      ...    ...               ...       ...         ...      ...   \n",
       "2664  12.00     1493  ultra        красноярск    571.00          84    42.00   \n",
       "2665  12.00     1495  ultra           иркутск  1,031.00         155    23.00   \n",
       "2666  12.00     1496  smart           вологда    518.00          80    21.00   \n",
       "2667  12.00     1497  smart         челябинск    545.00          71    20.00   \n",
       "2668  12.00     1499  smart             пермь    492.00          69    13.00   \n",
       "\n",
       "      message_count  call_earn  mess_earn  inter_earn   fee  total_earn  \n",
       "0                 1       0.00          0        0.00  1950    1,950.00  \n",
       "1                 1       0.00          0        0.00   550      550.00  \n",
       "2                 7       0.00          0        0.00   550      550.00  \n",
       "3                38       0.00          0    1,800.00   550    2,350.00  \n",
       "4                 5       0.00          0        0.00   550      550.00  \n",
       "...             ...        ...        ...         ...   ...         ...  \n",
       "2664             78       0.00          0    1,800.00  1950    3,750.00  \n",
       "2665             84       0.00          0        0.00  1950    1,950.00  \n",
       "2666             51      54.00          3    1,200.00   550    1,807.00  \n",
       "2667             17     135.00          0    1,000.00   550    1,685.00  \n",
       "2668             66       0.00         48        0.00   550      598.00  \n",
       "\n",
       "[2669 rows x 13 columns]"
      ]
     },
     "execution_count": 524,
     "metadata": {},
     "output_type": "execute_result"
    }
   ],
   "source": [
    "df_used"
   ]
  },
  {
   "cell_type": "code",
   "execution_count": 525,
   "metadata": {},
   "outputs": [],
   "source": [
    "def histogram(data):\n",
    "    df_used.query('tariff==\"smart\"')[data].hist(\n",
    "          bins=50,\n",
    "          edgecolor='black',\n",
    "          color='b',\n",
    "          alpha=0.7)\n",
    "    plt.axvline(df_used.query('tariff==\"smart\"')[data].mean(), color='k', linestyle='dashed', linewidth=2)\n",
    "    \n",
    "    df_used.query('tariff==\"ultra\"')[data].hist(\n",
    "          bins=50,\n",
    "          edgecolor='black',\n",
    "          color='r',\n",
    "          alpha=0.7)\n",
    "    plt.axvline(df_used.query('tariff==\"ultra\"')[data].mean(), color='r', linestyle='dashed', linewidth=2)\n",
    "\n",
    "    \n",
    "    plt.title('Гистограмма')\n",
    "    plt.ylabel('frequency')\n",
    "    plt.xlabel('value')\n",
    "    plt.legend(['smart', 'ultra'])\n",
    "    plt.show()\n",
    "    print('Среднее тарифа Смарт', df_used.query(\"tariff=='smart'\")[data].mean().round())\n",
    "    print('Среднее тарифа Ультра', df_used.query(\"tariff=='ultra'\")[data].mean().round())"
   ]
  },
  {
   "cell_type": "code",
   "execution_count": 526,
   "metadata": {},
   "outputs": [
    {
     "name": "stdout",
     "output_type": "stream",
     "text": [
      "\n",
      "Статистики звонков\n"
     ]
    },
    {
     "data": {
      "image/png": "[encoded data removed]",
      "text/plain": [
       "<Figure size 432x288 with 1 Axes>"
      ]
     },
     "metadata": {
      "needs_background": "light"
     },
     "output_type": "display_data"
    },
    {
     "name": "stdout",
     "output_type": "stream",
     "text": [
      "Среднее тарифа Смарт 421.0\n",
      "Среднее тарифа Ультра 556.0\n",
      "\n",
      "Статистики сообщений\n"
     ]
    },
    {
     "data": {
      "image/png": "[encoded data removed]",
      "text/plain": [
       "<Figure size 432x288 with 1 Axes>"
      ]
     },
     "metadata": {
      "needs_background": "light"
     },
     "output_type": "display_data"
    },
    {
     "name": "stdout",
     "output_type": "stream",
     "text": [
      "Среднее тарифа Смарт 39.0\n",
      "Среднее тарифа Ультра 62.0\n",
      "\n",
      "Статистики интернет трафик\n"
     ]
    },
    {
     "data": {
      "image/png": "[encoded data removed]",
      "text/plain": [
       "<Figure size 432x288 with 1 Axes>"
      ]
     },
     "metadata": {
      "needs_background": "light"
     },
     "output_type": "display_data"
    },
    {
     "name": "stdout",
     "output_type": "stream",
     "text": [
      "Среднее тарифа Смарт 16.0\n",
      "Среднее тарифа Ультра 20.0\n"
     ]
    }
   ],
   "source": [
    "for name in data_name_short:\n",
    "    print()\n",
    "    print(data_name_short[name])\n",
    "    histogram(name)"
   ]
  },
  {
   "cell_type": "markdown",
   "metadata": {},
   "source": [
    "На гистограммах видим подтверждение статистик по месяцам:\n",
    "- дисперсия и стандартное отклонение больше у тарифа Ультра\n",
    "- среднее значение во всех случаях тоже больше у тарифа Ультра\n",
    "- распределение по тарифу смарт больше напоминает колоколообразное, видимо из-за размера подвыборки Ультра (с увеличением выборки будет стремится к нормальному)\n",
    "- гистограммы звонком и сообщений смещены влево, особенно сообщения, что говорит о частых случаях не использования опции"
   ]
  },
  {
   "cell_type": "markdown",
   "metadata": {},
   "source": [
    "## Проверка гипотез"
   ]
  },
  {
   "cell_type": "markdown",
   "metadata": {},
   "source": [
    "### Средняя выручка пользователей тарифов «Ультра» и «Смарт» различаются"
   ]
  },
  {
   "cell_type": "markdown",
   "metadata": {},
   "source": [
    "Нулевая гипотеза Ho: Средняя выручка пользователей тарифов «Ультра» и «Смарт» не отличаются\n",
    "Альтернативная гипотеза H1: Средняя выручка пользователей тарифов «Ультра» и «Смарт» не отличаются\n",
    "Оцениваем среднии двух независимых выборок из генеральных совокупностей\n",
    "Данные распределены равномерно и относятся к одной среде(области) можно применить t-критерий стьюдента\n",
    "Уровень значимости alpha принимаем равным 5%"
   ]
  },
  {
   "cell_type": "code",
   "execution_count": 527,
   "metadata": {},
   "outputs": [
    {
     "data": {
      "text/plain": [
       "0      1,950.00\n",
       "8      1,950.00\n",
       "12     1,950.00\n",
       "26     1,950.00\n",
       "28     1,950.00\n",
       "         ...   \n",
       "2650   1,950.00\n",
       "2657   1,950.00\n",
       "2662   1,950.00\n",
       "2664   3,750.00\n",
       "2665   1,950.00\n",
       "Name: total_earn, Length: 753, dtype: float64"
      ]
     },
     "execution_count": 527,
     "metadata": {},
     "output_type": "execute_result"
    }
   ],
   "source": [
    "df_used.query('tariff==\"smart\"')['total_earn']\n",
    "df_used.query('tariff==\"ultra\"')['total_earn']"
   ]
  },
  {
   "cell_type": "code",
   "execution_count": 483,
   "metadata": {},
   "outputs": [
    {
     "name": "stdout",
     "output_type": "stream",
     "text": [
      "p-значение:  6.712445665282349e-120\n"
     ]
    }
   ],
   "source": [
    "results = st.ttest_ind(df_used.query('tariff==\"smart\"')['total_earn'], df_used.query('tariff==\"ultra\"')['total_earn'])\n",
    "print('p-значение: ', results.pvalue)"
   ]
  },
  {
   "cell_type": "markdown",
   "metadata": {},
   "source": [
    "p-value значительно меньше 5%, нулевую гипотезу можно отвергнуть.\n",
    "Делаем вывод, что данные по средней выручке в 2018 году у пользователей тарифов «Ультра» и «Смарт» имеют статистически значимые отличия"
   ]
  },
  {
   "cell_type": "markdown",
   "metadata": {},
   "source": [
    "### Средняя выручка пользователей из Москвы отличается от выручки пользователей из других регионов"
   ]
  },
  {
   "cell_type": "markdown",
   "metadata": {},
   "source": [
    "Выделим москвичей в датафрейме"
   ]
  },
  {
   "cell_type": "code",
   "execution_count": 529,
   "metadata": {},
   "outputs": [
    {
     "data": {
      "text/plain": [
       "0      1,950.00\n",
       "1        550.00\n",
       "2        550.00\n",
       "3      2,350.00\n",
       "4        550.00\n",
       "         ...   \n",
       "2664   3,750.00\n",
       "2665   1,950.00\n",
       "2666   1,807.00\n",
       "2667   1,685.00\n",
       "2668     598.00\n",
       "Name: total_earn, Length: 2178, dtype: float64"
      ]
     },
     "execution_count": 529,
     "metadata": {},
     "output_type": "execute_result"
    }
   ],
   "source": [
    "df_used.query('city==\"москва\"')['total_earn']\n",
    "df_used.query('city!=\"москва\"')['total_earn']"
   ]
  },
  {
   "cell_type": "code",
   "execution_count": 530,
   "metadata": {
    "scrolled": true
   },
   "outputs": [
    {
     "data": {
      "text/plain": [
       "2178"
      ]
     },
     "execution_count": 530,
     "metadata": {},
     "output_type": "execute_result"
    }
   ],
   "source": [
    "len(df_used.query('city!=\"москва\"')['total_earn'])"
   ]
  },
  {
   "cell_type": "code",
   "execution_count": 531,
   "metadata": {},
   "outputs": [
    {
     "data": {
      "text/plain": [
       "491"
      ]
     },
     "execution_count": 531,
     "metadata": {},
     "output_type": "execute_result"
    }
   ],
   "source": [
    "len(df_used.query('city==\"москва\"')['total_earn'])"
   ]
  },
  {
   "cell_type": "markdown",
   "metadata": {},
   "source": [
    "Нулевая гипотеза Ho: Средняя выручка пользователей из Москвы не отличается от выручки пользователей из других регионов\n",
    "Альтернативная гипотеза H1: Средняя выручка пользователей из Москвы отличается от выручки пользователей из других регионов\n",
    "Оцениваем среднии двух независимых выборок из генеральных совокупностей\n",
    "Данные распределены равномерно и относятся к одной среде(области) можно применить t-критерий стьюдента\n",
    "Уровень значимости alpha принимаем равным 5%"
   ]
  },
  {
   "cell_type": "code",
   "execution_count": 532,
   "metadata": {},
   "outputs": [
    {
     "name": "stdout",
     "output_type": "stream",
     "text": [
      "p-значение:  0.12027719304133513\n"
     ]
    }
   ],
   "source": [
    "results = st.ttest_ind(df_used.query('city!=\"москва\"')['total_earn'], df_used.query('city==\"москва\"')['total_earn'])\n",
    "print('p-значение: ', results.pvalue)"
   ]
  },
  {
   "cell_type": "markdown",
   "metadata": {},
   "source": [
    "p-value больше 5%, нулевую гипотезу нельзя отвергнуть.\n",
    "Делаем вывод, что данные по средней выручке в 2018 году по пользователям из Москвы не имеют статистически значимых отличий от пользователей из других регионов"
   ]
  },
  {
   "cell_type": "markdown",
   "metadata": {},
   "source": [
    "## Общий вывод"
   ]
  },
  {
   "cell_type": "markdown",
   "metadata": {},
   "source": [
    "Были рассмотрены два тарифных плана федерального оператора сотовой связи «Мегалайн» - «Смарт» и «Ультра».\n",
    "Цель анализа - определить какой тариф приносит больше денег, чтобы скорректировать рекламный бюджет.\n",
    "Для предварительного анализа тарифов была предоставлена небольшая выборка клиентов (500 пользователей) с указанием кто они, откуда, каким тарифом пользуются, сколько звонков и сообщений каждый отправил за 2018 год.\n",
    "\n",
    "В ходе анализа было ваполнено:\n",
    "\n",
    "- поиск и заполнение/удаление пропусков\n",
    "- поиск и очитска от дубликатов\n",
    "- приведение типов данных\n",
    "- подсчеты звонков, сообщений и интернет трафика\n",
    "- подсчет ежемесячной выручки по тарифам\n",
    "- расчет и оценка показателей описательной статистики\n",
    "- проверены гипотезы о средних выручках пользователей\n",
    "\n",
    "По результатам работы можно сделать следующие выводы:\n",
    "\n",
    "- с августа начался рост оттока клиентов, необходимо проанализировать причины\n",
    "- приток клиентов не растет\n",
    "- кумулятивно абонентов на Смарт больше и их количество продолжает расти\n",
    "- ежемесячная выручка от абонентов Смарт также растет и начиная с середины года суммарно больше чем от абонентов Ультра, и эта разница статистически значимая\n",
    "- еще одной примечательной особенностью можно выделить что абоненты с тарифом Смарт в среднем отправляют меньше сообщений чем на тарифе Ультра, и динамика изменения стандартного отклонения у Смарт значительно ниже.\n",
    "\n",
    "На данный момент номинально больше денег приносит тариф Смарт."
   ]
  }
 ],
 "metadata": {
  "ExecuteTimeLog": [
   {
    "duration": 1442,
    "start_time": "2021-11-13T15:26:41.842Z"
   },
   {
    "duration": 245,
    "start_time": "2021-11-13T15:30:00.863Z"
   },
   {
    "duration": 130,
    "start_time": "2021-11-13T16:12:01.189Z"
   },
   {
    "duration": 39,
    "start_time": "2021-11-13T16:12:41.990Z"
   },
   {
    "duration": 21,
    "start_time": "2021-11-13T16:12:43.946Z"
   },
   {
    "duration": 89,
    "start_time": "2021-11-13T16:12:46.444Z"
   },
   {
    "duration": 133,
    "start_time": "2021-11-13T16:12:48.483Z"
   },
   {
    "duration": 138,
    "start_time": "2021-11-13T16:12:51.687Z"
   },
   {
    "duration": 40,
    "start_time": "2021-11-13T16:24:26.286Z"
   },
   {
    "duration": 82,
    "start_time": "2021-11-13T16:31:28.160Z"
   },
   {
    "duration": 39,
    "start_time": "2021-11-13T16:33:24.981Z"
   },
   {
    "duration": 38,
    "start_time": "2021-11-13T16:42:10.828Z"
   },
   {
    "duration": 44,
    "start_time": "2021-11-13T16:42:19.158Z"
   },
   {
    "duration": 3,
    "start_time": "2021-11-13T16:42:42.840Z"
   },
   {
    "duration": 43,
    "start_time": "2021-11-13T16:42:43.436Z"
   },
   {
    "duration": 153,
    "start_time": "2021-11-13T16:43:08.141Z"
   },
   {
    "duration": 171,
    "start_time": "2021-11-13T16:43:22.654Z"
   },
   {
    "duration": 100,
    "start_time": "2021-11-13T16:43:50.161Z"
   },
   {
    "duration": 142,
    "start_time": "2021-11-13T16:44:16.285Z"
   },
   {
    "duration": 143,
    "start_time": "2021-11-13T16:44:18.694Z"
   },
   {
    "duration": 24,
    "start_time": "2021-11-13T16:44:43.274Z"
   },
   {
    "duration": 123,
    "start_time": "2021-11-13T16:46:03.969Z"
   },
   {
    "duration": 45,
    "start_time": "2021-11-13T16:46:11.641Z"
   },
   {
    "duration": 159,
    "start_time": "2021-11-13T16:47:32.959Z"
   },
   {
    "duration": 99,
    "start_time": "2021-11-13T16:47:34.477Z"
   },
   {
    "duration": 10,
    "start_time": "2021-11-13T16:55:28.277Z"
   },
   {
    "duration": 522,
    "start_time": "2021-11-13T16:58:17.839Z"
   },
   {
    "duration": 345,
    "start_time": "2021-11-13T16:58:21.347Z"
   },
   {
    "duration": 12,
    "start_time": "2021-11-13T17:26:43.365Z"
   },
   {
    "duration": 5,
    "start_time": "2021-11-13T17:27:53.397Z"
   },
   {
    "duration": 405,
    "start_time": "2021-11-13T17:28:00.212Z"
   },
   {
    "duration": 348,
    "start_time": "2021-11-13T17:28:04.243Z"
   },
   {
    "duration": 4,
    "start_time": "2021-11-13T17:28:39.838Z"
   },
   {
    "duration": 5,
    "start_time": "2021-11-13T17:28:47.430Z"
   },
   {
    "duration": 4,
    "start_time": "2021-11-13T17:29:02.958Z"
   },
   {
    "duration": 348,
    "start_time": "2021-11-13T17:29:25.478Z"
   },
   {
    "duration": 5,
    "start_time": "2021-11-13T17:33:30.980Z"
   },
   {
    "duration": 438,
    "start_time": "2021-11-13T17:33:50.104Z"
   },
   {
    "duration": 370,
    "start_time": "2021-11-13T17:34:30.256Z"
   },
   {
    "duration": 463,
    "start_time": "2021-11-13T17:35:45.757Z"
   },
   {
    "duration": 5,
    "start_time": "2021-11-13T17:35:50.616Z"
   },
   {
    "duration": 20,
    "start_time": "2021-11-13T17:37:11.127Z"
   },
   {
    "duration": 14,
    "start_time": "2021-11-13T17:37:13.494Z"
   },
   {
    "duration": 15,
    "start_time": "2021-11-13T17:37:16.104Z"
   },
   {
    "duration": 5,
    "start_time": "2021-11-13T17:37:18.287Z"
   },
   {
    "duration": 114,
    "start_time": "2021-11-13T17:39:18.460Z"
   },
   {
    "duration": 6,
    "start_time": "2021-11-13T17:41:37.862Z"
   },
   {
    "duration": 77,
    "start_time": "2021-11-13T17:41:40.240Z"
   },
   {
    "duration": 36,
    "start_time": "2021-11-13T17:41:41.934Z"
   },
   {
    "duration": 48,
    "start_time": "2021-11-13T17:41:43.680Z"
   },
   {
    "duration": 6,
    "start_time": "2021-11-13T17:41:45.421Z"
   },
   {
    "duration": 4,
    "start_time": "2021-11-13T17:44:34.851Z"
   },
   {
    "duration": 356,
    "start_time": "2021-11-13T17:44:54.423Z"
   },
   {
    "duration": 7,
    "start_time": "2021-11-13T17:45:21.167Z"
   },
   {
    "duration": 449,
    "start_time": "2021-11-13T17:45:46.079Z"
   },
   {
    "duration": 4,
    "start_time": "2021-11-13T17:47:37.881Z"
   },
   {
    "duration": 7,
    "start_time": "2021-11-13T17:48:16.949Z"
   },
   {
    "duration": 6,
    "start_time": "2021-11-13T17:54:58.724Z"
   },
   {
    "duration": 7,
    "start_time": "2021-11-13T17:55:36.456Z"
   },
   {
    "duration": 16,
    "start_time": "2021-11-13T17:58:33.702Z"
   },
   {
    "duration": 5,
    "start_time": "2021-11-13T18:00:23.177Z"
   },
   {
    "duration": 12,
    "start_time": "2021-11-13T18:01:02.850Z"
   },
   {
    "duration": 10,
    "start_time": "2021-11-13T18:12:52.175Z"
   },
   {
    "duration": 6,
    "start_time": "2021-11-13T18:27:02.819Z"
   },
   {
    "duration": 5,
    "start_time": "2021-11-13T18:27:30.655Z"
   },
   {
    "duration": 7,
    "start_time": "2021-11-13T18:28:32.415Z"
   },
   {
    "duration": 1131,
    "start_time": "2021-11-14T11:39:21.674Z"
   },
   {
    "duration": 44,
    "start_time": "2021-11-14T11:39:22.807Z"
   },
   {
    "duration": 195,
    "start_time": "2021-11-14T11:39:22.853Z"
   },
   {
    "duration": 97,
    "start_time": "2021-11-14T11:39:23.050Z"
   },
   {
    "duration": 140,
    "start_time": "2021-11-14T11:39:23.149Z"
   },
   {
    "duration": 26,
    "start_time": "2021-11-14T11:39:23.290Z"
   },
   {
    "duration": 5,
    "start_time": "2021-11-14T11:39:23.318Z"
   },
   {
    "duration": 19,
    "start_time": "2021-11-14T11:39:23.326Z"
   },
   {
    "duration": 19,
    "start_time": "2021-11-14T11:39:23.347Z"
   },
   {
    "duration": 14,
    "start_time": "2021-11-14T11:39:23.368Z"
   },
   {
    "duration": 15,
    "start_time": "2021-11-14T11:39:23.384Z"
   },
   {
    "duration": 6,
    "start_time": "2021-11-14T11:39:23.400Z"
   },
   {
    "duration": 38,
    "start_time": "2021-11-14T11:39:23.407Z"
   },
   {
    "duration": 83,
    "start_time": "2021-11-14T11:39:23.447Z"
   },
   {
    "duration": 43,
    "start_time": "2021-11-14T11:39:23.531Z"
   },
   {
    "duration": 51,
    "start_time": "2021-11-14T11:39:23.576Z"
   },
   {
    "duration": 18,
    "start_time": "2021-11-14T11:39:23.628Z"
   },
   {
    "duration": 5,
    "start_time": "2021-11-14T11:39:23.648Z"
   },
   {
    "duration": 6,
    "start_time": "2021-11-14T11:39:23.654Z"
   },
   {
    "duration": 6,
    "start_time": "2021-11-14T11:39:23.661Z"
   },
   {
    "duration": 8,
    "start_time": "2021-11-14T11:39:23.668Z"
   },
   {
    "duration": 360,
    "start_time": "2021-11-14T11:39:32.319Z"
   },
   {
    "duration": 8,
    "start_time": "2021-11-14T11:39:55.787Z"
   },
   {
    "duration": 371,
    "start_time": "2021-11-14T11:39:59.228Z"
   },
   {
    "duration": 8,
    "start_time": "2021-11-14T11:44:15.844Z"
   },
   {
    "duration": 21,
    "start_time": "2021-11-14T11:53:23.579Z"
   },
   {
    "duration": 8,
    "start_time": "2021-11-14T11:53:27.418Z"
   },
   {
    "duration": 17,
    "start_time": "2021-11-14T11:55:53.318Z"
   },
   {
    "duration": 9,
    "start_time": "2021-11-14T11:55:57.131Z"
   },
   {
    "duration": 32,
    "start_time": "2021-11-14T12:00:58.757Z"
   },
   {
    "duration": 32,
    "start_time": "2021-11-14T12:01:35.458Z"
   },
   {
    "duration": 26,
    "start_time": "2021-11-14T12:02:25.292Z"
   },
   {
    "duration": 31,
    "start_time": "2021-11-14T12:03:10.900Z"
   },
   {
    "duration": 29,
    "start_time": "2021-11-14T12:03:16.313Z"
   },
   {
    "duration": 33,
    "start_time": "2021-11-14T12:10:51.383Z"
   },
   {
    "duration": 8,
    "start_time": "2021-11-14T12:11:08.818Z"
   },
   {
    "duration": 7,
    "start_time": "2021-11-14T12:11:09.772Z"
   },
   {
    "duration": 17,
    "start_time": "2021-11-14T12:11:10.502Z"
   },
   {
    "duration": 26,
    "start_time": "2021-11-14T12:11:31.654Z"
   },
   {
    "duration": 31,
    "start_time": "2021-11-14T12:11:39.776Z"
   },
   {
    "duration": 34,
    "start_time": "2021-11-14T12:11:44.515Z"
   },
   {
    "duration": 46,
    "start_time": "2021-11-14T12:19:10.131Z"
   },
   {
    "duration": 33,
    "start_time": "2021-11-14T12:20:45.293Z"
   },
   {
    "duration": 304,
    "start_time": "2021-11-14T12:21:27.617Z"
   },
   {
    "duration": 33,
    "start_time": "2021-11-14T12:22:05.407Z"
   },
   {
    "duration": 36,
    "start_time": "2021-11-14T12:22:26.231Z"
   },
   {
    "duration": 32,
    "start_time": "2021-11-14T12:22:56.161Z"
   },
   {
    "duration": 11,
    "start_time": "2021-11-14T12:23:39.280Z"
   },
   {
    "duration": 62,
    "start_time": "2021-11-14T12:26:01.345Z"
   },
   {
    "duration": 92,
    "start_time": "2021-11-14T12:27:46.860Z"
   },
   {
    "duration": 253,
    "start_time": "2021-11-14T12:28:57.994Z"
   },
   {
    "duration": 62,
    "start_time": "2021-11-14T12:31:30.750Z"
   },
   {
    "duration": 356,
    "start_time": "2021-11-14T12:38:55.027Z"
   },
   {
    "duration": 273,
    "start_time": "2021-11-14T12:39:39.824Z"
   },
   {
    "duration": 418,
    "start_time": "2021-11-14T12:40:30.123Z"
   },
   {
    "duration": 480,
    "start_time": "2021-11-14T12:40:46.853Z"
   },
   {
    "duration": 5,
    "start_time": "2021-11-14T12:42:06.559Z"
   },
   {
    "duration": 331,
    "start_time": "2021-11-14T12:42:18.439Z"
   },
   {
    "duration": 438,
    "start_time": "2021-11-14T12:45:47.943Z"
   },
   {
    "duration": 455,
    "start_time": "2021-11-14T12:47:20.224Z"
   },
   {
    "duration": 335,
    "start_time": "2021-11-14T12:47:40.982Z"
   },
   {
    "duration": 3,
    "start_time": "2021-11-14T12:48:39.132Z"
   },
   {
    "duration": 7,
    "start_time": "2021-11-14T12:49:14.693Z"
   },
   {
    "duration": 263,
    "start_time": "2021-11-14T12:49:42.066Z"
   },
   {
    "duration": 7,
    "start_time": "2021-11-14T12:49:46.121Z"
   },
   {
    "duration": 3,
    "start_time": "2021-11-14T12:53:28.586Z"
   },
   {
    "duration": 3,
    "start_time": "2021-11-14T12:53:37.800Z"
   },
   {
    "duration": 273,
    "start_time": "2021-11-14T12:54:30.880Z"
   },
   {
    "duration": 3,
    "start_time": "2021-11-14T12:55:43.588Z"
   },
   {
    "duration": 100,
    "start_time": "2021-11-14T12:56:20.668Z"
   },
   {
    "duration": 157,
    "start_time": "2021-11-14T12:56:25.988Z"
   },
   {
    "duration": 4,
    "start_time": "2021-11-14T12:56:29.238Z"
   },
   {
    "duration": 4,
    "start_time": "2021-11-14T12:56:33.640Z"
   },
   {
    "duration": 15,
    "start_time": "2021-11-14T13:02:01.962Z"
   },
   {
    "duration": 10,
    "start_time": "2021-11-14T13:02:07.320Z"
   },
   {
    "duration": 8,
    "start_time": "2021-11-14T13:02:30.672Z"
   },
   {
    "duration": 6,
    "start_time": "2021-11-14T13:02:35.825Z"
   },
   {
    "duration": 633,
    "start_time": "2021-11-14T13:03:11.815Z"
   },
   {
    "duration": 538,
    "start_time": "2021-11-14T13:03:28.115Z"
   },
   {
    "duration": 274,
    "start_time": "2021-11-14T13:03:54.610Z"
   },
   {
    "duration": 64,
    "start_time": "2021-11-14T13:04:06.040Z"
   },
   {
    "duration": 67,
    "start_time": "2021-11-14T13:04:18.325Z"
   },
   {
    "duration": 70,
    "start_time": "2021-11-14T13:04:38.017Z"
   },
   {
    "duration": 267,
    "start_time": "2021-11-14T13:04:48.285Z"
   },
   {
    "duration": 281,
    "start_time": "2021-11-14T13:05:14.103Z"
   },
   {
    "duration": 281,
    "start_time": "2021-11-14T13:05:39.462Z"
   },
   {
    "duration": 286,
    "start_time": "2021-11-14T13:05:47.146Z"
   },
   {
    "duration": 258,
    "start_time": "2021-11-14T13:06:37.142Z"
   },
   {
    "duration": 13,
    "start_time": "2021-11-14T13:06:41.166Z"
   },
   {
    "duration": 8,
    "start_time": "2021-11-14T13:06:59.034Z"
   },
   {
    "duration": 4,
    "start_time": "2021-11-14T13:07:10.428Z"
   },
   {
    "duration": 8,
    "start_time": "2021-11-14T13:07:19.411Z"
   },
   {
    "duration": 10,
    "start_time": "2021-11-14T13:07:20.510Z"
   },
   {
    "duration": 307,
    "start_time": "2021-11-14T13:08:13.891Z"
   },
   {
    "duration": 289,
    "start_time": "2021-11-14T13:08:34.089Z"
   },
   {
    "duration": 270,
    "start_time": "2021-11-14T13:08:51.433Z"
   },
   {
    "duration": 17,
    "start_time": "2021-11-14T13:09:06.857Z"
   },
   {
    "duration": 4,
    "start_time": "2021-11-14T13:09:31.527Z"
   },
   {
    "duration": 2,
    "start_time": "2021-11-14T13:09:37.002Z"
   },
   {
    "duration": 37,
    "start_time": "2021-11-14T13:09:37.008Z"
   },
   {
    "duration": 149,
    "start_time": "2021-11-14T13:09:37.046Z"
   },
   {
    "duration": 92,
    "start_time": "2021-11-14T13:09:37.197Z"
   },
   {
    "duration": 134,
    "start_time": "2021-11-14T13:09:37.290Z"
   },
   {
    "duration": 23,
    "start_time": "2021-11-14T13:09:37.426Z"
   },
   {
    "duration": 6,
    "start_time": "2021-11-14T13:09:37.451Z"
   },
   {
    "duration": 12,
    "start_time": "2021-11-14T13:09:37.459Z"
   },
   {
    "duration": 19,
    "start_time": "2021-11-14T13:09:37.473Z"
   },
   {
    "duration": 12,
    "start_time": "2021-11-14T13:09:37.494Z"
   },
   {
    "duration": 40,
    "start_time": "2021-11-14T13:09:37.508Z"
   },
   {
    "duration": 5,
    "start_time": "2021-11-14T13:09:37.549Z"
   },
   {
    "duration": 8,
    "start_time": "2021-11-14T13:09:37.556Z"
   },
   {
    "duration": 84,
    "start_time": "2021-11-14T13:09:37.566Z"
   },
   {
    "duration": 36,
    "start_time": "2021-11-14T13:09:37.652Z"
   },
   {
    "duration": 56,
    "start_time": "2021-11-14T13:09:37.690Z"
   },
   {
    "duration": 6,
    "start_time": "2021-11-14T13:09:37.747Z"
   },
   {
    "duration": 7,
    "start_time": "2021-11-14T13:09:37.754Z"
   },
   {
    "duration": 8,
    "start_time": "2021-11-14T13:09:37.762Z"
   },
   {
    "duration": 16,
    "start_time": "2021-11-14T13:09:37.771Z"
   },
   {
    "duration": 9,
    "start_time": "2021-11-14T13:09:37.789Z"
   },
   {
    "duration": 28,
    "start_time": "2021-11-14T13:09:37.799Z"
   },
   {
    "duration": 28,
    "start_time": "2021-11-14T13:09:37.829Z"
   },
   {
    "duration": 25,
    "start_time": "2021-11-14T13:09:37.860Z"
   },
   {
    "duration": 28,
    "start_time": "2021-11-14T13:09:37.887Z"
   },
   {
    "duration": 30,
    "start_time": "2021-11-14T13:09:37.917Z"
   },
   {
    "duration": 96,
    "start_time": "2021-11-14T13:09:37.949Z"
   },
   {
    "duration": 280,
    "start_time": "2021-11-14T13:09:38.047Z"
   },
   {
    "duration": 17,
    "start_time": "2021-11-14T13:09:38.329Z"
   },
   {
    "duration": 4,
    "start_time": "2021-11-14T13:09:41.913Z"
   },
   {
    "duration": 19,
    "start_time": "2021-11-14T13:09:42.586Z"
   },
   {
    "duration": 271,
    "start_time": "2021-11-14T13:12:28.572Z"
   },
   {
    "duration": 279,
    "start_time": "2021-11-14T13:12:38.638Z"
   },
   {
    "duration": 14,
    "start_time": "2021-11-14T13:13:50.405Z"
   },
   {
    "duration": 8,
    "start_time": "2021-11-14T13:13:55.253Z"
   },
   {
    "duration": 4,
    "start_time": "2021-11-14T13:14:07.697Z"
   },
   {
    "duration": 10,
    "start_time": "2021-11-14T13:14:09.958Z"
   },
   {
    "duration": 7,
    "start_time": "2021-11-14T13:14:14.641Z"
   },
   {
    "duration": 306,
    "start_time": "2021-11-14T13:14:26.832Z"
   },
   {
    "duration": 287,
    "start_time": "2021-11-14T13:14:42.021Z"
   },
   {
    "duration": 289,
    "start_time": "2021-11-14T13:16:07.094Z"
   },
   {
    "duration": 297,
    "start_time": "2021-11-14T13:16:13.010Z"
   },
   {
    "duration": 3,
    "start_time": "2021-11-14T13:16:21.265Z"
   },
   {
    "duration": 41,
    "start_time": "2021-11-14T13:16:21.270Z"
   },
   {
    "duration": 164,
    "start_time": "2021-11-14T13:16:21.313Z"
   },
   {
    "duration": 97,
    "start_time": "2021-11-14T13:16:21.478Z"
   },
   {
    "duration": 142,
    "start_time": "2021-11-14T13:16:21.576Z"
   },
   {
    "duration": 24,
    "start_time": "2021-11-14T13:16:21.720Z"
   },
   {
    "duration": 5,
    "start_time": "2021-11-14T13:16:21.747Z"
   },
   {
    "duration": 11,
    "start_time": "2021-11-14T13:16:21.754Z"
   },
   {
    "duration": 21,
    "start_time": "2021-11-14T13:16:21.767Z"
   },
   {
    "duration": 15,
    "start_time": "2021-11-14T13:16:21.790Z"
   },
   {
    "duration": 47,
    "start_time": "2021-11-14T13:16:21.807Z"
   },
   {
    "duration": 6,
    "start_time": "2021-11-14T13:16:21.856Z"
   },
   {
    "duration": 8,
    "start_time": "2021-11-14T13:16:21.864Z"
   },
   {
    "duration": 108,
    "start_time": "2021-11-14T13:16:21.874Z"
   },
   {
    "duration": 40,
    "start_time": "2021-11-14T13:16:21.983Z"
   },
   {
    "duration": 69,
    "start_time": "2021-11-14T13:16:22.024Z"
   },
   {
    "duration": 6,
    "start_time": "2021-11-14T13:16:22.095Z"
   },
   {
    "duration": 6,
    "start_time": "2021-11-14T13:16:22.103Z"
   },
   {
    "duration": 6,
    "start_time": "2021-11-14T13:16:22.112Z"
   },
   {
    "duration": 24,
    "start_time": "2021-11-14T13:16:22.120Z"
   },
   {
    "duration": 8,
    "start_time": "2021-11-14T13:16:22.146Z"
   },
   {
    "duration": 24,
    "start_time": "2021-11-14T13:16:22.156Z"
   },
   {
    "duration": 18,
    "start_time": "2021-11-14T13:16:22.181Z"
   },
   {
    "duration": 53,
    "start_time": "2021-11-14T13:16:22.201Z"
   },
   {
    "duration": 31,
    "start_time": "2021-11-14T13:16:22.256Z"
   },
   {
    "duration": 11,
    "start_time": "2021-11-14T13:16:22.288Z"
   },
   {
    "duration": 113,
    "start_time": "2021-11-14T13:16:22.301Z"
   },
   {
    "duration": 302,
    "start_time": "2021-11-14T13:16:22.416Z"
   },
   {
    "duration": 2,
    "start_time": "2021-11-14T13:16:28.228Z"
   },
   {
    "duration": 44,
    "start_time": "2021-11-14T13:16:28.232Z"
   },
   {
    "duration": 153,
    "start_time": "2021-11-14T13:16:28.278Z"
   },
   {
    "duration": 96,
    "start_time": "2021-11-14T13:16:28.433Z"
   },
   {
    "duration": 142,
    "start_time": "2021-11-14T13:16:28.530Z"
   },
   {
    "duration": 23,
    "start_time": "2021-11-14T13:16:28.674Z"
   },
   {
    "duration": 5,
    "start_time": "2021-11-14T13:16:28.699Z"
   },
   {
    "duration": 11,
    "start_time": "2021-11-14T13:16:28.706Z"
   },
   {
    "duration": 33,
    "start_time": "2021-11-14T13:16:28.718Z"
   },
   {
    "duration": 12,
    "start_time": "2021-11-14T13:16:28.752Z"
   },
   {
    "duration": 16,
    "start_time": "2021-11-14T13:16:28.766Z"
   },
   {
    "duration": 5,
    "start_time": "2021-11-14T13:16:28.784Z"
   },
   {
    "duration": 9,
    "start_time": "2021-11-14T13:16:28.790Z"
   },
   {
    "duration": 99,
    "start_time": "2021-11-14T13:16:28.800Z"
   },
   {
    "duration": 45,
    "start_time": "2021-11-14T13:16:28.900Z"
   },
   {
    "duration": 46,
    "start_time": "2021-11-14T13:16:28.947Z"
   },
   {
    "duration": 5,
    "start_time": "2021-11-14T13:16:28.995Z"
   },
   {
    "duration": 8,
    "start_time": "2021-11-14T13:16:29.002Z"
   },
   {
    "duration": 8,
    "start_time": "2021-11-14T13:16:29.013Z"
   },
   {
    "duration": 25,
    "start_time": "2021-11-14T13:16:29.022Z"
   },
   {
    "duration": 13,
    "start_time": "2021-11-14T13:16:29.049Z"
   },
   {
    "duration": 23,
    "start_time": "2021-11-14T13:16:29.063Z"
   },
   {
    "duration": 16,
    "start_time": "2021-11-14T13:16:29.088Z"
   },
   {
    "duration": 43,
    "start_time": "2021-11-14T13:16:29.106Z"
   },
   {
    "duration": 27,
    "start_time": "2021-11-14T13:16:29.151Z"
   },
   {
    "duration": 10,
    "start_time": "2021-11-14T13:16:29.179Z"
   },
   {
    "duration": 104,
    "start_time": "2021-11-14T13:16:29.191Z"
   },
   {
    "duration": 278,
    "start_time": "2021-11-14T13:16:29.296Z"
   },
   {
    "duration": 8,
    "start_time": "2021-11-14T13:16:29.575Z"
   },
   {
    "duration": 4,
    "start_time": "2021-11-14T13:16:32.990Z"
   },
   {
    "duration": 1082,
    "start_time": "2021-11-14T13:16:35.825Z"
   },
   {
    "duration": 6666,
    "start_time": "2021-11-14T13:18:15.852Z"
   },
   {
    "duration": 15,
    "start_time": "2021-11-14T13:19:09.505Z"
   },
   {
    "duration": 13,
    "start_time": "2021-11-14T13:19:33.805Z"
   },
   {
    "duration": 16,
    "start_time": "2021-11-14T13:20:11.817Z"
   },
   {
    "duration": 14,
    "start_time": "2021-11-14T13:20:31.066Z"
   },
   {
    "duration": 13,
    "start_time": "2021-11-14T13:20:49.283Z"
   },
   {
    "duration": 11,
    "start_time": "2021-11-14T13:21:10.478Z"
   },
   {
    "duration": 9,
    "start_time": "2021-11-14T13:22:11.375Z"
   },
   {
    "duration": 11,
    "start_time": "2021-11-14T13:22:15.582Z"
   },
   {
    "duration": 7,
    "start_time": "2021-11-14T13:23:02.504Z"
   },
   {
    "duration": 3,
    "start_time": "2021-11-14T13:24:15.528Z"
   },
   {
    "duration": 269,
    "start_time": "2021-11-14T13:24:51.652Z"
   },
   {
    "duration": 11,
    "start_time": "2021-11-14T13:25:57.443Z"
   },
   {
    "duration": 19,
    "start_time": "2021-11-14T13:26:01.136Z"
   },
   {
    "duration": 6,
    "start_time": "2021-11-14T13:26:36.797Z"
   },
   {
    "duration": 16,
    "start_time": "2021-11-14T13:26:54.853Z"
   },
   {
    "duration": 498,
    "start_time": "2021-11-14T13:27:45.275Z"
   },
   {
    "duration": 312,
    "start_time": "2021-11-14T13:28:02.961Z"
   },
   {
    "duration": 451,
    "start_time": "2021-11-14T13:28:20.309Z"
   },
   {
    "duration": 268,
    "start_time": "2021-11-14T13:28:23.865Z"
   },
   {
    "duration": 306,
    "start_time": "2021-11-14T13:28:30.320Z"
   },
   {
    "duration": 279,
    "start_time": "2021-11-14T13:28:36.452Z"
   },
   {
    "duration": 15,
    "start_time": "2021-11-14T13:29:48.127Z"
   },
   {
    "duration": 282,
    "start_time": "2021-11-14T13:29:54.338Z"
   },
   {
    "duration": 291,
    "start_time": "2021-11-14T13:30:01.976Z"
   },
   {
    "duration": 414,
    "start_time": "2021-11-14T13:30:25.106Z"
   },
   {
    "duration": 276,
    "start_time": "2021-11-14T13:33:06.702Z"
   },
   {
    "duration": 305,
    "start_time": "2021-11-14T13:33:54.292Z"
   },
   {
    "duration": 296,
    "start_time": "2021-11-14T13:33:59.319Z"
   },
   {
    "duration": 272,
    "start_time": "2021-11-14T13:34:35.423Z"
   },
   {
    "duration": 282,
    "start_time": "2021-11-14T13:34:40.056Z"
   },
   {
    "duration": 272,
    "start_time": "2021-11-14T13:34:48.740Z"
   },
   {
    "duration": 95,
    "start_time": "2021-11-14T13:34:54.827Z"
   },
   {
    "duration": 273,
    "start_time": "2021-11-14T13:34:58.157Z"
   },
   {
    "duration": 292,
    "start_time": "2021-11-14T13:35:03.838Z"
   },
   {
    "duration": 90,
    "start_time": "2021-11-14T13:35:46.589Z"
   },
   {
    "duration": 269,
    "start_time": "2021-11-14T13:35:50.762Z"
   },
   {
    "duration": 101,
    "start_time": "2021-11-14T13:48:17.107Z"
   },
   {
    "duration": 165,
    "start_time": "2021-11-14T13:49:20.118Z"
   },
   {
    "duration": 91,
    "start_time": "2021-11-14T14:00:25.248Z"
   },
   {
    "duration": 393,
    "start_time": "2021-11-14T14:00:48.051Z"
   },
   {
    "duration": 525,
    "start_time": "2021-11-14T14:01:11.406Z"
   },
   {
    "duration": 480,
    "start_time": "2021-11-14T14:02:44.781Z"
   },
   {
    "duration": 606,
    "start_time": "2021-11-14T14:02:57.756Z"
   },
   {
    "duration": 400,
    "start_time": "2021-11-14T14:04:06.571Z"
   },
   {
    "duration": 401,
    "start_time": "2021-11-14T14:04:24.750Z"
   },
   {
    "duration": 91,
    "start_time": "2021-11-14T14:05:33.749Z"
   },
   {
    "duration": 29,
    "start_time": "2021-11-14T14:05:39.714Z"
   },
   {
    "duration": 26,
    "start_time": "2021-11-14T14:05:51.377Z"
   },
   {
    "duration": 28,
    "start_time": "2021-11-14T14:06:30.021Z"
   },
   {
    "duration": 36,
    "start_time": "2021-11-14T14:06:32.193Z"
   },
   {
    "duration": 26,
    "start_time": "2021-11-14T14:08:00.461Z"
   },
   {
    "duration": 26,
    "start_time": "2021-11-14T14:08:09.145Z"
   },
   {
    "duration": 112,
    "start_time": "2021-11-14T14:13:11.865Z"
   },
   {
    "duration": 148,
    "start_time": "2021-11-14T14:14:08.329Z"
   },
   {
    "duration": 675,
    "start_time": "2021-11-14T14:14:42.629Z"
   },
   {
    "duration": 149,
    "start_time": "2021-11-14T14:15:02.002Z"
   },
   {
    "duration": 152,
    "start_time": "2021-11-14T14:15:22.578Z"
   },
   {
    "duration": 124,
    "start_time": "2021-11-14T14:16:29.518Z"
   },
   {
    "duration": 96,
    "start_time": "2021-11-14T14:18:18.733Z"
   },
   {
    "duration": 114,
    "start_time": "2021-11-14T14:18:51.124Z"
   },
   {
    "duration": 95,
    "start_time": "2021-11-14T14:19:15.512Z"
   },
   {
    "duration": 114,
    "start_time": "2021-11-14T14:19:26.920Z"
   },
   {
    "duration": 113,
    "start_time": "2021-11-14T14:20:31.315Z"
   },
   {
    "duration": 1246,
    "start_time": "2021-11-14T14:21:44.814Z"
   },
   {
    "duration": 148,
    "start_time": "2021-11-14T14:22:04.945Z"
   },
   {
    "duration": 436,
    "start_time": "2021-11-14T14:25:46.510Z"
   },
   {
    "duration": 137,
    "start_time": "2021-11-14T14:25:55.828Z"
   },
   {
    "duration": 278,
    "start_time": "2021-11-14T14:29:21.173Z"
   },
   {
    "duration": 497,
    "start_time": "2021-11-14T14:29:33.583Z"
   },
   {
    "duration": 487,
    "start_time": "2021-11-14T14:30:12.282Z"
   },
   {
    "duration": 272,
    "start_time": "2021-11-14T14:30:31.790Z"
   },
   {
    "duration": 562,
    "start_time": "2021-11-14T14:30:37.561Z"
   },
   {
    "duration": 544,
    "start_time": "2021-11-14T14:31:19.018Z"
   },
   {
    "duration": 321,
    "start_time": "2021-11-14T14:32:14.212Z"
   },
   {
    "duration": 436,
    "start_time": "2021-11-14T14:32:22.728Z"
   },
   {
    "duration": 111,
    "start_time": "2021-11-14T14:35:15.608Z"
   },
   {
    "duration": 393,
    "start_time": "2021-11-14T14:36:06.536Z"
   },
   {
    "duration": 98,
    "start_time": "2021-11-14T14:36:28.183Z"
   },
   {
    "duration": 1982,
    "start_time": "2021-11-14T14:37:36.563Z"
   },
   {
    "duration": 6835,
    "start_time": "2021-11-14T14:38:04.067Z"
   },
   {
    "duration": 118,
    "start_time": "2021-11-14T14:38:17.638Z"
   },
   {
    "duration": 89,
    "start_time": "2021-11-14T14:41:24.701Z"
   },
   {
    "duration": 124,
    "start_time": "2021-11-14T14:44:26.560Z"
   },
   {
    "duration": 102,
    "start_time": "2021-11-14T14:44:38.753Z"
   },
   {
    "duration": 113,
    "start_time": "2021-11-14T14:44:55.990Z"
   },
   {
    "duration": 120,
    "start_time": "2021-11-14T14:45:10.649Z"
   },
   {
    "duration": 102,
    "start_time": "2021-11-14T14:45:16.387Z"
   },
   {
    "duration": 108,
    "start_time": "2021-11-14T14:45:31.858Z"
   },
   {
    "duration": 94,
    "start_time": "2021-11-14T14:46:22.075Z"
   },
   {
    "duration": 83,
    "start_time": "2021-11-14T14:47:35.212Z"
   },
   {
    "duration": 88,
    "start_time": "2021-11-14T14:48:10.100Z"
   },
   {
    "duration": 156,
    "start_time": "2021-11-14T14:51:00.910Z"
   },
   {
    "duration": 718,
    "start_time": "2021-11-14T14:51:29.405Z"
   },
   {
    "duration": 1254,
    "start_time": "2021-11-14T14:53:39.942Z"
   },
   {
    "duration": 966,
    "start_time": "2021-11-14T14:54:16.043Z"
   },
   {
    "duration": 1018,
    "start_time": "2021-11-14T14:55:07.288Z"
   },
   {
    "duration": 1297,
    "start_time": "2021-11-14T14:55:28.898Z"
   },
   {
    "duration": 1282,
    "start_time": "2021-11-14T14:55:39.045Z"
   },
   {
    "duration": 1435,
    "start_time": "2021-11-14T14:57:27.103Z"
   },
   {
    "duration": 272,
    "start_time": "2021-11-14T14:58:42.623Z"
   },
   {
    "duration": 304,
    "start_time": "2021-11-14T14:59:02.021Z"
   },
   {
    "duration": 327,
    "start_time": "2021-11-14T14:59:32.735Z"
   },
   {
    "duration": 340,
    "start_time": "2021-11-14T15:00:13.053Z"
   },
   {
    "duration": 705,
    "start_time": "2021-11-14T15:01:29.992Z"
   },
   {
    "duration": 362,
    "start_time": "2021-11-14T15:02:25.962Z"
   },
   {
    "duration": 356,
    "start_time": "2021-11-14T15:03:23.900Z"
   },
   {
    "duration": 356,
    "start_time": "2021-11-14T15:03:32.338Z"
   },
   {
    "duration": 16,
    "start_time": "2021-11-14T15:06:03.313Z"
   },
   {
    "duration": 17,
    "start_time": "2021-11-14T15:06:27.636Z"
   },
   {
    "duration": 27,
    "start_time": "2021-11-14T15:06:55.694Z"
   },
   {
    "duration": 28,
    "start_time": "2021-11-14T15:07:21.121Z"
   },
   {
    "duration": 28,
    "start_time": "2021-11-14T15:07:29.761Z"
   },
   {
    "duration": 27,
    "start_time": "2021-11-14T15:07:43.408Z"
   },
   {
    "duration": 26,
    "start_time": "2021-11-14T15:08:01.845Z"
   },
   {
    "duration": 32,
    "start_time": "2021-11-14T15:09:14.014Z"
   },
   {
    "duration": 35,
    "start_time": "2021-11-14T15:09:52.421Z"
   },
   {
    "duration": 29,
    "start_time": "2021-11-14T15:10:11.199Z"
   },
   {
    "duration": 7,
    "start_time": "2021-11-14T15:17:26.174Z"
   },
   {
    "duration": 284,
    "start_time": "2021-11-14T15:18:22.413Z"
   },
   {
    "duration": 31,
    "start_time": "2021-11-14T15:18:36.601Z"
   },
   {
    "duration": 34,
    "start_time": "2021-11-14T15:19:03.768Z"
   },
   {
    "duration": 28,
    "start_time": "2021-11-14T15:19:41.143Z"
   },
   {
    "duration": 27,
    "start_time": "2021-11-14T15:20:11.832Z"
   },
   {
    "duration": 273,
    "start_time": "2021-11-14T15:21:55.624Z"
   },
   {
    "duration": 10,
    "start_time": "2021-11-14T15:23:04.106Z"
   },
   {
    "duration": 1468,
    "start_time": "2021-11-14T15:26:31.026Z"
   },
   {
    "duration": 43,
    "start_time": "2021-11-14T15:28:41.495Z"
   },
   {
    "duration": 20,
    "start_time": "2021-11-14T15:29:15.672Z"
   },
   {
    "duration": 4,
    "start_time": "2021-11-14T15:33:07.471Z"
   },
   {
    "duration": 106,
    "start_time": "2021-11-14T15:34:00.559Z"
   },
   {
    "duration": 13,
    "start_time": "2021-11-14T15:34:03.540Z"
   },
   {
    "duration": 9,
    "start_time": "2021-11-14T15:36:05.696Z"
   },
   {
    "duration": 9,
    "start_time": "2021-11-14T15:36:12.241Z"
   },
   {
    "duration": 30,
    "start_time": "2021-11-14T15:36:57.386Z"
   },
   {
    "duration": 33,
    "start_time": "2021-11-14T15:37:36.022Z"
   },
   {
    "duration": 268,
    "start_time": "2021-11-14T15:37:59.523Z"
   },
   {
    "duration": 35,
    "start_time": "2021-11-14T15:38:17.331Z"
   },
   {
    "duration": 42,
    "start_time": "2021-11-14T15:40:47.003Z"
   },
   {
    "duration": 278,
    "start_time": "2021-11-14T15:42:46.073Z"
   },
   {
    "duration": 313,
    "start_time": "2021-11-14T15:42:50.595Z"
   },
   {
    "duration": 9,
    "start_time": "2021-11-14T15:42:58.056Z"
   },
   {
    "duration": 7,
    "start_time": "2021-11-14T15:43:26.192Z"
   },
   {
    "duration": 30,
    "start_time": "2021-11-14T15:44:03.509Z"
   },
   {
    "duration": 26,
    "start_time": "2021-11-14T15:45:41.881Z"
   },
   {
    "duration": 18,
    "start_time": "2021-11-14T15:47:16.643Z"
   },
   {
    "duration": 17,
    "start_time": "2021-11-14T15:47:57.791Z"
   },
   {
    "duration": 27,
    "start_time": "2021-11-14T15:48:11.036Z"
   },
   {
    "duration": 33,
    "start_time": "2021-11-14T15:48:17.334Z"
   },
   {
    "duration": 37,
    "start_time": "2021-11-14T15:48:33.938Z"
   },
   {
    "duration": 281,
    "start_time": "2021-11-14T15:50:00.744Z"
   },
   {
    "duration": 8,
    "start_time": "2021-11-14T15:50:34.370Z"
   },
   {
    "duration": 10,
    "start_time": "2021-11-14T15:52:22.778Z"
   },
   {
    "duration": 13,
    "start_time": "2021-11-14T15:53:02.770Z"
   },
   {
    "duration": 9,
    "start_time": "2021-11-14T15:53:07.070Z"
   },
   {
    "duration": 1197,
    "start_time": "2021-11-14T15:58:06.548Z"
   },
   {
    "duration": 11,
    "start_time": "2021-11-14T15:59:11.516Z"
   },
   {
    "duration": 10,
    "start_time": "2021-11-14T15:59:31.632Z"
   },
   {
    "duration": 10,
    "start_time": "2021-11-14T15:59:49.678Z"
   },
   {
    "duration": 291,
    "start_time": "2021-11-14T16:00:23.674Z"
   },
   {
    "duration": 3,
    "start_time": "2021-11-14T16:00:40.106Z"
   },
   {
    "duration": 43,
    "start_time": "2021-11-14T16:00:40.111Z"
   },
   {
    "duration": 162,
    "start_time": "2021-11-14T16:00:40.157Z"
   },
   {
    "duration": 104,
    "start_time": "2021-11-14T16:00:40.321Z"
   },
   {
    "duration": 158,
    "start_time": "2021-11-14T16:00:40.426Z"
   },
   {
    "duration": 25,
    "start_time": "2021-11-14T16:00:40.586Z"
   },
   {
    "duration": 18,
    "start_time": "2021-11-14T16:00:40.613Z"
   },
   {
    "duration": 28,
    "start_time": "2021-11-14T16:00:40.633Z"
   },
   {
    "duration": 19,
    "start_time": "2021-11-14T16:00:40.662Z"
   },
   {
    "duration": 13,
    "start_time": "2021-11-14T16:00:40.683Z"
   },
   {
    "duration": 20,
    "start_time": "2021-11-14T16:00:40.698Z"
   },
   {
    "duration": 11,
    "start_time": "2021-11-14T16:00:40.719Z"
   },
   {
    "duration": 25,
    "start_time": "2021-11-14T16:00:40.732Z"
   },
   {
    "duration": 81,
    "start_time": "2021-11-14T16:00:40.759Z"
   },
   {
    "duration": 42,
    "start_time": "2021-11-14T16:00:40.842Z"
   },
   {
    "duration": 71,
    "start_time": "2021-11-14T16:00:40.886Z"
   },
   {
    "duration": 6,
    "start_time": "2021-11-14T16:00:40.959Z"
   },
   {
    "duration": 18,
    "start_time": "2021-11-14T16:00:40.967Z"
   },
   {
    "duration": 7,
    "start_time": "2021-11-14T16:00:40.988Z"
   },
   {
    "duration": 7,
    "start_time": "2021-11-14T16:00:40.996Z"
   },
   {
    "duration": 3,
    "start_time": "2021-11-14T16:00:41.005Z"
   },
   {
    "duration": 12,
    "start_time": "2021-11-14T16:00:41.009Z"
   },
   {
    "duration": 64,
    "start_time": "2021-11-14T16:00:41.022Z"
   },
   {
    "duration": 32,
    "start_time": "2021-11-14T16:00:41.087Z"
   },
   {
    "duration": 40,
    "start_time": "2021-11-14T16:00:41.121Z"
   },
   {
    "duration": 7,
    "start_time": "2021-11-14T16:00:41.162Z"
   },
   {
    "duration": 32,
    "start_time": "2021-11-14T16:00:41.170Z"
   },
   {
    "duration": 44,
    "start_time": "2021-11-14T16:00:41.203Z"
   },
   {
    "duration": 7,
    "start_time": "2021-11-14T16:00:41.257Z"
   },
   {
    "duration": 36,
    "start_time": "2021-11-14T16:00:41.266Z"
   },
   {
    "duration": 28,
    "start_time": "2021-11-14T16:00:41.304Z"
   },
   {
    "duration": 44,
    "start_time": "2021-11-14T16:00:41.333Z"
   },
   {
    "duration": 12,
    "start_time": "2021-11-14T16:00:46.670Z"
   },
   {
    "duration": 360,
    "start_time": "2021-11-14T16:00:58.156Z"
   },
   {
    "duration": 4,
    "start_time": "2021-11-14T16:01:02.350Z"
   },
   {
    "duration": 41,
    "start_time": "2021-11-14T16:01:02.358Z"
   },
   {
    "duration": 187,
    "start_time": "2021-11-14T16:01:02.401Z"
   },
   {
    "duration": 101,
    "start_time": "2021-11-14T16:01:02.590Z"
   },
   {
    "duration": 153,
    "start_time": "2021-11-14T16:01:02.692Z"
   },
   {
    "duration": 26,
    "start_time": "2021-11-14T16:01:02.846Z"
   },
   {
    "duration": 14,
    "start_time": "2021-11-14T16:01:02.873Z"
   },
   {
    "duration": 22,
    "start_time": "2021-11-14T16:01:02.889Z"
   },
   {
    "duration": 22,
    "start_time": "2021-11-14T16:01:02.913Z"
   },
   {
    "duration": 25,
    "start_time": "2021-11-14T16:01:02.937Z"
   },
   {
    "duration": 17,
    "start_time": "2021-11-14T16:01:02.964Z"
   },
   {
    "duration": 5,
    "start_time": "2021-11-14T16:01:02.982Z"
   },
   {
    "duration": 18,
    "start_time": "2021-11-14T16:01:02.988Z"
   },
   {
    "duration": 86,
    "start_time": "2021-11-14T16:01:03.008Z"
   },
   {
    "duration": 36,
    "start_time": "2021-11-14T16:01:03.096Z"
   },
   {
    "duration": 60,
    "start_time": "2021-11-14T16:01:03.134Z"
   },
   {
    "duration": 5,
    "start_time": "2021-11-14T16:01:03.196Z"
   },
   {
    "duration": 9,
    "start_time": "2021-11-14T16:01:03.203Z"
   },
   {
    "duration": 8,
    "start_time": "2021-11-14T16:01:03.214Z"
   },
   {
    "duration": 24,
    "start_time": "2021-11-14T16:01:03.223Z"
   },
   {
    "duration": 3,
    "start_time": "2021-11-14T16:01:03.249Z"
   },
   {
    "duration": 23,
    "start_time": "2021-11-14T16:01:03.254Z"
   },
   {
    "duration": 65,
    "start_time": "2021-11-14T16:01:03.278Z"
   },
   {
    "duration": 36,
    "start_time": "2021-11-14T16:01:03.346Z"
   },
   {
    "duration": 28,
    "start_time": "2021-11-14T16:01:03.384Z"
   },
   {
    "duration": 6,
    "start_time": "2021-11-14T16:01:03.414Z"
   },
   {
    "duration": 53,
    "start_time": "2021-11-14T16:01:03.422Z"
   },
   {
    "duration": 26,
    "start_time": "2021-11-14T16:01:03.477Z"
   },
   {
    "duration": 7,
    "start_time": "2021-11-14T16:01:03.504Z"
   },
   {
    "duration": 63,
    "start_time": "2021-11-14T16:01:03.513Z"
   },
   {
    "duration": 29,
    "start_time": "2021-11-14T16:01:03.578Z"
   },
   {
    "duration": 47,
    "start_time": "2021-11-14T16:01:03.608Z"
   },
   {
    "duration": 10,
    "start_time": "2021-11-14T16:01:06.213Z"
   },
   {
    "duration": 3,
    "start_time": "2021-11-14T16:01:46.536Z"
   },
   {
    "duration": 38,
    "start_time": "2021-11-14T16:01:46.543Z"
   },
   {
    "duration": 168,
    "start_time": "2021-11-14T16:01:46.583Z"
   },
   {
    "duration": 100,
    "start_time": "2021-11-14T16:01:46.753Z"
   },
   {
    "duration": 148,
    "start_time": "2021-11-14T16:01:46.855Z"
   },
   {
    "duration": 26,
    "start_time": "2021-11-14T16:01:47.004Z"
   },
   {
    "duration": 5,
    "start_time": "2021-11-14T16:01:47.031Z"
   },
   {
    "duration": 21,
    "start_time": "2021-11-14T16:01:47.038Z"
   },
   {
    "duration": 20,
    "start_time": "2021-11-14T16:01:47.061Z"
   },
   {
    "duration": 13,
    "start_time": "2021-11-14T16:01:47.084Z"
   },
   {
    "duration": 19,
    "start_time": "2021-11-14T16:01:47.099Z"
   },
   {
    "duration": 33,
    "start_time": "2021-11-14T16:01:47.120Z"
   },
   {
    "duration": 7,
    "start_time": "2021-11-14T16:01:47.156Z"
   },
   {
    "duration": 99,
    "start_time": "2021-11-14T16:01:47.165Z"
   },
   {
    "duration": 34,
    "start_time": "2021-11-14T16:01:47.266Z"
   },
   {
    "duration": 70,
    "start_time": "2021-11-14T16:01:47.302Z"
   },
   {
    "duration": 5,
    "start_time": "2021-11-14T16:01:47.373Z"
   },
   {
    "duration": 6,
    "start_time": "2021-11-14T16:01:47.380Z"
   },
   {
    "duration": 7,
    "start_time": "2021-11-14T16:01:47.388Z"
   },
   {
    "duration": 7,
    "start_time": "2021-11-14T16:01:47.397Z"
   },
   {
    "duration": 6,
    "start_time": "2021-11-14T16:01:47.405Z"
   },
   {
    "duration": 10,
    "start_time": "2021-11-14T16:01:47.412Z"
   },
   {
    "duration": 69,
    "start_time": "2021-11-14T16:01:47.423Z"
   },
   {
    "duration": 29,
    "start_time": "2021-11-14T16:01:47.495Z"
   },
   {
    "duration": 27,
    "start_time": "2021-11-14T16:01:52.877Z"
   },
   {
    "duration": 1143,
    "start_time": "2021-11-14T16:02:58.486Z"
   },
   {
    "duration": 3,
    "start_time": "2021-11-14T16:03:06.167Z"
   },
   {
    "duration": 43,
    "start_time": "2021-11-14T16:03:06.172Z"
   },
   {
    "duration": 170,
    "start_time": "2021-11-14T16:03:06.217Z"
   },
   {
    "duration": 108,
    "start_time": "2021-11-14T16:03:06.388Z"
   },
   {
    "duration": 152,
    "start_time": "2021-11-14T16:03:06.498Z"
   },
   {
    "duration": 30,
    "start_time": "2021-11-14T16:03:06.653Z"
   },
   {
    "duration": 6,
    "start_time": "2021-11-14T16:03:06.685Z"
   },
   {
    "duration": 10,
    "start_time": "2021-11-14T16:03:06.692Z"
   },
   {
    "duration": 19,
    "start_time": "2021-11-14T16:03:06.704Z"
   },
   {
    "duration": 29,
    "start_time": "2021-11-14T16:03:06.724Z"
   },
   {
    "duration": 20,
    "start_time": "2021-11-14T16:03:06.755Z"
   },
   {
    "duration": 5,
    "start_time": "2021-11-14T16:03:06.776Z"
   },
   {
    "duration": 8,
    "start_time": "2021-11-14T16:03:06.782Z"
   },
   {
    "duration": 112,
    "start_time": "2021-11-14T16:03:06.792Z"
   },
   {
    "duration": 51,
    "start_time": "2021-11-14T16:03:06.905Z"
   },
   {
    "duration": 51,
    "start_time": "2021-11-14T16:03:06.958Z"
   },
   {
    "duration": 6,
    "start_time": "2021-11-14T16:03:07.010Z"
   },
   {
    "duration": 6,
    "start_time": "2021-11-14T16:03:07.018Z"
   },
   {
    "duration": 26,
    "start_time": "2021-11-14T16:03:07.025Z"
   },
   {
    "duration": 11,
    "start_time": "2021-11-14T16:03:07.053Z"
   },
   {
    "duration": 6,
    "start_time": "2021-11-14T16:03:07.065Z"
   },
   {
    "duration": 10,
    "start_time": "2021-11-14T16:03:07.073Z"
   },
   {
    "duration": 50,
    "start_time": "2021-11-14T16:03:07.084Z"
   },
   {
    "duration": 41,
    "start_time": "2021-11-14T16:03:07.135Z"
   },
   {
    "duration": 1102,
    "start_time": "2021-11-14T16:03:12.763Z"
   },
   {
    "duration": 28,
    "start_time": "2021-11-14T16:03:50.452Z"
   },
   {
    "duration": 1293,
    "start_time": "2021-11-14T18:58:43.270Z"
   },
   {
    "duration": 48,
    "start_time": "2021-11-14T18:58:44.565Z"
   },
   {
    "duration": 163,
    "start_time": "2021-11-14T18:58:44.615Z"
   },
   {
    "duration": 104,
    "start_time": "2021-11-14T18:58:44.779Z"
   },
   {
    "duration": 150,
    "start_time": "2021-11-14T18:58:44.884Z"
   },
   {
    "duration": 24,
    "start_time": "2021-11-14T18:58:45.036Z"
   },
   {
    "duration": 6,
    "start_time": "2021-11-14T18:58:45.062Z"
   },
   {
    "duration": 18,
    "start_time": "2021-11-14T18:58:45.071Z"
   },
   {
    "duration": 27,
    "start_time": "2021-11-14T18:58:45.091Z"
   },
   {
    "duration": 13,
    "start_time": "2021-11-14T18:58:45.120Z"
   },
   {
    "duration": 17,
    "start_time": "2021-11-14T18:58:45.135Z"
   },
   {
    "duration": 5,
    "start_time": "2021-11-14T18:58:45.154Z"
   },
   {
    "duration": 7,
    "start_time": "2021-11-14T18:58:45.161Z"
   },
   {
    "duration": 131,
    "start_time": "2021-11-14T18:58:45.170Z"
   },
   {
    "duration": 39,
    "start_time": "2021-11-14T18:58:45.302Z"
   },
   {
    "duration": 90,
    "start_time": "2021-11-14T18:58:45.343Z"
   },
   {
    "duration": 5,
    "start_time": "2021-11-14T18:58:45.435Z"
   },
   {
    "duration": 4,
    "start_time": "2021-11-14T18:58:45.442Z"
   },
   {
    "duration": 6,
    "start_time": "2021-11-14T18:58:45.448Z"
   },
   {
    "duration": 6,
    "start_time": "2021-11-14T18:58:45.455Z"
   },
   {
    "duration": 3,
    "start_time": "2021-11-14T18:58:45.463Z"
   },
   {
    "duration": 10,
    "start_time": "2021-11-14T18:58:45.467Z"
   },
   {
    "duration": 78,
    "start_time": "2021-11-14T18:58:45.481Z"
   },
   {
    "duration": 53,
    "start_time": "2021-11-14T18:58:45.561Z"
   },
   {
    "duration": 35,
    "start_time": "2021-11-14T18:58:45.615Z"
   },
   {
    "duration": 6,
    "start_time": "2021-11-14T18:58:45.652Z"
   },
   {
    "duration": 46,
    "start_time": "2021-11-14T18:58:45.660Z"
   },
   {
    "duration": 32,
    "start_time": "2021-11-14T18:58:45.708Z"
   },
   {
    "duration": 8,
    "start_time": "2021-11-14T18:58:45.742Z"
   },
   {
    "duration": 59,
    "start_time": "2021-11-14T18:58:45.752Z"
   },
   {
    "duration": 37,
    "start_time": "2021-11-14T18:58:45.813Z"
   },
   {
    "duration": 55,
    "start_time": "2021-11-14T18:58:45.851Z"
   },
   {
    "duration": 13,
    "start_time": "2021-11-14T18:58:45.908Z"
   },
   {
    "duration": 11,
    "start_time": "2021-11-14T18:58:45.923Z"
   },
   {
    "duration": 12,
    "start_time": "2021-11-14T18:58:55.876Z"
   },
   {
    "duration": 9090,
    "start_time": "2021-11-14T18:58:58.128Z"
   },
   {
    "duration": 1533,
    "start_time": "2021-11-14T19:00:04.673Z"
   },
   {
    "duration": 37,
    "start_time": "2021-11-14T19:00:10.278Z"
   },
   {
    "duration": 35,
    "start_time": "2021-11-14T19:00:23.984Z"
   },
   {
    "duration": 9,
    "start_time": "2021-11-14T19:00:35.411Z"
   },
   {
    "duration": 9,
    "start_time": "2021-11-14T19:00:44.956Z"
   },
   {
    "duration": 3,
    "start_time": "2021-11-14T19:00:52.078Z"
   },
   {
    "duration": 61,
    "start_time": "2021-11-14T19:00:52.084Z"
   },
   {
    "duration": 158,
    "start_time": "2021-11-14T19:00:52.147Z"
   },
   {
    "duration": 104,
    "start_time": "2021-11-14T19:00:52.307Z"
   },
   {
    "duration": 134,
    "start_time": "2021-11-14T19:00:52.412Z"
   },
   {
    "duration": 23,
    "start_time": "2021-11-14T19:00:52.548Z"
   },
   {
    "duration": 11,
    "start_time": "2021-11-14T19:00:52.573Z"
   },
   {
    "duration": 21,
    "start_time": "2021-11-14T19:00:52.585Z"
   },
   {
    "duration": 21,
    "start_time": "2021-11-14T19:00:52.608Z"
   },
   {
    "duration": 13,
    "start_time": "2021-11-14T19:00:52.632Z"
   },
   {
    "duration": 20,
    "start_time": "2021-11-14T19:00:52.648Z"
   },
   {
    "duration": 8,
    "start_time": "2021-11-14T19:00:52.670Z"
   },
   {
    "duration": 27,
    "start_time": "2021-11-14T19:00:52.679Z"
   },
   {
    "duration": 77,
    "start_time": "2021-11-14T19:00:52.708Z"
   },
   {
    "duration": 50,
    "start_time": "2021-11-14T19:00:52.787Z"
   },
   {
    "duration": 45,
    "start_time": "2021-11-14T19:00:52.838Z"
   },
   {
    "duration": 23,
    "start_time": "2021-11-14T19:00:52.885Z"
   },
   {
    "duration": 15,
    "start_time": "2021-11-14T19:00:52.910Z"
   },
   {
    "duration": 9,
    "start_time": "2021-11-14T19:00:52.927Z"
   },
   {
    "duration": 17,
    "start_time": "2021-11-14T19:00:52.937Z"
   },
   {
    "duration": 11,
    "start_time": "2021-11-14T19:00:52.956Z"
   },
   {
    "duration": 11,
    "start_time": "2021-11-14T19:00:52.969Z"
   },
   {
    "duration": 65,
    "start_time": "2021-11-14T19:00:52.982Z"
   },
   {
    "duration": 31,
    "start_time": "2021-11-14T19:00:53.048Z"
   },
   {
    "duration": 40,
    "start_time": "2021-11-14T19:00:53.080Z"
   },
   {
    "duration": 6,
    "start_time": "2021-11-14T19:00:53.122Z"
   },
   {
    "duration": 39,
    "start_time": "2021-11-14T19:00:53.130Z"
   },
   {
    "duration": 25,
    "start_time": "2021-11-14T19:00:53.172Z"
   },
   {
    "duration": 6,
    "start_time": "2021-11-14T19:00:53.207Z"
   },
   {
    "duration": 45,
    "start_time": "2021-11-14T19:00:53.215Z"
   },
   {
    "duration": 33,
    "start_time": "2021-11-14T19:00:53.262Z"
   },
   {
    "duration": 42,
    "start_time": "2021-11-14T19:00:53.297Z"
   },
   {
    "duration": 11,
    "start_time": "2021-11-14T19:00:53.341Z"
   },
   {
    "duration": 10,
    "start_time": "2021-11-14T19:00:55.342Z"
   },
   {
    "duration": 10,
    "start_time": "2021-11-14T19:00:58.581Z"
   },
   {
    "duration": 2,
    "start_time": "2021-11-14T19:01:03.427Z"
   },
   {
    "duration": 37,
    "start_time": "2021-11-14T19:03:12.382Z"
   },
   {
    "duration": 36,
    "start_time": "2021-11-14T19:03:25.808Z"
   },
   {
    "duration": 443,
    "start_time": "2021-11-14T19:05:05.802Z"
   },
   {
    "duration": 3,
    "start_time": "2021-11-14T19:05:31.805Z"
   },
   {
    "duration": 47,
    "start_time": "2021-11-14T19:05:31.810Z"
   },
   {
    "duration": 152,
    "start_time": "2021-11-14T19:05:31.859Z"
   },
   {
    "duration": 95,
    "start_time": "2021-11-14T19:05:32.013Z"
   },
   {
    "duration": 135,
    "start_time": "2021-11-14T19:05:32.109Z"
   },
   {
    "duration": 23,
    "start_time": "2021-11-14T19:05:32.245Z"
   },
   {
    "duration": 8,
    "start_time": "2021-11-14T19:05:32.270Z"
   },
   {
    "duration": 27,
    "start_time": "2021-11-14T19:05:32.280Z"
   },
   {
    "duration": 20,
    "start_time": "2021-11-14T19:05:32.309Z"
   },
   {
    "duration": 19,
    "start_time": "2021-11-14T19:05:32.331Z"
   },
   {
    "duration": 15,
    "start_time": "2021-11-14T19:05:32.351Z"
   },
   {
    "duration": 15,
    "start_time": "2021-11-14T19:05:32.367Z"
   },
   {
    "duration": 15,
    "start_time": "2021-11-14T19:05:32.383Z"
   },
   {
    "duration": 78,
    "start_time": "2021-11-14T19:05:32.399Z"
   },
   {
    "duration": 33,
    "start_time": "2021-11-14T19:05:32.479Z"
   },
   {
    "duration": 44,
    "start_time": "2021-11-14T19:05:32.514Z"
   },
   {
    "duration": 5,
    "start_time": "2021-11-14T19:05:32.560Z"
   },
   {
    "duration": 18,
    "start_time": "2021-11-14T19:05:32.566Z"
   },
   {
    "duration": 5,
    "start_time": "2021-11-14T19:05:32.587Z"
   },
   {
    "duration": 14,
    "start_time": "2021-11-14T19:05:32.594Z"
   },
   {
    "duration": 9,
    "start_time": "2021-11-14T19:05:32.609Z"
   },
   {
    "duration": 17,
    "start_time": "2021-11-14T19:05:32.620Z"
   },
   {
    "duration": 56,
    "start_time": "2021-11-14T19:05:32.638Z"
   },
   {
    "duration": 384,
    "start_time": "2021-11-14T19:05:36.455Z"
   },
   {
    "duration": 29,
    "start_time": "2021-11-14T19:05:47.196Z"
   },
   {
    "duration": 29,
    "start_time": "2021-11-14T19:06:14.681Z"
   },
   {
    "duration": 29,
    "start_time": "2021-11-14T19:06:17.122Z"
   },
   {
    "duration": 375,
    "start_time": "2021-11-14T19:06:27.057Z"
   },
   {
    "duration": 376,
    "start_time": "2021-11-14T19:07:14.455Z"
   },
   {
    "duration": 390,
    "start_time": "2021-11-14T19:07:29.520Z"
   },
   {
    "duration": 23,
    "start_time": "2021-11-14T19:07:37.493Z"
   },
   {
    "duration": 23,
    "start_time": "2021-11-14T19:07:39.739Z"
   },
   {
    "duration": 30,
    "start_time": "2021-11-14T19:08:00.023Z"
   },
   {
    "duration": 29,
    "start_time": "2021-11-14T19:08:36.499Z"
   },
   {
    "duration": 33,
    "start_time": "2021-11-14T19:08:56.903Z"
   },
   {
    "duration": 3,
    "start_time": "2021-11-14T19:09:05.237Z"
   },
   {
    "duration": 53,
    "start_time": "2021-11-14T19:09:05.242Z"
   },
   {
    "duration": 189,
    "start_time": "2021-11-14T19:09:05.298Z"
   },
   {
    "duration": 98,
    "start_time": "2021-11-14T19:09:05.489Z"
   },
   {
    "duration": 145,
    "start_time": "2021-11-14T19:09:05.588Z"
   },
   {
    "duration": 24,
    "start_time": "2021-11-14T19:09:05.734Z"
   },
   {
    "duration": 5,
    "start_time": "2021-11-14T19:09:05.760Z"
   },
   {
    "duration": 21,
    "start_time": "2021-11-14T19:09:05.766Z"
   },
   {
    "duration": 27,
    "start_time": "2021-11-14T19:09:05.789Z"
   },
   {
    "duration": 13,
    "start_time": "2021-11-14T19:09:05.817Z"
   },
   {
    "duration": 23,
    "start_time": "2021-11-14T19:09:05.832Z"
   },
   {
    "duration": 4,
    "start_time": "2021-11-14T19:09:05.857Z"
   },
   {
    "duration": 16,
    "start_time": "2021-11-14T19:09:05.863Z"
   },
   {
    "duration": 92,
    "start_time": "2021-11-14T19:09:05.881Z"
   },
   {
    "duration": 47,
    "start_time": "2021-11-14T19:09:05.975Z"
   },
   {
    "duration": 53,
    "start_time": "2021-11-14T19:09:06.024Z"
   },
   {
    "duration": 6,
    "start_time": "2021-11-14T19:09:06.079Z"
   },
   {
    "duration": 4,
    "start_time": "2021-11-14T19:09:06.107Z"
   },
   {
    "duration": 13,
    "start_time": "2021-11-14T19:09:06.113Z"
   },
   {
    "duration": 21,
    "start_time": "2021-11-14T19:09:06.127Z"
   },
   {
    "duration": 17,
    "start_time": "2021-11-14T19:09:06.150Z"
   },
   {
    "duration": 15,
    "start_time": "2021-11-14T19:09:06.169Z"
   },
   {
    "duration": 49,
    "start_time": "2021-11-14T19:09:06.185Z"
   },
   {
    "duration": 35,
    "start_time": "2021-11-14T19:09:09.044Z"
   },
   {
    "duration": 32,
    "start_time": "2021-11-14T19:09:12.915Z"
   },
   {
    "duration": 32,
    "start_time": "2021-11-14T19:09:30.296Z"
   },
   {
    "duration": 454,
    "start_time": "2021-11-14T19:09:47.986Z"
   },
   {
    "duration": 29,
    "start_time": "2021-11-14T19:10:00.049Z"
   },
   {
    "duration": 36,
    "start_time": "2021-11-14T19:10:18.119Z"
   },
   {
    "duration": 33,
    "start_time": "2021-11-14T19:10:22.873Z"
   },
   {
    "duration": 14,
    "start_time": "2021-11-14T19:12:24.003Z"
   },
   {
    "duration": 356,
    "start_time": "2021-11-14T19:13:38.063Z"
   },
   {
    "duration": 876,
    "start_time": "2021-11-14T19:14:04.148Z"
   },
   {
    "duration": 844,
    "start_time": "2021-11-14T19:14:26.868Z"
   },
   {
    "duration": 850,
    "start_time": "2021-11-14T19:14:36.300Z"
   },
   {
    "duration": 12,
    "start_time": "2021-11-14T19:15:39.740Z"
   },
   {
    "duration": 16,
    "start_time": "2021-11-14T19:16:10.092Z"
   },
   {
    "duration": 6,
    "start_time": "2021-11-14T19:16:23.125Z"
   },
   {
    "duration": 14,
    "start_time": "2021-11-14T19:17:28.218Z"
   },
   {
    "duration": 4,
    "start_time": "2021-11-14T19:17:51.180Z"
   },
   {
    "duration": 51,
    "start_time": "2021-11-14T19:17:51.186Z"
   },
   {
    "duration": 167,
    "start_time": "2021-11-14T19:17:51.239Z"
   },
   {
    "duration": 97,
    "start_time": "2021-11-14T19:17:51.408Z"
   },
   {
    "duration": 135,
    "start_time": "2021-11-14T19:17:51.506Z"
   },
   {
    "duration": 22,
    "start_time": "2021-11-14T19:17:51.643Z"
   },
   {
    "duration": 10,
    "start_time": "2021-11-14T19:17:51.667Z"
   },
   {
    "duration": 15,
    "start_time": "2021-11-14T19:17:51.678Z"
   },
   {
    "duration": 33,
    "start_time": "2021-11-14T19:17:51.696Z"
   },
   {
    "duration": 13,
    "start_time": "2021-11-14T19:17:51.731Z"
   },
   {
    "duration": 17,
    "start_time": "2021-11-14T19:17:51.746Z"
   },
   {
    "duration": 5,
    "start_time": "2021-11-14T19:17:51.764Z"
   },
   {
    "duration": 13,
    "start_time": "2021-11-14T19:17:51.770Z"
   },
   {
    "duration": 92,
    "start_time": "2021-11-14T19:17:51.784Z"
   },
   {
    "duration": 45,
    "start_time": "2021-11-14T19:17:51.878Z"
   },
   {
    "duration": 48,
    "start_time": "2021-11-14T19:17:51.925Z"
   },
   {
    "duration": 6,
    "start_time": "2021-11-14T19:17:51.975Z"
   },
   {
    "duration": 24,
    "start_time": "2021-11-14T19:17:51.983Z"
   },
   {
    "duration": 6,
    "start_time": "2021-11-14T19:17:52.009Z"
   },
   {
    "duration": 9,
    "start_time": "2021-11-14T19:17:52.017Z"
   },
   {
    "duration": 4,
    "start_time": "2021-11-14T19:17:52.027Z"
   },
   {
    "duration": 13,
    "start_time": "2021-11-14T19:17:52.033Z"
   },
   {
    "duration": 61,
    "start_time": "2021-11-14T19:17:52.047Z"
   },
   {
    "duration": 35,
    "start_time": "2021-11-14T19:17:52.109Z"
   },
   {
    "duration": 33,
    "start_time": "2021-11-14T19:17:52.145Z"
   },
   {
    "duration": 5,
    "start_time": "2021-11-14T19:17:52.180Z"
   },
   {
    "duration": 27,
    "start_time": "2021-11-14T19:17:52.208Z"
   },
   {
    "duration": 24,
    "start_time": "2021-11-14T19:17:52.237Z"
   },
   {
    "duration": 6,
    "start_time": "2021-11-14T19:17:52.263Z"
   },
   {
    "duration": 54,
    "start_time": "2021-11-14T19:17:52.270Z"
   },
   {
    "duration": 33,
    "start_time": "2021-11-14T19:17:52.326Z"
   },
   {
    "duration": 31,
    "start_time": "2021-11-14T19:17:52.360Z"
   },
   {
    "duration": 12,
    "start_time": "2021-11-14T19:17:52.406Z"
   },
   {
    "duration": 23,
    "start_time": "2021-11-14T19:17:52.419Z"
   },
   {
    "duration": 16,
    "start_time": "2021-11-14T19:17:52.444Z"
   },
   {
    "duration": 13,
    "start_time": "2021-11-14T19:17:54.445Z"
   },
   {
    "duration": 402,
    "start_time": "2021-11-14T19:20:21.830Z"
   },
   {
    "duration": 14,
    "start_time": "2021-11-14T19:31:08.078Z"
   },
   {
    "duration": 9,
    "start_time": "2021-11-14T19:31:54.446Z"
   },
   {
    "duration": 826,
    "start_time": "2021-11-14T19:32:11.833Z"
   },
   {
    "duration": 6,
    "start_time": "2021-11-14T19:34:09.508Z"
   },
   {
    "duration": 355,
    "start_time": "2021-11-14T19:34:49.494Z"
   },
   {
    "duration": 374,
    "start_time": "2021-11-14T19:35:17.639Z"
   },
   {
    "duration": 367,
    "start_time": "2021-11-14T19:35:29.663Z"
   },
   {
    "duration": 340,
    "start_time": "2021-11-14T19:36:42.503Z"
   },
   {
    "duration": 7,
    "start_time": "2021-11-14T19:37:48.796Z"
   },
   {
    "duration": 6,
    "start_time": "2021-11-14T19:37:55.790Z"
   },
   {
    "duration": 6,
    "start_time": "2021-11-14T19:37:59.120Z"
   },
   {
    "duration": 14,
    "start_time": "2021-11-14T19:38:19.579Z"
   },
   {
    "duration": 379,
    "start_time": "2021-11-14T19:38:24.513Z"
   },
   {
    "duration": 370,
    "start_time": "2021-11-14T19:38:45.072Z"
   },
   {
    "duration": 363,
    "start_time": "2021-11-14T19:39:13.646Z"
   },
   {
    "duration": 15,
    "start_time": "2021-11-14T19:39:33.642Z"
   },
   {
    "duration": 16,
    "start_time": "2021-11-14T19:39:44.160Z"
   },
   {
    "duration": 15,
    "start_time": "2021-11-14T19:43:44.760Z"
   },
   {
    "duration": 13,
    "start_time": "2021-11-14T19:44:15.807Z"
   },
   {
    "duration": 17,
    "start_time": "2021-11-14T19:44:27.551Z"
   },
   {
    "duration": 8,
    "start_time": "2021-11-14T19:45:19.860Z"
   },
   {
    "duration": 372,
    "start_time": "2021-11-14T19:47:18.914Z"
   },
   {
    "duration": 20,
    "start_time": "2021-11-14T19:47:28.963Z"
   },
   {
    "duration": 20,
    "start_time": "2021-11-14T19:47:49.004Z"
   },
   {
    "duration": 16,
    "start_time": "2021-11-14T19:48:00.801Z"
   },
   {
    "duration": 21,
    "start_time": "2021-11-14T19:48:11.134Z"
   },
   {
    "duration": 13,
    "start_time": "2021-11-14T19:48:32.839Z"
   },
   {
    "duration": 26,
    "start_time": "2021-11-14T19:48:58.557Z"
   },
   {
    "duration": 21,
    "start_time": "2021-11-14T19:49:45.546Z"
   },
   {
    "duration": 11,
    "start_time": "2021-11-14T19:50:38.353Z"
   },
   {
    "duration": 13,
    "start_time": "2021-11-14T19:51:39.097Z"
   },
   {
    "duration": 16,
    "start_time": "2021-11-14T19:52:01.049Z"
   },
   {
    "duration": 17,
    "start_time": "2021-11-14T19:54:00.435Z"
   },
   {
    "duration": 18,
    "start_time": "2021-11-14T19:54:02.576Z"
   },
   {
    "duration": 1477,
    "start_time": "2021-11-14T19:54:49.224Z"
   },
   {
    "duration": 9,
    "start_time": "2021-11-14T19:55:49.709Z"
   },
   {
    "duration": 12,
    "start_time": "2021-11-14T19:56:01.679Z"
   },
   {
    "duration": 1430,
    "start_time": "2021-11-14T19:56:22.342Z"
   },
   {
    "duration": 15,
    "start_time": "2021-11-14T19:57:19.476Z"
   },
   {
    "duration": 16,
    "start_time": "2021-11-14T19:57:20.293Z"
   },
   {
    "duration": 16,
    "start_time": "2021-11-14T19:57:21.697Z"
   },
   {
    "duration": 9976,
    "start_time": "2021-11-14T19:57:58.132Z"
   },
   {
    "duration": 3,
    "start_time": "2021-11-14T19:58:30.061Z"
   },
   {
    "duration": 73,
    "start_time": "2021-11-14T19:58:30.066Z"
   },
   {
    "duration": 157,
    "start_time": "2021-11-14T19:58:30.141Z"
   },
   {
    "duration": 102,
    "start_time": "2021-11-14T19:58:30.300Z"
   },
   {
    "duration": 139,
    "start_time": "2021-11-14T19:58:30.404Z"
   },
   {
    "duration": 24,
    "start_time": "2021-11-14T19:58:30.544Z"
   },
   {
    "duration": 19,
    "start_time": "2021-11-14T19:58:30.570Z"
   },
   {
    "duration": 25,
    "start_time": "2021-11-14T19:58:30.591Z"
   },
   {
    "duration": 32,
    "start_time": "2021-11-14T19:58:30.618Z"
   },
   {
    "duration": 17,
    "start_time": "2021-11-14T19:58:30.652Z"
   },
   {
    "duration": 39,
    "start_time": "2021-11-14T19:58:30.671Z"
   },
   {
    "duration": 17,
    "start_time": "2021-11-14T19:58:30.712Z"
   },
   {
    "duration": 21,
    "start_time": "2021-11-14T19:58:30.730Z"
   },
   {
    "duration": 89,
    "start_time": "2021-11-14T19:58:30.753Z"
   },
   {
    "duration": 37,
    "start_time": "2021-11-14T19:58:30.844Z"
   },
   {
    "duration": 60,
    "start_time": "2021-11-14T19:58:30.883Z"
   },
   {
    "duration": 5,
    "start_time": "2021-11-14T19:58:30.946Z"
   },
   {
    "duration": 26,
    "start_time": "2021-11-14T19:58:30.953Z"
   },
   {
    "duration": 17,
    "start_time": "2021-11-14T19:58:30.980Z"
   },
   {
    "duration": 13,
    "start_time": "2021-11-14T19:58:30.998Z"
   },
   {
    "duration": 16,
    "start_time": "2021-11-14T19:58:31.013Z"
   },
   {
    "duration": 23,
    "start_time": "2021-11-14T19:58:31.031Z"
   },
   {
    "duration": 64,
    "start_time": "2021-11-14T19:58:31.058Z"
   },
   {
    "duration": 42,
    "start_time": "2021-11-14T19:58:31.125Z"
   },
   {
    "duration": 39,
    "start_time": "2021-11-14T19:58:31.169Z"
   },
   {
    "duration": 24,
    "start_time": "2021-11-14T19:58:31.210Z"
   },
   {
    "duration": 46,
    "start_time": "2021-11-14T19:58:31.236Z"
   },
   {
    "duration": 24,
    "start_time": "2021-11-14T19:58:31.284Z"
   },
   {
    "duration": 7,
    "start_time": "2021-11-14T19:58:31.309Z"
   },
   {
    "duration": 43,
    "start_time": "2021-11-14T19:58:31.317Z"
   },
   {
    "duration": 29,
    "start_time": "2021-11-14T19:58:31.361Z"
   },
   {
    "duration": 38,
    "start_time": "2021-11-14T19:58:31.391Z"
   },
   {
    "duration": 11,
    "start_time": "2021-11-14T19:58:31.430Z"
   },
   {
    "duration": 19,
    "start_time": "2021-11-14T19:58:31.443Z"
   },
   {
    "duration": 26,
    "start_time": "2021-11-14T19:58:31.464Z"
   },
   {
    "duration": 516,
    "start_time": "2021-11-14T19:58:31.491Z"
   },
   {
    "duration": 13,
    "start_time": "2021-11-14T19:58:32.009Z"
   },
   {
    "duration": 26,
    "start_time": "2021-11-14T19:58:32.023Z"
   },
   {
    "duration": 27,
    "start_time": "2021-11-14T19:58:32.051Z"
   },
   {
    "duration": 23,
    "start_time": "2021-11-14T19:58:32.080Z"
   },
   {
    "duration": 22,
    "start_time": "2021-11-14T19:58:34.208Z"
   },
   {
    "duration": 16,
    "start_time": "2021-11-14T19:58:50.089Z"
   },
   {
    "duration": 16,
    "start_time": "2021-11-14T19:59:29.542Z"
   },
   {
    "duration": 17,
    "start_time": "2021-11-14T20:00:14.523Z"
   },
   {
    "duration": 13,
    "start_time": "2021-11-14T20:01:34.899Z"
   },
   {
    "duration": 18,
    "start_time": "2021-11-14T20:04:29.631Z"
   },
   {
    "duration": 373,
    "start_time": "2021-11-14T20:06:05.423Z"
   },
   {
    "duration": 16,
    "start_time": "2021-11-14T20:06:14.950Z"
   },
   {
    "duration": 15,
    "start_time": "2021-11-14T20:06:15.755Z"
   },
   {
    "duration": 8,
    "start_time": "2021-11-14T20:06:16.893Z"
   },
   {
    "duration": 8,
    "start_time": "2021-11-14T20:06:58.264Z"
   },
   {
    "duration": 11,
    "start_time": "2021-11-14T20:07:02.818Z"
   },
   {
    "duration": 9,
    "start_time": "2021-11-14T20:07:17.252Z"
   },
   {
    "duration": 9,
    "start_time": "2021-11-14T20:07:25.518Z"
   },
   {
    "duration": 16,
    "start_time": "2021-11-14T20:08:04.585Z"
   },
   {
    "duration": 16,
    "start_time": "2021-11-14T20:08:10.811Z"
   },
   {
    "duration": 3,
    "start_time": "2021-11-14T20:09:40.618Z"
   },
   {
    "duration": 88,
    "start_time": "2021-11-14T20:09:40.623Z"
   },
   {
    "duration": 161,
    "start_time": "2021-11-14T20:09:40.713Z"
   },
   {
    "duration": 98,
    "start_time": "2021-11-14T20:09:40.876Z"
   },
   {
    "duration": 148,
    "start_time": "2021-11-14T20:09:40.976Z"
   },
   {
    "duration": 24,
    "start_time": "2021-11-14T20:09:41.126Z"
   },
   {
    "duration": 5,
    "start_time": "2021-11-14T20:09:41.152Z"
   },
   {
    "duration": 13,
    "start_time": "2021-11-14T20:09:41.159Z"
   },
   {
    "duration": 34,
    "start_time": "2021-11-14T20:09:41.174Z"
   },
   {
    "duration": 21,
    "start_time": "2021-11-14T20:09:41.210Z"
   },
   {
    "duration": 28,
    "start_time": "2021-11-14T20:09:41.233Z"
   },
   {
    "duration": 6,
    "start_time": "2021-11-14T20:09:41.263Z"
   },
   {
    "duration": 11,
    "start_time": "2021-11-14T20:09:41.271Z"
   },
   {
    "duration": 106,
    "start_time": "2021-11-14T20:09:41.284Z"
   },
   {
    "duration": 51,
    "start_time": "2021-11-14T20:09:41.393Z"
   },
   {
    "duration": 67,
    "start_time": "2021-11-14T20:09:41.446Z"
   },
   {
    "duration": 5,
    "start_time": "2021-11-14T20:09:41.515Z"
   },
   {
    "duration": 24,
    "start_time": "2021-11-14T20:09:41.522Z"
   },
   {
    "duration": 11,
    "start_time": "2021-11-14T20:09:41.548Z"
   },
   {
    "duration": 9,
    "start_time": "2021-11-14T20:09:41.561Z"
   },
   {
    "duration": 8,
    "start_time": "2021-11-14T20:09:41.571Z"
   },
   {
    "duration": 12,
    "start_time": "2021-11-14T20:09:41.581Z"
   },
   {
    "duration": 43,
    "start_time": "2021-11-14T20:09:41.599Z"
   },
   {
    "duration": 37,
    "start_time": "2021-11-14T20:09:41.644Z"
   },
   {
    "duration": 45,
    "start_time": "2021-11-14T20:09:41.682Z"
   },
   {
    "duration": 8,
    "start_time": "2021-11-14T20:09:41.729Z"
   },
   {
    "duration": 47,
    "start_time": "2021-11-14T20:09:41.739Z"
   },
   {
    "duration": 50,
    "start_time": "2021-11-14T20:09:41.788Z"
   },
   {
    "duration": 10,
    "start_time": "2021-11-14T20:09:41.840Z"
   },
   {
    "duration": 56,
    "start_time": "2021-11-14T20:09:41.852Z"
   },
   {
    "duration": 49,
    "start_time": "2021-11-14T20:09:41.910Z"
   },
   {
    "duration": 62,
    "start_time": "2021-11-14T20:09:41.962Z"
   },
   {
    "duration": 12,
    "start_time": "2021-11-14T20:09:42.026Z"
   },
   {
    "duration": 11,
    "start_time": "2021-11-14T20:09:42.040Z"
   },
   {
    "duration": 26,
    "start_time": "2021-11-14T20:09:42.053Z"
   },
   {
    "duration": 578,
    "start_time": "2021-11-14T20:09:42.081Z"
   },
   {
    "duration": 11,
    "start_time": "2021-11-14T20:09:42.661Z"
   },
   {
    "duration": 22,
    "start_time": "2021-11-14T20:09:42.674Z"
   },
   {
    "duration": 28,
    "start_time": "2021-11-14T20:09:42.706Z"
   },
   {
    "duration": 29,
    "start_time": "2021-11-14T20:09:42.736Z"
   },
   {
    "duration": 30,
    "start_time": "2021-11-14T20:09:42.767Z"
   },
   {
    "duration": 30,
    "start_time": "2021-11-14T20:09:42.799Z"
   },
   {
    "duration": 14,
    "start_time": "2021-11-14T20:09:42.831Z"
   },
   {
    "duration": 37,
    "start_time": "2021-11-14T20:09:42.847Z"
   },
   {
    "duration": 56,
    "start_time": "2021-11-14T20:09:42.886Z"
   },
   {
    "duration": 9,
    "start_time": "2021-11-14T20:09:42.944Z"
   },
   {
    "duration": 14,
    "start_time": "2021-11-14T20:09:42.955Z"
   },
   {
    "duration": 10,
    "start_time": "2021-11-14T20:09:46.555Z"
   },
   {
    "duration": 10,
    "start_time": "2021-11-14T20:09:56.354Z"
   },
   {
    "duration": 11,
    "start_time": "2021-11-14T20:10:04.367Z"
   },
   {
    "duration": 1489,
    "start_time": "2021-11-15T05:55:11.203Z"
   },
   {
    "duration": 66,
    "start_time": "2021-11-15T05:55:12.695Z"
   },
   {
    "duration": 293,
    "start_time": "2021-11-15T05:55:12.765Z"
   },
   {
    "duration": 140,
    "start_time": "2021-11-15T05:55:13.061Z"
   },
   {
    "duration": 207,
    "start_time": "2021-11-15T05:55:13.203Z"
   },
   {
    "duration": 31,
    "start_time": "2021-11-15T05:55:13.413Z"
   },
   {
    "duration": 8,
    "start_time": "2021-11-15T05:55:13.447Z"
   },
   {
    "duration": 18,
    "start_time": "2021-11-15T05:55:13.458Z"
   },
   {
    "duration": 58,
    "start_time": "2021-11-15T05:55:13.480Z"
   },
   {
    "duration": 18,
    "start_time": "2021-11-15T05:55:13.541Z"
   },
   {
    "duration": 22,
    "start_time": "2021-11-15T05:55:13.561Z"
   },
   {
    "duration": 42,
    "start_time": "2021-11-15T05:55:13.586Z"
   },
   {
    "duration": 13,
    "start_time": "2021-11-15T05:55:13.631Z"
   },
   {
    "duration": 169,
    "start_time": "2021-11-15T05:55:13.647Z"
   },
   {
    "duration": 61,
    "start_time": "2021-11-15T05:55:13.818Z"
   },
   {
    "duration": 129,
    "start_time": "2021-11-15T05:55:13.882Z"
   },
   {
    "duration": 14,
    "start_time": "2021-11-15T05:55:14.014Z"
   },
   {
    "duration": 9,
    "start_time": "2021-11-15T05:55:14.031Z"
   },
   {
    "duration": 12,
    "start_time": "2021-11-15T05:55:14.043Z"
   },
   {
    "duration": 8,
    "start_time": "2021-11-15T05:55:14.057Z"
   },
   {
    "duration": 4,
    "start_time": "2021-11-15T05:55:14.067Z"
   },
   {
    "duration": 61,
    "start_time": "2021-11-15T05:55:14.074Z"
   },
   {
    "duration": 86,
    "start_time": "2021-11-15T05:55:14.138Z"
   },
   {
    "duration": 61,
    "start_time": "2021-11-15T05:55:14.227Z"
   },
   {
    "duration": 77,
    "start_time": "2021-11-15T05:55:14.291Z"
   },
   {
    "duration": 11,
    "start_time": "2021-11-15T05:55:14.371Z"
   },
   {
    "duration": 69,
    "start_time": "2021-11-15T05:55:14.390Z"
   },
   {
    "duration": 64,
    "start_time": "2021-11-15T05:55:14.462Z"
   },
   {
    "duration": 12,
    "start_time": "2021-11-15T05:55:14.529Z"
   },
   {
    "duration": 78,
    "start_time": "2021-11-15T05:55:14.544Z"
   },
   {
    "duration": 55,
    "start_time": "2021-11-15T05:55:14.625Z"
   },
   {
    "duration": 88,
    "start_time": "2021-11-15T05:55:14.683Z"
   },
   {
    "duration": 18,
    "start_time": "2021-11-15T05:55:14.773Z"
   },
   {
    "duration": 30,
    "start_time": "2021-11-15T05:55:14.793Z"
   },
   {
    "duration": 24,
    "start_time": "2021-11-15T05:55:14.826Z"
   },
   {
    "duration": 974,
    "start_time": "2021-11-15T05:55:14.852Z"
   },
   {
    "duration": 23,
    "start_time": "2021-11-15T05:55:15.829Z"
   },
   {
    "duration": 30,
    "start_time": "2021-11-15T05:55:15.855Z"
   },
   {
    "duration": 57,
    "start_time": "2021-11-15T05:55:15.888Z"
   },
   {
    "duration": 24,
    "start_time": "2021-11-15T05:55:15.947Z"
   },
   {
    "duration": 61,
    "start_time": "2021-11-15T05:55:15.974Z"
   },
   {
    "duration": 27,
    "start_time": "2021-11-15T05:55:16.038Z"
   },
   {
    "duration": 27,
    "start_time": "2021-11-15T05:55:16.067Z"
   },
   {
    "duration": 47,
    "start_time": "2021-11-15T05:55:16.096Z"
   },
   {
    "duration": 26,
    "start_time": "2021-11-15T05:55:16.146Z"
   },
   {
    "duration": 14,
    "start_time": "2021-11-15T05:55:16.175Z"
   },
   {
    "duration": 15,
    "start_time": "2021-11-15T05:55:16.223Z"
   },
   {
    "duration": 23,
    "start_time": "2021-11-15T05:55:16.242Z"
   },
   {
    "duration": 104,
    "start_time": "2021-11-15T05:55:16.268Z"
   },
   {
    "duration": -38,
    "start_time": "2021-11-15T05:55:16.413Z"
   },
   {
    "duration": 105,
    "start_time": "2021-11-15T06:59:10.414Z"
   },
   {
    "duration": 15,
    "start_time": "2021-11-15T07:07:27.971Z"
   },
   {
    "duration": 5,
    "start_time": "2021-11-15T07:08:02.173Z"
   },
   {
    "duration": 60,
    "start_time": "2021-11-15T07:08:02.185Z"
   },
   {
    "duration": 250,
    "start_time": "2021-11-15T07:08:02.248Z"
   },
   {
    "duration": 139,
    "start_time": "2021-11-15T07:08:02.501Z"
   },
   {
    "duration": 283,
    "start_time": "2021-11-15T07:08:02.643Z"
   },
   {
    "duration": 41,
    "start_time": "2021-11-15T07:08:02.929Z"
   },
   {
    "duration": 12,
    "start_time": "2021-11-15T07:08:02.974Z"
   },
   {
    "duration": 40,
    "start_time": "2021-11-15T07:08:02.989Z"
   },
   {
    "duration": 40,
    "start_time": "2021-11-15T07:08:03.031Z"
   },
   {
    "duration": 18,
    "start_time": "2021-11-15T07:08:03.075Z"
   },
   {
    "duration": 41,
    "start_time": "2021-11-15T07:08:03.096Z"
   },
   {
    "duration": 7,
    "start_time": "2021-11-15T07:08:03.139Z"
   },
   {
    "duration": 17,
    "start_time": "2021-11-15T07:08:03.148Z"
   },
   {
    "duration": 165,
    "start_time": "2021-11-15T07:08:03.168Z"
   },
   {
    "duration": 62,
    "start_time": "2021-11-15T07:08:03.335Z"
   },
   {
    "duration": 115,
    "start_time": "2021-11-15T07:08:03.399Z"
   },
   {
    "duration": 8,
    "start_time": "2021-11-15T07:08:03.522Z"
   },
   {
    "duration": 16,
    "start_time": "2021-11-15T07:08:03.532Z"
   },
   {
    "duration": 13,
    "start_time": "2021-11-15T07:08:03.551Z"
   },
   {
    "duration": 9,
    "start_time": "2021-11-15T07:08:03.567Z"
   },
   {
    "duration": 12,
    "start_time": "2021-11-15T07:08:03.578Z"
   },
   {
    "duration": 30,
    "start_time": "2021-11-15T07:08:03.593Z"
   },
   {
    "duration": 70,
    "start_time": "2021-11-15T07:08:03.626Z"
   },
   {
    "duration": 70,
    "start_time": "2021-11-15T07:08:03.699Z"
   },
   {
    "duration": 65,
    "start_time": "2021-11-15T07:08:03.771Z"
   },
   {
    "duration": 9,
    "start_time": "2021-11-15T07:08:03.839Z"
   },
   {
    "duration": 55,
    "start_time": "2021-11-15T07:08:03.850Z"
   },
   {
    "duration": 43,
    "start_time": "2021-11-15T07:08:03.923Z"
   },
   {
    "duration": 11,
    "start_time": "2021-11-15T07:08:03.969Z"
   },
   {
    "duration": 76,
    "start_time": "2021-11-15T07:08:03.983Z"
   },
   {
    "duration": 65,
    "start_time": "2021-11-15T07:08:04.061Z"
   },
   {
    "duration": 54,
    "start_time": "2021-11-15T07:08:04.128Z"
   },
   {
    "duration": 14,
    "start_time": "2021-11-15T07:08:04.185Z"
   },
   {
    "duration": 43,
    "start_time": "2021-11-15T07:08:04.201Z"
   },
   {
    "duration": 1021,
    "start_time": "2021-11-15T07:08:04.247Z"
   },
   {
    "duration": 22,
    "start_time": "2021-11-15T07:08:05.270Z"
   },
   {
    "duration": 19,
    "start_time": "2021-11-15T07:08:26.799Z"
   },
   {
    "duration": 19,
    "start_time": "2021-11-15T07:09:00.080Z"
   },
   {
    "duration": 19,
    "start_time": "2021-11-15T07:09:41.727Z"
   },
   {
    "duration": 4,
    "start_time": "2021-11-15T07:10:52.273Z"
   },
   {
    "duration": 51,
    "start_time": "2021-11-15T07:10:52.280Z"
   },
   {
    "duration": 243,
    "start_time": "2021-11-15T07:10:52.334Z"
   },
   {
    "duration": 149,
    "start_time": "2021-11-15T07:10:52.581Z"
   },
   {
    "duration": 204,
    "start_time": "2021-11-15T07:10:52.733Z"
   },
   {
    "duration": 33,
    "start_time": "2021-11-15T07:10:52.940Z"
   },
   {
    "duration": 8,
    "start_time": "2021-11-15T07:10:52.975Z"
   },
   {
    "duration": 39,
    "start_time": "2021-11-15T07:10:52.985Z"
   },
   {
    "duration": 26,
    "start_time": "2021-11-15T07:10:53.028Z"
   },
   {
    "duration": 17,
    "start_time": "2021-11-15T07:10:53.058Z"
   },
   {
    "duration": 50,
    "start_time": "2021-11-15T07:10:53.078Z"
   },
   {
    "duration": 7,
    "start_time": "2021-11-15T07:10:53.131Z"
   },
   {
    "duration": 18,
    "start_time": "2021-11-15T07:10:53.141Z"
   },
   {
    "duration": 145,
    "start_time": "2021-11-15T07:10:53.162Z"
   },
   {
    "duration": 65,
    "start_time": "2021-11-15T07:10:53.309Z"
   },
   {
    "duration": 107,
    "start_time": "2021-11-15T07:10:53.376Z"
   },
   {
    "duration": 7,
    "start_time": "2021-11-15T07:10:53.486Z"
   },
   {
    "duration": 9,
    "start_time": "2021-11-15T07:10:53.495Z"
   },
   {
    "duration": 9,
    "start_time": "2021-11-15T07:10:53.523Z"
   },
   {
    "duration": 11,
    "start_time": "2021-11-15T07:10:53.534Z"
   },
   {
    "duration": 4,
    "start_time": "2021-11-15T07:10:53.547Z"
   },
   {
    "duration": 20,
    "start_time": "2021-11-15T07:10:53.554Z"
   },
   {
    "duration": 89,
    "start_time": "2021-11-15T07:10:53.577Z"
   },
   {
    "duration": 59,
    "start_time": "2021-11-15T07:10:53.668Z"
   },
   {
    "duration": 47,
    "start_time": "2021-11-15T07:10:53.729Z"
   },
   {
    "duration": 9,
    "start_time": "2021-11-15T07:10:53.778Z"
   },
   {
    "duration": 42,
    "start_time": "2021-11-15T07:10:53.821Z"
   },
   {
    "duration": 58,
    "start_time": "2021-11-15T07:10:53.866Z"
   },
   {
    "duration": 12,
    "start_time": "2021-11-15T07:10:53.927Z"
   },
   {
    "duration": 82,
    "start_time": "2021-11-15T07:10:53.942Z"
   },
   {
    "duration": 53,
    "start_time": "2021-11-15T07:10:54.027Z"
   },
   {
    "duration": 76,
    "start_time": "2021-11-15T07:10:54.082Z"
   },
   {
    "duration": 16,
    "start_time": "2021-11-15T07:10:54.161Z"
   },
   {
    "duration": 53,
    "start_time": "2021-11-15T07:10:54.180Z"
   },
   {
    "duration": 926,
    "start_time": "2021-11-15T07:10:54.236Z"
   },
   {
    "duration": 23,
    "start_time": "2021-11-15T07:10:55.164Z"
   },
   {
    "duration": 56,
    "start_time": "2021-11-15T07:10:55.190Z"
   },
   {
    "duration": 29,
    "start_time": "2021-11-15T07:10:55.249Z"
   },
   {
    "duration": 45,
    "start_time": "2021-11-15T07:10:55.280Z"
   },
   {
    "duration": 22,
    "start_time": "2021-11-15T07:10:55.327Z"
   },
   {
    "duration": 27,
    "start_time": "2021-11-15T07:10:55.351Z"
   },
   {
    "duration": 28,
    "start_time": "2021-11-15T07:11:01.755Z"
   },
   {
    "duration": 27,
    "start_time": "2021-11-15T07:11:04.435Z"
   },
   {
    "duration": 18,
    "start_time": "2021-11-15T07:11:06.303Z"
   },
   {
    "duration": 23,
    "start_time": "2021-11-15T07:11:17.765Z"
   },
   {
    "duration": 13,
    "start_time": "2021-11-15T07:12:04.060Z"
   },
   {
    "duration": 17,
    "start_time": "2021-11-15T07:12:08.332Z"
   },
   {
    "duration": 13,
    "start_time": "2021-11-15T07:12:46.451Z"
   },
   {
    "duration": 19,
    "start_time": "2021-11-15T07:16:09.801Z"
   },
   {
    "duration": 8,
    "start_time": "2021-11-15T07:16:36.932Z"
   },
   {
    "duration": 435,
    "start_time": "2021-11-15T07:16:52.056Z"
   },
   {
    "duration": 7,
    "start_time": "2021-11-15T07:16:57.323Z"
   },
   {
    "duration": 312,
    "start_time": "2021-11-15T07:17:05.281Z"
   },
   {
    "duration": 6,
    "start_time": "2021-11-15T07:17:17.513Z"
   },
   {
    "duration": 7,
    "start_time": "2021-11-15T07:17:23.957Z"
   },
   {
    "duration": 7,
    "start_time": "2021-11-15T07:17:44.807Z"
   },
   {
    "duration": 7,
    "start_time": "2021-11-15T07:18:07.012Z"
   },
   {
    "duration": 6,
    "start_time": "2021-11-15T07:18:08.789Z"
   },
   {
    "duration": 8,
    "start_time": "2021-11-15T07:19:57.176Z"
   },
   {
    "duration": 51,
    "start_time": "2021-11-15T07:23:16.195Z"
   },
   {
    "duration": 53,
    "start_time": "2021-11-15T07:23:40.412Z"
   },
   {
    "duration": 7,
    "start_time": "2021-11-15T07:23:52.158Z"
   },
   {
    "duration": 7,
    "start_time": "2021-11-15T07:23:55.004Z"
   },
   {
    "duration": 65,
    "start_time": "2021-11-15T07:24:52.424Z"
   },
   {
    "duration": 54,
    "start_time": "2021-11-15T07:25:05.998Z"
   },
   {
    "duration": 320,
    "start_time": "2021-11-15T07:25:34.445Z"
   },
   {
    "duration": 59,
    "start_time": "2021-11-15T07:25:44.876Z"
   },
   {
    "duration": 52,
    "start_time": "2021-11-15T07:25:55.547Z"
   },
   {
    "duration": 16,
    "start_time": "2021-11-15T07:33:51.841Z"
   },
   {
    "duration": 308,
    "start_time": "2021-11-15T07:35:23.755Z"
   },
   {
    "duration": 109,
    "start_time": "2021-11-15T07:42:42.115Z"
   },
   {
    "duration": 93,
    "start_time": "2021-11-15T07:43:12.655Z"
   },
   {
    "duration": 6,
    "start_time": "2021-11-15T07:43:16.691Z"
   },
   {
    "duration": 249,
    "start_time": "2021-11-15T07:43:31.964Z"
   },
   {
    "duration": 466,
    "start_time": "2021-11-15T07:44:33.837Z"
   },
   {
    "duration": 237,
    "start_time": "2021-11-15T07:45:09.250Z"
   },
   {
    "duration": 276,
    "start_time": "2021-11-15T07:46:20.801Z"
   },
   {
    "duration": 68,
    "start_time": "2021-11-15T07:46:53.700Z"
   },
   {
    "duration": 111,
    "start_time": "2021-11-15T07:46:55.702Z"
   },
   {
    "duration": 9,
    "start_time": "2021-11-15T07:47:49.473Z"
   },
   {
    "duration": 6,
    "start_time": "2021-11-15T07:47:57.117Z"
   },
   {
    "duration": 10,
    "start_time": "2021-11-15T07:48:08.970Z"
   },
   {
    "duration": 5,
    "start_time": "2021-11-15T07:48:16.372Z"
   },
   {
    "duration": 17,
    "start_time": "2021-11-15T07:48:25.146Z"
   },
   {
    "duration": 38,
    "start_time": "2021-11-15T07:48:33.380Z"
   },
   {
    "duration": 48,
    "start_time": "2021-11-15T07:48:36.988Z"
   },
   {
    "duration": 47,
    "start_time": "2021-11-15T07:48:46.759Z"
   },
   {
    "duration": 20,
    "start_time": "2021-11-15T07:48:57.879Z"
   },
   {
    "duration": 26,
    "start_time": "2021-11-15T07:49:06.405Z"
   },
   {
    "duration": 41,
    "start_time": "2021-11-15T07:49:08.359Z"
   },
   {
    "duration": 19,
    "start_time": "2021-11-15T07:49:12.097Z"
   },
   {
    "duration": 31,
    "start_time": "2021-11-15T07:49:20.391Z"
   },
   {
    "duration": 44,
    "start_time": "2021-11-15T07:49:20.963Z"
   },
   {
    "duration": 49,
    "start_time": "2021-11-15T07:49:23.889Z"
   },
   {
    "duration": 23,
    "start_time": "2021-11-15T07:49:55.346Z"
   },
   {
    "duration": 1364,
    "start_time": "2021-11-15T07:49:58.386Z"
   },
   {
    "duration": 21,
    "start_time": "2021-11-15T07:50:04.142Z"
   },
   {
    "duration": 30,
    "start_time": "2021-11-15T07:50:07.774Z"
   },
   {
    "duration": 27,
    "start_time": "2021-11-15T07:50:16.307Z"
   },
   {
    "duration": 18,
    "start_time": "2021-11-15T07:50:22.190Z"
   },
   {
    "duration": 22,
    "start_time": "2021-11-15T07:50:26.676Z"
   },
   {
    "duration": 26,
    "start_time": "2021-11-15T07:50:29.139Z"
   },
   {
    "duration": 21,
    "start_time": "2021-11-15T07:50:37.569Z"
   },
   {
    "duration": 26,
    "start_time": "2021-11-15T07:50:40.143Z"
   },
   {
    "duration": 18,
    "start_time": "2021-11-15T07:50:42.170Z"
   },
   {
    "duration": 7640,
    "start_time": "2021-11-15T07:51:11.956Z"
   },
   {
    "duration": 56,
    "start_time": "2021-11-15T07:51:19.543Z"
   },
   {
    "duration": 5,
    "start_time": "2021-11-15T07:51:31.230Z"
   },
   {
    "duration": 63,
    "start_time": "2021-11-15T07:51:31.238Z"
   },
   {
    "duration": 239,
    "start_time": "2021-11-15T07:51:31.304Z"
   },
   {
    "duration": 152,
    "start_time": "2021-11-15T07:51:31.546Z"
   },
   {
    "duration": 232,
    "start_time": "2021-11-15T07:51:31.702Z"
   },
   {
    "duration": 32,
    "start_time": "2021-11-15T07:51:31.936Z"
   },
   {
    "duration": 13,
    "start_time": "2021-11-15T07:51:31.970Z"
   },
   {
    "duration": 28,
    "start_time": "2021-11-15T07:51:31.985Z"
   },
   {
    "duration": 31,
    "start_time": "2021-11-15T07:51:32.021Z"
   },
   {
    "duration": 18,
    "start_time": "2021-11-15T07:51:32.055Z"
   },
   {
    "duration": 32,
    "start_time": "2021-11-15T07:51:32.075Z"
   },
   {
    "duration": 8,
    "start_time": "2021-11-15T07:51:32.123Z"
   },
   {
    "duration": 29,
    "start_time": "2021-11-15T07:51:32.133Z"
   },
   {
    "duration": 15,
    "start_time": "2021-11-15T07:51:32.164Z"
   },
   {
    "duration": 21,
    "start_time": "2021-11-15T07:51:32.182Z"
   },
   {
    "duration": 9,
    "start_time": "2021-11-15T07:51:32.206Z"
   },
   {
    "duration": 166,
    "start_time": "2021-11-15T07:51:32.218Z"
   },
   {
    "duration": 100,
    "start_time": "2021-11-15T07:51:32.387Z"
   },
   {
    "duration": 113,
    "start_time": "2021-11-15T07:51:32.489Z"
   },
   {
    "duration": 22,
    "start_time": "2021-11-15T07:51:32.604Z"
   },
   {
    "duration": 286,
    "start_time": "2021-11-15T07:51:32.628Z"
   },
   {
    "duration": 124,
    "start_time": "2021-11-15T07:51:32.916Z"
   },
   {
    "duration": 182,
    "start_time": "2021-11-15T07:51:33.043Z"
   },
   {
    "duration": 9,
    "start_time": "2021-11-15T07:51:33.229Z"
   },
   {
    "duration": 7,
    "start_time": "2021-11-15T07:51:33.241Z"
   },
   {
    "duration": 9,
    "start_time": "2021-11-15T07:51:33.251Z"
   },
   {
    "duration": 7,
    "start_time": "2021-11-15T07:51:33.265Z"
   },
   {
    "duration": 56,
    "start_time": "2021-11-15T07:51:33.275Z"
   },
   {
    "duration": 89,
    "start_time": "2021-11-15T07:51:33.333Z"
   },
   {
    "duration": 54,
    "start_time": "2021-11-15T07:51:33.425Z"
   },
   {
    "duration": 61,
    "start_time": "2021-11-15T07:51:33.481Z"
   },
   {
    "duration": 46,
    "start_time": "2021-11-15T07:51:33.544Z"
   },
   {
    "duration": 56,
    "start_time": "2021-11-15T07:51:33.592Z"
   },
   {
    "duration": 15,
    "start_time": "2021-11-15T07:51:33.651Z"
   },
   {
    "duration": 82,
    "start_time": "2021-11-15T07:51:33.669Z"
   },
   {
    "duration": 45,
    "start_time": "2021-11-15T07:51:33.753Z"
   },
   {
    "duration": 63,
    "start_time": "2021-11-15T07:51:33.801Z"
   },
   {
    "duration": 23,
    "start_time": "2021-11-15T07:51:33.867Z"
   },
   {
    "duration": 1073,
    "start_time": "2021-11-15T07:51:33.893Z"
   },
   {
    "duration": 21,
    "start_time": "2021-11-15T07:51:34.968Z"
   },
   {
    "duration": 51,
    "start_time": "2021-11-15T07:51:34.992Z"
   },
   {
    "duration": 37,
    "start_time": "2021-11-15T07:51:35.046Z"
   },
   {
    "duration": 49,
    "start_time": "2021-11-15T07:51:35.086Z"
   },
   {
    "duration": 23,
    "start_time": "2021-11-15T07:51:35.137Z"
   },
   {
    "duration": 27,
    "start_time": "2021-11-15T07:51:35.162Z"
   },
   {
    "duration": 50,
    "start_time": "2021-11-15T07:51:35.192Z"
   },
   {
    "duration": 21,
    "start_time": "2021-11-15T07:51:35.245Z"
   },
   {
    "duration": 29,
    "start_time": "2021-11-15T07:51:37.687Z"
   },
   {
    "duration": 28,
    "start_time": "2021-11-15T07:51:40.662Z"
   },
   {
    "duration": 14,
    "start_time": "2021-11-15T07:51:46.649Z"
   },
   {
    "duration": 14,
    "start_time": "2021-11-15T07:51:48.459Z"
   },
   {
    "duration": 16,
    "start_time": "2021-11-15T07:51:49.898Z"
   },
   {
    "duration": 16,
    "start_time": "2021-11-15T07:51:58.893Z"
   },
   {
    "duration": 6,
    "start_time": "2021-11-15T07:56:10.214Z"
   },
   {
    "duration": 9,
    "start_time": "2021-11-15T07:56:32.176Z"
   },
   {
    "duration": 404,
    "start_time": "2021-11-15T07:57:46.642Z"
   },
   {
    "duration": 310,
    "start_time": "2021-11-15T07:58:07.084Z"
   },
   {
    "duration": 253,
    "start_time": "2021-11-15T07:58:56.598Z"
   },
   {
    "duration": 266,
    "start_time": "2021-11-15T07:59:15.324Z"
   },
   {
    "duration": 260,
    "start_time": "2021-11-15T07:59:32.834Z"
   },
   {
    "duration": 220,
    "start_time": "2021-11-15T07:59:50.655Z"
   },
   {
    "duration": 1620,
    "start_time": "2021-11-15T08:00:14.779Z"
   },
   {
    "duration": 1203,
    "start_time": "2021-11-15T08:00:25.278Z"
   },
   {
    "duration": 1395,
    "start_time": "2021-11-15T08:00:28.078Z"
   },
   {
    "duration": 7,
    "start_time": "2021-11-15T08:00:43.344Z"
   },
   {
    "duration": 50,
    "start_time": "2021-11-15T08:00:45.967Z"
   },
   {
    "duration": 7,
    "start_time": "2021-11-15T08:00:48.114Z"
   },
   {
    "duration": 6,
    "start_time": "2021-11-15T08:03:39.849Z"
   },
   {
    "duration": 62,
    "start_time": "2021-11-15T08:03:39.858Z"
   },
   {
    "duration": 318,
    "start_time": "2021-11-15T08:03:39.923Z"
   },
   {
    "duration": 154,
    "start_time": "2021-11-15T08:03:40.245Z"
   },
   {
    "duration": 214,
    "start_time": "2021-11-15T08:03:40.402Z"
   },
   {
    "duration": 32,
    "start_time": "2021-11-15T08:03:40.623Z"
   },
   {
    "duration": 8,
    "start_time": "2021-11-15T08:03:40.658Z"
   },
   {
    "duration": 25,
    "start_time": "2021-11-15T08:03:40.669Z"
   },
   {
    "duration": 48,
    "start_time": "2021-11-15T08:03:40.698Z"
   },
   {
    "duration": 18,
    "start_time": "2021-11-15T08:03:40.749Z"
   },
   {
    "duration": 22,
    "start_time": "2021-11-15T08:03:40.770Z"
   },
   {
    "duration": 8,
    "start_time": "2021-11-15T08:03:40.823Z"
   },
   {
    "duration": 7,
    "start_time": "2021-11-15T08:03:40.834Z"
   },
   {
    "duration": 8,
    "start_time": "2021-11-15T08:03:40.843Z"
   },
   {
    "duration": 7,
    "start_time": "2021-11-15T08:03:40.853Z"
   },
   {
    "duration": 7,
    "start_time": "2021-11-15T08:03:40.862Z"
   },
   {
    "duration": 330,
    "start_time": "2021-11-15T08:03:40.871Z"
   },
   {
    "duration": 134,
    "start_time": "2021-11-15T08:03:41.204Z"
   },
   {
    "duration": 192,
    "start_time": "2021-11-15T08:03:41.340Z"
   },
   {
    "duration": 9,
    "start_time": "2021-11-15T08:03:41.534Z"
   },
   {
    "duration": 272,
    "start_time": "2021-11-15T08:03:41.546Z"
   },
   {
    "duration": 164,
    "start_time": "2021-11-15T08:03:41.823Z"
   },
   {
    "duration": 227,
    "start_time": "2021-11-15T08:03:41.990Z"
   },
   {
    "duration": 10,
    "start_time": "2021-11-15T08:03:42.223Z"
   },
   {
    "duration": 9,
    "start_time": "2021-11-15T08:03:42.235Z"
   },
   {
    "duration": 10,
    "start_time": "2021-11-15T08:03:42.246Z"
   },
   {
    "duration": 16,
    "start_time": "2021-11-15T08:03:42.263Z"
   },
   {
    "duration": 101,
    "start_time": "2021-11-15T08:03:42.283Z"
   },
   {
    "duration": 75,
    "start_time": "2021-11-15T08:03:42.386Z"
   },
   {
    "duration": 63,
    "start_time": "2021-11-15T08:03:42.464Z"
   },
   {
    "duration": 42,
    "start_time": "2021-11-15T08:03:42.530Z"
   },
   {
    "duration": 71,
    "start_time": "2021-11-15T08:03:42.574Z"
   },
   {
    "duration": 16,
    "start_time": "2021-11-15T08:03:42.647Z"
   },
   {
    "duration": 71,
    "start_time": "2021-11-15T08:03:42.666Z"
   },
   {
    "duration": 48,
    "start_time": "2021-11-15T08:03:42.740Z"
   },
   {
    "duration": 72,
    "start_time": "2021-11-15T08:03:42.791Z"
   },
   {
    "duration": 27,
    "start_time": "2021-11-15T08:03:42.866Z"
   },
   {
    "duration": 1313,
    "start_time": "2021-11-15T08:03:42.924Z"
   },
   {
    "duration": 28,
    "start_time": "2021-11-15T08:03:44.240Z"
   },
   {
    "duration": 58,
    "start_time": "2021-11-15T08:03:44.271Z"
   },
   {
    "duration": 36,
    "start_time": "2021-11-15T08:03:44.332Z"
   },
   {
    "duration": 53,
    "start_time": "2021-11-15T08:03:44.371Z"
   },
   {
    "duration": 31,
    "start_time": "2021-11-15T08:03:44.427Z"
   },
   {
    "duration": 61,
    "start_time": "2021-11-15T08:03:44.461Z"
   },
   {
    "duration": 36,
    "start_time": "2021-11-15T08:03:44.525Z"
   },
   {
    "duration": 59,
    "start_time": "2021-11-15T08:03:44.564Z"
   },
   {
    "duration": 36,
    "start_time": "2021-11-15T08:03:44.626Z"
   },
   {
    "duration": 57,
    "start_time": "2021-11-15T08:03:44.665Z"
   },
   {
    "duration": 16,
    "start_time": "2021-11-15T08:03:44.725Z"
   },
   {
    "duration": 24,
    "start_time": "2021-11-15T08:03:44.744Z"
   },
   {
    "duration": 26,
    "start_time": "2021-11-15T08:03:44.771Z"
   },
   {
    "duration": 38,
    "start_time": "2021-11-15T08:03:44.799Z"
   },
   {
    "duration": 496,
    "start_time": "2021-11-15T08:04:09.043Z"
   },
   {
    "duration": 306,
    "start_time": "2021-11-15T08:04:22.433Z"
   },
   {
    "duration": 314,
    "start_time": "2021-11-15T08:04:28.633Z"
   },
   {
    "duration": 443,
    "start_time": "2021-11-15T08:04:36.051Z"
   },
   {
    "duration": 323,
    "start_time": "2021-11-15T08:05:30.241Z"
   },
   {
    "duration": 8,
    "start_time": "2021-11-15T08:06:52.852Z"
   },
   {
    "duration": 276,
    "start_time": "2021-11-15T08:07:03.260Z"
   },
   {
    "duration": 298,
    "start_time": "2021-11-15T08:07:27.207Z"
   },
   {
    "duration": 405,
    "start_time": "2021-11-15T08:10:34.117Z"
   },
   {
    "duration": 385,
    "start_time": "2021-11-15T08:10:57.130Z"
   },
   {
    "duration": 342,
    "start_time": "2021-11-15T08:12:12.792Z"
   },
   {
    "duration": 4,
    "start_time": "2021-11-15T08:12:19.004Z"
   },
   {
    "duration": 50,
    "start_time": "2021-11-15T08:12:19.012Z"
   },
   {
    "duration": 237,
    "start_time": "2021-11-15T08:12:19.065Z"
   },
   {
    "duration": 141,
    "start_time": "2021-11-15T08:12:19.305Z"
   },
   {
    "duration": 212,
    "start_time": "2021-11-15T08:12:19.449Z"
   },
   {
    "duration": 33,
    "start_time": "2021-11-15T08:12:19.664Z"
   },
   {
    "duration": 24,
    "start_time": "2021-11-15T08:12:19.701Z"
   },
   {
    "duration": 23,
    "start_time": "2021-11-15T08:12:19.728Z"
   },
   {
    "duration": 29,
    "start_time": "2021-11-15T08:12:19.755Z"
   },
   {
    "duration": 42,
    "start_time": "2021-11-15T08:12:19.788Z"
   },
   {
    "duration": 23,
    "start_time": "2021-11-15T08:12:19.833Z"
   },
   {
    "duration": 8,
    "start_time": "2021-11-15T08:12:19.858Z"
   },
   {
    "duration": 11,
    "start_time": "2021-11-15T08:12:19.868Z"
   },
   {
    "duration": 7,
    "start_time": "2021-11-15T08:12:19.922Z"
   },
   {
    "duration": 8,
    "start_time": "2021-11-15T08:12:19.931Z"
   },
   {
    "duration": 11,
    "start_time": "2021-11-15T08:12:19.941Z"
   },
   {
    "duration": 275,
    "start_time": "2021-11-15T08:12:19.956Z"
   },
   {
    "duration": 145,
    "start_time": "2021-11-15T08:12:20.234Z"
   },
   {
    "duration": 189,
    "start_time": "2021-11-15T08:12:20.382Z"
   },
   {
    "duration": 9,
    "start_time": "2021-11-15T08:12:20.574Z"
   },
   {
    "duration": 279,
    "start_time": "2021-11-15T08:12:20.586Z"
   },
   {
    "duration": 127,
    "start_time": "2021-11-15T08:12:20.867Z"
   },
   {
    "duration": 179,
    "start_time": "2021-11-15T08:12:20.998Z"
   },
   {
    "duration": 9,
    "start_time": "2021-11-15T08:12:21.180Z"
   },
   {
    "duration": 32,
    "start_time": "2021-11-15T08:12:21.191Z"
   },
   {
    "duration": 14,
    "start_time": "2021-11-15T08:12:21.225Z"
   },
   {
    "duration": 16,
    "start_time": "2021-11-15T08:12:21.244Z"
   },
   {
    "duration": 85,
    "start_time": "2021-11-15T08:12:21.264Z"
   },
   {
    "duration": 51,
    "start_time": "2021-11-15T08:12:21.351Z"
   },
   {
    "duration": 46,
    "start_time": "2021-11-15T08:12:21.422Z"
   },
   {
    "duration": 69,
    "start_time": "2021-11-15T08:12:21.471Z"
   },
   {
    "duration": 45,
    "start_time": "2021-11-15T08:12:21.543Z"
   },
   {
    "duration": 41,
    "start_time": "2021-11-15T08:12:21.591Z"
   },
   {
    "duration": 49,
    "start_time": "2021-11-15T08:12:21.635Z"
   },
   {
    "duration": 68,
    "start_time": "2021-11-15T08:12:21.686Z"
   },
   {
    "duration": 48,
    "start_time": "2021-11-15T08:12:21.756Z"
   },
   {
    "duration": 39,
    "start_time": "2021-11-15T08:12:21.806Z"
   },
   {
    "duration": 1158,
    "start_time": "2021-11-15T08:12:21.847Z"
   },
   {
    "duration": 41,
    "start_time": "2021-11-15T08:12:23.008Z"
   },
   {
    "duration": 38,
    "start_time": "2021-11-15T08:12:23.052Z"
   },
   {
    "duration": 63,
    "start_time": "2021-11-15T08:12:23.094Z"
   },
   {
    "duration": 27,
    "start_time": "2021-11-15T08:12:23.160Z"
   },
   {
    "duration": 56,
    "start_time": "2021-11-15T08:12:23.191Z"
   },
   {
    "duration": 38,
    "start_time": "2021-11-15T08:12:23.250Z"
   },
   {
    "duration": 67,
    "start_time": "2021-11-15T08:12:23.291Z"
   },
   {
    "duration": 25,
    "start_time": "2021-11-15T08:12:23.361Z"
   },
   {
    "duration": 53,
    "start_time": "2021-11-15T08:12:23.389Z"
   },
   {
    "duration": 34,
    "start_time": "2021-11-15T08:12:23.445Z"
   },
   {
    "duration": 42,
    "start_time": "2021-11-15T08:12:23.482Z"
   },
   {
    "duration": 19,
    "start_time": "2021-11-15T08:12:23.526Z"
   },
   {
    "duration": 451,
    "start_time": "2021-11-15T08:12:23.548Z"
   },
   {
    "duration": 331,
    "start_time": "2021-11-15T08:12:45.644Z"
   },
   {
    "duration": 298,
    "start_time": "2021-11-15T08:12:55.012Z"
   },
   {
    "duration": 333,
    "start_time": "2021-11-15T08:14:22.993Z"
   },
   {
    "duration": 327,
    "start_time": "2021-11-15T08:19:19.517Z"
   },
   {
    "duration": 313,
    "start_time": "2021-11-15T08:19:36.547Z"
   },
   {
    "duration": 319,
    "start_time": "2021-11-15T08:19:44.188Z"
   },
   {
    "duration": 369,
    "start_time": "2021-11-15T08:22:01.325Z"
   },
   {
    "duration": 23,
    "start_time": "2021-11-15T08:22:27.689Z"
   },
   {
    "duration": 316,
    "start_time": "2021-11-15T08:22:43.386Z"
   },
   {
    "duration": 338,
    "start_time": "2021-11-15T08:22:49.151Z"
   },
   {
    "duration": 32,
    "start_time": "2021-11-15T08:23:33.358Z"
   },
   {
    "duration": 31,
    "start_time": "2021-11-15T08:23:44.527Z"
   },
   {
    "duration": 34,
    "start_time": "2021-11-15T08:23:57.720Z"
   },
   {
    "duration": 32,
    "start_time": "2021-11-15T08:24:16.615Z"
   },
   {
    "duration": 32,
    "start_time": "2021-11-15T08:24:28.723Z"
   },
   {
    "duration": 35,
    "start_time": "2021-11-15T08:24:44.555Z"
   },
   {
    "duration": 37,
    "start_time": "2021-11-15T08:25:14.668Z"
   },
   {
    "duration": 29,
    "start_time": "2021-11-15T08:30:14.393Z"
   },
   {
    "duration": 26,
    "start_time": "2021-11-15T08:30:17.025Z"
   },
   {
    "duration": 507,
    "start_time": "2021-11-15T08:39:57.328Z"
   },
   {
    "duration": 49,
    "start_time": "2021-11-15T08:40:20.332Z"
   },
   {
    "duration": 13,
    "start_time": "2021-11-15T08:40:31.736Z"
   },
   {
    "duration": 13,
    "start_time": "2021-11-15T08:40:52.056Z"
   },
   {
    "duration": 50,
    "start_time": "2021-11-15T08:40:57.935Z"
   },
   {
    "duration": 46,
    "start_time": "2021-11-15T08:43:41.307Z"
   },
   {
    "duration": 40,
    "start_time": "2021-11-15T08:44:17.013Z"
   },
   {
    "duration": 33,
    "start_time": "2021-11-15T08:44:51.532Z"
   },
   {
    "duration": 31,
    "start_time": "2021-11-15T08:45:20.447Z"
   },
   {
    "duration": 84,
    "start_time": "2021-11-15T08:45:36.885Z"
   },
   {
    "duration": 21,
    "start_time": "2021-11-15T08:45:44.414Z"
   },
   {
    "duration": 83,
    "start_time": "2021-11-15T08:46:32.456Z"
   },
   {
    "duration": 6,
    "start_time": "2021-11-15T08:47:05.613Z"
   },
   {
    "duration": 7,
    "start_time": "2021-11-15T08:47:15.271Z"
   },
   {
    "duration": 5,
    "start_time": "2021-11-15T08:47:32.469Z"
   },
   {
    "duration": 55,
    "start_time": "2021-11-15T08:47:32.477Z"
   },
   {
    "duration": 255,
    "start_time": "2021-11-15T08:47:32.535Z"
   },
   {
    "duration": 142,
    "start_time": "2021-11-15T08:47:32.793Z"
   },
   {
    "duration": 204,
    "start_time": "2021-11-15T08:47:32.937Z"
   },
   {
    "duration": 33,
    "start_time": "2021-11-15T08:47:33.143Z"
   },
   {
    "duration": 8,
    "start_time": "2021-11-15T08:47:33.179Z"
   },
   {
    "duration": 41,
    "start_time": "2021-11-15T08:47:33.191Z"
   },
   {
    "duration": 28,
    "start_time": "2021-11-15T08:47:33.237Z"
   },
   {
    "duration": 21,
    "start_time": "2021-11-15T08:47:33.268Z"
   },
   {
    "duration": 23,
    "start_time": "2021-11-15T08:47:33.322Z"
   },
   {
    "duration": 7,
    "start_time": "2021-11-15T08:47:33.348Z"
   },
   {
    "duration": 6,
    "start_time": "2021-11-15T08:47:33.357Z"
   },
   {
    "duration": 8,
    "start_time": "2021-11-15T08:47:33.366Z"
   },
   {
    "duration": 48,
    "start_time": "2021-11-15T08:47:33.376Z"
   },
   {
    "duration": 6,
    "start_time": "2021-11-15T08:47:33.426Z"
   },
   {
    "duration": 247,
    "start_time": "2021-11-15T08:47:33.435Z"
   },
   {
    "duration": 138,
    "start_time": "2021-11-15T08:47:33.684Z"
   },
   {
    "duration": 178,
    "start_time": "2021-11-15T08:47:33.825Z"
   },
   {
    "duration": 17,
    "start_time": "2021-11-15T08:47:34.006Z"
   },
   {
    "duration": 246,
    "start_time": "2021-11-15T08:47:34.026Z"
   },
   {
    "duration": 106,
    "start_time": "2021-11-15T08:47:34.274Z"
   },
   {
    "duration": 168,
    "start_time": "2021-11-15T08:47:34.385Z"
   },
   {
    "duration": 8,
    "start_time": "2021-11-15T08:47:34.556Z"
   },
   {
    "duration": 21,
    "start_time": "2021-11-15T08:47:34.566Z"
   },
   {
    "duration": 12,
    "start_time": "2021-11-15T08:47:34.589Z"
   },
   {
    "duration": 29,
    "start_time": "2021-11-15T08:47:34.603Z"
   },
   {
    "duration": 67,
    "start_time": "2021-11-15T08:47:34.634Z"
   },
   {
    "duration": 56,
    "start_time": "2021-11-15T08:47:34.703Z"
   },
   {
    "duration": 61,
    "start_time": "2021-11-15T08:47:34.762Z"
   },
   {
    "duration": 39,
    "start_time": "2021-11-15T08:47:34.826Z"
   },
   {
    "duration": 61,
    "start_time": "2021-11-15T08:47:34.867Z"
   },
   {
    "duration": 16,
    "start_time": "2021-11-15T08:47:34.931Z"
   },
   {
    "duration": 48,
    "start_time": "2021-11-15T08:47:34.950Z"
   },
   {
    "duration": 45,
    "start_time": "2021-11-15T08:47:35.024Z"
   },
   {
    "duration": 30,
    "start_time": "2021-11-15T08:47:35.071Z"
   },
   {
    "duration": 31,
    "start_time": "2021-11-15T08:47:35.123Z"
   },
   {
    "duration": 92,
    "start_time": "2021-11-15T08:47:35.156Z"
   },
   {
    "duration": 7,
    "start_time": "2021-11-15T08:47:37.835Z"
   },
   {
    "duration": 8,
    "start_time": "2021-11-15T08:47:54.560Z"
   },
   {
    "duration": 8,
    "start_time": "2021-11-15T08:48:01.464Z"
   },
   {
    "duration": 98,
    "start_time": "2021-11-15T08:50:25.673Z"
   },
   {
    "duration": 3556,
    "start_time": "2021-11-15T08:50:34.547Z"
   },
   {
    "duration": 4,
    "start_time": "2021-11-15T08:50:59.632Z"
   },
   {
    "duration": 53,
    "start_time": "2021-11-15T08:50:59.639Z"
   },
   {
    "duration": 269,
    "start_time": "2021-11-15T08:50:59.695Z"
   },
   {
    "duration": 155,
    "start_time": "2021-11-15T08:50:59.967Z"
   },
   {
    "duration": 221,
    "start_time": "2021-11-15T08:51:00.124Z"
   },
   {
    "duration": 33,
    "start_time": "2021-11-15T08:51:00.348Z"
   },
   {
    "duration": 12,
    "start_time": "2021-11-15T08:51:00.384Z"
   },
   {
    "duration": 46,
    "start_time": "2021-11-15T08:51:00.399Z"
   },
   {
    "duration": 30,
    "start_time": "2021-11-15T08:51:00.448Z"
   },
   {
    "duration": 19,
    "start_time": "2021-11-15T08:51:00.480Z"
   },
   {
    "duration": 23,
    "start_time": "2021-11-15T08:51:00.523Z"
   },
   {
    "duration": 8,
    "start_time": "2021-11-15T08:51:00.549Z"
   },
   {
    "duration": 20,
    "start_time": "2021-11-15T08:51:00.559Z"
   },
   {
    "duration": 20,
    "start_time": "2021-11-15T08:51:00.581Z"
   },
   {
    "duration": 24,
    "start_time": "2021-11-15T08:51:00.603Z"
   },
   {
    "duration": 24,
    "start_time": "2021-11-15T08:51:00.629Z"
   },
   {
    "duration": 288,
    "start_time": "2021-11-15T08:51:00.656Z"
   },
   {
    "duration": 143,
    "start_time": "2021-11-15T08:51:00.947Z"
   },
   {
    "duration": 188,
    "start_time": "2021-11-15T08:51:01.096Z"
   },
   {
    "duration": 10,
    "start_time": "2021-11-15T08:51:01.288Z"
   },
   {
    "duration": 296,
    "start_time": "2021-11-15T08:51:01.300Z"
   },
   {
    "duration": 127,
    "start_time": "2021-11-15T08:51:01.598Z"
   },
   {
    "duration": 182,
    "start_time": "2021-11-15T08:51:01.728Z"
   },
   {
    "duration": 12,
    "start_time": "2021-11-15T08:51:01.913Z"
   },
   {
    "duration": 23,
    "start_time": "2021-11-15T08:51:01.928Z"
   },
   {
    "duration": 18,
    "start_time": "2021-11-15T08:51:01.953Z"
   },
   {
    "duration": 29,
    "start_time": "2021-11-15T08:51:01.974Z"
   },
   {
    "duration": 61,
    "start_time": "2021-11-15T08:51:02.006Z"
   },
   {
    "duration": 62,
    "start_time": "2021-11-15T08:51:02.070Z"
   },
   {
    "duration": 44,
    "start_time": "2021-11-15T08:51:02.134Z"
   },
   {
    "duration": 65,
    "start_time": "2021-11-15T08:51:02.180Z"
   },
   {
    "duration": 41,
    "start_time": "2021-11-15T08:51:02.247Z"
   },
   {
    "duration": 34,
    "start_time": "2021-11-15T08:51:02.291Z"
   },
   {
    "duration": 48,
    "start_time": "2021-11-15T08:51:02.328Z"
   },
   {
    "duration": 68,
    "start_time": "2021-11-15T08:51:02.378Z"
   },
   {
    "duration": 31,
    "start_time": "2021-11-15T08:51:02.448Z"
   },
   {
    "duration": 53,
    "start_time": "2021-11-15T08:51:02.481Z"
   },
   {
    "duration": 92,
    "start_time": "2021-11-15T08:51:02.536Z"
   },
   {
    "duration": 3608,
    "start_time": "2021-11-15T08:51:02.631Z"
   },
   {
    "duration": 44,
    "start_time": "2021-11-15T08:51:06.242Z"
   },
   {
    "duration": 71,
    "start_time": "2021-11-15T08:51:06.288Z"
   },
   {
    "duration": 25,
    "start_time": "2021-11-15T08:51:06.362Z"
   },
   {
    "duration": 1026,
    "start_time": "2021-11-15T08:51:06.390Z"
   },
   {
    "duration": 22,
    "start_time": "2021-11-15T08:51:07.422Z"
   },
   {
    "duration": 27,
    "start_time": "2021-11-15T08:51:07.446Z"
   },
   {
    "duration": 54,
    "start_time": "2021-11-15T08:51:07.476Z"
   },
   {
    "duration": 17,
    "start_time": "2021-11-15T08:51:07.533Z"
   },
   {
    "duration": 21,
    "start_time": "2021-11-15T08:51:07.553Z"
   },
   {
    "duration": 55,
    "start_time": "2021-11-15T08:51:07.577Z"
   },
   {
    "duration": 27,
    "start_time": "2021-11-15T08:51:07.635Z"
   },
   {
    "duration": 24,
    "start_time": "2021-11-15T08:51:07.665Z"
   },
   {
    "duration": 30,
    "start_time": "2021-11-15T08:51:07.723Z"
   },
   {
    "duration": 33,
    "start_time": "2021-11-15T08:51:07.755Z"
   },
   {
    "duration": 43,
    "start_time": "2021-11-15T08:51:07.791Z"
   },
   {
    "duration": 18,
    "start_time": "2021-11-15T08:51:07.841Z"
   },
   {
    "duration": 381,
    "start_time": "2021-11-15T08:51:11.644Z"
   },
   {
    "duration": 19,
    "start_time": "2021-11-15T08:52:22.476Z"
   },
   {
    "duration": 7924,
    "start_time": "2021-11-15T08:53:38.049Z"
   },
   {
    "duration": 22,
    "start_time": "2021-11-15T08:54:17.080Z"
   },
   {
    "duration": 30,
    "start_time": "2021-11-15T08:54:58.567Z"
   },
   {
    "duration": 303,
    "start_time": "2021-11-15T08:55:30.664Z"
   },
   {
    "duration": 477,
    "start_time": "2021-11-15T08:55:47.640Z"
   },
   {
    "duration": 302,
    "start_time": "2021-11-15T08:56:02.193Z"
   },
   {
    "duration": 11,
    "start_time": "2021-11-15T08:56:19.307Z"
   },
   {
    "duration": 292,
    "start_time": "2021-11-15T08:56:22.252Z"
   },
   {
    "duration": 5810,
    "start_time": "2021-11-15T09:01:13.239Z"
   },
   {
    "duration": 342,
    "start_time": "2021-11-15T09:01:41.288Z"
   },
   {
    "duration": 352,
    "start_time": "2021-11-15T09:01:57.986Z"
   },
   {
    "duration": 379,
    "start_time": "2021-11-15T09:02:15.533Z"
   },
   {
    "duration": 404,
    "start_time": "2021-11-15T09:02:20.723Z"
   },
   {
    "duration": 400,
    "start_time": "2021-11-15T09:03:50.939Z"
   },
   {
    "duration": 414,
    "start_time": "2021-11-15T09:03:57.741Z"
   },
   {
    "duration": 403,
    "start_time": "2021-11-15T09:07:03.822Z"
   },
   {
    "duration": 604,
    "start_time": "2021-11-15T09:07:08.709Z"
   },
   {
    "duration": 390,
    "start_time": "2021-11-15T09:07:34.235Z"
   },
   {
    "duration": 461,
    "start_time": "2021-11-15T09:07:52.764Z"
   },
   {
    "duration": 377,
    "start_time": "2021-11-15T09:08:34.399Z"
   },
   {
    "duration": 657,
    "start_time": "2021-11-15T09:09:48.561Z"
   },
   {
    "duration": 780,
    "start_time": "2021-11-15T09:10:01.457Z"
   },
   {
    "duration": 702,
    "start_time": "2021-11-15T09:10:10.149Z"
   },
   {
    "duration": 394,
    "start_time": "2021-11-15T09:10:21.064Z"
   },
   {
    "duration": 8,
    "start_time": "2021-11-15T09:13:51.712Z"
   },
   {
    "duration": 8,
    "start_time": "2021-11-15T09:14:13.458Z"
   },
   {
    "duration": 7,
    "start_time": "2021-11-15T09:14:26.082Z"
   },
   {
    "duration": 6,
    "start_time": "2021-11-15T09:14:41.359Z"
   },
   {
    "duration": 533,
    "start_time": "2021-11-15T09:15:41.730Z"
   },
   {
    "duration": 581,
    "start_time": "2021-11-15T09:15:55.556Z"
   },
   {
    "duration": 528,
    "start_time": "2021-11-15T09:16:37.861Z"
   },
   {
    "duration": 555,
    "start_time": "2021-11-15T09:18:28.796Z"
   },
   {
    "duration": 364,
    "start_time": "2021-11-15T09:18:50.610Z"
   },
   {
    "duration": 257,
    "start_time": "2021-11-15T09:19:02.311Z"
   },
   {
    "duration": 235,
    "start_time": "2021-11-15T09:19:07.947Z"
   },
   {
    "duration": 240,
    "start_time": "2021-11-15T09:19:15.753Z"
   },
   {
    "duration": 283,
    "start_time": "2021-11-15T09:20:04.692Z"
   },
   {
    "duration": 272,
    "start_time": "2021-11-15T09:20:18.206Z"
   },
   {
    "duration": 567,
    "start_time": "2021-11-15T09:20:32.720Z"
   },
   {
    "duration": 277,
    "start_time": "2021-11-15T09:20:37.398Z"
   },
   {
    "duration": 291,
    "start_time": "2021-11-15T09:20:44.246Z"
   },
   {
    "duration": 262,
    "start_time": "2021-11-15T09:20:52.866Z"
   },
   {
    "duration": 262,
    "start_time": "2021-11-15T09:20:56.201Z"
   },
   {
    "duration": 303,
    "start_time": "2021-11-15T09:20:59.101Z"
   },
   {
    "duration": 307,
    "start_time": "2021-11-15T09:21:02.915Z"
   },
   {
    "duration": 259,
    "start_time": "2021-11-15T09:21:06.359Z"
   },
   {
    "duration": 256,
    "start_time": "2021-11-15T09:21:46.295Z"
   },
   {
    "duration": 260,
    "start_time": "2021-11-15T09:22:03.890Z"
   },
   {
    "duration": 420,
    "start_time": "2021-11-15T09:22:14.654Z"
   },
   {
    "duration": 392,
    "start_time": "2021-11-15T09:22:22.939Z"
   },
   {
    "duration": 386,
    "start_time": "2021-11-15T09:22:27.175Z"
   },
   {
    "duration": 264,
    "start_time": "2021-11-15T09:22:53.399Z"
   },
   {
    "duration": 286,
    "start_time": "2021-11-15T09:23:46.239Z"
   },
   {
    "duration": 299,
    "start_time": "2021-11-15T09:24:13.844Z"
   },
   {
    "duration": 296,
    "start_time": "2021-11-15T09:24:22.595Z"
   },
   {
    "duration": 285,
    "start_time": "2021-11-15T09:24:33.598Z"
   },
   {
    "duration": 224,
    "start_time": "2021-11-15T09:25:28.871Z"
   },
   {
    "duration": 210,
    "start_time": "2021-11-15T09:25:34.229Z"
   },
   {
    "duration": 9,
    "start_time": "2021-11-15T09:27:06.381Z"
   },
   {
    "duration": 7,
    "start_time": "2021-11-15T09:27:33.365Z"
   },
   {
    "duration": 10,
    "start_time": "2021-11-15T09:28:17.218Z"
   },
   {
    "duration": 24,
    "start_time": "2021-11-15T09:28:40.403Z"
   },
   {
    "duration": 5,
    "start_time": "2021-11-15T09:29:04.398Z"
   },
   {
    "duration": 5,
    "start_time": "2021-11-15T09:29:27.470Z"
   },
   {
    "duration": 6,
    "start_time": "2021-11-15T09:31:25.214Z"
   },
   {
    "duration": 383,
    "start_time": "2021-11-15T09:39:05.639Z"
   },
   {
    "duration": 388,
    "start_time": "2021-11-15T09:43:00.994Z"
   },
   {
    "duration": 206,
    "start_time": "2021-11-15T09:44:36.268Z"
   },
   {
    "duration": 7,
    "start_time": "2021-11-15T09:45:32.185Z"
   },
   {
    "duration": 9,
    "start_time": "2021-11-15T09:45:34.079Z"
   },
   {
    "duration": 6,
    "start_time": "2021-11-15T09:45:36.341Z"
   },
   {
    "duration": 21,
    "start_time": "2021-11-15T09:48:54.060Z"
   },
   {
    "duration": 13,
    "start_time": "2021-11-15T09:49:19.875Z"
   },
   {
    "duration": 87,
    "start_time": "2021-11-15T09:49:23.428Z"
   },
   {
    "duration": 13,
    "start_time": "2021-11-15T09:49:48.688Z"
   },
   {
    "duration": 21,
    "start_time": "2021-11-15T09:50:02.272Z"
   },
   {
    "duration": 12,
    "start_time": "2021-11-15T09:52:07.633Z"
   },
   {
    "duration": 19,
    "start_time": "2021-11-15T09:52:12.869Z"
   },
   {
    "duration": 18,
    "start_time": "2021-11-15T09:54:12.704Z"
   },
   {
    "duration": 1439,
    "start_time": "2021-11-15T10:23:05.354Z"
   },
   {
    "duration": 49,
    "start_time": "2021-11-15T10:23:06.795Z"
   },
   {
    "duration": 233,
    "start_time": "2021-11-15T10:23:06.848Z"
   },
   {
    "duration": 146,
    "start_time": "2021-11-15T10:23:07.084Z"
   },
   {
    "duration": 203,
    "start_time": "2021-11-15T10:23:07.233Z"
   },
   {
    "duration": 31,
    "start_time": "2021-11-15T10:23:07.438Z"
   },
   {
    "duration": 19,
    "start_time": "2021-11-15T10:23:07.471Z"
   },
   {
    "duration": 35,
    "start_time": "2021-11-15T10:23:07.494Z"
   },
   {
    "duration": 50,
    "start_time": "2021-11-15T10:23:07.533Z"
   },
   {
    "duration": 17,
    "start_time": "2021-11-15T10:23:07.585Z"
   },
   {
    "duration": 45,
    "start_time": "2021-11-15T10:23:07.604Z"
   },
   {
    "duration": 7,
    "start_time": "2021-11-15T10:23:07.651Z"
   },
   {
    "duration": 20,
    "start_time": "2021-11-15T10:23:07.659Z"
   },
   {
    "duration": 13,
    "start_time": "2021-11-15T10:23:07.682Z"
   },
   {
    "duration": 10,
    "start_time": "2021-11-15T10:23:07.697Z"
   },
   {
    "duration": 21,
    "start_time": "2021-11-15T10:23:07.709Z"
   },
   {
    "duration": 311,
    "start_time": "2021-11-15T10:23:07.732Z"
   },
   {
    "duration": 130,
    "start_time": "2021-11-15T10:23:08.045Z"
   },
   {
    "duration": 186,
    "start_time": "2021-11-15T10:23:08.177Z"
   },
   {
    "duration": 10,
    "start_time": "2021-11-15T10:23:08.366Z"
   },
   {
    "duration": 328,
    "start_time": "2021-11-15T10:23:08.378Z"
   },
   {
    "duration": 105,
    "start_time": "2021-11-15T10:23:08.708Z"
   },
   {
    "duration": 156,
    "start_time": "2021-11-15T10:23:08.819Z"
   },
   {
    "duration": 9,
    "start_time": "2021-11-15T10:23:08.978Z"
   },
   {
    "duration": 12,
    "start_time": "2021-11-15T10:23:08.989Z"
   },
   {
    "duration": 27,
    "start_time": "2021-11-15T10:23:09.003Z"
   },
   {
    "duration": 16,
    "start_time": "2021-11-15T10:23:09.032Z"
   },
   {
    "duration": 83,
    "start_time": "2021-11-15T10:23:09.050Z"
   },
   {
    "duration": 45,
    "start_time": "2021-11-15T10:23:09.136Z"
   },
   {
    "duration": 61,
    "start_time": "2021-11-15T10:23:09.184Z"
   },
   {
    "duration": 37,
    "start_time": "2021-11-15T10:23:09.247Z"
   },
   {
    "duration": 58,
    "start_time": "2021-11-15T10:23:09.287Z"
   },
   {
    "duration": 16,
    "start_time": "2021-11-15T10:23:09.347Z"
   },
   {
    "duration": 65,
    "start_time": "2021-11-15T10:23:09.365Z"
   },
   {
    "duration": 42,
    "start_time": "2021-11-15T10:23:09.432Z"
   },
   {
    "duration": 29,
    "start_time": "2021-11-15T10:23:09.477Z"
   },
   {
    "duration": 48,
    "start_time": "2021-11-15T10:23:09.508Z"
   },
   {
    "duration": 99,
    "start_time": "2021-11-15T10:23:09.558Z"
   },
   {
    "duration": 3780,
    "start_time": "2021-11-15T10:23:09.660Z"
   },
   {
    "duration": 43,
    "start_time": "2021-11-15T10:23:13.443Z"
   },
   {
    "duration": 74,
    "start_time": "2021-11-15T10:23:13.488Z"
   },
   {
    "duration": 22,
    "start_time": "2021-11-15T10:23:13.564Z"
   },
   {
    "duration": 956,
    "start_time": "2021-11-15T10:23:13.589Z"
   },
   {
    "duration": 20,
    "start_time": "2021-11-15T10:23:14.547Z"
   },
   {
    "duration": 27,
    "start_time": "2021-11-15T10:23:14.569Z"
   },
   {
    "duration": 50,
    "start_time": "2021-11-15T10:23:14.599Z"
   },
   {
    "duration": 17,
    "start_time": "2021-11-15T10:23:14.651Z"
   },
   {
    "duration": 23,
    "start_time": "2021-11-15T10:23:14.670Z"
   },
   {
    "duration": 54,
    "start_time": "2021-11-15T10:23:14.695Z"
   },
   {
    "duration": 24,
    "start_time": "2021-11-15T10:23:14.751Z"
   },
   {
    "duration": 22,
    "start_time": "2021-11-15T10:23:14.778Z"
   },
   {
    "duration": 27,
    "start_time": "2021-11-15T10:23:14.829Z"
   },
   {
    "duration": 28,
    "start_time": "2021-11-15T10:23:14.858Z"
   },
   {
    "duration": 14,
    "start_time": "2021-11-15T10:23:14.889Z"
   },
   {
    "duration": 15,
    "start_time": "2021-11-15T10:23:14.929Z"
   },
   {
    "duration": 8232,
    "start_time": "2021-11-15T10:23:14.947Z"
   },
   {
    "duration": 72,
    "start_time": "2021-11-15T10:23:23.110Z"
   },
   {
    "duration": 68,
    "start_time": "2021-11-15T10:23:23.115Z"
   },
   {
    "duration": 65,
    "start_time": "2021-11-15T10:23:23.120Z"
   },
   {
    "duration": 61,
    "start_time": "2021-11-15T10:23:23.125Z"
   },
   {
    "duration": 57,
    "start_time": "2021-11-15T10:23:23.130Z"
   },
   {
    "duration": 55,
    "start_time": "2021-11-15T10:23:23.134Z"
   },
   {
    "duration": 51,
    "start_time": "2021-11-15T10:23:23.139Z"
   },
   {
    "duration": 48,
    "start_time": "2021-11-15T10:23:23.143Z"
   },
   {
    "duration": 45,
    "start_time": "2021-11-15T10:23:23.148Z"
   },
   {
    "duration": 39,
    "start_time": "2021-11-15T10:23:23.155Z"
   },
   {
    "duration": 26,
    "start_time": "2021-11-15T10:23:23.169Z"
   },
   {
    "duration": 24,
    "start_time": "2021-11-15T10:23:23.173Z"
   },
   {
    "duration": 21,
    "start_time": "2021-11-15T10:23:23.177Z"
   },
   {
    "duration": 48,
    "start_time": "2021-11-15T10:23:23.181Z"
   },
   {
    "duration": 46,
    "start_time": "2021-11-15T10:23:23.185Z"
   },
   {
    "duration": 44,
    "start_time": "2021-11-15T10:23:23.188Z"
   },
   {
    "duration": 42,
    "start_time": "2021-11-15T10:23:23.192Z"
   },
   {
    "duration": 38,
    "start_time": "2021-11-15T10:23:23.197Z"
   },
   {
    "duration": 36,
    "start_time": "2021-11-15T10:23:23.201Z"
   },
   {
    "duration": 34,
    "start_time": "2021-11-15T10:23:23.205Z"
   },
   {
    "duration": 32,
    "start_time": "2021-11-15T10:23:23.208Z"
   },
   {
    "duration": 5,
    "start_time": "2021-11-15T10:23:37.284Z"
   },
   {
    "duration": 52,
    "start_time": "2021-11-15T10:23:37.292Z"
   },
   {
    "duration": 282,
    "start_time": "2021-11-15T10:23:37.347Z"
   },
   {
    "duration": 145,
    "start_time": "2021-11-15T10:23:37.632Z"
   },
   {
    "duration": 206,
    "start_time": "2021-11-15T10:23:37.780Z"
   },
   {
    "duration": 42,
    "start_time": "2021-11-15T10:23:37.989Z"
   },
   {
    "duration": 8,
    "start_time": "2021-11-15T10:23:38.034Z"
   },
   {
    "duration": 17,
    "start_time": "2021-11-15T10:23:38.048Z"
   },
   {
    "duration": 67,
    "start_time": "2021-11-15T10:23:38.069Z"
   },
   {
    "duration": 21,
    "start_time": "2021-11-15T10:23:38.139Z"
   },
   {
    "duration": 27,
    "start_time": "2021-11-15T10:23:38.162Z"
   },
   {
    "duration": 37,
    "start_time": "2021-11-15T10:23:38.192Z"
   },
   {
    "duration": 13,
    "start_time": "2021-11-15T10:23:38.232Z"
   },
   {
    "duration": 24,
    "start_time": "2021-11-15T10:23:38.248Z"
   },
   {
    "duration": 21,
    "start_time": "2021-11-15T10:23:38.275Z"
   },
   {
    "duration": 17,
    "start_time": "2021-11-15T10:23:38.299Z"
   },
   {
    "duration": 235,
    "start_time": "2021-11-15T10:23:38.319Z"
   },
   {
    "duration": 138,
    "start_time": "2021-11-15T10:23:38.556Z"
   },
   {
    "duration": 198,
    "start_time": "2021-11-15T10:23:38.697Z"
   },
   {
    "duration": 11,
    "start_time": "2021-11-15T10:23:38.899Z"
   },
   {
    "duration": 244,
    "start_time": "2021-11-15T10:23:38.928Z"
   },
   {
    "duration": 113,
    "start_time": "2021-11-15T10:23:39.175Z"
   },
   {
    "duration": 161,
    "start_time": "2021-11-15T10:23:39.294Z"
   },
   {
    "duration": 7,
    "start_time": "2021-11-15T10:23:39.459Z"
   },
   {
    "duration": 20,
    "start_time": "2021-11-15T10:23:39.468Z"
   },
   {
    "duration": 11,
    "start_time": "2021-11-15T10:23:39.490Z"
   },
   {
    "duration": 32,
    "start_time": "2021-11-15T10:23:39.504Z"
   },
   {
    "duration": 70,
    "start_time": "2021-11-15T10:23:39.539Z"
   },
   {
    "duration": 57,
    "start_time": "2021-11-15T10:23:39.612Z"
   },
   {
    "duration": 59,
    "start_time": "2021-11-15T10:23:39.672Z"
   },
   {
    "duration": 40,
    "start_time": "2021-11-15T10:23:39.733Z"
   },
   {
    "duration": 59,
    "start_time": "2021-11-15T10:23:39.775Z"
   },
   {
    "duration": 15,
    "start_time": "2021-11-15T10:23:39.837Z"
   },
   {
    "duration": 54,
    "start_time": "2021-11-15T10:23:39.854Z"
   },
   {
    "duration": 60,
    "start_time": "2021-11-15T10:23:39.910Z"
   },
   {
    "duration": 30,
    "start_time": "2021-11-15T10:23:39.972Z"
   },
   {
    "duration": 52,
    "start_time": "2021-11-15T10:23:40.005Z"
   },
   {
    "duration": 97,
    "start_time": "2021-11-15T10:23:40.059Z"
   },
   {
    "duration": 4330,
    "start_time": "2021-11-15T10:23:40.159Z"
   },
   {
    "duration": 55,
    "start_time": "2021-11-15T10:23:44.492Z"
   },
   {
    "duration": 49,
    "start_time": "2021-11-15T10:23:44.549Z"
   },
   {
    "duration": 39,
    "start_time": "2021-11-15T10:23:44.601Z"
   },
   {
    "duration": 986,
    "start_time": "2021-11-15T10:23:44.643Z"
   },
   {
    "duration": 19,
    "start_time": "2021-11-15T10:23:45.631Z"
   },
   {
    "duration": 26,
    "start_time": "2021-11-15T10:23:45.652Z"
   },
   {
    "duration": 54,
    "start_time": "2021-11-15T10:23:45.680Z"
   },
   {
    "duration": 18,
    "start_time": "2021-11-15T10:23:45.736Z"
   },
   {
    "duration": 24,
    "start_time": "2021-11-15T10:23:45.756Z"
   },
   {
    "duration": 49,
    "start_time": "2021-11-15T10:23:45.782Z"
   },
   {
    "duration": 26,
    "start_time": "2021-11-15T10:23:45.833Z"
   },
   {
    "duration": 38,
    "start_time": "2021-11-15T10:23:45.861Z"
   },
   {
    "duration": 37,
    "start_time": "2021-11-15T10:23:45.901Z"
   },
   {
    "duration": 28,
    "start_time": "2021-11-15T10:23:45.941Z"
   },
   {
    "duration": 16,
    "start_time": "2021-11-15T10:23:45.972Z"
   },
   {
    "duration": 46,
    "start_time": "2021-11-15T10:23:45.990Z"
   },
   {
    "duration": 7292,
    "start_time": "2021-11-15T10:23:46.039Z"
   },
   {
    "duration": 122,
    "start_time": "2021-11-15T10:23:53.212Z"
   },
   {
    "duration": 90,
    "start_time": "2021-11-15T10:23:53.245Z"
   },
   {
    "duration": 87,
    "start_time": "2021-11-15T10:23:53.249Z"
   },
   {
    "duration": 83,
    "start_time": "2021-11-15T10:23:53.254Z"
   },
   {
    "duration": 81,
    "start_time": "2021-11-15T10:23:53.258Z"
   },
   {
    "duration": 78,
    "start_time": "2021-11-15T10:23:53.262Z"
   },
   {
    "duration": 20,
    "start_time": "2021-11-15T10:25:24.922Z"
   },
   {
    "duration": 20,
    "start_time": "2021-11-15T10:25:50.387Z"
   },
   {
    "duration": 416,
    "start_time": "2021-11-15T10:30:22.530Z"
   },
   {
    "duration": 396,
    "start_time": "2021-11-15T10:30:30.692Z"
   },
   {
    "duration": 362,
    "start_time": "2021-11-15T10:30:34.514Z"
   },
   {
    "duration": 191,
    "start_time": "2021-11-15T10:30:37.992Z"
   },
   {
    "duration": 6,
    "start_time": "2021-11-15T10:30:41.814Z"
   },
   {
    "duration": 7,
    "start_time": "2021-11-15T10:30:43.730Z"
   },
   {
    "duration": 5,
    "start_time": "2021-11-15T10:30:45.968Z"
   },
   {
    "duration": 18,
    "start_time": "2021-11-15T10:30:54.592Z"
   },
   {
    "duration": 23,
    "start_time": "2021-11-15T10:31:13.268Z"
   },
   {
    "duration": 24,
    "start_time": "2021-11-15T10:33:27.035Z"
   },
   {
    "duration": 366,
    "start_time": "2021-11-15T10:33:55.108Z"
   },
   {
    "duration": 18,
    "start_time": "2021-11-15T10:34:03.862Z"
   },
   {
    "duration": 322,
    "start_time": "2021-11-15T10:34:30.371Z"
   },
   {
    "duration": 20,
    "start_time": "2021-11-15T10:34:54.430Z"
   },
   {
    "duration": 19,
    "start_time": "2021-11-15T10:35:10.816Z"
   },
   {
    "duration": 18,
    "start_time": "2021-11-15T10:37:04.280Z"
   },
   {
    "duration": 18,
    "start_time": "2021-11-15T10:40:16.312Z"
   },
   {
    "duration": 271,
    "start_time": "2021-11-15T10:42:15.826Z"
   },
   {
    "duration": 19,
    "start_time": "2021-11-15T10:42:21.676Z"
   },
   {
    "duration": 103,
    "start_time": "2021-11-15T10:42:28.969Z"
   },
   {
    "duration": 17,
    "start_time": "2021-11-15T10:42:50.526Z"
   },
   {
    "duration": 21,
    "start_time": "2021-11-15T10:44:38.164Z"
   },
   {
    "duration": 19,
    "start_time": "2021-11-15T10:44:59.720Z"
   },
   {
    "duration": 256,
    "start_time": "2021-11-15T10:45:20.333Z"
   },
   {
    "duration": 251,
    "start_time": "2021-11-15T10:45:31.209Z"
   },
   {
    "duration": 230,
    "start_time": "2021-11-15T10:45:39.837Z"
   },
   {
    "duration": 19,
    "start_time": "2021-11-15T10:46:31.968Z"
   },
   {
    "duration": 231,
    "start_time": "2021-11-15T10:46:38.482Z"
   },
   {
    "duration": 257,
    "start_time": "2021-11-15T10:46:54.626Z"
   },
   {
    "duration": 241,
    "start_time": "2021-11-15T10:47:04.783Z"
   },
   {
    "duration": 234,
    "start_time": "2021-11-15T10:47:08.154Z"
   },
   {
    "duration": 244,
    "start_time": "2021-11-15T10:47:22.822Z"
   },
   {
    "duration": 282,
    "start_time": "2021-11-15T10:47:54.193Z"
   },
   {
    "duration": 278,
    "start_time": "2021-11-15T10:48:02.561Z"
   },
   {
    "duration": 268,
    "start_time": "2021-11-15T10:48:11.183Z"
   },
   {
    "duration": 268,
    "start_time": "2021-11-15T10:48:15.439Z"
   },
   {
    "duration": 287,
    "start_time": "2021-11-15T10:48:25.387Z"
   },
   {
    "duration": 279,
    "start_time": "2021-11-15T10:48:30.077Z"
   },
   {
    "duration": 261,
    "start_time": "2021-11-15T10:48:34.185Z"
   },
   {
    "duration": 283,
    "start_time": "2021-11-15T10:48:53.326Z"
   },
   {
    "duration": 279,
    "start_time": "2021-11-15T10:49:00.238Z"
   },
   {
    "duration": 271,
    "start_time": "2021-11-15T10:49:08.081Z"
   },
   {
    "duration": 276,
    "start_time": "2021-11-15T10:49:44.501Z"
   },
   {
    "duration": 294,
    "start_time": "2021-11-15T10:50:14.459Z"
   },
   {
    "duration": 278,
    "start_time": "2021-11-15T10:50:28.900Z"
   },
   {
    "duration": 288,
    "start_time": "2021-11-15T10:50:32.677Z"
   },
   {
    "duration": 313,
    "start_time": "2021-11-15T10:50:35.644Z"
   },
   {
    "duration": 326,
    "start_time": "2021-11-15T10:50:38.366Z"
   },
   {
    "duration": 290,
    "start_time": "2021-11-15T10:50:41.208Z"
   },
   {
    "duration": 468,
    "start_time": "2021-11-15T10:50:44.080Z"
   },
   {
    "duration": 306,
    "start_time": "2021-11-15T10:51:04.549Z"
   },
   {
    "duration": 294,
    "start_time": "2021-11-15T10:52:18.668Z"
   },
   {
    "duration": 349,
    "start_time": "2021-11-15T10:52:21.793Z"
   },
   {
    "duration": 296,
    "start_time": "2021-11-15T10:52:24.606Z"
   },
   {
    "duration": 21,
    "start_time": "2021-11-15T10:53:44.033Z"
   },
   {
    "duration": 9157,
    "start_time": "2021-11-15T10:54:58.706Z"
   },
   {
    "duration": 8321,
    "start_time": "2021-11-15T10:56:25.212Z"
   },
   {
    "duration": 17,
    "start_time": "2021-11-15T10:56:40.336Z"
   },
   {
    "duration": 349,
    "start_time": "2021-11-15T10:57:06.841Z"
   },
   {
    "duration": 390,
    "start_time": "2021-11-15T10:57:51.456Z"
   },
   {
    "duration": 385,
    "start_time": "2021-11-15T10:58:22.666Z"
   },
   {
    "duration": 375,
    "start_time": "2021-11-15T10:59:10.746Z"
   },
   {
    "duration": 393,
    "start_time": "2021-11-15T11:00:03.118Z"
   },
   {
    "duration": 381,
    "start_time": "2021-11-15T11:00:20.922Z"
   },
   {
    "duration": 384,
    "start_time": "2021-11-15T11:01:00.095Z"
   },
   {
    "duration": 419,
    "start_time": "2021-11-15T11:01:08.637Z"
   },
   {
    "duration": 390,
    "start_time": "2021-11-15T11:01:36.944Z"
   },
   {
    "duration": 395,
    "start_time": "2021-11-15T11:02:13.885Z"
   },
   {
    "duration": 437,
    "start_time": "2021-11-15T11:03:38.473Z"
   },
   {
    "duration": 382,
    "start_time": "2021-11-15T11:03:49.473Z"
   },
   {
    "duration": 388,
    "start_time": "2021-11-15T11:03:57.653Z"
   },
   {
    "duration": 438,
    "start_time": "2021-11-15T11:04:02.844Z"
   },
   {
    "duration": 398,
    "start_time": "2021-11-15T11:04:07.551Z"
   },
   {
    "duration": 431,
    "start_time": "2021-11-15T11:04:15.005Z"
   },
   {
    "duration": 391,
    "start_time": "2021-11-15T11:04:56.904Z"
   },
   {
    "duration": 391,
    "start_time": "2021-11-15T11:05:17.700Z"
   },
   {
    "duration": 374,
    "start_time": "2021-11-15T11:05:44.779Z"
   },
   {
    "duration": 192,
    "start_time": "2021-11-15T11:11:49.589Z"
   },
   {
    "duration": 112,
    "start_time": "2021-11-15T11:15:04.400Z"
   },
   {
    "duration": 19,
    "start_time": "2021-11-15T11:32:44.340Z"
   },
   {
    "duration": 7,
    "start_time": "2021-11-15T11:32:58.350Z"
   },
   {
    "duration": 9,
    "start_time": "2021-11-15T11:35:30.268Z"
   },
   {
    "duration": 108,
    "start_time": "2021-11-15T11:47:32.148Z"
   },
   {
    "duration": 9,
    "start_time": "2021-11-15T11:52:04.659Z"
   },
   {
    "duration": 20,
    "start_time": "2021-11-15T11:52:24.194Z"
   },
   {
    "duration": 294,
    "start_time": "2021-11-15T11:52:31.149Z"
   },
   {
    "duration": 20,
    "start_time": "2021-11-15T11:52:59.091Z"
   },
   {
    "duration": 33,
    "start_time": "2021-11-15T11:53:22.759Z"
   },
   {
    "duration": 28,
    "start_time": "2021-11-15T11:53:35.687Z"
   },
   {
    "duration": 19,
    "start_time": "2021-11-15T11:53:58.900Z"
   },
   {
    "duration": 5,
    "start_time": "2021-11-15T11:54:06.562Z"
   },
   {
    "duration": 46,
    "start_time": "2021-11-15T11:54:06.569Z"
   },
   {
    "duration": 327,
    "start_time": "2021-11-15T11:54:06.618Z"
   },
   {
    "duration": 153,
    "start_time": "2021-11-15T11:54:06.949Z"
   },
   {
    "duration": 207,
    "start_time": "2021-11-15T11:54:07.105Z"
   },
   {
    "duration": 30,
    "start_time": "2021-11-15T11:54:07.315Z"
   },
   {
    "duration": 20,
    "start_time": "2021-11-15T11:54:07.348Z"
   },
   {
    "duration": 32,
    "start_time": "2021-11-15T11:54:07.370Z"
   },
   {
    "duration": 37,
    "start_time": "2021-11-15T11:54:07.405Z"
   },
   {
    "duration": 20,
    "start_time": "2021-11-15T11:54:07.445Z"
   },
   {
    "duration": 42,
    "start_time": "2021-11-15T11:54:07.468Z"
   },
   {
    "duration": 20,
    "start_time": "2021-11-15T11:54:07.512Z"
   },
   {
    "duration": 11,
    "start_time": "2021-11-15T11:54:07.535Z"
   },
   {
    "duration": 10,
    "start_time": "2021-11-15T11:54:07.549Z"
   },
   {
    "duration": 18,
    "start_time": "2021-11-15T11:54:07.562Z"
   },
   {
    "duration": 18,
    "start_time": "2021-11-15T11:54:07.583Z"
   },
   {
    "duration": 257,
    "start_time": "2021-11-15T11:54:07.628Z"
   },
   {
    "duration": 134,
    "start_time": "2021-11-15T11:54:07.887Z"
   },
   {
    "duration": 173,
    "start_time": "2021-11-15T11:54:08.031Z"
   },
   {
    "duration": 9,
    "start_time": "2021-11-15T11:54:08.207Z"
   },
   {
    "duration": 347,
    "start_time": "2021-11-15T11:54:08.230Z"
   },
   {
    "duration": 113,
    "start_time": "2021-11-15T11:54:08.580Z"
   },
   {
    "duration": 178,
    "start_time": "2021-11-15T11:54:08.695Z"
   },
   {
    "duration": 7,
    "start_time": "2021-11-15T11:54:08.875Z"
   },
   {
    "duration": 26,
    "start_time": "2021-11-15T11:54:08.884Z"
   },
   {
    "duration": 24,
    "start_time": "2021-11-15T11:54:08.912Z"
   },
   {
    "duration": 24,
    "start_time": "2021-11-15T11:54:08.939Z"
   },
   {
    "duration": 86,
    "start_time": "2021-11-15T11:54:08.965Z"
   },
   {
    "duration": 48,
    "start_time": "2021-11-15T11:54:09.053Z"
   },
   {
    "duration": 54,
    "start_time": "2021-11-15T11:54:09.103Z"
   },
   {
    "duration": 39,
    "start_time": "2021-11-15T11:54:09.160Z"
   },
   {
    "duration": 61,
    "start_time": "2021-11-15T11:54:09.201Z"
   },
   {
    "duration": 16,
    "start_time": "2021-11-15T11:54:09.264Z"
   },
   {
    "duration": 76,
    "start_time": "2021-11-15T11:54:09.282Z"
   },
   {
    "duration": 44,
    "start_time": "2021-11-15T11:54:09.361Z"
   },
   {
    "duration": 46,
    "start_time": "2021-11-15T11:54:09.408Z"
   },
   {
    "duration": 31,
    "start_time": "2021-11-15T11:54:09.457Z"
   },
   {
    "duration": 103,
    "start_time": "2021-11-15T11:54:09.490Z"
   },
   {
    "duration": 4205,
    "start_time": "2021-11-15T11:54:09.595Z"
   },
   {
    "duration": 50,
    "start_time": "2021-11-15T11:54:13.802Z"
   },
   {
    "duration": 50,
    "start_time": "2021-11-15T11:54:13.855Z"
   },
   {
    "duration": 41,
    "start_time": "2021-11-15T11:54:13.907Z"
   },
   {
    "duration": 1177,
    "start_time": "2021-11-15T11:54:13.951Z"
   },
   {
    "duration": 20,
    "start_time": "2021-11-15T11:54:15.130Z"
   },
   {
    "duration": 26,
    "start_time": "2021-11-15T11:54:15.152Z"
   },
   {
    "duration": 59,
    "start_time": "2021-11-15T11:54:15.180Z"
   },
   {
    "duration": 34,
    "start_time": "2021-11-15T11:54:15.241Z"
   },
   {
    "duration": 39,
    "start_time": "2021-11-15T11:54:15.277Z"
   },
   {
    "duration": 45,
    "start_time": "2021-11-15T11:54:15.318Z"
   },
   {
    "duration": 66,
    "start_time": "2021-11-15T11:54:15.365Z"
   },
   {
    "duration": 21,
    "start_time": "2021-11-15T11:54:15.434Z"
   },
   {
    "duration": 39,
    "start_time": "2021-11-15T11:54:15.457Z"
   },
   {
    "duration": 68,
    "start_time": "2021-11-15T11:54:15.498Z"
   },
   {
    "duration": 25,
    "start_time": "2021-11-15T11:54:15.568Z"
   },
   {
    "duration": 37,
    "start_time": "2021-11-15T11:54:15.600Z"
   },
   {
    "duration": 27,
    "start_time": "2021-11-15T11:54:15.641Z"
   },
   {
    "duration": 470,
    "start_time": "2021-11-15T11:54:15.671Z"
   },
   {
    "duration": 415,
    "start_time": "2021-11-15T11:54:16.143Z"
   },
   {
    "duration": 427,
    "start_time": "2021-11-15T11:54:16.561Z"
   },
   {
    "duration": 216,
    "start_time": "2021-11-15T11:54:16.990Z"
   },
   {
    "duration": 20,
    "start_time": "2021-11-15T11:54:17.208Z"
   },
   {
    "duration": 8,
    "start_time": "2021-11-15T11:54:17.231Z"
   },
   {
    "duration": 15,
    "start_time": "2021-11-15T11:54:17.242Z"
   },
   {
    "duration": 403,
    "start_time": "2021-11-15T11:54:17.260Z"
   },
   {
    "duration": 428,
    "start_time": "2021-11-15T11:54:17.666Z"
   },
   {
    "duration": 406,
    "start_time": "2021-11-15T11:54:18.097Z"
   },
   {
    "duration": 442,
    "start_time": "2021-11-15T11:54:18.505Z"
   },
   {
    "duration": 406,
    "start_time": "2021-11-15T11:54:18.950Z"
   },
   {
    "duration": 428,
    "start_time": "2021-11-15T11:54:19.359Z"
   },
   {
    "duration": 401,
    "start_time": "2021-11-15T11:54:19.790Z"
   },
   {
    "duration": 390,
    "start_time": "2021-11-15T11:54:20.193Z"
   },
   {
    "duration": 424,
    "start_time": "2021-11-15T11:54:20.585Z"
   },
   {
    "duration": 17,
    "start_time": "2021-11-15T11:54:21.012Z"
   },
   {
    "duration": 20,
    "start_time": "2021-11-15T12:12:32.255Z"
   },
   {
    "duration": 5,
    "start_time": "2021-11-15T12:12:43.724Z"
   },
   {
    "duration": 50,
    "start_time": "2021-11-15T12:12:43.731Z"
   },
   {
    "duration": 286,
    "start_time": "2021-11-15T12:12:43.784Z"
   },
   {
    "duration": 156,
    "start_time": "2021-11-15T12:12:44.073Z"
   },
   {
    "duration": 206,
    "start_time": "2021-11-15T12:12:44.231Z"
   },
   {
    "duration": 30,
    "start_time": "2021-11-15T12:12:44.439Z"
   },
   {
    "duration": 11,
    "start_time": "2021-11-15T12:12:44.472Z"
   },
   {
    "duration": 31,
    "start_time": "2021-11-15T12:12:44.485Z"
   },
   {
    "duration": 26,
    "start_time": "2021-11-15T12:12:44.529Z"
   },
   {
    "duration": 19,
    "start_time": "2021-11-15T12:12:44.558Z"
   },
   {
    "duration": 50,
    "start_time": "2021-11-15T12:12:44.580Z"
   },
   {
    "duration": 7,
    "start_time": "2021-11-15T12:12:44.633Z"
   },
   {
    "duration": 15,
    "start_time": "2021-11-15T12:12:44.642Z"
   },
   {
    "duration": 13,
    "start_time": "2021-11-15T12:12:44.659Z"
   },
   {
    "duration": 17,
    "start_time": "2021-11-15T12:12:44.674Z"
   },
   {
    "duration": 15,
    "start_time": "2021-11-15T12:12:44.694Z"
   },
   {
    "duration": 249,
    "start_time": "2021-11-15T12:12:44.712Z"
   },
   {
    "duration": 145,
    "start_time": "2021-11-15T12:12:44.963Z"
   },
   {
    "duration": 186,
    "start_time": "2021-11-15T12:12:45.110Z"
   },
   {
    "duration": 9,
    "start_time": "2021-11-15T12:12:45.298Z"
   },
   {
    "duration": 257,
    "start_time": "2021-11-15T12:12:45.310Z"
   },
   {
    "duration": 118,
    "start_time": "2021-11-15T12:12:45.570Z"
   },
   {
    "duration": 173,
    "start_time": "2021-11-15T12:12:45.691Z"
   },
   {
    "duration": 10,
    "start_time": "2021-11-15T12:12:45.867Z"
   },
   {
    "duration": 22,
    "start_time": "2021-11-15T12:12:45.880Z"
   },
   {
    "duration": 24,
    "start_time": "2021-11-15T12:12:45.905Z"
   },
   {
    "duration": 37,
    "start_time": "2021-11-15T12:12:45.938Z"
   },
   {
    "duration": 66,
    "start_time": "2021-11-15T12:12:45.980Z"
   },
   {
    "duration": 48,
    "start_time": "2021-11-15T12:12:46.048Z"
   },
   {
    "duration": 62,
    "start_time": "2021-11-15T12:12:46.099Z"
   },
   {
    "duration": 39,
    "start_time": "2021-11-15T12:12:46.163Z"
   },
   {
    "duration": 60,
    "start_time": "2021-11-15T12:12:46.205Z"
   },
   {
    "duration": 16,
    "start_time": "2021-11-15T12:12:46.267Z"
   },
   {
    "duration": 68,
    "start_time": "2021-11-15T12:12:46.285Z"
   },
   {
    "duration": 46,
    "start_time": "2021-11-15T12:12:46.355Z"
   },
   {
    "duration": 45,
    "start_time": "2021-11-15T12:12:46.403Z"
   },
   {
    "duration": 32,
    "start_time": "2021-11-15T12:12:46.450Z"
   },
   {
    "duration": 101,
    "start_time": "2021-11-15T12:12:46.484Z"
   },
   {
    "duration": 3621,
    "start_time": "2021-11-15T12:12:46.587Z"
   },
   {
    "duration": 53,
    "start_time": "2021-11-15T12:12:50.210Z"
   },
   {
    "duration": 67,
    "start_time": "2021-11-15T12:12:50.265Z"
   },
   {
    "duration": 25,
    "start_time": "2021-11-15T12:12:50.334Z"
   },
   {
    "duration": 1173,
    "start_time": "2021-11-15T12:12:50.361Z"
   },
   {
    "duration": 21,
    "start_time": "2021-11-15T12:12:51.537Z"
   },
   {
    "duration": 27,
    "start_time": "2021-11-15T12:12:51.560Z"
   },
   {
    "duration": 56,
    "start_time": "2021-11-15T12:12:51.590Z"
   },
   {
    "duration": 18,
    "start_time": "2021-11-15T12:12:51.649Z"
   },
   {
    "duration": 33,
    "start_time": "2021-11-15T12:12:51.669Z"
   },
   {
    "duration": 46,
    "start_time": "2021-11-15T12:12:51.704Z"
   },
   {
    "duration": 27,
    "start_time": "2021-11-15T12:12:51.752Z"
   },
   {
    "duration": 22,
    "start_time": "2021-11-15T12:12:51.782Z"
   },
   {
    "duration": 49,
    "start_time": "2021-11-15T12:12:51.806Z"
   },
   {
    "duration": 46,
    "start_time": "2021-11-15T12:12:51.858Z"
   },
   {
    "duration": 24,
    "start_time": "2021-11-15T12:12:51.906Z"
   },
   {
    "duration": 26,
    "start_time": "2021-11-15T12:12:51.932Z"
   },
   {
    "duration": 31,
    "start_time": "2021-11-15T12:12:51.960Z"
   },
   {
    "duration": 394,
    "start_time": "2021-11-15T12:12:51.993Z"
   },
   {
    "duration": 402,
    "start_time": "2021-11-15T12:12:52.389Z"
   },
   {
    "duration": 383,
    "start_time": "2021-11-15T12:12:52.793Z"
   },
   {
    "duration": 216,
    "start_time": "2021-11-15T12:12:53.178Z"
   },
   {
    "duration": 7,
    "start_time": "2021-11-15T12:12:53.397Z"
   },
   {
    "duration": 27,
    "start_time": "2021-11-15T12:12:53.407Z"
   },
   {
    "duration": 14,
    "start_time": "2021-11-15T12:12:53.436Z"
   },
   {
    "duration": 417,
    "start_time": "2021-11-15T12:12:53.453Z"
   },
   {
    "duration": 422,
    "start_time": "2021-11-15T12:12:53.873Z"
   },
   {
    "duration": 400,
    "start_time": "2021-11-15T12:12:54.297Z"
   },
   {
    "duration": 444,
    "start_time": "2021-11-15T12:12:54.699Z"
   },
   {
    "duration": 427,
    "start_time": "2021-11-15T12:12:55.145Z"
   },
   {
    "duration": 417,
    "start_time": "2021-11-15T12:12:55.574Z"
   },
   {
    "duration": 394,
    "start_time": "2021-11-15T12:12:55.993Z"
   },
   {
    "duration": 398,
    "start_time": "2021-11-15T12:12:56.390Z"
   },
   {
    "duration": 416,
    "start_time": "2021-11-15T12:12:56.791Z"
   },
   {
    "duration": 8,
    "start_time": "2021-11-15T12:13:00.596Z"
   },
   {
    "duration": 21,
    "start_time": "2021-11-15T12:13:04.027Z"
   },
   {
    "duration": 5,
    "start_time": "2021-11-15T12:14:03.331Z"
   },
   {
    "duration": 296,
    "start_time": "2021-11-15T12:14:06.192Z"
   },
   {
    "duration": 20,
    "start_time": "2021-11-15T12:15:09.991Z"
   },
   {
    "duration": 5,
    "start_time": "2021-11-15T12:15:24.545Z"
   },
   {
    "duration": 6,
    "start_time": "2021-11-15T12:15:33.861Z"
   },
   {
    "duration": 19,
    "start_time": "2021-11-15T12:15:46.940Z"
   },
   {
    "duration": 410,
    "start_time": "2021-11-15T12:16:06.031Z"
   },
   {
    "duration": 301,
    "start_time": "2021-11-15T12:16:08.062Z"
   },
   {
    "duration": 21,
    "start_time": "2021-11-15T12:16:12.277Z"
   },
   {
    "duration": 7520,
    "start_time": "2021-11-15T12:16:34.885Z"
   },
   {
    "duration": 3644,
    "start_time": "2021-11-15T12:16:45.368Z"
   },
   {
    "duration": -2,
    "start_time": "2021-11-15T12:17:06.518Z"
   },
   {
    "duration": 14,
    "start_time": "2021-11-15T12:17:08.984Z"
   },
   {
    "duration": 7,
    "start_time": "2021-11-15T12:17:33.735Z"
   },
   {
    "duration": 31,
    "start_time": "2021-11-15T12:18:23.452Z"
   },
   {
    "duration": 27,
    "start_time": "2021-11-15T12:21:14.383Z"
   },
   {
    "duration": 5431,
    "start_time": "2021-11-15T12:21:37.353Z"
   },
   {
    "duration": 7802,
    "start_time": "2021-11-15T12:22:01.806Z"
   },
   {
    "duration": 27,
    "start_time": "2021-11-15T12:22:12.688Z"
   },
   {
    "duration": 6145,
    "start_time": "2021-11-15T12:22:33.629Z"
   },
   {
    "duration": -22,
    "start_time": "2021-11-15T12:22:39.799Z"
   },
   {
    "duration": 14,
    "start_time": "2021-11-15T12:22:45.727Z"
   },
   {
    "duration": 12,
    "start_time": "2021-11-15T12:22:49.019Z"
   },
   {
    "duration": 11,
    "start_time": "2021-11-15T12:22:59.027Z"
   },
   {
    "duration": 8436,
    "start_time": "2021-11-15T12:24:22.781Z"
   },
   {
    "duration": 307,
    "start_time": "2021-11-15T12:26:03.319Z"
   },
   {
    "duration": 8,
    "start_time": "2021-11-15T12:26:19.959Z"
   },
   {
    "duration": 31,
    "start_time": "2021-11-15T12:26:26.006Z"
   },
   {
    "duration": 28,
    "start_time": "2021-11-15T12:27:37.446Z"
   },
   {
    "duration": 9,
    "start_time": "2021-11-15T13:01:23.356Z"
   },
   {
    "duration": 5,
    "start_time": "2021-11-15T13:01:32.020Z"
   },
   {
    "duration": 5,
    "start_time": "2021-11-15T13:01:40.571Z"
   },
   {
    "duration": 10,
    "start_time": "2021-11-15T13:03:37.874Z"
   },
   {
    "duration": 310,
    "start_time": "2021-11-15T13:04:51.761Z"
   },
   {
    "duration": 12,
    "start_time": "2021-11-15T13:05:07.248Z"
   },
   {
    "duration": 6,
    "start_time": "2021-11-15T13:05:10.128Z"
   },
   {
    "duration": 6,
    "start_time": "2021-11-15T13:05:11.744Z"
   },
   {
    "duration": 9,
    "start_time": "2021-11-15T13:05:13.921Z"
   },
   {
    "duration": 18,
    "start_time": "2021-11-15T13:05:23.241Z"
   },
   {
    "duration": 8,
    "start_time": "2021-11-15T13:05:28.909Z"
   },
   {
    "duration": 311,
    "start_time": "2021-11-15T13:05:53.320Z"
   },
   {
    "duration": 8,
    "start_time": "2021-11-15T13:05:58.881Z"
   },
   {
    "duration": 9,
    "start_time": "2021-11-15T13:06:11.526Z"
   },
   {
    "duration": 8,
    "start_time": "2021-11-15T13:06:26.292Z"
   },
   {
    "duration": 8,
    "start_time": "2021-11-15T13:06:40.292Z"
   },
   {
    "duration": 8,
    "start_time": "2021-11-15T13:06:51.504Z"
   },
   {
    "duration": 8,
    "start_time": "2021-11-15T13:07:18.493Z"
   },
   {
    "duration": 8,
    "start_time": "2021-11-15T13:07:43.695Z"
   },
   {
    "duration": 8,
    "start_time": "2021-11-15T13:07:49.414Z"
   },
   {
    "duration": 8,
    "start_time": "2021-11-15T13:08:17.881Z"
   },
   {
    "duration": 8,
    "start_time": "2021-11-15T13:08:33.507Z"
   },
   {
    "duration": 7,
    "start_time": "2021-11-15T13:08:52.365Z"
   },
   {
    "duration": 8,
    "start_time": "2021-11-15T13:08:58.493Z"
   },
   {
    "duration": 22,
    "start_time": "2021-11-15T13:35:45.316Z"
   },
   {
    "duration": 10,
    "start_time": "2021-11-15T13:36:41.997Z"
   },
   {
    "duration": 7,
    "start_time": "2021-11-15T13:36:55.982Z"
   },
   {
    "duration": 8,
    "start_time": "2021-11-15T13:37:30.590Z"
   },
   {
    "duration": 20,
    "start_time": "2021-11-15T13:38:15.231Z"
   },
   {
    "duration": 654,
    "start_time": "2021-11-15T13:39:56.793Z"
   },
   {
    "duration": 658,
    "start_time": "2021-11-15T13:40:00.627Z"
   },
   {
    "duration": 761,
    "start_time": "2021-11-15T13:40:26.925Z"
   },
   {
    "duration": 9,
    "start_time": "2021-11-15T13:40:57.312Z"
   },
   {
    "duration": 7658,
    "start_time": "2021-11-15T13:42:46.615Z"
   },
   {
    "duration": 39,
    "start_time": "2021-11-15T13:44:11.996Z"
   },
   {
    "duration": 430,
    "start_time": "2021-11-15T13:44:33.335Z"
   },
   {
    "duration": 853,
    "start_time": "2021-11-15T13:44:47.063Z"
   },
   {
    "duration": 387,
    "start_time": "2021-11-15T13:45:27.611Z"
   },
   {
    "duration": 23,
    "start_time": "2021-11-15T13:47:01.701Z"
   },
   {
    "duration": 22,
    "start_time": "2021-11-15T13:47:11.485Z"
   },
   {
    "duration": 409,
    "start_time": "2021-11-15T13:47:38.751Z"
   },
   {
    "duration": 24,
    "start_time": "2021-11-15T13:48:10.913Z"
   },
   {
    "duration": 4,
    "start_time": "2021-11-15T13:48:27.465Z"
   },
   {
    "duration": 41,
    "start_time": "2021-11-15T13:48:27.501Z"
   },
   {
    "duration": 255,
    "start_time": "2021-11-15T13:48:27.545Z"
   },
   {
    "duration": 161,
    "start_time": "2021-11-15T13:48:27.802Z"
   },
   {
    "duration": 197,
    "start_time": "2021-11-15T13:48:27.966Z"
   },
   {
    "duration": 30,
    "start_time": "2021-11-15T13:48:28.165Z"
   },
   {
    "duration": 11,
    "start_time": "2021-11-15T13:48:28.198Z"
   },
   {
    "duration": 16,
    "start_time": "2021-11-15T13:48:28.229Z"
   },
   {
    "duration": 32,
    "start_time": "2021-11-15T13:48:28.249Z"
   },
   {
    "duration": 17,
    "start_time": "2021-11-15T13:48:28.284Z"
   },
   {
    "duration": 22,
    "start_time": "2021-11-15T13:48:28.329Z"
   },
   {
    "duration": 8,
    "start_time": "2021-11-15T13:48:28.353Z"
   },
   {
    "duration": 12,
    "start_time": "2021-11-15T13:48:28.363Z"
   },
   {
    "duration": 11,
    "start_time": "2021-11-15T13:48:28.377Z"
   },
   {
    "duration": 39,
    "start_time": "2021-11-15T13:48:28.390Z"
   },
   {
    "duration": 7,
    "start_time": "2021-11-15T13:48:28.431Z"
   },
   {
    "duration": 230,
    "start_time": "2021-11-15T13:48:28.440Z"
   },
   {
    "duration": 134,
    "start_time": "2021-11-15T13:48:28.672Z"
   },
   {
    "duration": 184,
    "start_time": "2021-11-15T13:48:28.808Z"
   },
   {
    "duration": 11,
    "start_time": "2021-11-15T13:48:28.994Z"
   },
   {
    "duration": 259,
    "start_time": "2021-11-15T13:48:29.007Z"
   },
   {
    "duration": 119,
    "start_time": "2021-11-15T13:48:29.269Z"
   },
   {
    "duration": 157,
    "start_time": "2021-11-15T13:48:29.391Z"
   },
   {
    "duration": 7,
    "start_time": "2021-11-15T13:48:29.557Z"
   },
   {
    "duration": 12,
    "start_time": "2021-11-15T13:48:29.569Z"
   },
   {
    "duration": 10,
    "start_time": "2021-11-15T13:48:29.583Z"
   },
   {
    "duration": 50,
    "start_time": "2021-11-15T13:48:29.595Z"
   },
   {
    "duration": 82,
    "start_time": "2021-11-15T13:48:29.647Z"
   },
   {
    "duration": 48,
    "start_time": "2021-11-15T13:48:29.731Z"
   },
   {
    "duration": 59,
    "start_time": "2021-11-15T13:48:29.781Z"
   },
   {
    "duration": 38,
    "start_time": "2021-11-15T13:48:29.843Z"
   },
   {
    "duration": 62,
    "start_time": "2021-11-15T13:48:29.883Z"
   },
   {
    "duration": 15,
    "start_time": "2021-11-15T13:48:29.947Z"
   },
   {
    "duration": 68,
    "start_time": "2021-11-15T13:48:29.965Z"
   },
   {
    "duration": 46,
    "start_time": "2021-11-15T13:48:30.036Z"
   },
   {
    "duration": 57,
    "start_time": "2021-11-15T13:48:30.085Z"
   },
   {
    "duration": 35,
    "start_time": "2021-11-15T13:48:30.145Z"
   },
   {
    "duration": 115,
    "start_time": "2021-11-15T13:48:30.183Z"
   },
   {
    "duration": 4069,
    "start_time": "2021-11-15T13:48:30.301Z"
   },
   {
    "duration": 57,
    "start_time": "2021-11-15T13:48:34.372Z"
   },
   {
    "duration": 50,
    "start_time": "2021-11-15T13:48:34.432Z"
   },
   {
    "duration": 47,
    "start_time": "2021-11-15T13:48:34.484Z"
   },
   {
    "duration": 954,
    "start_time": "2021-11-15T13:48:34.534Z"
   },
   {
    "duration": 20,
    "start_time": "2021-11-15T13:48:35.491Z"
   },
   {
    "duration": 27,
    "start_time": "2021-11-15T13:48:35.530Z"
   },
   {
    "duration": 26,
    "start_time": "2021-11-15T13:48:35.560Z"
   },
   {
    "duration": 43,
    "start_time": "2021-11-15T13:48:35.588Z"
   },
   {
    "duration": 22,
    "start_time": "2021-11-15T13:48:35.634Z"
   },
   {
    "duration": 26,
    "start_time": "2021-11-15T13:48:35.658Z"
   },
   {
    "duration": 56,
    "start_time": "2021-11-15T13:48:35.687Z"
   },
   {
    "duration": 23,
    "start_time": "2021-11-15T13:48:35.746Z"
   },
   {
    "duration": 29,
    "start_time": "2021-11-15T13:48:35.771Z"
   },
   {
    "duration": 29,
    "start_time": "2021-11-15T13:48:35.829Z"
   },
   {
    "duration": 58,
    "start_time": "2021-11-15T13:48:35.860Z"
   },
   {
    "duration": 26,
    "start_time": "2021-11-15T13:48:35.920Z"
   },
   {
    "duration": 7279,
    "start_time": "2021-11-15T13:48:42.897Z"
   },
   {
    "duration": 392,
    "start_time": "2021-11-15T13:50:13.327Z"
   },
   {
    "duration": 24,
    "start_time": "2021-11-15T13:50:31.792Z"
   },
   {
    "duration": 388,
    "start_time": "2021-11-15T13:53:35.554Z"
   },
   {
    "duration": 5,
    "start_time": "2021-11-15T13:53:44.632Z"
   },
   {
    "duration": 52,
    "start_time": "2021-11-15T13:53:44.641Z"
   },
   {
    "duration": 290,
    "start_time": "2021-11-15T13:53:44.698Z"
   },
   {
    "duration": 161,
    "start_time": "2021-11-15T13:53:44.992Z"
   },
   {
    "duration": 200,
    "start_time": "2021-11-15T13:53:45.156Z"
   },
   {
    "duration": 28,
    "start_time": "2021-11-15T13:53:45.358Z"
   },
   {
    "duration": 12,
    "start_time": "2021-11-15T13:53:45.389Z"
   },
   {
    "duration": 37,
    "start_time": "2021-11-15T13:53:45.404Z"
   },
   {
    "duration": 37,
    "start_time": "2021-11-15T13:53:45.447Z"
   },
   {
    "duration": 19,
    "start_time": "2021-11-15T13:53:45.488Z"
   },
   {
    "duration": 43,
    "start_time": "2021-11-15T13:53:45.509Z"
   },
   {
    "duration": 9,
    "start_time": "2021-11-15T13:53:45.555Z"
   },
   {
    "duration": 16,
    "start_time": "2021-11-15T13:53:45.567Z"
   },
   {
    "duration": 12,
    "start_time": "2021-11-15T13:53:45.585Z"
   },
   {
    "duration": 34,
    "start_time": "2021-11-15T13:53:45.599Z"
   },
   {
    "duration": 17,
    "start_time": "2021-11-15T13:53:45.635Z"
   },
   {
    "duration": 232,
    "start_time": "2021-11-15T13:53:45.655Z"
   },
   {
    "duration": 142,
    "start_time": "2021-11-15T13:53:45.889Z"
   },
   {
    "duration": 174,
    "start_time": "2021-11-15T13:53:46.033Z"
   },
   {
    "duration": 21,
    "start_time": "2021-11-15T13:53:46.210Z"
   },
   {
    "duration": 239,
    "start_time": "2021-11-15T13:53:46.233Z"
   },
   {
    "duration": 105,
    "start_time": "2021-11-15T13:53:46.474Z"
   },
   {
    "duration": 155,
    "start_time": "2021-11-15T13:53:46.582Z"
   },
   {
    "duration": 8,
    "start_time": "2021-11-15T13:53:46.740Z"
   },
   {
    "duration": 20,
    "start_time": "2021-11-15T13:53:46.751Z"
   },
   {
    "duration": 8,
    "start_time": "2021-11-15T13:53:46.774Z"
   },
   {
    "duration": 40,
    "start_time": "2021-11-15T13:53:46.789Z"
   },
   {
    "duration": 64,
    "start_time": "2021-11-15T13:53:46.834Z"
   },
   {
    "duration": 67,
    "start_time": "2021-11-15T13:53:46.901Z"
   },
   {
    "duration": 60,
    "start_time": "2021-11-15T13:53:46.970Z"
   },
   {
    "duration": 39,
    "start_time": "2021-11-15T13:53:47.033Z"
   },
   {
    "duration": 59,
    "start_time": "2021-11-15T13:53:47.074Z"
   },
   {
    "duration": 16,
    "start_time": "2021-11-15T13:53:47.135Z"
   },
   {
    "duration": 52,
    "start_time": "2021-11-15T13:53:47.153Z"
   },
   {
    "duration": 59,
    "start_time": "2021-11-15T13:53:47.207Z"
   },
   {
    "duration": 30,
    "start_time": "2021-11-15T13:53:47.268Z"
   },
   {
    "duration": 51,
    "start_time": "2021-11-15T13:53:47.301Z"
   },
   {
    "duration": 92,
    "start_time": "2021-11-15T13:53:47.354Z"
   },
   {
    "duration": 3870,
    "start_time": "2021-11-15T13:53:47.449Z"
   },
   {
    "duration": 50,
    "start_time": "2021-11-15T13:53:51.322Z"
   },
   {
    "duration": 70,
    "start_time": "2021-11-15T13:53:51.374Z"
   },
   {
    "duration": 25,
    "start_time": "2021-11-15T13:53:51.446Z"
   },
   {
    "duration": 993,
    "start_time": "2021-11-15T13:53:51.473Z"
   },
   {
    "duration": 20,
    "start_time": "2021-11-15T13:53:52.469Z"
   },
   {
    "duration": 41,
    "start_time": "2021-11-15T13:53:52.491Z"
   },
   {
    "duration": 26,
    "start_time": "2021-11-15T13:53:52.534Z"
   },
   {
    "duration": 19,
    "start_time": "2021-11-15T13:53:52.562Z"
   },
   {
    "duration": 53,
    "start_time": "2021-11-15T13:53:52.584Z"
   },
   {
    "duration": 26,
    "start_time": "2021-11-15T13:53:52.639Z"
   },
   {
    "duration": 61,
    "start_time": "2021-11-15T13:53:52.668Z"
   },
   {
    "duration": 22,
    "start_time": "2021-11-15T13:53:52.731Z"
   },
   {
    "duration": 35,
    "start_time": "2021-11-15T13:53:52.755Z"
   },
   {
    "duration": 29,
    "start_time": "2021-11-15T13:53:52.792Z"
   },
   {
    "duration": 21,
    "start_time": "2021-11-15T13:53:52.829Z"
   },
   {
    "duration": 20,
    "start_time": "2021-11-15T13:53:52.853Z"
   },
   {
    "duration": 7834,
    "start_time": "2021-11-15T13:53:57.043Z"
   },
   {
    "duration": 501,
    "start_time": "2021-11-15T13:54:34.886Z"
   },
   {
    "duration": 454,
    "start_time": "2021-11-15T13:56:10.855Z"
   },
   {
    "duration": 518,
    "start_time": "2021-11-15T13:59:04.315Z"
   },
   {
    "duration": 631,
    "start_time": "2021-11-15T13:59:20.931Z"
   },
   {
    "duration": 449,
    "start_time": "2021-11-15T13:59:25.413Z"
   },
   {
    "duration": 650,
    "start_time": "2021-11-15T13:59:31.258Z"
   },
   {
    "duration": 447,
    "start_time": "2021-11-15T14:00:04.674Z"
   },
   {
    "duration": 461,
    "start_time": "2021-11-15T14:00:14.945Z"
   },
   {
    "duration": 457,
    "start_time": "2021-11-15T14:00:44.733Z"
   },
   {
    "duration": 438,
    "start_time": "2021-11-15T14:00:54.107Z"
   },
   {
    "duration": 388,
    "start_time": "2021-11-15T14:01:37.101Z"
   },
   {
    "duration": 398,
    "start_time": "2021-11-15T14:01:43.313Z"
   },
   {
    "duration": 193,
    "start_time": "2021-11-15T14:01:48.868Z"
   },
   {
    "duration": 399,
    "start_time": "2021-11-15T14:02:01.875Z"
   },
   {
    "duration": 400,
    "start_time": "2021-11-15T14:02:04.601Z"
   },
   {
    "duration": 404,
    "start_time": "2021-11-15T14:02:48.638Z"
   },
   {
    "duration": 559,
    "start_time": "2021-11-15T14:03:55.342Z"
   },
   {
    "duration": 408,
    "start_time": "2021-11-15T14:04:19.396Z"
   },
   {
    "duration": 425,
    "start_time": "2021-11-15T14:04:30.730Z"
   },
   {
    "duration": 21,
    "start_time": "2021-11-15T14:04:57.474Z"
   },
   {
    "duration": 6,
    "start_time": "2021-11-15T14:05:15.617Z"
   },
   {
    "duration": 21,
    "start_time": "2021-11-15T14:05:39.658Z"
   },
   {
    "duration": 99,
    "start_time": "2021-11-15T14:07:08.862Z"
   },
   {
    "duration": 469,
    "start_time": "2021-11-15T14:07:31.922Z"
   },
   {
    "duration": 435,
    "start_time": "2021-11-15T14:08:10.953Z"
   },
   {
    "duration": 528,
    "start_time": "2021-11-15T14:08:26.123Z"
   },
   {
    "duration": 1483,
    "start_time": "2021-11-15T16:10:54.662Z"
   },
   {
    "duration": 48,
    "start_time": "2021-11-15T16:10:56.147Z"
   },
   {
    "duration": 756,
    "start_time": "2021-11-15T16:10:56.197Z"
   },
   {
    "duration": 143,
    "start_time": "2021-11-15T16:10:56.956Z"
   },
   {
    "duration": 264,
    "start_time": "2021-11-15T16:10:57.101Z"
   },
   {
    "duration": 29,
    "start_time": "2021-11-15T16:10:57.368Z"
   },
   {
    "duration": 8,
    "start_time": "2021-11-15T16:10:57.399Z"
   },
   {
    "duration": 16,
    "start_time": "2021-11-15T16:10:57.411Z"
   },
   {
    "duration": 55,
    "start_time": "2021-11-15T16:10:57.430Z"
   },
   {
    "duration": 19,
    "start_time": "2021-11-15T16:10:57.488Z"
   },
   {
    "duration": 27,
    "start_time": "2021-11-15T16:10:57.509Z"
   },
   {
    "duration": 32,
    "start_time": "2021-11-15T16:10:57.538Z"
   },
   {
    "duration": 7,
    "start_time": "2021-11-15T16:10:57.573Z"
   },
   {
    "duration": 9,
    "start_time": "2021-11-15T16:10:57.582Z"
   },
   {
    "duration": 11,
    "start_time": "2021-11-15T16:10:57.594Z"
   },
   {
    "duration": 9,
    "start_time": "2021-11-15T16:10:57.607Z"
   },
   {
    "duration": 341,
    "start_time": "2021-11-15T16:10:57.618Z"
   },
   {
    "duration": 137,
    "start_time": "2021-11-15T16:10:57.962Z"
   },
   {
    "duration": 196,
    "start_time": "2021-11-15T16:10:58.101Z"
   },
   {
    "duration": 9,
    "start_time": "2021-11-15T16:10:58.299Z"
   },
   {
    "duration": 264,
    "start_time": "2021-11-15T16:10:58.310Z"
   },
   {
    "duration": 110,
    "start_time": "2021-11-15T16:10:58.576Z"
   },
   {
    "duration": 151,
    "start_time": "2021-11-15T16:10:58.692Z"
   },
   {
    "duration": 9,
    "start_time": "2021-11-15T16:10:58.847Z"
   },
   {
    "duration": 9,
    "start_time": "2021-11-15T16:10:58.868Z"
   },
   {
    "duration": 9,
    "start_time": "2021-11-15T16:10:58.879Z"
   },
   {
    "duration": 20,
    "start_time": "2021-11-15T16:10:58.890Z"
   },
   {
    "duration": 95,
    "start_time": "2021-11-15T16:10:58.913Z"
   },
   {
    "duration": 47,
    "start_time": "2021-11-15T16:10:59.011Z"
   },
   {
    "duration": 42,
    "start_time": "2021-11-15T16:10:59.067Z"
   },
   {
    "duration": 62,
    "start_time": "2021-11-15T16:10:59.111Z"
   },
   {
    "duration": 39,
    "start_time": "2021-11-15T16:10:59.175Z"
   },
   {
    "duration": 16,
    "start_time": "2021-11-15T16:10:59.217Z"
   },
   {
    "duration": 76,
    "start_time": "2021-11-15T16:10:59.235Z"
   },
   {
    "duration": 57,
    "start_time": "2021-11-15T16:10:59.313Z"
   },
   {
    "duration": 30,
    "start_time": "2021-11-15T16:10:59.372Z"
   },
   {
    "duration": 31,
    "start_time": "2021-11-15T16:10:59.404Z"
   },
   {
    "duration": 103,
    "start_time": "2021-11-15T16:10:59.438Z"
   },
   {
    "duration": 3815,
    "start_time": "2021-11-15T16:10:59.544Z"
   },
   {
    "duration": 59,
    "start_time": "2021-11-15T16:11:03.361Z"
   },
   {
    "duration": 92,
    "start_time": "2021-11-15T16:11:03.423Z"
   },
   {
    "duration": 35,
    "start_time": "2021-11-15T16:11:03.518Z"
   },
   {
    "duration": 988,
    "start_time": "2021-11-15T16:11:03.555Z"
   },
   {
    "duration": 34,
    "start_time": "2021-11-15T16:11:04.546Z"
   },
   {
    "duration": 27,
    "start_time": "2021-11-15T16:11:04.582Z"
   },
   {
    "duration": 32,
    "start_time": "2021-11-15T16:11:04.611Z"
   },
   {
    "duration": 35,
    "start_time": "2021-11-15T16:11:04.646Z"
   },
   {
    "duration": 28,
    "start_time": "2021-11-15T16:11:04.683Z"
   },
   {
    "duration": 62,
    "start_time": "2021-11-15T16:11:04.713Z"
   },
   {
    "duration": 28,
    "start_time": "2021-11-15T16:11:04.778Z"
   },
   {
    "duration": 25,
    "start_time": "2021-11-15T16:11:04.808Z"
   },
   {
    "duration": 29,
    "start_time": "2021-11-15T16:11:04.867Z"
   },
   {
    "duration": 29,
    "start_time": "2021-11-15T16:11:04.898Z"
   },
   {
    "duration": 47,
    "start_time": "2021-11-15T16:11:04.931Z"
   },
   {
    "duration": 30,
    "start_time": "2021-11-15T16:11:04.981Z"
   },
   {
    "duration": 413,
    "start_time": "2021-11-15T16:11:05.014Z"
   },
   {
    "duration": 500,
    "start_time": "2021-11-15T16:11:05.430Z"
   },
   {
    "duration": 471,
    "start_time": "2021-11-15T16:11:05.932Z"
   },
   {
    "duration": 403,
    "start_time": "2021-11-15T16:11:06.405Z"
   },
   {
    "duration": 222,
    "start_time": "2021-11-15T16:11:06.811Z"
   },
   {
    "duration": 6,
    "start_time": "2021-11-15T16:11:07.036Z"
   },
   {
    "duration": 24,
    "start_time": "2021-11-15T16:11:07.044Z"
   },
   {
    "duration": 5,
    "start_time": "2021-11-15T16:11:07.070Z"
   },
   {
    "duration": 445,
    "start_time": "2021-11-15T16:11:07.077Z"
   },
   {
    "duration": 428,
    "start_time": "2021-11-15T16:11:07.525Z"
   },
   {
    "duration": 431,
    "start_time": "2021-11-15T16:11:07.957Z"
   },
   {
    "duration": 463,
    "start_time": "2021-11-15T16:11:08.390Z"
   },
   {
    "duration": 431,
    "start_time": "2021-11-15T16:11:08.861Z"
   },
   {
    "duration": 441,
    "start_time": "2021-11-15T16:11:09.294Z"
   },
   {
    "duration": 416,
    "start_time": "2021-11-15T16:11:09.737Z"
   },
   {
    "duration": 412,
    "start_time": "2021-11-15T16:11:10.155Z"
   },
   {
    "duration": 405,
    "start_time": "2021-11-15T16:11:10.570Z"
   },
   {
    "duration": 10,
    "start_time": "2021-11-15T16:11:10.978Z"
   },
   {
    "duration": 7,
    "start_time": "2021-11-15T16:11:10.991Z"
   },
   {
    "duration": 15,
    "start_time": "2021-11-15T16:11:11.000Z"
   },
   {
    "duration": 9,
    "start_time": "2021-11-15T16:11:11.017Z"
   },
   {
    "duration": 13,
    "start_time": "2021-11-15T16:11:11.068Z"
   },
   {
    "duration": 9,
    "start_time": "2021-11-15T16:11:11.084Z"
   },
   {
    "duration": 6,
    "start_time": "2021-11-15T16:11:11.095Z"
   },
   {
    "duration": 8,
    "start_time": "2021-11-15T16:11:11.104Z"
   },
   {
    "duration": 7,
    "start_time": "2021-11-15T16:21:22.644Z"
   },
   {
    "duration": 389,
    "start_time": "2021-11-15T16:22:08.913Z"
   },
   {
    "duration": 9,
    "start_time": "2021-11-15T16:22:22.961Z"
   },
   {
    "duration": 7,
    "start_time": "2021-11-15T16:22:55.737Z"
   },
   {
    "duration": 8,
    "start_time": "2021-11-15T16:23:01.972Z"
   },
   {
    "duration": 11,
    "start_time": "2021-11-15T16:23:24.664Z"
   },
   {
    "duration": 461,
    "start_time": "2021-11-15T16:25:34.367Z"
   },
   {
    "duration": 389,
    "start_time": "2021-11-15T16:27:55.368Z"
   },
   {
    "duration": 6,
    "start_time": "2021-11-15T16:47:17.825Z"
   },
   {
    "duration": 67,
    "start_time": "2021-11-15T16:47:17.835Z"
   },
   {
    "duration": 326,
    "start_time": "2021-11-15T16:47:17.906Z"
   },
   {
    "duration": 167,
    "start_time": "2021-11-15T16:47:18.235Z"
   },
   {
    "duration": 230,
    "start_time": "2021-11-15T16:47:18.404Z"
   },
   {
    "duration": 36,
    "start_time": "2021-11-15T16:47:18.636Z"
   },
   {
    "duration": 7,
    "start_time": "2021-11-15T16:47:18.674Z"
   },
   {
    "duration": 33,
    "start_time": "2021-11-15T16:47:18.685Z"
   },
   {
    "duration": 49,
    "start_time": "2021-11-15T16:47:18.721Z"
   },
   {
    "duration": 19,
    "start_time": "2021-11-15T16:47:18.772Z"
   },
   {
    "duration": 26,
    "start_time": "2021-11-15T16:47:18.793Z"
   },
   {
    "duration": 7,
    "start_time": "2021-11-15T16:47:18.821Z"
   },
   {
    "duration": 38,
    "start_time": "2021-11-15T16:47:18.831Z"
   },
   {
    "duration": 10,
    "start_time": "2021-11-15T16:47:18.872Z"
   },
   {
    "duration": 10,
    "start_time": "2021-11-15T16:47:18.884Z"
   },
   {
    "duration": 8,
    "start_time": "2021-11-15T16:47:18.896Z"
   },
   {
    "duration": 245,
    "start_time": "2021-11-15T16:47:18.906Z"
   },
   {
    "duration": 136,
    "start_time": "2021-11-15T16:47:19.153Z"
   },
   {
    "duration": 210,
    "start_time": "2021-11-15T16:47:19.291Z"
   },
   {
    "duration": 11,
    "start_time": "2021-11-15T16:47:19.504Z"
   },
   {
    "duration": 264,
    "start_time": "2021-11-15T16:47:19.518Z"
   },
   {
    "duration": 119,
    "start_time": "2021-11-15T16:47:19.785Z"
   },
   {
    "duration": 160,
    "start_time": "2021-11-15T16:47:19.912Z"
   },
   {
    "duration": 11,
    "start_time": "2021-11-15T16:47:20.076Z"
   },
   {
    "duration": 13,
    "start_time": "2021-11-15T16:47:20.090Z"
   },
   {
    "duration": 13,
    "start_time": "2021-11-15T16:47:20.105Z"
   },
   {
    "duration": 18,
    "start_time": "2021-11-15T16:47:20.121Z"
   },
   {
    "duration": 62,
    "start_time": "2021-11-15T16:47:20.167Z"
   },
   {
    "duration": 68,
    "start_time": "2021-11-15T16:47:20.232Z"
   },
   {
    "duration": 44,
    "start_time": "2021-11-15T16:47:20.302Z"
   },
   {
    "duration": 56,
    "start_time": "2021-11-15T16:47:20.348Z"
   },
   {
    "duration": 41,
    "start_time": "2021-11-15T16:47:20.407Z"
   },
   {
    "duration": 16,
    "start_time": "2021-11-15T16:47:20.467Z"
   },
   {
    "duration": 49,
    "start_time": "2021-11-15T16:47:20.486Z"
   },
   {
    "duration": 64,
    "start_time": "2021-11-15T16:47:20.538Z"
   },
   {
    "duration": 32,
    "start_time": "2021-11-15T16:47:20.604Z"
   },
   {
    "duration": 53,
    "start_time": "2021-11-15T16:47:20.638Z"
   },
   {
    "duration": 95,
    "start_time": "2021-11-15T16:47:20.693Z"
   },
   {
    "duration": 3641,
    "start_time": "2021-11-15T16:47:20.791Z"
   },
   {
    "duration": 59,
    "start_time": "2021-11-15T16:47:24.435Z"
   },
   {
    "duration": 51,
    "start_time": "2021-11-15T16:47:24.497Z"
   },
   {
    "duration": 37,
    "start_time": "2021-11-15T16:47:24.550Z"
   },
   {
    "duration": 1080,
    "start_time": "2021-11-15T16:47:24.589Z"
   },
   {
    "duration": 21,
    "start_time": "2021-11-15T16:47:25.671Z"
   },
   {
    "duration": 26,
    "start_time": "2021-11-15T16:47:25.695Z"
   },
   {
    "duration": 56,
    "start_time": "2021-11-15T16:47:25.724Z"
   },
   {
    "duration": 18,
    "start_time": "2021-11-15T16:47:25.782Z"
   },
   {
    "duration": 24,
    "start_time": "2021-11-15T16:47:25.802Z"
   },
   {
    "duration": 55,
    "start_time": "2021-11-15T16:47:25.829Z"
   },
   {
    "duration": 27,
    "start_time": "2021-11-15T16:47:25.886Z"
   },
   {
    "duration": 52,
    "start_time": "2021-11-15T16:47:25.915Z"
   },
   {
    "duration": 29,
    "start_time": "2021-11-15T16:47:25.969Z"
   },
   {
    "duration": 33,
    "start_time": "2021-11-15T16:47:26.001Z"
   },
   {
    "duration": 32,
    "start_time": "2021-11-15T16:47:26.036Z"
   },
   {
    "duration": 21,
    "start_time": "2021-11-15T16:47:26.070Z"
   },
   {
    "duration": 430,
    "start_time": "2021-11-15T16:47:26.093Z"
   },
   {
    "duration": 485,
    "start_time": "2021-11-15T16:47:26.525Z"
   },
   {
    "duration": 472,
    "start_time": "2021-11-15T16:47:27.012Z"
   },
   {
    "duration": 561,
    "start_time": "2021-11-15T16:47:27.487Z"
   },
   {
    "duration": 216,
    "start_time": "2021-11-15T16:47:28.051Z"
   },
   {
    "duration": 7,
    "start_time": "2021-11-15T16:47:28.269Z"
   },
   {
    "duration": 8,
    "start_time": "2021-11-15T16:47:28.278Z"
   },
   {
    "duration": 4,
    "start_time": "2021-11-15T16:47:28.289Z"
   },
   {
    "duration": 445,
    "start_time": "2021-11-15T16:47:28.296Z"
   },
   {
    "duration": 436,
    "start_time": "2021-11-15T16:47:28.744Z"
   },
   {
    "duration": 409,
    "start_time": "2021-11-15T16:47:29.183Z"
   },
   {
    "duration": 451,
    "start_time": "2021-11-15T16:47:29.595Z"
   },
   {
    "duration": 438,
    "start_time": "2021-11-15T16:47:30.054Z"
   },
   {
    "duration": 453,
    "start_time": "2021-11-15T16:47:30.495Z"
   },
   {
    "duration": 420,
    "start_time": "2021-11-15T16:47:30.950Z"
   },
   {
    "duration": 426,
    "start_time": "2021-11-15T16:47:31.372Z"
   },
   {
    "duration": 427,
    "start_time": "2021-11-15T16:47:31.800Z"
   },
   {
    "duration": 8,
    "start_time": "2021-11-15T16:47:32.230Z"
   },
   {
    "duration": 9,
    "start_time": "2021-11-15T16:47:32.240Z"
   },
   {
    "duration": 18,
    "start_time": "2021-11-15T16:47:32.268Z"
   },
   {
    "duration": 11,
    "start_time": "2021-11-15T16:47:32.288Z"
   },
   {
    "duration": 14,
    "start_time": "2021-11-15T16:47:32.301Z"
   },
   {
    "duration": 16,
    "start_time": "2021-11-15T16:47:32.317Z"
   },
   {
    "duration": 31,
    "start_time": "2021-11-15T16:47:32.336Z"
   },
   {
    "duration": 8,
    "start_time": "2021-11-15T16:47:32.369Z"
   },
   {
    "duration": 108,
    "start_time": "2021-11-16T07:00:23.900Z"
   },
   {
    "duration": 1175,
    "start_time": "2021-11-16T07:11:35.628Z"
   },
   {
    "duration": 50,
    "start_time": "2021-11-16T07:11:39.281Z"
   },
   {
    "duration": 228,
    "start_time": "2021-11-16T07:11:39.743Z"
   },
   {
    "duration": 386,
    "start_time": "2021-11-16T07:11:40.097Z"
   },
   {
    "duration": 408,
    "start_time": "2021-11-16T07:11:40.485Z"
   },
   {
    "duration": 45,
    "start_time": "2021-11-16T07:11:40.895Z"
   },
   {
    "duration": 6,
    "start_time": "2021-11-16T07:11:41.408Z"
   },
   {
    "duration": 11,
    "start_time": "2021-11-16T07:11:41.578Z"
   },
   {
    "duration": 20,
    "start_time": "2021-11-16T07:11:41.921Z"
   },
   {
    "duration": 15,
    "start_time": "2021-11-16T07:11:42.090Z"
   },
   {
    "duration": 19,
    "start_time": "2021-11-16T07:11:42.243Z"
   },
   {
    "duration": 6,
    "start_time": "2021-11-16T07:11:42.404Z"
   },
   {
    "duration": 5,
    "start_time": "2021-11-16T07:11:42.721Z"
   },
   {
    "duration": 6,
    "start_time": "2021-11-16T07:11:42.883Z"
   },
   {
    "duration": 5,
    "start_time": "2021-11-16T07:11:43.040Z"
   },
   {
    "duration": 6,
    "start_time": "2021-11-16T07:11:43.201Z"
   },
   {
    "duration": 211,
    "start_time": "2021-11-16T07:11:43.521Z"
   },
   {
    "duration": 96,
    "start_time": "2021-11-16T07:11:43.734Z"
   },
   {
    "duration": 145,
    "start_time": "2021-11-16T07:11:43.833Z"
   },
   {
    "duration": 7,
    "start_time": "2021-11-16T07:11:44.145Z"
   },
   {
    "duration": 177,
    "start_time": "2021-11-16T07:11:44.313Z"
   },
   {
    "duration": 96,
    "start_time": "2021-11-16T07:11:44.492Z"
   },
   {
    "duration": 98,
    "start_time": "2021-11-16T07:11:44.641Z"
   },
   {
    "duration": 7,
    "start_time": "2021-11-16T07:11:44.802Z"
   },
   {
    "duration": 6,
    "start_time": "2021-11-16T07:11:45.470Z"
   },
   {
    "duration": 5,
    "start_time": "2021-11-16T07:11:46.232Z"
   },
   {
    "duration": 11,
    "start_time": "2021-11-16T07:11:46.721Z"
   },
   {
    "duration": 44,
    "start_time": "2021-11-16T07:11:47.032Z"
   },
   {
    "duration": 33,
    "start_time": "2021-11-16T07:11:47.672Z"
   },
   {
    "duration": 31,
    "start_time": "2021-11-16T07:11:48.081Z"
   },
   {
    "duration": 28,
    "start_time": "2021-11-16T07:11:48.457Z"
   },
   {
    "duration": 29,
    "start_time": "2021-11-16T07:11:48.820Z"
   },
   {
    "duration": 17,
    "start_time": "2021-11-16T07:11:49.321Z"
   },
   {
    "duration": 34,
    "start_time": "2021-11-16T07:11:49.674Z"
   },
   {
    "duration": 31,
    "start_time": "2021-11-16T07:11:49.856Z"
   },
   {
    "duration": 23,
    "start_time": "2021-11-16T07:11:50.043Z"
   },
   {
    "duration": 28,
    "start_time": "2021-11-16T07:11:50.216Z"
   },
   {
    "duration": 55,
    "start_time": "2021-11-16T07:11:50.554Z"
   },
   {
    "duration": 2495,
    "start_time": "2021-11-16T07:11:50.896Z"
   },
   {
    "duration": 26,
    "start_time": "2021-11-16T07:11:53.393Z"
   },
   {
    "duration": 53,
    "start_time": "2021-11-16T07:11:53.421Z"
   },
   {
    "duration": 14,
    "start_time": "2021-11-16T07:11:53.476Z"
   },
   {
    "duration": 627,
    "start_time": "2021-11-16T07:11:53.492Z"
   },
   {
    "duration": 25,
    "start_time": "2021-11-16T07:11:54.120Z"
   },
   {
    "duration": 17,
    "start_time": "2021-11-16T07:11:54.148Z"
   },
   {
    "duration": 19,
    "start_time": "2021-11-16T07:11:54.168Z"
   },
   {
    "duration": 12,
    "start_time": "2021-11-16T07:11:54.188Z"
   },
   {
    "duration": 19,
    "start_time": "2021-11-16T07:11:54.202Z"
   },
   {
    "duration": 38,
    "start_time": "2021-11-16T07:11:54.222Z"
   },
   {
    "duration": 19,
    "start_time": "2021-11-16T07:11:54.427Z"
   },
   {
    "duration": 15,
    "start_time": "2021-11-16T07:11:54.881Z"
   },
   {
    "duration": 18,
    "start_time": "2021-11-16T07:11:55.066Z"
   },
   {
    "duration": 18,
    "start_time": "2021-11-16T07:11:55.467Z"
   },
   {
    "duration": 11,
    "start_time": "2021-11-16T07:11:55.825Z"
   },
   {
    "duration": 11,
    "start_time": "2021-11-16T07:11:56.017Z"
   },
   {
    "duration": 227,
    "start_time": "2021-11-16T07:11:56.664Z"
   },
   {
    "duration": 272,
    "start_time": "2021-11-16T07:11:57.265Z"
   },
   {
    "duration": 261,
    "start_time": "2021-11-16T07:11:57.636Z"
   },
   {
    "duration": 218,
    "start_time": "2021-11-16T07:11:58.160Z"
   },
   {
    "duration": 123,
    "start_time": "2021-11-16T07:11:58.545Z"
   },
   {
    "duration": 5,
    "start_time": "2021-11-16T07:11:58.929Z"
   },
   {
    "duration": 6,
    "start_time": "2021-11-16T07:11:59.265Z"
   },
   {
    "duration": 5,
    "start_time": "2021-11-16T07:11:59.456Z"
   },
   {
    "duration": 253,
    "start_time": "2021-11-16T07:12:07.221Z"
   },
   {
    "duration": 256,
    "start_time": "2021-11-16T07:12:07.475Z"
   },
   {
    "duration": 270,
    "start_time": "2021-11-16T07:12:07.734Z"
   },
   {
    "duration": 288,
    "start_time": "2021-11-16T07:12:08.007Z"
   },
   {
    "duration": 264,
    "start_time": "2021-11-16T07:12:08.297Z"
   },
   {
    "duration": 250,
    "start_time": "2021-11-16T07:12:08.563Z"
   },
   {
    "duration": 240,
    "start_time": "2021-11-16T07:12:08.815Z"
   },
   {
    "duration": 242,
    "start_time": "2021-11-16T07:12:09.057Z"
   },
   {
    "duration": 252,
    "start_time": "2021-11-16T07:12:09.302Z"
   },
   {
    "duration": 6,
    "start_time": "2021-11-16T07:12:14.691Z"
   },
   {
    "duration": 4,
    "start_time": "2021-11-16T07:14:14.426Z"
   },
   {
    "duration": 9,
    "start_time": "2021-11-16T07:14:14.628Z"
   },
   {
    "duration": 7,
    "start_time": "2021-11-16T07:14:14.811Z"
   },
   {
    "duration": 9,
    "start_time": "2021-11-16T07:14:15.596Z"
   },
   {
    "duration": 4,
    "start_time": "2021-11-16T07:14:16.074Z"
   },
   {
    "duration": 4,
    "start_time": "2021-11-16T07:14:16.634Z"
   },
   {
    "duration": 6,
    "start_time": "2021-11-16T07:14:36.899Z"
   },
   {
    "duration": 352,
    "start_time": "2021-11-16T07:55:52.058Z"
   },
   {
    "duration": 4,
    "start_time": "2021-11-16T07:56:17.948Z"
   },
   {
    "duration": 348,
    "start_time": "2021-11-16T07:57:16.994Z"
   },
   {
    "duration": 293,
    "start_time": "2021-11-16T07:57:32.916Z"
   },
   {
    "duration": 1478,
    "start_time": "2021-11-16T07:58:02.221Z"
   },
   {
    "duration": 46,
    "start_time": "2021-11-16T07:58:03.702Z"
   },
   {
    "duration": 235,
    "start_time": "2021-11-16T07:58:03.751Z"
   },
   {
    "duration": 144,
    "start_time": "2021-11-16T07:58:03.988Z"
   },
   {
    "duration": 205,
    "start_time": "2021-11-16T07:58:04.135Z"
   },
   {
    "duration": 30,
    "start_time": "2021-11-16T07:58:04.342Z"
   },
   {
    "duration": 4,
    "start_time": "2021-11-16T07:58:06.515Z"
   },
   {
    "duration": 51,
    "start_time": "2021-11-16T07:58:09.571Z"
   },
   {
    "duration": 63,
    "start_time": "2021-11-16T07:58:21.369Z"
   },
   {
    "duration": 4,
    "start_time": "2021-11-16T07:58:49.862Z"
   },
   {
    "duration": 65,
    "start_time": "2021-11-16T07:58:51.998Z"
   },
   {
    "duration": 8308,
    "start_time": "2021-11-16T07:59:44.683Z"
   },
   {
    "duration": 4,
    "start_time": "2021-11-16T08:00:18.944Z"
   },
   {
    "duration": 60,
    "start_time": "2021-11-16T08:00:19.622Z"
   },
   {
    "duration": 18,
    "start_time": "2021-11-16T08:00:22.706Z"
   },
   {
    "duration": 38,
    "start_time": "2021-11-16T08:00:54.484Z"
   },
   {
    "duration": 310,
    "start_time": "2021-11-16T08:01:11.117Z"
   },
   {
    "duration": 298,
    "start_time": "2021-11-16T08:01:14.349Z"
   },
   {
    "duration": 296,
    "start_time": "2021-11-16T08:01:18.153Z"
   },
   {
    "duration": 44,
    "start_time": "2021-11-16T08:02:59.483Z"
   },
   {
    "duration": 283,
    "start_time": "2021-11-16T08:03:20.672Z"
   },
   {
    "duration": 2274,
    "start_time": "2021-11-16T08:04:26.313Z"
   },
   {
    "duration": 14,
    "start_time": "2021-11-16T08:06:39.078Z"
   },
   {
    "duration": 42,
    "start_time": "2021-11-16T08:06:58.732Z"
   },
   {
    "duration": 15,
    "start_time": "2021-11-16T08:07:54.645Z"
   },
   {
    "duration": 4,
    "start_time": "2021-11-16T08:08:50.549Z"
   },
   {
    "duration": 291,
    "start_time": "2021-11-16T08:10:12.213Z"
   },
   {
    "duration": 314,
    "start_time": "2021-11-16T08:10:57.098Z"
   },
   {
    "duration": 47,
    "start_time": "2021-11-16T08:11:41.179Z"
   },
   {
    "duration": 46,
    "start_time": "2021-11-16T08:11:55.321Z"
   },
   {
    "duration": 14,
    "start_time": "2021-11-16T08:13:59.098Z"
   },
   {
    "duration": 65,
    "start_time": "2021-11-16T08:14:11.828Z"
   },
   {
    "duration": 20,
    "start_time": "2021-11-16T08:14:15.324Z"
   },
   {
    "duration": 746,
    "start_time": "2021-11-16T08:16:53.834Z"
   },
   {
    "duration": 624,
    "start_time": "2021-11-16T08:17:11.970Z"
   },
   {
    "duration": 700,
    "start_time": "2021-11-16T08:18:28.022Z"
   },
   {
    "duration": 274,
    "start_time": "2021-11-16T08:19:24.814Z"
   },
   {
    "duration": 6,
    "start_time": "2021-11-16T08:22:16.840Z"
   },
   {
    "duration": 4,
    "start_time": "2021-11-16T08:23:27.662Z"
   },
   {
    "duration": 47,
    "start_time": "2021-11-16T08:23:27.669Z"
   },
   {
    "duration": 246,
    "start_time": "2021-11-16T08:23:27.720Z"
   },
   {
    "duration": 146,
    "start_time": "2021-11-16T08:23:27.969Z"
   },
   {
    "duration": 212,
    "start_time": "2021-11-16T08:23:28.119Z"
   },
   {
    "duration": 33,
    "start_time": "2021-11-16T08:23:28.334Z"
   },
   {
    "duration": 4,
    "start_time": "2021-11-16T08:23:28.370Z"
   },
   {
    "duration": 104,
    "start_time": "2021-11-16T08:23:28.377Z"
   },
   {
    "duration": 45,
    "start_time": "2021-11-16T08:23:28.484Z"
   },
   {
    "duration": 20,
    "start_time": "2021-11-16T08:23:28.535Z"
   },
   {
    "duration": 689,
    "start_time": "2021-11-16T08:23:28.559Z"
   },
   {
    "duration": 297,
    "start_time": "2021-11-16T08:23:29.251Z"
   },
   {
    "duration": 10,
    "start_time": "2021-11-16T08:23:29.551Z"
   },
   {
    "duration": 9,
    "start_time": "2021-11-16T08:23:29.564Z"
   },
   {
    "duration": 13,
    "start_time": "2021-11-16T08:23:29.576Z"
   },
   {
    "duration": 102,
    "start_time": "2021-11-16T08:23:29.591Z"
   },
   {
    "duration": 72,
    "start_time": "2021-11-16T08:23:29.696Z"
   },
   {
    "duration": 61,
    "start_time": "2021-11-16T08:23:29.771Z"
   },
   {
    "duration": 44,
    "start_time": "2021-11-16T08:23:29.834Z"
   },
   {
    "duration": 111,
    "start_time": "2021-11-16T08:23:33.669Z"
   },
   {
    "duration": 491,
    "start_time": "2021-11-16T08:24:46.137Z"
   },
   {
    "duration": 107,
    "start_time": "2021-11-16T08:24:58.078Z"
   },
   {
    "duration": 39,
    "start_time": "2021-11-16T08:25:17.606Z"
   },
   {
    "duration": 461,
    "start_time": "2021-11-16T08:27:14.564Z"
   },
   {
    "duration": 42,
    "start_time": "2021-11-16T08:27:23.433Z"
   },
   {
    "duration": 305,
    "start_time": "2021-11-16T08:40:34.322Z"
   },
   {
    "duration": 18,
    "start_time": "2021-11-16T08:41:07.488Z"
   },
   {
    "duration": 17,
    "start_time": "2021-11-16T08:41:37.057Z"
   },
   {
    "duration": 2409,
    "start_time": "2021-11-16T08:44:24.539Z"
   },
   {
    "duration": 59,
    "start_time": "2021-11-16T08:46:03.637Z"
   },
   {
    "duration": 21,
    "start_time": "2021-11-16T08:46:27.697Z"
   },
   {
    "duration": 94,
    "start_time": "2021-11-16T08:46:49.718Z"
   },
   {
    "duration": 57,
    "start_time": "2021-11-16T08:47:01.274Z"
   },
   {
    "duration": 13,
    "start_time": "2021-11-16T08:47:38.263Z"
   },
   {
    "duration": 55,
    "start_time": "2021-11-16T08:49:27.555Z"
   },
   {
    "duration": 59,
    "start_time": "2021-11-16T08:49:42.854Z"
   },
   {
    "duration": 53,
    "start_time": "2021-11-16T08:50:10.290Z"
   },
   {
    "duration": 53,
    "start_time": "2021-11-16T08:50:21.999Z"
   },
   {
    "duration": 57,
    "start_time": "2021-11-16T08:50:51.371Z"
   },
   {
    "duration": 102,
    "start_time": "2021-11-16T08:51:41.360Z"
   },
   {
    "duration": 63,
    "start_time": "2021-11-16T08:51:46.048Z"
   },
   {
    "duration": 61,
    "start_time": "2021-11-16T08:51:56.454Z"
   },
   {
    "duration": 310,
    "start_time": "2021-11-16T08:52:54.326Z"
   },
   {
    "duration": 5,
    "start_time": "2021-11-16T08:53:09.498Z"
   },
   {
    "duration": 48,
    "start_time": "2021-11-16T08:53:09.505Z"
   },
   {
    "duration": 234,
    "start_time": "2021-11-16T08:53:09.556Z"
   },
   {
    "duration": 157,
    "start_time": "2021-11-16T08:53:09.793Z"
   },
   {
    "duration": 202,
    "start_time": "2021-11-16T08:53:09.953Z"
   },
   {
    "duration": 33,
    "start_time": "2021-11-16T08:53:10.157Z"
   },
   {
    "duration": 4,
    "start_time": "2021-11-16T08:53:10.192Z"
   },
   {
    "duration": 94,
    "start_time": "2021-11-16T08:53:10.200Z"
   },
   {
    "duration": 44,
    "start_time": "2021-11-16T08:53:10.298Z"
   },
   {
    "duration": 21,
    "start_time": "2021-11-16T08:53:10.345Z"
   },
   {
    "duration": 561,
    "start_time": "2021-11-16T08:53:10.369Z"
   },
   {
    "duration": 279,
    "start_time": "2021-11-16T08:53:10.933Z"
   },
   {
    "duration": 19,
    "start_time": "2021-11-16T08:53:11.214Z"
   },
   {
    "duration": 16,
    "start_time": "2021-11-16T08:53:11.235Z"
   },
   {
    "duration": 20,
    "start_time": "2021-11-16T08:53:11.253Z"
   },
   {
    "duration": 77,
    "start_time": "2021-11-16T08:53:11.276Z"
   },
   {
    "duration": 1782,
    "start_time": "2021-11-16T08:53:11.356Z"
   },
   {
    "duration": 67,
    "start_time": "2021-11-16T08:53:13.141Z"
   },
   {
    "duration": 68,
    "start_time": "2021-11-16T08:53:13.210Z"
   },
   {
    "duration": 60,
    "start_time": "2021-11-16T08:53:13.281Z"
   },
   {
    "duration": 46,
    "start_time": "2021-11-16T08:53:13.344Z"
   },
   {
    "duration": 38,
    "start_time": "2021-11-16T08:53:13.393Z"
   },
   {
    "duration": 49,
    "start_time": "2021-11-16T08:53:13.438Z"
   },
   {
    "duration": 3059,
    "start_time": "2021-11-16T08:53:13.490Z"
   },
   {
    "duration": 718,
    "start_time": "2021-11-16T08:53:15.833Z"
   },
   {
    "duration": 714,
    "start_time": "2021-11-16T08:53:15.839Z"
   },
   {
    "duration": 710,
    "start_time": "2021-11-16T08:53:15.844Z"
   },
   {
    "duration": 708,
    "start_time": "2021-11-16T08:53:15.848Z"
   },
   {
    "duration": 3152,
    "start_time": "2021-11-16T08:55:44.400Z"
   },
   {
    "duration": 24,
    "start_time": "2021-11-16T08:56:09.518Z"
   },
   {
    "duration": 3034,
    "start_time": "2021-11-16T08:57:49.092Z"
   },
   {
    "duration": 3280,
    "start_time": "2021-11-16T08:59:04.178Z"
   },
   {
    "duration": 3024,
    "start_time": "2021-11-16T09:00:15.510Z"
   },
   {
    "duration": 4,
    "start_time": "2021-11-16T09:00:36.001Z"
   },
   {
    "duration": 59,
    "start_time": "2021-11-16T09:00:36.008Z"
   },
   {
    "duration": 234,
    "start_time": "2021-11-16T09:00:36.070Z"
   },
   {
    "duration": 133,
    "start_time": "2021-11-16T09:00:36.307Z"
   },
   {
    "duration": 217,
    "start_time": "2021-11-16T09:00:36.442Z"
   },
   {
    "duration": 32,
    "start_time": "2021-11-16T09:00:36.661Z"
   },
   {
    "duration": 6,
    "start_time": "2021-11-16T09:00:36.695Z"
   },
   {
    "duration": 101,
    "start_time": "2021-11-16T09:00:36.703Z"
   },
   {
    "duration": 17,
    "start_time": "2021-11-16T09:00:36.833Z"
   },
   {
    "duration": 36,
    "start_time": "2021-11-16T09:00:36.853Z"
   },
   {
    "duration": 640,
    "start_time": "2021-11-16T09:00:36.893Z"
   },
   {
    "duration": 320,
    "start_time": "2021-11-16T09:00:37.536Z"
   },
   {
    "duration": 9,
    "start_time": "2021-11-16T09:00:37.859Z"
   },
   {
    "duration": 10,
    "start_time": "2021-11-16T09:00:37.871Z"
   },
   {
    "duration": 17,
    "start_time": "2021-11-16T09:00:37.883Z"
   },
   {
    "duration": 93,
    "start_time": "2021-11-16T09:00:37.903Z"
   },
   {
    "duration": 1917,
    "start_time": "2021-11-16T09:00:37.999Z"
   },
   {
    "duration": 61,
    "start_time": "2021-11-16T09:00:39.919Z"
   },
   {
    "duration": 81,
    "start_time": "2021-11-16T09:00:39.983Z"
   },
   {
    "duration": 43,
    "start_time": "2021-11-16T09:00:40.067Z"
   },
   {
    "duration": 46,
    "start_time": "2021-11-16T09:00:40.130Z"
   },
   {
    "duration": 16,
    "start_time": "2021-11-16T09:00:40.179Z"
   },
   {
    "duration": 80,
    "start_time": "2021-11-16T09:00:40.198Z"
   },
   {
    "duration": 21,
    "start_time": "2021-11-16T09:00:40.280Z"
   },
   {
    "duration": 3181,
    "start_time": "2021-11-16T09:01:19.457Z"
   },
   {
    "duration": 2531,
    "start_time": "2021-11-16T09:03:11.741Z"
   },
   {
    "duration": 5,
    "start_time": "2021-11-16T09:03:24.518Z"
   },
   {
    "duration": 55,
    "start_time": "2021-11-16T09:03:24.526Z"
   },
   {
    "duration": 231,
    "start_time": "2021-11-16T09:03:24.583Z"
   },
   {
    "duration": 153,
    "start_time": "2021-11-16T09:03:24.817Z"
   },
   {
    "duration": 208,
    "start_time": "2021-11-16T09:03:24.972Z"
   },
   {
    "duration": 33,
    "start_time": "2021-11-16T09:03:25.182Z"
   },
   {
    "duration": 12,
    "start_time": "2021-11-16T09:03:25.218Z"
   },
   {
    "duration": 105,
    "start_time": "2021-11-16T09:03:25.233Z"
   },
   {
    "duration": 17,
    "start_time": "2021-11-16T09:03:25.342Z"
   },
   {
    "duration": 26,
    "start_time": "2021-11-16T09:03:25.362Z"
   },
   {
    "duration": 574,
    "start_time": "2021-11-16T09:03:25.390Z"
   },
   {
    "duration": 304,
    "start_time": "2021-11-16T09:03:25.967Z"
   },
   {
    "duration": 9,
    "start_time": "2021-11-16T09:03:26.273Z"
   },
   {
    "duration": 10,
    "start_time": "2021-11-16T09:03:26.285Z"
   },
   {
    "duration": 34,
    "start_time": "2021-11-16T09:03:26.297Z"
   },
   {
    "duration": 505,
    "start_time": "2021-11-16T09:03:26.333Z"
   },
   {
    "duration": 66,
    "start_time": "2021-11-16T09:03:26.840Z"
   },
   {
    "duration": 69,
    "start_time": "2021-11-16T09:03:26.909Z"
   },
   {
    "duration": 64,
    "start_time": "2021-11-16T09:03:26.980Z"
   },
   {
    "duration": 39,
    "start_time": "2021-11-16T09:03:27.046Z"
   },
   {
    "duration": 58,
    "start_time": "2021-11-16T09:03:27.088Z"
   },
   {
    "duration": 14,
    "start_time": "2021-11-16T09:03:27.148Z"
   },
   {
    "duration": 61,
    "start_time": "2021-11-16T09:03:31.330Z"
   },
   {
    "duration": 23,
    "start_time": "2021-11-16T09:03:34.314Z"
   },
   {
    "duration": 38,
    "start_time": "2021-11-16T09:03:39.238Z"
   },
   {
    "duration": 30,
    "start_time": "2021-11-16T09:03:53.141Z"
   },
   {
    "duration": 32,
    "start_time": "2021-11-16T09:03:56.108Z"
   },
   {
    "duration": 74,
    "start_time": "2021-11-16T09:03:58.997Z"
   },
   {
    "duration": 46,
    "start_time": "2021-11-16T09:04:01.041Z"
   },
   {
    "duration": 60,
    "start_time": "2021-11-16T09:04:05.314Z"
   },
   {
    "duration": 53,
    "start_time": "2021-11-16T09:04:24.177Z"
   },
   {
    "duration": 27,
    "start_time": "2021-11-16T09:05:04.259Z"
   },
   {
    "duration": 996,
    "start_time": "2021-11-16T09:05:22.506Z"
   },
   {
    "duration": 17,
    "start_time": "2021-11-16T09:06:41.184Z"
   },
   {
    "duration": 24,
    "start_time": "2021-11-16T09:09:15.815Z"
   },
   {
    "duration": 19,
    "start_time": "2021-11-16T09:09:41.518Z"
   },
   {
    "duration": 97,
    "start_time": "2021-11-16T09:11:13.564Z"
   },
   {
    "duration": 98,
    "start_time": "2021-11-16T09:11:50.999Z"
   },
   {
    "duration": 100,
    "start_time": "2021-11-16T09:13:26.791Z"
   },
   {
    "duration": 17,
    "start_time": "2021-11-16T09:14:36.648Z"
   },
   {
    "duration": 21,
    "start_time": "2021-11-16T09:15:15.896Z"
   },
   {
    "duration": 18,
    "start_time": "2021-11-16T09:15:18.043Z"
   },
   {
    "duration": 15,
    "start_time": "2021-11-16T09:15:20.643Z"
   },
   {
    "duration": 10,
    "start_time": "2021-11-16T09:16:31.837Z"
   },
   {
    "duration": 16,
    "start_time": "2021-11-16T09:17:43.160Z"
   },
   {
    "duration": 16,
    "start_time": "2021-11-16T09:18:13.412Z"
   },
   {
    "duration": 19,
    "start_time": "2021-11-16T09:18:24.398Z"
   },
   {
    "duration": 16,
    "start_time": "2021-11-16T09:18:32.763Z"
   },
   {
    "duration": 16,
    "start_time": "2021-11-16T09:18:54.775Z"
   },
   {
    "duration": 16,
    "start_time": "2021-11-16T09:19:05.070Z"
   },
   {
    "duration": 11,
    "start_time": "2021-11-16T09:19:11.160Z"
   },
   {
    "duration": 11,
    "start_time": "2021-11-16T09:19:16.144Z"
   },
   {
    "duration": 156,
    "start_time": "2021-11-16T09:19:27.916Z"
   },
   {
    "duration": 10,
    "start_time": "2021-11-16T09:19:30.303Z"
   },
   {
    "duration": 9,
    "start_time": "2021-11-16T09:21:51.871Z"
   },
   {
    "duration": 298,
    "start_time": "2021-11-16T09:22:06.610Z"
   },
   {
    "duration": 11,
    "start_time": "2021-11-16T09:22:15.322Z"
   },
   {
    "duration": 338,
    "start_time": "2021-11-16T09:22:28.388Z"
   },
   {
    "duration": 302,
    "start_time": "2021-11-16T09:22:32.566Z"
   },
   {
    "duration": 11,
    "start_time": "2021-11-16T09:22:45.564Z"
   },
   {
    "duration": 393,
    "start_time": "2021-11-16T09:23:19.749Z"
   },
   {
    "duration": 11,
    "start_time": "2021-11-16T09:24:27.862Z"
   },
   {
    "duration": 32,
    "start_time": "2021-11-16T09:24:34.015Z"
   },
   {
    "duration": 18,
    "start_time": "2021-11-16T09:25:27.870Z"
   },
   {
    "duration": 43,
    "start_time": "2021-11-16T09:25:33.636Z"
   },
   {
    "duration": 38,
    "start_time": "2021-11-16T09:26:05.099Z"
   },
   {
    "duration": 35,
    "start_time": "2021-11-16T09:26:30.499Z"
   },
   {
    "duration": 4,
    "start_time": "2021-11-16T09:32:35.397Z"
   },
   {
    "duration": 47,
    "start_time": "2021-11-16T09:32:35.405Z"
   },
   {
    "duration": 243,
    "start_time": "2021-11-16T09:32:35.455Z"
   },
   {
    "duration": 144,
    "start_time": "2021-11-16T09:32:35.700Z"
   },
   {
    "duration": 221,
    "start_time": "2021-11-16T09:32:35.847Z"
   },
   {
    "duration": 32,
    "start_time": "2021-11-16T09:32:36.070Z"
   },
   {
    "duration": 3,
    "start_time": "2021-11-16T09:32:36.105Z"
   },
   {
    "duration": 84,
    "start_time": "2021-11-16T09:32:36.110Z"
   },
   {
    "duration": 44,
    "start_time": "2021-11-16T09:32:36.198Z"
   },
   {
    "duration": 19,
    "start_time": "2021-11-16T09:32:36.245Z"
   },
   {
    "duration": 645,
    "start_time": "2021-11-16T09:32:36.266Z"
   },
   {
    "duration": 324,
    "start_time": "2021-11-16T09:32:36.914Z"
   },
   {
    "duration": 10,
    "start_time": "2021-11-16T09:32:37.240Z"
   },
   {
    "duration": 26,
    "start_time": "2021-11-16T09:32:37.252Z"
   },
   {
    "duration": 119,
    "start_time": "2021-11-16T09:32:37.281Z"
   },
   {
    "duration": 80,
    "start_time": "2021-11-16T09:32:37.402Z"
   },
   {
    "duration": 79,
    "start_time": "2021-11-16T09:32:56.066Z"
   },
   {
    "duration": 42,
    "start_time": "2021-11-16T09:33:03.945Z"
   },
   {
    "duration": 3277,
    "start_time": "2021-11-16T09:33:09.844Z"
   },
   {
    "duration": 99,
    "start_time": "2021-11-16T09:33:16.867Z"
   },
   {
    "duration": 53,
    "start_time": "2021-11-16T09:33:24.961Z"
   },
   {
    "duration": 48,
    "start_time": "2021-11-16T09:33:45.625Z"
   },
   {
    "duration": 27,
    "start_time": "2021-11-16T09:33:50.393Z"
   },
   {
    "duration": 37,
    "start_time": "2021-11-16T09:33:54.709Z"
   },
   {
    "duration": 11,
    "start_time": "2021-11-16T09:36:27.102Z"
   },
   {
    "duration": 7,
    "start_time": "2021-11-16T09:39:21.656Z"
   },
   {
    "duration": 3935,
    "start_time": "2021-11-16T09:39:36.944Z"
   },
   {
    "duration": 6,
    "start_time": "2021-11-16T09:39:41.687Z"
   },
   {
    "duration": 4075,
    "start_time": "2021-11-16T09:41:29.823Z"
   },
   {
    "duration": 5640,
    "start_time": "2021-11-16T09:42:49.343Z"
   },
   {
    "duration": 24,
    "start_time": "2021-11-16T09:43:32.532Z"
   },
   {
    "duration": 20,
    "start_time": "2021-11-16T09:43:44.436Z"
   },
   {
    "duration": 40,
    "start_time": "2021-11-16T09:43:53.864Z"
   },
   {
    "duration": 4101,
    "start_time": "2021-11-16T09:44:44.587Z"
   },
   {
    "duration": 136,
    "start_time": "2021-11-16T09:47:12.181Z"
   },
   {
    "duration": 208,
    "start_time": "2021-11-16T09:48:41.445Z"
   },
   {
    "duration": 206,
    "start_time": "2021-11-16T09:52:35.091Z"
   },
   {
    "duration": 98,
    "start_time": "2021-11-16T09:53:28.231Z"
   },
   {
    "duration": 350,
    "start_time": "2021-11-16T10:17:21.531Z"
   },
   {
    "duration": 250,
    "start_time": "2021-11-16T10:18:25.541Z"
   },
   {
    "duration": 201,
    "start_time": "2021-11-16T10:25:24.489Z"
   },
   {
    "duration": 300,
    "start_time": "2021-11-16T10:26:09.527Z"
   },
   {
    "duration": 211,
    "start_time": "2021-11-16T10:26:18.359Z"
   },
   {
    "duration": 222,
    "start_time": "2021-11-16T10:27:18.778Z"
   },
   {
    "duration": 215,
    "start_time": "2021-11-16T10:28:04.001Z"
   },
   {
    "duration": 217,
    "start_time": "2021-11-16T10:29:54.913Z"
   },
   {
    "duration": 219,
    "start_time": "2021-11-16T10:35:07.109Z"
   },
   {
    "duration": 221,
    "start_time": "2021-11-16T10:35:15.545Z"
   },
   {
    "duration": 4,
    "start_time": "2021-11-16T10:36:07.852Z"
   },
   {
    "duration": 47,
    "start_time": "2021-11-16T10:36:07.859Z"
   },
   {
    "duration": 258,
    "start_time": "2021-11-16T10:36:07.909Z"
   },
   {
    "duration": 166,
    "start_time": "2021-11-16T10:36:08.170Z"
   },
   {
    "duration": 234,
    "start_time": "2021-11-16T10:36:08.339Z"
   },
   {
    "duration": 32,
    "start_time": "2021-11-16T10:36:08.576Z"
   },
   {
    "duration": 21,
    "start_time": "2021-11-16T10:36:08.610Z"
   },
   {
    "duration": 98,
    "start_time": "2021-11-16T10:36:08.633Z"
   },
   {
    "duration": 18,
    "start_time": "2021-11-16T10:36:08.735Z"
   },
   {
    "duration": 23,
    "start_time": "2021-11-16T10:36:08.757Z"
   },
   {
    "duration": 577,
    "start_time": "2021-11-16T10:36:08.783Z"
   },
   {
    "duration": 295,
    "start_time": "2021-11-16T10:36:09.362Z"
   },
   {
    "duration": 9,
    "start_time": "2021-11-16T10:36:09.659Z"
   },
   {
    "duration": 9,
    "start_time": "2021-11-16T10:36:09.671Z"
   },
   {
    "duration": 126,
    "start_time": "2021-11-16T10:36:09.683Z"
   },
   {
    "duration": 72,
    "start_time": "2021-11-16T10:36:09.812Z"
   },
   {
    "duration": 103,
    "start_time": "2021-11-16T10:36:09.886Z"
   },
   {
    "duration": 57,
    "start_time": "2021-11-16T10:36:09.992Z"
   },
   {
    "duration": 3160,
    "start_time": "2021-11-16T10:36:10.051Z"
   },
   {
    "duration": 108,
    "start_time": "2021-11-16T10:36:13.214Z"
   },
   {
    "duration": 48,
    "start_time": "2021-11-16T10:36:13.329Z"
   },
   {
    "duration": 61,
    "start_time": "2021-11-16T10:36:13.379Z"
   },
   {
    "duration": 24,
    "start_time": "2021-11-16T10:36:13.442Z"
   },
   {
    "duration": 37,
    "start_time": "2021-11-16T10:36:13.469Z"
   },
   {
    "duration": 227,
    "start_time": "2021-11-16T10:36:13.530Z"
   },
   {
    "duration": 196,
    "start_time": "2021-11-16T10:36:13.759Z"
   },
   {
    "duration": 197,
    "start_time": "2021-11-16T10:36:13.959Z"
   },
   {
    "duration": 183,
    "start_time": "2021-11-16T10:36:29.194Z"
   },
   {
    "duration": 233,
    "start_time": "2021-11-16T10:38:36.453Z"
   },
   {
    "duration": 39,
    "start_time": "2021-11-16T10:39:31.556Z"
   },
   {
    "duration": 4,
    "start_time": "2021-11-16T10:40:17.546Z"
   },
   {
    "duration": 63,
    "start_time": "2021-11-16T10:40:17.555Z"
   },
   {
    "duration": 240,
    "start_time": "2021-11-16T10:40:17.620Z"
   },
   {
    "duration": 146,
    "start_time": "2021-11-16T10:40:17.863Z"
   },
   {
    "duration": 208,
    "start_time": "2021-11-16T10:40:18.012Z"
   },
   {
    "duration": 31,
    "start_time": "2021-11-16T10:40:18.229Z"
   },
   {
    "duration": 22,
    "start_time": "2021-11-16T10:40:18.262Z"
   },
   {
    "duration": 96,
    "start_time": "2021-11-16T10:40:18.286Z"
   },
   {
    "duration": 16,
    "start_time": "2021-11-16T10:40:18.384Z"
   },
   {
    "duration": 22,
    "start_time": "2021-11-16T10:40:18.430Z"
   },
   {
    "duration": 651,
    "start_time": "2021-11-16T10:40:18.454Z"
   },
   {
    "duration": 377,
    "start_time": "2021-11-16T10:40:19.108Z"
   },
   {
    "duration": 9,
    "start_time": "2021-11-16T10:40:19.487Z"
   },
   {
    "duration": 43,
    "start_time": "2021-11-16T10:40:19.498Z"
   },
   {
    "duration": 124,
    "start_time": "2021-11-16T10:40:19.544Z"
   },
   {
    "duration": 73,
    "start_time": "2021-11-16T10:40:19.671Z"
   },
   {
    "duration": 98,
    "start_time": "2021-11-16T10:40:19.748Z"
   },
   {
    "duration": 45,
    "start_time": "2021-11-16T10:40:19.849Z"
   },
   {
    "duration": 3345,
    "start_time": "2021-11-16T10:40:19.896Z"
   },
   {
    "duration": 111,
    "start_time": "2021-11-16T10:40:23.243Z"
   },
   {
    "duration": 71,
    "start_time": "2021-11-16T10:40:23.357Z"
   },
   {
    "duration": 44,
    "start_time": "2021-11-16T10:40:23.431Z"
   },
   {
    "duration": 25,
    "start_time": "2021-11-16T10:40:23.477Z"
   },
   {
    "duration": 38,
    "start_time": "2021-11-16T10:40:23.529Z"
   },
   {
    "duration": 239,
    "start_time": "2021-11-16T10:40:23.569Z"
   },
   {
    "duration": 211,
    "start_time": "2021-11-16T10:40:23.810Z"
   },
   {
    "duration": 232,
    "start_time": "2021-11-16T10:40:24.023Z"
   },
   {
    "duration": 225,
    "start_time": "2021-11-16T10:41:15.876Z"
   },
   {
    "duration": 134,
    "start_time": "2021-11-16T10:46:40.317Z"
   },
   {
    "duration": 34,
    "start_time": "2021-11-16T10:47:56.183Z"
   },
   {
    "duration": 407,
    "start_time": "2021-11-16T10:48:39.960Z"
   },
   {
    "duration": 474,
    "start_time": "2021-11-16T10:48:50.740Z"
   },
   {
    "duration": 473,
    "start_time": "2021-11-16T10:48:55.840Z"
   },
   {
    "duration": 578,
    "start_time": "2021-11-16T10:49:00.292Z"
   },
   {
    "duration": 34,
    "start_time": "2021-11-16T10:49:16.597Z"
   },
   {
    "duration": 558,
    "start_time": "2021-11-16T10:50:57.182Z"
   },
   {
    "duration": 632,
    "start_time": "2021-11-16T10:51:23.581Z"
   },
   {
    "duration": 292,
    "start_time": "2021-11-16T10:52:21.778Z"
   },
   {
    "duration": 18,
    "start_time": "2021-11-16T10:52:40.933Z"
   },
   {
    "duration": 537,
    "start_time": "2021-11-16T10:54:16.637Z"
   },
   {
    "duration": 9,
    "start_time": "2021-11-16T10:54:42.854Z"
   },
   {
    "duration": 9,
    "start_time": "2021-11-16T10:56:38.178Z"
   },
   {
    "duration": 13,
    "start_time": "2021-11-16T10:56:56.595Z"
   },
   {
    "duration": 2100,
    "start_time": "2021-11-16T10:57:44.835Z"
   },
   {
    "duration": 687,
    "start_time": "2021-11-16T10:59:53.388Z"
   },
   {
    "duration": 1000,
    "start_time": "2021-11-16T11:01:31.625Z"
   },
   {
    "duration": 972,
    "start_time": "2021-11-16T11:02:18.067Z"
   },
   {
    "duration": 548,
    "start_time": "2021-11-16T11:03:59.355Z"
   },
   {
    "duration": 531,
    "start_time": "2021-11-16T11:04:27.918Z"
   },
   {
    "duration": 1174,
    "start_time": "2021-11-16T11:06:29.927Z"
   },
   {
    "duration": 358,
    "start_time": "2021-11-16T11:08:57.650Z"
   },
   {
    "duration": 19,
    "start_time": "2021-11-16T11:10:36.430Z"
   },
   {
    "duration": 518,
    "start_time": "2021-11-16T11:11:07.433Z"
   },
   {
    "duration": 19,
    "start_time": "2021-11-16T11:13:36.770Z"
   },
   {
    "duration": 442,
    "start_time": "2021-11-16T11:14:02.669Z"
   },
   {
    "duration": 367,
    "start_time": "2021-11-16T11:14:53.910Z"
   },
   {
    "duration": 320,
    "start_time": "2021-11-16T11:15:03.970Z"
   },
   {
    "duration": 434,
    "start_time": "2021-11-16T11:15:12.906Z"
   },
   {
    "duration": 603,
    "start_time": "2021-11-16T11:15:47.151Z"
   },
   {
    "duration": 561,
    "start_time": "2021-11-16T11:17:47.079Z"
   },
   {
    "duration": 541,
    "start_time": "2021-11-16T11:18:02.300Z"
   },
   {
    "duration": 725,
    "start_time": "2021-11-16T11:19:58.777Z"
   },
   {
    "duration": 684,
    "start_time": "2021-11-16T11:20:33.927Z"
   },
   {
    "duration": 656,
    "start_time": "2021-11-16T11:21:07.734Z"
   },
   {
    "duration": 646,
    "start_time": "2021-11-16T11:21:24.204Z"
   },
   {
    "duration": 878,
    "start_time": "2021-11-16T11:21:39.355Z"
   },
   {
    "duration": 748,
    "start_time": "2021-11-16T11:21:51.997Z"
   },
   {
    "duration": 654,
    "start_time": "2021-11-16T11:22:06.017Z"
   },
   {
    "duration": 687,
    "start_time": "2021-11-16T11:22:34.102Z"
   },
   {
    "duration": 692,
    "start_time": "2021-11-16T11:24:12.342Z"
   },
   {
    "duration": 825,
    "start_time": "2021-11-16T11:27:11.124Z"
   },
   {
    "duration": 7,
    "start_time": "2021-11-16T11:27:49.173Z"
   },
   {
    "duration": 17688,
    "start_time": "2021-11-16T11:28:05.411Z"
   },
   {
    "duration": 521,
    "start_time": "2021-11-16T11:28:50.828Z"
   },
   {
    "duration": 298,
    "start_time": "2021-11-16T11:29:11.893Z"
   },
   {
    "duration": 679,
    "start_time": "2021-11-16T11:31:07.453Z"
   },
   {
    "duration": 677,
    "start_time": "2021-11-16T11:31:47.984Z"
   },
   {
    "duration": 535,
    "start_time": "2021-11-16T11:34:02.915Z"
   },
   {
    "duration": 329,
    "start_time": "2021-11-16T11:34:24.696Z"
   },
   {
    "duration": 379,
    "start_time": "2021-11-16T11:34:54.551Z"
   },
   {
    "duration": 303,
    "start_time": "2021-11-16T11:35:07.759Z"
   },
   {
    "duration": 306,
    "start_time": "2021-11-16T11:36:39.270Z"
   },
   {
    "duration": 309,
    "start_time": "2021-11-16T11:36:57.022Z"
   },
   {
    "duration": 410,
    "start_time": "2021-11-16T11:38:23.219Z"
   },
   {
    "duration": 419,
    "start_time": "2021-11-16T11:39:27.154Z"
   },
   {
    "duration": 377,
    "start_time": "2021-11-16T11:40:55.545Z"
   },
   {
    "duration": 966,
    "start_time": "2021-11-16T11:41:15.177Z"
   },
   {
    "duration": 294,
    "start_time": "2021-11-16T11:41:39.605Z"
   },
   {
    "duration": 360,
    "start_time": "2021-11-16T11:42:55.878Z"
   },
   {
    "duration": 13,
    "start_time": "2021-11-16T11:43:02.849Z"
   },
   {
    "duration": 10,
    "start_time": "2021-11-16T11:43:51.147Z"
   },
   {
    "duration": 11,
    "start_time": "2021-11-16T11:43:57.418Z"
   },
   {
    "duration": 16,
    "start_time": "2021-11-16T11:44:38.789Z"
   },
   {
    "duration": 16,
    "start_time": "2021-11-16T11:44:46.530Z"
   },
   {
    "duration": 6,
    "start_time": "2021-11-16T11:45:07.345Z"
   },
   {
    "duration": 299,
    "start_time": "2021-11-16T11:45:35.220Z"
   },
   {
    "duration": 372,
    "start_time": "2021-11-16T11:45:57.612Z"
   },
   {
    "duration": 6,
    "start_time": "2021-11-16T11:46:35.183Z"
   },
   {
    "duration": 5,
    "start_time": "2021-11-16T11:46:37.945Z"
   },
   {
    "duration": 22,
    "start_time": "2021-11-16T11:47:33.265Z"
   },
   {
    "duration": 476,
    "start_time": "2021-11-16T11:48:44.374Z"
   },
   {
    "duration": 33,
    "start_time": "2021-11-16T11:48:57.106Z"
   },
   {
    "duration": 444,
    "start_time": "2021-11-16T11:49:45.685Z"
   },
   {
    "duration": 431,
    "start_time": "2021-11-16T11:49:50.737Z"
   },
   {
    "duration": 403,
    "start_time": "2021-11-16T11:49:54.932Z"
   },
   {
    "duration": 15,
    "start_time": "2021-11-16T11:49:59.768Z"
   },
   {
    "duration": 5,
    "start_time": "2021-11-16T11:52:29.492Z"
   },
   {
    "duration": 697,
    "start_time": "2021-11-16T11:52:44.179Z"
   },
   {
    "duration": 701,
    "start_time": "2021-11-16T11:53:31.632Z"
   },
   {
    "duration": 419,
    "start_time": "2021-11-16T11:56:14.379Z"
   },
   {
    "duration": 438,
    "start_time": "2021-11-16T11:56:30.110Z"
   },
   {
    "duration": 439,
    "start_time": "2021-11-16T11:56:43.282Z"
   },
   {
    "duration": 462,
    "start_time": "2021-11-16T11:56:58.894Z"
   },
   {
    "duration": 445,
    "start_time": "2021-11-16T11:57:55.946Z"
   },
   {
    "duration": 397,
    "start_time": "2021-11-16T11:58:03.900Z"
   },
   {
    "duration": 418,
    "start_time": "2021-11-16T11:58:22.674Z"
   },
   {
    "duration": 395,
    "start_time": "2021-11-16T11:58:41.943Z"
   },
   {
    "duration": 429,
    "start_time": "2021-11-16T11:58:59.451Z"
   },
   {
    "duration": 420,
    "start_time": "2021-11-16T11:59:47.666Z"
   },
   {
    "duration": 322,
    "start_time": "2021-11-16T12:00:40.751Z"
   },
   {
    "duration": 431,
    "start_time": "2021-11-16T12:01:17.748Z"
   },
   {
    "duration": 32,
    "start_time": "2021-11-16T12:04:32.255Z"
   },
   {
    "duration": 95,
    "start_time": "2021-11-16T12:09:39.359Z"
   },
   {
    "duration": 96,
    "start_time": "2021-11-16T12:10:31.238Z"
   },
   {
    "duration": 111,
    "start_time": "2021-11-16T12:11:08.334Z"
   },
   {
    "duration": 1029,
    "start_time": "2021-11-16T12:11:24.689Z"
   },
   {
    "duration": 640,
    "start_time": "2021-11-16T12:11:51.284Z"
   },
   {
    "duration": 6,
    "start_time": "2021-11-16T12:14:31.220Z"
   },
   {
    "duration": 387,
    "start_time": "2021-11-16T12:14:49.066Z"
   },
   {
    "duration": 865,
    "start_time": "2021-11-16T12:16:45.652Z"
   },
   {
    "duration": 411,
    "start_time": "2021-11-16T12:17:24.127Z"
   },
   {
    "duration": 399,
    "start_time": "2021-11-16T12:18:09.766Z"
   },
   {
    "duration": 804,
    "start_time": "2021-11-16T12:19:04.676Z"
   },
   {
    "duration": 1216,
    "start_time": "2021-11-16T12:20:03.273Z"
   },
   {
    "duration": 3565,
    "start_time": "2021-11-16T12:23:11.638Z"
   },
   {
    "duration": 5534,
    "start_time": "2021-11-16T12:26:04.274Z"
   },
   {
    "duration": 4035,
    "start_time": "2021-11-16T12:27:24.041Z"
   },
   {
    "duration": 3716,
    "start_time": "2021-11-16T12:28:52.771Z"
   },
   {
    "duration": 3527,
    "start_time": "2021-11-16T12:29:45.582Z"
   },
   {
    "duration": 3652,
    "start_time": "2021-11-16T12:30:02.790Z"
   },
   {
    "duration": 3540,
    "start_time": "2021-11-16T12:30:25.603Z"
   },
   {
    "duration": 3564,
    "start_time": "2021-11-16T12:35:37.513Z"
   },
   {
    "duration": 35,
    "start_time": "2021-11-16T12:38:02.877Z"
   },
   {
    "duration": 6,
    "start_time": "2021-11-16T12:42:58.200Z"
   },
   {
    "duration": 602,
    "start_time": "2021-11-16T12:43:02.511Z"
   },
   {
    "duration": 322,
    "start_time": "2021-11-16T12:45:04.940Z"
   },
   {
    "duration": 326,
    "start_time": "2021-11-16T12:45:21.769Z"
   },
   {
    "duration": 7,
    "start_time": "2021-11-16T12:45:46.883Z"
   },
   {
    "duration": 568,
    "start_time": "2021-11-16T12:46:20.714Z"
   },
   {
    "duration": 5,
    "start_time": "2021-11-16T12:46:55.081Z"
   },
   {
    "duration": 1039,
    "start_time": "2021-11-16T12:46:58.680Z"
   },
   {
    "duration": 6,
    "start_time": "2021-11-16T12:47:37.483Z"
   },
   {
    "duration": 957,
    "start_time": "2021-11-16T12:47:40.527Z"
   },
   {
    "duration": 2976,
    "start_time": "2021-11-16T12:48:23.718Z"
   },
   {
    "duration": 11,
    "start_time": "2021-11-16T12:49:44.581Z"
   },
   {
    "duration": 11,
    "start_time": "2021-11-16T12:49:59.144Z"
   },
   {
    "duration": 9,
    "start_time": "2021-11-16T12:50:09.057Z"
   },
   {
    "duration": 5,
    "start_time": "2021-11-16T12:50:49.420Z"
   },
   {
    "duration": 5,
    "start_time": "2021-11-16T12:51:03.099Z"
   },
   {
    "duration": 5,
    "start_time": "2021-11-16T12:51:37.137Z"
   },
   {
    "duration": 983,
    "start_time": "2021-11-16T12:51:42.323Z"
   },
   {
    "duration": 7,
    "start_time": "2021-11-16T12:52:10.667Z"
   },
   {
    "duration": 4356,
    "start_time": "2021-11-16T12:52:13.440Z"
   },
   {
    "duration": 6,
    "start_time": "2021-11-16T12:53:44.056Z"
   },
   {
    "duration": 1886,
    "start_time": "2021-11-16T12:53:46.730Z"
   },
   {
    "duration": 8,
    "start_time": "2021-11-16T12:58:42.769Z"
   },
   {
    "duration": 2384,
    "start_time": "2021-11-16T12:58:46.069Z"
   },
   {
    "duration": 7,
    "start_time": "2021-11-16T13:00:22.529Z"
   },
   {
    "duration": 2517,
    "start_time": "2021-11-16T13:00:25.695Z"
   },
   {
    "duration": 7,
    "start_time": "2021-11-16T13:01:00.538Z"
   },
   {
    "duration": 2557,
    "start_time": "2021-11-16T13:01:03.554Z"
   },
   {
    "duration": 7,
    "start_time": "2021-11-16T13:03:31.557Z"
   },
   {
    "duration": 2624,
    "start_time": "2021-11-16T13:03:37.671Z"
   },
   {
    "duration": 120,
    "start_time": "2021-11-16T13:06:07.886Z"
   },
   {
    "duration": 101,
    "start_time": "2021-11-16T13:06:54.986Z"
   },
   {
    "duration": 104,
    "start_time": "2021-11-16T13:07:11.472Z"
   },
   {
    "duration": 113,
    "start_time": "2021-11-16T13:08:06.587Z"
   },
   {
    "duration": 11,
    "start_time": "2021-11-16T13:08:33.152Z"
   },
   {
    "duration": 2703,
    "start_time": "2021-11-16T13:08:36.252Z"
   },
   {
    "duration": 9,
    "start_time": "2021-11-16T13:08:57.232Z"
   },
   {
    "duration": 2580,
    "start_time": "2021-11-16T13:09:00.030Z"
   },
   {
    "duration": 8,
    "start_time": "2021-11-16T13:10:11.070Z"
   },
   {
    "duration": 2679,
    "start_time": "2021-11-16T13:10:16.411Z"
   },
   {
    "duration": 3503,
    "start_time": "2021-11-16T13:11:27.886Z"
   },
   {
    "duration": 3525,
    "start_time": "2021-11-16T13:12:07.506Z"
   },
   {
    "duration": 3067,
    "start_time": "2021-11-16T13:12:28.265Z"
   },
   {
    "duration": 3578,
    "start_time": "2021-11-16T13:14:33.934Z"
   },
   {
    "duration": 8,
    "start_time": "2021-11-16T13:18:30.261Z"
   },
   {
    "duration": 2640,
    "start_time": "2021-11-16T13:18:33.192Z"
   },
   {
    "duration": 9,
    "start_time": "2021-11-16T13:19:00.108Z"
   },
   {
    "duration": 2668,
    "start_time": "2021-11-16T13:19:01.141Z"
   },
   {
    "duration": 8,
    "start_time": "2021-11-16T13:20:06.531Z"
   },
   {
    "duration": 2621,
    "start_time": "2021-11-16T13:20:07.648Z"
   },
   {
    "duration": 32,
    "start_time": "2021-11-16T13:27:05.818Z"
   },
   {
    "duration": 12,
    "start_time": "2021-11-16T13:28:04.190Z"
   },
   {
    "duration": 14,
    "start_time": "2021-11-16T13:28:14.483Z"
   },
   {
    "duration": 13,
    "start_time": "2021-11-16T13:28:42.695Z"
   },
   {
    "duration": 1297,
    "start_time": "2021-11-16T13:32:19.610Z"
   },
   {
    "duration": 152,
    "start_time": "2021-11-16T13:32:40.762Z"
   },
   {
    "duration": 4,
    "start_time": "2021-11-16T13:33:02.793Z"
   },
   {
    "duration": 58,
    "start_time": "2021-11-16T13:33:02.800Z"
   },
   {
    "duration": 279,
    "start_time": "2021-11-16T13:33:02.861Z"
   },
   {
    "duration": 149,
    "start_time": "2021-11-16T13:33:03.143Z"
   },
   {
    "duration": 211,
    "start_time": "2021-11-16T13:33:03.294Z"
   },
   {
    "duration": 31,
    "start_time": "2021-11-16T13:33:03.508Z"
   },
   {
    "duration": 3,
    "start_time": "2021-11-16T13:33:03.544Z"
   },
   {
    "duration": 104,
    "start_time": "2021-11-16T13:33:03.550Z"
   },
   {
    "duration": 17,
    "start_time": "2021-11-16T13:33:03.656Z"
   },
   {
    "duration": 57,
    "start_time": "2021-11-16T13:33:03.675Z"
   },
   {
    "duration": 563,
    "start_time": "2021-11-16T13:33:03.734Z"
   },
   {
    "duration": 314,
    "start_time": "2021-11-16T13:33:04.300Z"
   },
   {
    "duration": 23,
    "start_time": "2021-11-16T13:33:04.617Z"
   },
   {
    "duration": 16,
    "start_time": "2021-11-16T13:33:04.643Z"
   },
   {
    "duration": 222,
    "start_time": "2021-11-16T13:33:04.662Z"
   },
   {
    "duration": 86,
    "start_time": "2021-11-16T13:33:04.887Z"
   },
   {
    "duration": 93,
    "start_time": "2021-11-16T13:33:04.976Z"
   },
   {
    "duration": 58,
    "start_time": "2021-11-16T13:33:05.071Z"
   },
   {
    "duration": 3707,
    "start_time": "2021-11-16T13:33:05.137Z"
   },
   {
    "duration": 148,
    "start_time": "2021-11-16T13:33:08.847Z"
   },
   {
    "duration": 59,
    "start_time": "2021-11-16T13:33:08.998Z"
   },
   {
    "duration": 38,
    "start_time": "2021-11-16T13:33:09.059Z"
   },
   {
    "duration": 45,
    "start_time": "2021-11-16T13:33:09.100Z"
   },
   {
    "duration": 43,
    "start_time": "2021-11-16T13:33:09.147Z"
   },
   {
    "duration": 253,
    "start_time": "2021-11-16T13:33:09.192Z"
   },
   {
    "duration": 190,
    "start_time": "2021-11-16T13:33:09.448Z"
   },
   {
    "duration": 221,
    "start_time": "2021-11-16T13:33:09.641Z"
   },
   {
    "duration": 145,
    "start_time": "2021-11-16T13:33:09.865Z"
   },
   {
    "duration": 6,
    "start_time": "2021-11-16T13:33:10.013Z"
   },
   {
    "duration": 426,
    "start_time": "2021-11-16T13:33:10.029Z"
   },
   {
    "duration": 477,
    "start_time": "2021-11-16T13:33:10.457Z"
   },
   {
    "duration": 476,
    "start_time": "2021-11-16T13:33:10.937Z"
   },
   {
    "duration": 522,
    "start_time": "2021-11-16T13:33:11.415Z"
   },
   {
    "duration": 402,
    "start_time": "2021-11-16T13:33:11.940Z"
   },
   {
    "duration": 16,
    "start_time": "2021-11-16T13:33:12.344Z"
   },
   {
    "duration": 17,
    "start_time": "2021-11-16T13:33:12.362Z"
   },
   {
    "duration": 13,
    "start_time": "2021-11-16T13:33:12.381Z"
   },
   {
    "duration": 3528,
    "start_time": "2021-11-16T13:33:12.396Z"
   },
   {
    "duration": 31,
    "start_time": "2021-11-16T13:33:15.930Z"
   },
   {
    "duration": 13,
    "start_time": "2021-11-16T13:33:15.964Z"
   },
   {
    "duration": 2920,
    "start_time": "2021-11-16T13:33:15.980Z"
   },
   {
    "duration": 28,
    "start_time": "2021-11-16T13:33:18.902Z"
   },
   {
    "duration": 34,
    "start_time": "2021-11-16T13:33:54.104Z"
   },
   {
    "duration": 15,
    "start_time": "2021-11-16T13:34:47.949Z"
   },
   {
    "duration": 10,
    "start_time": "2021-11-16T13:35:14.280Z"
   },
   {
    "duration": 9,
    "start_time": "2021-11-16T13:35:16.076Z"
   },
   {
    "duration": 14,
    "start_time": "2021-11-16T13:36:14.471Z"
   },
   {
    "duration": 92,
    "start_time": "2021-11-16T13:42:13.515Z"
   },
   {
    "duration": 485,
    "start_time": "2021-11-16T13:43:38.183Z"
   },
   {
    "duration": 1060,
    "start_time": "2021-11-16T13:46:57.825Z"
   },
   {
    "duration": 451,
    "start_time": "2021-11-16T13:47:05.107Z"
   },
   {
    "duration": 412,
    "start_time": "2021-11-16T13:47:13.902Z"
   },
   {
    "duration": 19,
    "start_time": "2021-11-16T13:49:07.586Z"
   },
   {
    "duration": 6,
    "start_time": "2021-11-16T13:49:24.108Z"
   },
   {
    "duration": 5,
    "start_time": "2021-11-16T13:49:26.709Z"
   }
  ],
  "kernelspec": {
   "display_name": "Python 3",
   "language": "python",
   "name": "python3"
  },
  "language_info": {
   "codemirror_mode": {
    "name": "ipython",
    "version": 3
   },
   "file_extension": ".py",
   "mimetype": "text/x-python",
   "name": "python",
   "nbconvert_exporter": "python",
   "pygments_lexer": "ipython3",
   "version": "3.7.8"
  },
  "toc": {
   "base_numbering": 1,
   "nav_menu": {},
   "number_sections": true,
   "sideBar": true,
   "skip_h1_title": true,
   "title_cell": "Table of Contents",
   "title_sidebar": "Contents",
   "toc_cell": false,
   "toc_position": {},
   "toc_section_display": true,
   "toc_window_display": true
  }
 },
 "nbformat": 4,
 "nbformat_minor": 2
}

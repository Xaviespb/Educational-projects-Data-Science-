{
 "cells": [
  {
   "cell_type": "markdown",
   "metadata": {
    "toc": true
   },
   "source": [
    "<h1>Содержание<span class=\"tocSkip\"></span></h1>\n",
    "<div class=\"toc\"><ul class=\"toc-item\"><li><span><a href=\"#Подготовка-данных\" data-toc-modified-id=\"Подготовка-данных-1\"><span class=\"toc-item-num\">1&nbsp;&nbsp;</span>Подготовка данных</a></span><ul class=\"toc-item\"><li><span><a href=\"#Работа-с-пропусками\" data-toc-modified-id=\"Работа-с-пропусками-1.1\"><span class=\"toc-item-num\">1.1&nbsp;&nbsp;</span>Работа с пропусками</a></span></li><li><span><a href=\"#Проверка-расчета-recovery\" data-toc-modified-id=\"Проверка-расчета-recovery-1.2\"><span class=\"toc-item-num\">1.2&nbsp;&nbsp;</span>Проверка расчета recovery</a></span></li><li><span><a href=\"#Анализ-признаков-test\" data-toc-modified-id=\"Анализ-признаков-test-1.3\"><span class=\"toc-item-num\">1.3&nbsp;&nbsp;</span>Анализ признаков test</a></span></li></ul></li><li><span><a href=\"#Анализ-данных\" data-toc-modified-id=\"Анализ-данных-2\"><span class=\"toc-item-num\">2&nbsp;&nbsp;</span>Анализ данных</a></span><ul class=\"toc-item\"><li><span><a href=\"#Концентрация-металлов-(Au,-Ag,-Pb)\" data-toc-modified-id=\"Концентрация-металлов-(Au,-Ag,-Pb)-2.1\"><span class=\"toc-item-num\">2.1&nbsp;&nbsp;</span>Концентрация металлов (Au, Ag, Pb)</a></span></li><li><span><a href=\"#Распределения-размеров-гранул-сырья\" data-toc-modified-id=\"Распределения-размеров-гранул-сырья-2.2\"><span class=\"toc-item-num\">2.2&nbsp;&nbsp;</span>Распределения размеров гранул сырья</a></span></li><li><span><a href=\"#Суммарная-концентрация-всех-веществ\" data-toc-modified-id=\"Суммарная-концентрация-всех-веществ-2.3\"><span class=\"toc-item-num\">2.3&nbsp;&nbsp;</span>Суммарная концентрация всех веществ</a></span></li></ul></li><li><span><a href=\"#Модель\" data-toc-modified-id=\"Модель-3\"><span class=\"toc-item-num\">3&nbsp;&nbsp;</span>Модель</a></span><ul class=\"toc-item\"><li><span><a href=\"#Rougher-predict\" data-toc-modified-id=\"Rougher-predict-3.1\"><span class=\"toc-item-num\">3.1&nbsp;&nbsp;</span>Rougher predict</a></span></li><li><span><a href=\"#Final-predict\" data-toc-modified-id=\"Final-predict-3.2\"><span class=\"toc-item-num\">3.2&nbsp;&nbsp;</span>Final predict</a></span></li></ul></li><li><span><a href=\"#Чек-лист-готовности-проекта\" data-toc-modified-id=\"Чек-лист-готовности-проекта-4\"><span class=\"toc-item-num\">4&nbsp;&nbsp;</span>Чек-лист готовности проекта</a></span></li></ul></div>"
   ]
  },
  {
   "cell_type": "markdown",
   "metadata": {},
   "source": [
    "# Восстановление золота из руды"
   ]
  },
  {
   "cell_type": "markdown",
   "metadata": {},
   "source": [
    "Подготовьте прототип модели машинного обучения. Компания разрабатывает решения для эффективной работы промышленных предприятий.\n",
    "\n",
    "Модель должна предсказать коэффициент восстановления золота из золотосодержащей руды. Используйте данные с параметрами добычи и очистки. \n",
    "\n",
    "Модель поможет оптимизировать производство, чтобы не запускать предприятие с убыточными характеристиками."
   ]
  },
  {
   "cell_type": "markdown",
   "metadata": {},
   "source": [
    "## Подготовка данных"
   ]
  },
  {
   "cell_type": "markdown",
   "metadata": {},
   "source": [
    "Установим библиотеку missingno"
   ]
  },
  {
   "cell_type": "code",
   "execution_count": 1,
   "metadata": {},
   "outputs": [
    {
     "name": "stdout",
     "output_type": "stream",
     "text": [
      "Defaulting to user installation because normal site-packages is not writeable\n",
      "Requirement already satisfied: missingno in /home/jovyan/.local/lib/python3.7/site-packages (0.5.0)\n",
      "Requirement already satisfied: matplotlib in /opt/conda/lib/python3.7/site-packages (from missingno) (3.1.0)\n",
      "Requirement already satisfied: scipy in /opt/conda/lib/python3.7/site-packages (from missingno) (1.4.1)\n",
      "Requirement already satisfied: seaborn in /opt/conda/lib/python3.7/site-packages (from missingno) (0.9.0)\n",
      "Requirement already satisfied: numpy in /opt/conda/lib/python3.7/site-packages (from missingno) (1.19.5)\n",
      "Requirement already satisfied: pyparsing!=2.0.4,!=2.1.2,!=2.1.6,>=2.0.1 in /opt/conda/lib/python3.7/site-packages (from matplotlib->missingno) (2.4.7)\n",
      "Requirement already satisfied: python-dateutil>=2.1 in /opt/conda/lib/python3.7/site-packages (from matplotlib->missingno) (2.8.1)\n",
      "Requirement already satisfied: cycler>=0.10 in /opt/conda/lib/python3.7/site-packages (from matplotlib->missingno) (0.10.0)\n",
      "Requirement already satisfied: kiwisolver>=1.0.1 in /opt/conda/lib/python3.7/site-packages (from matplotlib->missingno) (1.3.1)\n",
      "Requirement already satisfied: pandas>=0.15.2 in /opt/conda/lib/python3.7/site-packages (from seaborn->missingno) (0.25.1)\n",
      "Requirement already satisfied: six>=1.5 in /opt/conda/lib/python3.7/site-packages (from python-dateutil>=2.1->matplotlib->missingno) (1.15.0)\n",
      "Requirement already satisfied: pytz>=2017.2 in /opt/conda/lib/python3.7/site-packages (from pandas>=0.15.2->seaborn->missingno) (2021.1)\n"
     ]
    }
   ],
   "source": [
    "import sys\n",
    "!{sys.executable} -m pip install missingno"
   ]
  },
  {
   "cell_type": "code",
   "execution_count": 2,
   "metadata": {},
   "outputs": [],
   "source": [
    "import pandas as pd\n",
    "from sklearn.model_selection import train_test_split, GridSearchCV, cross_val_score\n",
    "from sklearn.linear_model import LinearRegression\n",
    "from sklearn.tree import DecisionTreeRegressor\n",
    "from sklearn.neighbors import KNeighborsRegressor\n",
    "from sklearn.dummy import DummyRegressor\n",
    "from sklearn.metrics import mean_squared_error\n",
    "from sklearn.metrics import mean_absolute_error\n",
    "import matplotlib.pyplot as plt\n",
    "from mpl_toolkits import mplot3d\n",
    "import numpy as np\n",
    "from scipy import stats as st\n",
    "import missingno as msno\n",
    "\n",
    "pd.set_option('display.float_format', '{:,.2f}'.format)"
   ]
  },
  {
   "cell_type": "code",
   "execution_count": 3,
   "metadata": {},
   "outputs": [],
   "source": [
    "train = pd.read_csv('/datasets/gold_recovery_train_new.csv')\n",
    "test = pd.read_csv('/datasets/gold_recovery_test_new.csv')\n",
    "df = pd.read_csv('/datasets/gold_recovery_full_new.csv')"
   ]
  },
  {
   "cell_type": "code",
   "execution_count": 4,
   "metadata": {
    "scrolled": true
   },
   "outputs": [
    {
     "data": {
      "text/html": [
       "<div>\n",
       "<style scoped>\n",
       "    .dataframe tbody tr th:only-of-type {\n",
       "        vertical-align: middle;\n",
       "    }\n",
       "\n",
       "    .dataframe tbody tr th {\n",
       "        vertical-align: top;\n",
       "    }\n",
       "\n",
       "    .dataframe thead th {\n",
       "        text-align: right;\n",
       "    }\n",
       "</style>\n",
       "<table border=\"1\" class=\"dataframe\">\n",
       "  <thead>\n",
       "    <tr style=\"text-align: right;\">\n",
       "      <th></th>\n",
       "      <th>date</th>\n",
       "      <th>final.output.concentrate_ag</th>\n",
       "      <th>final.output.concentrate_pb</th>\n",
       "      <th>final.output.concentrate_sol</th>\n",
       "      <th>final.output.concentrate_au</th>\n",
       "      <th>final.output.recovery</th>\n",
       "      <th>final.output.tail_ag</th>\n",
       "      <th>final.output.tail_pb</th>\n",
       "      <th>final.output.tail_sol</th>\n",
       "      <th>final.output.tail_au</th>\n",
       "      <th>...</th>\n",
       "      <th>secondary_cleaner.state.floatbank4_a_air</th>\n",
       "      <th>secondary_cleaner.state.floatbank4_a_level</th>\n",
       "      <th>secondary_cleaner.state.floatbank4_b_air</th>\n",
       "      <th>secondary_cleaner.state.floatbank4_b_level</th>\n",
       "      <th>secondary_cleaner.state.floatbank5_a_air</th>\n",
       "      <th>secondary_cleaner.state.floatbank5_a_level</th>\n",
       "      <th>secondary_cleaner.state.floatbank5_b_air</th>\n",
       "      <th>secondary_cleaner.state.floatbank5_b_level</th>\n",
       "      <th>secondary_cleaner.state.floatbank6_a_air</th>\n",
       "      <th>secondary_cleaner.state.floatbank6_a_level</th>\n",
       "    </tr>\n",
       "  </thead>\n",
       "  <tbody>\n",
       "    <tr>\n",
       "      <td>0</td>\n",
       "      <td>2016-01-15 00:00:00</td>\n",
       "      <td>6.06</td>\n",
       "      <td>9.89</td>\n",
       "      <td>5.51</td>\n",
       "      <td>42.19</td>\n",
       "      <td>70.54</td>\n",
       "      <td>10.41</td>\n",
       "      <td>0.90</td>\n",
       "      <td>16.90</td>\n",
       "      <td>2.14</td>\n",
       "      <td>...</td>\n",
       "      <td>14.02</td>\n",
       "      <td>-502.49</td>\n",
       "      <td>12.10</td>\n",
       "      <td>-504.72</td>\n",
       "      <td>9.93</td>\n",
       "      <td>-498.31</td>\n",
       "      <td>8.08</td>\n",
       "      <td>-500.47</td>\n",
       "      <td>14.15</td>\n",
       "      <td>-605.84</td>\n",
       "    </tr>\n",
       "    <tr>\n",
       "      <td>1</td>\n",
       "      <td>2016-01-15 01:00:00</td>\n",
       "      <td>6.03</td>\n",
       "      <td>9.97</td>\n",
       "      <td>5.26</td>\n",
       "      <td>42.70</td>\n",
       "      <td>69.27</td>\n",
       "      <td>10.46</td>\n",
       "      <td>0.93</td>\n",
       "      <td>16.63</td>\n",
       "      <td>2.22</td>\n",
       "      <td>...</td>\n",
       "      <td>13.99</td>\n",
       "      <td>-505.50</td>\n",
       "      <td>11.95</td>\n",
       "      <td>-501.33</td>\n",
       "      <td>10.04</td>\n",
       "      <td>-500.17</td>\n",
       "      <td>7.98</td>\n",
       "      <td>-500.58</td>\n",
       "      <td>14.00</td>\n",
       "      <td>-599.79</td>\n",
       "    </tr>\n",
       "    <tr>\n",
       "      <td>2</td>\n",
       "      <td>2016-01-15 02:00:00</td>\n",
       "      <td>6.06</td>\n",
       "      <td>10.21</td>\n",
       "      <td>5.38</td>\n",
       "      <td>42.66</td>\n",
       "      <td>68.12</td>\n",
       "      <td>10.51</td>\n",
       "      <td>0.95</td>\n",
       "      <td>16.21</td>\n",
       "      <td>2.26</td>\n",
       "      <td>...</td>\n",
       "      <td>14.02</td>\n",
       "      <td>-502.52</td>\n",
       "      <td>11.91</td>\n",
       "      <td>-501.13</td>\n",
       "      <td>10.07</td>\n",
       "      <td>-500.13</td>\n",
       "      <td>8.01</td>\n",
       "      <td>-500.52</td>\n",
       "      <td>14.03</td>\n",
       "      <td>-601.43</td>\n",
       "    </tr>\n",
       "    <tr>\n",
       "      <td>3</td>\n",
       "      <td>2016-01-15 03:00:00</td>\n",
       "      <td>6.05</td>\n",
       "      <td>9.98</td>\n",
       "      <td>4.86</td>\n",
       "      <td>42.69</td>\n",
       "      <td>68.35</td>\n",
       "      <td>10.42</td>\n",
       "      <td>0.88</td>\n",
       "      <td>16.53</td>\n",
       "      <td>2.15</td>\n",
       "      <td>...</td>\n",
       "      <td>14.04</td>\n",
       "      <td>-500.86</td>\n",
       "      <td>12.00</td>\n",
       "      <td>-501.19</td>\n",
       "      <td>9.97</td>\n",
       "      <td>-499.20</td>\n",
       "      <td>7.98</td>\n",
       "      <td>-500.26</td>\n",
       "      <td>14.01</td>\n",
       "      <td>-600.00</td>\n",
       "    </tr>\n",
       "    <tr>\n",
       "      <td>4</td>\n",
       "      <td>2016-01-15 04:00:00</td>\n",
       "      <td>6.15</td>\n",
       "      <td>10.14</td>\n",
       "      <td>4.94</td>\n",
       "      <td>42.77</td>\n",
       "      <td>66.93</td>\n",
       "      <td>10.36</td>\n",
       "      <td>0.79</td>\n",
       "      <td>16.53</td>\n",
       "      <td>2.06</td>\n",
       "      <td>...</td>\n",
       "      <td>14.03</td>\n",
       "      <td>-499.84</td>\n",
       "      <td>11.95</td>\n",
       "      <td>-501.05</td>\n",
       "      <td>9.93</td>\n",
       "      <td>-501.69</td>\n",
       "      <td>7.89</td>\n",
       "      <td>-500.36</td>\n",
       "      <td>14.00</td>\n",
       "      <td>-601.50</td>\n",
       "    </tr>\n",
       "  </tbody>\n",
       "</table>\n",
       "<p>5 rows × 87 columns</p>\n",
       "</div>"
      ],
      "text/plain": [
       "                  date  final.output.concentrate_ag  \\\n",
       "0  2016-01-15 00:00:00                         6.06   \n",
       "1  2016-01-15 01:00:00                         6.03   \n",
       "2  2016-01-15 02:00:00                         6.06   \n",
       "3  2016-01-15 03:00:00                         6.05   \n",
       "4  2016-01-15 04:00:00                         6.15   \n",
       "\n",
       "   final.output.concentrate_pb  final.output.concentrate_sol  \\\n",
       "0                         9.89                          5.51   \n",
       "1                         9.97                          5.26   \n",
       "2                        10.21                          5.38   \n",
       "3                         9.98                          4.86   \n",
       "4                        10.14                          4.94   \n",
       "\n",
       "   final.output.concentrate_au  final.output.recovery  final.output.tail_ag  \\\n",
       "0                        42.19                  70.54                 10.41   \n",
       "1                        42.70                  69.27                 10.46   \n",
       "2                        42.66                  68.12                 10.51   \n",
       "3                        42.69                  68.35                 10.42   \n",
       "4                        42.77                  66.93                 10.36   \n",
       "\n",
       "   final.output.tail_pb  final.output.tail_sol  final.output.tail_au  ...  \\\n",
       "0                  0.90                  16.90                  2.14  ...   \n",
       "1                  0.93                  16.63                  2.22  ...   \n",
       "2                  0.95                  16.21                  2.26  ...   \n",
       "3                  0.88                  16.53                  2.15  ...   \n",
       "4                  0.79                  16.53                  2.06  ...   \n",
       "\n",
       "   secondary_cleaner.state.floatbank4_a_air  \\\n",
       "0                                     14.02   \n",
       "1                                     13.99   \n",
       "2                                     14.02   \n",
       "3                                     14.04   \n",
       "4                                     14.03   \n",
       "\n",
       "   secondary_cleaner.state.floatbank4_a_level  \\\n",
       "0                                     -502.49   \n",
       "1                                     -505.50   \n",
       "2                                     -502.52   \n",
       "3                                     -500.86   \n",
       "4                                     -499.84   \n",
       "\n",
       "   secondary_cleaner.state.floatbank4_b_air  \\\n",
       "0                                     12.10   \n",
       "1                                     11.95   \n",
       "2                                     11.91   \n",
       "3                                     12.00   \n",
       "4                                     11.95   \n",
       "\n",
       "   secondary_cleaner.state.floatbank4_b_level  \\\n",
       "0                                     -504.72   \n",
       "1                                     -501.33   \n",
       "2                                     -501.13   \n",
       "3                                     -501.19   \n",
       "4                                     -501.05   \n",
       "\n",
       "   secondary_cleaner.state.floatbank5_a_air  \\\n",
       "0                                      9.93   \n",
       "1                                     10.04   \n",
       "2                                     10.07   \n",
       "3                                      9.97   \n",
       "4                                      9.93   \n",
       "\n",
       "   secondary_cleaner.state.floatbank5_a_level  \\\n",
       "0                                     -498.31   \n",
       "1                                     -500.17   \n",
       "2                                     -500.13   \n",
       "3                                     -499.20   \n",
       "4                                     -501.69   \n",
       "\n",
       "   secondary_cleaner.state.floatbank5_b_air  \\\n",
       "0                                      8.08   \n",
       "1                                      7.98   \n",
       "2                                      8.01   \n",
       "3                                      7.98   \n",
       "4                                      7.89   \n",
       "\n",
       "   secondary_cleaner.state.floatbank5_b_level  \\\n",
       "0                                     -500.47   \n",
       "1                                     -500.58   \n",
       "2                                     -500.52   \n",
       "3                                     -500.26   \n",
       "4                                     -500.36   \n",
       "\n",
       "   secondary_cleaner.state.floatbank6_a_air  \\\n",
       "0                                     14.15   \n",
       "1                                     14.00   \n",
       "2                                     14.03   \n",
       "3                                     14.01   \n",
       "4                                     14.00   \n",
       "\n",
       "   secondary_cleaner.state.floatbank6_a_level  \n",
       "0                                     -605.84  \n",
       "1                                     -599.79  \n",
       "2                                     -601.43  \n",
       "3                                     -600.00  \n",
       "4                                     -601.50  \n",
       "\n",
       "[5 rows x 87 columns]"
      ]
     },
     "execution_count": 4,
     "metadata": {},
     "output_type": "execute_result"
    }
   ],
   "source": [
    "train.head()"
   ]
  },
  {
   "cell_type": "code",
   "execution_count": 5,
   "metadata": {
    "scrolled": true
   },
   "outputs": [
    {
     "name": "stdout",
     "output_type": "stream",
     "text": [
      "<class 'pandas.core.frame.DataFrame'>\n",
      "RangeIndex: 14149 entries, 0 to 14148\n",
      "Data columns (total 87 columns):\n",
      "date                                                  14149 non-null object\n",
      "final.output.concentrate_ag                           14148 non-null float64\n",
      "final.output.concentrate_pb                           14148 non-null float64\n",
      "final.output.concentrate_sol                          13938 non-null float64\n",
      "final.output.concentrate_au                           14149 non-null float64\n",
      "final.output.recovery                                 14149 non-null float64\n",
      "final.output.tail_ag                                  14149 non-null float64\n",
      "final.output.tail_pb                                  14049 non-null float64\n",
      "final.output.tail_sol                                 14144 non-null float64\n",
      "final.output.tail_au                                  14149 non-null float64\n",
      "primary_cleaner.input.sulfate                         14129 non-null float64\n",
      "primary_cleaner.input.depressant                      14117 non-null float64\n",
      "primary_cleaner.input.feed_size                       14149 non-null float64\n",
      "primary_cleaner.input.xanthate                        14049 non-null float64\n",
      "primary_cleaner.output.concentrate_ag                 14149 non-null float64\n",
      "primary_cleaner.output.concentrate_pb                 14063 non-null float64\n",
      "primary_cleaner.output.concentrate_sol                13863 non-null float64\n",
      "primary_cleaner.output.concentrate_au                 14149 non-null float64\n",
      "primary_cleaner.output.tail_ag                        14148 non-null float64\n",
      "primary_cleaner.output.tail_pb                        14134 non-null float64\n",
      "primary_cleaner.output.tail_sol                       14103 non-null float64\n",
      "primary_cleaner.output.tail_au                        14149 non-null float64\n",
      "primary_cleaner.state.floatbank8_a_air                14145 non-null float64\n",
      "primary_cleaner.state.floatbank8_a_level              14148 non-null float64\n",
      "primary_cleaner.state.floatbank8_b_air                14145 non-null float64\n",
      "primary_cleaner.state.floatbank8_b_level              14148 non-null float64\n",
      "primary_cleaner.state.floatbank8_c_air                14147 non-null float64\n",
      "primary_cleaner.state.floatbank8_c_level              14148 non-null float64\n",
      "primary_cleaner.state.floatbank8_d_air                14146 non-null float64\n",
      "primary_cleaner.state.floatbank8_d_level              14148 non-null float64\n",
      "rougher.calculation.sulfate_to_au_concentrate         14148 non-null float64\n",
      "rougher.calculation.floatbank10_sulfate_to_au_feed    14148 non-null float64\n",
      "rougher.calculation.floatbank11_sulfate_to_au_feed    14148 non-null float64\n",
      "rougher.calculation.au_pb_ratio                       14149 non-null float64\n",
      "rougher.input.feed_ag                                 14149 non-null float64\n",
      "rougher.input.feed_pb                                 14049 non-null float64\n",
      "rougher.input.feed_rate                               14141 non-null float64\n",
      "rougher.input.feed_size                               14005 non-null float64\n",
      "rougher.input.feed_sol                                14071 non-null float64\n",
      "rougher.input.feed_au                                 14149 non-null float64\n",
      "rougher.input.floatbank10_sulfate                     14120 non-null float64\n",
      "rougher.input.floatbank10_xanthate                    14141 non-null float64\n",
      "rougher.input.floatbank11_sulfate                     14113 non-null float64\n",
      "rougher.input.floatbank11_xanthate                    13721 non-null float64\n",
      "rougher.output.concentrate_ag                         14149 non-null float64\n",
      "rougher.output.concentrate_pb                         14149 non-null float64\n",
      "rougher.output.concentrate_sol                        14127 non-null float64\n",
      "rougher.output.concentrate_au                         14149 non-null float64\n",
      "rougher.output.recovery                               14149 non-null float64\n",
      "rougher.output.tail_ag                                14148 non-null float64\n",
      "rougher.output.tail_pb                                14149 non-null float64\n",
      "rougher.output.tail_sol                               14149 non-null float64\n",
      "rougher.output.tail_au                                14149 non-null float64\n",
      "rougher.state.floatbank10_a_air                       14148 non-null float64\n",
      "rougher.state.floatbank10_a_level                     14148 non-null float64\n",
      "rougher.state.floatbank10_b_air                       14148 non-null float64\n",
      "rougher.state.floatbank10_b_level                     14148 non-null float64\n",
      "rougher.state.floatbank10_c_air                       14148 non-null float64\n",
      "rougher.state.floatbank10_c_level                     14148 non-null float64\n",
      "rougher.state.floatbank10_d_air                       14149 non-null float64\n",
      "rougher.state.floatbank10_d_level                     14149 non-null float64\n",
      "rougher.state.floatbank10_e_air                       13713 non-null float64\n",
      "rougher.state.floatbank10_e_level                     14149 non-null float64\n",
      "rougher.state.floatbank10_f_air                       14149 non-null float64\n",
      "rougher.state.floatbank10_f_level                     14149 non-null float64\n",
      "secondary_cleaner.output.tail_ag                      14147 non-null float64\n",
      "secondary_cleaner.output.tail_pb                      14139 non-null float64\n",
      "secondary_cleaner.output.tail_sol                     12544 non-null float64\n",
      "secondary_cleaner.output.tail_au                      14149 non-null float64\n",
      "secondary_cleaner.state.floatbank2_a_air              13932 non-null float64\n",
      "secondary_cleaner.state.floatbank2_a_level            14148 non-null float64\n",
      "secondary_cleaner.state.floatbank2_b_air              14128 non-null float64\n",
      "secondary_cleaner.state.floatbank2_b_level            14148 non-null float64\n",
      "secondary_cleaner.state.floatbank3_a_air              14145 non-null float64\n",
      "secondary_cleaner.state.floatbank3_a_level            14148 non-null float64\n",
      "secondary_cleaner.state.floatbank3_b_air              14148 non-null float64\n",
      "secondary_cleaner.state.floatbank3_b_level            14148 non-null float64\n",
      "secondary_cleaner.state.floatbank4_a_air              14143 non-null float64\n",
      "secondary_cleaner.state.floatbank4_a_level            14148 non-null float64\n",
      "secondary_cleaner.state.floatbank4_b_air              14148 non-null float64\n",
      "secondary_cleaner.state.floatbank4_b_level            14148 non-null float64\n",
      "secondary_cleaner.state.floatbank5_a_air              14148 non-null float64\n",
      "secondary_cleaner.state.floatbank5_a_level            14148 non-null float64\n",
      "secondary_cleaner.state.floatbank5_b_air              14148 non-null float64\n",
      "secondary_cleaner.state.floatbank5_b_level            14148 non-null float64\n",
      "secondary_cleaner.state.floatbank6_a_air              14147 non-null float64\n",
      "secondary_cleaner.state.floatbank6_a_level            14148 non-null float64\n",
      "dtypes: float64(86), object(1)\n",
      "memory usage: 9.4+ MB\n"
     ]
    }
   ],
   "source": [
    "train.info()"
   ]
  },
  {
   "cell_type": "markdown",
   "metadata": {},
   "source": [
    "Названия столбцов заданы правильно, данные в одном формате"
   ]
  },
  {
   "cell_type": "markdown",
   "metadata": {},
   "source": [
    "### Работа с пропусками"
   ]
  },
  {
   "cell_type": "code",
   "execution_count": 6,
   "metadata": {
    "scrolled": true
   },
   "outputs": [
    {
     "data": {
      "text/plain": [
       "date                                           0\n",
       "rougher.output.concentrate_pb                  0\n",
       "rougher.state.floatbank10_f_level              0\n",
       "rougher.state.floatbank10_f_air                0\n",
       "rougher.state.floatbank10_e_level              0\n",
       "                                            ... \n",
       "secondary_cleaner.state.floatbank2_a_air     217\n",
       "primary_cleaner.output.concentrate_sol       286\n",
       "rougher.input.floatbank11_xanthate           428\n",
       "rougher.state.floatbank10_e_air              436\n",
       "secondary_cleaner.output.tail_sol           1605\n",
       "Length: 87, dtype: int64"
      ]
     },
     "execution_count": 6,
     "metadata": {},
     "output_type": "execute_result"
    }
   ],
   "source": [
    "train.isna().sum().sort_values()"
   ]
  },
  {
   "cell_type": "markdown",
   "metadata": {},
   "source": [
    "Больше всего пропусков в признаке secondary_cleaner.output.tail_sol - 1605 <br>\n",
    "В остальных признаках пропусков не больше 3%"
   ]
  },
  {
   "cell_type": "markdown",
   "metadata": {},
   "source": [
    "Изучим пропуски при помощи установленной библиотеки missingno"
   ]
  },
  {
   "cell_type": "code",
   "execution_count": 7,
   "metadata": {
    "scrolled": true
   },
   "outputs": [
    {
     "data": {
      "text/plain": [
       "<matplotlib.axes._subplots.AxesSubplot at 0x7f575472bb90>"
      ]
     },
     "execution_count": 7,
     "metadata": {},
     "output_type": "execute_result"
    },
    {
     "data": {
      "image/png": "[encoded data removed]",
      "text/plain": [
       "<Figure size 1800x720 with 2 Axes>"
      ]
     },
     "metadata": {
      "needs_background": "light"
     },
     "output_type": "display_data"
    }
   ],
   "source": [
    "msno.matrix(df.sort_values('secondary_cleaner.output.tail_sol'))"
   ]
  },
  {
   "cell_type": "markdown",
   "metadata": {},
   "source": [
    "Явной закономерности не просматривается"
   ]
  },
  {
   "cell_type": "markdown",
   "metadata": {},
   "source": [
    "Посмотрим только на столбцы с пропусками"
   ]
  },
  {
   "cell_type": "code",
   "execution_count": 8,
   "metadata": {},
   "outputs": [],
   "source": [
    "features_with_na = [feature for feature in df.columns if df[feature].isna().sum() > 1]"
   ]
  },
  {
   "cell_type": "code",
   "execution_count": 9,
   "metadata": {
    "scrolled": true
   },
   "outputs": [
    {
     "data": {
      "text/plain": [
       "<matplotlib.axes._subplots.AxesSubplot at 0x7f57544eead0>"
      ]
     },
     "execution_count": 9,
     "metadata": {},
     "output_type": "execute_result"
    },
    {
     "data": {
      "image/png": "[encoded data removed]",
      "text/plain": [
       "<Figure size 1800x720 with 2 Axes>"
      ]
     },
     "metadata": {
      "needs_background": "light"
     },
     "output_type": "display_data"
    }
   ],
   "source": [
    "msno.matrix(df[features_with_na])"
   ]
  },
  {
   "cell_type": "markdown",
   "metadata": {},
   "source": [
    "Рассмотрим взяимосвяь пропусков"
   ]
  },
  {
   "cell_type": "code",
   "execution_count": 10,
   "metadata": {
    "scrolled": false
   },
   "outputs": [
    {
     "data": {
      "text/plain": [
       "<matplotlib.axes._subplots.AxesSubplot at 0x7f57544309d0>"
      ]
     },
     "execution_count": 10,
     "metadata": {},
     "output_type": "execute_result"
    },
    {
     "data": {
      "image/png": "[encoded data removed]",
      "text/plain": [
       "<Figure size 1440x864 with 2 Axes>"
      ]
     },
     "metadata": {
      "needs_background": "light"
     },
     "output_type": "display_data"
    }
   ],
   "source": [
    "msno.heatmap(df[features_with_na])"
   ]
  },
  {
   "cell_type": "markdown",
   "metadata": {},
   "source": [
    "Каких-либо специфичных взаимосвязей нет"
   ]
  },
  {
   "cell_type": "markdown",
   "metadata": {},
   "source": [
    "Посомтрим объем заполнения df"
   ]
  },
  {
   "cell_type": "code",
   "execution_count": 11,
   "metadata": {},
   "outputs": [
    {
     "data": {
      "text/plain": [
       "<matplotlib.axes._subplots.AxesSubplot at 0x7f5750995290>"
      ]
     },
     "execution_count": 11,
     "metadata": {},
     "output_type": "execute_result"
    },
    {
     "data": {
      "image/png": "[encoded data removed]",
      "text/plain": [
       "<Figure size 1800x720 with 3 Axes>"
      ]
     },
     "metadata": {
      "needs_background": "light"
     },
     "output_type": "display_data"
    }
   ],
   "source": [
    "msno.bar(df[features_with_na], labels=True, color=(0.3,0.5,1))"
   ]
  },
  {
   "cell_type": "markdown",
   "metadata": {},
   "source": []
  },
  {
   "cell_type": "code",
   "execution_count": 12,
   "metadata": {
    "scrolled": true
   },
   "outputs": [
    {
     "name": "stdout",
     "output_type": "stream",
     "text": [
      "<class 'pandas.core.frame.DataFrame'>\n",
      "RangeIndex: 19439 entries, 0 to 19438\n",
      "Data columns (total 87 columns):\n",
      "date                                                  19439 non-null object\n",
      "final.output.concentrate_ag                           19438 non-null float64\n",
      "final.output.concentrate_pb                           19438 non-null float64\n",
      "final.output.concentrate_sol                          19228 non-null float64\n",
      "final.output.concentrate_au                           19439 non-null float64\n",
      "final.output.recovery                                 19439 non-null float64\n",
      "final.output.tail_ag                                  19438 non-null float64\n",
      "final.output.tail_pb                                  19338 non-null float64\n",
      "final.output.tail_sol                                 19433 non-null float64\n",
      "final.output.tail_au                                  19439 non-null float64\n",
      "primary_cleaner.input.sulfate                         19415 non-null float64\n",
      "primary_cleaner.input.depressant                      19402 non-null float64\n",
      "primary_cleaner.input.feed_size                       19439 non-null float64\n",
      "primary_cleaner.input.xanthate                        19335 non-null float64\n",
      "primary_cleaner.output.concentrate_ag                 19439 non-null float64\n",
      "primary_cleaner.output.concentrate_pb                 19323 non-null float64\n",
      "primary_cleaner.output.concentrate_sol                19069 non-null float64\n",
      "primary_cleaner.output.concentrate_au                 19439 non-null float64\n",
      "primary_cleaner.output.tail_ag                        19435 non-null float64\n",
      "primary_cleaner.output.tail_pb                        19418 non-null float64\n",
      "primary_cleaner.output.tail_sol                       19377 non-null float64\n",
      "primary_cleaner.output.tail_au                        19439 non-null float64\n",
      "primary_cleaner.state.floatbank8_a_air                19435 non-null float64\n",
      "primary_cleaner.state.floatbank8_a_level              19438 non-null float64\n",
      "primary_cleaner.state.floatbank8_b_air                19435 non-null float64\n",
      "primary_cleaner.state.floatbank8_b_level              19438 non-null float64\n",
      "primary_cleaner.state.floatbank8_c_air                19437 non-null float64\n",
      "primary_cleaner.state.floatbank8_c_level              19438 non-null float64\n",
      "primary_cleaner.state.floatbank8_d_air                19436 non-null float64\n",
      "primary_cleaner.state.floatbank8_d_level              19438 non-null float64\n",
      "rougher.calculation.sulfate_to_au_concentrate         19437 non-null float64\n",
      "rougher.calculation.floatbank10_sulfate_to_au_feed    19437 non-null float64\n",
      "rougher.calculation.floatbank11_sulfate_to_au_feed    19437 non-null float64\n",
      "rougher.calculation.au_pb_ratio                       19439 non-null float64\n",
      "rougher.input.feed_ag                                 19439 non-null float64\n",
      "rougher.input.feed_pb                                 19339 non-null float64\n",
      "rougher.input.feed_rate                               19428 non-null float64\n",
      "rougher.input.feed_size                               19294 non-null float64\n",
      "rougher.input.feed_sol                                19340 non-null float64\n",
      "rougher.input.feed_au                                 19439 non-null float64\n",
      "rougher.input.floatbank10_sulfate                     19405 non-null float64\n",
      "rougher.input.floatbank10_xanthate                    19431 non-null float64\n",
      "rougher.input.floatbank11_sulfate                     19395 non-null float64\n",
      "rougher.input.floatbank11_xanthate                    18986 non-null float64\n",
      "rougher.output.concentrate_ag                         19439 non-null float64\n",
      "rougher.output.concentrate_pb                         19439 non-null float64\n",
      "rougher.output.concentrate_sol                        19416 non-null float64\n",
      "rougher.output.concentrate_au                         19439 non-null float64\n",
      "rougher.output.recovery                               19439 non-null float64\n",
      "rougher.output.tail_ag                                19438 non-null float64\n",
      "rougher.output.tail_pb                                19439 non-null float64\n",
      "rougher.output.tail_sol                               19439 non-null float64\n",
      "rougher.output.tail_au                                19439 non-null float64\n",
      "rougher.state.floatbank10_a_air                       19438 non-null float64\n",
      "rougher.state.floatbank10_a_level                     19438 non-null float64\n",
      "rougher.state.floatbank10_b_air                       19438 non-null float64\n",
      "rougher.state.floatbank10_b_level                     19438 non-null float64\n",
      "rougher.state.floatbank10_c_air                       19438 non-null float64\n",
      "rougher.state.floatbank10_c_level                     19438 non-null float64\n",
      "rougher.state.floatbank10_d_air                       19439 non-null float64\n",
      "rougher.state.floatbank10_d_level                     19439 non-null float64\n",
      "rougher.state.floatbank10_e_air                       19003 non-null float64\n",
      "rougher.state.floatbank10_e_level                     19439 non-null float64\n",
      "rougher.state.floatbank10_f_air                       19439 non-null float64\n",
      "rougher.state.floatbank10_f_level                     19439 non-null float64\n",
      "secondary_cleaner.output.tail_ag                      19437 non-null float64\n",
      "secondary_cleaner.output.tail_pb                      19427 non-null float64\n",
      "secondary_cleaner.output.tail_sol                     17691 non-null float64\n",
      "secondary_cleaner.output.tail_au                      19439 non-null float64\n",
      "secondary_cleaner.state.floatbank2_a_air              19219 non-null float64\n",
      "secondary_cleaner.state.floatbank2_a_level            19438 non-null float64\n",
      "secondary_cleaner.state.floatbank2_b_air              19416 non-null float64\n",
      "secondary_cleaner.state.floatbank2_b_level            19438 non-null float64\n",
      "secondary_cleaner.state.floatbank3_a_air              19426 non-null float64\n",
      "secondary_cleaner.state.floatbank3_a_level            19438 non-null float64\n",
      "secondary_cleaner.state.floatbank3_b_air              19438 non-null float64\n",
      "secondary_cleaner.state.floatbank3_b_level            19438 non-null float64\n",
      "secondary_cleaner.state.floatbank4_a_air              19433 non-null float64\n",
      "secondary_cleaner.state.floatbank4_a_level            19438 non-null float64\n",
      "secondary_cleaner.state.floatbank4_b_air              19438 non-null float64\n",
      "secondary_cleaner.state.floatbank4_b_level            19438 non-null float64\n",
      "secondary_cleaner.state.floatbank5_a_air              19438 non-null float64\n",
      "secondary_cleaner.state.floatbank5_a_level            19438 non-null float64\n",
      "secondary_cleaner.state.floatbank5_b_air              19438 non-null float64\n",
      "secondary_cleaner.state.floatbank5_b_level            19438 non-null float64\n",
      "secondary_cleaner.state.floatbank6_a_air              19437 non-null float64\n",
      "secondary_cleaner.state.floatbank6_a_level            19438 non-null float64\n",
      "dtypes: float64(86), object(1)\n",
      "memory usage: 12.9+ MB\n"
     ]
    }
   ],
   "source": [
    "df.info()"
   ]
  },
  {
   "cell_type": "markdown",
   "metadata": {},
   "source": [
    "Удалим признак secondary_cleaner.output.tail_sol"
   ]
  },
  {
   "cell_type": "code",
   "execution_count": 13,
   "metadata": {},
   "outputs": [],
   "source": [
    "train.drop('secondary_cleaner.output.tail_sol', axis=1, inplace=True)"
   ]
  },
  {
   "cell_type": "markdown",
   "metadata": {},
   "source": [
    "По условия задачи близкие по времени наблюдения практически идентичны, это дает нам право заполнить пропуски предыдущими не na значениями"
   ]
  },
  {
   "cell_type": "code",
   "execution_count": 14,
   "metadata": {},
   "outputs": [],
   "source": [
    "test.fillna(method='ffill', inplace=True)\n",
    "train.fillna(method='ffill', inplace=True)"
   ]
  },
  {
   "cell_type": "markdown",
   "metadata": {},
   "source": [
    "### Проверка расчета recovery"
   ]
  },
  {
   "cell_type": "markdown",
   "metadata": {},
   "source": [
    "Напишем функцию проверки, что эффективность обогащения рассчитана правильно"
   ]
  },
  {
   "cell_type": "code",
   "execution_count": 15,
   "metadata": {},
   "outputs": [],
   "source": [
    "def recovery(data):\n",
    "    return ((data['rougher.output.concentrate_au']\n",
    "            *(data['rougher.input.feed_au']\n",
    "              - data['rougher.output.tail_au'])*100)\n",
    "            /(data['rougher.input.feed_au']\n",
    "            *(data['rougher.output.concentrate_au']\n",
    "              - data['rougher.output.tail_au'])))"
   ]
  },
  {
   "cell_type": "markdown",
   "metadata": {},
   "source": [
    "Вычислим её на обучающей выборке для признака rougher.output.recovery"
   ]
  },
  {
   "cell_type": "code",
   "execution_count": 16,
   "metadata": {},
   "outputs": [
    {
     "data": {
      "text/plain": [
       "0       87.11\n",
       "1       86.84\n",
       "2       86.84\n",
       "3       87.23\n",
       "4       86.69\n",
       "         ... \n",
       "14144   89.57\n",
       "14145   87.72\n",
       "14146   88.89\n",
       "14147   89.86\n",
       "14148   89.51\n",
       "Length: 14149, dtype: float64"
      ]
     },
     "execution_count": 16,
     "metadata": {},
     "output_type": "execute_result"
    }
   ],
   "source": [
    "recovery(train)"
   ]
  },
  {
   "cell_type": "markdown",
   "metadata": {},
   "source": [
    "Найдем MAE между нашими расчётами и значением признака"
   ]
  },
  {
   "cell_type": "code",
   "execution_count": 17,
   "metadata": {},
   "outputs": [
    {
     "data": {
      "text/plain": [
       "1.1100347049376097e-14"
      ]
     },
     "execution_count": 17,
     "metadata": {},
     "output_type": "execute_result"
    }
   ],
   "source": [
    "mean_absolute_error(train['rougher.output.recovery'], recovery(train))"
   ]
  },
  {
   "cell_type": "markdown",
   "metadata": {},
   "source": [
    "MAE минимальное, расчеты выполнены правильно"
   ]
  },
  {
   "cell_type": "markdown",
   "metadata": {},
   "source": [
    "### Анализ признаков test"
   ]
  },
  {
   "cell_type": "markdown",
   "metadata": {},
   "source": [
    "Проанализируем признаки, недоступные в тестовой выборке"
   ]
  },
  {
   "cell_type": "code",
   "execution_count": 18,
   "metadata": {},
   "outputs": [
    {
     "data": {
      "text/plain": [
       "Index(['final.output.concentrate_ag', 'final.output.concentrate_pb',\n",
       "       'final.output.concentrate_sol', 'final.output.concentrate_au',\n",
       "       'final.output.recovery', 'final.output.tail_ag', 'final.output.tail_pb',\n",
       "       'final.output.tail_sol', 'final.output.tail_au',\n",
       "       'primary_cleaner.output.concentrate_ag',\n",
       "       'primary_cleaner.output.concentrate_pb',\n",
       "       'primary_cleaner.output.concentrate_sol',\n",
       "       'primary_cleaner.output.concentrate_au',\n",
       "       'primary_cleaner.output.tail_ag', 'primary_cleaner.output.tail_pb',\n",
       "       'primary_cleaner.output.tail_sol', 'primary_cleaner.output.tail_au',\n",
       "       'rougher.calculation.sulfate_to_au_concentrate',\n",
       "       'rougher.calculation.floatbank10_sulfate_to_au_feed',\n",
       "       'rougher.calculation.floatbank11_sulfate_to_au_feed',\n",
       "       'rougher.calculation.au_pb_ratio', 'rougher.output.concentrate_ag',\n",
       "       'rougher.output.concentrate_pb', 'rougher.output.concentrate_sol',\n",
       "       'rougher.output.concentrate_au', 'rougher.output.recovery',\n",
       "       'rougher.output.tail_ag', 'rougher.output.tail_pb',\n",
       "       'rougher.output.tail_sol', 'rougher.output.tail_au',\n",
       "       'secondary_cleaner.output.tail_ag', 'secondary_cleaner.output.tail_pb',\n",
       "       'secondary_cleaner.output.tail_au'],\n",
       "      dtype='object')"
      ]
     },
     "execution_count": 18,
     "metadata": {},
     "output_type": "execute_result"
    }
   ],
   "source": [
    "train[train.columns[~train.columns.isin(test.columns)]].columns"
   ]
  },
  {
   "cell_type": "code",
   "execution_count": 19,
   "metadata": {},
   "outputs": [],
   "source": [
    "dif_columns = pd.DataFrame([train.columns, train.columns.isin(test.columns)]).T\n",
    "dif_columns.columns = ['column', 'test_columns']"
   ]
  },
  {
   "cell_type": "code",
   "execution_count": 20,
   "metadata": {
    "scrolled": true
   },
   "outputs": [
    {
     "data": {
      "text/html": [
       "<div>\n",
       "<style scoped>\n",
       "    .dataframe tbody tr th:only-of-type {\n",
       "        vertical-align: middle;\n",
       "    }\n",
       "\n",
       "    .dataframe tbody tr th {\n",
       "        vertical-align: top;\n",
       "    }\n",
       "\n",
       "    .dataframe thead th {\n",
       "        text-align: right;\n",
       "    }\n",
       "</style>\n",
       "<table border=\"1\" class=\"dataframe\">\n",
       "  <thead>\n",
       "    <tr style=\"text-align: right;\">\n",
       "      <th></th>\n",
       "      <th>column</th>\n",
       "      <th>test_columns</th>\n",
       "    </tr>\n",
       "  </thead>\n",
       "  <tbody>\n",
       "    <tr>\n",
       "      <td>0</td>\n",
       "      <td>date</td>\n",
       "      <td>True</td>\n",
       "    </tr>\n",
       "    <tr>\n",
       "      <td>1</td>\n",
       "      <td>final.output.concentrate_ag</td>\n",
       "      <td>False</td>\n",
       "    </tr>\n",
       "    <tr>\n",
       "      <td>2</td>\n",
       "      <td>final.output.concentrate_pb</td>\n",
       "      <td>False</td>\n",
       "    </tr>\n",
       "    <tr>\n",
       "      <td>3</td>\n",
       "      <td>final.output.concentrate_sol</td>\n",
       "      <td>False</td>\n",
       "    </tr>\n",
       "    <tr>\n",
       "      <td>4</td>\n",
       "      <td>final.output.concentrate_au</td>\n",
       "      <td>False</td>\n",
       "    </tr>\n",
       "    <tr>\n",
       "      <td>5</td>\n",
       "      <td>final.output.recovery</td>\n",
       "      <td>False</td>\n",
       "    </tr>\n",
       "    <tr>\n",
       "      <td>6</td>\n",
       "      <td>final.output.tail_ag</td>\n",
       "      <td>False</td>\n",
       "    </tr>\n",
       "    <tr>\n",
       "      <td>7</td>\n",
       "      <td>final.output.tail_pb</td>\n",
       "      <td>False</td>\n",
       "    </tr>\n",
       "    <tr>\n",
       "      <td>8</td>\n",
       "      <td>final.output.tail_sol</td>\n",
       "      <td>False</td>\n",
       "    </tr>\n",
       "    <tr>\n",
       "      <td>9</td>\n",
       "      <td>final.output.tail_au</td>\n",
       "      <td>False</td>\n",
       "    </tr>\n",
       "    <tr>\n",
       "      <td>10</td>\n",
       "      <td>primary_cleaner.input.sulfate</td>\n",
       "      <td>True</td>\n",
       "    </tr>\n",
       "    <tr>\n",
       "      <td>11</td>\n",
       "      <td>primary_cleaner.input.depressant</td>\n",
       "      <td>True</td>\n",
       "    </tr>\n",
       "    <tr>\n",
       "      <td>12</td>\n",
       "      <td>primary_cleaner.input.feed_size</td>\n",
       "      <td>True</td>\n",
       "    </tr>\n",
       "    <tr>\n",
       "      <td>13</td>\n",
       "      <td>primary_cleaner.input.xanthate</td>\n",
       "      <td>True</td>\n",
       "    </tr>\n",
       "    <tr>\n",
       "      <td>14</td>\n",
       "      <td>primary_cleaner.output.concentrate_ag</td>\n",
       "      <td>False</td>\n",
       "    </tr>\n",
       "    <tr>\n",
       "      <td>15</td>\n",
       "      <td>primary_cleaner.output.concentrate_pb</td>\n",
       "      <td>False</td>\n",
       "    </tr>\n",
       "    <tr>\n",
       "      <td>16</td>\n",
       "      <td>primary_cleaner.output.concentrate_sol</td>\n",
       "      <td>False</td>\n",
       "    </tr>\n",
       "    <tr>\n",
       "      <td>17</td>\n",
       "      <td>primary_cleaner.output.concentrate_au</td>\n",
       "      <td>False</td>\n",
       "    </tr>\n",
       "    <tr>\n",
       "      <td>18</td>\n",
       "      <td>primary_cleaner.output.tail_ag</td>\n",
       "      <td>False</td>\n",
       "    </tr>\n",
       "    <tr>\n",
       "      <td>19</td>\n",
       "      <td>primary_cleaner.output.tail_pb</td>\n",
       "      <td>False</td>\n",
       "    </tr>\n",
       "    <tr>\n",
       "      <td>20</td>\n",
       "      <td>primary_cleaner.output.tail_sol</td>\n",
       "      <td>False</td>\n",
       "    </tr>\n",
       "    <tr>\n",
       "      <td>21</td>\n",
       "      <td>primary_cleaner.output.tail_au</td>\n",
       "      <td>False</td>\n",
       "    </tr>\n",
       "    <tr>\n",
       "      <td>22</td>\n",
       "      <td>primary_cleaner.state.floatbank8_a_air</td>\n",
       "      <td>True</td>\n",
       "    </tr>\n",
       "    <tr>\n",
       "      <td>23</td>\n",
       "      <td>primary_cleaner.state.floatbank8_a_level</td>\n",
       "      <td>True</td>\n",
       "    </tr>\n",
       "    <tr>\n",
       "      <td>24</td>\n",
       "      <td>primary_cleaner.state.floatbank8_b_air</td>\n",
       "      <td>True</td>\n",
       "    </tr>\n",
       "    <tr>\n",
       "      <td>25</td>\n",
       "      <td>primary_cleaner.state.floatbank8_b_level</td>\n",
       "      <td>True</td>\n",
       "    </tr>\n",
       "    <tr>\n",
       "      <td>26</td>\n",
       "      <td>primary_cleaner.state.floatbank8_c_air</td>\n",
       "      <td>True</td>\n",
       "    </tr>\n",
       "    <tr>\n",
       "      <td>27</td>\n",
       "      <td>primary_cleaner.state.floatbank8_c_level</td>\n",
       "      <td>True</td>\n",
       "    </tr>\n",
       "    <tr>\n",
       "      <td>28</td>\n",
       "      <td>primary_cleaner.state.floatbank8_d_air</td>\n",
       "      <td>True</td>\n",
       "    </tr>\n",
       "    <tr>\n",
       "      <td>29</td>\n",
       "      <td>primary_cleaner.state.floatbank8_d_level</td>\n",
       "      <td>True</td>\n",
       "    </tr>\n",
       "    <tr>\n",
       "      <td>30</td>\n",
       "      <td>rougher.calculation.sulfate_to_au_concentrate</td>\n",
       "      <td>False</td>\n",
       "    </tr>\n",
       "    <tr>\n",
       "      <td>31</td>\n",
       "      <td>rougher.calculation.floatbank10_sulfate_to_au_...</td>\n",
       "      <td>False</td>\n",
       "    </tr>\n",
       "    <tr>\n",
       "      <td>32</td>\n",
       "      <td>rougher.calculation.floatbank11_sulfate_to_au_...</td>\n",
       "      <td>False</td>\n",
       "    </tr>\n",
       "    <tr>\n",
       "      <td>33</td>\n",
       "      <td>rougher.calculation.au_pb_ratio</td>\n",
       "      <td>False</td>\n",
       "    </tr>\n",
       "    <tr>\n",
       "      <td>34</td>\n",
       "      <td>rougher.input.feed_ag</td>\n",
       "      <td>True</td>\n",
       "    </tr>\n",
       "    <tr>\n",
       "      <td>35</td>\n",
       "      <td>rougher.input.feed_pb</td>\n",
       "      <td>True</td>\n",
       "    </tr>\n",
       "    <tr>\n",
       "      <td>36</td>\n",
       "      <td>rougher.input.feed_rate</td>\n",
       "      <td>True</td>\n",
       "    </tr>\n",
       "    <tr>\n",
       "      <td>37</td>\n",
       "      <td>rougher.input.feed_size</td>\n",
       "      <td>True</td>\n",
       "    </tr>\n",
       "    <tr>\n",
       "      <td>38</td>\n",
       "      <td>rougher.input.feed_sol</td>\n",
       "      <td>True</td>\n",
       "    </tr>\n",
       "    <tr>\n",
       "      <td>39</td>\n",
       "      <td>rougher.input.feed_au</td>\n",
       "      <td>True</td>\n",
       "    </tr>\n",
       "    <tr>\n",
       "      <td>40</td>\n",
       "      <td>rougher.input.floatbank10_sulfate</td>\n",
       "      <td>True</td>\n",
       "    </tr>\n",
       "    <tr>\n",
       "      <td>41</td>\n",
       "      <td>rougher.input.floatbank10_xanthate</td>\n",
       "      <td>True</td>\n",
       "    </tr>\n",
       "    <tr>\n",
       "      <td>42</td>\n",
       "      <td>rougher.input.floatbank11_sulfate</td>\n",
       "      <td>True</td>\n",
       "    </tr>\n",
       "    <tr>\n",
       "      <td>43</td>\n",
       "      <td>rougher.input.floatbank11_xanthate</td>\n",
       "      <td>True</td>\n",
       "    </tr>\n",
       "    <tr>\n",
       "      <td>44</td>\n",
       "      <td>rougher.output.concentrate_ag</td>\n",
       "      <td>False</td>\n",
       "    </tr>\n",
       "    <tr>\n",
       "      <td>45</td>\n",
       "      <td>rougher.output.concentrate_pb</td>\n",
       "      <td>False</td>\n",
       "    </tr>\n",
       "    <tr>\n",
       "      <td>46</td>\n",
       "      <td>rougher.output.concentrate_sol</td>\n",
       "      <td>False</td>\n",
       "    </tr>\n",
       "    <tr>\n",
       "      <td>47</td>\n",
       "      <td>rougher.output.concentrate_au</td>\n",
       "      <td>False</td>\n",
       "    </tr>\n",
       "    <tr>\n",
       "      <td>48</td>\n",
       "      <td>rougher.output.recovery</td>\n",
       "      <td>False</td>\n",
       "    </tr>\n",
       "    <tr>\n",
       "      <td>49</td>\n",
       "      <td>rougher.output.tail_ag</td>\n",
       "      <td>False</td>\n",
       "    </tr>\n",
       "    <tr>\n",
       "      <td>50</td>\n",
       "      <td>rougher.output.tail_pb</td>\n",
       "      <td>False</td>\n",
       "    </tr>\n",
       "    <tr>\n",
       "      <td>51</td>\n",
       "      <td>rougher.output.tail_sol</td>\n",
       "      <td>False</td>\n",
       "    </tr>\n",
       "    <tr>\n",
       "      <td>52</td>\n",
       "      <td>rougher.output.tail_au</td>\n",
       "      <td>False</td>\n",
       "    </tr>\n",
       "    <tr>\n",
       "      <td>53</td>\n",
       "      <td>rougher.state.floatbank10_a_air</td>\n",
       "      <td>True</td>\n",
       "    </tr>\n",
       "    <tr>\n",
       "      <td>54</td>\n",
       "      <td>rougher.state.floatbank10_a_level</td>\n",
       "      <td>True</td>\n",
       "    </tr>\n",
       "    <tr>\n",
       "      <td>55</td>\n",
       "      <td>rougher.state.floatbank10_b_air</td>\n",
       "      <td>True</td>\n",
       "    </tr>\n",
       "    <tr>\n",
       "      <td>56</td>\n",
       "      <td>rougher.state.floatbank10_b_level</td>\n",
       "      <td>True</td>\n",
       "    </tr>\n",
       "    <tr>\n",
       "      <td>57</td>\n",
       "      <td>rougher.state.floatbank10_c_air</td>\n",
       "      <td>True</td>\n",
       "    </tr>\n",
       "    <tr>\n",
       "      <td>58</td>\n",
       "      <td>rougher.state.floatbank10_c_level</td>\n",
       "      <td>True</td>\n",
       "    </tr>\n",
       "    <tr>\n",
       "      <td>59</td>\n",
       "      <td>rougher.state.floatbank10_d_air</td>\n",
       "      <td>True</td>\n",
       "    </tr>\n",
       "  </tbody>\n",
       "</table>\n",
       "</div>"
      ],
      "text/plain": [
       "                                               column test_columns\n",
       "0                                                date         True\n",
       "1                         final.output.concentrate_ag        False\n",
       "2                         final.output.concentrate_pb        False\n",
       "3                        final.output.concentrate_sol        False\n",
       "4                         final.output.concentrate_au        False\n",
       "5                               final.output.recovery        False\n",
       "6                                final.output.tail_ag        False\n",
       "7                                final.output.tail_pb        False\n",
       "8                               final.output.tail_sol        False\n",
       "9                                final.output.tail_au        False\n",
       "10                      primary_cleaner.input.sulfate         True\n",
       "11                   primary_cleaner.input.depressant         True\n",
       "12                    primary_cleaner.input.feed_size         True\n",
       "13                     primary_cleaner.input.xanthate         True\n",
       "14              primary_cleaner.output.concentrate_ag        False\n",
       "15              primary_cleaner.output.concentrate_pb        False\n",
       "16             primary_cleaner.output.concentrate_sol        False\n",
       "17              primary_cleaner.output.concentrate_au        False\n",
       "18                     primary_cleaner.output.tail_ag        False\n",
       "19                     primary_cleaner.output.tail_pb        False\n",
       "20                    primary_cleaner.output.tail_sol        False\n",
       "21                     primary_cleaner.output.tail_au        False\n",
       "22             primary_cleaner.state.floatbank8_a_air         True\n",
       "23           primary_cleaner.state.floatbank8_a_level         True\n",
       "24             primary_cleaner.state.floatbank8_b_air         True\n",
       "25           primary_cleaner.state.floatbank8_b_level         True\n",
       "26             primary_cleaner.state.floatbank8_c_air         True\n",
       "27           primary_cleaner.state.floatbank8_c_level         True\n",
       "28             primary_cleaner.state.floatbank8_d_air         True\n",
       "29           primary_cleaner.state.floatbank8_d_level         True\n",
       "30      rougher.calculation.sulfate_to_au_concentrate        False\n",
       "31  rougher.calculation.floatbank10_sulfate_to_au_...        False\n",
       "32  rougher.calculation.floatbank11_sulfate_to_au_...        False\n",
       "33                    rougher.calculation.au_pb_ratio        False\n",
       "34                              rougher.input.feed_ag         True\n",
       "35                              rougher.input.feed_pb         True\n",
       "36                            rougher.input.feed_rate         True\n",
       "37                            rougher.input.feed_size         True\n",
       "38                             rougher.input.feed_sol         True\n",
       "39                              rougher.input.feed_au         True\n",
       "40                  rougher.input.floatbank10_sulfate         True\n",
       "41                 rougher.input.floatbank10_xanthate         True\n",
       "42                  rougher.input.floatbank11_sulfate         True\n",
       "43                 rougher.input.floatbank11_xanthate         True\n",
       "44                      rougher.output.concentrate_ag        False\n",
       "45                      rougher.output.concentrate_pb        False\n",
       "46                     rougher.output.concentrate_sol        False\n",
       "47                      rougher.output.concentrate_au        False\n",
       "48                            rougher.output.recovery        False\n",
       "49                             rougher.output.tail_ag        False\n",
       "50                             rougher.output.tail_pb        False\n",
       "51                            rougher.output.tail_sol        False\n",
       "52                             rougher.output.tail_au        False\n",
       "53                    rougher.state.floatbank10_a_air         True\n",
       "54                  rougher.state.floatbank10_a_level         True\n",
       "55                    rougher.state.floatbank10_b_air         True\n",
       "56                  rougher.state.floatbank10_b_level         True\n",
       "57                    rougher.state.floatbank10_c_air         True\n",
       "58                  rougher.state.floatbank10_c_level         True\n",
       "59                    rougher.state.floatbank10_d_air         True"
      ]
     },
     "execution_count": 20,
     "metadata": {},
     "output_type": "execute_result"
    }
   ],
   "source": [
    "dif_columns.head(60)"
   ]
  },
  {
   "cell_type": "markdown",
   "metadata": {},
   "source": [
    "В train выборке нет признаков outpoot и calculate, те значеня после обработки недоступны"
   ]
  },
  {
   "cell_type": "markdown",
   "metadata": {},
   "source": [
    "## Анализ данных"
   ]
  },
  {
   "cell_type": "markdown",
   "metadata": {},
   "source": [
    "### Концентрация металлов (Au, Ag, Pb)"
   ]
  },
  {
   "cell_type": "markdown",
   "metadata": {},
   "source": [
    "Посмотрим, как меняется концентрация металлов (Au, Ag, Pb) на различных этапах очистки"
   ]
  },
  {
   "cell_type": "code",
   "execution_count": 21,
   "metadata": {},
   "outputs": [
    {
     "data": {
      "text/plain": [
       "rougher           11.99\n",
       "primary_cleaner    8.44\n",
       "final              5.17\n",
       "dtype: float64"
      ]
     },
     "execution_count": 21,
     "metadata": {},
     "output_type": "execute_result"
    }
   ],
   "source": [
    "ag_conc = df[['rougher.output.concentrate_ag',\n",
    "   'primary_cleaner.output.concentrate_ag',\n",
    "   'final.output.concentrate_ag']\n",
    "  ]\n",
    "\n",
    "ag_conc.columns = ['rougher', 'primary_cleaner', 'final']\n",
    "ag_conc.mean()"
   ]
  },
  {
   "cell_type": "code",
   "execution_count": 22,
   "metadata": {},
   "outputs": [
    {
     "data": {
      "text/plain": [
       "rougher           19.77\n",
       "primary_cleaner   32.12\n",
       "final             44.08\n",
       "dtype: float64"
      ]
     },
     "execution_count": 22,
     "metadata": {},
     "output_type": "execute_result"
    }
   ],
   "source": [
    "au_conc = df[['rougher.output.concentrate_au',\n",
    "   'primary_cleaner.output.concentrate_au',\n",
    "   'final.output.concentrate_au']\n",
    "  ]\n",
    "au_conc.columns = ['rougher', 'primary_cleaner', 'final']\n",
    "au_conc.mean()"
   ]
  },
  {
   "cell_type": "code",
   "execution_count": 23,
   "metadata": {
    "scrolled": true
   },
   "outputs": [
    {
     "data": {
      "text/plain": [
       "rougher           7.61\n",
       "primary_cleaner   9.83\n",
       "final             9.98\n",
       "dtype: float64"
      ]
     },
     "execution_count": 23,
     "metadata": {},
     "output_type": "execute_result"
    }
   ],
   "source": [
    "pb_conc = df[['rougher.output.concentrate_pb',\n",
    "   'primary_cleaner.output.concentrate_pb',\n",
    "   'final.output.concentrate_pb']\n",
    "  ]\n",
    "pb_conc.columns = ['rougher', 'primary_cleaner', 'final']\n",
    "pb_conc.mean()"
   ]
  },
  {
   "cell_type": "markdown",
   "metadata": {},
   "source": [
    "Концентрация серебра сокращается, а свинца и золота растет"
   ]
  },
  {
   "cell_type": "markdown",
   "metadata": {},
   "source": [
    "### Распределения размеров гранул сырья"
   ]
  },
  {
   "cell_type": "markdown",
   "metadata": {},
   "source": [
    "Сравним распределения размеров гранул сырья на обучающей и тестовой выборках"
   ]
  },
  {
   "cell_type": "code",
   "execution_count": 24,
   "metadata": {},
   "outputs": [
    {
     "data": {
      "text/plain": [
       "<matplotlib.legend.Legend at 0x7f5746d54a90>"
      ]
     },
     "execution_count": 24,
     "metadata": {},
     "output_type": "execute_result"
    },
    {
     "data": {
      "image/png": "[encoded data removed]",
      "text/plain": [
       "<Figure size 432x288 with 1 Axes>"
      ]
     },
     "metadata": {
      "needs_background": "light"
     },
     "output_type": "display_data"
    }
   ],
   "source": [
    "axes = plt.axes()\n",
    "axes.set_xlim([0, 100])\n",
    "plt.hist(train['rougher.input.feed_size'], bins=500, edgecolor='k')\n",
    "plt.title(\"Гистограмма размеров гранул сырья train\", fontsize=15)\n",
    "plt.xlabel(\"Размер гранул сырья\")\n",
    "plt.ylabel(\"Frequency\")\n",
    "\n",
    "plt.axvline(train['rougher.input.feed_size'].mean(),\\\n",
    "            color='k', linestyle='dashed', linewidth=1,\\\n",
    "            label=f'Mean ({train[\"rougher.input.feed_size\"].mean().round()})')\n",
    "plt.axvline(train['rougher.input.feed_size'].median(),\\\n",
    "            color='r', linestyle='dashed', linewidth=1,\\\n",
    "            label=f'Median ({train[\"rougher.input.feed_size\"].median()})')\n",
    "\n",
    "plt.legend()"
   ]
  },
  {
   "cell_type": "code",
   "execution_count": 25,
   "metadata": {
    "scrolled": true
   },
   "outputs": [
    {
     "data": {
      "text/plain": [
       "<matplotlib.legend.Legend at 0x7f5746707ed0>"
      ]
     },
     "execution_count": 25,
     "metadata": {},
     "output_type": "execute_result"
    },
    {
     "data": {
      "image/png": "[encoded data removed]",
      "text/plain": [
       "<Figure size 432x288 with 1 Axes>"
      ]
     },
     "metadata": {
      "needs_background": "light"
     },
     "output_type": "display_data"
    }
   ],
   "source": [
    "axes = plt.axes()\n",
    "axes.set_xlim([0, 100])\n",
    "plt.hist(test['rougher.input.feed_size'], bins=500, edgecolor='k')\n",
    "plt.title(\"Гистограмма размеров гранул сырья test\", fontsize=15)\n",
    "plt.xlabel(\"Размер гранул сырья\")\n",
    "plt.ylabel(\"Frequency\")\n",
    "\n",
    "plt.axvline(test['rougher.input.feed_size'].mean(),\\\n",
    "            color='k', linestyle='dashed', linewidth=1,\\\n",
    "            label=f'Mean ({test[\"rougher.input.feed_size\"].mean().round()})')\n",
    "plt.axvline(test['rougher.input.feed_size'].median(),\\\n",
    "            color='r', linestyle='dashed', linewidth=1,\\\n",
    "            label=f'Median ({test[\"rougher.input.feed_size\"].median()})')\n",
    "\n",
    "plt.legend()"
   ]
  },
  {
   "cell_type": "markdown",
   "metadata": {},
   "source": [
    "Средние и медианы не сильно отличаются, удостоверимся стат тестом"
   ]
  },
  {
   "cell_type": "code",
   "execution_count": 26,
   "metadata": {},
   "outputs": [
    {
     "data": {
      "text/plain": [
       "Ttest_indResult(statistic=-12.088216423310302, pvalue=1.6081245670847274e-33)"
      ]
     },
     "execution_count": 26,
     "metadata": {},
     "output_type": "execute_result"
    }
   ],
   "source": [
    "st.ttest_ind(test.dropna()['rougher.input.feed_size'], train.dropna()['rougher.input.feed_size'])"
   ]
  },
  {
   "cell_type": "markdown",
   "metadata": {},
   "source": [
    "Значимых отличий нет"
   ]
  },
  {
   "cell_type": "markdown",
   "metadata": {},
   "source": [
    "### Суммарная концентрация всех веществ"
   ]
  },
  {
   "cell_type": "markdown",
   "metadata": {},
   "source": [
    "Исследуем суммарную концентрацию всех веществ на разных стадиях: в сырье, в черновом и финальном концентратах"
   ]
  },
  {
   "cell_type": "code",
   "execution_count": 27,
   "metadata": {},
   "outputs": [
    {
     "data": {
      "text/plain": [
       "rougher           28.81\n",
       "primary_cleaner   10.49\n",
       "final              9.50\n",
       "dtype: float64"
      ]
     },
     "execution_count": 27,
     "metadata": {},
     "output_type": "execute_result"
    }
   ],
   "source": [
    "sol_conc = df[['rougher.output.concentrate_sol',\n",
    "   'primary_cleaner.output.concentrate_sol',\n",
    "   'final.output.concentrate_sol']\n",
    "  ]\n",
    "sol_conc.columns = ['rougher', 'primary_cleaner', 'final']\n",
    "sol_conc.mean()"
   ]
  },
  {
   "cell_type": "code",
   "execution_count": 28,
   "metadata": {},
   "outputs": [
    {
     "data": {
      "text/html": [
       "<div>\n",
       "<style scoped>\n",
       "    .dataframe tbody tr th:only-of-type {\n",
       "        vertical-align: middle;\n",
       "    }\n",
       "\n",
       "    .dataframe tbody tr th {\n",
       "        vertical-align: top;\n",
       "    }\n",
       "\n",
       "    .dataframe thead th {\n",
       "        text-align: right;\n",
       "    }\n",
       "</style>\n",
       "<table border=\"1\" class=\"dataframe\">\n",
       "  <thead>\n",
       "    <tr style=\"text-align: right;\">\n",
       "      <th></th>\n",
       "      <th>rougher</th>\n",
       "      <th>primary_cleaner</th>\n",
       "      <th>final</th>\n",
       "    </tr>\n",
       "  </thead>\n",
       "  <tbody>\n",
       "    <tr>\n",
       "      <td>0</td>\n",
       "      <td>66.42</td>\n",
       "      <td>72.64</td>\n",
       "      <td>63.64</td>\n",
       "    </tr>\n",
       "    <tr>\n",
       "      <td>1</td>\n",
       "      <td>67.01</td>\n",
       "      <td>72.54</td>\n",
       "      <td>63.96</td>\n",
       "    </tr>\n",
       "    <tr>\n",
       "      <td>2</td>\n",
       "      <td>66.10</td>\n",
       "      <td>72.10</td>\n",
       "      <td>64.31</td>\n",
       "    </tr>\n",
       "    <tr>\n",
       "      <td>3</td>\n",
       "      <td>65.75</td>\n",
       "      <td>59.96</td>\n",
       "      <td>63.57</td>\n",
       "    </tr>\n",
       "    <tr>\n",
       "      <td>4</td>\n",
       "      <td>65.91</td>\n",
       "      <td>71.32</td>\n",
       "      <td>64.00</td>\n",
       "    </tr>\n",
       "    <tr>\n",
       "      <td>...</td>\n",
       "      <td>...</td>\n",
       "      <td>...</td>\n",
       "      <td>...</td>\n",
       "    </tr>\n",
       "    <tr>\n",
       "      <td>19434</td>\n",
       "      <td>70.78</td>\n",
       "      <td>59.00</td>\n",
       "      <td>68.10</td>\n",
       "    </tr>\n",
       "    <tr>\n",
       "      <td>19435</td>\n",
       "      <td>70.54</td>\n",
       "      <td>59.70</td>\n",
       "      <td>68.27</td>\n",
       "    </tr>\n",
       "    <tr>\n",
       "      <td>19436</td>\n",
       "      <td>55.38</td>\n",
       "      <td>59.56</td>\n",
       "      <td>68.23</td>\n",
       "    </tr>\n",
       "    <tr>\n",
       "      <td>19437</td>\n",
       "      <td>69.20</td>\n",
       "      <td>57.22</td>\n",
       "      <td>68.20</td>\n",
       "    </tr>\n",
       "    <tr>\n",
       "      <td>19438</td>\n",
       "      <td>69.54</td>\n",
       "      <td>55.75</td>\n",
       "      <td>68.35</td>\n",
       "    </tr>\n",
       "  </tbody>\n",
       "</table>\n",
       "<p>19439 rows × 3 columns</p>\n",
       "</div>"
      ],
      "text/plain": [
       "       rougher  primary_cleaner  final\n",
       "0        66.42            72.64  63.64\n",
       "1        67.01            72.54  63.96\n",
       "2        66.10            72.10  64.31\n",
       "3        65.75            59.96  63.57\n",
       "4        65.91            71.32  64.00\n",
       "...        ...              ...    ...\n",
       "19434    70.78            59.00  68.10\n",
       "19435    70.54            59.70  68.27\n",
       "19436    55.38            59.56  68.23\n",
       "19437    69.20            57.22  68.20\n",
       "19438    69.54            55.75  68.35\n",
       "\n",
       "[19439 rows x 3 columns]"
      ]
     },
     "execution_count": 28,
     "metadata": {},
     "output_type": "execute_result"
    }
   ],
   "source": [
    "df['rougher'] = df['rougher.output.concentrate_ag']\\\n",
    "+ df['rougher.output.concentrate_au']\\\n",
    "+ df['rougher.output.concentrate_pb']\\\n",
    "+ df['rougher.output.concentrate_sol']\n",
    "\n",
    "df['primary_cleaner'] = df['primary_cleaner.output.concentrate_ag']\\\n",
    "+ df['primary_cleaner.output.concentrate_au']\\\n",
    "+ df['primary_cleaner.output.concentrate_pb']\\\n",
    "+ df['primary_cleaner.output.concentrate_sol']\n",
    "\n",
    "df['final'] = df['final.output.concentrate_ag']\\\n",
    "+ df['final.output.concentrate_au']\\\n",
    "+ df['final.output.concentrate_pb']\\\n",
    "+ df['final.output.concentrate_sol']\n",
    "\n",
    "df_concentrate = pd.concat([df['rougher'], df['primary_cleaner'], df['final']], axis=1)\n",
    "df_concentrate"
   ]
  },
  {
   "cell_type": "code",
   "execution_count": 29,
   "metadata": {},
   "outputs": [
    {
     "data": {
      "text/plain": [
       "rougher           68.19\n",
       "primary_cleaner   60.95\n",
       "final             68.73\n",
       "dtype: float64"
      ]
     },
     "execution_count": 29,
     "metadata": {},
     "output_type": "execute_result"
    }
   ],
   "source": [
    "df_concentrate.mean()"
   ]
  },
  {
   "cell_type": "code",
   "execution_count": 30,
   "metadata": {
    "scrolled": false
   },
   "outputs": [
    {
     "data": {
      "text/plain": [
       "<function matplotlib.pyplot.show(*args, **kw)>"
      ]
     },
     "execution_count": 30,
     "metadata": {},
     "output_type": "execute_result"
    },
    {
     "data": {
      "image/png": "[encoded data removed]",
      "text/plain": [
       "<Figure size 720x480 with 1 Axes>"
      ]
     },
     "metadata": {
      "needs_background": "light"
     },
     "output_type": "display_data"
    }
   ],
   "source": [
    "fig, ax = plt.subplots(figsize=(9, 6), dpi=80)\n",
    "ax.plot(df_concentrate.mean())\n",
    "ax.plot(pb_conc.mean())\n",
    "ax.plot(au_conc.mean())\n",
    "ax.plot(ag_conc.mean())\n",
    "ax.plot(sol_conc.mean())\n",
    "plt.grid(True)\n",
    "plt.legend(['sum concentrate', 'pb', 'au', 'ag', 'sol'])\n",
    "plt.title('Concentrate')\n",
    "plt.ylabel('Concentrate')\n",
    "plt.show"
   ]
  },
  {
   "cell_type": "code",
   "execution_count": 31,
   "metadata": {
    "scrolled": true
   },
   "outputs": [
    {
     "data": {
      "text/plain": [
       "19439"
      ]
     },
     "execution_count": 31,
     "metadata": {},
     "output_type": "execute_result"
    }
   ],
   "source": [
    "len(df['date'].unique())"
   ]
  },
  {
   "cell_type": "code",
   "execution_count": 32,
   "metadata": {},
   "outputs": [
    {
     "data": {
      "text/plain": [
       "19439"
      ]
     },
     "execution_count": 32,
     "metadata": {},
     "output_type": "execute_result"
    }
   ],
   "source": [
    "len(df)"
   ]
  },
  {
   "cell_type": "code",
   "execution_count": 33,
   "metadata": {
    "scrolled": true
   },
   "outputs": [],
   "source": [
    "train.drop(train[train['date'].isin(df[df['rougher'] == 0]['date'])].index, inplace=True)"
   ]
  },
  {
   "cell_type": "code",
   "execution_count": 34,
   "metadata": {},
   "outputs": [],
   "source": [
    "test.drop(test[test['date'].isin(df[df['rougher'] == 0]['date'])].index, inplace=True)"
   ]
  },
  {
   "cell_type": "markdown",
   "metadata": {},
   "source": [
    "## Модель"
   ]
  },
  {
   "cell_type": "markdown",
   "metadata": {},
   "source": [
    "Напишим функцию для вычисления sMAPE и итоговой sMAPE"
   ]
  },
  {
   "cell_type": "code",
   "execution_count": 35,
   "metadata": {},
   "outputs": [],
   "source": [
    "def smape(estimator, X, y):\n",
    "    return 1/len(estimator.predict(X)) * np.sum(2 * np.abs(y-estimator.predict(X)) / (np.abs(estimator.predict(X)) + np.abs(y))*100)"
   ]
  },
  {
   "cell_type": "code",
   "execution_count": 36,
   "metadata": {},
   "outputs": [],
   "source": [
    "def final_smape(scores_rougher, scores_final):\n",
    "    return 0.25*scores_rougher+0.75*scores_final"
   ]
  },
  {
   "cell_type": "markdown",
   "metadata": {},
   "source": [
    "Добавим в тестовую выборку два целевых признака"
   ]
  },
  {
   "cell_type": "code",
   "execution_count": 37,
   "metadata": {},
   "outputs": [],
   "source": [
    "test = test.set_index('date').join(df[['final.output.recovery', 'date']].set_index('date'))"
   ]
  },
  {
   "cell_type": "code",
   "execution_count": 38,
   "metadata": {},
   "outputs": [],
   "source": [
    "test = test.join(df[['rougher.output.recovery', 'date']].set_index('date'))"
   ]
  },
  {
   "cell_type": "markdown",
   "metadata": {},
   "source": [
    "### Rougher predict"
   ]
  },
  {
   "cell_type": "markdown",
   "metadata": {},
   "source": [
    "Отберем признаки для стадии rougher"
   ]
  },
  {
   "cell_type": "code",
   "execution_count": 39,
   "metadata": {},
   "outputs": [],
   "source": [
    "rougher_cols = [col for col in test.columns if 'rougher' in col]"
   ]
  },
  {
   "cell_type": "markdown",
   "metadata": {},
   "source": [
    "Выделим признаки и целевой признак"
   ]
  },
  {
   "cell_type": "code",
   "execution_count": 40,
   "metadata": {},
   "outputs": [],
   "source": [
    "target_train = train['rougher.output.recovery']\n",
    "features_train = train[rougher_cols].drop(['rougher.output.recovery'] , axis=1)\n",
    "target_test = test['rougher.output.recovery']\n",
    "features_test = test[rougher_cols].drop(['rougher.output.recovery'] , axis=1)"
   ]
  },
  {
   "cell_type": "code",
   "execution_count": 41,
   "metadata": {},
   "outputs": [
    {
     "data": {
      "text/plain": [
       "((13852, 22), (5193, 22))"
      ]
     },
     "execution_count": 41,
     "metadata": {},
     "output_type": "execute_result"
    }
   ],
   "source": [
    "features_train.shape, features_test.shape"
   ]
  },
  {
   "cell_type": "markdown",
   "metadata": {},
   "source": [
    "Линейная регрессия"
   ]
  },
  {
   "cell_type": "code",
   "execution_count": 42,
   "metadata": {},
   "outputs": [
    {
     "name": "stdout",
     "output_type": "stream",
     "text": [
      "scores = [8.21375672 7.91240644 4.45619816 4.87491834 7.99501904] \n",
      "mean score = 6.69046 +/- 1.66154\n"
     ]
    }
   ],
   "source": [
    "lr = LinearRegression()\n",
    "lr.fit(features_train, target_train)\n",
    "scores_rougher = cross_val_score(lr, features_train, target_train, scoring=smape, cv=5)\n",
    "print('scores = {} \\nmean score = {:.5f} +/- {:.5f}'.format(scores_rougher, scores_rougher.mean(), scores_rougher.std()))"
   ]
  },
  {
   "cell_type": "markdown",
   "metadata": {},
   "source": [
    "Решающее дерево"
   ]
  },
  {
   "cell_type": "code",
   "execution_count": 43,
   "metadata": {},
   "outputs": [],
   "source": [
    "tree_params = {'max_depth': list(range(1,20))}"
   ]
  },
  {
   "cell_type": "code",
   "execution_count": 44,
   "metadata": {},
   "outputs": [
    {
     "name": "stdout",
     "output_type": "stream",
     "text": [
      "{'max_depth': 16} 8.927036145545642\n",
      "scores = 8.927036145545642\n"
     ]
    }
   ],
   "source": [
    "dt = DecisionTreeRegressor()\n",
    "\n",
    "tree_grid = GridSearchCV(dt,\n",
    "                         tree_params,\n",
    "                         cv=5,\n",
    "                         scoring=smape,\n",
    "                         n_jobs=-1\n",
    "                        )\n",
    "tree_grid.fit(features_train, target_train)\n",
    "print(tree_grid.best_params_, tree_grid.best_score_)\n",
    "\n",
    "scores_final = tree_grid.best_score_\n",
    "print('scores = {}'.format(scores_final))"
   ]
  },
  {
   "cell_type": "markdown",
   "metadata": {},
   "source": [
    "Метод ближайших соседей"
   ]
  },
  {
   "cell_type": "code",
   "execution_count": 45,
   "metadata": {},
   "outputs": [],
   "source": [
    "kn_params = {'n_neighbors': list(range(1,5))}"
   ]
  },
  {
   "cell_type": "code",
   "execution_count": 46,
   "metadata": {},
   "outputs": [
    {
     "name": "stdout",
     "output_type": "stream",
     "text": [
      "{'n_neighbors': 1} 11.050317269287623\n",
      "scores = 11.050317269287623\n"
     ]
    }
   ],
   "source": [
    "kn = KNeighborsRegressor()\n",
    "kn_grid = GridSearchCV(kn,\n",
    "                       kn_params,\n",
    "                       cv=5,\n",
    "                       scoring=smape,\n",
    "                       n_jobs=-1\n",
    "                       )\n",
    "kn_grid.fit(features_train, target_train)\n",
    "print(kn_grid.best_params_, kn_grid.best_score_)\n",
    "\n",
    "scores_final = kn_grid.best_score_\n",
    "print('scores = {}'.format(scores_final))"
   ]
  },
  {
   "cell_type": "markdown",
   "metadata": {},
   "source": [
    "Лучшая по метрике sMAPE - линейная регрессия <br>\n",
    "Проверим ее на тестовой выборке"
   ]
  },
  {
   "cell_type": "code",
   "execution_count": 47,
   "metadata": {},
   "outputs": [
    {
     "data": {
      "text/plain": [
       "4.605669758825972"
      ]
     },
     "execution_count": 47,
     "metadata": {},
     "output_type": "execute_result"
    }
   ],
   "source": [
    "lr.predict(features_test)\n",
    "smape(lr, features_test, target_test)"
   ]
  },
  {
   "cell_type": "markdown",
   "metadata": {},
   "source": [
    "На тестовой выборке оценка не падает, модель обучена правильно"
   ]
  },
  {
   "cell_type": "code",
   "execution_count": 48,
   "metadata": {},
   "outputs": [
    {
     "name": "stdout",
     "output_type": "stream",
     "text": [
      "scores = 11.050317269287623 \n",
      "mean score = 11.05032 +/- 0.00000\n"
     ]
    }
   ],
   "source": [
    "dummy_regressor_rougher = DummyRegressor(strategy=\"median\")\n",
    "dummy_regressor_rougher.fit(features_train, target_train)\n",
    "\n",
    "scores_dummy = cross_val_score(dummy_regressor_rougher, features_train, target_train, scoring=smape, cv=5)\n",
    "print('scores = {} \\nmean score = {:.5f} +/- {:.5f}'.format(scores_final, scores_final.mean(), scores_final.std()))"
   ]
  },
  {
   "cell_type": "markdown",
   "metadata": {},
   "source": [
    "Оценка DummyRegressor выше, чем на нашей лучшей модели, значит модель эффективнее чем просто предсказание среднего"
   ]
  },
  {
   "cell_type": "markdown",
   "metadata": {},
   "source": [
    "### Final predict"
   ]
  },
  {
   "cell_type": "markdown",
   "metadata": {},
   "source": [
    "Отберем признаки для стадии final"
   ]
  },
  {
   "cell_type": "code",
   "execution_count": 49,
   "metadata": {},
   "outputs": [],
   "source": [
    "final_cols = test.columns"
   ]
  },
  {
   "cell_type": "markdown",
   "metadata": {},
   "source": [
    "Выделим признаки и целевой признак"
   ]
  },
  {
   "cell_type": "code",
   "execution_count": 50,
   "metadata": {},
   "outputs": [],
   "source": [
    "target_train = train['final.output.recovery']\n",
    "features_train = train[final_cols].drop(['final.output.recovery'], axis=1)\n",
    "target_test = test['final.output.recovery']\n",
    "features_test = test[final_cols].drop(['final.output.recovery'], axis=1)"
   ]
  },
  {
   "cell_type": "code",
   "execution_count": 51,
   "metadata": {},
   "outputs": [
    {
     "data": {
      "text/plain": [
       "((13852, 53), (5193, 53))"
      ]
     },
     "execution_count": 51,
     "metadata": {},
     "output_type": "execute_result"
    }
   ],
   "source": [
    "features_train.shape, features_test.shape"
   ]
  },
  {
   "cell_type": "markdown",
   "metadata": {},
   "source": [
    "Линейная регрессия"
   ]
  },
  {
   "cell_type": "code",
   "execution_count": 52,
   "metadata": {},
   "outputs": [
    {
     "name": "stdout",
     "output_type": "stream",
     "text": [
      "scores = [10.23733751  8.9983152   9.08490223  9.14340537 10.25425066] \n",
      "mean score = 9.54364 +/- 0.57519\n"
     ]
    }
   ],
   "source": [
    "lr = LinearRegression()\n",
    "lr.fit(features_train, target_train)\n",
    "scores_final = cross_val_score(lr, features_train, target_train, scoring=smape, cv=5)\n",
    "print('scores = {} \\nmean score = {:.5f} +/- {:.5f}'.format(scores_final, scores_final.mean(), scores_final.std()))"
   ]
  },
  {
   "cell_type": "markdown",
   "metadata": {},
   "source": [
    "Решающее дерево"
   ]
  },
  {
   "cell_type": "code",
   "execution_count": 53,
   "metadata": {},
   "outputs": [],
   "source": [
    "tree_params = {'max_depth': list(range(1,20))}"
   ]
  },
  {
   "cell_type": "code",
   "execution_count": 54,
   "metadata": {},
   "outputs": [
    {
     "name": "stdout",
     "output_type": "stream",
     "text": [
      "{'max_depth': 19} 19.629717963620603\n",
      "scores = 19.629717963620603\n"
     ]
    }
   ],
   "source": [
    "dt = DecisionTreeRegressor()\n",
    "\n",
    "tree_grid = GridSearchCV(dt,\n",
    "                         tree_params,\n",
    "                         cv=5,\n",
    "                         scoring=smape,\n",
    "                         n_jobs=-1\n",
    "                        )\n",
    "tree_grid.fit(features_train, target_train)\n",
    "print(tree_grid.best_params_, tree_grid.best_score_)\n",
    "\n",
    "scores_final = tree_grid.best_score_\n",
    "print('scores = {}'.format(scores_final))"
   ]
  },
  {
   "cell_type": "markdown",
   "metadata": {},
   "source": [
    "Метод ближайших соседей"
   ]
  },
  {
   "cell_type": "code",
   "execution_count": 55,
   "metadata": {},
   "outputs": [],
   "source": [
    "kn_params = {'n_neighbors': list(range(1,5))}"
   ]
  },
  {
   "cell_type": "code",
   "execution_count": 56,
   "metadata": {},
   "outputs": [
    {
     "name": "stdout",
     "output_type": "stream",
     "text": [
      "{'n_neighbors': 1} 16.681550671544443\n",
      "scores = 16.681550671544443\n"
     ]
    }
   ],
   "source": [
    "kn = KNeighborsRegressor()\n",
    "kn_grid = GridSearchCV(kn,\n",
    "                       kn_params,\n",
    "                       cv=5,\n",
    "                       scoring=smape,\n",
    "                       n_jobs=-1\n",
    "                       )\n",
    "kn_grid.fit(features_train, target_train)\n",
    "print(kn_grid.best_params_, kn_grid.best_score_)\n",
    "\n",
    "scores_final = kn_grid.best_score_\n",
    "print('scores = {}'.format(scores_final))"
   ]
  },
  {
   "cell_type": "markdown",
   "metadata": {},
   "source": [
    "Лучшая по метрике sMAPE - линейная регрессия <br>\n",
    "Проверим ее на тестовой выборке"
   ]
  },
  {
   "cell_type": "code",
   "execution_count": 57,
   "metadata": {},
   "outputs": [
    {
     "data": {
      "text/plain": [
       "9.198504450720911"
      ]
     },
     "execution_count": 57,
     "metadata": {},
     "output_type": "execute_result"
    }
   ],
   "source": [
    "lr.predict(features_test)\n",
    "smape(lr, features_test, target_test)"
   ]
  },
  {
   "cell_type": "markdown",
   "metadata": {},
   "source": [
    "На тестовой выборке оценка не падает, модель обучена правильно"
   ]
  },
  {
   "cell_type": "code",
   "execution_count": 58,
   "metadata": {},
   "outputs": [
    {
     "name": "stdout",
     "output_type": "stream",
     "text": [
      "scores = 16.681550671544443 \n",
      "mean score = 16.68155 +/- 0.00000\n"
     ]
    }
   ],
   "source": [
    "dummy_regressor_final = DummyRegressor(strategy=\"median\")\n",
    "dummy_regressor_final.fit(features_train, target_train)\n",
    "\n",
    "scores_dummy = cross_val_score(dummy_regressor_final, features_train, target_train, scoring=smape, cv=5)\n",
    "print('scores = {} \\nmean score = {:.5f} +/- {:.5f}'.format(scores_final, scores_final.mean(), scores_final.std()))"
   ]
  },
  {
   "cell_type": "markdown",
   "metadata": {},
   "source": [
    "Оценка DummyRegressor выше, чем на нашей лучшей модели, значит модель эффективнее чем просто предсказание среднего"
   ]
  },
  {
   "cell_type": "markdown",
   "metadata": {},
   "source": [
    "Найдем итоговое sMAPE"
   ]
  },
  {
   "cell_type": "code",
   "execution_count": 60,
   "metadata": {},
   "outputs": [
    {
     "data": {
      "text/plain": [
       "8.827499999999999"
      ]
     },
     "execution_count": 60,
     "metadata": {},
     "output_type": "execute_result"
    }
   ],
   "source": [
    "final_smape(6.69, 9.54)"
   ]
  },
  {
   "cell_type": "markdown",
   "metadata": {},
   "source": [
    "Для DummyRegressor"
   ]
  },
  {
   "cell_type": "code",
   "execution_count": 61,
   "metadata": {},
   "outputs": [
    {
     "data": {
      "text/plain": [
       "15.2725"
      ]
     },
     "execution_count": 61,
     "metadata": {},
     "output_type": "execute_result"
    }
   ],
   "source": [
    "final_smape(11.05, 16.68)"
   ]
  },
  {
   "cell_type": "markdown",
   "metadata": {},
   "source": [
    "Итоговый sMAPE для DummyRegressor намного хуже полученного Линейной регрессией, модель дает хорошее качество"
   ]
  },
  {
   "cell_type": "code",
   "execution_count": 62,
   "metadata": {},
   "outputs": [
    {
     "data": {
      "text/plain": [
       "count   19,439.00\n",
       "mean        67.05\n",
       "std         10.13\n",
       "min          0.00\n",
       "25%         63.30\n",
       "50%         68.17\n",
       "75%         72.69\n",
       "max        100.00\n",
       "Name: final.output.recovery, dtype: float64"
      ]
     },
     "execution_count": 62,
     "metadata": {},
     "output_type": "execute_result"
    }
   ],
   "source": [
    "df['final.output.recovery'].describe()"
   ]
  },
  {
   "cell_type": "markdown",
   "metadata": {},
   "source": [
    "Оценки на этапах получились очень близкими. На обоих этапах лучшими моделями были линейные регрессии. При среднем значении recovery - 67.05 значение метрики итоговое sMAPE - 12.1 - составляет 18%, те модель ошибается в среднем на 18%"
   ]
  }
 ],
 "metadata": {
  "ExecuteTimeLog": [
   {
    "duration": 1143,
    "start_time": "2022-01-28T08:36:55.315Z"
   },
   {
    "duration": 18,
    "start_time": "2022-01-28T08:44:02.958Z"
   },
   {
    "duration": 2145,
    "start_time": "2022-01-28T08:44:03.614Z"
   },
   {
    "duration": 699,
    "start_time": "2022-01-28T08:45:22.470Z"
   },
   {
    "duration": 19,
    "start_time": "2022-01-28T08:45:55.112Z"
   },
   {
    "duration": 17,
    "start_time": "2022-01-28T08:46:24.573Z"
   },
   {
    "duration": 16,
    "start_time": "2022-01-28T08:46:31.949Z"
   },
   {
    "duration": 17,
    "start_time": "2022-01-28T08:48:02.625Z"
   },
   {
    "duration": 11,
    "start_time": "2022-01-28T08:48:29.002Z"
   },
   {
    "duration": 271,
    "start_time": "2022-01-28T08:48:47.406Z"
   },
   {
    "duration": 297,
    "start_time": "2022-01-28T08:48:56.241Z"
   },
   {
    "duration": 10,
    "start_time": "2022-01-28T08:49:03.137Z"
   },
   {
    "duration": 9,
    "start_time": "2022-01-28T08:49:09.617Z"
   },
   {
    "duration": 307,
    "start_time": "2022-01-28T08:49:29.221Z"
   },
   {
    "duration": 10,
    "start_time": "2022-01-28T08:49:34.521Z"
   },
   {
    "duration": 4711,
    "start_time": "2022-01-28T08:52:36.165Z"
   },
   {
    "duration": 6,
    "start_time": "2022-01-28T08:52:40.878Z"
   },
   {
    "duration": 3387,
    "start_time": "2022-01-28T08:52:40.885Z"
   },
   {
    "duration": 2384,
    "start_time": "2022-01-28T08:53:29.122Z"
   },
   {
    "duration": 3283,
    "start_time": "2022-01-28T08:53:40.095Z"
   },
   {
    "duration": 871,
    "start_time": "2022-01-28T08:54:12.283Z"
   },
   {
    "duration": 934,
    "start_time": "2022-01-28T08:55:02.433Z"
   },
   {
    "duration": 25,
    "start_time": "2022-01-28T08:56:09.530Z"
   },
   {
    "duration": 1281,
    "start_time": "2022-01-28T08:56:14.490Z"
   },
   {
    "duration": 2907,
    "start_time": "2022-01-28T08:56:35.413Z"
   },
   {
    "duration": 269,
    "start_time": "2022-01-28T08:57:57.861Z"
   },
   {
    "duration": 5470,
    "start_time": "2022-01-28T08:58:26.896Z"
   },
   {
    "duration": 21,
    "start_time": "2022-01-28T08:59:28.206Z"
   },
   {
    "duration": 1326,
    "start_time": "2022-01-28T08:59:29.112Z"
   },
   {
    "duration": 2895,
    "start_time": "2022-01-28T08:59:47.431Z"
   },
   {
    "duration": 5,
    "start_time": "2022-01-28T09:02:07.103Z"
   },
   {
    "duration": 14,
    "start_time": "2022-01-28T09:05:23.178Z"
   },
   {
    "duration": 8904,
    "start_time": "2022-01-28T13:01:03.084Z"
   },
   {
    "duration": 1622,
    "start_time": "2022-01-28T13:01:11.991Z"
   },
   {
    "duration": 846,
    "start_time": "2022-01-28T13:01:13.616Z"
   },
   {
    "duration": 29,
    "start_time": "2022-01-28T13:01:14.465Z"
   },
   {
    "duration": 27,
    "start_time": "2022-01-28T13:01:14.496Z"
   },
   {
    "duration": 41,
    "start_time": "2022-01-28T13:01:14.526Z"
   },
   {
    "duration": 1285,
    "start_time": "2022-01-28T13:01:14.569Z"
   },
   {
    "duration": 41,
    "start_time": "2022-01-28T13:01:15.860Z"
   },
   {
    "duration": 1904,
    "start_time": "2022-01-28T13:01:15.906Z"
   },
   {
    "duration": 4029,
    "start_time": "2022-01-28T13:01:17.813Z"
   },
   {
    "duration": 7303,
    "start_time": "2022-01-28T13:01:21.844Z"
   },
   {
    "duration": 31,
    "start_time": "2022-01-28T13:01:29.149Z"
   },
   {
    "duration": 26,
    "start_time": "2022-01-28T13:01:29.183Z"
   },
   {
    "duration": 4,
    "start_time": "2022-01-28T13:01:29.212Z"
   },
   {
    "duration": 4,
    "start_time": "2022-01-28T13:01:45.893Z"
   },
   {
    "duration": 8,
    "start_time": "2022-01-28T13:01:55.916Z"
   },
   {
    "duration": 7,
    "start_time": "2022-01-28T13:02:29.364Z"
   },
   {
    "duration": 529,
    "start_time": "2022-01-28T13:18:14.614Z"
   },
   {
    "duration": 6,
    "start_time": "2022-01-28T13:18:19.760Z"
   },
   {
    "duration": 6,
    "start_time": "2022-01-28T13:19:16.622Z"
   },
   {
    "duration": 6,
    "start_time": "2022-01-28T13:19:33.518Z"
   },
   {
    "duration": 4,
    "start_time": "2022-01-28T13:22:14.889Z"
   },
   {
    "duration": 9,
    "start_time": "2022-01-28T13:22:16.679Z"
   },
   {
    "duration": 5,
    "start_time": "2022-01-28T13:23:03.947Z"
   },
   {
    "duration": 8,
    "start_time": "2022-01-28T13:23:06.023Z"
   },
   {
    "duration": 119,
    "start_time": "2022-01-28T13:23:43.135Z"
   },
   {
    "duration": 5,
    "start_time": "2022-01-28T13:23:45.777Z"
   },
   {
    "duration": 8,
    "start_time": "2022-01-28T13:23:48.444Z"
   },
   {
    "duration": 41,
    "start_time": "2022-01-28T13:24:51.993Z"
   },
   {
    "duration": 13,
    "start_time": "2022-01-28T13:25:05.031Z"
   },
   {
    "duration": 13,
    "start_time": "2022-01-28T13:25:27.074Z"
   },
   {
    "duration": 15,
    "start_time": "2022-01-28T13:26:23.423Z"
   },
   {
    "duration": 13,
    "start_time": "2022-01-28T13:26:36.641Z"
   },
   {
    "duration": 13,
    "start_time": "2022-01-28T13:26:49.330Z"
   },
   {
    "duration": 8,
    "start_time": "2022-01-28T13:49:12.727Z"
   },
   {
    "duration": 7,
    "start_time": "2022-01-28T13:50:42.906Z"
   },
   {
    "duration": 520,
    "start_time": "2022-01-28T13:50:59.153Z"
   },
   {
    "duration": 7,
    "start_time": "2022-01-28T13:51:17.997Z"
   },
   {
    "duration": 6,
    "start_time": "2022-01-28T13:53:41.895Z"
   },
   {
    "duration": 6,
    "start_time": "2022-01-28T13:55:41.018Z"
   },
   {
    "duration": 6,
    "start_time": "2022-01-28T13:55:55.414Z"
   },
   {
    "duration": 346,
    "start_time": "2022-01-28T13:56:14.032Z"
   },
   {
    "duration": 6,
    "start_time": "2022-01-28T13:56:23.308Z"
   },
   {
    "duration": 5,
    "start_time": "2022-01-28T13:56:43.433Z"
   },
   {
    "duration": 6,
    "start_time": "2022-01-28T13:56:48.545Z"
   },
   {
    "duration": 7,
    "start_time": "2022-01-28T13:57:09.685Z"
   },
   {
    "duration": 5,
    "start_time": "2022-01-28T13:57:23.036Z"
   },
   {
    "duration": 6,
    "start_time": "2022-01-28T13:57:43.964Z"
   },
   {
    "duration": 5,
    "start_time": "2022-01-28T13:57:51.479Z"
   },
   {
    "duration": 5,
    "start_time": "2022-01-28T13:58:16.279Z"
   },
   {
    "duration": 447,
    "start_time": "2022-01-28T13:59:02.340Z"
   },
   {
    "duration": 116,
    "start_time": "2022-01-28T13:59:24.475Z"
   },
   {
    "duration": 148,
    "start_time": "2022-01-28T14:00:07.567Z"
   },
   {
    "duration": 37,
    "start_time": "2022-01-28T14:00:20.954Z"
   },
   {
    "duration": 11,
    "start_time": "2022-01-28T14:00:36.690Z"
   },
   {
    "duration": 399,
    "start_time": "2022-01-28T14:00:44.166Z"
   },
   {
    "duration": 391,
    "start_time": "2022-01-28T14:00:47.602Z"
   },
   {
    "duration": 11,
    "start_time": "2022-01-28T14:00:53.932Z"
   },
   {
    "duration": 11,
    "start_time": "2022-01-28T14:01:01.331Z"
   },
   {
    "duration": 6,
    "start_time": "2022-01-28T14:01:16.553Z"
   },
   {
    "duration": 5,
    "start_time": "2022-01-28T14:01:21.931Z"
   },
   {
    "duration": 439,
    "start_time": "2022-01-28T14:04:25.409Z"
   },
   {
    "duration": 355,
    "start_time": "2022-01-28T14:04:30.513Z"
   },
   {
    "duration": 8,
    "start_time": "2022-01-28T14:06:24.153Z"
   },
   {
    "duration": 10,
    "start_time": "2022-01-28T14:06:36.547Z"
   },
   {
    "duration": 6,
    "start_time": "2022-01-28T14:07:31.623Z"
   },
   {
    "duration": 379,
    "start_time": "2022-01-28T14:08:13.102Z"
   },
   {
    "duration": 368,
    "start_time": "2022-01-28T14:08:16.950Z"
   },
   {
    "duration": 6,
    "start_time": "2022-01-28T14:08:20.000Z"
   },
   {
    "duration": 401,
    "start_time": "2022-01-28T14:08:22.808Z"
   },
   {
    "duration": 6,
    "start_time": "2022-01-28T14:08:27.204Z"
   },
   {
    "duration": 9,
    "start_time": "2022-01-28T14:09:55.816Z"
   },
   {
    "duration": 7,
    "start_time": "2022-01-28T14:10:39.132Z"
   },
   {
    "duration": 11,
    "start_time": "2022-01-28T14:10:46.301Z"
   },
   {
    "duration": 13,
    "start_time": "2022-01-28T14:11:16.816Z"
   },
   {
    "duration": 39,
    "start_time": "2022-01-28T14:11:17.410Z"
   },
   {
    "duration": 15,
    "start_time": "2022-01-28T14:11:49.736Z"
   },
   {
    "duration": 11,
    "start_time": "2022-01-28T14:11:50.360Z"
   },
   {
    "duration": 15,
    "start_time": "2022-01-28T14:13:07.852Z"
   },
   {
    "duration": 13,
    "start_time": "2022-01-28T14:13:08.784Z"
   },
   {
    "duration": 13,
    "start_time": "2022-01-28T14:13:26.428Z"
   },
   {
    "duration": 13,
    "start_time": "2022-01-28T14:13:34.571Z"
   },
   {
    "duration": 12,
    "start_time": "2022-01-28T14:13:41.259Z"
   },
   {
    "duration": 15,
    "start_time": "2022-01-28T14:13:50.289Z"
   },
   {
    "duration": 13,
    "start_time": "2022-01-28T14:14:05.957Z"
   },
   {
    "duration": 13,
    "start_time": "2022-01-28T14:14:11.913Z"
   },
   {
    "duration": 15,
    "start_time": "2022-01-28T14:14:17.319Z"
   },
   {
    "duration": 16,
    "start_time": "2022-01-28T14:15:29.317Z"
   },
   {
    "duration": 15,
    "start_time": "2022-01-28T14:39:02.010Z"
   },
   {
    "duration": 16,
    "start_time": "2022-01-28T14:41:26.449Z"
   },
   {
    "duration": 10389,
    "start_time": "2022-01-28T14:42:19.508Z"
   },
   {
    "duration": 10952,
    "start_time": "2022-01-28T14:43:03.693Z"
   },
   {
    "duration": 9230,
    "start_time": "2022-01-28T14:43:30.388Z"
   },
   {
    "duration": 10574,
    "start_time": "2022-01-28T14:43:44.660Z"
   },
   {
    "duration": 21,
    "start_time": "2022-01-28T14:44:59.896Z"
   },
   {
    "duration": 388,
    "start_time": "2022-01-28T14:45:06.242Z"
   },
   {
    "duration": 14,
    "start_time": "2022-01-28T14:45:11.748Z"
   },
   {
    "duration": 123,
    "start_time": "2022-01-28T14:45:47.215Z"
   },
   {
    "duration": 12,
    "start_time": "2022-01-28T14:45:56.323Z"
   },
   {
    "duration": 10,
    "start_time": "2022-01-28T14:46:25.061Z"
   },
   {
    "duration": 10,
    "start_time": "2022-01-28T14:46:27.767Z"
   },
   {
    "duration": 11,
    "start_time": "2022-01-28T14:46:46.940Z"
   },
   {
    "duration": 15,
    "start_time": "2022-01-28T14:52:07.136Z"
   },
   {
    "duration": 682,
    "start_time": "2022-01-28T14:52:49.628Z"
   },
   {
    "duration": 446,
    "start_time": "2022-01-28T14:53:08.019Z"
   },
   {
    "duration": 282,
    "start_time": "2022-01-28T14:53:11.411Z"
   },
   {
    "duration": 612,
    "start_time": "2022-01-28T14:53:23.365Z"
   },
   {
    "duration": 154,
    "start_time": "2022-01-28T14:54:50.646Z"
   },
   {
    "duration": 508,
    "start_time": "2022-01-28T14:54:56.268Z"
   },
   {
    "duration": 523,
    "start_time": "2022-01-28T14:56:23.877Z"
   },
   {
    "duration": 375,
    "start_time": "2022-01-28T14:56:38.258Z"
   },
   {
    "duration": 628,
    "start_time": "2022-01-28T14:58:14.070Z"
   },
   {
    "duration": 498,
    "start_time": "2022-01-28T14:58:18.245Z"
   },
   {
    "duration": 1702,
    "start_time": "2022-01-28T15:01:30.708Z"
   },
   {
    "duration": 1915,
    "start_time": "2022-01-28T15:03:40.535Z"
   },
   {
    "duration": 2139,
    "start_time": "2022-01-28T15:04:43.094Z"
   },
   {
    "duration": 1686,
    "start_time": "2022-01-28T15:05:58.462Z"
   },
   {
    "duration": 1613,
    "start_time": "2022-01-28T15:06:27.989Z"
   },
   {
    "duration": 1864,
    "start_time": "2022-01-28T15:08:08.657Z"
   },
   {
    "duration": 2210,
    "start_time": "2022-01-28T15:08:45.182Z"
   },
   {
    "duration": 2349,
    "start_time": "2022-01-28T15:08:52.538Z"
   },
   {
    "duration": 2093,
    "start_time": "2022-01-28T15:09:00.683Z"
   },
   {
    "duration": 2637,
    "start_time": "2022-01-28T15:09:31.695Z"
   },
   {
    "duration": 2105,
    "start_time": "2022-01-28T15:09:39.517Z"
   },
   {
    "duration": 2212,
    "start_time": "2022-01-28T15:09:53.473Z"
   },
   {
    "duration": 2420,
    "start_time": "2022-01-28T15:10:00.200Z"
   },
   {
    "duration": 6,
    "start_time": "2022-01-28T15:10:59.467Z"
   },
   {
    "duration": 7,
    "start_time": "2022-01-28T15:13:46.036Z"
   },
   {
    "duration": 25,
    "start_time": "2022-01-28T15:14:57.312Z"
   },
   {
    "duration": 123,
    "start_time": "2022-01-28T15:18:18.184Z"
   },
   {
    "duration": 35,
    "start_time": "2022-01-28T15:18:48.093Z"
   },
   {
    "duration": 8,
    "start_time": "2022-01-28T15:21:39.161Z"
   },
   {
    "duration": 15,
    "start_time": "2022-01-28T15:24:30.744Z"
   },
   {
    "duration": 7422,
    "start_time": "2022-01-28T16:27:24.184Z"
   },
   {
    "duration": 1576,
    "start_time": "2022-01-28T16:27:31.609Z"
   },
   {
    "duration": 4287,
    "start_time": "2022-01-28T16:27:33.188Z"
   },
   {
    "duration": 27,
    "start_time": "2022-01-28T16:27:37.478Z"
   },
   {
    "duration": 24,
    "start_time": "2022-01-28T16:27:37.508Z"
   },
   {
    "duration": 32,
    "start_time": "2022-01-28T16:27:37.535Z"
   },
   {
    "duration": 1244,
    "start_time": "2022-01-28T16:27:37.570Z"
   },
   {
    "duration": 52,
    "start_time": "2022-01-28T16:27:38.818Z"
   },
   {
    "duration": 1711,
    "start_time": "2022-01-28T16:27:38.873Z"
   },
   {
    "duration": 4196,
    "start_time": "2022-01-28T16:27:40.587Z"
   },
   {
    "duration": 7279,
    "start_time": "2022-01-28T16:27:44.786Z"
   },
   {
    "duration": 23,
    "start_time": "2022-01-28T16:27:52.067Z"
   },
   {
    "duration": 22,
    "start_time": "2022-01-28T16:27:52.093Z"
   },
   {
    "duration": 4,
    "start_time": "2022-01-28T16:27:52.117Z"
   },
   {
    "duration": 43,
    "start_time": "2022-01-28T16:27:52.123Z"
   },
   {
    "duration": 9,
    "start_time": "2022-01-28T16:27:52.168Z"
   },
   {
    "duration": 5,
    "start_time": "2022-01-28T16:27:52.179Z"
   },
   {
    "duration": 9,
    "start_time": "2022-01-28T16:27:52.186Z"
   },
   {
    "duration": 9,
    "start_time": "2022-01-28T16:27:52.198Z"
   },
   {
    "duration": 60,
    "start_time": "2022-01-28T16:27:52.210Z"
   },
   {
    "duration": 18,
    "start_time": "2022-01-28T16:27:52.273Z"
   },
   {
    "duration": 11,
    "start_time": "2022-01-28T16:27:52.294Z"
   },
   {
    "duration": 9,
    "start_time": "2022-01-28T16:27:52.312Z"
   },
   {
    "duration": 13,
    "start_time": "2022-01-28T16:27:52.359Z"
   },
   {
    "duration": 2284,
    "start_time": "2022-01-28T16:27:52.375Z"
   },
   {
    "duration": 2132,
    "start_time": "2022-01-28T16:27:54.662Z"
   },
   {
    "duration": 22,
    "start_time": "2022-01-28T16:27:56.796Z"
   },
   {
    "duration": 112,
    "start_time": "2022-01-28T16:27:56.820Z"
   },
   {
    "duration": 629,
    "start_time": "2022-01-28T16:32:17.047Z"
   },
   {
    "duration": 514,
    "start_time": "2022-01-28T16:32:34.764Z"
   },
   {
    "duration": 9,
    "start_time": "2022-01-28T16:32:52.370Z"
   },
   {
    "duration": 7,
    "start_time": "2022-01-28T16:33:00.234Z"
   },
   {
    "duration": 12,
    "start_time": "2022-01-28T16:33:44.347Z"
   },
   {
    "duration": 12,
    "start_time": "2022-01-28T16:33:46.682Z"
   },
   {
    "duration": 8,
    "start_time": "2022-01-28T16:34:14.351Z"
   },
   {
    "duration": 14,
    "start_time": "2022-01-28T16:35:46.952Z"
   },
   {
    "duration": 10,
    "start_time": "2022-01-28T16:35:53.460Z"
   },
   {
    "duration": 9,
    "start_time": "2022-01-28T16:35:59.956Z"
   },
   {
    "duration": 11,
    "start_time": "2022-01-28T16:36:06.786Z"
   },
   {
    "duration": 9,
    "start_time": "2022-01-28T16:36:24.311Z"
   },
   {
    "duration": 9,
    "start_time": "2022-01-28T16:36:26.981Z"
   },
   {
    "duration": 11,
    "start_time": "2022-01-28T16:36:29.408Z"
   },
   {
    "duration": 201,
    "start_time": "2022-01-28T16:39:18.687Z"
   },
   {
    "duration": 12,
    "start_time": "2022-01-28T16:39:53.323Z"
   },
   {
    "duration": 8,
    "start_time": "2022-01-28T16:39:53.979Z"
   },
   {
    "duration": 204,
    "start_time": "2022-01-28T16:39:54.627Z"
   },
   {
    "duration": 384,
    "start_time": "2022-01-28T16:40:25.822Z"
   },
   {
    "duration": 313,
    "start_time": "2022-01-28T16:41:02.199Z"
   },
   {
    "duration": 317,
    "start_time": "2022-01-28T16:44:55.308Z"
   },
   {
    "duration": 1475,
    "start_time": "2022-01-28T16:47:09.668Z"
   },
   {
    "duration": 10,
    "start_time": "2022-01-28T16:47:31.499Z"
   },
   {
    "duration": 6,
    "start_time": "2022-01-28T16:47:36.943Z"
   },
   {
    "duration": 8,
    "start_time": "2022-01-28T16:47:43.451Z"
   },
   {
    "duration": 8,
    "start_time": "2022-01-28T16:47:51.373Z"
   },
   {
    "duration": 10,
    "start_time": "2022-01-28T16:48:08.901Z"
   },
   {
    "duration": 11,
    "start_time": "2022-01-28T16:48:21.102Z"
   },
   {
    "duration": 9,
    "start_time": "2022-01-28T16:48:32.731Z"
   },
   {
    "duration": 9,
    "start_time": "2022-01-28T16:48:40.156Z"
   },
   {
    "duration": 558,
    "start_time": "2022-01-28T16:48:43.406Z"
   },
   {
    "duration": 237,
    "start_time": "2022-01-28T16:48:54.056Z"
   },
   {
    "duration": 224,
    "start_time": "2022-01-28T16:49:08.915Z"
   },
   {
    "duration": 247,
    "start_time": "2022-01-28T16:49:35.904Z"
   },
   {
    "duration": 265,
    "start_time": "2022-01-28T16:50:57.087Z"
   },
   {
    "duration": 21,
    "start_time": "2022-01-28T16:52:36.125Z"
   },
   {
    "duration": 14,
    "start_time": "2022-01-28T16:52:51.342Z"
   },
   {
    "duration": 17,
    "start_time": "2022-01-28T16:53:12.078Z"
   },
   {
    "duration": 15,
    "start_time": "2022-01-28T16:53:16.151Z"
   },
   {
    "duration": 14,
    "start_time": "2022-01-28T16:53:19.466Z"
   },
   {
    "duration": 19,
    "start_time": "2022-01-28T16:53:24.439Z"
   },
   {
    "duration": 14,
    "start_time": "2022-01-28T16:54:01.561Z"
   },
   {
    "duration": 16,
    "start_time": "2022-01-28T16:54:09.371Z"
   },
   {
    "duration": 16,
    "start_time": "2022-01-28T16:54:13.139Z"
   },
   {
    "duration": 19,
    "start_time": "2022-01-28T16:54:51.238Z"
   },
   {
    "duration": 8,
    "start_time": "2022-01-28T16:55:01.318Z"
   },
   {
    "duration": 261,
    "start_time": "2022-01-28T16:55:03.616Z"
   },
   {
    "duration": 259,
    "start_time": "2022-01-28T16:56:58.581Z"
   },
   {
    "duration": 281,
    "start_time": "2022-01-28T16:59:48.141Z"
   },
   {
    "duration": 4,
    "start_time": "2022-01-28T17:09:29.986Z"
   },
   {
    "duration": 4,
    "start_time": "2022-01-28T17:09:32.858Z"
   },
   {
    "duration": 6,
    "start_time": "2022-01-28T17:29:00.147Z"
   },
   {
    "duration": 6,
    "start_time": "2022-01-28T17:36:51.692Z"
   },
   {
    "duration": 6,
    "start_time": "2022-01-28T17:37:03.704Z"
   },
   {
    "duration": 6,
    "start_time": "2022-01-28T17:37:12.575Z"
   },
   {
    "duration": 10867,
    "start_time": "2022-01-28T18:23:28.468Z"
   },
   {
    "duration": 375,
    "start_time": "2022-01-28T18:30:13.895Z"
   },
   {
    "duration": 379,
    "start_time": "2022-01-28T18:32:12.517Z"
   },
   {
    "duration": 366,
    "start_time": "2022-01-28T18:34:46.614Z"
   },
   {
    "duration": 47,
    "start_time": "2022-01-28T18:35:34.851Z"
   },
   {
    "duration": 56,
    "start_time": "2022-01-28T18:36:03.403Z"
   },
   {
    "duration": 22,
    "start_time": "2022-01-28T18:36:18.852Z"
   },
   {
    "duration": 361,
    "start_time": "2022-01-28T18:36:54.572Z"
   },
   {
    "duration": 14,
    "start_time": "2022-01-28T18:37:27.254Z"
   },
   {
    "duration": 7,
    "start_time": "2022-01-28T18:37:36.242Z"
   },
   {
    "duration": 5,
    "start_time": "2022-01-28T18:38:02.033Z"
   },
   {
    "duration": 351,
    "start_time": "2022-01-28T18:38:16.635Z"
   },
   {
    "duration": 423,
    "start_time": "2022-01-28T18:38:17.177Z"
   },
   {
    "duration": 7318,
    "start_time": "2022-01-28T18:38:44.143Z"
   },
   {
    "duration": 1554,
    "start_time": "2022-01-28T18:38:51.465Z"
   },
   {
    "duration": 870,
    "start_time": "2022-01-28T18:38:53.027Z"
   },
   {
    "duration": 30,
    "start_time": "2022-01-28T18:38:53.900Z"
   },
   {
    "duration": 45,
    "start_time": "2022-01-28T18:38:53.933Z"
   },
   {
    "duration": 14,
    "start_time": "2022-01-28T18:38:53.981Z"
   },
   {
    "duration": 1465,
    "start_time": "2022-01-28T18:38:53.997Z"
   },
   {
    "duration": 41,
    "start_time": "2022-01-28T18:38:55.467Z"
   },
   {
    "duration": 2000,
    "start_time": "2022-01-28T18:38:55.512Z"
   },
   {
    "duration": 4377,
    "start_time": "2022-01-28T18:38:57.515Z"
   },
   {
    "duration": 7173,
    "start_time": "2022-01-28T18:39:01.894Z"
   },
   {
    "duration": 28,
    "start_time": "2022-01-28T18:39:09.069Z"
   },
   {
    "duration": 27,
    "start_time": "2022-01-28T18:39:09.100Z"
   },
   {
    "duration": 29,
    "start_time": "2022-01-28T18:39:09.130Z"
   },
   {
    "duration": 9,
    "start_time": "2022-01-28T18:39:09.161Z"
   },
   {
    "duration": 11,
    "start_time": "2022-01-28T18:39:09.173Z"
   },
   {
    "duration": 7,
    "start_time": "2022-01-28T18:39:09.187Z"
   },
   {
    "duration": 13,
    "start_time": "2022-01-28T18:39:09.196Z"
   },
   {
    "duration": 52,
    "start_time": "2022-01-28T18:39:09.211Z"
   },
   {
    "duration": 16,
    "start_time": "2022-01-28T18:39:09.265Z"
   },
   {
    "duration": 17,
    "start_time": "2022-01-28T18:39:09.283Z"
   },
   {
    "duration": 10,
    "start_time": "2022-01-28T18:39:09.302Z"
   },
   {
    "duration": 10,
    "start_time": "2022-01-28T18:39:09.359Z"
   },
   {
    "duration": 9,
    "start_time": "2022-01-28T18:39:09.371Z"
   },
   {
    "duration": 2606,
    "start_time": "2022-01-28T18:39:09.383Z"
   },
   {
    "duration": 2281,
    "start_time": "2022-01-28T18:39:11.996Z"
   },
   {
    "duration": 21,
    "start_time": "2022-01-28T18:39:14.279Z"
   },
   {
    "duration": 22,
    "start_time": "2022-01-28T18:39:14.303Z"
   },
   {
    "duration": 7,
    "start_time": "2022-01-28T18:39:14.360Z"
   },
   {
    "duration": 316,
    "start_time": "2022-01-28T18:39:14.370Z"
   },
   {
    "duration": 4,
    "start_time": "2022-01-28T18:39:14.688Z"
   },
   {
    "duration": 5,
    "start_time": "2022-01-28T18:39:14.695Z"
   },
   {
    "duration": 27,
    "start_time": "2022-01-28T18:39:14.703Z"
   },
   {
    "duration": 36,
    "start_time": "2022-01-28T18:39:14.733Z"
   },
   {
    "duration": 133,
    "start_time": "2022-01-28T18:39:14.772Z"
   },
   {
    "duration": 839,
    "start_time": "2022-01-28T18:39:14.069Z"
   },
   {
    "duration": 838,
    "start_time": "2022-01-28T18:39:14.072Z"
   },
   {
    "duration": 36,
    "start_time": "2022-01-28T18:39:24.575Z"
   },
   {
    "duration": 5,
    "start_time": "2022-01-28T18:39:31.836Z"
   },
   {
    "duration": 620,
    "start_time": "2022-01-28T18:40:38.666Z"
   },
   {
    "duration": 22,
    "start_time": "2022-01-28T18:41:16.849Z"
   },
   {
    "duration": 350,
    "start_time": "2022-01-28T18:41:34.959Z"
   },
   {
    "duration": 13,
    "start_time": "2022-01-28T18:42:13.534Z"
   },
   {
    "duration": 374,
    "start_time": "2022-01-28T18:45:57.976Z"
   },
   {
    "duration": 7832,
    "start_time": "2022-01-29T11:10:54.982Z"
   },
   {
    "duration": 1846,
    "start_time": "2022-01-29T11:11:02.818Z"
   },
   {
    "duration": 5138,
    "start_time": "2022-01-29T11:11:04.668Z"
   },
   {
    "duration": 40,
    "start_time": "2022-01-29T11:11:09.809Z"
   },
   {
    "duration": 24,
    "start_time": "2022-01-29T11:11:09.852Z"
   },
   {
    "duration": 14,
    "start_time": "2022-01-29T11:11:09.879Z"
   },
   {
    "duration": 1229,
    "start_time": "2022-01-29T11:11:09.896Z"
   },
   {
    "duration": 55,
    "start_time": "2022-01-29T11:11:11.132Z"
   },
   {
    "duration": 1753,
    "start_time": "2022-01-29T11:11:11.191Z"
   },
   {
    "duration": 3817,
    "start_time": "2022-01-29T11:11:12.950Z"
   },
   {
    "duration": 7247,
    "start_time": "2022-01-29T11:11:16.770Z"
   },
   {
    "duration": 39,
    "start_time": "2022-01-29T11:11:24.019Z"
   },
   {
    "duration": 20,
    "start_time": "2022-01-29T11:11:24.061Z"
   },
   {
    "duration": 4,
    "start_time": "2022-01-29T11:11:24.084Z"
   },
   {
    "duration": 10,
    "start_time": "2022-01-29T11:11:24.090Z"
   },
   {
    "duration": 45,
    "start_time": "2022-01-29T11:11:24.103Z"
   },
   {
    "duration": 7,
    "start_time": "2022-01-29T11:11:24.150Z"
   },
   {
    "duration": 9,
    "start_time": "2022-01-29T11:11:24.159Z"
   },
   {
    "duration": 11,
    "start_time": "2022-01-29T11:11:24.170Z"
   },
   {
    "duration": 15,
    "start_time": "2022-01-29T11:11:24.184Z"
   },
   {
    "duration": 50,
    "start_time": "2022-01-29T11:11:24.201Z"
   },
   {
    "duration": 10,
    "start_time": "2022-01-29T11:11:24.254Z"
   },
   {
    "duration": 9,
    "start_time": "2022-01-29T11:11:24.269Z"
   },
   {
    "duration": 9,
    "start_time": "2022-01-29T11:11:24.281Z"
   },
   {
    "duration": 2328,
    "start_time": "2022-01-29T11:11:24.292Z"
   },
   {
    "duration": 2141,
    "start_time": "2022-01-29T11:11:26.624Z"
   },
   {
    "duration": 22,
    "start_time": "2022-01-29T11:11:28.768Z"
   },
   {
    "duration": 23,
    "start_time": "2022-01-29T11:11:28.792Z"
   },
   {
    "duration": 36,
    "start_time": "2022-01-29T11:11:28.817Z"
   },
   {
    "duration": 295,
    "start_time": "2022-01-29T11:11:28.856Z"
   },
   {
    "duration": 5,
    "start_time": "2022-01-29T11:11:29.153Z"
   },
   {
    "duration": 8,
    "start_time": "2022-01-29T11:11:29.161Z"
   },
   {
    "duration": 27,
    "start_time": "2022-01-29T11:11:29.171Z"
   },
   {
    "duration": 16,
    "start_time": "2022-01-29T11:11:29.200Z"
   },
   {
    "duration": 11,
    "start_time": "2022-01-29T11:11:29.249Z"
   },
   {
    "duration": 451,
    "start_time": "2022-01-29T11:11:29.262Z"
   },
   {
    "duration": 296,
    "start_time": "2022-01-29T11:21:42.298Z"
   },
   {
    "duration": 4791,
    "start_time": "2022-01-29T11:22:14.800Z"
   },
   {
    "duration": 6,
    "start_time": "2022-01-29T11:22:51.435Z"
   },
   {
    "duration": 12,
    "start_time": "2022-01-29T11:23:04.018Z"
   },
   {
    "duration": 290,
    "start_time": "2022-01-29T11:23:34.292Z"
   },
   {
    "duration": 12,
    "start_time": "2022-01-29T11:23:43.432Z"
   },
   {
    "duration": 301,
    "start_time": "2022-01-29T11:24:13.181Z"
   },
   {
    "duration": 7,
    "start_time": "2022-01-29T11:24:21.163Z"
   },
   {
    "duration": 10,
    "start_time": "2022-01-29T11:24:27.392Z"
   },
   {
    "duration": 11,
    "start_time": "2022-01-29T11:24:36.316Z"
   },
   {
    "duration": 16,
    "start_time": "2022-01-29T11:25:03.835Z"
   },
   {
    "duration": 286,
    "start_time": "2022-01-29T11:34:24.016Z"
   },
   {
    "duration": 45,
    "start_time": "2022-01-29T11:34:54.749Z"
   },
   {
    "duration": 8,
    "start_time": "2022-01-29T11:35:10.456Z"
   },
   {
    "duration": 9,
    "start_time": "2022-01-29T11:35:49.480Z"
   },
   {
    "duration": 312,
    "start_time": "2022-01-29T11:36:03.976Z"
   },
   {
    "duration": 9,
    "start_time": "2022-01-29T11:36:09.707Z"
   },
   {
    "duration": 9,
    "start_time": "2022-01-29T11:36:33.157Z"
   },
   {
    "duration": 14,
    "start_time": "2022-01-29T11:36:42.469Z"
   },
   {
    "duration": 296,
    "start_time": "2022-01-29T11:38:30.841Z"
   },
   {
    "duration": 45,
    "start_time": "2022-01-29T11:38:39.980Z"
   },
   {
    "duration": 10,
    "start_time": "2022-01-29T11:38:44.097Z"
   },
   {
    "duration": 12,
    "start_time": "2022-01-29T11:38:46.194Z"
   },
   {
    "duration": 5,
    "start_time": "2022-01-29T11:39:14.769Z"
   },
   {
    "duration": 5,
    "start_time": "2022-01-29T11:39:42.001Z"
   },
   {
    "duration": 309,
    "start_time": "2022-01-29T11:40:49.828Z"
   },
   {
    "duration": 40,
    "start_time": "2022-01-29T11:40:59.513Z"
   },
   {
    "duration": 11,
    "start_time": "2022-01-29T11:41:13.871Z"
   },
   {
    "duration": 10,
    "start_time": "2022-01-29T11:42:03.052Z"
   },
   {
    "duration": 13,
    "start_time": "2022-01-29T11:42:04.882Z"
   },
   {
    "duration": 9,
    "start_time": "2022-01-29T11:42:27.664Z"
   },
   {
    "duration": 9,
    "start_time": "2022-01-29T11:42:31.623Z"
   },
   {
    "duration": 13,
    "start_time": "2022-01-29T11:42:33.485Z"
   },
   {
    "duration": 278,
    "start_time": "2022-01-29T11:42:54.981Z"
   },
   {
    "duration": 6629,
    "start_time": "2022-01-29T11:43:10.573Z"
   },
   {
    "duration": 1535,
    "start_time": "2022-01-29T11:43:17.205Z"
   },
   {
    "duration": 870,
    "start_time": "2022-01-29T11:43:18.743Z"
   },
   {
    "duration": 36,
    "start_time": "2022-01-29T11:43:19.615Z"
   },
   {
    "duration": 23,
    "start_time": "2022-01-29T11:43:19.653Z"
   },
   {
    "duration": 12,
    "start_time": "2022-01-29T11:43:19.679Z"
   },
   {
    "duration": 1223,
    "start_time": "2022-01-29T11:43:19.694Z"
   },
   {
    "duration": 51,
    "start_time": "2022-01-29T11:43:20.920Z"
   },
   {
    "duration": 1774,
    "start_time": "2022-01-29T11:43:20.975Z"
   },
   {
    "duration": 3952,
    "start_time": "2022-01-29T11:43:22.753Z"
   },
   {
    "duration": 6895,
    "start_time": "2022-01-29T11:43:26.708Z"
   },
   {
    "duration": 45,
    "start_time": "2022-01-29T11:43:33.605Z"
   },
   {
    "duration": 25,
    "start_time": "2022-01-29T11:43:33.653Z"
   },
   {
    "duration": 6,
    "start_time": "2022-01-29T11:43:33.681Z"
   },
   {
    "duration": 11,
    "start_time": "2022-01-29T11:43:33.690Z"
   },
   {
    "duration": 8,
    "start_time": "2022-01-29T11:43:33.703Z"
   },
   {
    "duration": 9,
    "start_time": "2022-01-29T11:43:33.748Z"
   },
   {
    "duration": 7,
    "start_time": "2022-01-29T11:43:33.760Z"
   },
   {
    "duration": 12,
    "start_time": "2022-01-29T11:43:33.770Z"
   },
   {
    "duration": 74,
    "start_time": "2022-01-29T11:43:33.785Z"
   },
   {
    "duration": 23,
    "start_time": "2022-01-29T11:43:33.862Z"
   },
   {
    "duration": 7,
    "start_time": "2022-01-29T11:43:33.889Z"
   },
   {
    "duration": 16,
    "start_time": "2022-01-29T11:43:33.899Z"
   },
   {
    "duration": 38,
    "start_time": "2022-01-29T11:43:33.918Z"
   },
   {
    "duration": 18,
    "start_time": "2022-01-29T11:43:33.958Z"
   },
   {
    "duration": 13,
    "start_time": "2022-01-29T11:43:33.979Z"
   },
   {
    "duration": 9,
    "start_time": "2022-01-29T11:43:33.998Z"
   },
   {
    "duration": 41,
    "start_time": "2022-01-29T11:43:34.010Z"
   },
   {
    "duration": 9,
    "start_time": "2022-01-29T11:43:34.054Z"
   },
   {
    "duration": 2383,
    "start_time": "2022-01-29T11:43:34.066Z"
   },
   {
    "duration": 2326,
    "start_time": "2022-01-29T11:43:36.452Z"
   },
   {
    "duration": 22,
    "start_time": "2022-01-29T11:43:38.780Z"
   },
   {
    "duration": 47,
    "start_time": "2022-01-29T11:43:38.805Z"
   },
   {
    "duration": 7,
    "start_time": "2022-01-29T11:43:38.855Z"
   },
   {
    "duration": 295,
    "start_time": "2022-01-29T11:43:38.865Z"
   },
   {
    "duration": 4,
    "start_time": "2022-01-29T11:43:39.163Z"
   },
   {
    "duration": 9,
    "start_time": "2022-01-29T11:43:39.170Z"
   },
   {
    "duration": 31,
    "start_time": "2022-01-29T11:43:39.181Z"
   },
   {
    "duration": 39,
    "start_time": "2022-01-29T11:43:39.214Z"
   },
   {
    "duration": 13,
    "start_time": "2022-01-29T11:43:39.256Z"
   },
   {
    "duration": 1219,
    "start_time": "2022-01-29T11:43:39.272Z"
   },
   {
    "duration": 511,
    "start_time": "2022-01-29T11:44:06.838Z"
   },
   {
    "duration": 853,
    "start_time": "2022-01-29T11:44:38.561Z"
   },
   {
    "duration": 296,
    "start_time": "2022-01-29T11:44:58.057Z"
   },
   {
    "duration": 529,
    "start_time": "2022-01-29T11:45:04.531Z"
   },
   {
    "duration": 382,
    "start_time": "2022-01-29T11:45:17.270Z"
   },
   {
    "duration": 237,
    "start_time": "2022-01-29T11:45:28.016Z"
   },
   {
    "duration": 6,
    "start_time": "2022-01-29T11:45:32.885Z"
   },
   {
    "duration": 268,
    "start_time": "2022-01-29T11:45:34.687Z"
   },
   {
    "duration": 6912,
    "start_time": "2022-01-29T12:08:38.364Z"
   },
   {
    "duration": 8,
    "start_time": "2022-01-29T12:08:45.279Z"
   },
   {
    "duration": 894,
    "start_time": "2022-01-29T12:08:45.290Z"
   },
   {
    "duration": 27,
    "start_time": "2022-01-29T12:08:46.187Z"
   },
   {
    "duration": 43,
    "start_time": "2022-01-29T12:08:46.217Z"
   },
   {
    "duration": 13,
    "start_time": "2022-01-29T12:08:46.262Z"
   },
   {
    "duration": 1452,
    "start_time": "2022-01-29T12:08:46.277Z"
   },
   {
    "duration": 50,
    "start_time": "2022-01-29T12:08:47.732Z"
   },
   {
    "duration": 1865,
    "start_time": "2022-01-29T12:08:47.787Z"
   },
   {
    "duration": 4347,
    "start_time": "2022-01-29T12:08:49.655Z"
   },
   {
    "duration": 9390,
    "start_time": "2022-01-29T12:08:54.006Z"
   },
   {
    "duration": 24,
    "start_time": "2022-01-29T12:09:03.398Z"
   },
   {
    "duration": 44,
    "start_time": "2022-01-29T12:09:03.425Z"
   },
   {
    "duration": 4,
    "start_time": "2022-01-29T12:09:03.472Z"
   },
   {
    "duration": 29,
    "start_time": "2022-01-29T12:09:03.479Z"
   },
   {
    "duration": 14,
    "start_time": "2022-01-29T12:09:03.511Z"
   },
   {
    "duration": 11,
    "start_time": "2022-01-29T12:09:03.527Z"
   },
   {
    "duration": 13,
    "start_time": "2022-01-29T12:09:03.541Z"
   },
   {
    "duration": 16,
    "start_time": "2022-01-29T12:09:03.557Z"
   },
   {
    "duration": 24,
    "start_time": "2022-01-29T12:09:03.576Z"
   },
   {
    "duration": 21,
    "start_time": "2022-01-29T12:09:03.603Z"
   },
   {
    "duration": 16,
    "start_time": "2022-01-29T12:09:03.626Z"
   },
   {
    "duration": 15,
    "start_time": "2022-01-29T12:09:03.644Z"
   },
   {
    "duration": 16,
    "start_time": "2022-01-29T12:09:03.661Z"
   },
   {
    "duration": 10,
    "start_time": "2022-01-29T12:09:03.680Z"
   },
   {
    "duration": 13,
    "start_time": "2022-01-29T12:09:03.693Z"
   },
   {
    "duration": 37,
    "start_time": "2022-01-29T12:09:03.711Z"
   },
   {
    "duration": 10,
    "start_time": "2022-01-29T12:09:03.751Z"
   },
   {
    "duration": 14,
    "start_time": "2022-01-29T12:09:03.764Z"
   },
   {
    "duration": 2337,
    "start_time": "2022-01-29T12:09:03.781Z"
   },
   {
    "duration": 2388,
    "start_time": "2022-01-29T12:09:06.120Z"
   },
   {
    "duration": 22,
    "start_time": "2022-01-29T12:09:08.511Z"
   },
   {
    "duration": 20,
    "start_time": "2022-01-29T12:09:08.549Z"
   },
   {
    "duration": 9,
    "start_time": "2022-01-29T12:09:08.572Z"
   },
   {
    "duration": 616,
    "start_time": "2022-01-29T12:09:08.583Z"
   },
   {
    "duration": 6,
    "start_time": "2022-01-29T12:09:09.203Z"
   },
   {
    "duration": 26,
    "start_time": "2022-01-29T12:09:09.211Z"
   },
   {
    "duration": 47,
    "start_time": "2022-01-29T12:09:09.239Z"
   },
   {
    "duration": 19,
    "start_time": "2022-01-29T12:09:09.289Z"
   },
   {
    "duration": 6355,
    "start_time": "2022-01-29T12:12:07.975Z"
   },
   {
    "duration": 6,
    "start_time": "2022-01-29T12:12:14.333Z"
   },
   {
    "duration": 823,
    "start_time": "2022-01-29T12:12:14.342Z"
   },
   {
    "duration": 23,
    "start_time": "2022-01-29T12:12:15.168Z"
   },
   {
    "duration": 26,
    "start_time": "2022-01-29T12:12:15.194Z"
   },
   {
    "duration": 33,
    "start_time": "2022-01-29T12:12:15.222Z"
   },
   {
    "duration": 1394,
    "start_time": "2022-01-29T12:12:15.257Z"
   },
   {
    "duration": 42,
    "start_time": "2022-01-29T12:12:16.653Z"
   },
   {
    "duration": 1784,
    "start_time": "2022-01-29T12:12:16.699Z"
   },
   {
    "duration": 3862,
    "start_time": "2022-01-29T12:12:18.487Z"
   },
   {
    "duration": 6933,
    "start_time": "2022-01-29T12:12:22.351Z"
   },
   {
    "duration": 24,
    "start_time": "2022-01-29T12:12:29.287Z"
   },
   {
    "duration": 47,
    "start_time": "2022-01-29T12:12:29.314Z"
   },
   {
    "duration": 6,
    "start_time": "2022-01-29T12:12:29.364Z"
   },
   {
    "duration": 17,
    "start_time": "2022-01-29T12:12:29.373Z"
   },
   {
    "duration": 10,
    "start_time": "2022-01-29T12:12:29.393Z"
   },
   {
    "duration": 43,
    "start_time": "2022-01-29T12:12:29.406Z"
   },
   {
    "duration": 6,
    "start_time": "2022-01-29T12:12:29.452Z"
   },
   {
    "duration": 13,
    "start_time": "2022-01-29T12:12:29.460Z"
   },
   {
    "duration": 16,
    "start_time": "2022-01-29T12:12:29.475Z"
   },
   {
    "duration": 17,
    "start_time": "2022-01-29T12:12:29.494Z"
   },
   {
    "duration": 5,
    "start_time": "2022-01-29T12:12:29.548Z"
   },
   {
    "duration": 11,
    "start_time": "2022-01-29T12:12:29.555Z"
   },
   {
    "duration": 13,
    "start_time": "2022-01-29T12:12:29.568Z"
   },
   {
    "duration": 9,
    "start_time": "2022-01-29T12:12:29.584Z"
   },
   {
    "duration": 12,
    "start_time": "2022-01-29T12:12:29.595Z"
   },
   {
    "duration": 10,
    "start_time": "2022-01-29T12:12:29.650Z"
   },
   {
    "duration": 10,
    "start_time": "2022-01-29T12:12:29.663Z"
   },
   {
    "duration": 10,
    "start_time": "2022-01-29T12:12:29.675Z"
   },
   {
    "duration": 2447,
    "start_time": "2022-01-29T12:12:29.688Z"
   },
   {
    "duration": 2320,
    "start_time": "2022-01-29T12:12:32.138Z"
   },
   {
    "duration": 22,
    "start_time": "2022-01-29T12:12:34.462Z"
   },
   {
    "duration": 20,
    "start_time": "2022-01-29T12:12:34.486Z"
   },
   {
    "duration": 41,
    "start_time": "2022-01-29T12:12:34.509Z"
   },
   {
    "duration": 288,
    "start_time": "2022-01-29T12:12:34.553Z"
   },
   {
    "duration": 4,
    "start_time": "2022-01-29T12:12:34.844Z"
   },
   {
    "duration": 5,
    "start_time": "2022-01-29T12:12:34.851Z"
   },
   {
    "duration": 26,
    "start_time": "2022-01-29T12:12:34.859Z"
   },
   {
    "duration": 12,
    "start_time": "2022-01-29T12:12:34.888Z"
   },
   {
    "duration": 6,
    "start_time": "2022-01-29T12:12:55.175Z"
   },
   {
    "duration": 724,
    "start_time": "2022-01-29T12:15:02.289Z"
   },
   {
    "duration": 33,
    "start_time": "2022-01-29T12:17:49.385Z"
   },
   {
    "duration": 10,
    "start_time": "2022-01-29T12:17:57.480Z"
   },
   {
    "duration": 4,
    "start_time": "2022-01-29T12:18:12.564Z"
   },
   {
    "duration": 286,
    "start_time": "2022-01-29T12:19:38.957Z"
   },
   {
    "duration": 295,
    "start_time": "2022-01-29T12:20:19.692Z"
   },
   {
    "duration": 4,
    "start_time": "2022-01-29T12:21:11.197Z"
   },
   {
    "duration": 16,
    "start_time": "2022-01-29T12:21:14.156Z"
   },
   {
    "duration": 21,
    "start_time": "2022-01-29T12:21:16.728Z"
   },
   {
    "duration": 6,
    "start_time": "2022-01-29T12:21:18.982Z"
   },
   {
    "duration": 153,
    "start_time": "2022-01-29T12:21:41.897Z"
   },
   {
    "duration": 6,
    "start_time": "2022-01-29T12:44:24.261Z"
   },
   {
    "duration": 275,
    "start_time": "2022-01-29T12:44:46.490Z"
   },
   {
    "duration": 6,
    "start_time": "2022-01-29T12:45:28.522Z"
   },
   {
    "duration": 937,
    "start_time": "2022-01-29T12:45:38.911Z"
   },
   {
    "duration": 6,
    "start_time": "2022-01-29T12:45:46.444Z"
   },
   {
    "duration": 267,
    "start_time": "2022-01-29T12:55:04.476Z"
   },
   {
    "duration": 5,
    "start_time": "2022-01-29T12:55:34.371Z"
   },
   {
    "duration": 1416,
    "start_time": "2022-01-29T12:56:28.147Z"
   },
   {
    "duration": 3844,
    "start_time": "2022-01-29T12:57:11.504Z"
   },
   {
    "duration": 2731,
    "start_time": "2022-01-29T13:27:02.977Z"
   },
   {
    "duration": 2280,
    "start_time": "2022-01-29T13:27:05.797Z"
   },
   {
    "duration": 282,
    "start_time": "2022-01-29T13:29:20.030Z"
   },
   {
    "duration": 6812,
    "start_time": "2022-01-29T13:29:29.927Z"
   },
   {
    "duration": 1666,
    "start_time": "2022-01-29T13:29:36.742Z"
   },
   {
    "duration": 925,
    "start_time": "2022-01-29T13:29:38.411Z"
   },
   {
    "duration": 33,
    "start_time": "2022-01-29T13:29:39.339Z"
   },
   {
    "duration": 26,
    "start_time": "2022-01-29T13:29:39.375Z"
   },
   {
    "duration": 46,
    "start_time": "2022-01-29T13:29:39.404Z"
   },
   {
    "duration": 1257,
    "start_time": "2022-01-29T13:29:39.453Z"
   },
   {
    "duration": 54,
    "start_time": "2022-01-29T13:29:40.714Z"
   },
   {
    "duration": 1807,
    "start_time": "2022-01-29T13:29:40.771Z"
   },
   {
    "duration": 4398,
    "start_time": "2022-01-29T13:29:42.581Z"
   },
   {
    "duration": 7235,
    "start_time": "2022-01-29T13:29:46.982Z"
   },
   {
    "duration": 38,
    "start_time": "2022-01-29T13:29:54.220Z"
   },
   {
    "duration": 21,
    "start_time": "2022-01-29T13:29:54.261Z"
   },
   {
    "duration": 5,
    "start_time": "2022-01-29T13:29:54.285Z"
   },
   {
    "duration": 12,
    "start_time": "2022-01-29T13:29:54.293Z"
   },
   {
    "duration": 45,
    "start_time": "2022-01-29T13:29:54.308Z"
   },
   {
    "duration": 15,
    "start_time": "2022-01-29T13:29:54.356Z"
   },
   {
    "duration": 8,
    "start_time": "2022-01-29T13:29:54.373Z"
   },
   {
    "duration": 12,
    "start_time": "2022-01-29T13:29:54.383Z"
   },
   {
    "duration": 16,
    "start_time": "2022-01-29T13:29:54.397Z"
   },
   {
    "duration": 40,
    "start_time": "2022-01-29T13:29:54.416Z"
   },
   {
    "duration": 6,
    "start_time": "2022-01-29T13:29:54.459Z"
   },
   {
    "duration": 8,
    "start_time": "2022-01-29T13:29:54.471Z"
   },
   {
    "duration": 11,
    "start_time": "2022-01-29T13:29:54.483Z"
   },
   {
    "duration": 52,
    "start_time": "2022-01-29T13:29:54.496Z"
   },
   {
    "duration": 13,
    "start_time": "2022-01-29T13:29:54.551Z"
   },
   {
    "duration": 12,
    "start_time": "2022-01-29T13:29:54.567Z"
   },
   {
    "duration": 11,
    "start_time": "2022-01-29T13:29:54.581Z"
   },
   {
    "duration": 11,
    "start_time": "2022-01-29T13:29:54.595Z"
   },
   {
    "duration": 2657,
    "start_time": "2022-01-29T13:29:54.650Z"
   },
   {
    "duration": 2178,
    "start_time": "2022-01-29T13:29:57.311Z"
   },
   {
    "duration": 22,
    "start_time": "2022-01-29T13:29:59.492Z"
   },
   {
    "duration": 41,
    "start_time": "2022-01-29T13:29:59.517Z"
   },
   {
    "duration": 6,
    "start_time": "2022-01-29T13:29:59.561Z"
   },
   {
    "duration": 290,
    "start_time": "2022-01-29T13:29:59.569Z"
   },
   {
    "duration": 4,
    "start_time": "2022-01-29T13:29:59.862Z"
   },
   {
    "duration": 8,
    "start_time": "2022-01-29T13:29:59.868Z"
   },
   {
    "duration": 29,
    "start_time": "2022-01-29T13:29:59.878Z"
   },
   {
    "duration": 13,
    "start_time": "2022-01-29T13:29:59.910Z"
   },
   {
    "duration": 4,
    "start_time": "2022-01-29T13:29:59.949Z"
   },
   {
    "duration": 22,
    "start_time": "2022-01-29T13:29:59.955Z"
   },
   {
    "duration": 1071,
    "start_time": "2022-01-29T13:29:59.979Z"
   },
   {
    "duration": 3235,
    "start_time": "2022-01-29T13:30:01.053Z"
   },
   {
    "duration": 4575,
    "start_time": "2022-01-29T13:30:08.655Z"
   },
   {
    "duration": 4,
    "start_time": "2022-01-29T13:38:40.936Z"
   },
   {
    "duration": 10,
    "start_time": "2022-01-29T13:38:41.852Z"
   },
   {
    "duration": 428,
    "start_time": "2022-01-29T13:39:05.459Z"
   },
   {
    "duration": 20,
    "start_time": "2022-01-29T13:39:18.040Z"
   },
   {
    "duration": 2199,
    "start_time": "2022-01-29T13:39:19.251Z"
   },
   {
    "duration": 11185,
    "start_time": "2022-01-29T13:39:22.443Z"
   },
   {
    "duration": 13676,
    "start_time": "2022-01-29T13:39:34.917Z"
   },
   {
    "duration": 6224,
    "start_time": "2022-01-29T13:49:10.765Z"
   },
   {
    "duration": 1489,
    "start_time": "2022-01-29T13:49:16.992Z"
   },
   {
    "duration": 894,
    "start_time": "2022-01-29T13:49:18.484Z"
   },
   {
    "duration": 29,
    "start_time": "2022-01-29T13:49:19.381Z"
   },
   {
    "duration": 50,
    "start_time": "2022-01-29T13:49:19.413Z"
   },
   {
    "duration": 12,
    "start_time": "2022-01-29T13:49:19.466Z"
   },
   {
    "duration": 1205,
    "start_time": "2022-01-29T13:49:19.481Z"
   },
   {
    "duration": 41,
    "start_time": "2022-01-29T13:49:20.688Z"
   },
   {
    "duration": 1727,
    "start_time": "2022-01-29T13:49:20.733Z"
   },
   {
    "duration": 3986,
    "start_time": "2022-01-29T13:49:22.463Z"
   },
   {
    "duration": 7263,
    "start_time": "2022-01-29T13:49:26.452Z"
   },
   {
    "duration": 36,
    "start_time": "2022-01-29T13:49:33.717Z"
   },
   {
    "duration": 25,
    "start_time": "2022-01-29T13:49:33.755Z"
   },
   {
    "duration": 4,
    "start_time": "2022-01-29T13:49:33.783Z"
   },
   {
    "duration": 21,
    "start_time": "2022-01-29T13:49:33.789Z"
   },
   {
    "duration": 12,
    "start_time": "2022-01-29T13:49:33.813Z"
   },
   {
    "duration": 26,
    "start_time": "2022-01-29T13:49:33.827Z"
   },
   {
    "duration": 15,
    "start_time": "2022-01-29T13:49:33.855Z"
   },
   {
    "duration": 23,
    "start_time": "2022-01-29T13:49:33.873Z"
   },
   {
    "duration": 31,
    "start_time": "2022-01-29T13:49:33.898Z"
   },
   {
    "duration": 28,
    "start_time": "2022-01-29T13:49:33.932Z"
   },
   {
    "duration": 8,
    "start_time": "2022-01-29T13:49:33.963Z"
   },
   {
    "duration": 16,
    "start_time": "2022-01-29T13:49:33.974Z"
   },
   {
    "duration": 23,
    "start_time": "2022-01-29T13:49:33.994Z"
   },
   {
    "duration": 33,
    "start_time": "2022-01-29T13:49:34.020Z"
   },
   {
    "duration": 16,
    "start_time": "2022-01-29T13:49:34.055Z"
   },
   {
    "duration": 12,
    "start_time": "2022-01-29T13:49:34.080Z"
   },
   {
    "duration": 12,
    "start_time": "2022-01-29T13:49:34.096Z"
   },
   {
    "duration": 12,
    "start_time": "2022-01-29T13:49:34.150Z"
   },
   {
    "duration": 2213,
    "start_time": "2022-01-29T13:49:34.166Z"
   },
   {
    "duration": 2186,
    "start_time": "2022-01-29T13:49:36.382Z"
   },
   {
    "duration": 29,
    "start_time": "2022-01-29T13:49:38.572Z"
   },
   {
    "duration": 53,
    "start_time": "2022-01-29T13:49:38.604Z"
   },
   {
    "duration": 9,
    "start_time": "2022-01-29T13:49:38.661Z"
   },
   {
    "duration": 316,
    "start_time": "2022-01-29T13:49:38.673Z"
   },
   {
    "duration": 4,
    "start_time": "2022-01-29T13:49:38.992Z"
   },
   {
    "duration": 9,
    "start_time": "2022-01-29T13:49:38.999Z"
   },
   {
    "duration": 57,
    "start_time": "2022-01-29T13:49:39.011Z"
   },
   {
    "duration": 14,
    "start_time": "2022-01-29T13:49:39.070Z"
   },
   {
    "duration": 8,
    "start_time": "2022-01-29T13:49:39.086Z"
   },
   {
    "duration": 19,
    "start_time": "2022-01-29T13:49:39.097Z"
   },
   {
    "duration": 1236,
    "start_time": "2022-01-29T13:49:39.119Z"
   },
   {
    "duration": 3365,
    "start_time": "2022-01-29T13:49:40.358Z"
   },
   {
    "duration": 4853,
    "start_time": "2022-01-29T13:49:43.726Z"
   },
   {
    "duration": 4,
    "start_time": "2022-01-29T13:49:48.582Z"
   },
   {
    "duration": 19,
    "start_time": "2022-01-29T13:49:48.589Z"
   },
   {
    "duration": 2544,
    "start_time": "2022-01-29T13:49:48.611Z"
   },
   {
    "duration": 11889,
    "start_time": "2022-01-29T13:49:51.160Z"
   },
   {
    "duration": 13808,
    "start_time": "2022-01-29T13:50:03.052Z"
   },
   {
    "duration": 3,
    "start_time": "2022-01-29T13:50:16.863Z"
   },
   {
    "duration": 4,
    "start_time": "2022-01-29T13:51:01.940Z"
   },
   {
    "duration": 494,
    "start_time": "2022-01-29T13:51:15.009Z"
   },
   {
    "duration": 551,
    "start_time": "2022-01-29T13:51:28.946Z"
   },
   {
    "duration": 567,
    "start_time": "2022-01-29T13:54:12.999Z"
   },
   {
    "duration": 528,
    "start_time": "2022-01-29T13:54:54.835Z"
   },
   {
    "duration": 3,
    "start_time": "2022-01-29T13:55:16.967Z"
   },
   {
    "duration": 6,
    "start_time": "2022-01-29T13:55:19.868Z"
   },
   {
    "duration": 8479,
    "start_time": "2022-01-29T14:11:53.042Z"
   },
   {
    "duration": 2153,
    "start_time": "2022-01-29T14:13:15.804Z"
   },
   {
    "duration": 11199,
    "start_time": "2022-01-29T14:13:18.049Z"
   },
   {
    "duration": 13638,
    "start_time": "2022-01-29T14:13:29.252Z"
   },
   {
    "duration": 6358,
    "start_time": "2022-01-29T14:15:05.315Z"
   },
   {
    "duration": 1476,
    "start_time": "2022-01-29T14:15:11.676Z"
   },
   {
    "duration": 879,
    "start_time": "2022-01-29T14:15:13.159Z"
   },
   {
    "duration": 32,
    "start_time": "2022-01-29T14:15:14.041Z"
   },
   {
    "duration": 22,
    "start_time": "2022-01-29T14:15:14.076Z"
   },
   {
    "duration": 12,
    "start_time": "2022-01-29T14:15:14.100Z"
   },
   {
    "duration": 1293,
    "start_time": "2022-01-29T14:15:14.148Z"
   },
   {
    "duration": 43,
    "start_time": "2022-01-29T14:15:15.448Z"
   },
   {
    "duration": 1848,
    "start_time": "2022-01-29T14:15:15.494Z"
   },
   {
    "duration": 3937,
    "start_time": "2022-01-29T14:15:17.344Z"
   },
   {
    "duration": 6939,
    "start_time": "2022-01-29T14:15:21.283Z"
   },
   {
    "duration": 35,
    "start_time": "2022-01-29T14:15:28.225Z"
   },
   {
    "duration": 20,
    "start_time": "2022-01-29T14:15:28.263Z"
   },
   {
    "duration": 5,
    "start_time": "2022-01-29T14:15:28.286Z"
   },
   {
    "duration": 14,
    "start_time": "2022-01-29T14:15:28.294Z"
   },
   {
    "duration": 40,
    "start_time": "2022-01-29T14:15:28.311Z"
   },
   {
    "duration": 6,
    "start_time": "2022-01-29T14:15:28.353Z"
   },
   {
    "duration": 8,
    "start_time": "2022-01-29T14:15:28.361Z"
   },
   {
    "duration": 11,
    "start_time": "2022-01-29T14:15:28.371Z"
   },
   {
    "duration": 19,
    "start_time": "2022-01-29T14:15:28.385Z"
   },
   {
    "duration": 57,
    "start_time": "2022-01-29T14:15:28.406Z"
   },
   {
    "duration": 6,
    "start_time": "2022-01-29T14:15:28.468Z"
   },
   {
    "duration": 8,
    "start_time": "2022-01-29T14:15:28.478Z"
   },
   {
    "duration": 14,
    "start_time": "2022-01-29T14:15:28.489Z"
   },
   {
    "duration": 45,
    "start_time": "2022-01-29T14:15:28.506Z"
   },
   {
    "duration": 14,
    "start_time": "2022-01-29T14:15:28.554Z"
   },
   {
    "duration": 9,
    "start_time": "2022-01-29T14:15:28.570Z"
   },
   {
    "duration": 12,
    "start_time": "2022-01-29T14:15:28.582Z"
   },
   {
    "duration": 10,
    "start_time": "2022-01-29T14:15:28.597Z"
   },
   {
    "duration": 2235,
    "start_time": "2022-01-29T14:15:28.650Z"
   },
   {
    "duration": 2205,
    "start_time": "2022-01-29T14:15:30.887Z"
   },
   {
    "duration": 23,
    "start_time": "2022-01-29T14:15:33.095Z"
   },
   {
    "duration": 37,
    "start_time": "2022-01-29T14:15:33.121Z"
   },
   {
    "duration": 7,
    "start_time": "2022-01-29T14:15:33.161Z"
   },
   {
    "duration": 296,
    "start_time": "2022-01-29T14:15:33.171Z"
   },
   {
    "duration": 6,
    "start_time": "2022-01-29T14:15:33.471Z"
   },
   {
    "duration": 4,
    "start_time": "2022-01-29T14:15:33.480Z"
   },
   {
    "duration": 28,
    "start_time": "2022-01-29T14:15:33.487Z"
   },
   {
    "duration": 40,
    "start_time": "2022-01-29T14:15:33.518Z"
   },
   {
    "duration": 7,
    "start_time": "2022-01-29T14:15:33.561Z"
   },
   {
    "duration": 20,
    "start_time": "2022-01-29T14:15:33.570Z"
   },
   {
    "duration": 1063,
    "start_time": "2022-01-29T14:15:33.592Z"
   },
   {
    "duration": 3225,
    "start_time": "2022-01-29T14:15:34.658Z"
   },
   {
    "duration": 4371,
    "start_time": "2022-01-29T14:15:37.886Z"
   },
   {
    "duration": 93,
    "start_time": "2022-01-29T14:15:42.261Z"
   },
   {
    "duration": 90,
    "start_time": "2022-01-29T14:15:42.359Z"
   },
   {
    "duration": 22,
    "start_time": "2022-01-29T14:15:42.452Z"
   },
   {
    "duration": 2172,
    "start_time": "2022-01-29T14:15:42.476Z"
   },
   {
    "duration": 11126,
    "start_time": "2022-01-29T14:15:44.650Z"
   },
   {
    "duration": 14895,
    "start_time": "2022-01-29T14:15:55.779Z"
   },
   {
    "duration": 175,
    "start_time": "2022-01-29T14:16:10.677Z"
   },
   {
    "duration": 93,
    "start_time": "2022-01-29T14:16:10.856Z"
   },
   {
    "duration": 3051,
    "start_time": "2022-01-30T16:29:09.624Z"
   },
   {
    "duration": 1113,
    "start_time": "2022-01-30T16:29:12.677Z"
   },
   {
    "duration": 624,
    "start_time": "2022-01-30T16:29:13.792Z"
   },
   {
    "duration": 17,
    "start_time": "2022-01-30T16:29:14.417Z"
   },
   {
    "duration": 13,
    "start_time": "2022-01-30T16:29:14.436Z"
   },
   {
    "duration": 24,
    "start_time": "2022-01-30T16:29:14.450Z"
   },
   {
    "duration": 791,
    "start_time": "2022-01-30T16:29:14.476Z"
   },
   {
    "duration": 24,
    "start_time": "2022-01-30T16:29:15.269Z"
   },
   {
    "duration": 1218,
    "start_time": "2022-01-30T16:29:15.295Z"
   },
   {
    "duration": 2313,
    "start_time": "2022-01-30T16:29:16.514Z"
   },
   {
    "duration": 4291,
    "start_time": "2022-01-30T16:29:18.829Z"
   },
   {
    "duration": 13,
    "start_time": "2022-01-30T16:29:23.122Z"
   },
   {
    "duration": 11,
    "start_time": "2022-01-30T16:29:23.136Z"
   },
   {
    "duration": 2,
    "start_time": "2022-01-30T16:29:23.149Z"
   },
   {
    "duration": 5,
    "start_time": "2022-01-30T16:29:23.172Z"
   },
   {
    "duration": 5,
    "start_time": "2022-01-30T16:29:23.179Z"
   },
   {
    "duration": 3,
    "start_time": "2022-01-30T16:29:23.185Z"
   },
   {
    "duration": 4,
    "start_time": "2022-01-30T16:29:23.190Z"
   },
   {
    "duration": 7,
    "start_time": "2022-01-30T16:29:23.196Z"
   },
   {
    "duration": 8,
    "start_time": "2022-01-30T16:29:23.205Z"
   },
   {
    "duration": 12,
    "start_time": "2022-01-30T16:29:23.214Z"
   },
   {
    "duration": 7,
    "start_time": "2022-01-30T16:29:23.227Z"
   },
   {
    "duration": 37,
    "start_time": "2022-01-30T16:29:23.237Z"
   },
   {
    "duration": 7,
    "start_time": "2022-01-30T16:29:23.276Z"
   },
   {
    "duration": 7,
    "start_time": "2022-01-30T16:29:23.284Z"
   },
   {
    "duration": 9,
    "start_time": "2022-01-30T16:29:23.293Z"
   },
   {
    "duration": 7,
    "start_time": "2022-01-30T16:29:23.303Z"
   },
   {
    "duration": 11,
    "start_time": "2022-01-30T16:29:23.311Z"
   },
   {
    "duration": 8,
    "start_time": "2022-01-30T16:29:23.323Z"
   },
   {
    "duration": 1316,
    "start_time": "2022-01-30T16:29:23.333Z"
   },
   {
    "duration": 1256,
    "start_time": "2022-01-30T16:29:24.651Z"
   },
   {
    "duration": 14,
    "start_time": "2022-01-30T16:29:25.909Z"
   },
   {
    "duration": 13,
    "start_time": "2022-01-30T16:29:25.925Z"
   },
   {
    "duration": 6,
    "start_time": "2022-01-30T16:29:25.939Z"
   },
   {
    "duration": 164,
    "start_time": "2022-01-30T16:29:25.972Z"
   },
   {
    "duration": 4,
    "start_time": "2022-01-30T16:29:26.138Z"
   },
   {
    "duration": 7,
    "start_time": "2022-01-30T16:29:26.143Z"
   },
   {
    "duration": 28,
    "start_time": "2022-01-30T16:29:26.151Z"
   },
   {
    "duration": 10,
    "start_time": "2022-01-30T16:29:26.181Z"
   },
   {
    "duration": 5,
    "start_time": "2022-01-30T16:29:26.192Z"
   },
   {
    "duration": 12,
    "start_time": "2022-01-30T16:29:26.198Z"
   },
   {
    "duration": 1266,
    "start_time": "2022-01-30T16:29:26.212Z"
   },
   {
    "duration": 2607,
    "start_time": "2022-01-30T16:29:27.480Z"
   },
   {
    "duration": 3053,
    "start_time": "2022-01-30T16:29:30.088Z"
   },
   {
    "duration": 35,
    "start_time": "2022-01-30T16:29:33.143Z"
   },
   {
    "duration": 91,
    "start_time": "2022-01-30T16:29:33.181Z"
   },
   {
    "duration": 99,
    "start_time": "2022-01-30T16:29:33.275Z"
   },
   {
    "duration": 1604,
    "start_time": "2022-01-30T16:29:33.375Z"
   },
   {
    "duration": 8467,
    "start_time": "2022-01-30T16:29:35.071Z"
   },
   {
    "duration": 9350,
    "start_time": "2022-01-30T16:29:43.539Z"
   },
   {
    "duration": 82,
    "start_time": "2022-01-30T16:29:52.891Z"
   },
   {
    "duration": 98,
    "start_time": "2022-01-30T16:29:52.975Z"
   },
   {
    "duration": 15,
    "start_time": "2022-01-30T18:39:34.768Z"
   },
   {
    "duration": 2175,
    "start_time": "2022-01-30T18:41:52.971Z"
   },
   {
    "duration": 2104,
    "start_time": "2022-01-30T18:41:55.148Z"
   },
   {
    "duration": 651,
    "start_time": "2022-01-30T18:41:57.255Z"
   },
   {
    "duration": 17,
    "start_time": "2022-01-30T18:41:57.908Z"
   },
   {
    "duration": 17,
    "start_time": "2022-01-30T18:41:57.927Z"
   },
   {
    "duration": 8,
    "start_time": "2022-01-30T18:41:57.945Z"
   },
   {
    "duration": 805,
    "start_time": "2022-01-30T18:41:57.954Z"
   },
   {
    "duration": 26,
    "start_time": "2022-01-30T18:41:58.760Z"
   },
   {
    "duration": 1230,
    "start_time": "2022-01-30T18:41:58.789Z"
   },
   {
    "duration": 2320,
    "start_time": "2022-01-30T18:42:00.021Z"
   },
   {
    "duration": 2058,
    "start_time": "2022-01-30T18:42:43.088Z"
   },
   {
    "duration": 1182,
    "start_time": "2022-01-30T18:42:45.148Z"
   },
   {
    "duration": 654,
    "start_time": "2022-01-30T18:42:46.332Z"
   },
   {
    "duration": 15,
    "start_time": "2022-01-30T18:42:46.988Z"
   },
   {
    "duration": 15,
    "start_time": "2022-01-30T18:42:47.005Z"
   },
   {
    "duration": 8,
    "start_time": "2022-01-30T18:42:47.021Z"
   },
   {
    "duration": 782,
    "start_time": "2022-01-30T18:42:47.030Z"
   },
   {
    "duration": 22,
    "start_time": "2022-01-30T18:42:47.814Z"
   },
   {
    "duration": 1181,
    "start_time": "2022-01-30T18:42:47.838Z"
   },
   {
    "duration": 2352,
    "start_time": "2022-01-30T18:42:49.020Z"
   },
   {
    "duration": 4415,
    "start_time": "2022-01-30T18:42:51.374Z"
   },
   {
    "duration": 16,
    "start_time": "2022-01-30T18:42:55.791Z"
   },
   {
    "duration": 13,
    "start_time": "2022-01-30T18:42:55.809Z"
   },
   {
    "duration": 3,
    "start_time": "2022-01-30T18:42:55.824Z"
   },
   {
    "duration": 7,
    "start_time": "2022-01-30T18:42:55.829Z"
   },
   {
    "duration": 38,
    "start_time": "2022-01-30T18:42:55.838Z"
   },
   {
    "duration": 5,
    "start_time": "2022-01-30T18:42:55.878Z"
   },
   {
    "duration": 5,
    "start_time": "2022-01-30T18:42:55.885Z"
   },
   {
    "duration": 7,
    "start_time": "2022-01-30T18:42:55.892Z"
   },
   {
    "duration": 10,
    "start_time": "2022-01-30T18:42:55.901Z"
   },
   {
    "duration": 16,
    "start_time": "2022-01-30T18:42:55.912Z"
   },
   {
    "duration": 7,
    "start_time": "2022-01-30T18:42:55.930Z"
   },
   {
    "duration": 36,
    "start_time": "2022-01-30T18:42:55.940Z"
   },
   {
    "duration": 8,
    "start_time": "2022-01-30T18:42:55.978Z"
   },
   {
    "duration": 7,
    "start_time": "2022-01-30T18:42:55.987Z"
   },
   {
    "duration": 9,
    "start_time": "2022-01-30T18:42:55.996Z"
   },
   {
    "duration": 7,
    "start_time": "2022-01-30T18:42:56.006Z"
   },
   {
    "duration": 10,
    "start_time": "2022-01-30T18:42:56.014Z"
   },
   {
    "duration": 9,
    "start_time": "2022-01-30T18:42:56.025Z"
   },
   {
    "duration": 1323,
    "start_time": "2022-01-30T18:42:56.035Z"
   },
   {
    "duration": 1177,
    "start_time": "2022-01-30T18:42:57.359Z"
   },
   {
    "duration": 13,
    "start_time": "2022-01-30T18:42:58.537Z"
   },
   {
    "duration": 24,
    "start_time": "2022-01-30T18:42:58.552Z"
   },
   {
    "duration": 5,
    "start_time": "2022-01-30T18:42:58.577Z"
   },
   {
    "duration": 171,
    "start_time": "2022-01-30T18:42:58.583Z"
   },
   {
    "duration": 3,
    "start_time": "2022-01-30T18:42:58.755Z"
   },
   {
    "duration": 11,
    "start_time": "2022-01-30T18:42:58.760Z"
   },
   {
    "duration": 20,
    "start_time": "2022-01-30T18:42:58.773Z"
   },
   {
    "duration": 8,
    "start_time": "2022-01-30T18:42:58.794Z"
   },
   {
    "duration": 9,
    "start_time": "2022-01-30T18:42:58.804Z"
   },
   {
    "duration": 9,
    "start_time": "2022-01-30T18:42:58.814Z"
   },
   {
    "duration": 1149,
    "start_time": "2022-01-30T18:42:58.824Z"
   },
   {
    "duration": 2507,
    "start_time": "2022-01-30T18:42:59.975Z"
   },
   {
    "duration": 2868,
    "start_time": "2022-01-30T18:43:02.484Z"
   },
   {
    "duration": 28,
    "start_time": "2022-01-30T18:43:05.353Z"
   },
   {
    "duration": 3,
    "start_time": "2022-01-30T18:43:05.471Z"
   },
   {
    "duration": 102,
    "start_time": "2022-01-30T18:43:05.477Z"
   },
   {
    "duration": 1697,
    "start_time": "2022-01-30T18:43:05.580Z"
   },
   {
    "duration": 8665,
    "start_time": "2022-01-30T18:43:07.280Z"
   },
   {
    "duration": 9689,
    "start_time": "2022-01-30T18:43:15.947Z"
   },
   {
    "duration": 40,
    "start_time": "2022-01-30T18:43:25.638Z"
   },
   {
    "duration": 5,
    "start_time": "2022-01-30T18:43:25.680Z"
   },
   {
    "duration": 168,
    "start_time": "2022-01-30T19:22:35.447Z"
   },
   {
    "duration": 14,
    "start_time": "2022-01-30T19:31:24.947Z"
   },
   {
    "duration": 5,
    "start_time": "2022-01-30T19:31:32.926Z"
   },
   {
    "duration": 558,
    "start_time": "2022-01-30T19:32:01.788Z"
   },
   {
    "duration": 7,
    "start_time": "2022-01-30T19:32:54.791Z"
   },
   {
    "duration": 13,
    "start_time": "2022-01-30T19:32:59.709Z"
   },
   {
    "duration": 6,
    "start_time": "2022-01-30T19:33:02.499Z"
   },
   {
    "duration": 262,
    "start_time": "2022-01-30T19:33:03.042Z"
   },
   {
    "duration": 2353,
    "start_time": "2022-01-30T19:35:31.219Z"
   },
   {
    "duration": 297,
    "start_time": "2022-01-30T19:36:31.266Z"
   },
   {
    "duration": 416,
    "start_time": "2022-01-30T19:36:52.386Z"
   },
   {
    "duration": 428,
    "start_time": "2022-01-30T19:37:05.428Z"
   },
   {
    "duration": 195,
    "start_time": "2022-01-30T19:37:21.785Z"
   },
   {
    "duration": 192,
    "start_time": "2022-01-30T19:37:43.319Z"
   },
   {
    "duration": 205,
    "start_time": "2022-01-30T19:37:54.309Z"
   },
   {
    "duration": 2,
    "start_time": "2022-01-30T19:53:47.196Z"
   },
   {
    "duration": 1324,
    "start_time": "2022-01-30T19:55:32.500Z"
   },
   {
    "duration": 1080,
    "start_time": "2022-01-30T19:55:33.827Z"
   },
   {
    "duration": 653,
    "start_time": "2022-01-30T19:55:34.909Z"
   },
   {
    "duration": 20,
    "start_time": "2022-01-30T19:55:35.563Z"
   },
   {
    "duration": 15,
    "start_time": "2022-01-30T19:55:35.584Z"
   },
   {
    "duration": 8,
    "start_time": "2022-01-30T19:55:35.600Z"
   },
   {
    "duration": 750,
    "start_time": "2022-01-30T19:55:35.609Z"
   },
   {
    "duration": 27,
    "start_time": "2022-01-30T19:55:36.362Z"
   },
   {
    "duration": 1199,
    "start_time": "2022-01-30T19:55:36.392Z"
   },
   {
    "duration": 2320,
    "start_time": "2022-01-30T19:55:37.592Z"
   },
   {
    "duration": 4211,
    "start_time": "2022-01-30T19:55:39.914Z"
   },
   {
    "duration": 12,
    "start_time": "2022-01-30T19:55:44.127Z"
   },
   {
    "duration": 6,
    "start_time": "2022-01-30T19:55:44.140Z"
   },
   {
    "duration": 25,
    "start_time": "2022-01-30T19:55:44.147Z"
   },
   {
    "duration": 3,
    "start_time": "2022-01-30T19:55:44.174Z"
   },
   {
    "duration": 9,
    "start_time": "2022-01-30T19:55:44.178Z"
   },
   {
    "duration": 5,
    "start_time": "2022-01-30T19:55:44.189Z"
   },
   {
    "duration": 6,
    "start_time": "2022-01-30T19:55:44.195Z"
   },
   {
    "duration": 13,
    "start_time": "2022-01-30T19:55:44.202Z"
   },
   {
    "duration": 23,
    "start_time": "2022-01-30T19:55:44.216Z"
   },
   {
    "duration": 9,
    "start_time": "2022-01-30T19:55:44.241Z"
   },
   {
    "duration": 21,
    "start_time": "2022-01-30T19:55:44.252Z"
   },
   {
    "duration": 7,
    "start_time": "2022-01-30T19:55:44.276Z"
   },
   {
    "duration": 1279,
    "start_time": "2022-01-30T19:55:44.285Z"
   },
   {
    "duration": 1167,
    "start_time": "2022-01-30T19:55:45.566Z"
   },
   {
    "duration": 14,
    "start_time": "2022-01-30T19:55:46.735Z"
   },
   {
    "duration": 6,
    "start_time": "2022-01-30T19:55:46.751Z"
   },
   {
    "duration": 13,
    "start_time": "2022-01-30T19:55:46.772Z"
   },
   {
    "duration": 5,
    "start_time": "2022-01-30T19:55:46.786Z"
   },
   {
    "duration": 219,
    "start_time": "2022-01-30T19:55:46.792Z"
   },
   {
    "duration": 3,
    "start_time": "2022-01-30T19:55:47.013Z"
   },
   {
    "duration": 6,
    "start_time": "2022-01-30T19:55:47.017Z"
   },
   {
    "duration": 19,
    "start_time": "2022-01-30T19:55:47.025Z"
   },
   {
    "duration": 8,
    "start_time": "2022-01-30T19:55:47.046Z"
   },
   {
    "duration": 2,
    "start_time": "2022-01-30T19:55:47.071Z"
   },
   {
    "duration": 8,
    "start_time": "2022-01-30T19:55:47.075Z"
   },
   {
    "duration": 895,
    "start_time": "2022-01-30T19:55:47.085Z"
   },
   {
    "duration": 2347,
    "start_time": "2022-01-30T19:55:48.073Z"
   },
   {
    "duration": 2943,
    "start_time": "2022-01-30T19:55:50.421Z"
   },
   {
    "duration": 15,
    "start_time": "2022-01-30T19:55:53.365Z"
   },
   {
    "duration": 92,
    "start_time": "2022-01-30T19:55:53.381Z"
   },
   {
    "duration": 100,
    "start_time": "2022-01-30T19:55:53.475Z"
   },
   {
    "duration": 1596,
    "start_time": "2022-01-30T19:55:53.577Z"
   },
   {
    "duration": 5618,
    "start_time": "2022-01-30T19:55:55.177Z"
   },
   {
    "duration": 9410,
    "start_time": "2022-01-30T19:56:00.797Z"
   },
   {
    "duration": 67,
    "start_time": "2022-01-30T19:56:10.209Z"
   },
   {
    "duration": 95,
    "start_time": "2022-01-30T19:56:10.278Z"
   },
   {
    "duration": 3,
    "start_time": "2022-01-30T20:03:00.368Z"
   },
   {
    "duration": 1347,
    "start_time": "2022-01-30T20:05:02.131Z"
   },
   {
    "duration": 1111,
    "start_time": "2022-01-30T20:05:03.480Z"
   },
   {
    "duration": 664,
    "start_time": "2022-01-30T20:05:04.593Z"
   },
   {
    "duration": 21,
    "start_time": "2022-01-30T20:05:05.258Z"
   },
   {
    "duration": 14,
    "start_time": "2022-01-30T20:05:05.281Z"
   },
   {
    "duration": 9,
    "start_time": "2022-01-30T20:05:05.296Z"
   },
   {
    "duration": 784,
    "start_time": "2022-01-30T20:05:05.306Z"
   },
   {
    "duration": 22,
    "start_time": "2022-01-30T20:05:06.092Z"
   },
   {
    "duration": 1197,
    "start_time": "2022-01-30T20:05:06.116Z"
   },
   {
    "duration": 2289,
    "start_time": "2022-01-30T20:05:07.315Z"
   },
   {
    "duration": 4311,
    "start_time": "2022-01-30T20:05:09.606Z"
   },
   {
    "duration": 14,
    "start_time": "2022-01-30T20:05:13.918Z"
   },
   {
    "duration": 7,
    "start_time": "2022-01-30T20:05:13.933Z"
   },
   {
    "duration": 9,
    "start_time": "2022-01-30T20:05:13.941Z"
   },
   {
    "duration": 20,
    "start_time": "2022-01-30T20:05:13.951Z"
   },
   {
    "duration": 6,
    "start_time": "2022-01-30T20:05:13.973Z"
   },
   {
    "duration": 7,
    "start_time": "2022-01-30T20:05:13.981Z"
   },
   {
    "duration": 6,
    "start_time": "2022-01-30T20:05:13.989Z"
   },
   {
    "duration": 10,
    "start_time": "2022-01-30T20:05:13.996Z"
   },
   {
    "duration": 12,
    "start_time": "2022-01-30T20:05:14.007Z"
   },
   {
    "duration": 10,
    "start_time": "2022-01-30T20:05:14.021Z"
   },
   {
    "duration": 14,
    "start_time": "2022-01-30T20:05:14.032Z"
   },
   {
    "duration": 24,
    "start_time": "2022-01-30T20:05:14.049Z"
   },
   {
    "duration": 1340,
    "start_time": "2022-01-30T20:05:14.075Z"
   },
   {
    "duration": 1237,
    "start_time": "2022-01-30T20:05:15.418Z"
   },
   {
    "duration": 24,
    "start_time": "2022-01-30T20:05:16.657Z"
   },
   {
    "duration": 6,
    "start_time": "2022-01-30T20:05:16.682Z"
   },
   {
    "duration": 13,
    "start_time": "2022-01-30T20:05:16.690Z"
   },
   {
    "duration": 6,
    "start_time": "2022-01-30T20:05:16.705Z"
   },
   {
    "duration": 223,
    "start_time": "2022-01-30T20:05:16.712Z"
   },
   {
    "duration": 4,
    "start_time": "2022-01-30T20:05:16.937Z"
   },
   {
    "duration": 3,
    "start_time": "2022-01-30T20:05:16.943Z"
   },
   {
    "duration": 33,
    "start_time": "2022-01-30T20:05:16.948Z"
   },
   {
    "duration": 10,
    "start_time": "2022-01-30T20:05:16.982Z"
   },
   {
    "duration": 3,
    "start_time": "2022-01-30T20:05:16.993Z"
   },
   {
    "duration": 9,
    "start_time": "2022-01-30T20:05:16.998Z"
   },
   {
    "duration": 869,
    "start_time": "2022-01-30T20:05:17.009Z"
   },
   {
    "duration": 2432,
    "start_time": "2022-01-30T20:05:17.880Z"
   },
   {
    "duration": 2958,
    "start_time": "2022-01-30T20:05:20.314Z"
   },
   {
    "duration": 9,
    "start_time": "2022-01-30T20:05:23.274Z"
   },
   {
    "duration": 87,
    "start_time": "2022-01-30T20:05:23.285Z"
   },
   {
    "duration": 100,
    "start_time": "2022-01-30T20:05:23.375Z"
   },
   {
    "duration": 1400,
    "start_time": "2022-01-30T20:05:23.477Z"
   },
   {
    "duration": 92,
    "start_time": "2022-01-30T20:05:24.880Z"
   },
   {
    "duration": 44750,
    "start_time": "2022-01-30T20:05:24.975Z"
   },
   {
    "duration": 9535,
    "start_time": "2022-01-30T20:06:09.727Z"
   },
   {
    "duration": 16,
    "start_time": "2022-01-30T20:06:19.264Z"
   },
   {
    "duration": 91,
    "start_time": "2022-01-30T20:06:19.282Z"
   },
   {
    "duration": 2,
    "start_time": "2022-01-30T20:12:52.417Z"
   },
   {
    "duration": 45483,
    "start_time": "2022-01-30T20:12:53.062Z"
   },
   {
    "duration": 91171,
    "start_time": "2022-01-30T20:14:25.706Z"
   },
   {
    "duration": 1349,
    "start_time": "2022-01-30T20:17:28.169Z"
   },
   {
    "duration": 1086,
    "start_time": "2022-01-30T20:17:29.520Z"
   },
   {
    "duration": 677,
    "start_time": "2022-01-30T20:17:30.608Z"
   },
   {
    "duration": 18,
    "start_time": "2022-01-30T20:17:31.287Z"
   },
   {
    "duration": 14,
    "start_time": "2022-01-30T20:17:31.306Z"
   },
   {
    "duration": 8,
    "start_time": "2022-01-30T20:17:31.322Z"
   },
   {
    "duration": 832,
    "start_time": "2022-01-30T20:17:31.332Z"
   },
   {
    "duration": 25,
    "start_time": "2022-01-30T20:17:32.166Z"
   },
   {
    "duration": 1224,
    "start_time": "2022-01-30T20:17:32.193Z"
   },
   {
    "duration": 2336,
    "start_time": "2022-01-30T20:17:33.419Z"
   },
   {
    "duration": 4415,
    "start_time": "2022-01-30T20:17:35.757Z"
   },
   {
    "duration": 13,
    "start_time": "2022-01-30T20:17:40.174Z"
   },
   {
    "duration": 6,
    "start_time": "2022-01-30T20:17:40.188Z"
   },
   {
    "duration": 12,
    "start_time": "2022-01-30T20:17:40.195Z"
   },
   {
    "duration": 3,
    "start_time": "2022-01-30T20:17:40.209Z"
   },
   {
    "duration": 7,
    "start_time": "2022-01-30T20:17:40.213Z"
   },
   {
    "duration": 6,
    "start_time": "2022-01-30T20:17:40.221Z"
   },
   {
    "duration": 5,
    "start_time": "2022-01-30T20:17:40.229Z"
   },
   {
    "duration": 36,
    "start_time": "2022-01-30T20:17:40.236Z"
   },
   {
    "duration": 11,
    "start_time": "2022-01-30T20:17:40.274Z"
   },
   {
    "duration": 8,
    "start_time": "2022-01-30T20:17:40.287Z"
   },
   {
    "duration": 16,
    "start_time": "2022-01-30T20:17:40.296Z"
   },
   {
    "duration": 7,
    "start_time": "2022-01-30T20:17:40.315Z"
   },
   {
    "duration": 1294,
    "start_time": "2022-01-30T20:17:40.324Z"
   },
   {
    "duration": 1212,
    "start_time": "2022-01-30T20:17:41.620Z"
   },
   {
    "duration": 16,
    "start_time": "2022-01-30T20:17:42.834Z"
   },
   {
    "duration": 19,
    "start_time": "2022-01-30T20:17:42.852Z"
   },
   {
    "duration": 16,
    "start_time": "2022-01-30T20:17:42.872Z"
   },
   {
    "duration": 5,
    "start_time": "2022-01-30T20:17:42.889Z"
   },
   {
    "duration": 230,
    "start_time": "2022-01-30T20:17:42.895Z"
   },
   {
    "duration": 3,
    "start_time": "2022-01-30T20:17:43.126Z"
   },
   {
    "duration": 6,
    "start_time": "2022-01-30T20:17:43.130Z"
   },
   {
    "duration": 19,
    "start_time": "2022-01-30T20:17:43.137Z"
   },
   {
    "duration": 8,
    "start_time": "2022-01-30T20:17:43.172Z"
   },
   {
    "duration": 5,
    "start_time": "2022-01-30T20:17:43.182Z"
   },
   {
    "duration": 9,
    "start_time": "2022-01-30T20:17:43.189Z"
   },
   {
    "duration": 1274,
    "start_time": "2022-01-30T20:17:43.200Z"
   },
   {
    "duration": 93,
    "start_time": "2022-01-30T20:17:44.479Z"
   },
   {
    "duration": 19295,
    "start_time": "2022-01-30T20:17:44.573Z"
   },
   {
    "duration": 3,
    "start_time": "2022-01-30T20:18:03.872Z"
   },
   {
    "duration": 27335,
    "start_time": "2022-01-30T20:18:03.876Z"
   },
   {
    "duration": 9,
    "start_time": "2022-01-30T20:18:31.212Z"
   },
   {
    "duration": 107,
    "start_time": "2022-01-30T20:18:31.273Z"
   },
   {
    "duration": 28,
    "start_time": "2022-01-30T20:18:31.381Z"
   },
   {
    "duration": 1463,
    "start_time": "2022-01-30T20:18:31.411Z"
   },
   {
    "duration": 4,
    "start_time": "2022-01-30T20:18:32.876Z"
   },
   {
    "duration": 44750,
    "start_time": "2022-01-30T20:18:32.882Z"
   },
   {
    "duration": 2,
    "start_time": "2022-01-30T20:19:17.634Z"
   },
   {
    "duration": 89978,
    "start_time": "2022-01-30T20:19:17.638Z"
   },
   {
    "duration": 60,
    "start_time": "2022-01-30T20:20:47.617Z"
   },
   {
    "duration": 95,
    "start_time": "2022-01-30T20:20:47.679Z"
   },
   {
    "duration": 4,
    "start_time": "2022-01-30T20:26:09.155Z"
   },
   {
    "duration": 5,
    "start_time": "2022-01-30T20:29:04.767Z"
   },
   {
    "duration": 402,
    "start_time": "2022-01-30T20:31:02.288Z"
   },
   {
    "duration": 5,
    "start_time": "2022-01-30T20:32:02.727Z"
   },
   {
    "duration": 320,
    "start_time": "2022-01-30T20:32:05.412Z"
   },
   {
    "duration": 308,
    "start_time": "2022-01-30T20:32:35.787Z"
   },
   {
    "duration": 2648,
    "start_time": "2022-01-30T20:36:19.009Z"
   },
   {
    "duration": 5,
    "start_time": "2022-01-30T20:38:18.157Z"
   },
   {
    "duration": 369,
    "start_time": "2022-01-30T20:38:19.390Z"
   },
   {
    "duration": 13,
    "start_time": "2022-01-30T20:39:51.796Z"
   },
   {
    "duration": 1889,
    "start_time": "2022-01-30T20:39:55.686Z"
   },
   {
    "duration": 10,
    "start_time": "2022-01-30T20:40:09.221Z"
   },
   {
    "duration": 1667,
    "start_time": "2022-01-30T20:40:12.307Z"
   },
   {
    "duration": 6,
    "start_time": "2022-01-30T20:40:18.874Z"
   },
   {
    "duration": 11,
    "start_time": "2022-01-30T20:40:20.276Z"
   },
   {
    "duration": 1532,
    "start_time": "2022-01-30T20:40:21.748Z"
   },
   {
    "duration": 11,
    "start_time": "2022-01-30T20:40:29.307Z"
   },
   {
    "duration": 1606,
    "start_time": "2022-01-30T20:40:30.867Z"
   },
   {
    "duration": 3,
    "start_time": "2022-01-30T20:40:38.174Z"
   },
   {
    "duration": 44871,
    "start_time": "2022-01-30T20:40:38.742Z"
   },
   {
    "duration": 6,
    "start_time": "2022-01-30T20:46:30.721Z"
   },
   {
    "duration": 6,
    "start_time": "2022-01-30T20:46:47.384Z"
   },
   {
    "duration": 6,
    "start_time": "2022-01-30T20:47:18.217Z"
   },
   {
    "duration": 7,
    "start_time": "2022-01-30T20:47:27.746Z"
   },
   {
    "duration": 7,
    "start_time": "2022-01-30T20:48:08.937Z"
   },
   {
    "duration": 8,
    "start_time": "2022-01-30T20:48:10.764Z"
   },
   {
    "duration": 7,
    "start_time": "2022-01-30T20:49:20.960Z"
   },
   {
    "duration": 1315,
    "start_time": "2022-01-30T20:52:38.562Z"
   },
   {
    "duration": 1112,
    "start_time": "2022-01-30T20:52:39.879Z"
   },
   {
    "duration": 708,
    "start_time": "2022-01-30T20:52:40.993Z"
   },
   {
    "duration": 22,
    "start_time": "2022-01-30T20:52:41.703Z"
   },
   {
    "duration": 18,
    "start_time": "2022-01-30T20:52:41.727Z"
   },
   {
    "duration": 28,
    "start_time": "2022-01-30T20:52:41.747Z"
   },
   {
    "duration": 825,
    "start_time": "2022-01-30T20:52:41.777Z"
   },
   {
    "duration": 24,
    "start_time": "2022-01-30T20:52:42.605Z"
   },
   {
    "duration": 1154,
    "start_time": "2022-01-30T20:52:42.630Z"
   },
   {
    "duration": 2336,
    "start_time": "2022-01-30T20:52:43.786Z"
   },
   {
    "duration": 4198,
    "start_time": "2022-01-30T20:52:46.124Z"
   },
   {
    "duration": 13,
    "start_time": "2022-01-30T20:52:50.324Z"
   },
   {
    "duration": 6,
    "start_time": "2022-01-30T20:52:50.338Z"
   },
   {
    "duration": 27,
    "start_time": "2022-01-30T20:52:50.345Z"
   },
   {
    "duration": 2,
    "start_time": "2022-01-30T20:52:50.374Z"
   },
   {
    "duration": 7,
    "start_time": "2022-01-30T20:52:50.378Z"
   },
   {
    "duration": 5,
    "start_time": "2022-01-30T20:52:50.386Z"
   },
   {
    "duration": 6,
    "start_time": "2022-01-30T20:52:50.392Z"
   },
   {
    "duration": 9,
    "start_time": "2022-01-30T20:52:50.399Z"
   },
   {
    "duration": 13,
    "start_time": "2022-01-30T20:52:50.409Z"
   },
   {
    "duration": 9,
    "start_time": "2022-01-30T20:52:50.424Z"
   },
   {
    "duration": 12,
    "start_time": "2022-01-30T20:52:50.434Z"
   },
   {
    "duration": 6,
    "start_time": "2022-01-30T20:52:50.473Z"
   },
   {
    "duration": 1271,
    "start_time": "2022-01-30T20:52:50.481Z"
   },
   {
    "duration": 1203,
    "start_time": "2022-01-30T20:52:51.753Z"
   },
   {
    "duration": 23,
    "start_time": "2022-01-30T20:52:52.958Z"
   },
   {
    "duration": 7,
    "start_time": "2022-01-30T20:52:52.983Z"
   },
   {
    "duration": 14,
    "start_time": "2022-01-30T20:52:52.991Z"
   },
   {
    "duration": 5,
    "start_time": "2022-01-30T20:52:53.006Z"
   },
   {
    "duration": 224,
    "start_time": "2022-01-30T20:52:53.012Z"
   },
   {
    "duration": 3,
    "start_time": "2022-01-30T20:52:53.238Z"
   },
   {
    "duration": 5,
    "start_time": "2022-01-30T20:52:53.242Z"
   },
   {
    "duration": 28,
    "start_time": "2022-01-30T20:52:53.248Z"
   },
   {
    "duration": 8,
    "start_time": "2022-01-30T20:52:53.278Z"
   },
   {
    "duration": 4,
    "start_time": "2022-01-30T20:52:53.287Z"
   },
   {
    "duration": 8,
    "start_time": "2022-01-30T20:52:53.293Z"
   },
   {
    "duration": 770,
    "start_time": "2022-01-30T20:52:53.302Z"
   },
   {
    "duration": 4,
    "start_time": "2022-01-30T20:52:54.075Z"
   },
   {
    "duration": 19160,
    "start_time": "2022-01-30T20:52:54.081Z"
   },
   {
    "duration": 3,
    "start_time": "2022-01-30T20:53:13.242Z"
   },
   {
    "duration": 11618,
    "start_time": "2022-01-30T20:53:13.246Z"
   },
   {
    "duration": 12,
    "start_time": "2022-01-30T20:53:24.871Z"
   },
   {
    "duration": 6,
    "start_time": "2022-01-30T20:53:24.885Z"
   },
   {
    "duration": 89,
    "start_time": "2022-01-30T20:53:24.892Z"
   },
   {
    "duration": 1588,
    "start_time": "2022-01-30T20:53:24.985Z"
   },
   {
    "duration": 6,
    "start_time": "2022-01-30T20:53:26.576Z"
   },
   {
    "duration": 46799,
    "start_time": "2022-01-30T20:53:26.584Z"
   },
   {
    "duration": 3,
    "start_time": "2022-01-30T20:54:13.386Z"
   },
   {
    "duration": 41204,
    "start_time": "2022-01-30T20:54:13.390Z"
   },
   {
    "duration": 80,
    "start_time": "2022-01-30T20:54:54.596Z"
   },
   {
    "duration": 5,
    "start_time": "2022-01-30T20:54:54.678Z"
   },
   {
    "duration": 11,
    "start_time": "2022-01-30T20:54:54.773Z"
   },
   {
    "duration": 385,
    "start_time": "2022-01-30T20:58:09.484Z"
   },
   {
    "duration": 1481,
    "start_time": "2022-01-30T20:58:16.049Z"
   },
   {
    "duration": 1680,
    "start_time": "2022-01-30T20:58:15.851Z"
   },
   {
    "duration": 51698,
    "start_time": "2022-01-30T20:59:26.682Z"
   },
   {
    "duration": 327,
    "start_time": "2022-01-30T21:00:28.551Z"
   },
   {
    "duration": 2526,
    "start_time": "2022-01-30T22:17:16.376Z"
   },
   {
    "duration": 1402,
    "start_time": "2022-01-30T22:17:17.504Z"
   },
   {
    "duration": 1394,
    "start_time": "2022-01-30T22:17:17.513Z"
   },
   {
    "duration": 1388,
    "start_time": "2022-01-30T22:17:17.521Z"
   },
   {
    "duration": 6,
    "start_time": "2022-01-30T22:17:34.148Z"
   },
   {
    "duration": 861,
    "start_time": "2022-01-30T22:17:38.332Z"
   },
   {
    "duration": 39,
    "start_time": "2022-01-30T22:17:39.196Z"
   },
   {
    "duration": 23,
    "start_time": "2022-01-30T22:17:39.238Z"
   },
   {
    "duration": 13,
    "start_time": "2022-01-30T22:17:44.392Z"
   },
   {
    "duration": 42,
    "start_time": "2022-01-30T22:18:25.922Z"
   },
   {
    "duration": 21,
    "start_time": "2022-01-30T22:19:50.252Z"
   },
   {
    "duration": 11,
    "start_time": "2022-01-30T22:20:00.214Z"
   },
   {
    "duration": 16,
    "start_time": "2022-01-30T22:20:25.281Z"
   },
   {
    "duration": 4,
    "start_time": "2022-01-30T22:21:26.238Z"
   },
   {
    "duration": 13,
    "start_time": "2022-01-30T22:21:27.228Z"
   },
   {
    "duration": 9,
    "start_time": "2022-01-30T22:21:28.558Z"
   },
   {
    "duration": 10,
    "start_time": "2022-01-30T22:21:43.888Z"
   },
   {
    "duration": 15,
    "start_time": "2022-01-30T22:21:46.490Z"
   },
   {
    "duration": 17,
    "start_time": "2022-01-30T22:21:47.108Z"
   },
   {
    "duration": 13,
    "start_time": "2022-01-30T22:22:27.741Z"
   },
   {
    "duration": 10,
    "start_time": "2022-01-30T22:22:28.311Z"
   },
   {
    "duration": 10,
    "start_time": "2022-01-30T22:22:28.806Z"
   },
   {
    "duration": 2169,
    "start_time": "2022-01-30T22:23:28.800Z"
   },
   {
    "duration": 2287,
    "start_time": "2022-01-30T22:23:30.972Z"
   },
   {
    "duration": 27,
    "start_time": "2022-01-30T22:23:33.262Z"
   },
   {
    "duration": 9,
    "start_time": "2022-01-30T22:25:20.705Z"
   },
   {
    "duration": 23,
    "start_time": "2022-01-30T22:25:21.249Z"
   },
   {
    "duration": 8,
    "start_time": "2022-01-30T22:25:21.865Z"
   },
   {
    "duration": 358,
    "start_time": "2022-01-30T22:25:23.047Z"
   },
   {
    "duration": 5,
    "start_time": "2022-01-30T22:30:21.768Z"
   },
   {
    "duration": 4,
    "start_time": "2022-01-30T22:30:22.245Z"
   },
   {
    "duration": 35,
    "start_time": "2022-01-30T22:30:23.340Z"
   },
   {
    "duration": 14,
    "start_time": "2022-01-30T22:30:25.356Z"
   },
   {
    "duration": 32,
    "start_time": "2022-01-30T22:30:35.788Z"
   },
   {
    "duration": 4,
    "start_time": "2022-01-30T22:31:12.653Z"
   },
   {
    "duration": 14,
    "start_time": "2022-01-30T22:31:13.872Z"
   },
   {
    "duration": 6,
    "start_time": "2022-01-30T22:31:42.647Z"
   },
   {
    "duration": 909,
    "start_time": "2022-01-30T22:31:48.632Z"
   },
   {
    "duration": 4,
    "start_time": "2022-01-30T22:31:51.402Z"
   },
   {
    "duration": 25599,
    "start_time": "2022-01-30T22:31:53.216Z"
   },
   {
    "duration": 3,
    "start_time": "2022-01-30T22:32:18.818Z"
   },
   {
    "duration": 17833,
    "start_time": "2022-01-30T22:32:18.824Z"
   },
   {
    "duration": 73,
    "start_time": "2022-01-30T22:32:36.659Z"
   },
   {
    "duration": 4,
    "start_time": "2022-01-30T22:33:20.687Z"
   },
   {
    "duration": 18,
    "start_time": "2022-01-30T22:33:22.259Z"
   },
   {
    "duration": 2371,
    "start_time": "2022-01-30T22:33:23.562Z"
   },
   {
    "duration": 5,
    "start_time": "2022-01-30T22:33:28.430Z"
   },
   {
    "duration": 60660,
    "start_time": "2022-01-30T22:33:28.990Z"
   },
   {
    "duration": 4,
    "start_time": "2022-01-30T22:34:29.652Z"
   },
   {
    "duration": 54947,
    "start_time": "2022-01-30T22:34:29.658Z"
   },
   {
    "duration": 128,
    "start_time": "2022-01-30T22:35:24.607Z"
   },
   {
    "duration": 95,
    "start_time": "2022-01-30T22:35:24.739Z"
   },
   {
    "duration": 12,
    "start_time": "2022-01-30T22:35:24.837Z"
   },
   {
    "duration": 5,
    "start_time": "2022-01-30T22:37:30.540Z"
   },
   {
    "duration": 321,
    "start_time": "2022-01-31T07:50:06.651Z"
   },
   {
    "duration": 3742,
    "start_time": "2022-01-31T07:59:34.634Z"
   },
   {
    "duration": 1440,
    "start_time": "2022-01-31T07:59:38.379Z"
   },
   {
    "duration": 707,
    "start_time": "2022-01-31T07:59:39.821Z"
   },
   {
    "duration": 21,
    "start_time": "2022-01-31T07:59:40.530Z"
   },
   {
    "duration": 20,
    "start_time": "2022-01-31T07:59:40.552Z"
   },
   {
    "duration": 9,
    "start_time": "2022-01-31T07:59:40.574Z"
   },
   {
    "duration": 830,
    "start_time": "2022-01-31T07:59:40.585Z"
   },
   {
    "duration": 23,
    "start_time": "2022-01-31T07:59:41.419Z"
   },
   {
    "duration": 1250,
    "start_time": "2022-01-31T07:59:41.444Z"
   },
   {
    "duration": 2540,
    "start_time": "2022-01-31T07:59:42.695Z"
   },
   {
    "duration": 4846,
    "start_time": "2022-01-31T07:59:45.237Z"
   },
   {
    "duration": 16,
    "start_time": "2022-01-31T07:59:50.085Z"
   },
   {
    "duration": 7,
    "start_time": "2022-01-31T07:59:50.103Z"
   },
   {
    "duration": 18,
    "start_time": "2022-01-31T07:59:50.112Z"
   },
   {
    "duration": 8,
    "start_time": "2022-01-31T07:59:50.132Z"
   },
   {
    "duration": 24,
    "start_time": "2022-01-31T07:59:50.142Z"
   },
   {
    "duration": 8,
    "start_time": "2022-01-31T07:59:50.168Z"
   },
   {
    "duration": 14,
    "start_time": "2022-01-31T07:59:50.178Z"
   },
   {
    "duration": 26,
    "start_time": "2022-01-31T07:59:50.194Z"
   },
   {
    "duration": 28,
    "start_time": "2022-01-31T07:59:50.222Z"
   },
   {
    "duration": 10,
    "start_time": "2022-01-31T07:59:50.252Z"
   },
   {
    "duration": 15,
    "start_time": "2022-01-31T07:59:50.264Z"
   },
   {
    "duration": 10,
    "start_time": "2022-01-31T07:59:50.284Z"
   },
   {
    "duration": 1474,
    "start_time": "2022-01-31T07:59:50.296Z"
   },
   {
    "duration": 1272,
    "start_time": "2022-01-31T07:59:51.772Z"
   },
   {
    "duration": 26,
    "start_time": "2022-01-31T07:59:53.046Z"
   },
   {
    "duration": 7,
    "start_time": "2022-01-31T07:59:53.074Z"
   },
   {
    "duration": 14,
    "start_time": "2022-01-31T07:59:53.083Z"
   },
   {
    "duration": 5,
    "start_time": "2022-01-31T07:59:53.098Z"
   },
   {
    "duration": 250,
    "start_time": "2022-01-31T07:59:53.105Z"
   },
   {
    "duration": 10,
    "start_time": "2022-01-31T07:59:53.360Z"
   },
   {
    "duration": 5,
    "start_time": "2022-01-31T07:59:53.372Z"
   },
   {
    "duration": 6,
    "start_time": "2022-01-31T07:59:53.379Z"
   },
   {
    "duration": 24,
    "start_time": "2022-01-31T07:59:53.387Z"
   },
   {
    "duration": 9,
    "start_time": "2022-01-31T07:59:53.413Z"
   },
   {
    "duration": 6,
    "start_time": "2022-01-31T07:59:53.424Z"
   },
   {
    "duration": 35,
    "start_time": "2022-01-31T07:59:53.431Z"
   },
   {
    "duration": 11,
    "start_time": "2022-01-31T07:59:53.468Z"
   },
   {
    "duration": 1203,
    "start_time": "2022-01-31T07:59:53.480Z"
   },
   {
    "duration": 4,
    "start_time": "2022-01-31T07:59:54.766Z"
   },
   {
    "duration": 22999,
    "start_time": "2022-01-31T07:59:54.778Z"
   },
   {
    "duration": 3,
    "start_time": "2022-01-31T08:00:17.779Z"
   },
   {
    "duration": 14531,
    "start_time": "2022-01-31T08:00:17.784Z"
   },
   {
    "duration": 48,
    "start_time": "2022-01-31T08:00:32.317Z"
   },
   {
    "duration": 478,
    "start_time": "2022-01-31T08:00:32.367Z"
   },
   {
    "duration": 580,
    "start_time": "2022-01-31T08:00:32.267Z"
   },
   {
    "duration": 570,
    "start_time": "2022-01-31T08:00:32.277Z"
   },
   {
    "duration": 566,
    "start_time": "2022-01-31T08:00:32.282Z"
   },
   {
    "duration": 564,
    "start_time": "2022-01-31T08:00:32.285Z"
   },
   {
    "duration": 560,
    "start_time": "2022-01-31T08:00:32.290Z"
   },
   {
    "duration": 557,
    "start_time": "2022-01-31T08:00:32.294Z"
   },
   {
    "duration": 552,
    "start_time": "2022-01-31T08:00:32.299Z"
   },
   {
    "duration": 549,
    "start_time": "2022-01-31T08:00:32.303Z"
   },
   {
    "duration": 546,
    "start_time": "2022-01-31T08:00:32.307Z"
   },
   {
    "duration": 543,
    "start_time": "2022-01-31T08:00:32.311Z"
   },
   {
    "duration": 539,
    "start_time": "2022-01-31T08:00:32.315Z"
   },
   {
    "duration": 5,
    "start_time": "2022-01-31T08:01:51.760Z"
   },
   {
    "duration": 286,
    "start_time": "2022-01-31T08:02:04.660Z"
   },
   {
    "duration": 560,
    "start_time": "2022-01-31T08:02:55.997Z"
   },
   {
    "duration": 6,
    "start_time": "2022-01-31T08:03:24.320Z"
   },
   {
    "duration": 7,
    "start_time": "2022-01-31T08:03:30.750Z"
   },
   {
    "duration": 8,
    "start_time": "2022-01-31T08:06:10.014Z"
   },
   {
    "duration": 2079,
    "start_time": "2022-01-31T08:06:27.792Z"
   },
   {
    "duration": 4,
    "start_time": "2022-01-31T08:06:29.873Z"
   },
   {
    "duration": 716,
    "start_time": "2022-01-31T08:06:29.879Z"
   },
   {
    "duration": 16,
    "start_time": "2022-01-31T08:06:30.597Z"
   },
   {
    "duration": 23,
    "start_time": "2022-01-31T08:06:30.615Z"
   },
   {
    "duration": 21,
    "start_time": "2022-01-31T08:06:30.640Z"
   },
   {
    "duration": 1034,
    "start_time": "2022-01-31T08:06:30.663Z"
   },
   {
    "duration": 25,
    "start_time": "2022-01-31T08:06:31.701Z"
   },
   {
    "duration": 1351,
    "start_time": "2022-01-31T08:06:31.728Z"
   },
   {
    "duration": 2590,
    "start_time": "2022-01-31T08:06:33.081Z"
   },
   {
    "duration": 4559,
    "start_time": "2022-01-31T08:06:35.673Z"
   },
   {
    "duration": 26,
    "start_time": "2022-01-31T08:06:40.234Z"
   },
   {
    "duration": 7,
    "start_time": "2022-01-31T08:06:40.262Z"
   },
   {
    "duration": 13,
    "start_time": "2022-01-31T08:06:40.270Z"
   },
   {
    "duration": 3,
    "start_time": "2022-01-31T08:06:40.285Z"
   },
   {
    "duration": 9,
    "start_time": "2022-01-31T08:06:40.289Z"
   },
   {
    "duration": 8,
    "start_time": "2022-01-31T08:06:40.300Z"
   },
   {
    "duration": 6,
    "start_time": "2022-01-31T08:06:40.310Z"
   },
   {
    "duration": 11,
    "start_time": "2022-01-31T08:06:40.318Z"
   },
   {
    "duration": 34,
    "start_time": "2022-01-31T08:06:40.330Z"
   },
   {
    "duration": 11,
    "start_time": "2022-01-31T08:06:40.366Z"
   },
   {
    "duration": 9,
    "start_time": "2022-01-31T08:06:40.379Z"
   },
   {
    "duration": 6,
    "start_time": "2022-01-31T08:06:40.392Z"
   },
   {
    "duration": 1419,
    "start_time": "2022-01-31T08:06:40.401Z"
   },
   {
    "duration": 1268,
    "start_time": "2022-01-31T08:06:41.822Z"
   },
   {
    "duration": 16,
    "start_time": "2022-01-31T08:06:43.091Z"
   },
   {
    "duration": 6,
    "start_time": "2022-01-31T08:06:43.109Z"
   },
   {
    "duration": 14,
    "start_time": "2022-01-31T08:06:43.117Z"
   },
   {
    "duration": 30,
    "start_time": "2022-01-31T08:06:43.132Z"
   },
   {
    "duration": 421,
    "start_time": "2022-01-31T08:06:43.163Z"
   },
   {
    "duration": 9,
    "start_time": "2022-01-31T08:06:43.586Z"
   },
   {
    "duration": 5,
    "start_time": "2022-01-31T08:06:43.596Z"
   },
   {
    "duration": 5,
    "start_time": "2022-01-31T08:06:43.602Z"
   },
   {
    "duration": 23,
    "start_time": "2022-01-31T08:06:43.608Z"
   },
   {
    "duration": 33,
    "start_time": "2022-01-31T08:06:43.633Z"
   },
   {
    "duration": 3,
    "start_time": "2022-01-31T08:06:43.668Z"
   },
   {
    "duration": 11,
    "start_time": "2022-01-31T08:06:43.673Z"
   },
   {
    "duration": 9,
    "start_time": "2022-01-31T08:06:43.685Z"
   },
   {
    "duration": 865,
    "start_time": "2022-01-31T08:06:43.696Z"
   },
   {
    "duration": 3,
    "start_time": "2022-01-31T08:06:44.564Z"
   },
   {
    "duration": 21672,
    "start_time": "2022-01-31T08:06:44.569Z"
   },
   {
    "duration": 2,
    "start_time": "2022-01-31T08:07:06.244Z"
   },
   {
    "duration": 13068,
    "start_time": "2022-01-31T08:07:06.248Z"
   },
   {
    "duration": 50,
    "start_time": "2022-01-31T08:07:19.318Z"
   },
   {
    "duration": 10,
    "start_time": "2022-01-31T08:07:19.462Z"
   },
   {
    "duration": 90,
    "start_time": "2022-01-31T08:07:19.475Z"
   },
   {
    "duration": 14,
    "start_time": "2022-01-31T08:07:19.567Z"
   },
   {
    "duration": 10,
    "start_time": "2022-01-31T08:07:19.584Z"
   },
   {
    "duration": 1873,
    "start_time": "2022-01-31T08:07:19.595Z"
   },
   {
    "duration": 95,
    "start_time": "2022-01-31T08:07:21.471Z"
   },
   {
    "duration": 49122,
    "start_time": "2022-01-31T08:07:21.570Z"
   },
   {
    "duration": 3,
    "start_time": "2022-01-31T08:08:10.693Z"
   },
   {
    "duration": 40984,
    "start_time": "2022-01-31T08:08:10.697Z"
   },
   {
    "duration": 80,
    "start_time": "2022-01-31T08:08:51.682Z"
   },
   {
    "duration": 6,
    "start_time": "2022-01-31T08:12:14.762Z"
   },
   {
    "duration": 7,
    "start_time": "2022-01-31T08:12:32.400Z"
   },
   {
    "duration": 8,
    "start_time": "2022-01-31T08:12:49.307Z"
   },
   {
    "duration": 411,
    "start_time": "2022-01-31T08:13:18.489Z"
   },
   {
    "duration": 8,
    "start_time": "2022-01-31T08:13:24.311Z"
   },
   {
    "duration": 14,
    "start_time": "2022-01-31T08:13:29.761Z"
   },
   {
    "duration": 8,
    "start_time": "2022-01-31T08:13:54.414Z"
   },
   {
    "duration": 508,
    "start_time": "2022-01-31T08:15:52.761Z"
   },
   {
    "duration": 250,
    "start_time": "2022-01-31T08:18:28.502Z"
   },
   {
    "duration": 8,
    "start_time": "2022-01-31T08:19:36.697Z"
   },
   {
    "duration": 8,
    "start_time": "2022-01-31T08:24:32.723Z"
   },
   {
    "duration": 201,
    "start_time": "2022-01-31T08:25:05.272Z"
   },
   {
    "duration": 5,
    "start_time": "2022-01-31T08:25:25.347Z"
   },
   {
    "duration": 11,
    "start_time": "2022-01-31T08:26:29.898Z"
   },
   {
    "duration": 19,
    "start_time": "2022-01-31T08:27:00.957Z"
   },
   {
    "duration": 4,
    "start_time": "2022-01-31T08:32:24.168Z"
   },
   {
    "duration": 23,
    "start_time": "2022-01-31T08:32:38.768Z"
   },
   {
    "duration": 23,
    "start_time": "2022-01-31T08:43:30.658Z"
   },
   {
    "duration": 6,
    "start_time": "2022-01-31T08:44:14.075Z"
   },
   {
    "duration": 252,
    "start_time": "2022-01-31T08:44:26.645Z"
   },
   {
    "duration": 7,
    "start_time": "2022-01-31T08:44:31.584Z"
   },
   {
    "duration": 6,
    "start_time": "2022-01-31T08:44:38.115Z"
   },
   {
    "duration": 22,
    "start_time": "2022-01-31T08:44:47.464Z"
   },
   {
    "duration": 23,
    "start_time": "2022-01-31T08:44:55.575Z"
   },
   {
    "duration": 4,
    "start_time": "2022-01-31T08:45:06.132Z"
   },
   {
    "duration": 23,
    "start_time": "2022-01-31T08:47:58.761Z"
   },
   {
    "duration": 26,
    "start_time": "2022-01-31T08:48:24.037Z"
   },
   {
    "duration": 28,
    "start_time": "2022-01-31T08:54:42.067Z"
   },
   {
    "duration": 7,
    "start_time": "2022-01-31T08:57:25.315Z"
   },
   {
    "duration": 254,
    "start_time": "2022-01-31T08:57:49.824Z"
   },
   {
    "duration": 27,
    "start_time": "2022-01-31T09:02:15.628Z"
   },
   {
    "duration": 442,
    "start_time": "2022-01-31T09:02:36.224Z"
   },
   {
    "duration": 283,
    "start_time": "2022-01-31T09:03:14.752Z"
   },
   {
    "duration": 32,
    "start_time": "2022-01-31T09:06:35.610Z"
   },
   {
    "duration": 15,
    "start_time": "2022-01-31T09:07:02.470Z"
   },
   {
    "duration": 9865,
    "start_time": "2022-01-31T09:07:29.756Z"
   },
   {
    "duration": 5,
    "start_time": "2022-01-31T09:08:16.595Z"
   },
   {
    "duration": 4,
    "start_time": "2022-01-31T09:09:30.449Z"
   },
   {
    "duration": 2435,
    "start_time": "2022-01-31T09:09:45.404Z"
   },
   {
    "duration": 1244,
    "start_time": "2022-01-31T09:09:47.841Z"
   },
   {
    "duration": 878,
    "start_time": "2022-01-31T09:09:49.087Z"
   },
   {
    "duration": 24,
    "start_time": "2022-01-31T09:09:49.968Z"
   },
   {
    "duration": 19,
    "start_time": "2022-01-31T09:09:49.994Z"
   },
   {
    "duration": 12,
    "start_time": "2022-01-31T09:09:50.015Z"
   },
   {
    "duration": 1038,
    "start_time": "2022-01-31T09:09:50.029Z"
   },
   {
    "duration": 30,
    "start_time": "2022-01-31T09:09:51.071Z"
   },
   {
    "duration": 1473,
    "start_time": "2022-01-31T09:09:51.104Z"
   },
   {
    "duration": 2928,
    "start_time": "2022-01-31T09:09:52.579Z"
   },
   {
    "duration": 5437,
    "start_time": "2022-01-31T09:09:55.509Z"
   },
   {
    "duration": 23,
    "start_time": "2022-01-31T09:10:00.948Z"
   },
   {
    "duration": 7,
    "start_time": "2022-01-31T09:10:00.973Z"
   },
   {
    "duration": 14,
    "start_time": "2022-01-31T09:10:00.982Z"
   },
   {
    "duration": 3,
    "start_time": "2022-01-31T09:10:00.998Z"
   },
   {
    "duration": 17,
    "start_time": "2022-01-31T09:10:01.003Z"
   },
   {
    "duration": 18,
    "start_time": "2022-01-31T09:10:01.023Z"
   },
   {
    "duration": 28,
    "start_time": "2022-01-31T09:10:01.043Z"
   },
   {
    "duration": 21,
    "start_time": "2022-01-31T09:10:01.073Z"
   },
   {
    "duration": 27,
    "start_time": "2022-01-31T09:10:01.096Z"
   },
   {
    "duration": 17,
    "start_time": "2022-01-31T09:10:01.125Z"
   },
   {
    "duration": 10,
    "start_time": "2022-01-31T09:10:01.144Z"
   },
   {
    "duration": 18,
    "start_time": "2022-01-31T09:10:01.159Z"
   },
   {
    "duration": 1546,
    "start_time": "2022-01-31T09:10:01.180Z"
   },
   {
    "duration": 1384,
    "start_time": "2022-01-31T09:10:02.728Z"
   },
   {
    "duration": 19,
    "start_time": "2022-01-31T09:10:04.114Z"
   },
   {
    "duration": 27,
    "start_time": "2022-01-31T09:10:04.135Z"
   },
   {
    "duration": 17,
    "start_time": "2022-01-31T09:10:04.164Z"
   },
   {
    "duration": 6,
    "start_time": "2022-01-31T09:10:04.183Z"
   },
   {
    "duration": 282,
    "start_time": "2022-01-31T09:10:04.190Z"
   },
   {
    "duration": 9,
    "start_time": "2022-01-31T09:10:04.475Z"
   },
   {
    "duration": 9,
    "start_time": "2022-01-31T09:10:04.486Z"
   },
   {
    "duration": 17,
    "start_time": "2022-01-31T09:10:04.497Z"
   },
   {
    "duration": 36,
    "start_time": "2022-01-31T09:10:04.516Z"
   },
   {
    "duration": 9,
    "start_time": "2022-01-31T09:10:04.555Z"
   },
   {
    "duration": 16,
    "start_time": "2022-01-31T09:10:04.566Z"
   },
   {
    "duration": 10,
    "start_time": "2022-01-31T09:10:04.584Z"
   },
   {
    "duration": 12,
    "start_time": "2022-01-31T09:10:04.596Z"
   },
   {
    "duration": 18,
    "start_time": "2022-01-31T09:10:04.610Z"
   },
   {
    "duration": 11,
    "start_time": "2022-01-31T09:10:04.631Z"
   },
   {
    "duration": 3,
    "start_time": "2022-01-31T09:10:04.660Z"
   },
   {
    "duration": 16,
    "start_time": "2022-01-31T09:10:04.665Z"
   },
   {
    "duration": 10,
    "start_time": "2022-01-31T09:10:04.683Z"
   },
   {
    "duration": 875,
    "start_time": "2022-01-31T09:10:04.695Z"
   },
   {
    "duration": 89,
    "start_time": "2022-01-31T09:10:05.573Z"
   },
   {
    "duration": 23296,
    "start_time": "2022-01-31T09:10:05.664Z"
   },
   {
    "duration": 3,
    "start_time": "2022-01-31T09:10:28.962Z"
   },
   {
    "duration": 13211,
    "start_time": "2022-01-31T09:10:28.966Z"
   },
   {
    "duration": 89,
    "start_time": "2022-01-31T09:10:42.179Z"
   },
   {
    "duration": 96,
    "start_time": "2022-01-31T09:10:42.270Z"
   },
   {
    "duration": 7,
    "start_time": "2022-01-31T09:10:42.368Z"
   },
   {
    "duration": 13,
    "start_time": "2022-01-31T09:10:42.461Z"
   },
   {
    "duration": 9,
    "start_time": "2022-01-31T09:10:42.476Z"
   },
   {
    "duration": 2283,
    "start_time": "2022-01-31T09:10:42.487Z"
   },
   {
    "duration": 4,
    "start_time": "2022-01-31T09:10:44.862Z"
   },
   {
    "duration": 54168,
    "start_time": "2022-01-31T09:10:44.868Z"
   },
   {
    "duration": 4,
    "start_time": "2022-01-31T09:11:39.038Z"
   },
   {
    "duration": 49411,
    "start_time": "2022-01-31T09:11:39.044Z"
   },
   {
    "duration": 99,
    "start_time": "2022-01-31T09:12:28.461Z"
   },
   {
    "duration": 100,
    "start_time": "2022-01-31T09:12:28.562Z"
   },
   {
    "duration": 8,
    "start_time": "2022-01-31T09:12:28.664Z"
   },
   {
    "duration": 11,
    "start_time": "2022-01-31T09:12:28.674Z"
   },
   {
    "duration": 4,
    "start_time": "2022-01-31T09:12:28.688Z"
   },
   {
    "duration": 28,
    "start_time": "2022-01-31T09:21:59.152Z"
   },
   {
    "duration": 3329,
    "start_time": "2022-01-31T09:22:43.339Z"
   },
   {
    "duration": 1630,
    "start_time": "2022-01-31T09:22:46.670Z"
   },
   {
    "duration": 1035,
    "start_time": "2022-01-31T09:22:48.303Z"
   },
   {
    "duration": 26,
    "start_time": "2022-01-31T09:22:49.341Z"
   },
   {
    "duration": 21,
    "start_time": "2022-01-31T09:22:49.369Z"
   },
   {
    "duration": 11,
    "start_time": "2022-01-31T09:22:49.392Z"
   },
   {
    "duration": 930,
    "start_time": "2022-01-31T09:22:49.404Z"
   },
   {
    "duration": 35,
    "start_time": "2022-01-31T09:22:50.336Z"
   },
   {
    "duration": 1349,
    "start_time": "2022-01-31T09:22:50.374Z"
   },
   {
    "duration": 2860,
    "start_time": "2022-01-31T09:22:51.726Z"
   },
   {
    "duration": 4825,
    "start_time": "2022-01-31T09:22:54.587Z"
   },
   {
    "duration": 16,
    "start_time": "2022-01-31T09:22:59.414Z"
   },
   {
    "duration": 27,
    "start_time": "2022-01-31T09:22:59.433Z"
   },
   {
    "duration": 12,
    "start_time": "2022-01-31T09:22:59.462Z"
   },
   {
    "duration": 7,
    "start_time": "2022-01-31T09:22:59.476Z"
   },
   {
    "duration": 12,
    "start_time": "2022-01-31T09:22:59.485Z"
   },
   {
    "duration": 10,
    "start_time": "2022-01-31T09:22:59.498Z"
   },
   {
    "duration": 15,
    "start_time": "2022-01-31T09:22:59.510Z"
   },
   {
    "duration": 17,
    "start_time": "2022-01-31T09:22:59.526Z"
   },
   {
    "duration": 27,
    "start_time": "2022-01-31T09:22:59.544Z"
   },
   {
    "duration": 8,
    "start_time": "2022-01-31T09:22:59.573Z"
   },
   {
    "duration": 7,
    "start_time": "2022-01-31T09:22:59.583Z"
   },
   {
    "duration": 8,
    "start_time": "2022-01-31T09:22:59.592Z"
   },
   {
    "duration": 1601,
    "start_time": "2022-01-31T09:22:59.602Z"
   },
   {
    "duration": 2188,
    "start_time": "2022-01-31T09:23:01.206Z"
   },
   {
    "duration": 22,
    "start_time": "2022-01-31T09:23:03.396Z"
   },
   {
    "duration": 9,
    "start_time": "2022-01-31T09:23:03.425Z"
   },
   {
    "duration": 41,
    "start_time": "2022-01-31T09:23:03.437Z"
   },
   {
    "duration": 15,
    "start_time": "2022-01-31T09:23:03.480Z"
   },
   {
    "duration": 349,
    "start_time": "2022-01-31T09:23:03.497Z"
   },
   {
    "duration": 13,
    "start_time": "2022-01-31T09:23:03.848Z"
   },
   {
    "duration": 4,
    "start_time": "2022-01-31T09:23:03.863Z"
   },
   {
    "duration": 8,
    "start_time": "2022-01-31T09:23:03.869Z"
   },
   {
    "duration": 22,
    "start_time": "2022-01-31T09:23:03.879Z"
   },
   {
    "duration": 30,
    "start_time": "2022-01-31T09:23:03.903Z"
   },
   {
    "duration": 4,
    "start_time": "2022-01-31T09:23:03.935Z"
   },
   {
    "duration": 23,
    "start_time": "2022-01-31T09:23:03.941Z"
   },
   {
    "duration": 4,
    "start_time": "2022-01-31T09:23:03.966Z"
   },
   {
    "duration": 5,
    "start_time": "2022-01-31T09:23:03.972Z"
   },
   {
    "duration": 18,
    "start_time": "2022-01-31T09:23:03.978Z"
   },
   {
    "duration": 25,
    "start_time": "2022-01-31T09:23:03.998Z"
   },
   {
    "duration": 14,
    "start_time": "2022-01-31T09:23:04.025Z"
   },
   {
    "duration": 6,
    "start_time": "2022-01-31T09:23:04.041Z"
   },
   {
    "duration": 19,
    "start_time": "2022-01-31T09:23:04.049Z"
   },
   {
    "duration": 12,
    "start_time": "2022-01-31T09:23:04.070Z"
   },
   {
    "duration": 1181,
    "start_time": "2022-01-31T09:23:04.084Z"
   },
   {
    "duration": 92,
    "start_time": "2022-01-31T09:23:05.269Z"
   },
   {
    "duration": 26185,
    "start_time": "2022-01-31T09:23:05.364Z"
   },
   {
    "duration": 2,
    "start_time": "2022-01-31T09:23:31.551Z"
   },
   {
    "duration": 13867,
    "start_time": "2022-01-31T09:23:31.561Z"
   },
   {
    "duration": 136,
    "start_time": "2022-01-31T09:23:45.429Z"
   },
   {
    "duration": 120,
    "start_time": "2022-01-31T09:23:45.567Z"
   },
   {
    "duration": 3,
    "start_time": "2022-01-31T09:23:45.688Z"
   },
   {
    "duration": 18,
    "start_time": "2022-01-31T09:23:45.692Z"
   },
   {
    "duration": 14,
    "start_time": "2022-01-31T09:23:45.712Z"
   },
   {
    "duration": 1634,
    "start_time": "2022-01-31T09:23:45.727Z"
   },
   {
    "duration": 7,
    "start_time": "2022-01-31T09:23:47.366Z"
   },
   {
    "duration": 54299,
    "start_time": "2022-01-31T09:23:47.378Z"
   },
   {
    "duration": 3,
    "start_time": "2022-01-31T09:24:41.679Z"
   },
   {
    "duration": 45162,
    "start_time": "2022-01-31T09:24:41.684Z"
   },
   {
    "duration": 39,
    "start_time": "2022-01-31T09:25:26.848Z"
   },
   {
    "duration": 108,
    "start_time": "2022-01-31T09:25:26.962Z"
   },
   {
    "duration": 4,
    "start_time": "2022-01-31T09:25:27.072Z"
   },
   {
    "duration": 12,
    "start_time": "2022-01-31T09:25:27.078Z"
   },
   {
    "duration": 82,
    "start_time": "2022-01-31T09:26:53.648Z"
   },
   {
    "duration": 4,
    "start_time": "2022-01-31T09:30:12.803Z"
   },
   {
    "duration": 4,
    "start_time": "2022-01-31T09:31:07.054Z"
   },
   {
    "duration": 567,
    "start_time": "2022-01-31T09:33:15.808Z"
   },
   {
    "duration": 471,
    "start_time": "2022-01-31T09:36:07.872Z"
   },
   {
    "duration": 532,
    "start_time": "2022-01-31T09:36:16.405Z"
   },
   {
    "duration": 2486,
    "start_time": "2022-01-31T09:36:25.189Z"
   },
   {
    "duration": 1218,
    "start_time": "2022-01-31T09:36:27.678Z"
   },
   {
    "duration": 736,
    "start_time": "2022-01-31T09:36:28.900Z"
   },
   {
    "duration": 27,
    "start_time": "2022-01-31T09:36:29.638Z"
   },
   {
    "duration": 15,
    "start_time": "2022-01-31T09:36:29.667Z"
   },
   {
    "duration": 10,
    "start_time": "2022-01-31T09:36:29.684Z"
   },
   {
    "duration": 944,
    "start_time": "2022-01-31T09:36:29.697Z"
   },
   {
    "duration": 33,
    "start_time": "2022-01-31T09:36:30.643Z"
   },
   {
    "duration": 1503,
    "start_time": "2022-01-31T09:36:30.678Z"
   },
   {
    "duration": 3037,
    "start_time": "2022-01-31T09:36:32.184Z"
   },
   {
    "duration": 4987,
    "start_time": "2022-01-31T09:36:35.223Z"
   },
   {
    "duration": 15,
    "start_time": "2022-01-31T09:36:40.211Z"
   },
   {
    "duration": 6,
    "start_time": "2022-01-31T09:36:40.228Z"
   },
   {
    "duration": 35,
    "start_time": "2022-01-31T09:36:40.236Z"
   },
   {
    "duration": 4,
    "start_time": "2022-01-31T09:36:40.273Z"
   },
   {
    "duration": 10,
    "start_time": "2022-01-31T09:36:40.279Z"
   },
   {
    "duration": 7,
    "start_time": "2022-01-31T09:36:40.291Z"
   },
   {
    "duration": 7,
    "start_time": "2022-01-31T09:36:40.300Z"
   },
   {
    "duration": 12,
    "start_time": "2022-01-31T09:36:40.309Z"
   },
   {
    "duration": 42,
    "start_time": "2022-01-31T09:36:40.323Z"
   },
   {
    "duration": 14,
    "start_time": "2022-01-31T09:36:40.366Z"
   },
   {
    "duration": 8,
    "start_time": "2022-01-31T09:36:40.385Z"
   },
   {
    "duration": 9,
    "start_time": "2022-01-31T09:36:40.396Z"
   },
   {
    "duration": 1516,
    "start_time": "2022-01-31T09:36:40.407Z"
   },
   {
    "duration": 1339,
    "start_time": "2022-01-31T09:36:41.924Z"
   },
   {
    "duration": 18,
    "start_time": "2022-01-31T09:36:43.266Z"
   },
   {
    "duration": 8,
    "start_time": "2022-01-31T09:36:43.285Z"
   },
   {
    "duration": 16,
    "start_time": "2022-01-31T09:36:43.295Z"
   },
   {
    "duration": 5,
    "start_time": "2022-01-31T09:36:43.313Z"
   },
   {
    "duration": 265,
    "start_time": "2022-01-31T09:36:43.320Z"
   },
   {
    "duration": 9,
    "start_time": "2022-01-31T09:36:43.587Z"
   },
   {
    "duration": 5,
    "start_time": "2022-01-31T09:36:43.598Z"
   },
   {
    "duration": 27,
    "start_time": "2022-01-31T09:36:43.605Z"
   },
   {
    "duration": 33,
    "start_time": "2022-01-31T09:36:43.635Z"
   },
   {
    "duration": 4,
    "start_time": "2022-01-31T09:36:43.670Z"
   },
   {
    "duration": 6,
    "start_time": "2022-01-31T09:36:43.676Z"
   },
   {
    "duration": 23,
    "start_time": "2022-01-31T09:36:43.685Z"
   },
   {
    "duration": 14,
    "start_time": "2022-01-31T09:36:43.711Z"
   },
   {
    "duration": 11,
    "start_time": "2022-01-31T09:36:43.727Z"
   },
   {
    "duration": 32,
    "start_time": "2022-01-31T09:36:43.741Z"
   },
   {
    "duration": 4,
    "start_time": "2022-01-31T09:36:43.775Z"
   },
   {
    "duration": 1290,
    "start_time": "2022-01-31T09:36:43.781Z"
   },
   {
    "duration": 4,
    "start_time": "2022-01-31T09:36:45.164Z"
   },
   {
    "duration": 20790,
    "start_time": "2022-01-31T09:36:45.171Z"
   },
   {
    "duration": 3,
    "start_time": "2022-01-31T09:37:05.963Z"
   },
   {
    "duration": 12442,
    "start_time": "2022-01-31T09:37:05.967Z"
   },
   {
    "duration": 51,
    "start_time": "2022-01-31T09:37:18.411Z"
   },
   {
    "duration": 107,
    "start_time": "2022-01-31T09:37:18.464Z"
   },
   {
    "duration": 613,
    "start_time": "2022-01-31T09:37:18.573Z"
   },
   {
    "duration": 434,
    "start_time": "2022-01-31T09:37:18.754Z"
   },
   {
    "duration": 429,
    "start_time": "2022-01-31T09:37:18.760Z"
   },
   {
    "duration": 426,
    "start_time": "2022-01-31T09:37:18.764Z"
   },
   {
    "duration": 423,
    "start_time": "2022-01-31T09:37:18.768Z"
   },
   {
    "duration": 420,
    "start_time": "2022-01-31T09:37:18.772Z"
   },
   {
    "duration": 416,
    "start_time": "2022-01-31T09:37:18.777Z"
   },
   {
    "duration": 413,
    "start_time": "2022-01-31T09:37:18.781Z"
   },
   {
    "duration": 409,
    "start_time": "2022-01-31T09:37:18.786Z"
   },
   {
    "duration": 407,
    "start_time": "2022-01-31T09:37:18.789Z"
   },
   {
    "duration": 404,
    "start_time": "2022-01-31T09:37:18.793Z"
   },
   {
    "duration": 401,
    "start_time": "2022-01-31T09:37:18.797Z"
   },
   {
    "duration": 399,
    "start_time": "2022-01-31T09:37:18.801Z"
   },
   {
    "duration": 396,
    "start_time": "2022-01-31T09:37:18.805Z"
   },
   {
    "duration": 393,
    "start_time": "2022-01-31T09:37:18.809Z"
   },
   {
    "duration": 26,
    "start_time": "2022-01-31T09:37:34.344Z"
   },
   {
    "duration": 3,
    "start_time": "2022-01-31T09:37:34.373Z"
   },
   {
    "duration": 17,
    "start_time": "2022-01-31T09:37:34.378Z"
   },
   {
    "duration": 13,
    "start_time": "2022-01-31T09:37:34.398Z"
   },
   {
    "duration": 1555,
    "start_time": "2022-01-31T09:37:34.413Z"
   },
   {
    "duration": 92,
    "start_time": "2022-01-31T09:37:35.970Z"
   },
   {
    "duration": 2439,
    "start_time": "2022-01-31T09:38:04.225Z"
   },
   {
    "duration": 1557,
    "start_time": "2022-01-31T09:38:06.666Z"
   },
   {
    "duration": 749,
    "start_time": "2022-01-31T09:38:08.226Z"
   },
   {
    "duration": 18,
    "start_time": "2022-01-31T09:38:08.977Z"
   },
   {
    "duration": 22,
    "start_time": "2022-01-31T09:38:08.997Z"
   },
   {
    "duration": 9,
    "start_time": "2022-01-31T09:38:09.021Z"
   },
   {
    "duration": 861,
    "start_time": "2022-01-31T09:38:09.032Z"
   },
   {
    "duration": 25,
    "start_time": "2022-01-31T09:38:09.896Z"
   },
   {
    "duration": 1201,
    "start_time": "2022-01-31T09:38:09.924Z"
   },
   {
    "duration": 2553,
    "start_time": "2022-01-31T09:38:11.127Z"
   },
   {
    "duration": 4697,
    "start_time": "2022-01-31T09:38:13.682Z"
   },
   {
    "duration": 14,
    "start_time": "2022-01-31T09:38:18.381Z"
   },
   {
    "duration": 6,
    "start_time": "2022-01-31T09:38:18.397Z"
   },
   {
    "duration": 14,
    "start_time": "2022-01-31T09:38:18.405Z"
   },
   {
    "duration": 5,
    "start_time": "2022-01-31T09:38:18.420Z"
   },
   {
    "duration": 27,
    "start_time": "2022-01-31T09:38:18.427Z"
   },
   {
    "duration": 8,
    "start_time": "2022-01-31T09:38:18.456Z"
   },
   {
    "duration": 10,
    "start_time": "2022-01-31T09:38:18.466Z"
   },
   {
    "duration": 14,
    "start_time": "2022-01-31T09:38:18.478Z"
   },
   {
    "duration": 14,
    "start_time": "2022-01-31T09:38:18.494Z"
   },
   {
    "duration": 11,
    "start_time": "2022-01-31T09:38:18.510Z"
   },
   {
    "duration": 7,
    "start_time": "2022-01-31T09:38:18.522Z"
   },
   {
    "duration": 29,
    "start_time": "2022-01-31T09:38:18.531Z"
   },
   {
    "duration": 1474,
    "start_time": "2022-01-31T09:38:18.562Z"
   },
   {
    "duration": 1328,
    "start_time": "2022-01-31T09:38:20.038Z"
   },
   {
    "duration": 17,
    "start_time": "2022-01-31T09:38:21.368Z"
   },
   {
    "duration": 7,
    "start_time": "2022-01-31T09:38:21.389Z"
   },
   {
    "duration": 13,
    "start_time": "2022-01-31T09:38:21.398Z"
   },
   {
    "duration": 4,
    "start_time": "2022-01-31T09:38:21.413Z"
   },
   {
    "duration": 288,
    "start_time": "2022-01-31T09:38:21.419Z"
   },
   {
    "duration": 6,
    "start_time": "2022-01-31T09:38:21.709Z"
   },
   {
    "duration": 5,
    "start_time": "2022-01-31T09:38:21.717Z"
   },
   {
    "duration": 43,
    "start_time": "2022-01-31T09:38:21.724Z"
   },
   {
    "duration": 10,
    "start_time": "2022-01-31T09:38:21.769Z"
   },
   {
    "duration": 8,
    "start_time": "2022-01-31T09:38:21.781Z"
   },
   {
    "duration": 14,
    "start_time": "2022-01-31T09:38:21.791Z"
   },
   {
    "duration": 19,
    "start_time": "2022-01-31T09:38:21.807Z"
   },
   {
    "duration": 15,
    "start_time": "2022-01-31T09:38:21.828Z"
   },
   {
    "duration": 16,
    "start_time": "2022-01-31T09:38:21.846Z"
   },
   {
    "duration": 26,
    "start_time": "2022-01-31T09:38:21.864Z"
   },
   {
    "duration": 8,
    "start_time": "2022-01-31T09:38:21.892Z"
   },
   {
    "duration": 865,
    "start_time": "2022-01-31T09:38:21.902Z"
   },
   {
    "duration": 92,
    "start_time": "2022-01-31T09:38:22.769Z"
   },
   {
    "duration": 19092,
    "start_time": "2022-01-31T09:38:22.864Z"
   },
   {
    "duration": 2,
    "start_time": "2022-01-31T09:38:41.960Z"
   },
   {
    "duration": 13165,
    "start_time": "2022-01-31T09:38:41.964Z"
   },
   {
    "duration": 129,
    "start_time": "2022-01-31T09:38:55.131Z"
   },
   {
    "duration": 120,
    "start_time": "2022-01-31T09:38:55.263Z"
   },
   {
    "duration": 3,
    "start_time": "2022-01-31T09:38:55.386Z"
   },
   {
    "duration": 18,
    "start_time": "2022-01-31T09:38:55.391Z"
   },
   {
    "duration": 8,
    "start_time": "2022-01-31T09:38:55.411Z"
   },
   {
    "duration": 3545,
    "start_time": "2022-01-31T09:38:55.421Z"
   },
   {
    "duration": 3,
    "start_time": "2022-01-31T09:38:58.968Z"
   },
   {
    "duration": 49088,
    "start_time": "2022-01-31T09:38:58.973Z"
   },
   {
    "duration": 3,
    "start_time": "2022-01-31T09:39:48.063Z"
   },
   {
    "duration": 44332,
    "start_time": "2022-01-31T09:39:48.067Z"
   },
   {
    "duration": 64,
    "start_time": "2022-01-31T09:40:32.401Z"
   },
   {
    "duration": 115,
    "start_time": "2022-01-31T09:40:32.468Z"
   },
   {
    "duration": 748,
    "start_time": "2022-01-31T09:40:32.585Z"
   },
   {
    "duration": 430,
    "start_time": "2022-01-31T09:40:32.906Z"
   },
   {
    "duration": 426,
    "start_time": "2022-01-31T09:40:32.911Z"
   },
   {
    "duration": 424,
    "start_time": "2022-01-31T09:40:32.915Z"
   },
   {
    "duration": 4,
    "start_time": "2022-01-31T09:41:06.853Z"
   },
   {
    "duration": 4,
    "start_time": "2022-01-31T09:41:09.447Z"
   },
   {
    "duration": 9,
    "start_time": "2022-01-31T09:41:12.386Z"
   }
  ],
  "kernelspec": {
   "display_name": "Python 3",
   "language": "python",
   "name": "python3"
  },
  "language_info": {
   "codemirror_mode": {
    "name": "ipython",
    "version": 3
   },
   "file_extension": ".py",
   "mimetype": "text/x-python",
   "name": "python",
   "nbconvert_exporter": "python",
   "pygments_lexer": "ipython3",
   "version": "3.7.8"
  },
  "toc": {
   "base_numbering": 1,
   "nav_menu": {},
   "number_sections": true,
   "sideBar": true,
   "skip_h1_title": true,
   "title_cell": "Содержание",
   "title_sidebar": "Contents",
   "toc_cell": true,
   "toc_position": {
    "height": "calc(100% - 180px)",
    "left": "10px",
    "top": "150px",
    "width": "287.812px"
   },
   "toc_section_display": true,
   "toc_window_display": true
  }
 },
 "nbformat": 4,
 "nbformat_minor": 2
}

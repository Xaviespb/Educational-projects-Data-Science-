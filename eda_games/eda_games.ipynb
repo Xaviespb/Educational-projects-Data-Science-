{
 "cells": [
  {
   "cell_type": "markdown",
   "metadata": {},
   "source": [
    "Вы работаете в интернет-магазине, который продаёт по всему миру компьютерные игры. Из открытых источников доступны исторические данные о продажах игр, оценки пользователей и экспертов, жанры и платформы (например, Xbox или PlayStation). Вам нужно выявить определяющие успешность игры закономерности. Это позволит сделать ставку на потенциально популярный продукт и спланировать рекламные кампании.\n",
    "Перед вами данные до 2016 года. Представим, что сейчас декабрь 2016 г., и вы планируете кампанию на 2017-й. Нужно отработать принцип работы с данными. Неважно, прогнозируете ли вы продажи на 2017 год по данным 2016-го или же 2027-й — по данным 2026 года.\n",
    "В наборе данных попадается аббревиатура ESRB (Entertainment Software Rating Board) — это ассоциация, определяющая возрастной рейтинг компьютерных игр. ESRB оценивает игровой контент и присваивает ему подходящую возрастную категорию, например, «Для взрослых», «Для детей младшего возраста» или «Для подростков»."
   ]
  },
  {
   "cell_type": "markdown",
   "metadata": {},
   "source": [
    "## Общая информация"
   ]
  },
  {
   "cell_type": "markdown",
   "metadata": {},
   "source": [
    "Установим библиотеку для работы с пропусками missingno"
   ]
  },
  {
   "cell_type": "code",
   "execution_count": 117,
   "metadata": {},
   "outputs": [
    {
     "name": "stdout",
     "output_type": "stream",
     "text": [
      "Defaulting to user installation because normal site-packages is not writeable\n",
      "Requirement already satisfied: seaborn in /opt/conda/lib/python3.7/site-packages (0.9.0)\n",
      "Requirement already satisfied: pandas>=0.15.2 in /opt/conda/lib/python3.7/site-packages (from seaborn) (0.25.1)\n",
      "Requirement already satisfied: scipy>=0.14.0 in /opt/conda/lib/python3.7/site-packages (from seaborn) (1.4.1)\n",
      "Requirement already satisfied: numpy>=1.9.3 in /opt/conda/lib/python3.7/site-packages (from seaborn) (1.19.5)\n",
      "Requirement already satisfied: matplotlib>=1.4.3 in /opt/conda/lib/python3.7/site-packages (from seaborn) (3.1.0)\n",
      "Requirement already satisfied: pytz>=2017.2 in /opt/conda/lib/python3.7/site-packages (from pandas>=0.15.2->seaborn) (2021.1)\n",
      "Requirement already satisfied: python-dateutil>=2.6.1 in /opt/conda/lib/python3.7/site-packages (from pandas>=0.15.2->seaborn) (2.8.1)\n",
      "Requirement already satisfied: pyparsing!=2.0.4,!=2.1.2,!=2.1.6,>=2.0.1 in /opt/conda/lib/python3.7/site-packages (from matplotlib>=1.4.3->seaborn) (2.4.7)\n",
      "Requirement already satisfied: cycler>=0.10 in /opt/conda/lib/python3.7/site-packages (from matplotlib>=1.4.3->seaborn) (0.10.0)\n",
      "Requirement already satisfied: kiwisolver>=1.0.1 in /opt/conda/lib/python3.7/site-packages (from matplotlib>=1.4.3->seaborn) (1.3.1)\n",
      "Requirement already satisfied: six>=1.5 in /opt/conda/lib/python3.7/site-packages (from python-dateutil>=2.6.1->pandas>=0.15.2->seaborn) (1.15.0)\n",
      "Defaulting to user installation because normal site-packages is not writeable\n",
      "Requirement already satisfied: missingno in /home/jovyan/.local/lib/python3.7/site-packages (0.5.0)\n",
      "Requirement already satisfied: seaborn in /opt/conda/lib/python3.7/site-packages (from missingno) (0.9.0)\n",
      "Requirement already satisfied: numpy in /opt/conda/lib/python3.7/site-packages (from missingno) (1.19.5)\n",
      "Requirement already satisfied: matplotlib in /opt/conda/lib/python3.7/site-packages (from missingno) (3.1.0)\n",
      "Requirement already satisfied: scipy in /opt/conda/lib/python3.7/site-packages (from missingno) (1.4.1)\n",
      "Requirement already satisfied: pandas>=0.15.2 in /opt/conda/lib/python3.7/site-packages (from seaborn->missingno) (0.25.1)\n",
      "Requirement already satisfied: cycler>=0.10 in /opt/conda/lib/python3.7/site-packages (from matplotlib->missingno) (0.10.0)\n",
      "Requirement already satisfied: python-dateutil>=2.1 in /opt/conda/lib/python3.7/site-packages (from matplotlib->missingno) (2.8.1)\n",
      "Requirement already satisfied: pyparsing!=2.0.4,!=2.1.2,!=2.1.6,>=2.0.1 in /opt/conda/lib/python3.7/site-packages (from matplotlib->missingno) (2.4.7)\n",
      "Requirement already satisfied: kiwisolver>=1.0.1 in /opt/conda/lib/python3.7/site-packages (from matplotlib->missingno) (1.3.1)\n",
      "Requirement already satisfied: pytz>=2017.2 in /opt/conda/lib/python3.7/site-packages (from pandas>=0.15.2->seaborn->missingno) (2021.1)\n",
      "Requirement already satisfied: six in /opt/conda/lib/python3.7/site-packages (from cycler>=0.10->matplotlib->missingno) (1.15.0)\n"
     ]
    }
   ],
   "source": [
    "\n",
    "import sys\n",
    "!{sys.executable} -m pip install seaborn\n",
    "!{sys.executable} -m pip install missingno\n"
   ]
  },
  {
   "cell_type": "code",
   "execution_count": 118,
   "metadata": {},
   "outputs": [],
   "source": [
    "import pandas as pd\n",
    "import numpy as np\n",
    "import seaborn as sns\n",
    "import matplotlib.pyplot as plt\n",
    "import missingno as msno\n",
    "from pymystem3 import Mystem\n",
    "from collections import Counter\n",
    "from scipy import stats as st\n",
    "pd.set_option('display.float_format', '{:,.2f}'.format)"
   ]
  },
  {
   "cell_type": "code",
   "execution_count": 119,
   "metadata": {},
   "outputs": [
    {
     "data": {
      "text/html": [
       "<div>\n",
       "<style scoped>\n",
       "    .dataframe tbody tr th:only-of-type {\n",
       "        vertical-align: middle;\n",
       "    }\n",
       "\n",
       "    .dataframe tbody tr th {\n",
       "        vertical-align: top;\n",
       "    }\n",
       "\n",
       "    .dataframe thead th {\n",
       "        text-align: right;\n",
       "    }\n",
       "</style>\n",
       "<table border=\"1\" class=\"dataframe\">\n",
       "  <thead>\n",
       "    <tr style=\"text-align: right;\">\n",
       "      <th></th>\n",
       "      <th>Name</th>\n",
       "      <th>Platform</th>\n",
       "      <th>Year_of_Release</th>\n",
       "      <th>Genre</th>\n",
       "      <th>NA_sales</th>\n",
       "      <th>EU_sales</th>\n",
       "      <th>JP_sales</th>\n",
       "      <th>Other_sales</th>\n",
       "      <th>Critic_Score</th>\n",
       "      <th>User_Score</th>\n",
       "      <th>Rating</th>\n",
       "    </tr>\n",
       "  </thead>\n",
       "  <tbody>\n",
       "    <tr>\n",
       "      <td>0</td>\n",
       "      <td>Wii Sports</td>\n",
       "      <td>Wii</td>\n",
       "      <td>2,006.00</td>\n",
       "      <td>Sports</td>\n",
       "      <td>41.36</td>\n",
       "      <td>28.96</td>\n",
       "      <td>3.77</td>\n",
       "      <td>8.45</td>\n",
       "      <td>76.00</td>\n",
       "      <td>8</td>\n",
       "      <td>E</td>\n",
       "    </tr>\n",
       "    <tr>\n",
       "      <td>1</td>\n",
       "      <td>Super Mario Bros.</td>\n",
       "      <td>NES</td>\n",
       "      <td>1,985.00</td>\n",
       "      <td>Platform</td>\n",
       "      <td>29.08</td>\n",
       "      <td>3.58</td>\n",
       "      <td>6.81</td>\n",
       "      <td>0.77</td>\n",
       "      <td>nan</td>\n",
       "      <td>NaN</td>\n",
       "      <td>NaN</td>\n",
       "    </tr>\n",
       "    <tr>\n",
       "      <td>2</td>\n",
       "      <td>Mario Kart Wii</td>\n",
       "      <td>Wii</td>\n",
       "      <td>2,008.00</td>\n",
       "      <td>Racing</td>\n",
       "      <td>15.68</td>\n",
       "      <td>12.76</td>\n",
       "      <td>3.79</td>\n",
       "      <td>3.29</td>\n",
       "      <td>82.00</td>\n",
       "      <td>8.3</td>\n",
       "      <td>E</td>\n",
       "    </tr>\n",
       "    <tr>\n",
       "      <td>3</td>\n",
       "      <td>Wii Sports Resort</td>\n",
       "      <td>Wii</td>\n",
       "      <td>2,009.00</td>\n",
       "      <td>Sports</td>\n",
       "      <td>15.61</td>\n",
       "      <td>10.93</td>\n",
       "      <td>3.28</td>\n",
       "      <td>2.95</td>\n",
       "      <td>80.00</td>\n",
       "      <td>8</td>\n",
       "      <td>E</td>\n",
       "    </tr>\n",
       "    <tr>\n",
       "      <td>4</td>\n",
       "      <td>Pokemon Red/Pokemon Blue</td>\n",
       "      <td>GB</td>\n",
       "      <td>1,996.00</td>\n",
       "      <td>Role-Playing</td>\n",
       "      <td>11.27</td>\n",
       "      <td>8.89</td>\n",
       "      <td>10.22</td>\n",
       "      <td>1.00</td>\n",
       "      <td>nan</td>\n",
       "      <td>NaN</td>\n",
       "      <td>NaN</td>\n",
       "    </tr>\n",
       "  </tbody>\n",
       "</table>\n",
       "</div>"
      ],
      "text/plain": [
       "                       Name Platform  Year_of_Release         Genre  NA_sales  \\\n",
       "0                Wii Sports      Wii         2,006.00        Sports     41.36   \n",
       "1         Super Mario Bros.      NES         1,985.00      Platform     29.08   \n",
       "2            Mario Kart Wii      Wii         2,008.00        Racing     15.68   \n",
       "3         Wii Sports Resort      Wii         2,009.00        Sports     15.61   \n",
       "4  Pokemon Red/Pokemon Blue       GB         1,996.00  Role-Playing     11.27   \n",
       "\n",
       "   EU_sales  JP_sales  Other_sales  Critic_Score User_Score Rating  \n",
       "0     28.96      3.77         8.45         76.00          8      E  \n",
       "1      3.58      6.81         0.77           nan        NaN    NaN  \n",
       "2     12.76      3.79         3.29         82.00        8.3      E  \n",
       "3     10.93      3.28         2.95         80.00          8      E  \n",
       "4      8.89     10.22         1.00           nan        NaN    NaN  "
      ]
     },
     "execution_count": 119,
     "metadata": {},
     "output_type": "execute_result"
    }
   ],
   "source": [
    "df = pd.read_csv('/datasets/games.csv')\n",
    "df.head()"
   ]
  },
  {
   "cell_type": "code",
   "execution_count": 120,
   "metadata": {},
   "outputs": [
    {
     "name": "stdout",
     "output_type": "stream",
     "text": [
      "<class 'pandas.core.frame.DataFrame'>\n",
      "RangeIndex: 16715 entries, 0 to 16714\n",
      "Data columns (total 11 columns):\n",
      "Name               16713 non-null object\n",
      "Platform           16715 non-null object\n",
      "Year_of_Release    16446 non-null float64\n",
      "Genre              16713 non-null object\n",
      "NA_sales           16715 non-null float64\n",
      "EU_sales           16715 non-null float64\n",
      "JP_sales           16715 non-null float64\n",
      "Other_sales        16715 non-null float64\n",
      "Critic_Score       8137 non-null float64\n",
      "User_Score         10014 non-null object\n",
      "Rating             9949 non-null object\n",
      "dtypes: float64(6), object(5)\n",
      "memory usage: 1.4+ MB\n"
     ]
    }
   ],
   "source": [
    "df.info()"
   ]
  },
  {
   "cell_type": "code",
   "execution_count": 121,
   "metadata": {},
   "outputs": [
    {
     "data": {
      "text/plain": [
       "Index(['Name', 'Platform', 'Year_of_Release', 'Genre', 'NA_sales', 'EU_sales',\n",
       "       'JP_sales', 'Other_sales', 'Critic_Score', 'User_Score', 'Rating'],\n",
       "      dtype='object')"
      ]
     },
     "execution_count": 121,
     "metadata": {},
     "output_type": "execute_result"
    }
   ],
   "source": [
    "df.columns"
   ]
  },
  {
   "cell_type": "markdown",
   "metadata": {},
   "source": [
    "## Предобработка данных"
   ]
  },
  {
   "cell_type": "markdown",
   "metadata": {},
   "source": [
    "Приведем название столбцов к нижнему регистру"
   ]
  },
  {
   "cell_type": "code",
   "execution_count": 122,
   "metadata": {},
   "outputs": [],
   "source": [
    "df.columns = df.columns.str.lower()\n",
    "features = list(df.columns)"
   ]
  },
  {
   "cell_type": "markdown",
   "metadata": {},
   "source": [
    "Преобразуем данные в нужные типы"
   ]
  },
  {
   "cell_type": "code",
   "execution_count": 123,
   "metadata": {},
   "outputs": [],
   "source": [
    "df['year_of_release'] = df['year_of_release'].astype('int', errors='ignore')"
   ]
  },
  {
   "cell_type": "markdown",
   "metadata": {},
   "source": [
    "TBD в столбце user_score - to be determind (подлежит уточнению) перенесем этот признак в отдельный булев столбец"
   ]
  },
  {
   "cell_type": "code",
   "execution_count": 124,
   "metadata": {},
   "outputs": [],
   "source": [
    "df['tbd'] = df['user_score'].where(df['user_score'] == 'tbd', 0)"
   ]
  },
  {
   "cell_type": "code",
   "execution_count": 125,
   "metadata": {},
   "outputs": [],
   "source": [
    "df['tbd'] = df['tbd'].where(df['tbd'] == 0, 1)"
   ]
  },
  {
   "cell_type": "code",
   "execution_count": 126,
   "metadata": {},
   "outputs": [],
   "source": [
    "df['tbd'] = df['tbd'].astype('bool')"
   ]
  },
  {
   "cell_type": "code",
   "execution_count": 127,
   "metadata": {},
   "outputs": [],
   "source": [
    "df['user_score'] = df['user_score'].where(df['user_score'] != 'tbd', np.nan)"
   ]
  },
  {
   "cell_type": "markdown",
   "metadata": {},
   "source": [
    "Переведем user_score в числовой тип"
   ]
  },
  {
   "cell_type": "code",
   "execution_count": 128,
   "metadata": {},
   "outputs": [],
   "source": [
    "df['user_score'] = pd.to_numeric(df['user_score'], errors='ignore')"
   ]
  },
  {
   "cell_type": "code",
   "execution_count": 129,
   "metadata": {},
   "outputs": [
    {
     "name": "stdout",
     "output_type": "stream",
     "text": [
      "<class 'pandas.core.frame.DataFrame'>\n",
      "RangeIndex: 16715 entries, 0 to 16714\n",
      "Data columns (total 12 columns):\n",
      "name               16713 non-null object\n",
      "platform           16715 non-null object\n",
      "year_of_release    16446 non-null float64\n",
      "genre              16713 non-null object\n",
      "na_sales           16715 non-null float64\n",
      "eu_sales           16715 non-null float64\n",
      "jp_sales           16715 non-null float64\n",
      "other_sales        16715 non-null float64\n",
      "critic_score       8137 non-null float64\n",
      "user_score         7590 non-null float64\n",
      "rating             9949 non-null object\n",
      "tbd                16715 non-null bool\n",
      "dtypes: bool(1), float64(7), object(4)\n",
      "memory usage: 1.4+ MB\n"
     ]
    }
   ],
   "source": [
    "df.info()"
   ]
  },
  {
   "cell_type": "markdown",
   "metadata": {},
   "source": [
    "Обработка пропусков"
   ]
  },
  {
   "cell_type": "code",
   "execution_count": 130,
   "metadata": {},
   "outputs": [
    {
     "data": {
      "text/plain": [
       "name                  2\n",
       "platform              0\n",
       "year_of_release     269\n",
       "genre                 2\n",
       "na_sales              0\n",
       "eu_sales              0\n",
       "jp_sales              0\n",
       "other_sales           0\n",
       "critic_score       8578\n",
       "user_score         9125\n",
       "rating             6766\n",
       "tbd                   0\n",
       "dtype: int64"
      ]
     },
     "execution_count": 130,
     "metadata": {},
     "output_type": "execute_result"
    }
   ],
   "source": [
    "df.isna().sum()"
   ]
  },
  {
   "cell_type": "markdown",
   "metadata": {},
   "source": [
    "Выведим диаграмму которая показывает заполнение столбцов"
   ]
  },
  {
   "cell_type": "code",
   "execution_count": 131,
   "metadata": {},
   "outputs": [
    {
     "data": {
      "text/plain": [
       "<matplotlib.axes._subplots.AxesSubplot at 0x7fde1ef42e10>"
      ]
     },
     "execution_count": 131,
     "metadata": {},
     "output_type": "execute_result"
    },
    {
     "data": {
      "image/png": "[encoded data removed]",
      "text/plain": [
       "<Figure size 1800x720 with 3 Axes>"
      ]
     },
     "metadata": {
      "needs_background": "light"
     },
     "output_type": "display_data"
    }
   ],
   "source": [
    "msno.bar(df, labels=True, color=(0.3,0.5,1))"
   ]
  },
  {
   "cell_type": "markdown",
   "metadata": {},
   "source": [
    "Визуализация пропусков столбцов"
   ]
  },
  {
   "cell_type": "code",
   "execution_count": 132,
   "metadata": {},
   "outputs": [
    {
     "data": {
      "text/plain": [
       "<matplotlib.axes._subplots.AxesSubplot at 0x7fde1ee10250>"
      ]
     },
     "execution_count": 132,
     "metadata": {},
     "output_type": "execute_result"
    },
    {
     "data": {
      "image/png": "[encoded data removed]",
      "text/plain": [
       "<Figure size 1800x720 with 2 Axes>"
      ]
     },
     "metadata": {
      "needs_background": "light"
     },
     "output_type": "display_data"
    }
   ],
   "source": [
    "msno.matrix(df)"
   ]
  },
  {
   "cell_type": "markdown",
   "metadata": {},
   "source": [
    "Отсортируем для наглядности"
   ]
  },
  {
   "cell_type": "code",
   "execution_count": 133,
   "metadata": {},
   "outputs": [
    {
     "data": {
      "text/plain": [
       "<matplotlib.axes._subplots.AxesSubplot at 0x7fde1ec85ad0>"
      ]
     },
     "execution_count": 133,
     "metadata": {},
     "output_type": "execute_result"
    },
    {
     "data": {
      "image/png": "[encoded data removed]",
      "text/plain": [
       "<Figure size 1800x720 with 2 Axes>"
      ]
     },
     "metadata": {
      "needs_background": "light"
     },
     "output_type": "display_data"
    }
   ],
   "source": [
    "msno.matrix(df.sort_values('critic_score'))"
   ]
  },
  {
   "cell_type": "markdown",
   "metadata": {},
   "source": [
    "Выведим только столбцы с пропусками"
   ]
  },
  {
   "cell_type": "code",
   "execution_count": 134,
   "metadata": {},
   "outputs": [],
   "source": [
    "features_with_na = [feature for feature in df.columns if df[feature].isnull().sum() > 1]"
   ]
  },
  {
   "cell_type": "code",
   "execution_count": 135,
   "metadata": {},
   "outputs": [
    {
     "data": {
      "text/plain": [
       "<matplotlib.axes._subplots.AxesSubplot at 0x7fde1ebd0910>"
      ]
     },
     "execution_count": 135,
     "metadata": {},
     "output_type": "execute_result"
    },
    {
     "data": {
      "image/png": "[encoded data removed]",
      "text/plain": [
       "<Figure size 1800x720 with 2 Axes>"
      ]
     },
     "metadata": {
      "needs_background": "light"
     },
     "output_type": "display_data"
    }
   ],
   "source": [
    "msno.matrix(df[features_with_na].sort_values('critic_score'))"
   ]
  },
  {
   "cell_type": "markdown",
   "metadata": {},
   "source": [
    "Рассмотрим взяимосвяь пропусков"
   ]
  },
  {
   "cell_type": "code",
   "execution_count": 136,
   "metadata": {},
   "outputs": [
    {
     "data": {
      "text/plain": [
       "<matplotlib.axes._subplots.AxesSubplot at 0x7fde1ec0fc50>"
      ]
     },
     "execution_count": 136,
     "metadata": {},
     "output_type": "execute_result"
    },
    {
     "data": {
      "image/png": "[encoded data removed]",
      "text/plain": [
       "<Figure size 1440x864 with 2 Axes>"
      ]
     },
     "metadata": {
      "needs_background": "light"
     },
     "output_type": "display_data"
    }
   ],
   "source": [
    "msno.heatmap(df[features_with_na])"
   ]
  },
  {
   "cell_type": "markdown",
   "metadata": {},
   "source": [
    "Видно, что строки с пропусками в признаках user_score и rating совпадают почти полностью."
   ]
  },
  {
   "cell_type": "markdown",
   "metadata": {},
   "source": [
    "Две строки с пропусками в признаках name и genre совпадают почти полностью, их немного и можно удалить"
   ]
  },
  {
   "cell_type": "code",
   "execution_count": 137,
   "metadata": {},
   "outputs": [
    {
     "data": {
      "text/plain": [
       "Index(['name', 'platform', 'year_of_release', 'genre', 'na_sales', 'eu_sales',\n",
       "       'jp_sales', 'other_sales', 'critic_score', 'user_score', 'rating',\n",
       "       'tbd'],\n",
       "      dtype='object')"
      ]
     },
     "execution_count": 137,
     "metadata": {},
     "output_type": "execute_result"
    }
   ],
   "source": [
    "df = df[~df['name'].isna()]\n",
    "df.columns"
   ]
  },
  {
   "cell_type": "markdown",
   "metadata": {},
   "source": [
    "Часть пропусков в critic_score, user_score можно заполнить средними оценками по разным платформам игры"
   ]
  },
  {
   "cell_type": "code",
   "execution_count": 178,
   "metadata": {},
   "outputs": [
    {
     "data": {
      "text/plain": [
       "Text(0, 0.5, 'frequency')"
      ]
     },
     "execution_count": 178,
     "metadata": {},
     "output_type": "execute_result"
    },
    {
     "data": {
      "image/png": "[encoded data removed]",
      "text/plain": [
       "<Figure size 1440x720 with 1 Axes>"
      ]
     },
     "metadata": {
      "needs_background": "light"
     },
     "output_type": "display_data"
    }
   ],
   "source": [
    "sns.distplot(df[~df['critic_score'].isna()]['critic_score'])\n",
    "plt.title('Распределение оценок критиков')\n",
    "plt.ylabel('frequency')"
   ]
  },
  {
   "cell_type": "code",
   "execution_count": 139,
   "metadata": {},
   "outputs": [],
   "source": [
    "df['critic_score'] = df['critic_score'].fillna(\n",
    "    df.groupby(\n",
    "        'name')['critic_score'].transform(\n",
    "        'mean'))"
   ]
  },
  {
   "cell_type": "code",
   "execution_count": 140,
   "metadata": {},
   "outputs": [
    {
     "data": {
      "text/plain": [
       "<matplotlib.axes._subplots.AxesSubplot at 0x7fde1eac7a50>"
      ]
     },
     "execution_count": 140,
     "metadata": {},
     "output_type": "execute_result"
    },
    {
     "data": {
      "image/png": "[encoded data removed]",
      "text/plain": [
       "<Figure size 1440x720 with 1 Axes>"
      ]
     },
     "metadata": {
      "needs_background": "light"
     },
     "output_type": "display_data"
    }
   ],
   "source": [
    "sns.distplot(df[~df['critic_score'].isna()]['critic_score'])\n",
    "plt.title('Распределение оценок критиков после частичного заполнения')\n",
    "plt.ylabel('frequency')"
   ]
  },
  {
   "cell_type": "code",
   "execution_count": 141,
   "metadata": {},
   "outputs": [],
   "source": [
    "df['user_score'] = df['user_score'].fillna(\n",
    "    df.groupby(\n",
    "        'name')['user_score'].transform(\n",
    "        'mean'))"
   ]
  },
  {
   "cell_type": "code",
   "execution_count": 142,
   "metadata": {},
   "outputs": [
    {
     "data": {
      "text/plain": [
       "<matplotlib.axes._subplots.AxesSubplot at 0x7fde1e967c90>"
      ]
     },
     "execution_count": 142,
     "metadata": {},
     "output_type": "execute_result"
    },
    {
     "data": {
      "image/png": "[encoded data removed]",
      "text/plain": [
       "<Figure size 1800x720 with 3 Axes>"
      ]
     },
     "metadata": {
      "needs_background": "light"
     },
     "output_type": "display_data"
    }
   ],
   "source": [
    "msno.bar(df, labels=True, color=(0.3,0.5,1))"
   ]
  },
  {
   "cell_type": "markdown",
   "metadata": {},
   "source": [
    "Оставшиеся пропуски в столбцах critic_score, user_score, rating заполнять не будем, их около 50% и любое заполнение повлияет на результат исследования. Если заполнить средним, то это наоборот не повлияет на проверку гипотез в конце исследования, тк как усилит распределение вокруг средних значений."
   ]
  },
  {
   "cell_type": "markdown",
   "metadata": {},
   "source": [
    "Посчитаем суммарные продажи во всех регионах и запишим их в отдельный столбец"
   ]
  },
  {
   "cell_type": "code",
   "execution_count": 143,
   "metadata": {},
   "outputs": [],
   "source": [
    "df['total_sales'] = df['na_sales'] + df['eu_sales'] + df['jp_sales'] + df['other_sales']"
   ]
  },
  {
   "cell_type": "markdown",
   "metadata": {},
   "source": [
    "## Предварительный анализ данных"
   ]
  },
  {
   "cell_type": "markdown",
   "metadata": {},
   "source": [
    "Посмотрите, сколько игр выпускалось в разные годы. Важны ли данные за все периоды"
   ]
  },
  {
   "cell_type": "code",
   "execution_count": 144,
   "metadata": {},
   "outputs": [
    {
     "data": {
      "text/plain": [
       "Text(0.5, 1.0, 'Сколько игр выпускалось в разные годы')"
      ]
     },
     "execution_count": 144,
     "metadata": {},
     "output_type": "execute_result"
    },
    {
     "data": {
      "image/png": "[encoded data removed]",
      "text/plain": [
       "<Figure size 1440x720 with 1 Axes>"
      ]
     },
     "metadata": {
      "needs_background": "light"
     },
     "output_type": "display_data"
    }
   ],
   "source": [
    "(df[~df['year_of_release'].isna()]['year_of_release']).hist(bins=37)\n",
    "plt.xlabel('year')\n",
    "plt.ylabel('frequency')\n",
    "plt.title('Сколько игр выпускалось в разные годы')"
   ]
  },
  {
   "cell_type": "code",
   "execution_count": 145,
   "metadata": {
    "scrolled": true
   },
   "outputs": [
    {
     "data": {
      "text/plain": [
       "<matplotlib.axes._subplots.AxesSubplot at 0x7fdde7551b10>"
      ]
     },
     "execution_count": 145,
     "metadata": {},
     "output_type": "execute_result"
    },
    {
     "data": {
      "image/png": "[encoded data removed]",
      "text/plain": [
       "<Figure size 1440x720 with 1 Axes>"
      ]
     },
     "metadata": {
      "needs_background": "light"
     },
     "output_type": "display_data"
    }
   ],
   "source": [
    "df.boxplot('year_of_release')"
   ]
  },
  {
   "cell_type": "code",
   "execution_count": 146,
   "metadata": {},
   "outputs": [
    {
     "data": {
      "text/plain": [
       "count   16,444.00\n",
       "mean     2,006.49\n",
       "std          5.88\n",
       "min      1,980.00\n",
       "25%      2,003.00\n",
       "50%      2,007.00\n",
       "75%      2,010.00\n",
       "max      2,016.00\n",
       "Name: year_of_release, dtype: float64"
      ]
     },
     "execution_count": 146,
     "metadata": {},
     "output_type": "execute_result"
    }
   ],
   "source": [
    "df['year_of_release'].describe()"
   ]
  },
  {
   "cell_type": "markdown",
   "metadata": {},
   "source": [
    "Медианное и среднее значения года выпуска игр ~ 2007 год. Данные об играх выпущенные раньше 25% квартиля - 2003 года не важны и не репрезентативны, отсечем их."
   ]
  },
  {
   "cell_type": "code",
   "execution_count": 147,
   "metadata": {},
   "outputs": [
    {
     "data": {
      "text/plain": [
       "Text(0, 0.5, 'sales')"
      ]
     },
     "execution_count": 147,
     "metadata": {},
     "output_type": "execute_result"
    },
    {
     "data": {
      "image/png": "[encoded data removed]",
      "text/plain": [
       "<Figure size 1440x720 with 1 Axes>"
      ]
     },
     "metadata": {
      "needs_background": "light"
     },
     "output_type": "display_data"
    }
   ],
   "source": [
    "df[['total_sales', 'year_of_release']].groupby('year_of_release').sum().plot(kind='bar')\n",
    "plt.title('Динамика продаж по годам')\n",
    "plt.ylabel('sales')"
   ]
  },
  {
   "cell_type": "markdown",
   "metadata": {},
   "source": [
    "Посмотрим, как менялись продажи по платформам с 2003 года"
   ]
  },
  {
   "cell_type": "code",
   "execution_count": 148,
   "metadata": {},
   "outputs": [],
   "source": [
    "df_platforms = df.query('year_of_release > 2003')"
   ]
  },
  {
   "cell_type": "markdown",
   "metadata": {},
   "source": [
    "Выберим платформы с наибольшими суммарными продажами и построим распределение по годам"
   ]
  },
  {
   "cell_type": "code",
   "execution_count": 149,
   "metadata": {
    "scrolled": true
   },
   "outputs": [
    {
     "data": {
      "text/plain": [
       "platform\n",
       "X360   961.24\n",
       "PS3    931.34\n",
       "Wii    891.18\n",
       "DS     802.76\n",
       "PS2    638.27\n",
       "PS4    314.14\n",
       "PSP    289.53\n",
       "3DS    257.81\n",
       "PC     178.18\n",
       "XOne   159.32\n",
       "Name: total_sales, dtype: float64"
      ]
     },
     "execution_count": 149,
     "metadata": {},
     "output_type": "execute_result"
    }
   ],
   "source": [
    "(df_platforms.groupby('platform')['total_sales']\n",
    " .sum()\n",
    " .sort_values(ascending=False)\n",
    " .head(10))"
   ]
  },
  {
   "cell_type": "code",
   "execution_count": 150,
   "metadata": {},
   "outputs": [],
   "source": [
    "best_platforms = list(df_platforms\n",
    "                      .groupby('platform')['total_sales']\n",
    "                      .sum()\n",
    "                      .sort_values(ascending=False)\n",
    "                      .head(6)\n",
    "                      .index[0:6])"
   ]
  },
  {
   "cell_type": "markdown",
   "metadata": {},
   "source": [
    "Выведим список с лучшими по продажам игр с 2003 года платформы:"
   ]
  },
  {
   "cell_type": "code",
   "execution_count": 151,
   "metadata": {},
   "outputs": [
    {
     "data": {
      "text/plain": [
       "['X360', 'PS3', 'Wii', 'DS', 'PS2', 'PS4']"
      ]
     },
     "execution_count": 151,
     "metadata": {},
     "output_type": "execute_result"
    }
   ],
   "source": [
    "best_platforms"
   ]
  },
  {
   "cell_type": "code",
   "execution_count": 152,
   "metadata": {},
   "outputs": [],
   "source": [
    "df_platforms_best = df_platforms[df_platforms['platform'].isin(best_platforms)]"
   ]
  },
  {
   "cell_type": "code",
   "execution_count": 153,
   "metadata": {},
   "outputs": [],
   "source": [
    "df_platforms_best = pd.pivot_table(\n",
    "    df_platforms_best,\n",
    "    values='total_sales', \n",
    "    index=['platform','year_of_release'], \n",
    "    aggfunc=np.sum).reset_index()"
   ]
  },
  {
   "cell_type": "markdown",
   "metadata": {},
   "source": [
    "Построим график продаж по лучшим платформам по годам"
   ]
  },
  {
   "cell_type": "code",
   "execution_count": 154,
   "metadata": {
    "scrolled": false
   },
   "outputs": [
    {
     "data": {
      "text/plain": [
       "Text(0.5, 1.0, 'Продажи y/y по платформам')"
      ]
     },
     "execution_count": 154,
     "metadata": {},
     "output_type": "execute_result"
    },
    {
     "data": {
      "image/png": "[encoded data removed]",
      "text/plain": [
       "<Figure size 1440x360 with 1 Axes>"
      ]
     },
     "metadata": {
      "needs_background": "light"
     },
     "output_type": "display_data"
    }
   ],
   "source": [
    "plt.rcParams[\"figure.figsize\"] = (20,5)\n",
    "sns.barplot(data=df_platforms_best,x='year_of_release',y='total_sales', hue='platform')\n",
    "plt.title('Продажи y/y по платформам')"
   ]
  },
  {
   "cell_type": "markdown",
   "metadata": {},
   "source": [
    "9-10 лет характерный срок за который появляются новые и исчезают старые платформы, это и будет нашим актуальным периодом для прогнозирования продаж в 2017 году"
   ]
  },
  {
   "cell_type": "markdown",
   "metadata": {},
   "source": [
    "2007-2016"
   ]
  },
  {
   "cell_type": "markdown",
   "metadata": {},
   "source": [
    "Определим какие платформы лидируют по продажам, растут или падают? Выберем несколько потенциально прибыльных платформ."
   ]
  },
  {
   "cell_type": "code",
   "execution_count": 155,
   "metadata": {},
   "outputs": [
    {
     "data": {
      "text/plain": [
       "2       35.52\n",
       "3       32.77\n",
       "8       28.32\n",
       "14      21.82\n",
       "15      21.80\n",
       "         ... \n",
       "16707    0.01\n",
       "16709    0.00\n",
       "16710    0.01\n",
       "16712    0.01\n",
       "16714    0.01\n",
       "Name: total_sales, Length: 8130, dtype: float64"
      ]
     },
     "execution_count": 155,
     "metadata": {},
     "output_type": "execute_result"
    }
   ],
   "source": [
    "df_platforms_actual = df.query('year_of_release > 2007')\n",
    "df_platforms_actual['total_sales']"
   ]
  },
  {
   "cell_type": "code",
   "execution_count": 156,
   "metadata": {},
   "outputs": [
    {
     "data": {
      "text/plain": [
       "Text(0.5, 1.0, 'Продажи y/y по платформам')"
      ]
     },
     "execution_count": 156,
     "metadata": {},
     "output_type": "execute_result"
    },
    {
     "data": {
      "image/png": "[encoded data removed]",
      "text/plain": [
       "<Figure size 1440x360 with 1 Axes>"
      ]
     },
     "metadata": {
      "needs_background": "light"
     },
     "output_type": "display_data"
    }
   ],
   "source": [
    "df_platforms_actual = pd.pivot_table(\n",
    "    df_platforms_actual,\n",
    "    values='total_sales', \n",
    "    index=['platform','year_of_release'], \n",
    "    aggfunc=np.sum).reset_index()\n",
    "df_platforms_actual.head()\n",
    "sns.barplot(data=df_platforms_actual,x='year_of_release',y='total_sales', hue='platform')\n",
    "plt.title('Продажи y/y по платформам')"
   ]
  },
  {
   "cell_type": "markdown",
   "metadata": {},
   "source": [
    "Список актуальных платформ по убыванию"
   ]
  },
  {
   "cell_type": "code",
   "execution_count": 157,
   "metadata": {
    "scrolled": true
   },
   "outputs": [
    {
     "data": {
      "text/plain": [
       "platform\n",
       "PS3    837.19\n",
       "X360   805.96\n",
       "Wii    601.26\n",
       "DS     388.60\n",
       "PS4    314.14\n",
       "3DS    257.81\n",
       "XOne   159.32\n",
       "PC     151.29\n",
       "PSP    136.38\n",
       "PS2     86.39\n",
       "WiiU    82.19\n",
       "PSV     53.81\n",
       "XB       0.18\n",
       "DC       0.04\n",
       "Name: total_sales, dtype: float64"
      ]
     },
     "execution_count": 157,
     "metadata": {},
     "output_type": "execute_result"
    }
   ],
   "source": [
    "df_platforms_actual.groupby('platform')['total_sales'].sum().sort_values(ascending=False)"
   ]
  },
  {
   "cell_type": "code",
   "execution_count": 158,
   "metadata": {},
   "outputs": [],
   "source": [
    "df_platforms_actual_years = pd.pivot_table(df_platforms_actual,\n",
    "                                           columns='platform',\n",
    "                                           values='total_sales',\n",
    "                                           index='year_of_release').reset_index()"
   ]
  },
  {
   "cell_type": "code",
   "execution_count": 159,
   "metadata": {},
   "outputs": [
    {
     "data": {
      "text/html": [
       "<div>\n",
       "<style scoped>\n",
       "    .dataframe tbody tr th:only-of-type {\n",
       "        vertical-align: middle;\n",
       "    }\n",
       "\n",
       "    .dataframe tbody tr th {\n",
       "        vertical-align: top;\n",
       "    }\n",
       "\n",
       "    .dataframe thead th {\n",
       "        text-align: right;\n",
       "    }\n",
       "</style>\n",
       "<table border=\"1\" class=\"dataframe\">\n",
       "  <thead>\n",
       "    <tr style=\"text-align: right;\">\n",
       "      <th>platform</th>\n",
       "      <th>year_of_release</th>\n",
       "      <th>3DS</th>\n",
       "      <th>DC</th>\n",
       "      <th>DS</th>\n",
       "      <th>PC</th>\n",
       "      <th>PS2</th>\n",
       "      <th>PS3</th>\n",
       "      <th>PS4</th>\n",
       "      <th>PSP</th>\n",
       "      <th>PSV</th>\n",
       "      <th>Wii</th>\n",
       "      <th>WiiU</th>\n",
       "      <th>X360</th>\n",
       "      <th>XB</th>\n",
       "      <th>XOne</th>\n",
       "    </tr>\n",
       "  </thead>\n",
       "  <tbody>\n",
       "    <tr>\n",
       "      <td>0</td>\n",
       "      <td>2,008.00</td>\n",
       "      <td>nan</td>\n",
       "      <td>0.04</td>\n",
       "      <td>145.31</td>\n",
       "      <td>12.42</td>\n",
       "      <td>53.90</td>\n",
       "      <td>118.52</td>\n",
       "      <td>nan</td>\n",
       "      <td>34.55</td>\n",
       "      <td>nan</td>\n",
       "      <td>171.32</td>\n",
       "      <td>nan</td>\n",
       "      <td>135.26</td>\n",
       "      <td>0.18</td>\n",
       "      <td>nan</td>\n",
       "    </tr>\n",
       "    <tr>\n",
       "      <td>1</td>\n",
       "      <td>2,009.00</td>\n",
       "      <td>nan</td>\n",
       "      <td>nan</td>\n",
       "      <td>119.54</td>\n",
       "      <td>16.91</td>\n",
       "      <td>26.40</td>\n",
       "      <td>130.93</td>\n",
       "      <td>nan</td>\n",
       "      <td>37.78</td>\n",
       "      <td>nan</td>\n",
       "      <td>206.97</td>\n",
       "      <td>nan</td>\n",
       "      <td>120.29</td>\n",
       "      <td>nan</td>\n",
       "      <td>nan</td>\n",
       "    </tr>\n",
       "    <tr>\n",
       "      <td>2</td>\n",
       "      <td>2,010.00</td>\n",
       "      <td>nan</td>\n",
       "      <td>nan</td>\n",
       "      <td>85.02</td>\n",
       "      <td>24.28</td>\n",
       "      <td>5.64</td>\n",
       "      <td>142.17</td>\n",
       "      <td>nan</td>\n",
       "      <td>35.04</td>\n",
       "      <td>nan</td>\n",
       "      <td>127.95</td>\n",
       "      <td>nan</td>\n",
       "      <td>170.03</td>\n",
       "      <td>nan</td>\n",
       "      <td>nan</td>\n",
       "    </tr>\n",
       "    <tr>\n",
       "      <td>3</td>\n",
       "      <td>2,011.00</td>\n",
       "      <td>63.20</td>\n",
       "      <td>nan</td>\n",
       "      <td>26.18</td>\n",
       "      <td>35.03</td>\n",
       "      <td>0.45</td>\n",
       "      <td>156.78</td>\n",
       "      <td>nan</td>\n",
       "      <td>17.82</td>\n",
       "      <td>4.63</td>\n",
       "      <td>59.65</td>\n",
       "      <td>nan</td>\n",
       "      <td>143.84</td>\n",
       "      <td>nan</td>\n",
       "      <td>nan</td>\n",
       "    </tr>\n",
       "    <tr>\n",
       "      <td>4</td>\n",
       "      <td>2,012.00</td>\n",
       "      <td>51.36</td>\n",
       "      <td>nan</td>\n",
       "      <td>11.01</td>\n",
       "      <td>23.22</td>\n",
       "      <td>nan</td>\n",
       "      <td>107.36</td>\n",
       "      <td>nan</td>\n",
       "      <td>7.69</td>\n",
       "      <td>16.19</td>\n",
       "      <td>21.71</td>\n",
       "      <td>17.56</td>\n",
       "      <td>99.74</td>\n",
       "      <td>nan</td>\n",
       "      <td>nan</td>\n",
       "    </tr>\n",
       "    <tr>\n",
       "      <td>5</td>\n",
       "      <td>2,013.00</td>\n",
       "      <td>56.57</td>\n",
       "      <td>nan</td>\n",
       "      <td>1.54</td>\n",
       "      <td>12.38</td>\n",
       "      <td>nan</td>\n",
       "      <td>113.25</td>\n",
       "      <td>25.99</td>\n",
       "      <td>3.14</td>\n",
       "      <td>10.59</td>\n",
       "      <td>8.59</td>\n",
       "      <td>21.65</td>\n",
       "      <td>88.58</td>\n",
       "      <td>nan</td>\n",
       "      <td>18.96</td>\n",
       "    </tr>\n",
       "    <tr>\n",
       "      <td>6</td>\n",
       "      <td>2,014.00</td>\n",
       "      <td>43.76</td>\n",
       "      <td>nan</td>\n",
       "      <td>nan</td>\n",
       "      <td>13.28</td>\n",
       "      <td>nan</td>\n",
       "      <td>47.76</td>\n",
       "      <td>100.00</td>\n",
       "      <td>0.24</td>\n",
       "      <td>11.90</td>\n",
       "      <td>3.75</td>\n",
       "      <td>22.03</td>\n",
       "      <td>34.74</td>\n",
       "      <td>nan</td>\n",
       "      <td>54.07</td>\n",
       "    </tr>\n",
       "    <tr>\n",
       "      <td>7</td>\n",
       "      <td>2,015.00</td>\n",
       "      <td>27.78</td>\n",
       "      <td>nan</td>\n",
       "      <td>nan</td>\n",
       "      <td>8.52</td>\n",
       "      <td>nan</td>\n",
       "      <td>16.82</td>\n",
       "      <td>118.90</td>\n",
       "      <td>0.12</td>\n",
       "      <td>6.25</td>\n",
       "      <td>1.14</td>\n",
       "      <td>16.35</td>\n",
       "      <td>11.96</td>\n",
       "      <td>nan</td>\n",
       "      <td>60.14</td>\n",
       "    </tr>\n",
       "    <tr>\n",
       "      <td>8</td>\n",
       "      <td>2,016.00</td>\n",
       "      <td>15.14</td>\n",
       "      <td>nan</td>\n",
       "      <td>nan</td>\n",
       "      <td>5.25</td>\n",
       "      <td>nan</td>\n",
       "      <td>3.60</td>\n",
       "      <td>69.25</td>\n",
       "      <td>nan</td>\n",
       "      <td>4.25</td>\n",
       "      <td>0.18</td>\n",
       "      <td>4.60</td>\n",
       "      <td>1.52</td>\n",
       "      <td>nan</td>\n",
       "      <td>26.15</td>\n",
       "    </tr>\n",
       "  </tbody>\n",
       "</table>\n",
       "</div>"
      ],
      "text/plain": [
       "platform  year_of_release   3DS   DC     DS    PC   PS2    PS3    PS4   PSP  \\\n",
       "0                2,008.00   nan 0.04 145.31 12.42 53.90 118.52    nan 34.55   \n",
       "1                2,009.00   nan  nan 119.54 16.91 26.40 130.93    nan 37.78   \n",
       "2                2,010.00   nan  nan  85.02 24.28  5.64 142.17    nan 35.04   \n",
       "3                2,011.00 63.20  nan  26.18 35.03  0.45 156.78    nan 17.82   \n",
       "4                2,012.00 51.36  nan  11.01 23.22   nan 107.36    nan  7.69   \n",
       "5                2,013.00 56.57  nan   1.54 12.38   nan 113.25  25.99  3.14   \n",
       "6                2,014.00 43.76  nan    nan 13.28   nan  47.76 100.00  0.24   \n",
       "7                2,015.00 27.78  nan    nan  8.52   nan  16.82 118.90  0.12   \n",
       "8                2,016.00 15.14  nan    nan  5.25   nan   3.60  69.25   nan   \n",
       "\n",
       "platform   PSV    Wii  WiiU   X360   XB  XOne  \n",
       "0          nan 171.32   nan 135.26 0.18   nan  \n",
       "1          nan 206.97   nan 120.29  nan   nan  \n",
       "2          nan 127.95   nan 170.03  nan   nan  \n",
       "3         4.63  59.65   nan 143.84  nan   nan  \n",
       "4        16.19  21.71 17.56  99.74  nan   nan  \n",
       "5        10.59   8.59 21.65  88.58  nan 18.96  \n",
       "6        11.90   3.75 22.03  34.74  nan 54.07  \n",
       "7         6.25   1.14 16.35  11.96  nan 60.14  \n",
       "8         4.25   0.18  4.60   1.52  nan 26.15  "
      ]
     },
     "execution_count": 159,
     "metadata": {},
     "output_type": "execute_result"
    }
   ],
   "source": [
    "df_platforms_actual_years"
   ]
  },
  {
   "cell_type": "code",
   "execution_count": 160,
   "metadata": {},
   "outputs": [
    {
     "data": {
      "text/plain": [
       "Text(0, 0.5, 'sales')"
      ]
     },
     "execution_count": 160,
     "metadata": {},
     "output_type": "execute_result"
    },
    {
     "data": {
      "image/png": "[encoded data removed]",
      "text/plain": [
       "<Figure size 1440x720 with 1 Axes>"
      ]
     },
     "metadata": {
      "needs_background": "light"
     },
     "output_type": "display_data"
    }
   ],
   "source": [
    "plt.rcParams[\"figure.figsize\"] = (20,10)\n",
    "df_platforms_actual_years.plot(x='year_of_release')\n",
    "plt.title('Динамика продаж y/y по платформам')\n",
    "plt.ylabel('sales')"
   ]
  },
  {
   "cell_type": "markdown",
   "metadata": {},
   "source": [
    "Посчитаем долевые изменения продаж по годам"
   ]
  },
  {
   "cell_type": "code",
   "execution_count": 161,
   "metadata": {},
   "outputs": [
    {
     "data": {
      "text/html": [
       "<div>\n",
       "<style scoped>\n",
       "    .dataframe tbody tr th:only-of-type {\n",
       "        vertical-align: middle;\n",
       "    }\n",
       "\n",
       "    .dataframe tbody tr th {\n",
       "        vertical-align: top;\n",
       "    }\n",
       "\n",
       "    .dataframe thead th {\n",
       "        text-align: right;\n",
       "    }\n",
       "</style>\n",
       "<table border=\"1\" class=\"dataframe\">\n",
       "  <thead>\n",
       "    <tr style=\"text-align: right;\">\n",
       "      <th>platform</th>\n",
       "      <th>3DS</th>\n",
       "      <th>DC</th>\n",
       "      <th>DS</th>\n",
       "      <th>PC</th>\n",
       "      <th>PS2</th>\n",
       "      <th>PS3</th>\n",
       "      <th>PS4</th>\n",
       "      <th>PSP</th>\n",
       "      <th>PSV</th>\n",
       "      <th>Wii</th>\n",
       "      <th>WiiU</th>\n",
       "      <th>X360</th>\n",
       "      <th>XB</th>\n",
       "      <th>XOne</th>\n",
       "    </tr>\n",
       "    <tr>\n",
       "      <th>year_of_release</th>\n",
       "      <th></th>\n",
       "      <th></th>\n",
       "      <th></th>\n",
       "      <th></th>\n",
       "      <th></th>\n",
       "      <th></th>\n",
       "      <th></th>\n",
       "      <th></th>\n",
       "      <th></th>\n",
       "      <th></th>\n",
       "      <th></th>\n",
       "      <th></th>\n",
       "      <th></th>\n",
       "      <th></th>\n",
       "    </tr>\n",
       "  </thead>\n",
       "  <tbody>\n",
       "    <tr>\n",
       "      <td>2,008.00</td>\n",
       "      <td>nan</td>\n",
       "      <td>nan</td>\n",
       "      <td>nan</td>\n",
       "      <td>nan</td>\n",
       "      <td>nan</td>\n",
       "      <td>nan</td>\n",
       "      <td>nan</td>\n",
       "      <td>nan</td>\n",
       "      <td>nan</td>\n",
       "      <td>nan</td>\n",
       "      <td>nan</td>\n",
       "      <td>nan</td>\n",
       "      <td>nan</td>\n",
       "      <td>nan</td>\n",
       "    </tr>\n",
       "    <tr>\n",
       "      <td>2,009.00</td>\n",
       "      <td>nan</td>\n",
       "      <td>0.00</td>\n",
       "      <td>-0.18</td>\n",
       "      <td>0.36</td>\n",
       "      <td>-0.51</td>\n",
       "      <td>0.10</td>\n",
       "      <td>nan</td>\n",
       "      <td>0.09</td>\n",
       "      <td>nan</td>\n",
       "      <td>0.21</td>\n",
       "      <td>nan</td>\n",
       "      <td>-0.11</td>\n",
       "      <td>0.00</td>\n",
       "      <td>nan</td>\n",
       "    </tr>\n",
       "    <tr>\n",
       "      <td>2,010.00</td>\n",
       "      <td>nan</td>\n",
       "      <td>0.00</td>\n",
       "      <td>-0.29</td>\n",
       "      <td>0.44</td>\n",
       "      <td>-0.79</td>\n",
       "      <td>0.09</td>\n",
       "      <td>nan</td>\n",
       "      <td>-0.07</td>\n",
       "      <td>nan</td>\n",
       "      <td>-0.38</td>\n",
       "      <td>nan</td>\n",
       "      <td>0.41</td>\n",
       "      <td>0.00</td>\n",
       "      <td>nan</td>\n",
       "    </tr>\n",
       "    <tr>\n",
       "      <td>2,011.00</td>\n",
       "      <td>nan</td>\n",
       "      <td>0.00</td>\n",
       "      <td>-0.69</td>\n",
       "      <td>0.44</td>\n",
       "      <td>-0.92</td>\n",
       "      <td>0.10</td>\n",
       "      <td>nan</td>\n",
       "      <td>-0.49</td>\n",
       "      <td>nan</td>\n",
       "      <td>-0.53</td>\n",
       "      <td>nan</td>\n",
       "      <td>-0.15</td>\n",
       "      <td>0.00</td>\n",
       "      <td>nan</td>\n",
       "    </tr>\n",
       "    <tr>\n",
       "      <td>2,012.00</td>\n",
       "      <td>-0.19</td>\n",
       "      <td>0.00</td>\n",
       "      <td>-0.58</td>\n",
       "      <td>-0.34</td>\n",
       "      <td>0.00</td>\n",
       "      <td>-0.32</td>\n",
       "      <td>nan</td>\n",
       "      <td>-0.57</td>\n",
       "      <td>2.50</td>\n",
       "      <td>-0.64</td>\n",
       "      <td>nan</td>\n",
       "      <td>-0.31</td>\n",
       "      <td>0.00</td>\n",
       "      <td>nan</td>\n",
       "    </tr>\n",
       "    <tr>\n",
       "      <td>2,013.00</td>\n",
       "      <td>0.10</td>\n",
       "      <td>0.00</td>\n",
       "      <td>-0.86</td>\n",
       "      <td>-0.47</td>\n",
       "      <td>0.00</td>\n",
       "      <td>0.05</td>\n",
       "      <td>nan</td>\n",
       "      <td>-0.59</td>\n",
       "      <td>-0.35</td>\n",
       "      <td>-0.60</td>\n",
       "      <td>0.23</td>\n",
       "      <td>-0.11</td>\n",
       "      <td>0.00</td>\n",
       "      <td>nan</td>\n",
       "    </tr>\n",
       "    <tr>\n",
       "      <td>2,014.00</td>\n",
       "      <td>-0.23</td>\n",
       "      <td>0.00</td>\n",
       "      <td>0.00</td>\n",
       "      <td>0.07</td>\n",
       "      <td>0.00</td>\n",
       "      <td>-0.58</td>\n",
       "      <td>2.85</td>\n",
       "      <td>-0.92</td>\n",
       "      <td>0.12</td>\n",
       "      <td>-0.56</td>\n",
       "      <td>0.02</td>\n",
       "      <td>-0.61</td>\n",
       "      <td>0.00</td>\n",
       "      <td>1.85</td>\n",
       "    </tr>\n",
       "    <tr>\n",
       "      <td>2,015.00</td>\n",
       "      <td>-0.37</td>\n",
       "      <td>0.00</td>\n",
       "      <td>0.00</td>\n",
       "      <td>-0.36</td>\n",
       "      <td>0.00</td>\n",
       "      <td>-0.65</td>\n",
       "      <td>0.19</td>\n",
       "      <td>-0.50</td>\n",
       "      <td>-0.47</td>\n",
       "      <td>-0.70</td>\n",
       "      <td>-0.26</td>\n",
       "      <td>-0.66</td>\n",
       "      <td>0.00</td>\n",
       "      <td>0.11</td>\n",
       "    </tr>\n",
       "    <tr>\n",
       "      <td>2,016.00</td>\n",
       "      <td>-0.46</td>\n",
       "      <td>0.00</td>\n",
       "      <td>0.00</td>\n",
       "      <td>-0.38</td>\n",
       "      <td>0.00</td>\n",
       "      <td>-0.79</td>\n",
       "      <td>-0.42</td>\n",
       "      <td>0.00</td>\n",
       "      <td>-0.32</td>\n",
       "      <td>-0.84</td>\n",
       "      <td>-0.72</td>\n",
       "      <td>-0.87</td>\n",
       "      <td>0.00</td>\n",
       "      <td>-0.57</td>\n",
       "    </tr>\n",
       "  </tbody>\n",
       "</table>\n",
       "</div>"
      ],
      "text/plain": [
       "platform          3DS   DC    DS    PC   PS2   PS3   PS4   PSP   PSV   Wii  \\\n",
       "year_of_release                                                              \n",
       "2,008.00          nan  nan   nan   nan   nan   nan   nan   nan   nan   nan   \n",
       "2,009.00          nan 0.00 -0.18  0.36 -0.51  0.10   nan  0.09   nan  0.21   \n",
       "2,010.00          nan 0.00 -0.29  0.44 -0.79  0.09   nan -0.07   nan -0.38   \n",
       "2,011.00          nan 0.00 -0.69  0.44 -0.92  0.10   nan -0.49   nan -0.53   \n",
       "2,012.00        -0.19 0.00 -0.58 -0.34  0.00 -0.32   nan -0.57  2.50 -0.64   \n",
       "2,013.00         0.10 0.00 -0.86 -0.47  0.00  0.05   nan -0.59 -0.35 -0.60   \n",
       "2,014.00        -0.23 0.00  0.00  0.07  0.00 -0.58  2.85 -0.92  0.12 -0.56   \n",
       "2,015.00        -0.37 0.00  0.00 -0.36  0.00 -0.65  0.19 -0.50 -0.47 -0.70   \n",
       "2,016.00        -0.46 0.00  0.00 -0.38  0.00 -0.79 -0.42  0.00 -0.32 -0.84   \n",
       "\n",
       "platform         WiiU  X360   XB  XOne  \n",
       "year_of_release                         \n",
       "2,008.00          nan   nan  nan   nan  \n",
       "2,009.00          nan -0.11 0.00   nan  \n",
       "2,010.00          nan  0.41 0.00   nan  \n",
       "2,011.00          nan -0.15 0.00   nan  \n",
       "2,012.00          nan -0.31 0.00   nan  \n",
       "2,013.00         0.23 -0.11 0.00   nan  \n",
       "2,014.00         0.02 -0.61 0.00  1.85  \n",
       "2,015.00        -0.26 -0.66 0.00  0.11  \n",
       "2,016.00        -0.72 -0.87 0.00 -0.57  "
      ]
     },
     "execution_count": 161,
     "metadata": {},
     "output_type": "execute_result"
    }
   ],
   "source": [
    "plt.rcParams[\"figure.figsize\"] = (20,10)\n",
    "df_platforms_actual_years = df_platforms_actual_years.set_index('year_of_release')\n",
    "df_platforms_actual_years.pct_change()"
   ]
  },
  {
   "cell_type": "markdown",
   "metadata": {},
   "source": [
    "Продажи по всем платформам падают к 2016 году"
   ]
  },
  {
   "cell_type": "markdown",
   "metadata": {},
   "source": [
    "Построим график «ящик с усами» по глобальным продажам игр в разбивке по платформам"
   ]
  },
  {
   "cell_type": "code",
   "execution_count": 162,
   "metadata": {
    "scrolled": true
   },
   "outputs": [
    {
     "name": "stderr",
     "output_type": "stream",
     "text": [
      "/opt/conda/lib/python3.7/site-packages/numpy/core/_asarray.py:83: VisibleDeprecationWarning: Creating an ndarray from ragged nested sequences (which is a list-or-tuple of lists-or-tuples-or ndarrays with different lengths or shapes) is deprecated. If you meant to do this, you must specify 'dtype=object' when creating the ndarray\n",
      "  return array(a, dtype, copy=False, order=order)\n"
     ]
    },
    {
     "data": {
      "text/plain": [
       "Text(0, 0.5, 'sales')"
      ]
     },
     "execution_count": 162,
     "metadata": {},
     "output_type": "execute_result"
    },
    {
     "data": {
      "image/png": "[encoded data removed]",
      "text/plain": [
       "<Figure size 1440x720 with 1 Axes>"
      ]
     },
     "metadata": {
      "needs_background": "light"
     },
     "output_type": "display_data"
    }
   ],
   "source": [
    "df_platforms_actual_years.boxplot()\n",
    "plt.title('Boxplot')\n",
    "plt.ylabel('sales')"
   ]
  },
  {
   "cell_type": "markdown",
   "metadata": {},
   "source": [
    "Межквартильный размах на самых популярных платформах больше, их продажи по годам имеют большую дисперсию, медиана как правило больше"
   ]
  },
  {
   "cell_type": "markdown",
   "metadata": {},
   "source": [
    "Посмотрим, как влияют на продажи внутри одной популярной платформы отзывы пользователей и критиков. Построим диаграмму рассеяния и посчитаем корреляцию между отзывами и продажами"
   ]
  },
  {
   "cell_type": "code",
   "execution_count": 163,
   "metadata": {},
   "outputs": [],
   "source": [
    "df_platforms_PS3 = df_platforms[df_platforms['platform']=='PS3']\n",
    "df_platforms_PS3 = df_platforms_PS3[['name',\n",
    "                                     'year_of_release',\n",
    "                                     'critic_score',\n",
    "                                     'user_score',\n",
    "                                     'total_sales']]"
   ]
  },
  {
   "cell_type": "code",
   "execution_count": 164,
   "metadata": {
    "scrolled": true
   },
   "outputs": [
    {
     "data": {
      "text/plain": [
       "<seaborn.axisgrid.JointGrid at 0x7fdde6b07850>"
      ]
     },
     "execution_count": 164,
     "metadata": {},
     "output_type": "execute_result"
    },
    {
     "data": {
      "image/png": "[encoded data removed]",
      "text/plain": [
       "<Figure size 432x432 with 3 Axes>"
      ]
     },
     "metadata": {
      "needs_background": "light"
     },
     "output_type": "display_data"
    }
   ],
   "source": [
    "sns.jointplot(x = 'total_sales',\n",
    "              y = 'critic_score',\n",
    "              data = df_platforms_PS3,\n",
    "              kind = 'reg',\n",
    "              xlim = (0,2),\n",
    "              ylim = (0,125))"
   ]
  },
  {
   "cell_type": "markdown",
   "metadata": {},
   "source": [
    "На графике наболюдаем среднюю кореляцию между продажами и оценками критиков"
   ]
  },
  {
   "cell_type": "code",
   "execution_count": 165,
   "metadata": {},
   "outputs": [
    {
     "data": {
      "text/html": [
       "<div>\n",
       "<style scoped>\n",
       "    .dataframe tbody tr th:only-of-type {\n",
       "        vertical-align: middle;\n",
       "    }\n",
       "\n",
       "    .dataframe tbody tr th {\n",
       "        vertical-align: top;\n",
       "    }\n",
       "\n",
       "    .dataframe thead th {\n",
       "        text-align: right;\n",
       "    }\n",
       "</style>\n",
       "<table border=\"1\" class=\"dataframe\">\n",
       "  <thead>\n",
       "    <tr style=\"text-align: right;\">\n",
       "      <th></th>\n",
       "      <th>critic_score</th>\n",
       "      <th>total_sales</th>\n",
       "      <th>user_score</th>\n",
       "    </tr>\n",
       "  </thead>\n",
       "  <tbody>\n",
       "    <tr>\n",
       "      <td>critic_score</td>\n",
       "      <td>1.00</td>\n",
       "      <td>0.41</td>\n",
       "      <td>0.56</td>\n",
       "    </tr>\n",
       "    <tr>\n",
       "      <td>total_sales</td>\n",
       "      <td>0.41</td>\n",
       "      <td>1.00</td>\n",
       "      <td>0.13</td>\n",
       "    </tr>\n",
       "    <tr>\n",
       "      <td>user_score</td>\n",
       "      <td>0.56</td>\n",
       "      <td>0.13</td>\n",
       "      <td>1.00</td>\n",
       "    </tr>\n",
       "  </tbody>\n",
       "</table>\n",
       "</div>"
      ],
      "text/plain": [
       "              critic_score  total_sales  user_score\n",
       "critic_score          1.00         0.41        0.56\n",
       "total_sales           0.41         1.00        0.13\n",
       "user_score            0.56         0.13        1.00"
      ]
     },
     "execution_count": 165,
     "metadata": {},
     "output_type": "execute_result"
    }
   ],
   "source": [
    "corr = df_platforms_PS3[['critic_score','total_sales','user_score']].corr()\n",
    "corr"
   ]
  },
  {
   "cell_type": "code",
   "execution_count": 166,
   "metadata": {},
   "outputs": [
    {
     "data": {
      "text/plain": [
       "0.40681251188940876"
      ]
     },
     "execution_count": 166,
     "metadata": {},
     "output_type": "execute_result"
    }
   ],
   "source": [
    "corr['total_sales']['critic_score']"
   ]
  },
  {
   "cell_type": "markdown",
   "metadata": {},
   "source": [
    "Соотнесем выводы с продажами игр на других платформах"
   ]
  },
  {
   "cell_type": "code",
   "execution_count": 167,
   "metadata": {},
   "outputs": [],
   "source": [
    "df_platforms_scores = df_platforms[['name',\n",
    "                                    'platform',\n",
    "                                    'year_of_release',\n",
    "                                    'critic_score',\n",
    "                                    'user_score',\n",
    "                                    'total_sales']]"
   ]
  },
  {
   "cell_type": "code",
   "execution_count": 168,
   "metadata": {},
   "outputs": [],
   "source": [
    "platforms = list(df_platforms_scores['platform'].unique())"
   ]
  },
  {
   "cell_type": "code",
   "execution_count": 169,
   "metadata": {
    "scrolled": true
   },
   "outputs": [
    {
     "data": {
      "text/html": [
       "<div>\n",
       "<style scoped>\n",
       "    .dataframe tbody tr th:only-of-type {\n",
       "        vertical-align: middle;\n",
       "    }\n",
       "\n",
       "    .dataframe tbody tr th {\n",
       "        vertical-align: top;\n",
       "    }\n",
       "\n",
       "    .dataframe thead th {\n",
       "        text-align: right;\n",
       "    }\n",
       "</style>\n",
       "<table border=\"1\" class=\"dataframe\">\n",
       "  <thead>\n",
       "    <tr style=\"text-align: right;\">\n",
       "      <th></th>\n",
       "      <th>platform</th>\n",
       "      <th>critic</th>\n",
       "      <th>user</th>\n",
       "    </tr>\n",
       "  </thead>\n",
       "  <tbody>\n",
       "    <tr>\n",
       "      <td>3</td>\n",
       "      <td>PS3</td>\n",
       "      <td>0.41</td>\n",
       "      <td>0.13</td>\n",
       "    </tr>\n",
       "    <tr>\n",
       "      <td>8</td>\n",
       "      <td>XB</td>\n",
       "      <td>0.40</td>\n",
       "      <td>0.19</td>\n",
       "    </tr>\n",
       "    <tr>\n",
       "      <td>5</td>\n",
       "      <td>PS4</td>\n",
       "      <td>0.39</td>\n",
       "      <td>-0.02</td>\n",
       "    </tr>\n",
       "    <tr>\n",
       "      <td>4</td>\n",
       "      <td>PS2</td>\n",
       "      <td>0.39</td>\n",
       "      <td>0.20</td>\n",
       "    </tr>\n",
       "    <tr>\n",
       "      <td>2</td>\n",
       "      <td>X360</td>\n",
       "      <td>0.38</td>\n",
       "      <td>0.12</td>\n",
       "    </tr>\n",
       "    <tr>\n",
       "      <td>11</td>\n",
       "      <td>XOne</td>\n",
       "      <td>0.37</td>\n",
       "      <td>-0.09</td>\n",
       "    </tr>\n",
       "    <tr>\n",
       "      <td>13</td>\n",
       "      <td>GC</td>\n",
       "      <td>0.35</td>\n",
       "      <td>0.27</td>\n",
       "    </tr>\n",
       "    <tr>\n",
       "      <td>12</td>\n",
       "      <td>WiiU</td>\n",
       "      <td>0.33</td>\n",
       "      <td>0.37</td>\n",
       "    </tr>\n",
       "    <tr>\n",
       "      <td>6</td>\n",
       "      <td>3DS</td>\n",
       "      <td>0.32</td>\n",
       "      <td>0.23</td>\n",
       "    </tr>\n",
       "    <tr>\n",
       "      <td>10</td>\n",
       "      <td>PSP</td>\n",
       "      <td>0.30</td>\n",
       "      <td>0.22</td>\n",
       "    </tr>\n",
       "    <tr>\n",
       "      <td>9</td>\n",
       "      <td>PC</td>\n",
       "      <td>0.27</td>\n",
       "      <td>-0.02</td>\n",
       "    </tr>\n",
       "    <tr>\n",
       "      <td>1</td>\n",
       "      <td>DS</td>\n",
       "      <td>0.23</td>\n",
       "      <td>0.14</td>\n",
       "    </tr>\n",
       "    <tr>\n",
       "      <td>7</td>\n",
       "      <td>GBA</td>\n",
       "      <td>0.21</td>\n",
       "      <td>0.14</td>\n",
       "    </tr>\n",
       "    <tr>\n",
       "      <td>0</td>\n",
       "      <td>Wii</td>\n",
       "      <td>0.17</td>\n",
       "      <td>0.11</td>\n",
       "    </tr>\n",
       "    <tr>\n",
       "      <td>14</td>\n",
       "      <td>PSV</td>\n",
       "      <td>0.16</td>\n",
       "      <td>0.05</td>\n",
       "    </tr>\n",
       "    <tr>\n",
       "      <td>15</td>\n",
       "      <td>DC</td>\n",
       "      <td>nan</td>\n",
       "      <td>nan</td>\n",
       "    </tr>\n",
       "  </tbody>\n",
       "</table>\n",
       "</div>"
      ],
      "text/plain": [
       "   platform  critic  user\n",
       "3       PS3    0.41  0.13\n",
       "8        XB    0.40  0.19\n",
       "5       PS4    0.39 -0.02\n",
       "4       PS2    0.39  0.20\n",
       "2      X360    0.38  0.12\n",
       "11     XOne    0.37 -0.09\n",
       "13       GC    0.35  0.27\n",
       "12     WiiU    0.33  0.37\n",
       "6       3DS    0.32  0.23\n",
       "10      PSP    0.30  0.22\n",
       "9        PC    0.27 -0.02\n",
       "1        DS    0.23  0.14\n",
       "7       GBA    0.21  0.14\n",
       "0       Wii    0.17  0.11\n",
       "14      PSV    0.16  0.05\n",
       "15       DC     nan   nan"
      ]
     },
     "metadata": {},
     "output_type": "display_data"
    },
    {
     "data": {
      "text/plain": [
       "Text(0, 0.5, 'corr')"
      ]
     },
     "execution_count": 169,
     "metadata": {},
     "output_type": "execute_result"
    },
    {
     "data": {
      "image/png": "[encoded data removed]",
      "text/plain": [
       "<Figure size 1440x720 with 1 Axes>"
      ]
     },
     "metadata": {
      "needs_background": "light"
     },
     "output_type": "display_data"
    }
   ],
   "source": [
    "critic=[]\n",
    "user=[]\n",
    "platform=[]\n",
    "for x in platforms:\n",
    "    corr_df = df_platforms_scores[df_platforms_scores['platform']==x]\n",
    "    corr_df = corr_df[['critic_score','total_sales','user_score']].corr()\n",
    "    platform.append(x)\n",
    "    user.append(corr_df['total_sales']['user_score'])\n",
    "    critic.append(corr_df['total_sales']['critic_score'])\n",
    "d = {'platform':platform, 'critic':critic, 'user':user}\n",
    "corr_df = pd.DataFrame(data=d)\n",
    "display(corr_df.sort_values('critic', ascending=False))\n",
    "corr_df.plot.bar(x='platform')\n",
    "plt.title('Кореляция оценок с прожажами игр')\n",
    "plt.ylabel('corr')"
   ]
  },
  {
   "cell_type": "markdown",
   "metadata": {},
   "source": [
    "На менее популярных платформах кореляция ниже"
   ]
  },
  {
   "cell_type": "markdown",
   "metadata": {},
   "source": [
    "Посмотрим на общее распределение игр по жанрам. Выделяются ли жанры с высокими и низкими продажами?"
   ]
  },
  {
   "cell_type": "code",
   "execution_count": 170,
   "metadata": {},
   "outputs": [
    {
     "data": {
      "text/plain": [
       "<matplotlib.legend.Legend at 0x7fdde680ffd0>"
      ]
     },
     "execution_count": 170,
     "metadata": {},
     "output_type": "execute_result"
    },
    {
     "data": {
      "image/png": "[encoded data removed]",
      "text/plain": [
       "<Figure size 1440x720 with 1 Axes>"
      ]
     },
     "metadata": {
      "needs_background": "light"
     },
     "output_type": "display_data"
    }
   ],
   "source": [
    "df_platforms.groupby('genre')['name'].count().sort_values().plot.bar()\n",
    "df_platforms.groupby('genre')['total_sales'].sum().sort_values().plot.bar(color='red')\n",
    "plt.title('Распределение игр по жанрам')\n",
    "plt.legend(['number of games', 'total sales'])"
   ]
  },
  {
   "cell_type": "markdown",
   "metadata": {},
   "source": [
    "Самые прибыльные жанры - Action, Sports, Shooter, они и самые крупные по количеству выпускаемых игр"
   ]
  },
  {
   "cell_type": "markdown",
   "metadata": {},
   "source": [
    "Выделяются прибыльные жанры в долевом отношении к выпускаемым играм - Role Playing  и Misc.\n",
    "Action хотя и самый прибыльный, но скорее за счет количества тайтлов."
   ]
  },
  {
   "cell_type": "markdown",
   "metadata": {},
   "source": [
    "## Составление портрета пользователя каждого региона"
   ]
  },
  {
   "cell_type": "markdown",
   "metadata": {},
   "source": [
    "Определим для пользователя каждого региона (NA, EU, JP):\n",
    "\n",
    "- Самые популярные платформы (топ-5). Опишите различия в долях продаж.\n",
    "\n",
    "- Самые популярные жанры (топ-5). Поясните разницу.\n",
    "\n",
    "- Влияние рейтинга ESRB на продажи в отдельном регионе?"
   ]
  },
  {
   "cell_type": "code",
   "execution_count": 171,
   "metadata": {},
   "outputs": [
    {
     "name": "stdout",
     "output_type": "stream",
     "text": [
      "North America\n"
     ]
    },
    {
     "data": {
      "text/plain": [
       "platform\n",
       "X360   595.74\n",
       "Wii    486.87\n",
       "PS3    390.13\n",
       "DS     380.31\n",
       "PS2    297.27\n",
       "Name: na_sales, dtype: float64"
      ]
     },
     "metadata": {},
     "output_type": "display_data"
    },
    {
     "name": "stdout",
     "output_type": "stream",
     "text": [
      "Europe\n"
     ]
    },
    {
     "data": {
      "text/plain": [
       "platform\n",
       "PS3    327.21\n",
       "X360   268.32\n",
       "Wii    258.32\n",
       "DS     188.41\n",
       "PS2    143.15\n",
       "Name: eu_sales, dtype: float64"
      ]
     },
     "metadata": {},
     "output_type": "display_data"
    },
    {
     "name": "stdout",
     "output_type": "stream",
     "text": [
      "Japan\n"
     ]
    },
    {
     "data": {
      "text/plain": [
       "platform\n",
       "DS    175.00\n",
       "3DS   100.62\n",
       "PS3    79.41\n",
       "PSP    75.88\n",
       "PS2    70.15\n",
       "Name: jp_sales, dtype: float64"
      ]
     },
     "metadata": {},
     "output_type": "display_data"
    },
    {
     "name": "stdout",
     "output_type": "stream",
     "text": [
      "--------------------------------------------------\n",
      "North America\n"
     ]
    },
    {
     "data": {
      "text/plain": [
       "genre\n",
       "Action         619.12\n",
       "Sports         471.22\n",
       "Shooter        431.30\n",
       "Misc           328.97\n",
       "Role-Playing   233.41\n",
       "Name: na_sales, dtype: float64"
      ]
     },
     "metadata": {},
     "output_type": "display_data"
    },
    {
     "name": "stdout",
     "output_type": "stream",
     "text": [
      "Europe\n"
     ]
    },
    {
     "data": {
      "text/plain": [
       "genre\n",
       "Action    388.60\n",
       "Sports    280.47\n",
       "Shooter   260.83\n",
       "Misc      176.53\n",
       "Racing    141.51\n",
       "Name: eu_sales, dtype: float64"
      ]
     },
     "metadata": {},
     "output_type": "display_data"
    },
    {
     "name": "stdout",
     "output_type": "stream",
     "text": [
      "Japan\n"
     ]
    },
    {
     "data": {
      "text/plain": [
       "genre\n",
       "Role-Playing   193.09\n",
       "Action         113.21\n",
       "Misc            74.92\n",
       "Sports          56.93\n",
       "Platform        42.43\n",
       "Name: jp_sales, dtype: float64"
      ]
     },
     "metadata": {},
     "output_type": "display_data"
    },
    {
     "name": "stdout",
     "output_type": "stream",
     "text": [
      "--------------------------------------------------\n",
      "North America\n"
     ]
    },
    {
     "data": {
      "text/plain": [
       "rating\n",
       "E      970.77\n",
       "M      649.34\n",
       "T      527.80\n",
       "E10+   345.24\n",
       "EC       1.53\n",
       "Name: na_sales, dtype: float64"
      ]
     },
     "metadata": {},
     "output_type": "display_data"
    },
    {
     "name": "stdout",
     "output_type": "stream",
     "text": [
      "Europe\n"
     ]
    },
    {
     "data": {
      "text/plain": [
       "rating\n",
       "E      549.81\n",
       "M      428.59\n",
       "T      291.23\n",
       "E10+   183.23\n",
       "AO       0.61\n",
       "Name: eu_sales, dtype: float64"
      ]
     },
     "metadata": {},
     "output_type": "display_data"
    },
    {
     "name": "stdout",
     "output_type": "stream",
     "text": [
      "Japan\n"
     ]
    },
    {
     "data": {
      "text/plain": [
       "rating\n",
       "E      159.27\n",
       "T       99.28\n",
       "M       48.55\n",
       "E10+    40.03\n",
       "RP       0.00\n",
       "Name: jp_sales, dtype: float64"
      ]
     },
     "metadata": {},
     "output_type": "display_data"
    },
    {
     "name": "stdout",
     "output_type": "stream",
     "text": [
      "--------------------------------------------------\n"
     ]
    }
   ],
   "source": [
    "focus = ['platform','genre','rating']\n",
    "for x in focus:\n",
    "    print('North America')\n",
    "    display((df_platforms\n",
    " .groupby(x)['na_sales']\n",
    " .sum()\n",
    " .sort_values(ascending=False)\n",
    " .head(5)))\n",
    "    print('Europe')\n",
    "    display(df_platforms\n",
    " .groupby(x)['eu_sales']\n",
    " .sum()\n",
    " .sort_values(ascending=False)\n",
    " .head(5))\n",
    "    print('Japan')\n",
    "    display(df_platforms\n",
    " .groupby(x)['jp_sales']\n",
    " .sum()\n",
    " .sort_values(ascending=False)\n",
    " .head(5))\n",
    "    print('-'*50)"
   ]
  },
  {
   "cell_type": "markdown",
   "metadata": {},
   "source": [
    "Wii, X360 и PS3 как самые популярные и актуальные в охваченный период платформы доминируют в Европе и Америке. В Японии более популярны портативные консоли DS, 3DS, PSP. Самые популярные рейтинги во всех регионах E (Everyone), M(Mature), T(Teen). Самые популярные жанры Action, Sports, Shooter, в Японии еще Role-Playing"
   ]
  },
  {
   "cell_type": "markdown",
   "metadata": {},
   "source": [
    "## Проверка гипотез"
   ]
  },
  {
   "cell_type": "markdown",
   "metadata": {},
   "source": [
    "**Гипотеза 1** Средние пользовательские рейтинги платформ Xbox One и PC одинаковые"
   ]
  },
  {
   "cell_type": "markdown",
   "metadata": {},
   "source": [
    "Нулевая гипотеза Ho: Средние пользовательские рейтинги платформ Xbox One и PC не отличаются\n",
    "\n",
    "Альтернативная гипотеза H1: Средние пользовательские рейтинги платформ Xbox One и PC отличаются\n",
    "\n",
    "Оцениваем среднии двух независимых выборок из генеральных совокупностей Данные распределены равномерно и относятся к одной среде(области) можно применить t-критерий стьюдента Уровень значимости alpha принимаем равным 5%"
   ]
  },
  {
   "cell_type": "code",
   "execution_count": 172,
   "metadata": {},
   "outputs": [
    {
     "data": {
      "text/plain": [
       "array(['Wii', 'DS', 'X360', 'PS3', 'PS2', 'PS4', '3DS', 'GBA', 'XB', 'PC',\n",
       "       'PSP', 'XOne', 'WiiU', 'GC', 'PSV', 'DC'], dtype=object)"
      ]
     },
     "execution_count": 172,
     "metadata": {},
     "output_type": "execute_result"
    }
   ],
   "source": [
    "df_platforms['platform'].unique()"
   ]
  },
  {
   "cell_type": "code",
   "execution_count": 173,
   "metadata": {},
   "outputs": [],
   "source": [
    "df_xone = df_platforms.query(\"platform=='XOne'\")['user_score'].dropna()\n",
    "df_pc = df_platforms.query(\"platform=='PC'\")['user_score'].dropna()"
   ]
  },
  {
   "cell_type": "code",
   "execution_count": 174,
   "metadata": {},
   "outputs": [
    {
     "name": "stdout",
     "output_type": "stream",
     "text": [
      "p-значение:  0.008163674978743894\n"
     ]
    }
   ],
   "source": [
    "results = st.ttest_ind(df_pc, df_xone)\n",
    "print('p-значение: ', results.pvalue)"
   ]
  },
  {
   "cell_type": "markdown",
   "metadata": {},
   "source": [
    "p-value меньше 5%, нулевую гипотезу можно отвергнуть.\n",
    "Делаем вывод, средние пользовательские рейтинги платформ Xbox One и PC имеют статистически значимые отличия"
   ]
  },
  {
   "cell_type": "markdown",
   "metadata": {},
   "source": [
    "**Гипотеза 2**\n",
    "Средние пользовательские рейтинги жанров Action (англ. «действие», экшен-игры) и Sports (англ. «спортивные соревнования») разные."
   ]
  },
  {
   "cell_type": "markdown",
   "metadata": {},
   "source": [
    "Нулевая гипотеза Ho: Средние пользовательские рейтинги жанров Action и Sports не отличаются\n",
    "\n",
    "Альтернативная гипотеза H1: Средние пользовательские рейтинги жанров Action и Sports отличаются"
   ]
  },
  {
   "cell_type": "code",
   "execution_count": 175,
   "metadata": {},
   "outputs": [],
   "source": [
    "df_action = df_platforms.query(\"genre=='Action'\")['user_score'].dropna()\n",
    "df_sports = df_platforms.query(\"genre=='Sports'\")['user_score'].dropna()"
   ]
  },
  {
   "cell_type": "code",
   "execution_count": 176,
   "metadata": {},
   "outputs": [
    {
     "name": "stdout",
     "output_type": "stream",
     "text": [
      "p-значение:  7.304147858160219e-08\n"
     ]
    }
   ],
   "source": [
    "results = st.ttest_ind(df_action, df_sports)\n",
    "print('p-значение: ', results.pvalue)"
   ]
  },
  {
   "cell_type": "markdown",
   "metadata": {},
   "source": [
    "p-value значительно меньше 5%, нулевую гипотезу можно отвергнуть.\n",
    "Делаем вывод, средние пользовательские рейтинги жанров Action и Sports имеют статистически значимые отличия"
   ]
  },
  {
   "cell_type": "markdown",
   "metadata": {},
   "source": [
    "## Общий вывод"
   ]
  },
  {
   "cell_type": "markdown",
   "metadata": {},
   "source": [
    "В работе мы провели исследование с целью выявить определяющие успешность игры закономерности. Это позволит сделать ставку на потенциально популярный продукт и спланировать рекламные кампании.\n",
    "\n",
    "По результатам исследования можно утверждать, что:\n",
    "\n",
    "- наиболее прибыльны игры выпущенные на самых популярных платформах\n",
    "- влияние рейтингов критиков на продажи игр тем сильнее, чем популярнее платформа\n",
    "- в Европе и Северной Америке самые популярные платформы X360, Wii и PS3\n",
    "- в Японии более популярны портативные консоли DS, 3DS, PSP\n",
    "- самые популярные игры с рейтингом E (Everyone)\n",
    "- самые популярный жанр Action, в Японии Role-Playing"
   ]
  },
  {
   "cell_type": "code",
   "execution_count": null,
   "metadata": {},
   "outputs": [],
   "source": []
  }
 ],
 "metadata": {
  "ExecuteTimeLog": [
   {
    "duration": 1534,
    "start_time": "2021-11-22T10:15:33.428Z"
   },
   {
    "duration": 85,
    "start_time": "2021-11-22T10:16:19.902Z"
   },
   {
    "duration": 62,
    "start_time": "2021-11-22T10:16:27.537Z"
   },
   {
    "duration": 16,
    "start_time": "2021-11-22T10:16:36.057Z"
   },
   {
    "duration": 6,
    "start_time": "2021-11-22T10:28:10.663Z"
   },
   {
    "duration": 1368,
    "start_time": "2021-11-22T10:28:43.995Z"
   },
   {
    "duration": 4,
    "start_time": "2021-11-22T10:28:47.758Z"
   },
   {
    "duration": 31,
    "start_time": "2021-11-22T10:28:53.620Z"
   },
   {
    "duration": 7681,
    "start_time": "2021-11-22T10:37:27.386Z"
   },
   {
    "duration": 7,
    "start_time": "2021-11-22T10:38:39.744Z"
   },
   {
    "duration": 294,
    "start_time": "2021-11-22T10:38:47.624Z"
   },
   {
    "duration": 6,
    "start_time": "2021-11-22T10:39:09.754Z"
   },
   {
    "duration": 86,
    "start_time": "2021-11-22T10:39:17.897Z"
   },
   {
    "duration": 86,
    "start_time": "2021-11-22T10:39:28.732Z"
   },
   {
    "duration": 14,
    "start_time": "2021-11-22T10:39:38.003Z"
   },
   {
    "duration": 6,
    "start_time": "2021-11-22T10:39:40.827Z"
   },
   {
    "duration": 4,
    "start_time": "2021-11-22T10:39:43.529Z"
   },
   {
    "duration": 6,
    "start_time": "2021-11-22T10:39:45.925Z"
   },
   {
    "duration": 18,
    "start_time": "2021-11-22T10:39:52.224Z"
   },
   {
    "duration": 274,
    "start_time": "2021-11-22T10:42:59.657Z"
   },
   {
    "duration": 9,
    "start_time": "2021-11-22T10:43:07.723Z"
   },
   {
    "duration": 29,
    "start_time": "2021-11-22T10:43:10.878Z"
   },
   {
    "duration": 5,
    "start_time": "2021-11-22T10:43:19.490Z"
   },
   {
    "duration": 3,
    "start_time": "2021-11-22T10:43:25.721Z"
   },
   {
    "duration": 71,
    "start_time": "2021-11-22T10:43:25.727Z"
   },
   {
    "duration": 14,
    "start_time": "2021-11-22T10:43:25.801Z"
   },
   {
    "duration": 6,
    "start_time": "2021-11-22T10:43:25.818Z"
   },
   {
    "duration": 7,
    "start_time": "2021-11-22T10:43:25.827Z"
   },
   {
    "duration": 5,
    "start_time": "2021-11-22T10:43:30.482Z"
   },
   {
    "duration": 38,
    "start_time": "2021-11-22T10:43:33.204Z"
   },
   {
    "duration": 18,
    "start_time": "2021-11-22T10:58:25.300Z"
   },
   {
    "duration": 5,
    "start_time": "2021-11-22T10:58:34.296Z"
   },
   {
    "duration": 21,
    "start_time": "2021-11-22T10:58:37.032Z"
   },
   {
    "duration": 16,
    "start_time": "2021-11-22T10:58:41.229Z"
   },
   {
    "duration": 5,
    "start_time": "2021-11-22T10:58:58.990Z"
   },
   {
    "duration": 5,
    "start_time": "2021-11-22T10:59:00.069Z"
   },
   {
    "duration": 19,
    "start_time": "2021-11-22T10:59:01.578Z"
   },
   {
    "duration": 14,
    "start_time": "2021-11-22T10:59:09.174Z"
   },
   {
    "duration": 11,
    "start_time": "2021-11-22T10:59:29.508Z"
   },
   {
    "duration": 10,
    "start_time": "2021-11-22T10:59:54.724Z"
   },
   {
    "duration": 11,
    "start_time": "2021-11-22T11:00:01.821Z"
   },
   {
    "duration": 286,
    "start_time": "2021-11-22T11:01:38.793Z"
   },
   {
    "duration": 12,
    "start_time": "2021-11-22T11:05:43.163Z"
   },
   {
    "duration": 557,
    "start_time": "2021-11-22T11:11:52.741Z"
   },
   {
    "duration": 3913,
    "start_time": "2021-11-22T11:15:08.577Z"
   },
   {
    "duration": 7372,
    "start_time": "2021-11-22T11:16:37.145Z"
   },
   {
    "duration": 19,
    "start_time": "2021-11-22T11:16:51.268Z"
   },
   {
    "duration": 64,
    "start_time": "2021-11-22T11:16:56.770Z"
   },
   {
    "duration": 4,
    "start_time": "2021-11-22T11:18:22.485Z"
   },
   {
    "duration": 2044,
    "start_time": "2021-11-22T11:19:54.649Z"
   },
   {
    "duration": 1286,
    "start_time": "2021-11-22T11:20:46.941Z"
   },
   {
    "duration": 1292,
    "start_time": "2021-11-22T11:22:19.936Z"
   },
   {
    "duration": 401,
    "start_time": "2021-11-22T11:27:36.088Z"
   },
   {
    "duration": 14,
    "start_time": "2021-11-22T11:27:46.109Z"
   },
   {
    "duration": 1187,
    "start_time": "2021-11-22T11:27:48.004Z"
   },
   {
    "duration": 890,
    "start_time": "2021-11-22T11:28:23.330Z"
   },
   {
    "duration": 5,
    "start_time": "2021-11-22T11:29:00.585Z"
   },
   {
    "duration": 1252,
    "start_time": "2021-11-22T11:32:35.255Z"
   },
   {
    "duration": 1019,
    "start_time": "2021-11-22T11:35:46.213Z"
   },
   {
    "duration": 6,
    "start_time": "2021-11-22T11:38:17.250Z"
   },
   {
    "duration": 5,
    "start_time": "2021-11-22T12:52:02.111Z"
   },
   {
    "duration": 10,
    "start_time": "2021-11-22T12:53:57.453Z"
   },
   {
    "duration": 8,
    "start_time": "2021-11-22T12:58:59.621Z"
   },
   {
    "duration": 12,
    "start_time": "2021-11-22T13:01:55.988Z"
   },
   {
    "duration": 7344,
    "start_time": "2021-11-22T13:04:27.085Z"
   },
   {
    "duration": 9,
    "start_time": "2021-11-22T13:04:41.381Z"
   },
   {
    "duration": 63,
    "start_time": "2021-11-22T13:04:48.143Z"
   },
   {
    "duration": 1182,
    "start_time": "2021-11-22T13:04:54.506Z"
   },
   {
    "duration": 1180,
    "start_time": "2021-11-22T13:04:54.509Z"
   },
   {
    "duration": 5,
    "start_time": "2021-11-22T13:06:58.085Z"
   },
   {
    "duration": 7,
    "start_time": "2021-11-22T13:06:58.093Z"
   },
   {
    "duration": 60,
    "start_time": "2021-11-22T13:06:58.104Z"
   },
   {
    "duration": 16,
    "start_time": "2021-11-22T13:06:58.168Z"
   },
   {
    "duration": 7,
    "start_time": "2021-11-22T13:06:58.188Z"
   },
   {
    "duration": 9,
    "start_time": "2021-11-22T13:06:58.198Z"
   },
   {
    "duration": 9,
    "start_time": "2021-11-22T13:06:58.209Z"
   },
   {
    "duration": 48,
    "start_time": "2021-11-22T13:06:58.221Z"
   },
   {
    "duration": 14,
    "start_time": "2021-11-22T13:06:58.274Z"
   },
   {
    "duration": 1961,
    "start_time": "2021-11-22T13:06:58.292Z"
   },
   {
    "duration": 1253,
    "start_time": "2021-11-22T13:07:00.255Z"
   },
   {
    "duration": 1278,
    "start_time": "2021-11-22T13:07:01.511Z"
   },
   {
    "duration": 14,
    "start_time": "2021-11-22T13:07:02.792Z"
   },
   {
    "duration": 1220,
    "start_time": "2021-11-22T13:07:02.809Z"
   },
   {
    "duration": 887,
    "start_time": "2021-11-22T13:07:04.031Z"
   },
   {
    "duration": 8,
    "start_time": "2021-11-22T13:07:04.920Z"
   },
   {
    "duration": 339,
    "start_time": "2021-11-22T13:14:39.627Z"
   },
   {
    "duration": 12,
    "start_time": "2021-11-22T13:14:49.278Z"
   },
   {
    "duration": 1575,
    "start_time": "2021-11-22T13:14:49.293Z"
   },
   {
    "duration": 61,
    "start_time": "2021-11-22T13:14:50.871Z"
   },
   {
    "duration": 14,
    "start_time": "2021-11-22T13:14:50.934Z"
   },
   {
    "duration": 18,
    "start_time": "2021-11-22T13:14:50.950Z"
   },
   {
    "duration": 11,
    "start_time": "2021-11-22T13:14:50.971Z"
   },
   {
    "duration": 18,
    "start_time": "2021-11-22T13:14:50.985Z"
   },
   {
    "duration": 8,
    "start_time": "2021-11-22T13:14:51.006Z"
   },
   {
    "duration": 23,
    "start_time": "2021-11-22T13:14:51.016Z"
   },
   {
    "duration": 1836,
    "start_time": "2021-11-22T13:14:51.042Z"
   },
   {
    "duration": 1229,
    "start_time": "2021-11-22T13:14:52.880Z"
   },
   {
    "duration": 1380,
    "start_time": "2021-11-22T13:14:54.112Z"
   },
   {
    "duration": 14,
    "start_time": "2021-11-22T13:14:55.495Z"
   },
   {
    "duration": 1186,
    "start_time": "2021-11-22T13:14:55.512Z"
   },
   {
    "duration": 927,
    "start_time": "2021-11-22T13:14:56.701Z"
   },
   {
    "duration": 10,
    "start_time": "2021-11-22T13:14:57.631Z"
   },
   {
    "duration": 617,
    "start_time": "2021-11-22T13:15:05.104Z"
   },
   {
    "duration": 840,
    "start_time": "2021-11-22T13:15:40.879Z"
   },
   {
    "duration": 252,
    "start_time": "2021-11-22T13:15:59.343Z"
   },
   {
    "duration": 10,
    "start_time": "2021-11-22T13:16:58.490Z"
   },
   {
    "duration": 800,
    "start_time": "2021-11-22T13:17:06.838Z"
   },
   {
    "duration": 3182,
    "start_time": "2021-11-22T13:19:21.817Z"
   },
   {
    "duration": 628,
    "start_time": "2021-11-22T13:19:55.858Z"
   },
   {
    "duration": 285,
    "start_time": "2021-11-22T13:20:12.034Z"
   },
   {
    "duration": 602,
    "start_time": "2021-11-22T13:20:21.867Z"
   },
   {
    "duration": 292,
    "start_time": "2021-11-22T13:20:28.683Z"
   },
   {
    "duration": 459,
    "start_time": "2021-11-22T13:20:43.338Z"
   },
   {
    "duration": 30,
    "start_time": "2021-11-22T13:22:04.035Z"
   },
   {
    "duration": 33,
    "start_time": "2021-11-22T13:22:33.873Z"
   },
   {
    "duration": 327,
    "start_time": "2021-11-22T13:23:09.388Z"
   },
   {
    "duration": 410,
    "start_time": "2021-11-22T13:23:15.553Z"
   },
   {
    "duration": 433,
    "start_time": "2021-11-22T13:23:20.762Z"
   },
   {
    "duration": 587,
    "start_time": "2021-11-22T13:23:27.565Z"
   },
   {
    "duration": 514,
    "start_time": "2021-11-22T13:23:36.585Z"
   },
   {
    "duration": 429,
    "start_time": "2021-11-22T13:24:00.477Z"
   },
   {
    "duration": 421,
    "start_time": "2021-11-22T13:24:11.398Z"
   },
   {
    "duration": 458,
    "start_time": "2021-11-22T13:24:26.627Z"
   },
   {
    "duration": 8,
    "start_time": "2021-11-22T13:25:01.064Z"
   },
   {
    "duration": 8,
    "start_time": "2021-11-22T13:25:17.181Z"
   },
   {
    "duration": 390,
    "start_time": "2021-11-22T13:25:23.181Z"
   },
   {
    "duration": 290,
    "start_time": "2021-11-22T13:25:57.357Z"
   },
   {
    "duration": 439,
    "start_time": "2021-11-22T13:26:07.922Z"
   },
   {
    "duration": 343,
    "start_time": "2021-11-22T13:28:22.513Z"
   },
   {
    "duration": 6950,
    "start_time": "2021-11-22T13:28:39.142Z"
   },
   {
    "duration": 269,
    "start_time": "2021-11-22T13:28:55.294Z"
   },
   {
    "duration": 288,
    "start_time": "2021-11-22T13:29:09.541Z"
   },
   {
    "duration": 564,
    "start_time": "2021-11-22T13:29:32.733Z"
   },
   {
    "duration": 11,
    "start_time": "2021-11-22T13:34:10.822Z"
   },
   {
    "duration": 17,
    "start_time": "2021-11-22T13:34:33.629Z"
   },
   {
    "duration": 115,
    "start_time": "2021-11-22T13:36:00.549Z"
   },
   {
    "duration": 188,
    "start_time": "2021-11-22T13:36:07.805Z"
   },
   {
    "duration": 99,
    "start_time": "2021-11-22T13:36:12.622Z"
   },
   {
    "duration": 96,
    "start_time": "2021-11-22T13:36:17.928Z"
   },
   {
    "duration": 336,
    "start_time": "2021-11-22T13:36:31.295Z"
   },
   {
    "duration": 6,
    "start_time": "2021-11-22T13:37:19.786Z"
   },
   {
    "duration": 386,
    "start_time": "2021-11-22T13:37:41.413Z"
   },
   {
    "duration": 17,
    "start_time": "2021-11-22T13:37:49.529Z"
   },
   {
    "duration": 13,
    "start_time": "2021-11-22T13:38:48.608Z"
   },
   {
    "duration": 21,
    "start_time": "2021-11-22T13:39:03.185Z"
   },
   {
    "duration": 21,
    "start_time": "2021-11-22T13:39:34.619Z"
   },
   {
    "duration": 105,
    "start_time": "2021-11-22T13:41:01.292Z"
   },
   {
    "duration": 10,
    "start_time": "2021-11-22T13:41:06.795Z"
   },
   {
    "duration": 10,
    "start_time": "2021-11-22T13:41:28.387Z"
   },
   {
    "duration": 20,
    "start_time": "2021-11-22T13:43:08.405Z"
   },
   {
    "duration": 1166,
    "start_time": "2021-11-22T17:41:29.731Z"
   },
   {
    "duration": 14,
    "start_time": "2021-11-22T17:41:44.795Z"
   },
   {
    "duration": 2569,
    "start_time": "2021-11-22T17:41:44.812Z"
   },
   {
    "duration": 4122,
    "start_time": "2021-11-22T17:41:43.262Z"
   },
   {
    "duration": 4100,
    "start_time": "2021-11-22T17:41:43.286Z"
   },
   {
    "duration": 4096,
    "start_time": "2021-11-22T17:41:43.291Z"
   },
   {
    "duration": 4091,
    "start_time": "2021-11-22T17:41:43.297Z"
   },
   {
    "duration": 4088,
    "start_time": "2021-11-22T17:41:43.302Z"
   },
   {
    "duration": 4085,
    "start_time": "2021-11-22T17:41:43.306Z"
   },
   {
    "duration": 4080,
    "start_time": "2021-11-22T17:41:43.312Z"
   },
   {
    "duration": 4077,
    "start_time": "2021-11-22T17:41:43.317Z"
   },
   {
    "duration": 4073,
    "start_time": "2021-11-22T17:41:43.322Z"
   },
   {
    "duration": 4058,
    "start_time": "2021-11-22T17:41:43.338Z"
   },
   {
    "duration": 4055,
    "start_time": "2021-11-22T17:41:43.343Z"
   },
   {
    "duration": 4052,
    "start_time": "2021-11-22T17:41:43.347Z"
   },
   {
    "duration": 4047,
    "start_time": "2021-11-22T17:41:43.353Z"
   },
   {
    "duration": 4044,
    "start_time": "2021-11-22T17:41:43.357Z"
   },
   {
    "duration": 4042,
    "start_time": "2021-11-22T17:41:43.361Z"
   },
   {
    "duration": 4039,
    "start_time": "2021-11-22T17:41:43.365Z"
   },
   {
    "duration": 4036,
    "start_time": "2021-11-22T17:41:43.369Z"
   },
   {
    "duration": 4035,
    "start_time": "2021-11-22T17:41:43.372Z"
   },
   {
    "duration": 7757,
    "start_time": "2021-11-22T17:42:16.010Z"
   },
   {
    "duration": 9,
    "start_time": "2021-11-22T17:42:23.771Z"
   },
   {
    "duration": 6498,
    "start_time": "2021-11-22T17:42:36.006Z"
   },
   {
    "duration": 4,
    "start_time": "2021-11-22T17:42:42.507Z"
   },
   {
    "duration": 65,
    "start_time": "2021-11-22T17:42:42.514Z"
   },
   {
    "duration": 15,
    "start_time": "2021-11-22T17:42:42.582Z"
   },
   {
    "duration": 6,
    "start_time": "2021-11-22T17:42:42.599Z"
   },
   {
    "duration": 16,
    "start_time": "2021-11-22T17:42:42.607Z"
   },
   {
    "duration": 7,
    "start_time": "2021-11-22T17:42:42.625Z"
   },
   {
    "duration": 33,
    "start_time": "2021-11-22T17:42:42.635Z"
   },
   {
    "duration": 12,
    "start_time": "2021-11-22T17:42:42.671Z"
   },
   {
    "duration": 2029,
    "start_time": "2021-11-22T17:42:42.686Z"
   },
   {
    "duration": 1293,
    "start_time": "2021-11-22T17:42:44.717Z"
   },
   {
    "duration": 1281,
    "start_time": "2021-11-22T17:42:46.013Z"
   },
   {
    "duration": 14,
    "start_time": "2021-11-22T17:42:47.296Z"
   },
   {
    "duration": 1185,
    "start_time": "2021-11-22T17:42:47.312Z"
   },
   {
    "duration": 1000,
    "start_time": "2021-11-22T17:42:48.500Z"
   },
   {
    "duration": 10,
    "start_time": "2021-11-22T17:42:49.503Z"
   },
   {
    "duration": 13,
    "start_time": "2021-11-22T17:42:49.515Z"
   },
   {
    "duration": 582,
    "start_time": "2021-11-22T17:42:49.531Z"
   },
   {
    "duration": 29,
    "start_time": "2021-11-22T17:42:50.115Z"
   },
   {
    "duration": 26,
    "start_time": "2021-11-22T17:42:50.167Z"
   },
   {
    "duration": 28,
    "start_time": "2021-11-22T17:42:50.196Z"
   },
   {
    "duration": 14,
    "start_time": "2021-11-22T17:43:16.655Z"
   },
   {
    "duration": 14,
    "start_time": "2021-11-22T17:43:37.449Z"
   },
   {
    "duration": 13,
    "start_time": "2021-11-22T17:44:27.844Z"
   },
   {
    "duration": 16,
    "start_time": "2021-11-22T17:44:33.047Z"
   },
   {
    "duration": 335,
    "start_time": "2021-11-22T17:46:28.366Z"
   },
   {
    "duration": 311,
    "start_time": "2021-11-22T17:48:05.089Z"
   },
   {
    "duration": 17,
    "start_time": "2021-11-22T17:48:30.527Z"
   },
   {
    "duration": 111,
    "start_time": "2021-11-22T17:52:10.127Z"
   },
   {
    "duration": 28,
    "start_time": "2021-11-22T17:52:54.755Z"
   },
   {
    "duration": 29,
    "start_time": "2021-11-22T17:53:40.390Z"
   },
   {
    "duration": 103,
    "start_time": "2021-11-22T17:54:02.559Z"
   },
   {
    "duration": 335,
    "start_time": "2021-11-22T17:54:21.817Z"
   },
   {
    "duration": 86,
    "start_time": "2021-11-22T17:57:05.692Z"
   },
   {
    "duration": 26,
    "start_time": "2021-11-22T17:57:12.489Z"
   },
   {
    "duration": 95,
    "start_time": "2021-11-22T17:59:57.347Z"
   },
   {
    "duration": 29,
    "start_time": "2021-11-22T18:00:01.231Z"
   },
   {
    "duration": 158,
    "start_time": "2021-11-22T18:01:49.025Z"
   },
   {
    "duration": 357,
    "start_time": "2021-11-22T18:01:58.315Z"
   },
   {
    "duration": 990,
    "start_time": "2021-11-22T18:02:19.626Z"
   },
   {
    "duration": 7,
    "start_time": "2021-11-22T18:02:49.443Z"
   },
   {
    "duration": 25,
    "start_time": "2021-11-22T18:03:30.762Z"
   },
   {
    "duration": 53073,
    "start_time": "2021-11-22T18:09:04.113Z"
   },
   {
    "duration": 55472,
    "start_time": "2021-11-22T18:10:02.276Z"
   },
   {
    "duration": 2508,
    "start_time": "2021-11-22T18:11:09.773Z"
   },
   {
    "duration": 886,
    "start_time": "2021-11-22T18:13:18.074Z"
   },
   {
    "duration": 643,
    "start_time": "2021-11-22T18:13:57.110Z"
   },
   {
    "duration": 686,
    "start_time": "2021-11-22T18:14:25.159Z"
   },
   {
    "duration": 6574,
    "start_time": "2021-11-22T18:16:27.727Z"
   },
   {
    "duration": 5,
    "start_time": "2021-11-22T18:16:34.304Z"
   },
   {
    "duration": 69,
    "start_time": "2021-11-22T18:16:34.312Z"
   },
   {
    "duration": 15,
    "start_time": "2021-11-22T18:16:34.384Z"
   },
   {
    "duration": 5,
    "start_time": "2021-11-22T18:16:34.402Z"
   },
   {
    "duration": 14,
    "start_time": "2021-11-22T18:16:34.409Z"
   },
   {
    "duration": 9,
    "start_time": "2021-11-22T18:16:34.425Z"
   },
   {
    "duration": 31,
    "start_time": "2021-11-22T18:16:34.438Z"
   },
   {
    "duration": 20,
    "start_time": "2021-11-22T18:16:34.472Z"
   },
   {
    "duration": 2152,
    "start_time": "2021-11-22T18:16:34.494Z"
   },
   {
    "duration": 1290,
    "start_time": "2021-11-22T18:16:36.648Z"
   },
   {
    "duration": 1284,
    "start_time": "2021-11-22T18:16:37.940Z"
   },
   {
    "duration": 14,
    "start_time": "2021-11-22T18:16:39.227Z"
   },
   {
    "duration": 1149,
    "start_time": "2021-11-22T18:16:39.244Z"
   },
   {
    "duration": 918,
    "start_time": "2021-11-22T18:16:40.396Z"
   },
   {
    "duration": 10,
    "start_time": "2021-11-22T18:16:41.317Z"
   },
   {
    "duration": 7,
    "start_time": "2021-11-22T18:16:41.330Z"
   },
   {
    "duration": 740,
    "start_time": "2021-11-22T18:16:41.340Z"
   },
   {
    "duration": 29,
    "start_time": "2021-11-22T18:16:42.082Z"
   },
   {
    "duration": 536,
    "start_time": "2021-11-22T18:16:50.136Z"
   },
   {
    "duration": 53341,
    "start_time": "2021-11-22T18:17:18.226Z"
   },
   {
    "duration": 827,
    "start_time": "2021-11-22T18:19:21.480Z"
   },
   {
    "duration": 7746,
    "start_time": "2021-11-22T18:21:54.888Z"
   },
   {
    "duration": 7,
    "start_time": "2021-11-22T18:22:02.638Z"
   },
   {
    "duration": 69,
    "start_time": "2021-11-22T18:22:02.648Z"
   },
   {
    "duration": 16,
    "start_time": "2021-11-22T18:22:02.720Z"
   },
   {
    "duration": 28,
    "start_time": "2021-11-22T18:22:02.740Z"
   },
   {
    "duration": 8,
    "start_time": "2021-11-22T18:22:02.772Z"
   },
   {
    "duration": 15,
    "start_time": "2021-11-22T18:22:02.784Z"
   },
   {
    "duration": 7,
    "start_time": "2021-11-22T18:22:02.805Z"
   },
   {
    "duration": 13,
    "start_time": "2021-11-22T18:22:02.817Z"
   },
   {
    "duration": 2180,
    "start_time": "2021-11-22T18:22:02.833Z"
   },
   {
    "duration": 1294,
    "start_time": "2021-11-22T18:22:05.016Z"
   },
   {
    "duration": 1288,
    "start_time": "2021-11-22T18:22:06.312Z"
   },
   {
    "duration": 14,
    "start_time": "2021-11-22T18:22:07.603Z"
   },
   {
    "duration": 1285,
    "start_time": "2021-11-22T18:22:07.620Z"
   },
   {
    "duration": 1060,
    "start_time": "2021-11-22T18:22:08.907Z"
   },
   {
    "duration": 14,
    "start_time": "2021-11-22T18:22:09.970Z"
   },
   {
    "duration": 9,
    "start_time": "2021-11-22T18:22:09.987Z"
   },
   {
    "duration": 599,
    "start_time": "2021-11-22T18:22:09.999Z"
   },
   {
    "duration": 27,
    "start_time": "2021-11-22T18:22:10.601Z"
   },
   {
    "duration": 589,
    "start_time": "2021-11-22T18:22:10.631Z"
   },
   {
    "duration": 35,
    "start_time": "2021-11-22T18:22:17.735Z"
   },
   {
    "duration": 597,
    "start_time": "2021-11-22T18:22:21.988Z"
   },
   {
    "duration": 2070,
    "start_time": "2021-11-22T18:22:30.981Z"
   },
   {
    "duration": 505,
    "start_time": "2021-11-22T18:23:37.186Z"
   },
   {
    "duration": 307,
    "start_time": "2021-11-22T18:24:31.881Z"
   },
   {
    "duration": 5,
    "start_time": "2021-11-22T18:24:58.147Z"
   },
   {
    "duration": 15,
    "start_time": "2021-11-22T18:25:03.991Z"
   },
   {
    "duration": 3933,
    "start_time": "2021-11-22T18:26:53.904Z"
   },
   {
    "duration": 9,
    "start_time": "2021-11-22T18:27:16.312Z"
   },
   {
    "duration": 8,
    "start_time": "2021-11-22T18:27:25.724Z"
   },
   {
    "duration": 21,
    "start_time": "2021-11-22T18:27:32.995Z"
   },
   {
    "duration": 13,
    "start_time": "2021-11-22T18:27:38.253Z"
   },
   {
    "duration": 6,
    "start_time": "2021-11-22T18:27:47.792Z"
   },
   {
    "duration": 9,
    "start_time": "2021-11-22T18:27:54.732Z"
   },
   {
    "duration": 16,
    "start_time": "2021-11-22T18:29:13.633Z"
   },
   {
    "duration": 173,
    "start_time": "2021-11-22T18:30:58.009Z"
   },
   {
    "duration": 2489,
    "start_time": "2021-11-22T18:32:28.770Z"
   },
   {
    "duration": 543,
    "start_time": "2021-11-22T18:36:13.968Z"
   },
   {
    "duration": 4674,
    "start_time": "2021-11-22T18:36:09.840Z"
   },
   {
    "duration": 17,
    "start_time": "2021-11-22T18:36:20.006Z"
   },
   {
    "duration": 324,
    "start_time": "2021-11-22T18:37:10.291Z"
   },
   {
    "duration": 6,
    "start_time": "2021-11-22T18:37:23.291Z"
   },
   {
    "duration": 11,
    "start_time": "2021-11-22T18:37:29.438Z"
   },
   {
    "duration": 5,
    "start_time": "2021-11-22T18:37:55.433Z"
   },
   {
    "duration": 307,
    "start_time": "2021-11-22T18:38:37.662Z"
   },
   {
    "duration": 320,
    "start_time": "2021-11-22T18:40:41.539Z"
   },
   {
    "duration": 292,
    "start_time": "2021-11-22T18:45:29.120Z"
   },
   {
    "duration": 415,
    "start_time": "2021-11-22T18:45:55.783Z"
   },
   {
    "duration": 8,
    "start_time": "2021-11-22T18:48:58.403Z"
   },
   {
    "duration": 11,
    "start_time": "2021-11-22T18:49:00.842Z"
   },
   {
    "duration": 453,
    "start_time": "2021-11-22T18:49:35.023Z"
   },
   {
    "duration": 442,
    "start_time": "2021-11-22T18:50:10.763Z"
   },
   {
    "duration": 30,
    "start_time": "2021-11-22T18:50:17.193Z"
   },
   {
    "duration": 12,
    "start_time": "2021-11-22T18:50:28.464Z"
   },
   {
    "duration": 301,
    "start_time": "2021-11-22T18:50:38.951Z"
   },
   {
    "duration": 307,
    "start_time": "2021-11-22T18:50:45.241Z"
   },
   {
    "duration": 19,
    "start_time": "2021-11-22T18:51:01.325Z"
   },
   {
    "duration": 7,
    "start_time": "2021-11-22T18:53:04.942Z"
   },
   {
    "duration": 11,
    "start_time": "2021-11-22T18:53:11.381Z"
   },
   {
    "duration": 18,
    "start_time": "2021-11-22T18:53:26.103Z"
   },
   {
    "duration": 99,
    "start_time": "2021-11-22T18:56:12.927Z"
   },
   {
    "duration": 101,
    "start_time": "2021-11-22T19:01:04.644Z"
   },
   {
    "duration": 1165,
    "start_time": "2021-11-22T19:01:19.480Z"
   },
   {
    "duration": 8840,
    "start_time": "2021-11-22T19:01:31.916Z"
   },
   {
    "duration": 10,
    "start_time": "2021-11-22T19:01:40.760Z"
   },
   {
    "duration": 74,
    "start_time": "2021-11-22T19:01:40.774Z"
   },
   {
    "duration": 24,
    "start_time": "2021-11-22T19:01:40.851Z"
   },
   {
    "duration": 6,
    "start_time": "2021-11-22T19:01:40.878Z"
   },
   {
    "duration": 5,
    "start_time": "2021-11-22T19:01:40.887Z"
   },
   {
    "duration": 12,
    "start_time": "2021-11-22T19:01:40.894Z"
   },
   {
    "duration": 8,
    "start_time": "2021-11-22T19:01:40.909Z"
   },
   {
    "duration": 373,
    "start_time": "2021-11-22T19:01:44.228Z"
   },
   {
    "duration": 282,
    "start_time": "2021-11-22T19:02:54.058Z"
   },
   {
    "duration": 8,
    "start_time": "2021-11-22T19:03:42.844Z"
   },
   {
    "duration": 43,
    "start_time": "2021-11-22T19:03:56.344Z"
   },
   {
    "duration": 8,
    "start_time": "2021-11-22T19:04:11.865Z"
   },
   {
    "duration": 39,
    "start_time": "2021-11-22T19:04:16.210Z"
   },
   {
    "duration": 7,
    "start_time": "2021-11-22T19:05:54.996Z"
   },
   {
    "duration": 24,
    "start_time": "2021-11-22T19:06:04.067Z"
   },
   {
    "duration": 28,
    "start_time": "2021-11-22T19:06:13.482Z"
   },
   {
    "duration": 301,
    "start_time": "2021-11-22T19:08:17.395Z"
   },
   {
    "duration": 350,
    "start_time": "2021-11-22T19:08:30.361Z"
   },
   {
    "duration": 646,
    "start_time": "2021-11-22T19:09:30.596Z"
   },
   {
    "duration": 6,
    "start_time": "2021-11-22T19:09:53.670Z"
   },
   {
    "duration": 7,
    "start_time": "2021-11-22T19:10:00.165Z"
   },
   {
    "duration": 10,
    "start_time": "2021-11-22T19:10:47.915Z"
   },
   {
    "duration": 18,
    "start_time": "2021-11-22T19:10:50.783Z"
   },
   {
    "duration": 6,
    "start_time": "2021-11-22T19:12:44.450Z"
   },
   {
    "duration": 16,
    "start_time": "2021-11-22T19:12:49.069Z"
   },
   {
    "duration": 31,
    "start_time": "2021-11-22T19:14:02.929Z"
   },
   {
    "duration": 2160,
    "start_time": "2021-11-22T19:14:18.512Z"
   },
   {
    "duration": 817,
    "start_time": "2021-11-22T19:19:29.546Z"
   },
   {
    "duration": 338,
    "start_time": "2021-11-22T19:19:47.074Z"
   },
   {
    "duration": 912,
    "start_time": "2021-11-22T19:20:28.227Z"
   },
   {
    "duration": 6288,
    "start_time": "2021-11-22T19:21:42.368Z"
   },
   {
    "duration": 2191,
    "start_time": "2021-11-22T19:28:08.388Z"
   },
   {
    "duration": 128726,
    "start_time": "2021-11-22T19:33:31.489Z"
   },
   {
    "duration": 10,
    "start_time": "2021-11-22T19:36:15.806Z"
   },
   {
    "duration": 386,
    "start_time": "2021-11-22T19:43:48.653Z"
   },
   {
    "duration": 389,
    "start_time": "2021-11-22T19:44:03.731Z"
   },
   {
    "duration": 10,
    "start_time": "2021-11-22T19:45:06.207Z"
   },
   {
    "duration": 356,
    "start_time": "2021-11-22T19:45:10.395Z"
   },
   {
    "duration": 15,
    "start_time": "2021-11-22T19:45:28.997Z"
   },
   {
    "duration": 349,
    "start_time": "2021-11-22T19:45:48.533Z"
   },
   {
    "duration": 7028,
    "start_time": "2021-11-22T20:08:37.651Z"
   },
   {
    "duration": 5,
    "start_time": "2021-11-22T20:08:44.682Z"
   },
   {
    "duration": 66,
    "start_time": "2021-11-22T20:08:44.698Z"
   },
   {
    "duration": 20,
    "start_time": "2021-11-22T20:08:44.769Z"
   },
   {
    "duration": 6,
    "start_time": "2021-11-22T20:08:44.792Z"
   },
   {
    "duration": 8,
    "start_time": "2021-11-22T20:08:44.800Z"
   },
   {
    "duration": 7,
    "start_time": "2021-11-22T20:08:44.811Z"
   },
   {
    "duration": 51,
    "start_time": "2021-11-22T20:08:44.822Z"
   },
   {
    "duration": 8,
    "start_time": "2021-11-22T20:08:44.880Z"
   },
   {
    "duration": 7,
    "start_time": "2021-11-22T20:08:44.892Z"
   },
   {
    "duration": 13,
    "start_time": "2021-11-22T20:08:44.902Z"
   },
   {
    "duration": 15,
    "start_time": "2021-11-22T20:08:44.917Z"
   },
   {
    "duration": 46,
    "start_time": "2021-11-22T20:08:44.936Z"
   },
   {
    "duration": 16,
    "start_time": "2021-11-22T20:08:44.985Z"
   },
   {
    "duration": 2331,
    "start_time": "2021-11-22T20:08:45.003Z"
   },
   {
    "duration": 1430,
    "start_time": "2021-11-22T20:08:47.337Z"
   },
   {
    "duration": 1363,
    "start_time": "2021-11-22T20:08:48.770Z"
   },
   {
    "duration": 51,
    "start_time": "2021-11-22T20:08:50.136Z"
   },
   {
    "duration": 1210,
    "start_time": "2021-11-22T20:08:50.190Z"
   },
   {
    "duration": 972,
    "start_time": "2021-11-22T20:08:51.402Z"
   },
   {
    "duration": 15,
    "start_time": "2021-11-22T20:08:52.377Z"
   },
   {
    "duration": 9,
    "start_time": "2021-11-22T20:08:52.395Z"
   },
   {
    "duration": 663,
    "start_time": "2021-11-22T20:08:52.409Z"
   },
   {
    "duration": 33,
    "start_time": "2021-11-22T20:08:53.083Z"
   },
   {
    "duration": 627,
    "start_time": "2021-11-22T20:08:53.119Z"
   },
   {
    "duration": 48,
    "start_time": "2021-11-22T20:08:53.748Z"
   },
   {
    "duration": 630,
    "start_time": "2021-11-22T20:08:53.798Z"
   },
   {
    "duration": 41,
    "start_time": "2021-11-22T20:08:54.431Z"
   },
   {
    "duration": 2302,
    "start_time": "2021-11-22T20:08:54.477Z"
   },
   {
    "duration": 9,
    "start_time": "2021-11-22T20:08:56.781Z"
   },
   {
    "duration": 22,
    "start_time": "2021-11-22T20:08:56.793Z"
   },
   {
    "duration": 130,
    "start_time": "2021-11-22T20:13:42.060Z"
   },
   {
    "duration": 84,
    "start_time": "2021-11-22T20:15:39.485Z"
   },
   {
    "duration": 709,
    "start_time": "2021-11-22T20:15:45.764Z"
   },
   {
    "duration": 7666,
    "start_time": "2021-11-22T20:16:13.893Z"
   },
   {
    "duration": 11,
    "start_time": "2021-11-22T20:16:21.564Z"
   },
   {
    "duration": 90,
    "start_time": "2021-11-22T20:16:21.580Z"
   },
   {
    "duration": 23,
    "start_time": "2021-11-22T20:16:21.674Z"
   },
   {
    "duration": 7,
    "start_time": "2021-11-22T20:16:21.700Z"
   },
   {
    "duration": 6,
    "start_time": "2021-11-22T20:16:21.710Z"
   },
   {
    "duration": 49,
    "start_time": "2021-11-22T20:16:21.719Z"
   },
   {
    "duration": 10,
    "start_time": "2021-11-22T20:16:21.773Z"
   },
   {
    "duration": 12,
    "start_time": "2021-11-22T20:16:21.788Z"
   },
   {
    "duration": 8,
    "start_time": "2021-11-22T20:16:21.803Z"
   },
   {
    "duration": 9,
    "start_time": "2021-11-22T20:16:21.814Z"
   },
   {
    "duration": 11,
    "start_time": "2021-11-22T20:16:21.866Z"
   },
   {
    "duration": 20,
    "start_time": "2021-11-22T20:16:21.880Z"
   },
   {
    "duration": 18,
    "start_time": "2021-11-22T20:16:21.902Z"
   },
   {
    "duration": 2341,
    "start_time": "2021-11-22T20:16:21.924Z"
   },
   {
    "duration": 1362,
    "start_time": "2021-11-22T20:16:24.268Z"
   },
   {
    "duration": 1586,
    "start_time": "2021-11-22T20:16:25.633Z"
   },
   {
    "duration": 15,
    "start_time": "2021-11-22T20:16:27.222Z"
   },
   {
    "duration": 1268,
    "start_time": "2021-11-22T20:16:27.240Z"
   },
   {
    "duration": 969,
    "start_time": "2021-11-22T20:16:28.511Z"
   },
   {
    "duration": 12,
    "start_time": "2021-11-22T20:16:29.483Z"
   },
   {
    "duration": 11,
    "start_time": "2021-11-22T20:16:29.498Z"
   },
   {
    "duration": 800,
    "start_time": "2021-11-22T20:16:29.515Z"
   },
   {
    "duration": 56,
    "start_time": "2021-11-22T20:16:30.318Z"
   },
   {
    "duration": 1060,
    "start_time": "2021-11-22T20:16:30.377Z"
   },
   {
    "duration": 57,
    "start_time": "2021-11-22T20:16:31.440Z"
   },
   {
    "duration": 855,
    "start_time": "2021-11-22T20:16:31.500Z"
   },
   {
    "duration": 41,
    "start_time": "2021-11-22T20:16:32.358Z"
   },
   {
    "duration": 2545,
    "start_time": "2021-11-22T20:16:32.402Z"
   },
   {
    "duration": 851,
    "start_time": "2021-11-22T20:16:45.331Z"
   },
   {
    "duration": 289,
    "start_time": "2021-11-22T20:17:01.514Z"
   },
   {
    "duration": 130,
    "start_time": "2021-11-22T20:17:27.732Z"
   },
   {
    "duration": 28,
    "start_time": "2021-11-22T20:18:49.970Z"
   },
   {
    "duration": 31,
    "start_time": "2021-11-22T20:19:09.337Z"
   },
   {
    "duration": 34,
    "start_time": "2021-11-22T20:19:23.911Z"
   },
   {
    "duration": 40,
    "start_time": "2021-11-22T20:19:28.103Z"
   },
   {
    "duration": 22,
    "start_time": "2021-11-22T20:19:51.915Z"
   },
   {
    "duration": 22,
    "start_time": "2021-11-22T20:20:00.970Z"
   },
   {
    "duration": 1966,
    "start_time": "2021-11-22T20:20:21.442Z"
   },
   {
    "duration": 29,
    "start_time": "2021-11-22T20:20:26.413Z"
   },
   {
    "duration": 22,
    "start_time": "2021-11-22T20:20:29.559Z"
   },
   {
    "duration": 104,
    "start_time": "2021-11-22T20:26:22.870Z"
   },
   {
    "duration": 3414,
    "start_time": "2021-11-22T20:26:27.755Z"
   },
   {
    "duration": 3806,
    "start_time": "2021-11-22T20:26:46.954Z"
   },
   {
    "duration": 28383,
    "start_time": "2021-11-22T20:29:32.340Z"
   },
   {
    "duration": 35,
    "start_time": "2021-11-22T20:30:23.598Z"
   },
   {
    "duration": 30,
    "start_time": "2021-11-22T20:30:29.210Z"
   },
   {
    "duration": 31,
    "start_time": "2021-11-22T20:30:36.331Z"
   },
   {
    "duration": 30,
    "start_time": "2021-11-22T20:30:46.890Z"
   },
   {
    "duration": 32,
    "start_time": "2021-11-22T20:30:53.896Z"
   },
   {
    "duration": 28,
    "start_time": "2021-11-22T20:31:21.670Z"
   },
   {
    "duration": 2845,
    "start_time": "2021-11-22T20:31:39.872Z"
   },
   {
    "duration": 23,
    "start_time": "2021-11-22T20:34:15.674Z"
   },
   {
    "duration": 14,
    "start_time": "2021-11-22T20:37:07.308Z"
   },
   {
    "duration": 42,
    "start_time": "2021-11-22T20:37:12.737Z"
   },
   {
    "duration": 11,
    "start_time": "2021-11-22T20:37:37.413Z"
   },
   {
    "duration": 30,
    "start_time": "2021-11-22T20:39:47.775Z"
   },
   {
    "duration": 38,
    "start_time": "2021-11-22T20:40:03.329Z"
   },
   {
    "duration": 38,
    "start_time": "2021-11-22T20:40:42.329Z"
   },
   {
    "duration": 31,
    "start_time": "2021-11-22T20:45:18.874Z"
   },
   {
    "duration": 27,
    "start_time": "2021-11-22T20:46:45.996Z"
   },
   {
    "duration": 7,
    "start_time": "2021-11-22T20:48:29.489Z"
   },
   {
    "duration": 19,
    "start_time": "2021-11-22T20:48:36.727Z"
   },
   {
    "duration": 36,
    "start_time": "2021-11-22T20:49:07.569Z"
   },
   {
    "duration": 35,
    "start_time": "2021-11-22T20:49:34.306Z"
   },
   {
    "duration": 31,
    "start_time": "2021-11-22T20:49:42.126Z"
   },
   {
    "duration": 49,
    "start_time": "2021-11-22T20:50:09.587Z"
   },
   {
    "duration": 34,
    "start_time": "2021-11-22T20:50:56.429Z"
   },
   {
    "duration": 31,
    "start_time": "2021-11-22T20:54:43.776Z"
   },
   {
    "duration": 698,
    "start_time": "2021-11-22T20:56:04.277Z"
   },
   {
    "duration": 834,
    "start_time": "2021-11-22T20:57:03.103Z"
   },
   {
    "duration": 411,
    "start_time": "2021-11-22T20:57:21.255Z"
   },
   {
    "duration": 292,
    "start_time": "2021-11-22T20:57:48.568Z"
   },
   {
    "duration": 461,
    "start_time": "2021-11-22T20:58:38.270Z"
   },
   {
    "duration": 12,
    "start_time": "2021-11-22T20:59:21.187Z"
   },
   {
    "duration": 10,
    "start_time": "2021-11-22T20:59:35.653Z"
   },
   {
    "duration": 564,
    "start_time": "2021-11-22T20:59:45.485Z"
   },
   {
    "duration": 910,
    "start_time": "2021-11-22T21:00:35.087Z"
   },
   {
    "duration": 916,
    "start_time": "2021-11-22T21:00:52.551Z"
   },
   {
    "duration": 557,
    "start_time": "2021-11-22T21:01:39.840Z"
   },
   {
    "duration": 873,
    "start_time": "2021-11-22T21:04:34.694Z"
   },
   {
    "duration": 1105,
    "start_time": "2021-11-22T21:06:36.757Z"
   },
   {
    "duration": 30,
    "start_time": "2021-11-22T21:07:45.673Z"
   },
   {
    "duration": 457,
    "start_time": "2021-11-22T21:08:30.688Z"
   },
   {
    "duration": 476,
    "start_time": "2021-11-22T21:08:35.610Z"
   },
   {
    "duration": 656,
    "start_time": "2021-11-22T21:09:08.816Z"
   },
   {
    "duration": 8218,
    "start_time": "2021-11-22T21:12:22.550Z"
   },
   {
    "duration": 605,
    "start_time": "2021-11-22T21:15:48.493Z"
   },
   {
    "duration": 285,
    "start_time": "2021-11-22T21:15:54.702Z"
   },
   {
    "duration": 313,
    "start_time": "2021-11-22T21:17:56.093Z"
   },
   {
    "duration": 48,
    "start_time": "2021-11-22T21:18:15.069Z"
   },
   {
    "duration": 19977,
    "start_time": "2021-11-22T21:19:12.226Z"
   },
   {
    "duration": 27,
    "start_time": "2021-11-22T21:20:02.917Z"
   },
   {
    "duration": 25,
    "start_time": "2021-11-22T21:20:09.205Z"
   },
   {
    "duration": 45,
    "start_time": "2021-11-22T21:20:17.107Z"
   },
   {
    "duration": 41,
    "start_time": "2021-11-22T21:20:26.282Z"
   },
   {
    "duration": 29,
    "start_time": "2021-11-22T21:20:33.569Z"
   },
   {
    "duration": 7977,
    "start_time": "2021-11-22T21:21:05.781Z"
   },
   {
    "duration": 31,
    "start_time": "2021-11-22T21:21:27.065Z"
   },
   {
    "duration": 31,
    "start_time": "2021-11-22T21:21:43.046Z"
   },
   {
    "duration": 10321,
    "start_time": "2021-11-22T21:22:10.316Z"
   },
   {
    "duration": 15,
    "start_time": "2021-11-22T21:24:18.892Z"
   },
   {
    "duration": 18583,
    "start_time": "2021-11-22T21:25:07.167Z"
   },
   {
    "duration": 17,
    "start_time": "2021-11-22T21:26:55.828Z"
   },
   {
    "duration": 20,
    "start_time": "2021-11-22T21:27:14.462Z"
   },
   {
    "duration": 13,
    "start_time": "2021-11-22T21:27:23.667Z"
   },
   {
    "duration": 303,
    "start_time": "2021-11-22T21:28:16.969Z"
   },
   {
    "duration": 346,
    "start_time": "2021-11-22T21:28:38.938Z"
   },
   {
    "duration": 12,
    "start_time": "2021-11-22T21:29:07.595Z"
   },
   {
    "duration": 106,
    "start_time": "2021-11-22T21:29:44.863Z"
   },
   {
    "duration": 34,
    "start_time": "2021-11-22T21:30:20.485Z"
   },
   {
    "duration": 1334,
    "start_time": "2021-11-22T21:30:50.649Z"
   },
   {
    "duration": 13,
    "start_time": "2021-11-22T21:31:02.019Z"
   },
   {
    "duration": 13,
    "start_time": "2021-11-22T21:31:15.489Z"
   },
   {
    "duration": 14,
    "start_time": "2021-11-22T21:31:26.231Z"
   },
   {
    "duration": 15,
    "start_time": "2021-11-22T21:31:36.459Z"
   },
   {
    "duration": 13,
    "start_time": "2021-11-22T21:31:53.771Z"
   },
   {
    "duration": 13,
    "start_time": "2021-11-22T21:31:59.115Z"
   },
   {
    "duration": 18,
    "start_time": "2021-11-22T21:33:38.671Z"
   },
   {
    "duration": 10,
    "start_time": "2021-11-22T21:34:55.885Z"
   },
   {
    "duration": 10,
    "start_time": "2021-11-22T21:35:09.925Z"
   },
   {
    "duration": 11,
    "start_time": "2021-11-22T21:35:39.639Z"
   },
   {
    "duration": 331,
    "start_time": "2021-11-22T21:36:15.485Z"
   },
   {
    "duration": 10,
    "start_time": "2021-11-22T21:36:21.558Z"
   },
   {
    "duration": 21,
    "start_time": "2021-11-22T21:36:23.651Z"
   },
   {
    "duration": 17630,
    "start_time": "2021-11-22T21:36:33.573Z"
   },
   {
    "duration": 30,
    "start_time": "2021-11-22T21:38:36.337Z"
   },
   {
    "duration": 11,
    "start_time": "2021-11-22T21:38:38.794Z"
   },
   {
    "duration": 10,
    "start_time": "2021-11-22T21:39:24.649Z"
   },
   {
    "duration": 8,
    "start_time": "2021-11-22T21:39:46.271Z"
   },
   {
    "duration": 17,
    "start_time": "2021-11-22T21:39:49.575Z"
   },
   {
    "duration": 14152,
    "start_time": "2021-11-22T21:40:01.362Z"
   },
   {
    "duration": 21,
    "start_time": "2021-11-22T21:41:54.766Z"
   },
   {
    "duration": 11,
    "start_time": "2021-11-22T21:41:56.756Z"
   },
   {
    "duration": 8,
    "start_time": "2021-11-22T21:42:04.670Z"
   },
   {
    "duration": 18,
    "start_time": "2021-11-22T21:42:05.881Z"
   },
   {
    "duration": 2551,
    "start_time": "2021-11-22T21:42:06.867Z"
   },
   {
    "duration": 2960,
    "start_time": "2021-11-22T21:44:29.447Z"
   },
   {
    "duration": 2426,
    "start_time": "2021-11-22T21:48:05.421Z"
   },
   {
    "duration": 2334,
    "start_time": "2021-11-22T21:48:22.224Z"
   },
   {
    "duration": 2340,
    "start_time": "2021-11-22T21:48:41.176Z"
   },
   {
    "duration": 2542,
    "start_time": "2021-11-22T21:48:52.400Z"
   },
   {
    "duration": 2282,
    "start_time": "2021-11-22T21:49:04.589Z"
   },
   {
    "duration": 2299,
    "start_time": "2021-11-22T21:49:30.304Z"
   },
   {
    "duration": 3261,
    "start_time": "2021-11-22T21:51:04.711Z"
   },
   {
    "duration": 3339,
    "start_time": "2021-11-22T21:52:55.450Z"
   },
   {
    "duration": 284,
    "start_time": "2021-11-22T21:54:31.903Z"
   },
   {
    "duration": 15,
    "start_time": "2021-11-22T21:55:16.774Z"
   },
   {
    "duration": 3286,
    "start_time": "2021-11-22T21:55:24.088Z"
   },
   {
    "duration": 4703,
    "start_time": "2021-11-22T21:56:15.485Z"
   },
   {
    "duration": 4965,
    "start_time": "2021-11-22T21:59:03.706Z"
   },
   {
    "duration": 3043,
    "start_time": "2021-11-22T22:00:39.840Z"
   },
   {
    "duration": 319,
    "start_time": "2021-11-22T22:02:32.706Z"
   },
   {
    "duration": 3307,
    "start_time": "2021-11-22T22:02:55.295Z"
   },
   {
    "duration": 3308,
    "start_time": "2021-11-22T22:03:10.798Z"
   },
   {
    "duration": 333,
    "start_time": "2021-11-22T22:05:40.305Z"
   },
   {
    "duration": 329,
    "start_time": "2021-11-22T22:06:05.376Z"
   },
   {
    "duration": 8,
    "start_time": "2021-11-22T22:07:04.450Z"
   },
   {
    "duration": 11,
    "start_time": "2021-11-22T22:07:09.704Z"
   },
   {
    "duration": 7,
    "start_time": "2021-11-22T22:07:17.681Z"
   },
   {
    "duration": 17,
    "start_time": "2021-11-22T22:07:22.367Z"
   },
   {
    "duration": 13,
    "start_time": "2021-11-22T22:07:34.286Z"
   },
   {
    "duration": 3093,
    "start_time": "2021-11-22T22:07:37.553Z"
   },
   {
    "duration": 21,
    "start_time": "2021-11-22T22:08:55.613Z"
   },
   {
    "duration": 7,
    "start_time": "2021-11-22T22:08:56.499Z"
   },
   {
    "duration": 11,
    "start_time": "2021-11-22T22:08:57.452Z"
   },
   {
    "duration": 8,
    "start_time": "2021-11-22T22:09:01.020Z"
   },
   {
    "duration": 7897,
    "start_time": "2021-11-22T22:09:04.164Z"
   },
   {
    "duration": 7,
    "start_time": "2021-11-22T22:09:26.683Z"
   },
   {
    "duration": 5,
    "start_time": "2021-11-22T22:09:41.712Z"
   },
   {
    "duration": 8078,
    "start_time": "2021-11-22T22:10:07.597Z"
   },
   {
    "duration": 9,
    "start_time": "2021-11-22T22:10:30.828Z"
   },
   {
    "duration": 19,
    "start_time": "2021-11-22T22:10:38.988Z"
   },
   {
    "duration": 10,
    "start_time": "2021-11-22T22:10:59.997Z"
   },
   {
    "duration": 6,
    "start_time": "2021-11-22T22:11:16.302Z"
   },
   {
    "duration": 5,
    "start_time": "2021-11-22T22:11:57.110Z"
   },
   {
    "duration": 507,
    "start_time": "2021-11-22T22:12:12.652Z"
   },
   {
    "duration": 8,
    "start_time": "2021-11-22T22:12:54.225Z"
   },
   {
    "duration": 8296,
    "start_time": "2021-11-22T22:13:17.402Z"
   },
   {
    "duration": 8272,
    "start_time": "2021-11-22T22:14:13.395Z"
   },
   {
    "duration": 11,
    "start_time": "2021-11-22T22:15:53.799Z"
   },
   {
    "duration": 13,
    "start_time": "2021-11-22T22:16:21.342Z"
   },
   {
    "duration": 9,
    "start_time": "2021-11-22T22:16:40.500Z"
   },
   {
    "duration": 6,
    "start_time": "2021-11-22T22:16:54.601Z"
   },
   {
    "duration": 9,
    "start_time": "2021-11-22T22:18:29.562Z"
   },
   {
    "duration": 30,
    "start_time": "2021-11-22T22:18:42.050Z"
   },
   {
    "duration": 19,
    "start_time": "2021-11-22T22:18:52.507Z"
   },
   {
    "duration": 13702,
    "start_time": "2021-11-22T22:18:56.208Z"
   },
   {
    "duration": 9,
    "start_time": "2021-11-22T22:19:34.191Z"
   },
   {
    "duration": 12,
    "start_time": "2021-11-22T22:19:34.953Z"
   },
   {
    "duration": 10,
    "start_time": "2021-11-22T22:19:35.811Z"
   },
   {
    "duration": 6,
    "start_time": "2021-11-22T22:19:36.852Z"
   },
   {
    "duration": 7,
    "start_time": "2021-11-22T22:19:37.558Z"
   },
   {
    "duration": 19,
    "start_time": "2021-11-22T22:19:38.231Z"
   },
   {
    "duration": 13263,
    "start_time": "2021-11-22T22:19:45.160Z"
   },
   {
    "duration": 16,
    "start_time": "2021-11-22T22:20:28.962Z"
   },
   {
    "duration": 13002,
    "start_time": "2021-11-22T22:20:31.316Z"
   },
   {
    "duration": 10,
    "start_time": "2021-11-22T22:20:48.847Z"
   },
   {
    "duration": 11,
    "start_time": "2021-11-22T22:20:49.413Z"
   },
   {
    "duration": 8,
    "start_time": "2021-11-22T22:20:49.960Z"
   },
   {
    "duration": 5,
    "start_time": "2021-11-22T22:20:50.487Z"
   },
   {
    "duration": 8,
    "start_time": "2021-11-22T22:20:50.985Z"
   },
   {
    "duration": 17,
    "start_time": "2021-11-22T22:20:51.531Z"
   },
   {
    "duration": 826,
    "start_time": "2021-11-22T22:20:52.342Z"
   },
   {
    "duration": 8207,
    "start_time": "2021-11-22T22:21:20.360Z"
   },
   {
    "duration": 5653,
    "start_time": "2021-11-22T22:21:22.916Z"
   },
   {
    "duration": 305,
    "start_time": "2021-11-22T22:21:36.930Z"
   },
   {
    "duration": 13,
    "start_time": "2021-11-22T22:22:05.024Z"
   },
   {
    "duration": 5,
    "start_time": "2021-11-22T22:22:29.549Z"
   },
   {
    "duration": 10,
    "start_time": "2021-11-22T22:22:43.605Z"
   },
   {
    "duration": 742,
    "start_time": "2021-11-22T22:23:13.205Z"
   },
   {
    "duration": 714,
    "start_time": "2021-11-22T22:23:49.197Z"
   },
   {
    "duration": 718,
    "start_time": "2021-11-22T22:24:00.922Z"
   },
   {
    "duration": 15,
    "start_time": "2021-11-22T22:26:14.097Z"
   },
   {
    "duration": 13,
    "start_time": "2021-11-22T22:26:20.524Z"
   },
   {
    "duration": 643,
    "start_time": "2021-11-22T22:27:38.327Z"
   },
   {
    "duration": 637,
    "start_time": "2021-11-22T22:27:50.219Z"
   },
   {
    "duration": 836,
    "start_time": "2021-11-22T22:27:59.072Z"
   },
   {
    "duration": 757,
    "start_time": "2021-11-22T22:28:28.634Z"
   },
   {
    "duration": 989,
    "start_time": "2021-11-22T22:29:06.430Z"
   },
   {
    "duration": 294,
    "start_time": "2021-11-22T22:29:50.646Z"
   },
   {
    "duration": 309,
    "start_time": "2021-11-22T22:30:08.439Z"
   },
   {
    "duration": 851,
    "start_time": "2021-11-22T22:31:33.109Z"
   },
   {
    "duration": 14,
    "start_time": "2021-11-22T22:32:16.688Z"
   },
   {
    "duration": 13,
    "start_time": "2021-11-22T22:32:17.163Z"
   },
   {
    "duration": 8,
    "start_time": "2021-11-22T22:32:17.589Z"
   },
   {
    "duration": 7,
    "start_time": "2021-11-22T22:32:18.019Z"
   },
   {
    "duration": 9,
    "start_time": "2021-11-22T22:32:18.370Z"
   },
   {
    "duration": 20,
    "start_time": "2021-11-22T22:32:18.855Z"
   },
   {
    "duration": 17,
    "start_time": "2021-11-22T22:32:19.510Z"
   },
   {
    "duration": 1197,
    "start_time": "2021-11-22T22:32:20.470Z"
   },
   {
    "duration": 291,
    "start_time": "2021-11-22T22:37:14.549Z"
   },
   {
    "duration": 324,
    "start_time": "2021-11-22T22:37:22.372Z"
   },
   {
    "duration": 322,
    "start_time": "2021-11-22T22:37:34.840Z"
   },
   {
    "duration": 1289,
    "start_time": "2021-11-22T22:38:39.907Z"
   },
   {
    "duration": 1340,
    "start_time": "2021-11-22T22:38:48.753Z"
   },
   {
    "duration": 11,
    "start_time": "2021-11-22T22:40:39.140Z"
   },
   {
    "duration": 14,
    "start_time": "2021-11-22T22:40:39.687Z"
   },
   {
    "duration": 11,
    "start_time": "2021-11-22T22:40:40.237Z"
   },
   {
    "duration": 7,
    "start_time": "2021-11-22T22:40:40.792Z"
   },
   {
    "duration": 10,
    "start_time": "2021-11-22T22:40:41.370Z"
   },
   {
    "duration": 27,
    "start_time": "2021-11-22T22:40:41.899Z"
   },
   {
    "duration": 2423,
    "start_time": "2021-11-22T22:40:42.914Z"
   },
   {
    "duration": 10,
    "start_time": "2021-11-22T22:44:05.047Z"
   },
   {
    "duration": 7111,
    "start_time": "2021-11-24T11:42:42.308Z"
   },
   {
    "duration": 1507,
    "start_time": "2021-11-24T11:42:49.422Z"
   },
   {
    "duration": 63,
    "start_time": "2021-11-24T11:42:50.933Z"
   },
   {
    "duration": 13,
    "start_time": "2021-11-24T11:42:50.998Z"
   },
   {
    "duration": 17,
    "start_time": "2021-11-24T11:42:51.014Z"
   },
   {
    "duration": 14,
    "start_time": "2021-11-24T11:42:51.034Z"
   },
   {
    "duration": 11,
    "start_time": "2021-11-24T11:42:51.050Z"
   },
   {
    "duration": 14,
    "start_time": "2021-11-24T11:42:51.064Z"
   },
   {
    "duration": 6,
    "start_time": "2021-11-24T11:42:51.082Z"
   },
   {
    "duration": 8,
    "start_time": "2021-11-24T11:42:51.091Z"
   },
   {
    "duration": 30,
    "start_time": "2021-11-24T11:42:51.101Z"
   },
   {
    "duration": 9,
    "start_time": "2021-11-24T11:42:51.133Z"
   },
   {
    "duration": 20,
    "start_time": "2021-11-24T11:42:51.144Z"
   },
   {
    "duration": 10,
    "start_time": "2021-11-24T11:42:51.166Z"
   },
   {
    "duration": 2127,
    "start_time": "2021-11-24T11:42:51.178Z"
   },
   {
    "duration": 1283,
    "start_time": "2021-11-24T11:42:53.307Z"
   },
   {
    "duration": 1271,
    "start_time": "2021-11-24T11:42:54.592Z"
   },
   {
    "duration": 12,
    "start_time": "2021-11-24T11:42:55.866Z"
   },
   {
    "duration": 1067,
    "start_time": "2021-11-24T11:42:55.881Z"
   },
   {
    "duration": 896,
    "start_time": "2021-11-24T11:42:56.950Z"
   },
   {
    "duration": 10,
    "start_time": "2021-11-24T11:42:57.848Z"
   },
   {
    "duration": 7,
    "start_time": "2021-11-24T11:42:57.860Z"
   },
   {
    "duration": 569,
    "start_time": "2021-11-24T11:42:57.869Z"
   },
   {
    "duration": 28,
    "start_time": "2021-11-24T11:42:58.441Z"
   },
   {
    "duration": 623,
    "start_time": "2021-11-24T11:42:58.472Z"
   },
   {
    "duration": 37,
    "start_time": "2021-11-24T11:42:59.097Z"
   },
   {
    "duration": 542,
    "start_time": "2021-11-24T11:42:59.139Z"
   },
   {
    "duration": 23,
    "start_time": "2021-11-24T11:42:59.683Z"
   },
   {
    "duration": 1923,
    "start_time": "2021-11-24T11:42:59.708Z"
   },
   {
    "duration": 13,
    "start_time": "2021-11-24T11:43:01.634Z"
   },
   {
    "duration": 3454,
    "start_time": "2021-11-24T11:43:01.650Z"
   },
   {
    "duration": 1987,
    "start_time": "2021-11-24T11:43:03.119Z"
   },
   {
    "duration": 1985,
    "start_time": "2021-11-24T11:43:03.122Z"
   },
   {
    "duration": 1982,
    "start_time": "2021-11-24T11:43:03.127Z"
   },
   {
    "duration": 1979,
    "start_time": "2021-11-24T11:43:03.131Z"
   },
   {
    "duration": 1976,
    "start_time": "2021-11-24T11:43:03.135Z"
   },
   {
    "duration": 1973,
    "start_time": "2021-11-24T11:43:03.139Z"
   },
   {
    "duration": 1945,
    "start_time": "2021-11-24T11:43:03.169Z"
   },
   {
    "duration": 1943,
    "start_time": "2021-11-24T11:43:03.172Z"
   },
   {
    "duration": 1941,
    "start_time": "2021-11-24T11:43:03.175Z"
   },
   {
    "duration": 1938,
    "start_time": "2021-11-24T11:43:03.179Z"
   },
   {
    "duration": 1936,
    "start_time": "2021-11-24T11:43:03.183Z"
   },
   {
    "duration": 20,
    "start_time": "2021-11-24T11:43:28.660Z"
   },
   {
    "duration": 25,
    "start_time": "2021-11-24T11:43:33.108Z"
   },
   {
    "duration": 7,
    "start_time": "2021-11-24T11:43:36.477Z"
   },
   {
    "duration": 553,
    "start_time": "2021-11-24T11:43:41.993Z"
   },
   {
    "duration": 11,
    "start_time": "2021-11-24T11:43:45.530Z"
   },
   {
    "duration": 10,
    "start_time": "2021-11-24T11:43:46.323Z"
   },
   {
    "duration": 8,
    "start_time": "2021-11-24T11:43:50.886Z"
   },
   {
    "duration": 5,
    "start_time": "2021-11-24T11:43:53.054Z"
   },
   {
    "duration": 7,
    "start_time": "2021-11-24T11:43:56.081Z"
   },
   {
    "duration": 18,
    "start_time": "2021-11-24T11:44:01.704Z"
   },
   {
    "duration": 1408,
    "start_time": "2021-11-24T11:44:04.796Z"
   },
   {
    "duration": 24,
    "start_time": "2021-11-24T11:51:39.491Z"
   },
   {
    "duration": 9,
    "start_time": "2021-11-24T11:53:17.032Z"
   },
   {
    "duration": 13,
    "start_time": "2021-11-24T11:53:18.021Z"
   },
   {
    "duration": 8,
    "start_time": "2021-11-24T11:53:28.089Z"
   },
   {
    "duration": 8,
    "start_time": "2021-11-24T11:53:44.870Z"
   },
   {
    "duration": 5,
    "start_time": "2021-11-24T11:53:45.648Z"
   },
   {
    "duration": 8,
    "start_time": "2021-11-24T11:53:46.225Z"
   },
   {
    "duration": 18,
    "start_time": "2021-11-24T11:53:47.205Z"
   },
   {
    "duration": 1386,
    "start_time": "2021-11-24T11:53:48.974Z"
   },
   {
    "duration": 28,
    "start_time": "2021-11-24T11:53:54.170Z"
   },
   {
    "duration": 8,
    "start_time": "2021-11-24T11:55:29.093Z"
   },
   {
    "duration": 32,
    "start_time": "2021-11-24T11:55:36.274Z"
   },
   {
    "duration": 32,
    "start_time": "2021-11-24T11:56:14.416Z"
   },
   {
    "duration": 11,
    "start_time": "2021-11-24T12:11:27.413Z"
   },
   {
    "duration": 27,
    "start_time": "2021-11-24T12:12:56.363Z"
   },
   {
    "duration": 43,
    "start_time": "2021-11-24T12:13:01.246Z"
   },
   {
    "duration": 24,
    "start_time": "2021-11-24T12:14:39.549Z"
   },
   {
    "duration": 771,
    "start_time": "2021-11-24T12:15:44.087Z"
   },
   {
    "duration": 9,
    "start_time": "2021-11-24T12:20:28.235Z"
   },
   {
    "duration": 10,
    "start_time": "2021-11-24T12:20:44.111Z"
   },
   {
    "duration": 13,
    "start_time": "2021-11-24T12:24:00.328Z"
   },
   {
    "duration": 25,
    "start_time": "2021-11-24T12:31:55.972Z"
   },
   {
    "duration": 40,
    "start_time": "2021-11-24T12:32:02.867Z"
   },
   {
    "duration": 493,
    "start_time": "2021-11-24T12:32:53.797Z"
   },
   {
    "duration": 6656,
    "start_time": "2021-11-24T12:33:56.216Z"
   },
   {
    "duration": 6,
    "start_time": "2021-11-24T12:34:26.544Z"
   },
   {
    "duration": 5,
    "start_time": "2021-11-24T12:38:34.448Z"
   },
   {
    "duration": 9,
    "start_time": "2021-11-24T12:38:48.357Z"
   },
   {
    "duration": 6,
    "start_time": "2021-11-24T12:38:52.554Z"
   },
   {
    "duration": 267,
    "start_time": "2021-11-24T12:39:04.769Z"
   },
   {
    "duration": 6,
    "start_time": "2021-11-24T12:39:09.845Z"
   },
   {
    "duration": 271,
    "start_time": "2021-11-24T12:39:28.851Z"
   },
   {
    "duration": 256,
    "start_time": "2021-11-24T12:39:42.127Z"
   },
   {
    "duration": 274,
    "start_time": "2021-11-24T12:39:46.971Z"
   },
   {
    "duration": 31,
    "start_time": "2021-11-24T12:40:31.137Z"
   },
   {
    "duration": 264,
    "start_time": "2021-11-24T12:41:12.926Z"
   },
   {
    "duration": 5,
    "start_time": "2021-11-24T12:41:43.434Z"
   },
   {
    "duration": 279,
    "start_time": "2021-11-24T12:42:07.100Z"
   },
   {
    "duration": 624,
    "start_time": "2021-11-24T12:42:29.099Z"
   },
   {
    "duration": 1584,
    "start_time": "2021-11-24T12:43:48.425Z"
   },
   {
    "duration": 1670,
    "start_time": "2021-11-24T12:45:38.184Z"
   },
   {
    "duration": 6657,
    "start_time": "2021-11-24T12:45:46.891Z"
   },
   {
    "duration": 865,
    "start_time": "2021-11-24T12:46:11.367Z"
   },
   {
    "duration": 4,
    "start_time": "2021-11-24T12:46:52.543Z"
   },
   {
    "duration": 12,
    "start_time": "2021-11-24T12:47:19.826Z"
   },
   {
    "duration": 844,
    "start_time": "2021-11-24T12:47:25.604Z"
   },
   {
    "duration": 595,
    "start_time": "2021-11-24T12:47:29.120Z"
   },
   {
    "duration": 5,
    "start_time": "2021-11-24T12:47:48.836Z"
   },
   {
    "duration": 294,
    "start_time": "2021-11-24T12:50:12.674Z"
   },
   {
    "duration": 252,
    "start_time": "2021-11-24T12:50:21.054Z"
   },
   {
    "duration": 1062,
    "start_time": "2021-11-24T12:52:00.816Z"
   },
   {
    "duration": 21,
    "start_time": "2021-11-24T12:52:22.942Z"
   },
   {
    "duration": 11,
    "start_time": "2021-11-24T12:52:31.642Z"
   },
   {
    "duration": 688,
    "start_time": "2021-11-24T12:52:55.719Z"
   },
   {
    "duration": 23,
    "start_time": "2021-11-24T12:54:59.682Z"
   },
   {
    "duration": 16,
    "start_time": "2021-11-24T12:55:03.065Z"
   },
   {
    "duration": 5,
    "start_time": "2021-11-24T12:55:19.202Z"
   },
   {
    "duration": 805,
    "start_time": "2021-11-24T12:55:29.662Z"
   },
   {
    "duration": 691,
    "start_time": "2021-11-24T12:55:49.964Z"
   },
   {
    "duration": 907,
    "start_time": "2021-11-24T12:56:47.505Z"
   },
   {
    "duration": 1189,
    "start_time": "2021-11-24T12:57:16.252Z"
   },
   {
    "duration": 14,
    "start_time": "2021-11-24T13:02:55.555Z"
   },
   {
    "duration": 13,
    "start_time": "2021-11-24T13:13:24.520Z"
   },
   {
    "duration": 22,
    "start_time": "2021-11-24T13:13:27.242Z"
   },
   {
    "duration": 7166,
    "start_time": "2021-11-24T13:14:13.615Z"
   },
   {
    "duration": 23,
    "start_time": "2021-11-24T13:14:23.040Z"
   },
   {
    "duration": 15,
    "start_time": "2021-11-24T13:15:06.835Z"
   },
   {
    "duration": 21,
    "start_time": "2021-11-24T13:15:16.158Z"
   },
   {
    "duration": 14,
    "start_time": "2021-11-24T13:15:35.761Z"
   },
   {
    "duration": 16,
    "start_time": "2021-11-24T13:15:53.290Z"
   },
   {
    "duration": 23,
    "start_time": "2021-11-24T13:15:59.306Z"
   },
   {
    "duration": 1169,
    "start_time": "2021-11-24T13:16:16.071Z"
   },
   {
    "duration": 699,
    "start_time": "2021-11-24T13:16:43.119Z"
   },
   {
    "duration": 729,
    "start_time": "2021-11-24T13:16:51.346Z"
   },
   {
    "duration": 873,
    "start_time": "2021-11-24T13:16:57.144Z"
   },
   {
    "duration": 23,
    "start_time": "2021-11-24T13:17:24.675Z"
   },
   {
    "duration": 15,
    "start_time": "2021-11-24T13:18:00.974Z"
   },
   {
    "duration": 16,
    "start_time": "2021-11-24T13:19:29.053Z"
   },
   {
    "duration": 30,
    "start_time": "2021-11-24T13:20:09.881Z"
   },
   {
    "duration": 782,
    "start_time": "2021-11-24T13:21:43.471Z"
   },
   {
    "duration": 956,
    "start_time": "2021-11-24T13:22:00.935Z"
   },
   {
    "duration": 1632,
    "start_time": "2021-11-24T13:22:55.278Z"
   },
   {
    "duration": 1101,
    "start_time": "2021-11-24T13:23:02.983Z"
   },
   {
    "duration": 852,
    "start_time": "2021-11-24T13:23:15.748Z"
   },
   {
    "duration": 14,
    "start_time": "2021-11-24T13:23:27.512Z"
   },
   {
    "duration": 15,
    "start_time": "2021-11-24T13:23:54.375Z"
   },
   {
    "duration": 1080,
    "start_time": "2021-11-24T13:24:18.117Z"
   },
   {
    "duration": 1223,
    "start_time": "2021-11-24T13:24:38.606Z"
   },
   {
    "duration": 1313,
    "start_time": "2021-11-24T13:27:08.748Z"
   },
   {
    "duration": 259,
    "start_time": "2021-11-24T13:27:36.000Z"
   },
   {
    "duration": 236,
    "start_time": "2021-11-24T13:28:05.023Z"
   },
   {
    "duration": 6585,
    "start_time": "2021-11-24T13:28:20.349Z"
   },
   {
    "duration": 6,
    "start_time": "2021-11-24T13:28:26.938Z"
   },
   {
    "duration": 94,
    "start_time": "2021-11-24T13:28:26.949Z"
   },
   {
    "duration": 21,
    "start_time": "2021-11-24T13:28:27.047Z"
   },
   {
    "duration": 6,
    "start_time": "2021-11-24T13:28:27.071Z"
   },
   {
    "duration": 7,
    "start_time": "2021-11-24T13:28:27.080Z"
   },
   {
    "duration": 42,
    "start_time": "2021-11-24T13:28:27.089Z"
   },
   {
    "duration": 10,
    "start_time": "2021-11-24T13:28:27.134Z"
   },
   {
    "duration": 9,
    "start_time": "2021-11-24T13:28:27.149Z"
   },
   {
    "duration": 11,
    "start_time": "2021-11-24T13:28:27.162Z"
   },
   {
    "duration": 13,
    "start_time": "2021-11-24T13:28:27.176Z"
   },
   {
    "duration": 41,
    "start_time": "2021-11-24T13:28:27.191Z"
   },
   {
    "duration": 17,
    "start_time": "2021-11-24T13:28:27.235Z"
   },
   {
    "duration": 14,
    "start_time": "2021-11-24T13:28:27.256Z"
   },
   {
    "duration": 2546,
    "start_time": "2021-11-24T13:28:27.274Z"
   },
   {
    "duration": 1662,
    "start_time": "2021-11-24T13:28:29.823Z"
   },
   {
    "duration": 1307,
    "start_time": "2021-11-24T13:28:31.487Z"
   },
   {
    "duration": 13,
    "start_time": "2021-11-24T13:28:32.796Z"
   },
   {
    "duration": 1227,
    "start_time": "2021-11-24T13:28:32.812Z"
   },
   {
    "duration": 1180,
    "start_time": "2021-11-24T13:28:34.042Z"
   },
   {
    "duration": 13,
    "start_time": "2021-11-24T13:28:35.224Z"
   },
   {
    "duration": 23,
    "start_time": "2021-11-24T13:28:35.241Z"
   },
   {
    "duration": 1218,
    "start_time": "2021-11-24T13:28:35.267Z"
   },
   {
    "duration": 54,
    "start_time": "2021-11-24T13:28:36.488Z"
   },
   {
    "duration": 913,
    "start_time": "2021-11-24T13:28:36.545Z"
   },
   {
    "duration": 23,
    "start_time": "2021-11-24T13:28:37.460Z"
   },
   {
    "duration": 849,
    "start_time": "2021-11-24T13:28:37.489Z"
   },
   {
    "duration": 23,
    "start_time": "2021-11-24T13:28:38.341Z"
   },
   {
    "duration": 2050,
    "start_time": "2021-11-24T13:28:38.367Z"
   },
   {
    "duration": 19,
    "start_time": "2021-11-24T13:28:40.420Z"
   },
   {
    "duration": 2586,
    "start_time": "2021-11-24T13:28:40.442Z"
   },
   {
    "duration": 2049,
    "start_time": "2021-11-24T13:28:40.981Z"
   },
   {
    "duration": 2046,
    "start_time": "2021-11-24T13:28:40.986Z"
   },
   {
    "duration": 2043,
    "start_time": "2021-11-24T13:28:40.990Z"
   },
   {
    "duration": 2034,
    "start_time": "2021-11-24T13:28:41.001Z"
   },
   {
    "duration": 2030,
    "start_time": "2021-11-24T13:28:41.006Z"
   },
   {
    "duration": 2028,
    "start_time": "2021-11-24T13:28:41.010Z"
   },
   {
    "duration": 2024,
    "start_time": "2021-11-24T13:28:41.015Z"
   },
   {
    "duration": 2023,
    "start_time": "2021-11-24T13:28:41.018Z"
   },
   {
    "duration": 2020,
    "start_time": "2021-11-24T13:28:41.022Z"
   },
   {
    "duration": 2018,
    "start_time": "2021-11-24T13:28:41.026Z"
   },
   {
    "duration": 2013,
    "start_time": "2021-11-24T13:28:41.032Z"
   },
   {
    "duration": 2009,
    "start_time": "2021-11-24T13:28:41.037Z"
   },
   {
    "duration": 2006,
    "start_time": "2021-11-24T13:28:41.041Z"
   },
   {
    "duration": 2005,
    "start_time": "2021-11-24T13:28:41.044Z"
   },
   {
    "duration": 2003,
    "start_time": "2021-11-24T13:28:41.047Z"
   },
   {
    "duration": 2002,
    "start_time": "2021-11-24T13:28:41.050Z"
   },
   {
    "duration": 1999,
    "start_time": "2021-11-24T13:28:41.054Z"
   },
   {
    "duration": 1997,
    "start_time": "2021-11-24T13:28:41.058Z"
   },
   {
    "duration": 1994,
    "start_time": "2021-11-24T13:28:41.062Z"
   },
   {
    "duration": 1991,
    "start_time": "2021-11-24T13:28:41.066Z"
   },
   {
    "duration": 21,
    "start_time": "2021-11-24T13:28:50.822Z"
   },
   {
    "duration": 27,
    "start_time": "2021-11-24T13:28:51.299Z"
   },
   {
    "duration": 6,
    "start_time": "2021-11-24T13:28:52.696Z"
   },
   {
    "duration": 968,
    "start_time": "2021-11-24T13:28:54.809Z"
   },
   {
    "duration": 1441,
    "start_time": "2021-11-24T13:29:01.076Z"
   },
   {
    "duration": 13,
    "start_time": "2021-11-24T13:29:02.520Z"
   },
   {
    "duration": 37,
    "start_time": "2021-11-24T13:29:02.537Z"
   },
   {
    "duration": 46,
    "start_time": "2021-11-24T13:29:02.577Z"
   },
   {
    "duration": 6,
    "start_time": "2021-11-24T13:29:04.999Z"
   },
   {
    "duration": 7,
    "start_time": "2021-11-24T13:29:05.159Z"
   },
   {
    "duration": 18,
    "start_time": "2021-11-24T13:29:05.306Z"
   },
   {
    "duration": 1299,
    "start_time": "2021-11-24T13:29:05.434Z"
   },
   {
    "duration": 16,
    "start_time": "2021-11-24T13:29:06.736Z"
   },
   {
    "duration": 12,
    "start_time": "2021-11-24T13:29:09.153Z"
   },
   {
    "duration": 760,
    "start_time": "2021-11-24T13:29:09.845Z"
   },
   {
    "duration": 10,
    "start_time": "2021-11-24T13:29:12.977Z"
   },
   {
    "duration": 20,
    "start_time": "2021-11-24T13:29:13.844Z"
   },
   {
    "duration": 13,
    "start_time": "2021-11-24T13:29:15.829Z"
   },
   {
    "duration": 6,
    "start_time": "2021-11-24T13:29:18.085Z"
   },
   {
    "duration": 1303,
    "start_time": "2021-11-24T13:29:18.217Z"
   },
   {
    "duration": 23,
    "start_time": "2021-11-24T13:29:37.166Z"
   },
   {
    "duration": 23,
    "start_time": "2021-11-24T13:29:50.385Z"
   },
   {
    "duration": 15,
    "start_time": "2021-11-24T13:30:00.919Z"
   },
   {
    "duration": 818,
    "start_time": "2021-11-24T13:30:09.872Z"
   },
   {
    "duration": 10,
    "start_time": "2021-11-24T13:33:10.977Z"
   },
   {
    "duration": 5,
    "start_time": "2021-11-24T13:35:05.507Z"
   },
   {
    "duration": 27,
    "start_time": "2021-11-24T13:35:22.024Z"
   },
   {
    "duration": 314,
    "start_time": "2021-11-24T13:37:28.944Z"
   },
   {
    "duration": 6,
    "start_time": "2021-11-24T13:37:41.877Z"
   },
   {
    "duration": 30,
    "start_time": "2021-11-24T13:37:48.284Z"
   },
   {
    "duration": 6859,
    "start_time": "2021-11-24T13:40:01.711Z"
   },
   {
    "duration": 20,
    "start_time": "2021-11-24T13:40:31.640Z"
   },
   {
    "duration": 949,
    "start_time": "2021-11-24T13:42:26.186Z"
   },
   {
    "duration": 962,
    "start_time": "2021-11-24T13:43:28.256Z"
   },
   {
    "duration": 1068,
    "start_time": "2021-11-24T13:43:38.315Z"
   },
   {
    "duration": 299,
    "start_time": "2021-11-24T13:44:10.316Z"
   },
   {
    "duration": 808,
    "start_time": "2021-11-24T13:45:03.743Z"
   },
   {
    "duration": 836,
    "start_time": "2021-11-24T13:45:12.898Z"
   },
   {
    "duration": 1083,
    "start_time": "2021-11-24T13:45:23.287Z"
   },
   {
    "duration": 1342,
    "start_time": "2021-11-24T13:45:32.287Z"
   },
   {
    "duration": 1246,
    "start_time": "2021-11-24T13:45:38.379Z"
   },
   {
    "duration": 1490,
    "start_time": "2021-11-24T13:45:45.715Z"
   },
   {
    "duration": 2017,
    "start_time": "2021-11-24T13:45:53.460Z"
   },
   {
    "duration": 3892,
    "start_time": "2021-11-24T13:46:01.422Z"
   },
   {
    "duration": 3705,
    "start_time": "2021-11-24T13:46:17.150Z"
   },
   {
    "duration": 6323,
    "start_time": "2021-11-24T13:46:59.545Z"
   },
   {
    "duration": 6650,
    "start_time": "2021-11-24T13:48:41.887Z"
   },
   {
    "duration": 1522,
    "start_time": "2021-11-24T13:49:29.710Z"
   },
   {
    "duration": 6183,
    "start_time": "2021-11-24T13:49:41.265Z"
   },
   {
    "duration": 6351,
    "start_time": "2021-11-24T13:51:06.726Z"
   },
   {
    "duration": 8176,
    "start_time": "2021-11-24T13:52:02.514Z"
   },
   {
    "duration": 5485,
    "start_time": "2021-11-24T13:52:44.893Z"
   },
   {
    "duration": 4668,
    "start_time": "2021-11-24T13:52:56.334Z"
   },
   {
    "duration": 4222,
    "start_time": "2021-11-24T13:53:11.453Z"
   },
   {
    "duration": 978,
    "start_time": "2021-11-24T13:55:27.357Z"
   },
   {
    "duration": 8715,
    "start_time": "2021-11-24T13:56:25.996Z"
   },
   {
    "duration": 7760,
    "start_time": "2021-11-24T13:56:43.326Z"
   },
   {
    "duration": 8598,
    "start_time": "2021-11-24T14:00:55.126Z"
   },
   {
    "duration": 1781,
    "start_time": "2021-11-24T14:10:16.520Z"
   },
   {
    "duration": 2552,
    "start_time": "2021-11-24T14:12:18.488Z"
   },
   {
    "duration": 2087,
    "start_time": "2021-11-24T14:14:42.215Z"
   },
   {
    "duration": 2084,
    "start_time": "2021-11-24T14:14:51.979Z"
   },
   {
    "duration": 2211,
    "start_time": "2021-11-24T14:15:12.226Z"
   },
   {
    "duration": 2133,
    "start_time": "2021-11-24T14:20:21.955Z"
   },
   {
    "duration": 10,
    "start_time": "2021-11-24T14:22:19.359Z"
   },
   {
    "duration": 13,
    "start_time": "2021-11-24T14:22:21.968Z"
   },
   {
    "duration": 12,
    "start_time": "2021-11-24T14:22:42.429Z"
   },
   {
    "duration": 27,
    "start_time": "2021-11-24T14:23:43.644Z"
   },
   {
    "duration": 9,
    "start_time": "2021-11-24T14:24:15.781Z"
   },
   {
    "duration": 6,
    "start_time": "2021-11-24T14:26:13.652Z"
   },
   {
    "duration": 15,
    "start_time": "2021-11-24T14:26:25.330Z"
   },
   {
    "duration": 6,
    "start_time": "2021-11-24T14:28:12.232Z"
   },
   {
    "duration": 10,
    "start_time": "2021-11-24T14:29:59.463Z"
   },
   {
    "duration": 9,
    "start_time": "2021-11-24T14:30:13.384Z"
   },
   {
    "duration": 266,
    "start_time": "2021-11-24T14:30:30.712Z"
   },
   {
    "duration": 6,
    "start_time": "2021-11-24T14:30:36.076Z"
   },
   {
    "duration": 7,
    "start_time": "2021-11-24T14:30:45.604Z"
   },
   {
    "duration": 5,
    "start_time": "2021-11-24T14:30:57.552Z"
   },
   {
    "duration": 12,
    "start_time": "2021-11-24T14:35:28.111Z"
   },
   {
    "duration": 6998,
    "start_time": "2021-11-24T14:35:39.348Z"
   },
   {
    "duration": 7,
    "start_time": "2021-11-24T14:36:13.285Z"
   },
   {
    "duration": 7,
    "start_time": "2021-11-24T14:37:45.636Z"
   },
   {
    "duration": 5,
    "start_time": "2021-11-24T14:39:38.879Z"
   },
   {
    "duration": 96,
    "start_time": "2021-11-24T14:40:27.712Z"
   },
   {
    "duration": 358,
    "start_time": "2021-11-24T14:42:21.903Z"
   },
   {
    "duration": 139,
    "start_time": "2021-11-24T14:42:48.052Z"
   },
   {
    "duration": 101,
    "start_time": "2021-11-24T14:46:27.725Z"
   },
   {
    "duration": 353,
    "start_time": "2021-11-24T14:46:49.828Z"
   },
   {
    "duration": 365,
    "start_time": "2021-11-24T14:46:53.669Z"
   },
   {
    "duration": 357,
    "start_time": "2021-11-24T14:48:04.025Z"
   },
   {
    "duration": 958,
    "start_time": "2021-11-24T14:48:33.394Z"
   },
   {
    "duration": 997,
    "start_time": "2021-11-24T14:49:00.718Z"
   },
   {
    "duration": 360,
    "start_time": "2021-11-24T14:49:25.045Z"
   },
   {
    "duration": 987,
    "start_time": "2021-11-24T14:49:40.650Z"
   },
   {
    "duration": 95,
    "start_time": "2021-11-24T14:50:33.570Z"
   },
   {
    "duration": 109,
    "start_time": "2021-11-24T14:51:00.869Z"
   },
   {
    "duration": 93,
    "start_time": "2021-11-24T14:53:00.672Z"
   },
   {
    "duration": 1057,
    "start_time": "2021-11-24T14:53:26.682Z"
   },
   {
    "duration": 28,
    "start_time": "2021-11-24T14:56:16.998Z"
   },
   {
    "duration": 5796,
    "start_time": "2021-11-24T14:58:37.959Z"
   },
   {
    "duration": 713,
    "start_time": "2021-11-24T14:59:04.873Z"
   },
   {
    "duration": 961,
    "start_time": "2021-11-24T14:59:32.112Z"
   },
   {
    "duration": 10,
    "start_time": "2021-11-24T14:59:43.951Z"
   },
   {
    "duration": 549,
    "start_time": "2021-11-24T15:00:01.951Z"
   },
   {
    "duration": 714,
    "start_time": "2021-11-24T15:00:08.102Z"
   },
   {
    "duration": 245,
    "start_time": "2021-11-24T15:00:33.685Z"
   },
   {
    "duration": 685,
    "start_time": "2021-11-24T15:00:39.874Z"
   },
   {
    "duration": 680,
    "start_time": "2021-11-24T15:01:03.784Z"
   },
   {
    "duration": 701,
    "start_time": "2021-11-24T15:01:23.073Z"
   },
   {
    "duration": 744,
    "start_time": "2021-11-24T15:02:25.421Z"
   },
   {
    "duration": 760,
    "start_time": "2021-11-24T15:02:41.252Z"
   },
   {
    "duration": 747,
    "start_time": "2021-11-24T15:03:09.005Z"
   },
   {
    "duration": 793,
    "start_time": "2021-11-24T15:04:12.795Z"
   },
   {
    "duration": 38,
    "start_time": "2021-11-24T15:05:27.669Z"
   },
   {
    "duration": 767,
    "start_time": "2021-11-24T15:10:05.833Z"
   },
   {
    "duration": 30,
    "start_time": "2021-11-24T15:12:53.905Z"
   },
   {
    "duration": 21,
    "start_time": "2021-11-24T15:15:18.086Z"
   },
   {
    "duration": 22,
    "start_time": "2021-11-24T15:15:32.117Z"
   },
   {
    "duration": 22,
    "start_time": "2021-11-24T15:15:52.261Z"
   },
   {
    "duration": 22,
    "start_time": "2021-11-24T15:16:11.640Z"
   },
   {
    "duration": 57,
    "start_time": "2021-11-24T15:22:33.380Z"
   },
   {
    "duration": 35,
    "start_time": "2021-11-24T15:23:20.937Z"
   },
   {
    "duration": 53,
    "start_time": "2021-11-24T15:24:03.337Z"
   },
   {
    "duration": 14,
    "start_time": "2021-11-24T15:29:21.237Z"
   },
   {
    "duration": 282,
    "start_time": "2021-11-24T15:31:25.583Z"
   },
   {
    "duration": 690,
    "start_time": "2021-11-24T15:31:45.136Z"
   },
   {
    "duration": 9,
    "start_time": "2021-11-24T15:32:11.750Z"
   },
   {
    "duration": 10,
    "start_time": "2021-11-24T15:32:24.108Z"
   },
   {
    "duration": 10,
    "start_time": "2021-11-24T15:33:02.516Z"
   },
   {
    "duration": 10,
    "start_time": "2021-11-24T15:33:14.360Z"
   },
   {
    "duration": 15,
    "start_time": "2021-11-24T15:33:47.404Z"
   },
   {
    "duration": 13,
    "start_time": "2021-11-24T15:34:20.652Z"
   },
   {
    "duration": 10,
    "start_time": "2021-11-24T15:34:44.357Z"
   },
   {
    "duration": 62,
    "start_time": "2021-11-24T15:39:01.359Z"
   },
   {
    "duration": 87,
    "start_time": "2021-11-24T15:39:24.143Z"
   },
   {
    "duration": 4,
    "start_time": "2021-11-24T17:34:28.876Z"
   },
   {
    "duration": 8330,
    "start_time": "2021-11-24T17:35:29.389Z"
   },
   {
    "duration": 1464,
    "start_time": "2021-11-24T17:35:37.722Z"
   },
   {
    "duration": 61,
    "start_time": "2021-11-24T17:35:39.189Z"
   },
   {
    "duration": 21,
    "start_time": "2021-11-24T17:35:39.252Z"
   },
   {
    "duration": 10,
    "start_time": "2021-11-24T17:35:39.276Z"
   },
   {
    "duration": 6,
    "start_time": "2021-11-24T17:35:39.289Z"
   },
   {
    "duration": 7,
    "start_time": "2021-11-24T17:35:39.298Z"
   },
   {
    "duration": 12,
    "start_time": "2021-11-24T17:35:39.310Z"
   },
   {
    "duration": 47,
    "start_time": "2021-11-24T17:35:39.325Z"
   },
   {
    "duration": 13,
    "start_time": "2021-11-24T17:35:39.374Z"
   },
   {
    "duration": 13,
    "start_time": "2021-11-24T17:35:39.389Z"
   },
   {
    "duration": 10,
    "start_time": "2021-11-24T17:35:39.404Z"
   },
   {
    "duration": 19,
    "start_time": "2021-11-24T17:35:39.417Z"
   },
   {
    "duration": 26,
    "start_time": "2021-11-24T17:35:39.438Z"
   },
   {
    "duration": 2090,
    "start_time": "2021-11-24T17:35:39.466Z"
   },
   {
    "duration": 1342,
    "start_time": "2021-11-24T17:35:41.558Z"
   },
   {
    "duration": 1468,
    "start_time": "2021-11-24T17:35:42.902Z"
   },
   {
    "duration": 16,
    "start_time": "2021-11-24T17:35:44.373Z"
   },
   {
    "duration": 1275,
    "start_time": "2021-11-24T17:35:44.392Z"
   },
   {
    "duration": 868,
    "start_time": "2021-11-24T17:35:45.669Z"
   },
   {
    "duration": 24,
    "start_time": "2021-11-24T17:35:46.539Z"
   },
   {
    "duration": 12,
    "start_time": "2021-11-24T17:35:46.567Z"
   },
   {
    "duration": 557,
    "start_time": "2021-11-24T17:35:46.586Z"
   },
   {
    "duration": 31,
    "start_time": "2021-11-24T17:35:47.158Z"
   },
   {
    "duration": 624,
    "start_time": "2021-11-24T17:35:47.192Z"
   },
   {
    "duration": 24,
    "start_time": "2021-11-24T17:35:47.818Z"
   },
   {
    "duration": 651,
    "start_time": "2021-11-24T17:35:47.859Z"
   },
   {
    "duration": 25,
    "start_time": "2021-11-24T17:35:48.513Z"
   },
   {
    "duration": 2011,
    "start_time": "2021-11-24T17:35:48.540Z"
   },
   {
    "duration": 22,
    "start_time": "2021-11-24T17:35:50.554Z"
   },
   {
    "duration": 4,
    "start_time": "2021-11-24T17:35:50.579Z"
   },
   {
    "duration": 23,
    "start_time": "2021-11-24T17:35:50.585Z"
   },
   {
    "duration": 63,
    "start_time": "2021-11-24T17:35:50.611Z"
   },
   {
    "duration": 8,
    "start_time": "2021-11-24T17:35:50.677Z"
   },
   {
    "duration": 692,
    "start_time": "2021-11-24T17:35:50.688Z"
   },
   {
    "duration": 834,
    "start_time": "2021-11-24T17:35:51.382Z"
   },
   {
    "duration": 10,
    "start_time": "2021-11-24T17:35:52.219Z"
   },
   {
    "duration": 36,
    "start_time": "2021-11-24T17:35:52.231Z"
   },
   {
    "duration": 15,
    "start_time": "2021-11-24T17:35:52.270Z"
   },
   {
    "duration": 6,
    "start_time": "2021-11-24T17:35:52.288Z"
   },
   {
    "duration": 15,
    "start_time": "2021-11-24T17:35:52.296Z"
   },
   {
    "duration": 53,
    "start_time": "2021-11-24T17:35:52.314Z"
   },
   {
    "duration": 2064,
    "start_time": "2021-11-24T17:35:52.370Z"
   },
   {
    "duration": 27,
    "start_time": "2021-11-24T17:35:54.437Z"
   },
   {
    "duration": 29,
    "start_time": "2021-11-24T17:35:54.467Z"
   },
   {
    "duration": 861,
    "start_time": "2021-11-24T17:35:54.498Z"
   },
   {
    "duration": 14,
    "start_time": "2021-11-24T17:35:55.363Z"
   },
   {
    "duration": 23,
    "start_time": "2021-11-24T17:35:55.381Z"
   },
   {
    "duration": 14,
    "start_time": "2021-11-24T17:35:55.407Z"
   },
   {
    "duration": 7,
    "start_time": "2021-11-24T17:35:55.423Z"
   },
   {
    "duration": 1254,
    "start_time": "2021-11-24T17:35:55.463Z"
   },
   {
    "duration": 40,
    "start_time": "2021-11-24T17:35:56.719Z"
   },
   {
    "duration": 16,
    "start_time": "2021-11-24T17:35:56.767Z"
   },
   {
    "duration": 866,
    "start_time": "2021-11-24T17:35:56.786Z"
   },
   {
    "duration": 11,
    "start_time": "2021-11-24T17:35:57.659Z"
   },
   {
    "duration": 1989,
    "start_time": "2021-11-24T17:35:57.673Z"
   },
   {
    "duration": 16,
    "start_time": "2021-11-24T17:35:59.664Z"
   },
   {
    "duration": 6,
    "start_time": "2021-11-24T17:35:59.682Z"
   },
   {
    "duration": 12,
    "start_time": "2021-11-24T17:35:59.690Z"
   },
   {
    "duration": 16,
    "start_time": "2021-11-24T17:35:59.704Z"
   },
   {
    "duration": 1676,
    "start_time": "2021-11-24T17:35:59.723Z"
   },
   {
    "duration": 820,
    "start_time": "2021-11-24T17:36:01.402Z"
   },
   {
    "duration": 663,
    "start_time": "2021-11-24T17:36:07.741Z"
   },
   {
    "duration": 133,
    "start_time": "2021-11-24T17:36:19.059Z"
   },
   {
    "duration": 102,
    "start_time": "2021-11-24T17:36:53.776Z"
   },
   {
    "duration": 119,
    "start_time": "2021-11-24T17:37:26.560Z"
   },
   {
    "duration": 82,
    "start_time": "2021-11-24T17:37:55.287Z"
   },
   {
    "duration": 84,
    "start_time": "2021-11-24T17:39:03.683Z"
   },
   {
    "duration": 47,
    "start_time": "2021-11-24T17:48:31.024Z"
   },
   {
    "duration": 7,
    "start_time": "2021-11-24T17:50:21.844Z"
   },
   {
    "duration": 12,
    "start_time": "2021-11-24T17:52:27.927Z"
   },
   {
    "duration": 15,
    "start_time": "2021-11-24T17:52:47.655Z"
   },
   {
    "duration": 7,
    "start_time": "2021-11-24T17:52:58.174Z"
   },
   {
    "duration": 5,
    "start_time": "2021-11-24T17:58:01.409Z"
   },
   {
    "duration": 12,
    "start_time": "2021-11-24T17:58:18.606Z"
   },
   {
    "duration": 5,
    "start_time": "2021-11-24T17:58:20.613Z"
   },
   {
    "duration": 4,
    "start_time": "2021-11-24T17:58:29.723Z"
   },
   {
    "duration": 6,
    "start_time": "2021-11-24T17:58:38.101Z"
   },
   {
    "duration": 5,
    "start_time": "2021-11-24T17:58:45.140Z"
   },
   {
    "duration": 6,
    "start_time": "2021-11-24T17:58:55.192Z"
   },
   {
    "duration": 21,
    "start_time": "2021-11-24T17:58:58.177Z"
   },
   {
    "duration": 7,
    "start_time": "2021-11-24T17:59:00.139Z"
   },
   {
    "duration": 8036,
    "start_time": "2021-11-24T17:59:18.733Z"
   },
   {
    "duration": 6,
    "start_time": "2021-11-24T17:59:26.773Z"
   },
   {
    "duration": 80,
    "start_time": "2021-11-24T17:59:26.783Z"
   },
   {
    "duration": 22,
    "start_time": "2021-11-24T17:59:26.866Z"
   },
   {
    "duration": 12,
    "start_time": "2021-11-24T17:59:26.892Z"
   },
   {
    "duration": 9,
    "start_time": "2021-11-24T17:59:26.907Z"
   },
   {
    "duration": 14,
    "start_time": "2021-11-24T17:59:26.919Z"
   },
   {
    "duration": 36,
    "start_time": "2021-11-24T17:59:26.937Z"
   },
   {
    "duration": 25,
    "start_time": "2021-11-24T17:59:26.977Z"
   },
   {
    "duration": 6,
    "start_time": "2021-11-24T17:59:27.006Z"
   },
   {
    "duration": 11,
    "start_time": "2021-11-24T17:59:27.014Z"
   },
   {
    "duration": 14,
    "start_time": "2021-11-24T17:59:27.028Z"
   },
   {
    "duration": 50,
    "start_time": "2021-11-24T17:59:27.045Z"
   },
   {
    "duration": 12,
    "start_time": "2021-11-24T17:59:27.097Z"
   },
   {
    "duration": 2294,
    "start_time": "2021-11-24T17:59:27.112Z"
   },
   {
    "duration": 1354,
    "start_time": "2021-11-24T17:59:29.408Z"
   },
   {
    "duration": 1477,
    "start_time": "2021-11-24T17:59:30.765Z"
   },
   {
    "duration": 25,
    "start_time": "2021-11-24T17:59:32.244Z"
   },
   {
    "duration": 1348,
    "start_time": "2021-11-24T17:59:32.274Z"
   },
   {
    "duration": 944,
    "start_time": "2021-11-24T17:59:33.624Z"
   },
   {
    "duration": 17,
    "start_time": "2021-11-24T17:59:34.571Z"
   },
   {
    "duration": 9,
    "start_time": "2021-11-24T17:59:34.591Z"
   },
   {
    "duration": 967,
    "start_time": "2021-11-24T17:59:34.608Z"
   },
   {
    "duration": 33,
    "start_time": "2021-11-24T17:59:35.581Z"
   },
   {
    "duration": 967,
    "start_time": "2021-11-24T17:59:35.616Z"
   },
   {
    "duration": 32,
    "start_time": "2021-11-24T17:59:36.586Z"
   },
   {
    "duration": 983,
    "start_time": "2021-11-24T17:59:36.621Z"
   },
   {
    "duration": 25,
    "start_time": "2021-11-24T17:59:37.607Z"
   },
   {
    "duration": 2142,
    "start_time": "2021-11-24T17:59:37.635Z"
   },
   {
    "duration": 20,
    "start_time": "2021-11-24T17:59:39.779Z"
   },
   {
    "duration": 6,
    "start_time": "2021-11-24T17:59:39.802Z"
   },
   {
    "duration": 54,
    "start_time": "2021-11-24T17:59:39.810Z"
   },
   {
    "duration": 33,
    "start_time": "2021-11-24T17:59:39.867Z"
   },
   {
    "duration": 7,
    "start_time": "2021-11-24T17:59:39.902Z"
   },
   {
    "duration": 976,
    "start_time": "2021-11-24T17:59:39.911Z"
   },
   {
    "duration": 1420,
    "start_time": "2021-11-24T17:59:40.890Z"
   },
   {
    "duration": 11,
    "start_time": "2021-11-24T17:59:42.312Z"
   },
   {
    "duration": 41,
    "start_time": "2021-11-24T17:59:42.325Z"
   },
   {
    "duration": 11,
    "start_time": "2021-11-24T17:59:42.369Z"
   },
   {
    "duration": 24,
    "start_time": "2021-11-24T17:59:42.382Z"
   },
   {
    "duration": 9,
    "start_time": "2021-11-24T17:59:42.409Z"
   },
   {
    "duration": 43,
    "start_time": "2021-11-24T17:59:42.421Z"
   },
   {
    "duration": 1468,
    "start_time": "2021-11-24T17:59:42.467Z"
   },
   {
    "duration": 29,
    "start_time": "2021-11-24T17:59:43.939Z"
   },
   {
    "duration": 21,
    "start_time": "2021-11-24T17:59:43.972Z"
   },
   {
    "duration": 909,
    "start_time": "2021-11-24T17:59:44.003Z"
   },
   {
    "duration": 10,
    "start_time": "2021-11-24T17:59:44.915Z"
   },
   {
    "duration": 48,
    "start_time": "2021-11-24T17:59:44.927Z"
   },
   {
    "duration": 19,
    "start_time": "2021-11-24T17:59:44.979Z"
   },
   {
    "duration": 9,
    "start_time": "2021-11-24T17:59:45.003Z"
   },
   {
    "duration": 1408,
    "start_time": "2021-11-24T17:59:45.015Z"
   },
   {
    "duration": 42,
    "start_time": "2021-11-24T17:59:46.425Z"
   },
   {
    "duration": 43,
    "start_time": "2021-11-24T17:59:46.470Z"
   },
   {
    "duration": 932,
    "start_time": "2021-11-24T17:59:46.516Z"
   },
   {
    "duration": 15,
    "start_time": "2021-11-24T17:59:47.451Z"
   },
   {
    "duration": 2134,
    "start_time": "2021-11-24T17:59:47.469Z"
   },
   {
    "duration": 12,
    "start_time": "2021-11-24T17:59:49.605Z"
   },
   {
    "duration": 8,
    "start_time": "2021-11-24T17:59:49.620Z"
   },
   {
    "duration": 46,
    "start_time": "2021-11-24T17:59:49.630Z"
   },
   {
    "duration": 16,
    "start_time": "2021-11-24T17:59:49.684Z"
   },
   {
    "duration": 1078,
    "start_time": "2021-11-24T17:59:49.703Z"
   },
   {
    "duration": 948,
    "start_time": "2021-11-24T17:59:50.785Z"
   },
   {
    "duration": 136,
    "start_time": "2021-11-24T17:59:51.736Z"
   },
   {
    "duration": 14,
    "start_time": "2021-11-24T17:59:51.876Z"
   },
   {
    "duration": 13,
    "start_time": "2021-11-24T18:00:03.211Z"
   },
   {
    "duration": 6,
    "start_time": "2021-11-24T18:00:06.314Z"
   },
   {
    "duration": 44,
    "start_time": "2021-11-24T18:00:20.242Z"
   },
   {
    "duration": 8,
    "start_time": "2021-11-24T18:00:46.943Z"
   },
   {
    "duration": 7,
    "start_time": "2021-11-24T18:00:54.787Z"
   },
   {
    "duration": 12,
    "start_time": "2021-11-24T18:01:27.740Z"
   },
   {
    "duration": 7,
    "start_time": "2021-11-24T18:01:28.513Z"
   },
   {
    "duration": 752,
    "start_time": "2021-11-24T18:01:35.620Z"
   },
   {
    "duration": 6,
    "start_time": "2021-11-24T18:02:18.805Z"
   },
   {
    "duration": 16,
    "start_time": "2021-11-24T18:02:44.546Z"
   },
   {
    "duration": 15,
    "start_time": "2021-11-24T18:02:46.810Z"
   },
   {
    "duration": 898,
    "start_time": "2021-11-24T18:02:52.486Z"
   },
   {
    "duration": 6,
    "start_time": "2021-11-24T18:04:02.241Z"
   },
   {
    "duration": 13,
    "start_time": "2021-11-24T18:04:11.207Z"
   },
   {
    "duration": 5,
    "start_time": "2021-11-24T18:04:14.425Z"
   },
   {
    "duration": 6,
    "start_time": "2021-11-24T18:04:20.270Z"
   },
   {
    "duration": 16,
    "start_time": "2021-11-24T18:04:30.484Z"
   },
   {
    "duration": 17,
    "start_time": "2021-11-24T18:04:47.194Z"
   },
   {
    "duration": 122,
    "start_time": "2021-11-24T18:04:49.604Z"
   },
   {
    "duration": 122,
    "start_time": "2021-11-24T18:05:01.525Z"
   },
   {
    "duration": 12,
    "start_time": "2021-11-24T18:05:08.476Z"
   },
   {
    "duration": 8,
    "start_time": "2021-11-24T18:05:10.770Z"
   },
   {
    "duration": 6,
    "start_time": "2021-11-24T18:05:18.149Z"
   },
   {
    "duration": 8302,
    "start_time": "2021-11-24T18:17:13.367Z"
   },
   {
    "duration": 7766,
    "start_time": "2021-11-24T18:17:33.810Z"
   },
   {
    "duration": 269,
    "start_time": "2021-11-24T18:17:54.552Z"
   },
   {
    "duration": 15,
    "start_time": "2021-11-24T18:18:19.727Z"
   },
   {
    "duration": 8,
    "start_time": "2021-11-24T18:18:22.074Z"
   },
   {
    "duration": 7,
    "start_time": "2021-11-24T18:18:25.796Z"
   },
   {
    "duration": 19,
    "start_time": "2021-11-24T18:19:26.101Z"
   },
   {
    "duration": 11,
    "start_time": "2021-11-24T18:19:36.872Z"
   },
   {
    "duration": 403,
    "start_time": "2021-11-24T18:19:54.008Z"
   },
   {
    "duration": 391,
    "start_time": "2021-11-24T18:20:49.290Z"
   },
   {
    "duration": 449,
    "start_time": "2021-11-24T18:21:39.754Z"
   },
   {
    "duration": 6,
    "start_time": "2021-11-24T18:22:25.211Z"
   },
   {
    "duration": 8,
    "start_time": "2021-11-24T18:26:43.767Z"
   },
   {
    "duration": 9,
    "start_time": "2021-11-24T18:26:55.129Z"
   },
   {
    "duration": 6,
    "start_time": "2021-11-24T18:27:00.469Z"
   },
   {
    "duration": 6,
    "start_time": "2021-11-24T18:27:28.793Z"
   },
   {
    "duration": 6,
    "start_time": "2021-11-24T18:28:19.469Z"
   },
   {
    "duration": 7,
    "start_time": "2021-11-24T18:28:20.182Z"
   },
   {
    "duration": 7,
    "start_time": "2021-11-24T18:31:12.589Z"
   },
   {
    "duration": 21,
    "start_time": "2021-11-24T18:32:55.458Z"
   },
   {
    "duration": 7,
    "start_time": "2021-11-24T18:32:56.550Z"
   },
   {
    "duration": 893,
    "start_time": "2021-11-24T18:35:32.561Z"
   },
   {
    "duration": 11,
    "start_time": "2021-11-24T18:36:32.367Z"
   },
   {
    "duration": 20,
    "start_time": "2021-11-24T18:37:32.286Z"
   },
   {
    "duration": 7,
    "start_time": "2021-11-24T18:37:33.003Z"
   },
   {
    "duration": 39,
    "start_time": "2021-11-24T18:38:23.212Z"
   },
   {
    "duration": 14,
    "start_time": "2021-11-24T18:39:24.097Z"
   },
   {
    "duration": 6,
    "start_time": "2021-11-24T18:39:28.401Z"
   },
   {
    "duration": 316,
    "start_time": "2021-11-25T12:04:38.374Z"
   },
   {
    "duration": 5808,
    "start_time": "2021-11-25T12:04:43.454Z"
   },
   {
    "duration": 1133,
    "start_time": "2021-11-25T12:04:49.265Z"
   },
   {
    "duration": 50,
    "start_time": "2021-11-25T12:04:50.400Z"
   },
   {
    "duration": 12,
    "start_time": "2021-11-25T12:04:50.452Z"
   },
   {
    "duration": 7,
    "start_time": "2021-11-25T12:04:50.465Z"
   },
   {
    "duration": 4,
    "start_time": "2021-11-25T12:04:50.474Z"
   },
   {
    "duration": 5,
    "start_time": "2021-11-25T12:04:50.479Z"
   },
   {
    "duration": 7,
    "start_time": "2021-11-25T12:04:50.486Z"
   },
   {
    "duration": 5,
    "start_time": "2021-11-25T12:04:50.497Z"
   },
   {
    "duration": 41,
    "start_time": "2021-11-25T12:04:50.504Z"
   },
   {
    "duration": 7,
    "start_time": "2021-11-25T12:04:50.547Z"
   },
   {
    "duration": 9,
    "start_time": "2021-11-25T12:04:50.556Z"
   },
   {
    "duration": 12,
    "start_time": "2021-11-25T12:04:50.567Z"
   },
   {
    "duration": 9,
    "start_time": "2021-11-25T12:04:50.581Z"
   },
   {
    "duration": 1261,
    "start_time": "2021-11-25T12:04:50.592Z"
   },
   {
    "duration": 922,
    "start_time": "2021-11-25T12:04:51.855Z"
   },
   {
    "duration": 884,
    "start_time": "2021-11-25T12:04:52.779Z"
   },
   {
    "duration": 10,
    "start_time": "2021-11-25T12:04:53.665Z"
   },
   {
    "duration": 930,
    "start_time": "2021-11-25T12:04:53.677Z"
   },
   {
    "duration": 621,
    "start_time": "2021-11-25T12:04:54.609Z"
   },
   {
    "duration": 13,
    "start_time": "2021-11-25T12:04:55.232Z"
   },
   {
    "duration": 18,
    "start_time": "2021-11-25T12:04:55.247Z"
   },
   {
    "duration": 331,
    "start_time": "2021-11-25T12:04:55.266Z"
   },
   {
    "duration": 19,
    "start_time": "2021-11-25T12:04:55.599Z"
   },
   {
    "duration": 403,
    "start_time": "2021-11-25T12:04:55.620Z"
   },
   {
    "duration": 26,
    "start_time": "2021-11-25T12:04:56.025Z"
   },
   {
    "duration": 316,
    "start_time": "2021-11-25T12:04:56.055Z"
   },
   {
    "duration": 145,
    "start_time": "2021-11-25T12:09:46.801Z"
   },
   {
    "duration": 5,
    "start_time": "2021-11-25T12:10:45.687Z"
   },
   {
    "duration": 8,
    "start_time": "2021-11-25T12:10:53.528Z"
   },
   {
    "duration": 8,
    "start_time": "2021-11-25T12:12:31.000Z"
   },
   {
    "duration": 10,
    "start_time": "2021-11-25T12:12:39.775Z"
   },
   {
    "duration": 10,
    "start_time": "2021-11-25T12:12:49.702Z"
   },
   {
    "duration": 9,
    "start_time": "2021-11-25T12:21:22.583Z"
   },
   {
    "duration": 343,
    "start_time": "2021-11-25T12:22:25.192Z"
   },
   {
    "duration": 4564,
    "start_time": "2021-11-25T12:22:29.854Z"
   },
   {
    "duration": 3,
    "start_time": "2021-11-25T12:22:34.420Z"
   },
   {
    "duration": 51,
    "start_time": "2021-11-25T12:22:34.425Z"
   },
   {
    "duration": 10,
    "start_time": "2021-11-25T12:22:34.478Z"
   },
   {
    "duration": 6,
    "start_time": "2021-11-25T12:22:34.490Z"
   },
   {
    "duration": 10,
    "start_time": "2021-11-25T12:22:34.497Z"
   },
   {
    "duration": 6,
    "start_time": "2021-11-25T12:22:34.509Z"
   },
   {
    "duration": 6,
    "start_time": "2021-11-25T12:22:34.517Z"
   },
   {
    "duration": 22,
    "start_time": "2021-11-25T12:22:34.526Z"
   },
   {
    "duration": 4,
    "start_time": "2021-11-25T12:22:34.551Z"
   },
   {
    "duration": 10,
    "start_time": "2021-11-25T12:22:34.556Z"
   },
   {
    "duration": 18,
    "start_time": "2021-11-25T12:22:34.568Z"
   },
   {
    "duration": 16,
    "start_time": "2021-11-25T12:22:34.587Z"
   },
   {
    "duration": 8,
    "start_time": "2021-11-25T12:22:34.604Z"
   },
   {
    "duration": 1345,
    "start_time": "2021-11-25T12:22:34.614Z"
   },
   {
    "duration": 902,
    "start_time": "2021-11-25T12:22:35.961Z"
   },
   {
    "duration": 899,
    "start_time": "2021-11-25T12:22:36.864Z"
   },
   {
    "duration": 8,
    "start_time": "2021-11-25T12:22:37.765Z"
   },
   {
    "duration": 774,
    "start_time": "2021-11-25T12:22:37.775Z"
   },
   {
    "duration": 583,
    "start_time": "2021-11-25T12:22:38.551Z"
   },
   {
    "duration": 7,
    "start_time": "2021-11-25T12:22:39.144Z"
   },
   {
    "duration": 23,
    "start_time": "2021-11-25T12:22:39.152Z"
   },
   {
    "duration": 321,
    "start_time": "2021-11-25T12:22:39.177Z"
   },
   {
    "duration": 19,
    "start_time": "2021-11-25T12:22:39.500Z"
   },
   {
    "duration": 323,
    "start_time": "2021-11-25T12:22:39.521Z"
   },
   {
    "duration": 16,
    "start_time": "2021-11-25T12:22:39.845Z"
   },
   {
    "duration": 435,
    "start_time": "2021-11-25T12:22:39.864Z"
   },
   {
    "duration": 17,
    "start_time": "2021-11-25T12:22:40.302Z"
   },
   {
    "duration": 1539,
    "start_time": "2021-11-25T12:22:40.321Z"
   },
   {
    "duration": 5,
    "start_time": "2021-11-25T12:22:41.862Z"
   },
   {
    "duration": 343,
    "start_time": "2021-11-25T12:22:41.869Z"
   },
   {
    "duration": 169,
    "start_time": "2021-11-25T12:22:42.214Z"
   },
   {
    "duration": 8,
    "start_time": "2021-11-25T12:22:42.384Z"
   },
   {
    "duration": 487,
    "start_time": "2021-11-25T12:22:42.393Z"
   },
   {
    "duration": 6,
    "start_time": "2021-11-25T12:22:42.882Z"
   },
   {
    "duration": 6,
    "start_time": "2021-11-25T12:23:41.959Z"
   },
   {
    "duration": 7,
    "start_time": "2021-11-25T12:23:43.789Z"
   },
   {
    "duration": 6,
    "start_time": "2021-11-25T12:24:06.097Z"
   },
   {
    "duration": 6,
    "start_time": "2021-11-25T12:24:21.468Z"
   },
   {
    "duration": 4,
    "start_time": "2021-11-25T12:24:21.991Z"
   },
   {
    "duration": 4,
    "start_time": "2021-11-25T12:25:07.931Z"
   },
   {
    "duration": 6,
    "start_time": "2021-11-25T12:25:14.939Z"
   },
   {
    "duration": 14,
    "start_time": "2021-11-25T12:25:17.397Z"
   },
   {
    "duration": 657,
    "start_time": "2021-11-25T12:25:20.278Z"
   },
   {
    "duration": 90,
    "start_time": "2021-11-25T12:26:04.932Z"
   },
   {
    "duration": 8,
    "start_time": "2021-11-25T12:28:10.836Z"
   },
   {
    "duration": 8,
    "start_time": "2021-11-25T12:29:21.050Z"
   },
   {
    "duration": 8,
    "start_time": "2021-11-25T12:32:06.846Z"
   },
   {
    "duration": 971,
    "start_time": "2021-11-25T12:32:20.175Z"
   },
   {
    "duration": 8,
    "start_time": "2021-11-25T12:32:36.046Z"
   },
   {
    "duration": 14,
    "start_time": "2021-11-25T12:32:46.028Z"
   },
   {
    "duration": 13,
    "start_time": "2021-11-25T12:32:56.631Z"
   },
   {
    "duration": 11,
    "start_time": "2021-11-25T12:32:57.445Z"
   },
   {
    "duration": 5,
    "start_time": "2021-11-25T12:33:20.490Z"
   },
   {
    "duration": 738,
    "start_time": "2021-11-25T12:33:29.777Z"
   },
   {
    "duration": 16,
    "start_time": "2021-11-25T12:33:43.116Z"
   },
   {
    "duration": 10,
    "start_time": "2021-11-25T12:34:50.990Z"
   },
   {
    "duration": 552,
    "start_time": "2021-11-25T12:36:01.379Z"
   },
   {
    "duration": 288,
    "start_time": "2021-11-25T12:41:31.587Z"
   },
   {
    "duration": 7,
    "start_time": "2021-11-25T12:41:49.210Z"
   },
   {
    "duration": 1223,
    "start_time": "2021-11-25T12:41:50.121Z"
   },
   {
    "duration": 9,
    "start_time": "2021-11-25T12:41:56.675Z"
   },
   {
    "duration": 4,
    "start_time": "2021-11-25T12:42:15.647Z"
   },
   {
    "duration": 5,
    "start_time": "2021-11-25T12:42:32.919Z"
   },
   {
    "duration": 4,
    "start_time": "2021-11-25T12:42:33.592Z"
   },
   {
    "duration": 554,
    "start_time": "2021-11-25T12:42:34.503Z"
   },
   {
    "duration": 586,
    "start_time": "2021-11-25T12:43:28.917Z"
   },
   {
    "duration": 552,
    "start_time": "2021-11-25T12:43:43.331Z"
   },
   {
    "duration": 45,
    "start_time": "2021-11-25T12:59:04.111Z"
   },
   {
    "duration": 5658,
    "start_time": "2021-11-25T20:09:25.151Z"
   },
   {
    "duration": 1202,
    "start_time": "2021-11-25T20:09:30.811Z"
   },
   {
    "duration": 53,
    "start_time": "2021-11-25T20:09:32.016Z"
   },
   {
    "duration": 11,
    "start_time": "2021-11-25T20:09:32.071Z"
   },
   {
    "duration": 7,
    "start_time": "2021-11-25T20:09:32.083Z"
   },
   {
    "duration": 5,
    "start_time": "2021-11-25T20:09:32.091Z"
   },
   {
    "duration": 6,
    "start_time": "2021-11-25T20:09:32.097Z"
   },
   {
    "duration": 7,
    "start_time": "2021-11-25T20:09:32.105Z"
   },
   {
    "duration": 6,
    "start_time": "2021-11-25T20:09:32.115Z"
   },
   {
    "duration": 4,
    "start_time": "2021-11-25T20:09:32.146Z"
   },
   {
    "duration": 12,
    "start_time": "2021-11-25T20:09:32.152Z"
   },
   {
    "duration": 13,
    "start_time": "2021-11-25T20:09:32.166Z"
   },
   {
    "duration": 20,
    "start_time": "2021-11-25T20:09:32.181Z"
   },
   {
    "duration": 8,
    "start_time": "2021-11-25T20:09:32.203Z"
   },
   {
    "duration": 1556,
    "start_time": "2021-11-25T20:09:32.213Z"
   },
   {
    "duration": 929,
    "start_time": "2021-11-25T20:09:33.770Z"
   },
   {
    "duration": 902,
    "start_time": "2021-11-25T20:09:34.701Z"
   },
   {
    "duration": 10,
    "start_time": "2021-11-25T20:09:35.605Z"
   },
   {
    "duration": 855,
    "start_time": "2021-11-25T20:09:35.617Z"
   },
   {
    "duration": 573,
    "start_time": "2021-11-25T20:09:36.474Z"
   },
   {
    "duration": 10,
    "start_time": "2021-11-25T20:09:37.050Z"
   },
   {
    "duration": 268,
    "start_time": "2021-11-25T20:09:37.063Z"
   },
   {
    "duration": 25,
    "start_time": "2021-11-25T20:09:37.333Z"
   },
   {
    "duration": 354,
    "start_time": "2021-11-25T20:09:37.360Z"
   },
   {
    "duration": 16,
    "start_time": "2021-11-25T20:09:37.716Z"
   },
   {
    "duration": 1203,
    "start_time": "2021-11-25T20:09:37.744Z"
   },
   {
    "duration": 6,
    "start_time": "2021-11-25T20:09:38.952Z"
   },
   {
    "duration": 268,
    "start_time": "2021-11-25T20:09:38.961Z"
   },
   {
    "duration": 161,
    "start_time": "2021-11-25T20:09:39.230Z"
   },
   {
    "duration": 8,
    "start_time": "2021-11-25T20:09:39.393Z"
   },
   {
    "duration": 363,
    "start_time": "2021-11-25T20:09:39.403Z"
   },
   {
    "duration": 6,
    "start_time": "2021-11-25T20:09:39.768Z"
   },
   {
    "duration": 8,
    "start_time": "2021-11-25T20:09:39.776Z"
   },
   {
    "duration": 4,
    "start_time": "2021-11-25T20:09:39.786Z"
   },
   {
    "duration": 4,
    "start_time": "2021-11-25T20:09:39.792Z"
   },
   {
    "duration": 5,
    "start_time": "2021-11-25T20:09:39.798Z"
   },
   {
    "duration": 44,
    "start_time": "2021-11-25T20:09:39.804Z"
   },
   {
    "duration": 668,
    "start_time": "2021-11-25T20:09:39.849Z"
   },
   {
    "duration": 10,
    "start_time": "2021-11-25T20:09:40.519Z"
   },
   {
    "duration": 1057,
    "start_time": "2021-11-25T20:09:40.531Z"
   },
   {
    "duration": 7,
    "start_time": "2021-11-25T20:09:41.590Z"
   },
   {
    "duration": 13,
    "start_time": "2021-11-25T20:09:41.599Z"
   },
   {
    "duration": 9,
    "start_time": "2021-11-25T20:09:41.614Z"
   },
   {
    "duration": 5,
    "start_time": "2021-11-25T20:09:41.645Z"
   },
   {
    "duration": 682,
    "start_time": "2021-11-25T20:09:41.652Z"
   },
   {
    "duration": 18,
    "start_time": "2021-11-25T20:09:42.344Z"
   },
   {
    "duration": 12,
    "start_time": "2021-11-25T20:09:42.364Z"
   },
   {
    "duration": 524,
    "start_time": "2021-11-25T20:09:42.377Z"
   },
   {
    "duration": 6,
    "start_time": "2021-11-25T20:09:42.903Z"
   },
   {
    "duration": 1151,
    "start_time": "2021-11-25T20:09:42.910Z"
   },
   {
    "duration": 8,
    "start_time": "2021-11-25T20:09:44.063Z"
   },
   {
    "duration": 7,
    "start_time": "2021-11-25T20:09:44.072Z"
   },
   {
    "duration": 6,
    "start_time": "2021-11-25T20:09:44.080Z"
   },
   {
    "duration": 6,
    "start_time": "2021-11-25T20:09:44.088Z"
   },
   {
    "duration": 515,
    "start_time": "2021-11-25T20:09:44.095Z"
   },
   {
    "duration": 464,
    "start_time": "2021-11-25T20:09:44.611Z"
   },
   {
    "duration": 71,
    "start_time": "2021-11-25T20:09:45.077Z"
   },
   {
    "duration": 6,
    "start_time": "2021-11-25T20:09:45.151Z"
   },
   {
    "duration": 5,
    "start_time": "2021-11-25T20:09:45.159Z"
   },
   {
    "duration": 17,
    "start_time": "2021-11-25T20:09:45.166Z"
   },
   {
    "duration": 136,
    "start_time": "2021-11-25T20:09:45.185Z"
   },
   {
    "duration": 4,
    "start_time": "2021-11-25T20:09:45.323Z"
   },
   {
    "duration": 22,
    "start_time": "2021-11-25T20:09:45.329Z"
   },
   {
    "duration": 10,
    "start_time": "2021-11-25T20:09:45.353Z"
   },
   {
    "duration": 91,
    "start_time": "2021-11-25T20:38:42.681Z"
   },
   {
    "duration": 434,
    "start_time": "2021-11-25T20:57:21.519Z"
   },
   {
    "duration": 455,
    "start_time": "2021-11-25T20:58:47.518Z"
   },
   {
    "duration": 503,
    "start_time": "2021-11-25T21:00:11.911Z"
   },
   {
    "duration": 7406,
    "start_time": "2021-11-25T21:01:14.758Z"
   },
   {
    "duration": 4543,
    "start_time": "2021-11-25T21:01:42.614Z"
   },
   {
    "duration": 4,
    "start_time": "2021-11-25T21:01:47.159Z"
   },
   {
    "duration": 65,
    "start_time": "2021-11-25T21:01:47.166Z"
   },
   {
    "duration": 16,
    "start_time": "2021-11-25T21:01:47.234Z"
   },
   {
    "duration": 6,
    "start_time": "2021-11-25T21:01:47.253Z"
   },
   {
    "duration": 5,
    "start_time": "2021-11-25T21:01:47.261Z"
   },
   {
    "duration": 6,
    "start_time": "2021-11-25T21:01:47.268Z"
   },
   {
    "duration": 5,
    "start_time": "2021-11-25T21:01:47.278Z"
   },
   {
    "duration": 10,
    "start_time": "2021-11-25T21:01:47.286Z"
   },
   {
    "duration": 10,
    "start_time": "2021-11-25T21:01:47.298Z"
   },
   {
    "duration": 10,
    "start_time": "2021-11-25T21:01:47.310Z"
   },
   {
    "duration": 11,
    "start_time": "2021-11-25T21:01:47.345Z"
   },
   {
    "duration": 22,
    "start_time": "2021-11-25T21:01:47.358Z"
   },
   {
    "duration": 11,
    "start_time": "2021-11-25T21:01:47.382Z"
   },
   {
    "duration": 1469,
    "start_time": "2021-11-25T21:01:47.396Z"
   },
   {
    "duration": 908,
    "start_time": "2021-11-25T21:01:48.867Z"
   },
   {
    "duration": 907,
    "start_time": "2021-11-25T21:01:49.777Z"
   },
   {
    "duration": 9,
    "start_time": "2021-11-25T21:01:50.686Z"
   },
   {
    "duration": 995,
    "start_time": "2021-11-25T21:01:50.696Z"
   },
   {
    "duration": 655,
    "start_time": "2021-11-25T21:01:51.694Z"
   },
   {
    "duration": 9,
    "start_time": "2021-11-25T21:01:52.352Z"
   },
   {
    "duration": 700,
    "start_time": "2021-11-25T21:01:52.363Z"
   },
   {
    "duration": 17,
    "start_time": "2021-11-25T21:01:53.068Z"
   },
   {
    "duration": 679,
    "start_time": "2021-11-25T21:01:53.087Z"
   },
   {
    "duration": 16,
    "start_time": "2021-11-25T21:01:53.768Z"
   },
   {
    "duration": 1578,
    "start_time": "2021-11-25T21:01:53.786Z"
   },
   {
    "duration": 6,
    "start_time": "2021-11-25T21:01:55.366Z"
   },
   {
    "duration": 770,
    "start_time": "2021-11-25T21:01:55.374Z"
   },
   {
    "duration": 601,
    "start_time": "2021-11-25T21:01:56.146Z"
   },
   {
    "duration": 11,
    "start_time": "2021-11-25T21:01:56.749Z"
   },
   {
    "duration": 1140,
    "start_time": "2021-11-25T21:01:56.762Z"
   },
   {
    "duration": 9,
    "start_time": "2021-11-25T21:01:57.905Z"
   },
   {
    "duration": 28,
    "start_time": "2021-11-25T21:01:57.916Z"
   },
   {
    "duration": 8,
    "start_time": "2021-11-25T21:01:57.946Z"
   },
   {
    "duration": 11,
    "start_time": "2021-11-25T21:01:57.956Z"
   },
   {
    "duration": 8,
    "start_time": "2021-11-25T21:01:57.969Z"
   },
   {
    "duration": 19,
    "start_time": "2021-11-25T21:01:57.979Z"
   },
   {
    "duration": 1067,
    "start_time": "2021-11-25T21:01:58.000Z"
   },
   {
    "duration": 11,
    "start_time": "2021-11-25T21:01:59.070Z"
   },
   {
    "duration": 927,
    "start_time": "2021-11-25T21:01:59.083Z"
   },
   {
    "duration": 8,
    "start_time": "2021-11-25T21:02:00.013Z"
   },
   {
    "duration": 32,
    "start_time": "2021-11-25T21:02:00.023Z"
   },
   {
    "duration": 29,
    "start_time": "2021-11-25T21:02:00.057Z"
   },
   {
    "duration": 653,
    "start_time": "2021-11-25T21:02:05.506Z"
   },
   {
    "duration": 432,
    "start_time": "2021-11-25T21:02:12.390Z"
   },
   {
    "duration": 432,
    "start_time": "2021-11-25T21:02:20.096Z"
   },
   {
    "duration": 1075,
    "start_time": "2021-11-25T21:04:36.837Z"
   },
   {
    "duration": 4827,
    "start_time": "2021-11-25T21:06:43.969Z"
   },
   {
    "duration": 5,
    "start_time": "2021-11-25T21:06:48.799Z"
   },
   {
    "duration": 54,
    "start_time": "2021-11-25T21:06:48.806Z"
   },
   {
    "duration": 12,
    "start_time": "2021-11-25T21:06:48.862Z"
   },
   {
    "duration": 5,
    "start_time": "2021-11-25T21:06:48.877Z"
   },
   {
    "duration": 7,
    "start_time": "2021-11-25T21:06:48.884Z"
   },
   {
    "duration": 8,
    "start_time": "2021-11-25T21:06:48.894Z"
   },
   {
    "duration": 9,
    "start_time": "2021-11-25T21:06:48.905Z"
   },
   {
    "duration": 8,
    "start_time": "2021-11-25T21:06:48.948Z"
   },
   {
    "duration": 12,
    "start_time": "2021-11-25T21:06:48.958Z"
   },
   {
    "duration": 11,
    "start_time": "2021-11-25T21:06:48.972Z"
   },
   {
    "duration": 14,
    "start_time": "2021-11-25T21:06:48.985Z"
   },
   {
    "duration": 14,
    "start_time": "2021-11-25T21:06:49.001Z"
   },
   {
    "duration": 29,
    "start_time": "2021-11-25T21:06:49.017Z"
   },
   {
    "duration": 1400,
    "start_time": "2021-11-25T21:06:49.048Z"
   },
   {
    "duration": 953,
    "start_time": "2021-11-25T21:06:50.451Z"
   },
   {
    "duration": 997,
    "start_time": "2021-11-25T21:06:51.406Z"
   },
   {
    "duration": 11,
    "start_time": "2021-11-25T21:06:52.406Z"
   },
   {
    "duration": 954,
    "start_time": "2021-11-25T21:06:52.419Z"
   },
   {
    "duration": 575,
    "start_time": "2021-11-25T21:06:53.374Z"
   },
   {
    "duration": 7,
    "start_time": "2021-11-25T21:06:53.951Z"
   },
   {
    "duration": 437,
    "start_time": "2021-11-25T21:06:53.960Z"
   },
   {
    "duration": 16,
    "start_time": "2021-11-25T21:06:54.399Z"
   },
   {
    "duration": 432,
    "start_time": "2021-11-25T21:06:54.417Z"
   },
   {
    "duration": 18,
    "start_time": "2021-11-25T21:06:54.851Z"
   },
   {
    "duration": 1263,
    "start_time": "2021-11-25T21:06:54.871Z"
   },
   {
    "duration": 9,
    "start_time": "2021-11-25T21:06:56.137Z"
   },
   {
    "duration": 442,
    "start_time": "2021-11-25T21:06:56.149Z"
   },
   {
    "duration": 322,
    "start_time": "2021-11-25T21:06:56.593Z"
   },
   {
    "duration": 10,
    "start_time": "2021-11-25T21:06:56.917Z"
   },
   {
    "duration": 549,
    "start_time": "2021-11-25T21:06:56.928Z"
   },
   {
    "duration": 9,
    "start_time": "2021-11-25T21:06:57.480Z"
   },
   {
    "duration": 28,
    "start_time": "2021-11-25T21:06:57.491Z"
   },
   {
    "duration": 18,
    "start_time": "2021-11-25T21:06:57.521Z"
   },
   {
    "duration": 13,
    "start_time": "2021-11-25T21:06:57.541Z"
   },
   {
    "duration": 16,
    "start_time": "2021-11-25T21:06:57.556Z"
   },
   {
    "duration": 22,
    "start_time": "2021-11-25T21:06:57.574Z"
   },
   {
    "duration": 860,
    "start_time": "2021-11-25T21:06:57.597Z"
   },
   {
    "duration": 8,
    "start_time": "2021-11-25T21:06:58.458Z"
   },
   {
    "duration": 967,
    "start_time": "2021-11-25T21:06:58.468Z"
   },
   {
    "duration": 9,
    "start_time": "2021-11-25T21:06:59.437Z"
   },
   {
    "duration": 23,
    "start_time": "2021-11-25T21:06:59.448Z"
   },
   {
    "duration": 89,
    "start_time": "2021-11-25T21:06:59.474Z"
   },
   {
    "duration": 647,
    "start_time": "2021-11-25T21:06:59.565Z"
   },
   {
    "duration": 18,
    "start_time": "2021-11-25T21:07:00.214Z"
   },
   {
    "duration": 532,
    "start_time": "2021-11-25T21:07:00.233Z"
   },
   {
    "duration": 6,
    "start_time": "2021-11-25T21:07:00.767Z"
   },
   {
    "duration": 1073,
    "start_time": "2021-11-25T21:07:00.775Z"
   },
   {
    "duration": 9,
    "start_time": "2021-11-25T21:07:01.850Z"
   },
   {
    "duration": 39,
    "start_time": "2021-11-25T21:07:01.861Z"
   },
   {
    "duration": 36,
    "start_time": "2021-11-25T21:07:01.902Z"
   },
   {
    "duration": 37,
    "start_time": "2021-11-25T21:07:01.940Z"
   },
   {
    "duration": 504,
    "start_time": "2021-11-25T21:07:01.978Z"
   },
   {
    "duration": 436,
    "start_time": "2021-11-25T21:07:02.483Z"
   },
   {
    "duration": 55,
    "start_time": "2021-11-25T21:07:02.920Z"
   },
   {
    "duration": 4,
    "start_time": "2021-11-25T21:07:02.977Z"
   },
   {
    "duration": 19,
    "start_time": "2021-11-25T21:07:02.983Z"
   },
   {
    "duration": 19,
    "start_time": "2021-11-25T21:07:03.004Z"
   },
   {
    "duration": 11,
    "start_time": "2021-11-25T21:07:03.044Z"
   },
   {
    "duration": 6,
    "start_time": "2021-11-25T21:07:03.057Z"
   },
   {
    "duration": 436,
    "start_time": "2021-11-25T21:09:13.977Z"
   },
   {
    "duration": 446,
    "start_time": "2021-11-25T21:09:18.905Z"
   }
  ],
  "kernelspec": {
   "display_name": "Python 3",
   "language": "python",
   "name": "python3"
  },
  "language_info": {
   "codemirror_mode": {
    "name": "ipython",
    "version": 3
   },
   "file_extension": ".py",
   "mimetype": "text/x-python",
   "name": "python",
   "nbconvert_exporter": "python",
   "pygments_lexer": "ipython3",
   "version": "3.7.8"
  },
  "toc": {
   "base_numbering": 1,
   "nav_menu": {},
   "number_sections": true,
   "sideBar": true,
   "skip_h1_title": true,
   "title_cell": "Table of Contents",
   "title_sidebar": "Contents",
   "toc_cell": false,
   "toc_position": {},
   "toc_section_display": true,
   "toc_window_display": false
  }
 },
 "nbformat": 4,
 "nbformat_minor": 2
}
